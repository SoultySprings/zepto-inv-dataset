{
 "cells": [
  {
   "metadata": {},
   "cell_type": "markdown",
   "source": "`zepto_v2.csv`",
   "id": "b890f691797766ec"
  },
  {
   "cell_type": "code",
   "id": "initial_id",
   "metadata": {
    "collapsed": true
   },
   "source": [
    "import pandas as pd, numpy as np, plotly.express as px\n",
    "import matplotlib.pyplot as plt"
   ],
   "outputs": [],
   "execution_count": null
  },
  {
   "metadata": {},
   "cell_type": "code",
   "source": [
    "df = pd.read_csv('zepto_v2.csv', encoding='cp1252')\n",
    "colors = [\"#4E79A7\", \"#F28E2B\", \"#E15759\", \"#76B7B2\", \"#59A14F\", \"#EDC949\", \"#AF7AA1\", \"#FF9DA7\", \"#9C755F\", \"#BAB0AC\", \"#1F77B4\", \"#FF7F0E\", \"#2CA02C\", \"#D62728\", \"#9467BD\"]"
   ],
   "id": "3bb6b9e78ea7422a",
   "outputs": [],
   "execution_count": null
  },
  {
   "metadata": {},
   "cell_type": "code",
   "source": [
    "print(df.max())\n",
    "print(df.idxmax())\n",
    "print(df.min())\n",
    "print(df.idxmin())\n"
   ],
   "id": "cba074b95d09595e",
   "outputs": [],
   "execution_count": null
  },
  {
   "metadata": {},
   "cell_type": "code",
   "source": [
    "dfN = df.drop_duplicates(subset='name').copy()\n",
    "dfN.info()"
   ],
   "id": "f8051ea6f18cc642",
   "outputs": [],
   "execution_count": null
  },
  {
   "metadata": {},
   "cell_type": "code",
   "source": "labels = ['Category','name', 'mrp', 'discountPercent', 'availableQuantity', 'discountedSellingPrice', 'weightInGms', 'outOfStock', 'quantity']",
   "id": "788612fee44f5e0a",
   "outputs": [],
   "execution_count": null
  },
  {
   "metadata": {},
   "cell_type": "code",
   "source": [
    "for value in labels:\n",
    "    print(f'Unique in {value}: ', df[f'{value}'].unique(), 'with length of : ', len(df[f'{value}'].unique()))\n",
    "    print()"
   ],
   "id": "a758ae3d79a3240f",
   "outputs": [],
   "execution_count": null
  },
  {
   "metadata": {},
   "cell_type": "code",
   "source": "dfN",
   "id": "53314541d994d8c8",
   "outputs": [],
   "execution_count": null
  },
  {
   "metadata": {},
   "cell_type": "code",
   "source": [
    "fig = px.histogram(dfN, x='Category', color = 'Category', color_discrete_sequence=colors, template='plotly_dark')\n",
    "# fig =\n",
    "fig.show()"
   ],
   "id": "14d1ca0865885d64",
   "outputs": [],
   "execution_count": null
  },
  {
   "metadata": {},
   "cell_type": "code",
   "source": [
    "fig = px.histogram(dfN, x='Category', barmode='group', color = 'outOfStock', color_discrete_sequence=['green','red'], template='plotly_dark')\n",
    "# fig =\n",
    "fig.show()"
   ],
   "id": "4cd8328cbb239f11",
   "outputs": [],
   "execution_count": null
  },
  {
   "metadata": {
    "ExecuteTime": {
     "end_time": "2025-06-07T13:11:29.501525Z",
     "start_time": "2025-06-07T13:11:28.963922Z"
    }
   },
   "cell_type": "code",
   "source": [
    "uniqueCategories = dfN['Category'].unique()\n",
    "# fig = px.pie(dfN, names='outOfStock', color ='outOfStock', color_discrete_sequence=colors, template='plotly_dark')\n",
    "# fig.show()\n",
    "\n",
    "# plt.figure()\n",
    "plt.subplot(2,2,1)\n",
    "plt.subplot(2,2,2)\n",
    "plt.subplot(2,2,3)\n",
    "plt.subplot(2,2,4)\n",
    "\n",
    "for value in uniqueCategories:\n",
    "    dfTemp = dfN[dfN['Category'] == f'{value}']\n",
    "    figoutOfSt = px.pie(dfTemp, names='outOfStock', color_discrete_sequence=colors[n:n+1], template='plotly_dark', title=f'{value}')\n",
    "    # figoutOfSt.show()\n",
    "    # n+=1\n",
    "# f.show()"
   ],
   "id": "4e5af012ca7ac2d0",
   "outputs": [
    {
     "data": {
      "text/plain": [
       "<Figure size 640x480 with 4 Axes>"
      ],
      "image/png": "[encoded data removed]"
     },
     "metadata": {},
     "output_type": "display_data"
    }
   ],
   "execution_count": 133
  },
  {
   "metadata": {},
   "cell_type": "code",
   "source": [
    "fig = px.pie(dfN, names='outOfStock', color ='outOfStock', color_discrete_sequence=colors, template='plotly_dark')\n",
    "fig.show()"
   ],
   "id": "2038b56c12fe5b7f",
   "outputs": [],
   "execution_count": null
  },
  {
   "metadata": {},
   "cell_type": "code",
   "source": [
    "fig = px.pie(dfN, names='availableQuantity', color = 'availableQuantity', color_discrete_sequence=colors, template='plotly_dark')\n",
    "fig.show()"
   ],
   "id": "b594ebc35714b003",
   "outputs": [],
   "execution_count": null
  },
  {
   "metadata": {},
   "cell_type": "code",
   "source": [
    "fig = px.pie(dfN,names='discountPercent', color = 'discountPercent', color_discrete_sequence=colors, template='plotly_dark').update_traces(textposition='inside').update_layout(uniformtext_minsize=12, uniformtext_mode='hide')\n",
    "fig.show()"
   ],
   "id": "d66b47a0c6521ccb",
   "outputs": [],
   "execution_count": null
  },
  {
   "metadata": {},
   "cell_type": "code",
   "source": "from plotly.subplots import make_subplots",
   "id": "132e3b1bc467c654",
   "outputs": [],
   "execution_count": null
  },
  {
   "metadata": {},
   "cell_type": "code",
   "source": [
    "dfCookingEssentials = df[df['Category'] == 'Cooking Essentials']\n",
    "subFig = make_subplots(rows=1, cols=2)\n",
    "dfTemp = dfCookingEssentials.sort_values(by='quantity', ascending = False).head(20)\n",
    "fig1 = px.line(dfTemp, x='name', y = 'mrp',color_discrete_sequence=['red'])\n",
    "fig2 = px.line(dfTemp, x='name', y = 'discountedSellingPrice', color_discrete_sequence=['green'])\n",
    "subFig.add_trace(fig1.data[0])\n",
    "subFig.add_trace(fig2.data[0])\n",
    "subFig.update_traces(line={'width': 3}).update_layout(xaxis = {'tickmode': 'array','tickvals': list(range(20)),'ticktext':dfTemp['name'].str[:15]}).update_xaxes(visible=True, showticklabels=True).show()\n",
    "dfTemp\n"
   ],
   "id": "ade296966b015d9f",
   "outputs": [],
   "execution_count": null
  },
  {
   "metadata": {},
   "cell_type": "code",
   "source": "",
   "id": "efe68c9933a469bc",
   "outputs": [],
   "execution_count": null
  },
  {
   "metadata": {},
   "cell_type": "code",
   "source": "",
   "id": "40c9d4b9d9d6fd26",
   "outputs": [],
   "execution_count": null
  }
 ],
 "metadata": {
  "kernelspec": {
   "display_name": "Python 3",
   "language": "python",
   "name": "python3"
  },
  "language_info": {
   "codemirror_mode": {
    "name": "ipython",
    "version": 2
   },
   "file_extension": ".py",
   "mimetype": "text/x-python",
   "name": "python",
   "nbconvert_exporter": "python",
   "pygments_lexer": "ipython2",
   "version": "2.7.6"
  }
 },
 "nbformat": 4,
 "nbformat_minor": 5
}
