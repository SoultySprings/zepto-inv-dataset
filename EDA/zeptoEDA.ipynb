{
 "cells": [
  {
   "metadata": {},
   "cell_type": "markdown",
   "source": "`zepto_v2.csv`",
   "id": "b890f691797766ec"
  },
  {
   "metadata": {
    "collapsed": true,
    "ExecuteTime": {
     "end_time": "2025-06-07T14:41:46.425963Z",
     "start_time": "2025-06-07T14:41:46.422564Z"
    }
   },
   "cell_type": "code",
   "outputs": [],
   "execution_count": 54,
   "source": "import pandas as pd, numpy as np, plotly.express as px",
   "id": "initial_id"
  },
  {
   "metadata": {
    "ExecuteTime": {
     "end_time": "2025-06-07T14:41:46.480908Z",
     "start_time": "2025-06-07T14:41:46.470459Z"
    }
   },
   "cell_type": "code",
   "outputs": [],
   "execution_count": 55,
   "source": [
    "df = pd.read_csv('zepto_v2.csv', encoding='cp1252')\n",
    "colors = [\"#4E79A7\", \"#F28E2B\", \"#E15759\", \"#76B7B2\", \"#59A14F\", \"#EDC949\", \"#AF7AA1\", \"#FF9DA7\", \"#9C755F\", \"#BAB0AC\", \"#1F77B4\", \"#FF7F0E\", \"#2CA02C\", \"#D62728\", \"#9467BD\"]"
   ],
   "id": "3bb6b9e78ea7422a"
  },
  {
   "metadata": {
    "ExecuteTime": {
     "end_time": "2025-06-07T14:41:46.512027Z",
     "start_time": "2025-06-07T14:41:46.503970Z"
    }
   },
   "cell_type": "code",
   "outputs": [
    {
     "name": "stdout",
     "output_type": "stream",
     "text": [
      "Category                            Personal Care\n",
      "name                      iD Wheat Lachha Paratha\n",
      "mrp                                        260000\n",
      "discountPercent                                51\n",
      "availableQuantity                               6\n",
      "discountedSellingPrice                     139900\n",
      "weightInGms                                 10000\n",
      "outOfStock                                   True\n",
      "quantity                                     1500\n",
      "dtype: object\n",
      "Category                  2753\n",
      "name                      1382\n",
      "mrp                        517\n",
      "discountPercent           2608\n",
      "availableQuantity           53\n",
      "discountedSellingPrice     517\n",
      "weightInGms                108\n",
      "outOfStock                  87\n",
      "quantity                  2817\n",
      "dtype: int64\n",
      "Category                                                          Beverages\n",
      "name                      \"Godrej Aer Power Pocket - Long Lasting Bathro...\n",
      "mrp                                                                       0\n",
      "discountPercent                                                           0\n",
      "availableQuantity                                                         0\n",
      "discountedSellingPrice                                                    0\n",
      "weightInGms                                                               0\n",
      "outOfStock                                                            False\n",
      "quantity                                                                  0\n",
      "dtype: object\n",
      "Category                  1250\n",
      "name                      3489\n",
      "mrp                       3606\n",
      "discountPercent             93\n",
      "availableQuantity           87\n",
      "discountedSellingPrice    3606\n",
      "weightInGms               2840\n",
      "outOfStock                   0\n",
      "quantity                   606\n",
      "dtype: int64\n"
     ]
    }
   ],
   "execution_count": 56,
   "source": [
    "print(df.max())\n",
    "print(df.idxmax())\n",
    "print(df.min())\n",
    "print(df.idxmin())\n"
   ],
   "id": "cba074b95d09595e"
  },
  {
   "metadata": {
    "ExecuteTime": {
     "end_time": "2025-06-07T14:41:46.539576Z",
     "start_time": "2025-06-07T14:41:46.531558Z"
    }
   },
   "cell_type": "code",
   "outputs": [
    {
     "name": "stdout",
     "output_type": "stream",
     "text": [
      "<class 'pandas.core.frame.DataFrame'>\n",
      "Index: 1681 entries, 0 to 3728\n",
      "Data columns (total 9 columns):\n",
      " #   Column                  Non-Null Count  Dtype \n",
      "---  ------                  --------------  ----- \n",
      " 0   Category                1681 non-null   object\n",
      " 1   name                    1681 non-null   object\n",
      " 2   mrp                     1681 non-null   int64 \n",
      " 3   discountPercent         1681 non-null   int64 \n",
      " 4   availableQuantity       1681 non-null   int64 \n",
      " 5   discountedSellingPrice  1681 non-null   int64 \n",
      " 6   weightInGms             1681 non-null   int64 \n",
      " 7   outOfStock              1681 non-null   bool  \n",
      " 8   quantity                1681 non-null   int64 \n",
      "dtypes: bool(1), int64(6), object(2)\n",
      "memory usage: 119.8+ KB\n"
     ]
    }
   ],
   "execution_count": 57,
   "source": [
    "dfN = df.drop_duplicates(subset='name').copy()\n",
    "dfN.info()"
   ],
   "id": "f8051ea6f18cc642"
  },
  {
   "metadata": {
    "ExecuteTime": {
     "end_time": "2025-06-07T14:41:46.667413Z",
     "start_time": "2025-06-07T14:41:46.664199Z"
    }
   },
   "cell_type": "code",
   "outputs": [],
   "execution_count": 58,
   "source": "labels = ['Category', 'discountPercent', 'availableQuantity']",
   "id": "788612fee44f5e0a"
  },
  {
   "metadata": {
    "ExecuteTime": {
     "end_time": "2025-06-07T14:41:46.695256Z",
     "start_time": "2025-06-07T14:41:46.688205Z"
    }
   },
   "cell_type": "code",
   "outputs": [
    {
     "name": "stdout",
     "output_type": "stream",
     "text": [
      "Unique in Category:  ['Beverages' 'Biscuits' 'Chocolates & Candies' 'Cooking Essentials'\n",
      " 'Dairy, Bread & Batter' 'Fruits & Vegetables' 'Health & Hygiene'\n",
      " 'Home & Cleaning' 'Ice Cream & Desserts' 'Meats, Fish & Eggs' 'Munchies'\n",
      " 'Paan Corner' 'Packaged Food' 'Personal Care'] with length of :  14\n",
      "\n",
      "Unique in discountPercent:  [ 0  1  2  3  4  5  6  7  8  9 10 11 12 13 14 15 16 17 18 19 20 21 22 23\n",
      " 24 25 26 27 28 29 30 31 32 33 35 40 43 45 46 49 50 51] with length of :  42\n",
      "\n",
      "Unique in availableQuantity:  [0 1 2 3 4 5 6] with length of :  7\n",
      "\n"
     ]
    }
   ],
   "execution_count": 59,
   "source": [
    "for value in labels:\n",
    "    print(f'Unique in {value}: ', df[f'{value}'].sort_values(ascending=True).unique(), 'with length of : ', len(df[f'{value}'].unique()))\n",
    "    print()"
   ],
   "id": "a758ae3d79a3240f"
  },
  {
   "metadata": {
    "ExecuteTime": {
     "end_time": "2025-06-07T14:41:46.722856Z",
     "start_time": "2025-06-07T14:41:46.712885Z"
    }
   },
   "cell_type": "code",
   "outputs": [
    {
     "data": {
      "text/plain": [
       "                 Category                                               name  \\\n",
       "0     Fruits & Vegetables                                              Onion   \n",
       "1     Fruits & Vegetables                                      Tomato Hybrid   \n",
       "2     Fruits & Vegetables                                     Tender Coconut   \n",
       "3     Fruits & Vegetables                                   Coriander Leaves   \n",
       "4     Fruits & Vegetables                                     Ladies Finger    \n",
       "...                   ...                                                ...   \n",
       "3717     Health & Hygiene                    Kapiva Wild Tulsi Giloy Juice |   \n",
       "3718     Health & Hygiene                                   Dabur Amla Juice   \n",
       "3719     Health & Hygiene                   Epigamia Fruit Yogurt Strawberry   \n",
       "3722     Health & Hygiene   Eno Cooling Sachets - Cool Mint, 6 Pieces Carton   \n",
       "3728     Health & Hygiene  Dabur Honitus Herbal Cough Remedy Ayurvedic Syrup   \n",
       "\n",
       "        mrp  discountPercent  availableQuantity  discountedSellingPrice  \\\n",
       "0      2500               16                  3                    2100   \n",
       "1      4200               16                  3                    3500   \n",
       "2      5100               15                  3                    4300   \n",
       "3      2000               15                  3                    1700   \n",
       "4      1400               14                  3                    1200   \n",
       "...     ...              ...                ...                     ...   \n",
       "3717  40000               15                  1                   34000   \n",
       "3718  23500               15                  6                   19900   \n",
       "3719   4000               50                  0                    2000   \n",
       "3722   5400               11                  0                    4800   \n",
       "3728  10500               15                  0                    8900   \n",
       "\n",
       "      weightInGms  outOfStock  quantity  \n",
       "0            1000       False         1  \n",
       "1            1000       False         1  \n",
       "2              58       False         1  \n",
       "3             100       False       100  \n",
       "4             250       False       250  \n",
       "...           ...         ...       ...  \n",
       "3717         1000       False         1  \n",
       "3718         1000       False         1  \n",
       "3719           75        True        75  \n",
       "3722            5        True         5  \n",
       "3728          100        True       100  \n",
       "\n",
       "[1681 rows x 9 columns]"
      ],
      "text/html": [
       "<div>\n",
       "<style scoped>\n",
       "    .dataframe tbody tr th:only-of-type {\n",
       "        vertical-align: middle;\n",
       "    }\n",
       "\n",
       "    .dataframe tbody tr th {\n",
       "        vertical-align: top;\n",
       "    }\n",
       "\n",
       "    .dataframe thead th {\n",
       "        text-align: right;\n",
       "    }\n",
       "</style>\n",
       "<table border=\"1\" class=\"dataframe\">\n",
       "  <thead>\n",
       "    <tr style=\"text-align: right;\">\n",
       "      <th></th>\n",
       "      <th>Category</th>\n",
       "      <th>name</th>\n",
       "      <th>mrp</th>\n",
       "      <th>discountPercent</th>\n",
       "      <th>availableQuantity</th>\n",
       "      <th>discountedSellingPrice</th>\n",
       "      <th>weightInGms</th>\n",
       "      <th>outOfStock</th>\n",
       "      <th>quantity</th>\n",
       "    </tr>\n",
       "  </thead>\n",
       "  <tbody>\n",
       "    <tr>\n",
       "      <th>0</th>\n",
       "      <td>Fruits &amp; Vegetables</td>\n",
       "      <td>Onion</td>\n",
       "      <td>2500</td>\n",
       "      <td>16</td>\n",
       "      <td>3</td>\n",
       "      <td>2100</td>\n",
       "      <td>1000</td>\n",
       "      <td>False</td>\n",
       "      <td>1</td>\n",
       "    </tr>\n",
       "    <tr>\n",
       "      <th>1</th>\n",
       "      <td>Fruits &amp; Vegetables</td>\n",
       "      <td>Tomato Hybrid</td>\n",
       "      <td>4200</td>\n",
       "      <td>16</td>\n",
       "      <td>3</td>\n",
       "      <td>3500</td>\n",
       "      <td>1000</td>\n",
       "      <td>False</td>\n",
       "      <td>1</td>\n",
       "    </tr>\n",
       "    <tr>\n",
       "      <th>2</th>\n",
       "      <td>Fruits &amp; Vegetables</td>\n",
       "      <td>Tender Coconut</td>\n",
       "      <td>5100</td>\n",
       "      <td>15</td>\n",
       "      <td>3</td>\n",
       "      <td>4300</td>\n",
       "      <td>58</td>\n",
       "      <td>False</td>\n",
       "      <td>1</td>\n",
       "    </tr>\n",
       "    <tr>\n",
       "      <th>3</th>\n",
       "      <td>Fruits &amp; Vegetables</td>\n",
       "      <td>Coriander Leaves</td>\n",
       "      <td>2000</td>\n",
       "      <td>15</td>\n",
       "      <td>3</td>\n",
       "      <td>1700</td>\n",
       "      <td>100</td>\n",
       "      <td>False</td>\n",
       "      <td>100</td>\n",
       "    </tr>\n",
       "    <tr>\n",
       "      <th>4</th>\n",
       "      <td>Fruits &amp; Vegetables</td>\n",
       "      <td>Ladies Finger</td>\n",
       "      <td>1400</td>\n",
       "      <td>14</td>\n",
       "      <td>3</td>\n",
       "      <td>1200</td>\n",
       "      <td>250</td>\n",
       "      <td>False</td>\n",
       "      <td>250</td>\n",
       "    </tr>\n",
       "    <tr>\n",
       "      <th>...</th>\n",
       "      <td>...</td>\n",
       "      <td>...</td>\n",
       "      <td>...</td>\n",
       "      <td>...</td>\n",
       "      <td>...</td>\n",
       "      <td>...</td>\n",
       "      <td>...</td>\n",
       "      <td>...</td>\n",
       "      <td>...</td>\n",
       "    </tr>\n",
       "    <tr>\n",
       "      <th>3717</th>\n",
       "      <td>Health &amp; Hygiene</td>\n",
       "      <td>Kapiva Wild Tulsi Giloy Juice |</td>\n",
       "      <td>40000</td>\n",
       "      <td>15</td>\n",
       "      <td>1</td>\n",
       "      <td>34000</td>\n",
       "      <td>1000</td>\n",
       "      <td>False</td>\n",
       "      <td>1</td>\n",
       "    </tr>\n",
       "    <tr>\n",
       "      <th>3718</th>\n",
       "      <td>Health &amp; Hygiene</td>\n",
       "      <td>Dabur Amla Juice</td>\n",
       "      <td>23500</td>\n",
       "      <td>15</td>\n",
       "      <td>6</td>\n",
       "      <td>19900</td>\n",
       "      <td>1000</td>\n",
       "      <td>False</td>\n",
       "      <td>1</td>\n",
       "    </tr>\n",
       "    <tr>\n",
       "      <th>3719</th>\n",
       "      <td>Health &amp; Hygiene</td>\n",
       "      <td>Epigamia Fruit Yogurt Strawberry</td>\n",
       "      <td>4000</td>\n",
       "      <td>50</td>\n",
       "      <td>0</td>\n",
       "      <td>2000</td>\n",
       "      <td>75</td>\n",
       "      <td>True</td>\n",
       "      <td>75</td>\n",
       "    </tr>\n",
       "    <tr>\n",
       "      <th>3722</th>\n",
       "      <td>Health &amp; Hygiene</td>\n",
       "      <td>Eno Cooling Sachets - Cool Mint, 6 Pieces Carton</td>\n",
       "      <td>5400</td>\n",
       "      <td>11</td>\n",
       "      <td>0</td>\n",
       "      <td>4800</td>\n",
       "      <td>5</td>\n",
       "      <td>True</td>\n",
       "      <td>5</td>\n",
       "    </tr>\n",
       "    <tr>\n",
       "      <th>3728</th>\n",
       "      <td>Health &amp; Hygiene</td>\n",
       "      <td>Dabur Honitus Herbal Cough Remedy Ayurvedic Syrup</td>\n",
       "      <td>10500</td>\n",
       "      <td>15</td>\n",
       "      <td>0</td>\n",
       "      <td>8900</td>\n",
       "      <td>100</td>\n",
       "      <td>True</td>\n",
       "      <td>100</td>\n",
       "    </tr>\n",
       "  </tbody>\n",
       "</table>\n",
       "<p>1681 rows × 9 columns</p>\n",
       "</div>"
      ]
     },
     "execution_count": 60,
     "metadata": {},
     "output_type": "execute_result"
    }
   ],
   "execution_count": 60,
   "source": "dfN",
   "id": "53314541d994d8c8"
  },
  {
   "metadata": {
    "ExecuteTime": {
     "end_time": "2025-06-07T15:11:27.217534Z",
     "start_time": "2025-06-07T15:11:27.165167Z"
    }
   },
   "cell_type": "code",
   "outputs": [
    {
     "data": {
      "application/vnd.plotly.v1+json": {
       "data": [
        {
         "bingroup": "x",
         "hovertemplate": "Category=%{x}<br>count=%{y}<extra></extra>",
         "legendgroup": "Fruits & Vegetables",
         "marker": {
          "color": "#4E79A7",
          "pattern": {
           "shape": ""
          }
         },
         "name": "Fruits & Vegetables",
         "orientation": "v",
         "showlegend": true,
         "x": [
          "Fruits & Vegetables",
          "Fruits & Vegetables",
          "Fruits & Vegetables",
          "Fruits & Vegetables",
          "Fruits & Vegetables",
          "Fruits & Vegetables",
          "Fruits & Vegetables",
          "Fruits & Vegetables",
          "Fruits & Vegetables",
          "Fruits & Vegetables",
          "Fruits & Vegetables",
          "Fruits & Vegetables",
          "Fruits & Vegetables",
          "Fruits & Vegetables",
          "Fruits & Vegetables",
          "Fruits & Vegetables",
          "Fruits & Vegetables",
          "Fruits & Vegetables",
          "Fruits & Vegetables",
          "Fruits & Vegetables",
          "Fruits & Vegetables",
          "Fruits & Vegetables",
          "Fruits & Vegetables",
          "Fruits & Vegetables",
          "Fruits & Vegetables",
          "Fruits & Vegetables",
          "Fruits & Vegetables",
          "Fruits & Vegetables",
          "Fruits & Vegetables",
          "Fruits & Vegetables",
          "Fruits & Vegetables",
          "Fruits & Vegetables",
          "Fruits & Vegetables",
          "Fruits & Vegetables",
          "Fruits & Vegetables",
          "Fruits & Vegetables",
          "Fruits & Vegetables",
          "Fruits & Vegetables",
          "Fruits & Vegetables",
          "Fruits & Vegetables",
          "Fruits & Vegetables",
          "Fruits & Vegetables",
          "Fruits & Vegetables",
          "Fruits & Vegetables",
          "Fruits & Vegetables",
          "Fruits & Vegetables",
          "Fruits & Vegetables",
          "Fruits & Vegetables",
          "Fruits & Vegetables",
          "Fruits & Vegetables",
          "Fruits & Vegetables",
          "Fruits & Vegetables",
          "Fruits & Vegetables",
          "Fruits & Vegetables",
          "Fruits & Vegetables",
          "Fruits & Vegetables",
          "Fruits & Vegetables",
          "Fruits & Vegetables",
          "Fruits & Vegetables",
          "Fruits & Vegetables",
          "Fruits & Vegetables",
          "Fruits & Vegetables",
          "Fruits & Vegetables",
          "Fruits & Vegetables",
          "Fruits & Vegetables",
          "Fruits & Vegetables",
          "Fruits & Vegetables",
          "Fruits & Vegetables",
          "Fruits & Vegetables",
          "Fruits & Vegetables",
          "Fruits & Vegetables",
          "Fruits & Vegetables",
          "Fruits & Vegetables",
          "Fruits & Vegetables",
          "Fruits & Vegetables",
          "Fruits & Vegetables",
          "Fruits & Vegetables",
          "Fruits & Vegetables",
          "Fruits & Vegetables",
          "Fruits & Vegetables",
          "Fruits & Vegetables",
          "Fruits & Vegetables",
          "Fruits & Vegetables",
          "Fruits & Vegetables",
          "Fruits & Vegetables",
          "Fruits & Vegetables",
          "Fruits & Vegetables",
          "Fruits & Vegetables",
          "Fruits & Vegetables"
         ],
         "xaxis": "x",
         "yaxis": "y",
         "type": "histogram"
        },
        {
         "bingroup": "x",
         "hovertemplate": "Category=%{x}<br>count=%{y}<extra></extra>",
         "legendgroup": "Cooking Essentials",
         "marker": {
          "color": "#F28E2B",
          "pattern": {
           "shape": ""
          }
         },
         "name": "Cooking Essentials",
         "orientation": "v",
         "showlegend": true,
         "x": [
          "Cooking Essentials",
          "Cooking Essentials",
          "Cooking Essentials",
          "Cooking Essentials",
          "Cooking Essentials",
          "Cooking Essentials",
          "Cooking Essentials",
          "Cooking Essentials",
          "Cooking Essentials",
          "Cooking Essentials",
          "Cooking Essentials",
          "Cooking Essentials",
          "Cooking Essentials",
          "Cooking Essentials",
          "Cooking Essentials",
          "Cooking Essentials",
          "Cooking Essentials",
          "Cooking Essentials",
          "Cooking Essentials",
          "Cooking Essentials",
          "Cooking Essentials",
          "Cooking Essentials",
          "Cooking Essentials",
          "Cooking Essentials",
          "Cooking Essentials",
          "Cooking Essentials",
          "Cooking Essentials",
          "Cooking Essentials",
          "Cooking Essentials",
          "Cooking Essentials",
          "Cooking Essentials",
          "Cooking Essentials",
          "Cooking Essentials",
          "Cooking Essentials",
          "Cooking Essentials",
          "Cooking Essentials",
          "Cooking Essentials",
          "Cooking Essentials",
          "Cooking Essentials",
          "Cooking Essentials",
          "Cooking Essentials",
          "Cooking Essentials",
          "Cooking Essentials",
          "Cooking Essentials",
          "Cooking Essentials",
          "Cooking Essentials",
          "Cooking Essentials",
          "Cooking Essentials",
          "Cooking Essentials",
          "Cooking Essentials",
          "Cooking Essentials",
          "Cooking Essentials",
          "Cooking Essentials",
          "Cooking Essentials",
          "Cooking Essentials",
          "Cooking Essentials",
          "Cooking Essentials",
          "Cooking Essentials",
          "Cooking Essentials",
          "Cooking Essentials",
          "Cooking Essentials",
          "Cooking Essentials",
          "Cooking Essentials",
          "Cooking Essentials",
          "Cooking Essentials",
          "Cooking Essentials",
          "Cooking Essentials",
          "Cooking Essentials",
          "Cooking Essentials",
          "Cooking Essentials",
          "Cooking Essentials",
          "Cooking Essentials",
          "Cooking Essentials",
          "Cooking Essentials",
          "Cooking Essentials",
          "Cooking Essentials",
          "Cooking Essentials",
          "Cooking Essentials",
          "Cooking Essentials",
          "Cooking Essentials",
          "Cooking Essentials",
          "Cooking Essentials",
          "Cooking Essentials",
          "Cooking Essentials",
          "Cooking Essentials",
          "Cooking Essentials",
          "Cooking Essentials",
          "Cooking Essentials",
          "Cooking Essentials",
          "Cooking Essentials",
          "Cooking Essentials",
          "Cooking Essentials",
          "Cooking Essentials",
          "Cooking Essentials",
          "Cooking Essentials",
          "Cooking Essentials",
          "Cooking Essentials",
          "Cooking Essentials",
          "Cooking Essentials",
          "Cooking Essentials",
          "Cooking Essentials",
          "Cooking Essentials",
          "Cooking Essentials",
          "Cooking Essentials",
          "Cooking Essentials",
          "Cooking Essentials",
          "Cooking Essentials",
          "Cooking Essentials",
          "Cooking Essentials",
          "Cooking Essentials",
          "Cooking Essentials",
          "Cooking Essentials",
          "Cooking Essentials",
          "Cooking Essentials",
          "Cooking Essentials",
          "Cooking Essentials",
          "Cooking Essentials",
          "Cooking Essentials",
          "Cooking Essentials",
          "Cooking Essentials",
          "Cooking Essentials",
          "Cooking Essentials",
          "Cooking Essentials",
          "Cooking Essentials",
          "Cooking Essentials",
          "Cooking Essentials",
          "Cooking Essentials",
          "Cooking Essentials",
          "Cooking Essentials",
          "Cooking Essentials",
          "Cooking Essentials",
          "Cooking Essentials",
          "Cooking Essentials",
          "Cooking Essentials",
          "Cooking Essentials",
          "Cooking Essentials",
          "Cooking Essentials",
          "Cooking Essentials",
          "Cooking Essentials",
          "Cooking Essentials",
          "Cooking Essentials",
          "Cooking Essentials",
          "Cooking Essentials",
          "Cooking Essentials",
          "Cooking Essentials",
          "Cooking Essentials",
          "Cooking Essentials",
          "Cooking Essentials",
          "Cooking Essentials",
          "Cooking Essentials",
          "Cooking Essentials",
          "Cooking Essentials",
          "Cooking Essentials",
          "Cooking Essentials",
          "Cooking Essentials",
          "Cooking Essentials",
          "Cooking Essentials",
          "Cooking Essentials",
          "Cooking Essentials",
          "Cooking Essentials",
          "Cooking Essentials",
          "Cooking Essentials",
          "Cooking Essentials",
          "Cooking Essentials",
          "Cooking Essentials",
          "Cooking Essentials",
          "Cooking Essentials",
          "Cooking Essentials",
          "Cooking Essentials",
          "Cooking Essentials",
          "Cooking Essentials",
          "Cooking Essentials",
          "Cooking Essentials",
          "Cooking Essentials",
          "Cooking Essentials",
          "Cooking Essentials",
          "Cooking Essentials",
          "Cooking Essentials",
          "Cooking Essentials",
          "Cooking Essentials",
          "Cooking Essentials",
          "Cooking Essentials",
          "Cooking Essentials",
          "Cooking Essentials",
          "Cooking Essentials",
          "Cooking Essentials",
          "Cooking Essentials",
          "Cooking Essentials",
          "Cooking Essentials",
          "Cooking Essentials",
          "Cooking Essentials",
          "Cooking Essentials",
          "Cooking Essentials",
          "Cooking Essentials",
          "Cooking Essentials",
          "Cooking Essentials",
          "Cooking Essentials",
          "Cooking Essentials",
          "Cooking Essentials",
          "Cooking Essentials",
          "Cooking Essentials",
          "Cooking Essentials",
          "Cooking Essentials",
          "Cooking Essentials",
          "Cooking Essentials",
          "Cooking Essentials",
          "Cooking Essentials",
          "Cooking Essentials",
          "Cooking Essentials",
          "Cooking Essentials",
          "Cooking Essentials",
          "Cooking Essentials",
          "Cooking Essentials",
          "Cooking Essentials",
          "Cooking Essentials",
          "Cooking Essentials",
          "Cooking Essentials",
          "Cooking Essentials",
          "Cooking Essentials",
          "Cooking Essentials",
          "Cooking Essentials",
          "Cooking Essentials",
          "Cooking Essentials",
          "Cooking Essentials",
          "Cooking Essentials",
          "Cooking Essentials",
          "Cooking Essentials",
          "Cooking Essentials",
          "Cooking Essentials",
          "Cooking Essentials",
          "Cooking Essentials",
          "Cooking Essentials",
          "Cooking Essentials",
          "Cooking Essentials",
          "Cooking Essentials",
          "Cooking Essentials",
          "Cooking Essentials",
          "Cooking Essentials",
          "Cooking Essentials",
          "Cooking Essentials",
          "Cooking Essentials",
          "Cooking Essentials",
          "Cooking Essentials",
          "Cooking Essentials",
          "Cooking Essentials",
          "Cooking Essentials",
          "Cooking Essentials",
          "Cooking Essentials",
          "Cooking Essentials",
          "Cooking Essentials",
          "Cooking Essentials",
          "Cooking Essentials",
          "Cooking Essentials",
          "Cooking Essentials",
          "Cooking Essentials",
          "Cooking Essentials",
          "Cooking Essentials",
          "Cooking Essentials",
          "Cooking Essentials",
          "Cooking Essentials",
          "Cooking Essentials",
          "Cooking Essentials",
          "Cooking Essentials",
          "Cooking Essentials",
          "Cooking Essentials",
          "Cooking Essentials",
          "Cooking Essentials",
          "Cooking Essentials",
          "Cooking Essentials",
          "Cooking Essentials",
          "Cooking Essentials",
          "Cooking Essentials",
          "Cooking Essentials",
          "Cooking Essentials",
          "Cooking Essentials",
          "Cooking Essentials",
          "Cooking Essentials",
          "Cooking Essentials",
          "Cooking Essentials",
          "Cooking Essentials",
          "Cooking Essentials",
          "Cooking Essentials",
          "Cooking Essentials",
          "Cooking Essentials",
          "Cooking Essentials",
          "Cooking Essentials",
          "Cooking Essentials",
          "Cooking Essentials",
          "Cooking Essentials",
          "Cooking Essentials",
          "Cooking Essentials",
          "Cooking Essentials",
          "Cooking Essentials",
          "Cooking Essentials",
          "Cooking Essentials",
          "Cooking Essentials",
          "Cooking Essentials",
          "Cooking Essentials",
          "Cooking Essentials",
          "Cooking Essentials",
          "Cooking Essentials",
          "Cooking Essentials",
          "Cooking Essentials",
          "Cooking Essentials",
          "Cooking Essentials",
          "Cooking Essentials",
          "Cooking Essentials",
          "Cooking Essentials",
          "Cooking Essentials",
          "Cooking Essentials",
          "Cooking Essentials",
          "Cooking Essentials",
          "Cooking Essentials",
          "Cooking Essentials",
          "Cooking Essentials",
          "Cooking Essentials",
          "Cooking Essentials",
          "Cooking Essentials",
          "Cooking Essentials",
          "Cooking Essentials",
          "Cooking Essentials",
          "Cooking Essentials",
          "Cooking Essentials",
          "Cooking Essentials",
          "Cooking Essentials",
          "Cooking Essentials",
          "Cooking Essentials",
          "Cooking Essentials",
          "Cooking Essentials",
          "Cooking Essentials",
          "Cooking Essentials",
          "Cooking Essentials",
          "Cooking Essentials",
          "Cooking Essentials",
          "Cooking Essentials",
          "Cooking Essentials",
          "Cooking Essentials",
          "Cooking Essentials",
          "Cooking Essentials",
          "Cooking Essentials",
          "Cooking Essentials",
          "Cooking Essentials",
          "Cooking Essentials",
          "Cooking Essentials",
          "Cooking Essentials",
          "Cooking Essentials",
          "Cooking Essentials",
          "Cooking Essentials",
          "Cooking Essentials",
          "Cooking Essentials",
          "Cooking Essentials",
          "Cooking Essentials",
          "Cooking Essentials",
          "Cooking Essentials",
          "Cooking Essentials",
          "Cooking Essentials",
          "Cooking Essentials",
          "Cooking Essentials",
          "Cooking Essentials",
          "Cooking Essentials",
          "Cooking Essentials",
          "Cooking Essentials",
          "Cooking Essentials",
          "Cooking Essentials",
          "Cooking Essentials",
          "Cooking Essentials",
          "Cooking Essentials",
          "Cooking Essentials",
          "Cooking Essentials",
          "Cooking Essentials",
          "Cooking Essentials",
          "Cooking Essentials",
          "Cooking Essentials",
          "Cooking Essentials",
          "Cooking Essentials",
          "Cooking Essentials",
          "Cooking Essentials",
          "Cooking Essentials",
          "Cooking Essentials",
          "Cooking Essentials",
          "Cooking Essentials",
          "Cooking Essentials",
          "Cooking Essentials",
          "Cooking Essentials",
          "Cooking Essentials",
          "Cooking Essentials",
          "Cooking Essentials",
          "Cooking Essentials",
          "Cooking Essentials",
          "Cooking Essentials",
          "Cooking Essentials",
          "Cooking Essentials",
          "Cooking Essentials",
          "Cooking Essentials",
          "Cooking Essentials",
          "Cooking Essentials",
          "Cooking Essentials",
          "Cooking Essentials",
          "Cooking Essentials",
          "Cooking Essentials",
          "Cooking Essentials",
          "Cooking Essentials",
          "Cooking Essentials",
          "Cooking Essentials",
          "Cooking Essentials",
          "Cooking Essentials",
          "Cooking Essentials",
          "Cooking Essentials",
          "Cooking Essentials",
          "Cooking Essentials",
          "Cooking Essentials",
          "Cooking Essentials",
          "Cooking Essentials",
          "Cooking Essentials",
          "Cooking Essentials",
          "Cooking Essentials",
          "Cooking Essentials",
          "Cooking Essentials",
          "Cooking Essentials",
          "Cooking Essentials",
          "Cooking Essentials",
          "Cooking Essentials",
          "Cooking Essentials",
          "Cooking Essentials",
          "Cooking Essentials",
          "Cooking Essentials",
          "Cooking Essentials",
          "Cooking Essentials",
          "Cooking Essentials",
          "Cooking Essentials",
          "Cooking Essentials",
          "Cooking Essentials",
          "Cooking Essentials",
          "Cooking Essentials",
          "Cooking Essentials",
          "Cooking Essentials",
          "Cooking Essentials",
          "Cooking Essentials",
          "Cooking Essentials",
          "Cooking Essentials",
          "Cooking Essentials",
          "Cooking Essentials",
          "Cooking Essentials",
          "Cooking Essentials",
          "Cooking Essentials",
          "Cooking Essentials",
          "Cooking Essentials",
          "Cooking Essentials",
          "Cooking Essentials",
          "Cooking Essentials",
          "Cooking Essentials",
          "Cooking Essentials",
          "Cooking Essentials",
          "Cooking Essentials",
          "Cooking Essentials",
          "Cooking Essentials",
          "Cooking Essentials",
          "Cooking Essentials",
          "Cooking Essentials",
          "Cooking Essentials",
          "Cooking Essentials",
          "Cooking Essentials",
          "Cooking Essentials",
          "Cooking Essentials",
          "Cooking Essentials",
          "Cooking Essentials",
          "Cooking Essentials",
          "Cooking Essentials",
          "Cooking Essentials",
          "Cooking Essentials",
          "Cooking Essentials",
          "Cooking Essentials",
          "Cooking Essentials",
          "Cooking Essentials",
          "Cooking Essentials",
          "Cooking Essentials",
          "Cooking Essentials",
          "Cooking Essentials"
         ],
         "xaxis": "x",
         "yaxis": "y",
         "type": "histogram"
        },
        {
         "bingroup": "x",
         "hovertemplate": "Category=%{x}<br>count=%{y}<extra></extra>",
         "legendgroup": "Dairy, Bread & Batter",
         "marker": {
          "color": "#E15759",
          "pattern": {
           "shape": ""
          }
         },
         "name": "Dairy, Bread & Batter",
         "orientation": "v",
         "showlegend": true,
         "x": [
          "Dairy, Bread & Batter",
          "Dairy, Bread & Batter",
          "Dairy, Bread & Batter",
          "Dairy, Bread & Batter",
          "Dairy, Bread & Batter",
          "Dairy, Bread & Batter",
          "Dairy, Bread & Batter",
          "Dairy, Bread & Batter",
          "Dairy, Bread & Batter",
          "Dairy, Bread & Batter",
          "Dairy, Bread & Batter",
          "Dairy, Bread & Batter",
          "Dairy, Bread & Batter",
          "Dairy, Bread & Batter",
          "Dairy, Bread & Batter",
          "Dairy, Bread & Batter",
          "Dairy, Bread & Batter",
          "Dairy, Bread & Batter",
          "Dairy, Bread & Batter",
          "Dairy, Bread & Batter",
          "Dairy, Bread & Batter",
          "Dairy, Bread & Batter",
          "Dairy, Bread & Batter",
          "Dairy, Bread & Batter",
          "Dairy, Bread & Batter",
          "Dairy, Bread & Batter",
          "Dairy, Bread & Batter",
          "Dairy, Bread & Batter",
          "Dairy, Bread & Batter",
          "Dairy, Bread & Batter",
          "Dairy, Bread & Batter",
          "Dairy, Bread & Batter",
          "Dairy, Bread & Batter",
          "Dairy, Bread & Batter",
          "Dairy, Bread & Batter",
          "Dairy, Bread & Batter",
          "Dairy, Bread & Batter",
          "Dairy, Bread & Batter",
          "Dairy, Bread & Batter",
          "Dairy, Bread & Batter",
          "Dairy, Bread & Batter",
          "Dairy, Bread & Batter",
          "Dairy, Bread & Batter",
          "Dairy, Bread & Batter",
          "Dairy, Bread & Batter",
          "Dairy, Bread & Batter",
          "Dairy, Bread & Batter",
          "Dairy, Bread & Batter",
          "Dairy, Bread & Batter",
          "Dairy, Bread & Batter",
          "Dairy, Bread & Batter",
          "Dairy, Bread & Batter",
          "Dairy, Bread & Batter",
          "Dairy, Bread & Batter",
          "Dairy, Bread & Batter",
          "Dairy, Bread & Batter",
          "Dairy, Bread & Batter",
          "Dairy, Bread & Batter",
          "Dairy, Bread & Batter",
          "Dairy, Bread & Batter",
          "Dairy, Bread & Batter",
          "Dairy, Bread & Batter",
          "Dairy, Bread & Batter",
          "Dairy, Bread & Batter",
          "Dairy, Bread & Batter",
          "Dairy, Bread & Batter",
          "Dairy, Bread & Batter",
          "Dairy, Bread & Batter",
          "Dairy, Bread & Batter",
          "Dairy, Bread & Batter",
          "Dairy, Bread & Batter",
          "Dairy, Bread & Batter",
          "Dairy, Bread & Batter",
          "Dairy, Bread & Batter",
          "Dairy, Bread & Batter",
          "Dairy, Bread & Batter",
          "Dairy, Bread & Batter",
          "Dairy, Bread & Batter",
          "Dairy, Bread & Batter",
          "Dairy, Bread & Batter",
          "Dairy, Bread & Batter",
          "Dairy, Bread & Batter",
          "Dairy, Bread & Batter",
          "Dairy, Bread & Batter",
          "Dairy, Bread & Batter",
          "Dairy, Bread & Batter",
          "Dairy, Bread & Batter",
          "Dairy, Bread & Batter",
          "Dairy, Bread & Batter",
          "Dairy, Bread & Batter",
          "Dairy, Bread & Batter",
          "Dairy, Bread & Batter",
          "Dairy, Bread & Batter",
          "Dairy, Bread & Batter",
          "Dairy, Bread & Batter",
          "Dairy, Bread & Batter",
          "Dairy, Bread & Batter",
          "Dairy, Bread & Batter",
          "Dairy, Bread & Batter",
          "Dairy, Bread & Batter",
          "Dairy, Bread & Batter",
          "Dairy, Bread & Batter",
          "Dairy, Bread & Batter",
          "Dairy, Bread & Batter",
          "Dairy, Bread & Batter",
          "Dairy, Bread & Batter",
          "Dairy, Bread & Batter",
          "Dairy, Bread & Batter"
         ],
         "xaxis": "x",
         "yaxis": "y",
         "type": "histogram"
        },
        {
         "bingroup": "x",
         "hovertemplate": "Category=%{x}<br>count=%{y}<extra></extra>",
         "legendgroup": "Packaged Food",
         "marker": {
          "color": "#76B7B2",
          "pattern": {
           "shape": ""
          }
         },
         "name": "Packaged Food",
         "orientation": "v",
         "showlegend": true,
         "x": [
          "Packaged Food",
          "Packaged Food",
          "Packaged Food",
          "Packaged Food",
          "Packaged Food",
          "Packaged Food",
          "Packaged Food",
          "Packaged Food",
          "Packaged Food",
          "Packaged Food",
          "Packaged Food",
          "Packaged Food",
          "Packaged Food",
          "Packaged Food",
          "Packaged Food",
          "Packaged Food",
          "Packaged Food",
          "Packaged Food",
          "Packaged Food",
          "Packaged Food",
          "Packaged Food",
          "Packaged Food",
          "Packaged Food",
          "Packaged Food",
          "Packaged Food",
          "Packaged Food",
          "Packaged Food",
          "Packaged Food",
          "Packaged Food",
          "Packaged Food",
          "Packaged Food",
          "Packaged Food",
          "Packaged Food",
          "Packaged Food",
          "Packaged Food",
          "Packaged Food",
          "Packaged Food",
          "Packaged Food",
          "Packaged Food",
          "Packaged Food",
          "Packaged Food",
          "Packaged Food",
          "Packaged Food",
          "Packaged Food",
          "Packaged Food",
          "Packaged Food",
          "Packaged Food",
          "Packaged Food",
          "Packaged Food",
          "Packaged Food",
          "Packaged Food",
          "Packaged Food",
          "Packaged Food",
          "Packaged Food",
          "Packaged Food",
          "Packaged Food",
          "Packaged Food",
          "Packaged Food",
          "Packaged Food",
          "Packaged Food",
          "Packaged Food",
          "Packaged Food",
          "Packaged Food",
          "Packaged Food",
          "Packaged Food",
          "Packaged Food",
          "Packaged Food",
          "Packaged Food",
          "Packaged Food",
          "Packaged Food",
          "Packaged Food",
          "Packaged Food",
          "Packaged Food",
          "Packaged Food",
          "Packaged Food",
          "Packaged Food",
          "Packaged Food",
          "Packaged Food",
          "Packaged Food",
          "Packaged Food",
          "Packaged Food",
          "Packaged Food",
          "Packaged Food",
          "Packaged Food",
          "Packaged Food",
          "Packaged Food",
          "Packaged Food",
          "Packaged Food",
          "Packaged Food",
          "Packaged Food",
          "Packaged Food",
          "Packaged Food",
          "Packaged Food",
          "Packaged Food",
          "Packaged Food",
          "Packaged Food",
          "Packaged Food",
          "Packaged Food",
          "Packaged Food",
          "Packaged Food",
          "Packaged Food",
          "Packaged Food",
          "Packaged Food",
          "Packaged Food",
          "Packaged Food",
          "Packaged Food",
          "Packaged Food",
          "Packaged Food",
          "Packaged Food",
          "Packaged Food",
          "Packaged Food",
          "Packaged Food",
          "Packaged Food",
          "Packaged Food",
          "Packaged Food",
          "Packaged Food",
          "Packaged Food",
          "Packaged Food",
          "Packaged Food",
          "Packaged Food",
          "Packaged Food",
          "Packaged Food",
          "Packaged Food",
          "Packaged Food",
          "Packaged Food",
          "Packaged Food",
          "Packaged Food",
          "Packaged Food",
          "Packaged Food",
          "Packaged Food",
          "Packaged Food",
          "Packaged Food",
          "Packaged Food",
          "Packaged Food",
          "Packaged Food",
          "Packaged Food",
          "Packaged Food",
          "Packaged Food",
          "Packaged Food",
          "Packaged Food",
          "Packaged Food",
          "Packaged Food",
          "Packaged Food",
          "Packaged Food",
          "Packaged Food",
          "Packaged Food",
          "Packaged Food",
          "Packaged Food",
          "Packaged Food",
          "Packaged Food",
          "Packaged Food",
          "Packaged Food",
          "Packaged Food",
          "Packaged Food",
          "Packaged Food",
          "Packaged Food",
          "Packaged Food",
          "Packaged Food",
          "Packaged Food",
          "Packaged Food",
          "Packaged Food",
          "Packaged Food",
          "Packaged Food",
          "Packaged Food",
          "Packaged Food",
          "Packaged Food",
          "Packaged Food",
          "Packaged Food",
          "Packaged Food",
          "Packaged Food",
          "Packaged Food",
          "Packaged Food",
          "Packaged Food",
          "Packaged Food",
          "Packaged Food",
          "Packaged Food",
          "Packaged Food",
          "Packaged Food",
          "Packaged Food",
          "Packaged Food",
          "Packaged Food",
          "Packaged Food",
          "Packaged Food",
          "Packaged Food",
          "Packaged Food",
          "Packaged Food",
          "Packaged Food",
          "Packaged Food",
          "Packaged Food",
          "Packaged Food",
          "Packaged Food",
          "Packaged Food",
          "Packaged Food",
          "Packaged Food",
          "Packaged Food",
          "Packaged Food",
          "Packaged Food",
          "Packaged Food",
          "Packaged Food",
          "Packaged Food",
          "Packaged Food",
          "Packaged Food",
          "Packaged Food",
          "Packaged Food",
          "Packaged Food",
          "Packaged Food",
          "Packaged Food",
          "Packaged Food",
          "Packaged Food",
          "Packaged Food",
          "Packaged Food",
          "Packaged Food",
          "Packaged Food",
          "Packaged Food",
          "Packaged Food",
          "Packaged Food",
          "Packaged Food",
          "Packaged Food",
          "Packaged Food",
          "Packaged Food",
          "Packaged Food",
          "Packaged Food",
          "Packaged Food",
          "Packaged Food",
          "Packaged Food",
          "Packaged Food",
          "Packaged Food",
          "Packaged Food",
          "Packaged Food",
          "Packaged Food",
          "Packaged Food",
          "Packaged Food",
          "Packaged Food",
          "Packaged Food",
          "Packaged Food",
          "Packaged Food",
          "Packaged Food",
          "Packaged Food",
          "Packaged Food",
          "Packaged Food",
          "Packaged Food",
          "Packaged Food",
          "Packaged Food",
          "Packaged Food",
          "Packaged Food",
          "Packaged Food",
          "Packaged Food",
          "Packaged Food",
          "Packaged Food",
          "Packaged Food",
          "Packaged Food",
          "Packaged Food",
          "Packaged Food",
          "Packaged Food",
          "Packaged Food",
          "Packaged Food",
          "Packaged Food",
          "Packaged Food",
          "Packaged Food",
          "Packaged Food",
          "Packaged Food",
          "Packaged Food",
          "Packaged Food",
          "Packaged Food",
          "Packaged Food",
          "Packaged Food",
          "Packaged Food",
          "Packaged Food",
          "Packaged Food",
          "Packaged Food",
          "Packaged Food",
          "Packaged Food",
          "Packaged Food",
          "Packaged Food",
          "Packaged Food",
          "Packaged Food",
          "Packaged Food",
          "Packaged Food",
          "Packaged Food",
          "Packaged Food",
          "Packaged Food",
          "Packaged Food",
          "Packaged Food",
          "Packaged Food",
          "Packaged Food",
          "Packaged Food",
          "Packaged Food"
         ],
         "xaxis": "x",
         "yaxis": "y",
         "type": "histogram"
        },
        {
         "bingroup": "x",
         "hovertemplate": "Category=%{x}<br>count=%{y}<extra></extra>",
         "legendgroup": "Meats, Fish & Eggs",
         "marker": {
          "color": "#59A14F",
          "pattern": {
           "shape": ""
          }
         },
         "name": "Meats, Fish & Eggs",
         "orientation": "v",
         "showlegend": true,
         "x": [
          "Meats, Fish & Eggs",
          "Meats, Fish & Eggs",
          "Meats, Fish & Eggs",
          "Meats, Fish & Eggs",
          "Meats, Fish & Eggs",
          "Meats, Fish & Eggs",
          "Meats, Fish & Eggs",
          "Meats, Fish & Eggs",
          "Meats, Fish & Eggs",
          "Meats, Fish & Eggs",
          "Meats, Fish & Eggs",
          "Meats, Fish & Eggs",
          "Meats, Fish & Eggs",
          "Meats, Fish & Eggs",
          "Meats, Fish & Eggs",
          "Meats, Fish & Eggs",
          "Meats, Fish & Eggs",
          "Meats, Fish & Eggs",
          "Meats, Fish & Eggs",
          "Meats, Fish & Eggs",
          "Meats, Fish & Eggs",
          "Meats, Fish & Eggs",
          "Meats, Fish & Eggs",
          "Meats, Fish & Eggs",
          "Meats, Fish & Eggs",
          "Meats, Fish & Eggs",
          "Meats, Fish & Eggs",
          "Meats, Fish & Eggs",
          "Meats, Fish & Eggs",
          "Meats, Fish & Eggs",
          "Meats, Fish & Eggs",
          "Meats, Fish & Eggs"
         ],
         "xaxis": "x",
         "yaxis": "y",
         "type": "histogram"
        },
        {
         "bingroup": "x",
         "hovertemplate": "Category=%{x}<br>count=%{y}<extra></extra>",
         "legendgroup": "Biscuits",
         "marker": {
          "color": "#EDC949",
          "pattern": {
           "shape": ""
          }
         },
         "name": "Biscuits",
         "orientation": "v",
         "showlegend": true,
         "x": [
          "Biscuits",
          "Biscuits",
          "Biscuits",
          "Biscuits",
          "Biscuits",
          "Biscuits",
          "Biscuits",
          "Biscuits",
          "Biscuits",
          "Biscuits",
          "Biscuits",
          "Biscuits",
          "Biscuits",
          "Biscuits",
          "Biscuits",
          "Biscuits",
          "Biscuits",
          "Biscuits",
          "Biscuits",
          "Biscuits",
          "Biscuits",
          "Biscuits",
          "Biscuits",
          "Biscuits",
          "Biscuits",
          "Biscuits",
          "Biscuits",
          "Biscuits",
          "Biscuits",
          "Biscuits",
          "Biscuits",
          "Biscuits",
          "Biscuits",
          "Biscuits",
          "Biscuits",
          "Biscuits",
          "Biscuits",
          "Biscuits",
          "Biscuits",
          "Biscuits",
          "Biscuits",
          "Biscuits",
          "Biscuits",
          "Biscuits",
          "Biscuits",
          "Biscuits",
          "Biscuits",
          "Biscuits",
          "Biscuits",
          "Biscuits",
          "Biscuits",
          "Biscuits",
          "Biscuits",
          "Biscuits",
          "Biscuits",
          "Biscuits",
          "Biscuits",
          "Biscuits",
          "Biscuits",
          "Biscuits",
          "Biscuits",
          "Biscuits",
          "Biscuits",
          "Biscuits",
          "Biscuits",
          "Biscuits",
          "Biscuits",
          "Biscuits",
          "Biscuits",
          "Biscuits",
          "Biscuits",
          "Biscuits",
          "Biscuits",
          "Biscuits",
          "Biscuits",
          "Biscuits",
          "Biscuits",
          "Biscuits",
          "Biscuits",
          "Biscuits",
          "Biscuits",
          "Biscuits",
          "Biscuits",
          "Biscuits",
          "Biscuits",
          "Biscuits",
          "Biscuits",
          "Biscuits",
          "Biscuits",
          "Biscuits",
          "Biscuits",
          "Biscuits",
          "Biscuits",
          "Biscuits",
          "Biscuits",
          "Biscuits",
          "Biscuits",
          "Biscuits",
          "Biscuits",
          "Biscuits",
          "Biscuits",
          "Biscuits",
          "Biscuits",
          "Biscuits",
          "Biscuits",
          "Biscuits",
          "Biscuits",
          "Biscuits",
          "Biscuits",
          "Biscuits",
          "Biscuits",
          "Biscuits",
          "Biscuits",
          "Biscuits",
          "Biscuits",
          "Biscuits",
          "Biscuits",
          "Biscuits",
          "Biscuits",
          "Biscuits",
          "Biscuits",
          "Biscuits",
          "Biscuits",
          "Biscuits",
          "Biscuits",
          "Biscuits",
          "Biscuits",
          "Biscuits",
          "Biscuits",
          "Biscuits",
          "Biscuits",
          "Biscuits",
          "Biscuits"
         ],
         "xaxis": "x",
         "yaxis": "y",
         "type": "histogram"
        },
        {
         "bingroup": "x",
         "hovertemplate": "Category=%{x}<br>count=%{y}<extra></extra>",
         "legendgroup": "Personal Care",
         "marker": {
          "color": "#AF7AA1",
          "pattern": {
           "shape": ""
          }
         },
         "name": "Personal Care",
         "orientation": "v",
         "showlegend": true,
         "x": [
          "Personal Care",
          "Personal Care",
          "Personal Care",
          "Personal Care",
          "Personal Care",
          "Personal Care",
          "Personal Care",
          "Personal Care",
          "Personal Care",
          "Personal Care",
          "Personal Care",
          "Personal Care",
          "Personal Care",
          "Personal Care",
          "Personal Care",
          "Personal Care",
          "Personal Care",
          "Personal Care",
          "Personal Care",
          "Personal Care",
          "Personal Care",
          "Personal Care",
          "Personal Care",
          "Personal Care",
          "Personal Care",
          "Personal Care",
          "Personal Care",
          "Personal Care",
          "Personal Care",
          "Personal Care",
          "Personal Care",
          "Personal Care",
          "Personal Care",
          "Personal Care",
          "Personal Care",
          "Personal Care",
          "Personal Care",
          "Personal Care",
          "Personal Care",
          "Personal Care",
          "Personal Care",
          "Personal Care",
          "Personal Care",
          "Personal Care",
          "Personal Care",
          "Personal Care",
          "Personal Care",
          "Personal Care",
          "Personal Care",
          "Personal Care",
          "Personal Care",
          "Personal Care",
          "Personal Care",
          "Personal Care",
          "Personal Care",
          "Personal Care",
          "Personal Care",
          "Personal Care",
          "Personal Care",
          "Personal Care",
          "Personal Care",
          "Personal Care",
          "Personal Care",
          "Personal Care",
          "Personal Care",
          "Personal Care",
          "Personal Care",
          "Personal Care",
          "Personal Care",
          "Personal Care",
          "Personal Care",
          "Personal Care",
          "Personal Care",
          "Personal Care",
          "Personal Care",
          "Personal Care",
          "Personal Care",
          "Personal Care",
          "Personal Care",
          "Personal Care",
          "Personal Care",
          "Personal Care",
          "Personal Care",
          "Personal Care",
          "Personal Care",
          "Personal Care",
          "Personal Care",
          "Personal Care",
          "Personal Care",
          "Personal Care",
          "Personal Care",
          "Personal Care",
          "Personal Care",
          "Personal Care",
          "Personal Care",
          "Personal Care",
          "Personal Care",
          "Personal Care",
          "Personal Care",
          "Personal Care",
          "Personal Care",
          "Personal Care",
          "Personal Care",
          "Personal Care",
          "Personal Care",
          "Personal Care",
          "Personal Care",
          "Personal Care",
          "Personal Care",
          "Personal Care",
          "Personal Care",
          "Personal Care",
          "Personal Care",
          "Personal Care",
          "Personal Care",
          "Personal Care",
          "Personal Care",
          "Personal Care",
          "Personal Care",
          "Personal Care",
          "Personal Care",
          "Personal Care",
          "Personal Care",
          "Personal Care",
          "Personal Care",
          "Personal Care",
          "Personal Care",
          "Personal Care",
          "Personal Care",
          "Personal Care",
          "Personal Care",
          "Personal Care",
          "Personal Care",
          "Personal Care",
          "Personal Care",
          "Personal Care",
          "Personal Care",
          "Personal Care",
          "Personal Care",
          "Personal Care",
          "Personal Care",
          "Personal Care",
          "Personal Care",
          "Personal Care",
          "Personal Care",
          "Personal Care",
          "Personal Care",
          "Personal Care",
          "Personal Care",
          "Personal Care",
          "Personal Care",
          "Personal Care",
          "Personal Care",
          "Personal Care",
          "Personal Care",
          "Personal Care",
          "Personal Care",
          "Personal Care",
          "Personal Care",
          "Personal Care",
          "Personal Care",
          "Personal Care",
          "Personal Care",
          "Personal Care",
          "Personal Care",
          "Personal Care",
          "Personal Care",
          "Personal Care",
          "Personal Care",
          "Personal Care",
          "Personal Care",
          "Personal Care",
          "Personal Care",
          "Personal Care",
          "Personal Care",
          "Personal Care",
          "Personal Care",
          "Personal Care",
          "Personal Care",
          "Personal Care",
          "Personal Care",
          "Personal Care",
          "Personal Care",
          "Personal Care",
          "Personal Care",
          "Personal Care",
          "Personal Care",
          "Personal Care",
          "Personal Care",
          "Personal Care",
          "Personal Care",
          "Personal Care",
          "Personal Care",
          "Personal Care",
          "Personal Care",
          "Personal Care",
          "Personal Care",
          "Personal Care",
          "Personal Care",
          "Personal Care",
          "Personal Care",
          "Personal Care",
          "Personal Care",
          "Personal Care",
          "Personal Care",
          "Personal Care",
          "Personal Care",
          "Personal Care",
          "Personal Care",
          "Personal Care",
          "Personal Care",
          "Personal Care",
          "Personal Care",
          "Personal Care",
          "Personal Care",
          "Personal Care",
          "Personal Care",
          "Personal Care",
          "Personal Care",
          "Personal Care",
          "Personal Care",
          "Personal Care",
          "Personal Care",
          "Personal Care",
          "Personal Care",
          "Personal Care",
          "Personal Care",
          "Personal Care",
          "Personal Care",
          "Personal Care",
          "Personal Care",
          "Personal Care",
          "Personal Care",
          "Personal Care",
          "Personal Care",
          "Personal Care",
          "Personal Care",
          "Personal Care",
          "Personal Care",
          "Personal Care",
          "Personal Care",
          "Personal Care",
          "Personal Care",
          "Personal Care",
          "Personal Care",
          "Personal Care",
          "Personal Care",
          "Personal Care",
          "Personal Care",
          "Personal Care",
          "Personal Care",
          "Personal Care",
          "Personal Care",
          "Personal Care",
          "Personal Care",
          "Personal Care",
          "Personal Care",
          "Personal Care",
          "Personal Care",
          "Personal Care",
          "Personal Care",
          "Personal Care",
          "Personal Care",
          "Personal Care",
          "Personal Care",
          "Personal Care",
          "Personal Care",
          "Personal Care",
          "Personal Care",
          "Personal Care",
          "Personal Care",
          "Personal Care",
          "Personal Care",
          "Personal Care",
          "Personal Care",
          "Personal Care",
          "Personal Care",
          "Personal Care",
          "Personal Care",
          "Personal Care",
          "Personal Care",
          "Personal Care",
          "Personal Care",
          "Personal Care",
          "Personal Care",
          "Personal Care",
          "Personal Care",
          "Personal Care",
          "Personal Care",
          "Personal Care",
          "Personal Care",
          "Personal Care",
          "Personal Care",
          "Personal Care",
          "Personal Care",
          "Personal Care",
          "Personal Care",
          "Personal Care",
          "Personal Care",
          "Personal Care",
          "Personal Care",
          "Personal Care",
          "Personal Care",
          "Personal Care",
          "Personal Care",
          "Personal Care",
          "Personal Care",
          "Personal Care",
          "Personal Care",
          "Personal Care"
         ],
         "xaxis": "x",
         "yaxis": "y",
         "type": "histogram"
        },
        {
         "bingroup": "x",
         "hovertemplate": "Category=%{x}<br>count=%{y}<extra></extra>",
         "legendgroup": "Home & Cleaning",
         "marker": {
          "color": "#FF9DA7",
          "pattern": {
           "shape": ""
          }
         },
         "name": "Home & Cleaning",
         "orientation": "v",
         "showlegend": true,
         "x": [
          "Home & Cleaning",
          "Home & Cleaning",
          "Home & Cleaning",
          "Home & Cleaning",
          "Home & Cleaning",
          "Home & Cleaning",
          "Home & Cleaning",
          "Home & Cleaning",
          "Home & Cleaning",
          "Home & Cleaning",
          "Home & Cleaning",
          "Home & Cleaning",
          "Home & Cleaning",
          "Home & Cleaning",
          "Home & Cleaning",
          "Home & Cleaning",
          "Home & Cleaning",
          "Home & Cleaning",
          "Home & Cleaning",
          "Home & Cleaning",
          "Home & Cleaning",
          "Home & Cleaning",
          "Home & Cleaning",
          "Home & Cleaning",
          "Home & Cleaning",
          "Home & Cleaning",
          "Home & Cleaning",
          "Home & Cleaning",
          "Home & Cleaning",
          "Home & Cleaning",
          "Home & Cleaning",
          "Home & Cleaning",
          "Home & Cleaning",
          "Home & Cleaning",
          "Home & Cleaning",
          "Home & Cleaning",
          "Home & Cleaning",
          "Home & Cleaning",
          "Home & Cleaning",
          "Home & Cleaning",
          "Home & Cleaning",
          "Home & Cleaning",
          "Home & Cleaning",
          "Home & Cleaning",
          "Home & Cleaning",
          "Home & Cleaning",
          "Home & Cleaning",
          "Home & Cleaning",
          "Home & Cleaning",
          "Home & Cleaning",
          "Home & Cleaning",
          "Home & Cleaning",
          "Home & Cleaning",
          "Home & Cleaning",
          "Home & Cleaning",
          "Home & Cleaning",
          "Home & Cleaning",
          "Home & Cleaning",
          "Home & Cleaning",
          "Home & Cleaning",
          "Home & Cleaning",
          "Home & Cleaning",
          "Home & Cleaning",
          "Home & Cleaning",
          "Home & Cleaning",
          "Home & Cleaning",
          "Home & Cleaning",
          "Home & Cleaning",
          "Home & Cleaning",
          "Home & Cleaning",
          "Home & Cleaning",
          "Home & Cleaning",
          "Home & Cleaning",
          "Home & Cleaning",
          "Home & Cleaning",
          "Home & Cleaning",
          "Home & Cleaning",
          "Home & Cleaning",
          "Home & Cleaning",
          "Home & Cleaning",
          "Home & Cleaning",
          "Home & Cleaning",
          "Home & Cleaning",
          "Home & Cleaning",
          "Home & Cleaning",
          "Home & Cleaning",
          "Home & Cleaning",
          "Home & Cleaning",
          "Home & Cleaning",
          "Home & Cleaning",
          "Home & Cleaning",
          "Home & Cleaning",
          "Home & Cleaning",
          "Home & Cleaning",
          "Home & Cleaning",
          "Home & Cleaning",
          "Home & Cleaning",
          "Home & Cleaning",
          "Home & Cleaning",
          "Home & Cleaning",
          "Home & Cleaning",
          "Home & Cleaning",
          "Home & Cleaning",
          "Home & Cleaning",
          "Home & Cleaning",
          "Home & Cleaning",
          "Home & Cleaning",
          "Home & Cleaning",
          "Home & Cleaning",
          "Home & Cleaning",
          "Home & Cleaning",
          "Home & Cleaning",
          "Home & Cleaning",
          "Home & Cleaning",
          "Home & Cleaning",
          "Home & Cleaning",
          "Home & Cleaning",
          "Home & Cleaning",
          "Home & Cleaning",
          "Home & Cleaning",
          "Home & Cleaning",
          "Home & Cleaning",
          "Home & Cleaning",
          "Home & Cleaning",
          "Home & Cleaning",
          "Home & Cleaning",
          "Home & Cleaning",
          "Home & Cleaning",
          "Home & Cleaning",
          "Home & Cleaning",
          "Home & Cleaning",
          "Home & Cleaning",
          "Home & Cleaning",
          "Home & Cleaning",
          "Home & Cleaning",
          "Home & Cleaning",
          "Home & Cleaning",
          "Home & Cleaning",
          "Home & Cleaning",
          "Home & Cleaning",
          "Home & Cleaning",
          "Home & Cleaning",
          "Home & Cleaning",
          "Home & Cleaning",
          "Home & Cleaning",
          "Home & Cleaning",
          "Home & Cleaning",
          "Home & Cleaning",
          "Home & Cleaning",
          "Home & Cleaning",
          "Home & Cleaning",
          "Home & Cleaning",
          "Home & Cleaning",
          "Home & Cleaning",
          "Home & Cleaning",
          "Home & Cleaning",
          "Home & Cleaning",
          "Home & Cleaning",
          "Home & Cleaning",
          "Home & Cleaning",
          "Home & Cleaning",
          "Home & Cleaning",
          "Home & Cleaning",
          "Home & Cleaning",
          "Home & Cleaning",
          "Home & Cleaning",
          "Home & Cleaning",
          "Home & Cleaning",
          "Home & Cleaning",
          "Home & Cleaning",
          "Home & Cleaning",
          "Home & Cleaning",
          "Home & Cleaning",
          "Home & Cleaning",
          "Home & Cleaning",
          "Home & Cleaning",
          "Home & Cleaning",
          "Home & Cleaning",
          "Home & Cleaning",
          "Home & Cleaning",
          "Home & Cleaning",
          "Home & Cleaning",
          "Home & Cleaning",
          "Home & Cleaning",
          "Home & Cleaning"
         ],
         "xaxis": "x",
         "yaxis": "y",
         "type": "histogram"
        },
        {
         "bingroup": "x",
         "hovertemplate": "Category=%{x}<br>count=%{y}<extra></extra>",
         "legendgroup": "Health & Hygiene",
         "marker": {
          "color": "#9C755F",
          "pattern": {
           "shape": ""
          }
         },
         "name": "Health & Hygiene",
         "orientation": "v",
         "showlegend": true,
         "x": [
          "Health & Hygiene",
          "Health & Hygiene",
          "Health & Hygiene",
          "Health & Hygiene",
          "Health & Hygiene",
          "Health & Hygiene",
          "Health & Hygiene",
          "Health & Hygiene",
          "Health & Hygiene",
          "Health & Hygiene",
          "Health & Hygiene",
          "Health & Hygiene",
          "Health & Hygiene",
          "Health & Hygiene",
          "Health & Hygiene",
          "Health & Hygiene",
          "Health & Hygiene",
          "Health & Hygiene",
          "Health & Hygiene",
          "Health & Hygiene",
          "Health & Hygiene",
          "Health & Hygiene",
          "Health & Hygiene",
          "Health & Hygiene",
          "Health & Hygiene",
          "Health & Hygiene",
          "Health & Hygiene",
          "Health & Hygiene",
          "Health & Hygiene",
          "Health & Hygiene",
          "Health & Hygiene",
          "Health & Hygiene",
          "Health & Hygiene",
          "Health & Hygiene",
          "Health & Hygiene",
          "Health & Hygiene",
          "Health & Hygiene",
          "Health & Hygiene",
          "Health & Hygiene",
          "Health & Hygiene",
          "Health & Hygiene",
          "Health & Hygiene",
          "Health & Hygiene",
          "Health & Hygiene",
          "Health & Hygiene",
          "Health & Hygiene",
          "Health & Hygiene",
          "Health & Hygiene",
          "Health & Hygiene",
          "Health & Hygiene",
          "Health & Hygiene",
          "Health & Hygiene",
          "Health & Hygiene",
          "Health & Hygiene",
          "Health & Hygiene",
          "Health & Hygiene",
          "Health & Hygiene",
          "Health & Hygiene",
          "Health & Hygiene"
         ],
         "xaxis": "x",
         "yaxis": "y",
         "type": "histogram"
        }
       ],
       "layout": {
        "template": {
         "data": {
          "histogram2dcontour": [
           {
            "type": "histogram2dcontour",
            "colorbar": {
             "outlinewidth": 0,
             "ticks": ""
            },
            "colorscale": [
             [
              0.0,
              "#0d0887"
             ],
             [
              0.1111111111111111,
              "#46039f"
             ],
             [
              0.2222222222222222,
              "#7201a8"
             ],
             [
              0.3333333333333333,
              "#9c179e"
             ],
             [
              0.4444444444444444,
              "#bd3786"
             ],
             [
              0.5555555555555556,
              "#d8576b"
             ],
             [
              0.6666666666666666,
              "#ed7953"
             ],
             [
              0.7777777777777778,
              "#fb9f3a"
             ],
             [
              0.8888888888888888,
              "#fdca26"
             ],
             [
              1.0,
              "#f0f921"
             ]
            ]
           }
          ],
          "choropleth": [
           {
            "type": "choropleth",
            "colorbar": {
             "outlinewidth": 0,
             "ticks": ""
            }
           }
          ],
          "histogram2d": [
           {
            "type": "histogram2d",
            "colorbar": {
             "outlinewidth": 0,
             "ticks": ""
            },
            "colorscale": [
             [
              0.0,
              "#0d0887"
             ],
             [
              0.1111111111111111,
              "#46039f"
             ],
             [
              0.2222222222222222,
              "#7201a8"
             ],
             [
              0.3333333333333333,
              "#9c179e"
             ],
             [
              0.4444444444444444,
              "#bd3786"
             ],
             [
              0.5555555555555556,
              "#d8576b"
             ],
             [
              0.6666666666666666,
              "#ed7953"
             ],
             [
              0.7777777777777778,
              "#fb9f3a"
             ],
             [
              0.8888888888888888,
              "#fdca26"
             ],
             [
              1.0,
              "#f0f921"
             ]
            ]
           }
          ],
          "heatmap": [
           {
            "type": "heatmap",
            "colorbar": {
             "outlinewidth": 0,
             "ticks": ""
            },
            "colorscale": [
             [
              0.0,
              "#0d0887"
             ],
             [
              0.1111111111111111,
              "#46039f"
             ],
             [
              0.2222222222222222,
              "#7201a8"
             ],
             [
              0.3333333333333333,
              "#9c179e"
             ],
             [
              0.4444444444444444,
              "#bd3786"
             ],
             [
              0.5555555555555556,
              "#d8576b"
             ],
             [
              0.6666666666666666,
              "#ed7953"
             ],
             [
              0.7777777777777778,
              "#fb9f3a"
             ],
             [
              0.8888888888888888,
              "#fdca26"
             ],
             [
              1.0,
              "#f0f921"
             ]
            ]
           }
          ],
          "contourcarpet": [
           {
            "type": "contourcarpet",
            "colorbar": {
             "outlinewidth": 0,
             "ticks": ""
            }
           }
          ],
          "contour": [
           {
            "type": "contour",
            "colorbar": {
             "outlinewidth": 0,
             "ticks": ""
            },
            "colorscale": [
             [
              0.0,
              "#0d0887"
             ],
             [
              0.1111111111111111,
              "#46039f"
             ],
             [
              0.2222222222222222,
              "#7201a8"
             ],
             [
              0.3333333333333333,
              "#9c179e"
             ],
             [
              0.4444444444444444,
              "#bd3786"
             ],
             [
              0.5555555555555556,
              "#d8576b"
             ],
             [
              0.6666666666666666,
              "#ed7953"
             ],
             [
              0.7777777777777778,
              "#fb9f3a"
             ],
             [
              0.8888888888888888,
              "#fdca26"
             ],
             [
              1.0,
              "#f0f921"
             ]
            ]
           }
          ],
          "surface": [
           {
            "type": "surface",
            "colorbar": {
             "outlinewidth": 0,
             "ticks": ""
            },
            "colorscale": [
             [
              0.0,
              "#0d0887"
             ],
             [
              0.1111111111111111,
              "#46039f"
             ],
             [
              0.2222222222222222,
              "#7201a8"
             ],
             [
              0.3333333333333333,
              "#9c179e"
             ],
             [
              0.4444444444444444,
              "#bd3786"
             ],
             [
              0.5555555555555556,
              "#d8576b"
             ],
             [
              0.6666666666666666,
              "#ed7953"
             ],
             [
              0.7777777777777778,
              "#fb9f3a"
             ],
             [
              0.8888888888888888,
              "#fdca26"
             ],
             [
              1.0,
              "#f0f921"
             ]
            ]
           }
          ],
          "mesh3d": [
           {
            "type": "mesh3d",
            "colorbar": {
             "outlinewidth": 0,
             "ticks": ""
            }
           }
          ],
          "scatter": [
           {
            "marker": {
             "line": {
              "color": "#283442"
             }
            },
            "type": "scatter"
           }
          ],
          "parcoords": [
           {
            "type": "parcoords",
            "line": {
             "colorbar": {
              "outlinewidth": 0,
              "ticks": ""
             }
            }
           }
          ],
          "scatterpolargl": [
           {
            "type": "scatterpolargl",
            "marker": {
             "colorbar": {
              "outlinewidth": 0,
              "ticks": ""
             }
            }
           }
          ],
          "bar": [
           {
            "error_x": {
             "color": "#f2f5fa"
            },
            "error_y": {
             "color": "#f2f5fa"
            },
            "marker": {
             "line": {
              "color": "rgb(17,17,17)",
              "width": 0.5
             },
             "pattern": {
              "fillmode": "overlay",
              "size": 10,
              "solidity": 0.2
             }
            },
            "type": "bar"
           }
          ],
          "scattergeo": [
           {
            "type": "scattergeo",
            "marker": {
             "colorbar": {
              "outlinewidth": 0,
              "ticks": ""
             }
            }
           }
          ],
          "scatterpolar": [
           {
            "type": "scatterpolar",
            "marker": {
             "colorbar": {
              "outlinewidth": 0,
              "ticks": ""
             }
            }
           }
          ],
          "histogram": [
           {
            "marker": {
             "pattern": {
              "fillmode": "overlay",
              "size": 10,
              "solidity": 0.2
             }
            },
            "type": "histogram"
           }
          ],
          "scattergl": [
           {
            "marker": {
             "line": {
              "color": "#283442"
             }
            },
            "type": "scattergl"
           }
          ],
          "scatter3d": [
           {
            "type": "scatter3d",
            "line": {
             "colorbar": {
              "outlinewidth": 0,
              "ticks": ""
             }
            },
            "marker": {
             "colorbar": {
              "outlinewidth": 0,
              "ticks": ""
             }
            }
           }
          ],
          "scattermap": [
           {
            "type": "scattermap",
            "marker": {
             "colorbar": {
              "outlinewidth": 0,
              "ticks": ""
             }
            }
           }
          ],
          "scattermapbox": [
           {
            "type": "scattermapbox",
            "marker": {
             "colorbar": {
              "outlinewidth": 0,
              "ticks": ""
             }
            }
           }
          ],
          "scatterternary": [
           {
            "type": "scatterternary",
            "marker": {
             "colorbar": {
              "outlinewidth": 0,
              "ticks": ""
             }
            }
           }
          ],
          "scattercarpet": [
           {
            "type": "scattercarpet",
            "marker": {
             "colorbar": {
              "outlinewidth": 0,
              "ticks": ""
             }
            }
           }
          ],
          "carpet": [
           {
            "aaxis": {
             "endlinecolor": "#A2B1C6",
             "gridcolor": "#506784",
             "linecolor": "#506784",
             "minorgridcolor": "#506784",
             "startlinecolor": "#A2B1C6"
            },
            "baxis": {
             "endlinecolor": "#A2B1C6",
             "gridcolor": "#506784",
             "linecolor": "#506784",
             "minorgridcolor": "#506784",
             "startlinecolor": "#A2B1C6"
            },
            "type": "carpet"
           }
          ],
          "table": [
           {
            "cells": {
             "fill": {
              "color": "#506784"
             },
             "line": {
              "color": "rgb(17,17,17)"
             }
            },
            "header": {
             "fill": {
              "color": "#2a3f5f"
             },
             "line": {
              "color": "rgb(17,17,17)"
             }
            },
            "type": "table"
           }
          ],
          "barpolar": [
           {
            "marker": {
             "line": {
              "color": "rgb(17,17,17)",
              "width": 0.5
             },
             "pattern": {
              "fillmode": "overlay",
              "size": 10,
              "solidity": 0.2
             }
            },
            "type": "barpolar"
           }
          ],
          "pie": [
           {
            "automargin": true,
            "type": "pie"
           }
          ]
         },
         "layout": {
          "autotypenumbers": "strict",
          "colorway": [
           "#636efa",
           "#EF553B",
           "#00cc96",
           "#ab63fa",
           "#FFA15A",
           "#19d3f3",
           "#FF6692",
           "#B6E880",
           "#FF97FF",
           "#FECB52"
          ],
          "font": {
           "color": "#f2f5fa"
          },
          "hovermode": "closest",
          "hoverlabel": {
           "align": "left"
          },
          "paper_bgcolor": "rgb(17,17,17)",
          "plot_bgcolor": "rgb(17,17,17)",
          "polar": {
           "bgcolor": "rgb(17,17,17)",
           "angularaxis": {
            "gridcolor": "#506784",
            "linecolor": "#506784",
            "ticks": ""
           },
           "radialaxis": {
            "gridcolor": "#506784",
            "linecolor": "#506784",
            "ticks": ""
           }
          },
          "ternary": {
           "bgcolor": "rgb(17,17,17)",
           "aaxis": {
            "gridcolor": "#506784",
            "linecolor": "#506784",
            "ticks": ""
           },
           "baxis": {
            "gridcolor": "#506784",
            "linecolor": "#506784",
            "ticks": ""
           },
           "caxis": {
            "gridcolor": "#506784",
            "linecolor": "#506784",
            "ticks": ""
           }
          },
          "coloraxis": {
           "colorbar": {
            "outlinewidth": 0,
            "ticks": ""
           }
          },
          "colorscale": {
           "sequential": [
            [
             0.0,
             "#0d0887"
            ],
            [
             0.1111111111111111,
             "#46039f"
            ],
            [
             0.2222222222222222,
             "#7201a8"
            ],
            [
             0.3333333333333333,
             "#9c179e"
            ],
            [
             0.4444444444444444,
             "#bd3786"
            ],
            [
             0.5555555555555556,
             "#d8576b"
            ],
            [
             0.6666666666666666,
             "#ed7953"
            ],
            [
             0.7777777777777778,
             "#fb9f3a"
            ],
            [
             0.8888888888888888,
             "#fdca26"
            ],
            [
             1.0,
             "#f0f921"
            ]
           ],
           "sequentialminus": [
            [
             0.0,
             "#0d0887"
            ],
            [
             0.1111111111111111,
             "#46039f"
            ],
            [
             0.2222222222222222,
             "#7201a8"
            ],
            [
             0.3333333333333333,
             "#9c179e"
            ],
            [
             0.4444444444444444,
             "#bd3786"
            ],
            [
             0.5555555555555556,
             "#d8576b"
            ],
            [
             0.6666666666666666,
             "#ed7953"
            ],
            [
             0.7777777777777778,
             "#fb9f3a"
            ],
            [
             0.8888888888888888,
             "#fdca26"
            ],
            [
             1.0,
             "#f0f921"
            ]
           ],
           "diverging": [
            [
             0,
             "#8e0152"
            ],
            [
             0.1,
             "#c51b7d"
            ],
            [
             0.2,
             "#de77ae"
            ],
            [
             0.3,
             "#f1b6da"
            ],
            [
             0.4,
             "#fde0ef"
            ],
            [
             0.5,
             "#f7f7f7"
            ],
            [
             0.6,
             "#e6f5d0"
            ],
            [
             0.7,
             "#b8e186"
            ],
            [
             0.8,
             "#7fbc41"
            ],
            [
             0.9,
             "#4d9221"
            ],
            [
             1,
             "#276419"
            ]
           ]
          },
          "xaxis": {
           "gridcolor": "#283442",
           "linecolor": "#506784",
           "ticks": "",
           "title": {
            "standoff": 15
           },
           "zerolinecolor": "#283442",
           "automargin": true,
           "zerolinewidth": 2
          },
          "yaxis": {
           "gridcolor": "#283442",
           "linecolor": "#506784",
           "ticks": "",
           "title": {
            "standoff": 15
           },
           "zerolinecolor": "#283442",
           "automargin": true,
           "zerolinewidth": 2
          },
          "scene": {
           "xaxis": {
            "backgroundcolor": "rgb(17,17,17)",
            "gridcolor": "#506784",
            "linecolor": "#506784",
            "showbackground": true,
            "ticks": "",
            "zerolinecolor": "#C8D4E3",
            "gridwidth": 2
           },
           "yaxis": {
            "backgroundcolor": "rgb(17,17,17)",
            "gridcolor": "#506784",
            "linecolor": "#506784",
            "showbackground": true,
            "ticks": "",
            "zerolinecolor": "#C8D4E3",
            "gridwidth": 2
           },
           "zaxis": {
            "backgroundcolor": "rgb(17,17,17)",
            "gridcolor": "#506784",
            "linecolor": "#506784",
            "showbackground": true,
            "ticks": "",
            "zerolinecolor": "#C8D4E3",
            "gridwidth": 2
           }
          },
          "shapedefaults": {
           "line": {
            "color": "#f2f5fa"
           }
          },
          "annotationdefaults": {
           "arrowcolor": "#f2f5fa",
           "arrowhead": 0,
           "arrowwidth": 1
          },
          "geo": {
           "bgcolor": "rgb(17,17,17)",
           "landcolor": "rgb(17,17,17)",
           "subunitcolor": "#506784",
           "showland": true,
           "showlakes": true,
           "lakecolor": "rgb(17,17,17)"
          },
          "title": {
           "x": 0.05
          },
          "updatemenudefaults": {
           "bgcolor": "#506784",
           "borderwidth": 0
          },
          "sliderdefaults": {
           "bgcolor": "#C8D4E3",
           "borderwidth": 1,
           "bordercolor": "rgb(17,17,17)",
           "tickwidth": 0
          },
          "mapbox": {
           "style": "dark"
          }
         }
        },
        "xaxis": {
         "anchor": "y",
         "domain": [
          0.0,
          1.0
         ],
         "title": {
          "text": "Category"
         },
         "categoryorder": "array",
         "categoryarray": [
          "Fruits & Vegetables",
          "Cooking Essentials",
          "Dairy, Bread & Batter",
          "Packaged Food",
          "Meats, Fish & Eggs",
          "Biscuits",
          "Personal Care",
          "Home & Cleaning",
          "Health & Hygiene"
         ]
        },
        "yaxis": {
         "anchor": "x",
         "domain": [
          0.0,
          1.0
         ],
         "title": {
          "text": "count"
         }
        },
        "legend": {
         "title": {
          "text": "Category"
         },
         "tracegroupgap": 0
        },
        "margin": {
         "t": 60
        },
        "barmode": "relative",
        "height": 750
       },
       "config": {
        "plotlyServerURL": "https://plot.ly"
       }
      }
     },
     "metadata": {},
     "output_type": "display_data"
    }
   ],
   "execution_count": 128,
   "source": [
    "fig = px.histogram(dfN, x='Category', color = 'Category', color_discrete_sequence=colors, template='plotly_dark',height=750)\n",
    "fig.show()"
   ],
   "id": "14d1ca0865885d64"
  },
  {
   "metadata": {
    "ExecuteTime": {
     "end_time": "2025-06-07T14:44:08.249329Z",
     "start_time": "2025-06-07T14:44:08.204437Z"
    }
   },
   "cell_type": "code",
   "outputs": [
    {
     "data": {
      "application/vnd.plotly.v1+json": {
       "data": [
        {
         "alignmentgroup": "True",
         "bingroup": "x",
         "hovertemplate": "outOfStock=False<br>Category=%{x}<br>count=%{y}<extra></extra>",
         "legendgroup": "False",
         "marker": {
          "color": "green",
          "pattern": {
           "shape": ""
          }
         },
         "name": "False",
         "offsetgroup": "False",
         "orientation": "v",
         "showlegend": true,
         "x": [
          "Fruits & Vegetables",
          "Fruits & Vegetables",
          "Fruits & Vegetables",
          "Fruits & Vegetables",
          "Fruits & Vegetables",
          "Fruits & Vegetables",
          "Fruits & Vegetables",
          "Fruits & Vegetables",
          "Fruits & Vegetables",
          "Fruits & Vegetables",
          "Fruits & Vegetables",
          "Fruits & Vegetables",
          "Fruits & Vegetables",
          "Fruits & Vegetables",
          "Fruits & Vegetables",
          "Fruits & Vegetables",
          "Fruits & Vegetables",
          "Fruits & Vegetables",
          "Fruits & Vegetables",
          "Fruits & Vegetables",
          "Fruits & Vegetables",
          "Fruits & Vegetables",
          "Fruits & Vegetables",
          "Fruits & Vegetables",
          "Fruits & Vegetables",
          "Fruits & Vegetables",
          "Fruits & Vegetables",
          "Fruits & Vegetables",
          "Fruits & Vegetables",
          "Fruits & Vegetables",
          "Fruits & Vegetables",
          "Fruits & Vegetables",
          "Fruits & Vegetables",
          "Fruits & Vegetables",
          "Fruits & Vegetables",
          "Fruits & Vegetables",
          "Fruits & Vegetables",
          "Fruits & Vegetables",
          "Fruits & Vegetables",
          "Fruits & Vegetables",
          "Fruits & Vegetables",
          "Fruits & Vegetables",
          "Fruits & Vegetables",
          "Fruits & Vegetables",
          "Fruits & Vegetables",
          "Fruits & Vegetables",
          "Fruits & Vegetables",
          "Fruits & Vegetables",
          "Fruits & Vegetables",
          "Fruits & Vegetables",
          "Fruits & Vegetables",
          "Fruits & Vegetables",
          "Fruits & Vegetables",
          "Fruits & Vegetables",
          "Fruits & Vegetables",
          "Fruits & Vegetables",
          "Fruits & Vegetables",
          "Fruits & Vegetables",
          "Fruits & Vegetables",
          "Fruits & Vegetables",
          "Fruits & Vegetables",
          "Fruits & Vegetables",
          "Fruits & Vegetables",
          "Fruits & Vegetables",
          "Fruits & Vegetables",
          "Fruits & Vegetables",
          "Fruits & Vegetables",
          "Fruits & Vegetables",
          "Fruits & Vegetables",
          "Fruits & Vegetables",
          "Fruits & Vegetables",
          "Fruits & Vegetables",
          "Fruits & Vegetables",
          "Fruits & Vegetables",
          "Fruits & Vegetables",
          "Fruits & Vegetables",
          "Fruits & Vegetables",
          "Fruits & Vegetables",
          "Fruits & Vegetables",
          "Fruits & Vegetables",
          "Fruits & Vegetables",
          "Fruits & Vegetables",
          "Fruits & Vegetables",
          "Fruits & Vegetables",
          "Fruits & Vegetables",
          "Cooking Essentials",
          "Cooking Essentials",
          "Cooking Essentials",
          "Cooking Essentials",
          "Cooking Essentials",
          "Cooking Essentials",
          "Cooking Essentials",
          "Cooking Essentials",
          "Cooking Essentials",
          "Cooking Essentials",
          "Cooking Essentials",
          "Cooking Essentials",
          "Cooking Essentials",
          "Cooking Essentials",
          "Cooking Essentials",
          "Cooking Essentials",
          "Cooking Essentials",
          "Cooking Essentials",
          "Cooking Essentials",
          "Cooking Essentials",
          "Cooking Essentials",
          "Cooking Essentials",
          "Cooking Essentials",
          "Cooking Essentials",
          "Cooking Essentials",
          "Cooking Essentials",
          "Cooking Essentials",
          "Cooking Essentials",
          "Cooking Essentials",
          "Cooking Essentials",
          "Cooking Essentials",
          "Cooking Essentials",
          "Cooking Essentials",
          "Cooking Essentials",
          "Cooking Essentials",
          "Cooking Essentials",
          "Cooking Essentials",
          "Cooking Essentials",
          "Cooking Essentials",
          "Cooking Essentials",
          "Cooking Essentials",
          "Cooking Essentials",
          "Cooking Essentials",
          "Cooking Essentials",
          "Cooking Essentials",
          "Cooking Essentials",
          "Cooking Essentials",
          "Cooking Essentials",
          "Cooking Essentials",
          "Cooking Essentials",
          "Cooking Essentials",
          "Cooking Essentials",
          "Cooking Essentials",
          "Cooking Essentials",
          "Cooking Essentials",
          "Cooking Essentials",
          "Cooking Essentials",
          "Cooking Essentials",
          "Cooking Essentials",
          "Cooking Essentials",
          "Cooking Essentials",
          "Cooking Essentials",
          "Cooking Essentials",
          "Cooking Essentials",
          "Cooking Essentials",
          "Cooking Essentials",
          "Cooking Essentials",
          "Cooking Essentials",
          "Cooking Essentials",
          "Cooking Essentials",
          "Cooking Essentials",
          "Cooking Essentials",
          "Cooking Essentials",
          "Cooking Essentials",
          "Cooking Essentials",
          "Cooking Essentials",
          "Cooking Essentials",
          "Cooking Essentials",
          "Cooking Essentials",
          "Cooking Essentials",
          "Cooking Essentials",
          "Cooking Essentials",
          "Cooking Essentials",
          "Cooking Essentials",
          "Cooking Essentials",
          "Cooking Essentials",
          "Cooking Essentials",
          "Cooking Essentials",
          "Cooking Essentials",
          "Cooking Essentials",
          "Cooking Essentials",
          "Cooking Essentials",
          "Cooking Essentials",
          "Cooking Essentials",
          "Cooking Essentials",
          "Cooking Essentials",
          "Cooking Essentials",
          "Cooking Essentials",
          "Cooking Essentials",
          "Cooking Essentials",
          "Cooking Essentials",
          "Cooking Essentials",
          "Cooking Essentials",
          "Cooking Essentials",
          "Cooking Essentials",
          "Cooking Essentials",
          "Cooking Essentials",
          "Cooking Essentials",
          "Cooking Essentials",
          "Cooking Essentials",
          "Cooking Essentials",
          "Cooking Essentials",
          "Cooking Essentials",
          "Cooking Essentials",
          "Cooking Essentials",
          "Cooking Essentials",
          "Cooking Essentials",
          "Cooking Essentials",
          "Cooking Essentials",
          "Cooking Essentials",
          "Cooking Essentials",
          "Cooking Essentials",
          "Cooking Essentials",
          "Cooking Essentials",
          "Cooking Essentials",
          "Cooking Essentials",
          "Cooking Essentials",
          "Cooking Essentials",
          "Cooking Essentials",
          "Cooking Essentials",
          "Cooking Essentials",
          "Cooking Essentials",
          "Cooking Essentials",
          "Cooking Essentials",
          "Cooking Essentials",
          "Cooking Essentials",
          "Cooking Essentials",
          "Cooking Essentials",
          "Cooking Essentials",
          "Cooking Essentials",
          "Cooking Essentials",
          "Cooking Essentials",
          "Cooking Essentials",
          "Cooking Essentials",
          "Cooking Essentials",
          "Cooking Essentials",
          "Cooking Essentials",
          "Cooking Essentials",
          "Cooking Essentials",
          "Cooking Essentials",
          "Cooking Essentials",
          "Cooking Essentials",
          "Cooking Essentials",
          "Cooking Essentials",
          "Cooking Essentials",
          "Cooking Essentials",
          "Cooking Essentials",
          "Cooking Essentials",
          "Cooking Essentials",
          "Cooking Essentials",
          "Cooking Essentials",
          "Cooking Essentials",
          "Cooking Essentials",
          "Cooking Essentials",
          "Cooking Essentials",
          "Cooking Essentials",
          "Cooking Essentials",
          "Cooking Essentials",
          "Cooking Essentials",
          "Cooking Essentials",
          "Cooking Essentials",
          "Cooking Essentials",
          "Cooking Essentials",
          "Cooking Essentials",
          "Cooking Essentials",
          "Cooking Essentials",
          "Cooking Essentials",
          "Cooking Essentials",
          "Cooking Essentials",
          "Cooking Essentials",
          "Cooking Essentials",
          "Cooking Essentials",
          "Cooking Essentials",
          "Cooking Essentials",
          "Cooking Essentials",
          "Cooking Essentials",
          "Cooking Essentials",
          "Cooking Essentials",
          "Cooking Essentials",
          "Cooking Essentials",
          "Cooking Essentials",
          "Cooking Essentials",
          "Cooking Essentials",
          "Cooking Essentials",
          "Cooking Essentials",
          "Cooking Essentials",
          "Cooking Essentials",
          "Cooking Essentials",
          "Cooking Essentials",
          "Cooking Essentials",
          "Cooking Essentials",
          "Cooking Essentials",
          "Cooking Essentials",
          "Cooking Essentials",
          "Cooking Essentials",
          "Cooking Essentials",
          "Cooking Essentials",
          "Cooking Essentials",
          "Cooking Essentials",
          "Cooking Essentials",
          "Cooking Essentials",
          "Cooking Essentials",
          "Cooking Essentials",
          "Cooking Essentials",
          "Cooking Essentials",
          "Cooking Essentials",
          "Cooking Essentials",
          "Cooking Essentials",
          "Cooking Essentials",
          "Cooking Essentials",
          "Cooking Essentials",
          "Cooking Essentials",
          "Cooking Essentials",
          "Cooking Essentials",
          "Cooking Essentials",
          "Cooking Essentials",
          "Cooking Essentials",
          "Cooking Essentials",
          "Cooking Essentials",
          "Cooking Essentials",
          "Cooking Essentials",
          "Cooking Essentials",
          "Cooking Essentials",
          "Cooking Essentials",
          "Cooking Essentials",
          "Cooking Essentials",
          "Cooking Essentials",
          "Cooking Essentials",
          "Cooking Essentials",
          "Cooking Essentials",
          "Cooking Essentials",
          "Cooking Essentials",
          "Cooking Essentials",
          "Cooking Essentials",
          "Cooking Essentials",
          "Cooking Essentials",
          "Cooking Essentials",
          "Cooking Essentials",
          "Cooking Essentials",
          "Cooking Essentials",
          "Cooking Essentials",
          "Cooking Essentials",
          "Cooking Essentials",
          "Cooking Essentials",
          "Cooking Essentials",
          "Cooking Essentials",
          "Cooking Essentials",
          "Cooking Essentials",
          "Cooking Essentials",
          "Cooking Essentials",
          "Cooking Essentials",
          "Cooking Essentials",
          "Cooking Essentials",
          "Cooking Essentials",
          "Cooking Essentials",
          "Cooking Essentials",
          "Cooking Essentials",
          "Cooking Essentials",
          "Cooking Essentials",
          "Cooking Essentials",
          "Cooking Essentials",
          "Cooking Essentials",
          "Cooking Essentials",
          "Cooking Essentials",
          "Cooking Essentials",
          "Cooking Essentials",
          "Cooking Essentials",
          "Cooking Essentials",
          "Cooking Essentials",
          "Cooking Essentials",
          "Cooking Essentials",
          "Cooking Essentials",
          "Cooking Essentials",
          "Cooking Essentials",
          "Cooking Essentials",
          "Cooking Essentials",
          "Cooking Essentials",
          "Cooking Essentials",
          "Cooking Essentials",
          "Cooking Essentials",
          "Cooking Essentials",
          "Cooking Essentials",
          "Cooking Essentials",
          "Cooking Essentials",
          "Cooking Essentials",
          "Cooking Essentials",
          "Cooking Essentials",
          "Cooking Essentials",
          "Cooking Essentials",
          "Cooking Essentials",
          "Cooking Essentials",
          "Cooking Essentials",
          "Cooking Essentials",
          "Cooking Essentials",
          "Cooking Essentials",
          "Cooking Essentials",
          "Cooking Essentials",
          "Cooking Essentials",
          "Cooking Essentials",
          "Cooking Essentials",
          "Cooking Essentials",
          "Cooking Essentials",
          "Cooking Essentials",
          "Cooking Essentials",
          "Cooking Essentials",
          "Cooking Essentials",
          "Cooking Essentials",
          "Cooking Essentials",
          "Cooking Essentials",
          "Cooking Essentials",
          "Cooking Essentials",
          "Cooking Essentials",
          "Cooking Essentials",
          "Cooking Essentials",
          "Cooking Essentials",
          "Cooking Essentials",
          "Cooking Essentials",
          "Cooking Essentials",
          "Cooking Essentials",
          "Cooking Essentials",
          "Cooking Essentials",
          "Cooking Essentials",
          "Cooking Essentials",
          "Cooking Essentials",
          "Cooking Essentials",
          "Cooking Essentials",
          "Cooking Essentials",
          "Cooking Essentials",
          "Cooking Essentials",
          "Cooking Essentials",
          "Cooking Essentials",
          "Cooking Essentials",
          "Cooking Essentials",
          "Cooking Essentials",
          "Cooking Essentials",
          "Cooking Essentials",
          "Cooking Essentials",
          "Cooking Essentials",
          "Cooking Essentials",
          "Cooking Essentials",
          "Cooking Essentials",
          "Cooking Essentials",
          "Cooking Essentials",
          "Cooking Essentials",
          "Cooking Essentials",
          "Cooking Essentials",
          "Cooking Essentials",
          "Cooking Essentials",
          "Cooking Essentials",
          "Cooking Essentials",
          "Cooking Essentials",
          "Cooking Essentials",
          "Cooking Essentials",
          "Cooking Essentials",
          "Cooking Essentials",
          "Cooking Essentials",
          "Cooking Essentials",
          "Cooking Essentials",
          "Cooking Essentials",
          "Cooking Essentials",
          "Cooking Essentials",
          "Cooking Essentials",
          "Cooking Essentials",
          "Cooking Essentials",
          "Cooking Essentials",
          "Cooking Essentials",
          "Cooking Essentials",
          "Cooking Essentials",
          "Cooking Essentials",
          "Cooking Essentials",
          "Cooking Essentials",
          "Cooking Essentials",
          "Cooking Essentials",
          "Cooking Essentials",
          "Cooking Essentials",
          "Cooking Essentials",
          "Cooking Essentials",
          "Cooking Essentials",
          "Cooking Essentials",
          "Cooking Essentials",
          "Cooking Essentials",
          "Cooking Essentials",
          "Cooking Essentials",
          "Cooking Essentials",
          "Cooking Essentials",
          "Cooking Essentials",
          "Cooking Essentials",
          "Cooking Essentials",
          "Cooking Essentials",
          "Cooking Essentials",
          "Cooking Essentials",
          "Cooking Essentials",
          "Cooking Essentials",
          "Cooking Essentials",
          "Cooking Essentials",
          "Cooking Essentials",
          "Cooking Essentials",
          "Cooking Essentials",
          "Cooking Essentials",
          "Cooking Essentials",
          "Cooking Essentials",
          "Cooking Essentials",
          "Cooking Essentials",
          "Cooking Essentials",
          "Cooking Essentials",
          "Cooking Essentials",
          "Cooking Essentials",
          "Cooking Essentials",
          "Cooking Essentials",
          "Cooking Essentials",
          "Dairy, Bread & Batter",
          "Dairy, Bread & Batter",
          "Dairy, Bread & Batter",
          "Dairy, Bread & Batter",
          "Dairy, Bread & Batter",
          "Dairy, Bread & Batter",
          "Dairy, Bread & Batter",
          "Dairy, Bread & Batter",
          "Dairy, Bread & Batter",
          "Dairy, Bread & Batter",
          "Dairy, Bread & Batter",
          "Dairy, Bread & Batter",
          "Dairy, Bread & Batter",
          "Dairy, Bread & Batter",
          "Dairy, Bread & Batter",
          "Dairy, Bread & Batter",
          "Dairy, Bread & Batter",
          "Dairy, Bread & Batter",
          "Dairy, Bread & Batter",
          "Dairy, Bread & Batter",
          "Dairy, Bread & Batter",
          "Dairy, Bread & Batter",
          "Dairy, Bread & Batter",
          "Dairy, Bread & Batter",
          "Dairy, Bread & Batter",
          "Dairy, Bread & Batter",
          "Dairy, Bread & Batter",
          "Dairy, Bread & Batter",
          "Dairy, Bread & Batter",
          "Dairy, Bread & Batter",
          "Dairy, Bread & Batter",
          "Dairy, Bread & Batter",
          "Dairy, Bread & Batter",
          "Dairy, Bread & Batter",
          "Dairy, Bread & Batter",
          "Dairy, Bread & Batter",
          "Dairy, Bread & Batter",
          "Dairy, Bread & Batter",
          "Dairy, Bread & Batter",
          "Dairy, Bread & Batter",
          "Dairy, Bread & Batter",
          "Dairy, Bread & Batter",
          "Dairy, Bread & Batter",
          "Dairy, Bread & Batter",
          "Dairy, Bread & Batter",
          "Dairy, Bread & Batter",
          "Dairy, Bread & Batter",
          "Dairy, Bread & Batter",
          "Dairy, Bread & Batter",
          "Dairy, Bread & Batter",
          "Dairy, Bread & Batter",
          "Dairy, Bread & Batter",
          "Dairy, Bread & Batter",
          "Dairy, Bread & Batter",
          "Dairy, Bread & Batter",
          "Dairy, Bread & Batter",
          "Dairy, Bread & Batter",
          "Dairy, Bread & Batter",
          "Dairy, Bread & Batter",
          "Dairy, Bread & Batter",
          "Dairy, Bread & Batter",
          "Dairy, Bread & Batter",
          "Dairy, Bread & Batter",
          "Dairy, Bread & Batter",
          "Dairy, Bread & Batter",
          "Dairy, Bread & Batter",
          "Dairy, Bread & Batter",
          "Dairy, Bread & Batter",
          "Dairy, Bread & Batter",
          "Dairy, Bread & Batter",
          "Dairy, Bread & Batter",
          "Dairy, Bread & Batter",
          "Dairy, Bread & Batter",
          "Dairy, Bread & Batter",
          "Dairy, Bread & Batter",
          "Dairy, Bread & Batter",
          "Dairy, Bread & Batter",
          "Dairy, Bread & Batter",
          "Dairy, Bread & Batter",
          "Dairy, Bread & Batter",
          "Dairy, Bread & Batter",
          "Dairy, Bread & Batter",
          "Dairy, Bread & Batter",
          "Packaged Food",
          "Packaged Food",
          "Packaged Food",
          "Packaged Food",
          "Packaged Food",
          "Packaged Food",
          "Packaged Food",
          "Packaged Food",
          "Packaged Food",
          "Packaged Food",
          "Packaged Food",
          "Packaged Food",
          "Packaged Food",
          "Packaged Food",
          "Packaged Food",
          "Packaged Food",
          "Packaged Food",
          "Packaged Food",
          "Packaged Food",
          "Packaged Food",
          "Packaged Food",
          "Packaged Food",
          "Packaged Food",
          "Packaged Food",
          "Packaged Food",
          "Packaged Food",
          "Packaged Food",
          "Packaged Food",
          "Packaged Food",
          "Packaged Food",
          "Packaged Food",
          "Packaged Food",
          "Packaged Food",
          "Packaged Food",
          "Packaged Food",
          "Packaged Food",
          "Packaged Food",
          "Packaged Food",
          "Packaged Food",
          "Packaged Food",
          "Packaged Food",
          "Packaged Food",
          "Packaged Food",
          "Packaged Food",
          "Packaged Food",
          "Packaged Food",
          "Packaged Food",
          "Packaged Food",
          "Packaged Food",
          "Packaged Food",
          "Packaged Food",
          "Packaged Food",
          "Packaged Food",
          "Packaged Food",
          "Packaged Food",
          "Packaged Food",
          "Packaged Food",
          "Packaged Food",
          "Packaged Food",
          "Packaged Food",
          "Packaged Food",
          "Packaged Food",
          "Packaged Food",
          "Packaged Food",
          "Packaged Food",
          "Packaged Food",
          "Packaged Food",
          "Packaged Food",
          "Packaged Food",
          "Packaged Food",
          "Packaged Food",
          "Packaged Food",
          "Packaged Food",
          "Packaged Food",
          "Packaged Food",
          "Packaged Food",
          "Packaged Food",
          "Packaged Food",
          "Packaged Food",
          "Packaged Food",
          "Packaged Food",
          "Packaged Food",
          "Packaged Food",
          "Packaged Food",
          "Packaged Food",
          "Packaged Food",
          "Packaged Food",
          "Packaged Food",
          "Packaged Food",
          "Packaged Food",
          "Packaged Food",
          "Packaged Food",
          "Packaged Food",
          "Packaged Food",
          "Packaged Food",
          "Packaged Food",
          "Packaged Food",
          "Packaged Food",
          "Packaged Food",
          "Packaged Food",
          "Packaged Food",
          "Packaged Food",
          "Packaged Food",
          "Packaged Food",
          "Packaged Food",
          "Packaged Food",
          "Packaged Food",
          "Packaged Food",
          "Packaged Food",
          "Packaged Food",
          "Packaged Food",
          "Packaged Food",
          "Packaged Food",
          "Packaged Food",
          "Packaged Food",
          "Packaged Food",
          "Packaged Food",
          "Packaged Food",
          "Packaged Food",
          "Packaged Food",
          "Packaged Food",
          "Packaged Food",
          "Packaged Food",
          "Packaged Food",
          "Packaged Food",
          "Packaged Food",
          "Packaged Food",
          "Packaged Food",
          "Packaged Food",
          "Packaged Food",
          "Packaged Food",
          "Packaged Food",
          "Packaged Food",
          "Packaged Food",
          "Packaged Food",
          "Packaged Food",
          "Packaged Food",
          "Packaged Food",
          "Packaged Food",
          "Packaged Food",
          "Packaged Food",
          "Packaged Food",
          "Packaged Food",
          "Packaged Food",
          "Packaged Food",
          "Packaged Food",
          "Packaged Food",
          "Packaged Food",
          "Packaged Food",
          "Packaged Food",
          "Packaged Food",
          "Packaged Food",
          "Packaged Food",
          "Packaged Food",
          "Packaged Food",
          "Packaged Food",
          "Packaged Food",
          "Packaged Food",
          "Packaged Food",
          "Packaged Food",
          "Packaged Food",
          "Packaged Food",
          "Packaged Food",
          "Packaged Food",
          "Packaged Food",
          "Packaged Food",
          "Packaged Food",
          "Packaged Food",
          "Packaged Food",
          "Packaged Food",
          "Packaged Food",
          "Packaged Food",
          "Packaged Food",
          "Packaged Food",
          "Packaged Food",
          "Packaged Food",
          "Packaged Food",
          "Packaged Food",
          "Packaged Food",
          "Packaged Food",
          "Packaged Food",
          "Packaged Food",
          "Packaged Food",
          "Packaged Food",
          "Packaged Food",
          "Packaged Food",
          "Packaged Food",
          "Packaged Food",
          "Packaged Food",
          "Packaged Food",
          "Packaged Food",
          "Packaged Food",
          "Packaged Food",
          "Packaged Food",
          "Packaged Food",
          "Packaged Food",
          "Packaged Food",
          "Packaged Food",
          "Packaged Food",
          "Packaged Food",
          "Packaged Food",
          "Packaged Food",
          "Packaged Food",
          "Packaged Food",
          "Packaged Food",
          "Packaged Food",
          "Packaged Food",
          "Packaged Food",
          "Packaged Food",
          "Packaged Food",
          "Packaged Food",
          "Packaged Food",
          "Packaged Food",
          "Packaged Food",
          "Packaged Food",
          "Packaged Food",
          "Packaged Food",
          "Packaged Food",
          "Packaged Food",
          "Packaged Food",
          "Packaged Food",
          "Packaged Food",
          "Packaged Food",
          "Packaged Food",
          "Packaged Food",
          "Packaged Food",
          "Packaged Food",
          "Packaged Food",
          "Packaged Food",
          "Packaged Food",
          "Packaged Food",
          "Packaged Food",
          "Packaged Food",
          "Packaged Food",
          "Packaged Food",
          "Packaged Food",
          "Packaged Food",
          "Packaged Food",
          "Packaged Food",
          "Packaged Food",
          "Packaged Food",
          "Packaged Food",
          "Packaged Food",
          "Packaged Food",
          "Packaged Food",
          "Packaged Food",
          "Packaged Food",
          "Packaged Food",
          "Packaged Food",
          "Packaged Food",
          "Packaged Food",
          "Packaged Food",
          "Packaged Food",
          "Packaged Food",
          "Packaged Food",
          "Packaged Food",
          "Packaged Food",
          "Packaged Food",
          "Packaged Food",
          "Packaged Food",
          "Packaged Food",
          "Meats, Fish & Eggs",
          "Meats, Fish & Eggs",
          "Meats, Fish & Eggs",
          "Meats, Fish & Eggs",
          "Meats, Fish & Eggs",
          "Meats, Fish & Eggs",
          "Meats, Fish & Eggs",
          "Meats, Fish & Eggs",
          "Meats, Fish & Eggs",
          "Meats, Fish & Eggs",
          "Meats, Fish & Eggs",
          "Meats, Fish & Eggs",
          "Meats, Fish & Eggs",
          "Meats, Fish & Eggs",
          "Meats, Fish & Eggs",
          "Meats, Fish & Eggs",
          "Meats, Fish & Eggs",
          "Meats, Fish & Eggs",
          "Meats, Fish & Eggs",
          "Meats, Fish & Eggs",
          "Meats, Fish & Eggs",
          "Meats, Fish & Eggs",
          "Meats, Fish & Eggs",
          "Meats, Fish & Eggs",
          "Meats, Fish & Eggs",
          "Biscuits",
          "Biscuits",
          "Biscuits",
          "Biscuits",
          "Biscuits",
          "Biscuits",
          "Biscuits",
          "Biscuits",
          "Biscuits",
          "Biscuits",
          "Biscuits",
          "Biscuits",
          "Biscuits",
          "Biscuits",
          "Biscuits",
          "Biscuits",
          "Biscuits",
          "Biscuits",
          "Biscuits",
          "Biscuits",
          "Biscuits",
          "Biscuits",
          "Biscuits",
          "Biscuits",
          "Biscuits",
          "Biscuits",
          "Biscuits",
          "Biscuits",
          "Biscuits",
          "Biscuits",
          "Biscuits",
          "Biscuits",
          "Biscuits",
          "Biscuits",
          "Biscuits",
          "Biscuits",
          "Biscuits",
          "Biscuits",
          "Biscuits",
          "Biscuits",
          "Biscuits",
          "Biscuits",
          "Biscuits",
          "Biscuits",
          "Biscuits",
          "Biscuits",
          "Biscuits",
          "Biscuits",
          "Biscuits",
          "Biscuits",
          "Biscuits",
          "Biscuits",
          "Biscuits",
          "Biscuits",
          "Biscuits",
          "Biscuits",
          "Biscuits",
          "Biscuits",
          "Biscuits",
          "Biscuits",
          "Biscuits",
          "Biscuits",
          "Biscuits",
          "Biscuits",
          "Biscuits",
          "Biscuits",
          "Biscuits",
          "Biscuits",
          "Biscuits",
          "Biscuits",
          "Biscuits",
          "Biscuits",
          "Biscuits",
          "Biscuits",
          "Biscuits",
          "Biscuits",
          "Biscuits",
          "Biscuits",
          "Biscuits",
          "Biscuits",
          "Biscuits",
          "Biscuits",
          "Biscuits",
          "Biscuits",
          "Biscuits",
          "Biscuits",
          "Biscuits",
          "Biscuits",
          "Biscuits",
          "Biscuits",
          "Biscuits",
          "Biscuits",
          "Biscuits",
          "Biscuits",
          "Biscuits",
          "Biscuits",
          "Biscuits",
          "Biscuits",
          "Personal Care",
          "Personal Care",
          "Personal Care",
          "Personal Care",
          "Personal Care",
          "Personal Care",
          "Personal Care",
          "Personal Care",
          "Personal Care",
          "Personal Care",
          "Personal Care",
          "Personal Care",
          "Personal Care",
          "Personal Care",
          "Personal Care",
          "Personal Care",
          "Personal Care",
          "Personal Care",
          "Personal Care",
          "Personal Care",
          "Personal Care",
          "Personal Care",
          "Personal Care",
          "Personal Care",
          "Personal Care",
          "Personal Care",
          "Personal Care",
          "Personal Care",
          "Personal Care",
          "Personal Care",
          "Personal Care",
          "Personal Care",
          "Personal Care",
          "Personal Care",
          "Personal Care",
          "Personal Care",
          "Personal Care",
          "Personal Care",
          "Personal Care",
          "Personal Care",
          "Personal Care",
          "Personal Care",
          "Personal Care",
          "Personal Care",
          "Personal Care",
          "Personal Care",
          "Personal Care",
          "Personal Care",
          "Personal Care",
          "Personal Care",
          "Personal Care",
          "Personal Care",
          "Personal Care",
          "Personal Care",
          "Personal Care",
          "Personal Care",
          "Personal Care",
          "Personal Care",
          "Personal Care",
          "Personal Care",
          "Personal Care",
          "Personal Care",
          "Personal Care",
          "Personal Care",
          "Personal Care",
          "Personal Care",
          "Personal Care",
          "Personal Care",
          "Personal Care",
          "Personal Care",
          "Personal Care",
          "Personal Care",
          "Personal Care",
          "Personal Care",
          "Personal Care",
          "Personal Care",
          "Personal Care",
          "Personal Care",
          "Personal Care",
          "Personal Care",
          "Personal Care",
          "Personal Care",
          "Personal Care",
          "Personal Care",
          "Personal Care",
          "Personal Care",
          "Personal Care",
          "Personal Care",
          "Personal Care",
          "Personal Care",
          "Personal Care",
          "Personal Care",
          "Personal Care",
          "Personal Care",
          "Personal Care",
          "Personal Care",
          "Personal Care",
          "Personal Care",
          "Personal Care",
          "Personal Care",
          "Personal Care",
          "Personal Care",
          "Personal Care",
          "Personal Care",
          "Personal Care",
          "Personal Care",
          "Personal Care",
          "Personal Care",
          "Personal Care",
          "Personal Care",
          "Personal Care",
          "Personal Care",
          "Personal Care",
          "Personal Care",
          "Personal Care",
          "Personal Care",
          "Personal Care",
          "Personal Care",
          "Personal Care",
          "Personal Care",
          "Personal Care",
          "Personal Care",
          "Personal Care",
          "Personal Care",
          "Personal Care",
          "Personal Care",
          "Personal Care",
          "Personal Care",
          "Personal Care",
          "Personal Care",
          "Personal Care",
          "Personal Care",
          "Personal Care",
          "Personal Care",
          "Personal Care",
          "Personal Care",
          "Personal Care",
          "Personal Care",
          "Personal Care",
          "Personal Care",
          "Personal Care",
          "Personal Care",
          "Personal Care",
          "Personal Care",
          "Personal Care",
          "Personal Care",
          "Personal Care",
          "Personal Care",
          "Personal Care",
          "Personal Care",
          "Personal Care",
          "Personal Care",
          "Personal Care",
          "Personal Care",
          "Personal Care",
          "Personal Care",
          "Personal Care",
          "Personal Care",
          "Personal Care",
          "Personal Care",
          "Personal Care",
          "Personal Care",
          "Personal Care",
          "Personal Care",
          "Personal Care",
          "Personal Care",
          "Personal Care",
          "Personal Care",
          "Personal Care",
          "Personal Care",
          "Personal Care",
          "Personal Care",
          "Personal Care",
          "Personal Care",
          "Personal Care",
          "Personal Care",
          "Personal Care",
          "Personal Care",
          "Personal Care",
          "Personal Care",
          "Personal Care",
          "Personal Care",
          "Personal Care",
          "Personal Care",
          "Personal Care",
          "Personal Care",
          "Personal Care",
          "Personal Care",
          "Personal Care",
          "Personal Care",
          "Personal Care",
          "Personal Care",
          "Personal Care",
          "Personal Care",
          "Personal Care",
          "Personal Care",
          "Personal Care",
          "Personal Care",
          "Personal Care",
          "Personal Care",
          "Personal Care",
          "Personal Care",
          "Personal Care",
          "Personal Care",
          "Personal Care",
          "Personal Care",
          "Personal Care",
          "Personal Care",
          "Personal Care",
          "Personal Care",
          "Personal Care",
          "Personal Care",
          "Personal Care",
          "Personal Care",
          "Personal Care",
          "Personal Care",
          "Personal Care",
          "Personal Care",
          "Personal Care",
          "Personal Care",
          "Personal Care",
          "Personal Care",
          "Personal Care",
          "Personal Care",
          "Personal Care",
          "Personal Care",
          "Personal Care",
          "Personal Care",
          "Personal Care",
          "Personal Care",
          "Personal Care",
          "Personal Care",
          "Personal Care",
          "Personal Care",
          "Personal Care",
          "Personal Care",
          "Personal Care",
          "Personal Care",
          "Personal Care",
          "Personal Care",
          "Personal Care",
          "Personal Care",
          "Personal Care",
          "Personal Care",
          "Personal Care",
          "Personal Care",
          "Personal Care",
          "Personal Care",
          "Personal Care",
          "Personal Care",
          "Personal Care",
          "Personal Care",
          "Personal Care",
          "Personal Care",
          "Personal Care",
          "Personal Care",
          "Personal Care",
          "Personal Care",
          "Personal Care",
          "Personal Care",
          "Personal Care",
          "Personal Care",
          "Personal Care",
          "Personal Care",
          "Personal Care",
          "Personal Care",
          "Personal Care",
          "Personal Care",
          "Personal Care",
          "Personal Care",
          "Personal Care",
          "Personal Care",
          "Personal Care",
          "Personal Care",
          "Personal Care",
          "Personal Care",
          "Personal Care",
          "Personal Care",
          "Personal Care",
          "Personal Care",
          "Personal Care",
          "Personal Care",
          "Personal Care",
          "Personal Care",
          "Personal Care",
          "Personal Care",
          "Personal Care",
          "Personal Care",
          "Personal Care",
          "Personal Care",
          "Personal Care",
          "Personal Care",
          "Home & Cleaning",
          "Home & Cleaning",
          "Home & Cleaning",
          "Home & Cleaning",
          "Home & Cleaning",
          "Home & Cleaning",
          "Home & Cleaning",
          "Home & Cleaning",
          "Home & Cleaning",
          "Home & Cleaning",
          "Home & Cleaning",
          "Home & Cleaning",
          "Home & Cleaning",
          "Home & Cleaning",
          "Home & Cleaning",
          "Home & Cleaning",
          "Home & Cleaning",
          "Home & Cleaning",
          "Home & Cleaning",
          "Home & Cleaning",
          "Home & Cleaning",
          "Home & Cleaning",
          "Home & Cleaning",
          "Home & Cleaning",
          "Home & Cleaning",
          "Home & Cleaning",
          "Home & Cleaning",
          "Home & Cleaning",
          "Home & Cleaning",
          "Home & Cleaning",
          "Home & Cleaning",
          "Home & Cleaning",
          "Home & Cleaning",
          "Home & Cleaning",
          "Home & Cleaning",
          "Home & Cleaning",
          "Home & Cleaning",
          "Home & Cleaning",
          "Home & Cleaning",
          "Home & Cleaning",
          "Home & Cleaning",
          "Home & Cleaning",
          "Home & Cleaning",
          "Home & Cleaning",
          "Home & Cleaning",
          "Home & Cleaning",
          "Home & Cleaning",
          "Home & Cleaning",
          "Home & Cleaning",
          "Home & Cleaning",
          "Home & Cleaning",
          "Home & Cleaning",
          "Home & Cleaning",
          "Home & Cleaning",
          "Home & Cleaning",
          "Home & Cleaning",
          "Home & Cleaning",
          "Home & Cleaning",
          "Home & Cleaning",
          "Home & Cleaning",
          "Home & Cleaning",
          "Home & Cleaning",
          "Home & Cleaning",
          "Home & Cleaning",
          "Home & Cleaning",
          "Home & Cleaning",
          "Home & Cleaning",
          "Home & Cleaning",
          "Home & Cleaning",
          "Home & Cleaning",
          "Home & Cleaning",
          "Home & Cleaning",
          "Home & Cleaning",
          "Home & Cleaning",
          "Home & Cleaning",
          "Home & Cleaning",
          "Home & Cleaning",
          "Home & Cleaning",
          "Home & Cleaning",
          "Home & Cleaning",
          "Home & Cleaning",
          "Home & Cleaning",
          "Home & Cleaning",
          "Home & Cleaning",
          "Home & Cleaning",
          "Home & Cleaning",
          "Home & Cleaning",
          "Home & Cleaning",
          "Home & Cleaning",
          "Home & Cleaning",
          "Home & Cleaning",
          "Home & Cleaning",
          "Home & Cleaning",
          "Home & Cleaning",
          "Home & Cleaning",
          "Home & Cleaning",
          "Home & Cleaning",
          "Home & Cleaning",
          "Home & Cleaning",
          "Home & Cleaning",
          "Home & Cleaning",
          "Home & Cleaning",
          "Home & Cleaning",
          "Home & Cleaning",
          "Home & Cleaning",
          "Home & Cleaning",
          "Home & Cleaning",
          "Home & Cleaning",
          "Home & Cleaning",
          "Home & Cleaning",
          "Home & Cleaning",
          "Home & Cleaning",
          "Home & Cleaning",
          "Home & Cleaning",
          "Home & Cleaning",
          "Home & Cleaning",
          "Home & Cleaning",
          "Home & Cleaning",
          "Home & Cleaning",
          "Home & Cleaning",
          "Home & Cleaning",
          "Home & Cleaning",
          "Home & Cleaning",
          "Home & Cleaning",
          "Home & Cleaning",
          "Home & Cleaning",
          "Home & Cleaning",
          "Home & Cleaning",
          "Home & Cleaning",
          "Home & Cleaning",
          "Home & Cleaning",
          "Home & Cleaning",
          "Home & Cleaning",
          "Home & Cleaning",
          "Home & Cleaning",
          "Home & Cleaning",
          "Home & Cleaning",
          "Home & Cleaning",
          "Home & Cleaning",
          "Home & Cleaning",
          "Home & Cleaning",
          "Home & Cleaning",
          "Home & Cleaning",
          "Home & Cleaning",
          "Home & Cleaning",
          "Home & Cleaning",
          "Home & Cleaning",
          "Home & Cleaning",
          "Home & Cleaning",
          "Home & Cleaning",
          "Home & Cleaning",
          "Home & Cleaning",
          "Home & Cleaning",
          "Home & Cleaning",
          "Home & Cleaning",
          "Home & Cleaning",
          "Home & Cleaning",
          "Home & Cleaning",
          "Home & Cleaning",
          "Home & Cleaning",
          "Home & Cleaning",
          "Home & Cleaning",
          "Home & Cleaning",
          "Home & Cleaning",
          "Home & Cleaning",
          "Home & Cleaning",
          "Home & Cleaning",
          "Home & Cleaning",
          "Home & Cleaning",
          "Health & Hygiene",
          "Health & Hygiene",
          "Health & Hygiene",
          "Health & Hygiene",
          "Health & Hygiene",
          "Health & Hygiene",
          "Health & Hygiene",
          "Health & Hygiene",
          "Health & Hygiene",
          "Health & Hygiene",
          "Health & Hygiene",
          "Health & Hygiene",
          "Health & Hygiene",
          "Health & Hygiene",
          "Health & Hygiene",
          "Health & Hygiene",
          "Health & Hygiene",
          "Health & Hygiene",
          "Health & Hygiene",
          "Health & Hygiene",
          "Health & Hygiene",
          "Health & Hygiene",
          "Health & Hygiene",
          "Health & Hygiene",
          "Health & Hygiene",
          "Health & Hygiene",
          "Health & Hygiene",
          "Health & Hygiene",
          "Health & Hygiene",
          "Health & Hygiene",
          "Health & Hygiene",
          "Health & Hygiene",
          "Health & Hygiene",
          "Health & Hygiene",
          "Health & Hygiene",
          "Health & Hygiene",
          "Health & Hygiene",
          "Health & Hygiene",
          "Health & Hygiene",
          "Health & Hygiene",
          "Health & Hygiene",
          "Health & Hygiene",
          "Health & Hygiene",
          "Health & Hygiene",
          "Health & Hygiene",
          "Health & Hygiene",
          "Health & Hygiene",
          "Health & Hygiene",
          "Health & Hygiene",
          "Health & Hygiene",
          "Health & Hygiene",
          "Health & Hygiene",
          "Health & Hygiene",
          "Health & Hygiene",
          "Health & Hygiene",
          "Health & Hygiene"
         ],
         "xaxis": "x",
         "yaxis": "y",
         "type": "histogram"
        },
        {
         "alignmentgroup": "True",
         "bingroup": "x",
         "hovertemplate": "outOfStock=True<br>Category=%{x}<br>count=%{y}<extra></extra>",
         "legendgroup": "True",
         "marker": {
          "color": "red",
          "pattern": {
           "shape": ""
          }
         },
         "name": "True",
         "offsetgroup": "True",
         "orientation": "v",
         "showlegend": true,
         "x": [
          "Fruits & Vegetables",
          "Fruits & Vegetables",
          "Fruits & Vegetables",
          "Fruits & Vegetables",
          "Cooking Essentials",
          "Cooking Essentials",
          "Cooking Essentials",
          "Cooking Essentials",
          "Cooking Essentials",
          "Cooking Essentials",
          "Cooking Essentials",
          "Cooking Essentials",
          "Cooking Essentials",
          "Cooking Essentials",
          "Cooking Essentials",
          "Cooking Essentials",
          "Cooking Essentials",
          "Cooking Essentials",
          "Cooking Essentials",
          "Cooking Essentials",
          "Cooking Essentials",
          "Cooking Essentials",
          "Cooking Essentials",
          "Cooking Essentials",
          "Cooking Essentials",
          "Cooking Essentials",
          "Cooking Essentials",
          "Cooking Essentials",
          "Cooking Essentials",
          "Cooking Essentials",
          "Cooking Essentials",
          "Cooking Essentials",
          "Cooking Essentials",
          "Cooking Essentials",
          "Cooking Essentials",
          "Cooking Essentials",
          "Cooking Essentials",
          "Cooking Essentials",
          "Cooking Essentials",
          "Cooking Essentials",
          "Cooking Essentials",
          "Cooking Essentials",
          "Cooking Essentials",
          "Cooking Essentials",
          "Cooking Essentials",
          "Cooking Essentials",
          "Cooking Essentials",
          "Cooking Essentials",
          "Cooking Essentials",
          "Cooking Essentials",
          "Cooking Essentials",
          "Cooking Essentials",
          "Cooking Essentials",
          "Cooking Essentials",
          "Cooking Essentials",
          "Cooking Essentials",
          "Cooking Essentials",
          "Cooking Essentials",
          "Cooking Essentials",
          "Cooking Essentials",
          "Cooking Essentials",
          "Cooking Essentials",
          "Dairy, Bread & Batter",
          "Dairy, Bread & Batter",
          "Dairy, Bread & Batter",
          "Dairy, Bread & Batter",
          "Dairy, Bread & Batter",
          "Dairy, Bread & Batter",
          "Dairy, Bread & Batter",
          "Dairy, Bread & Batter",
          "Dairy, Bread & Batter",
          "Dairy, Bread & Batter",
          "Dairy, Bread & Batter",
          "Dairy, Bread & Batter",
          "Dairy, Bread & Batter",
          "Dairy, Bread & Batter",
          "Dairy, Bread & Batter",
          "Dairy, Bread & Batter",
          "Dairy, Bread & Batter",
          "Dairy, Bread & Batter",
          "Dairy, Bread & Batter",
          "Dairy, Bread & Batter",
          "Dairy, Bread & Batter",
          "Dairy, Bread & Batter",
          "Dairy, Bread & Batter",
          "Dairy, Bread & Batter",
          "Dairy, Bread & Batter",
          "Packaged Food",
          "Packaged Food",
          "Packaged Food",
          "Packaged Food",
          "Packaged Food",
          "Packaged Food",
          "Packaged Food",
          "Packaged Food",
          "Packaged Food",
          "Packaged Food",
          "Packaged Food",
          "Packaged Food",
          "Packaged Food",
          "Packaged Food",
          "Packaged Food",
          "Packaged Food",
          "Packaged Food",
          "Packaged Food",
          "Packaged Food",
          "Packaged Food",
          "Packaged Food",
          "Packaged Food",
          "Packaged Food",
          "Packaged Food",
          "Packaged Food",
          "Packaged Food",
          "Meats, Fish & Eggs",
          "Meats, Fish & Eggs",
          "Meats, Fish & Eggs",
          "Meats, Fish & Eggs",
          "Meats, Fish & Eggs",
          "Meats, Fish & Eggs",
          "Meats, Fish & Eggs",
          "Biscuits",
          "Biscuits",
          "Biscuits",
          "Biscuits",
          "Biscuits",
          "Biscuits",
          "Biscuits",
          "Biscuits",
          "Biscuits",
          "Biscuits",
          "Biscuits",
          "Biscuits",
          "Biscuits",
          "Biscuits",
          "Biscuits",
          "Biscuits",
          "Biscuits",
          "Biscuits",
          "Biscuits",
          "Biscuits",
          "Biscuits",
          "Biscuits",
          "Biscuits",
          "Biscuits",
          "Biscuits",
          "Biscuits",
          "Biscuits",
          "Biscuits",
          "Biscuits",
          "Biscuits",
          "Biscuits",
          "Biscuits",
          "Biscuits",
          "Biscuits",
          "Biscuits",
          "Personal Care",
          "Personal Care",
          "Personal Care",
          "Personal Care",
          "Personal Care",
          "Personal Care",
          "Personal Care",
          "Personal Care",
          "Personal Care",
          "Personal Care",
          "Personal Care",
          "Personal Care",
          "Personal Care",
          "Personal Care",
          "Personal Care",
          "Personal Care",
          "Personal Care",
          "Personal Care",
          "Home & Cleaning",
          "Home & Cleaning",
          "Home & Cleaning",
          "Home & Cleaning",
          "Home & Cleaning",
          "Home & Cleaning",
          "Home & Cleaning",
          "Home & Cleaning",
          "Home & Cleaning",
          "Home & Cleaning",
          "Home & Cleaning",
          "Home & Cleaning",
          "Home & Cleaning",
          "Home & Cleaning",
          "Home & Cleaning",
          "Home & Cleaning",
          "Health & Hygiene",
          "Health & Hygiene",
          "Health & Hygiene"
         ],
         "xaxis": "x",
         "yaxis": "y",
         "type": "histogram"
        }
       ],
       "layout": {
        "template": {
         "data": {
          "histogram2dcontour": [
           {
            "type": "histogram2dcontour",
            "colorbar": {
             "outlinewidth": 0,
             "ticks": ""
            },
            "colorscale": [
             [
              0.0,
              "#0d0887"
             ],
             [
              0.1111111111111111,
              "#46039f"
             ],
             [
              0.2222222222222222,
              "#7201a8"
             ],
             [
              0.3333333333333333,
              "#9c179e"
             ],
             [
              0.4444444444444444,
              "#bd3786"
             ],
             [
              0.5555555555555556,
              "#d8576b"
             ],
             [
              0.6666666666666666,
              "#ed7953"
             ],
             [
              0.7777777777777778,
              "#fb9f3a"
             ],
             [
              0.8888888888888888,
              "#fdca26"
             ],
             [
              1.0,
              "#f0f921"
             ]
            ]
           }
          ],
          "choropleth": [
           {
            "type": "choropleth",
            "colorbar": {
             "outlinewidth": 0,
             "ticks": ""
            }
           }
          ],
          "histogram2d": [
           {
            "type": "histogram2d",
            "colorbar": {
             "outlinewidth": 0,
             "ticks": ""
            },
            "colorscale": [
             [
              0.0,
              "#0d0887"
             ],
             [
              0.1111111111111111,
              "#46039f"
             ],
             [
              0.2222222222222222,
              "#7201a8"
             ],
             [
              0.3333333333333333,
              "#9c179e"
             ],
             [
              0.4444444444444444,
              "#bd3786"
             ],
             [
              0.5555555555555556,
              "#d8576b"
             ],
             [
              0.6666666666666666,
              "#ed7953"
             ],
             [
              0.7777777777777778,
              "#fb9f3a"
             ],
             [
              0.8888888888888888,
              "#fdca26"
             ],
             [
              1.0,
              "#f0f921"
             ]
            ]
           }
          ],
          "heatmap": [
           {
            "type": "heatmap",
            "colorbar": {
             "outlinewidth": 0,
             "ticks": ""
            },
            "colorscale": [
             [
              0.0,
              "#0d0887"
             ],
             [
              0.1111111111111111,
              "#46039f"
             ],
             [
              0.2222222222222222,
              "#7201a8"
             ],
             [
              0.3333333333333333,
              "#9c179e"
             ],
             [
              0.4444444444444444,
              "#bd3786"
             ],
             [
              0.5555555555555556,
              "#d8576b"
             ],
             [
              0.6666666666666666,
              "#ed7953"
             ],
             [
              0.7777777777777778,
              "#fb9f3a"
             ],
             [
              0.8888888888888888,
              "#fdca26"
             ],
             [
              1.0,
              "#f0f921"
             ]
            ]
           }
          ],
          "contourcarpet": [
           {
            "type": "contourcarpet",
            "colorbar": {
             "outlinewidth": 0,
             "ticks": ""
            }
           }
          ],
          "contour": [
           {
            "type": "contour",
            "colorbar": {
             "outlinewidth": 0,
             "ticks": ""
            },
            "colorscale": [
             [
              0.0,
              "#0d0887"
             ],
             [
              0.1111111111111111,
              "#46039f"
             ],
             [
              0.2222222222222222,
              "#7201a8"
             ],
             [
              0.3333333333333333,
              "#9c179e"
             ],
             [
              0.4444444444444444,
              "#bd3786"
             ],
             [
              0.5555555555555556,
              "#d8576b"
             ],
             [
              0.6666666666666666,
              "#ed7953"
             ],
             [
              0.7777777777777778,
              "#fb9f3a"
             ],
             [
              0.8888888888888888,
              "#fdca26"
             ],
             [
              1.0,
              "#f0f921"
             ]
            ]
           }
          ],
          "surface": [
           {
            "type": "surface",
            "colorbar": {
             "outlinewidth": 0,
             "ticks": ""
            },
            "colorscale": [
             [
              0.0,
              "#0d0887"
             ],
             [
              0.1111111111111111,
              "#46039f"
             ],
             [
              0.2222222222222222,
              "#7201a8"
             ],
             [
              0.3333333333333333,
              "#9c179e"
             ],
             [
              0.4444444444444444,
              "#bd3786"
             ],
             [
              0.5555555555555556,
              "#d8576b"
             ],
             [
              0.6666666666666666,
              "#ed7953"
             ],
             [
              0.7777777777777778,
              "#fb9f3a"
             ],
             [
              0.8888888888888888,
              "#fdca26"
             ],
             [
              1.0,
              "#f0f921"
             ]
            ]
           }
          ],
          "mesh3d": [
           {
            "type": "mesh3d",
            "colorbar": {
             "outlinewidth": 0,
             "ticks": ""
            }
           }
          ],
          "scatter": [
           {
            "marker": {
             "line": {
              "color": "#283442"
             }
            },
            "type": "scatter"
           }
          ],
          "parcoords": [
           {
            "type": "parcoords",
            "line": {
             "colorbar": {
              "outlinewidth": 0,
              "ticks": ""
             }
            }
           }
          ],
          "scatterpolargl": [
           {
            "type": "scatterpolargl",
            "marker": {
             "colorbar": {
              "outlinewidth": 0,
              "ticks": ""
             }
            }
           }
          ],
          "bar": [
           {
            "error_x": {
             "color": "#f2f5fa"
            },
            "error_y": {
             "color": "#f2f5fa"
            },
            "marker": {
             "line": {
              "color": "rgb(17,17,17)",
              "width": 0.5
             },
             "pattern": {
              "fillmode": "overlay",
              "size": 10,
              "solidity": 0.2
             }
            },
            "type": "bar"
           }
          ],
          "scattergeo": [
           {
            "type": "scattergeo",
            "marker": {
             "colorbar": {
              "outlinewidth": 0,
              "ticks": ""
             }
            }
           }
          ],
          "scatterpolar": [
           {
            "type": "scatterpolar",
            "marker": {
             "colorbar": {
              "outlinewidth": 0,
              "ticks": ""
             }
            }
           }
          ],
          "histogram": [
           {
            "marker": {
             "pattern": {
              "fillmode": "overlay",
              "size": 10,
              "solidity": 0.2
             }
            },
            "type": "histogram"
           }
          ],
          "scattergl": [
           {
            "marker": {
             "line": {
              "color": "#283442"
             }
            },
            "type": "scattergl"
           }
          ],
          "scatter3d": [
           {
            "type": "scatter3d",
            "line": {
             "colorbar": {
              "outlinewidth": 0,
              "ticks": ""
             }
            },
            "marker": {
             "colorbar": {
              "outlinewidth": 0,
              "ticks": ""
             }
            }
           }
          ],
          "scattermap": [
           {
            "type": "scattermap",
            "marker": {
             "colorbar": {
              "outlinewidth": 0,
              "ticks": ""
             }
            }
           }
          ],
          "scattermapbox": [
           {
            "type": "scattermapbox",
            "marker": {
             "colorbar": {
              "outlinewidth": 0,
              "ticks": ""
             }
            }
           }
          ],
          "scatterternary": [
           {
            "type": "scatterternary",
            "marker": {
             "colorbar": {
              "outlinewidth": 0,
              "ticks": ""
             }
            }
           }
          ],
          "scattercarpet": [
           {
            "type": "scattercarpet",
            "marker": {
             "colorbar": {
              "outlinewidth": 0,
              "ticks": ""
             }
            }
           }
          ],
          "carpet": [
           {
            "aaxis": {
             "endlinecolor": "#A2B1C6",
             "gridcolor": "#506784",
             "linecolor": "#506784",
             "minorgridcolor": "#506784",
             "startlinecolor": "#A2B1C6"
            },
            "baxis": {
             "endlinecolor": "#A2B1C6",
             "gridcolor": "#506784",
             "linecolor": "#506784",
             "minorgridcolor": "#506784",
             "startlinecolor": "#A2B1C6"
            },
            "type": "carpet"
           }
          ],
          "table": [
           {
            "cells": {
             "fill": {
              "color": "#506784"
             },
             "line": {
              "color": "rgb(17,17,17)"
             }
            },
            "header": {
             "fill": {
              "color": "#2a3f5f"
             },
             "line": {
              "color": "rgb(17,17,17)"
             }
            },
            "type": "table"
           }
          ],
          "barpolar": [
           {
            "marker": {
             "line": {
              "color": "rgb(17,17,17)",
              "width": 0.5
             },
             "pattern": {
              "fillmode": "overlay",
              "size": 10,
              "solidity": 0.2
             }
            },
            "type": "barpolar"
           }
          ],
          "pie": [
           {
            "automargin": true,
            "type": "pie"
           }
          ]
         },
         "layout": {
          "autotypenumbers": "strict",
          "colorway": [
           "#636efa",
           "#EF553B",
           "#00cc96",
           "#ab63fa",
           "#FFA15A",
           "#19d3f3",
           "#FF6692",
           "#B6E880",
           "#FF97FF",
           "#FECB52"
          ],
          "font": {
           "color": "#f2f5fa"
          },
          "hovermode": "closest",
          "hoverlabel": {
           "align": "left"
          },
          "paper_bgcolor": "rgb(17,17,17)",
          "plot_bgcolor": "rgb(17,17,17)",
          "polar": {
           "bgcolor": "rgb(17,17,17)",
           "angularaxis": {
            "gridcolor": "#506784",
            "linecolor": "#506784",
            "ticks": ""
           },
           "radialaxis": {
            "gridcolor": "#506784",
            "linecolor": "#506784",
            "ticks": ""
           }
          },
          "ternary": {
           "bgcolor": "rgb(17,17,17)",
           "aaxis": {
            "gridcolor": "#506784",
            "linecolor": "#506784",
            "ticks": ""
           },
           "baxis": {
            "gridcolor": "#506784",
            "linecolor": "#506784",
            "ticks": ""
           },
           "caxis": {
            "gridcolor": "#506784",
            "linecolor": "#506784",
            "ticks": ""
           }
          },
          "coloraxis": {
           "colorbar": {
            "outlinewidth": 0,
            "ticks": ""
           }
          },
          "colorscale": {
           "sequential": [
            [
             0.0,
             "#0d0887"
            ],
            [
             0.1111111111111111,
             "#46039f"
            ],
            [
             0.2222222222222222,
             "#7201a8"
            ],
            [
             0.3333333333333333,
             "#9c179e"
            ],
            [
             0.4444444444444444,
             "#bd3786"
            ],
            [
             0.5555555555555556,
             "#d8576b"
            ],
            [
             0.6666666666666666,
             "#ed7953"
            ],
            [
             0.7777777777777778,
             "#fb9f3a"
            ],
            [
             0.8888888888888888,
             "#fdca26"
            ],
            [
             1.0,
             "#f0f921"
            ]
           ],
           "sequentialminus": [
            [
             0.0,
             "#0d0887"
            ],
            [
             0.1111111111111111,
             "#46039f"
            ],
            [
             0.2222222222222222,
             "#7201a8"
            ],
            [
             0.3333333333333333,
             "#9c179e"
            ],
            [
             0.4444444444444444,
             "#bd3786"
            ],
            [
             0.5555555555555556,
             "#d8576b"
            ],
            [
             0.6666666666666666,
             "#ed7953"
            ],
            [
             0.7777777777777778,
             "#fb9f3a"
            ],
            [
             0.8888888888888888,
             "#fdca26"
            ],
            [
             1.0,
             "#f0f921"
            ]
           ],
           "diverging": [
            [
             0,
             "#8e0152"
            ],
            [
             0.1,
             "#c51b7d"
            ],
            [
             0.2,
             "#de77ae"
            ],
            [
             0.3,
             "#f1b6da"
            ],
            [
             0.4,
             "#fde0ef"
            ],
            [
             0.5,
             "#f7f7f7"
            ],
            [
             0.6,
             "#e6f5d0"
            ],
            [
             0.7,
             "#b8e186"
            ],
            [
             0.8,
             "#7fbc41"
            ],
            [
             0.9,
             "#4d9221"
            ],
            [
             1,
             "#276419"
            ]
           ]
          },
          "xaxis": {
           "gridcolor": "#283442",
           "linecolor": "#506784",
           "ticks": "",
           "title": {
            "standoff": 15
           },
           "zerolinecolor": "#283442",
           "automargin": true,
           "zerolinewidth": 2
          },
          "yaxis": {
           "gridcolor": "#283442",
           "linecolor": "#506784",
           "ticks": "",
           "title": {
            "standoff": 15
           },
           "zerolinecolor": "#283442",
           "automargin": true,
           "zerolinewidth": 2
          },
          "scene": {
           "xaxis": {
            "backgroundcolor": "rgb(17,17,17)",
            "gridcolor": "#506784",
            "linecolor": "#506784",
            "showbackground": true,
            "ticks": "",
            "zerolinecolor": "#C8D4E3",
            "gridwidth": 2
           },
           "yaxis": {
            "backgroundcolor": "rgb(17,17,17)",
            "gridcolor": "#506784",
            "linecolor": "#506784",
            "showbackground": true,
            "ticks": "",
            "zerolinecolor": "#C8D4E3",
            "gridwidth": 2
           },
           "zaxis": {
            "backgroundcolor": "rgb(17,17,17)",
            "gridcolor": "#506784",
            "linecolor": "#506784",
            "showbackground": true,
            "ticks": "",
            "zerolinecolor": "#C8D4E3",
            "gridwidth": 2
           }
          },
          "shapedefaults": {
           "line": {
            "color": "#f2f5fa"
           }
          },
          "annotationdefaults": {
           "arrowcolor": "#f2f5fa",
           "arrowhead": 0,
           "arrowwidth": 1
          },
          "geo": {
           "bgcolor": "rgb(17,17,17)",
           "landcolor": "rgb(17,17,17)",
           "subunitcolor": "#506784",
           "showland": true,
           "showlakes": true,
           "lakecolor": "rgb(17,17,17)"
          },
          "title": {
           "x": 0.05
          },
          "updatemenudefaults": {
           "bgcolor": "#506784",
           "borderwidth": 0
          },
          "sliderdefaults": {
           "bgcolor": "#C8D4E3",
           "borderwidth": 1,
           "bordercolor": "rgb(17,17,17)",
           "tickwidth": 0
          },
          "mapbox": {
           "style": "dark"
          }
         }
        },
        "xaxis": {
         "anchor": "y",
         "domain": [
          0.0,
          1.0
         ],
         "title": {
          "text": "Category"
         }
        },
        "yaxis": {
         "anchor": "x",
         "domain": [
          0.0,
          1.0
         ],
         "title": {
          "text": "count"
         }
        },
        "legend": {
         "title": {
          "text": "outOfStock"
         },
         "tracegroupgap": 0
        },
        "margin": {
         "t": 60
        },
        "barmode": "group",
        "height": 750
       },
       "config": {
        "plotlyServerURL": "https://plot.ly"
       }
      }
     },
     "metadata": {},
     "output_type": "display_data"
    }
   ],
   "execution_count": 75,
   "source": [
    "fig = px.histogram(dfN, x='Category', barmode='group', color = 'outOfStock', color_discrete_sequence=['green','red'], template='plotly_dark', height=750)\n",
    "fig.show()\n"
   ],
   "id": "4cd8328cbb239f11"
  },
  {
   "metadata": {
    "ExecuteTime": {
     "end_time": "2025-06-07T14:50:34.124834Z",
     "start_time": "2025-06-07T14:50:34.121790Z"
    }
   },
   "cell_type": "code",
   "outputs": [],
   "execution_count": 87,
   "source": [
    "from plotly.subplots import make_subplots as mks\n",
    "import plotly.graph_objs as go"
   ],
   "id": "b1bf83b3d36d857d"
  },
  {
   "metadata": {
    "ExecuteTime": {
     "end_time": "2025-06-07T14:59:37.592419Z",
     "start_time": "2025-06-07T14:59:37.587871Z"
    }
   },
   "cell_type": "code",
   "outputs": [
    {
     "name": "stdout",
     "output_type": "stream",
     "text": [
      "[420, 58]\n"
     ]
    }
   ],
   "execution_count": 111,
   "source": [
    "dfN1 = dfN[dfN['Category']=='Cooking Essentials'].copy()\n",
    "boolArray = ['True', 'False']\n",
    "print(dfN1['outOfStock'].value_counts().tolist())\n"
   ],
   "id": "2dc989cdfd7f20b2"
  },
  {
   "metadata": {
    "ExecuteTime": {
     "end_time": "2025-06-07T15:23:25.751006Z",
     "start_time": "2025-06-07T15:23:25.696668Z"
    }
   },
   "cell_type": "code",
   "outputs": [
    {
     "name": "stdout",
     "output_type": "stream",
     "text": [
      "The Probability of being out of stock for Fruits & Vegetables is :  4.70588 %\n",
      "The Probability of being out of stock for Cooking Essentials is :  13.80952 %\n",
      "The Probability of being out of stock for Dairy, Bread & Batter is :  30.12048 %\n",
      "The Probability of being out of stock for Packaged Food is :  9.96169 %\n",
      "The Probability of being out of stock for Meats, Fish & Eggs is :  28.0 %\n",
      "The Probability of being out of stock for Biscuits is :  35.71429 %\n",
      "The Probability of being out of stock for Personal Care is :  6.16438 %\n",
      "The Probability of being out of stock for Home & Cleaning is :  9.46746 %\n",
      "The Probability of being out of stock for Health & Hygiene is :  5.35714 %\n"
     ]
    },
    {
     "data": {
      "application/vnd.plotly.v1+json": {
       "data": [
        {
         "labels": [
          "True",
          "False"
         ],
         "title": {
          "text": "Fruits & Vegetables"
         },
         "values": [
          85,
          4
         ],
         "type": "pie",
         "domain": {
          "x": [
           0.0,
           0.16799999999999998
          ],
          "y": [
           0.0,
           1.0
          ]
         },
         "marker": {
          "colors": [
           "#ff6361",
           "#ffa600"
          ]
         },
         "hoverinfo": "label+value",
         "textinfo": "percent"
        },
        {
         "labels": [
          "True",
          "False"
         ],
         "title": {
          "text": "Cooking Essentials"
         },
         "values": [
          420,
          58
         ],
         "type": "pie",
         "domain": {
          "x": [
           0.208,
           0.376
          ],
          "y": [
           0.0,
           1.0
          ]
         },
         "marker": {
          "colors": [
           "#ff6361",
           "#ffa600"
          ]
         },
         "hoverinfo": "label+value",
         "textinfo": "percent"
        },
        {
         "labels": [
          "True",
          "False"
         ],
         "title": {
          "text": "Dairy, Bread & Batter"
         },
         "values": [
          83,
          25
         ],
         "type": "pie",
         "domain": {
          "x": [
           0.416,
           0.584
          ],
          "y": [
           0.0,
           1.0
          ]
         },
         "marker": {
          "colors": [
           "#ff6361",
           "#ffa600"
          ]
         },
         "hoverinfo": "label+value",
         "textinfo": "percent"
        },
        {
         "labels": [
          "True",
          "False"
         ],
         "title": {
          "text": "Packaged Food"
         },
         "values": [
          261,
          26
         ],
         "type": "pie",
         "domain": {
          "x": [
           0.624,
           0.792
          ],
          "y": [
           0.0,
           1.0
          ]
         },
         "marker": {
          "colors": [
           "#ff6361",
           "#ffa600"
          ]
         },
         "hoverinfo": "label+value",
         "textinfo": "percent"
        },
        {
         "labels": [
          "True",
          "False"
         ],
         "title": {
          "text": "Meats, Fish & Eggs"
         },
         "values": [
          25,
          7
         ],
         "type": "pie",
         "domain": {
          "x": [
           0.832,
           1.0
          ],
          "y": [
           0.0,
           1.0
          ]
         },
         "marker": {
          "colors": [
           "#ff6361",
           "#ffa600"
          ]
         },
         "hoverinfo": "label+value",
         "textinfo": "percent"
        }
       ],
       "layout": {
        "template": {
         "data": {
          "histogram2dcontour": [
           {
            "type": "histogram2dcontour",
            "colorbar": {
             "outlinewidth": 0,
             "ticks": ""
            },
            "colorscale": [
             [
              0.0,
              "#0d0887"
             ],
             [
              0.1111111111111111,
              "#46039f"
             ],
             [
              0.2222222222222222,
              "#7201a8"
             ],
             [
              0.3333333333333333,
              "#9c179e"
             ],
             [
              0.4444444444444444,
              "#bd3786"
             ],
             [
              0.5555555555555556,
              "#d8576b"
             ],
             [
              0.6666666666666666,
              "#ed7953"
             ],
             [
              0.7777777777777778,
              "#fb9f3a"
             ],
             [
              0.8888888888888888,
              "#fdca26"
             ],
             [
              1.0,
              "#f0f921"
             ]
            ]
           }
          ],
          "choropleth": [
           {
            "type": "choropleth",
            "colorbar": {
             "outlinewidth": 0,
             "ticks": ""
            }
           }
          ],
          "histogram2d": [
           {
            "type": "histogram2d",
            "colorbar": {
             "outlinewidth": 0,
             "ticks": ""
            },
            "colorscale": [
             [
              0.0,
              "#0d0887"
             ],
             [
              0.1111111111111111,
              "#46039f"
             ],
             [
              0.2222222222222222,
              "#7201a8"
             ],
             [
              0.3333333333333333,
              "#9c179e"
             ],
             [
              0.4444444444444444,
              "#bd3786"
             ],
             [
              0.5555555555555556,
              "#d8576b"
             ],
             [
              0.6666666666666666,
              "#ed7953"
             ],
             [
              0.7777777777777778,
              "#fb9f3a"
             ],
             [
              0.8888888888888888,
              "#fdca26"
             ],
             [
              1.0,
              "#f0f921"
             ]
            ]
           }
          ],
          "heatmap": [
           {
            "type": "heatmap",
            "colorbar": {
             "outlinewidth": 0,
             "ticks": ""
            },
            "colorscale": [
             [
              0.0,
              "#0d0887"
             ],
             [
              0.1111111111111111,
              "#46039f"
             ],
             [
              0.2222222222222222,
              "#7201a8"
             ],
             [
              0.3333333333333333,
              "#9c179e"
             ],
             [
              0.4444444444444444,
              "#bd3786"
             ],
             [
              0.5555555555555556,
              "#d8576b"
             ],
             [
              0.6666666666666666,
              "#ed7953"
             ],
             [
              0.7777777777777778,
              "#fb9f3a"
             ],
             [
              0.8888888888888888,
              "#fdca26"
             ],
             [
              1.0,
              "#f0f921"
             ]
            ]
           }
          ],
          "contourcarpet": [
           {
            "type": "contourcarpet",
            "colorbar": {
             "outlinewidth": 0,
             "ticks": ""
            }
           }
          ],
          "contour": [
           {
            "type": "contour",
            "colorbar": {
             "outlinewidth": 0,
             "ticks": ""
            },
            "colorscale": [
             [
              0.0,
              "#0d0887"
             ],
             [
              0.1111111111111111,
              "#46039f"
             ],
             [
              0.2222222222222222,
              "#7201a8"
             ],
             [
              0.3333333333333333,
              "#9c179e"
             ],
             [
              0.4444444444444444,
              "#bd3786"
             ],
             [
              0.5555555555555556,
              "#d8576b"
             ],
             [
              0.6666666666666666,
              "#ed7953"
             ],
             [
              0.7777777777777778,
              "#fb9f3a"
             ],
             [
              0.8888888888888888,
              "#fdca26"
             ],
             [
              1.0,
              "#f0f921"
             ]
            ]
           }
          ],
          "surface": [
           {
            "type": "surface",
            "colorbar": {
             "outlinewidth": 0,
             "ticks": ""
            },
            "colorscale": [
             [
              0.0,
              "#0d0887"
             ],
             [
              0.1111111111111111,
              "#46039f"
             ],
             [
              0.2222222222222222,
              "#7201a8"
             ],
             [
              0.3333333333333333,
              "#9c179e"
             ],
             [
              0.4444444444444444,
              "#bd3786"
             ],
             [
              0.5555555555555556,
              "#d8576b"
             ],
             [
              0.6666666666666666,
              "#ed7953"
             ],
             [
              0.7777777777777778,
              "#fb9f3a"
             ],
             [
              0.8888888888888888,
              "#fdca26"
             ],
             [
              1.0,
              "#f0f921"
             ]
            ]
           }
          ],
          "mesh3d": [
           {
            "type": "mesh3d",
            "colorbar": {
             "outlinewidth": 0,
             "ticks": ""
            }
           }
          ],
          "scatter": [
           {
            "marker": {
             "line": {
              "color": "#283442"
             }
            },
            "type": "scatter"
           }
          ],
          "parcoords": [
           {
            "type": "parcoords",
            "line": {
             "colorbar": {
              "outlinewidth": 0,
              "ticks": ""
             }
            }
           }
          ],
          "scatterpolargl": [
           {
            "type": "scatterpolargl",
            "marker": {
             "colorbar": {
              "outlinewidth": 0,
              "ticks": ""
             }
            }
           }
          ],
          "bar": [
           {
            "error_x": {
             "color": "#f2f5fa"
            },
            "error_y": {
             "color": "#f2f5fa"
            },
            "marker": {
             "line": {
              "color": "rgb(17,17,17)",
              "width": 0.5
             },
             "pattern": {
              "fillmode": "overlay",
              "size": 10,
              "solidity": 0.2
             }
            },
            "type": "bar"
           }
          ],
          "scattergeo": [
           {
            "type": "scattergeo",
            "marker": {
             "colorbar": {
              "outlinewidth": 0,
              "ticks": ""
             }
            }
           }
          ],
          "scatterpolar": [
           {
            "type": "scatterpolar",
            "marker": {
             "colorbar": {
              "outlinewidth": 0,
              "ticks": ""
             }
            }
           }
          ],
          "histogram": [
           {
            "marker": {
             "pattern": {
              "fillmode": "overlay",
              "size": 10,
              "solidity": 0.2
             }
            },
            "type": "histogram"
           }
          ],
          "scattergl": [
           {
            "marker": {
             "line": {
              "color": "#283442"
             }
            },
            "type": "scattergl"
           }
          ],
          "scatter3d": [
           {
            "type": "scatter3d",
            "line": {
             "colorbar": {
              "outlinewidth": 0,
              "ticks": ""
             }
            },
            "marker": {
             "colorbar": {
              "outlinewidth": 0,
              "ticks": ""
             }
            }
           }
          ],
          "scattermap": [
           {
            "type": "scattermap",
            "marker": {
             "colorbar": {
              "outlinewidth": 0,
              "ticks": ""
             }
            }
           }
          ],
          "scattermapbox": [
           {
            "type": "scattermapbox",
            "marker": {
             "colorbar": {
              "outlinewidth": 0,
              "ticks": ""
             }
            }
           }
          ],
          "scatterternary": [
           {
            "type": "scatterternary",
            "marker": {
             "colorbar": {
              "outlinewidth": 0,
              "ticks": ""
             }
            }
           }
          ],
          "scattercarpet": [
           {
            "type": "scattercarpet",
            "marker": {
             "colorbar": {
              "outlinewidth": 0,
              "ticks": ""
             }
            }
           }
          ],
          "carpet": [
           {
            "aaxis": {
             "endlinecolor": "#A2B1C6",
             "gridcolor": "#506784",
             "linecolor": "#506784",
             "minorgridcolor": "#506784",
             "startlinecolor": "#A2B1C6"
            },
            "baxis": {
             "endlinecolor": "#A2B1C6",
             "gridcolor": "#506784",
             "linecolor": "#506784",
             "minorgridcolor": "#506784",
             "startlinecolor": "#A2B1C6"
            },
            "type": "carpet"
           }
          ],
          "table": [
           {
            "cells": {
             "fill": {
              "color": "#506784"
             },
             "line": {
              "color": "rgb(17,17,17)"
             }
            },
            "header": {
             "fill": {
              "color": "#2a3f5f"
             },
             "line": {
              "color": "rgb(17,17,17)"
             }
            },
            "type": "table"
           }
          ],
          "barpolar": [
           {
            "marker": {
             "line": {
              "color": "rgb(17,17,17)",
              "width": 0.5
             },
             "pattern": {
              "fillmode": "overlay",
              "size": 10,
              "solidity": 0.2
             }
            },
            "type": "barpolar"
           }
          ],
          "pie": [
           {
            "automargin": true,
            "type": "pie"
           }
          ]
         },
         "layout": {
          "autotypenumbers": "strict",
          "colorway": [
           "#636efa",
           "#EF553B",
           "#00cc96",
           "#ab63fa",
           "#FFA15A",
           "#19d3f3",
           "#FF6692",
           "#B6E880",
           "#FF97FF",
           "#FECB52"
          ],
          "font": {
           "color": "#f2f5fa"
          },
          "hovermode": "closest",
          "hoverlabel": {
           "align": "left"
          },
          "paper_bgcolor": "rgb(17,17,17)",
          "plot_bgcolor": "rgb(17,17,17)",
          "polar": {
           "bgcolor": "rgb(17,17,17)",
           "angularaxis": {
            "gridcolor": "#506784",
            "linecolor": "#506784",
            "ticks": ""
           },
           "radialaxis": {
            "gridcolor": "#506784",
            "linecolor": "#506784",
            "ticks": ""
           }
          },
          "ternary": {
           "bgcolor": "rgb(17,17,17)",
           "aaxis": {
            "gridcolor": "#506784",
            "linecolor": "#506784",
            "ticks": ""
           },
           "baxis": {
            "gridcolor": "#506784",
            "linecolor": "#506784",
            "ticks": ""
           },
           "caxis": {
            "gridcolor": "#506784",
            "linecolor": "#506784",
            "ticks": ""
           }
          },
          "coloraxis": {
           "colorbar": {
            "outlinewidth": 0,
            "ticks": ""
           }
          },
          "colorscale": {
           "sequential": [
            [
             0.0,
             "#0d0887"
            ],
            [
             0.1111111111111111,
             "#46039f"
            ],
            [
             0.2222222222222222,
             "#7201a8"
            ],
            [
             0.3333333333333333,
             "#9c179e"
            ],
            [
             0.4444444444444444,
             "#bd3786"
            ],
            [
             0.5555555555555556,
             "#d8576b"
            ],
            [
             0.6666666666666666,
             "#ed7953"
            ],
            [
             0.7777777777777778,
             "#fb9f3a"
            ],
            [
             0.8888888888888888,
             "#fdca26"
            ],
            [
             1.0,
             "#f0f921"
            ]
           ],
           "sequentialminus": [
            [
             0.0,
             "#0d0887"
            ],
            [
             0.1111111111111111,
             "#46039f"
            ],
            [
             0.2222222222222222,
             "#7201a8"
            ],
            [
             0.3333333333333333,
             "#9c179e"
            ],
            [
             0.4444444444444444,
             "#bd3786"
            ],
            [
             0.5555555555555556,
             "#d8576b"
            ],
            [
             0.6666666666666666,
             "#ed7953"
            ],
            [
             0.7777777777777778,
             "#fb9f3a"
            ],
            [
             0.8888888888888888,
             "#fdca26"
            ],
            [
             1.0,
             "#f0f921"
            ]
           ],
           "diverging": [
            [
             0,
             "#8e0152"
            ],
            [
             0.1,
             "#c51b7d"
            ],
            [
             0.2,
             "#de77ae"
            ],
            [
             0.3,
             "#f1b6da"
            ],
            [
             0.4,
             "#fde0ef"
            ],
            [
             0.5,
             "#f7f7f7"
            ],
            [
             0.6,
             "#e6f5d0"
            ],
            [
             0.7,
             "#b8e186"
            ],
            [
             0.8,
             "#7fbc41"
            ],
            [
             0.9,
             "#4d9221"
            ],
            [
             1,
             "#276419"
            ]
           ]
          },
          "xaxis": {
           "gridcolor": "#283442",
           "linecolor": "#506784",
           "ticks": "",
           "title": {
            "standoff": 15
           },
           "zerolinecolor": "#283442",
           "automargin": true,
           "zerolinewidth": 2
          },
          "yaxis": {
           "gridcolor": "#283442",
           "linecolor": "#506784",
           "ticks": "",
           "title": {
            "standoff": 15
           },
           "zerolinecolor": "#283442",
           "automargin": true,
           "zerolinewidth": 2
          },
          "scene": {
           "xaxis": {
            "backgroundcolor": "rgb(17,17,17)",
            "gridcolor": "#506784",
            "linecolor": "#506784",
            "showbackground": true,
            "ticks": "",
            "zerolinecolor": "#C8D4E3",
            "gridwidth": 2
           },
           "yaxis": {
            "backgroundcolor": "rgb(17,17,17)",
            "gridcolor": "#506784",
            "linecolor": "#506784",
            "showbackground": true,
            "ticks": "",
            "zerolinecolor": "#C8D4E3",
            "gridwidth": 2
           },
           "zaxis": {
            "backgroundcolor": "rgb(17,17,17)",
            "gridcolor": "#506784",
            "linecolor": "#506784",
            "showbackground": true,
            "ticks": "",
            "zerolinecolor": "#C8D4E3",
            "gridwidth": 2
           }
          },
          "shapedefaults": {
           "line": {
            "color": "#f2f5fa"
           }
          },
          "annotationdefaults": {
           "arrowcolor": "#f2f5fa",
           "arrowhead": 0,
           "arrowwidth": 1
          },
          "geo": {
           "bgcolor": "rgb(17,17,17)",
           "landcolor": "rgb(17,17,17)",
           "subunitcolor": "#506784",
           "showland": true,
           "showlakes": true,
           "lakecolor": "rgb(17,17,17)"
          },
          "title": {
           "x": 0.05
          },
          "updatemenudefaults": {
           "bgcolor": "#506784",
           "borderwidth": 0
          },
          "sliderdefaults": {
           "bgcolor": "#C8D4E3",
           "borderwidth": 1,
           "bordercolor": "rgb(17,17,17)",
           "tickwidth": 0
          },
          "mapbox": {
           "style": "dark"
          }
         }
        }
       },
       "config": {
        "plotlyServerURL": "https://plot.ly"
       }
      }
     },
     "metadata": {},
     "output_type": "display_data"
    },
    {
     "data": {
      "application/vnd.plotly.v1+json": {
       "data": [
        {
         "labels": [
          "True",
          "False"
         ],
         "title": {
          "text": "Biscuits"
         },
         "values": [
          98,
          35
         ],
         "type": "pie",
         "domain": {
          "x": [
           0.0,
           0.2125
          ],
          "y": [
           0.0,
           1.0
          ]
         },
         "marker": {
          "colors": [
           "#ff6361",
           "#ffa600"
          ]
         },
         "hoverinfo": "label+value",
         "textinfo": "percent"
        },
        {
         "labels": [
          "True",
          "False"
         ],
         "title": {
          "text": "Personal Care"
         },
         "values": [
          292,
          18
         ],
         "type": "pie",
         "domain": {
          "x": [
           0.2625,
           0.475
          ],
          "y": [
           0.0,
           1.0
          ]
         },
         "marker": {
          "colors": [
           "#ff6361",
           "#ffa600"
          ]
         },
         "hoverinfo": "label+value",
         "textinfo": "percent"
        },
        {
         "labels": [
          "True",
          "False"
         ],
         "title": {
          "text": "Home & Cleaning"
         },
         "values": [
          169,
          16
         ],
         "type": "pie",
         "domain": {
          "x": [
           0.525,
           0.7375
          ],
          "y": [
           0.0,
           1.0
          ]
         },
         "marker": {
          "colors": [
           "#ff6361",
           "#ffa600"
          ]
         },
         "hoverinfo": "label+value",
         "textinfo": "percent"
        },
        {
         "labels": [
          "True",
          "False"
         ],
         "title": {
          "text": "Health & Hygiene"
         },
         "values": [
          56,
          3
         ],
         "type": "pie",
         "domain": {
          "x": [
           0.7875,
           1.0
          ],
          "y": [
           0.0,
           1.0
          ]
         },
         "marker": {
          "colors": [
           "#ff6361",
           "#ffa600"
          ]
         },
         "hoverinfo": "label+value",
         "textinfo": "percent"
        }
       ],
       "layout": {
        "template": {
         "data": {
          "histogram2dcontour": [
           {
            "type": "histogram2dcontour",
            "colorbar": {
             "outlinewidth": 0,
             "ticks": ""
            },
            "colorscale": [
             [
              0.0,
              "#0d0887"
             ],
             [
              0.1111111111111111,
              "#46039f"
             ],
             [
              0.2222222222222222,
              "#7201a8"
             ],
             [
              0.3333333333333333,
              "#9c179e"
             ],
             [
              0.4444444444444444,
              "#bd3786"
             ],
             [
              0.5555555555555556,
              "#d8576b"
             ],
             [
              0.6666666666666666,
              "#ed7953"
             ],
             [
              0.7777777777777778,
              "#fb9f3a"
             ],
             [
              0.8888888888888888,
              "#fdca26"
             ],
             [
              1.0,
              "#f0f921"
             ]
            ]
           }
          ],
          "choropleth": [
           {
            "type": "choropleth",
            "colorbar": {
             "outlinewidth": 0,
             "ticks": ""
            }
           }
          ],
          "histogram2d": [
           {
            "type": "histogram2d",
            "colorbar": {
             "outlinewidth": 0,
             "ticks": ""
            },
            "colorscale": [
             [
              0.0,
              "#0d0887"
             ],
             [
              0.1111111111111111,
              "#46039f"
             ],
             [
              0.2222222222222222,
              "#7201a8"
             ],
             [
              0.3333333333333333,
              "#9c179e"
             ],
             [
              0.4444444444444444,
              "#bd3786"
             ],
             [
              0.5555555555555556,
              "#d8576b"
             ],
             [
              0.6666666666666666,
              "#ed7953"
             ],
             [
              0.7777777777777778,
              "#fb9f3a"
             ],
             [
              0.8888888888888888,
              "#fdca26"
             ],
             [
              1.0,
              "#f0f921"
             ]
            ]
           }
          ],
          "heatmap": [
           {
            "type": "heatmap",
            "colorbar": {
             "outlinewidth": 0,
             "ticks": ""
            },
            "colorscale": [
             [
              0.0,
              "#0d0887"
             ],
             [
              0.1111111111111111,
              "#46039f"
             ],
             [
              0.2222222222222222,
              "#7201a8"
             ],
             [
              0.3333333333333333,
              "#9c179e"
             ],
             [
              0.4444444444444444,
              "#bd3786"
             ],
             [
              0.5555555555555556,
              "#d8576b"
             ],
             [
              0.6666666666666666,
              "#ed7953"
             ],
             [
              0.7777777777777778,
              "#fb9f3a"
             ],
             [
              0.8888888888888888,
              "#fdca26"
             ],
             [
              1.0,
              "#f0f921"
             ]
            ]
           }
          ],
          "contourcarpet": [
           {
            "type": "contourcarpet",
            "colorbar": {
             "outlinewidth": 0,
             "ticks": ""
            }
           }
          ],
          "contour": [
           {
            "type": "contour",
            "colorbar": {
             "outlinewidth": 0,
             "ticks": ""
            },
            "colorscale": [
             [
              0.0,
              "#0d0887"
             ],
             [
              0.1111111111111111,
              "#46039f"
             ],
             [
              0.2222222222222222,
              "#7201a8"
             ],
             [
              0.3333333333333333,
              "#9c179e"
             ],
             [
              0.4444444444444444,
              "#bd3786"
             ],
             [
              0.5555555555555556,
              "#d8576b"
             ],
             [
              0.6666666666666666,
              "#ed7953"
             ],
             [
              0.7777777777777778,
              "#fb9f3a"
             ],
             [
              0.8888888888888888,
              "#fdca26"
             ],
             [
              1.0,
              "#f0f921"
             ]
            ]
           }
          ],
          "surface": [
           {
            "type": "surface",
            "colorbar": {
             "outlinewidth": 0,
             "ticks": ""
            },
            "colorscale": [
             [
              0.0,
              "#0d0887"
             ],
             [
              0.1111111111111111,
              "#46039f"
             ],
             [
              0.2222222222222222,
              "#7201a8"
             ],
             [
              0.3333333333333333,
              "#9c179e"
             ],
             [
              0.4444444444444444,
              "#bd3786"
             ],
             [
              0.5555555555555556,
              "#d8576b"
             ],
             [
              0.6666666666666666,
              "#ed7953"
             ],
             [
              0.7777777777777778,
              "#fb9f3a"
             ],
             [
              0.8888888888888888,
              "#fdca26"
             ],
             [
              1.0,
              "#f0f921"
             ]
            ]
           }
          ],
          "mesh3d": [
           {
            "type": "mesh3d",
            "colorbar": {
             "outlinewidth": 0,
             "ticks": ""
            }
           }
          ],
          "scatter": [
           {
            "marker": {
             "line": {
              "color": "#283442"
             }
            },
            "type": "scatter"
           }
          ],
          "parcoords": [
           {
            "type": "parcoords",
            "line": {
             "colorbar": {
              "outlinewidth": 0,
              "ticks": ""
             }
            }
           }
          ],
          "scatterpolargl": [
           {
            "type": "scatterpolargl",
            "marker": {
             "colorbar": {
              "outlinewidth": 0,
              "ticks": ""
             }
            }
           }
          ],
          "bar": [
           {
            "error_x": {
             "color": "#f2f5fa"
            },
            "error_y": {
             "color": "#f2f5fa"
            },
            "marker": {
             "line": {
              "color": "rgb(17,17,17)",
              "width": 0.5
             },
             "pattern": {
              "fillmode": "overlay",
              "size": 10,
              "solidity": 0.2
             }
            },
            "type": "bar"
           }
          ],
          "scattergeo": [
           {
            "type": "scattergeo",
            "marker": {
             "colorbar": {
              "outlinewidth": 0,
              "ticks": ""
             }
            }
           }
          ],
          "scatterpolar": [
           {
            "type": "scatterpolar",
            "marker": {
             "colorbar": {
              "outlinewidth": 0,
              "ticks": ""
             }
            }
           }
          ],
          "histogram": [
           {
            "marker": {
             "pattern": {
              "fillmode": "overlay",
              "size": 10,
              "solidity": 0.2
             }
            },
            "type": "histogram"
           }
          ],
          "scattergl": [
           {
            "marker": {
             "line": {
              "color": "#283442"
             }
            },
            "type": "scattergl"
           }
          ],
          "scatter3d": [
           {
            "type": "scatter3d",
            "line": {
             "colorbar": {
              "outlinewidth": 0,
              "ticks": ""
             }
            },
            "marker": {
             "colorbar": {
              "outlinewidth": 0,
              "ticks": ""
             }
            }
           }
          ],
          "scattermap": [
           {
            "type": "scattermap",
            "marker": {
             "colorbar": {
              "outlinewidth": 0,
              "ticks": ""
             }
            }
           }
          ],
          "scattermapbox": [
           {
            "type": "scattermapbox",
            "marker": {
             "colorbar": {
              "outlinewidth": 0,
              "ticks": ""
             }
            }
           }
          ],
          "scatterternary": [
           {
            "type": "scatterternary",
            "marker": {
             "colorbar": {
              "outlinewidth": 0,
              "ticks": ""
             }
            }
           }
          ],
          "scattercarpet": [
           {
            "type": "scattercarpet",
            "marker": {
             "colorbar": {
              "outlinewidth": 0,
              "ticks": ""
             }
            }
           }
          ],
          "carpet": [
           {
            "aaxis": {
             "endlinecolor": "#A2B1C6",
             "gridcolor": "#506784",
             "linecolor": "#506784",
             "minorgridcolor": "#506784",
             "startlinecolor": "#A2B1C6"
            },
            "baxis": {
             "endlinecolor": "#A2B1C6",
             "gridcolor": "#506784",
             "linecolor": "#506784",
             "minorgridcolor": "#506784",
             "startlinecolor": "#A2B1C6"
            },
            "type": "carpet"
           }
          ],
          "table": [
           {
            "cells": {
             "fill": {
              "color": "#506784"
             },
             "line": {
              "color": "rgb(17,17,17)"
             }
            },
            "header": {
             "fill": {
              "color": "#2a3f5f"
             },
             "line": {
              "color": "rgb(17,17,17)"
             }
            },
            "type": "table"
           }
          ],
          "barpolar": [
           {
            "marker": {
             "line": {
              "color": "rgb(17,17,17)",
              "width": 0.5
             },
             "pattern": {
              "fillmode": "overlay",
              "size": 10,
              "solidity": 0.2
             }
            },
            "type": "barpolar"
           }
          ],
          "pie": [
           {
            "automargin": true,
            "type": "pie"
           }
          ]
         },
         "layout": {
          "autotypenumbers": "strict",
          "colorway": [
           "#636efa",
           "#EF553B",
           "#00cc96",
           "#ab63fa",
           "#FFA15A",
           "#19d3f3",
           "#FF6692",
           "#B6E880",
           "#FF97FF",
           "#FECB52"
          ],
          "font": {
           "color": "#f2f5fa"
          },
          "hovermode": "closest",
          "hoverlabel": {
           "align": "left"
          },
          "paper_bgcolor": "rgb(17,17,17)",
          "plot_bgcolor": "rgb(17,17,17)",
          "polar": {
           "bgcolor": "rgb(17,17,17)",
           "angularaxis": {
            "gridcolor": "#506784",
            "linecolor": "#506784",
            "ticks": ""
           },
           "radialaxis": {
            "gridcolor": "#506784",
            "linecolor": "#506784",
            "ticks": ""
           }
          },
          "ternary": {
           "bgcolor": "rgb(17,17,17)",
           "aaxis": {
            "gridcolor": "#506784",
            "linecolor": "#506784",
            "ticks": ""
           },
           "baxis": {
            "gridcolor": "#506784",
            "linecolor": "#506784",
            "ticks": ""
           },
           "caxis": {
            "gridcolor": "#506784",
            "linecolor": "#506784",
            "ticks": ""
           }
          },
          "coloraxis": {
           "colorbar": {
            "outlinewidth": 0,
            "ticks": ""
           }
          },
          "colorscale": {
           "sequential": [
            [
             0.0,
             "#0d0887"
            ],
            [
             0.1111111111111111,
             "#46039f"
            ],
            [
             0.2222222222222222,
             "#7201a8"
            ],
            [
             0.3333333333333333,
             "#9c179e"
            ],
            [
             0.4444444444444444,
             "#bd3786"
            ],
            [
             0.5555555555555556,
             "#d8576b"
            ],
            [
             0.6666666666666666,
             "#ed7953"
            ],
            [
             0.7777777777777778,
             "#fb9f3a"
            ],
            [
             0.8888888888888888,
             "#fdca26"
            ],
            [
             1.0,
             "#f0f921"
            ]
           ],
           "sequentialminus": [
            [
             0.0,
             "#0d0887"
            ],
            [
             0.1111111111111111,
             "#46039f"
            ],
            [
             0.2222222222222222,
             "#7201a8"
            ],
            [
             0.3333333333333333,
             "#9c179e"
            ],
            [
             0.4444444444444444,
             "#bd3786"
            ],
            [
             0.5555555555555556,
             "#d8576b"
            ],
            [
             0.6666666666666666,
             "#ed7953"
            ],
            [
             0.7777777777777778,
             "#fb9f3a"
            ],
            [
             0.8888888888888888,
             "#fdca26"
            ],
            [
             1.0,
             "#f0f921"
            ]
           ],
           "diverging": [
            [
             0,
             "#8e0152"
            ],
            [
             0.1,
             "#c51b7d"
            ],
            [
             0.2,
             "#de77ae"
            ],
            [
             0.3,
             "#f1b6da"
            ],
            [
             0.4,
             "#fde0ef"
            ],
            [
             0.5,
             "#f7f7f7"
            ],
            [
             0.6,
             "#e6f5d0"
            ],
            [
             0.7,
             "#b8e186"
            ],
            [
             0.8,
             "#7fbc41"
            ],
            [
             0.9,
             "#4d9221"
            ],
            [
             1,
             "#276419"
            ]
           ]
          },
          "xaxis": {
           "gridcolor": "#283442",
           "linecolor": "#506784",
           "ticks": "",
           "title": {
            "standoff": 15
           },
           "zerolinecolor": "#283442",
           "automargin": true,
           "zerolinewidth": 2
          },
          "yaxis": {
           "gridcolor": "#283442",
           "linecolor": "#506784",
           "ticks": "",
           "title": {
            "standoff": 15
           },
           "zerolinecolor": "#283442",
           "automargin": true,
           "zerolinewidth": 2
          },
          "scene": {
           "xaxis": {
            "backgroundcolor": "rgb(17,17,17)",
            "gridcolor": "#506784",
            "linecolor": "#506784",
            "showbackground": true,
            "ticks": "",
            "zerolinecolor": "#C8D4E3",
            "gridwidth": 2
           },
           "yaxis": {
            "backgroundcolor": "rgb(17,17,17)",
            "gridcolor": "#506784",
            "linecolor": "#506784",
            "showbackground": true,
            "ticks": "",
            "zerolinecolor": "#C8D4E3",
            "gridwidth": 2
           },
           "zaxis": {
            "backgroundcolor": "rgb(17,17,17)",
            "gridcolor": "#506784",
            "linecolor": "#506784",
            "showbackground": true,
            "ticks": "",
            "zerolinecolor": "#C8D4E3",
            "gridwidth": 2
           }
          },
          "shapedefaults": {
           "line": {
            "color": "#f2f5fa"
           }
          },
          "annotationdefaults": {
           "arrowcolor": "#f2f5fa",
           "arrowhead": 0,
           "arrowwidth": 1
          },
          "geo": {
           "bgcolor": "rgb(17,17,17)",
           "landcolor": "rgb(17,17,17)",
           "subunitcolor": "#506784",
           "showland": true,
           "showlakes": true,
           "lakecolor": "rgb(17,17,17)"
          },
          "title": {
           "x": 0.05
          },
          "updatemenudefaults": {
           "bgcolor": "#506784",
           "borderwidth": 0
          },
          "sliderdefaults": {
           "bgcolor": "#C8D4E3",
           "borderwidth": 1,
           "bordercolor": "rgb(17,17,17)",
           "tickwidth": 0
          },
          "mapbox": {
           "style": "dark"
          }
         }
        }
       },
       "config": {
        "plotlyServerURL": "https://plot.ly"
       }
      }
     },
     "metadata": {},
     "output_type": "display_data"
    }
   ],
   "execution_count": 158,
   "source": [
    "uniqueCategories = dfN['Category'].unique()\n",
    "n, m = 1, 1\n",
    "colorPie = ['#ff6361','#ffa600']\n",
    "subFig1 = mks(rows=1, cols=5, specs=[[{\"type\": \"pie\"}, {\"type\": \"pie\"}, {\"type\": \"pie\"}, {\"type\": \"pie\"}, {\"type\": \"pie\"}]])\n",
    "subFig2 = mks(rows=1, cols=4, specs=[[{\"type\": \"pie\"}, {\"type\": \"pie\"}, {\"type\": \"pie\"}, {\"type\": \"pie\"}]])\n",
    "\n",
    "# for value in uniqueCategories:\n",
    "for value in uniqueCategories:\n",
    "    if n<=5:\n",
    "        dfTemp = dfN[dfN['Category'] == f'{value}']\n",
    "        # figPie = px.pie(dfTemp, names='outOfStock', color ='outOfStock', color_discrete_sequence=colors[n:n+2], template='plotly_dark', width=500, title=f'{value}')\n",
    "        countBool = dfTemp['outOfStock'].value_counts().tolist()\n",
    "        subFig1.add_trace(\n",
    "            go.Pie(values=countBool, labels=['True', 'False'], title=f'{value}'),\n",
    "            row=1, col=n).update_traces(hoverinfo='label+value', textinfo='percent', marker=dict(colors=colorPie))\n",
    "        n+=1\n",
    "        print(f'The Probability of being out of stock for {value} is : ', round(((countBool[1]/countBool[0])*100), 5), '%')\n",
    "    else:\n",
    "        dfTemp = dfN[dfN['Category'] == f'{value}']\n",
    "        countBool = dfTemp['outOfStock'].value_counts().tolist()\n",
    "        print(f'The Probability of being out of stock for {value} is : ', round(((countBool[1]/countBool[0])*100), 5), '%')\n",
    "        subFig2.add_trace(\n",
    "            go.Pie(values=countBool, labels=['True', 'False'], title=f'{value}'),\n",
    "            row=1, col=m).update_traces(hoverinfo='label+value', textinfo='percent', marker=dict(colors=colorPie))\n",
    "        m+=1\n",
    "subFig1.show()\n",
    "subFig2.show()\n",
    "\n",
    "# f.show()"
   ],
   "id": "4e5af012ca7ac2d0"
  },
  {
   "metadata": {
    "ExecuteTime": {
     "end_time": "2025-06-07T15:21:27.421740Z",
     "start_time": "2025-06-07T15:21:27.419037Z"
    }
   },
   "cell_type": "code",
   "outputs": [],
   "execution_count": 153,
   "source": [
    "# fig = px.pie(dfN, names='outOfStock', color ='outOfStock', color_discrete_sequence=colors, template='plotly_dark')\n",
    "# countBool = dfN['outOfStock'].value_counts().tolist()\n",
    "# print(countBool)\n",
    "# print(f'The Probability of being out of stock for overall is : ', round(((countBool[1]/countBool[0])*100), 5), '%')\n",
    "# fig.show()"
   ],
   "id": "2038b56c12fe5b7f"
  },
  {
   "metadata": {
    "ExecuteTime": {
     "end_time": "2025-06-07T15:24:24.667188Z",
     "start_time": "2025-06-07T15:24:24.630997Z"
    }
   },
   "cell_type": "code",
   "outputs": [
    {
     "data": {
      "application/vnd.plotly.v1+json": {
       "data": [
        {
         "customdata": {
          "dtype": "i1",
          "bdata": "AwMDAwMDAwMDAwMDAwMDAwMDAwMDAwMDAwMDAwMDAwMDAwMDAwMDAwMDAwMDAwMDAwMDBgYDAwMDAwMGAwMDAwMCAwMDAwMGAwYGAwICAwIDAwMDAwAAAAAGBgYEBgYGBAYGBgYGBgQGAwYCBgYEBgYGAQYGAwMGBgQGBAYBBgYGBgIGBgYDBgQGAwYEBgUFBgIGAwYEAgYGAQYBBgYEBgYGAwYEBgYGAgIGBgYGAwECBgQFBgQBBQYGBgMGBgUGAwIGBQUCBgYBBAIGBgYGAgEBAgUCBgYBAwIGBgUGBAEGBgIEBgQEBQMEBQYFAQYGBgUBBgYBBgMFAgYGBgYEAQYGBgIGAgIGBgYBAwEGAgYFBgYFBgMCAwIEAwMGBgYGBgYGBAYGBgYDAwYGBgEGBQYGBgQFAwQEAwYGBQMGBAUEBQQEBgIFBgYFBgYDBgMFBAYGBQUGBgUEBgQGAQUBBgUCBgYGBgUGAwUEBgYGAQUEBgYGBQMFBQUGBgYGBQQGAgYFBgQFBQYEBgUEBQYGBQYEAgYGBgYGBgIFBgYGBQYGBgYGBQYGAQYGBQYGBgYGBgYDBgYGBgYGBgQGBgYGBgYGBgYEBQIGBgYGBAUGBgYGBgYBBgQFBgYGBgYGBgYGBgYGBgYGBgMGAQYGBgQGBgYGAgYGBgYGBgYEBgEAAAAAAAAAAAAAAAAAAAAAAAAAAAAAAAAAAAAAAAAAAAAAAAAAAAAAAAAAAAAAAAAAAAAAAAAAAAAABAYEBgQGBAQGBgQGBAYGAwYGAQQGBgYGBAYBBgUFBgYBAQMBBgUGBAQEBgEGBgIEBgQFBAYEBgYGBgQGBgYEBgQFBgEGBgYGBgYGBgYBBgYGBAYAAAAAAAAAAAAAAAAAAAAAAAAAAAAAAAAABAYGBgYGAgEFBQQBAQYDBgEGAQYDAwIFBgYFAgIGBgEFBAYBBgYGAQYEBgYGAQQGBgYGBQQFBAYGBQEBAgYGBQYGAgYGAwYDAgQGBgQCBgYEBAMDAwYGBgUBAQUGBgEGAwYDBAEDBAMGBgEDBgYGBgYGBgEEBgUGBAIGBgQGBgYGBQUFBgYBBgYEAQMGBAUCBAYBAgUGBQYCBAICBgMEBgMGAwYFBQMGBgUFBgMGAQYBAQQGBQQFAgUFBgYGAQQGBgMGAQMBBQYEBQYFAQUGBgYGAQYCBgUGAQMBBQIGBgYFBgYGBgYGBgYFBQYGBgQEBgEGBgQGBgIGBgYGBQYGAgYEBgMFAAAAAAAAAAAAAAAAAAAAAAAAAAAAAAAAAAAEAwMBBgEDAQECAgEBAgEBAwEBAQEBAQEBAAAAAAAAAAYGBAEFAQUDBAUDBgIDAwIDBgQGAQIFBgQGAwMBAwUGAgYGAwQEAQMGBgMEBgYGBgQGAgYDBgYDAwQEBgYGAgUGBgYCBgMBAQYEBgUGBgYEBgYDAgQGBQYGBgYGAwYCBgEEAAAAAAAAAAAAAAAAAAAAAAAAAAAAAAAAAAAAAAAAAAAAAAADBgYGBgYGAgYGAgYGBgYEBgMDBgYEBgEGBgEFBgQDBgQFBAIGBgIGBgUEAgIGBgYEBgYGBgUCBgYDAwMFAwYGBgEGBgYGBQQCBgMBBAYBBQYDAwYGAgMGBgQEAQQDBgEEBQYEAgIGBAYFBgQDBAQEBQYGBAMFAQUCBgMFBQUGBgQGBAMEBgYFBgYEBAIDBgMGBQUDAQYDAgYGBgQDBgUBBgEGAwEGBgYGBQQDBgMFBgYGBQUCBAUEBgEGAQYEBgIGBgMGBAYEBgQGBgYFBgYBBgYEBQIFBQYBBQIGBAYGBAYEAgUGBgMGBgYBBgYCBQQDBAMGBgYDBgYEBgUBAwYEBQEGAwQBBgEGBgYCBgYGBgYGBAEGBgQBBgYBAgYGBgECBAYEAAAAAAAAAAAAAAAAAAAAAAAAAQYGAgQGAwQBBgYGBgYGBgQGBgEEAgYGBgYCAQIFBgQGBgQGBgYGBgYGBgYGBgYDBgYGBQEBBAQEBAYGAgIGAwQBAwEEAwMDAgMGBgUGAQYGBQYEBgQGBgQFAQYGBgMGBgYGBgECBgYCBgYGAQYGBgYGBgQGBgYGBgYGBQYGBgQEBgQGBgYFAQQGBgIGBgUFBgUCBgYGBgYGBgYGAQQEBgEGBQYGAwYGBgAAAAAAAAAAAAAAAAAAAAAGBgYGBgIEBgYGAgYGBgQGBgYGBQYCBgYGAwYGBgYGBgEGBgYGBgYEBgYGBgQGBAYGAQYBAgYBBgAAAA==",
          "shape": "1681, 1"
         },
         "domain": {
          "x": [
           0.0,
           1.0
          ],
          "y": [
           0.0,
           1.0
          ]
         },
         "hovertemplate": "availableQuantity=%{customdata[0]}<extra></extra>",
         "labels": {
          "dtype": "i1",
          "bdata": "AwMDAwMDAwMDAwMDAwMDAwMDAwMDAwMDAwMDAwMDAwMDAwMDAwMDAwMDAwMDAwMDAwMDBgYDAwMDAwMGAwMDAwMCAwMDAwMGAwYGAwICAwIDAwMDAwAAAAAGBgYEBgYGBAYGBgYGBgQGAwYCBgYEBgYGAQYGAwMGBgQGBAYBBgYGBgIGBgYDBgQGAwYEBgUFBgIGAwYEAgYGAQYBBgYEBgYGAwYEBgYGAgIGBgYGAwECBgQFBgQBBQYGBgMGBgUGAwIGBQUCBgYBBAIGBgYGAgEBAgUCBgYBAwIGBgUGBAEGBgIEBgQEBQMEBQYFAQYGBgUBBgYBBgMFAgYGBgYEAQYGBgIGAgIGBgYBAwEGAgYFBgYFBgMCAwIEAwMGBgYGBgYGBAYGBgYDAwYGBgEGBQYGBgQFAwQEAwYGBQMGBAUEBQQEBgIFBgYFBgYDBgMFBAYGBQUGBgUEBgQGAQUBBgUCBgYGBgUGAwUEBgYGAQUEBgYGBQMFBQUGBgYGBQQGAgYFBgQFBQYEBgUEBQYGBQYEAgYGBgYGBgIFBgYGBQYGBgYGBQYGAQYGBQYGBgYGBgYDBgYGBgYGBgQGBgYGBgYGBgYEBQIGBgYGBAUGBgYGBgYBBgQFBgYGBgYGBgYGBgYGBgYGBgMGAQYGBgQGBgYGAgYGBgYGBgYEBgEAAAAAAAAAAAAAAAAAAAAAAAAAAAAAAAAAAAAAAAAAAAAAAAAAAAAAAAAAAAAAAAAAAAAAAAAAAAAABAYEBgQGBAQGBgQGBAYGAwYGAQQGBgYGBAYBBgUFBgYBAQMBBgUGBAQEBgEGBgIEBgQFBAYEBgYGBgQGBgYEBgQFBgEGBgYGBgYGBgYBBgYGBAYAAAAAAAAAAAAAAAAAAAAAAAAAAAAAAAAABAYGBgYGAgEFBQQBAQYDBgEGAQYDAwIFBgYFAgIGBgEFBAYBBgYGAQYEBgYGAQQGBgYGBQQFBAYGBQEBAgYGBQYGAgYGAwYDAgQGBgQCBgYEBAMDAwYGBgUBAQUGBgEGAwYDBAEDBAMGBgEDBgYGBgYGBgEEBgUGBAIGBgQGBgYGBQUFBgYBBgYEAQMGBAUCBAYBAgUGBQYCBAICBgMEBgMGAwYFBQMGBgUFBgMGAQYBAQQGBQQFAgUFBgYGAQQGBgMGAQMBBQYEBQYFAQUGBgYGAQYCBgUGAQMBBQIGBgYFBgYGBgYGBgYFBQYGBgQEBgEGBgQGBgIGBgYGBQYGAgYEBgMFAAAAAAAAAAAAAAAAAAAAAAAAAAAAAAAAAAAEAwMBBgEDAQECAgEBAgEBAwEBAQEBAQEBAAAAAAAAAAYGBAEFAQUDBAUDBgIDAwIDBgQGAQIFBgQGAwMBAwUGAgYGAwQEAQMGBgMEBgYGBgQGAgYDBgYDAwQEBgYGAgUGBgYCBgMBAQYEBgUGBgYEBgYDAgQGBQYGBgYGAwYCBgEEAAAAAAAAAAAAAAAAAAAAAAAAAAAAAAAAAAAAAAAAAAAAAAADBgYGBgYGAgYGAgYGBgYEBgMDBgYEBgEGBgEFBgQDBgQFBAIGBgIGBgUEAgIGBgYEBgYGBgUCBgYDAwMFAwYGBgEGBgYGBQQCBgMBBAYBBQYDAwYGAgMGBgQEAQQDBgEEBQYEAgIGBAYFBgQDBAQEBQYGBAMFAQUCBgMFBQUGBgQGBAMEBgYFBgYEBAIDBgMGBQUDAQYDAgYGBgQDBgUBBgEGAwEGBgYGBQQDBgMFBgYGBQUCBAUEBgEGAQYEBgIGBgMGBAYEBgQGBgYFBgYBBgYEBQIFBQYBBQIGBAYGBAYEAgUGBgMGBgYBBgYCBQQDBAMGBgYDBgYEBgUBAwYEBQEGAwQBBgEGBgYCBgYGBgYGBAEGBgQBBgYBAgYGBgECBAYEAAAAAAAAAAAAAAAAAAAAAAAAAQYGAgQGAwQBBgYGBgYGBgQGBgEEAgYGBgYCAQIFBgQGBgQGBgYGBgYGBgYGBgYDBgYGBQEBBAQEBAYGAgIGAwQBAwEEAwMDAgMGBgUGAQYGBQYEBgQGBgQFAQYGBgMGBgYGBgECBgYCBgYGAQYGBgYGBgQGBgYGBgYGBQYGBgQEBgQGBgYFAQQGBgIGBgUFBgUCBgYGBgYGBgYGAQQEBgEGBQYGAwYGBgAAAAAAAAAAAAAAAAAAAAAGBgYGBgIEBgYGAgYGBgQGBgYGBQYCBgYGAwYGBgYGBgEGBgYGBgYEBgYGBgQGBAYGAQYBAgYBBgAAAA=="
         },
         "legendgroup": "",
         "marker": {
          "colors": [
           "#ff6361",
           "#ffa600"
          ]
         },
         "name": "",
         "showlegend": true,
         "type": "pie",
         "hoverinfo": "label+value",
         "textinfo": "percent"
        }
       ],
       "layout": {
        "template": {
         "data": {
          "histogram2dcontour": [
           {
            "type": "histogram2dcontour",
            "colorbar": {
             "outlinewidth": 0,
             "ticks": ""
            },
            "colorscale": [
             [
              0.0,
              "#0d0887"
             ],
             [
              0.1111111111111111,
              "#46039f"
             ],
             [
              0.2222222222222222,
              "#7201a8"
             ],
             [
              0.3333333333333333,
              "#9c179e"
             ],
             [
              0.4444444444444444,
              "#bd3786"
             ],
             [
              0.5555555555555556,
              "#d8576b"
             ],
             [
              0.6666666666666666,
              "#ed7953"
             ],
             [
              0.7777777777777778,
              "#fb9f3a"
             ],
             [
              0.8888888888888888,
              "#fdca26"
             ],
             [
              1.0,
              "#f0f921"
             ]
            ]
           }
          ],
          "choropleth": [
           {
            "type": "choropleth",
            "colorbar": {
             "outlinewidth": 0,
             "ticks": ""
            }
           }
          ],
          "histogram2d": [
           {
            "type": "histogram2d",
            "colorbar": {
             "outlinewidth": 0,
             "ticks": ""
            },
            "colorscale": [
             [
              0.0,
              "#0d0887"
             ],
             [
              0.1111111111111111,
              "#46039f"
             ],
             [
              0.2222222222222222,
              "#7201a8"
             ],
             [
              0.3333333333333333,
              "#9c179e"
             ],
             [
              0.4444444444444444,
              "#bd3786"
             ],
             [
              0.5555555555555556,
              "#d8576b"
             ],
             [
              0.6666666666666666,
              "#ed7953"
             ],
             [
              0.7777777777777778,
              "#fb9f3a"
             ],
             [
              0.8888888888888888,
              "#fdca26"
             ],
             [
              1.0,
              "#f0f921"
             ]
            ]
           }
          ],
          "heatmap": [
           {
            "type": "heatmap",
            "colorbar": {
             "outlinewidth": 0,
             "ticks": ""
            },
            "colorscale": [
             [
              0.0,
              "#0d0887"
             ],
             [
              0.1111111111111111,
              "#46039f"
             ],
             [
              0.2222222222222222,
              "#7201a8"
             ],
             [
              0.3333333333333333,
              "#9c179e"
             ],
             [
              0.4444444444444444,
              "#bd3786"
             ],
             [
              0.5555555555555556,
              "#d8576b"
             ],
             [
              0.6666666666666666,
              "#ed7953"
             ],
             [
              0.7777777777777778,
              "#fb9f3a"
             ],
             [
              0.8888888888888888,
              "#fdca26"
             ],
             [
              1.0,
              "#f0f921"
             ]
            ]
           }
          ],
          "contourcarpet": [
           {
            "type": "contourcarpet",
            "colorbar": {
             "outlinewidth": 0,
             "ticks": ""
            }
           }
          ],
          "contour": [
           {
            "type": "contour",
            "colorbar": {
             "outlinewidth": 0,
             "ticks": ""
            },
            "colorscale": [
             [
              0.0,
              "#0d0887"
             ],
             [
              0.1111111111111111,
              "#46039f"
             ],
             [
              0.2222222222222222,
              "#7201a8"
             ],
             [
              0.3333333333333333,
              "#9c179e"
             ],
             [
              0.4444444444444444,
              "#bd3786"
             ],
             [
              0.5555555555555556,
              "#d8576b"
             ],
             [
              0.6666666666666666,
              "#ed7953"
             ],
             [
              0.7777777777777778,
              "#fb9f3a"
             ],
             [
              0.8888888888888888,
              "#fdca26"
             ],
             [
              1.0,
              "#f0f921"
             ]
            ]
           }
          ],
          "surface": [
           {
            "type": "surface",
            "colorbar": {
             "outlinewidth": 0,
             "ticks": ""
            },
            "colorscale": [
             [
              0.0,
              "#0d0887"
             ],
             [
              0.1111111111111111,
              "#46039f"
             ],
             [
              0.2222222222222222,
              "#7201a8"
             ],
             [
              0.3333333333333333,
              "#9c179e"
             ],
             [
              0.4444444444444444,
              "#bd3786"
             ],
             [
              0.5555555555555556,
              "#d8576b"
             ],
             [
              0.6666666666666666,
              "#ed7953"
             ],
             [
              0.7777777777777778,
              "#fb9f3a"
             ],
             [
              0.8888888888888888,
              "#fdca26"
             ],
             [
              1.0,
              "#f0f921"
             ]
            ]
           }
          ],
          "mesh3d": [
           {
            "type": "mesh3d",
            "colorbar": {
             "outlinewidth": 0,
             "ticks": ""
            }
           }
          ],
          "scatter": [
           {
            "marker": {
             "line": {
              "color": "#283442"
             }
            },
            "type": "scatter"
           }
          ],
          "parcoords": [
           {
            "type": "parcoords",
            "line": {
             "colorbar": {
              "outlinewidth": 0,
              "ticks": ""
             }
            }
           }
          ],
          "scatterpolargl": [
           {
            "type": "scatterpolargl",
            "marker": {
             "colorbar": {
              "outlinewidth": 0,
              "ticks": ""
             }
            }
           }
          ],
          "bar": [
           {
            "error_x": {
             "color": "#f2f5fa"
            },
            "error_y": {
             "color": "#f2f5fa"
            },
            "marker": {
             "line": {
              "color": "rgb(17,17,17)",
              "width": 0.5
             },
             "pattern": {
              "fillmode": "overlay",
              "size": 10,
              "solidity": 0.2
             }
            },
            "type": "bar"
           }
          ],
          "scattergeo": [
           {
            "type": "scattergeo",
            "marker": {
             "colorbar": {
              "outlinewidth": 0,
              "ticks": ""
             }
            }
           }
          ],
          "scatterpolar": [
           {
            "type": "scatterpolar",
            "marker": {
             "colorbar": {
              "outlinewidth": 0,
              "ticks": ""
             }
            }
           }
          ],
          "histogram": [
           {
            "marker": {
             "pattern": {
              "fillmode": "overlay",
              "size": 10,
              "solidity": 0.2
             }
            },
            "type": "histogram"
           }
          ],
          "scattergl": [
           {
            "marker": {
             "line": {
              "color": "#283442"
             }
            },
            "type": "scattergl"
           }
          ],
          "scatter3d": [
           {
            "type": "scatter3d",
            "line": {
             "colorbar": {
              "outlinewidth": 0,
              "ticks": ""
             }
            },
            "marker": {
             "colorbar": {
              "outlinewidth": 0,
              "ticks": ""
             }
            }
           }
          ],
          "scattermap": [
           {
            "type": "scattermap",
            "marker": {
             "colorbar": {
              "outlinewidth": 0,
              "ticks": ""
             }
            }
           }
          ],
          "scattermapbox": [
           {
            "type": "scattermapbox",
            "marker": {
             "colorbar": {
              "outlinewidth": 0,
              "ticks": ""
             }
            }
           }
          ],
          "scatterternary": [
           {
            "type": "scatterternary",
            "marker": {
             "colorbar": {
              "outlinewidth": 0,
              "ticks": ""
             }
            }
           }
          ],
          "scattercarpet": [
           {
            "type": "scattercarpet",
            "marker": {
             "colorbar": {
              "outlinewidth": 0,
              "ticks": ""
             }
            }
           }
          ],
          "carpet": [
           {
            "aaxis": {
             "endlinecolor": "#A2B1C6",
             "gridcolor": "#506784",
             "linecolor": "#506784",
             "minorgridcolor": "#506784",
             "startlinecolor": "#A2B1C6"
            },
            "baxis": {
             "endlinecolor": "#A2B1C6",
             "gridcolor": "#506784",
             "linecolor": "#506784",
             "minorgridcolor": "#506784",
             "startlinecolor": "#A2B1C6"
            },
            "type": "carpet"
           }
          ],
          "table": [
           {
            "cells": {
             "fill": {
              "color": "#506784"
             },
             "line": {
              "color": "rgb(17,17,17)"
             }
            },
            "header": {
             "fill": {
              "color": "#2a3f5f"
             },
             "line": {
              "color": "rgb(17,17,17)"
             }
            },
            "type": "table"
           }
          ],
          "barpolar": [
           {
            "marker": {
             "line": {
              "color": "rgb(17,17,17)",
              "width": 0.5
             },
             "pattern": {
              "fillmode": "overlay",
              "size": 10,
              "solidity": 0.2
             }
            },
            "type": "barpolar"
           }
          ],
          "pie": [
           {
            "automargin": true,
            "type": "pie"
           }
          ]
         },
         "layout": {
          "autotypenumbers": "strict",
          "colorway": [
           "#636efa",
           "#EF553B",
           "#00cc96",
           "#ab63fa",
           "#FFA15A",
           "#19d3f3",
           "#FF6692",
           "#B6E880",
           "#FF97FF",
           "#FECB52"
          ],
          "font": {
           "color": "#f2f5fa"
          },
          "hovermode": "closest",
          "hoverlabel": {
           "align": "left"
          },
          "paper_bgcolor": "rgb(17,17,17)",
          "plot_bgcolor": "rgb(17,17,17)",
          "polar": {
           "bgcolor": "rgb(17,17,17)",
           "angularaxis": {
            "gridcolor": "#506784",
            "linecolor": "#506784",
            "ticks": ""
           },
           "radialaxis": {
            "gridcolor": "#506784",
            "linecolor": "#506784",
            "ticks": ""
           }
          },
          "ternary": {
           "bgcolor": "rgb(17,17,17)",
           "aaxis": {
            "gridcolor": "#506784",
            "linecolor": "#506784",
            "ticks": ""
           },
           "baxis": {
            "gridcolor": "#506784",
            "linecolor": "#506784",
            "ticks": ""
           },
           "caxis": {
            "gridcolor": "#506784",
            "linecolor": "#506784",
            "ticks": ""
           }
          },
          "coloraxis": {
           "colorbar": {
            "outlinewidth": 0,
            "ticks": ""
           }
          },
          "colorscale": {
           "sequential": [
            [
             0.0,
             "#0d0887"
            ],
            [
             0.1111111111111111,
             "#46039f"
            ],
            [
             0.2222222222222222,
             "#7201a8"
            ],
            [
             0.3333333333333333,
             "#9c179e"
            ],
            [
             0.4444444444444444,
             "#bd3786"
            ],
            [
             0.5555555555555556,
             "#d8576b"
            ],
            [
             0.6666666666666666,
             "#ed7953"
            ],
            [
             0.7777777777777778,
             "#fb9f3a"
            ],
            [
             0.8888888888888888,
             "#fdca26"
            ],
            [
             1.0,
             "#f0f921"
            ]
           ],
           "sequentialminus": [
            [
             0.0,
             "#0d0887"
            ],
            [
             0.1111111111111111,
             "#46039f"
            ],
            [
             0.2222222222222222,
             "#7201a8"
            ],
            [
             0.3333333333333333,
             "#9c179e"
            ],
            [
             0.4444444444444444,
             "#bd3786"
            ],
            [
             0.5555555555555556,
             "#d8576b"
            ],
            [
             0.6666666666666666,
             "#ed7953"
            ],
            [
             0.7777777777777778,
             "#fb9f3a"
            ],
            [
             0.8888888888888888,
             "#fdca26"
            ],
            [
             1.0,
             "#f0f921"
            ]
           ],
           "diverging": [
            [
             0,
             "#8e0152"
            ],
            [
             0.1,
             "#c51b7d"
            ],
            [
             0.2,
             "#de77ae"
            ],
            [
             0.3,
             "#f1b6da"
            ],
            [
             0.4,
             "#fde0ef"
            ],
            [
             0.5,
             "#f7f7f7"
            ],
            [
             0.6,
             "#e6f5d0"
            ],
            [
             0.7,
             "#b8e186"
            ],
            [
             0.8,
             "#7fbc41"
            ],
            [
             0.9,
             "#4d9221"
            ],
            [
             1,
             "#276419"
            ]
           ]
          },
          "xaxis": {
           "gridcolor": "#283442",
           "linecolor": "#506784",
           "ticks": "",
           "title": {
            "standoff": 15
           },
           "zerolinecolor": "#283442",
           "automargin": true,
           "zerolinewidth": 2
          },
          "yaxis": {
           "gridcolor": "#283442",
           "linecolor": "#506784",
           "ticks": "",
           "title": {
            "standoff": 15
           },
           "zerolinecolor": "#283442",
           "automargin": true,
           "zerolinewidth": 2
          },
          "scene": {
           "xaxis": {
            "backgroundcolor": "rgb(17,17,17)",
            "gridcolor": "#506784",
            "linecolor": "#506784",
            "showbackground": true,
            "ticks": "",
            "zerolinecolor": "#C8D4E3",
            "gridwidth": 2
           },
           "yaxis": {
            "backgroundcolor": "rgb(17,17,17)",
            "gridcolor": "#506784",
            "linecolor": "#506784",
            "showbackground": true,
            "ticks": "",
            "zerolinecolor": "#C8D4E3",
            "gridwidth": 2
           },
           "zaxis": {
            "backgroundcolor": "rgb(17,17,17)",
            "gridcolor": "#506784",
            "linecolor": "#506784",
            "showbackground": true,
            "ticks": "",
            "zerolinecolor": "#C8D4E3",
            "gridwidth": 2
           }
          },
          "shapedefaults": {
           "line": {
            "color": "#f2f5fa"
           }
          },
          "annotationdefaults": {
           "arrowcolor": "#f2f5fa",
           "arrowhead": 0,
           "arrowwidth": 1
          },
          "geo": {
           "bgcolor": "rgb(17,17,17)",
           "landcolor": "rgb(17,17,17)",
           "subunitcolor": "#506784",
           "showland": true,
           "showlakes": true,
           "lakecolor": "rgb(17,17,17)"
          },
          "title": {
           "x": 0.05
          },
          "updatemenudefaults": {
           "bgcolor": "#506784",
           "borderwidth": 0
          },
          "sliderdefaults": {
           "bgcolor": "#C8D4E3",
           "borderwidth": 1,
           "bordercolor": "rgb(17,17,17)",
           "tickwidth": 0
          },
          "mapbox": {
           "style": "dark"
          }
         }
        },
        "legend": {
         "tracegroupgap": 0
        },
        "margin": {
         "t": 60
        },
        "piecolorway": [
         "#4E79A7",
         "#F28E2B",
         "#E15759",
         "#76B7B2",
         "#59A14F",
         "#EDC949",
         "#AF7AA1",
         "#FF9DA7",
         "#9C755F",
         "#BAB0AC",
         "#1F77B4",
         "#FF7F0E",
         "#2CA02C",
         "#D62728",
         "#9467BD"
        ]
       },
       "config": {
        "plotlyServerURL": "https://plot.ly"
       }
      }
     },
     "metadata": {},
     "output_type": "display_data"
    }
   ],
   "execution_count": 160,
   "source": [
    "fig = px.pie(dfN, names='availableQuantity', color = 'availableQuantity', color_discrete_sequence=colors, template='plotly_dark').update_traces(hoverinfo='label+value', textinfo='percent', marker=dict(colors=colorPie))\n",
    "fig.show()"
   ],
   "id": "b594ebc35714b003"
  },
  {
   "metadata": {},
   "cell_type": "code",
   "outputs": [],
   "execution_count": null,
   "source": [
    "fig = px.pie(dfN,names='discountPercent', color = 'discountPercent', color_discrete_sequence=colors, template='plotly_dark').update_traces(textposition='inside').update_layout(uniformtext_minsize=12, uniformtext_mode='hide')\n",
    "fig.show()"
   ],
   "id": "d66b47a0c6521ccb"
  },
  {
   "metadata": {
    "ExecuteTime": {
     "end_time": "2025-06-07T16:25:44.325025Z",
     "start_time": "2025-06-07T16:25:44.296227Z"
    }
   },
   "cell_type": "code",
   "outputs": [
    {
     "name": "stderr",
     "output_type": "stream",
     "text": [
      "C:\\Users\\Tanishq\\PycharmProjects\\zepto-inv-dataset\\.venv\\Lib\\site-packages\\plotly\\graph_objs\\_deprecations.py:378: DeprecationWarning:\n",
      "\n",
      "plotly.graph_objs.Line is deprecated.\n",
      "Please replace it with one of the following more specific types\n",
      "  - plotly.graph_objs.scatter.Line\n",
      "  - plotly.graph_objs.layout.shape.Line\n",
      "  - etc.\n",
      "\n",
      "\n"
     ]
    },
    {
     "data": {
      "application/vnd.plotly.v1+json": {
       "data": [
        {
         "line": {
          "color": "#bc5090",
          "width": 4
         },
         "opacity": 0.7,
         "y": {
          "dtype": "i4",
          "bdata": "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"
         },
         "type": "scatter"
        },
        {
         "line": {
          "color": "#ffa600",
          "width": 4
         },
         "opacity": 0.7,
         "y": {
          "dtype": "i4",
          "bdata": "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"
         },
         "type": "scatter"
        }
       ],
       "layout": {
        "template": {
         "data": {
          "histogram2dcontour": [
           {
            "type": "histogram2dcontour",
            "colorbar": {
             "outlinewidth": 0,
             "ticks": ""
            },
            "colorscale": [
             [
              0.0,
              "#0d0887"
             ],
             [
              0.1111111111111111,
              "#46039f"
             ],
             [
              0.2222222222222222,
              "#7201a8"
             ],
             [
              0.3333333333333333,
              "#9c179e"
             ],
             [
              0.4444444444444444,
              "#bd3786"
             ],
             [
              0.5555555555555556,
              "#d8576b"
             ],
             [
              0.6666666666666666,
              "#ed7953"
             ],
             [
              0.7777777777777778,
              "#fb9f3a"
             ],
             [
              0.8888888888888888,
              "#fdca26"
             ],
             [
              1.0,
              "#f0f921"
             ]
            ]
           }
          ],
          "choropleth": [
           {
            "type": "choropleth",
            "colorbar": {
             "outlinewidth": 0,
             "ticks": ""
            }
           }
          ],
          "histogram2d": [
           {
            "type": "histogram2d",
            "colorbar": {
             "outlinewidth": 0,
             "ticks": ""
            },
            "colorscale": [
             [
              0.0,
              "#0d0887"
             ],
             [
              0.1111111111111111,
              "#46039f"
             ],
             [
              0.2222222222222222,
              "#7201a8"
             ],
             [
              0.3333333333333333,
              "#9c179e"
             ],
             [
              0.4444444444444444,
              "#bd3786"
             ],
             [
              0.5555555555555556,
              "#d8576b"
             ],
             [
              0.6666666666666666,
              "#ed7953"
             ],
             [
              0.7777777777777778,
              "#fb9f3a"
             ],
             [
              0.8888888888888888,
              "#fdca26"
             ],
             [
              1.0,
              "#f0f921"
             ]
            ]
           }
          ],
          "heatmap": [
           {
            "type": "heatmap",
            "colorbar": {
             "outlinewidth": 0,
             "ticks": ""
            },
            "colorscale": [
             [
              0.0,
              "#0d0887"
             ],
             [
              0.1111111111111111,
              "#46039f"
             ],
             [
              0.2222222222222222,
              "#7201a8"
             ],
             [
              0.3333333333333333,
              "#9c179e"
             ],
             [
              0.4444444444444444,
              "#bd3786"
             ],
             [
              0.5555555555555556,
              "#d8576b"
             ],
             [
              0.6666666666666666,
              "#ed7953"
             ],
             [
              0.7777777777777778,
              "#fb9f3a"
             ],
             [
              0.8888888888888888,
              "#fdca26"
             ],
             [
              1.0,
              "#f0f921"
             ]
            ]
           }
          ],
          "contourcarpet": [
           {
            "type": "contourcarpet",
            "colorbar": {
             "outlinewidth": 0,
             "ticks": ""
            }
           }
          ],
          "contour": [
           {
            "type": "contour",
            "colorbar": {
             "outlinewidth": 0,
             "ticks": ""
            },
            "colorscale": [
             [
              0.0,
              "#0d0887"
             ],
             [
              0.1111111111111111,
              "#46039f"
             ],
             [
              0.2222222222222222,
              "#7201a8"
             ],
             [
              0.3333333333333333,
              "#9c179e"
             ],
             [
              0.4444444444444444,
              "#bd3786"
             ],
             [
              0.5555555555555556,
              "#d8576b"
             ],
             [
              0.6666666666666666,
              "#ed7953"
             ],
             [
              0.7777777777777778,
              "#fb9f3a"
             ],
             [
              0.8888888888888888,
              "#fdca26"
             ],
             [
              1.0,
              "#f0f921"
             ]
            ]
           }
          ],
          "surface": [
           {
            "type": "surface",
            "colorbar": {
             "outlinewidth": 0,
             "ticks": ""
            },
            "colorscale": [
             [
              0.0,
              "#0d0887"
             ],
             [
              0.1111111111111111,
              "#46039f"
             ],
             [
              0.2222222222222222,
              "#7201a8"
             ],
             [
              0.3333333333333333,
              "#9c179e"
             ],
             [
              0.4444444444444444,
              "#bd3786"
             ],
             [
              0.5555555555555556,
              "#d8576b"
             ],
             [
              0.6666666666666666,
              "#ed7953"
             ],
             [
              0.7777777777777778,
              "#fb9f3a"
             ],
             [
              0.8888888888888888,
              "#fdca26"
             ],
             [
              1.0,
              "#f0f921"
             ]
            ]
           }
          ],
          "mesh3d": [
           {
            "type": "mesh3d",
            "colorbar": {
             "outlinewidth": 0,
             "ticks": ""
            }
           }
          ],
          "scatter": [
           {
            "marker": {
             "line": {
              "color": "#283442"
             }
            },
            "type": "scatter"
           }
          ],
          "parcoords": [
           {
            "type": "parcoords",
            "line": {
             "colorbar": {
              "outlinewidth": 0,
              "ticks": ""
             }
            }
           }
          ],
          "scatterpolargl": [
           {
            "type": "scatterpolargl",
            "marker": {
             "colorbar": {
              "outlinewidth": 0,
              "ticks": ""
             }
            }
           }
          ],
          "bar": [
           {
            "error_x": {
             "color": "#f2f5fa"
            },
            "error_y": {
             "color": "#f2f5fa"
            },
            "marker": {
             "line": {
              "color": "rgb(17,17,17)",
              "width": 0.5
             },
             "pattern": {
              "fillmode": "overlay",
              "size": 10,
              "solidity": 0.2
             }
            },
            "type": "bar"
           }
          ],
          "scattergeo": [
           {
            "type": "scattergeo",
            "marker": {
             "colorbar": {
              "outlinewidth": 0,
              "ticks": ""
             }
            }
           }
          ],
          "scatterpolar": [
           {
            "type": "scatterpolar",
            "marker": {
             "colorbar": {
              "outlinewidth": 0,
              "ticks": ""
             }
            }
           }
          ],
          "histogram": [
           {
            "marker": {
             "pattern": {
              "fillmode": "overlay",
              "size": 10,
              "solidity": 0.2
             }
            },
            "type": "histogram"
           }
          ],
          "scattergl": [
           {
            "marker": {
             "line": {
              "color": "#283442"
             }
            },
            "type": "scattergl"
           }
          ],
          "scatter3d": [
           {
            "type": "scatter3d",
            "line": {
             "colorbar": {
              "outlinewidth": 0,
              "ticks": ""
             }
            },
            "marker": {
             "colorbar": {
              "outlinewidth": 0,
              "ticks": ""
             }
            }
           }
          ],
          "scattermap": [
           {
            "type": "scattermap",
            "marker": {
             "colorbar": {
              "outlinewidth": 0,
              "ticks": ""
             }
            }
           }
          ],
          "scattermapbox": [
           {
            "type": "scattermapbox",
            "marker": {
             "colorbar": {
              "outlinewidth": 0,
              "ticks": ""
             }
            }
           }
          ],
          "scatterternary": [
           {
            "type": "scatterternary",
            "marker": {
             "colorbar": {
              "outlinewidth": 0,
              "ticks": ""
             }
            }
           }
          ],
          "scattercarpet": [
           {
            "type": "scattercarpet",
            "marker": {
             "colorbar": {
              "outlinewidth": 0,
              "ticks": ""
             }
            }
           }
          ],
          "carpet": [
           {
            "aaxis": {
             "endlinecolor": "#A2B1C6",
             "gridcolor": "#506784",
             "linecolor": "#506784",
             "minorgridcolor": "#506784",
             "startlinecolor": "#A2B1C6"
            },
            "baxis": {
             "endlinecolor": "#A2B1C6",
             "gridcolor": "#506784",
             "linecolor": "#506784",
             "minorgridcolor": "#506784",
             "startlinecolor": "#A2B1C6"
            },
            "type": "carpet"
           }
          ],
          "table": [
           {
            "cells": {
             "fill": {
              "color": "#506784"
             },
             "line": {
              "color": "rgb(17,17,17)"
             }
            },
            "header": {
             "fill": {
              "color": "#2a3f5f"
             },
             "line": {
              "color": "rgb(17,17,17)"
             }
            },
            "type": "table"
           }
          ],
          "barpolar": [
           {
            "marker": {
             "line": {
              "color": "rgb(17,17,17)",
              "width": 0.5
             },
             "pattern": {
              "fillmode": "overlay",
              "size": 10,
              "solidity": 0.2
             }
            },
            "type": "barpolar"
           }
          ],
          "pie": [
           {
            "automargin": true,
            "type": "pie"
           }
          ]
         },
         "layout": {
          "autotypenumbers": "strict",
          "colorway": [
           "#636efa",
           "#EF553B",
           "#00cc96",
           "#ab63fa",
           "#FFA15A",
           "#19d3f3",
           "#FF6692",
           "#B6E880",
           "#FF97FF",
           "#FECB52"
          ],
          "font": {
           "color": "#f2f5fa"
          },
          "hovermode": "closest",
          "hoverlabel": {
           "align": "left"
          },
          "paper_bgcolor": "rgb(17,17,17)",
          "plot_bgcolor": "rgb(17,17,17)",
          "polar": {
           "bgcolor": "rgb(17,17,17)",
           "angularaxis": {
            "gridcolor": "#506784",
            "linecolor": "#506784",
            "ticks": ""
           },
           "radialaxis": {
            "gridcolor": "#506784",
            "linecolor": "#506784",
            "ticks": ""
           }
          },
          "ternary": {
           "bgcolor": "rgb(17,17,17)",
           "aaxis": {
            "gridcolor": "#506784",
            "linecolor": "#506784",
            "ticks": ""
           },
           "baxis": {
            "gridcolor": "#506784",
            "linecolor": "#506784",
            "ticks": ""
           },
           "caxis": {
            "gridcolor": "#506784",
            "linecolor": "#506784",
            "ticks": ""
           }
          },
          "coloraxis": {
           "colorbar": {
            "outlinewidth": 0,
            "ticks": ""
           }
          },
          "colorscale": {
           "sequential": [
            [
             0.0,
             "#0d0887"
            ],
            [
             0.1111111111111111,
             "#46039f"
            ],
            [
             0.2222222222222222,
             "#7201a8"
            ],
            [
             0.3333333333333333,
             "#9c179e"
            ],
            [
             0.4444444444444444,
             "#bd3786"
            ],
            [
             0.5555555555555556,
             "#d8576b"
            ],
            [
             0.6666666666666666,
             "#ed7953"
            ],
            [
             0.7777777777777778,
             "#fb9f3a"
            ],
            [
             0.8888888888888888,
             "#fdca26"
            ],
            [
             1.0,
             "#f0f921"
            ]
           ],
           "sequentialminus": [
            [
             0.0,
             "#0d0887"
            ],
            [
             0.1111111111111111,
             "#46039f"
            ],
            [
             0.2222222222222222,
             "#7201a8"
            ],
            [
             0.3333333333333333,
             "#9c179e"
            ],
            [
             0.4444444444444444,
             "#bd3786"
            ],
            [
             0.5555555555555556,
             "#d8576b"
            ],
            [
             0.6666666666666666,
             "#ed7953"
            ],
            [
             0.7777777777777778,
             "#fb9f3a"
            ],
            [
             0.8888888888888888,
             "#fdca26"
            ],
            [
             1.0,
             "#f0f921"
            ]
           ],
           "diverging": [
            [
             0,
             "#8e0152"
            ],
            [
             0.1,
             "#c51b7d"
            ],
            [
             0.2,
             "#de77ae"
            ],
            [
             0.3,
             "#f1b6da"
            ],
            [
             0.4,
             "#fde0ef"
            ],
            [
             0.5,
             "#f7f7f7"
            ],
            [
             0.6,
             "#e6f5d0"
            ],
            [
             0.7,
             "#b8e186"
            ],
            [
             0.8,
             "#7fbc41"
            ],
            [
             0.9,
             "#4d9221"
            ],
            [
             1,
             "#276419"
            ]
           ]
          },
          "xaxis": {
           "gridcolor": "#283442",
           "linecolor": "#506784",
           "ticks": "",
           "title": {
            "standoff": 15
           },
           "zerolinecolor": "#283442",
           "automargin": true,
           "zerolinewidth": 2
          },
          "yaxis": {
           "gridcolor": "#283442",
           "linecolor": "#506784",
           "ticks": "",
           "title": {
            "standoff": 15
           },
           "zerolinecolor": "#283442",
           "automargin": true,
           "zerolinewidth": 2
          },
          "scene": {
           "xaxis": {
            "backgroundcolor": "rgb(17,17,17)",
            "gridcolor": "#506784",
            "linecolor": "#506784",
            "showbackground": true,
            "ticks": "",
            "zerolinecolor": "#C8D4E3",
            "gridwidth": 2
           },
           "yaxis": {
            "backgroundcolor": "rgb(17,17,17)",
            "gridcolor": "#506784",
            "linecolor": "#506784",
            "showbackground": true,
            "ticks": "",
            "zerolinecolor": "#C8D4E3",
            "gridwidth": 2
           },
           "zaxis": {
            "backgroundcolor": "rgb(17,17,17)",
            "gridcolor": "#506784",
            "linecolor": "#506784",
            "showbackground": true,
            "ticks": "",
            "zerolinecolor": "#C8D4E3",
            "gridwidth": 2
           }
          },
          "shapedefaults": {
           "line": {
            "color": "#f2f5fa"
           }
          },
          "annotationdefaults": {
           "arrowcolor": "#f2f5fa",
           "arrowhead": 0,
           "arrowwidth": 1
          },
          "geo": {
           "bgcolor": "rgb(17,17,17)",
           "landcolor": "rgb(17,17,17)",
           "subunitcolor": "#506784",
           "showland": true,
           "showlakes": true,
           "lakecolor": "rgb(17,17,17)"
          },
          "title": {
           "x": 0.05
          },
          "updatemenudefaults": {
           "bgcolor": "#506784",
           "borderwidth": 0
          },
          "sliderdefaults": {
           "bgcolor": "#C8D4E3",
           "borderwidth": 1,
           "bordercolor": "rgb(17,17,17)",
           "tickwidth": 0
          },
          "mapbox": {
           "style": "dark"
          }
         }
        },
        "xaxis": {
         "anchor": "y",
         "domain": [
          0.0,
          0.45
         ]
        },
        "yaxis": {
         "anchor": "x",
         "domain": [
          0.0,
          1.0
         ]
        },
        "xaxis2": {
         "anchor": "y2",
         "domain": [
          0.55,
          1.0
         ]
        },
        "yaxis2": {
         "anchor": "x2",
         "domain": [
          0.0,
          1.0
         ]
        },
        "autosize": true,
        "showlegend": false
       },
       "config": {
        "plotlyServerURL": "https://plot.ly"
       }
      }
     },
     "metadata": {},
     "output_type": "display_data"
    },
    {
     "data": {
      "text/plain": [
       "               Category                               name    mrp  \\\n",
       "482  Cooking Essentials                     Jivana Jaggery  10000   \n",
       "477  Cooking Essentials         Praakritik Organic Jaggery  16000   \n",
       "408  Cooking Essentials            Saffola 100% Pure Honey  47500   \n",
       "233  Cooking Essentials  Hershey's Chocolate Flavour Syrup  22000   \n",
       "226  Cooking Essentials            Hershey's Caramel Syrup  23000   \n",
       "..                  ...                                ...    ...   \n",
       "113  Cooking Essentials         Aashirvaad Multigrain Atta   6400   \n",
       "117  Cooking Essentials        Dhara Groundnut Oil (Pouch)  23000   \n",
       "94   Cooking Essentials             iD Idli & Dosa Batter    8000   \n",
       "588  Cooking Essentials    Daawat Rozana Gold Basmati Rice   9000   \n",
       "606  Cooking Essentials              Everest Saffron Kesar  12000   \n",
       "\n",
       "     discountPercent  availableQuantity  discountedSellingPrice  weightInGms  \\\n",
       "482                0                  2                   10000          950   \n",
       "477                6                  6                   15000          900   \n",
       "408                8                  2                   43700         1000   \n",
       "233                6                  6                   20500          623   \n",
       "226                0                  1                   23000          623   \n",
       "..               ...                ...                     ...          ...   \n",
       "113                3                  2                    6200         1000   \n",
       "117               11                  6                   20300         1000   \n",
       "94                15                  6                    6800         1000   \n",
       "588                1                  0                    8900         1000   \n",
       "606                0                  0                   12000            1   \n",
       "\n",
       "     outOfStock  quantity  \n",
       "482       False       950  \n",
       "477       False       900  \n",
       "408       False       750  \n",
       "233       False       680  \n",
       "226       False       623  \n",
       "..          ...       ...  \n",
       "113       False         1  \n",
       "117       False         1  \n",
       "94        False         1  \n",
       "588        True         1  \n",
       "606        True         0  \n",
       "\n",
       "[514 rows x 9 columns]"
      ],
      "text/html": [
       "<div>\n",
       "<style scoped>\n",
       "    .dataframe tbody tr th:only-of-type {\n",
       "        vertical-align: middle;\n",
       "    }\n",
       "\n",
       "    .dataframe tbody tr th {\n",
       "        vertical-align: top;\n",
       "    }\n",
       "\n",
       "    .dataframe thead th {\n",
       "        text-align: right;\n",
       "    }\n",
       "</style>\n",
       "<table border=\"1\" class=\"dataframe\">\n",
       "  <thead>\n",
       "    <tr style=\"text-align: right;\">\n",
       "      <th></th>\n",
       "      <th>Category</th>\n",
       "      <th>name</th>\n",
       "      <th>mrp</th>\n",
       "      <th>discountPercent</th>\n",
       "      <th>availableQuantity</th>\n",
       "      <th>discountedSellingPrice</th>\n",
       "      <th>weightInGms</th>\n",
       "      <th>outOfStock</th>\n",
       "      <th>quantity</th>\n",
       "    </tr>\n",
       "  </thead>\n",
       "  <tbody>\n",
       "    <tr>\n",
       "      <th>482</th>\n",
       "      <td>Cooking Essentials</td>\n",
       "      <td>Jivana Jaggery</td>\n",
       "      <td>10000</td>\n",
       "      <td>0</td>\n",
       "      <td>2</td>\n",
       "      <td>10000</td>\n",
       "      <td>950</td>\n",
       "      <td>False</td>\n",
       "      <td>950</td>\n",
       "    </tr>\n",
       "    <tr>\n",
       "      <th>477</th>\n",
       "      <td>Cooking Essentials</td>\n",
       "      <td>Praakritik Organic Jaggery</td>\n",
       "      <td>16000</td>\n",
       "      <td>6</td>\n",
       "      <td>6</td>\n",
       "      <td>15000</td>\n",
       "      <td>900</td>\n",
       "      <td>False</td>\n",
       "      <td>900</td>\n",
       "    </tr>\n",
       "    <tr>\n",
       "      <th>408</th>\n",
       "      <td>Cooking Essentials</td>\n",
       "      <td>Saffola 100% Pure Honey</td>\n",
       "      <td>47500</td>\n",
       "      <td>8</td>\n",
       "      <td>2</td>\n",
       "      <td>43700</td>\n",
       "      <td>1000</td>\n",
       "      <td>False</td>\n",
       "      <td>750</td>\n",
       "    </tr>\n",
       "    <tr>\n",
       "      <th>233</th>\n",
       "      <td>Cooking Essentials</td>\n",
       "      <td>Hershey's Chocolate Flavour Syrup</td>\n",
       "      <td>22000</td>\n",
       "      <td>6</td>\n",
       "      <td>6</td>\n",
       "      <td>20500</td>\n",
       "      <td>623</td>\n",
       "      <td>False</td>\n",
       "      <td>680</td>\n",
       "    </tr>\n",
       "    <tr>\n",
       "      <th>226</th>\n",
       "      <td>Cooking Essentials</td>\n",
       "      <td>Hershey's Caramel Syrup</td>\n",
       "      <td>23000</td>\n",
       "      <td>0</td>\n",
       "      <td>1</td>\n",
       "      <td>23000</td>\n",
       "      <td>623</td>\n",
       "      <td>False</td>\n",
       "      <td>623</td>\n",
       "    </tr>\n",
       "    <tr>\n",
       "      <th>...</th>\n",
       "      <td>...</td>\n",
       "      <td>...</td>\n",
       "      <td>...</td>\n",
       "      <td>...</td>\n",
       "      <td>...</td>\n",
       "      <td>...</td>\n",
       "      <td>...</td>\n",
       "      <td>...</td>\n",
       "      <td>...</td>\n",
       "    </tr>\n",
       "    <tr>\n",
       "      <th>113</th>\n",
       "      <td>Cooking Essentials</td>\n",
       "      <td>Aashirvaad Multigrain Atta</td>\n",
       "      <td>6400</td>\n",
       "      <td>3</td>\n",
       "      <td>2</td>\n",
       "      <td>6200</td>\n",
       "      <td>1000</td>\n",
       "      <td>False</td>\n",
       "      <td>1</td>\n",
       "    </tr>\n",
       "    <tr>\n",
       "      <th>117</th>\n",
       "      <td>Cooking Essentials</td>\n",
       "      <td>Dhara Groundnut Oil (Pouch)</td>\n",
       "      <td>23000</td>\n",
       "      <td>11</td>\n",
       "      <td>6</td>\n",
       "      <td>20300</td>\n",
       "      <td>1000</td>\n",
       "      <td>False</td>\n",
       "      <td>1</td>\n",
       "    </tr>\n",
       "    <tr>\n",
       "      <th>94</th>\n",
       "      <td>Cooking Essentials</td>\n",
       "      <td>iD Idli &amp; Dosa Batter</td>\n",
       "      <td>8000</td>\n",
       "      <td>15</td>\n",
       "      <td>6</td>\n",
       "      <td>6800</td>\n",
       "      <td>1000</td>\n",
       "      <td>False</td>\n",
       "      <td>1</td>\n",
       "    </tr>\n",
       "    <tr>\n",
       "      <th>588</th>\n",
       "      <td>Cooking Essentials</td>\n",
       "      <td>Daawat Rozana Gold Basmati Rice</td>\n",
       "      <td>9000</td>\n",
       "      <td>1</td>\n",
       "      <td>0</td>\n",
       "      <td>8900</td>\n",
       "      <td>1000</td>\n",
       "      <td>True</td>\n",
       "      <td>1</td>\n",
       "    </tr>\n",
       "    <tr>\n",
       "      <th>606</th>\n",
       "      <td>Cooking Essentials</td>\n",
       "      <td>Everest Saffron Kesar</td>\n",
       "      <td>12000</td>\n",
       "      <td>0</td>\n",
       "      <td>0</td>\n",
       "      <td>12000</td>\n",
       "      <td>1</td>\n",
       "      <td>True</td>\n",
       "      <td>0</td>\n",
       "    </tr>\n",
       "  </tbody>\n",
       "</table>\n",
       "<p>514 rows × 9 columns</p>\n",
       "</div>"
      ]
     },
     "execution_count": 205,
     "metadata": {},
     "output_type": "execute_result"
    }
   ],
   "execution_count": 205,
   "source": [
    "dfCookingEssentials = df[df['Category'] == 'Cooking Essentials']\n",
    "subFig = mks(rows=1, cols=2)\n",
    "dfTemp = dfCookingEssentials.sort_values(by='quantity', ascending = False)\n",
    "fig1 = go.Line(y = dfTemp['mrp'],line=dict(color='#bc5090', width=4),opacity=0.7)\n",
    "fig2 = go.Line(y = dfTemp['discountedSellingPrice'],line=dict(color='#ffa600', width=4), opacity=0.7)\n",
    "subFig.add_trace(fig1)\n",
    "subFig.add_trace(fig2)\n",
    "subFig.update_layout(autosize=True, showlegend=False).show()\n",
    "dfTemp\n",
    "\n"
   ],
   "id": "ade296966b015d9f"
  },
  {
   "metadata": {
    "ExecuteTime": {
     "end_time": "2025-06-07T14:41:47.538914Z",
     "start_time": "2025-06-07T14:41:47.536276Z"
    }
   },
   "cell_type": "code",
   "outputs": [],
   "source": "",
   "id": "40c9d4b9d9d6fd26",
   "execution_count": null
  }
 ],
 "metadata": {
  "kernelspec": {
   "display_name": "Python 3",
   "language": "python",
   "name": "python3"
  },
  "language_info": {
   "codemirror_mode": {
    "name": "ipython",
    "version": 2
   },
   "file_extension": ".py",
   "mimetype": "text/x-python",
   "name": "python",
   "nbconvert_exporter": "python",
   "pygments_lexer": "ipython2",
   "version": "2.7.6"
  }
 },
 "nbformat": 4,
 "nbformat_minor": 5
}
