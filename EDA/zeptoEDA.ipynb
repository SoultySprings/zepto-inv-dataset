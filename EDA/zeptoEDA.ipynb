{
 "cells": [
  {
   "metadata": {},
   "cell_type": "markdown",
   "source": "`zepto_v2.csv`",
   "id": "b890f691797766ec"
  },
  {
   "metadata": {
    "collapsed": true,
    "ExecuteTime": {
     "end_time": "2025-06-08T06:26:03.610074Z",
     "start_time": "2025-06-08T06:26:03.606623Z"
    }
   },
   "cell_type": "code",
   "source": [
    "import pandas as pd, numpy as np, plotly.express as px\n",
    "from plotly.subplots import make_subplots as mks\n",
    "import plotly.graph_objs as go"
   ],
   "id": "initial_id",
   "outputs": [],
   "execution_count": 69
  },
  {
   "metadata": {
    "ExecuteTime": {
     "end_time": "2025-06-08T06:26:03.646853Z",
     "start_time": "2025-06-08T06:26:03.634678Z"
    }
   },
   "cell_type": "code",
   "source": [
    "df = pd.read_csv('zepto_v2.csv', encoding='cp1252')\n",
    "colors = [\"#4E79A7\", \"#F28E2B\", \"#E15759\", \"#76B7B2\", \"#59A14F\", \"#EDC949\", \"#AF7AA1\", \"#FF9DA7\", \"#9C755F\", \"#BAB0AC\", \"#1F77B4\", \"#FF7F0E\", \"#2CA02C\", \"#D62728\", \"#9467BD\"]"
   ],
   "id": "3bb6b9e78ea7422a",
   "outputs": [],
   "execution_count": 70
  },
  {
   "metadata": {
    "ExecuteTime": {
     "end_time": "2025-06-08T06:26:03.664760Z",
     "start_time": "2025-06-08T06:26:03.656737Z"
    }
   },
   "cell_type": "code",
   "source": [
    "print(df.max())\n",
    "print(df.idxmax())\n",
    "print(df.min())\n",
    "print(df.idxmin())\n"
   ],
   "id": "cba074b95d09595e",
   "outputs": [
    {
     "name": "stdout",
     "output_type": "stream",
     "text": [
      "Category                            Personal Care\n",
      "name                      iD Wheat Lachha Paratha\n",
      "mrp                                        260000\n",
      "discountPercent                                51\n",
      "availableQuantity                               6\n",
      "discountedSellingPrice                     139900\n",
      "weightInGms                                 10000\n",
      "outOfStock                                   True\n",
      "quantity                                     1500\n",
      "dtype: object\n",
      "Category                  2753\n",
      "name                      1382\n",
      "mrp                        517\n",
      "discountPercent           2608\n",
      "availableQuantity           53\n",
      "discountedSellingPrice     517\n",
      "weightInGms                108\n",
      "outOfStock                  87\n",
      "quantity                  2817\n",
      "dtype: int64\n",
      "Category                                                          Beverages\n",
      "name                      \"Godrej Aer Power Pocket - Long Lasting Bathro...\n",
      "mrp                                                                       0\n",
      "discountPercent                                                           0\n",
      "availableQuantity                                                         0\n",
      "discountedSellingPrice                                                    0\n",
      "weightInGms                                                               0\n",
      "outOfStock                                                            False\n",
      "quantity                                                                  0\n",
      "dtype: object\n",
      "Category                  1250\n",
      "name                      3489\n",
      "mrp                       3606\n",
      "discountPercent             93\n",
      "availableQuantity           87\n",
      "discountedSellingPrice    3606\n",
      "weightInGms               2840\n",
      "outOfStock                   0\n",
      "quantity                   606\n",
      "dtype: int64\n"
     ]
    }
   ],
   "execution_count": 71
  },
  {
   "metadata": {
    "ExecuteTime": {
     "end_time": "2025-06-08T06:26:03.686048Z",
     "start_time": "2025-06-08T06:26:03.678393Z"
    }
   },
   "cell_type": "code",
   "source": [
    "dfN = df.drop_duplicates(subset='name').copy()\n",
    "dfN.info()"
   ],
   "id": "f8051ea6f18cc642",
   "outputs": [
    {
     "name": "stdout",
     "output_type": "stream",
     "text": [
      "<class 'pandas.core.frame.DataFrame'>\n",
      "Index: 1681 entries, 0 to 3728\n",
      "Data columns (total 9 columns):\n",
      " #   Column                  Non-Null Count  Dtype \n",
      "---  ------                  --------------  ----- \n",
      " 0   Category                1681 non-null   object\n",
      " 1   name                    1681 non-null   object\n",
      " 2   mrp                     1681 non-null   int64 \n",
      " 3   discountPercent         1681 non-null   int64 \n",
      " 4   availableQuantity       1681 non-null   int64 \n",
      " 5   discountedSellingPrice  1681 non-null   int64 \n",
      " 6   weightInGms             1681 non-null   int64 \n",
      " 7   outOfStock              1681 non-null   bool  \n",
      " 8   quantity                1681 non-null   int64 \n",
      "dtypes: bool(1), int64(6), object(2)\n",
      "memory usage: 119.8+ KB\n"
     ]
    }
   ],
   "execution_count": 72
  },
  {
   "metadata": {
    "ExecuteTime": {
     "end_time": "2025-06-08T06:26:03.702723Z",
     "start_time": "2025-06-08T06:26:03.699473Z"
    }
   },
   "cell_type": "code",
   "source": "labels = ['Category', 'discountPercent', 'availableQuantity']",
   "id": "788612fee44f5e0a",
   "outputs": [],
   "execution_count": 73
  },
  {
   "metadata": {
    "ExecuteTime": {
     "end_time": "2025-06-08T06:26:03.727558Z",
     "start_time": "2025-06-08T06:26:03.720217Z"
    }
   },
   "cell_type": "code",
   "source": [
    "for value in labels:\n",
    "    print(f'Unique in {value}: ', df[f'{value}'].sort_values(ascending=True).unique(), 'with length of : ', len(df[f'{value}'].unique()))\n",
    "    print()"
   ],
   "id": "a758ae3d79a3240f",
   "outputs": [
    {
     "name": "stdout",
     "output_type": "stream",
     "text": [
      "Unique in Category:  ['Beverages' 'Biscuits' 'Chocolates & Candies' 'Cooking Essentials'\n",
      " 'Dairy, Bread & Batter' 'Fruits & Vegetables' 'Health & Hygiene'\n",
      " 'Home & Cleaning' 'Ice Cream & Desserts' 'Meats, Fish & Eggs' 'Munchies'\n",
      " 'Paan Corner' 'Packaged Food' 'Personal Care'] with length of :  14\n",
      "\n",
      "Unique in discountPercent:  [ 0  1  2  3  4  5  6  7  8  9 10 11 12 13 14 15 16 17 18 19 20 21 22 23\n",
      " 24 25 26 27 28 29 30 31 32 33 35 40 43 45 46 49 50 51] with length of :  42\n",
      "\n",
      "Unique in availableQuantity:  [0 1 2 3 4 5 6] with length of :  7\n",
      "\n"
     ]
    }
   ],
   "execution_count": 74
  },
  {
   "metadata": {
    "ExecuteTime": {
     "end_time": "2025-06-08T06:26:03.807003Z",
     "start_time": "2025-06-08T06:26:03.799497Z"
    }
   },
   "cell_type": "code",
   "source": "dfN",
   "id": "53314541d994d8c8",
   "outputs": [
    {
     "data": {
      "text/plain": [
       "                 Category                                               name  \\\n",
       "0     Fruits & Vegetables                                              Onion   \n",
       "1     Fruits & Vegetables                                      Tomato Hybrid   \n",
       "2     Fruits & Vegetables                                     Tender Coconut   \n",
       "3     Fruits & Vegetables                                   Coriander Leaves   \n",
       "4     Fruits & Vegetables                                     Ladies Finger    \n",
       "...                   ...                                                ...   \n",
       "3717     Health & Hygiene                    Kapiva Wild Tulsi Giloy Juice |   \n",
       "3718     Health & Hygiene                                   Dabur Amla Juice   \n",
       "3719     Health & Hygiene                   Epigamia Fruit Yogurt Strawberry   \n",
       "3722     Health & Hygiene   Eno Cooling Sachets - Cool Mint, 6 Pieces Carton   \n",
       "3728     Health & Hygiene  Dabur Honitus Herbal Cough Remedy Ayurvedic Syrup   \n",
       "\n",
       "        mrp  discountPercent  availableQuantity  discountedSellingPrice  \\\n",
       "0      2500               16                  3                    2100   \n",
       "1      4200               16                  3                    3500   \n",
       "2      5100               15                  3                    4300   \n",
       "3      2000               15                  3                    1700   \n",
       "4      1400               14                  3                    1200   \n",
       "...     ...              ...                ...                     ...   \n",
       "3717  40000               15                  1                   34000   \n",
       "3718  23500               15                  6                   19900   \n",
       "3719   4000               50                  0                    2000   \n",
       "3722   5400               11                  0                    4800   \n",
       "3728  10500               15                  0                    8900   \n",
       "\n",
       "      weightInGms  outOfStock  quantity  \n",
       "0            1000       False         1  \n",
       "1            1000       False         1  \n",
       "2              58       False         1  \n",
       "3             100       False       100  \n",
       "4             250       False       250  \n",
       "...           ...         ...       ...  \n",
       "3717         1000       False         1  \n",
       "3718         1000       False         1  \n",
       "3719           75        True        75  \n",
       "3722            5        True         5  \n",
       "3728          100        True       100  \n",
       "\n",
       "[1681 rows x 9 columns]"
      ],
      "text/html": [
       "<div>\n",
       "<style scoped>\n",
       "    .dataframe tbody tr th:only-of-type {\n",
       "        vertical-align: middle;\n",
       "    }\n",
       "\n",
       "    .dataframe tbody tr th {\n",
       "        vertical-align: top;\n",
       "    }\n",
       "\n",
       "    .dataframe thead th {\n",
       "        text-align: right;\n",
       "    }\n",
       "</style>\n",
       "<table border=\"1\" class=\"dataframe\">\n",
       "  <thead>\n",
       "    <tr style=\"text-align: right;\">\n",
       "      <th></th>\n",
       "      <th>Category</th>\n",
       "      <th>name</th>\n",
       "      <th>mrp</th>\n",
       "      <th>discountPercent</th>\n",
       "      <th>availableQuantity</th>\n",
       "      <th>discountedSellingPrice</th>\n",
       "      <th>weightInGms</th>\n",
       "      <th>outOfStock</th>\n",
       "      <th>quantity</th>\n",
       "    </tr>\n",
       "  </thead>\n",
       "  <tbody>\n",
       "    <tr>\n",
       "      <th>0</th>\n",
       "      <td>Fruits &amp; Vegetables</td>\n",
       "      <td>Onion</td>\n",
       "      <td>2500</td>\n",
       "      <td>16</td>\n",
       "      <td>3</td>\n",
       "      <td>2100</td>\n",
       "      <td>1000</td>\n",
       "      <td>False</td>\n",
       "      <td>1</td>\n",
       "    </tr>\n",
       "    <tr>\n",
       "      <th>1</th>\n",
       "      <td>Fruits &amp; Vegetables</td>\n",
       "      <td>Tomato Hybrid</td>\n",
       "      <td>4200</td>\n",
       "      <td>16</td>\n",
       "      <td>3</td>\n",
       "      <td>3500</td>\n",
       "      <td>1000</td>\n",
       "      <td>False</td>\n",
       "      <td>1</td>\n",
       "    </tr>\n",
       "    <tr>\n",
       "      <th>2</th>\n",
       "      <td>Fruits &amp; Vegetables</td>\n",
       "      <td>Tender Coconut</td>\n",
       "      <td>5100</td>\n",
       "      <td>15</td>\n",
       "      <td>3</td>\n",
       "      <td>4300</td>\n",
       "      <td>58</td>\n",
       "      <td>False</td>\n",
       "      <td>1</td>\n",
       "    </tr>\n",
       "    <tr>\n",
       "      <th>3</th>\n",
       "      <td>Fruits &amp; Vegetables</td>\n",
       "      <td>Coriander Leaves</td>\n",
       "      <td>2000</td>\n",
       "      <td>15</td>\n",
       "      <td>3</td>\n",
       "      <td>1700</td>\n",
       "      <td>100</td>\n",
       "      <td>False</td>\n",
       "      <td>100</td>\n",
       "    </tr>\n",
       "    <tr>\n",
       "      <th>4</th>\n",
       "      <td>Fruits &amp; Vegetables</td>\n",
       "      <td>Ladies Finger</td>\n",
       "      <td>1400</td>\n",
       "      <td>14</td>\n",
       "      <td>3</td>\n",
       "      <td>1200</td>\n",
       "      <td>250</td>\n",
       "      <td>False</td>\n",
       "      <td>250</td>\n",
       "    </tr>\n",
       "    <tr>\n",
       "      <th>...</th>\n",
       "      <td>...</td>\n",
       "      <td>...</td>\n",
       "      <td>...</td>\n",
       "      <td>...</td>\n",
       "      <td>...</td>\n",
       "      <td>...</td>\n",
       "      <td>...</td>\n",
       "      <td>...</td>\n",
       "      <td>...</td>\n",
       "    </tr>\n",
       "    <tr>\n",
       "      <th>3717</th>\n",
       "      <td>Health &amp; Hygiene</td>\n",
       "      <td>Kapiva Wild Tulsi Giloy Juice |</td>\n",
       "      <td>40000</td>\n",
       "      <td>15</td>\n",
       "      <td>1</td>\n",
       "      <td>34000</td>\n",
       "      <td>1000</td>\n",
       "      <td>False</td>\n",
       "      <td>1</td>\n",
       "    </tr>\n",
       "    <tr>\n",
       "      <th>3718</th>\n",
       "      <td>Health &amp; Hygiene</td>\n",
       "      <td>Dabur Amla Juice</td>\n",
       "      <td>23500</td>\n",
       "      <td>15</td>\n",
       "      <td>6</td>\n",
       "      <td>19900</td>\n",
       "      <td>1000</td>\n",
       "      <td>False</td>\n",
       "      <td>1</td>\n",
       "    </tr>\n",
       "    <tr>\n",
       "      <th>3719</th>\n",
       "      <td>Health &amp; Hygiene</td>\n",
       "      <td>Epigamia Fruit Yogurt Strawberry</td>\n",
       "      <td>4000</td>\n",
       "      <td>50</td>\n",
       "      <td>0</td>\n",
       "      <td>2000</td>\n",
       "      <td>75</td>\n",
       "      <td>True</td>\n",
       "      <td>75</td>\n",
       "    </tr>\n",
       "    <tr>\n",
       "      <th>3722</th>\n",
       "      <td>Health &amp; Hygiene</td>\n",
       "      <td>Eno Cooling Sachets - Cool Mint, 6 Pieces Carton</td>\n",
       "      <td>5400</td>\n",
       "      <td>11</td>\n",
       "      <td>0</td>\n",
       "      <td>4800</td>\n",
       "      <td>5</td>\n",
       "      <td>True</td>\n",
       "      <td>5</td>\n",
       "    </tr>\n",
       "    <tr>\n",
       "      <th>3728</th>\n",
       "      <td>Health &amp; Hygiene</td>\n",
       "      <td>Dabur Honitus Herbal Cough Remedy Ayurvedic Syrup</td>\n",
       "      <td>10500</td>\n",
       "      <td>15</td>\n",
       "      <td>0</td>\n",
       "      <td>8900</td>\n",
       "      <td>100</td>\n",
       "      <td>True</td>\n",
       "      <td>100</td>\n",
       "    </tr>\n",
       "  </tbody>\n",
       "</table>\n",
       "<p>1681 rows × 9 columns</p>\n",
       "</div>"
      ]
     },
     "execution_count": 75,
     "metadata": {},
     "output_type": "execute_result"
    }
   ],
   "execution_count": 75
  },
  {
   "metadata": {
    "ExecuteTime": {
     "end_time": "2025-06-08T06:26:03.883351Z",
     "start_time": "2025-06-08T06:26:03.832062Z"
    }
   },
   "cell_type": "code",
   "source": [
    "fig = px.histogram(dfN, x='Category', color = 'Category', color_discrete_sequence=colors, template='plotly_dark',height=750)\n",
    "fig.show()"
   ],
   "id": "14d1ca0865885d64",
   "outputs": [
    {
     "data": {
      "application/vnd.plotly.v1+json": {
       "data": [
        {
         "bingroup": "x",
         "hovertemplate": "Category=%{x}<br>count=%{y}<extra></extra>",
         "legendgroup": "Fruits & Vegetables",
         "marker": {
          "color": "#4E79A7",
          "pattern": {
           "shape": ""
          }
         },
         "name": "Fruits & Vegetables",
         "orientation": "v",
         "showlegend": true,
         "x": [
          "Fruits & Vegetables",
          "Fruits & Vegetables",
          "Fruits & Vegetables",
          "Fruits & Vegetables",
          "Fruits & Vegetables",
          "Fruits & Vegetables",
          "Fruits & Vegetables",
          "Fruits & Vegetables",
          "Fruits & Vegetables",
          "Fruits & Vegetables",
          "Fruits & Vegetables",
          "Fruits & Vegetables",
          "Fruits & Vegetables",
          "Fruits & Vegetables",
          "Fruits & Vegetables",
          "Fruits & Vegetables",
          "Fruits & Vegetables",
          "Fruits & Vegetables",
          "Fruits & Vegetables",
          "Fruits & Vegetables",
          "Fruits & Vegetables",
          "Fruits & Vegetables",
          "Fruits & Vegetables",
          "Fruits & Vegetables",
          "Fruits & Vegetables",
          "Fruits & Vegetables",
          "Fruits & Vegetables",
          "Fruits & Vegetables",
          "Fruits & Vegetables",
          "Fruits & Vegetables",
          "Fruits & Vegetables",
          "Fruits & Vegetables",
          "Fruits & Vegetables",
          "Fruits & Vegetables",
          "Fruits & Vegetables",
          "Fruits & Vegetables",
          "Fruits & Vegetables",
          "Fruits & Vegetables",
          "Fruits & Vegetables",
          "Fruits & Vegetables",
          "Fruits & Vegetables",
          "Fruits & Vegetables",
          "Fruits & Vegetables",
          "Fruits & Vegetables",
          "Fruits & Vegetables",
          "Fruits & Vegetables",
          "Fruits & Vegetables",
          "Fruits & Vegetables",
          "Fruits & Vegetables",
          "Fruits & Vegetables",
          "Fruits & Vegetables",
          "Fruits & Vegetables",
          "Fruits & Vegetables",
          "Fruits & Vegetables",
          "Fruits & Vegetables",
          "Fruits & Vegetables",
          "Fruits & Vegetables",
          "Fruits & Vegetables",
          "Fruits & Vegetables",
          "Fruits & Vegetables",
          "Fruits & Vegetables",
          "Fruits & Vegetables",
          "Fruits & Vegetables",
          "Fruits & Vegetables",
          "Fruits & Vegetables",
          "Fruits & Vegetables",
          "Fruits & Vegetables",
          "Fruits & Vegetables",
          "Fruits & Vegetables",
          "Fruits & Vegetables",
          "Fruits & Vegetables",
          "Fruits & Vegetables",
          "Fruits & Vegetables",
          "Fruits & Vegetables",
          "Fruits & Vegetables",
          "Fruits & Vegetables",
          "Fruits & Vegetables",
          "Fruits & Vegetables",
          "Fruits & Vegetables",
          "Fruits & Vegetables",
          "Fruits & Vegetables",
          "Fruits & Vegetables",
          "Fruits & Vegetables",
          "Fruits & Vegetables",
          "Fruits & Vegetables",
          "Fruits & Vegetables",
          "Fruits & Vegetables",
          "Fruits & Vegetables",
          "Fruits & Vegetables"
         ],
         "xaxis": "x",
         "yaxis": "y",
         "type": "histogram"
        },
        {
         "bingroup": "x",
         "hovertemplate": "Category=%{x}<br>count=%{y}<extra></extra>",
         "legendgroup": "Cooking Essentials",
         "marker": {
          "color": "#F28E2B",
          "pattern": {
           "shape": ""
          }
         },
         "name": "Cooking Essentials",
         "orientation": "v",
         "showlegend": true,
         "x": [
          "Cooking Essentials",
          "Cooking Essentials",
          "Cooking Essentials",
          "Cooking Essentials",
          "Cooking Essentials",
          "Cooking Essentials",
          "Cooking Essentials",
          "Cooking Essentials",
          "Cooking Essentials",
          "Cooking Essentials",
          "Cooking Essentials",
          "Cooking Essentials",
          "Cooking Essentials",
          "Cooking Essentials",
          "Cooking Essentials",
          "Cooking Essentials",
          "Cooking Essentials",
          "Cooking Essentials",
          "Cooking Essentials",
          "Cooking Essentials",
          "Cooking Essentials",
          "Cooking Essentials",
          "Cooking Essentials",
          "Cooking Essentials",
          "Cooking Essentials",
          "Cooking Essentials",
          "Cooking Essentials",
          "Cooking Essentials",
          "Cooking Essentials",
          "Cooking Essentials",
          "Cooking Essentials",
          "Cooking Essentials",
          "Cooking Essentials",
          "Cooking Essentials",
          "Cooking Essentials",
          "Cooking Essentials",
          "Cooking Essentials",
          "Cooking Essentials",
          "Cooking Essentials",
          "Cooking Essentials",
          "Cooking Essentials",
          "Cooking Essentials",
          "Cooking Essentials",
          "Cooking Essentials",
          "Cooking Essentials",
          "Cooking Essentials",
          "Cooking Essentials",
          "Cooking Essentials",
          "Cooking Essentials",
          "Cooking Essentials",
          "Cooking Essentials",
          "Cooking Essentials",
          "Cooking Essentials",
          "Cooking Essentials",
          "Cooking Essentials",
          "Cooking Essentials",
          "Cooking Essentials",
          "Cooking Essentials",
          "Cooking Essentials",
          "Cooking Essentials",
          "Cooking Essentials",
          "Cooking Essentials",
          "Cooking Essentials",
          "Cooking Essentials",
          "Cooking Essentials",
          "Cooking Essentials",
          "Cooking Essentials",
          "Cooking Essentials",
          "Cooking Essentials",
          "Cooking Essentials",
          "Cooking Essentials",
          "Cooking Essentials",
          "Cooking Essentials",
          "Cooking Essentials",
          "Cooking Essentials",
          "Cooking Essentials",
          "Cooking Essentials",
          "Cooking Essentials",
          "Cooking Essentials",
          "Cooking Essentials",
          "Cooking Essentials",
          "Cooking Essentials",
          "Cooking Essentials",
          "Cooking Essentials",
          "Cooking Essentials",
          "Cooking Essentials",
          "Cooking Essentials",
          "Cooking Essentials",
          "Cooking Essentials",
          "Cooking Essentials",
          "Cooking Essentials",
          "Cooking Essentials",
          "Cooking Essentials",
          "Cooking Essentials",
          "Cooking Essentials",
          "Cooking Essentials",
          "Cooking Essentials",
          "Cooking Essentials",
          "Cooking Essentials",
          "Cooking Essentials",
          "Cooking Essentials",
          "Cooking Essentials",
          "Cooking Essentials",
          "Cooking Essentials",
          "Cooking Essentials",
          "Cooking Essentials",
          "Cooking Essentials",
          "Cooking Essentials",
          "Cooking Essentials",
          "Cooking Essentials",
          "Cooking Essentials",
          "Cooking Essentials",
          "Cooking Essentials",
          "Cooking Essentials",
          "Cooking Essentials",
          "Cooking Essentials",
          "Cooking Essentials",
          "Cooking Essentials",
          "Cooking Essentials",
          "Cooking Essentials",
          "Cooking Essentials",
          "Cooking Essentials",
          "Cooking Essentials",
          "Cooking Essentials",
          "Cooking Essentials",
          "Cooking Essentials",
          "Cooking Essentials",
          "Cooking Essentials",
          "Cooking Essentials",
          "Cooking Essentials",
          "Cooking Essentials",
          "Cooking Essentials",
          "Cooking Essentials",
          "Cooking Essentials",
          "Cooking Essentials",
          "Cooking Essentials",
          "Cooking Essentials",
          "Cooking Essentials",
          "Cooking Essentials",
          "Cooking Essentials",
          "Cooking Essentials",
          "Cooking Essentials",
          "Cooking Essentials",
          "Cooking Essentials",
          "Cooking Essentials",
          "Cooking Essentials",
          "Cooking Essentials",
          "Cooking Essentials",
          "Cooking Essentials",
          "Cooking Essentials",
          "Cooking Essentials",
          "Cooking Essentials",
          "Cooking Essentials",
          "Cooking Essentials",
          "Cooking Essentials",
          "Cooking Essentials",
          "Cooking Essentials",
          "Cooking Essentials",
          "Cooking Essentials",
          "Cooking Essentials",
          "Cooking Essentials",
          "Cooking Essentials",
          "Cooking Essentials",
          "Cooking Essentials",
          "Cooking Essentials",
          "Cooking Essentials",
          "Cooking Essentials",
          "Cooking Essentials",
          "Cooking Essentials",
          "Cooking Essentials",
          "Cooking Essentials",
          "Cooking Essentials",
          "Cooking Essentials",
          "Cooking Essentials",
          "Cooking Essentials",
          "Cooking Essentials",
          "Cooking Essentials",
          "Cooking Essentials",
          "Cooking Essentials",
          "Cooking Essentials",
          "Cooking Essentials",
          "Cooking Essentials",
          "Cooking Essentials",
          "Cooking Essentials",
          "Cooking Essentials",
          "Cooking Essentials",
          "Cooking Essentials",
          "Cooking Essentials",
          "Cooking Essentials",
          "Cooking Essentials",
          "Cooking Essentials",
          "Cooking Essentials",
          "Cooking Essentials",
          "Cooking Essentials",
          "Cooking Essentials",
          "Cooking Essentials",
          "Cooking Essentials",
          "Cooking Essentials",
          "Cooking Essentials",
          "Cooking Essentials",
          "Cooking Essentials",
          "Cooking Essentials",
          "Cooking Essentials",
          "Cooking Essentials",
          "Cooking Essentials",
          "Cooking Essentials",
          "Cooking Essentials",
          "Cooking Essentials",
          "Cooking Essentials",
          "Cooking Essentials",
          "Cooking Essentials",
          "Cooking Essentials",
          "Cooking Essentials",
          "Cooking Essentials",
          "Cooking Essentials",
          "Cooking Essentials",
          "Cooking Essentials",
          "Cooking Essentials",
          "Cooking Essentials",
          "Cooking Essentials",
          "Cooking Essentials",
          "Cooking Essentials",
          "Cooking Essentials",
          "Cooking Essentials",
          "Cooking Essentials",
          "Cooking Essentials",
          "Cooking Essentials",
          "Cooking Essentials",
          "Cooking Essentials",
          "Cooking Essentials",
          "Cooking Essentials",
          "Cooking Essentials",
          "Cooking Essentials",
          "Cooking Essentials",
          "Cooking Essentials",
          "Cooking Essentials",
          "Cooking Essentials",
          "Cooking Essentials",
          "Cooking Essentials",
          "Cooking Essentials",
          "Cooking Essentials",
          "Cooking Essentials",
          "Cooking Essentials",
          "Cooking Essentials",
          "Cooking Essentials",
          "Cooking Essentials",
          "Cooking Essentials",
          "Cooking Essentials",
          "Cooking Essentials",
          "Cooking Essentials",
          "Cooking Essentials",
          "Cooking Essentials",
          "Cooking Essentials",
          "Cooking Essentials",
          "Cooking Essentials",
          "Cooking Essentials",
          "Cooking Essentials",
          "Cooking Essentials",
          "Cooking Essentials",
          "Cooking Essentials",
          "Cooking Essentials",
          "Cooking Essentials",
          "Cooking Essentials",
          "Cooking Essentials",
          "Cooking Essentials",
          "Cooking Essentials",
          "Cooking Essentials",
          "Cooking Essentials",
          "Cooking Essentials",
          "Cooking Essentials",
          "Cooking Essentials",
          "Cooking Essentials",
          "Cooking Essentials",
          "Cooking Essentials",
          "Cooking Essentials",
          "Cooking Essentials",
          "Cooking Essentials",
          "Cooking Essentials",
          "Cooking Essentials",
          "Cooking Essentials",
          "Cooking Essentials",
          "Cooking Essentials",
          "Cooking Essentials",
          "Cooking Essentials",
          "Cooking Essentials",
          "Cooking Essentials",
          "Cooking Essentials",
          "Cooking Essentials",
          "Cooking Essentials",
          "Cooking Essentials",
          "Cooking Essentials",
          "Cooking Essentials",
          "Cooking Essentials",
          "Cooking Essentials",
          "Cooking Essentials",
          "Cooking Essentials",
          "Cooking Essentials",
          "Cooking Essentials",
          "Cooking Essentials",
          "Cooking Essentials",
          "Cooking Essentials",
          "Cooking Essentials",
          "Cooking Essentials",
          "Cooking Essentials",
          "Cooking Essentials",
          "Cooking Essentials",
          "Cooking Essentials",
          "Cooking Essentials",
          "Cooking Essentials",
          "Cooking Essentials",
          "Cooking Essentials",
          "Cooking Essentials",
          "Cooking Essentials",
          "Cooking Essentials",
          "Cooking Essentials",
          "Cooking Essentials",
          "Cooking Essentials",
          "Cooking Essentials",
          "Cooking Essentials",
          "Cooking Essentials",
          "Cooking Essentials",
          "Cooking Essentials",
          "Cooking Essentials",
          "Cooking Essentials",
          "Cooking Essentials",
          "Cooking Essentials",
          "Cooking Essentials",
          "Cooking Essentials",
          "Cooking Essentials",
          "Cooking Essentials",
          "Cooking Essentials",
          "Cooking Essentials",
          "Cooking Essentials",
          "Cooking Essentials",
          "Cooking Essentials",
          "Cooking Essentials",
          "Cooking Essentials",
          "Cooking Essentials",
          "Cooking Essentials",
          "Cooking Essentials",
          "Cooking Essentials",
          "Cooking Essentials",
          "Cooking Essentials",
          "Cooking Essentials",
          "Cooking Essentials",
          "Cooking Essentials",
          "Cooking Essentials",
          "Cooking Essentials",
          "Cooking Essentials",
          "Cooking Essentials",
          "Cooking Essentials",
          "Cooking Essentials",
          "Cooking Essentials",
          "Cooking Essentials",
          "Cooking Essentials",
          "Cooking Essentials",
          "Cooking Essentials",
          "Cooking Essentials",
          "Cooking Essentials",
          "Cooking Essentials",
          "Cooking Essentials",
          "Cooking Essentials",
          "Cooking Essentials",
          "Cooking Essentials",
          "Cooking Essentials",
          "Cooking Essentials",
          "Cooking Essentials",
          "Cooking Essentials",
          "Cooking Essentials",
          "Cooking Essentials",
          "Cooking Essentials",
          "Cooking Essentials",
          "Cooking Essentials",
          "Cooking Essentials",
          "Cooking Essentials",
          "Cooking Essentials",
          "Cooking Essentials",
          "Cooking Essentials",
          "Cooking Essentials",
          "Cooking Essentials",
          "Cooking Essentials",
          "Cooking Essentials",
          "Cooking Essentials",
          "Cooking Essentials",
          "Cooking Essentials",
          "Cooking Essentials",
          "Cooking Essentials",
          "Cooking Essentials",
          "Cooking Essentials",
          "Cooking Essentials",
          "Cooking Essentials",
          "Cooking Essentials",
          "Cooking Essentials",
          "Cooking Essentials",
          "Cooking Essentials",
          "Cooking Essentials",
          "Cooking Essentials",
          "Cooking Essentials",
          "Cooking Essentials",
          "Cooking Essentials",
          "Cooking Essentials",
          "Cooking Essentials",
          "Cooking Essentials",
          "Cooking Essentials",
          "Cooking Essentials",
          "Cooking Essentials",
          "Cooking Essentials",
          "Cooking Essentials",
          "Cooking Essentials",
          "Cooking Essentials",
          "Cooking Essentials",
          "Cooking Essentials",
          "Cooking Essentials",
          "Cooking Essentials",
          "Cooking Essentials",
          "Cooking Essentials",
          "Cooking Essentials",
          "Cooking Essentials",
          "Cooking Essentials",
          "Cooking Essentials",
          "Cooking Essentials",
          "Cooking Essentials",
          "Cooking Essentials",
          "Cooking Essentials",
          "Cooking Essentials",
          "Cooking Essentials",
          "Cooking Essentials",
          "Cooking Essentials",
          "Cooking Essentials",
          "Cooking Essentials",
          "Cooking Essentials",
          "Cooking Essentials",
          "Cooking Essentials",
          "Cooking Essentials",
          "Cooking Essentials",
          "Cooking Essentials",
          "Cooking Essentials",
          "Cooking Essentials",
          "Cooking Essentials",
          "Cooking Essentials",
          "Cooking Essentials",
          "Cooking Essentials",
          "Cooking Essentials",
          "Cooking Essentials",
          "Cooking Essentials",
          "Cooking Essentials",
          "Cooking Essentials",
          "Cooking Essentials",
          "Cooking Essentials",
          "Cooking Essentials",
          "Cooking Essentials",
          "Cooking Essentials",
          "Cooking Essentials",
          "Cooking Essentials",
          "Cooking Essentials",
          "Cooking Essentials",
          "Cooking Essentials",
          "Cooking Essentials",
          "Cooking Essentials",
          "Cooking Essentials",
          "Cooking Essentials",
          "Cooking Essentials",
          "Cooking Essentials",
          "Cooking Essentials",
          "Cooking Essentials",
          "Cooking Essentials",
          "Cooking Essentials",
          "Cooking Essentials",
          "Cooking Essentials",
          "Cooking Essentials",
          "Cooking Essentials",
          "Cooking Essentials",
          "Cooking Essentials",
          "Cooking Essentials",
          "Cooking Essentials",
          "Cooking Essentials",
          "Cooking Essentials",
          "Cooking Essentials"
         ],
         "xaxis": "x",
         "yaxis": "y",
         "type": "histogram"
        },
        {
         "bingroup": "x",
         "hovertemplate": "Category=%{x}<br>count=%{y}<extra></extra>",
         "legendgroup": "Dairy, Bread & Batter",
         "marker": {
          "color": "#E15759",
          "pattern": {
           "shape": ""
          }
         },
         "name": "Dairy, Bread & Batter",
         "orientation": "v",
         "showlegend": true,
         "x": [
          "Dairy, Bread & Batter",
          "Dairy, Bread & Batter",
          "Dairy, Bread & Batter",
          "Dairy, Bread & Batter",
          "Dairy, Bread & Batter",
          "Dairy, Bread & Batter",
          "Dairy, Bread & Batter",
          "Dairy, Bread & Batter",
          "Dairy, Bread & Batter",
          "Dairy, Bread & Batter",
          "Dairy, Bread & Batter",
          "Dairy, Bread & Batter",
          "Dairy, Bread & Batter",
          "Dairy, Bread & Batter",
          "Dairy, Bread & Batter",
          "Dairy, Bread & Batter",
          "Dairy, Bread & Batter",
          "Dairy, Bread & Batter",
          "Dairy, Bread & Batter",
          "Dairy, Bread & Batter",
          "Dairy, Bread & Batter",
          "Dairy, Bread & Batter",
          "Dairy, Bread & Batter",
          "Dairy, Bread & Batter",
          "Dairy, Bread & Batter",
          "Dairy, Bread & Batter",
          "Dairy, Bread & Batter",
          "Dairy, Bread & Batter",
          "Dairy, Bread & Batter",
          "Dairy, Bread & Batter",
          "Dairy, Bread & Batter",
          "Dairy, Bread & Batter",
          "Dairy, Bread & Batter",
          "Dairy, Bread & Batter",
          "Dairy, Bread & Batter",
          "Dairy, Bread & Batter",
          "Dairy, Bread & Batter",
          "Dairy, Bread & Batter",
          "Dairy, Bread & Batter",
          "Dairy, Bread & Batter",
          "Dairy, Bread & Batter",
          "Dairy, Bread & Batter",
          "Dairy, Bread & Batter",
          "Dairy, Bread & Batter",
          "Dairy, Bread & Batter",
          "Dairy, Bread & Batter",
          "Dairy, Bread & Batter",
          "Dairy, Bread & Batter",
          "Dairy, Bread & Batter",
          "Dairy, Bread & Batter",
          "Dairy, Bread & Batter",
          "Dairy, Bread & Batter",
          "Dairy, Bread & Batter",
          "Dairy, Bread & Batter",
          "Dairy, Bread & Batter",
          "Dairy, Bread & Batter",
          "Dairy, Bread & Batter",
          "Dairy, Bread & Batter",
          "Dairy, Bread & Batter",
          "Dairy, Bread & Batter",
          "Dairy, Bread & Batter",
          "Dairy, Bread & Batter",
          "Dairy, Bread & Batter",
          "Dairy, Bread & Batter",
          "Dairy, Bread & Batter",
          "Dairy, Bread & Batter",
          "Dairy, Bread & Batter",
          "Dairy, Bread & Batter",
          "Dairy, Bread & Batter",
          "Dairy, Bread & Batter",
          "Dairy, Bread & Batter",
          "Dairy, Bread & Batter",
          "Dairy, Bread & Batter",
          "Dairy, Bread & Batter",
          "Dairy, Bread & Batter",
          "Dairy, Bread & Batter",
          "Dairy, Bread & Batter",
          "Dairy, Bread & Batter",
          "Dairy, Bread & Batter",
          "Dairy, Bread & Batter",
          "Dairy, Bread & Batter",
          "Dairy, Bread & Batter",
          "Dairy, Bread & Batter",
          "Dairy, Bread & Batter",
          "Dairy, Bread & Batter",
          "Dairy, Bread & Batter",
          "Dairy, Bread & Batter",
          "Dairy, Bread & Batter",
          "Dairy, Bread & Batter",
          "Dairy, Bread & Batter",
          "Dairy, Bread & Batter",
          "Dairy, Bread & Batter",
          "Dairy, Bread & Batter",
          "Dairy, Bread & Batter",
          "Dairy, Bread & Batter",
          "Dairy, Bread & Batter",
          "Dairy, Bread & Batter",
          "Dairy, Bread & Batter",
          "Dairy, Bread & Batter",
          "Dairy, Bread & Batter",
          "Dairy, Bread & Batter",
          "Dairy, Bread & Batter",
          "Dairy, Bread & Batter",
          "Dairy, Bread & Batter",
          "Dairy, Bread & Batter",
          "Dairy, Bread & Batter",
          "Dairy, Bread & Batter",
          "Dairy, Bread & Batter"
         ],
         "xaxis": "x",
         "yaxis": "y",
         "type": "histogram"
        },
        {
         "bingroup": "x",
         "hovertemplate": "Category=%{x}<br>count=%{y}<extra></extra>",
         "legendgroup": "Packaged Food",
         "marker": {
          "color": "#76B7B2",
          "pattern": {
           "shape": ""
          }
         },
         "name": "Packaged Food",
         "orientation": "v",
         "showlegend": true,
         "x": [
          "Packaged Food",
          "Packaged Food",
          "Packaged Food",
          "Packaged Food",
          "Packaged Food",
          "Packaged Food",
          "Packaged Food",
          "Packaged Food",
          "Packaged Food",
          "Packaged Food",
          "Packaged Food",
          "Packaged Food",
          "Packaged Food",
          "Packaged Food",
          "Packaged Food",
          "Packaged Food",
          "Packaged Food",
          "Packaged Food",
          "Packaged Food",
          "Packaged Food",
          "Packaged Food",
          "Packaged Food",
          "Packaged Food",
          "Packaged Food",
          "Packaged Food",
          "Packaged Food",
          "Packaged Food",
          "Packaged Food",
          "Packaged Food",
          "Packaged Food",
          "Packaged Food",
          "Packaged Food",
          "Packaged Food",
          "Packaged Food",
          "Packaged Food",
          "Packaged Food",
          "Packaged Food",
          "Packaged Food",
          "Packaged Food",
          "Packaged Food",
          "Packaged Food",
          "Packaged Food",
          "Packaged Food",
          "Packaged Food",
          "Packaged Food",
          "Packaged Food",
          "Packaged Food",
          "Packaged Food",
          "Packaged Food",
          "Packaged Food",
          "Packaged Food",
          "Packaged Food",
          "Packaged Food",
          "Packaged Food",
          "Packaged Food",
          "Packaged Food",
          "Packaged Food",
          "Packaged Food",
          "Packaged Food",
          "Packaged Food",
          "Packaged Food",
          "Packaged Food",
          "Packaged Food",
          "Packaged Food",
          "Packaged Food",
          "Packaged Food",
          "Packaged Food",
          "Packaged Food",
          "Packaged Food",
          "Packaged Food",
          "Packaged Food",
          "Packaged Food",
          "Packaged Food",
          "Packaged Food",
          "Packaged Food",
          "Packaged Food",
          "Packaged Food",
          "Packaged Food",
          "Packaged Food",
          "Packaged Food",
          "Packaged Food",
          "Packaged Food",
          "Packaged Food",
          "Packaged Food",
          "Packaged Food",
          "Packaged Food",
          "Packaged Food",
          "Packaged Food",
          "Packaged Food",
          "Packaged Food",
          "Packaged Food",
          "Packaged Food",
          "Packaged Food",
          "Packaged Food",
          "Packaged Food",
          "Packaged Food",
          "Packaged Food",
          "Packaged Food",
          "Packaged Food",
          "Packaged Food",
          "Packaged Food",
          "Packaged Food",
          "Packaged Food",
          "Packaged Food",
          "Packaged Food",
          "Packaged Food",
          "Packaged Food",
          "Packaged Food",
          "Packaged Food",
          "Packaged Food",
          "Packaged Food",
          "Packaged Food",
          "Packaged Food",
          "Packaged Food",
          "Packaged Food",
          "Packaged Food",
          "Packaged Food",
          "Packaged Food",
          "Packaged Food",
          "Packaged Food",
          "Packaged Food",
          "Packaged Food",
          "Packaged Food",
          "Packaged Food",
          "Packaged Food",
          "Packaged Food",
          "Packaged Food",
          "Packaged Food",
          "Packaged Food",
          "Packaged Food",
          "Packaged Food",
          "Packaged Food",
          "Packaged Food",
          "Packaged Food",
          "Packaged Food",
          "Packaged Food",
          "Packaged Food",
          "Packaged Food",
          "Packaged Food",
          "Packaged Food",
          "Packaged Food",
          "Packaged Food",
          "Packaged Food",
          "Packaged Food",
          "Packaged Food",
          "Packaged Food",
          "Packaged Food",
          "Packaged Food",
          "Packaged Food",
          "Packaged Food",
          "Packaged Food",
          "Packaged Food",
          "Packaged Food",
          "Packaged Food",
          "Packaged Food",
          "Packaged Food",
          "Packaged Food",
          "Packaged Food",
          "Packaged Food",
          "Packaged Food",
          "Packaged Food",
          "Packaged Food",
          "Packaged Food",
          "Packaged Food",
          "Packaged Food",
          "Packaged Food",
          "Packaged Food",
          "Packaged Food",
          "Packaged Food",
          "Packaged Food",
          "Packaged Food",
          "Packaged Food",
          "Packaged Food",
          "Packaged Food",
          "Packaged Food",
          "Packaged Food",
          "Packaged Food",
          "Packaged Food",
          "Packaged Food",
          "Packaged Food",
          "Packaged Food",
          "Packaged Food",
          "Packaged Food",
          "Packaged Food",
          "Packaged Food",
          "Packaged Food",
          "Packaged Food",
          "Packaged Food",
          "Packaged Food",
          "Packaged Food",
          "Packaged Food",
          "Packaged Food",
          "Packaged Food",
          "Packaged Food",
          "Packaged Food",
          "Packaged Food",
          "Packaged Food",
          "Packaged Food",
          "Packaged Food",
          "Packaged Food",
          "Packaged Food",
          "Packaged Food",
          "Packaged Food",
          "Packaged Food",
          "Packaged Food",
          "Packaged Food",
          "Packaged Food",
          "Packaged Food",
          "Packaged Food",
          "Packaged Food",
          "Packaged Food",
          "Packaged Food",
          "Packaged Food",
          "Packaged Food",
          "Packaged Food",
          "Packaged Food",
          "Packaged Food",
          "Packaged Food",
          "Packaged Food",
          "Packaged Food",
          "Packaged Food",
          "Packaged Food",
          "Packaged Food",
          "Packaged Food",
          "Packaged Food",
          "Packaged Food",
          "Packaged Food",
          "Packaged Food",
          "Packaged Food",
          "Packaged Food",
          "Packaged Food",
          "Packaged Food",
          "Packaged Food",
          "Packaged Food",
          "Packaged Food",
          "Packaged Food",
          "Packaged Food",
          "Packaged Food",
          "Packaged Food",
          "Packaged Food",
          "Packaged Food",
          "Packaged Food",
          "Packaged Food",
          "Packaged Food",
          "Packaged Food",
          "Packaged Food",
          "Packaged Food",
          "Packaged Food",
          "Packaged Food",
          "Packaged Food",
          "Packaged Food",
          "Packaged Food",
          "Packaged Food",
          "Packaged Food",
          "Packaged Food",
          "Packaged Food",
          "Packaged Food",
          "Packaged Food",
          "Packaged Food",
          "Packaged Food",
          "Packaged Food",
          "Packaged Food",
          "Packaged Food",
          "Packaged Food",
          "Packaged Food",
          "Packaged Food",
          "Packaged Food",
          "Packaged Food",
          "Packaged Food",
          "Packaged Food",
          "Packaged Food",
          "Packaged Food",
          "Packaged Food",
          "Packaged Food",
          "Packaged Food",
          "Packaged Food",
          "Packaged Food",
          "Packaged Food",
          "Packaged Food",
          "Packaged Food",
          "Packaged Food",
          "Packaged Food",
          "Packaged Food",
          "Packaged Food",
          "Packaged Food",
          "Packaged Food",
          "Packaged Food"
         ],
         "xaxis": "x",
         "yaxis": "y",
         "type": "histogram"
        },
        {
         "bingroup": "x",
         "hovertemplate": "Category=%{x}<br>count=%{y}<extra></extra>",
         "legendgroup": "Meats, Fish & Eggs",
         "marker": {
          "color": "#59A14F",
          "pattern": {
           "shape": ""
          }
         },
         "name": "Meats, Fish & Eggs",
         "orientation": "v",
         "showlegend": true,
         "x": [
          "Meats, Fish & Eggs",
          "Meats, Fish & Eggs",
          "Meats, Fish & Eggs",
          "Meats, Fish & Eggs",
          "Meats, Fish & Eggs",
          "Meats, Fish & Eggs",
          "Meats, Fish & Eggs",
          "Meats, Fish & Eggs",
          "Meats, Fish & Eggs",
          "Meats, Fish & Eggs",
          "Meats, Fish & Eggs",
          "Meats, Fish & Eggs",
          "Meats, Fish & Eggs",
          "Meats, Fish & Eggs",
          "Meats, Fish & Eggs",
          "Meats, Fish & Eggs",
          "Meats, Fish & Eggs",
          "Meats, Fish & Eggs",
          "Meats, Fish & Eggs",
          "Meats, Fish & Eggs",
          "Meats, Fish & Eggs",
          "Meats, Fish & Eggs",
          "Meats, Fish & Eggs",
          "Meats, Fish & Eggs",
          "Meats, Fish & Eggs",
          "Meats, Fish & Eggs",
          "Meats, Fish & Eggs",
          "Meats, Fish & Eggs",
          "Meats, Fish & Eggs",
          "Meats, Fish & Eggs",
          "Meats, Fish & Eggs",
          "Meats, Fish & Eggs"
         ],
         "xaxis": "x",
         "yaxis": "y",
         "type": "histogram"
        },
        {
         "bingroup": "x",
         "hovertemplate": "Category=%{x}<br>count=%{y}<extra></extra>",
         "legendgroup": "Biscuits",
         "marker": {
          "color": "#EDC949",
          "pattern": {
           "shape": ""
          }
         },
         "name": "Biscuits",
         "orientation": "v",
         "showlegend": true,
         "x": [
          "Biscuits",
          "Biscuits",
          "Biscuits",
          "Biscuits",
          "Biscuits",
          "Biscuits",
          "Biscuits",
          "Biscuits",
          "Biscuits",
          "Biscuits",
          "Biscuits",
          "Biscuits",
          "Biscuits",
          "Biscuits",
          "Biscuits",
          "Biscuits",
          "Biscuits",
          "Biscuits",
          "Biscuits",
          "Biscuits",
          "Biscuits",
          "Biscuits",
          "Biscuits",
          "Biscuits",
          "Biscuits",
          "Biscuits",
          "Biscuits",
          "Biscuits",
          "Biscuits",
          "Biscuits",
          "Biscuits",
          "Biscuits",
          "Biscuits",
          "Biscuits",
          "Biscuits",
          "Biscuits",
          "Biscuits",
          "Biscuits",
          "Biscuits",
          "Biscuits",
          "Biscuits",
          "Biscuits",
          "Biscuits",
          "Biscuits",
          "Biscuits",
          "Biscuits",
          "Biscuits",
          "Biscuits",
          "Biscuits",
          "Biscuits",
          "Biscuits",
          "Biscuits",
          "Biscuits",
          "Biscuits",
          "Biscuits",
          "Biscuits",
          "Biscuits",
          "Biscuits",
          "Biscuits",
          "Biscuits",
          "Biscuits",
          "Biscuits",
          "Biscuits",
          "Biscuits",
          "Biscuits",
          "Biscuits",
          "Biscuits",
          "Biscuits",
          "Biscuits",
          "Biscuits",
          "Biscuits",
          "Biscuits",
          "Biscuits",
          "Biscuits",
          "Biscuits",
          "Biscuits",
          "Biscuits",
          "Biscuits",
          "Biscuits",
          "Biscuits",
          "Biscuits",
          "Biscuits",
          "Biscuits",
          "Biscuits",
          "Biscuits",
          "Biscuits",
          "Biscuits",
          "Biscuits",
          "Biscuits",
          "Biscuits",
          "Biscuits",
          "Biscuits",
          "Biscuits",
          "Biscuits",
          "Biscuits",
          "Biscuits",
          "Biscuits",
          "Biscuits",
          "Biscuits",
          "Biscuits",
          "Biscuits",
          "Biscuits",
          "Biscuits",
          "Biscuits",
          "Biscuits",
          "Biscuits",
          "Biscuits",
          "Biscuits",
          "Biscuits",
          "Biscuits",
          "Biscuits",
          "Biscuits",
          "Biscuits",
          "Biscuits",
          "Biscuits",
          "Biscuits",
          "Biscuits",
          "Biscuits",
          "Biscuits",
          "Biscuits",
          "Biscuits",
          "Biscuits",
          "Biscuits",
          "Biscuits",
          "Biscuits",
          "Biscuits",
          "Biscuits",
          "Biscuits",
          "Biscuits",
          "Biscuits",
          "Biscuits",
          "Biscuits",
          "Biscuits"
         ],
         "xaxis": "x",
         "yaxis": "y",
         "type": "histogram"
        },
        {
         "bingroup": "x",
         "hovertemplate": "Category=%{x}<br>count=%{y}<extra></extra>",
         "legendgroup": "Personal Care",
         "marker": {
          "color": "#AF7AA1",
          "pattern": {
           "shape": ""
          }
         },
         "name": "Personal Care",
         "orientation": "v",
         "showlegend": true,
         "x": [
          "Personal Care",
          "Personal Care",
          "Personal Care",
          "Personal Care",
          "Personal Care",
          "Personal Care",
          "Personal Care",
          "Personal Care",
          "Personal Care",
          "Personal Care",
          "Personal Care",
          "Personal Care",
          "Personal Care",
          "Personal Care",
          "Personal Care",
          "Personal Care",
          "Personal Care",
          "Personal Care",
          "Personal Care",
          "Personal Care",
          "Personal Care",
          "Personal Care",
          "Personal Care",
          "Personal Care",
          "Personal Care",
          "Personal Care",
          "Personal Care",
          "Personal Care",
          "Personal Care",
          "Personal Care",
          "Personal Care",
          "Personal Care",
          "Personal Care",
          "Personal Care",
          "Personal Care",
          "Personal Care",
          "Personal Care",
          "Personal Care",
          "Personal Care",
          "Personal Care",
          "Personal Care",
          "Personal Care",
          "Personal Care",
          "Personal Care",
          "Personal Care",
          "Personal Care",
          "Personal Care",
          "Personal Care",
          "Personal Care",
          "Personal Care",
          "Personal Care",
          "Personal Care",
          "Personal Care",
          "Personal Care",
          "Personal Care",
          "Personal Care",
          "Personal Care",
          "Personal Care",
          "Personal Care",
          "Personal Care",
          "Personal Care",
          "Personal Care",
          "Personal Care",
          "Personal Care",
          "Personal Care",
          "Personal Care",
          "Personal Care",
          "Personal Care",
          "Personal Care",
          "Personal Care",
          "Personal Care",
          "Personal Care",
          "Personal Care",
          "Personal Care",
          "Personal Care",
          "Personal Care",
          "Personal Care",
          "Personal Care",
          "Personal Care",
          "Personal Care",
          "Personal Care",
          "Personal Care",
          "Personal Care",
          "Personal Care",
          "Personal Care",
          "Personal Care",
          "Personal Care",
          "Personal Care",
          "Personal Care",
          "Personal Care",
          "Personal Care",
          "Personal Care",
          "Personal Care",
          "Personal Care",
          "Personal Care",
          "Personal Care",
          "Personal Care",
          "Personal Care",
          "Personal Care",
          "Personal Care",
          "Personal Care",
          "Personal Care",
          "Personal Care",
          "Personal Care",
          "Personal Care",
          "Personal Care",
          "Personal Care",
          "Personal Care",
          "Personal Care",
          "Personal Care",
          "Personal Care",
          "Personal Care",
          "Personal Care",
          "Personal Care",
          "Personal Care",
          "Personal Care",
          "Personal Care",
          "Personal Care",
          "Personal Care",
          "Personal Care",
          "Personal Care",
          "Personal Care",
          "Personal Care",
          "Personal Care",
          "Personal Care",
          "Personal Care",
          "Personal Care",
          "Personal Care",
          "Personal Care",
          "Personal Care",
          "Personal Care",
          "Personal Care",
          "Personal Care",
          "Personal Care",
          "Personal Care",
          "Personal Care",
          "Personal Care",
          "Personal Care",
          "Personal Care",
          "Personal Care",
          "Personal Care",
          "Personal Care",
          "Personal Care",
          "Personal Care",
          "Personal Care",
          "Personal Care",
          "Personal Care",
          "Personal Care",
          "Personal Care",
          "Personal Care",
          "Personal Care",
          "Personal Care",
          "Personal Care",
          "Personal Care",
          "Personal Care",
          "Personal Care",
          "Personal Care",
          "Personal Care",
          "Personal Care",
          "Personal Care",
          "Personal Care",
          "Personal Care",
          "Personal Care",
          "Personal Care",
          "Personal Care",
          "Personal Care",
          "Personal Care",
          "Personal Care",
          "Personal Care",
          "Personal Care",
          "Personal Care",
          "Personal Care",
          "Personal Care",
          "Personal Care",
          "Personal Care",
          "Personal Care",
          "Personal Care",
          "Personal Care",
          "Personal Care",
          "Personal Care",
          "Personal Care",
          "Personal Care",
          "Personal Care",
          "Personal Care",
          "Personal Care",
          "Personal Care",
          "Personal Care",
          "Personal Care",
          "Personal Care",
          "Personal Care",
          "Personal Care",
          "Personal Care",
          "Personal Care",
          "Personal Care",
          "Personal Care",
          "Personal Care",
          "Personal Care",
          "Personal Care",
          "Personal Care",
          "Personal Care",
          "Personal Care",
          "Personal Care",
          "Personal Care",
          "Personal Care",
          "Personal Care",
          "Personal Care",
          "Personal Care",
          "Personal Care",
          "Personal Care",
          "Personal Care",
          "Personal Care",
          "Personal Care",
          "Personal Care",
          "Personal Care",
          "Personal Care",
          "Personal Care",
          "Personal Care",
          "Personal Care",
          "Personal Care",
          "Personal Care",
          "Personal Care",
          "Personal Care",
          "Personal Care",
          "Personal Care",
          "Personal Care",
          "Personal Care",
          "Personal Care",
          "Personal Care",
          "Personal Care",
          "Personal Care",
          "Personal Care",
          "Personal Care",
          "Personal Care",
          "Personal Care",
          "Personal Care",
          "Personal Care",
          "Personal Care",
          "Personal Care",
          "Personal Care",
          "Personal Care",
          "Personal Care",
          "Personal Care",
          "Personal Care",
          "Personal Care",
          "Personal Care",
          "Personal Care",
          "Personal Care",
          "Personal Care",
          "Personal Care",
          "Personal Care",
          "Personal Care",
          "Personal Care",
          "Personal Care",
          "Personal Care",
          "Personal Care",
          "Personal Care",
          "Personal Care",
          "Personal Care",
          "Personal Care",
          "Personal Care",
          "Personal Care",
          "Personal Care",
          "Personal Care",
          "Personal Care",
          "Personal Care",
          "Personal Care",
          "Personal Care",
          "Personal Care",
          "Personal Care",
          "Personal Care",
          "Personal Care",
          "Personal Care",
          "Personal Care",
          "Personal Care",
          "Personal Care",
          "Personal Care",
          "Personal Care",
          "Personal Care",
          "Personal Care",
          "Personal Care",
          "Personal Care",
          "Personal Care",
          "Personal Care",
          "Personal Care",
          "Personal Care",
          "Personal Care",
          "Personal Care",
          "Personal Care",
          "Personal Care",
          "Personal Care",
          "Personal Care",
          "Personal Care",
          "Personal Care",
          "Personal Care",
          "Personal Care",
          "Personal Care",
          "Personal Care",
          "Personal Care",
          "Personal Care",
          "Personal Care",
          "Personal Care",
          "Personal Care",
          "Personal Care",
          "Personal Care",
          "Personal Care",
          "Personal Care",
          "Personal Care",
          "Personal Care",
          "Personal Care",
          "Personal Care"
         ],
         "xaxis": "x",
         "yaxis": "y",
         "type": "histogram"
        },
        {
         "bingroup": "x",
         "hovertemplate": "Category=%{x}<br>count=%{y}<extra></extra>",
         "legendgroup": "Home & Cleaning",
         "marker": {
          "color": "#FF9DA7",
          "pattern": {
           "shape": ""
          }
         },
         "name": "Home & Cleaning",
         "orientation": "v",
         "showlegend": true,
         "x": [
          "Home & Cleaning",
          "Home & Cleaning",
          "Home & Cleaning",
          "Home & Cleaning",
          "Home & Cleaning",
          "Home & Cleaning",
          "Home & Cleaning",
          "Home & Cleaning",
          "Home & Cleaning",
          "Home & Cleaning",
          "Home & Cleaning",
          "Home & Cleaning",
          "Home & Cleaning",
          "Home & Cleaning",
          "Home & Cleaning",
          "Home & Cleaning",
          "Home & Cleaning",
          "Home & Cleaning",
          "Home & Cleaning",
          "Home & Cleaning",
          "Home & Cleaning",
          "Home & Cleaning",
          "Home & Cleaning",
          "Home & Cleaning",
          "Home & Cleaning",
          "Home & Cleaning",
          "Home & Cleaning",
          "Home & Cleaning",
          "Home & Cleaning",
          "Home & Cleaning",
          "Home & Cleaning",
          "Home & Cleaning",
          "Home & Cleaning",
          "Home & Cleaning",
          "Home & Cleaning",
          "Home & Cleaning",
          "Home & Cleaning",
          "Home & Cleaning",
          "Home & Cleaning",
          "Home & Cleaning",
          "Home & Cleaning",
          "Home & Cleaning",
          "Home & Cleaning",
          "Home & Cleaning",
          "Home & Cleaning",
          "Home & Cleaning",
          "Home & Cleaning",
          "Home & Cleaning",
          "Home & Cleaning",
          "Home & Cleaning",
          "Home & Cleaning",
          "Home & Cleaning",
          "Home & Cleaning",
          "Home & Cleaning",
          "Home & Cleaning",
          "Home & Cleaning",
          "Home & Cleaning",
          "Home & Cleaning",
          "Home & Cleaning",
          "Home & Cleaning",
          "Home & Cleaning",
          "Home & Cleaning",
          "Home & Cleaning",
          "Home & Cleaning",
          "Home & Cleaning",
          "Home & Cleaning",
          "Home & Cleaning",
          "Home & Cleaning",
          "Home & Cleaning",
          "Home & Cleaning",
          "Home & Cleaning",
          "Home & Cleaning",
          "Home & Cleaning",
          "Home & Cleaning",
          "Home & Cleaning",
          "Home & Cleaning",
          "Home & Cleaning",
          "Home & Cleaning",
          "Home & Cleaning",
          "Home & Cleaning",
          "Home & Cleaning",
          "Home & Cleaning",
          "Home & Cleaning",
          "Home & Cleaning",
          "Home & Cleaning",
          "Home & Cleaning",
          "Home & Cleaning",
          "Home & Cleaning",
          "Home & Cleaning",
          "Home & Cleaning",
          "Home & Cleaning",
          "Home & Cleaning",
          "Home & Cleaning",
          "Home & Cleaning",
          "Home & Cleaning",
          "Home & Cleaning",
          "Home & Cleaning",
          "Home & Cleaning",
          "Home & Cleaning",
          "Home & Cleaning",
          "Home & Cleaning",
          "Home & Cleaning",
          "Home & Cleaning",
          "Home & Cleaning",
          "Home & Cleaning",
          "Home & Cleaning",
          "Home & Cleaning",
          "Home & Cleaning",
          "Home & Cleaning",
          "Home & Cleaning",
          "Home & Cleaning",
          "Home & Cleaning",
          "Home & Cleaning",
          "Home & Cleaning",
          "Home & Cleaning",
          "Home & Cleaning",
          "Home & Cleaning",
          "Home & Cleaning",
          "Home & Cleaning",
          "Home & Cleaning",
          "Home & Cleaning",
          "Home & Cleaning",
          "Home & Cleaning",
          "Home & Cleaning",
          "Home & Cleaning",
          "Home & Cleaning",
          "Home & Cleaning",
          "Home & Cleaning",
          "Home & Cleaning",
          "Home & Cleaning",
          "Home & Cleaning",
          "Home & Cleaning",
          "Home & Cleaning",
          "Home & Cleaning",
          "Home & Cleaning",
          "Home & Cleaning",
          "Home & Cleaning",
          "Home & Cleaning",
          "Home & Cleaning",
          "Home & Cleaning",
          "Home & Cleaning",
          "Home & Cleaning",
          "Home & Cleaning",
          "Home & Cleaning",
          "Home & Cleaning",
          "Home & Cleaning",
          "Home & Cleaning",
          "Home & Cleaning",
          "Home & Cleaning",
          "Home & Cleaning",
          "Home & Cleaning",
          "Home & Cleaning",
          "Home & Cleaning",
          "Home & Cleaning",
          "Home & Cleaning",
          "Home & Cleaning",
          "Home & Cleaning",
          "Home & Cleaning",
          "Home & Cleaning",
          "Home & Cleaning",
          "Home & Cleaning",
          "Home & Cleaning",
          "Home & Cleaning",
          "Home & Cleaning",
          "Home & Cleaning",
          "Home & Cleaning",
          "Home & Cleaning",
          "Home & Cleaning",
          "Home & Cleaning",
          "Home & Cleaning",
          "Home & Cleaning",
          "Home & Cleaning",
          "Home & Cleaning",
          "Home & Cleaning",
          "Home & Cleaning",
          "Home & Cleaning",
          "Home & Cleaning",
          "Home & Cleaning",
          "Home & Cleaning",
          "Home & Cleaning",
          "Home & Cleaning",
          "Home & Cleaning",
          "Home & Cleaning",
          "Home & Cleaning",
          "Home & Cleaning"
         ],
         "xaxis": "x",
         "yaxis": "y",
         "type": "histogram"
        },
        {
         "bingroup": "x",
         "hovertemplate": "Category=%{x}<br>count=%{y}<extra></extra>",
         "legendgroup": "Health & Hygiene",
         "marker": {
          "color": "#9C755F",
          "pattern": {
           "shape": ""
          }
         },
         "name": "Health & Hygiene",
         "orientation": "v",
         "showlegend": true,
         "x": [
          "Health & Hygiene",
          "Health & Hygiene",
          "Health & Hygiene",
          "Health & Hygiene",
          "Health & Hygiene",
          "Health & Hygiene",
          "Health & Hygiene",
          "Health & Hygiene",
          "Health & Hygiene",
          "Health & Hygiene",
          "Health & Hygiene",
          "Health & Hygiene",
          "Health & Hygiene",
          "Health & Hygiene",
          "Health & Hygiene",
          "Health & Hygiene",
          "Health & Hygiene",
          "Health & Hygiene",
          "Health & Hygiene",
          "Health & Hygiene",
          "Health & Hygiene",
          "Health & Hygiene",
          "Health & Hygiene",
          "Health & Hygiene",
          "Health & Hygiene",
          "Health & Hygiene",
          "Health & Hygiene",
          "Health & Hygiene",
          "Health & Hygiene",
          "Health & Hygiene",
          "Health & Hygiene",
          "Health & Hygiene",
          "Health & Hygiene",
          "Health & Hygiene",
          "Health & Hygiene",
          "Health & Hygiene",
          "Health & Hygiene",
          "Health & Hygiene",
          "Health & Hygiene",
          "Health & Hygiene",
          "Health & Hygiene",
          "Health & Hygiene",
          "Health & Hygiene",
          "Health & Hygiene",
          "Health & Hygiene",
          "Health & Hygiene",
          "Health & Hygiene",
          "Health & Hygiene",
          "Health & Hygiene",
          "Health & Hygiene",
          "Health & Hygiene",
          "Health & Hygiene",
          "Health & Hygiene",
          "Health & Hygiene",
          "Health & Hygiene",
          "Health & Hygiene",
          "Health & Hygiene",
          "Health & Hygiene",
          "Health & Hygiene"
         ],
         "xaxis": "x",
         "yaxis": "y",
         "type": "histogram"
        }
       ],
       "layout": {
        "template": {
         "data": {
          "histogram2dcontour": [
           {
            "type": "histogram2dcontour",
            "colorbar": {
             "outlinewidth": 0,
             "ticks": ""
            },
            "colorscale": [
             [
              0.0,
              "#0d0887"
             ],
             [
              0.1111111111111111,
              "#46039f"
             ],
             [
              0.2222222222222222,
              "#7201a8"
             ],
             [
              0.3333333333333333,
              "#9c179e"
             ],
             [
              0.4444444444444444,
              "#bd3786"
             ],
             [
              0.5555555555555556,
              "#d8576b"
             ],
             [
              0.6666666666666666,
              "#ed7953"
             ],
             [
              0.7777777777777778,
              "#fb9f3a"
             ],
             [
              0.8888888888888888,
              "#fdca26"
             ],
             [
              1.0,
              "#f0f921"
             ]
            ]
           }
          ],
          "choropleth": [
           {
            "type": "choropleth",
            "colorbar": {
             "outlinewidth": 0,
             "ticks": ""
            }
           }
          ],
          "histogram2d": [
           {
            "type": "histogram2d",
            "colorbar": {
             "outlinewidth": 0,
             "ticks": ""
            },
            "colorscale": [
             [
              0.0,
              "#0d0887"
             ],
             [
              0.1111111111111111,
              "#46039f"
             ],
             [
              0.2222222222222222,
              "#7201a8"
             ],
             [
              0.3333333333333333,
              "#9c179e"
             ],
             [
              0.4444444444444444,
              "#bd3786"
             ],
             [
              0.5555555555555556,
              "#d8576b"
             ],
             [
              0.6666666666666666,
              "#ed7953"
             ],
             [
              0.7777777777777778,
              "#fb9f3a"
             ],
             [
              0.8888888888888888,
              "#fdca26"
             ],
             [
              1.0,
              "#f0f921"
             ]
            ]
           }
          ],
          "heatmap": [
           {
            "type": "heatmap",
            "colorbar": {
             "outlinewidth": 0,
             "ticks": ""
            },
            "colorscale": [
             [
              0.0,
              "#0d0887"
             ],
             [
              0.1111111111111111,
              "#46039f"
             ],
             [
              0.2222222222222222,
              "#7201a8"
             ],
             [
              0.3333333333333333,
              "#9c179e"
             ],
             [
              0.4444444444444444,
              "#bd3786"
             ],
             [
              0.5555555555555556,
              "#d8576b"
             ],
             [
              0.6666666666666666,
              "#ed7953"
             ],
             [
              0.7777777777777778,
              "#fb9f3a"
             ],
             [
              0.8888888888888888,
              "#fdca26"
             ],
             [
              1.0,
              "#f0f921"
             ]
            ]
           }
          ],
          "contourcarpet": [
           {
            "type": "contourcarpet",
            "colorbar": {
             "outlinewidth": 0,
             "ticks": ""
            }
           }
          ],
          "contour": [
           {
            "type": "contour",
            "colorbar": {
             "outlinewidth": 0,
             "ticks": ""
            },
            "colorscale": [
             [
              0.0,
              "#0d0887"
             ],
             [
              0.1111111111111111,
              "#46039f"
             ],
             [
              0.2222222222222222,
              "#7201a8"
             ],
             [
              0.3333333333333333,
              "#9c179e"
             ],
             [
              0.4444444444444444,
              "#bd3786"
             ],
             [
              0.5555555555555556,
              "#d8576b"
             ],
             [
              0.6666666666666666,
              "#ed7953"
             ],
             [
              0.7777777777777778,
              "#fb9f3a"
             ],
             [
              0.8888888888888888,
              "#fdca26"
             ],
             [
              1.0,
              "#f0f921"
             ]
            ]
           }
          ],
          "surface": [
           {
            "type": "surface",
            "colorbar": {
             "outlinewidth": 0,
             "ticks": ""
            },
            "colorscale": [
             [
              0.0,
              "#0d0887"
             ],
             [
              0.1111111111111111,
              "#46039f"
             ],
             [
              0.2222222222222222,
              "#7201a8"
             ],
             [
              0.3333333333333333,
              "#9c179e"
             ],
             [
              0.4444444444444444,
              "#bd3786"
             ],
             [
              0.5555555555555556,
              "#d8576b"
             ],
             [
              0.6666666666666666,
              "#ed7953"
             ],
             [
              0.7777777777777778,
              "#fb9f3a"
             ],
             [
              0.8888888888888888,
              "#fdca26"
             ],
             [
              1.0,
              "#f0f921"
             ]
            ]
           }
          ],
          "mesh3d": [
           {
            "type": "mesh3d",
            "colorbar": {
             "outlinewidth": 0,
             "ticks": ""
            }
           }
          ],
          "scatter": [
           {
            "marker": {
             "line": {
              "color": "#283442"
             }
            },
            "type": "scatter"
           }
          ],
          "parcoords": [
           {
            "type": "parcoords",
            "line": {
             "colorbar": {
              "outlinewidth": 0,
              "ticks": ""
             }
            }
           }
          ],
          "scatterpolargl": [
           {
            "type": "scatterpolargl",
            "marker": {
             "colorbar": {
              "outlinewidth": 0,
              "ticks": ""
             }
            }
           }
          ],
          "bar": [
           {
            "error_x": {
             "color": "#f2f5fa"
            },
            "error_y": {
             "color": "#f2f5fa"
            },
            "marker": {
             "line": {
              "color": "rgb(17,17,17)",
              "width": 0.5
             },
             "pattern": {
              "fillmode": "overlay",
              "size": 10,
              "solidity": 0.2
             }
            },
            "type": "bar"
           }
          ],
          "scattergeo": [
           {
            "type": "scattergeo",
            "marker": {
             "colorbar": {
              "outlinewidth": 0,
              "ticks": ""
             }
            }
           }
          ],
          "scatterpolar": [
           {
            "type": "scatterpolar",
            "marker": {
             "colorbar": {
              "outlinewidth": 0,
              "ticks": ""
             }
            }
           }
          ],
          "histogram": [
           {
            "marker": {
             "pattern": {
              "fillmode": "overlay",
              "size": 10,
              "solidity": 0.2
             }
            },
            "type": "histogram"
           }
          ],
          "scattergl": [
           {
            "marker": {
             "line": {
              "color": "#283442"
             }
            },
            "type": "scattergl"
           }
          ],
          "scatter3d": [
           {
            "type": "scatter3d",
            "line": {
             "colorbar": {
              "outlinewidth": 0,
              "ticks": ""
             }
            },
            "marker": {
             "colorbar": {
              "outlinewidth": 0,
              "ticks": ""
             }
            }
           }
          ],
          "scattermap": [
           {
            "type": "scattermap",
            "marker": {
             "colorbar": {
              "outlinewidth": 0,
              "ticks": ""
             }
            }
           }
          ],
          "scattermapbox": [
           {
            "type": "scattermapbox",
            "marker": {
             "colorbar": {
              "outlinewidth": 0,
              "ticks": ""
             }
            }
           }
          ],
          "scatterternary": [
           {
            "type": "scatterternary",
            "marker": {
             "colorbar": {
              "outlinewidth": 0,
              "ticks": ""
             }
            }
           }
          ],
          "scattercarpet": [
           {
            "type": "scattercarpet",
            "marker": {
             "colorbar": {
              "outlinewidth": 0,
              "ticks": ""
             }
            }
           }
          ],
          "carpet": [
           {
            "aaxis": {
             "endlinecolor": "#A2B1C6",
             "gridcolor": "#506784",
             "linecolor": "#506784",
             "minorgridcolor": "#506784",
             "startlinecolor": "#A2B1C6"
            },
            "baxis": {
             "endlinecolor": "#A2B1C6",
             "gridcolor": "#506784",
             "linecolor": "#506784",
             "minorgridcolor": "#506784",
             "startlinecolor": "#A2B1C6"
            },
            "type": "carpet"
           }
          ],
          "table": [
           {
            "cells": {
             "fill": {
              "color": "#506784"
             },
             "line": {
              "color": "rgb(17,17,17)"
             }
            },
            "header": {
             "fill": {
              "color": "#2a3f5f"
             },
             "line": {
              "color": "rgb(17,17,17)"
             }
            },
            "type": "table"
           }
          ],
          "barpolar": [
           {
            "marker": {
             "line": {
              "color": "rgb(17,17,17)",
              "width": 0.5
             },
             "pattern": {
              "fillmode": "overlay",
              "size": 10,
              "solidity": 0.2
             }
            },
            "type": "barpolar"
           }
          ],
          "pie": [
           {
            "automargin": true,
            "type": "pie"
           }
          ]
         },
         "layout": {
          "autotypenumbers": "strict",
          "colorway": [
           "#636efa",
           "#EF553B",
           "#00cc96",
           "#ab63fa",
           "#FFA15A",
           "#19d3f3",
           "#FF6692",
           "#B6E880",
           "#FF97FF",
           "#FECB52"
          ],
          "font": {
           "color": "#f2f5fa"
          },
          "hovermode": "closest",
          "hoverlabel": {
           "align": "left"
          },
          "paper_bgcolor": "rgb(17,17,17)",
          "plot_bgcolor": "rgb(17,17,17)",
          "polar": {
           "bgcolor": "rgb(17,17,17)",
           "angularaxis": {
            "gridcolor": "#506784",
            "linecolor": "#506784",
            "ticks": ""
           },
           "radialaxis": {
            "gridcolor": "#506784",
            "linecolor": "#506784",
            "ticks": ""
           }
          },
          "ternary": {
           "bgcolor": "rgb(17,17,17)",
           "aaxis": {
            "gridcolor": "#506784",
            "linecolor": "#506784",
            "ticks": ""
           },
           "baxis": {
            "gridcolor": "#506784",
            "linecolor": "#506784",
            "ticks": ""
           },
           "caxis": {
            "gridcolor": "#506784",
            "linecolor": "#506784",
            "ticks": ""
           }
          },
          "coloraxis": {
           "colorbar": {
            "outlinewidth": 0,
            "ticks": ""
           }
          },
          "colorscale": {
           "sequential": [
            [
             0.0,
             "#0d0887"
            ],
            [
             0.1111111111111111,
             "#46039f"
            ],
            [
             0.2222222222222222,
             "#7201a8"
            ],
            [
             0.3333333333333333,
             "#9c179e"
            ],
            [
             0.4444444444444444,
             "#bd3786"
            ],
            [
             0.5555555555555556,
             "#d8576b"
            ],
            [
             0.6666666666666666,
             "#ed7953"
            ],
            [
             0.7777777777777778,
             "#fb9f3a"
            ],
            [
             0.8888888888888888,
             "#fdca26"
            ],
            [
             1.0,
             "#f0f921"
            ]
           ],
           "sequentialminus": [
            [
             0.0,
             "#0d0887"
            ],
            [
             0.1111111111111111,
             "#46039f"
            ],
            [
             0.2222222222222222,
             "#7201a8"
            ],
            [
             0.3333333333333333,
             "#9c179e"
            ],
            [
             0.4444444444444444,
             "#bd3786"
            ],
            [
             0.5555555555555556,
             "#d8576b"
            ],
            [
             0.6666666666666666,
             "#ed7953"
            ],
            [
             0.7777777777777778,
             "#fb9f3a"
            ],
            [
             0.8888888888888888,
             "#fdca26"
            ],
            [
             1.0,
             "#f0f921"
            ]
           ],
           "diverging": [
            [
             0,
             "#8e0152"
            ],
            [
             0.1,
             "#c51b7d"
            ],
            [
             0.2,
             "#de77ae"
            ],
            [
             0.3,
             "#f1b6da"
            ],
            [
             0.4,
             "#fde0ef"
            ],
            [
             0.5,
             "#f7f7f7"
            ],
            [
             0.6,
             "#e6f5d0"
            ],
            [
             0.7,
             "#b8e186"
            ],
            [
             0.8,
             "#7fbc41"
            ],
            [
             0.9,
             "#4d9221"
            ],
            [
             1,
             "#276419"
            ]
           ]
          },
          "xaxis": {
           "gridcolor": "#283442",
           "linecolor": "#506784",
           "ticks": "",
           "title": {
            "standoff": 15
           },
           "zerolinecolor": "#283442",
           "automargin": true,
           "zerolinewidth": 2
          },
          "yaxis": {
           "gridcolor": "#283442",
           "linecolor": "#506784",
           "ticks": "",
           "title": {
            "standoff": 15
           },
           "zerolinecolor": "#283442",
           "automargin": true,
           "zerolinewidth": 2
          },
          "scene": {
           "xaxis": {
            "backgroundcolor": "rgb(17,17,17)",
            "gridcolor": "#506784",
            "linecolor": "#506784",
            "showbackground": true,
            "ticks": "",
            "zerolinecolor": "#C8D4E3",
            "gridwidth": 2
           },
           "yaxis": {
            "backgroundcolor": "rgb(17,17,17)",
            "gridcolor": "#506784",
            "linecolor": "#506784",
            "showbackground": true,
            "ticks": "",
            "zerolinecolor": "#C8D4E3",
            "gridwidth": 2
           },
           "zaxis": {
            "backgroundcolor": "rgb(17,17,17)",
            "gridcolor": "#506784",
            "linecolor": "#506784",
            "showbackground": true,
            "ticks": "",
            "zerolinecolor": "#C8D4E3",
            "gridwidth": 2
           }
          },
          "shapedefaults": {
           "line": {
            "color": "#f2f5fa"
           }
          },
          "annotationdefaults": {
           "arrowcolor": "#f2f5fa",
           "arrowhead": 0,
           "arrowwidth": 1
          },
          "geo": {
           "bgcolor": "rgb(17,17,17)",
           "landcolor": "rgb(17,17,17)",
           "subunitcolor": "#506784",
           "showland": true,
           "showlakes": true,
           "lakecolor": "rgb(17,17,17)"
          },
          "title": {
           "x": 0.05
          },
          "updatemenudefaults": {
           "bgcolor": "#506784",
           "borderwidth": 0
          },
          "sliderdefaults": {
           "bgcolor": "#C8D4E3",
           "borderwidth": 1,
           "bordercolor": "rgb(17,17,17)",
           "tickwidth": 0
          },
          "mapbox": {
           "style": "dark"
          }
         }
        },
        "xaxis": {
         "anchor": "y",
         "domain": [
          0.0,
          1.0
         ],
         "title": {
          "text": "Category"
         },
         "categoryorder": "array",
         "categoryarray": [
          "Fruits & Vegetables",
          "Cooking Essentials",
          "Dairy, Bread & Batter",
          "Packaged Food",
          "Meats, Fish & Eggs",
          "Biscuits",
          "Personal Care",
          "Home & Cleaning",
          "Health & Hygiene"
         ]
        },
        "yaxis": {
         "anchor": "x",
         "domain": [
          0.0,
          1.0
         ],
         "title": {
          "text": "count"
         }
        },
        "legend": {
         "title": {
          "text": "Category"
         },
         "tracegroupgap": 0
        },
        "margin": {
         "t": 60
        },
        "barmode": "relative",
        "height": 750
       },
       "config": {
        "plotlyServerURL": "https://plot.ly"
       }
      }
     },
     "metadata": {},
     "output_type": "display_data"
    }
   ],
   "execution_count": 76
  },
  {
   "metadata": {
    "ExecuteTime": {
     "end_time": "2025-06-08T06:26:03.952091Z",
     "start_time": "2025-06-08T06:26:03.889627Z"
    }
   },
   "cell_type": "code",
   "source": [
    "uniqueCategories = dfN['Category'].unique()\n",
    "n, m = 1, 1\n",
    "colorPie = ['#ff6361','#ffa600']\n",
    "subFig1 = mks(rows=1, cols=5, specs=[[{\"type\": \"pie\"}, {\"type\": \"pie\"}, {\"type\": \"pie\"}, {\"type\": \"pie\"}, {\"type\": \"pie\"}]])\n",
    "subFig2 = mks(rows=1, cols=4, specs=[[{\"type\": \"pie\"}, {\"type\": \"pie\"}, {\"type\": \"pie\"}, {\"type\": \"pie\"}]])\n",
    "\n",
    "# for value in uniqueCategories:\n",
    "for value in uniqueCategories:\n",
    "    if n<=5:\n",
    "        dfTemp = dfN[dfN['Category'] == f'{value}']\n",
    "        # figPie = px.pie(dfTemp, names='outOfStock', color ='outOfStock', color_discrete_sequence=colors[n:n+2], template='plotly_dark', width=500, title=f'{value}')\n",
    "        countBool = dfTemp['outOfStock'].value_counts().tolist()\n",
    "        subFig1.add_trace(\n",
    "            go.Pie(values=countBool, labels=['True', 'False'], title=f'{value}'),\n",
    "            row=1, col=n).update_traces(hoverinfo='label+value', textinfo='percent', marker=dict(colors=colorPie))\n",
    "        n+=1\n",
    "        print(f'The Probability of being out of stock for {value} is :\\t\\t', round(((countBool[1]/countBool[0])*100), 5), '%')\n",
    "    else:\n",
    "        dfTemp = dfN[dfN['Category'] == f'{value}']\n",
    "        countBool = dfTemp['outOfStock'].value_counts().tolist()\n",
    "        print(f'The Probability of being out of stock for {value} is :\\t\\t\\t\\t', round(((countBool[1]/countBool[0])*100), 5), '%')\n",
    "        subFig2.add_trace(\n",
    "            go.Pie(values=countBool, labels=['True', 'False'], title=f'{value}'),\n",
    "            row=1, col=m).update_traces(hoverinfo='label+value', textinfo='percent', marker=dict(colors=colorPie))\n",
    "        m+=1\n",
    "subFig1.show()\n",
    "subFig2.show()\n",
    "\n",
    "# f.show()"
   ],
   "id": "4e5af012ca7ac2d0",
   "outputs": [
    {
     "name": "stdout",
     "output_type": "stream",
     "text": [
      "The Probability of being out of stock for Fruits & Vegetables is :\t\t 4.70588 %\n",
      "The Probability of being out of stock for Cooking Essentials is :\t\t 13.80952 %\n",
      "The Probability of being out of stock for Dairy, Bread & Batter is :\t\t 30.12048 %\n",
      "The Probability of being out of stock for Packaged Food is :\t\t 9.96169 %\n",
      "The Probability of being out of stock for Meats, Fish & Eggs is :\t\t 28.0 %\n",
      "The Probability of being out of stock for Biscuits is :\t\t\t\t 35.71429 %\n",
      "The Probability of being out of stock for Personal Care is :\t\t\t\t 6.16438 %\n",
      "The Probability of being out of stock for Home & Cleaning is :\t\t\t\t 9.46746 %\n",
      "The Probability of being out of stock for Health & Hygiene is :\t\t\t\t 5.35714 %\n"
     ]
    },
    {
     "data": {
      "application/vnd.plotly.v1+json": {
       "data": [
        {
         "labels": [
          "True",
          "False"
         ],
         "title": {
          "text": "Fruits & Vegetables"
         },
         "values": [
          85,
          4
         ],
         "type": "pie",
         "domain": {
          "x": [
           0.0,
           0.16799999999999998
          ],
          "y": [
           0.0,
           1.0
          ]
         },
         "marker": {
          "colors": [
           "#ff6361",
           "#ffa600"
          ]
         },
         "hoverinfo": "label+value",
         "textinfo": "percent"
        },
        {
         "labels": [
          "True",
          "False"
         ],
         "title": {
          "text": "Cooking Essentials"
         },
         "values": [
          420,
          58
         ],
         "type": "pie",
         "domain": {
          "x": [
           0.208,
           0.376
          ],
          "y": [
           0.0,
           1.0
          ]
         },
         "marker": {
          "colors": [
           "#ff6361",
           "#ffa600"
          ]
         },
         "hoverinfo": "label+value",
         "textinfo": "percent"
        },
        {
         "labels": [
          "True",
          "False"
         ],
         "title": {
          "text": "Dairy, Bread & Batter"
         },
         "values": [
          83,
          25
         ],
         "type": "pie",
         "domain": {
          "x": [
           0.416,
           0.584
          ],
          "y": [
           0.0,
           1.0
          ]
         },
         "marker": {
          "colors": [
           "#ff6361",
           "#ffa600"
          ]
         },
         "hoverinfo": "label+value",
         "textinfo": "percent"
        },
        {
         "labels": [
          "True",
          "False"
         ],
         "title": {
          "text": "Packaged Food"
         },
         "values": [
          261,
          26
         ],
         "type": "pie",
         "domain": {
          "x": [
           0.624,
           0.792
          ],
          "y": [
           0.0,
           1.0
          ]
         },
         "marker": {
          "colors": [
           "#ff6361",
           "#ffa600"
          ]
         },
         "hoverinfo": "label+value",
         "textinfo": "percent"
        },
        {
         "labels": [
          "True",
          "False"
         ],
         "title": {
          "text": "Meats, Fish & Eggs"
         },
         "values": [
          25,
          7
         ],
         "type": "pie",
         "domain": {
          "x": [
           0.832,
           1.0
          ],
          "y": [
           0.0,
           1.0
          ]
         },
         "marker": {
          "colors": [
           "#ff6361",
           "#ffa600"
          ]
         },
         "hoverinfo": "label+value",
         "textinfo": "percent"
        }
       ],
       "layout": {
        "template": {
         "data": {
          "histogram2dcontour": [
           {
            "type": "histogram2dcontour",
            "colorbar": {
             "outlinewidth": 0,
             "ticks": ""
            },
            "colorscale": [
             [
              0.0,
              "#0d0887"
             ],
             [
              0.1111111111111111,
              "#46039f"
             ],
             [
              0.2222222222222222,
              "#7201a8"
             ],
             [
              0.3333333333333333,
              "#9c179e"
             ],
             [
              0.4444444444444444,
              "#bd3786"
             ],
             [
              0.5555555555555556,
              "#d8576b"
             ],
             [
              0.6666666666666666,
              "#ed7953"
             ],
             [
              0.7777777777777778,
              "#fb9f3a"
             ],
             [
              0.8888888888888888,
              "#fdca26"
             ],
             [
              1.0,
              "#f0f921"
             ]
            ]
           }
          ],
          "choropleth": [
           {
            "type": "choropleth",
            "colorbar": {
             "outlinewidth": 0,
             "ticks": ""
            }
           }
          ],
          "histogram2d": [
           {
            "type": "histogram2d",
            "colorbar": {
             "outlinewidth": 0,
             "ticks": ""
            },
            "colorscale": [
             [
              0.0,
              "#0d0887"
             ],
             [
              0.1111111111111111,
              "#46039f"
             ],
             [
              0.2222222222222222,
              "#7201a8"
             ],
             [
              0.3333333333333333,
              "#9c179e"
             ],
             [
              0.4444444444444444,
              "#bd3786"
             ],
             [
              0.5555555555555556,
              "#d8576b"
             ],
             [
              0.6666666666666666,
              "#ed7953"
             ],
             [
              0.7777777777777778,
              "#fb9f3a"
             ],
             [
              0.8888888888888888,
              "#fdca26"
             ],
             [
              1.0,
              "#f0f921"
             ]
            ]
           }
          ],
          "heatmap": [
           {
            "type": "heatmap",
            "colorbar": {
             "outlinewidth": 0,
             "ticks": ""
            },
            "colorscale": [
             [
              0.0,
              "#0d0887"
             ],
             [
              0.1111111111111111,
              "#46039f"
             ],
             [
              0.2222222222222222,
              "#7201a8"
             ],
             [
              0.3333333333333333,
              "#9c179e"
             ],
             [
              0.4444444444444444,
              "#bd3786"
             ],
             [
              0.5555555555555556,
              "#d8576b"
             ],
             [
              0.6666666666666666,
              "#ed7953"
             ],
             [
              0.7777777777777778,
              "#fb9f3a"
             ],
             [
              0.8888888888888888,
              "#fdca26"
             ],
             [
              1.0,
              "#f0f921"
             ]
            ]
           }
          ],
          "contourcarpet": [
           {
            "type": "contourcarpet",
            "colorbar": {
             "outlinewidth": 0,
             "ticks": ""
            }
           }
          ],
          "contour": [
           {
            "type": "contour",
            "colorbar": {
             "outlinewidth": 0,
             "ticks": ""
            },
            "colorscale": [
             [
              0.0,
              "#0d0887"
             ],
             [
              0.1111111111111111,
              "#46039f"
             ],
             [
              0.2222222222222222,
              "#7201a8"
             ],
             [
              0.3333333333333333,
              "#9c179e"
             ],
             [
              0.4444444444444444,
              "#bd3786"
             ],
             [
              0.5555555555555556,
              "#d8576b"
             ],
             [
              0.6666666666666666,
              "#ed7953"
             ],
             [
              0.7777777777777778,
              "#fb9f3a"
             ],
             [
              0.8888888888888888,
              "#fdca26"
             ],
             [
              1.0,
              "#f0f921"
             ]
            ]
           }
          ],
          "surface": [
           {
            "type": "surface",
            "colorbar": {
             "outlinewidth": 0,
             "ticks": ""
            },
            "colorscale": [
             [
              0.0,
              "#0d0887"
             ],
             [
              0.1111111111111111,
              "#46039f"
             ],
             [
              0.2222222222222222,
              "#7201a8"
             ],
             [
              0.3333333333333333,
              "#9c179e"
             ],
             [
              0.4444444444444444,
              "#bd3786"
             ],
             [
              0.5555555555555556,
              "#d8576b"
             ],
             [
              0.6666666666666666,
              "#ed7953"
             ],
             [
              0.7777777777777778,
              "#fb9f3a"
             ],
             [
              0.8888888888888888,
              "#fdca26"
             ],
             [
              1.0,
              "#f0f921"
             ]
            ]
           }
          ],
          "mesh3d": [
           {
            "type": "mesh3d",
            "colorbar": {
             "outlinewidth": 0,
             "ticks": ""
            }
           }
          ],
          "scatter": [
           {
            "marker": {
             "line": {
              "color": "#283442"
             }
            },
            "type": "scatter"
           }
          ],
          "parcoords": [
           {
            "type": "parcoords",
            "line": {
             "colorbar": {
              "outlinewidth": 0,
              "ticks": ""
             }
            }
           }
          ],
          "scatterpolargl": [
           {
            "type": "scatterpolargl",
            "marker": {
             "colorbar": {
              "outlinewidth": 0,
              "ticks": ""
             }
            }
           }
          ],
          "bar": [
           {
            "error_x": {
             "color": "#f2f5fa"
            },
            "error_y": {
             "color": "#f2f5fa"
            },
            "marker": {
             "line": {
              "color": "rgb(17,17,17)",
              "width": 0.5
             },
             "pattern": {
              "fillmode": "overlay",
              "size": 10,
              "solidity": 0.2
             }
            },
            "type": "bar"
           }
          ],
          "scattergeo": [
           {
            "type": "scattergeo",
            "marker": {
             "colorbar": {
              "outlinewidth": 0,
              "ticks": ""
             }
            }
           }
          ],
          "scatterpolar": [
           {
            "type": "scatterpolar",
            "marker": {
             "colorbar": {
              "outlinewidth": 0,
              "ticks": ""
             }
            }
           }
          ],
          "histogram": [
           {
            "marker": {
             "pattern": {
              "fillmode": "overlay",
              "size": 10,
              "solidity": 0.2
             }
            },
            "type": "histogram"
           }
          ],
          "scattergl": [
           {
            "marker": {
             "line": {
              "color": "#283442"
             }
            },
            "type": "scattergl"
           }
          ],
          "scatter3d": [
           {
            "type": "scatter3d",
            "line": {
             "colorbar": {
              "outlinewidth": 0,
              "ticks": ""
             }
            },
            "marker": {
             "colorbar": {
              "outlinewidth": 0,
              "ticks": ""
             }
            }
           }
          ],
          "scattermap": [
           {
            "type": "scattermap",
            "marker": {
             "colorbar": {
              "outlinewidth": 0,
              "ticks": ""
             }
            }
           }
          ],
          "scattermapbox": [
           {
            "type": "scattermapbox",
            "marker": {
             "colorbar": {
              "outlinewidth": 0,
              "ticks": ""
             }
            }
           }
          ],
          "scatterternary": [
           {
            "type": "scatterternary",
            "marker": {
             "colorbar": {
              "outlinewidth": 0,
              "ticks": ""
             }
            }
           }
          ],
          "scattercarpet": [
           {
            "type": "scattercarpet",
            "marker": {
             "colorbar": {
              "outlinewidth": 0,
              "ticks": ""
             }
            }
           }
          ],
          "carpet": [
           {
            "aaxis": {
             "endlinecolor": "#A2B1C6",
             "gridcolor": "#506784",
             "linecolor": "#506784",
             "minorgridcolor": "#506784",
             "startlinecolor": "#A2B1C6"
            },
            "baxis": {
             "endlinecolor": "#A2B1C6",
             "gridcolor": "#506784",
             "linecolor": "#506784",
             "minorgridcolor": "#506784",
             "startlinecolor": "#A2B1C6"
            },
            "type": "carpet"
           }
          ],
          "table": [
           {
            "cells": {
             "fill": {
              "color": "#506784"
             },
             "line": {
              "color": "rgb(17,17,17)"
             }
            },
            "header": {
             "fill": {
              "color": "#2a3f5f"
             },
             "line": {
              "color": "rgb(17,17,17)"
             }
            },
            "type": "table"
           }
          ],
          "barpolar": [
           {
            "marker": {
             "line": {
              "color": "rgb(17,17,17)",
              "width": 0.5
             },
             "pattern": {
              "fillmode": "overlay",
              "size": 10,
              "solidity": 0.2
             }
            },
            "type": "barpolar"
           }
          ],
          "pie": [
           {
            "automargin": true,
            "type": "pie"
           }
          ]
         },
         "layout": {
          "autotypenumbers": "strict",
          "colorway": [
           "#636efa",
           "#EF553B",
           "#00cc96",
           "#ab63fa",
           "#FFA15A",
           "#19d3f3",
           "#FF6692",
           "#B6E880",
           "#FF97FF",
           "#FECB52"
          ],
          "font": {
           "color": "#f2f5fa"
          },
          "hovermode": "closest",
          "hoverlabel": {
           "align": "left"
          },
          "paper_bgcolor": "rgb(17,17,17)",
          "plot_bgcolor": "rgb(17,17,17)",
          "polar": {
           "bgcolor": "rgb(17,17,17)",
           "angularaxis": {
            "gridcolor": "#506784",
            "linecolor": "#506784",
            "ticks": ""
           },
           "radialaxis": {
            "gridcolor": "#506784",
            "linecolor": "#506784",
            "ticks": ""
           }
          },
          "ternary": {
           "bgcolor": "rgb(17,17,17)",
           "aaxis": {
            "gridcolor": "#506784",
            "linecolor": "#506784",
            "ticks": ""
           },
           "baxis": {
            "gridcolor": "#506784",
            "linecolor": "#506784",
            "ticks": ""
           },
           "caxis": {
            "gridcolor": "#506784",
            "linecolor": "#506784",
            "ticks": ""
           }
          },
          "coloraxis": {
           "colorbar": {
            "outlinewidth": 0,
            "ticks": ""
           }
          },
          "colorscale": {
           "sequential": [
            [
             0.0,
             "#0d0887"
            ],
            [
             0.1111111111111111,
             "#46039f"
            ],
            [
             0.2222222222222222,
             "#7201a8"
            ],
            [
             0.3333333333333333,
             "#9c179e"
            ],
            [
             0.4444444444444444,
             "#bd3786"
            ],
            [
             0.5555555555555556,
             "#d8576b"
            ],
            [
             0.6666666666666666,
             "#ed7953"
            ],
            [
             0.7777777777777778,
             "#fb9f3a"
            ],
            [
             0.8888888888888888,
             "#fdca26"
            ],
            [
             1.0,
             "#f0f921"
            ]
           ],
           "sequentialminus": [
            [
             0.0,
             "#0d0887"
            ],
            [
             0.1111111111111111,
             "#46039f"
            ],
            [
             0.2222222222222222,
             "#7201a8"
            ],
            [
             0.3333333333333333,
             "#9c179e"
            ],
            [
             0.4444444444444444,
             "#bd3786"
            ],
            [
             0.5555555555555556,
             "#d8576b"
            ],
            [
             0.6666666666666666,
             "#ed7953"
            ],
            [
             0.7777777777777778,
             "#fb9f3a"
            ],
            [
             0.8888888888888888,
             "#fdca26"
            ],
            [
             1.0,
             "#f0f921"
            ]
           ],
           "diverging": [
            [
             0,
             "#8e0152"
            ],
            [
             0.1,
             "#c51b7d"
            ],
            [
             0.2,
             "#de77ae"
            ],
            [
             0.3,
             "#f1b6da"
            ],
            [
             0.4,
             "#fde0ef"
            ],
            [
             0.5,
             "#f7f7f7"
            ],
            [
             0.6,
             "#e6f5d0"
            ],
            [
             0.7,
             "#b8e186"
            ],
            [
             0.8,
             "#7fbc41"
            ],
            [
             0.9,
             "#4d9221"
            ],
            [
             1,
             "#276419"
            ]
           ]
          },
          "xaxis": {
           "gridcolor": "#283442",
           "linecolor": "#506784",
           "ticks": "",
           "title": {
            "standoff": 15
           },
           "zerolinecolor": "#283442",
           "automargin": true,
           "zerolinewidth": 2
          },
          "yaxis": {
           "gridcolor": "#283442",
           "linecolor": "#506784",
           "ticks": "",
           "title": {
            "standoff": 15
           },
           "zerolinecolor": "#283442",
           "automargin": true,
           "zerolinewidth": 2
          },
          "scene": {
           "xaxis": {
            "backgroundcolor": "rgb(17,17,17)",
            "gridcolor": "#506784",
            "linecolor": "#506784",
            "showbackground": true,
            "ticks": "",
            "zerolinecolor": "#C8D4E3",
            "gridwidth": 2
           },
           "yaxis": {
            "backgroundcolor": "rgb(17,17,17)",
            "gridcolor": "#506784",
            "linecolor": "#506784",
            "showbackground": true,
            "ticks": "",
            "zerolinecolor": "#C8D4E3",
            "gridwidth": 2
           },
           "zaxis": {
            "backgroundcolor": "rgb(17,17,17)",
            "gridcolor": "#506784",
            "linecolor": "#506784",
            "showbackground": true,
            "ticks": "",
            "zerolinecolor": "#C8D4E3",
            "gridwidth": 2
           }
          },
          "shapedefaults": {
           "line": {
            "color": "#f2f5fa"
           }
          },
          "annotationdefaults": {
           "arrowcolor": "#f2f5fa",
           "arrowhead": 0,
           "arrowwidth": 1
          },
          "geo": {
           "bgcolor": "rgb(17,17,17)",
           "landcolor": "rgb(17,17,17)",
           "subunitcolor": "#506784",
           "showland": true,
           "showlakes": true,
           "lakecolor": "rgb(17,17,17)"
          },
          "title": {
           "x": 0.05
          },
          "updatemenudefaults": {
           "bgcolor": "#506784",
           "borderwidth": 0
          },
          "sliderdefaults": {
           "bgcolor": "#C8D4E3",
           "borderwidth": 1,
           "bordercolor": "rgb(17,17,17)",
           "tickwidth": 0
          },
          "mapbox": {
           "style": "dark"
          }
         }
        }
       },
       "config": {
        "plotlyServerURL": "https://plot.ly"
       }
      }
     },
     "metadata": {},
     "output_type": "display_data"
    },
    {
     "data": {
      "application/vnd.plotly.v1+json": {
       "data": [
        {
         "labels": [
          "True",
          "False"
         ],
         "title": {
          "text": "Biscuits"
         },
         "values": [
          98,
          35
         ],
         "type": "pie",
         "domain": {
          "x": [
           0.0,
           0.2125
          ],
          "y": [
           0.0,
           1.0
          ]
         },
         "marker": {
          "colors": [
           "#ff6361",
           "#ffa600"
          ]
         },
         "hoverinfo": "label+value",
         "textinfo": "percent"
        },
        {
         "labels": [
          "True",
          "False"
         ],
         "title": {
          "text": "Personal Care"
         },
         "values": [
          292,
          18
         ],
         "type": "pie",
         "domain": {
          "x": [
           0.2625,
           0.475
          ],
          "y": [
           0.0,
           1.0
          ]
         },
         "marker": {
          "colors": [
           "#ff6361",
           "#ffa600"
          ]
         },
         "hoverinfo": "label+value",
         "textinfo": "percent"
        },
        {
         "labels": [
          "True",
          "False"
         ],
         "title": {
          "text": "Home & Cleaning"
         },
         "values": [
          169,
          16
         ],
         "type": "pie",
         "domain": {
          "x": [
           0.525,
           0.7375
          ],
          "y": [
           0.0,
           1.0
          ]
         },
         "marker": {
          "colors": [
           "#ff6361",
           "#ffa600"
          ]
         },
         "hoverinfo": "label+value",
         "textinfo": "percent"
        },
        {
         "labels": [
          "True",
          "False"
         ],
         "title": {
          "text": "Health & Hygiene"
         },
         "values": [
          56,
          3
         ],
         "type": "pie",
         "domain": {
          "x": [
           0.7875,
           1.0
          ],
          "y": [
           0.0,
           1.0
          ]
         },
         "marker": {
          "colors": [
           "#ff6361",
           "#ffa600"
          ]
         },
         "hoverinfo": "label+value",
         "textinfo": "percent"
        }
       ],
       "layout": {
        "template": {
         "data": {
          "histogram2dcontour": [
           {
            "type": "histogram2dcontour",
            "colorbar": {
             "outlinewidth": 0,
             "ticks": ""
            },
            "colorscale": [
             [
              0.0,
              "#0d0887"
             ],
             [
              0.1111111111111111,
              "#46039f"
             ],
             [
              0.2222222222222222,
              "#7201a8"
             ],
             [
              0.3333333333333333,
              "#9c179e"
             ],
             [
              0.4444444444444444,
              "#bd3786"
             ],
             [
              0.5555555555555556,
              "#d8576b"
             ],
             [
              0.6666666666666666,
              "#ed7953"
             ],
             [
              0.7777777777777778,
              "#fb9f3a"
             ],
             [
              0.8888888888888888,
              "#fdca26"
             ],
             [
              1.0,
              "#f0f921"
             ]
            ]
           }
          ],
          "choropleth": [
           {
            "type": "choropleth",
            "colorbar": {
             "outlinewidth": 0,
             "ticks": ""
            }
           }
          ],
          "histogram2d": [
           {
            "type": "histogram2d",
            "colorbar": {
             "outlinewidth": 0,
             "ticks": ""
            },
            "colorscale": [
             [
              0.0,
              "#0d0887"
             ],
             [
              0.1111111111111111,
              "#46039f"
             ],
             [
              0.2222222222222222,
              "#7201a8"
             ],
             [
              0.3333333333333333,
              "#9c179e"
             ],
             [
              0.4444444444444444,
              "#bd3786"
             ],
             [
              0.5555555555555556,
              "#d8576b"
             ],
             [
              0.6666666666666666,
              "#ed7953"
             ],
             [
              0.7777777777777778,
              "#fb9f3a"
             ],
             [
              0.8888888888888888,
              "#fdca26"
             ],
             [
              1.0,
              "#f0f921"
             ]
            ]
           }
          ],
          "heatmap": [
           {
            "type": "heatmap",
            "colorbar": {
             "outlinewidth": 0,
             "ticks": ""
            },
            "colorscale": [
             [
              0.0,
              "#0d0887"
             ],
             [
              0.1111111111111111,
              "#46039f"
             ],
             [
              0.2222222222222222,
              "#7201a8"
             ],
             [
              0.3333333333333333,
              "#9c179e"
             ],
             [
              0.4444444444444444,
              "#bd3786"
             ],
             [
              0.5555555555555556,
              "#d8576b"
             ],
             [
              0.6666666666666666,
              "#ed7953"
             ],
             [
              0.7777777777777778,
              "#fb9f3a"
             ],
             [
              0.8888888888888888,
              "#fdca26"
             ],
             [
              1.0,
              "#f0f921"
             ]
            ]
           }
          ],
          "contourcarpet": [
           {
            "type": "contourcarpet",
            "colorbar": {
             "outlinewidth": 0,
             "ticks": ""
            }
           }
          ],
          "contour": [
           {
            "type": "contour",
            "colorbar": {
             "outlinewidth": 0,
             "ticks": ""
            },
            "colorscale": [
             [
              0.0,
              "#0d0887"
             ],
             [
              0.1111111111111111,
              "#46039f"
             ],
             [
              0.2222222222222222,
              "#7201a8"
             ],
             [
              0.3333333333333333,
              "#9c179e"
             ],
             [
              0.4444444444444444,
              "#bd3786"
             ],
             [
              0.5555555555555556,
              "#d8576b"
             ],
             [
              0.6666666666666666,
              "#ed7953"
             ],
             [
              0.7777777777777778,
              "#fb9f3a"
             ],
             [
              0.8888888888888888,
              "#fdca26"
             ],
             [
              1.0,
              "#f0f921"
             ]
            ]
           }
          ],
          "surface": [
           {
            "type": "surface",
            "colorbar": {
             "outlinewidth": 0,
             "ticks": ""
            },
            "colorscale": [
             [
              0.0,
              "#0d0887"
             ],
             [
              0.1111111111111111,
              "#46039f"
             ],
             [
              0.2222222222222222,
              "#7201a8"
             ],
             [
              0.3333333333333333,
              "#9c179e"
             ],
             [
              0.4444444444444444,
              "#bd3786"
             ],
             [
              0.5555555555555556,
              "#d8576b"
             ],
             [
              0.6666666666666666,
              "#ed7953"
             ],
             [
              0.7777777777777778,
              "#fb9f3a"
             ],
             [
              0.8888888888888888,
              "#fdca26"
             ],
             [
              1.0,
              "#f0f921"
             ]
            ]
           }
          ],
          "mesh3d": [
           {
            "type": "mesh3d",
            "colorbar": {
             "outlinewidth": 0,
             "ticks": ""
            }
           }
          ],
          "scatter": [
           {
            "marker": {
             "line": {
              "color": "#283442"
             }
            },
            "type": "scatter"
           }
          ],
          "parcoords": [
           {
            "type": "parcoords",
            "line": {
             "colorbar": {
              "outlinewidth": 0,
              "ticks": ""
             }
            }
           }
          ],
          "scatterpolargl": [
           {
            "type": "scatterpolargl",
            "marker": {
             "colorbar": {
              "outlinewidth": 0,
              "ticks": ""
             }
            }
           }
          ],
          "bar": [
           {
            "error_x": {
             "color": "#f2f5fa"
            },
            "error_y": {
             "color": "#f2f5fa"
            },
            "marker": {
             "line": {
              "color": "rgb(17,17,17)",
              "width": 0.5
             },
             "pattern": {
              "fillmode": "overlay",
              "size": 10,
              "solidity": 0.2
             }
            },
            "type": "bar"
           }
          ],
          "scattergeo": [
           {
            "type": "scattergeo",
            "marker": {
             "colorbar": {
              "outlinewidth": 0,
              "ticks": ""
             }
            }
           }
          ],
          "scatterpolar": [
           {
            "type": "scatterpolar",
            "marker": {
             "colorbar": {
              "outlinewidth": 0,
              "ticks": ""
             }
            }
           }
          ],
          "histogram": [
           {
            "marker": {
             "pattern": {
              "fillmode": "overlay",
              "size": 10,
              "solidity": 0.2
             }
            },
            "type": "histogram"
           }
          ],
          "scattergl": [
           {
            "marker": {
             "line": {
              "color": "#283442"
             }
            },
            "type": "scattergl"
           }
          ],
          "scatter3d": [
           {
            "type": "scatter3d",
            "line": {
             "colorbar": {
              "outlinewidth": 0,
              "ticks": ""
             }
            },
            "marker": {
             "colorbar": {
              "outlinewidth": 0,
              "ticks": ""
             }
            }
           }
          ],
          "scattermap": [
           {
            "type": "scattermap",
            "marker": {
             "colorbar": {
              "outlinewidth": 0,
              "ticks": ""
             }
            }
           }
          ],
          "scattermapbox": [
           {
            "type": "scattermapbox",
            "marker": {
             "colorbar": {
              "outlinewidth": 0,
              "ticks": ""
             }
            }
           }
          ],
          "scatterternary": [
           {
            "type": "scatterternary",
            "marker": {
             "colorbar": {
              "outlinewidth": 0,
              "ticks": ""
             }
            }
           }
          ],
          "scattercarpet": [
           {
            "type": "scattercarpet",
            "marker": {
             "colorbar": {
              "outlinewidth": 0,
              "ticks": ""
             }
            }
           }
          ],
          "carpet": [
           {
            "aaxis": {
             "endlinecolor": "#A2B1C6",
             "gridcolor": "#506784",
             "linecolor": "#506784",
             "minorgridcolor": "#506784",
             "startlinecolor": "#A2B1C6"
            },
            "baxis": {
             "endlinecolor": "#A2B1C6",
             "gridcolor": "#506784",
             "linecolor": "#506784",
             "minorgridcolor": "#506784",
             "startlinecolor": "#A2B1C6"
            },
            "type": "carpet"
           }
          ],
          "table": [
           {
            "cells": {
             "fill": {
              "color": "#506784"
             },
             "line": {
              "color": "rgb(17,17,17)"
             }
            },
            "header": {
             "fill": {
              "color": "#2a3f5f"
             },
             "line": {
              "color": "rgb(17,17,17)"
             }
            },
            "type": "table"
           }
          ],
          "barpolar": [
           {
            "marker": {
             "line": {
              "color": "rgb(17,17,17)",
              "width": 0.5
             },
             "pattern": {
              "fillmode": "overlay",
              "size": 10,
              "solidity": 0.2
             }
            },
            "type": "barpolar"
           }
          ],
          "pie": [
           {
            "automargin": true,
            "type": "pie"
           }
          ]
         },
         "layout": {
          "autotypenumbers": "strict",
          "colorway": [
           "#636efa",
           "#EF553B",
           "#00cc96",
           "#ab63fa",
           "#FFA15A",
           "#19d3f3",
           "#FF6692",
           "#B6E880",
           "#FF97FF",
           "#FECB52"
          ],
          "font": {
           "color": "#f2f5fa"
          },
          "hovermode": "closest",
          "hoverlabel": {
           "align": "left"
          },
          "paper_bgcolor": "rgb(17,17,17)",
          "plot_bgcolor": "rgb(17,17,17)",
          "polar": {
           "bgcolor": "rgb(17,17,17)",
           "angularaxis": {
            "gridcolor": "#506784",
            "linecolor": "#506784",
            "ticks": ""
           },
           "radialaxis": {
            "gridcolor": "#506784",
            "linecolor": "#506784",
            "ticks": ""
           }
          },
          "ternary": {
           "bgcolor": "rgb(17,17,17)",
           "aaxis": {
            "gridcolor": "#506784",
            "linecolor": "#506784",
            "ticks": ""
           },
           "baxis": {
            "gridcolor": "#506784",
            "linecolor": "#506784",
            "ticks": ""
           },
           "caxis": {
            "gridcolor": "#506784",
            "linecolor": "#506784",
            "ticks": ""
           }
          },
          "coloraxis": {
           "colorbar": {
            "outlinewidth": 0,
            "ticks": ""
           }
          },
          "colorscale": {
           "sequential": [
            [
             0.0,
             "#0d0887"
            ],
            [
             0.1111111111111111,
             "#46039f"
            ],
            [
             0.2222222222222222,
             "#7201a8"
            ],
            [
             0.3333333333333333,
             "#9c179e"
            ],
            [
             0.4444444444444444,
             "#bd3786"
            ],
            [
             0.5555555555555556,
             "#d8576b"
            ],
            [
             0.6666666666666666,
             "#ed7953"
            ],
            [
             0.7777777777777778,
             "#fb9f3a"
            ],
            [
             0.8888888888888888,
             "#fdca26"
            ],
            [
             1.0,
             "#f0f921"
            ]
           ],
           "sequentialminus": [
            [
             0.0,
             "#0d0887"
            ],
            [
             0.1111111111111111,
             "#46039f"
            ],
            [
             0.2222222222222222,
             "#7201a8"
            ],
            [
             0.3333333333333333,
             "#9c179e"
            ],
            [
             0.4444444444444444,
             "#bd3786"
            ],
            [
             0.5555555555555556,
             "#d8576b"
            ],
            [
             0.6666666666666666,
             "#ed7953"
            ],
            [
             0.7777777777777778,
             "#fb9f3a"
            ],
            [
             0.8888888888888888,
             "#fdca26"
            ],
            [
             1.0,
             "#f0f921"
            ]
           ],
           "diverging": [
            [
             0,
             "#8e0152"
            ],
            [
             0.1,
             "#c51b7d"
            ],
            [
             0.2,
             "#de77ae"
            ],
            [
             0.3,
             "#f1b6da"
            ],
            [
             0.4,
             "#fde0ef"
            ],
            [
             0.5,
             "#f7f7f7"
            ],
            [
             0.6,
             "#e6f5d0"
            ],
            [
             0.7,
             "#b8e186"
            ],
            [
             0.8,
             "#7fbc41"
            ],
            [
             0.9,
             "#4d9221"
            ],
            [
             1,
             "#276419"
            ]
           ]
          },
          "xaxis": {
           "gridcolor": "#283442",
           "linecolor": "#506784",
           "ticks": "",
           "title": {
            "standoff": 15
           },
           "zerolinecolor": "#283442",
           "automargin": true,
           "zerolinewidth": 2
          },
          "yaxis": {
           "gridcolor": "#283442",
           "linecolor": "#506784",
           "ticks": "",
           "title": {
            "standoff": 15
           },
           "zerolinecolor": "#283442",
           "automargin": true,
           "zerolinewidth": 2
          },
          "scene": {
           "xaxis": {
            "backgroundcolor": "rgb(17,17,17)",
            "gridcolor": "#506784",
            "linecolor": "#506784",
            "showbackground": true,
            "ticks": "",
            "zerolinecolor": "#C8D4E3",
            "gridwidth": 2
           },
           "yaxis": {
            "backgroundcolor": "rgb(17,17,17)",
            "gridcolor": "#506784",
            "linecolor": "#506784",
            "showbackground": true,
            "ticks": "",
            "zerolinecolor": "#C8D4E3",
            "gridwidth": 2
           },
           "zaxis": {
            "backgroundcolor": "rgb(17,17,17)",
            "gridcolor": "#506784",
            "linecolor": "#506784",
            "showbackground": true,
            "ticks": "",
            "zerolinecolor": "#C8D4E3",
            "gridwidth": 2
           }
          },
          "shapedefaults": {
           "line": {
            "color": "#f2f5fa"
           }
          },
          "annotationdefaults": {
           "arrowcolor": "#f2f5fa",
           "arrowhead": 0,
           "arrowwidth": 1
          },
          "geo": {
           "bgcolor": "rgb(17,17,17)",
           "landcolor": "rgb(17,17,17)",
           "subunitcolor": "#506784",
           "showland": true,
           "showlakes": true,
           "lakecolor": "rgb(17,17,17)"
          },
          "title": {
           "x": 0.05
          },
          "updatemenudefaults": {
           "bgcolor": "#506784",
           "borderwidth": 0
          },
          "sliderdefaults": {
           "bgcolor": "#C8D4E3",
           "borderwidth": 1,
           "bordercolor": "rgb(17,17,17)",
           "tickwidth": 0
          },
          "mapbox": {
           "style": "dark"
          }
         }
        }
       },
       "config": {
        "plotlyServerURL": "https://plot.ly"
       }
      }
     },
     "metadata": {},
     "output_type": "display_data"
    }
   ],
   "execution_count": 77
  },
  {
   "metadata": {
    "ExecuteTime": {
     "end_time": "2025-06-08T06:26:03.992221Z",
     "start_time": "2025-06-08T06:26:03.989252Z"
    }
   },
   "cell_type": "code",
   "source": [
    "# fig = px.pie(dfN, names='outOfStock', color ='outOfStock', color_discrete_sequence=colors, template='plotly_dark')\n",
    "# countBool = dfN['outOfStock'].value_counts().tolist()\n",
    "# print(countBool)\n",
    "# print(f'The Probability of being out of stock for overall is : ', round(((countBool[1]/countBool[0])*100), 5), '%')\n",
    "# fig.show()"
   ],
   "id": "2038b56c12fe5b7f",
   "outputs": [],
   "execution_count": 78
  },
  {
   "metadata": {
    "ExecuteTime": {
     "end_time": "2025-06-08T06:26:04.054228Z",
     "start_time": "2025-06-08T06:26:04.017321Z"
    }
   },
   "cell_type": "code",
   "source": [
    "fig = px.pie(dfN, names='availableQuantity', color = 'availableQuantity', color_discrete_sequence=colors, template='plotly_dark').update_traces(hoverinfo='label+value', textinfo='percent', marker=dict(colors=colorPie))\n",
    "fig.show()"
   ],
   "id": "b594ebc35714b003",
   "outputs": [
    {
     "data": {
      "application/vnd.plotly.v1+json": {
       "data": [
        {
         "customdata": {
          "dtype": "i1",
          "bdata": "AwMDAwMDAwMDAwMDAwMDAwMDAwMDAwMDAwMDAwMDAwMDAwMDAwMDAwMDAwMDAwMDAwMDBgYDAwMDAwMGAwMDAwMCAwMDAwMGAwYGAwICAwIDAwMDAwAAAAAGBgYEBgYGBAYGBgYGBgQGAwYCBgYEBgYGAQYGAwMGBgQGBAYBBgYGBgIGBgYDBgQGAwYEBgUFBgIGAwYEAgYGAQYBBgYEBgYGAwYEBgYGAgIGBgYGAwECBgQFBgQBBQYGBgMGBgUGAwIGBQUCBgYBBAIGBgYGAgEBAgUCBgYBAwIGBgUGBAEGBgIEBgQEBQMEBQYFAQYGBgUBBgYBBgMFAgYGBgYEAQYGBgIGAgIGBgYBAwEGAgYFBgYFBgMCAwIEAwMGBgYGBgYGBAYGBgYDAwYGBgEGBQYGBgQFAwQEAwYGBQMGBAUEBQQEBgIFBgYFBgYDBgMFBAYGBQUGBgUEBgQGAQUBBgUCBgYGBgUGAwUEBgYGAQUEBgYGBQMFBQUGBgYGBQQGAgYFBgQFBQYEBgUEBQYGBQYEAgYGBgYGBgIFBgYGBQYGBgYGBQYGAQYGBQYGBgYGBgYDBgYGBgYGBgQGBgYGBgYGBgYEBQIGBgYGBAUGBgYGBgYBBgQFBgYGBgYGBgYGBgYGBgYGBgMGAQYGBgQGBgYGAgYGBgYGBgYEBgEAAAAAAAAAAAAAAAAAAAAAAAAAAAAAAAAAAAAAAAAAAAAAAAAAAAAAAAAAAAAAAAAAAAAAAAAAAAAABAYEBgQGBAQGBgQGBAYGAwYGAQQGBgYGBAYBBgUFBgYBAQMBBgUGBAQEBgEGBgIEBgQFBAYEBgYGBgQGBgYEBgQFBgEGBgYGBgYGBgYBBgYGBAYAAAAAAAAAAAAAAAAAAAAAAAAAAAAAAAAABAYGBgYGAgEFBQQBAQYDBgEGAQYDAwIFBgYFAgIGBgEFBAYBBgYGAQYEBgYGAQQGBgYGBQQFBAYGBQEBAgYGBQYGAgYGAwYDAgQGBgQCBgYEBAMDAwYGBgUBAQUGBgEGAwYDBAEDBAMGBgEDBgYGBgYGBgEEBgUGBAIGBgQGBgYGBQUFBgYBBgYEAQMGBAUCBAYBAgUGBQYCBAICBgMEBgMGAwYFBQMGBgUFBgMGAQYBAQQGBQQFAgUFBgYGAQQGBgMGAQMBBQYEBQYFAQUGBgYGAQYCBgUGAQMBBQIGBgYFBgYGBgYGBgYFBQYGBgQEBgEGBgQGBgIGBgYGBQYGAgYEBgMFAAAAAAAAAAAAAAAAAAAAAAAAAAAAAAAAAAAEAwMBBgEDAQECAgEBAgEBAwEBAQEBAQEBAAAAAAAAAAYGBAEFAQUDBAUDBgIDAwIDBgQGAQIFBgQGAwMBAwUGAgYGAwQEAQMGBgMEBgYGBgQGAgYDBgYDAwQEBgYGAgUGBgYCBgMBAQYEBgUGBgYEBgYDAgQGBQYGBgYGAwYCBgEEAAAAAAAAAAAAAAAAAAAAAAAAAAAAAAAAAAAAAAAAAAAAAAADBgYGBgYGAgYGAgYGBgYEBgMDBgYEBgEGBgEFBgQDBgQFBAIGBgIGBgUEAgIGBgYEBgYGBgUCBgYDAwMFAwYGBgEGBgYGBQQCBgMBBAYBBQYDAwYGAgMGBgQEAQQDBgEEBQYEAgIGBAYFBgQDBAQEBQYGBAMFAQUCBgMFBQUGBgQGBAMEBgYFBgYEBAIDBgMGBQUDAQYDAgYGBgQDBgUBBgEGAwEGBgYGBQQDBgMFBgYGBQUCBAUEBgEGAQYEBgIGBgMGBAYEBgQGBgYFBgYBBgYEBQIFBQYBBQIGBAYGBAYEAgUGBgMGBgYBBgYCBQQDBAMGBgYDBgYEBgUBAwYEBQEGAwQBBgEGBgYCBgYGBgYGBAEGBgQBBgYBAgYGBgECBAYEAAAAAAAAAAAAAAAAAAAAAAAAAQYGAgQGAwQBBgYGBgYGBgQGBgEEAgYGBgYCAQIFBgQGBgQGBgYGBgYGBgYGBgYDBgYGBQEBBAQEBAYGAgIGAwQBAwEEAwMDAgMGBgUGAQYGBQYEBgQGBgQFAQYGBgMGBgYGBgECBgYCBgYGAQYGBgYGBgQGBgYGBgYGBQYGBgQEBgQGBgYFAQQGBgIGBgUFBgUCBgYGBgYGBgYGAQQEBgEGBQYGAwYGBgAAAAAAAAAAAAAAAAAAAAAGBgYGBgIEBgYGAgYGBgQGBgYGBQYCBgYGAwYGBgYGBgEGBgYGBgYEBgYGBgQGBAYGAQYBAgYBBgAAAA==",
          "shape": "1681, 1"
         },
         "domain": {
          "x": [
           0.0,
           1.0
          ],
          "y": [
           0.0,
           1.0
          ]
         },
         "hovertemplate": "availableQuantity=%{customdata[0]}<extra></extra>",
         "labels": {
          "dtype": "i1",
          "bdata": "AwMDAwMDAwMDAwMDAwMDAwMDAwMDAwMDAwMDAwMDAwMDAwMDAwMDAwMDAwMDAwMDAwMDBgYDAwMDAwMGAwMDAwMCAwMDAwMGAwYGAwICAwIDAwMDAwAAAAAGBgYEBgYGBAYGBgYGBgQGAwYCBgYEBgYGAQYGAwMGBgQGBAYBBgYGBgIGBgYDBgQGAwYEBgUFBgIGAwYEAgYGAQYBBgYEBgYGAwYEBgYGAgIGBgYGAwECBgQFBgQBBQYGBgMGBgUGAwIGBQUCBgYBBAIGBgYGAgEBAgUCBgYBAwIGBgUGBAEGBgIEBgQEBQMEBQYFAQYGBgUBBgYBBgMFAgYGBgYEAQYGBgIGAgIGBgYBAwEGAgYFBgYFBgMCAwIEAwMGBgYGBgYGBAYGBgYDAwYGBgEGBQYGBgQFAwQEAwYGBQMGBAUEBQQEBgIFBgYFBgYDBgMFBAYGBQUGBgUEBgQGAQUBBgUCBgYGBgUGAwUEBgYGAQUEBgYGBQMFBQUGBgYGBQQGAgYFBgQFBQYEBgUEBQYGBQYEAgYGBgYGBgIFBgYGBQYGBgYGBQYGAQYGBQYGBgYGBgYDBgYGBgYGBgQGBgYGBgYGBgYEBQIGBgYGBAUGBgYGBgYBBgQFBgYGBgYGBgYGBgYGBgYGBgMGAQYGBgQGBgYGAgYGBgYGBgYEBgEAAAAAAAAAAAAAAAAAAAAAAAAAAAAAAAAAAAAAAAAAAAAAAAAAAAAAAAAAAAAAAAAAAAAAAAAAAAAABAYEBgQGBAQGBgQGBAYGAwYGAQQGBgYGBAYBBgUFBgYBAQMBBgUGBAQEBgEGBgIEBgQFBAYEBgYGBgQGBgYEBgQFBgEGBgYGBgYGBgYBBgYGBAYAAAAAAAAAAAAAAAAAAAAAAAAAAAAAAAAABAYGBgYGAgEFBQQBAQYDBgEGAQYDAwIFBgYFAgIGBgEFBAYBBgYGAQYEBgYGAQQGBgYGBQQFBAYGBQEBAgYGBQYGAgYGAwYDAgQGBgQCBgYEBAMDAwYGBgUBAQUGBgEGAwYDBAEDBAMGBgEDBgYGBgYGBgEEBgUGBAIGBgQGBgYGBQUFBgYBBgYEAQMGBAUCBAYBAgUGBQYCBAICBgMEBgMGAwYFBQMGBgUFBgMGAQYBAQQGBQQFAgUFBgYGAQQGBgMGAQMBBQYEBQYFAQUGBgYGAQYCBgUGAQMBBQIGBgYFBgYGBgYGBgYFBQYGBgQEBgEGBgQGBgIGBgYGBQYGAgYEBgMFAAAAAAAAAAAAAAAAAAAAAAAAAAAAAAAAAAAEAwMBBgEDAQECAgEBAgEBAwEBAQEBAQEBAAAAAAAAAAYGBAEFAQUDBAUDBgIDAwIDBgQGAQIFBgQGAwMBAwUGAgYGAwQEAQMGBgMEBgYGBgQGAgYDBgYDAwQEBgYGAgUGBgYCBgMBAQYEBgUGBgYEBgYDAgQGBQYGBgYGAwYCBgEEAAAAAAAAAAAAAAAAAAAAAAAAAAAAAAAAAAAAAAAAAAAAAAADBgYGBgYGAgYGAgYGBgYEBgMDBgYEBgEGBgEFBgQDBgQFBAIGBgIGBgUEAgIGBgYEBgYGBgUCBgYDAwMFAwYGBgEGBgYGBQQCBgMBBAYBBQYDAwYGAgMGBgQEAQQDBgEEBQYEAgIGBAYFBgQDBAQEBQYGBAMFAQUCBgMFBQUGBgQGBAMEBgYFBgYEBAIDBgMGBQUDAQYDAgYGBgQDBgUBBgEGAwEGBgYGBQQDBgMFBgYGBQUCBAUEBgEGAQYEBgIGBgMGBAYEBgQGBgYFBgYBBgYEBQIFBQYBBQIGBAYGBAYEAgUGBgMGBgYBBgYCBQQDBAMGBgYDBgYEBgUBAwYEBQEGAwQBBgEGBgYCBgYGBgYGBAEGBgQBBgYBAgYGBgECBAYEAAAAAAAAAAAAAAAAAAAAAAAAAQYGAgQGAwQBBgYGBgYGBgQGBgEEAgYGBgYCAQIFBgQGBgQGBgYGBgYGBgYGBgYDBgYGBQEBBAQEBAYGAgIGAwQBAwEEAwMDAgMGBgUGAQYGBQYEBgQGBgQFAQYGBgMGBgYGBgECBgYCBgYGAQYGBgYGBgQGBgYGBgYGBQYGBgQEBgQGBgYFAQQGBgIGBgUFBgUCBgYGBgYGBgYGAQQEBgEGBQYGAwYGBgAAAAAAAAAAAAAAAAAAAAAGBgYGBgIEBgYGAgYGBgQGBgYGBQYCBgYGAwYGBgYGBgEGBgYGBgYEBgYGBgQGBAYGAQYBAgYBBgAAAA=="
         },
         "legendgroup": "",
         "marker": {
          "colors": [
           "#ff6361",
           "#ffa600"
          ]
         },
         "name": "",
         "showlegend": true,
         "type": "pie",
         "hoverinfo": "label+value",
         "textinfo": "percent"
        }
       ],
       "layout": {
        "template": {
         "data": {
          "histogram2dcontour": [
           {
            "type": "histogram2dcontour",
            "colorbar": {
             "outlinewidth": 0,
             "ticks": ""
            },
            "colorscale": [
             [
              0.0,
              "#0d0887"
             ],
             [
              0.1111111111111111,
              "#46039f"
             ],
             [
              0.2222222222222222,
              "#7201a8"
             ],
             [
              0.3333333333333333,
              "#9c179e"
             ],
             [
              0.4444444444444444,
              "#bd3786"
             ],
             [
              0.5555555555555556,
              "#d8576b"
             ],
             [
              0.6666666666666666,
              "#ed7953"
             ],
             [
              0.7777777777777778,
              "#fb9f3a"
             ],
             [
              0.8888888888888888,
              "#fdca26"
             ],
             [
              1.0,
              "#f0f921"
             ]
            ]
           }
          ],
          "choropleth": [
           {
            "type": "choropleth",
            "colorbar": {
             "outlinewidth": 0,
             "ticks": ""
            }
           }
          ],
          "histogram2d": [
           {
            "type": "histogram2d",
            "colorbar": {
             "outlinewidth": 0,
             "ticks": ""
            },
            "colorscale": [
             [
              0.0,
              "#0d0887"
             ],
             [
              0.1111111111111111,
              "#46039f"
             ],
             [
              0.2222222222222222,
              "#7201a8"
             ],
             [
              0.3333333333333333,
              "#9c179e"
             ],
             [
              0.4444444444444444,
              "#bd3786"
             ],
             [
              0.5555555555555556,
              "#d8576b"
             ],
             [
              0.6666666666666666,
              "#ed7953"
             ],
             [
              0.7777777777777778,
              "#fb9f3a"
             ],
             [
              0.8888888888888888,
              "#fdca26"
             ],
             [
              1.0,
              "#f0f921"
             ]
            ]
           }
          ],
          "heatmap": [
           {
            "type": "heatmap",
            "colorbar": {
             "outlinewidth": 0,
             "ticks": ""
            },
            "colorscale": [
             [
              0.0,
              "#0d0887"
             ],
             [
              0.1111111111111111,
              "#46039f"
             ],
             [
              0.2222222222222222,
              "#7201a8"
             ],
             [
              0.3333333333333333,
              "#9c179e"
             ],
             [
              0.4444444444444444,
              "#bd3786"
             ],
             [
              0.5555555555555556,
              "#d8576b"
             ],
             [
              0.6666666666666666,
              "#ed7953"
             ],
             [
              0.7777777777777778,
              "#fb9f3a"
             ],
             [
              0.8888888888888888,
              "#fdca26"
             ],
             [
              1.0,
              "#f0f921"
             ]
            ]
           }
          ],
          "contourcarpet": [
           {
            "type": "contourcarpet",
            "colorbar": {
             "outlinewidth": 0,
             "ticks": ""
            }
           }
          ],
          "contour": [
           {
            "type": "contour",
            "colorbar": {
             "outlinewidth": 0,
             "ticks": ""
            },
            "colorscale": [
             [
              0.0,
              "#0d0887"
             ],
             [
              0.1111111111111111,
              "#46039f"
             ],
             [
              0.2222222222222222,
              "#7201a8"
             ],
             [
              0.3333333333333333,
              "#9c179e"
             ],
             [
              0.4444444444444444,
              "#bd3786"
             ],
             [
              0.5555555555555556,
              "#d8576b"
             ],
             [
              0.6666666666666666,
              "#ed7953"
             ],
             [
              0.7777777777777778,
              "#fb9f3a"
             ],
             [
              0.8888888888888888,
              "#fdca26"
             ],
             [
              1.0,
              "#f0f921"
             ]
            ]
           }
          ],
          "surface": [
           {
            "type": "surface",
            "colorbar": {
             "outlinewidth": 0,
             "ticks": ""
            },
            "colorscale": [
             [
              0.0,
              "#0d0887"
             ],
             [
              0.1111111111111111,
              "#46039f"
             ],
             [
              0.2222222222222222,
              "#7201a8"
             ],
             [
              0.3333333333333333,
              "#9c179e"
             ],
             [
              0.4444444444444444,
              "#bd3786"
             ],
             [
              0.5555555555555556,
              "#d8576b"
             ],
             [
              0.6666666666666666,
              "#ed7953"
             ],
             [
              0.7777777777777778,
              "#fb9f3a"
             ],
             [
              0.8888888888888888,
              "#fdca26"
             ],
             [
              1.0,
              "#f0f921"
             ]
            ]
           }
          ],
          "mesh3d": [
           {
            "type": "mesh3d",
            "colorbar": {
             "outlinewidth": 0,
             "ticks": ""
            }
           }
          ],
          "scatter": [
           {
            "marker": {
             "line": {
              "color": "#283442"
             }
            },
            "type": "scatter"
           }
          ],
          "parcoords": [
           {
            "type": "parcoords",
            "line": {
             "colorbar": {
              "outlinewidth": 0,
              "ticks": ""
             }
            }
           }
          ],
          "scatterpolargl": [
           {
            "type": "scatterpolargl",
            "marker": {
             "colorbar": {
              "outlinewidth": 0,
              "ticks": ""
             }
            }
           }
          ],
          "bar": [
           {
            "error_x": {
             "color": "#f2f5fa"
            },
            "error_y": {
             "color": "#f2f5fa"
            },
            "marker": {
             "line": {
              "color": "rgb(17,17,17)",
              "width": 0.5
             },
             "pattern": {
              "fillmode": "overlay",
              "size": 10,
              "solidity": 0.2
             }
            },
            "type": "bar"
           }
          ],
          "scattergeo": [
           {
            "type": "scattergeo",
            "marker": {
             "colorbar": {
              "outlinewidth": 0,
              "ticks": ""
             }
            }
           }
          ],
          "scatterpolar": [
           {
            "type": "scatterpolar",
            "marker": {
             "colorbar": {
              "outlinewidth": 0,
              "ticks": ""
             }
            }
           }
          ],
          "histogram": [
           {
            "marker": {
             "pattern": {
              "fillmode": "overlay",
              "size": 10,
              "solidity": 0.2
             }
            },
            "type": "histogram"
           }
          ],
          "scattergl": [
           {
            "marker": {
             "line": {
              "color": "#283442"
             }
            },
            "type": "scattergl"
           }
          ],
          "scatter3d": [
           {
            "type": "scatter3d",
            "line": {
             "colorbar": {
              "outlinewidth": 0,
              "ticks": ""
             }
            },
            "marker": {
             "colorbar": {
              "outlinewidth": 0,
              "ticks": ""
             }
            }
           }
          ],
          "scattermap": [
           {
            "type": "scattermap",
            "marker": {
             "colorbar": {
              "outlinewidth": 0,
              "ticks": ""
             }
            }
           }
          ],
          "scattermapbox": [
           {
            "type": "scattermapbox",
            "marker": {
             "colorbar": {
              "outlinewidth": 0,
              "ticks": ""
             }
            }
           }
          ],
          "scatterternary": [
           {
            "type": "scatterternary",
            "marker": {
             "colorbar": {
              "outlinewidth": 0,
              "ticks": ""
             }
            }
           }
          ],
          "scattercarpet": [
           {
            "type": "scattercarpet",
            "marker": {
             "colorbar": {
              "outlinewidth": 0,
              "ticks": ""
             }
            }
           }
          ],
          "carpet": [
           {
            "aaxis": {
             "endlinecolor": "#A2B1C6",
             "gridcolor": "#506784",
             "linecolor": "#506784",
             "minorgridcolor": "#506784",
             "startlinecolor": "#A2B1C6"
            },
            "baxis": {
             "endlinecolor": "#A2B1C6",
             "gridcolor": "#506784",
             "linecolor": "#506784",
             "minorgridcolor": "#506784",
             "startlinecolor": "#A2B1C6"
            },
            "type": "carpet"
           }
          ],
          "table": [
           {
            "cells": {
             "fill": {
              "color": "#506784"
             },
             "line": {
              "color": "rgb(17,17,17)"
             }
            },
            "header": {
             "fill": {
              "color": "#2a3f5f"
             },
             "line": {
              "color": "rgb(17,17,17)"
             }
            },
            "type": "table"
           }
          ],
          "barpolar": [
           {
            "marker": {
             "line": {
              "color": "rgb(17,17,17)",
              "width": 0.5
             },
             "pattern": {
              "fillmode": "overlay",
              "size": 10,
              "solidity": 0.2
             }
            },
            "type": "barpolar"
           }
          ],
          "pie": [
           {
            "automargin": true,
            "type": "pie"
           }
          ]
         },
         "layout": {
          "autotypenumbers": "strict",
          "colorway": [
           "#636efa",
           "#EF553B",
           "#00cc96",
           "#ab63fa",
           "#FFA15A",
           "#19d3f3",
           "#FF6692",
           "#B6E880",
           "#FF97FF",
           "#FECB52"
          ],
          "font": {
           "color": "#f2f5fa"
          },
          "hovermode": "closest",
          "hoverlabel": {
           "align": "left"
          },
          "paper_bgcolor": "rgb(17,17,17)",
          "plot_bgcolor": "rgb(17,17,17)",
          "polar": {
           "bgcolor": "rgb(17,17,17)",
           "angularaxis": {
            "gridcolor": "#506784",
            "linecolor": "#506784",
            "ticks": ""
           },
           "radialaxis": {
            "gridcolor": "#506784",
            "linecolor": "#506784",
            "ticks": ""
           }
          },
          "ternary": {
           "bgcolor": "rgb(17,17,17)",
           "aaxis": {
            "gridcolor": "#506784",
            "linecolor": "#506784",
            "ticks": ""
           },
           "baxis": {
            "gridcolor": "#506784",
            "linecolor": "#506784",
            "ticks": ""
           },
           "caxis": {
            "gridcolor": "#506784",
            "linecolor": "#506784",
            "ticks": ""
           }
          },
          "coloraxis": {
           "colorbar": {
            "outlinewidth": 0,
            "ticks": ""
           }
          },
          "colorscale": {
           "sequential": [
            [
             0.0,
             "#0d0887"
            ],
            [
             0.1111111111111111,
             "#46039f"
            ],
            [
             0.2222222222222222,
             "#7201a8"
            ],
            [
             0.3333333333333333,
             "#9c179e"
            ],
            [
             0.4444444444444444,
             "#bd3786"
            ],
            [
             0.5555555555555556,
             "#d8576b"
            ],
            [
             0.6666666666666666,
             "#ed7953"
            ],
            [
             0.7777777777777778,
             "#fb9f3a"
            ],
            [
             0.8888888888888888,
             "#fdca26"
            ],
            [
             1.0,
             "#f0f921"
            ]
           ],
           "sequentialminus": [
            [
             0.0,
             "#0d0887"
            ],
            [
             0.1111111111111111,
             "#46039f"
            ],
            [
             0.2222222222222222,
             "#7201a8"
            ],
            [
             0.3333333333333333,
             "#9c179e"
            ],
            [
             0.4444444444444444,
             "#bd3786"
            ],
            [
             0.5555555555555556,
             "#d8576b"
            ],
            [
             0.6666666666666666,
             "#ed7953"
            ],
            [
             0.7777777777777778,
             "#fb9f3a"
            ],
            [
             0.8888888888888888,
             "#fdca26"
            ],
            [
             1.0,
             "#f0f921"
            ]
           ],
           "diverging": [
            [
             0,
             "#8e0152"
            ],
            [
             0.1,
             "#c51b7d"
            ],
            [
             0.2,
             "#de77ae"
            ],
            [
             0.3,
             "#f1b6da"
            ],
            [
             0.4,
             "#fde0ef"
            ],
            [
             0.5,
             "#f7f7f7"
            ],
            [
             0.6,
             "#e6f5d0"
            ],
            [
             0.7,
             "#b8e186"
            ],
            [
             0.8,
             "#7fbc41"
            ],
            [
             0.9,
             "#4d9221"
            ],
            [
             1,
             "#276419"
            ]
           ]
          },
          "xaxis": {
           "gridcolor": "#283442",
           "linecolor": "#506784",
           "ticks": "",
           "title": {
            "standoff": 15
           },
           "zerolinecolor": "#283442",
           "automargin": true,
           "zerolinewidth": 2
          },
          "yaxis": {
           "gridcolor": "#283442",
           "linecolor": "#506784",
           "ticks": "",
           "title": {
            "standoff": 15
           },
           "zerolinecolor": "#283442",
           "automargin": true,
           "zerolinewidth": 2
          },
          "scene": {
           "xaxis": {
            "backgroundcolor": "rgb(17,17,17)",
            "gridcolor": "#506784",
            "linecolor": "#506784",
            "showbackground": true,
            "ticks": "",
            "zerolinecolor": "#C8D4E3",
            "gridwidth": 2
           },
           "yaxis": {
            "backgroundcolor": "rgb(17,17,17)",
            "gridcolor": "#506784",
            "linecolor": "#506784",
            "showbackground": true,
            "ticks": "",
            "zerolinecolor": "#C8D4E3",
            "gridwidth": 2
           },
           "zaxis": {
            "backgroundcolor": "rgb(17,17,17)",
            "gridcolor": "#506784",
            "linecolor": "#506784",
            "showbackground": true,
            "ticks": "",
            "zerolinecolor": "#C8D4E3",
            "gridwidth": 2
           }
          },
          "shapedefaults": {
           "line": {
            "color": "#f2f5fa"
           }
          },
          "annotationdefaults": {
           "arrowcolor": "#f2f5fa",
           "arrowhead": 0,
           "arrowwidth": 1
          },
          "geo": {
           "bgcolor": "rgb(17,17,17)",
           "landcolor": "rgb(17,17,17)",
           "subunitcolor": "#506784",
           "showland": true,
           "showlakes": true,
           "lakecolor": "rgb(17,17,17)"
          },
          "title": {
           "x": 0.05
          },
          "updatemenudefaults": {
           "bgcolor": "#506784",
           "borderwidth": 0
          },
          "sliderdefaults": {
           "bgcolor": "#C8D4E3",
           "borderwidth": 1,
           "bordercolor": "rgb(17,17,17)",
           "tickwidth": 0
          },
          "mapbox": {
           "style": "dark"
          }
         }
        },
        "legend": {
         "tracegroupgap": 0
        },
        "margin": {
         "t": 60
        },
        "piecolorway": [
         "#4E79A7",
         "#F28E2B",
         "#E15759",
         "#76B7B2",
         "#59A14F",
         "#EDC949",
         "#AF7AA1",
         "#FF9DA7",
         "#9C755F",
         "#BAB0AC",
         "#1F77B4",
         "#FF7F0E",
         "#2CA02C",
         "#D62728",
         "#9467BD"
        ]
       },
       "config": {
        "plotlyServerURL": "https://plot.ly"
       }
      }
     },
     "metadata": {},
     "output_type": "display_data"
    }
   ],
   "execution_count": 79
  },
  {
   "metadata": {
    "ExecuteTime": {
     "end_time": "2025-06-08T06:26:04.110706Z",
     "start_time": "2025-06-08T06:26:04.074826Z"
    }
   },
   "cell_type": "code",
   "source": [
    "fig = px.pie(dfN,names='discountPercent', color = 'discountPercent', color_discrete_sequence=colors, template='plotly_dark').update_traces(textposition='inside').update_layout(uniformtext_minsize=12, uniformtext_mode='hide')\n",
    "fig.show()"
   ],
   "id": "d66b47a0c6521ccb",
   "outputs": [
    {
     "data": {
      "application/vnd.plotly.v1+json": {
       "data": [
        {
         "customdata": {
          "dtype": "i1",
          "bdata": "EBAPDw4REA8RDxESDw4PEA0QEBAPEg8PDxAPDxAQEBAQEBAQEBAPDxAPDxAPEBEREREQDxERDw8QDxAQDw8REA8PDw8PEA8QEBARDxAQDwQQEhMVFxEFBAUADwAABAICBwoAAAsADQYCAwIDAAABCxIPAAgFAAgAAQQAAAMAAAcAAAAKCgUHAAMAAQENFQAHEAEEBQMKBgIQAgcZDhwACQkCAh0GDAoGDgcDCRQKCgcKDgoHBwAICQQGCRwyFAoEAAAAAQAACgEACwADCQ4yCgoCCgoAAQUABgEAAAAGEAcAAgIUBQAHBwAKCgoECQIDFAMFAgoAAgcAAAUABgoKAwYCCgYDCgAyBwAJAAoAHQIKCgoKBwYABwkACgkQAggRDwUCAAIPAAAJCgIAAgUACQ0CAgoVBgoACgAAAgIHBAAAAgkJCwAHCgkKCgcQBwYLAAwKCgAFCgYGDwYGCgACBAoGAgYCCgYUChsKCgYUAAAGChQoMgwACgEFHgQAAgYKCA4FBwAACh4KAgoCHgIGCgoPAgoRFAcKFAAJBQYdAAUECgoHAAALAAYeCQAeChAGBwoAGQoAAAsCCQAKChIJFAoUBgYAHgAGCQAKAAAyAAAAAgYABgAACwAOCgAAAAAKBwALAC4AAAoAAAAAAB4AAAoAAAAKAgsAFAoAAAgGCQgBBg0ADggGAAICAQMHAAAGBgIACQkAAAoKAAMCAAAAAggKAAYAAQkKCQsyAAcAESgPAAIHAAQAAAMAAgACAAAIBAACAAIFAAEAAAAAAAIDAAAABQMFAwUAAA0EBAIFMgUNBQACGQAhBQAABAUNBQUyCSsyBTIACjIUBQcBBQAUBAQfMgUAAAAAAAADAwQAAAEAAwAAAAAAAAAFFAMABRELABAyCgwEBQMFAgULDREFAAQFAAQKAAIFBAUFBAAJAAUFCgQGBwAMGQQRAAkAABQUAAULGRYGBQwABgQGFBExBAkUAAoaBgQZBA0ACQgAGgoJGgQODwIACwsGCAADCQAABwoKABQKABkKFAAJFAoACwAGBgAAAAkFFAAAKAQeCwUACBQUDggyCgoeAAUEDwAKHgAKCQoFHg4ADwYADgkAChQAAAAPAAAABgAKAAgyAAoAABQEAAoABwQKCQAAHgUPAB4KAAkAAAAFMgQAAAAeAB4AFAAAAAAAAAoGHgAKHh4ADxoAFAAPAAoAAAsAAA4AAAAAAAAAAAkAMgcPDg4PCQ4AAAAADgYAAAYABRgCAgUJCAoJAAoABwMGBQQJAAAAAAAKCAkZCQUJDgAJCgQrCQ4dCRwJCQMEChgAAAAFCQAAAAADMwARAgAyADMAADMACgAPCgAPDQoGChsAChADCBkACggDBhEWCgoQDBkCCwIPCAoRBgAWCg8AAgUUCwYABg8LCgYZCgAWBggGCgAGAAoGFhYGAAAKAAoGAwsCCgoAAAAKAAAIAAAAAAIyAAAACAAGAgwAAwAAAAoAAAAAAAMAABYKEQAjAAoDBAoCEhgFBQ8AAA0FBQoDAAoKAAgABQIGBgAPCgYGBxQABQAEAAAKCggDBA4FCQYACQUACw8ACgoAAAAAAgAAAAcABwAABwAADQoAFAAAChAKAAAAAAoKAAoKDAAPCgAKEhQACQAGBwsGAAgUAAAJAAAEAAAGCgkCBgAACgAKAAoABQAGAAoKAAwKAAYKAAYMAAYECgoACQAAChQKAAAKFA8AFAAAAAAICgUAAA8KCgAAEgYPABIKCg8AAAAAEQALCgUAAAkGCgYACAAAAAoKEQcAAAUMAAsGAAkAAAkACQAKAAASChQABwkAFAAAAAAFAAotCgoHCQAVFgkACQ8ABgUAEQAACQoAAAoAAAoKAAAPFAAFCQAAFAAABgAKAAkGAwADAgkHAAkABwIJCQoHAAAHAAcABQcAAAIFAAgFBAUCAwYKAAYHBAEKCQAJAgIGAAAGCgkACQIKAAYCBQcAAgAFAAAJDQgHBQIADg0JABAKCgAJCgAAAggSCgAKAQIGAA0FDwkGBQwCDgYJAAgEAgkKCw8KAAAACgUHCgUJAAYKCgAGCAkGCgUKCBAKDgoAAwUABQgGCgUJDAAKDgoACgMFCgUACgoACgUKChECAAAKAgAACgILCgAHAAQAAAIDAAgICQcCCgkADwoyMgAKBgYKAAoJCwYKAgoPCgoKBQoKAAoGFg8KDwAKCAUHCQ4DCw8GBQUKBgkGFBQAAAsUAAUPDzILDw==",
          "shape": "1681, 1"
         },
         "domain": {
          "x": [
           0.0,
           1.0
          ],
          "y": [
           0.0,
           1.0
          ]
         },
         "hovertemplate": "discountPercent=%{customdata[0]}<extra></extra>",
         "labels": {
          "dtype": "i1",
          "bdata": "EBAPDw4REA8RDxESDw4PEA0QEBAPEg8PDxAPDxAQEBAQEBAQEBAPDxAPDxAPEBEREREQDxERDw8QDxAQDw8REA8PDw8PEA8QEBARDxAQDwQQEhMVFxEFBAUADwAABAICBwoAAAsADQYCAwIDAAABCxIPAAgFAAgAAQQAAAMAAAcAAAAKCgUHAAMAAQENFQAHEAEEBQMKBgIQAgcZDhwACQkCAh0GDAoGDgcDCRQKCgcKDgoHBwAICQQGCRwyFAoEAAAAAQAACgEACwADCQ4yCgoCCgoAAQUABgEAAAAGEAcAAgIUBQAHBwAKCgoECQIDFAMFAgoAAgcAAAUABgoKAwYCCgYDCgAyBwAJAAoAHQIKCgoKBwYABwkACgkQAggRDwUCAAIPAAAJCgIAAgUACQ0CAgoVBgoACgAAAgIHBAAAAgkJCwAHCgkKCgcQBwYLAAwKCgAFCgYGDwYGCgACBAoGAgYCCgYUChsKCgYUAAAGChQoMgwACgEFHgQAAgYKCA4FBwAACh4KAgoCHgIGCgoPAgoRFAcKFAAJBQYdAAUECgoHAAALAAYeCQAeChAGBwoAGQoAAAsCCQAKChIJFAoUBgYAHgAGCQAKAAAyAAAAAgYABgAACwAOCgAAAAAKBwALAC4AAAoAAAAAAB4AAAoAAAAKAgsAFAoAAAgGCQgBBg0ADggGAAICAQMHAAAGBgIACQkAAAoKAAMCAAAAAggKAAYAAQkKCQsyAAcAESgPAAIHAAQAAAMAAgACAAAIBAACAAIFAAEAAAAAAAIDAAAABQMFAwUAAA0EBAIFMgUNBQACGQAhBQAABAUNBQUyCSsyBTIACjIUBQcBBQAUBAQfMgUAAAAAAAADAwQAAAEAAwAAAAAAAAAFFAMABRELABAyCgwEBQMFAgULDREFAAQFAAQKAAIFBAUFBAAJAAUFCgQGBwAMGQQRAAkAABQUAAULGRYGBQwABgQGFBExBAkUAAoaBgQZBA0ACQgAGgoJGgQODwIACwsGCAADCQAABwoKABQKABkKFAAJFAoACwAGBgAAAAkFFAAAKAQeCwUACBQUDggyCgoeAAUEDwAKHgAKCQoFHg4ADwYADgkAChQAAAAPAAAABgAKAAgyAAoAABQEAAoABwQKCQAAHgUPAB4KAAkAAAAFMgQAAAAeAB4AFAAAAAAAAAoGHgAKHh4ADxoAFAAPAAoAAAsAAA4AAAAAAAAAAAkAMgcPDg4PCQ4AAAAADgYAAAYABRgCAgUJCAoJAAoABwMGBQQJAAAAAAAKCAkZCQUJDgAJCgQrCQ4dCRwJCQMEChgAAAAFCQAAAAADMwARAgAyADMAADMACgAPCgAPDQoGChsAChADCBkACggDBhEWCgoQDBkCCwIPCAoRBgAWCg8AAgUUCwYABg8LCgYZCgAWBggGCgAGAAoGFhYGAAAKAAoGAwsCCgoAAAAKAAAIAAAAAAIyAAAACAAGAgwAAwAAAAoAAAAAAAMAABYKEQAjAAoDBAoCEhgFBQ8AAA0FBQoDAAoKAAgABQIGBgAPCgYGBxQABQAEAAAKCggDBA4FCQYACQUACw8ACgoAAAAAAgAAAAcABwAABwAADQoAFAAAChAKAAAAAAoKAAoKDAAPCgAKEhQACQAGBwsGAAgUAAAJAAAEAAAGCgkCBgAACgAKAAoABQAGAAoKAAwKAAYKAAYMAAYECgoACQAAChQKAAAKFA8AFAAAAAAICgUAAA8KCgAAEgYPABIKCg8AAAAAEQALCgUAAAkGCgYACAAAAAoKEQcAAAUMAAsGAAkAAAkACQAKAAASChQABwkAFAAAAAAFAAotCgoHCQAVFgkACQ8ABgUAEQAACQoAAAoAAAoKAAAPFAAFCQAAFAAABgAKAAkGAwADAgkHAAkABwIJCQoHAAAHAAcABQcAAAIFAAgFBAUCAwYKAAYHBAEKCQAJAgIGAAAGCgkACQIKAAYCBQcAAgAFAAAJDQgHBQIADg0JABAKCgAJCgAAAggSCgAKAQIGAA0FDwkGBQwCDgYJAAgEAgkKCw8KAAAACgUHCgUJAAYKCgAGCAkGCgUKCBAKDgoAAwUABQgGCgUJDAAKDgoACgMFCgUACgoACgUKChECAAAKAgAACgILCgAHAAQAAAIDAAgICQcCCgkADwoyMgAKBgYKAAoJCwYKAgoPCgoKBQoKAAoGFg8KDwAKCAUHCQ4DCw8GBQUKBgkGFBQAAAsUAAUPDzILDw=="
         },
         "legendgroup": "",
         "marker": {
          "colors": [
           "#4E79A7",
           "#4E79A7",
           "#F28E2B",
           "#F28E2B",
           "#E15759",
           "#76B7B2",
           "#4E79A7",
           "#F28E2B",
           "#76B7B2",
           "#F28E2B",
           "#76B7B2",
           "#59A14F",
           "#F28E2B",
           "#E15759",
           "#F28E2B",
           "#4E79A7",
           "#EDC949",
           "#4E79A7",
           "#4E79A7",
           "#4E79A7",
           "#F28E2B",
           "#59A14F",
           "#F28E2B",
           "#F28E2B",
           "#F28E2B",
           "#4E79A7",
           "#F28E2B",
           "#F28E2B",
           "#4E79A7",
           "#4E79A7",
           "#4E79A7",
           "#4E79A7",
           "#4E79A7",
           "#4E79A7",
           "#4E79A7",
           "#4E79A7",
           "#4E79A7",
           "#4E79A7",
           "#F28E2B",
           "#F28E2B",
           "#4E79A7",
           "#F28E2B",
           "#F28E2B",
           "#4E79A7",
           "#F28E2B",
           "#4E79A7",
           "#76B7B2",
           "#76B7B2",
           "#76B7B2",
           "#76B7B2",
           "#4E79A7",
           "#F28E2B",
           "#76B7B2",
           "#76B7B2",
           "#F28E2B",
           "#F28E2B",
           "#4E79A7",
           "#F28E2B",
           "#4E79A7",
           "#4E79A7",
           "#F28E2B",
           "#F28E2B",
           "#76B7B2",
           "#4E79A7",
           "#F28E2B",
           "#F28E2B",
           "#F28E2B",
           "#F28E2B",
           "#F28E2B",
           "#4E79A7",
           "#F28E2B",
           "#4E79A7",
           "#4E79A7",
           "#4E79A7",
           "#76B7B2",
           "#F28E2B",
           "#4E79A7",
           "#4E79A7",
           "#F28E2B",
           "#AF7AA1",
           "#4E79A7",
           "#59A14F",
           "#FF9DA7",
           "#9C755F",
           "#BAB0AC",
           "#76B7B2",
           "#1F77B4",
           "#AF7AA1",
           "#1F77B4",
           "#FF7F0E",
           "#F28E2B",
           "#FF7F0E",
           "#FF7F0E",
           "#AF7AA1",
           "#2CA02C",
           "#2CA02C",
           "#D62728",
           "#9467BD",
           "#FF7F0E",
           "#FF7F0E",
           "#4E79A7",
           "#FF7F0E",
           "#EDC949",
           "#F28E2B",
           "#2CA02C",
           "#E15759",
           "#2CA02C",
           "#E15759",
           "#FF7F0E",
           "#FF7F0E",
           "#76B7B2",
           "#4E79A7",
           "#59A14F",
           "#F28E2B",
           "#FF7F0E",
           "#59A14F",
           "#1F77B4",
           "#FF7F0E",
           "#59A14F",
           "#FF7F0E",
           "#76B7B2",
           "#AF7AA1",
           "#FF7F0E",
           "#FF7F0E",
           "#E15759",
           "#FF7F0E",
           "#FF7F0E",
           "#D62728",
           "#FF7F0E",
           "#FF7F0E",
           "#FF7F0E",
           "#9467BD",
           "#9467BD",
           "#1F77B4",
           "#D62728",
           "#FF7F0E",
           "#E15759",
           "#FF7F0E",
           "#76B7B2",
           "#76B7B2",
           "#EDC949",
           "#9C755F",
           "#FF7F0E",
           "#D62728",
           "#4E79A7",
           "#76B7B2",
           "#AF7AA1",
           "#1F77B4",
           "#E15759",
           "#9467BD",
           "#F28E2B",
           "#2CA02C",
           "#4E79A7",
           "#2CA02C",
           "#D62728",
           "#EDC949",
           "#E15759",
           "#AF7AA1",
           "#FF7F0E",
           "#FF9DA7",
           "#FF9DA7",
           "#2CA02C",
           "#2CA02C",
           "#9C755F",
           "#F28E2B",
           "#BAB0AC",
           "#9467BD",
           "#F28E2B",
           "#E15759",
           "#D62728",
           "#E15759",
           "#FF9DA7",
           "#1F77B4",
           "#9467BD",
           "#9467BD",
           "#D62728",
           "#9467BD",
           "#E15759",
           "#9467BD",
           "#D62728",
           "#D62728",
           "#FF7F0E",
           "#59A14F",
           "#FF9DA7",
           "#AF7AA1",
           "#F28E2B",
           "#FF9DA7",
           "#AF7AA1",
           "#FF7F0E",
           "#1F77B4",
           "#9467BD",
           "#AF7AA1",
           "#FF7F0E",
           "#FF7F0E",
           "#FF7F0E",
           "#76B7B2",
           "#FF7F0E",
           "#FF7F0E",
           "#9467BD",
           "#76B7B2",
           "#FF7F0E",
           "#4E79A7",
           "#FF7F0E",
           "#E15759",
           "#FF9DA7",
           "#E15759",
           "#FF7F0E",
           "#9467BD",
           "#9467BD",
           "#2CA02C",
           "#9467BD",
           "#9467BD",
           "#FF7F0E",
           "#76B7B2",
           "#1F77B4",
           "#FF7F0E",
           "#F28E2B",
           "#76B7B2",
           "#FF7F0E",
           "#FF7F0E",
           "#FF7F0E",
           "#F28E2B",
           "#4E79A7",
           "#D62728",
           "#FF7F0E",
           "#2CA02C",
           "#2CA02C",
           "#1F77B4",
           "#1F77B4",
           "#FF7F0E",
           "#D62728",
           "#D62728",
           "#FF7F0E",
           "#9467BD",
           "#9467BD",
           "#9467BD",
           "#AF7AA1",
           "#FF9DA7",
           "#2CA02C",
           "#E15759",
           "#1F77B4",
           "#E15759",
           "#1F77B4",
           "#2CA02C",
           "#9467BD",
           "#FF7F0E",
           "#2CA02C",
           "#D62728",
           "#FF7F0E",
           "#FF7F0E",
           "#1F77B4",
           "#FF7F0E",
           "#F28E2B",
           "#9467BD",
           "#9467BD",
           "#E15759",
           "#F28E2B",
           "#2CA02C",
           "#9467BD",
           "#F28E2B",
           "#E15759",
           "#9467BD",
           "#FF7F0E",
           "#FF7F0E",
           "#D62728",
           "#FF7F0E",
           "#FF9DA7",
           "#FF7F0E",
           "#9467BD",
           "#FF7F0E",
           "#9C755F",
           "#2CA02C",
           "#9467BD",
           "#9467BD",
           "#9467BD",
           "#9467BD",
           "#D62728",
           "#F28E2B",
           "#FF7F0E",
           "#D62728",
           "#FF9DA7",
           "#FF7F0E",
           "#9467BD",
           "#FF9DA7",
           "#4E79A7",
           "#2CA02C",
           "#59A14F",
           "#76B7B2",
           "#F28E2B",
           "#1F77B4",
           "#2CA02C",
           "#FF7F0E",
           "#2CA02C",
           "#F28E2B",
           "#FF7F0E",
           "#FF7F0E",
           "#FF9DA7",
           "#9467BD",
           "#2CA02C",
           "#FF7F0E",
           "#2CA02C",
           "#1F77B4",
           "#FF7F0E",
           "#FF9DA7",
           "#EDC949",
           "#2CA02C",
           "#2CA02C",
           "#9467BD",
           "#9C755F",
           "#F28E2B",
           "#9467BD",
           "#FF7F0E",
           "#9467BD",
           "#FF7F0E",
           "#FF7F0E",
           "#2CA02C",
           "#2CA02C",
           "#D62728",
           "#AF7AA1",
           "#FF7F0E",
           "#FF7F0E",
           "#2CA02C",
           "#FF9DA7",
           "#FF9DA7",
           "#4E79A7",
           "#FF7F0E",
           "#D62728",
           "#9467BD",
           "#FF9DA7",
           "#9467BD",
           "#9467BD",
           "#D62728",
           "#4E79A7",
           "#D62728",
           "#F28E2B",
           "#4E79A7",
           "#FF7F0E",
           "#BAB0AC",
           "#9467BD",
           "#9467BD",
           "#FF7F0E",
           "#1F77B4",
           "#9467BD",
           "#F28E2B",
           "#F28E2B",
           "#F28E2B",
           "#F28E2B",
           "#F28E2B",
           "#9467BD",
           "#FF7F0E",
           "#2CA02C",
           "#AF7AA1",
           "#9467BD",
           "#F28E2B",
           "#2CA02C",
           "#F28E2B",
           "#2CA02C",
           "#9467BD",
           "#F28E2B",
           "#1F77B4",
           "#9467BD",
           "#2CA02C",
           "#9467BD",
           "#9467BD",
           "#F28E2B",
           "#1F77B4",
           "#FF7F0E",
           "#FF7F0E",
           "#F28E2B",
           "#9467BD",
           "#1F77B4",
           "#D62728",
           "#FF7F0E",
           "#BAB0AC",
           "#FF7F0E",
           "#9467BD",
           "#76B7B2",
           "#1F77B4",
           "#9467BD",
           "#AF7AA1",
           "#FF7F0E",
           "#2CA02C",
           "#F28E2B",
           "#9467BD",
           "#59A14F",
           "#E15759",
           "#1F77B4",
           "#D62728",
           "#FF7F0E",
           "#FF7F0E",
           "#9467BD",
           "#9467BD",
           "#9467BD",
           "#2CA02C",
           "#9467BD",
           "#2CA02C",
           "#9467BD",
           "#2CA02C",
           "#F28E2B",
           "#9467BD",
           "#9467BD",
           "#F28E2B",
           "#2CA02C",
           "#9467BD",
           "#76B7B2",
           "#1F77B4",
           "#D62728",
           "#9467BD",
           "#1F77B4",
           "#FF7F0E",
           "#FF9DA7",
           "#1F77B4",
           "#F28E2B",
           "#9C755F",
           "#FF7F0E",
           "#1F77B4",
           "#AF7AA1",
           "#9467BD",
           "#9467BD",
           "#D62728",
           "#FF7F0E",
           "#FF7F0E",
           "#4E79A7",
           "#FF7F0E",
           "#F28E2B",
           "#9467BD",
           "#FF9DA7",
           "#FF7F0E",
           "#9467BD",
           "#9467BD",
           "#4E79A7",
           "#F28E2B",
           "#D62728",
           "#9467BD",
           "#FF7F0E",
           "#EDC949",
           "#9467BD",
           "#FF7F0E",
           "#FF7F0E",
           "#4E79A7",
           "#2CA02C",
           "#FF9DA7",
           "#FF7F0E",
           "#9467BD",
           "#9467BD",
           "#59A14F",
           "#FF9DA7",
           "#1F77B4",
           "#9467BD",
           "#1F77B4",
           "#F28E2B",
           "#F28E2B",
           "#FF7F0E",
           "#9467BD",
           "#FF7F0E",
           "#F28E2B",
           "#FF9DA7",
           "#FF7F0E",
           "#9467BD",
           "#FF7F0E",
           "#FF7F0E",
           "#FF7F0E",
           "#FF7F0E",
           "#FF7F0E",
           "#FF7F0E",
           "#2CA02C",
           "#F28E2B",
           "#FF7F0E",
           "#F28E2B",
           "#FF7F0E",
           "#FF7F0E",
           "#4E79A7",
           "#FF7F0E",
           "#E15759",
           "#9467BD",
           "#FF7F0E",
           "#FF7F0E",
           "#FF7F0E",
           "#FF7F0E",
           "#9467BD",
           "#D62728",
           "#FF7F0E",
           "#4E79A7",
           "#FF7F0E",
           "#4E79A7",
           "#FF7F0E",
           "#FF7F0E",
           "#9467BD",
           "#FF7F0E",
           "#FF7F0E",
           "#FF7F0E",
           "#FF7F0E",
           "#FF7F0E",
           "#9467BD",
           "#FF7F0E",
           "#FF7F0E",
           "#9467BD",
           "#FF7F0E",
           "#FF7F0E",
           "#FF7F0E",
           "#9467BD",
           "#2CA02C",
           "#4E79A7",
           "#FF7F0E",
           "#1F77B4",
           "#9467BD",
           "#FF7F0E",
           "#FF7F0E",
           "#59A14F",
           "#F28E2B",
           "#FF9DA7",
           "#59A14F",
           "#76B7B2",
           "#F28E2B",
           "#EDC949",
           "#FF7F0E",
           "#E15759",
           "#59A14F",
           "#F28E2B",
           "#FF7F0E",
           "#2CA02C",
           "#2CA02C",
           "#76B7B2",
           "#E15759",
           "#D62728",
           "#FF7F0E",
           "#FF7F0E",
           "#F28E2B",
           "#F28E2B",
           "#2CA02C",
           "#FF7F0E",
           "#FF9DA7",
           "#FF9DA7",
           "#FF7F0E",
           "#FF7F0E",
           "#9467BD",
           "#9467BD",
           "#FF7F0E",
           "#E15759",
           "#2CA02C",
           "#FF7F0E",
           "#FF7F0E",
           "#FF7F0E",
           "#2CA02C",
           "#59A14F",
           "#9467BD",
           "#FF7F0E",
           "#F28E2B",
           "#FF7F0E",
           "#76B7B2",
           "#FF9DA7",
           "#9467BD",
           "#FF9DA7",
           "#4E79A7",
           "#FF7F0E",
           "#FF7F0E",
           "#D62728",
           "#FF7F0E",
           "#76B7B2",
           "#D62728",
           "#F28E2B",
           "#FF7F0E",
           "#2CA02C",
           "#D62728",
           "#FF7F0E",
           "#AF7AA1",
           "#FF7F0E",
           "#FF7F0E",
           "#E15759",
           "#FF7F0E",
           "#2CA02C",
           "#FF7F0E",
           "#2CA02C",
           "#FF7F0E",
           "#FF7F0E",
           "#59A14F",
           "#AF7AA1",
           "#FF7F0E",
           "#2CA02C",
           "#FF7F0E",
           "#2CA02C",
           "#1F77B4",
           "#FF7F0E",
           "#76B7B2",
           "#FF7F0E",
           "#FF7F0E",
           "#FF7F0E",
           "#FF7F0E",
           "#FF7F0E",
           "#2CA02C",
           "#E15759",
           "#FF7F0E",
           "#FF7F0E",
           "#FF7F0E",
           "#1F77B4",
           "#E15759",
           "#1F77B4",
           "#E15759",
           "#1F77B4",
           "#FF7F0E",
           "#FF7F0E",
           "#EDC949",
           "#AF7AA1",
           "#AF7AA1",
           "#2CA02C",
           "#1F77B4",
           "#FF7F0E",
           "#1F77B4",
           "#EDC949",
           "#1F77B4",
           "#FF7F0E",
           "#2CA02C",
           "#EDC949",
           "#FF7F0E",
           "#F28E2B",
           "#1F77B4",
           "#FF7F0E",
           "#FF7F0E",
           "#AF7AA1",
           "#1F77B4",
           "#EDC949",
           "#1F77B4",
           "#1F77B4",
           "#FF7F0E",
           "#FF9DA7",
           "#E15759",
           "#FF7F0E",
           "#1F77B4",
           "#FF7F0E",
           "#FF7F0E",
           "#9467BD",
           "#FF7F0E",
           "#1F77B4",
           "#1F77B4",
           "#D62728",
           "#76B7B2",
           "#1F77B4",
           "#FF7F0E",
           "#1F77B4",
           "#AF7AA1",
           "#AF7AA1",
           "#76B7B2",
           "#FF7F0E",
           "#1F77B4",
           "#FF7F0E",
           "#FF7F0E",
           "#FF7F0E",
           "#FF7F0E",
           "#FF7F0E",
           "#FF7F0E",
           "#E15759",
           "#E15759",
           "#AF7AA1",
           "#FF7F0E",
           "#FF7F0E",
           "#76B7B2",
           "#FF7F0E",
           "#E15759",
           "#FF7F0E",
           "#FF7F0E",
           "#FF7F0E",
           "#FF7F0E",
           "#FF7F0E",
           "#FF7F0E",
           "#FF7F0E",
           "#1F77B4",
           "#1F77B4",
           "#E15759",
           "#FF7F0E",
           "#1F77B4",
           "#76B7B2",
           "#4E79A7",
           "#FF7F0E",
           "#4E79A7",
           "#FF7F0E",
           "#9467BD",
           "#BAB0AC",
           "#AF7AA1",
           "#1F77B4",
           "#E15759",
           "#1F77B4",
           "#2CA02C",
           "#1F77B4",
           "#4E79A7",
           "#EDC949",
           "#76B7B2",
           "#1F77B4",
           "#FF7F0E",
           "#AF7AA1",
           "#1F77B4",
           "#FF7F0E",
           "#AF7AA1",
           "#9467BD",
           "#FF7F0E",
           "#2CA02C",
           "#1F77B4",
           "#AF7AA1",
           "#1F77B4",
           "#1F77B4",
           "#AF7AA1",
           "#FF7F0E",
           "#FF9DA7",
           "#FF7F0E",
           "#1F77B4",
           "#1F77B4",
           "#9467BD",
           "#AF7AA1",
           "#F28E2B",
           "#D62728",
           "#FF7F0E",
           "#BAB0AC",
           "#EDC949",
           "#AF7AA1",
           "#76B7B2",
           "#FF7F0E",
           "#FF9DA7",
           "#FF7F0E",
           "#FF7F0E",
           "#1F77B4",
           "#1F77B4",
           "#FF7F0E",
           "#1F77B4",
           "#4E79A7",
           "#EDC949",
           "#59A14F",
           "#F28E2B",
           "#1F77B4",
           "#BAB0AC",
           "#FF7F0E",
           "#F28E2B",
           "#AF7AA1",
           "#F28E2B",
           "#1F77B4",
           "#76B7B2",
           "#EDC949",
           "#AF7AA1",
           "#FF9DA7",
           "#1F77B4",
           "#FF7F0E",
           "#9467BD",
           "#AF7AA1",
           "#F28E2B",
           "#AF7AA1",
           "#EDC949",
           "#AF7AA1",
           "#EDC949",
           "#FF7F0E",
           "#FF9DA7",
           "#59A14F",
           "#FF7F0E",
           "#AF7AA1",
           "#9467BD",
           "#FF9DA7",
           "#AF7AA1",
           "#AF7AA1",
           "#E15759",
           "#F28E2B",
           "#2CA02C",
           "#FF7F0E",
           "#4E79A7",
           "#4E79A7",
           "#F28E2B",
           "#59A14F",
           "#FF7F0E",
           "#E15759",
           "#FF9DA7",
           "#FF7F0E",
           "#FF7F0E",
           "#D62728",
           "#9467BD",
           "#9467BD",
           "#FF7F0E",
           "#1F77B4",
           "#9467BD",
           "#FF7F0E",
           "#EDC949",
           "#9467BD",
           "#1F77B4",
           "#FF7F0E",
           "#FF9DA7",
           "#1F77B4",
           "#9467BD",
           "#FF7F0E",
           "#4E79A7",
           "#FF7F0E",
           "#F28E2B",
           "#F28E2B",
           "#FF7F0E",
           "#FF7F0E",
           "#FF7F0E",
           "#FF9DA7",
           "#1F77B4",
           "#1F77B4",
           "#FF7F0E",
           "#FF7F0E",
           "#D62728",
           "#AF7AA1",
           "#9467BD",
           "#4E79A7",
           "#1F77B4",
           "#FF7F0E",
           "#59A14F",
           "#1F77B4",
           "#1F77B4",
           "#E15759",
           "#59A14F",
           "#FF7F0E",
           "#9467BD",
           "#9467BD",
           "#9467BD",
           "#FF7F0E",
           "#1F77B4",
           "#AF7AA1",
           "#F28E2B",
           "#FF7F0E",
           "#9467BD",
           "#9467BD",
           "#FF7F0E",
           "#9467BD",
           "#FF9DA7",
           "#9467BD",
           "#1F77B4",
           "#9467BD",
           "#E15759",
           "#FF7F0E",
           "#F28E2B",
           "#F28E2B",
           "#FF7F0E",
           "#E15759",
           "#FF9DA7",
           "#FF7F0E",
           "#9467BD",
           "#1F77B4",
           "#FF7F0E",
           "#FF7F0E",
           "#FF7F0E",
           "#F28E2B",
           "#FF7F0E",
           "#FF7F0E",
           "#FF7F0E",
           "#F28E2B",
           "#FF7F0E",
           "#9467BD",
           "#FF7F0E",
           "#59A14F",
           "#FF7F0E",
           "#FF7F0E",
           "#9467BD",
           "#FF7F0E",
           "#FF7F0E",
           "#1F77B4",
           "#AF7AA1",
           "#FF7F0E",
           "#9467BD",
           "#FF7F0E",
           "#D62728",
           "#AF7AA1",
           "#9467BD",
           "#FF9DA7",
           "#FF7F0E",
           "#FF7F0E",
           "#9467BD",
           "#1F77B4",
           "#F28E2B",
           "#FF7F0E",
           "#9467BD",
           "#9467BD",
           "#FF7F0E",
           "#FF9DA7",
           "#FF7F0E",
           "#FF7F0E",
           "#FF7F0E",
           "#1F77B4",
           "#FF7F0E",
           "#AF7AA1",
           "#FF7F0E",
           "#FF7F0E",
           "#FF7F0E",
           "#9467BD",
           "#FF7F0E",
           "#9467BD",
           "#FF7F0E",
           "#1F77B4",
           "#FF7F0E",
           "#FF7F0E",
           "#FF7F0E",
           "#FF7F0E",
           "#FF7F0E",
           "#FF7F0E",
           "#9467BD",
           "#F28E2B",
           "#9467BD",
           "#FF7F0E",
           "#9467BD",
           "#9467BD",
           "#9467BD",
           "#FF7F0E",
           "#F28E2B",
           "#AF7AA1",
           "#FF7F0E",
           "#1F77B4",
           "#FF7F0E",
           "#F28E2B",
           "#FF7F0E",
           "#9467BD",
           "#FF7F0E",
           "#FF7F0E",
           "#4E79A7",
           "#FF7F0E",
           "#FF7F0E",
           "#E15759",
           "#FF7F0E",
           "#FF7F0E",
           "#FF7F0E",
           "#FF7F0E",
           "#FF7F0E",
           "#FF7F0E",
           "#FF7F0E",
           "#FF7F0E",
           "#FF9DA7",
           "#FF7F0E",
           "#FF7F0E",
           "#D62728",
           "#F28E2B",
           "#E15759",
           "#E15759",
           "#F28E2B",
           "#FF9DA7",
           "#E15759",
           "#FF7F0E",
           "#FF7F0E",
           "#FF7F0E",
           "#FF7F0E",
           "#E15759",
           "#F28E2B",
           "#FF7F0E",
           "#FF7F0E",
           "#F28E2B",
           "#FF7F0E",
           "#1F77B4",
           "#FF9DA7",
           "#2CA02C",
           "#2CA02C",
           "#1F77B4",
           "#FF9DA7",
           "#59A14F",
           "#9467BD",
           "#FF9DA7",
           "#FF7F0E",
           "#9467BD",
           "#FF7F0E",
           "#D62728",
           "#E15759",
           "#F28E2B",
           "#1F77B4",
           "#AF7AA1",
           "#FF9DA7",
           "#FF7F0E",
           "#FF7F0E",
           "#FF7F0E",
           "#FF7F0E",
           "#FF7F0E",
           "#9467BD",
           "#59A14F",
           "#FF9DA7",
           "#EDC949",
           "#FF9DA7",
           "#1F77B4",
           "#FF9DA7",
           "#E15759",
           "#FF7F0E",
           "#FF9DA7",
           "#9467BD",
           "#AF7AA1",
           "#E15759",
           "#FF9DA7",
           "#E15759",
           "#9C755F",
           "#FF9DA7",
           "#AF7AA1",
           "#FF9DA7",
           "#FF9DA7",
           "#E15759",
           "#AF7AA1",
           "#9467BD",
           "#FF9DA7",
           "#FF7F0E",
           "#FF7F0E",
           "#FF7F0E",
           "#1F77B4",
           "#FF9DA7",
           "#FF7F0E",
           "#FF7F0E",
           "#FF7F0E",
           "#FF7F0E",
           "#E15759",
           "#9C755F",
           "#FF7F0E",
           "#76B7B2",
           "#2CA02C",
           "#FF7F0E",
           "#FF7F0E",
           "#FF7F0E",
           "#9C755F",
           "#FF7F0E",
           "#FF7F0E",
           "#9C755F",
           "#FF7F0E",
           "#9467BD",
           "#FF7F0E",
           "#F28E2B",
           "#9467BD",
           "#FF7F0E",
           "#F28E2B",
           "#EDC949",
           "#9467BD",
           "#F28E2B",
           "#9467BD",
           "#2CA02C",
           "#FF7F0E",
           "#9467BD",
           "#4E79A7",
           "#E15759",
           "#59A14F",
           "#EDC949",
           "#FF7F0E",
           "#9467BD",
           "#59A14F",
           "#E15759",
           "#F28E2B",
           "#76B7B2",
           "#59A14F",
           "#9467BD",
           "#9467BD",
           "#4E79A7",
           "#BAB0AC",
           "#EDC949",
           "#2CA02C",
           "#4E79A7",
           "#2CA02C",
           "#F28E2B",
           "#59A14F",
           "#9467BD",
           "#76B7B2",
           "#F28E2B",
           "#FF7F0E",
           "#59A14F",
           "#9467BD",
           "#F28E2B",
           "#FF7F0E",
           "#2CA02C",
           "#1F77B4",
           "#1F77B4",
           "#4E79A7",
           "#F28E2B",
           "#FF7F0E",
           "#F28E2B",
           "#F28E2B",
           "#4E79A7",
           "#9467BD",
           "#F28E2B",
           "#EDC949",
           "#9467BD",
           "#FF7F0E",
           "#59A14F",
           "#F28E2B",
           "#59A14F",
           "#F28E2B",
           "#9467BD",
           "#FF7F0E",
           "#F28E2B",
           "#FF7F0E",
           "#9467BD",
           "#F28E2B",
           "#59A14F",
           "#59A14F",
           "#F28E2B",
           "#FF7F0E",
           "#FF7F0E",
           "#9467BD",
           "#FF7F0E",
           "#9467BD",
           "#F28E2B",
           "#E15759",
           "#4E79A7",
           "#2CA02C",
           "#9467BD",
           "#9467BD",
           "#FF7F0E",
           "#FF7F0E",
           "#FF7F0E",
           "#9467BD",
           "#FF7F0E",
           "#FF7F0E",
           "#59A14F",
           "#FF7F0E",
           "#FF7F0E",
           "#FF7F0E",
           "#FF7F0E",
           "#2CA02C",
           "#FF7F0E",
           "#FF7F0E",
           "#FF7F0E",
           "#FF7F0E",
           "#59A14F",
           "#FF7F0E",
           "#F28E2B",
           "#2CA02C",
           "#BAB0AC",
           "#FF7F0E",
           "#E15759",
           "#FF7F0E",
           "#FF7F0E",
           "#FF7F0E",
           "#9467BD",
           "#FF7F0E",
           "#FF7F0E",
           "#FF7F0E",
           "#FF7F0E",
           "#FF7F0E",
           "#E15759",
           "#FF7F0E",
           "#FF7F0E",
           "#59A14F",
           "#9467BD",
           "#76B7B2",
           "#FF7F0E",
           "#BAB0AC",
           "#FF7F0E",
           "#9467BD",
           "#E15759",
           "#AF7AA1",
           "#9467BD",
           "#2CA02C",
           "#59A14F",
           "#FF9DA7",
           "#1F77B4",
           "#1F77B4",
           "#F28E2B",
           "#FF7F0E",
           "#FF7F0E",
           "#EDC949",
           "#1F77B4",
           "#1F77B4",
           "#9467BD",
           "#E15759",
           "#FF7F0E",
           "#9467BD",
           "#9467BD",
           "#FF7F0E",
           "#59A14F",
           "#FF7F0E",
           "#1F77B4",
           "#2CA02C",
           "#F28E2B",
           "#F28E2B",
           "#FF7F0E",
           "#F28E2B",
           "#9467BD",
           "#F28E2B",
           "#F28E2B",
           "#D62728",
           "#1F77B4",
           "#FF7F0E",
           "#1F77B4",
           "#FF7F0E",
           "#AF7AA1",
           "#FF7F0E",
           "#FF7F0E",
           "#9467BD",
           "#9467BD",
           "#59A14F",
           "#E15759",
           "#AF7AA1",
           "#E15759",
           "#1F77B4",
           "#FF9DA7",
           "#F28E2B",
           "#FF7F0E",
           "#FF9DA7",
           "#1F77B4",
           "#FF7F0E",
           "#4E79A7",
           "#F28E2B",
           "#FF7F0E",
           "#9467BD",
           "#9467BD",
           "#FF7F0E",
           "#FF7F0E",
           "#FF7F0E",
           "#FF7F0E",
           "#2CA02C",
           "#FF7F0E",
           "#FF7F0E",
           "#FF7F0E",
           "#D62728",
           "#FF7F0E",
           "#D62728",
           "#FF7F0E",
           "#FF7F0E",
           "#D62728",
           "#FF7F0E",
           "#FF7F0E",
           "#EDC949",
           "#9467BD",
           "#FF7F0E",
           "#1F77B4",
           "#FF7F0E",
           "#FF7F0E",
           "#9467BD",
           "#4E79A7",
           "#9467BD",
           "#FF7F0E",
           "#FF7F0E",
           "#FF7F0E",
           "#FF7F0E",
           "#9467BD",
           "#9467BD",
           "#FF7F0E",
           "#9467BD",
           "#9467BD",
           "#BAB0AC",
           "#FF7F0E",
           "#F28E2B",
           "#9467BD",
           "#FF7F0E",
           "#9467BD",
           "#59A14F",
           "#1F77B4",
           "#FF7F0E",
           "#FF9DA7",
           "#FF7F0E",
           "#F28E2B",
           "#D62728",
           "#4E79A7",
           "#F28E2B",
           "#FF7F0E",
           "#59A14F",
           "#1F77B4",
           "#FF7F0E",
           "#FF7F0E",
           "#FF9DA7",
           "#FF7F0E",
           "#FF7F0E",
           "#AF7AA1",
           "#FF7F0E",
           "#FF7F0E",
           "#F28E2B",
           "#9467BD",
           "#FF9DA7",
           "#2CA02C",
           "#F28E2B",
           "#FF7F0E",
           "#FF7F0E",
           "#9467BD",
           "#FF7F0E",
           "#9467BD",
           "#FF7F0E",
           "#9467BD",
           "#FF7F0E",
           "#1F77B4",
           "#FF7F0E",
           "#F28E2B",
           "#FF7F0E",
           "#9467BD",
           "#9467BD",
           "#FF7F0E",
           "#BAB0AC",
           "#9467BD",
           "#FF7F0E",
           "#F28E2B",
           "#9467BD",
           "#FF7F0E",
           "#F28E2B",
           "#BAB0AC",
           "#FF7F0E",
           "#F28E2B",
           "#AF7AA1",
           "#9467BD",
           "#9467BD",
           "#FF7F0E",
           "#FF9DA7",
           "#FF7F0E",
           "#FF7F0E",
           "#9467BD",
           "#1F77B4",
           "#9467BD",
           "#FF7F0E",
           "#FF7F0E",
           "#9467BD",
           "#1F77B4",
           "#F28E2B",
           "#FF7F0E",
           "#1F77B4",
           "#FF7F0E",
           "#FF7F0E",
           "#FF7F0E",
           "#FF7F0E",
           "#59A14F",
           "#9467BD",
           "#1F77B4",
           "#FF7F0E",
           "#FF7F0E",
           "#F28E2B",
           "#9467BD",
           "#9467BD",
           "#FF7F0E",
           "#FF7F0E",
           "#59A14F",
           "#F28E2B",
           "#F28E2B",
           "#FF7F0E",
           "#59A14F",
           "#9467BD",
           "#9467BD",
           "#F28E2B",
           "#FF7F0E",
           "#FF7F0E",
           "#FF7F0E",
           "#FF7F0E",
           "#76B7B2",
           "#FF7F0E",
           "#4E79A7",
           "#9467BD",
           "#1F77B4",
           "#FF7F0E",
           "#FF7F0E",
           "#FF9DA7",
           "#F28E2B",
           "#9467BD",
           "#F28E2B",
           "#FF7F0E",
           "#59A14F",
           "#FF7F0E",
           "#FF7F0E",
           "#FF7F0E",
           "#9467BD",
           "#9467BD",
           "#76B7B2",
           "#D62728",
           "#FF7F0E",
           "#FF7F0E",
           "#1F77B4",
           "#BAB0AC",
           "#FF7F0E",
           "#4E79A7",
           "#F28E2B",
           "#FF7F0E",
           "#FF9DA7",
           "#FF7F0E",
           "#FF7F0E",
           "#FF9DA7",
           "#FF7F0E",
           "#FF9DA7",
           "#FF7F0E",
           "#9467BD",
           "#FF7F0E",
           "#FF7F0E",
           "#59A14F",
           "#9467BD",
           "#1F77B4",
           "#FF7F0E",
           "#D62728",
           "#FF9DA7",
           "#FF7F0E",
           "#1F77B4",
           "#FF7F0E",
           "#FF7F0E",
           "#FF7F0E",
           "#FF7F0E",
           "#1F77B4",
           "#FF7F0E",
           "#9467BD",
           "#1F77B4",
           "#9467BD",
           "#9467BD",
           "#D62728",
           "#FF9DA7",
           "#FF7F0E",
           "#9C755F",
           "#59A14F",
           "#FF9DA7",
           "#FF7F0E",
           "#FF9DA7",
           "#F28E2B",
           "#FF7F0E",
           "#F28E2B",
           "#1F77B4",
           "#FF7F0E",
           "#76B7B2",
           "#FF7F0E",
           "#FF7F0E",
           "#FF9DA7",
           "#9467BD",
           "#FF7F0E",
           "#FF7F0E",
           "#9467BD",
           "#FF7F0E",
           "#FF7F0E",
           "#9467BD",
           "#9467BD",
           "#FF7F0E",
           "#FF7F0E",
           "#F28E2B",
           "#1F77B4",
           "#FF7F0E",
           "#1F77B4",
           "#FF9DA7",
           "#FF7F0E",
           "#FF7F0E",
           "#1F77B4",
           "#FF7F0E",
           "#FF7F0E",
           "#F28E2B",
           "#FF7F0E",
           "#9467BD",
           "#FF7F0E",
           "#FF9DA7",
           "#F28E2B",
           "#E15759",
           "#FF7F0E",
           "#E15759",
           "#2CA02C",
           "#FF9DA7",
           "#D62728",
           "#FF7F0E",
           "#FF9DA7",
           "#FF7F0E",
           "#D62728",
           "#2CA02C",
           "#FF9DA7",
           "#FF9DA7",
           "#9467BD",
           "#D62728",
           "#FF7F0E",
           "#FF7F0E",
           "#D62728",
           "#FF7F0E",
           "#D62728",
           "#FF7F0E",
           "#1F77B4",
           "#D62728",
           "#FF7F0E",
           "#FF7F0E",
           "#2CA02C",
           "#1F77B4",
           "#FF7F0E",
           "#59A14F",
           "#1F77B4",
           "#AF7AA1",
           "#1F77B4",
           "#2CA02C",
           "#E15759",
           "#F28E2B",
           "#9467BD",
           "#FF7F0E",
           "#F28E2B",
           "#D62728",
           "#AF7AA1",
           "#76B7B2",
           "#9467BD",
           "#FF9DA7",
           "#FF7F0E",
           "#FF9DA7",
           "#2CA02C",
           "#2CA02C",
           "#F28E2B",
           "#FF7F0E",
           "#FF7F0E",
           "#F28E2B",
           "#9467BD",
           "#FF9DA7",
           "#FF7F0E",
           "#FF9DA7",
           "#2CA02C",
           "#9467BD",
           "#FF7F0E",
           "#F28E2B",
           "#2CA02C",
           "#1F77B4",
           "#D62728",
           "#FF7F0E",
           "#2CA02C",
           "#FF7F0E",
           "#1F77B4",
           "#FF7F0E",
           "#FF7F0E",
           "#FF9DA7",
           "#EDC949",
           "#59A14F",
           "#D62728",
           "#1F77B4",
           "#2CA02C",
           "#FF7F0E",
           "#E15759",
           "#EDC949",
           "#FF9DA7",
           "#FF7F0E",
           "#4E79A7",
           "#9467BD",
           "#9467BD",
           "#FF7F0E",
           "#FF9DA7",
           "#9467BD",
           "#FF7F0E",
           "#FF7F0E",
           "#2CA02C",
           "#59A14F",
           "#59A14F",
           "#9467BD",
           "#FF7F0E",
           "#9467BD",
           "#76B7B2",
           "#2CA02C",
           "#F28E2B",
           "#FF7F0E",
           "#EDC949",
           "#1F77B4",
           "#F28E2B",
           "#FF9DA7",
           "#F28E2B",
           "#1F77B4",
           "#BAB0AC",
           "#2CA02C",
           "#E15759",
           "#F28E2B",
           "#FF9DA7",
           "#FF7F0E",
           "#59A14F",
           "#AF7AA1",
           "#2CA02C",
           "#FF9DA7",
           "#9467BD",
           "#4E79A7",
           "#F28E2B",
           "#9467BD",
           "#FF7F0E",
           "#FF7F0E",
           "#FF7F0E",
           "#9467BD",
           "#1F77B4",
           "#D62728",
           "#9467BD",
           "#1F77B4",
           "#FF9DA7",
           "#FF7F0E",
           "#F28E2B",
           "#9467BD",
           "#9467BD",
           "#FF7F0E",
           "#F28E2B",
           "#59A14F",
           "#FF9DA7",
           "#F28E2B",
           "#9467BD",
           "#1F77B4",
           "#9467BD",
           "#59A14F",
           "#4E79A7",
           "#9467BD",
           "#E15759",
           "#9467BD",
           "#FF7F0E",
           "#E15759",
           "#1F77B4",
           "#FF7F0E",
           "#1F77B4",
           "#59A14F",
           "#F28E2B",
           "#9467BD",
           "#1F77B4",
           "#FF9DA7",
           "#BAB0AC",
           "#FF7F0E",
           "#9467BD",
           "#E15759",
           "#9467BD",
           "#FF7F0E",
           "#9467BD",
           "#E15759",
           "#1F77B4",
           "#9467BD",
           "#1F77B4",
           "#FF7F0E",
           "#9467BD",
           "#9467BD",
           "#FF7F0E",
           "#9467BD",
           "#1F77B4",
           "#9467BD",
           "#9467BD",
           "#76B7B2",
           "#2CA02C",
           "#FF7F0E",
           "#FF7F0E",
           "#9467BD",
           "#2CA02C",
           "#FF7F0E",
           "#FF7F0E",
           "#9467BD",
           "#2CA02C",
           "#4E79A7",
           "#9467BD",
           "#FF7F0E",
           "#D62728",
           "#FF7F0E",
           "#AF7AA1",
           "#FF7F0E",
           "#FF7F0E",
           "#2CA02C",
           "#E15759",
           "#FF7F0E",
           "#59A14F",
           "#59A14F",
           "#FF9DA7",
           "#D62728",
           "#2CA02C",
           "#9467BD",
           "#FF9DA7",
           "#FF7F0E",
           "#F28E2B",
           "#9467BD",
           "#FF7F0E",
           "#FF7F0E",
           "#FF7F0E",
           "#9467BD",
           "#F28E2B",
           "#F28E2B",
           "#9467BD",
           "#FF7F0E",
           "#9467BD",
           "#FF9DA7",
           "#4E79A7",
           "#F28E2B",
           "#9467BD",
           "#2CA02C",
           "#9467BD",
           "#F28E2B",
           "#9467BD",
           "#9467BD",
           "#9467BD",
           "#1F77B4",
           "#9467BD",
           "#9467BD",
           "#FF7F0E",
           "#9467BD",
           "#F28E2B",
           "#59A14F",
           "#F28E2B",
           "#9467BD",
           "#F28E2B",
           "#FF7F0E",
           "#9467BD",
           "#59A14F",
           "#1F77B4",
           "#D62728",
           "#FF9DA7",
           "#E15759",
           "#E15759",
           "#4E79A7",
           "#F28E2B",
           "#F28E2B",
           "#1F77B4",
           "#1F77B4",
           "#9467BD",
           "#F28E2B",
           "#FF9DA7",
           "#F28E2B",
           "#1F77B4",
           "#1F77B4",
           "#FF7F0E",
           "#FF7F0E",
           "#4E79A7",
           "#1F77B4",
           "#FF7F0E",
           "#1F77B4",
           "#F28E2B",
           "#F28E2B",
           "#FF7F0E",
           "#4E79A7",
           "#F28E2B"
          ]
         },
         "name": "",
         "showlegend": true,
         "type": "pie",
         "textposition": "inside"
        }
       ],
       "layout": {
        "template": {
         "data": {
          "histogram2dcontour": [
           {
            "type": "histogram2dcontour",
            "colorbar": {
             "outlinewidth": 0,
             "ticks": ""
            },
            "colorscale": [
             [
              0.0,
              "#0d0887"
             ],
             [
              0.1111111111111111,
              "#46039f"
             ],
             [
              0.2222222222222222,
              "#7201a8"
             ],
             [
              0.3333333333333333,
              "#9c179e"
             ],
             [
              0.4444444444444444,
              "#bd3786"
             ],
             [
              0.5555555555555556,
              "#d8576b"
             ],
             [
              0.6666666666666666,
              "#ed7953"
             ],
             [
              0.7777777777777778,
              "#fb9f3a"
             ],
             [
              0.8888888888888888,
              "#fdca26"
             ],
             [
              1.0,
              "#f0f921"
             ]
            ]
           }
          ],
          "choropleth": [
           {
            "type": "choropleth",
            "colorbar": {
             "outlinewidth": 0,
             "ticks": ""
            }
           }
          ],
          "histogram2d": [
           {
            "type": "histogram2d",
            "colorbar": {
             "outlinewidth": 0,
             "ticks": ""
            },
            "colorscale": [
             [
              0.0,
              "#0d0887"
             ],
             [
              0.1111111111111111,
              "#46039f"
             ],
             [
              0.2222222222222222,
              "#7201a8"
             ],
             [
              0.3333333333333333,
              "#9c179e"
             ],
             [
              0.4444444444444444,
              "#bd3786"
             ],
             [
              0.5555555555555556,
              "#d8576b"
             ],
             [
              0.6666666666666666,
              "#ed7953"
             ],
             [
              0.7777777777777778,
              "#fb9f3a"
             ],
             [
              0.8888888888888888,
              "#fdca26"
             ],
             [
              1.0,
              "#f0f921"
             ]
            ]
           }
          ],
          "heatmap": [
           {
            "type": "heatmap",
            "colorbar": {
             "outlinewidth": 0,
             "ticks": ""
            },
            "colorscale": [
             [
              0.0,
              "#0d0887"
             ],
             [
              0.1111111111111111,
              "#46039f"
             ],
             [
              0.2222222222222222,
              "#7201a8"
             ],
             [
              0.3333333333333333,
              "#9c179e"
             ],
             [
              0.4444444444444444,
              "#bd3786"
             ],
             [
              0.5555555555555556,
              "#d8576b"
             ],
             [
              0.6666666666666666,
              "#ed7953"
             ],
             [
              0.7777777777777778,
              "#fb9f3a"
             ],
             [
              0.8888888888888888,
              "#fdca26"
             ],
             [
              1.0,
              "#f0f921"
             ]
            ]
           }
          ],
          "contourcarpet": [
           {
            "type": "contourcarpet",
            "colorbar": {
             "outlinewidth": 0,
             "ticks": ""
            }
           }
          ],
          "contour": [
           {
            "type": "contour",
            "colorbar": {
             "outlinewidth": 0,
             "ticks": ""
            },
            "colorscale": [
             [
              0.0,
              "#0d0887"
             ],
             [
              0.1111111111111111,
              "#46039f"
             ],
             [
              0.2222222222222222,
              "#7201a8"
             ],
             [
              0.3333333333333333,
              "#9c179e"
             ],
             [
              0.4444444444444444,
              "#bd3786"
             ],
             [
              0.5555555555555556,
              "#d8576b"
             ],
             [
              0.6666666666666666,
              "#ed7953"
             ],
             [
              0.7777777777777778,
              "#fb9f3a"
             ],
             [
              0.8888888888888888,
              "#fdca26"
             ],
             [
              1.0,
              "#f0f921"
             ]
            ]
           }
          ],
          "surface": [
           {
            "type": "surface",
            "colorbar": {
             "outlinewidth": 0,
             "ticks": ""
            },
            "colorscale": [
             [
              0.0,
              "#0d0887"
             ],
             [
              0.1111111111111111,
              "#46039f"
             ],
             [
              0.2222222222222222,
              "#7201a8"
             ],
             [
              0.3333333333333333,
              "#9c179e"
             ],
             [
              0.4444444444444444,
              "#bd3786"
             ],
             [
              0.5555555555555556,
              "#d8576b"
             ],
             [
              0.6666666666666666,
              "#ed7953"
             ],
             [
              0.7777777777777778,
              "#fb9f3a"
             ],
             [
              0.8888888888888888,
              "#fdca26"
             ],
             [
              1.0,
              "#f0f921"
             ]
            ]
           }
          ],
          "mesh3d": [
           {
            "type": "mesh3d",
            "colorbar": {
             "outlinewidth": 0,
             "ticks": ""
            }
           }
          ],
          "scatter": [
           {
            "marker": {
             "line": {
              "color": "#283442"
             }
            },
            "type": "scatter"
           }
          ],
          "parcoords": [
           {
            "type": "parcoords",
            "line": {
             "colorbar": {
              "outlinewidth": 0,
              "ticks": ""
             }
            }
           }
          ],
          "scatterpolargl": [
           {
            "type": "scatterpolargl",
            "marker": {
             "colorbar": {
              "outlinewidth": 0,
              "ticks": ""
             }
            }
           }
          ],
          "bar": [
           {
            "error_x": {
             "color": "#f2f5fa"
            },
            "error_y": {
             "color": "#f2f5fa"
            },
            "marker": {
             "line": {
              "color": "rgb(17,17,17)",
              "width": 0.5
             },
             "pattern": {
              "fillmode": "overlay",
              "size": 10,
              "solidity": 0.2
             }
            },
            "type": "bar"
           }
          ],
          "scattergeo": [
           {
            "type": "scattergeo",
            "marker": {
             "colorbar": {
              "outlinewidth": 0,
              "ticks": ""
             }
            }
           }
          ],
          "scatterpolar": [
           {
            "type": "scatterpolar",
            "marker": {
             "colorbar": {
              "outlinewidth": 0,
              "ticks": ""
             }
            }
           }
          ],
          "histogram": [
           {
            "marker": {
             "pattern": {
              "fillmode": "overlay",
              "size": 10,
              "solidity": 0.2
             }
            },
            "type": "histogram"
           }
          ],
          "scattergl": [
           {
            "marker": {
             "line": {
              "color": "#283442"
             }
            },
            "type": "scattergl"
           }
          ],
          "scatter3d": [
           {
            "type": "scatter3d",
            "line": {
             "colorbar": {
              "outlinewidth": 0,
              "ticks": ""
             }
            },
            "marker": {
             "colorbar": {
              "outlinewidth": 0,
              "ticks": ""
             }
            }
           }
          ],
          "scattermap": [
           {
            "type": "scattermap",
            "marker": {
             "colorbar": {
              "outlinewidth": 0,
              "ticks": ""
             }
            }
           }
          ],
          "scattermapbox": [
           {
            "type": "scattermapbox",
            "marker": {
             "colorbar": {
              "outlinewidth": 0,
              "ticks": ""
             }
            }
           }
          ],
          "scatterternary": [
           {
            "type": "scatterternary",
            "marker": {
             "colorbar": {
              "outlinewidth": 0,
              "ticks": ""
             }
            }
           }
          ],
          "scattercarpet": [
           {
            "type": "scattercarpet",
            "marker": {
             "colorbar": {
              "outlinewidth": 0,
              "ticks": ""
             }
            }
           }
          ],
          "carpet": [
           {
            "aaxis": {
             "endlinecolor": "#A2B1C6",
             "gridcolor": "#506784",
             "linecolor": "#506784",
             "minorgridcolor": "#506784",
             "startlinecolor": "#A2B1C6"
            },
            "baxis": {
             "endlinecolor": "#A2B1C6",
             "gridcolor": "#506784",
             "linecolor": "#506784",
             "minorgridcolor": "#506784",
             "startlinecolor": "#A2B1C6"
            },
            "type": "carpet"
           }
          ],
          "table": [
           {
            "cells": {
             "fill": {
              "color": "#506784"
             },
             "line": {
              "color": "rgb(17,17,17)"
             }
            },
            "header": {
             "fill": {
              "color": "#2a3f5f"
             },
             "line": {
              "color": "rgb(17,17,17)"
             }
            },
            "type": "table"
           }
          ],
          "barpolar": [
           {
            "marker": {
             "line": {
              "color": "rgb(17,17,17)",
              "width": 0.5
             },
             "pattern": {
              "fillmode": "overlay",
              "size": 10,
              "solidity": 0.2
             }
            },
            "type": "barpolar"
           }
          ],
          "pie": [
           {
            "automargin": true,
            "type": "pie"
           }
          ]
         },
         "layout": {
          "autotypenumbers": "strict",
          "colorway": [
           "#636efa",
           "#EF553B",
           "#00cc96",
           "#ab63fa",
           "#FFA15A",
           "#19d3f3",
           "#FF6692",
           "#B6E880",
           "#FF97FF",
           "#FECB52"
          ],
          "font": {
           "color": "#f2f5fa"
          },
          "hovermode": "closest",
          "hoverlabel": {
           "align": "left"
          },
          "paper_bgcolor": "rgb(17,17,17)",
          "plot_bgcolor": "rgb(17,17,17)",
          "polar": {
           "bgcolor": "rgb(17,17,17)",
           "angularaxis": {
            "gridcolor": "#506784",
            "linecolor": "#506784",
            "ticks": ""
           },
           "radialaxis": {
            "gridcolor": "#506784",
            "linecolor": "#506784",
            "ticks": ""
           }
          },
          "ternary": {
           "bgcolor": "rgb(17,17,17)",
           "aaxis": {
            "gridcolor": "#506784",
            "linecolor": "#506784",
            "ticks": ""
           },
           "baxis": {
            "gridcolor": "#506784",
            "linecolor": "#506784",
            "ticks": ""
           },
           "caxis": {
            "gridcolor": "#506784",
            "linecolor": "#506784",
            "ticks": ""
           }
          },
          "coloraxis": {
           "colorbar": {
            "outlinewidth": 0,
            "ticks": ""
           }
          },
          "colorscale": {
           "sequential": [
            [
             0.0,
             "#0d0887"
            ],
            [
             0.1111111111111111,
             "#46039f"
            ],
            [
             0.2222222222222222,
             "#7201a8"
            ],
            [
             0.3333333333333333,
             "#9c179e"
            ],
            [
             0.4444444444444444,
             "#bd3786"
            ],
            [
             0.5555555555555556,
             "#d8576b"
            ],
            [
             0.6666666666666666,
             "#ed7953"
            ],
            [
             0.7777777777777778,
             "#fb9f3a"
            ],
            [
             0.8888888888888888,
             "#fdca26"
            ],
            [
             1.0,
             "#f0f921"
            ]
           ],
           "sequentialminus": [
            [
             0.0,
             "#0d0887"
            ],
            [
             0.1111111111111111,
             "#46039f"
            ],
            [
             0.2222222222222222,
             "#7201a8"
            ],
            [
             0.3333333333333333,
             "#9c179e"
            ],
            [
             0.4444444444444444,
             "#bd3786"
            ],
            [
             0.5555555555555556,
             "#d8576b"
            ],
            [
             0.6666666666666666,
             "#ed7953"
            ],
            [
             0.7777777777777778,
             "#fb9f3a"
            ],
            [
             0.8888888888888888,
             "#fdca26"
            ],
            [
             1.0,
             "#f0f921"
            ]
           ],
           "diverging": [
            [
             0,
             "#8e0152"
            ],
            [
             0.1,
             "#c51b7d"
            ],
            [
             0.2,
             "#de77ae"
            ],
            [
             0.3,
             "#f1b6da"
            ],
            [
             0.4,
             "#fde0ef"
            ],
            [
             0.5,
             "#f7f7f7"
            ],
            [
             0.6,
             "#e6f5d0"
            ],
            [
             0.7,
             "#b8e186"
            ],
            [
             0.8,
             "#7fbc41"
            ],
            [
             0.9,
             "#4d9221"
            ],
            [
             1,
             "#276419"
            ]
           ]
          },
          "xaxis": {
           "gridcolor": "#283442",
           "linecolor": "#506784",
           "ticks": "",
           "title": {
            "standoff": 15
           },
           "zerolinecolor": "#283442",
           "automargin": true,
           "zerolinewidth": 2
          },
          "yaxis": {
           "gridcolor": "#283442",
           "linecolor": "#506784",
           "ticks": "",
           "title": {
            "standoff": 15
           },
           "zerolinecolor": "#283442",
           "automargin": true,
           "zerolinewidth": 2
          },
          "scene": {
           "xaxis": {
            "backgroundcolor": "rgb(17,17,17)",
            "gridcolor": "#506784",
            "linecolor": "#506784",
            "showbackground": true,
            "ticks": "",
            "zerolinecolor": "#C8D4E3",
            "gridwidth": 2
           },
           "yaxis": {
            "backgroundcolor": "rgb(17,17,17)",
            "gridcolor": "#506784",
            "linecolor": "#506784",
            "showbackground": true,
            "ticks": "",
            "zerolinecolor": "#C8D4E3",
            "gridwidth": 2
           },
           "zaxis": {
            "backgroundcolor": "rgb(17,17,17)",
            "gridcolor": "#506784",
            "linecolor": "#506784",
            "showbackground": true,
            "ticks": "",
            "zerolinecolor": "#C8D4E3",
            "gridwidth": 2
           }
          },
          "shapedefaults": {
           "line": {
            "color": "#f2f5fa"
           }
          },
          "annotationdefaults": {
           "arrowcolor": "#f2f5fa",
           "arrowhead": 0,
           "arrowwidth": 1
          },
          "geo": {
           "bgcolor": "rgb(17,17,17)",
           "landcolor": "rgb(17,17,17)",
           "subunitcolor": "#506784",
           "showland": true,
           "showlakes": true,
           "lakecolor": "rgb(17,17,17)"
          },
          "title": {
           "x": 0.05
          },
          "updatemenudefaults": {
           "bgcolor": "#506784",
           "borderwidth": 0
          },
          "sliderdefaults": {
           "bgcolor": "#C8D4E3",
           "borderwidth": 1,
           "bordercolor": "rgb(17,17,17)",
           "tickwidth": 0
          },
          "mapbox": {
           "style": "dark"
          }
         }
        },
        "legend": {
         "tracegroupgap": 0
        },
        "margin": {
         "t": 60
        },
        "piecolorway": [
         "#4E79A7",
         "#F28E2B",
         "#E15759",
         "#76B7B2",
         "#59A14F",
         "#EDC949",
         "#AF7AA1",
         "#FF9DA7",
         "#9C755F",
         "#BAB0AC",
         "#1F77B4",
         "#FF7F0E",
         "#2CA02C",
         "#D62728",
         "#9467BD"
        ],
        "uniformtext": {
         "minsize": 12,
         "mode": "hide"
        }
       },
       "config": {
        "plotlyServerURL": "https://plot.ly"
       }
      }
     },
     "metadata": {},
     "output_type": "display_data"
    }
   ],
   "execution_count": 80
  },
  {
   "metadata": {
    "ExecuteTime": {
     "end_time": "2025-06-08T06:30:01.822129Z",
     "start_time": "2025-06-08T06:30:01.687743Z"
    }
   },
   "cell_type": "code",
   "source": [
    "\n",
    "subFig = mks(rows=1, cols=2)\n",
    "for value in uniqueCategories:\n",
    "    dfT1 = df[df['Category'] == f'{value}']\n",
    "    dfT2 = dfT1.sort_values(by='quantity', ascending = False)\n",
    "    fig1 = go.Line(y = dfT2['mrp'],line=dict(color='#bc5090', width=4),opacity=0.8)\n",
    "    fig2 = go.Line(y = dfT2['discountedSellingPrice'] ,line=dict(color='#ffa600', width=4), opacity=0.8)\n",
    "    print(f'{value} with count - ', dfT2['quantity'].count())\n",
    "    subFig.add_trace(fig1)\n",
    "    subFig.add_trace(fig2)\n",
    "    subFig.update_traces(mode=\"markers+lines\").update_layout(width=2800,autosize=True, hovermode='x').show()\n",
    "    subFig.update_traces(visible=False)\n",
    "\n",
    "\n"
   ],
   "id": "ade296966b015d9f",
   "outputs": [
    {
     "name": "stdout",
     "output_type": "stream",
     "text": [
      "Fruits & Vegetables with count -  93\n"
     ]
    },
    {
     "data": {
      "application/vnd.plotly.v1+json": {
       "data": [
        {
         "line": {
          "color": "#bc5090",
          "width": 4
         },
         "opacity": 0.8,
         "y": {
          "dtype": "i2",
          "bdata": "EA4YFXAXKApABmwHGBX8CNAHaBDYDlQLbAe4C3AXxAnECfwIuAtsB3gF5AwIB0wEdA7QB6gWrA2sDYAMgAy4C7gLCAdoEAgH+BEUBawNBBCkBrgLxCKsDawNTB14BfwIbAdMBNAHTASoFqQG0AfQBxQFuAtUC6gWCCB4NxgV1El4NyRFkBoQJwggGC5oKVgbGBUQDrgLxAnsExAOKArcBWgQaBCsDagWKApYGxgVbAe4JPgqJEWwBIA+"
         },
         "type": "scatter",
         "mode": "markers+lines"
        },
        {
         "line": {
          "color": "#ffa600",
          "width": 4
         },
         "opacity": 0.8,
         "y": {
          "dtype": "i2",
          "bdata": "uAuUEUQWNAgUBdwFlBFsB6QGrA2ADGAJQAbECYgTNAg0CGwHxAlABrAE8ArcBYQDHAykBiQTVAtUC4wKjArECcQJ3AWsDdwFPA9MBFQLPA8UBcQJTB1UC1QLnBiwBGwHQAaEA6QGhAMkE3gFpAakBkwExAlgCSQT9Bp8LpQRHD58LjQ6RBbQIPQarCbEIgwXlBG4C8QJNAjMELgLmAgUBawNrA1UCyQTmAgMF5QRQAbcHgQpNDroA2A7"
         },
         "type": "scatter",
         "mode": "markers+lines"
        }
       ],
       "layout": {
        "template": {
         "data": {
          "histogram2dcontour": [
           {
            "type": "histogram2dcontour",
            "colorbar": {
             "outlinewidth": 0,
             "ticks": ""
            },
            "colorscale": [
             [
              0.0,
              "#0d0887"
             ],
             [
              0.1111111111111111,
              "#46039f"
             ],
             [
              0.2222222222222222,
              "#7201a8"
             ],
             [
              0.3333333333333333,
              "#9c179e"
             ],
             [
              0.4444444444444444,
              "#bd3786"
             ],
             [
              0.5555555555555556,
              "#d8576b"
             ],
             [
              0.6666666666666666,
              "#ed7953"
             ],
             [
              0.7777777777777778,
              "#fb9f3a"
             ],
             [
              0.8888888888888888,
              "#fdca26"
             ],
             [
              1.0,
              "#f0f921"
             ]
            ]
           }
          ],
          "choropleth": [
           {
            "type": "choropleth",
            "colorbar": {
             "outlinewidth": 0,
             "ticks": ""
            }
           }
          ],
          "histogram2d": [
           {
            "type": "histogram2d",
            "colorbar": {
             "outlinewidth": 0,
             "ticks": ""
            },
            "colorscale": [
             [
              0.0,
              "#0d0887"
             ],
             [
              0.1111111111111111,
              "#46039f"
             ],
             [
              0.2222222222222222,
              "#7201a8"
             ],
             [
              0.3333333333333333,
              "#9c179e"
             ],
             [
              0.4444444444444444,
              "#bd3786"
             ],
             [
              0.5555555555555556,
              "#d8576b"
             ],
             [
              0.6666666666666666,
              "#ed7953"
             ],
             [
              0.7777777777777778,
              "#fb9f3a"
             ],
             [
              0.8888888888888888,
              "#fdca26"
             ],
             [
              1.0,
              "#f0f921"
             ]
            ]
           }
          ],
          "heatmap": [
           {
            "type": "heatmap",
            "colorbar": {
             "outlinewidth": 0,
             "ticks": ""
            },
            "colorscale": [
             [
              0.0,
              "#0d0887"
             ],
             [
              0.1111111111111111,
              "#46039f"
             ],
             [
              0.2222222222222222,
              "#7201a8"
             ],
             [
              0.3333333333333333,
              "#9c179e"
             ],
             [
              0.4444444444444444,
              "#bd3786"
             ],
             [
              0.5555555555555556,
              "#d8576b"
             ],
             [
              0.6666666666666666,
              "#ed7953"
             ],
             [
              0.7777777777777778,
              "#fb9f3a"
             ],
             [
              0.8888888888888888,
              "#fdca26"
             ],
             [
              1.0,
              "#f0f921"
             ]
            ]
           }
          ],
          "contourcarpet": [
           {
            "type": "contourcarpet",
            "colorbar": {
             "outlinewidth": 0,
             "ticks": ""
            }
           }
          ],
          "contour": [
           {
            "type": "contour",
            "colorbar": {
             "outlinewidth": 0,
             "ticks": ""
            },
            "colorscale": [
             [
              0.0,
              "#0d0887"
             ],
             [
              0.1111111111111111,
              "#46039f"
             ],
             [
              0.2222222222222222,
              "#7201a8"
             ],
             [
              0.3333333333333333,
              "#9c179e"
             ],
             [
              0.4444444444444444,
              "#bd3786"
             ],
             [
              0.5555555555555556,
              "#d8576b"
             ],
             [
              0.6666666666666666,
              "#ed7953"
             ],
             [
              0.7777777777777778,
              "#fb9f3a"
             ],
             [
              0.8888888888888888,
              "#fdca26"
             ],
             [
              1.0,
              "#f0f921"
             ]
            ]
           }
          ],
          "surface": [
           {
            "type": "surface",
            "colorbar": {
             "outlinewidth": 0,
             "ticks": ""
            },
            "colorscale": [
             [
              0.0,
              "#0d0887"
             ],
             [
              0.1111111111111111,
              "#46039f"
             ],
             [
              0.2222222222222222,
              "#7201a8"
             ],
             [
              0.3333333333333333,
              "#9c179e"
             ],
             [
              0.4444444444444444,
              "#bd3786"
             ],
             [
              0.5555555555555556,
              "#d8576b"
             ],
             [
              0.6666666666666666,
              "#ed7953"
             ],
             [
              0.7777777777777778,
              "#fb9f3a"
             ],
             [
              0.8888888888888888,
              "#fdca26"
             ],
             [
              1.0,
              "#f0f921"
             ]
            ]
           }
          ],
          "mesh3d": [
           {
            "type": "mesh3d",
            "colorbar": {
             "outlinewidth": 0,
             "ticks": ""
            }
           }
          ],
          "scatter": [
           {
            "marker": {
             "line": {
              "color": "#283442"
             }
            },
            "type": "scatter"
           }
          ],
          "parcoords": [
           {
            "type": "parcoords",
            "line": {
             "colorbar": {
              "outlinewidth": 0,
              "ticks": ""
             }
            }
           }
          ],
          "scatterpolargl": [
           {
            "type": "scatterpolargl",
            "marker": {
             "colorbar": {
              "outlinewidth": 0,
              "ticks": ""
             }
            }
           }
          ],
          "bar": [
           {
            "error_x": {
             "color": "#f2f5fa"
            },
            "error_y": {
             "color": "#f2f5fa"
            },
            "marker": {
             "line": {
              "color": "rgb(17,17,17)",
              "width": 0.5
             },
             "pattern": {
              "fillmode": "overlay",
              "size": 10,
              "solidity": 0.2
             }
            },
            "type": "bar"
           }
          ],
          "scattergeo": [
           {
            "type": "scattergeo",
            "marker": {
             "colorbar": {
              "outlinewidth": 0,
              "ticks": ""
             }
            }
           }
          ],
          "scatterpolar": [
           {
            "type": "scatterpolar",
            "marker": {
             "colorbar": {
              "outlinewidth": 0,
              "ticks": ""
             }
            }
           }
          ],
          "histogram": [
           {
            "marker": {
             "pattern": {
              "fillmode": "overlay",
              "size": 10,
              "solidity": 0.2
             }
            },
            "type": "histogram"
           }
          ],
          "scattergl": [
           {
            "marker": {
             "line": {
              "color": "#283442"
             }
            },
            "type": "scattergl"
           }
          ],
          "scatter3d": [
           {
            "type": "scatter3d",
            "line": {
             "colorbar": {
              "outlinewidth": 0,
              "ticks": ""
             }
            },
            "marker": {
             "colorbar": {
              "outlinewidth": 0,
              "ticks": ""
             }
            }
           }
          ],
          "scattermap": [
           {
            "type": "scattermap",
            "marker": {
             "colorbar": {
              "outlinewidth": 0,
              "ticks": ""
             }
            }
           }
          ],
          "scattermapbox": [
           {
            "type": "scattermapbox",
            "marker": {
             "colorbar": {
              "outlinewidth": 0,
              "ticks": ""
             }
            }
           }
          ],
          "scatterternary": [
           {
            "type": "scatterternary",
            "marker": {
             "colorbar": {
              "outlinewidth": 0,
              "ticks": ""
             }
            }
           }
          ],
          "scattercarpet": [
           {
            "type": "scattercarpet",
            "marker": {
             "colorbar": {
              "outlinewidth": 0,
              "ticks": ""
             }
            }
           }
          ],
          "carpet": [
           {
            "aaxis": {
             "endlinecolor": "#A2B1C6",
             "gridcolor": "#506784",
             "linecolor": "#506784",
             "minorgridcolor": "#506784",
             "startlinecolor": "#A2B1C6"
            },
            "baxis": {
             "endlinecolor": "#A2B1C6",
             "gridcolor": "#506784",
             "linecolor": "#506784",
             "minorgridcolor": "#506784",
             "startlinecolor": "#A2B1C6"
            },
            "type": "carpet"
           }
          ],
          "table": [
           {
            "cells": {
             "fill": {
              "color": "#506784"
             },
             "line": {
              "color": "rgb(17,17,17)"
             }
            },
            "header": {
             "fill": {
              "color": "#2a3f5f"
             },
             "line": {
              "color": "rgb(17,17,17)"
             }
            },
            "type": "table"
           }
          ],
          "barpolar": [
           {
            "marker": {
             "line": {
              "color": "rgb(17,17,17)",
              "width": 0.5
             },
             "pattern": {
              "fillmode": "overlay",
              "size": 10,
              "solidity": 0.2
             }
            },
            "type": "barpolar"
           }
          ],
          "pie": [
           {
            "automargin": true,
            "type": "pie"
           }
          ]
         },
         "layout": {
          "autotypenumbers": "strict",
          "colorway": [
           "#636efa",
           "#EF553B",
           "#00cc96",
           "#ab63fa",
           "#FFA15A",
           "#19d3f3",
           "#FF6692",
           "#B6E880",
           "#FF97FF",
           "#FECB52"
          ],
          "font": {
           "color": "#f2f5fa"
          },
          "hovermode": "closest",
          "hoverlabel": {
           "align": "left"
          },
          "paper_bgcolor": "rgb(17,17,17)",
          "plot_bgcolor": "rgb(17,17,17)",
          "polar": {
           "bgcolor": "rgb(17,17,17)",
           "angularaxis": {
            "gridcolor": "#506784",
            "linecolor": "#506784",
            "ticks": ""
           },
           "radialaxis": {
            "gridcolor": "#506784",
            "linecolor": "#506784",
            "ticks": ""
           }
          },
          "ternary": {
           "bgcolor": "rgb(17,17,17)",
           "aaxis": {
            "gridcolor": "#506784",
            "linecolor": "#506784",
            "ticks": ""
           },
           "baxis": {
            "gridcolor": "#506784",
            "linecolor": "#506784",
            "ticks": ""
           },
           "caxis": {
            "gridcolor": "#506784",
            "linecolor": "#506784",
            "ticks": ""
           }
          },
          "coloraxis": {
           "colorbar": {
            "outlinewidth": 0,
            "ticks": ""
           }
          },
          "colorscale": {
           "sequential": [
            [
             0.0,
             "#0d0887"
            ],
            [
             0.1111111111111111,
             "#46039f"
            ],
            [
             0.2222222222222222,
             "#7201a8"
            ],
            [
             0.3333333333333333,
             "#9c179e"
            ],
            [
             0.4444444444444444,
             "#bd3786"
            ],
            [
             0.5555555555555556,
             "#d8576b"
            ],
            [
             0.6666666666666666,
             "#ed7953"
            ],
            [
             0.7777777777777778,
             "#fb9f3a"
            ],
            [
             0.8888888888888888,
             "#fdca26"
            ],
            [
             1.0,
             "#f0f921"
            ]
           ],
           "sequentialminus": [
            [
             0.0,
             "#0d0887"
            ],
            [
             0.1111111111111111,
             "#46039f"
            ],
            [
             0.2222222222222222,
             "#7201a8"
            ],
            [
             0.3333333333333333,
             "#9c179e"
            ],
            [
             0.4444444444444444,
             "#bd3786"
            ],
            [
             0.5555555555555556,
             "#d8576b"
            ],
            [
             0.6666666666666666,
             "#ed7953"
            ],
            [
             0.7777777777777778,
             "#fb9f3a"
            ],
            [
             0.8888888888888888,
             "#fdca26"
            ],
            [
             1.0,
             "#f0f921"
            ]
           ],
           "diverging": [
            [
             0,
             "#8e0152"
            ],
            [
             0.1,
             "#c51b7d"
            ],
            [
             0.2,
             "#de77ae"
            ],
            [
             0.3,
             "#f1b6da"
            ],
            [
             0.4,
             "#fde0ef"
            ],
            [
             0.5,
             "#f7f7f7"
            ],
            [
             0.6,
             "#e6f5d0"
            ],
            [
             0.7,
             "#b8e186"
            ],
            [
             0.8,
             "#7fbc41"
            ],
            [
             0.9,
             "#4d9221"
            ],
            [
             1,
             "#276419"
            ]
           ]
          },
          "xaxis": {
           "gridcolor": "#283442",
           "linecolor": "#506784",
           "ticks": "",
           "title": {
            "standoff": 15
           },
           "zerolinecolor": "#283442",
           "automargin": true,
           "zerolinewidth": 2
          },
          "yaxis": {
           "gridcolor": "#283442",
           "linecolor": "#506784",
           "ticks": "",
           "title": {
            "standoff": 15
           },
           "zerolinecolor": "#283442",
           "automargin": true,
           "zerolinewidth": 2
          },
          "scene": {
           "xaxis": {
            "backgroundcolor": "rgb(17,17,17)",
            "gridcolor": "#506784",
            "linecolor": "#506784",
            "showbackground": true,
            "ticks": "",
            "zerolinecolor": "#C8D4E3",
            "gridwidth": 2
           },
           "yaxis": {
            "backgroundcolor": "rgb(17,17,17)",
            "gridcolor": "#506784",
            "linecolor": "#506784",
            "showbackground": true,
            "ticks": "",
            "zerolinecolor": "#C8D4E3",
            "gridwidth": 2
           },
           "zaxis": {
            "backgroundcolor": "rgb(17,17,17)",
            "gridcolor": "#506784",
            "linecolor": "#506784",
            "showbackground": true,
            "ticks": "",
            "zerolinecolor": "#C8D4E3",
            "gridwidth": 2
           }
          },
          "shapedefaults": {
           "line": {
            "color": "#f2f5fa"
           }
          },
          "annotationdefaults": {
           "arrowcolor": "#f2f5fa",
           "arrowhead": 0,
           "arrowwidth": 1
          },
          "geo": {
           "bgcolor": "rgb(17,17,17)",
           "landcolor": "rgb(17,17,17)",
           "subunitcolor": "#506784",
           "showland": true,
           "showlakes": true,
           "lakecolor": "rgb(17,17,17)"
          },
          "title": {
           "x": 0.05
          },
          "updatemenudefaults": {
           "bgcolor": "#506784",
           "borderwidth": 0
          },
          "sliderdefaults": {
           "bgcolor": "#C8D4E3",
           "borderwidth": 1,
           "bordercolor": "rgb(17,17,17)",
           "tickwidth": 0
          },
          "mapbox": {
           "style": "dark"
          }
         }
        },
        "xaxis": {
         "anchor": "y",
         "domain": [
          0.0,
          0.45
         ]
        },
        "yaxis": {
         "anchor": "x",
         "domain": [
          0.0,
          1.0
         ]
        },
        "xaxis2": {
         "anchor": "y2",
         "domain": [
          0.55,
          1.0
         ]
        },
        "yaxis2": {
         "anchor": "x2",
         "domain": [
          0.0,
          1.0
         ]
        },
        "width": 2800,
        "autosize": true,
        "hovermode": "x"
       },
       "config": {
        "plotlyServerURL": "https://plot.ly"
       }
      }
     },
     "metadata": {},
     "output_type": "display_data"
    },
    {
     "name": "stdout",
     "output_type": "stream",
     "text": [
      "Cooking Essentials with count -  514\n"
     ]
    },
    {
     "data": {
      "application/vnd.plotly.v1+json": {
       "data": [
        {
         "line": {
          "color": "#bc5090",
          "width": 4
         },
         "opacity": 0.8,
         "y": {
          "dtype": "i2",
          "bdata": "EA4YFXAXKApABmwHGBX8CNAHaBDYDlQLbAe4C3AXxAnECfwIuAtsB3gF5AwIB0wEdA7QB6gWrA2sDYAMgAy4C7gLCAdoEAgH+BEUBawNBBCkBrgLxCKsDawNTB14BfwIbAdMBNAHTASoFqQG0AfQBxQFuAtUC6gWCCB4NxgV1El4NyRFkBoQJwggGC5oKVgbGBUQDrgLxAnsExAOKArcBWgQaBCsDagWKApYGxgVbAe4JPgqJEWwBIA+"
         },
         "type": "scatter",
         "mode": "markers+lines",
         "visible": false
        },
        {
         "line": {
          "color": "#ffa600",
          "width": 4
         },
         "opacity": 0.8,
         "y": {
          "dtype": "i2",
          "bdata": "uAuUEUQWNAgUBdwFlBFsB6QGrA2ADGAJQAbECYgTNAg0CGwHxAlABrAE8ArcBYQDHAykBiQTVAtUC4wKjArECcQJ3AWsDdwFPA9MBFQLPA8UBcQJTB1UC1QLnBiwBGwHQAaEA6QGhAMkE3gFpAakBkwExAlgCSQT9Bp8LpQRHD58LjQ6RBbQIPQarCbEIgwXlBG4C8QJNAjMELgLmAgUBawNrA1UCyQTmAgMF5QRQAbcHgQpNDroA2A7"
         },
         "type": "scatter",
         "mode": "markers+lines",
         "visible": false
        },
        {
         "line": {
          "color": "#bc5090",
          "width": 4
         },
         "opacity": 0.8,
         "y": {
          "dtype": "i4",
          "bdata": "ECcAAIA+AACMuQAA8FUAANhZAADMKQAAjCMAAGg2AgAYeQAAQB8AAERIAAAAGQAA2A4AAEAfAAAwEQAArA0AADhKAAA8cwAAPHMAAPAjAAAMewAAWBsAACBOAAAYeQAAuCQAAHAXAACgDwAAsDYAALw0AADIMgAAECcAAEAfAAAsTAAAaEIAADxzAACUQwAAKCMAADxzAADIMgAA4C4AAAQpAABoQgAA+CoAAFgbAABAHwAAWBsAACxMAAC8NAAAKCMAAKQ4AAB0QAAA4C4AAKhhAACsDQAAdCcAAHwVAACMIwAAYCIAAHwuAACYOgAAHCUAAMxbAAA0IQAAwF0AAEAfAAAoIwAAiBMAALw0AABkGQAAWDQAAHAXAAAoIwAA/CEAABwlAACoYQAA4C4AACxMAABwFwAAHCUAACgjAACgDwAAWBsAADQhAAAsTAAArA0AALw0AACoYQAA+CoAAJQRAAAcJQAAHCUAALgkAAC4CwAAgD4AAEwdAAA4SgAApDgAAHg3AAAcJQAArA0AAFBGAACAPgAAjCMAAEAfAADwVQAAyDIAACgjAAD4KgAAWBsAAAAZAADUMAAAQB8AAHwPAQD0fgAAECcAAMASAABkGQAANCEAAEAfAACsJgAAgD4AANQwAACcYwAAPHMAAIgTAAAgTgAAIE4AAKhhAABYGwAA3B4AAFgbAADogAAAqGEAAJg6AAD4KgAAiBMAAAhSAADAKwAAkDMAAJg6AAA8cwAAREgAADhKAACwHQAAdEAAAMgyAAD4KgAA4C4AADARAAAgHAAAcBcAAEAfAACAJQAAaEIAAPgqAAAgTgAAcBcAADgYAAAUUAAAPHMAAHAXAACYtwAAuIgAAPR+AACwNgAAgD4AAECcAAAIUgAAmDoAAOAuAACcGAAAHCUAAOAuAADAEgAAcBcAALxNAABwFwAAcBcAALxNAADgLgAAXEQAAERIAAB4aQAAfBUAAPR+AACsDQAAiBMAAFxEAADcHgAA/AgAAEwdAAAYFQAALBoAAFgbAADwVQAAtF8AANyCAADQhAAAgD4AAGw5AADoHAAAzHQAAHAXAAC0XwAATB0AAIgTAAAoIwAAHCUAACQTAAAcJQAAnBgAAOwsAACIEwAAJCwAACQTAADcmwAAwBIAABwlAAC4PQAAUEYAAPBVAAC4CwAAiBMAAOxFAADMEAAAJBMAAKAPAADcmwAAiBMAAHg3AAAEpgAABKYAAKwmAABUiAAAlI4AAPBVAADsLAAAiBMAAOAVAAAgTgAAZBkAAKwmAAA8cwAAECcAABwlAAAcVwAAHCUAAOAuAADw0gAAcBcAAIAMAABkGQAAcBcAAIgTAACsJgAAECcAAKAPAAA4SgAAHCUAANwFAABYGwAAQB8AAMQJAABYGwAAoA8AAOgcAADEIgAAWBsAAEwdAADEIgAAmDoAAFgbAABMNgAAXBIAAGQZAAAoIwAAeB4AALgLAACgDwAA5AwAABAnAACgDwAACAcAAHQOAACsDQAA6BwAAGQZAABAUQAATB0AAMASAABIJgAATB0AAIgTAAB0DgAA0AcAAKAPAABoQgAAQB8AAFgbAABYGwAAJBMAANgnAADIMgAA6BwAAOAVAAA4SgAAvDQAAAggAACUEQAAxAkAANQwAACIEwAAYG0AAPgqAADQBwAAmDoAAMQJAABwFwAAlBEAAJQRAACUEQAAlBEAAEwdAAD4KgAAlBEAAHwVAABMHQAAlCoAAJQqAABMHQAAxAkAAKwmAACsJgAArCYAAKgWAAAcJQAAiBMAAIgTAADQBwAAsAQAAPAKAADwCgAA8AoAADARAAAwEQAA3AUAANwFAADECQAAMBEAANwFAAAwEQAAMBEAAMQJAABoEAAA+BEAACBOAAB0DgAAyBkAAHwVAAAcDAAAPA8AABRQAADECQAAaBAAAFgbAABIDQAAKCMAAGgQAAC4CwAAPA8AAFgbAADcBQAArA0AAHQOAABMHQAAoA8AABAnAACgDwAAHD4AAMgZAAB4aQAAaBAAALgLAADkDAAA5AwAABAnAACYCAAAxAkAAHAXAACsDQAAoA8AANAHAACUKgAATDYAADB1AADEIgAArA0AANwFAADcBQAAlCoAAKwmAACsJgAAWBsAAMQJAACsDQAAcBcAAOgDAACIEwAAiBMAAOgDAAAoIwAAFFAAAKwNAADoAwAA6AMAAOgDAACIEwAArCYAAOQlAADIrwAAsLMAAJQqAAA0IQAAZBkAAPgqAACoYQAAKJoBADxzAAAMewAAlIgBAAx7AAA8cwAAcBEBACiaAQBg5AEAKJoBAIy5AAD4pwAAhOQAAIiQAAA8cwAAuIgAAGxrAADA1AEAVGkBAEjoAQBovwAAoPcDAHS9AADYJwAA/FMAALA2AABYmAAAvDQAAPinAABkGQAAkGUAALiIAADQawAAcJQAAFAUAABgCQAAmDoAABRQAADMWwAAKKAAANweAAAIUgAA1DAAAKAPAAD8UwAA5FcAAAhSAABExQAAtNwAAERIAADYWQAAZBkAAIRnAAC8TQAAHCUAAOiAAAAAGQAAcBcAAJxjAADcmwAACFIAAFxEAAD8UwAALOIAAGBUAABMHQAAdEAAAAhSAABwFwAAmOkAAHAXAAAIUgAA2CcAAAAZAADgLgAAmAgAAHAXAAC0FAAATB0AAHAXAAD0TAAAIMsAAIA+AAAAGQAA2FkAAEAfAAAoIwAA4C4AAA=="
         },
         "type": "scatter",
         "mode": "markers+lines"
        },
        {
         "line": {
          "color": "#ffa600",
          "width": 4
         },
         "opacity": 0.8,
         "y": {
          "dtype": "i4",
          "bdata": "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"
         },
         "type": "scatter",
         "mode": "markers+lines"
        }
       ],
       "layout": {
        "template": {
         "data": {
          "histogram2dcontour": [
           {
            "type": "histogram2dcontour",
            "colorbar": {
             "outlinewidth": 0,
             "ticks": ""
            },
            "colorscale": [
             [
              0.0,
              "#0d0887"
             ],
             [
              0.1111111111111111,
              "#46039f"
             ],
             [
              0.2222222222222222,
              "#7201a8"
             ],
             [
              0.3333333333333333,
              "#9c179e"
             ],
             [
              0.4444444444444444,
              "#bd3786"
             ],
             [
              0.5555555555555556,
              "#d8576b"
             ],
             [
              0.6666666666666666,
              "#ed7953"
             ],
             [
              0.7777777777777778,
              "#fb9f3a"
             ],
             [
              0.8888888888888888,
              "#fdca26"
             ],
             [
              1.0,
              "#f0f921"
             ]
            ]
           }
          ],
          "choropleth": [
           {
            "type": "choropleth",
            "colorbar": {
             "outlinewidth": 0,
             "ticks": ""
            }
           }
          ],
          "histogram2d": [
           {
            "type": "histogram2d",
            "colorbar": {
             "outlinewidth": 0,
             "ticks": ""
            },
            "colorscale": [
             [
              0.0,
              "#0d0887"
             ],
             [
              0.1111111111111111,
              "#46039f"
             ],
             [
              0.2222222222222222,
              "#7201a8"
             ],
             [
              0.3333333333333333,
              "#9c179e"
             ],
             [
              0.4444444444444444,
              "#bd3786"
             ],
             [
              0.5555555555555556,
              "#d8576b"
             ],
             [
              0.6666666666666666,
              "#ed7953"
             ],
             [
              0.7777777777777778,
              "#fb9f3a"
             ],
             [
              0.8888888888888888,
              "#fdca26"
             ],
             [
              1.0,
              "#f0f921"
             ]
            ]
           }
          ],
          "heatmap": [
           {
            "type": "heatmap",
            "colorbar": {
             "outlinewidth": 0,
             "ticks": ""
            },
            "colorscale": [
             [
              0.0,
              "#0d0887"
             ],
             [
              0.1111111111111111,
              "#46039f"
             ],
             [
              0.2222222222222222,
              "#7201a8"
             ],
             [
              0.3333333333333333,
              "#9c179e"
             ],
             [
              0.4444444444444444,
              "#bd3786"
             ],
             [
              0.5555555555555556,
              "#d8576b"
             ],
             [
              0.6666666666666666,
              "#ed7953"
             ],
             [
              0.7777777777777778,
              "#fb9f3a"
             ],
             [
              0.8888888888888888,
              "#fdca26"
             ],
             [
              1.0,
              "#f0f921"
             ]
            ]
           }
          ],
          "contourcarpet": [
           {
            "type": "contourcarpet",
            "colorbar": {
             "outlinewidth": 0,
             "ticks": ""
            }
           }
          ],
          "contour": [
           {
            "type": "contour",
            "colorbar": {
             "outlinewidth": 0,
             "ticks": ""
            },
            "colorscale": [
             [
              0.0,
              "#0d0887"
             ],
             [
              0.1111111111111111,
              "#46039f"
             ],
             [
              0.2222222222222222,
              "#7201a8"
             ],
             [
              0.3333333333333333,
              "#9c179e"
             ],
             [
              0.4444444444444444,
              "#bd3786"
             ],
             [
              0.5555555555555556,
              "#d8576b"
             ],
             [
              0.6666666666666666,
              "#ed7953"
             ],
             [
              0.7777777777777778,
              "#fb9f3a"
             ],
             [
              0.8888888888888888,
              "#fdca26"
             ],
             [
              1.0,
              "#f0f921"
             ]
            ]
           }
          ],
          "surface": [
           {
            "type": "surface",
            "colorbar": {
             "outlinewidth": 0,
             "ticks": ""
            },
            "colorscale": [
             [
              0.0,
              "#0d0887"
             ],
             [
              0.1111111111111111,
              "#46039f"
             ],
             [
              0.2222222222222222,
              "#7201a8"
             ],
             [
              0.3333333333333333,
              "#9c179e"
             ],
             [
              0.4444444444444444,
              "#bd3786"
             ],
             [
              0.5555555555555556,
              "#d8576b"
             ],
             [
              0.6666666666666666,
              "#ed7953"
             ],
             [
              0.7777777777777778,
              "#fb9f3a"
             ],
             [
              0.8888888888888888,
              "#fdca26"
             ],
             [
              1.0,
              "#f0f921"
             ]
            ]
           }
          ],
          "mesh3d": [
           {
            "type": "mesh3d",
            "colorbar": {
             "outlinewidth": 0,
             "ticks": ""
            }
           }
          ],
          "scatter": [
           {
            "marker": {
             "line": {
              "color": "#283442"
             }
            },
            "type": "scatter"
           }
          ],
          "parcoords": [
           {
            "type": "parcoords",
            "line": {
             "colorbar": {
              "outlinewidth": 0,
              "ticks": ""
             }
            }
           }
          ],
          "scatterpolargl": [
           {
            "type": "scatterpolargl",
            "marker": {
             "colorbar": {
              "outlinewidth": 0,
              "ticks": ""
             }
            }
           }
          ],
          "bar": [
           {
            "error_x": {
             "color": "#f2f5fa"
            },
            "error_y": {
             "color": "#f2f5fa"
            },
            "marker": {
             "line": {
              "color": "rgb(17,17,17)",
              "width": 0.5
             },
             "pattern": {
              "fillmode": "overlay",
              "size": 10,
              "solidity": 0.2
             }
            },
            "type": "bar"
           }
          ],
          "scattergeo": [
           {
            "type": "scattergeo",
            "marker": {
             "colorbar": {
              "outlinewidth": 0,
              "ticks": ""
             }
            }
           }
          ],
          "scatterpolar": [
           {
            "type": "scatterpolar",
            "marker": {
             "colorbar": {
              "outlinewidth": 0,
              "ticks": ""
             }
            }
           }
          ],
          "histogram": [
           {
            "marker": {
             "pattern": {
              "fillmode": "overlay",
              "size": 10,
              "solidity": 0.2
             }
            },
            "type": "histogram"
           }
          ],
          "scattergl": [
           {
            "marker": {
             "line": {
              "color": "#283442"
             }
            },
            "type": "scattergl"
           }
          ],
          "scatter3d": [
           {
            "type": "scatter3d",
            "line": {
             "colorbar": {
              "outlinewidth": 0,
              "ticks": ""
             }
            },
            "marker": {
             "colorbar": {
              "outlinewidth": 0,
              "ticks": ""
             }
            }
           }
          ],
          "scattermap": [
           {
            "type": "scattermap",
            "marker": {
             "colorbar": {
              "outlinewidth": 0,
              "ticks": ""
             }
            }
           }
          ],
          "scattermapbox": [
           {
            "type": "scattermapbox",
            "marker": {
             "colorbar": {
              "outlinewidth": 0,
              "ticks": ""
             }
            }
           }
          ],
          "scatterternary": [
           {
            "type": "scatterternary",
            "marker": {
             "colorbar": {
              "outlinewidth": 0,
              "ticks": ""
             }
            }
           }
          ],
          "scattercarpet": [
           {
            "type": "scattercarpet",
            "marker": {
             "colorbar": {
              "outlinewidth": 0,
              "ticks": ""
             }
            }
           }
          ],
          "carpet": [
           {
            "aaxis": {
             "endlinecolor": "#A2B1C6",
             "gridcolor": "#506784",
             "linecolor": "#506784",
             "minorgridcolor": "#506784",
             "startlinecolor": "#A2B1C6"
            },
            "baxis": {
             "endlinecolor": "#A2B1C6",
             "gridcolor": "#506784",
             "linecolor": "#506784",
             "minorgridcolor": "#506784",
             "startlinecolor": "#A2B1C6"
            },
            "type": "carpet"
           }
          ],
          "table": [
           {
            "cells": {
             "fill": {
              "color": "#506784"
             },
             "line": {
              "color": "rgb(17,17,17)"
             }
            },
            "header": {
             "fill": {
              "color": "#2a3f5f"
             },
             "line": {
              "color": "rgb(17,17,17)"
             }
            },
            "type": "table"
           }
          ],
          "barpolar": [
           {
            "marker": {
             "line": {
              "color": "rgb(17,17,17)",
              "width": 0.5
             },
             "pattern": {
              "fillmode": "overlay",
              "size": 10,
              "solidity": 0.2
             }
            },
            "type": "barpolar"
           }
          ],
          "pie": [
           {
            "automargin": true,
            "type": "pie"
           }
          ]
         },
         "layout": {
          "autotypenumbers": "strict",
          "colorway": [
           "#636efa",
           "#EF553B",
           "#00cc96",
           "#ab63fa",
           "#FFA15A",
           "#19d3f3",
           "#FF6692",
           "#B6E880",
           "#FF97FF",
           "#FECB52"
          ],
          "font": {
           "color": "#f2f5fa"
          },
          "hovermode": "closest",
          "hoverlabel": {
           "align": "left"
          },
          "paper_bgcolor": "rgb(17,17,17)",
          "plot_bgcolor": "rgb(17,17,17)",
          "polar": {
           "bgcolor": "rgb(17,17,17)",
           "angularaxis": {
            "gridcolor": "#506784",
            "linecolor": "#506784",
            "ticks": ""
           },
           "radialaxis": {
            "gridcolor": "#506784",
            "linecolor": "#506784",
            "ticks": ""
           }
          },
          "ternary": {
           "bgcolor": "rgb(17,17,17)",
           "aaxis": {
            "gridcolor": "#506784",
            "linecolor": "#506784",
            "ticks": ""
           },
           "baxis": {
            "gridcolor": "#506784",
            "linecolor": "#506784",
            "ticks": ""
           },
           "caxis": {
            "gridcolor": "#506784",
            "linecolor": "#506784",
            "ticks": ""
           }
          },
          "coloraxis": {
           "colorbar": {
            "outlinewidth": 0,
            "ticks": ""
           }
          },
          "colorscale": {
           "sequential": [
            [
             0.0,
             "#0d0887"
            ],
            [
             0.1111111111111111,
             "#46039f"
            ],
            [
             0.2222222222222222,
             "#7201a8"
            ],
            [
             0.3333333333333333,
             "#9c179e"
            ],
            [
             0.4444444444444444,
             "#bd3786"
            ],
            [
             0.5555555555555556,
             "#d8576b"
            ],
            [
             0.6666666666666666,
             "#ed7953"
            ],
            [
             0.7777777777777778,
             "#fb9f3a"
            ],
            [
             0.8888888888888888,
             "#fdca26"
            ],
            [
             1.0,
             "#f0f921"
            ]
           ],
           "sequentialminus": [
            [
             0.0,
             "#0d0887"
            ],
            [
             0.1111111111111111,
             "#46039f"
            ],
            [
             0.2222222222222222,
             "#7201a8"
            ],
            [
             0.3333333333333333,
             "#9c179e"
            ],
            [
             0.4444444444444444,
             "#bd3786"
            ],
            [
             0.5555555555555556,
             "#d8576b"
            ],
            [
             0.6666666666666666,
             "#ed7953"
            ],
            [
             0.7777777777777778,
             "#fb9f3a"
            ],
            [
             0.8888888888888888,
             "#fdca26"
            ],
            [
             1.0,
             "#f0f921"
            ]
           ],
           "diverging": [
            [
             0,
             "#8e0152"
            ],
            [
             0.1,
             "#c51b7d"
            ],
            [
             0.2,
             "#de77ae"
            ],
            [
             0.3,
             "#f1b6da"
            ],
            [
             0.4,
             "#fde0ef"
            ],
            [
             0.5,
             "#f7f7f7"
            ],
            [
             0.6,
             "#e6f5d0"
            ],
            [
             0.7,
             "#b8e186"
            ],
            [
             0.8,
             "#7fbc41"
            ],
            [
             0.9,
             "#4d9221"
            ],
            [
             1,
             "#276419"
            ]
           ]
          },
          "xaxis": {
           "gridcolor": "#283442",
           "linecolor": "#506784",
           "ticks": "",
           "title": {
            "standoff": 15
           },
           "zerolinecolor": "#283442",
           "automargin": true,
           "zerolinewidth": 2
          },
          "yaxis": {
           "gridcolor": "#283442",
           "linecolor": "#506784",
           "ticks": "",
           "title": {
            "standoff": 15
           },
           "zerolinecolor": "#283442",
           "automargin": true,
           "zerolinewidth": 2
          },
          "scene": {
           "xaxis": {
            "backgroundcolor": "rgb(17,17,17)",
            "gridcolor": "#506784",
            "linecolor": "#506784",
            "showbackground": true,
            "ticks": "",
            "zerolinecolor": "#C8D4E3",
            "gridwidth": 2
           },
           "yaxis": {
            "backgroundcolor": "rgb(17,17,17)",
            "gridcolor": "#506784",
            "linecolor": "#506784",
            "showbackground": true,
            "ticks": "",
            "zerolinecolor": "#C8D4E3",
            "gridwidth": 2
           },
           "zaxis": {
            "backgroundcolor": "rgb(17,17,17)",
            "gridcolor": "#506784",
            "linecolor": "#506784",
            "showbackground": true,
            "ticks": "",
            "zerolinecolor": "#C8D4E3",
            "gridwidth": 2
           }
          },
          "shapedefaults": {
           "line": {
            "color": "#f2f5fa"
           }
          },
          "annotationdefaults": {
           "arrowcolor": "#f2f5fa",
           "arrowhead": 0,
           "arrowwidth": 1
          },
          "geo": {
           "bgcolor": "rgb(17,17,17)",
           "landcolor": "rgb(17,17,17)",
           "subunitcolor": "#506784",
           "showland": true,
           "showlakes": true,
           "lakecolor": "rgb(17,17,17)"
          },
          "title": {
           "x": 0.05
          },
          "updatemenudefaults": {
           "bgcolor": "#506784",
           "borderwidth": 0
          },
          "sliderdefaults": {
           "bgcolor": "#C8D4E3",
           "borderwidth": 1,
           "bordercolor": "rgb(17,17,17)",
           "tickwidth": 0
          },
          "mapbox": {
           "style": "dark"
          }
         }
        },
        "xaxis": {
         "anchor": "y",
         "domain": [
          0.0,
          0.45
         ]
        },
        "yaxis": {
         "anchor": "x",
         "domain": [
          0.0,
          1.0
         ]
        },
        "xaxis2": {
         "anchor": "y2",
         "domain": [
          0.55,
          1.0
         ]
        },
        "yaxis2": {
         "anchor": "x2",
         "domain": [
          0.0,
          1.0
         ]
        },
        "width": 2800,
        "autosize": true,
        "hovermode": "x"
       },
       "config": {
        "plotlyServerURL": "https://plot.ly"
       }
      }
     },
     "metadata": {},
     "output_type": "display_data"
    },
    {
     "name": "stdout",
     "output_type": "stream",
     "text": [
      "Dairy, Bread & Batter with count -  129\n"
     ]
    },
    {
     "data": {
      "application/vnd.plotly.v1+json": {
       "data": [
        {
         "line": {
          "color": "#bc5090",
          "width": 4
         },
         "opacity": 0.8,
         "y": {
          "dtype": "i2",
          "bdata": "EA4YFXAXKApABmwHGBX8CNAHaBDYDlQLbAe4C3AXxAnECfwIuAtsB3gF5AwIB0wEdA7QB6gWrA2sDYAMgAy4C7gLCAdoEAgH+BEUBawNBBCkBrgLxCKsDawNTB14BfwIbAdMBNAHTASoFqQG0AfQBxQFuAtUC6gWCCB4NxgV1El4NyRFkBoQJwggGC5oKVgbGBUQDrgLxAnsExAOKArcBWgQaBCsDagWKApYGxgVbAe4JPgqJEWwBIA+"
         },
         "type": "scatter",
         "mode": "markers+lines",
         "visible": false
        },
        {
         "line": {
          "color": "#ffa600",
          "width": 4
         },
         "opacity": 0.8,
         "y": {
          "dtype": "i2",
          "bdata": "uAuUEUQWNAgUBdwFlBFsB6QGrA2ADGAJQAbECYgTNAg0CGwHxAlABrAE8ArcBYQDHAykBiQTVAtUC4wKjArECcQJ3AWsDdwFPA9MBFQLPA8UBcQJTB1UC1QLnBiwBGwHQAaEA6QGhAMkE3gFpAakBkwExAlgCSQT9Bp8LpQRHD58LjQ6RBbQIPQarCbEIgwXlBG4C8QJNAjMELgLmAgUBawNrA1UCyQTmAgMF5QRQAbcHgQpNDroA2A7"
         },
         "type": "scatter",
         "mode": "markers+lines",
         "visible": false
        },
        {
         "line": {
          "color": "#bc5090",
          "width": 4
         },
         "opacity": 0.8,
         "y": {
          "dtype": "i4",
          "bdata": "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"
         },
         "type": "scatter",
         "mode": "markers+lines",
         "visible": false
        },
        {
         "line": {
          "color": "#ffa600",
          "width": 4
         },
         "opacity": 0.8,
         "y": {
          "dtype": "i4",
          "bdata": "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"
         },
         "type": "scatter",
         "mode": "markers+lines",
         "visible": false
        },
        {
         "line": {
          "color": "#bc5090",
          "width": 4
         },
         "opacity": 0.8,
         "y": {
          "dtype": "i4",
          "bdata": "oIwAAMQJAAAcDAAAtF8AALRfAAD4KgAAtF8AAGAiAADMWwAAoA8AAJQRAABoEAAAcBcAAHwVAACsDQAAuAsAAFgbAAAgTgAAeB4AAAhSAABEYQAAmDoAAKAPAAB4HgAAZBkAAERhAACYOgAABEIAALgLAAB0WQAABEIAAOQMAADMWwAAREgAAPxTAADMWwAA/FMAAKwNAACYCAAAnBgAAMQJAAC4CwAA4BUAAJg6AABsawAApDgAAIw8AABwFwAAGBUAAEwdAABYGwAAbGsAAKwmAACwNgAAoA8AAEwdAACUKgAAqC8AAGgpAAAEKQAATB0AAGgpAAA0IQAArA0AAMQiAAA8cwAAuAsAAEAfAAA0IQAANCEAABAnAACwHQAA1DAAANQwAACgDwAA1DAAAJg6AAA8cwAAvE0AALA2AACsJgAAvE0AAKyKAABsawAApDgAAKwmAACoYQAA+CoAADQhAACsJgAArCYAABAnAAC4CwAABEIAALgLAAAQJwAA+CoAAKQGAACIEwAAGBUAALwbAADEhgAA0AcAAKAPAADcBQAAECcAAAgHAAAMFwAAlBEAALgLAADkJQAAOBgAACAcAAAgHAAATB0AAOAuAAAgHAAANCEAAGQZAAD4KgAAIBwAADB1AAD0TAAAQB8AAMxbAABwlAAAyBkAAEwdAADEIgAA"
         },
         "type": "scatter",
         "mode": "markers+lines"
        },
        {
         "line": {
          "color": "#ffa600",
          "width": 4
         },
         "opacity": 0.8,
         "y": {
          "dtype": "i4",
          "bdata": "PIwAAMQJAAAcDAAAwF0AAMBdAAAEKQAA+FwAAJghAACgWgAAoA8AAJQRAABoEAAAcBcAAHwVAABIDQAAuAsAAJAaAAAgTgAATB0AAAhSAACUXAAA3DcAAKAPAABMHQAAZBkAAERhAACYOgAABEIAAFQLAAB4UAAA8DwAAOQMAAD4QwAA0DkAAMhLAABwSQAAMEMAAKwNAACYCAAAnBgAAGAJAAC4CwAAGBUAAJg6AACENQAApDgAAIw8AABEFgAA7BMAAEwdAABYGwAAhDUAALgkAAD0MwAAoA8AACAcAACgKAAA4C4AAGgpAACsJgAAhBwAAHQnAAAIIAAASA0AAKQfAABsOQAAuAsAAEAfAAAIIAAANCEAAKwmAACEHAAAfC4AABguAACgDwAAGC4AAJg6AABsOQAA1EkAAPQzAAC4JAAA1EkAACRFAACENQAAhDUAALgkAADUMAAA+CoAAEAfAAC4JAAAYCIAABwlAAC4CwAA5D4AALgLAAAcJQAA+CoAAKQGAAAkEwAAGBUAAFgbAACUXAAA0AcAADwPAADcBQAAHCUAAKQGAABEFgAAlBEAALgLAADkJQAAOBgAADgYAABwFwAAOBgAAJAaAAA4GAAA3B4AAHwVAAAcJQAAOBgAALxNAACcSgAAkBoAAMxCAABQkQAAABkAAEwdAADEIgAA"
         },
         "type": "scatter",
         "mode": "markers+lines"
        }
       ],
       "layout": {
        "template": {
         "data": {
          "histogram2dcontour": [
           {
            "type": "histogram2dcontour",
            "colorbar": {
             "outlinewidth": 0,
             "ticks": ""
            },
            "colorscale": [
             [
              0.0,
              "#0d0887"
             ],
             [
              0.1111111111111111,
              "#46039f"
             ],
             [
              0.2222222222222222,
              "#7201a8"
             ],
             [
              0.3333333333333333,
              "#9c179e"
             ],
             [
              0.4444444444444444,
              "#bd3786"
             ],
             [
              0.5555555555555556,
              "#d8576b"
             ],
             [
              0.6666666666666666,
              "#ed7953"
             ],
             [
              0.7777777777777778,
              "#fb9f3a"
             ],
             [
              0.8888888888888888,
              "#fdca26"
             ],
             [
              1.0,
              "#f0f921"
             ]
            ]
           }
          ],
          "choropleth": [
           {
            "type": "choropleth",
            "colorbar": {
             "outlinewidth": 0,
             "ticks": ""
            }
           }
          ],
          "histogram2d": [
           {
            "type": "histogram2d",
            "colorbar": {
             "outlinewidth": 0,
             "ticks": ""
            },
            "colorscale": [
             [
              0.0,
              "#0d0887"
             ],
             [
              0.1111111111111111,
              "#46039f"
             ],
             [
              0.2222222222222222,
              "#7201a8"
             ],
             [
              0.3333333333333333,
              "#9c179e"
             ],
             [
              0.4444444444444444,
              "#bd3786"
             ],
             [
              0.5555555555555556,
              "#d8576b"
             ],
             [
              0.6666666666666666,
              "#ed7953"
             ],
             [
              0.7777777777777778,
              "#fb9f3a"
             ],
             [
              0.8888888888888888,
              "#fdca26"
             ],
             [
              1.0,
              "#f0f921"
             ]
            ]
           }
          ],
          "heatmap": [
           {
            "type": "heatmap",
            "colorbar": {
             "outlinewidth": 0,
             "ticks": ""
            },
            "colorscale": [
             [
              0.0,
              "#0d0887"
             ],
             [
              0.1111111111111111,
              "#46039f"
             ],
             [
              0.2222222222222222,
              "#7201a8"
             ],
             [
              0.3333333333333333,
              "#9c179e"
             ],
             [
              0.4444444444444444,
              "#bd3786"
             ],
             [
              0.5555555555555556,
              "#d8576b"
             ],
             [
              0.6666666666666666,
              "#ed7953"
             ],
             [
              0.7777777777777778,
              "#fb9f3a"
             ],
             [
              0.8888888888888888,
              "#fdca26"
             ],
             [
              1.0,
              "#f0f921"
             ]
            ]
           }
          ],
          "contourcarpet": [
           {
            "type": "contourcarpet",
            "colorbar": {
             "outlinewidth": 0,
             "ticks": ""
            }
           }
          ],
          "contour": [
           {
            "type": "contour",
            "colorbar": {
             "outlinewidth": 0,
             "ticks": ""
            },
            "colorscale": [
             [
              0.0,
              "#0d0887"
             ],
             [
              0.1111111111111111,
              "#46039f"
             ],
             [
              0.2222222222222222,
              "#7201a8"
             ],
             [
              0.3333333333333333,
              "#9c179e"
             ],
             [
              0.4444444444444444,
              "#bd3786"
             ],
             [
              0.5555555555555556,
              "#d8576b"
             ],
             [
              0.6666666666666666,
              "#ed7953"
             ],
             [
              0.7777777777777778,
              "#fb9f3a"
             ],
             [
              0.8888888888888888,
              "#fdca26"
             ],
             [
              1.0,
              "#f0f921"
             ]
            ]
           }
          ],
          "surface": [
           {
            "type": "surface",
            "colorbar": {
             "outlinewidth": 0,
             "ticks": ""
            },
            "colorscale": [
             [
              0.0,
              "#0d0887"
             ],
             [
              0.1111111111111111,
              "#46039f"
             ],
             [
              0.2222222222222222,
              "#7201a8"
             ],
             [
              0.3333333333333333,
              "#9c179e"
             ],
             [
              0.4444444444444444,
              "#bd3786"
             ],
             [
              0.5555555555555556,
              "#d8576b"
             ],
             [
              0.6666666666666666,
              "#ed7953"
             ],
             [
              0.7777777777777778,
              "#fb9f3a"
             ],
             [
              0.8888888888888888,
              "#fdca26"
             ],
             [
              1.0,
              "#f0f921"
             ]
            ]
           }
          ],
          "mesh3d": [
           {
            "type": "mesh3d",
            "colorbar": {
             "outlinewidth": 0,
             "ticks": ""
            }
           }
          ],
          "scatter": [
           {
            "marker": {
             "line": {
              "color": "#283442"
             }
            },
            "type": "scatter"
           }
          ],
          "parcoords": [
           {
            "type": "parcoords",
            "line": {
             "colorbar": {
              "outlinewidth": 0,
              "ticks": ""
             }
            }
           }
          ],
          "scatterpolargl": [
           {
            "type": "scatterpolargl",
            "marker": {
             "colorbar": {
              "outlinewidth": 0,
              "ticks": ""
             }
            }
           }
          ],
          "bar": [
           {
            "error_x": {
             "color": "#f2f5fa"
            },
            "error_y": {
             "color": "#f2f5fa"
            },
            "marker": {
             "line": {
              "color": "rgb(17,17,17)",
              "width": 0.5
             },
             "pattern": {
              "fillmode": "overlay",
              "size": 10,
              "solidity": 0.2
             }
            },
            "type": "bar"
           }
          ],
          "scattergeo": [
           {
            "type": "scattergeo",
            "marker": {
             "colorbar": {
              "outlinewidth": 0,
              "ticks": ""
             }
            }
           }
          ],
          "scatterpolar": [
           {
            "type": "scatterpolar",
            "marker": {
             "colorbar": {
              "outlinewidth": 0,
              "ticks": ""
             }
            }
           }
          ],
          "histogram": [
           {
            "marker": {
             "pattern": {
              "fillmode": "overlay",
              "size": 10,
              "solidity": 0.2
             }
            },
            "type": "histogram"
           }
          ],
          "scattergl": [
           {
            "marker": {
             "line": {
              "color": "#283442"
             }
            },
            "type": "scattergl"
           }
          ],
          "scatter3d": [
           {
            "type": "scatter3d",
            "line": {
             "colorbar": {
              "outlinewidth": 0,
              "ticks": ""
             }
            },
            "marker": {
             "colorbar": {
              "outlinewidth": 0,
              "ticks": ""
             }
            }
           }
          ],
          "scattermap": [
           {
            "type": "scattermap",
            "marker": {
             "colorbar": {
              "outlinewidth": 0,
              "ticks": ""
             }
            }
           }
          ],
          "scattermapbox": [
           {
            "type": "scattermapbox",
            "marker": {
             "colorbar": {
              "outlinewidth": 0,
              "ticks": ""
             }
            }
           }
          ],
          "scatterternary": [
           {
            "type": "scatterternary",
            "marker": {
             "colorbar": {
              "outlinewidth": 0,
              "ticks": ""
             }
            }
           }
          ],
          "scattercarpet": [
           {
            "type": "scattercarpet",
            "marker": {
             "colorbar": {
              "outlinewidth": 0,
              "ticks": ""
             }
            }
           }
          ],
          "carpet": [
           {
            "aaxis": {
             "endlinecolor": "#A2B1C6",
             "gridcolor": "#506784",
             "linecolor": "#506784",
             "minorgridcolor": "#506784",
             "startlinecolor": "#A2B1C6"
            },
            "baxis": {
             "endlinecolor": "#A2B1C6",
             "gridcolor": "#506784",
             "linecolor": "#506784",
             "minorgridcolor": "#506784",
             "startlinecolor": "#A2B1C6"
            },
            "type": "carpet"
           }
          ],
          "table": [
           {
            "cells": {
             "fill": {
              "color": "#506784"
             },
             "line": {
              "color": "rgb(17,17,17)"
             }
            },
            "header": {
             "fill": {
              "color": "#2a3f5f"
             },
             "line": {
              "color": "rgb(17,17,17)"
             }
            },
            "type": "table"
           }
          ],
          "barpolar": [
           {
            "marker": {
             "line": {
              "color": "rgb(17,17,17)",
              "width": 0.5
             },
             "pattern": {
              "fillmode": "overlay",
              "size": 10,
              "solidity": 0.2
             }
            },
            "type": "barpolar"
           }
          ],
          "pie": [
           {
            "automargin": true,
            "type": "pie"
           }
          ]
         },
         "layout": {
          "autotypenumbers": "strict",
          "colorway": [
           "#636efa",
           "#EF553B",
           "#00cc96",
           "#ab63fa",
           "#FFA15A",
           "#19d3f3",
           "#FF6692",
           "#B6E880",
           "#FF97FF",
           "#FECB52"
          ],
          "font": {
           "color": "#f2f5fa"
          },
          "hovermode": "closest",
          "hoverlabel": {
           "align": "left"
          },
          "paper_bgcolor": "rgb(17,17,17)",
          "plot_bgcolor": "rgb(17,17,17)",
          "polar": {
           "bgcolor": "rgb(17,17,17)",
           "angularaxis": {
            "gridcolor": "#506784",
            "linecolor": "#506784",
            "ticks": ""
           },
           "radialaxis": {
            "gridcolor": "#506784",
            "linecolor": "#506784",
            "ticks": ""
           }
          },
          "ternary": {
           "bgcolor": "rgb(17,17,17)",
           "aaxis": {
            "gridcolor": "#506784",
            "linecolor": "#506784",
            "ticks": ""
           },
           "baxis": {
            "gridcolor": "#506784",
            "linecolor": "#506784",
            "ticks": ""
           },
           "caxis": {
            "gridcolor": "#506784",
            "linecolor": "#506784",
            "ticks": ""
           }
          },
          "coloraxis": {
           "colorbar": {
            "outlinewidth": 0,
            "ticks": ""
           }
          },
          "colorscale": {
           "sequential": [
            [
             0.0,
             "#0d0887"
            ],
            [
             0.1111111111111111,
             "#46039f"
            ],
            [
             0.2222222222222222,
             "#7201a8"
            ],
            [
             0.3333333333333333,
             "#9c179e"
            ],
            [
             0.4444444444444444,
             "#bd3786"
            ],
            [
             0.5555555555555556,
             "#d8576b"
            ],
            [
             0.6666666666666666,
             "#ed7953"
            ],
            [
             0.7777777777777778,
             "#fb9f3a"
            ],
            [
             0.8888888888888888,
             "#fdca26"
            ],
            [
             1.0,
             "#f0f921"
            ]
           ],
           "sequentialminus": [
            [
             0.0,
             "#0d0887"
            ],
            [
             0.1111111111111111,
             "#46039f"
            ],
            [
             0.2222222222222222,
             "#7201a8"
            ],
            [
             0.3333333333333333,
             "#9c179e"
            ],
            [
             0.4444444444444444,
             "#bd3786"
            ],
            [
             0.5555555555555556,
             "#d8576b"
            ],
            [
             0.6666666666666666,
             "#ed7953"
            ],
            [
             0.7777777777777778,
             "#fb9f3a"
            ],
            [
             0.8888888888888888,
             "#fdca26"
            ],
            [
             1.0,
             "#f0f921"
            ]
           ],
           "diverging": [
            [
             0,
             "#8e0152"
            ],
            [
             0.1,
             "#c51b7d"
            ],
            [
             0.2,
             "#de77ae"
            ],
            [
             0.3,
             "#f1b6da"
            ],
            [
             0.4,
             "#fde0ef"
            ],
            [
             0.5,
             "#f7f7f7"
            ],
            [
             0.6,
             "#e6f5d0"
            ],
            [
             0.7,
             "#b8e186"
            ],
            [
             0.8,
             "#7fbc41"
            ],
            [
             0.9,
             "#4d9221"
            ],
            [
             1,
             "#276419"
            ]
           ]
          },
          "xaxis": {
           "gridcolor": "#283442",
           "linecolor": "#506784",
           "ticks": "",
           "title": {
            "standoff": 15
           },
           "zerolinecolor": "#283442",
           "automargin": true,
           "zerolinewidth": 2
          },
          "yaxis": {
           "gridcolor": "#283442",
           "linecolor": "#506784",
           "ticks": "",
           "title": {
            "standoff": 15
           },
           "zerolinecolor": "#283442",
           "automargin": true,
           "zerolinewidth": 2
          },
          "scene": {
           "xaxis": {
            "backgroundcolor": "rgb(17,17,17)",
            "gridcolor": "#506784",
            "linecolor": "#506784",
            "showbackground": true,
            "ticks": "",
            "zerolinecolor": "#C8D4E3",
            "gridwidth": 2
           },
           "yaxis": {
            "backgroundcolor": "rgb(17,17,17)",
            "gridcolor": "#506784",
            "linecolor": "#506784",
            "showbackground": true,
            "ticks": "",
            "zerolinecolor": "#C8D4E3",
            "gridwidth": 2
           },
           "zaxis": {
            "backgroundcolor": "rgb(17,17,17)",
            "gridcolor": "#506784",
            "linecolor": "#506784",
            "showbackground": true,
            "ticks": "",
            "zerolinecolor": "#C8D4E3",
            "gridwidth": 2
           }
          },
          "shapedefaults": {
           "line": {
            "color": "#f2f5fa"
           }
          },
          "annotationdefaults": {
           "arrowcolor": "#f2f5fa",
           "arrowhead": 0,
           "arrowwidth": 1
          },
          "geo": {
           "bgcolor": "rgb(17,17,17)",
           "landcolor": "rgb(17,17,17)",
           "subunitcolor": "#506784",
           "showland": true,
           "showlakes": true,
           "lakecolor": "rgb(17,17,17)"
          },
          "title": {
           "x": 0.05
          },
          "updatemenudefaults": {
           "bgcolor": "#506784",
           "borderwidth": 0
          },
          "sliderdefaults": {
           "bgcolor": "#C8D4E3",
           "borderwidth": 1,
           "bordercolor": "rgb(17,17,17)",
           "tickwidth": 0
          },
          "mapbox": {
           "style": "dark"
          }
         }
        },
        "xaxis": {
         "anchor": "y",
         "domain": [
          0.0,
          0.45
         ]
        },
        "yaxis": {
         "anchor": "x",
         "domain": [
          0.0,
          1.0
         ]
        },
        "xaxis2": {
         "anchor": "y2",
         "domain": [
          0.55,
          1.0
         ]
        },
        "yaxis2": {
         "anchor": "x2",
         "domain": [
          0.0,
          1.0
         ]
        },
        "width": 2800,
        "autosize": true,
        "hovermode": "x"
       },
       "config": {
        "plotlyServerURL": "https://plot.ly"
       }
      }
     },
     "metadata": {},
     "output_type": "display_data"
    },
    {
     "name": "stdout",
     "output_type": "stream",
     "text": [
      "Packaged Food with count -  388\n"
     ]
    },
    {
     "data": {
      "application/vnd.plotly.v1+json": {
       "data": [
        {
         "line": {
          "color": "#bc5090",
          "width": 4
         },
         "opacity": 0.8,
         "y": {
          "dtype": "i2",
          "bdata": "EA4YFXAXKApABmwHGBX8CNAHaBDYDlQLbAe4C3AXxAnECfwIuAtsB3gF5AwIB0wEdA7QB6gWrA2sDYAMgAy4C7gLCAdoEAgH+BEUBawNBBCkBrgLxCKsDawNTB14BfwIbAdMBNAHTASoFqQG0AfQBxQFuAtUC6gWCCB4NxgV1El4NyRFkBoQJwggGC5oKVgbGBUQDrgLxAnsExAOKArcBWgQaBCsDagWKApYGxgVbAe4JPgqJEWwBIA+"
         },
         "type": "scatter",
         "mode": "markers+lines",
         "visible": false
        },
        {
         "line": {
          "color": "#ffa600",
          "width": 4
         },
         "opacity": 0.8,
         "y": {
          "dtype": "i2",
          "bdata": "uAuUEUQWNAgUBdwFlBFsB6QGrA2ADGAJQAbECYgTNAg0CGwHxAlABrAE8ArcBYQDHAykBiQTVAtUC4wKjArECcQJ3AWsDdwFPA9MBFQLPA8UBcQJTB1UC1QLnBiwBGwHQAaEA6QGhAMkE3gFpAakBkwExAlgCSQT9Bp8LpQRHD58LjQ6RBbQIPQarCbEIgwXlBG4C8QJNAjMELgLmAgUBawNrA1UCyQTmAgMF5QRQAbcHgQpNDroA2A7"
         },
         "type": "scatter",
         "mode": "markers+lines",
         "visible": false
        },
        {
         "line": {
          "color": "#bc5090",
          "width": 4
         },
         "opacity": 0.8,
         "y": {
          "dtype": "i4",
          "bdata": "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"
         },
         "type": "scatter",
         "mode": "markers+lines",
         "visible": false
        },
        {
         "line": {
          "color": "#ffa600",
          "width": 4
         },
         "opacity": 0.8,
         "y": {
          "dtype": "i4",
          "bdata": "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"
         },
         "type": "scatter",
         "mode": "markers+lines",
         "visible": false
        },
        {
         "line": {
          "color": "#bc5090",
          "width": 4
         },
         "opacity": 0.8,
         "y": {
          "dtype": "i4",
          "bdata": "oIwAAMQJAAAcDAAAtF8AALRfAAD4KgAAtF8AAGAiAADMWwAAoA8AAJQRAABoEAAAcBcAAHwVAACsDQAAuAsAAFgbAAAgTgAAeB4AAAhSAABEYQAAmDoAAKAPAAB4HgAAZBkAAERhAACYOgAABEIAALgLAAB0WQAABEIAAOQMAADMWwAAREgAAPxTAADMWwAA/FMAAKwNAACYCAAAnBgAAMQJAAC4CwAA4BUAAJg6AABsawAApDgAAIw8AABwFwAAGBUAAEwdAABYGwAAbGsAAKwmAACwNgAAoA8AAEwdAACUKgAAqC8AAGgpAAAEKQAATB0AAGgpAAA0IQAArA0AAMQiAAA8cwAAuAsAAEAfAAA0IQAANCEAABAnAACwHQAA1DAAANQwAACgDwAA1DAAAJg6AAA8cwAAvE0AALA2AACsJgAAvE0AAKyKAABsawAApDgAAKwmAACoYQAA+CoAADQhAACsJgAArCYAABAnAAC4CwAABEIAALgLAAAQJwAA+CoAAKQGAACIEwAAGBUAALwbAADEhgAA0AcAAKAPAADcBQAAECcAAAgHAAAMFwAAlBEAALgLAADkJQAAOBgAACAcAAAgHAAATB0AAOAuAAAgHAAANCEAAGQZAAD4KgAAIBwAADB1AAD0TAAAQB8AAMxbAABwlAAAyBkAAEwdAADEIgAA"
         },
         "type": "scatter",
         "mode": "markers+lines",
         "visible": false
        },
        {
         "line": {
          "color": "#ffa600",
          "width": 4
         },
         "opacity": 0.8,
         "y": {
          "dtype": "i4",
          "bdata": "PIwAAMQJAAAcDAAAwF0AAMBdAAAEKQAA+FwAAJghAACgWgAAoA8AAJQRAABoEAAAcBcAAHwVAABIDQAAuAsAAJAaAAAgTgAATB0AAAhSAACUXAAA3DcAAKAPAABMHQAAZBkAAERhAACYOgAABEIAAFQLAAB4UAAA8DwAAOQMAAD4QwAA0DkAAMhLAABwSQAAMEMAAKwNAACYCAAAnBgAAGAJAAC4CwAAGBUAAJg6AACENQAApDgAAIw8AABEFgAA7BMAAEwdAABYGwAAhDUAALgkAAD0MwAAoA8AACAcAACgKAAA4C4AAGgpAACsJgAAhBwAAHQnAAAIIAAASA0AAKQfAABsOQAAuAsAAEAfAAAIIAAANCEAAKwmAACEHAAAfC4AABguAACgDwAAGC4AAJg6AABsOQAA1EkAAPQzAAC4JAAA1EkAACRFAACENQAAhDUAALgkAADUMAAA+CoAAEAfAAC4JAAAYCIAABwlAAC4CwAA5D4AALgLAAAcJQAA+CoAAKQGAAAkEwAAGBUAAFgbAACUXAAA0AcAADwPAADcBQAAHCUAAKQGAABEFgAAlBEAALgLAADkJQAAOBgAADgYAABwFwAAOBgAAJAaAAA4GAAA3B4AAHwVAAAcJQAAOBgAALxNAACcSgAAkBoAAMxCAABQkQAAABkAAEwdAADEIgAA"
         },
         "type": "scatter",
         "mode": "markers+lines",
         "visible": false
        },
        {
         "line": {
          "color": "#bc5090",
          "width": 4
         },
         "opacity": 0.8,
         "y": {
          "dtype": "i4",
          "bdata": "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"
         },
         "type": "scatter",
         "mode": "markers+lines"
        },
        {
         "line": {
          "color": "#ffa600",
          "width": 4
         },
         "opacity": 0.8,
         "y": {
          "dtype": "i4",
          "bdata": "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"
         },
         "type": "scatter",
         "mode": "markers+lines"
        }
       ],
       "layout": {
        "template": {
         "data": {
          "histogram2dcontour": [
           {
            "type": "histogram2dcontour",
            "colorbar": {
             "outlinewidth": 0,
             "ticks": ""
            },
            "colorscale": [
             [
              0.0,
              "#0d0887"
             ],
             [
              0.1111111111111111,
              "#46039f"
             ],
             [
              0.2222222222222222,
              "#7201a8"
             ],
             [
              0.3333333333333333,
              "#9c179e"
             ],
             [
              0.4444444444444444,
              "#bd3786"
             ],
             [
              0.5555555555555556,
              "#d8576b"
             ],
             [
              0.6666666666666666,
              "#ed7953"
             ],
             [
              0.7777777777777778,
              "#fb9f3a"
             ],
             [
              0.8888888888888888,
              "#fdca26"
             ],
             [
              1.0,
              "#f0f921"
             ]
            ]
           }
          ],
          "choropleth": [
           {
            "type": "choropleth",
            "colorbar": {
             "outlinewidth": 0,
             "ticks": ""
            }
           }
          ],
          "histogram2d": [
           {
            "type": "histogram2d",
            "colorbar": {
             "outlinewidth": 0,
             "ticks": ""
            },
            "colorscale": [
             [
              0.0,
              "#0d0887"
             ],
             [
              0.1111111111111111,
              "#46039f"
             ],
             [
              0.2222222222222222,
              "#7201a8"
             ],
             [
              0.3333333333333333,
              "#9c179e"
             ],
             [
              0.4444444444444444,
              "#bd3786"
             ],
             [
              0.5555555555555556,
              "#d8576b"
             ],
             [
              0.6666666666666666,
              "#ed7953"
             ],
             [
              0.7777777777777778,
              "#fb9f3a"
             ],
             [
              0.8888888888888888,
              "#fdca26"
             ],
             [
              1.0,
              "#f0f921"
             ]
            ]
           }
          ],
          "heatmap": [
           {
            "type": "heatmap",
            "colorbar": {
             "outlinewidth": 0,
             "ticks": ""
            },
            "colorscale": [
             [
              0.0,
              "#0d0887"
             ],
             [
              0.1111111111111111,
              "#46039f"
             ],
             [
              0.2222222222222222,
              "#7201a8"
             ],
             [
              0.3333333333333333,
              "#9c179e"
             ],
             [
              0.4444444444444444,
              "#bd3786"
             ],
             [
              0.5555555555555556,
              "#d8576b"
             ],
             [
              0.6666666666666666,
              "#ed7953"
             ],
             [
              0.7777777777777778,
              "#fb9f3a"
             ],
             [
              0.8888888888888888,
              "#fdca26"
             ],
             [
              1.0,
              "#f0f921"
             ]
            ]
           }
          ],
          "contourcarpet": [
           {
            "type": "contourcarpet",
            "colorbar": {
             "outlinewidth": 0,
             "ticks": ""
            }
           }
          ],
          "contour": [
           {
            "type": "contour",
            "colorbar": {
             "outlinewidth": 0,
             "ticks": ""
            },
            "colorscale": [
             [
              0.0,
              "#0d0887"
             ],
             [
              0.1111111111111111,
              "#46039f"
             ],
             [
              0.2222222222222222,
              "#7201a8"
             ],
             [
              0.3333333333333333,
              "#9c179e"
             ],
             [
              0.4444444444444444,
              "#bd3786"
             ],
             [
              0.5555555555555556,
              "#d8576b"
             ],
             [
              0.6666666666666666,
              "#ed7953"
             ],
             [
              0.7777777777777778,
              "#fb9f3a"
             ],
             [
              0.8888888888888888,
              "#fdca26"
             ],
             [
              1.0,
              "#f0f921"
             ]
            ]
           }
          ],
          "surface": [
           {
            "type": "surface",
            "colorbar": {
             "outlinewidth": 0,
             "ticks": ""
            },
            "colorscale": [
             [
              0.0,
              "#0d0887"
             ],
             [
              0.1111111111111111,
              "#46039f"
             ],
             [
              0.2222222222222222,
              "#7201a8"
             ],
             [
              0.3333333333333333,
              "#9c179e"
             ],
             [
              0.4444444444444444,
              "#bd3786"
             ],
             [
              0.5555555555555556,
              "#d8576b"
             ],
             [
              0.6666666666666666,
              "#ed7953"
             ],
             [
              0.7777777777777778,
              "#fb9f3a"
             ],
             [
              0.8888888888888888,
              "#fdca26"
             ],
             [
              1.0,
              "#f0f921"
             ]
            ]
           }
          ],
          "mesh3d": [
           {
            "type": "mesh3d",
            "colorbar": {
             "outlinewidth": 0,
             "ticks": ""
            }
           }
          ],
          "scatter": [
           {
            "marker": {
             "line": {
              "color": "#283442"
             }
            },
            "type": "scatter"
           }
          ],
          "parcoords": [
           {
            "type": "parcoords",
            "line": {
             "colorbar": {
              "outlinewidth": 0,
              "ticks": ""
             }
            }
           }
          ],
          "scatterpolargl": [
           {
            "type": "scatterpolargl",
            "marker": {
             "colorbar": {
              "outlinewidth": 0,
              "ticks": ""
             }
            }
           }
          ],
          "bar": [
           {
            "error_x": {
             "color": "#f2f5fa"
            },
            "error_y": {
             "color": "#f2f5fa"
            },
            "marker": {
             "line": {
              "color": "rgb(17,17,17)",
              "width": 0.5
             },
             "pattern": {
              "fillmode": "overlay",
              "size": 10,
              "solidity": 0.2
             }
            },
            "type": "bar"
           }
          ],
          "scattergeo": [
           {
            "type": "scattergeo",
            "marker": {
             "colorbar": {
              "outlinewidth": 0,
              "ticks": ""
             }
            }
           }
          ],
          "scatterpolar": [
           {
            "type": "scatterpolar",
            "marker": {
             "colorbar": {
              "outlinewidth": 0,
              "ticks": ""
             }
            }
           }
          ],
          "histogram": [
           {
            "marker": {
             "pattern": {
              "fillmode": "overlay",
              "size": 10,
              "solidity": 0.2
             }
            },
            "type": "histogram"
           }
          ],
          "scattergl": [
           {
            "marker": {
             "line": {
              "color": "#283442"
             }
            },
            "type": "scattergl"
           }
          ],
          "scatter3d": [
           {
            "type": "scatter3d",
            "line": {
             "colorbar": {
              "outlinewidth": 0,
              "ticks": ""
             }
            },
            "marker": {
             "colorbar": {
              "outlinewidth": 0,
              "ticks": ""
             }
            }
           }
          ],
          "scattermap": [
           {
            "type": "scattermap",
            "marker": {
             "colorbar": {
              "outlinewidth": 0,
              "ticks": ""
             }
            }
           }
          ],
          "scattermapbox": [
           {
            "type": "scattermapbox",
            "marker": {
             "colorbar": {
              "outlinewidth": 0,
              "ticks": ""
             }
            }
           }
          ],
          "scatterternary": [
           {
            "type": "scatterternary",
            "marker": {
             "colorbar": {
              "outlinewidth": 0,
              "ticks": ""
             }
            }
           }
          ],
          "scattercarpet": [
           {
            "type": "scattercarpet",
            "marker": {
             "colorbar": {
              "outlinewidth": 0,
              "ticks": ""
             }
            }
           }
          ],
          "carpet": [
           {
            "aaxis": {
             "endlinecolor": "#A2B1C6",
             "gridcolor": "#506784",
             "linecolor": "#506784",
             "minorgridcolor": "#506784",
             "startlinecolor": "#A2B1C6"
            },
            "baxis": {
             "endlinecolor": "#A2B1C6",
             "gridcolor": "#506784",
             "linecolor": "#506784",
             "minorgridcolor": "#506784",
             "startlinecolor": "#A2B1C6"
            },
            "type": "carpet"
           }
          ],
          "table": [
           {
            "cells": {
             "fill": {
              "color": "#506784"
             },
             "line": {
              "color": "rgb(17,17,17)"
             }
            },
            "header": {
             "fill": {
              "color": "#2a3f5f"
             },
             "line": {
              "color": "rgb(17,17,17)"
             }
            },
            "type": "table"
           }
          ],
          "barpolar": [
           {
            "marker": {
             "line": {
              "color": "rgb(17,17,17)",
              "width": 0.5
             },
             "pattern": {
              "fillmode": "overlay",
              "size": 10,
              "solidity": 0.2
             }
            },
            "type": "barpolar"
           }
          ],
          "pie": [
           {
            "automargin": true,
            "type": "pie"
           }
          ]
         },
         "layout": {
          "autotypenumbers": "strict",
          "colorway": [
           "#636efa",
           "#EF553B",
           "#00cc96",
           "#ab63fa",
           "#FFA15A",
           "#19d3f3",
           "#FF6692",
           "#B6E880",
           "#FF97FF",
           "#FECB52"
          ],
          "font": {
           "color": "#f2f5fa"
          },
          "hovermode": "closest",
          "hoverlabel": {
           "align": "left"
          },
          "paper_bgcolor": "rgb(17,17,17)",
          "plot_bgcolor": "rgb(17,17,17)",
          "polar": {
           "bgcolor": "rgb(17,17,17)",
           "angularaxis": {
            "gridcolor": "#506784",
            "linecolor": "#506784",
            "ticks": ""
           },
           "radialaxis": {
            "gridcolor": "#506784",
            "linecolor": "#506784",
            "ticks": ""
           }
          },
          "ternary": {
           "bgcolor": "rgb(17,17,17)",
           "aaxis": {
            "gridcolor": "#506784",
            "linecolor": "#506784",
            "ticks": ""
           },
           "baxis": {
            "gridcolor": "#506784",
            "linecolor": "#506784",
            "ticks": ""
           },
           "caxis": {
            "gridcolor": "#506784",
            "linecolor": "#506784",
            "ticks": ""
           }
          },
          "coloraxis": {
           "colorbar": {
            "outlinewidth": 0,
            "ticks": ""
           }
          },
          "colorscale": {
           "sequential": [
            [
             0.0,
             "#0d0887"
            ],
            [
             0.1111111111111111,
             "#46039f"
            ],
            [
             0.2222222222222222,
             "#7201a8"
            ],
            [
             0.3333333333333333,
             "#9c179e"
            ],
            [
             0.4444444444444444,
             "#bd3786"
            ],
            [
             0.5555555555555556,
             "#d8576b"
            ],
            [
             0.6666666666666666,
             "#ed7953"
            ],
            [
             0.7777777777777778,
             "#fb9f3a"
            ],
            [
             0.8888888888888888,
             "#fdca26"
            ],
            [
             1.0,
             "#f0f921"
            ]
           ],
           "sequentialminus": [
            [
             0.0,
             "#0d0887"
            ],
            [
             0.1111111111111111,
             "#46039f"
            ],
            [
             0.2222222222222222,
             "#7201a8"
            ],
            [
             0.3333333333333333,
             "#9c179e"
            ],
            [
             0.4444444444444444,
             "#bd3786"
            ],
            [
             0.5555555555555556,
             "#d8576b"
            ],
            [
             0.6666666666666666,
             "#ed7953"
            ],
            [
             0.7777777777777778,
             "#fb9f3a"
            ],
            [
             0.8888888888888888,
             "#fdca26"
            ],
            [
             1.0,
             "#f0f921"
            ]
           ],
           "diverging": [
            [
             0,
             "#8e0152"
            ],
            [
             0.1,
             "#c51b7d"
            ],
            [
             0.2,
             "#de77ae"
            ],
            [
             0.3,
             "#f1b6da"
            ],
            [
             0.4,
             "#fde0ef"
            ],
            [
             0.5,
             "#f7f7f7"
            ],
            [
             0.6,
             "#e6f5d0"
            ],
            [
             0.7,
             "#b8e186"
            ],
            [
             0.8,
             "#7fbc41"
            ],
            [
             0.9,
             "#4d9221"
            ],
            [
             1,
             "#276419"
            ]
           ]
          },
          "xaxis": {
           "gridcolor": "#283442",
           "linecolor": "#506784",
           "ticks": "",
           "title": {
            "standoff": 15
           },
           "zerolinecolor": "#283442",
           "automargin": true,
           "zerolinewidth": 2
          },
          "yaxis": {
           "gridcolor": "#283442",
           "linecolor": "#506784",
           "ticks": "",
           "title": {
            "standoff": 15
           },
           "zerolinecolor": "#283442",
           "automargin": true,
           "zerolinewidth": 2
          },
          "scene": {
           "xaxis": {
            "backgroundcolor": "rgb(17,17,17)",
            "gridcolor": "#506784",
            "linecolor": "#506784",
            "showbackground": true,
            "ticks": "",
            "zerolinecolor": "#C8D4E3",
            "gridwidth": 2
           },
           "yaxis": {
            "backgroundcolor": "rgb(17,17,17)",
            "gridcolor": "#506784",
            "linecolor": "#506784",
            "showbackground": true,
            "ticks": "",
            "zerolinecolor": "#C8D4E3",
            "gridwidth": 2
           },
           "zaxis": {
            "backgroundcolor": "rgb(17,17,17)",
            "gridcolor": "#506784",
            "linecolor": "#506784",
            "showbackground": true,
            "ticks": "",
            "zerolinecolor": "#C8D4E3",
            "gridwidth": 2
           }
          },
          "shapedefaults": {
           "line": {
            "color": "#f2f5fa"
           }
          },
          "annotationdefaults": {
           "arrowcolor": "#f2f5fa",
           "arrowhead": 0,
           "arrowwidth": 1
          },
          "geo": {
           "bgcolor": "rgb(17,17,17)",
           "landcolor": "rgb(17,17,17)",
           "subunitcolor": "#506784",
           "showland": true,
           "showlakes": true,
           "lakecolor": "rgb(17,17,17)"
          },
          "title": {
           "x": 0.05
          },
          "updatemenudefaults": {
           "bgcolor": "#506784",
           "borderwidth": 0
          },
          "sliderdefaults": {
           "bgcolor": "#C8D4E3",
           "borderwidth": 1,
           "bordercolor": "rgb(17,17,17)",
           "tickwidth": 0
          },
          "mapbox": {
           "style": "dark"
          }
         }
        },
        "xaxis": {
         "anchor": "y",
         "domain": [
          0.0,
          0.45
         ]
        },
        "yaxis": {
         "anchor": "x",
         "domain": [
          0.0,
          1.0
         ]
        },
        "xaxis2": {
         "anchor": "y2",
         "domain": [
          0.55,
          1.0
         ]
        },
        "yaxis2": {
         "anchor": "x2",
         "domain": [
          0.0,
          1.0
         ]
        },
        "width": 2800,
        "autosize": true,
        "hovermode": "x"
       },
       "config": {
        "plotlyServerURL": "https://plot.ly"
       }
      }
     },
     "metadata": {},
     "output_type": "display_data"
    },
    {
     "name": "stdout",
     "output_type": "stream",
     "text": [
      "Meats, Fish & Eggs with count -  63\n"
     ]
    },
    {
     "data": {
      "application/vnd.plotly.v1+json": {
       "data": [
        {
         "line": {
          "color": "#bc5090",
          "width": 4
         },
         "opacity": 0.8,
         "y": {
          "dtype": "i2",
          "bdata": "EA4YFXAXKApABmwHGBX8CNAHaBDYDlQLbAe4C3AXxAnECfwIuAtsB3gF5AwIB0wEdA7QB6gWrA2sDYAMgAy4C7gLCAdoEAgH+BEUBawNBBCkBrgLxCKsDawNTB14BfwIbAdMBNAHTASoFqQG0AfQBxQFuAtUC6gWCCB4NxgV1El4NyRFkBoQJwggGC5oKVgbGBUQDrgLxAnsExAOKArcBWgQaBCsDagWKApYGxgVbAe4JPgqJEWwBIA+"
         },
         "type": "scatter",
         "mode": "markers+lines",
         "visible": false
        },
        {
         "line": {
          "color": "#ffa600",
          "width": 4
         },
         "opacity": 0.8,
         "y": {
          "dtype": "i2",
          "bdata": "uAuUEUQWNAgUBdwFlBFsB6QGrA2ADGAJQAbECYgTNAg0CGwHxAlABrAE8ArcBYQDHAykBiQTVAtUC4wKjArECcQJ3AWsDdwFPA9MBFQLPA8UBcQJTB1UC1QLnBiwBGwHQAaEA6QGhAMkE3gFpAakBkwExAlgCSQT9Bp8LpQRHD58LjQ6RBbQIPQarCbEIgwXlBG4C8QJNAjMELgLmAgUBawNrA1UCyQTmAgMF5QRQAbcHgQpNDroA2A7"
         },
         "type": "scatter",
         "mode": "markers+lines",
         "visible": false
        },
        {
         "line": {
          "color": "#bc5090",
          "width": 4
         },
         "opacity": 0.8,
         "y": {
          "dtype": "i4",
          "bdata": "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"
         },
         "type": "scatter",
         "mode": "markers+lines",
         "visible": false
        },
        {
         "line": {
          "color": "#ffa600",
          "width": 4
         },
         "opacity": 0.8,
         "y": {
          "dtype": "i4",
          "bdata": "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"
         },
         "type": "scatter",
         "mode": "markers+lines",
         "visible": false
        },
        {
         "line": {
          "color": "#bc5090",
          "width": 4
         },
         "opacity": 0.8,
         "y": {
          "dtype": "i4",
          "bdata": "oIwAAMQJAAAcDAAAtF8AALRfAAD4KgAAtF8AAGAiAADMWwAAoA8AAJQRAABoEAAAcBcAAHwVAACsDQAAuAsAAFgbAAAgTgAAeB4AAAhSAABEYQAAmDoAAKAPAAB4HgAAZBkAAERhAACYOgAABEIAALgLAAB0WQAABEIAAOQMAADMWwAAREgAAPxTAADMWwAA/FMAAKwNAACYCAAAnBgAAMQJAAC4CwAA4BUAAJg6AABsawAApDgAAIw8AABwFwAAGBUAAEwdAABYGwAAbGsAAKwmAACwNgAAoA8AAEwdAACUKgAAqC8AAGgpAAAEKQAATB0AAGgpAAA0IQAArA0AAMQiAAA8cwAAuAsAAEAfAAA0IQAANCEAABAnAACwHQAA1DAAANQwAACgDwAA1DAAAJg6AAA8cwAAvE0AALA2AACsJgAAvE0AAKyKAABsawAApDgAAKwmAACoYQAA+CoAADQhAACsJgAArCYAABAnAAC4CwAABEIAALgLAAAQJwAA+CoAAKQGAACIEwAAGBUAALwbAADEhgAA0AcAAKAPAADcBQAAECcAAAgHAAAMFwAAlBEAALgLAADkJQAAOBgAACAcAAAgHAAATB0AAOAuAAAgHAAANCEAAGQZAAD4KgAAIBwAADB1AAD0TAAAQB8AAMxbAABwlAAAyBkAAEwdAADEIgAA"
         },
         "type": "scatter",
         "mode": "markers+lines",
         "visible": false
        },
        {
         "line": {
          "color": "#ffa600",
          "width": 4
         },
         "opacity": 0.8,
         "y": {
          "dtype": "i4",
          "bdata": "PIwAAMQJAAAcDAAAwF0AAMBdAAAEKQAA+FwAAJghAACgWgAAoA8AAJQRAABoEAAAcBcAAHwVAABIDQAAuAsAAJAaAAAgTgAATB0AAAhSAACUXAAA3DcAAKAPAABMHQAAZBkAAERhAACYOgAABEIAAFQLAAB4UAAA8DwAAOQMAAD4QwAA0DkAAMhLAABwSQAAMEMAAKwNAACYCAAAnBgAAGAJAAC4CwAAGBUAAJg6AACENQAApDgAAIw8AABEFgAA7BMAAEwdAABYGwAAhDUAALgkAAD0MwAAoA8AACAcAACgKAAA4C4AAGgpAACsJgAAhBwAAHQnAAAIIAAASA0AAKQfAABsOQAAuAsAAEAfAAAIIAAANCEAAKwmAACEHAAAfC4AABguAACgDwAAGC4AAJg6AABsOQAA1EkAAPQzAAC4JAAA1EkAACRFAACENQAAhDUAALgkAADUMAAA+CoAAEAfAAC4JAAAYCIAABwlAAC4CwAA5D4AALgLAAAcJQAA+CoAAKQGAAAkEwAAGBUAAFgbAACUXAAA0AcAADwPAADcBQAAHCUAAKQGAABEFgAAlBEAALgLAADkJQAAOBgAADgYAABwFwAAOBgAAJAaAAA4GAAA3B4AAHwVAAAcJQAAOBgAALxNAACcSgAAkBoAAMxCAABQkQAAABkAAEwdAADEIgAA"
         },
         "type": "scatter",
         "mode": "markers+lines",
         "visible": false
        },
        {
         "line": {
          "color": "#bc5090",
          "width": 4
         },
         "opacity": 0.8,
         "y": {
          "dtype": "i4",
          "bdata": "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"
         },
         "type": "scatter",
         "mode": "markers+lines",
         "visible": false
        },
        {
         "line": {
          "color": "#ffa600",
          "width": 4
         },
         "opacity": 0.8,
         "y": {
          "dtype": "i4",
          "bdata": "oFoAAIyHAABcKwAArIoAAEhxAAAEKQAAuIgAAKScAACclQAA7MIAADxBAAAUaQAApB8AANhyAACQfgAATGgAAAwwAADMKQAA7CwAADBcAAAIIAAAjCMAAKhhAADsLAAAQB8AAEAfAADcHgAAaHQAAAB9AAA4MQAABEIAACR3AABg0QAAwEQAAOiAAACMPAAA9H4AAMxCAACUKgAANDoAADgxAAC8NAAAZEsAAJghAABEFgAAQB8AADQ6AABsIAAAzEIAAJQqAACAcAAAdHIAABAnAACoYQAAJCwAAIgsAACILAAAxCIAAIgsAABcRAAAGHkAAOxFAACoYQAA2HIAAOxFAADsRQAA2HIAAKhhAAAEKQAAAEsAAAQpAAAUUAAAZBkAABguAACILAAAiCwAAGQyAAA0UwAAnBgAANCEAAAEKQAAXCsAACAcAAB4UAAAJCwAAFgbAAB8FQAAaBAAAIgsAADo/QAASO4AANhZAACILAAARGEAADQhAADcHgAAqGEAANhZAAD4KgAAtHgAADAqAABoWwAAFGkAADDyAABkMgAAPA8AAARCAACILAAAtHgAAAQpAADgLgAArCYAAFwrAAAEdAAA8DwAAIA+AADMQgAAiCwAAIgsAAC4PQAAjCMAAFwrAABcKwAA1BcAAOhnAAB0iwAAkGUAAOhnAAA8cwAARC8AAJBlAABIPwAAhDUAANA5AABwSQAAMEMAAPhDAADISwAAIBwAAGA7AACENQAANDoAADhKAAD4KgAA4C4AAPgqAAD4KgAAQGoAAPxsAAAQcgAAuD0AAPQaAACENQAAjDwAABQeAADkPgAAgHAAADQhAAA4SgAAqC8AAPRlAAD0MwAA0CAAABQeAAAUHgAAFB4AALA2AAAUHgAAKDwAABQeAAAUHgAAjCMAAMArAACwNgAAZBkAACAcAABIPwAApB8AAEAfAAAgHAAAGBUAADARAABYGwAA3B4AAMwQAACAPgAAQDgAALQtAABYGwAA6GcAAIA+AACwHQAA3DcAAJghAADISwAAmDoAAHRAAABwMAAAqGEAANhZAADcHgAAnBgAAHAwAADYWQAAcBcAAHAXAABwFwAAcBcAAJQRAAAYLgAAGC4AAHAwAABIPwAAnEoAAJQRAABoWwAAaFsAAIgTAAC4JAAAyDIAAGhbAACcSgAAaFsAAGhbAACIEwAAaFsAAHRyAACcSgAA0GsAAJQRAAC4JAAA4BUAACQTAADUFwAAfBUAALRfAAA0IQAAaFsAANgOAABEFgAARBYAALgkAADUFwAAJBMAAAggAABEFgAAPA8AAHwVAAB8FQAAnEoAAHwVAAB8FQAAQB8AANxQAACYOgAAADIAALA2AAC0FAAATB0AAPgqAABgIgAAsDYAALA2AACwNgAAsDYAAIgTAADgLgAAlBEAAOAVAAA8QQAAgAwAALgLAAAgTgAAIE4AAIgTAAAgTgAAIE4AAAAyAAAAMgAAGBUAAJQRAACkBgAACAcAADwPAACYCAAA0AcAAOQMAABIDQAA2A4AANgOAADAKwAAxAkAAGAJAADwCgAAiBMAAEgNAADsEwAAlBEAANAHAACwBAAATB0AAPAKAADECQAAxAkAAPwIAAD8CAAA/AgAANwFAADQBwAAfC4AAHwuAACMIwAAMBEAAMQJAADcBQAAxAkAAGgpAADcBQAA3AUAAMQJAAB8FQAAfBUAAHwVAAB8FQAAfBUAACgjAADoHAAA6BwAANQXAAAwEQAAmCEAAHAXAADgFQAA0AcAAKAPAACgDwAAoA8AALQUAAB8FQAAPA8AAMASAADAEgAAMBEAAMASAADcBQAArA0AANwFAADkDAAA5AwAADARAAAwEQAABBAAADARAAAEEAAABBAAADxzAAB4aQAA6AMAANwFAADcBQAA3AUAAJghAADoAwAA6AMAAOgDAADoAwAA3AUAANwFAADoAwAAmDoAAIDtAAAI6AAAIP0AAOBgAABwrQAAxDsAAJAaAACoYQAAnJUAALCaAABgOwAAIMsAACigAABs6AAABCkAAOBHAAAslwAAbOgAAA=="
         },
         "type": "scatter",
         "mode": "markers+lines",
         "visible": false
        },
        {
         "line": {
          "color": "#bc5090",
          "width": 4
         },
         "opacity": 0.8,
         "y": {
          "dtype": "i4",
          "bdata": "RGEAAFxEAAD8UwAAnHwAAHRAAACEZwAA9H4AAPRlAAAsZQAAdEAAAISAAACktQAALMkAAEhxAABEYQAAsDYAAPxTAAB4aQAACFIAAGxrAACoYQAApDgAAKhhAACcYwAAbGsAAGxrAAC0XwAAkGUAAKhhAAA8cwAAOEoAAKQ4AACAPgAAmDoAAJg6AAAUUAAA8FUAAPBVAABMHQAA8FUAAOgcAADoHAAAwBIAAFgbAADIGQAAPA8AAKAPAADoAwAA5CUAADgYAAAgTgAAXEQAADQhAAAgHAAAZBkAAPgqAADgLgAAIBwAACAcAABMHQAAIBwAAAhSAAAwdQAA"
         },
         "type": "scatter",
         "mode": "markers+lines"
        },
        {
         "line": {
          "color": "#ffa600",
          "width": 4
         },
         "opacity": 0.8,
         "y": {
          "dtype": "i4",
          "bdata": "qEgAALg9AACwTwAACGsAAHRAAABcXQAAdHIAALhWAABsOQAAVD0AAHxgAACorAAAXMEAALBPAADsRQAAsDYAALBPAAB4aQAACFIAAOBgAACoYQAApDgAAKhhAADYWQAA4GAAAOBgAABUVgAAaFsAAKhhAADoZwAAOEoAAPQzAABAOAAA3DcAAJg6AADISwAA+CoAAPgqAACQGgAA+CoAACwaAAAsGgAAXBIAAGQZAADIGQAA2A4AADwPAADoAwAA5CUAADgYAABQRgAAuD0AANweAAA4GAAAfBUAABwlAACQGgAAOBgAADgYAAA4GAAAcBcAANRJAAB4aQAA"
         },
         "type": "scatter",
         "mode": "markers+lines"
        }
       ],
       "layout": {
        "template": {
         "data": {
          "histogram2dcontour": [
           {
            "type": "histogram2dcontour",
            "colorbar": {
             "outlinewidth": 0,
             "ticks": ""
            },
            "colorscale": [
             [
              0.0,
              "#0d0887"
             ],
             [
              0.1111111111111111,
              "#46039f"
             ],
             [
              0.2222222222222222,
              "#7201a8"
             ],
             [
              0.3333333333333333,
              "#9c179e"
             ],
             [
              0.4444444444444444,
              "#bd3786"
             ],
             [
              0.5555555555555556,
              "#d8576b"
             ],
             [
              0.6666666666666666,
              "#ed7953"
             ],
             [
              0.7777777777777778,
              "#fb9f3a"
             ],
             [
              0.8888888888888888,
              "#fdca26"
             ],
             [
              1.0,
              "#f0f921"
             ]
            ]
           }
          ],
          "choropleth": [
           {
            "type": "choropleth",
            "colorbar": {
             "outlinewidth": 0,
             "ticks": ""
            }
           }
          ],
          "histogram2d": [
           {
            "type": "histogram2d",
            "colorbar": {
             "outlinewidth": 0,
             "ticks": ""
            },
            "colorscale": [
             [
              0.0,
              "#0d0887"
             ],
             [
              0.1111111111111111,
              "#46039f"
             ],
             [
              0.2222222222222222,
              "#7201a8"
             ],
             [
              0.3333333333333333,
              "#9c179e"
             ],
             [
              0.4444444444444444,
              "#bd3786"
             ],
             [
              0.5555555555555556,
              "#d8576b"
             ],
             [
              0.6666666666666666,
              "#ed7953"
             ],
             [
              0.7777777777777778,
              "#fb9f3a"
             ],
             [
              0.8888888888888888,
              "#fdca26"
             ],
             [
              1.0,
              "#f0f921"
             ]
            ]
           }
          ],
          "heatmap": [
           {
            "type": "heatmap",
            "colorbar": {
             "outlinewidth": 0,
             "ticks": ""
            },
            "colorscale": [
             [
              0.0,
              "#0d0887"
             ],
             [
              0.1111111111111111,
              "#46039f"
             ],
             [
              0.2222222222222222,
              "#7201a8"
             ],
             [
              0.3333333333333333,
              "#9c179e"
             ],
             [
              0.4444444444444444,
              "#bd3786"
             ],
             [
              0.5555555555555556,
              "#d8576b"
             ],
             [
              0.6666666666666666,
              "#ed7953"
             ],
             [
              0.7777777777777778,
              "#fb9f3a"
             ],
             [
              0.8888888888888888,
              "#fdca26"
             ],
             [
              1.0,
              "#f0f921"
             ]
            ]
           }
          ],
          "contourcarpet": [
           {
            "type": "contourcarpet",
            "colorbar": {
             "outlinewidth": 0,
             "ticks": ""
            }
           }
          ],
          "contour": [
           {
            "type": "contour",
            "colorbar": {
             "outlinewidth": 0,
             "ticks": ""
            },
            "colorscale": [
             [
              0.0,
              "#0d0887"
             ],
             [
              0.1111111111111111,
              "#46039f"
             ],
             [
              0.2222222222222222,
              "#7201a8"
             ],
             [
              0.3333333333333333,
              "#9c179e"
             ],
             [
              0.4444444444444444,
              "#bd3786"
             ],
             [
              0.5555555555555556,
              "#d8576b"
             ],
             [
              0.6666666666666666,
              "#ed7953"
             ],
             [
              0.7777777777777778,
              "#fb9f3a"
             ],
             [
              0.8888888888888888,
              "#fdca26"
             ],
             [
              1.0,
              "#f0f921"
             ]
            ]
           }
          ],
          "surface": [
           {
            "type": "surface",
            "colorbar": {
             "outlinewidth": 0,
             "ticks": ""
            },
            "colorscale": [
             [
              0.0,
              "#0d0887"
             ],
             [
              0.1111111111111111,
              "#46039f"
             ],
             [
              0.2222222222222222,
              "#7201a8"
             ],
             [
              0.3333333333333333,
              "#9c179e"
             ],
             [
              0.4444444444444444,
              "#bd3786"
             ],
             [
              0.5555555555555556,
              "#d8576b"
             ],
             [
              0.6666666666666666,
              "#ed7953"
             ],
             [
              0.7777777777777778,
              "#fb9f3a"
             ],
             [
              0.8888888888888888,
              "#fdca26"
             ],
             [
              1.0,
              "#f0f921"
             ]
            ]
           }
          ],
          "mesh3d": [
           {
            "type": "mesh3d",
            "colorbar": {
             "outlinewidth": 0,
             "ticks": ""
            }
           }
          ],
          "scatter": [
           {
            "marker": {
             "line": {
              "color": "#283442"
             }
            },
            "type": "scatter"
           }
          ],
          "parcoords": [
           {
            "type": "parcoords",
            "line": {
             "colorbar": {
              "outlinewidth": 0,
              "ticks": ""
             }
            }
           }
          ],
          "scatterpolargl": [
           {
            "type": "scatterpolargl",
            "marker": {
             "colorbar": {
              "outlinewidth": 0,
              "ticks": ""
             }
            }
           }
          ],
          "bar": [
           {
            "error_x": {
             "color": "#f2f5fa"
            },
            "error_y": {
             "color": "#f2f5fa"
            },
            "marker": {
             "line": {
              "color": "rgb(17,17,17)",
              "width": 0.5
             },
             "pattern": {
              "fillmode": "overlay",
              "size": 10,
              "solidity": 0.2
             }
            },
            "type": "bar"
           }
          ],
          "scattergeo": [
           {
            "type": "scattergeo",
            "marker": {
             "colorbar": {
              "outlinewidth": 0,
              "ticks": ""
             }
            }
           }
          ],
          "scatterpolar": [
           {
            "type": "scatterpolar",
            "marker": {
             "colorbar": {
              "outlinewidth": 0,
              "ticks": ""
             }
            }
           }
          ],
          "histogram": [
           {
            "marker": {
             "pattern": {
              "fillmode": "overlay",
              "size": 10,
              "solidity": 0.2
             }
            },
            "type": "histogram"
           }
          ],
          "scattergl": [
           {
            "marker": {
             "line": {
              "color": "#283442"
             }
            },
            "type": "scattergl"
           }
          ],
          "scatter3d": [
           {
            "type": "scatter3d",
            "line": {
             "colorbar": {
              "outlinewidth": 0,
              "ticks": ""
             }
            },
            "marker": {
             "colorbar": {
              "outlinewidth": 0,
              "ticks": ""
             }
            }
           }
          ],
          "scattermap": [
           {
            "type": "scattermap",
            "marker": {
             "colorbar": {
              "outlinewidth": 0,
              "ticks": ""
             }
            }
           }
          ],
          "scattermapbox": [
           {
            "type": "scattermapbox",
            "marker": {
             "colorbar": {
              "outlinewidth": 0,
              "ticks": ""
             }
            }
           }
          ],
          "scatterternary": [
           {
            "type": "scatterternary",
            "marker": {
             "colorbar": {
              "outlinewidth": 0,
              "ticks": ""
             }
            }
           }
          ],
          "scattercarpet": [
           {
            "type": "scattercarpet",
            "marker": {
             "colorbar": {
              "outlinewidth": 0,
              "ticks": ""
             }
            }
           }
          ],
          "carpet": [
           {
            "aaxis": {
             "endlinecolor": "#A2B1C6",
             "gridcolor": "#506784",
             "linecolor": "#506784",
             "minorgridcolor": "#506784",
             "startlinecolor": "#A2B1C6"
            },
            "baxis": {
             "endlinecolor": "#A2B1C6",
             "gridcolor": "#506784",
             "linecolor": "#506784",
             "minorgridcolor": "#506784",
             "startlinecolor": "#A2B1C6"
            },
            "type": "carpet"
           }
          ],
          "table": [
           {
            "cells": {
             "fill": {
              "color": "#506784"
             },
             "line": {
              "color": "rgb(17,17,17)"
             }
            },
            "header": {
             "fill": {
              "color": "#2a3f5f"
             },
             "line": {
              "color": "rgb(17,17,17)"
             }
            },
            "type": "table"
           }
          ],
          "barpolar": [
           {
            "marker": {
             "line": {
              "color": "rgb(17,17,17)",
              "width": 0.5
             },
             "pattern": {
              "fillmode": "overlay",
              "size": 10,
              "solidity": 0.2
             }
            },
            "type": "barpolar"
           }
          ],
          "pie": [
           {
            "automargin": true,
            "type": "pie"
           }
          ]
         },
         "layout": {
          "autotypenumbers": "strict",
          "colorway": [
           "#636efa",
           "#EF553B",
           "#00cc96",
           "#ab63fa",
           "#FFA15A",
           "#19d3f3",
           "#FF6692",
           "#B6E880",
           "#FF97FF",
           "#FECB52"
          ],
          "font": {
           "color": "#f2f5fa"
          },
          "hovermode": "closest",
          "hoverlabel": {
           "align": "left"
          },
          "paper_bgcolor": "rgb(17,17,17)",
          "plot_bgcolor": "rgb(17,17,17)",
          "polar": {
           "bgcolor": "rgb(17,17,17)",
           "angularaxis": {
            "gridcolor": "#506784",
            "linecolor": "#506784",
            "ticks": ""
           },
           "radialaxis": {
            "gridcolor": "#506784",
            "linecolor": "#506784",
            "ticks": ""
           }
          },
          "ternary": {
           "bgcolor": "rgb(17,17,17)",
           "aaxis": {
            "gridcolor": "#506784",
            "linecolor": "#506784",
            "ticks": ""
           },
           "baxis": {
            "gridcolor": "#506784",
            "linecolor": "#506784",
            "ticks": ""
           },
           "caxis": {
            "gridcolor": "#506784",
            "linecolor": "#506784",
            "ticks": ""
           }
          },
          "coloraxis": {
           "colorbar": {
            "outlinewidth": 0,
            "ticks": ""
           }
          },
          "colorscale": {
           "sequential": [
            [
             0.0,
             "#0d0887"
            ],
            [
             0.1111111111111111,
             "#46039f"
            ],
            [
             0.2222222222222222,
             "#7201a8"
            ],
            [
             0.3333333333333333,
             "#9c179e"
            ],
            [
             0.4444444444444444,
             "#bd3786"
            ],
            [
             0.5555555555555556,
             "#d8576b"
            ],
            [
             0.6666666666666666,
             "#ed7953"
            ],
            [
             0.7777777777777778,
             "#fb9f3a"
            ],
            [
             0.8888888888888888,
             "#fdca26"
            ],
            [
             1.0,
             "#f0f921"
            ]
           ],
           "sequentialminus": [
            [
             0.0,
             "#0d0887"
            ],
            [
             0.1111111111111111,
             "#46039f"
            ],
            [
             0.2222222222222222,
             "#7201a8"
            ],
            [
             0.3333333333333333,
             "#9c179e"
            ],
            [
             0.4444444444444444,
             "#bd3786"
            ],
            [
             0.5555555555555556,
             "#d8576b"
            ],
            [
             0.6666666666666666,
             "#ed7953"
            ],
            [
             0.7777777777777778,
             "#fb9f3a"
            ],
            [
             0.8888888888888888,
             "#fdca26"
            ],
            [
             1.0,
             "#f0f921"
            ]
           ],
           "diverging": [
            [
             0,
             "#8e0152"
            ],
            [
             0.1,
             "#c51b7d"
            ],
            [
             0.2,
             "#de77ae"
            ],
            [
             0.3,
             "#f1b6da"
            ],
            [
             0.4,
             "#fde0ef"
            ],
            [
             0.5,
             "#f7f7f7"
            ],
            [
             0.6,
             "#e6f5d0"
            ],
            [
             0.7,
             "#b8e186"
            ],
            [
             0.8,
             "#7fbc41"
            ],
            [
             0.9,
             "#4d9221"
            ],
            [
             1,
             "#276419"
            ]
           ]
          },
          "xaxis": {
           "gridcolor": "#283442",
           "linecolor": "#506784",
           "ticks": "",
           "title": {
            "standoff": 15
           },
           "zerolinecolor": "#283442",
           "automargin": true,
           "zerolinewidth": 2
          },
          "yaxis": {
           "gridcolor": "#283442",
           "linecolor": "#506784",
           "ticks": "",
           "title": {
            "standoff": 15
           },
           "zerolinecolor": "#283442",
           "automargin": true,
           "zerolinewidth": 2
          },
          "scene": {
           "xaxis": {
            "backgroundcolor": "rgb(17,17,17)",
            "gridcolor": "#506784",
            "linecolor": "#506784",
            "showbackground": true,
            "ticks": "",
            "zerolinecolor": "#C8D4E3",
            "gridwidth": 2
           },
           "yaxis": {
            "backgroundcolor": "rgb(17,17,17)",
            "gridcolor": "#506784",
            "linecolor": "#506784",
            "showbackground": true,
            "ticks": "",
            "zerolinecolor": "#C8D4E3",
            "gridwidth": 2
           },
           "zaxis": {
            "backgroundcolor": "rgb(17,17,17)",
            "gridcolor": "#506784",
            "linecolor": "#506784",
            "showbackground": true,
            "ticks": "",
            "zerolinecolor": "#C8D4E3",
            "gridwidth": 2
           }
          },
          "shapedefaults": {
           "line": {
            "color": "#f2f5fa"
           }
          },
          "annotationdefaults": {
           "arrowcolor": "#f2f5fa",
           "arrowhead": 0,
           "arrowwidth": 1
          },
          "geo": {
           "bgcolor": "rgb(17,17,17)",
           "landcolor": "rgb(17,17,17)",
           "subunitcolor": "#506784",
           "showland": true,
           "showlakes": true,
           "lakecolor": "rgb(17,17,17)"
          },
          "title": {
           "x": 0.05
          },
          "updatemenudefaults": {
           "bgcolor": "#506784",
           "borderwidth": 0
          },
          "sliderdefaults": {
           "bgcolor": "#C8D4E3",
           "borderwidth": 1,
           "bordercolor": "rgb(17,17,17)",
           "tickwidth": 0
          },
          "mapbox": {
           "style": "dark"
          }
         }
        },
        "xaxis": {
         "anchor": "y",
         "domain": [
          0.0,
          0.45
         ]
        },
        "yaxis": {
         "anchor": "x",
         "domain": [
          0.0,
          1.0
         ]
        },
        "xaxis2": {
         "anchor": "y2",
         "domain": [
          0.55,
          1.0
         ]
        },
        "yaxis2": {
         "anchor": "x2",
         "domain": [
          0.0,
          1.0
         ]
        },
        "width": 2800,
        "autosize": true,
        "hovermode": "x"
       },
       "config": {
        "plotlyServerURL": "https://plot.ly"
       }
      }
     },
     "metadata": {},
     "output_type": "display_data"
    },
    {
     "name": "stdout",
     "output_type": "stream",
     "text": [
      "Biscuits with count -  147\n"
     ]
    },
    {
     "data": {
      "application/vnd.plotly.v1+json": {
       "data": [
        {
         "line": {
          "color": "#bc5090",
          "width": 4
         },
         "opacity": 0.8,
         "y": {
          "dtype": "i2",
          "bdata": "EA4YFXAXKApABmwHGBX8CNAHaBDYDlQLbAe4C3AXxAnECfwIuAtsB3gF5AwIB0wEdA7QB6gWrA2sDYAMgAy4C7gLCAdoEAgH+BEUBawNBBCkBrgLxCKsDawNTB14BfwIbAdMBNAHTASoFqQG0AfQBxQFuAtUC6gWCCB4NxgV1El4NyRFkBoQJwggGC5oKVgbGBUQDrgLxAnsExAOKArcBWgQaBCsDagWKApYGxgVbAe4JPgqJEWwBIA+"
         },
         "type": "scatter",
         "mode": "markers+lines",
         "visible": false
        },
        {
         "line": {
          "color": "#ffa600",
          "width": 4
         },
         "opacity": 0.8,
         "y": {
          "dtype": "i2",
          "bdata": "uAuUEUQWNAgUBdwFlBFsB6QGrA2ADGAJQAbECYgTNAg0CGwHxAlABrAE8ArcBYQDHAykBiQTVAtUC4wKjArECcQJ3AWsDdwFPA9MBFQLPA8UBcQJTB1UC1QLnBiwBGwHQAaEA6QGhAMkE3gFpAakBkwExAlgCSQT9Bp8LpQRHD58LjQ6RBbQIPQarCbEIgwXlBG4C8QJNAjMELgLmAgUBawNrA1UCyQTmAgMF5QRQAbcHgQpNDroA2A7"
         },
         "type": "scatter",
         "mode": "markers+lines",
         "visible": false
        },
        {
         "line": {
          "color": "#bc5090",
          "width": 4
         },
         "opacity": 0.8,
         "y": {
          "dtype": "i4",
          "bdata": "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"
         },
         "type": "scatter",
         "mode": "markers+lines",
         "visible": false
        },
        {
         "line": {
          "color": "#ffa600",
          "width": 4
         },
         "opacity": 0.8,
         "y": {
          "dtype": "i4",
          "bdata": "ECcAAJg6AAC0qgAAFFAAANhZAADMKQAACCAAAMT9AQDQawAAkBoAAHxHAAAAGQAArA0AAOgcAAAEEAAAgAwAAARCAAA8cwAAPHMAAGAiAAC0eAAAWBsAACBOAAD8bAAAuCQAABgVAACgDwAAsDYAALw0AADgLgAAxCIAACAcAADARAAAaEIAADxzAABIPwAA0CAAAMRtAABQLQAAMCoAAOQlAAAcPgAAPCgAAJwYAABMHQAAnBgAAMBEAADUMAAApB8AAKgvAADwPAAAMCoAAKhhAABIDQAAuCQAAIgTAADEIgAACCAAAFwrAAAAMgAAxCIAANBSAAAUHgAA5FcAACAcAADcHgAAJBMAANQwAACoFgAA1DAAABgVAACkHwAApB8AAMQiAAA0OgAAwCsAAMxCAADgFQAAYCIAAEwdAAAQDgAAnBgAABQeAADMQgAASA0AALw0AACoYQAABCkAAMwQAADEIgAAYCIAACgjAADwCgAAQB8AAPQaAAA4SgAApDgAAAAyAAAcJQAASA0AAEg/AABAHwAAeB4AACAcAACwTwAA4C4AAKQfAADMKQAAZBkAAAAZAACoLwAAIBwAAJi3AAB0cgAAKCMAAFwSAABQFAAA3B4AACAcAAAMFwAAQB8AACQsAABEYQAAPHMAACQTAAAgTgAAIE4AADRTAACcGAAA3B4AAEQWAAAEdAAAqGEAANw3AACgKAAAXBIAAAhSAACUKgAAADIAAJg6AADoZwAAXEQAADhKAACQGgAAbDkAAHAwAAAUHgAA0CAAADARAAAgHAAAGBUAAEAfAACkHwAAHD4AAKwmAACIRQAAzBAAAKgWAADISwAA6GcAABgVAADskAAADGIAAIxuAAAYLgAAQDgAAMx0AAAIUgAA3DcAAOAuAACcGAAAHCUAABguAACUEQAAcBcAAOxFAABwFwAAcBcAALxNAAAYLgAA8DwAADxBAADsXgAA+BEAAMx0AACsDQAAiBMAANhAAAC8GwAA/AgAAFAUAADsEwAAcBcAAJwYAAD4KgAAMEMAAMxbAABAagAAmDoAAJAzAAD0GgAAXF0AAEQWAAC0XwAAUBQAAFwSAACYIQAAHCUAAMASAACYIQAAnBgAAOwsAAAkEwAAdCcAAJQRAADMdAAAlBEAABwlAAB4NwAAiEUAAPgqAACMCgAAXBIAACRFAADMEAAAwBIAADwPAACcfAAAXBIAAAAyAADQhAAA0IQAAMQiAAD8bAAAAGQAAPgqAADsLAAAJBMAABgVAACIRQAA1BcAALgkAADoZwAAxCIAAMQiAABsUgAAHCUAADAqAADAqAAAGBUAABwMAAAMFwAA7BMAACQTAACsJgAAECcAADwPAAAEQgAAHCUAANwFAABYGwAAQB8AAMQJAABkGQAA2A4AACAcAADEIgAAWBsAAEwdAABAHwAAADIAAGQZAADUMAAA+BEAANQXAABMHQAAIBwAAFQLAADYDgAAgAwAACgjAAB0DgAACAcAABAOAABIDQAALBoAAKgWAABAUQAAkBoAAFwSAADEIgAAnBgAADARAAB0DgAA0AcAADwPAABUPQAAQB8AAGQZAABwFwAAwBIAABwlAAC0LQAALBoAAFAUAADMQgAA7CwAAIQcAAAwEQAAxAkAABguAABcEgAAkGUAADAqAADQBwAAWDQAAPwIAAAYFQAAMBEAADARAAAwEQAAMBEAAFAUAABgIgAAlBEAAHwVAABQFAAA/CEAAOQlAABQFAAAxAkAAKwmAACsJgAArCYAABgVAAAcJQAAlBEAAIgTAADQBwAAsAQAAMQJAAD8CAAA/AgAADARAAAwEQAA3AUAANwFAADECQAAMBEAANwFAAAwEQAAMBEAANAHAABoEAAA+BEAAFhNAADkDAAAyBkAAIgTAAC4CwAA2A4AABRQAADECQAABBAAAHAXAADkDAAApB8AAAQQAABUCwAA2A4AAGQZAADcBQAASA0AABAOAAA4GAAA2A4AABAnAAA8DwAAQDgAAMgZAAAMYgAAoA8AAFQLAACADAAAgAwAACgjAACYCAAAxAkAAOwTAABIDQAAPA8AANAHAAAoIwAATDYAAHhpAABAHwAASA0AANwFAADcBQAASCYAAKwmAACsJgAAnBgAAMQJAADkDAAAcBcAAOgDAAAkEwAAJBMAAOgDAACkHwAAFFAAAEgNAADoAwAA6AMAAOgDAACIEwAArCYAAOQlAAB8kgAA3JsAAEgmAADcHgAAfBUAABwlAAC0XwAATJQBAOhnAACMbgAAPIYBABxwAAC0XwAAGPYAACiaAQBg5AEA3JUBADylAAAslwAAeLQAABSCAACEZwAA4HkAAGxrAABggAEAVGkBAHy+AQBQqgAAfCICAGSvAAC4JAAAyEsAALA2AACMhwAA1DAAACyXAAAMFwAAQFEAAOB5AADgYAAAUJEAAFAUAABgCQAAWDQAADhKAADMQgAAJJAAANweAAAIUgAA1DAAABAOAAD8UwAAvE0AAAhSAADswgAAtNwAAARCAACMVQAA4BUAAFxdAADgRwAAHCUAANhyAAAAGQAAcBcAAFxdAADcmwAAeFAAAFxEAAD8UwAAhMsAALxNAABMHQAAbDkAALxNAABwFwAALOIAABgVAAC0RgAAuCQAAAwXAADgLgAAbAcAAOAVAABQFAAATB0AAOAVAACcSgAA1MYAADQ6AAA4GAAATE8AAJAaAADEIgAA4C4AAA=="
         },
         "type": "scatter",
         "mode": "markers+lines",
         "visible": false
        },
        {
         "line": {
          "color": "#bc5090",
          "width": 4
         },
         "opacity": 0.8,
         "y": {
          "dtype": "i4",
          "bdata": "oIwAAMQJAAAcDAAAtF8AALRfAAD4KgAAtF8AAGAiAADMWwAAoA8AAJQRAABoEAAAcBcAAHwVAACsDQAAuAsAAFgbAAAgTgAAeB4AAAhSAABEYQAAmDoAAKAPAAB4HgAAZBkAAERhAACYOgAABEIAALgLAAB0WQAABEIAAOQMAADMWwAAREgAAPxTAADMWwAA/FMAAKwNAACYCAAAnBgAAMQJAAC4CwAA4BUAAJg6AABsawAApDgAAIw8AABwFwAAGBUAAEwdAABYGwAAbGsAAKwmAACwNgAAoA8AAEwdAACUKgAAqC8AAGgpAAAEKQAATB0AAGgpAAA0IQAArA0AAMQiAAA8cwAAuAsAAEAfAAA0IQAANCEAABAnAACwHQAA1DAAANQwAACgDwAA1DAAAJg6AAA8cwAAvE0AALA2AACsJgAAvE0AAKyKAABsawAApDgAAKwmAACoYQAA+CoAADQhAACsJgAArCYAABAnAAC4CwAABEIAALgLAAAQJwAA+CoAAKQGAACIEwAAGBUAALwbAADEhgAA0AcAAKAPAADcBQAAECcAAAgHAAAMFwAAlBEAALgLAADkJQAAOBgAACAcAAAgHAAATB0AAOAuAAAgHAAANCEAAGQZAAD4KgAAIBwAADB1AAD0TAAAQB8AAMxbAABwlAAAyBkAAEwdAADEIgAA"
         },
         "type": "scatter",
         "mode": "markers+lines",
         "visible": false
        },
        {
         "line": {
          "color": "#ffa600",
          "width": 4
         },
         "opacity": 0.8,
         "y": {
          "dtype": "i4",
          "bdata": "PIwAAMQJAAAcDAAAwF0AAMBdAAAEKQAA+FwAAJghAACgWgAAoA8AAJQRAABoEAAAcBcAAHwVAABIDQAAuAsAAJAaAAAgTgAATB0AAAhSAACUXAAA3DcAAKAPAABMHQAAZBkAAERhAACYOgAABEIAAFQLAAB4UAAA8DwAAOQMAAD4QwAA0DkAAMhLAABwSQAAMEMAAKwNAACYCAAAnBgAAGAJAAC4CwAAGBUAAJg6AACENQAApDgAAIw8AABEFgAA7BMAAEwdAABYGwAAhDUAALgkAAD0MwAAoA8AACAcAACgKAAA4C4AAGgpAACsJgAAhBwAAHQnAAAIIAAASA0AAKQfAABsOQAAuAsAAEAfAAAIIAAANCEAAKwmAACEHAAAfC4AABguAACgDwAAGC4AAJg6AABsOQAA1EkAAPQzAAC4JAAA1EkAACRFAACENQAAhDUAALgkAADUMAAA+CoAAEAfAAC4JAAAYCIAABwlAAC4CwAA5D4AALgLAAAcJQAA+CoAAKQGAAAkEwAAGBUAAFgbAACUXAAA0AcAADwPAADcBQAAHCUAAKQGAABEFgAAlBEAALgLAADkJQAAOBgAADgYAABwFwAAOBgAAJAaAAA4GAAA3B4AAHwVAAAcJQAAOBgAALxNAACcSgAAkBoAAMxCAABQkQAAABkAAEwdAADEIgAA"
         },
         "type": "scatter",
         "mode": "markers+lines",
         "visible": false
        },
        {
         "line": {
          "color": "#bc5090",
          "width": 4
         },
         "opacity": 0.8,
         "y": {
          "dtype": "i4",
          "bdata": "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"
         },
         "type": "scatter",
         "mode": "markers+lines",
         "visible": false
        },
        {
         "line": {
          "color": "#ffa600",
          "width": 4
         },
         "opacity": 0.8,
         "y": {
          "dtype": "i4",
          "bdata": "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"
         },
         "type": "scatter",
         "mode": "markers+lines",
         "visible": false
        },
        {
         "line": {
          "color": "#bc5090",
          "width": 4
         },
         "opacity": 0.8,
         "y": {
          "dtype": "i4",
          "bdata": "RGEAAFxEAAD8UwAAnHwAAHRAAACEZwAA9H4AAPRlAAAsZQAAdEAAAISAAACktQAALMkAAEhxAABEYQAAsDYAAPxTAAB4aQAACFIAAGxrAACoYQAApDgAAKhhAACcYwAAbGsAAGxrAAC0XwAAkGUAAKhhAAA8cwAAOEoAAKQ4AACAPgAAmDoAAJg6AAAUUAAA8FUAAPBVAABMHQAA8FUAAOgcAADoHAAAwBIAAFgbAADIGQAAPA8AAKAPAADoAwAA5CUAADgYAAAgTgAAXEQAADQhAAAgHAAAZBkAAPgqAADgLgAAIBwAACAcAABMHQAAIBwAAAhSAAAwdQAA"
         },
         "type": "scatter",
         "mode": "markers+lines",
         "visible": false
        },
        {
         "line": {
          "color": "#ffa600",
          "width": 4
         },
         "opacity": 0.8,
         "y": {
          "dtype": "i4",
          "bdata": "qEgAALg9AACwTwAACGsAAHRAAABcXQAAdHIAALhWAABsOQAAVD0AAHxgAACorAAAXMEAALBPAADsRQAAsDYAALBPAAB4aQAACFIAAOBgAACoYQAApDgAAKhhAADYWQAA4GAAAOBgAABUVgAAaFsAAKhhAADoZwAAOEoAAPQzAABAOAAA3DcAAJg6AADISwAA+CoAAPgqAACQGgAA+CoAACwaAAAsGgAAXBIAAGQZAADIGQAA2A4AADwPAADoAwAA5CUAADgYAABQRgAAuD0AANweAAA4GAAAfBUAABwlAACQGgAAOBgAADgYAAA4GAAAcBcAANRJAAB4aQAA"
         },
         "type": "scatter",
         "mode": "markers+lines",
         "visible": false
        },
        {
         "line": {
          "color": "#bc5090",
          "width": 4
         },
         "opacity": 0.8,
         "y": {
          "dtype": "i4",
          "bdata": "+CoAAOAuAADgLgAAQB8AAEAfAABYGwAAECcAAEAfAAA0OgAA4C4AAAhSAAC4iAAAZBkAAFgbAADgLgAAsDYAAJg6AACYOgAATB0AAEAfAACUEQAArA0AAEAfAABAHwAAiBMAAKAPAADAEgAA4C4AALA2AABYGwAAmDoAALgLAACYOgAAuAsAAHAXAAC4CwAATB0AAPwIAADECQAATB0AAGQZAABwFwAAcBcAAEwdAABkGQAAcBcAAJQRAADQBwAAuAsAAHAXAABkGQAAuAsAAHAXAAC4CwAA8AoAAKAPAACUEQAAcBcAAKwNAAAoIwAAQB8AAJQRAADIMgAArA0AAKwNAADIMgAAxAkAAMQJAACsDQAArA0AAHAXAAC4CwAAfBUAAFgbAABwFwAAiBMAAFgbAACIEwAAxAkAALgLAACUEQAAuAsAAIAMAAC4CwAA4C4AALgLAACIEwAAiBMAAHAXAAC4CwAA0AcAAHAXAAC4CwAAHCUAAMQJAABkGQAA0AcAAKwNAABwFwAAxAkAALgLAACsDQAArA0AAJQRAACUEQAAuAsAAJQRAAAEKQAABCkAAIgTAADECQAAxAkAAIgTAADECQAAlBEAAKwNAAC4CwAA6AMAAMQJAADECQAAxAkAAAQpAAAEKQAAuAsAAMQJAACUEQAA6AMAAOgDAADECQAA0AcAANAHAADcBQAA3AUAANwFAADcBQAA3AUAANwFAADoAwAAoA8AAOgDAADoAwAArA0AAKwNAACYOgAAlBEAAJQRAADYWQAA"
         },
         "type": "scatter",
         "mode": "markers+lines"
        },
        {
         "line": {
          "color": "#ffa600",
          "width": 4
         },
         "opacity": 0.8,
         "y": {
          "dtype": "i4",
          "bdata": "uCQAANgnAABAKQAAIBwAAEAfAABYGwAAECcAACAcAACENQAA4C4AALxNAAC4iAAAZBkAAFgbAACsJgAALDMAAMArAACcMQAAXhoAAEAfAACUEQAArA0AAJAaAACoFgAAXBIAAKAPAABcEgAAgCUAAAQpAAA4GAAATB0AALgLAABMHQAAuAsAAHAXAACMCgAAWBsAANAHAADECQAAWBsAANQXAADgFQAA4BUAAEwdAABkGQAAGBUAADARAADQBwAAjAoAABgVAADUFwAAjAoAAOAVAACMCgAA8AoAANgOAACUEQAAGBUAAKwNAACkHwAAIBwAAJQRAABQLQAAVAsAAEgNAABQLQAAxAkAAJgIAACsDQAASA0AAHAXAAC4CwAABBAAAJwYAAAYFQAAXBIAAJwYAACIEwAAxAkAAFQLAACUEQAAVAsAABwMAAC4CwAAMCoAALgLAAAkEwAAmhAAAHAXAABUCwAA0AcAAOAVAABUCwAAxCIAAMQJAADUFwAA0AcAAEgNAADgFQAAxAkAAFQLAABUCwAAgAwAAJgIAACYCAAAuAsAAJgIAACkHwAApB8AAGgQAAD8CAAAyggAAGgQAAD8CAAA2A4AAEgNAAC4CwAA6AMAAMQJAAD8CAAAyggAAKQfAACkHwAA8AoAAPwIAACgDwAA6AMAAOgDAADECQAA0AcAAAgHAADcBQAA3AUAANwFAADcBQAA3AUAANwFAADoAwAA5AwAAOgDAADoAwAAjAoAAIwKAADgLgAAoA8AAKAPAAAwQwAA"
         },
         "type": "scatter",
         "mode": "markers+lines"
        }
       ],
       "layout": {
        "template": {
         "data": {
          "histogram2dcontour": [
           {
            "type": "histogram2dcontour",
            "colorbar": {
             "outlinewidth": 0,
             "ticks": ""
            },
            "colorscale": [
             [
              0.0,
              "#0d0887"
             ],
             [
              0.1111111111111111,
              "#46039f"
             ],
             [
              0.2222222222222222,
              "#7201a8"
             ],
             [
              0.3333333333333333,
              "#9c179e"
             ],
             [
              0.4444444444444444,
              "#bd3786"
             ],
             [
              0.5555555555555556,
              "#d8576b"
             ],
             [
              0.6666666666666666,
              "#ed7953"
             ],
             [
              0.7777777777777778,
              "#fb9f3a"
             ],
             [
              0.8888888888888888,
              "#fdca26"
             ],
             [
              1.0,
              "#f0f921"
             ]
            ]
           }
          ],
          "choropleth": [
           {
            "type": "choropleth",
            "colorbar": {
             "outlinewidth": 0,
             "ticks": ""
            }
           }
          ],
          "histogram2d": [
           {
            "type": "histogram2d",
            "colorbar": {
             "outlinewidth": 0,
             "ticks": ""
            },
            "colorscale": [
             [
              0.0,
              "#0d0887"
             ],
             [
              0.1111111111111111,
              "#46039f"
             ],
             [
              0.2222222222222222,
              "#7201a8"
             ],
             [
              0.3333333333333333,
              "#9c179e"
             ],
             [
              0.4444444444444444,
              "#bd3786"
             ],
             [
              0.5555555555555556,
              "#d8576b"
             ],
             [
              0.6666666666666666,
              "#ed7953"
             ],
             [
              0.7777777777777778,
              "#fb9f3a"
             ],
             [
              0.8888888888888888,
              "#fdca26"
             ],
             [
              1.0,
              "#f0f921"
             ]
            ]
           }
          ],
          "heatmap": [
           {
            "type": "heatmap",
            "colorbar": {
             "outlinewidth": 0,
             "ticks": ""
            },
            "colorscale": [
             [
              0.0,
              "#0d0887"
             ],
             [
              0.1111111111111111,
              "#46039f"
             ],
             [
              0.2222222222222222,
              "#7201a8"
             ],
             [
              0.3333333333333333,
              "#9c179e"
             ],
             [
              0.4444444444444444,
              "#bd3786"
             ],
             [
              0.5555555555555556,
              "#d8576b"
             ],
             [
              0.6666666666666666,
              "#ed7953"
             ],
             [
              0.7777777777777778,
              "#fb9f3a"
             ],
             [
              0.8888888888888888,
              "#fdca26"
             ],
             [
              1.0,
              "#f0f921"
             ]
            ]
           }
          ],
          "contourcarpet": [
           {
            "type": "contourcarpet",
            "colorbar": {
             "outlinewidth": 0,
             "ticks": ""
            }
           }
          ],
          "contour": [
           {
            "type": "contour",
            "colorbar": {
             "outlinewidth": 0,
             "ticks": ""
            },
            "colorscale": [
             [
              0.0,
              "#0d0887"
             ],
             [
              0.1111111111111111,
              "#46039f"
             ],
             [
              0.2222222222222222,
              "#7201a8"
             ],
             [
              0.3333333333333333,
              "#9c179e"
             ],
             [
              0.4444444444444444,
              "#bd3786"
             ],
             [
              0.5555555555555556,
              "#d8576b"
             ],
             [
              0.6666666666666666,
              "#ed7953"
             ],
             [
              0.7777777777777778,
              "#fb9f3a"
             ],
             [
              0.8888888888888888,
              "#fdca26"
             ],
             [
              1.0,
              "#f0f921"
             ]
            ]
           }
          ],
          "surface": [
           {
            "type": "surface",
            "colorbar": {
             "outlinewidth": 0,
             "ticks": ""
            },
            "colorscale": [
             [
              0.0,
              "#0d0887"
             ],
             [
              0.1111111111111111,
              "#46039f"
             ],
             [
              0.2222222222222222,
              "#7201a8"
             ],
             [
              0.3333333333333333,
              "#9c179e"
             ],
             [
              0.4444444444444444,
              "#bd3786"
             ],
             [
              0.5555555555555556,
              "#d8576b"
             ],
             [
              0.6666666666666666,
              "#ed7953"
             ],
             [
              0.7777777777777778,
              "#fb9f3a"
             ],
             [
              0.8888888888888888,
              "#fdca26"
             ],
             [
              1.0,
              "#f0f921"
             ]
            ]
           }
          ],
          "mesh3d": [
           {
            "type": "mesh3d",
            "colorbar": {
             "outlinewidth": 0,
             "ticks": ""
            }
           }
          ],
          "scatter": [
           {
            "marker": {
             "line": {
              "color": "#283442"
             }
            },
            "type": "scatter"
           }
          ],
          "parcoords": [
           {
            "type": "parcoords",
            "line": {
             "colorbar": {
              "outlinewidth": 0,
              "ticks": ""
             }
            }
           }
          ],
          "scatterpolargl": [
           {
            "type": "scatterpolargl",
            "marker": {
             "colorbar": {
              "outlinewidth": 0,
              "ticks": ""
             }
            }
           }
          ],
          "bar": [
           {
            "error_x": {
             "color": "#f2f5fa"
            },
            "error_y": {
             "color": "#f2f5fa"
            },
            "marker": {
             "line": {
              "color": "rgb(17,17,17)",
              "width": 0.5
             },
             "pattern": {
              "fillmode": "overlay",
              "size": 10,
              "solidity": 0.2
             }
            },
            "type": "bar"
           }
          ],
          "scattergeo": [
           {
            "type": "scattergeo",
            "marker": {
             "colorbar": {
              "outlinewidth": 0,
              "ticks": ""
             }
            }
           }
          ],
          "scatterpolar": [
           {
            "type": "scatterpolar",
            "marker": {
             "colorbar": {
              "outlinewidth": 0,
              "ticks": ""
             }
            }
           }
          ],
          "histogram": [
           {
            "marker": {
             "pattern": {
              "fillmode": "overlay",
              "size": 10,
              "solidity": 0.2
             }
            },
            "type": "histogram"
           }
          ],
          "scattergl": [
           {
            "marker": {
             "line": {
              "color": "#283442"
             }
            },
            "type": "scattergl"
           }
          ],
          "scatter3d": [
           {
            "type": "scatter3d",
            "line": {
             "colorbar": {
              "outlinewidth": 0,
              "ticks": ""
             }
            },
            "marker": {
             "colorbar": {
              "outlinewidth": 0,
              "ticks": ""
             }
            }
           }
          ],
          "scattermap": [
           {
            "type": "scattermap",
            "marker": {
             "colorbar": {
              "outlinewidth": 0,
              "ticks": ""
             }
            }
           }
          ],
          "scattermapbox": [
           {
            "type": "scattermapbox",
            "marker": {
             "colorbar": {
              "outlinewidth": 0,
              "ticks": ""
             }
            }
           }
          ],
          "scatterternary": [
           {
            "type": "scatterternary",
            "marker": {
             "colorbar": {
              "outlinewidth": 0,
              "ticks": ""
             }
            }
           }
          ],
          "scattercarpet": [
           {
            "type": "scattercarpet",
            "marker": {
             "colorbar": {
              "outlinewidth": 0,
              "ticks": ""
             }
            }
           }
          ],
          "carpet": [
           {
            "aaxis": {
             "endlinecolor": "#A2B1C6",
             "gridcolor": "#506784",
             "linecolor": "#506784",
             "minorgridcolor": "#506784",
             "startlinecolor": "#A2B1C6"
            },
            "baxis": {
             "endlinecolor": "#A2B1C6",
             "gridcolor": "#506784",
             "linecolor": "#506784",
             "minorgridcolor": "#506784",
             "startlinecolor": "#A2B1C6"
            },
            "type": "carpet"
           }
          ],
          "table": [
           {
            "cells": {
             "fill": {
              "color": "#506784"
             },
             "line": {
              "color": "rgb(17,17,17)"
             }
            },
            "header": {
             "fill": {
              "color": "#2a3f5f"
             },
             "line": {
              "color": "rgb(17,17,17)"
             }
            },
            "type": "table"
           }
          ],
          "barpolar": [
           {
            "marker": {
             "line": {
              "color": "rgb(17,17,17)",
              "width": 0.5
             },
             "pattern": {
              "fillmode": "overlay",
              "size": 10,
              "solidity": 0.2
             }
            },
            "type": "barpolar"
           }
          ],
          "pie": [
           {
            "automargin": true,
            "type": "pie"
           }
          ]
         },
         "layout": {
          "autotypenumbers": "strict",
          "colorway": [
           "#636efa",
           "#EF553B",
           "#00cc96",
           "#ab63fa",
           "#FFA15A",
           "#19d3f3",
           "#FF6692",
           "#B6E880",
           "#FF97FF",
           "#FECB52"
          ],
          "font": {
           "color": "#f2f5fa"
          },
          "hovermode": "closest",
          "hoverlabel": {
           "align": "left"
          },
          "paper_bgcolor": "rgb(17,17,17)",
          "plot_bgcolor": "rgb(17,17,17)",
          "polar": {
           "bgcolor": "rgb(17,17,17)",
           "angularaxis": {
            "gridcolor": "#506784",
            "linecolor": "#506784",
            "ticks": ""
           },
           "radialaxis": {
            "gridcolor": "#506784",
            "linecolor": "#506784",
            "ticks": ""
           }
          },
          "ternary": {
           "bgcolor": "rgb(17,17,17)",
           "aaxis": {
            "gridcolor": "#506784",
            "linecolor": "#506784",
            "ticks": ""
           },
           "baxis": {
            "gridcolor": "#506784",
            "linecolor": "#506784",
            "ticks": ""
           },
           "caxis": {
            "gridcolor": "#506784",
            "linecolor": "#506784",
            "ticks": ""
           }
          },
          "coloraxis": {
           "colorbar": {
            "outlinewidth": 0,
            "ticks": ""
           }
          },
          "colorscale": {
           "sequential": [
            [
             0.0,
             "#0d0887"
            ],
            [
             0.1111111111111111,
             "#46039f"
            ],
            [
             0.2222222222222222,
             "#7201a8"
            ],
            [
             0.3333333333333333,
             "#9c179e"
            ],
            [
             0.4444444444444444,
             "#bd3786"
            ],
            [
             0.5555555555555556,
             "#d8576b"
            ],
            [
             0.6666666666666666,
             "#ed7953"
            ],
            [
             0.7777777777777778,
             "#fb9f3a"
            ],
            [
             0.8888888888888888,
             "#fdca26"
            ],
            [
             1.0,
             "#f0f921"
            ]
           ],
           "sequentialminus": [
            [
             0.0,
             "#0d0887"
            ],
            [
             0.1111111111111111,
             "#46039f"
            ],
            [
             0.2222222222222222,
             "#7201a8"
            ],
            [
             0.3333333333333333,
             "#9c179e"
            ],
            [
             0.4444444444444444,
             "#bd3786"
            ],
            [
             0.5555555555555556,
             "#d8576b"
            ],
            [
             0.6666666666666666,
             "#ed7953"
            ],
            [
             0.7777777777777778,
             "#fb9f3a"
            ],
            [
             0.8888888888888888,
             "#fdca26"
            ],
            [
             1.0,
             "#f0f921"
            ]
           ],
           "diverging": [
            [
             0,
             "#8e0152"
            ],
            [
             0.1,
             "#c51b7d"
            ],
            [
             0.2,
             "#de77ae"
            ],
            [
             0.3,
             "#f1b6da"
            ],
            [
             0.4,
             "#fde0ef"
            ],
            [
             0.5,
             "#f7f7f7"
            ],
            [
             0.6,
             "#e6f5d0"
            ],
            [
             0.7,
             "#b8e186"
            ],
            [
             0.8,
             "#7fbc41"
            ],
            [
             0.9,
             "#4d9221"
            ],
            [
             1,
             "#276419"
            ]
           ]
          },
          "xaxis": {
           "gridcolor": "#283442",
           "linecolor": "#506784",
           "ticks": "",
           "title": {
            "standoff": 15
           },
           "zerolinecolor": "#283442",
           "automargin": true,
           "zerolinewidth": 2
          },
          "yaxis": {
           "gridcolor": "#283442",
           "linecolor": "#506784",
           "ticks": "",
           "title": {
            "standoff": 15
           },
           "zerolinecolor": "#283442",
           "automargin": true,
           "zerolinewidth": 2
          },
          "scene": {
           "xaxis": {
            "backgroundcolor": "rgb(17,17,17)",
            "gridcolor": "#506784",
            "linecolor": "#506784",
            "showbackground": true,
            "ticks": "",
            "zerolinecolor": "#C8D4E3",
            "gridwidth": 2
           },
           "yaxis": {
            "backgroundcolor": "rgb(17,17,17)",
            "gridcolor": "#506784",
            "linecolor": "#506784",
            "showbackground": true,
            "ticks": "",
            "zerolinecolor": "#C8D4E3",
            "gridwidth": 2
           },
           "zaxis": {
            "backgroundcolor": "rgb(17,17,17)",
            "gridcolor": "#506784",
            "linecolor": "#506784",
            "showbackground": true,
            "ticks": "",
            "zerolinecolor": "#C8D4E3",
            "gridwidth": 2
           }
          },
          "shapedefaults": {
           "line": {
            "color": "#f2f5fa"
           }
          },
          "annotationdefaults": {
           "arrowcolor": "#f2f5fa",
           "arrowhead": 0,
           "arrowwidth": 1
          },
          "geo": {
           "bgcolor": "rgb(17,17,17)",
           "landcolor": "rgb(17,17,17)",
           "subunitcolor": "#506784",
           "showland": true,
           "showlakes": true,
           "lakecolor": "rgb(17,17,17)"
          },
          "title": {
           "x": 0.05
          },
          "updatemenudefaults": {
           "bgcolor": "#506784",
           "borderwidth": 0
          },
          "sliderdefaults": {
           "bgcolor": "#C8D4E3",
           "borderwidth": 1,
           "bordercolor": "rgb(17,17,17)",
           "tickwidth": 0
          },
          "mapbox": {
           "style": "dark"
          }
         }
        },
        "xaxis": {
         "anchor": "y",
         "domain": [
          0.0,
          0.45
         ]
        },
        "yaxis": {
         "anchor": "x",
         "domain": [
          0.0,
          1.0
         ]
        },
        "xaxis2": {
         "anchor": "y2",
         "domain": [
          0.55,
          1.0
         ]
        },
        "yaxis2": {
         "anchor": "x2",
         "domain": [
          0.0,
          1.0
         ]
        },
        "width": 2800,
        "autosize": true,
        "hovermode": "x"
       },
       "config": {
        "plotlyServerURL": "https://plot.ly"
       }
      }
     },
     "metadata": {},
     "output_type": "display_data"
    },
    {
     "name": "stdout",
     "output_type": "stream",
     "text": [
      "Personal Care with count -  344\n"
     ]
    },
    {
     "data": {
      "application/vnd.plotly.v1+json": {
       "data": [
        {
         "line": {
          "color": "#bc5090",
          "width": 4
         },
         "opacity": 0.8,
         "y": {
          "dtype": "i2",
          "bdata": "EA4YFXAXKApABmwHGBX8CNAHaBDYDlQLbAe4C3AXxAnECfwIuAtsB3gF5AwIB0wEdA7QB6gWrA2sDYAMgAy4C7gLCAdoEAgH+BEUBawNBBCkBrgLxCKsDawNTB14BfwIbAdMBNAHTASoFqQG0AfQBxQFuAtUC6gWCCB4NxgV1El4NyRFkBoQJwggGC5oKVgbGBUQDrgLxAnsExAOKArcBWgQaBCsDagWKApYGxgVbAe4JPgqJEWwBIA+"
         },
         "type": "scatter",
         "mode": "markers+lines",
         "visible": false
        },
        {
         "line": {
          "color": "#ffa600",
          "width": 4
         },
         "opacity": 0.8,
         "y": {
          "dtype": "i2",
          "bdata": "uAuUEUQWNAgUBdwFlBFsB6QGrA2ADGAJQAbECYgTNAg0CGwHxAlABrAE8ArcBYQDHAykBiQTVAtUC4wKjArECcQJ3AWsDdwFPA9MBFQLPA8UBcQJTB1UC1QLnBiwBGwHQAaEA6QGhAMkE3gFpAakBkwExAlgCSQT9Bp8LpQRHD58LjQ6RBbQIPQarCbEIgwXlBG4C8QJNAjMELgLmAgUBawNrA1UCyQTmAgMF5QRQAbcHgQpNDroA2A7"
         },
         "type": "scatter",
         "mode": "markers+lines",
         "visible": false
        },
        {
         "line": {
          "color": "#bc5090",
          "width": 4
         },
         "opacity": 0.8,
         "y": {
          "dtype": "i4",
          "bdata": "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"
         },
         "type": "scatter",
         "mode": "markers+lines",
         "visible": false
        },
        {
         "line": {
          "color": "#ffa600",
          "width": 4
         },
         "opacity": 0.8,
         "y": {
          "dtype": "i4",
          "bdata": "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"
         },
         "type": "scatter",
         "mode": "markers+lines",
         "visible": false
        },
        {
         "line": {
          "color": "#bc5090",
          "width": 4
         },
         "opacity": 0.8,
         "y": {
          "dtype": "i4",
          "bdata": "oIwAAMQJAAAcDAAAtF8AALRfAAD4KgAAtF8AAGAiAADMWwAAoA8AAJQRAABoEAAAcBcAAHwVAACsDQAAuAsAAFgbAAAgTgAAeB4AAAhSAABEYQAAmDoAAKAPAAB4HgAAZBkAAERhAACYOgAABEIAALgLAAB0WQAABEIAAOQMAADMWwAAREgAAPxTAADMWwAA/FMAAKwNAACYCAAAnBgAAMQJAAC4CwAA4BUAAJg6AABsawAApDgAAIw8AABwFwAAGBUAAEwdAABYGwAAbGsAAKwmAACwNgAAoA8AAEwdAACUKgAAqC8AAGgpAAAEKQAATB0AAGgpAAA0IQAArA0AAMQiAAA8cwAAuAsAAEAfAAA0IQAANCEAABAnAACwHQAA1DAAANQwAACgDwAA1DAAAJg6AAA8cwAAvE0AALA2AACsJgAAvE0AAKyKAABsawAApDgAAKwmAACoYQAA+CoAADQhAACsJgAArCYAABAnAAC4CwAABEIAALgLAAAQJwAA+CoAAKQGAACIEwAAGBUAALwbAADEhgAA0AcAAKAPAADcBQAAECcAAAgHAAAMFwAAlBEAALgLAADkJQAAOBgAACAcAAAgHAAATB0AAOAuAAAgHAAANCEAAGQZAAD4KgAAIBwAADB1AAD0TAAAQB8AAMxbAABwlAAAyBkAAEwdAADEIgAA"
         },
         "type": "scatter",
         "mode": "markers+lines",
         "visible": false
        },
        {
         "line": {
          "color": "#ffa600",
          "width": 4
         },
         "opacity": 0.8,
         "y": {
          "dtype": "i4",
          "bdata": "PIwAAMQJAAAcDAAAwF0AAMBdAAAEKQAA+FwAAJghAACgWgAAoA8AAJQRAABoEAAAcBcAAHwVAABIDQAAuAsAAJAaAAAgTgAATB0AAAhSAACUXAAA3DcAAKAPAABMHQAAZBkAAERhAACYOgAABEIAAFQLAAB4UAAA8DwAAOQMAAD4QwAA0DkAAMhLAABwSQAAMEMAAKwNAACYCAAAnBgAAGAJAAC4CwAAGBUAAJg6AACENQAApDgAAIw8AABEFgAA7BMAAEwdAABYGwAAhDUAALgkAAD0MwAAoA8AACAcAACgKAAA4C4AAGgpAACsJgAAhBwAAHQnAAAIIAAASA0AAKQfAABsOQAAuAsAAEAfAAAIIAAANCEAAKwmAACEHAAAfC4AABguAACgDwAAGC4AAJg6AABsOQAA1EkAAPQzAAC4JAAA1EkAACRFAACENQAAhDUAALgkAADUMAAA+CoAAEAfAAC4JAAAYCIAABwlAAC4CwAA5D4AALgLAAAcJQAA+CoAAKQGAAAkEwAAGBUAAFgbAACUXAAA0AcAADwPAADcBQAAHCUAAKQGAABEFgAAlBEAALgLAADkJQAAOBgAADgYAABwFwAAOBgAAJAaAAA4GAAA3B4AAHwVAAAcJQAAOBgAALxNAACcSgAAkBoAAMxCAABQkQAAABkAAEwdAADEIgAA"
         },
         "type": "scatter",
         "mode": "markers+lines",
         "visible": false
        },
        {
         "line": {
          "color": "#bc5090",
          "width": 4
         },
         "opacity": 0.8,
         "y": {
          "dtype": "i4",
          "bdata": "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"
         },
         "type": "scatter",
         "mode": "markers+lines",
         "visible": false
        },
        {
         "line": {
          "color": "#ffa600",
          "width": 4
         },
         "opacity": 0.8,
         "y": {
          "dtype": "i4",
          "bdata": "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"
         },
         "type": "scatter",
         "mode": "markers+lines",
         "visible": false
        },
        {
         "line": {
          "color": "#bc5090",
          "width": 4
         },
         "opacity": 0.8,
         "y": {
          "dtype": "i4",
          "bdata": "RGEAAFxEAAD8UwAAnHwAAHRAAACEZwAA9H4AAPRlAAAsZQAAdEAAAISAAACktQAALMkAAEhxAABEYQAAsDYAAPxTAAB4aQAACFIAAGxrAACoYQAApDgAAKhhAACcYwAAbGsAAGxrAAC0XwAAkGUAAKhhAAA8cwAAOEoAAKQ4AACAPgAAmDoAAJg6AAAUUAAA8FUAAPBVAABMHQAA8FUAAOgcAADoHAAAwBIAAFgbAADIGQAAPA8AAKAPAADoAwAA5CUAADgYAAAgTgAAXEQAADQhAAAgHAAAZBkAAPgqAADgLgAAIBwAACAcAABMHQAAIBwAAAhSAAAwdQAA"
         },
         "type": "scatter",
         "mode": "markers+lines",
         "visible": false
        },
        {
         "line": {
          "color": "#ffa600",
          "width": 4
         },
         "opacity": 0.8,
         "y": {
          "dtype": "i4",
          "bdata": "qEgAALg9AACwTwAACGsAAHRAAABcXQAAdHIAALhWAABsOQAAVD0AAHxgAACorAAAXMEAALBPAADsRQAAsDYAALBPAAB4aQAACFIAAOBgAACoYQAApDgAAKhhAADYWQAA4GAAAOBgAABUVgAAaFsAAKhhAADoZwAAOEoAAPQzAABAOAAA3DcAAJg6AADISwAA+CoAAPgqAACQGgAA+CoAACwaAAAsGgAAXBIAAGQZAADIGQAA2A4AADwPAADoAwAA5CUAADgYAABQRgAAuD0AANweAAA4GAAAfBUAABwlAACQGgAAOBgAADgYAAA4GAAAcBcAANRJAAB4aQAA"
         },
         "type": "scatter",
         "mode": "markers+lines",
         "visible": false
        },
        {
         "line": {
          "color": "#bc5090",
          "width": 4
         },
         "opacity": 0.8,
         "y": {
          "dtype": "i4",
          "bdata": "+CoAAOAuAADgLgAAQB8AAEAfAABYGwAAECcAAEAfAAA0OgAA4C4AAAhSAAC4iAAAZBkAAFgbAADgLgAAsDYAAJg6AACYOgAATB0AAEAfAACUEQAArA0AAEAfAABAHwAAiBMAAKAPAADAEgAA4C4AALA2AABYGwAAmDoAALgLAACYOgAAuAsAAHAXAAC4CwAATB0AAPwIAADECQAATB0AAGQZAABwFwAAcBcAAEwdAABkGQAAcBcAAJQRAADQBwAAuAsAAHAXAABkGQAAuAsAAHAXAAC4CwAA8AoAAKAPAACUEQAAcBcAAKwNAAAoIwAAQB8AAJQRAADIMgAArA0AAKwNAADIMgAAxAkAAMQJAACsDQAArA0AAHAXAAC4CwAAfBUAAFgbAABwFwAAiBMAAFgbAACIEwAAxAkAALgLAACUEQAAuAsAAIAMAAC4CwAA4C4AALgLAACIEwAAiBMAAHAXAAC4CwAA0AcAAHAXAAC4CwAAHCUAAMQJAABkGQAA0AcAAKwNAABwFwAAxAkAALgLAACsDQAArA0AAJQRAACUEQAAuAsAAJQRAAAEKQAABCkAAIgTAADECQAAxAkAAIgTAADECQAAlBEAAKwNAAC4CwAA6AMAAMQJAADECQAAxAkAAAQpAAAEKQAAuAsAAMQJAACUEQAA6AMAAOgDAADECQAA0AcAANAHAADcBQAA3AUAANwFAADcBQAA3AUAANwFAADoAwAAoA8AAOgDAADoAwAArA0AAKwNAACYOgAAlBEAAJQRAADYWQAA"
         },
         "type": "scatter",
         "mode": "markers+lines",
         "visible": false
        },
        {
         "line": {
          "color": "#ffa600",
          "width": 4
         },
         "opacity": 0.8,
         "y": {
          "dtype": "i4",
          "bdata": "uCQAANgnAABAKQAAIBwAAEAfAABYGwAAECcAACAcAACENQAA4C4AALxNAAC4iAAAZBkAAFgbAACsJgAALDMAAMArAACcMQAAXhoAAEAfAACUEQAArA0AAJAaAACoFgAAXBIAAKAPAABcEgAAgCUAAAQpAAA4GAAATB0AALgLAABMHQAAuAsAAHAXAACMCgAAWBsAANAHAADECQAAWBsAANQXAADgFQAA4BUAAEwdAABkGQAAGBUAADARAADQBwAAjAoAABgVAADUFwAAjAoAAOAVAACMCgAA8AoAANgOAACUEQAAGBUAAKwNAACkHwAAIBwAAJQRAABQLQAAVAsAAEgNAABQLQAAxAkAAJgIAACsDQAASA0AAHAXAAC4CwAABBAAAJwYAAAYFQAAXBIAAJwYAACIEwAAxAkAAFQLAACUEQAAVAsAABwMAAC4CwAAMCoAALgLAAAkEwAAmhAAAHAXAABUCwAA0AcAAOAVAABUCwAAxCIAAMQJAADUFwAA0AcAAEgNAADgFQAAxAkAAFQLAABUCwAAgAwAAJgIAACYCAAAuAsAAJgIAACkHwAApB8AAGgQAAD8CAAAyggAAGgQAAD8CAAA2A4AAEgNAAC4CwAA6AMAAMQJAAD8CAAAyggAAKQfAACkHwAA8AoAAPwIAACgDwAA6AMAAOgDAADECQAA0AcAAAgHAADcBQAA3AUAANwFAADcBQAA3AUAANwFAADoAwAA5AwAAOgDAADoAwAAjAoAAIwKAADgLgAAoA8AAKAPAAAwQwAA"
         },
         "type": "scatter",
         "mode": "markers+lines",
         "visible": false
        },
        {
         "line": {
          "color": "#bc5090",
          "width": 4
         },
         "opacity": 0.8,
         "y": {
          "dtype": "i4",
          "bdata": "1EkAAKwmAACsJgAAlCoAAJQqAACsJgAAaL8AAMzYAADM2AAA7MIAAPT7AABQRgAAkGUAAJBlAABIcQAAUEYAADQ6AAC8TQAA7CwAAKhhAABUbwAA5FcAAORXAADcmwAAzFsAAFAtAAD0fgAAzFsAAJBlAAAwdQAA/FMAANhZAADcmwAAAH0AAJg6AADYQAAAwEQAAMBEAAC8TQAAgD4AAIRnAAAobgAARGEAADxzAAB8kgAAfJIAACBnAADAXQAAwF0AAFRvAABgbQAA5FcAAJSOAABwlAAAiEUAALBoAAAMMAAAeGkAAIA+AADcmwAAGEcAACBOAACYOgAAvE0AALA2AACYOgAARGEAAEAfAAC8TQAAmDoAALxNAAC8TQAA5FcAAORXAACYOgAArCYAAJg6AADkVwAAtHgAAKwmAAC8TQAAVG8AAHRAAAC8TQAAiCwAABh5AAA0IQAAzHQAABAnAAAcJQAAECcAADhKAADIMgAA3JsAAGhCAADEIgAA3B4AAPQaAACwNgAAvBsAACBOAADIMgAAUEYAAHRAAACwNgAA+CoAAHRAAADIMgAAYOoAAKwmAAC8TQAATB0AADhKAABsawAATB0AADQhAAAYeQAA5FcAANw3AAC8TQAAvE0AALxNAACkUQAANDoAALxNAAC8TQAAvDQAAAhSAADwVQAACCAAAJg6AACYOgAALEwAAGhCAACMPAAAuD0AAOAuAAB8kgAA4C4AAOAuAACENQAAOEoAAGAiAAC8TQAA4C4AAAQpAAA4SgAAMPIAADDyAAAw8gAA2NYAADDyAACwNgAA2NYAANjWAAAoIwAARGEAAKhhAAAIUgAA5FcAALxNAAAsTAAAvE0AAHQnAAAoIwAABCkAADhKAAAsTAAALEwAANybAACoYQAAUEYAACxMAAAsTAAAqBYAACxMAAAIUgAAvE0AAGhCAACIEwAAWBsAALgLAAC8TQAATB0AAMxbAAAIUgAA2FkAACBOAACoYQAA+CoAACBOAABMHQAAIE4AAMASAADgLgAANFMAAKgWAADAqAAAECcAAOwsAADQIAAAUEYAAHAXAAAoIwAArCYAAPxTAABAHwAA1DAAAJg6AACMPAAAWBsAABAnAABESAAAsDYAAFSIAACoYQAApDgAAERhAABESAAAREgAAHwVAAC0XwAALBoAAKQ4AABQRgAASCYAAFxEAADsLAAATB0AAFxEAADY1gAA2NYAABRdAgDIMgAAiBMAADhKAABUJAAAVCQAACgjAACAPgAAKCMAAHwVAABMHQAA1DAAAKwNAADsLAAATK0BALRfAAAgTgAATB0AAEwdAACwNgAANCEAADQhAADM2AAAQB8AAORXAABMrQEAyDIAANweAADECQAAvDQAAAwRAQDIMgAAvDQAAAwRAQA0OgAAvDQAAIgTAABkrwAATK0BAGQZAABMHQAAZBkAAOiAAACoYQAADHsAAPzpAADMdAAA0IQAAAggAADcmwAATB0AABAnAAAAfQAAZBkAAJSnAACgjAAAVAsAACgjAADMWwAA7CwAAPQzAADECQAAuAsAALgLAABAHwAAKCMAANweAAC4CwAA5AwAAAQpAADMWwAA6AMAAIw8AABcRAAAREgAAFxEAAB8FQAABKYAAIAMAAC4CwAAKCMAALgLAAAoIwAAaBAAALgLAADgLgAAYCIAAJg6AADswgAAhP0AAKwmAADgLgAArCYAAEgmAABESAAAgD4AAKwmAACwNgAArCYAAFBGAAB8kgAARGEAAJBlAACIEwAARGEAALgLAABUiAAA0AcAAMSGAADQBwAAMHUAADQ6AAA="
         },
         "type": "scatter",
         "mode": "markers+lines"
        },
        {
         "line": {
          "color": "#ffa600",
          "width": 4
         },
         "opacity": 0.8,
         "y": {
          "dtype": "i4",
          "bdata": "1EkAAKwmAAAcJQAABCkAAAQpAACsJgAAXI8AAITLAACEywAAZK8AABDvAABQRgAAfGAAAHxgAAD0ZQAAUEYAADQ6AAC8TQAA+CoAAORXAAC8ZgAA5FcAAAhSAACcfAAAzFsAAFAtAAD0fgAAcEkAADRTAAAgZwAAyEsAAHBJAABshAAAhGcAALA2AABUPQAAuD0AALg9AACoSAAAFDcAAIRnAAAobgAAaFsAAOhnAAAIhAAAeIIAACBnAADAXQAAVFYAAOhnAAAwXAAACFIAAJSOAABwlAAAiEUAAHBiAAAMMAAAdFkAAEA4AACcfAAAKDwAAIA+AAC8NAAAHD4AADgxAADgLgAAvE0AAEwdAACoSAAAvDQAAOxFAACcSgAAUEYAAJhTAAC8NAAAxCIAAOAuAABQRgAAmGwAAMQiAADsRQAAVG8AAHRAAAC8TQAAVCQAALxmAAA0IQAAfGAAABAnAAAcJQAAHCUAAIhFAAB8LgAA3JsAAAg5AAA0IQAA3B4AAPQaAAAAMgAAvBsAACBOAADgLgAAUEYAAKQ4AAA4MQAA+CoAAJg6AACILAAA8NIAAKwmAAC8TQAAkBoAADhKAAB8YAAATB0AADQhAABAagAATE8AANw3AAC8TQAAJEUAALxNAACkUQAANDoAALxNAAC8TQAAvDQAABhHAADwVQAA6BwAAJg6AAAUNwAA+EMAAGhCAACwNgAAbDkAAMArAAB8kgAAwCsAAOAuAAAMMAAAOEoAAGAiAAC8TQAA4C4AAAQpAAA4SgAAMPIAADDyAAAw8gAA2NYAADDyAACwNgAA2NYAANjWAAAoIwAARGEAAKhhAADISwAABEIAALxNAAD4QwAAvE0AABwlAACkHwAABCkAAARCAAD4QwAAwEQAADyMAACoYQAASD8AAPhDAAD4QwAAqBYAAMBEAAAIUgAAHD4AAMQ7AACIEwAAnBgAAFQLAADUSQAATB0AANBSAADISwAA2FkAAFBGAACoYQAArCYAAFBGAABMHQAAUEYAAFwSAAAwKgAAOEoAAHwVAABcjwAA0CAAADwoAADQIAAArD8AAHAXAACkHwAAxCIAACBOAACEHAAAwCsAAJg6AACkOAAAWBsAABAnAABESAAAODEAAKh6AADkVwAALDMAAERhAABUPQAAVD0AAHwVAABUVgAAcBcAACwzAABQRgAASCYAAFQ9AADsLAAAvBsAALg9AADY1gAA2NYAAKRLAQC0LQAAJBMAAEg/AABUJAAAYCIAAKQfAACgKAAA0CAAAIgTAAC8GwAA1DAAAEgNAABoKQAApEsBAFRWAABQRgAAkBoAAEwdAAA4MQAAIBwAANweAADM2AAAQB8AAORXAAAsXwEAyDIAAJAaAADECQAAADIAAHTWAADsLAAAADIAAJzgAABYNAAAADIAAJQRAAAcogAALF8BAKgWAABMHQAAqBYAACx+AADkVwAADHsAANTGAAD8bAAAaHQAAOgcAAAkkAAAZBkAACgjAAAAfQAADBcAADCOAACQfgAAVAsAAPwhAAAoVQAA7CwAAMgyAADECQAAuAsAALgLAAAgHAAAKCMAAOgcAAC4CwAA5AwAAAQpAAAoVQAA6AMAAIw8AABcRAAAREgAAFxEAAB8FQAA0IQAAFQLAAC4CwAAKCMAAFQLAACkHwAABBAAAFQLAADgLgAACCAAAAwwAACwswAAyOEAAKwmAAAwKgAArCYAAEgmAAAEQgAAgD4AAKwmAAB8LgAArCYAAFBGAAB8kgAARGEAAGhbAACIEwAA2FkAAMQJAAD0fgAA0AcAAMSGAADQBwAAbGsAADQ6AAA="
         },
         "type": "scatter",
         "mode": "markers+lines"
        }
       ],
       "layout": {
        "template": {
         "data": {
          "histogram2dcontour": [
           {
            "type": "histogram2dcontour",
            "colorbar": {
             "outlinewidth": 0,
             "ticks": ""
            },
            "colorscale": [
             [
              0.0,
              "#0d0887"
             ],
             [
              0.1111111111111111,
              "#46039f"
             ],
             [
              0.2222222222222222,
              "#7201a8"
             ],
             [
              0.3333333333333333,
              "#9c179e"
             ],
             [
              0.4444444444444444,
              "#bd3786"
             ],
             [
              0.5555555555555556,
              "#d8576b"
             ],
             [
              0.6666666666666666,
              "#ed7953"
             ],
             [
              0.7777777777777778,
              "#fb9f3a"
             ],
             [
              0.8888888888888888,
              "#fdca26"
             ],
             [
              1.0,
              "#f0f921"
             ]
            ]
           }
          ],
          "choropleth": [
           {
            "type": "choropleth",
            "colorbar": {
             "outlinewidth": 0,
             "ticks": ""
            }
           }
          ],
          "histogram2d": [
           {
            "type": "histogram2d",
            "colorbar": {
             "outlinewidth": 0,
             "ticks": ""
            },
            "colorscale": [
             [
              0.0,
              "#0d0887"
             ],
             [
              0.1111111111111111,
              "#46039f"
             ],
             [
              0.2222222222222222,
              "#7201a8"
             ],
             [
              0.3333333333333333,
              "#9c179e"
             ],
             [
              0.4444444444444444,
              "#bd3786"
             ],
             [
              0.5555555555555556,
              "#d8576b"
             ],
             [
              0.6666666666666666,
              "#ed7953"
             ],
             [
              0.7777777777777778,
              "#fb9f3a"
             ],
             [
              0.8888888888888888,
              "#fdca26"
             ],
             [
              1.0,
              "#f0f921"
             ]
            ]
           }
          ],
          "heatmap": [
           {
            "type": "heatmap",
            "colorbar": {
             "outlinewidth": 0,
             "ticks": ""
            },
            "colorscale": [
             [
              0.0,
              "#0d0887"
             ],
             [
              0.1111111111111111,
              "#46039f"
             ],
             [
              0.2222222222222222,
              "#7201a8"
             ],
             [
              0.3333333333333333,
              "#9c179e"
             ],
             [
              0.4444444444444444,
              "#bd3786"
             ],
             [
              0.5555555555555556,
              "#d8576b"
             ],
             [
              0.6666666666666666,
              "#ed7953"
             ],
             [
              0.7777777777777778,
              "#fb9f3a"
             ],
             [
              0.8888888888888888,
              "#fdca26"
             ],
             [
              1.0,
              "#f0f921"
             ]
            ]
           }
          ],
          "contourcarpet": [
           {
            "type": "contourcarpet",
            "colorbar": {
             "outlinewidth": 0,
             "ticks": ""
            }
           }
          ],
          "contour": [
           {
            "type": "contour",
            "colorbar": {
             "outlinewidth": 0,
             "ticks": ""
            },
            "colorscale": [
             [
              0.0,
              "#0d0887"
             ],
             [
              0.1111111111111111,
              "#46039f"
             ],
             [
              0.2222222222222222,
              "#7201a8"
             ],
             [
              0.3333333333333333,
              "#9c179e"
             ],
             [
              0.4444444444444444,
              "#bd3786"
             ],
             [
              0.5555555555555556,
              "#d8576b"
             ],
             [
              0.6666666666666666,
              "#ed7953"
             ],
             [
              0.7777777777777778,
              "#fb9f3a"
             ],
             [
              0.8888888888888888,
              "#fdca26"
             ],
             [
              1.0,
              "#f0f921"
             ]
            ]
           }
          ],
          "surface": [
           {
            "type": "surface",
            "colorbar": {
             "outlinewidth": 0,
             "ticks": ""
            },
            "colorscale": [
             [
              0.0,
              "#0d0887"
             ],
             [
              0.1111111111111111,
              "#46039f"
             ],
             [
              0.2222222222222222,
              "#7201a8"
             ],
             [
              0.3333333333333333,
              "#9c179e"
             ],
             [
              0.4444444444444444,
              "#bd3786"
             ],
             [
              0.5555555555555556,
              "#d8576b"
             ],
             [
              0.6666666666666666,
              "#ed7953"
             ],
             [
              0.7777777777777778,
              "#fb9f3a"
             ],
             [
              0.8888888888888888,
              "#fdca26"
             ],
             [
              1.0,
              "#f0f921"
             ]
            ]
           }
          ],
          "mesh3d": [
           {
            "type": "mesh3d",
            "colorbar": {
             "outlinewidth": 0,
             "ticks": ""
            }
           }
          ],
          "scatter": [
           {
            "marker": {
             "line": {
              "color": "#283442"
             }
            },
            "type": "scatter"
           }
          ],
          "parcoords": [
           {
            "type": "parcoords",
            "line": {
             "colorbar": {
              "outlinewidth": 0,
              "ticks": ""
             }
            }
           }
          ],
          "scatterpolargl": [
           {
            "type": "scatterpolargl",
            "marker": {
             "colorbar": {
              "outlinewidth": 0,
              "ticks": ""
             }
            }
           }
          ],
          "bar": [
           {
            "error_x": {
             "color": "#f2f5fa"
            },
            "error_y": {
             "color": "#f2f5fa"
            },
            "marker": {
             "line": {
              "color": "rgb(17,17,17)",
              "width": 0.5
             },
             "pattern": {
              "fillmode": "overlay",
              "size": 10,
              "solidity": 0.2
             }
            },
            "type": "bar"
           }
          ],
          "scattergeo": [
           {
            "type": "scattergeo",
            "marker": {
             "colorbar": {
              "outlinewidth": 0,
              "ticks": ""
             }
            }
           }
          ],
          "scatterpolar": [
           {
            "type": "scatterpolar",
            "marker": {
             "colorbar": {
              "outlinewidth": 0,
              "ticks": ""
             }
            }
           }
          ],
          "histogram": [
           {
            "marker": {
             "pattern": {
              "fillmode": "overlay",
              "size": 10,
              "solidity": 0.2
             }
            },
            "type": "histogram"
           }
          ],
          "scattergl": [
           {
            "marker": {
             "line": {
              "color": "#283442"
             }
            },
            "type": "scattergl"
           }
          ],
          "scatter3d": [
           {
            "type": "scatter3d",
            "line": {
             "colorbar": {
              "outlinewidth": 0,
              "ticks": ""
             }
            },
            "marker": {
             "colorbar": {
              "outlinewidth": 0,
              "ticks": ""
             }
            }
           }
          ],
          "scattermap": [
           {
            "type": "scattermap",
            "marker": {
             "colorbar": {
              "outlinewidth": 0,
              "ticks": ""
             }
            }
           }
          ],
          "scattermapbox": [
           {
            "type": "scattermapbox",
            "marker": {
             "colorbar": {
              "outlinewidth": 0,
              "ticks": ""
             }
            }
           }
          ],
          "scatterternary": [
           {
            "type": "scatterternary",
            "marker": {
             "colorbar": {
              "outlinewidth": 0,
              "ticks": ""
             }
            }
           }
          ],
          "scattercarpet": [
           {
            "type": "scattercarpet",
            "marker": {
             "colorbar": {
              "outlinewidth": 0,
              "ticks": ""
             }
            }
           }
          ],
          "carpet": [
           {
            "aaxis": {
             "endlinecolor": "#A2B1C6",
             "gridcolor": "#506784",
             "linecolor": "#506784",
             "minorgridcolor": "#506784",
             "startlinecolor": "#A2B1C6"
            },
            "baxis": {
             "endlinecolor": "#A2B1C6",
             "gridcolor": "#506784",
             "linecolor": "#506784",
             "minorgridcolor": "#506784",
             "startlinecolor": "#A2B1C6"
            },
            "type": "carpet"
           }
          ],
          "table": [
           {
            "cells": {
             "fill": {
              "color": "#506784"
             },
             "line": {
              "color": "rgb(17,17,17)"
             }
            },
            "header": {
             "fill": {
              "color": "#2a3f5f"
             },
             "line": {
              "color": "rgb(17,17,17)"
             }
            },
            "type": "table"
           }
          ],
          "barpolar": [
           {
            "marker": {
             "line": {
              "color": "rgb(17,17,17)",
              "width": 0.5
             },
             "pattern": {
              "fillmode": "overlay",
              "size": 10,
              "solidity": 0.2
             }
            },
            "type": "barpolar"
           }
          ],
          "pie": [
           {
            "automargin": true,
            "type": "pie"
           }
          ]
         },
         "layout": {
          "autotypenumbers": "strict",
          "colorway": [
           "#636efa",
           "#EF553B",
           "#00cc96",
           "#ab63fa",
           "#FFA15A",
           "#19d3f3",
           "#FF6692",
           "#B6E880",
           "#FF97FF",
           "#FECB52"
          ],
          "font": {
           "color": "#f2f5fa"
          },
          "hovermode": "closest",
          "hoverlabel": {
           "align": "left"
          },
          "paper_bgcolor": "rgb(17,17,17)",
          "plot_bgcolor": "rgb(17,17,17)",
          "polar": {
           "bgcolor": "rgb(17,17,17)",
           "angularaxis": {
            "gridcolor": "#506784",
            "linecolor": "#506784",
            "ticks": ""
           },
           "radialaxis": {
            "gridcolor": "#506784",
            "linecolor": "#506784",
            "ticks": ""
           }
          },
          "ternary": {
           "bgcolor": "rgb(17,17,17)",
           "aaxis": {
            "gridcolor": "#506784",
            "linecolor": "#506784",
            "ticks": ""
           },
           "baxis": {
            "gridcolor": "#506784",
            "linecolor": "#506784",
            "ticks": ""
           },
           "caxis": {
            "gridcolor": "#506784",
            "linecolor": "#506784",
            "ticks": ""
           }
          },
          "coloraxis": {
           "colorbar": {
            "outlinewidth": 0,
            "ticks": ""
           }
          },
          "colorscale": {
           "sequential": [
            [
             0.0,
             "#0d0887"
            ],
            [
             0.1111111111111111,
             "#46039f"
            ],
            [
             0.2222222222222222,
             "#7201a8"
            ],
            [
             0.3333333333333333,
             "#9c179e"
            ],
            [
             0.4444444444444444,
             "#bd3786"
            ],
            [
             0.5555555555555556,
             "#d8576b"
            ],
            [
             0.6666666666666666,
             "#ed7953"
            ],
            [
             0.7777777777777778,
             "#fb9f3a"
            ],
            [
             0.8888888888888888,
             "#fdca26"
            ],
            [
             1.0,
             "#f0f921"
            ]
           ],
           "sequentialminus": [
            [
             0.0,
             "#0d0887"
            ],
            [
             0.1111111111111111,
             "#46039f"
            ],
            [
             0.2222222222222222,
             "#7201a8"
            ],
            [
             0.3333333333333333,
             "#9c179e"
            ],
            [
             0.4444444444444444,
             "#bd3786"
            ],
            [
             0.5555555555555556,
             "#d8576b"
            ],
            [
             0.6666666666666666,
             "#ed7953"
            ],
            [
             0.7777777777777778,
             "#fb9f3a"
            ],
            [
             0.8888888888888888,
             "#fdca26"
            ],
            [
             1.0,
             "#f0f921"
            ]
           ],
           "diverging": [
            [
             0,
             "#8e0152"
            ],
            [
             0.1,
             "#c51b7d"
            ],
            [
             0.2,
             "#de77ae"
            ],
            [
             0.3,
             "#f1b6da"
            ],
            [
             0.4,
             "#fde0ef"
            ],
            [
             0.5,
             "#f7f7f7"
            ],
            [
             0.6,
             "#e6f5d0"
            ],
            [
             0.7,
             "#b8e186"
            ],
            [
             0.8,
             "#7fbc41"
            ],
            [
             0.9,
             "#4d9221"
            ],
            [
             1,
             "#276419"
            ]
           ]
          },
          "xaxis": {
           "gridcolor": "#283442",
           "linecolor": "#506784",
           "ticks": "",
           "title": {
            "standoff": 15
           },
           "zerolinecolor": "#283442",
           "automargin": true,
           "zerolinewidth": 2
          },
          "yaxis": {
           "gridcolor": "#283442",
           "linecolor": "#506784",
           "ticks": "",
           "title": {
            "standoff": 15
           },
           "zerolinecolor": "#283442",
           "automargin": true,
           "zerolinewidth": 2
          },
          "scene": {
           "xaxis": {
            "backgroundcolor": "rgb(17,17,17)",
            "gridcolor": "#506784",
            "linecolor": "#506784",
            "showbackground": true,
            "ticks": "",
            "zerolinecolor": "#C8D4E3",
            "gridwidth": 2
           },
           "yaxis": {
            "backgroundcolor": "rgb(17,17,17)",
            "gridcolor": "#506784",
            "linecolor": "#506784",
            "showbackground": true,
            "ticks": "",
            "zerolinecolor": "#C8D4E3",
            "gridwidth": 2
           },
           "zaxis": {
            "backgroundcolor": "rgb(17,17,17)",
            "gridcolor": "#506784",
            "linecolor": "#506784",
            "showbackground": true,
            "ticks": "",
            "zerolinecolor": "#C8D4E3",
            "gridwidth": 2
           }
          },
          "shapedefaults": {
           "line": {
            "color": "#f2f5fa"
           }
          },
          "annotationdefaults": {
           "arrowcolor": "#f2f5fa",
           "arrowhead": 0,
           "arrowwidth": 1
          },
          "geo": {
           "bgcolor": "rgb(17,17,17)",
           "landcolor": "rgb(17,17,17)",
           "subunitcolor": "#506784",
           "showland": true,
           "showlakes": true,
           "lakecolor": "rgb(17,17,17)"
          },
          "title": {
           "x": 0.05
          },
          "updatemenudefaults": {
           "bgcolor": "#506784",
           "borderwidth": 0
          },
          "sliderdefaults": {
           "bgcolor": "#C8D4E3",
           "borderwidth": 1,
           "bordercolor": "rgb(17,17,17)",
           "tickwidth": 0
          },
          "mapbox": {
           "style": "dark"
          }
         }
        },
        "xaxis": {
         "anchor": "y",
         "domain": [
          0.0,
          0.45
         ]
        },
        "yaxis": {
         "anchor": "x",
         "domain": [
          0.0,
          1.0
         ]
        },
        "xaxis2": {
         "anchor": "y2",
         "domain": [
          0.55,
          1.0
         ]
        },
        "yaxis2": {
         "anchor": "x2",
         "domain": [
          0.0,
          1.0
         ]
        },
        "width": 2800,
        "autosize": true,
        "hovermode": "x"
       },
       "config": {
        "plotlyServerURL": "https://plot.ly"
       }
      }
     },
     "metadata": {},
     "output_type": "display_data"
    },
    {
     "name": "stdout",
     "output_type": "stream",
     "text": [
      "Home & Cleaning with count -  194\n"
     ]
    },
    {
     "data": {
      "application/vnd.plotly.v1+json": {
       "data": [
        {
         "line": {
          "color": "#bc5090",
          "width": 4
         },
         "opacity": 0.8,
         "y": {
          "dtype": "i2",
          "bdata": "EA4YFXAXKApABmwHGBX8CNAHaBDYDlQLbAe4C3AXxAnECfwIuAtsB3gF5AwIB0wEdA7QB6gWrA2sDYAMgAy4C7gLCAdoEAgH+BEUBawNBBCkBrgLxCKsDawNTB14BfwIbAdMBNAHTASoFqQG0AfQBxQFuAtUC6gWCCB4NxgV1El4NyRFkBoQJwggGC5oKVgbGBUQDrgLxAnsExAOKArcBWgQaBCsDagWKApYGxgVbAe4JPgqJEWwBIA+"
         },
         "type": "scatter",
         "mode": "markers+lines",
         "visible": false
        },
        {
         "line": {
          "color": "#ffa600",
          "width": 4
         },
         "opacity": 0.8,
         "y": {
          "dtype": "i2",
          "bdata": "uAuUEUQWNAgUBdwFlBFsB6QGrA2ADGAJQAbECYgTNAg0CGwHxAlABrAE8ArcBYQDHAykBiQTVAtUC4wKjArECcQJ3AWsDdwFPA9MBFQLPA8UBcQJTB1UC1QLnBiwBGwHQAaEA6QGhAMkE3gFpAakBkwExAlgCSQT9Bp8LpQRHD58LjQ6RBbQIPQarCbEIgwXlBG4C8QJNAjMELgLmAgUBawNrA1UCyQTmAgMF5QRQAbcHgQpNDroA2A7"
         },
         "type": "scatter",
         "mode": "markers+lines",
         "visible": false
        },
        {
         "line": {
          "color": "#bc5090",
          "width": 4
         },
         "opacity": 0.8,
         "y": {
          "dtype": "i4",
          "bdata": "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"
         },
         "type": "scatter",
         "mode": "markers+lines",
         "visible": false
        },
        {
         "line": {
          "color": "#ffa600",
          "width": 4
         },
         "opacity": 0.8,
         "y": {
          "dtype": "i4",
          "bdata": "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"
         },
         "type": "scatter",
         "mode": "markers+lines",
         "visible": false
        },
        {
         "line": {
          "color": "#bc5090",
          "width": 4
         },
         "opacity": 0.8,
         "y": {
          "dtype": "i4",
          "bdata": "oIwAAMQJAAAcDAAAtF8AALRfAAD4KgAAtF8AAGAiAADMWwAAoA8AAJQRAABoEAAAcBcAAHwVAACsDQAAuAsAAFgbAAAgTgAAeB4AAAhSAABEYQAAmDoAAKAPAAB4HgAAZBkAAERhAACYOgAABEIAALgLAAB0WQAABEIAAOQMAADMWwAAREgAAPxTAADMWwAA/FMAAKwNAACYCAAAnBgAAMQJAAC4CwAA4BUAAJg6AABsawAApDgAAIw8AABwFwAAGBUAAEwdAABYGwAAbGsAAKwmAACwNgAAoA8AAEwdAACUKgAAqC8AAGgpAAAEKQAATB0AAGgpAAA0IQAArA0AAMQiAAA8cwAAuAsAAEAfAAA0IQAANCEAABAnAACwHQAA1DAAANQwAACgDwAA1DAAAJg6AAA8cwAAvE0AALA2AACsJgAAvE0AAKyKAABsawAApDgAAKwmAACoYQAA+CoAADQhAACsJgAArCYAABAnAAC4CwAABEIAALgLAAAQJwAA+CoAAKQGAACIEwAAGBUAALwbAADEhgAA0AcAAKAPAADcBQAAECcAAAgHAAAMFwAAlBEAALgLAADkJQAAOBgAACAcAAAgHAAATB0AAOAuAAAgHAAANCEAAGQZAAD4KgAAIBwAADB1AAD0TAAAQB8AAMxbAABwlAAAyBkAAEwdAADEIgAA"
         },
         "type": "scatter",
         "mode": "markers+lines",
         "visible": false
        },
        {
         "line": {
          "color": "#ffa600",
          "width": 4
         },
         "opacity": 0.8,
         "y": {
          "dtype": "i4",
          "bdata": "PIwAAMQJAAAcDAAAwF0AAMBdAAAEKQAA+FwAAJghAACgWgAAoA8AAJQRAABoEAAAcBcAAHwVAABIDQAAuAsAAJAaAAAgTgAATB0AAAhSAACUXAAA3DcAAKAPAABMHQAAZBkAAERhAACYOgAABEIAAFQLAAB4UAAA8DwAAOQMAAD4QwAA0DkAAMhLAABwSQAAMEMAAKwNAACYCAAAnBgAAGAJAAC4CwAAGBUAAJg6AACENQAApDgAAIw8AABEFgAA7BMAAEwdAABYGwAAhDUAALgkAAD0MwAAoA8AACAcAACgKAAA4C4AAGgpAACsJgAAhBwAAHQnAAAIIAAASA0AAKQfAABsOQAAuAsAAEAfAAAIIAAANCEAAKwmAACEHAAAfC4AABguAACgDwAAGC4AAJg6AABsOQAA1EkAAPQzAAC4JAAA1EkAACRFAACENQAAhDUAALgkAADUMAAA+CoAAEAfAAC4JAAAYCIAABwlAAC4CwAA5D4AALgLAAAcJQAA+CoAAKQGAAAkEwAAGBUAAFgbAACUXAAA0AcAADwPAADcBQAAHCUAAKQGAABEFgAAlBEAALgLAADkJQAAOBgAADgYAABwFwAAOBgAAJAaAAA4GAAA3B4AAHwVAAAcJQAAOBgAALxNAACcSgAAkBoAAMxCAABQkQAAABkAAEwdAADEIgAA"
         },
         "type": "scatter",
         "mode": "markers+lines",
         "visible": false
        },
        {
         "line": {
          "color": "#bc5090",
          "width": 4
         },
         "opacity": 0.8,
         "y": {
          "dtype": "i4",
          "bdata": "SHEAAGSWAADgLgAA3JsAABh5AAAEKQAAuIgAANStAAAEpgAA7MIAAFxEAADMdAAANCEAAOiAAACIkAAASHEAAAwwAADMKQAA7CwAAIRnAACMIwAAgCUAAKhhAADsLAAAgD4AAIA+AACsJgAA3IIAAAB9AACwNgAAOEoAAPR+AABs6AAALEwAAOiAAACMPAAA9H4AACxMAAA0OgAAdEAAALw0AAC8NAAA9EwAAGAiAABwFwAAgD4AAKhhAACgKAAALEwAADQ6AAAAfQAA9H4AAAQpAACoYQAA1DAAAIgsAACILAAAxCIAAIgsAABESAAA6IAAAOxFAACoYQAA6IAAAOxFAADsRQAA6IAAAKhhAAAEKQAACFIAAAQpAADwVQAAkBoAANQwAADgLgAA4C4AAMgyAACoYQAAWBsAANCEAAD4KgAAtC0AAEAfAAB0WQAAfC4AAEAfAAB8FQAAaBAAAOAuAADo/QAASO4AANhZAADgLgAARGEAADQhAADcHgAAqGEAANhZAADsLAAA9H4AAOAuAACQZQAAzHQAADDyAACkOAAAoA8AAARCAADgLgAA9H4AAPgqAADgLgAArCYAAOAuAADogAAABEIAAGhCAAA4SgAA4C4AAOAuAABcRAAAjCMAAOwsAAB8LgAAkBoAADxzAABwlAAA9H4AADxzAAA8cwAAFDcAAPR+AABoQgAANDoAAERIAADMWwAA/FMAAMxbAAD8UwAAQB8AAIA+AAA0OgAA5D4AADhKAAD4KgAAvDQAAPgqAAD4KgAAQGoAAPxsAAAQcgAAXEQAAOgcAAA0OgAABEIAADQhAADkPgAAgHAAAPgqAAA4SgAAvDQAAPRlAACwNgAA4C4AAPgqAAD4KgAA+CoAACBOAAD4KgAA8FUAAPgqAAD4KgAAyDIAAIA+AAAgTgAATB0AACAcAABoQgAAgCUAAEAfAABAHwAAcBcAADARAABMHQAAxCIAAHAXAAAEQgAAgD4AAMgyAADcHgAAPHMAAARCAAA0IQAAmDoAAKwmAAAUUAAAmDoAAERIAADIMgAAqGEAANhZAADcHgAA9BoAAMgyAADYWQAAcBcAAHAXAABwFwAAcBcAAMASAADgLgAA4C4AAMgyAABoQgAA5FcAACQTAABsawAAbGsAAHwVAACsJgAAyDIAAGxrAADkVwAAbGsAAGxrAAB8FQAAbGsAAPR+AADkVwAA9H4AAMASAACsJgAAcBcAAIgTAABkGQAAfBUAAGxrAAA0IQAAbGsAAIgTAABwFwAAcBcAAKwmAABkGQAAiBMAADQhAABwFwAABBAAAHwVAAB8FQAA5FcAAHwVAAB8FQAANCEAAPBVAAAgTgAAgD4AAFxEAAB8FQAATB0AAPgqAACsJgAAYG0AAGBtAABgbQAAYG0AAIgTAADgLgAAiBMAAHAXAABcRAAAgAwAALgLAAAgTgAAIE4AAKwmAAAgTgAAIE4AAJg6AACYOgAAcBcAAIgTAAAIBwAA0AcAAKAPAACYCAAA0AcAAKwNAACsDQAAfBUAAHwVAACwNgAAxAkAAGAJAAAcDAAAiBMAAKwNAABwFwAAiBMAANAHAACwBAAATB0AABwMAADwCgAAxAkAAPAKAADwCgAA8AoAANwFAADECQAAsDYAALA2AACMIwAAMBEAAMQJAADcBQAAxAkAANQwAADcBQAA3AUAAMQJAAB8FQAAfBUAAHwVAAB8FQAAfBUAABAnAAAQJwAAECcAAGQZAACIEwAAKCMAAHAXAABwFwAA0AcAAKAPAACgDwAAoA8AAHwVAAB8FQAAoA8AAHAXAABwFwAAcBcAAHAXAADcBQAAoA8AANwFAACgDwAAoA8AAHwVAAB8FQAAfBUAAHwVAAB8FQAAfBUAADxzAAB4aQAA6AMAANwFAADcBQAA3AUAACgjAADoAwAA6AMAAOgDAADoAwAA3AUAANwFAADoAwAAmDoAANABAQDQAQEAiA0BANBrAADswgAAaEIAAEAfAACoYQAABKYAANABAQCAPgAA2NYAACigAABs6AAA+CoAALxNAAD4pwAAbOgAAA=="
         },
         "type": "scatter",
         "mode": "markers+lines",
         "visible": false
        },
        {
         "line": {
          "color": "#ffa600",
          "width": 4
         },
         "opacity": 0.8,
         "y": {
          "dtype": "i4",
          "bdata": "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"
         },
         "type": "scatter",
         "mode": "markers+lines",
         "visible": false
        },
        {
         "line": {
          "color": "#bc5090",
          "width": 4
         },
         "opacity": 0.8,
         "y": {
          "dtype": "i4",
          "bdata": "RGEAAFxEAAD8UwAAnHwAAHRAAACEZwAA9H4AAPRlAAAsZQAAdEAAAISAAACktQAALMkAAEhxAABEYQAAsDYAAPxTAAB4aQAACFIAAGxrAACoYQAApDgAAKhhAACcYwAAbGsAAGxrAAC0XwAAkGUAAKhhAAA8cwAAOEoAAKQ4AACAPgAAmDoAAJg6AAAUUAAA8FUAAPBVAABMHQAA8FUAAOgcAADoHAAAwBIAAFgbAADIGQAAPA8AAKAPAADoAwAA5CUAADgYAAAgTgAAXEQAADQhAAAgHAAAZBkAAPgqAADgLgAAIBwAACAcAABMHQAAIBwAAAhSAAAwdQAA"
         },
         "type": "scatter",
         "mode": "markers+lines",
         "visible": false
        },
        {
         "line": {
          "color": "#ffa600",
          "width": 4
         },
         "opacity": 0.8,
         "y": {
          "dtype": "i4",
          "bdata": "qEgAALg9AACwTwAACGsAAHRAAABcXQAAdHIAALhWAABsOQAAVD0AAHxgAACorAAAXMEAALBPAADsRQAAsDYAALBPAAB4aQAACFIAAOBgAACoYQAApDgAAKhhAADYWQAA4GAAAOBgAABUVgAAaFsAAKhhAADoZwAAOEoAAPQzAABAOAAA3DcAAJg6AADISwAA+CoAAPgqAACQGgAA+CoAACwaAAAsGgAAXBIAAGQZAADIGQAA2A4AADwPAADoAwAA5CUAADgYAABQRgAAuD0AANweAAA4GAAAfBUAABwlAACQGgAAOBgAADgYAAA4GAAAcBcAANRJAAB4aQAA"
         },
         "type": "scatter",
         "mode": "markers+lines",
         "visible": false
        },
        {
         "line": {
          "color": "#bc5090",
          "width": 4
         },
         "opacity": 0.8,
         "y": {
          "dtype": "i4",
          "bdata": "+CoAAOAuAADgLgAAQB8AAEAfAABYGwAAECcAAEAfAAA0OgAA4C4AAAhSAAC4iAAAZBkAAFgbAADgLgAAsDYAAJg6AACYOgAATB0AAEAfAACUEQAArA0AAEAfAABAHwAAiBMAAKAPAADAEgAA4C4AALA2AABYGwAAmDoAALgLAACYOgAAuAsAAHAXAAC4CwAATB0AAPwIAADECQAATB0AAGQZAABwFwAAcBcAAEwdAABkGQAAcBcAAJQRAADQBwAAuAsAAHAXAABkGQAAuAsAAHAXAAC4CwAA8AoAAKAPAACUEQAAcBcAAKwNAAAoIwAAQB8AAJQRAADIMgAArA0AAKwNAADIMgAAxAkAAMQJAACsDQAArA0AAHAXAAC4CwAAfBUAAFgbAABwFwAAiBMAAFgbAACIEwAAxAkAALgLAACUEQAAuAsAAIAMAAC4CwAA4C4AALgLAACIEwAAiBMAAHAXAAC4CwAA0AcAAHAXAAC4CwAAHCUAAMQJAABkGQAA0AcAAKwNAABwFwAAxAkAALgLAACsDQAArA0AAJQRAACUEQAAuAsAAJQRAAAEKQAABCkAAIgTAADECQAAxAkAAIgTAADECQAAlBEAAKwNAAC4CwAA6AMAAMQJAADECQAAxAkAAAQpAAAEKQAAuAsAAMQJAACUEQAA6AMAAOgDAADECQAA0AcAANAHAADcBQAA3AUAANwFAADcBQAA3AUAANwFAADoAwAAoA8AAOgDAADoAwAArA0AAKwNAACYOgAAlBEAAJQRAADYWQAA"
         },
         "type": "scatter",
         "mode": "markers+lines",
         "visible": false
        },
        {
         "line": {
          "color": "#ffa600",
          "width": 4
         },
         "opacity": 0.8,
         "y": {
          "dtype": "i4",
          "bdata": "uCQAANgnAABAKQAAIBwAAEAfAABYGwAAECcAACAcAACENQAA4C4AALxNAAC4iAAAZBkAAFgbAACsJgAALDMAAMArAACcMQAAXhoAAEAfAACUEQAArA0AAJAaAACoFgAAXBIAAKAPAABcEgAAgCUAAAQpAAA4GAAATB0AALgLAABMHQAAuAsAAHAXAACMCgAAWBsAANAHAADECQAAWBsAANQXAADgFQAA4BUAAEwdAABkGQAAGBUAADARAADQBwAAjAoAABgVAADUFwAAjAoAAOAVAACMCgAA8AoAANgOAACUEQAAGBUAAKwNAACkHwAAIBwAAJQRAABQLQAAVAsAAEgNAABQLQAAxAkAAJgIAACsDQAASA0AAHAXAAC4CwAABBAAAJwYAAAYFQAAXBIAAJwYAACIEwAAxAkAAFQLAACUEQAAVAsAABwMAAC4CwAAMCoAALgLAAAkEwAAmhAAAHAXAABUCwAA0AcAAOAVAABUCwAAxCIAAMQJAADUFwAA0AcAAEgNAADgFQAAxAkAAFQLAABUCwAAgAwAAJgIAACYCAAAuAsAAJgIAACkHwAApB8AAGgQAAD8CAAAyggAAGgQAAD8CAAA2A4AAEgNAAC4CwAA6AMAAMQJAAD8CAAAyggAAKQfAACkHwAA8AoAAPwIAACgDwAA6AMAAOgDAADECQAA0AcAAAgHAADcBQAA3AUAANwFAADcBQAA3AUAANwFAADoAwAA5AwAAOgDAADoAwAAjAoAAIwKAADgLgAAoA8AAKAPAAAwQwAA"
         },
         "type": "scatter",
         "mode": "markers+lines",
         "visible": false
        },
        {
         "line": {
          "color": "#bc5090",
          "width": 4
         },
         "opacity": 0.8,
         "y": {
          "dtype": "i4",
          "bdata": "1EkAAKwmAACsJgAAlCoAAJQqAACsJgAAaL8AAMzYAADM2AAA7MIAAPT7AABQRgAAkGUAAJBlAABIcQAAUEYAADQ6AAC8TQAA7CwAAKhhAABUbwAA5FcAAORXAADcmwAAzFsAAFAtAAD0fgAAzFsAAJBlAAAwdQAA/FMAANhZAADcmwAAAH0AAJg6AADYQAAAwEQAAMBEAAC8TQAAgD4AAIRnAAAobgAARGEAADxzAAB8kgAAfJIAACBnAADAXQAAwF0AAFRvAABgbQAA5FcAAJSOAABwlAAAiEUAALBoAAAMMAAAeGkAAIA+AADcmwAAGEcAACBOAACYOgAAvE0AALA2AACYOgAARGEAAEAfAAC8TQAAmDoAALxNAAC8TQAA5FcAAORXAACYOgAArCYAAJg6AADkVwAAtHgAAKwmAAC8TQAAVG8AAHRAAAC8TQAAiCwAABh5AAA0IQAAzHQAABAnAAAcJQAAECcAADhKAADIMgAA3JsAAGhCAADEIgAA3B4AAPQaAACwNgAAvBsAACBOAADIMgAAUEYAAHRAAACwNgAA+CoAAHRAAADIMgAAYOoAAKwmAAC8TQAATB0AADhKAABsawAATB0AADQhAAAYeQAA5FcAANw3AAC8TQAAvE0AALxNAACkUQAANDoAALxNAAC8TQAAvDQAAAhSAADwVQAACCAAAJg6AACYOgAALEwAAGhCAACMPAAAuD0AAOAuAAB8kgAA4C4AAOAuAACENQAAOEoAAGAiAAC8TQAA4C4AAAQpAAA4SgAAMPIAADDyAAAw8gAA2NYAADDyAACwNgAA2NYAANjWAAAoIwAARGEAAKhhAAAIUgAA5FcAALxNAAAsTAAAvE0AAHQnAAAoIwAABCkAADhKAAAsTAAALEwAANybAACoYQAAUEYAACxMAAAsTAAAqBYAACxMAAAIUgAAvE0AAGhCAACIEwAAWBsAALgLAAC8TQAATB0AAMxbAAAIUgAA2FkAACBOAACoYQAA+CoAACBOAABMHQAAIE4AAMASAADgLgAANFMAAKgWAADAqAAAECcAAOwsAADQIAAAUEYAAHAXAAAoIwAArCYAAPxTAABAHwAA1DAAAJg6AACMPAAAWBsAABAnAABESAAAsDYAAFSIAACoYQAApDgAAERhAABESAAAREgAAHwVAAC0XwAALBoAAKQ4AABQRgAASCYAAFxEAADsLAAATB0AAFxEAADY1gAA2NYAABRdAgDIMgAAiBMAADhKAABUJAAAVCQAACgjAACAPgAAKCMAAHwVAABMHQAA1DAAAKwNAADsLAAATK0BALRfAAAgTgAATB0AAEwdAACwNgAANCEAADQhAADM2AAAQB8AAORXAABMrQEAyDIAANweAADECQAAvDQAAAwRAQDIMgAAvDQAAAwRAQA0OgAAvDQAAIgTAABkrwAATK0BAGQZAABMHQAAZBkAAOiAAACoYQAADHsAAPzpAADMdAAA0IQAAAggAADcmwAATB0AABAnAAAAfQAAZBkAAJSnAACgjAAAVAsAACgjAADMWwAA7CwAAPQzAADECQAAuAsAALgLAABAHwAAKCMAANweAAC4CwAA5AwAAAQpAADMWwAA6AMAAIw8AABcRAAAREgAAFxEAAB8FQAABKYAAIAMAAC4CwAAKCMAALgLAAAoIwAAaBAAALgLAADgLgAAYCIAAJg6AADswgAAhP0AAKwmAADgLgAArCYAAEgmAABESAAAgD4AAKwmAACwNgAArCYAAFBGAAB8kgAARGEAAJBlAACIEwAARGEAALgLAABUiAAA0AcAAMSGAADQBwAAMHUAADQ6AAA="
         },
         "type": "scatter",
         "mode": "markers+lines",
         "visible": false
        },
        {
         "line": {
          "color": "#ffa600",
          "width": 4
         },
         "opacity": 0.8,
         "y": {
          "dtype": "i4",
          "bdata": "1EkAAKwmAAAcJQAABCkAAAQpAACsJgAAXI8AAITLAACEywAAZK8AABDvAABQRgAAfGAAAHxgAAD0ZQAAUEYAADQ6AAC8TQAA+CoAAORXAAC8ZgAA5FcAAAhSAACcfAAAzFsAAFAtAAD0fgAAcEkAADRTAAAgZwAAyEsAAHBJAABshAAAhGcAALA2AABUPQAAuD0AALg9AACoSAAAFDcAAIRnAAAobgAAaFsAAOhnAAAIhAAAeIIAACBnAADAXQAAVFYAAOhnAAAwXAAACFIAAJSOAABwlAAAiEUAAHBiAAAMMAAAdFkAAEA4AACcfAAAKDwAAIA+AAC8NAAAHD4AADgxAADgLgAAvE0AAEwdAACoSAAAvDQAAOxFAACcSgAAUEYAAJhTAAC8NAAAxCIAAOAuAABQRgAAmGwAAMQiAADsRQAAVG8AAHRAAAC8TQAAVCQAALxmAAA0IQAAfGAAABAnAAAcJQAAHCUAAIhFAAB8LgAA3JsAAAg5AAA0IQAA3B4AAPQaAAAAMgAAvBsAACBOAADgLgAAUEYAAKQ4AAA4MQAA+CoAAJg6AACILAAA8NIAAKwmAAC8TQAAkBoAADhKAAB8YAAATB0AADQhAABAagAATE8AANw3AAC8TQAAJEUAALxNAACkUQAANDoAALxNAAC8TQAAvDQAABhHAADwVQAA6BwAAJg6AAAUNwAA+EMAAGhCAACwNgAAbDkAAMArAAB8kgAAwCsAAOAuAAAMMAAAOEoAAGAiAAC8TQAA4C4AAAQpAAA4SgAAMPIAADDyAAAw8gAA2NYAADDyAACwNgAA2NYAANjWAAAoIwAARGEAAKhhAADISwAABEIAALxNAAD4QwAAvE0AABwlAACkHwAABCkAAARCAAD4QwAAwEQAADyMAACoYQAASD8AAPhDAAD4QwAAqBYAAMBEAAAIUgAAHD4AAMQ7AACIEwAAnBgAAFQLAADUSQAATB0AANBSAADISwAA2FkAAFBGAACoYQAArCYAAFBGAABMHQAAUEYAAFwSAAAwKgAAOEoAAHwVAABcjwAA0CAAADwoAADQIAAArD8AAHAXAACkHwAAxCIAACBOAACEHAAAwCsAAJg6AACkOAAAWBsAABAnAABESAAAODEAAKh6AADkVwAALDMAAERhAABUPQAAVD0AAHwVAABUVgAAcBcAACwzAABQRgAASCYAAFQ9AADsLAAAvBsAALg9AADY1gAA2NYAAKRLAQC0LQAAJBMAAEg/AABUJAAAYCIAAKQfAACgKAAA0CAAAIgTAAC8GwAA1DAAAEgNAABoKQAApEsBAFRWAABQRgAAkBoAAEwdAAA4MQAAIBwAANweAADM2AAAQB8AAORXAAAsXwEAyDIAAJAaAADECQAAADIAAHTWAADsLAAAADIAAJzgAABYNAAAADIAAJQRAAAcogAALF8BAKgWAABMHQAAqBYAACx+AADkVwAADHsAANTGAAD8bAAAaHQAAOgcAAAkkAAAZBkAACgjAAAAfQAADBcAADCOAACQfgAAVAsAAPwhAAAoVQAA7CwAAMgyAADECQAAuAsAALgLAAAgHAAAKCMAAOgcAAC4CwAA5AwAAAQpAAAoVQAA6AMAAIw8AABcRAAAREgAAFxEAAB8FQAA0IQAAFQLAAC4CwAAKCMAAFQLAACkHwAABBAAAFQLAADgLgAACCAAAAwwAACwswAAyOEAAKwmAAAwKgAArCYAAEgmAAAEQgAAgD4AAKwmAAB8LgAArCYAAFBGAAB8kgAARGEAAGhbAACIEwAA2FkAAMQJAAD0fgAA0AcAAMSGAADQBwAAbGsAADQ6AAA="
         },
         "type": "scatter",
         "mode": "markers+lines",
         "visible": false
        },
        {
         "line": {
          "color": "#bc5090",
          "width": 4
         },
         "opacity": 0.8,
         "y": {
          "dtype": "i4",
          "bdata": "uAsAABRQAAAUUAAAFFAAAHRAAAD0fgAA9H4AAMxbAACILAAAREgAANA5AAA4SgAAYG0AAJQRAAA8KAAAgCUAAMwpAAC8NAAA9BoAADwoAAB8FQAABCkAABwlAADUSQAA2CcAABhHAAAIUgAAFGkAAIA+AADkVwAA/AgAAFAtAAA4GAAA5D4AAOQ+AADkPgAAmDoAADQ6AACYOgAAuAsAAHQnAADoHAAAZBkAAAgHAADoAwAAmDoAAJg6AADIGQAAZBkAACgjAACIEwAAjDwAAGQZAAAoPAAAZBkAACgjAACoYQAAYG0AAAAZAAA4SgAATB0AAEgmAABMHQAAzHQAAEgmAAAAAAAAxAkAANAHAADkDAAAuAsAAGwHAADEIgAAbAcAADQhAABYGwAAHCUAAFgbAADAXQAAECcAAIgTAADAXQAAQB8AAHwuAACQGgAAkBoAAHBJAABwSQAAgD4AAPQaAAD0GgAA1EkAAEw2AAAIIAAACCAAANweAACIEwAATB0AAMQJAABAHwAAuAsAAHAXAACgDwAAsAQAALAEAABAHwAAWJgAAHwVAABwEQEAfBUAAJg6AAB8FQAAmDoAAHwVAABMHQAACFIAALw0AABMHQAAQAYAAOiAAABMHQAAaDwBAGDqAABAGQEAsDYAAIA4AQCwNgAAIE4AAKwNAAAoIwAAsDYAAOzCAACQGgAAAH0AAJQRAAAIzwAA/FMAAGgQAABkGQAAIE4AAPgqAADkVwAAIE4AAGhCAAAIIAAANDoAAKAPAADUSQAAiEUAAGBtAACIEwAA5FcAAOxFAADUMAAAXEQAALxNAACsDQAAkBoAAFgbAABcRAAAbGsAAEAfAACYOgAAqGEAAOj9AACYOgAAWJgAAFBGAACYOgAAmDoAAJg6AACIEwAAvDQAAIRnAAB4HgAA8FUAAOwsAADkVwAAVAsAAIgTAAAAfQAA7EUAAKhhAABQRgAA8FUAALA2AACQZQAAqGEAAAQpAACwBAAAmCEAACA1AAA4SgAAQB8AAEBRAAA="
         },
         "type": "scatter",
         "mode": "markers+lines"
        },
        {
         "line": {
          "color": "#ffa600",
          "width": 4
         },
         "opacity": 0.8,
         "y": {
          "dtype": "i4",
          "bdata": "8AoAAHBJAABwSQAAcEkAAPA8AABQeAAAEHIAANBSAACILAAAXEQAAIQ1AABcRAAAcGIAAJQRAADkJQAAxCIAAIAlAAC8NAAAOBgAAOQlAAB8FQAASCYAAJghAADsRQAA2CcAAMBEAADUSQAAFGkAADQ6AAA0UwAAmAgAAFAtAACoFgAAYDsAAGA7AABgOwAAODEAABQ3AAA0OgAAVAsAAEgmAABYGwAA4BUAAAgHAADoAwAAkDMAAJAzAADIGQAADBcAAAggAAAkEwAAkDMAAOAVAADcNwAA4BUAAAggAADkVwAAcGIAAHAXAABIPwAA9BoAAFQkAAC8GwAAFGkAAFQkAAAAAAAAxAkAANAHAADkDAAAuAsAAGwHAADEIgAAbAcAANweAACcGAAAmCEAAJwYAACwTwAAKCMAAPgRAADAXQAAIBwAAMwpAAAAGQAAABkAAARCAAAEQgAAgD4AANQXAAD0GgAAaEIAANQwAAAUHgAAFB4AALwbAAAkEwAAkBoAAMQJAAAgHAAA8AoAABgVAAA8DwAAsAQAALAEAABMHQAAjIcAAHwVAAD04gAAfBUAANw3AAB8FQAA3DcAAHwVAABMHQAA1EkAAKgvAACQGgAAQAYAAAR0AACQGgAA+CQBAHTWAACE/QAAODEAAKAJAQCwNgAAIE4AAEgNAACkHwAAODEAAOzCAACQGgAAAH0AADARAAAMxgAAbFIAAAQQAAAMFwAAUEYAAMwpAABUVgAAcEkAAARCAADoHAAAvDQAADwPAADsRQAAiEUAALxmAAAkEwAA5FcAAOQ+AAAkLAAAXEQAAOxFAABIDQAAyBkAAJAaAAC4PQAAaFsAAEAfAAAMMAAAqGEAAJjpAAC8NAAAkH4AAGhCAACYOgAAvDQAALA2AAAkEwAAqC8AAIRnAABYGwAAWE0AAEgmAADkVwAA8AoAAIgTAAAAfQAA5D4AAORXAABcRAAA8FUAAGQyAACQZQAAqGEAANgnAABMBAAA0CAAACwzAABcRAAAkBoAACxMAAA="
         },
         "type": "scatter",
         "mode": "markers+lines"
        }
       ],
       "layout": {
        "template": {
         "data": {
          "histogram2dcontour": [
           {
            "type": "histogram2dcontour",
            "colorbar": {
             "outlinewidth": 0,
             "ticks": ""
            },
            "colorscale": [
             [
              0.0,
              "#0d0887"
             ],
             [
              0.1111111111111111,
              "#46039f"
             ],
             [
              0.2222222222222222,
              "#7201a8"
             ],
             [
              0.3333333333333333,
              "#9c179e"
             ],
             [
              0.4444444444444444,
              "#bd3786"
             ],
             [
              0.5555555555555556,
              "#d8576b"
             ],
             [
              0.6666666666666666,
              "#ed7953"
             ],
             [
              0.7777777777777778,
              "#fb9f3a"
             ],
             [
              0.8888888888888888,
              "#fdca26"
             ],
             [
              1.0,
              "#f0f921"
             ]
            ]
           }
          ],
          "choropleth": [
           {
            "type": "choropleth",
            "colorbar": {
             "outlinewidth": 0,
             "ticks": ""
            }
           }
          ],
          "histogram2d": [
           {
            "type": "histogram2d",
            "colorbar": {
             "outlinewidth": 0,
             "ticks": ""
            },
            "colorscale": [
             [
              0.0,
              "#0d0887"
             ],
             [
              0.1111111111111111,
              "#46039f"
             ],
             [
              0.2222222222222222,
              "#7201a8"
             ],
             [
              0.3333333333333333,
              "#9c179e"
             ],
             [
              0.4444444444444444,
              "#bd3786"
             ],
             [
              0.5555555555555556,
              "#d8576b"
             ],
             [
              0.6666666666666666,
              "#ed7953"
             ],
             [
              0.7777777777777778,
              "#fb9f3a"
             ],
             [
              0.8888888888888888,
              "#fdca26"
             ],
             [
              1.0,
              "#f0f921"
             ]
            ]
           }
          ],
          "heatmap": [
           {
            "type": "heatmap",
            "colorbar": {
             "outlinewidth": 0,
             "ticks": ""
            },
            "colorscale": [
             [
              0.0,
              "#0d0887"
             ],
             [
              0.1111111111111111,
              "#46039f"
             ],
             [
              0.2222222222222222,
              "#7201a8"
             ],
             [
              0.3333333333333333,
              "#9c179e"
             ],
             [
              0.4444444444444444,
              "#bd3786"
             ],
             [
              0.5555555555555556,
              "#d8576b"
             ],
             [
              0.6666666666666666,
              "#ed7953"
             ],
             [
              0.7777777777777778,
              "#fb9f3a"
             ],
             [
              0.8888888888888888,
              "#fdca26"
             ],
             [
              1.0,
              "#f0f921"
             ]
            ]
           }
          ],
          "contourcarpet": [
           {
            "type": "contourcarpet",
            "colorbar": {
             "outlinewidth": 0,
             "ticks": ""
            }
           }
          ],
          "contour": [
           {
            "type": "contour",
            "colorbar": {
             "outlinewidth": 0,
             "ticks": ""
            },
            "colorscale": [
             [
              0.0,
              "#0d0887"
             ],
             [
              0.1111111111111111,
              "#46039f"
             ],
             [
              0.2222222222222222,
              "#7201a8"
             ],
             [
              0.3333333333333333,
              "#9c179e"
             ],
             [
              0.4444444444444444,
              "#bd3786"
             ],
             [
              0.5555555555555556,
              "#d8576b"
             ],
             [
              0.6666666666666666,
              "#ed7953"
             ],
             [
              0.7777777777777778,
              "#fb9f3a"
             ],
             [
              0.8888888888888888,
              "#fdca26"
             ],
             [
              1.0,
              "#f0f921"
             ]
            ]
           }
          ],
          "surface": [
           {
            "type": "surface",
            "colorbar": {
             "outlinewidth": 0,
             "ticks": ""
            },
            "colorscale": [
             [
              0.0,
              "#0d0887"
             ],
             [
              0.1111111111111111,
              "#46039f"
             ],
             [
              0.2222222222222222,
              "#7201a8"
             ],
             [
              0.3333333333333333,
              "#9c179e"
             ],
             [
              0.4444444444444444,
              "#bd3786"
             ],
             [
              0.5555555555555556,
              "#d8576b"
             ],
             [
              0.6666666666666666,
              "#ed7953"
             ],
             [
              0.7777777777777778,
              "#fb9f3a"
             ],
             [
              0.8888888888888888,
              "#fdca26"
             ],
             [
              1.0,
              "#f0f921"
             ]
            ]
           }
          ],
          "mesh3d": [
           {
            "type": "mesh3d",
            "colorbar": {
             "outlinewidth": 0,
             "ticks": ""
            }
           }
          ],
          "scatter": [
           {
            "marker": {
             "line": {
              "color": "#283442"
             }
            },
            "type": "scatter"
           }
          ],
          "parcoords": [
           {
            "type": "parcoords",
            "line": {
             "colorbar": {
              "outlinewidth": 0,
              "ticks": ""
             }
            }
           }
          ],
          "scatterpolargl": [
           {
            "type": "scatterpolargl",
            "marker": {
             "colorbar": {
              "outlinewidth": 0,
              "ticks": ""
             }
            }
           }
          ],
          "bar": [
           {
            "error_x": {
             "color": "#f2f5fa"
            },
            "error_y": {
             "color": "#f2f5fa"
            },
            "marker": {
             "line": {
              "color": "rgb(17,17,17)",
              "width": 0.5
             },
             "pattern": {
              "fillmode": "overlay",
              "size": 10,
              "solidity": 0.2
             }
            },
            "type": "bar"
           }
          ],
          "scattergeo": [
           {
            "type": "scattergeo",
            "marker": {
             "colorbar": {
              "outlinewidth": 0,
              "ticks": ""
             }
            }
           }
          ],
          "scatterpolar": [
           {
            "type": "scatterpolar",
            "marker": {
             "colorbar": {
              "outlinewidth": 0,
              "ticks": ""
             }
            }
           }
          ],
          "histogram": [
           {
            "marker": {
             "pattern": {
              "fillmode": "overlay",
              "size": 10,
              "solidity": 0.2
             }
            },
            "type": "histogram"
           }
          ],
          "scattergl": [
           {
            "marker": {
             "line": {
              "color": "#283442"
             }
            },
            "type": "scattergl"
           }
          ],
          "scatter3d": [
           {
            "type": "scatter3d",
            "line": {
             "colorbar": {
              "outlinewidth": 0,
              "ticks": ""
             }
            },
            "marker": {
             "colorbar": {
              "outlinewidth": 0,
              "ticks": ""
             }
            }
           }
          ],
          "scattermap": [
           {
            "type": "scattermap",
            "marker": {
             "colorbar": {
              "outlinewidth": 0,
              "ticks": ""
             }
            }
           }
          ],
          "scattermapbox": [
           {
            "type": "scattermapbox",
            "marker": {
             "colorbar": {
              "outlinewidth": 0,
              "ticks": ""
             }
            }
           }
          ],
          "scatterternary": [
           {
            "type": "scatterternary",
            "marker": {
             "colorbar": {
              "outlinewidth": 0,
              "ticks": ""
             }
            }
           }
          ],
          "scattercarpet": [
           {
            "type": "scattercarpet",
            "marker": {
             "colorbar": {
              "outlinewidth": 0,
              "ticks": ""
             }
            }
           }
          ],
          "carpet": [
           {
            "aaxis": {
             "endlinecolor": "#A2B1C6",
             "gridcolor": "#506784",
             "linecolor": "#506784",
             "minorgridcolor": "#506784",
             "startlinecolor": "#A2B1C6"
            },
            "baxis": {
             "endlinecolor": "#A2B1C6",
             "gridcolor": "#506784",
             "linecolor": "#506784",
             "minorgridcolor": "#506784",
             "startlinecolor": "#A2B1C6"
            },
            "type": "carpet"
           }
          ],
          "table": [
           {
            "cells": {
             "fill": {
              "color": "#506784"
             },
             "line": {
              "color": "rgb(17,17,17)"
             }
            },
            "header": {
             "fill": {
              "color": "#2a3f5f"
             },
             "line": {
              "color": "rgb(17,17,17)"
             }
            },
            "type": "table"
           }
          ],
          "barpolar": [
           {
            "marker": {
             "line": {
              "color": "rgb(17,17,17)",
              "width": 0.5
             },
             "pattern": {
              "fillmode": "overlay",
              "size": 10,
              "solidity": 0.2
             }
            },
            "type": "barpolar"
           }
          ],
          "pie": [
           {
            "automargin": true,
            "type": "pie"
           }
          ]
         },
         "layout": {
          "autotypenumbers": "strict",
          "colorway": [
           "#636efa",
           "#EF553B",
           "#00cc96",
           "#ab63fa",
           "#FFA15A",
           "#19d3f3",
           "#FF6692",
           "#B6E880",
           "#FF97FF",
           "#FECB52"
          ],
          "font": {
           "color": "#f2f5fa"
          },
          "hovermode": "closest",
          "hoverlabel": {
           "align": "left"
          },
          "paper_bgcolor": "rgb(17,17,17)",
          "plot_bgcolor": "rgb(17,17,17)",
          "polar": {
           "bgcolor": "rgb(17,17,17)",
           "angularaxis": {
            "gridcolor": "#506784",
            "linecolor": "#506784",
            "ticks": ""
           },
           "radialaxis": {
            "gridcolor": "#506784",
            "linecolor": "#506784",
            "ticks": ""
           }
          },
          "ternary": {
           "bgcolor": "rgb(17,17,17)",
           "aaxis": {
            "gridcolor": "#506784",
            "linecolor": "#506784",
            "ticks": ""
           },
           "baxis": {
            "gridcolor": "#506784",
            "linecolor": "#506784",
            "ticks": ""
           },
           "caxis": {
            "gridcolor": "#506784",
            "linecolor": "#506784",
            "ticks": ""
           }
          },
          "coloraxis": {
           "colorbar": {
            "outlinewidth": 0,
            "ticks": ""
           }
          },
          "colorscale": {
           "sequential": [
            [
             0.0,
             "#0d0887"
            ],
            [
             0.1111111111111111,
             "#46039f"
            ],
            [
             0.2222222222222222,
             "#7201a8"
            ],
            [
             0.3333333333333333,
             "#9c179e"
            ],
            [
             0.4444444444444444,
             "#bd3786"
            ],
            [
             0.5555555555555556,
             "#d8576b"
            ],
            [
             0.6666666666666666,
             "#ed7953"
            ],
            [
             0.7777777777777778,
             "#fb9f3a"
            ],
            [
             0.8888888888888888,
             "#fdca26"
            ],
            [
             1.0,
             "#f0f921"
            ]
           ],
           "sequentialminus": [
            [
             0.0,
             "#0d0887"
            ],
            [
             0.1111111111111111,
             "#46039f"
            ],
            [
             0.2222222222222222,
             "#7201a8"
            ],
            [
             0.3333333333333333,
             "#9c179e"
            ],
            [
             0.4444444444444444,
             "#bd3786"
            ],
            [
             0.5555555555555556,
             "#d8576b"
            ],
            [
             0.6666666666666666,
             "#ed7953"
            ],
            [
             0.7777777777777778,
             "#fb9f3a"
            ],
            [
             0.8888888888888888,
             "#fdca26"
            ],
            [
             1.0,
             "#f0f921"
            ]
           ],
           "diverging": [
            [
             0,
             "#8e0152"
            ],
            [
             0.1,
             "#c51b7d"
            ],
            [
             0.2,
             "#de77ae"
            ],
            [
             0.3,
             "#f1b6da"
            ],
            [
             0.4,
             "#fde0ef"
            ],
            [
             0.5,
             "#f7f7f7"
            ],
            [
             0.6,
             "#e6f5d0"
            ],
            [
             0.7,
             "#b8e186"
            ],
            [
             0.8,
             "#7fbc41"
            ],
            [
             0.9,
             "#4d9221"
            ],
            [
             1,
             "#276419"
            ]
           ]
          },
          "xaxis": {
           "gridcolor": "#283442",
           "linecolor": "#506784",
           "ticks": "",
           "title": {
            "standoff": 15
           },
           "zerolinecolor": "#283442",
           "automargin": true,
           "zerolinewidth": 2
          },
          "yaxis": {
           "gridcolor": "#283442",
           "linecolor": "#506784",
           "ticks": "",
           "title": {
            "standoff": 15
           },
           "zerolinecolor": "#283442",
           "automargin": true,
           "zerolinewidth": 2
          },
          "scene": {
           "xaxis": {
            "backgroundcolor": "rgb(17,17,17)",
            "gridcolor": "#506784",
            "linecolor": "#506784",
            "showbackground": true,
            "ticks": "",
            "zerolinecolor": "#C8D4E3",
            "gridwidth": 2
           },
           "yaxis": {
            "backgroundcolor": "rgb(17,17,17)",
            "gridcolor": "#506784",
            "linecolor": "#506784",
            "showbackground": true,
            "ticks": "",
            "zerolinecolor": "#C8D4E3",
            "gridwidth": 2
           },
           "zaxis": {
            "backgroundcolor": "rgb(17,17,17)",
            "gridcolor": "#506784",
            "linecolor": "#506784",
            "showbackground": true,
            "ticks": "",
            "zerolinecolor": "#C8D4E3",
            "gridwidth": 2
           }
          },
          "shapedefaults": {
           "line": {
            "color": "#f2f5fa"
           }
          },
          "annotationdefaults": {
           "arrowcolor": "#f2f5fa",
           "arrowhead": 0,
           "arrowwidth": 1
          },
          "geo": {
           "bgcolor": "rgb(17,17,17)",
           "landcolor": "rgb(17,17,17)",
           "subunitcolor": "#506784",
           "showland": true,
           "showlakes": true,
           "lakecolor": "rgb(17,17,17)"
          },
          "title": {
           "x": 0.05
          },
          "updatemenudefaults": {
           "bgcolor": "#506784",
           "borderwidth": 0
          },
          "sliderdefaults": {
           "bgcolor": "#C8D4E3",
           "borderwidth": 1,
           "bordercolor": "rgb(17,17,17)",
           "tickwidth": 0
          },
          "mapbox": {
           "style": "dark"
          }
         }
        },
        "xaxis": {
         "anchor": "y",
         "domain": [
          0.0,
          0.45
         ]
        },
        "yaxis": {
         "anchor": "x",
         "domain": [
          0.0,
          1.0
         ]
        },
        "xaxis2": {
         "anchor": "y2",
         "domain": [
          0.55,
          1.0
         ]
        },
        "yaxis2": {
         "anchor": "x2",
         "domain": [
          0.0,
          1.0
         ]
        },
        "width": 2800,
        "autosize": true,
        "hovermode": "x"
       },
       "config": {
        "plotlyServerURL": "https://plot.ly"
       }
      }
     },
     "metadata": {},
     "output_type": "display_data"
    },
    {
     "name": "stdout",
     "output_type": "stream",
     "text": [
      "Health & Hygiene with count -  97\n"
     ]
    },
    {
     "data": {
      "application/vnd.plotly.v1+json": {
       "data": [
        {
         "line": {
          "color": "#bc5090",
          "width": 4
         },
         "opacity": 0.8,
         "y": {
          "dtype": "i2",
          "bdata": "EA4YFXAXKApABmwHGBX8CNAHaBDYDlQLbAe4C3AXxAnECfwIuAtsB3gF5AwIB0wEdA7QB6gWrA2sDYAMgAy4C7gLCAdoEAgH+BEUBawNBBCkBrgLxCKsDawNTB14BfwIbAdMBNAHTASoFqQG0AfQBxQFuAtUC6gWCCB4NxgV1El4NyRFkBoQJwggGC5oKVgbGBUQDrgLxAnsExAOKArcBWgQaBCsDagWKApYGxgVbAe4JPgqJEWwBIA+"
         },
         "type": "scatter",
         "mode": "markers+lines",
         "visible": false
        },
        {
         "line": {
          "color": "#ffa600",
          "width": 4
         },
         "opacity": 0.8,
         "y": {
          "dtype": "i2",
          "bdata": "uAuUEUQWNAgUBdwFlBFsB6QGrA2ADGAJQAbECYgTNAg0CGwHxAlABrAE8ArcBYQDHAykBiQTVAtUC4wKjArECcQJ3AWsDdwFPA9MBFQLPA8UBcQJTB1UC1QLnBiwBGwHQAaEA6QGhAMkE3gFpAakBkwExAlgCSQT9Bp8LpQRHD58LjQ6RBbQIPQarCbEIgwXlBG4C8QJNAjMELgLmAgUBawNrA1UCyQTmAgMF5QRQAbcHgQpNDroA2A7"
         },
         "type": "scatter",
         "mode": "markers+lines",
         "visible": false
        },
        {
         "line": {
          "color": "#bc5090",
          "width": 4
         },
         "opacity": 0.8,
         "y": {
          "dtype": "i4",
          "bdata": "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"
         },
         "type": "scatter",
         "mode": "markers+lines",
         "visible": false
        },
        {
         "line": {
          "color": "#ffa600",
          "width": 4
         },
         "opacity": 0.8,
         "y": {
          "dtype": "i4",
          "bdata": "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"
         },
         "type": "scatter",
         "mode": "markers+lines",
         "visible": false
        },
        {
         "line": {
          "color": "#bc5090",
          "width": 4
         },
         "opacity": 0.8,
         "y": {
          "dtype": "i4",
          "bdata": "oIwAAMQJAAAcDAAAtF8AALRfAAD4KgAAtF8AAGAiAADMWwAAoA8AAJQRAABoEAAAcBcAAHwVAACsDQAAuAsAAFgbAAAgTgAAeB4AAAhSAABEYQAAmDoAAKAPAAB4HgAAZBkAAERhAACYOgAABEIAALgLAAB0WQAABEIAAOQMAADMWwAAREgAAPxTAADMWwAA/FMAAKwNAACYCAAAnBgAAMQJAAC4CwAA4BUAAJg6AABsawAApDgAAIw8AABwFwAAGBUAAEwdAABYGwAAbGsAAKwmAACwNgAAoA8AAEwdAACUKgAAqC8AAGgpAAAEKQAATB0AAGgpAAA0IQAArA0AAMQiAAA8cwAAuAsAAEAfAAA0IQAANCEAABAnAACwHQAA1DAAANQwAACgDwAA1DAAAJg6AAA8cwAAvE0AALA2AACsJgAAvE0AAKyKAABsawAApDgAAKwmAACoYQAA+CoAADQhAACsJgAArCYAABAnAAC4CwAABEIAALgLAAAQJwAA+CoAAKQGAACIEwAAGBUAALwbAADEhgAA0AcAAKAPAADcBQAAECcAAAgHAAAMFwAAlBEAALgLAADkJQAAOBgAACAcAAAgHAAATB0AAOAuAAAgHAAANCEAAGQZAAD4KgAAIBwAADB1AAD0TAAAQB8AAMxbAABwlAAAyBkAAEwdAADEIgAA"
         },
         "type": "scatter",
         "mode": "markers+lines",
         "visible": false
        },
        {
         "line": {
          "color": "#ffa600",
          "width": 4
         },
         "opacity": 0.8,
         "y": {
          "dtype": "i4",
          "bdata": "PIwAAMQJAAAcDAAAwF0AAMBdAAAEKQAA+FwAAJghAACgWgAAoA8AAJQRAABoEAAAcBcAAHwVAABIDQAAuAsAAJAaAAAgTgAATB0AAAhSAACUXAAA3DcAAKAPAABMHQAAZBkAAERhAACYOgAABEIAAFQLAAB4UAAA8DwAAOQMAAD4QwAA0DkAAMhLAABwSQAAMEMAAKwNAACYCAAAnBgAAGAJAAC4CwAAGBUAAJg6AACENQAApDgAAIw8AABEFgAA7BMAAEwdAABYGwAAhDUAALgkAAD0MwAAoA8AACAcAACgKAAA4C4AAGgpAACsJgAAhBwAAHQnAAAIIAAASA0AAKQfAABsOQAAuAsAAEAfAAAIIAAANCEAAKwmAACEHAAAfC4AABguAACgDwAAGC4AAJg6AABsOQAA1EkAAPQzAAC4JAAA1EkAACRFAACENQAAhDUAALgkAADUMAAA+CoAAEAfAAC4JAAAYCIAABwlAAC4CwAA5D4AALgLAAAcJQAA+CoAAKQGAAAkEwAAGBUAAFgbAACUXAAA0AcAADwPAADcBQAAHCUAAKQGAABEFgAAlBEAALgLAADkJQAAOBgAADgYAABwFwAAOBgAAJAaAAA4GAAA3B4AAHwVAAAcJQAAOBgAALxNAACcSgAAkBoAAMxCAABQkQAAABkAAEwdAADEIgAA"
         },
         "type": "scatter",
         "mode": "markers+lines",
         "visible": false
        },
        {
         "line": {
          "color": "#bc5090",
          "width": 4
         },
         "opacity": 0.8,
         "y": {
          "dtype": "i4",
          "bdata": "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"
         },
         "type": "scatter",
         "mode": "markers+lines",
         "visible": false
        },
        {
         "line": {
          "color": "#ffa600",
          "width": 4
         },
         "opacity": 0.8,
         "y": {
          "dtype": "i4",
          "bdata": "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"
         },
         "type": "scatter",
         "mode": "markers+lines",
         "visible": false
        },
        {
         "line": {
          "color": "#bc5090",
          "width": 4
         },
         "opacity": 0.8,
         "y": {
          "dtype": "i4",
          "bdata": "RGEAAFxEAAD8UwAAnHwAAHRAAACEZwAA9H4AAPRlAAAsZQAAdEAAAISAAACktQAALMkAAEhxAABEYQAAsDYAAPxTAAB4aQAACFIAAGxrAACoYQAApDgAAKhhAACcYwAAbGsAAGxrAAC0XwAAkGUAAKhhAAA8cwAAOEoAAKQ4AACAPgAAmDoAAJg6AAAUUAAA8FUAAPBVAABMHQAA8FUAAOgcAADoHAAAwBIAAFgbAADIGQAAPA8AAKAPAADoAwAA5CUAADgYAAAgTgAAXEQAADQhAAAgHAAAZBkAAPgqAADgLgAAIBwAACAcAABMHQAAIBwAAAhSAAAwdQAA"
         },
         "type": "scatter",
         "mode": "markers+lines",
         "visible": false
        },
        {
         "line": {
          "color": "#ffa600",
          "width": 4
         },
         "opacity": 0.8,
         "y": {
          "dtype": "i4",
          "bdata": "qEgAALg9AACwTwAACGsAAHRAAABcXQAAdHIAALhWAABsOQAAVD0AAHxgAACorAAAXMEAALBPAADsRQAAsDYAALBPAAB4aQAACFIAAOBgAACoYQAApDgAAKhhAADYWQAA4GAAAOBgAABUVgAAaFsAAKhhAADoZwAAOEoAAPQzAABAOAAA3DcAAJg6AADISwAA+CoAAPgqAACQGgAA+CoAACwaAAAsGgAAXBIAAGQZAADIGQAA2A4AADwPAADoAwAA5CUAADgYAABQRgAAuD0AANweAAA4GAAAfBUAABwlAACQGgAAOBgAADgYAAA4GAAAcBcAANRJAAB4aQAA"
         },
         "type": "scatter",
         "mode": "markers+lines",
         "visible": false
        },
        {
         "line": {
          "color": "#bc5090",
          "width": 4
         },
         "opacity": 0.8,
         "y": {
          "dtype": "i4",
          "bdata": "+CoAAOAuAADgLgAAQB8AAEAfAABYGwAAECcAAEAfAAA0OgAA4C4AAAhSAAC4iAAAZBkAAFgbAADgLgAAsDYAAJg6AACYOgAATB0AAEAfAACUEQAArA0AAEAfAABAHwAAiBMAAKAPAADAEgAA4C4AALA2AABYGwAAmDoAALgLAACYOgAAuAsAAHAXAAC4CwAATB0AAPwIAADECQAATB0AAGQZAABwFwAAcBcAAEwdAABkGQAAcBcAAJQRAADQBwAAuAsAAHAXAABkGQAAuAsAAHAXAAC4CwAA8AoAAKAPAACUEQAAcBcAAKwNAAAoIwAAQB8AAJQRAADIMgAArA0AAKwNAADIMgAAxAkAAMQJAACsDQAArA0AAHAXAAC4CwAAfBUAAFgbAABwFwAAiBMAAFgbAACIEwAAxAkAALgLAACUEQAAuAsAAIAMAAC4CwAA4C4AALgLAACIEwAAiBMAAHAXAAC4CwAA0AcAAHAXAAC4CwAAHCUAAMQJAABkGQAA0AcAAKwNAABwFwAAxAkAALgLAACsDQAArA0AAJQRAACUEQAAuAsAAJQRAAAEKQAABCkAAIgTAADECQAAxAkAAIgTAADECQAAlBEAAKwNAAC4CwAA6AMAAMQJAADECQAAxAkAAAQpAAAEKQAAuAsAAMQJAACUEQAA6AMAAOgDAADECQAA0AcAANAHAADcBQAA3AUAANwFAADcBQAA3AUAANwFAADoAwAAoA8AAOgDAADoAwAArA0AAKwNAACYOgAAlBEAAJQRAADYWQAA"
         },
         "type": "scatter",
         "mode": "markers+lines",
         "visible": false
        },
        {
         "line": {
          "color": "#ffa600",
          "width": 4
         },
         "opacity": 0.8,
         "y": {
          "dtype": "i4",
          "bdata": "uCQAANgnAABAKQAAIBwAAEAfAABYGwAAECcAACAcAACENQAA4C4AALxNAAC4iAAAZBkAAFgbAACsJgAALDMAAMArAACcMQAAXhoAAEAfAACUEQAArA0AAJAaAACoFgAAXBIAAKAPAABcEgAAgCUAAAQpAAA4GAAATB0AALgLAABMHQAAuAsAAHAXAACMCgAAWBsAANAHAADECQAAWBsAANQXAADgFQAA4BUAAEwdAABkGQAAGBUAADARAADQBwAAjAoAABgVAADUFwAAjAoAAOAVAACMCgAA8AoAANgOAACUEQAAGBUAAKwNAACkHwAAIBwAAJQRAABQLQAAVAsAAEgNAABQLQAAxAkAAJgIAACsDQAASA0AAHAXAAC4CwAABBAAAJwYAAAYFQAAXBIAAJwYAACIEwAAxAkAAFQLAACUEQAAVAsAABwMAAC4CwAAMCoAALgLAAAkEwAAmhAAAHAXAABUCwAA0AcAAOAVAABUCwAAxCIAAMQJAADUFwAA0AcAAEgNAADgFQAAxAkAAFQLAABUCwAAgAwAAJgIAACYCAAAuAsAAJgIAACkHwAApB8AAGgQAAD8CAAAyggAAGgQAAD8CAAA2A4AAEgNAAC4CwAA6AMAAMQJAAD8CAAAyggAAKQfAACkHwAA8AoAAPwIAACgDwAA6AMAAOgDAADECQAA0AcAAAgHAADcBQAA3AUAANwFAADcBQAA3AUAANwFAADoAwAA5AwAAOgDAADoAwAAjAoAAIwKAADgLgAAoA8AAKAPAAAwQwAA"
         },
         "type": "scatter",
         "mode": "markers+lines",
         "visible": false
        },
        {
         "line": {
          "color": "#bc5090",
          "width": 4
         },
         "opacity": 0.8,
         "y": {
          "dtype": "i4",
          "bdata": "1EkAAKwmAACsJgAAlCoAAJQqAACsJgAAaL8AAMzYAADM2AAA7MIAAPT7AABQRgAAkGUAAJBlAABIcQAAUEYAADQ6AAC8TQAA7CwAAKhhAABUbwAA5FcAAORXAADcmwAAzFsAAFAtAAD0fgAAzFsAAJBlAAAwdQAA/FMAANhZAADcmwAAAH0AAJg6AADYQAAAwEQAAMBEAAC8TQAAgD4AAIRnAAAobgAARGEAADxzAAB8kgAAfJIAACBnAADAXQAAwF0AAFRvAABgbQAA5FcAAJSOAABwlAAAiEUAALBoAAAMMAAAeGkAAIA+AADcmwAAGEcAACBOAACYOgAAvE0AALA2AACYOgAARGEAAEAfAAC8TQAAmDoAALxNAAC8TQAA5FcAAORXAACYOgAArCYAAJg6AADkVwAAtHgAAKwmAAC8TQAAVG8AAHRAAAC8TQAAiCwAABh5AAA0IQAAzHQAABAnAAAcJQAAECcAADhKAADIMgAA3JsAAGhCAADEIgAA3B4AAPQaAACwNgAAvBsAACBOAADIMgAAUEYAAHRAAACwNgAA+CoAAHRAAADIMgAAYOoAAKwmAAC8TQAATB0AADhKAABsawAATB0AADQhAAAYeQAA5FcAANw3AAC8TQAAvE0AALxNAACkUQAANDoAALxNAAC8TQAAvDQAAAhSAADwVQAACCAAAJg6AACYOgAALEwAAGhCAACMPAAAuD0AAOAuAAB8kgAA4C4AAOAuAACENQAAOEoAAGAiAAC8TQAA4C4AAAQpAAA4SgAAMPIAADDyAAAw8gAA2NYAADDyAACwNgAA2NYAANjWAAAoIwAARGEAAKhhAAAIUgAA5FcAALxNAAAsTAAAvE0AAHQnAAAoIwAABCkAADhKAAAsTAAALEwAANybAACoYQAAUEYAACxMAAAsTAAAqBYAACxMAAAIUgAAvE0AAGhCAACIEwAAWBsAALgLAAC8TQAATB0AAMxbAAAIUgAA2FkAACBOAACoYQAA+CoAACBOAABMHQAAIE4AAMASAADgLgAANFMAAKgWAADAqAAAECcAAOwsAADQIAAAUEYAAHAXAAAoIwAArCYAAPxTAABAHwAA1DAAAJg6AACMPAAAWBsAABAnAABESAAAsDYAAFSIAACoYQAApDgAAERhAABESAAAREgAAHwVAAC0XwAALBoAAKQ4AABQRgAASCYAAFxEAADsLAAATB0AAFxEAADY1gAA2NYAABRdAgDIMgAAiBMAADhKAABUJAAAVCQAACgjAACAPgAAKCMAAHwVAABMHQAA1DAAAKwNAADsLAAATK0BALRfAAAgTgAATB0AAEwdAACwNgAANCEAADQhAADM2AAAQB8AAORXAABMrQEAyDIAANweAADECQAAvDQAAAwRAQDIMgAAvDQAAAwRAQA0OgAAvDQAAIgTAABkrwAATK0BAGQZAABMHQAAZBkAAOiAAACoYQAADHsAAPzpAADMdAAA0IQAAAggAADcmwAATB0AABAnAAAAfQAAZBkAAJSnAACgjAAAVAsAACgjAADMWwAA7CwAAPQzAADECQAAuAsAALgLAABAHwAAKCMAANweAAC4CwAA5AwAAAQpAADMWwAA6AMAAIw8AABcRAAAREgAAFxEAAB8FQAABKYAAIAMAAC4CwAAKCMAALgLAAAoIwAAaBAAALgLAADgLgAAYCIAAJg6AADswgAAhP0AAKwmAADgLgAArCYAAEgmAABESAAAgD4AAKwmAACwNgAArCYAAFBGAAB8kgAARGEAAJBlAACIEwAARGEAALgLAABUiAAA0AcAAMSGAADQBwAAMHUAADQ6AAA="
         },
         "type": "scatter",
         "mode": "markers+lines",
         "visible": false
        },
        {
         "line": {
          "color": "#ffa600",
          "width": 4
         },
         "opacity": 0.8,
         "y": {
          "dtype": "i4",
          "bdata": "1EkAAKwmAAAcJQAABCkAAAQpAACsJgAAXI8AAITLAACEywAAZK8AABDvAABQRgAAfGAAAHxgAAD0ZQAAUEYAADQ6AAC8TQAA+CoAAORXAAC8ZgAA5FcAAAhSAACcfAAAzFsAAFAtAAD0fgAAcEkAADRTAAAgZwAAyEsAAHBJAABshAAAhGcAALA2AABUPQAAuD0AALg9AACoSAAAFDcAAIRnAAAobgAAaFsAAOhnAAAIhAAAeIIAACBnAADAXQAAVFYAAOhnAAAwXAAACFIAAJSOAABwlAAAiEUAAHBiAAAMMAAAdFkAAEA4AACcfAAAKDwAAIA+AAC8NAAAHD4AADgxAADgLgAAvE0AAEwdAACoSAAAvDQAAOxFAACcSgAAUEYAAJhTAAC8NAAAxCIAAOAuAABQRgAAmGwAAMQiAADsRQAAVG8AAHRAAAC8TQAAVCQAALxmAAA0IQAAfGAAABAnAAAcJQAAHCUAAIhFAAB8LgAA3JsAAAg5AAA0IQAA3B4AAPQaAAAAMgAAvBsAACBOAADgLgAAUEYAAKQ4AAA4MQAA+CoAAJg6AACILAAA8NIAAKwmAAC8TQAAkBoAADhKAAB8YAAATB0AADQhAABAagAATE8AANw3AAC8TQAAJEUAALxNAACkUQAANDoAALxNAAC8TQAAvDQAABhHAADwVQAA6BwAAJg6AAAUNwAA+EMAAGhCAACwNgAAbDkAAMArAAB8kgAAwCsAAOAuAAAMMAAAOEoAAGAiAAC8TQAA4C4AAAQpAAA4SgAAMPIAADDyAAAw8gAA2NYAADDyAACwNgAA2NYAANjWAAAoIwAARGEAAKhhAADISwAABEIAALxNAAD4QwAAvE0AABwlAACkHwAABCkAAARCAAD4QwAAwEQAADyMAACoYQAASD8AAPhDAAD4QwAAqBYAAMBEAAAIUgAAHD4AAMQ7AACIEwAAnBgAAFQLAADUSQAATB0AANBSAADISwAA2FkAAFBGAACoYQAArCYAAFBGAABMHQAAUEYAAFwSAAAwKgAAOEoAAHwVAABcjwAA0CAAADwoAADQIAAArD8AAHAXAACkHwAAxCIAACBOAACEHAAAwCsAAJg6AACkOAAAWBsAABAnAABESAAAODEAAKh6AADkVwAALDMAAERhAABUPQAAVD0AAHwVAABUVgAAcBcAACwzAABQRgAASCYAAFQ9AADsLAAAvBsAALg9AADY1gAA2NYAAKRLAQC0LQAAJBMAAEg/AABUJAAAYCIAAKQfAACgKAAA0CAAAIgTAAC8GwAA1DAAAEgNAABoKQAApEsBAFRWAABQRgAAkBoAAEwdAAA4MQAAIBwAANweAADM2AAAQB8AAORXAAAsXwEAyDIAAJAaAADECQAAADIAAHTWAADsLAAAADIAAJzgAABYNAAAADIAAJQRAAAcogAALF8BAKgWAABMHQAAqBYAACx+AADkVwAADHsAANTGAAD8bAAAaHQAAOgcAAAkkAAAZBkAACgjAAAAfQAADBcAADCOAACQfgAAVAsAAPwhAAAoVQAA7CwAAMgyAADECQAAuAsAALgLAAAgHAAAKCMAAOgcAAC4CwAA5AwAAAQpAAAoVQAA6AMAAIw8AABcRAAAREgAAFxEAAB8FQAA0IQAAFQLAAC4CwAAKCMAAFQLAACkHwAABBAAAFQLAADgLgAACCAAAAwwAACwswAAyOEAAKwmAAAwKgAArCYAAEgmAAAEQgAAgD4AAKwmAAB8LgAArCYAAFBGAAB8kgAARGEAAGhbAACIEwAA2FkAAMQJAAD0fgAA0AcAAMSGAADQBwAAbGsAADQ6AAA="
         },
         "type": "scatter",
         "mode": "markers+lines",
         "visible": false
        },
        {
         "line": {
          "color": "#bc5090",
          "width": 4
         },
         "opacity": 0.8,
         "y": {
          "dtype": "i4",
          "bdata": "uAsAABRQAAAUUAAAFFAAAHRAAAD0fgAA9H4AAMxbAACILAAAREgAANA5AAA4SgAAYG0AAJQRAAA8KAAAgCUAAMwpAAC8NAAA9BoAADwoAAB8FQAABCkAABwlAADUSQAA2CcAABhHAAAIUgAAFGkAAIA+AADkVwAA/AgAAFAtAAA4GAAA5D4AAOQ+AADkPgAAmDoAADQ6AACYOgAAuAsAAHQnAADoHAAAZBkAAAgHAADoAwAAmDoAAJg6AADIGQAAZBkAACgjAACIEwAAjDwAAGQZAAAoPAAAZBkAACgjAACoYQAAYG0AAAAZAAA4SgAATB0AAEgmAABMHQAAzHQAAEgmAAAAAAAAxAkAANAHAADkDAAAuAsAAGwHAADEIgAAbAcAADQhAABYGwAAHCUAAFgbAADAXQAAECcAAIgTAADAXQAAQB8AAHwuAACQGgAAkBoAAHBJAABwSQAAgD4AAPQaAAD0GgAA1EkAAEw2AAAIIAAACCAAANweAACIEwAATB0AAMQJAABAHwAAuAsAAHAXAACgDwAAsAQAALAEAABAHwAAWJgAAHwVAABwEQEAfBUAAJg6AAB8FQAAmDoAAHwVAABMHQAACFIAALw0AABMHQAAQAYAAOiAAABMHQAAaDwBAGDqAABAGQEAsDYAAIA4AQCwNgAAIE4AAKwNAAAoIwAAsDYAAOzCAACQGgAAAH0AAJQRAAAIzwAA/FMAAGgQAABkGQAAIE4AAPgqAADkVwAAIE4AAGhCAAAIIAAANDoAAKAPAADUSQAAiEUAAGBtAACIEwAA5FcAAOxFAADUMAAAXEQAALxNAACsDQAAkBoAAFgbAABcRAAAbGsAAEAfAACYOgAAqGEAAOj9AACYOgAAWJgAAFBGAACYOgAAmDoAAJg6AACIEwAAvDQAAIRnAAB4HgAA8FUAAOwsAADkVwAAVAsAAIgTAAAAfQAA7EUAAKhhAABQRgAA8FUAALA2AACQZQAAqGEAAAQpAACwBAAAmCEAACA1AAA4SgAAQB8AAEBRAAA="
         },
         "type": "scatter",
         "mode": "markers+lines",
         "visible": false
        },
        {
         "line": {
          "color": "#ffa600",
          "width": 4
         },
         "opacity": 0.8,
         "y": {
          "dtype": "i4",
          "bdata": "8AoAAHBJAABwSQAAcEkAAPA8AABQeAAAEHIAANBSAACILAAAXEQAAIQ1AABcRAAAcGIAAJQRAADkJQAAxCIAAIAlAAC8NAAAOBgAAOQlAAB8FQAASCYAAJghAADsRQAA2CcAAMBEAADUSQAAFGkAADQ6AAA0UwAAmAgAAFAtAACoFgAAYDsAAGA7AABgOwAAODEAABQ3AAA0OgAAVAsAAEgmAABYGwAA4BUAAAgHAADoAwAAkDMAAJAzAADIGQAADBcAAAggAAAkEwAAkDMAAOAVAADcNwAA4BUAAAggAADkVwAAcGIAAHAXAABIPwAA9BoAAFQkAAC8GwAAFGkAAFQkAAAAAAAAxAkAANAHAADkDAAAuAsAAGwHAADEIgAAbAcAANweAACcGAAAmCEAAJwYAACwTwAAKCMAAPgRAADAXQAAIBwAAMwpAAAAGQAAABkAAARCAAAEQgAAgD4AANQXAAD0GgAAaEIAANQwAAAUHgAAFB4AALwbAAAkEwAAkBoAAMQJAAAgHAAA8AoAABgVAAA8DwAAsAQAALAEAABMHQAAjIcAAHwVAAD04gAAfBUAANw3AAB8FQAA3DcAAHwVAABMHQAA1EkAAKgvAACQGgAAQAYAAAR0AACQGgAA+CQBAHTWAACE/QAAODEAAKAJAQCwNgAAIE4AAEgNAACkHwAAODEAAOzCAACQGgAAAH0AADARAAAMxgAAbFIAAAQQAAAMFwAAUEYAAMwpAABUVgAAcEkAAARCAADoHAAAvDQAADwPAADsRQAAiEUAALxmAAAkEwAA5FcAAOQ+AAAkLAAAXEQAAOxFAABIDQAAyBkAAJAaAAC4PQAAaFsAAEAfAAAMMAAAqGEAAJjpAAC8NAAAkH4AAGhCAACYOgAAvDQAALA2AAAkEwAAqC8AAIRnAABYGwAAWE0AAEgmAADkVwAA8AoAAIgTAAAAfQAA5D4AAORXAABcRAAA8FUAAGQyAACQZQAAqGEAANgnAABMBAAA0CAAACwzAABcRAAAkBoAACxMAAA="
         },
         "type": "scatter",
         "mode": "markers+lines",
         "visible": false
        },
        {
         "line": {
          "color": "#bc5090",
          "width": 4
         },
         "opacity": 0.8,
         "y": {
          "dtype": "i4",
          "bdata": "HKIAADhKAADMWwAAqGEAAFzBAAB4HgAAUC0AAFxEAAAcPgAAeGkAABAnAACUEQAAdEAAAMgyAADIGQAAlBEAAJQRAACUEQAA+CoAAMgyAAD4KgAAsDYAAEyaAAD4KgAAZBkAAMgyAAAEKQAASHEAAKAPAACgDwAAoA8AANRJAADkDAAAuAsAAORXAAAUUAAAzNgAAMQJAACkOAAAvDQAALw0AABwFwAA1EkAALw0AADUMAAAZK8AADQ6AAAMewAA6IAAACxMAADQhAAAECcAADQhAAAEKQAArCYAADQhAAD0MwAAKCMAANAHAAAoIwAA7CwAAMxbAAAEKQAAREgAAEwdAACMPAAAXEQAAFxEAAC0XwAAEFkAALRfAAAQWQAAEFkAAKCMAACYOgAAiBMAAJQRAACgDwAAoA8AALgLAAC4CwAAKCMAAGgQAAC4CwAAKCMAAIAMAAAYFQAACCAAAOAuAAB8kgAABCkAAMx0AABUiAAARGEAAMxbAABAnAAARGEAAA=="
         },
         "type": "scatter",
         "mode": "markers+lines"
        },
        {
         "line": {
          "color": "#ffa600",
          "width": 4
         },
         "opacity": 0.8,
         "y": {
          "dtype": "i4",
          "bdata": "ZJYAACRFAAAcVwAA5FcAALCaAABMHQAAUC0AAFQ9AADcNwAAeGkAABwlAABoEAAA0DkAAAwwAADIGQAAaBAAAGgQAABoEAAANCEAAMgyAAA0IQAA9DMAAHB7AACsJgAAqBYAALQtAADEIgAAGGAAANAHAADQBwAA0AcAAGhCAADkDAAAuAsAAORXAAAQQAAAzNgAAMQJAABkMgAAADIAAAAyAABwFwAAgD4AAAAyAAAkLAAAHKIAABQ3AAAMewAALH4AABhHAABodAAAxCIAABQeAABUJAAArCYAALAdAADIMgAAKCMAANAHAAD8IQAA7CwAAChVAAAEKQAAREgAALwbAACMPAAAXEQAAFxEAADwVQAAFFAAAPBVAAAUUAAAFFAAAIh3AAC8NAAAXBIAAAQQAAAQDgAAPA8AALgLAABUCwAApB8AAAQQAABUCwAAKCMAAFQLAADAEgAACCAAAOAuAAB8kgAAHCUAADhjAAAIhAAA0FIAALxNAADQhAAA2FkAAA=="
         },
         "type": "scatter",
         "mode": "markers+lines"
        }
       ],
       "layout": {
        "template": {
         "data": {
          "histogram2dcontour": [
           {
            "type": "histogram2dcontour",
            "colorbar": {
             "outlinewidth": 0,
             "ticks": ""
            },
            "colorscale": [
             [
              0.0,
              "#0d0887"
             ],
             [
              0.1111111111111111,
              "#46039f"
             ],
             [
              0.2222222222222222,
              "#7201a8"
             ],
             [
              0.3333333333333333,
              "#9c179e"
             ],
             [
              0.4444444444444444,
              "#bd3786"
             ],
             [
              0.5555555555555556,
              "#d8576b"
             ],
             [
              0.6666666666666666,
              "#ed7953"
             ],
             [
              0.7777777777777778,
              "#fb9f3a"
             ],
             [
              0.8888888888888888,
              "#fdca26"
             ],
             [
              1.0,
              "#f0f921"
             ]
            ]
           }
          ],
          "choropleth": [
           {
            "type": "choropleth",
            "colorbar": {
             "outlinewidth": 0,
             "ticks": ""
            }
           }
          ],
          "histogram2d": [
           {
            "type": "histogram2d",
            "colorbar": {
             "outlinewidth": 0,
             "ticks": ""
            },
            "colorscale": [
             [
              0.0,
              "#0d0887"
             ],
             [
              0.1111111111111111,
              "#46039f"
             ],
             [
              0.2222222222222222,
              "#7201a8"
             ],
             [
              0.3333333333333333,
              "#9c179e"
             ],
             [
              0.4444444444444444,
              "#bd3786"
             ],
             [
              0.5555555555555556,
              "#d8576b"
             ],
             [
              0.6666666666666666,
              "#ed7953"
             ],
             [
              0.7777777777777778,
              "#fb9f3a"
             ],
             [
              0.8888888888888888,
              "#fdca26"
             ],
             [
              1.0,
              "#f0f921"
             ]
            ]
           }
          ],
          "heatmap": [
           {
            "type": "heatmap",
            "colorbar": {
             "outlinewidth": 0,
             "ticks": ""
            },
            "colorscale": [
             [
              0.0,
              "#0d0887"
             ],
             [
              0.1111111111111111,
              "#46039f"
             ],
             [
              0.2222222222222222,
              "#7201a8"
             ],
             [
              0.3333333333333333,
              "#9c179e"
             ],
             [
              0.4444444444444444,
              "#bd3786"
             ],
             [
              0.5555555555555556,
              "#d8576b"
             ],
             [
              0.6666666666666666,
              "#ed7953"
             ],
             [
              0.7777777777777778,
              "#fb9f3a"
             ],
             [
              0.8888888888888888,
              "#fdca26"
             ],
             [
              1.0,
              "#f0f921"
             ]
            ]
           }
          ],
          "contourcarpet": [
           {
            "type": "contourcarpet",
            "colorbar": {
             "outlinewidth": 0,
             "ticks": ""
            }
           }
          ],
          "contour": [
           {
            "type": "contour",
            "colorbar": {
             "outlinewidth": 0,
             "ticks": ""
            },
            "colorscale": [
             [
              0.0,
              "#0d0887"
             ],
             [
              0.1111111111111111,
              "#46039f"
             ],
             [
              0.2222222222222222,
              "#7201a8"
             ],
             [
              0.3333333333333333,
              "#9c179e"
             ],
             [
              0.4444444444444444,
              "#bd3786"
             ],
             [
              0.5555555555555556,
              "#d8576b"
             ],
             [
              0.6666666666666666,
              "#ed7953"
             ],
             [
              0.7777777777777778,
              "#fb9f3a"
             ],
             [
              0.8888888888888888,
              "#fdca26"
             ],
             [
              1.0,
              "#f0f921"
             ]
            ]
           }
          ],
          "surface": [
           {
            "type": "surface",
            "colorbar": {
             "outlinewidth": 0,
             "ticks": ""
            },
            "colorscale": [
             [
              0.0,
              "#0d0887"
             ],
             [
              0.1111111111111111,
              "#46039f"
             ],
             [
              0.2222222222222222,
              "#7201a8"
             ],
             [
              0.3333333333333333,
              "#9c179e"
             ],
             [
              0.4444444444444444,
              "#bd3786"
             ],
             [
              0.5555555555555556,
              "#d8576b"
             ],
             [
              0.6666666666666666,
              "#ed7953"
             ],
             [
              0.7777777777777778,
              "#fb9f3a"
             ],
             [
              0.8888888888888888,
              "#fdca26"
             ],
             [
              1.0,
              "#f0f921"
             ]
            ]
           }
          ],
          "mesh3d": [
           {
            "type": "mesh3d",
            "colorbar": {
             "outlinewidth": 0,
             "ticks": ""
            }
           }
          ],
          "scatter": [
           {
            "marker": {
             "line": {
              "color": "#283442"
             }
            },
            "type": "scatter"
           }
          ],
          "parcoords": [
           {
            "type": "parcoords",
            "line": {
             "colorbar": {
              "outlinewidth": 0,
              "ticks": ""
             }
            }
           }
          ],
          "scatterpolargl": [
           {
            "type": "scatterpolargl",
            "marker": {
             "colorbar": {
              "outlinewidth": 0,
              "ticks": ""
             }
            }
           }
          ],
          "bar": [
           {
            "error_x": {
             "color": "#f2f5fa"
            },
            "error_y": {
             "color": "#f2f5fa"
            },
            "marker": {
             "line": {
              "color": "rgb(17,17,17)",
              "width": 0.5
             },
             "pattern": {
              "fillmode": "overlay",
              "size": 10,
              "solidity": 0.2
             }
            },
            "type": "bar"
           }
          ],
          "scattergeo": [
           {
            "type": "scattergeo",
            "marker": {
             "colorbar": {
              "outlinewidth": 0,
              "ticks": ""
             }
            }
           }
          ],
          "scatterpolar": [
           {
            "type": "scatterpolar",
            "marker": {
             "colorbar": {
              "outlinewidth": 0,
              "ticks": ""
             }
            }
           }
          ],
          "histogram": [
           {
            "marker": {
             "pattern": {
              "fillmode": "overlay",
              "size": 10,
              "solidity": 0.2
             }
            },
            "type": "histogram"
           }
          ],
          "scattergl": [
           {
            "marker": {
             "line": {
              "color": "#283442"
             }
            },
            "type": "scattergl"
           }
          ],
          "scatter3d": [
           {
            "type": "scatter3d",
            "line": {
             "colorbar": {
              "outlinewidth": 0,
              "ticks": ""
             }
            },
            "marker": {
             "colorbar": {
              "outlinewidth": 0,
              "ticks": ""
             }
            }
           }
          ],
          "scattermap": [
           {
            "type": "scattermap",
            "marker": {
             "colorbar": {
              "outlinewidth": 0,
              "ticks": ""
             }
            }
           }
          ],
          "scattermapbox": [
           {
            "type": "scattermapbox",
            "marker": {
             "colorbar": {
              "outlinewidth": 0,
              "ticks": ""
             }
            }
           }
          ],
          "scatterternary": [
           {
            "type": "scatterternary",
            "marker": {
             "colorbar": {
              "outlinewidth": 0,
              "ticks": ""
             }
            }
           }
          ],
          "scattercarpet": [
           {
            "type": "scattercarpet",
            "marker": {
             "colorbar": {
              "outlinewidth": 0,
              "ticks": ""
             }
            }
           }
          ],
          "carpet": [
           {
            "aaxis": {
             "endlinecolor": "#A2B1C6",
             "gridcolor": "#506784",
             "linecolor": "#506784",
             "minorgridcolor": "#506784",
             "startlinecolor": "#A2B1C6"
            },
            "baxis": {
             "endlinecolor": "#A2B1C6",
             "gridcolor": "#506784",
             "linecolor": "#506784",
             "minorgridcolor": "#506784",
             "startlinecolor": "#A2B1C6"
            },
            "type": "carpet"
           }
          ],
          "table": [
           {
            "cells": {
             "fill": {
              "color": "#506784"
             },
             "line": {
              "color": "rgb(17,17,17)"
             }
            },
            "header": {
             "fill": {
              "color": "#2a3f5f"
             },
             "line": {
              "color": "rgb(17,17,17)"
             }
            },
            "type": "table"
           }
          ],
          "barpolar": [
           {
            "marker": {
             "line": {
              "color": "rgb(17,17,17)",
              "width": 0.5
             },
             "pattern": {
              "fillmode": "overlay",
              "size": 10,
              "solidity": 0.2
             }
            },
            "type": "barpolar"
           }
          ],
          "pie": [
           {
            "automargin": true,
            "type": "pie"
           }
          ]
         },
         "layout": {
          "autotypenumbers": "strict",
          "colorway": [
           "#636efa",
           "#EF553B",
           "#00cc96",
           "#ab63fa",
           "#FFA15A",
           "#19d3f3",
           "#FF6692",
           "#B6E880",
           "#FF97FF",
           "#FECB52"
          ],
          "font": {
           "color": "#f2f5fa"
          },
          "hovermode": "closest",
          "hoverlabel": {
           "align": "left"
          },
          "paper_bgcolor": "rgb(17,17,17)",
          "plot_bgcolor": "rgb(17,17,17)",
          "polar": {
           "bgcolor": "rgb(17,17,17)",
           "angularaxis": {
            "gridcolor": "#506784",
            "linecolor": "#506784",
            "ticks": ""
           },
           "radialaxis": {
            "gridcolor": "#506784",
            "linecolor": "#506784",
            "ticks": ""
           }
          },
          "ternary": {
           "bgcolor": "rgb(17,17,17)",
           "aaxis": {
            "gridcolor": "#506784",
            "linecolor": "#506784",
            "ticks": ""
           },
           "baxis": {
            "gridcolor": "#506784",
            "linecolor": "#506784",
            "ticks": ""
           },
           "caxis": {
            "gridcolor": "#506784",
            "linecolor": "#506784",
            "ticks": ""
           }
          },
          "coloraxis": {
           "colorbar": {
            "outlinewidth": 0,
            "ticks": ""
           }
          },
          "colorscale": {
           "sequential": [
            [
             0.0,
             "#0d0887"
            ],
            [
             0.1111111111111111,
             "#46039f"
            ],
            [
             0.2222222222222222,
             "#7201a8"
            ],
            [
             0.3333333333333333,
             "#9c179e"
            ],
            [
             0.4444444444444444,
             "#bd3786"
            ],
            [
             0.5555555555555556,
             "#d8576b"
            ],
            [
             0.6666666666666666,
             "#ed7953"
            ],
            [
             0.7777777777777778,
             "#fb9f3a"
            ],
            [
             0.8888888888888888,
             "#fdca26"
            ],
            [
             1.0,
             "#f0f921"
            ]
           ],
           "sequentialminus": [
            [
             0.0,
             "#0d0887"
            ],
            [
             0.1111111111111111,
             "#46039f"
            ],
            [
             0.2222222222222222,
             "#7201a8"
            ],
            [
             0.3333333333333333,
             "#9c179e"
            ],
            [
             0.4444444444444444,
             "#bd3786"
            ],
            [
             0.5555555555555556,
             "#d8576b"
            ],
            [
             0.6666666666666666,
             "#ed7953"
            ],
            [
             0.7777777777777778,
             "#fb9f3a"
            ],
            [
             0.8888888888888888,
             "#fdca26"
            ],
            [
             1.0,
             "#f0f921"
            ]
           ],
           "diverging": [
            [
             0,
             "#8e0152"
            ],
            [
             0.1,
             "#c51b7d"
            ],
            [
             0.2,
             "#de77ae"
            ],
            [
             0.3,
             "#f1b6da"
            ],
            [
             0.4,
             "#fde0ef"
            ],
            [
             0.5,
             "#f7f7f7"
            ],
            [
             0.6,
             "#e6f5d0"
            ],
            [
             0.7,
             "#b8e186"
            ],
            [
             0.8,
             "#7fbc41"
            ],
            [
             0.9,
             "#4d9221"
            ],
            [
             1,
             "#276419"
            ]
           ]
          },
          "xaxis": {
           "gridcolor": "#283442",
           "linecolor": "#506784",
           "ticks": "",
           "title": {
            "standoff": 15
           },
           "zerolinecolor": "#283442",
           "automargin": true,
           "zerolinewidth": 2
          },
          "yaxis": {
           "gridcolor": "#283442",
           "linecolor": "#506784",
           "ticks": "",
           "title": {
            "standoff": 15
           },
           "zerolinecolor": "#283442",
           "automargin": true,
           "zerolinewidth": 2
          },
          "scene": {
           "xaxis": {
            "backgroundcolor": "rgb(17,17,17)",
            "gridcolor": "#506784",
            "linecolor": "#506784",
            "showbackground": true,
            "ticks": "",
            "zerolinecolor": "#C8D4E3",
            "gridwidth": 2
           },
           "yaxis": {
            "backgroundcolor": "rgb(17,17,17)",
            "gridcolor": "#506784",
            "linecolor": "#506784",
            "showbackground": true,
            "ticks": "",
            "zerolinecolor": "#C8D4E3",
            "gridwidth": 2
           },
           "zaxis": {
            "backgroundcolor": "rgb(17,17,17)",
            "gridcolor": "#506784",
            "linecolor": "#506784",
            "showbackground": true,
            "ticks": "",
            "zerolinecolor": "#C8D4E3",
            "gridwidth": 2
           }
          },
          "shapedefaults": {
           "line": {
            "color": "#f2f5fa"
           }
          },
          "annotationdefaults": {
           "arrowcolor": "#f2f5fa",
           "arrowhead": 0,
           "arrowwidth": 1
          },
          "geo": {
           "bgcolor": "rgb(17,17,17)",
           "landcolor": "rgb(17,17,17)",
           "subunitcolor": "#506784",
           "showland": true,
           "showlakes": true,
           "lakecolor": "rgb(17,17,17)"
          },
          "title": {
           "x": 0.05
          },
          "updatemenudefaults": {
           "bgcolor": "#506784",
           "borderwidth": 0
          },
          "sliderdefaults": {
           "bgcolor": "#C8D4E3",
           "borderwidth": 1,
           "bordercolor": "rgb(17,17,17)",
           "tickwidth": 0
          },
          "mapbox": {
           "style": "dark"
          }
         }
        },
        "xaxis": {
         "anchor": "y",
         "domain": [
          0.0,
          0.45
         ]
        },
        "yaxis": {
         "anchor": "x",
         "domain": [
          0.0,
          1.0
         ]
        },
        "xaxis2": {
         "anchor": "y2",
         "domain": [
          0.55,
          1.0
         ]
        },
        "yaxis2": {
         "anchor": "x2",
         "domain": [
          0.0,
          1.0
         ]
        },
        "width": 2800,
        "autosize": true,
        "hovermode": "x"
       },
       "config": {
        "plotlyServerURL": "https://plot.ly"
       }
      }
     },
     "metadata": {},
     "output_type": "display_data"
    }
   ],
   "execution_count": 89
  },
  {
   "metadata": {
    "ExecuteTime": {
     "end_time": "2025-06-08T06:26:04.811980Z",
     "start_time": "2025-06-08T06:26:04.478877Z"
    }
   },
   "cell_type": "code",
   "source": [
    "for value in uniqueCategories:\n",
    "    dfT = dfN[dfN['Category'] == f'{value}']\n",
    "    fig3dScatter = px.scatter_3d(dfT, x='quantity',y='discountedSellingPrice',z='mrp', color='availableQuantity', title=f'{value}', color_continuous_scale='oryel')\n",
    "    fig3dScatter.update_layout(height=750).update_traces(marker=dict(size=8, symbol=\"diamond\", line=dict(width=2, color=\"DarkSlateGrey\")),selector=dict(mode=\"markers\")).show()"
   ],
   "id": "40c9d4b9d9d6fd26",
   "outputs": [
    {
     "data": {
      "application/vnd.plotly.v1+json": {
       "data": [
        {
         "hovertemplate": "quantity=%{x}<br>discountedSellingPrice=%{y}<br>mrp=%{z}<br>availableQuantity=%{marker.color}<extra></extra>",
         "legendgroup": "",
         "marker": {
          "color": {
           "dtype": "i1",
           "bdata": "AwMDAwMDAwMDAwMDAwMDAwMDAwMDAwMDAwMDAwMDAwMDAwMDAwMDAwMDAwMDAwMDAwMDBgYDAwMDAwMGAwMDAwMCAwMDAwMGAwYGAwICAwIDAwMDAwAAAAA="
          },
          "coloraxis": "coloraxis",
          "symbol": "diamond",
          "line": {
           "color": "DarkSlateGrey",
           "width": 2
          },
          "size": 8
         },
         "mode": "markers",
         "name": "",
         "scene": "scene",
         "showlegend": false,
         "x": {
          "dtype": "i2",
          "bdata": "AQABAAEAZAD6AAEAyAABAPoAZAAGAGQAAQDIAPoAAQABAPoA9AEGAAQAZAD6AAEABgABADIAAQD6AAEABAD6APoAAgD6AAIAAgACAPQB+gAEAAQA+gD6AAQA+gBkAPoAyAD6APoA9AH0AcgA9AHIAAIAAQD0AQQAAQBkAGQA9AHIAGQAAgACAGQA9AH6APQByAD0AfQBAQABACwB+gABAPoA9AH0AfQByADIAPQByAABAA=="
         },
         "y": {
          "dtype": "i2",
          "bdata": "NAisDcwQpAawBFQLnBgkE2wHQAZgCYQDmAiwBEAGrA0UBcQJuAvECfQahAPwCpgIJBO4C0wEQAY0CJQRfC7cBdwFuAvcBawmxCLECUAGjAqUETQ6jArECRw+xAlsB1QLVAtUC6wNpAZgCVQLgAxMHZQRDBesDXwu3B6kBngFxAk8DyQT9BoMF6QGiBMkE5QRxAmUEWwHNDroAzQIpAYEKRwMFAU0CNwFFAVUC0QWPA9gOw=="
         },
         "z": {
          "dtype": "i2",
          "bdata": "xAloEOwT0Ad4BawNTB2oFvwIbAdUC0wEKAp4BWwHaBDcBbgLEA64CwggTATkDCgKqBYQDhQFbAfECRgVeDcIBwgHEA4IBxguaCm4C2wHgAwYFSRFgAy4C9RJuAv8CKwNrA2sDWgQ0AdUC6wN2A7EIhgVWBtoEHg3uCTQB6QGuAv4EagWCCBYG9AHcBeoFhgVuAsYFfwIJEWwBMQJ0Af4KnQOQAYoCmwHpAasDXAXBBCAPg=="
         },
         "type": "scatter3d"
        }
       ],
       "layout": {
        "template": {
         "data": {
          "histogram2dcontour": [
           {
            "type": "histogram2dcontour",
            "colorbar": {
             "outlinewidth": 0,
             "ticks": ""
            },
            "colorscale": [
             [
              0.0,
              "#0d0887"
             ],
             [
              0.1111111111111111,
              "#46039f"
             ],
             [
              0.2222222222222222,
              "#7201a8"
             ],
             [
              0.3333333333333333,
              "#9c179e"
             ],
             [
              0.4444444444444444,
              "#bd3786"
             ],
             [
              0.5555555555555556,
              "#d8576b"
             ],
             [
              0.6666666666666666,
              "#ed7953"
             ],
             [
              0.7777777777777778,
              "#fb9f3a"
             ],
             [
              0.8888888888888888,
              "#fdca26"
             ],
             [
              1.0,
              "#f0f921"
             ]
            ]
           }
          ],
          "choropleth": [
           {
            "type": "choropleth",
            "colorbar": {
             "outlinewidth": 0,
             "ticks": ""
            }
           }
          ],
          "histogram2d": [
           {
            "type": "histogram2d",
            "colorbar": {
             "outlinewidth": 0,
             "ticks": ""
            },
            "colorscale": [
             [
              0.0,
              "#0d0887"
             ],
             [
              0.1111111111111111,
              "#46039f"
             ],
             [
              0.2222222222222222,
              "#7201a8"
             ],
             [
              0.3333333333333333,
              "#9c179e"
             ],
             [
              0.4444444444444444,
              "#bd3786"
             ],
             [
              0.5555555555555556,
              "#d8576b"
             ],
             [
              0.6666666666666666,
              "#ed7953"
             ],
             [
              0.7777777777777778,
              "#fb9f3a"
             ],
             [
              0.8888888888888888,
              "#fdca26"
             ],
             [
              1.0,
              "#f0f921"
             ]
            ]
           }
          ],
          "heatmap": [
           {
            "type": "heatmap",
            "colorbar": {
             "outlinewidth": 0,
             "ticks": ""
            },
            "colorscale": [
             [
              0.0,
              "#0d0887"
             ],
             [
              0.1111111111111111,
              "#46039f"
             ],
             [
              0.2222222222222222,
              "#7201a8"
             ],
             [
              0.3333333333333333,
              "#9c179e"
             ],
             [
              0.4444444444444444,
              "#bd3786"
             ],
             [
              0.5555555555555556,
              "#d8576b"
             ],
             [
              0.6666666666666666,
              "#ed7953"
             ],
             [
              0.7777777777777778,
              "#fb9f3a"
             ],
             [
              0.8888888888888888,
              "#fdca26"
             ],
             [
              1.0,
              "#f0f921"
             ]
            ]
           }
          ],
          "contourcarpet": [
           {
            "type": "contourcarpet",
            "colorbar": {
             "outlinewidth": 0,
             "ticks": ""
            }
           }
          ],
          "contour": [
           {
            "type": "contour",
            "colorbar": {
             "outlinewidth": 0,
             "ticks": ""
            },
            "colorscale": [
             [
              0.0,
              "#0d0887"
             ],
             [
              0.1111111111111111,
              "#46039f"
             ],
             [
              0.2222222222222222,
              "#7201a8"
             ],
             [
              0.3333333333333333,
              "#9c179e"
             ],
             [
              0.4444444444444444,
              "#bd3786"
             ],
             [
              0.5555555555555556,
              "#d8576b"
             ],
             [
              0.6666666666666666,
              "#ed7953"
             ],
             [
              0.7777777777777778,
              "#fb9f3a"
             ],
             [
              0.8888888888888888,
              "#fdca26"
             ],
             [
              1.0,
              "#f0f921"
             ]
            ]
           }
          ],
          "surface": [
           {
            "type": "surface",
            "colorbar": {
             "outlinewidth": 0,
             "ticks": ""
            },
            "colorscale": [
             [
              0.0,
              "#0d0887"
             ],
             [
              0.1111111111111111,
              "#46039f"
             ],
             [
              0.2222222222222222,
              "#7201a8"
             ],
             [
              0.3333333333333333,
              "#9c179e"
             ],
             [
              0.4444444444444444,
              "#bd3786"
             ],
             [
              0.5555555555555556,
              "#d8576b"
             ],
             [
              0.6666666666666666,
              "#ed7953"
             ],
             [
              0.7777777777777778,
              "#fb9f3a"
             ],
             [
              0.8888888888888888,
              "#fdca26"
             ],
             [
              1.0,
              "#f0f921"
             ]
            ]
           }
          ],
          "mesh3d": [
           {
            "type": "mesh3d",
            "colorbar": {
             "outlinewidth": 0,
             "ticks": ""
            }
           }
          ],
          "scatter": [
           {
            "marker": {
             "line": {
              "color": "#283442"
             }
            },
            "type": "scatter"
           }
          ],
          "parcoords": [
           {
            "type": "parcoords",
            "line": {
             "colorbar": {
              "outlinewidth": 0,
              "ticks": ""
             }
            }
           }
          ],
          "scatterpolargl": [
           {
            "type": "scatterpolargl",
            "marker": {
             "colorbar": {
              "outlinewidth": 0,
              "ticks": ""
             }
            }
           }
          ],
          "bar": [
           {
            "error_x": {
             "color": "#f2f5fa"
            },
            "error_y": {
             "color": "#f2f5fa"
            },
            "marker": {
             "line": {
              "color": "rgb(17,17,17)",
              "width": 0.5
             },
             "pattern": {
              "fillmode": "overlay",
              "size": 10,
              "solidity": 0.2
             }
            },
            "type": "bar"
           }
          ],
          "scattergeo": [
           {
            "type": "scattergeo",
            "marker": {
             "colorbar": {
              "outlinewidth": 0,
              "ticks": ""
             }
            }
           }
          ],
          "scatterpolar": [
           {
            "type": "scatterpolar",
            "marker": {
             "colorbar": {
              "outlinewidth": 0,
              "ticks": ""
             }
            }
           }
          ],
          "histogram": [
           {
            "marker": {
             "pattern": {
              "fillmode": "overlay",
              "size": 10,
              "solidity": 0.2
             }
            },
            "type": "histogram"
           }
          ],
          "scattergl": [
           {
            "marker": {
             "line": {
              "color": "#283442"
             }
            },
            "type": "scattergl"
           }
          ],
          "scatter3d": [
           {
            "type": "scatter3d",
            "line": {
             "colorbar": {
              "outlinewidth": 0,
              "ticks": ""
             }
            },
            "marker": {
             "colorbar": {
              "outlinewidth": 0,
              "ticks": ""
             }
            }
           }
          ],
          "scattermap": [
           {
            "type": "scattermap",
            "marker": {
             "colorbar": {
              "outlinewidth": 0,
              "ticks": ""
             }
            }
           }
          ],
          "scattermapbox": [
           {
            "type": "scattermapbox",
            "marker": {
             "colorbar": {
              "outlinewidth": 0,
              "ticks": ""
             }
            }
           }
          ],
          "scatterternary": [
           {
            "type": "scatterternary",
            "marker": {
             "colorbar": {
              "outlinewidth": 0,
              "ticks": ""
             }
            }
           }
          ],
          "scattercarpet": [
           {
            "type": "scattercarpet",
            "marker": {
             "colorbar": {
              "outlinewidth": 0,
              "ticks": ""
             }
            }
           }
          ],
          "carpet": [
           {
            "aaxis": {
             "endlinecolor": "#A2B1C6",
             "gridcolor": "#506784",
             "linecolor": "#506784",
             "minorgridcolor": "#506784",
             "startlinecolor": "#A2B1C6"
            },
            "baxis": {
             "endlinecolor": "#A2B1C6",
             "gridcolor": "#506784",
             "linecolor": "#506784",
             "minorgridcolor": "#506784",
             "startlinecolor": "#A2B1C6"
            },
            "type": "carpet"
           }
          ],
          "table": [
           {
            "cells": {
             "fill": {
              "color": "#506784"
             },
             "line": {
              "color": "rgb(17,17,17)"
             }
            },
            "header": {
             "fill": {
              "color": "#2a3f5f"
             },
             "line": {
              "color": "rgb(17,17,17)"
             }
            },
            "type": "table"
           }
          ],
          "barpolar": [
           {
            "marker": {
             "line": {
              "color": "rgb(17,17,17)",
              "width": 0.5
             },
             "pattern": {
              "fillmode": "overlay",
              "size": 10,
              "solidity": 0.2
             }
            },
            "type": "barpolar"
           }
          ],
          "pie": [
           {
            "automargin": true,
            "type": "pie"
           }
          ]
         },
         "layout": {
          "autotypenumbers": "strict",
          "colorway": [
           "#636efa",
           "#EF553B",
           "#00cc96",
           "#ab63fa",
           "#FFA15A",
           "#19d3f3",
           "#FF6692",
           "#B6E880",
           "#FF97FF",
           "#FECB52"
          ],
          "font": {
           "color": "#f2f5fa"
          },
          "hovermode": "closest",
          "hoverlabel": {
           "align": "left"
          },
          "paper_bgcolor": "rgb(17,17,17)",
          "plot_bgcolor": "rgb(17,17,17)",
          "polar": {
           "bgcolor": "rgb(17,17,17)",
           "angularaxis": {
            "gridcolor": "#506784",
            "linecolor": "#506784",
            "ticks": ""
           },
           "radialaxis": {
            "gridcolor": "#506784",
            "linecolor": "#506784",
            "ticks": ""
           }
          },
          "ternary": {
           "bgcolor": "rgb(17,17,17)",
           "aaxis": {
            "gridcolor": "#506784",
            "linecolor": "#506784",
            "ticks": ""
           },
           "baxis": {
            "gridcolor": "#506784",
            "linecolor": "#506784",
            "ticks": ""
           },
           "caxis": {
            "gridcolor": "#506784",
            "linecolor": "#506784",
            "ticks": ""
           }
          },
          "coloraxis": {
           "colorbar": {
            "outlinewidth": 0,
            "ticks": ""
           }
          },
          "colorscale": {
           "sequential": [
            [
             0.0,
             "#0d0887"
            ],
            [
             0.1111111111111111,
             "#46039f"
            ],
            [
             0.2222222222222222,
             "#7201a8"
            ],
            [
             0.3333333333333333,
             "#9c179e"
            ],
            [
             0.4444444444444444,
             "#bd3786"
            ],
            [
             0.5555555555555556,
             "#d8576b"
            ],
            [
             0.6666666666666666,
             "#ed7953"
            ],
            [
             0.7777777777777778,
             "#fb9f3a"
            ],
            [
             0.8888888888888888,
             "#fdca26"
            ],
            [
             1.0,
             "#f0f921"
            ]
           ],
           "sequentialminus": [
            [
             0.0,
             "#0d0887"
            ],
            [
             0.1111111111111111,
             "#46039f"
            ],
            [
             0.2222222222222222,
             "#7201a8"
            ],
            [
             0.3333333333333333,
             "#9c179e"
            ],
            [
             0.4444444444444444,
             "#bd3786"
            ],
            [
             0.5555555555555556,
             "#d8576b"
            ],
            [
             0.6666666666666666,
             "#ed7953"
            ],
            [
             0.7777777777777778,
             "#fb9f3a"
            ],
            [
             0.8888888888888888,
             "#fdca26"
            ],
            [
             1.0,
             "#f0f921"
            ]
           ],
           "diverging": [
            [
             0,
             "#8e0152"
            ],
            [
             0.1,
             "#c51b7d"
            ],
            [
             0.2,
             "#de77ae"
            ],
            [
             0.3,
             "#f1b6da"
            ],
            [
             0.4,
             "#fde0ef"
            ],
            [
             0.5,
             "#f7f7f7"
            ],
            [
             0.6,
             "#e6f5d0"
            ],
            [
             0.7,
             "#b8e186"
            ],
            [
             0.8,
             "#7fbc41"
            ],
            [
             0.9,
             "#4d9221"
            ],
            [
             1,
             "#276419"
            ]
           ]
          },
          "xaxis": {
           "gridcolor": "#283442",
           "linecolor": "#506784",
           "ticks": "",
           "title": {
            "standoff": 15
           },
           "zerolinecolor": "#283442",
           "automargin": true,
           "zerolinewidth": 2
          },
          "yaxis": {
           "gridcolor": "#283442",
           "linecolor": "#506784",
           "ticks": "",
           "title": {
            "standoff": 15
           },
           "zerolinecolor": "#283442",
           "automargin": true,
           "zerolinewidth": 2
          },
          "scene": {
           "xaxis": {
            "backgroundcolor": "rgb(17,17,17)",
            "gridcolor": "#506784",
            "linecolor": "#506784",
            "showbackground": true,
            "ticks": "",
            "zerolinecolor": "#C8D4E3",
            "gridwidth": 2
           },
           "yaxis": {
            "backgroundcolor": "rgb(17,17,17)",
            "gridcolor": "#506784",
            "linecolor": "#506784",
            "showbackground": true,
            "ticks": "",
            "zerolinecolor": "#C8D4E3",
            "gridwidth": 2
           },
           "zaxis": {
            "backgroundcolor": "rgb(17,17,17)",
            "gridcolor": "#506784",
            "linecolor": "#506784",
            "showbackground": true,
            "ticks": "",
            "zerolinecolor": "#C8D4E3",
            "gridwidth": 2
           }
          },
          "shapedefaults": {
           "line": {
            "color": "#f2f5fa"
           }
          },
          "annotationdefaults": {
           "arrowcolor": "#f2f5fa",
           "arrowhead": 0,
           "arrowwidth": 1
          },
          "geo": {
           "bgcolor": "rgb(17,17,17)",
           "landcolor": "rgb(17,17,17)",
           "subunitcolor": "#506784",
           "showland": true,
           "showlakes": true,
           "lakecolor": "rgb(17,17,17)"
          },
          "title": {
           "x": 0.05
          },
          "updatemenudefaults": {
           "bgcolor": "#506784",
           "borderwidth": 0
          },
          "sliderdefaults": {
           "bgcolor": "#C8D4E3",
           "borderwidth": 1,
           "bordercolor": "rgb(17,17,17)",
           "tickwidth": 0
          },
          "mapbox": {
           "style": "dark"
          }
         }
        },
        "scene": {
         "domain": {
          "x": [
           0.0,
           1.0
          ],
          "y": [
           0.0,
           1.0
          ]
         },
         "xaxis": {
          "title": {
           "text": "quantity"
          }
         },
         "yaxis": {
          "title": {
           "text": "discountedSellingPrice"
          }
         },
         "zaxis": {
          "title": {
           "text": "mrp"
          }
         }
        },
        "coloraxis": {
         "colorbar": {
          "title": {
           "text": "availableQuantity"
          }
         },
         "colorscale": [
          [
           0.0,
           "rgb(236, 218, 154)"
          ],
          [
           0.16666666666666666,
           "rgb(239, 196, 126)"
          ],
          [
           0.3333333333333333,
           "rgb(243, 173, 106)"
          ],
          [
           0.5,
           "rgb(247, 148, 93)"
          ],
          [
           0.6666666666666666,
           "rgb(249, 123, 87)"
          ],
          [
           0.8333333333333334,
           "rgb(246, 99, 86)"
          ],
          [
           1.0,
           "rgb(238, 77, 90)"
          ]
         ]
        },
        "legend": {
         "tracegroupgap": 0
        },
        "title": {
         "text": "Fruits & Vegetables"
        },
        "height": 750
       },
       "config": {
        "plotlyServerURL": "https://plot.ly"
       }
      }
     },
     "metadata": {},
     "output_type": "display_data"
    },
    {
     "data": {
      "application/vnd.plotly.v1+json": {
       "data": [
        {
         "hovertemplate": "quantity=%{x}<br>discountedSellingPrice=%{y}<br>mrp=%{z}<br>availableQuantity=%{marker.color}<extra></extra>",
         "legendgroup": "",
         "marker": {
          "color": {
           "dtype": "i1",
           "bdata": "BgYGBAYGBgQGBgYGBgYEBgMGAgYGBAYGBgEGBgMDBgYEBgQGAQYGBgYCBgYGAwYEBgMGBAYFBQYCBgMGBAIGBgEGAQYGBAYGBgMGBAYGBgICBgYGBgMBAgYEBQYEAQUGBgYDBgYFBgMCBgUFAgYGAQQCBgYGBgIBAQIFAgYGAQMCBgYFBgQBBgYCBAYEBAUDBAUGBQEGBgYFAQYGAQYDBQIGBgYGBAEGBgYCBgICBgYGAQMBBgIGBQYGBQYDAgMCBAMDBgYGBgYGBgQGBgYGAwMGBgYBBgUGBgYEBQMEBAMGBgUDBgQFBAUEBAYCBQYGBQYGAwYDBQQGBgUFBgYFBAYEBgEFAQYFAgYGBgYFBgMFBAYGBgEFBAYGBgUDBQUFBgYGBgUEBgIGBQYEBQUGBAYFBAUGBgUGBAIGBgYGBgYCBQYGBgUGBgYGBgUGBgEGBgUGBgYGBgYGAwYGBgYGBgYEBgYGBgYGBgYGBAUCBgYGBgQFBgYGBgYGAQYEBQYGBgYGBgYGBgYGBgYGBgYDBgEGBgYEBgYGBgIGBgYGBgYGBAYBAAAAAAAAAAAAAAAAAAAAAAAAAAAAAAAAAAAAAAAAAAAAAAAAAAAAAAAAAAAAAAAAAAAAAAAAAAAAAA=="
          },
          "coloraxis": "coloraxis",
          "symbol": "diamond",
          "line": {
           "color": "DarkSlateGrey",
           "width": 2
          },
          "size": 8
         },
         "mode": "markers",
         "name": "",
         "scene": "scene",
         "showlegend": false,
         "x": {
          "dtype": "i2",
          "bdata": "RgABAAEADAABAAUA9AEGAAEAAQAFAAEAAQAKAAEAAQABAMIBAQAFADIA9AEBAAUA9AH0AQUAyAA8AGQAPAD0AfQBAQBkAAEARgABAAEAJgDIAJABBQABAAEAZABkAMgABQDwAAUABgAFAAEAZABkAAEA9AFkAGQAMgD0AZABCgAyAAEA+gAyAPoAMgD0AfQBZAD0AcgA9AH6APQB9AFkAGQAkAEBAAEAyAD0AfQBMgBkAAEA9AECAJAB9AFkAPQB9AHIAAQB9AE8AMgA9AH0AfQBZADIAPQByAD0ATIAyABkAGQAZADhAPQB9AH0ARgBMgAoAPQBPAAFAKUAbwIBAPAAyAA8ADwAqALIAGQA+gDIAPQB9AEZAAEAAgD0AQEA9AEJAPQBMgD0ARQAMgBQADIAZAD0AcgA8AD0AWQAZAAuAMgAFAD6ADIAAQAyAMgAMADIAAEAMgBGABQAyAD0AWQAMgABAEEAAQDIAPQBAQD0AZYAZAD0AWQAFAD0ATIAPACVAWQABQDIAMgAMgAYATIAZAD0ATIAMgD0ATYA9AEqAGQA9AH0AfoASwD0AQEAWgBaAPQB+gCQAfQByAD6ABkAZAAyAMgAMgCQATIA8ABkAAEAZACfAMIBZABkAGgBBQABAGQA9AH0AfQBAQDwAPQBAQAZABQAlgAcAvQByAD6APQByACQATwAKAD0AR0ByAAwAGQAZAD0AfQByAAUAAEALAEBAPQByAAYAUYA9AEJAcgA9AHIAPQBZABkAGQAZADIAB0BPAD0AWQA9AHuAvQByABkAPoA9AFkAMgA4QBaAGQAAQBQABQAyAD0AQEA9AFkAPQBLQBQAPQBCALIADIAoAD0AbQAyABkAJAByABkAPQBAQABADwACAEyAJYAUAD0ATwAHQH0AWQA9AH0ASMAyADIAPQBSwDIALQAFAD6AJAB9AEFAJABAQCWAPoAyACEA/QByABQALYD9AH0AQ4A9AFQAPQByAABADIAZABkAA4BTQD0AfQBkAECAPQBmgHhAMIBZAAyAPQBBQD0AWQA9AHbAQIAFABkAAUAFAD0AR4A9AEcAB0B9AGWAAEA9AFkAEsAZABaAPQBZADIAGQAUAAtAMgAAQAFAPQBAQBIAAEAGAFkAAUA9AEBAGQAZADIAGQA9AEBAPQB9AH0AfQBFABkAPQBWAImAPQBZAABADIAMgBGAGQAAQAyAAEA9AH0AfAAyAABADACyAD0AVAA9AEBAAEALAFBAPQBZAD6AMgAAQAYAfoAAAA="
         },
         "y": {
          "dtype": "i4",
          "bdata": "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"
         },
         "z": {
          "dtype": "i4",
          "bdata": "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"
         },
         "type": "scatter3d"
        }
       ],
       "layout": {
        "template": {
         "data": {
          "histogram2dcontour": [
           {
            "type": "histogram2dcontour",
            "colorbar": {
             "outlinewidth": 0,
             "ticks": ""
            },
            "colorscale": [
             [
              0.0,
              "#0d0887"
             ],
             [
              0.1111111111111111,
              "#46039f"
             ],
             [
              0.2222222222222222,
              "#7201a8"
             ],
             [
              0.3333333333333333,
              "#9c179e"
             ],
             [
              0.4444444444444444,
              "#bd3786"
             ],
             [
              0.5555555555555556,
              "#d8576b"
             ],
             [
              0.6666666666666666,
              "#ed7953"
             ],
             [
              0.7777777777777778,
              "#fb9f3a"
             ],
             [
              0.8888888888888888,
              "#fdca26"
             ],
             [
              1.0,
              "#f0f921"
             ]
            ]
           }
          ],
          "choropleth": [
           {
            "type": "choropleth",
            "colorbar": {
             "outlinewidth": 0,
             "ticks": ""
            }
           }
          ],
          "histogram2d": [
           {
            "type": "histogram2d",
            "colorbar": {
             "outlinewidth": 0,
             "ticks": ""
            },
            "colorscale": [
             [
              0.0,
              "#0d0887"
             ],
             [
              0.1111111111111111,
              "#46039f"
             ],
             [
              0.2222222222222222,
              "#7201a8"
             ],
             [
              0.3333333333333333,
              "#9c179e"
             ],
             [
              0.4444444444444444,
              "#bd3786"
             ],
             [
              0.5555555555555556,
              "#d8576b"
             ],
             [
              0.6666666666666666,
              "#ed7953"
             ],
             [
              0.7777777777777778,
              "#fb9f3a"
             ],
             [
              0.8888888888888888,
              "#fdca26"
             ],
             [
              1.0,
              "#f0f921"
             ]
            ]
           }
          ],
          "heatmap": [
           {
            "type": "heatmap",
            "colorbar": {
             "outlinewidth": 0,
             "ticks": ""
            },
            "colorscale": [
             [
              0.0,
              "#0d0887"
             ],
             [
              0.1111111111111111,
              "#46039f"
             ],
             [
              0.2222222222222222,
              "#7201a8"
             ],
             [
              0.3333333333333333,
              "#9c179e"
             ],
             [
              0.4444444444444444,
              "#bd3786"
             ],
             [
              0.5555555555555556,
              "#d8576b"
             ],
             [
              0.6666666666666666,
              "#ed7953"
             ],
             [
              0.7777777777777778,
              "#fb9f3a"
             ],
             [
              0.8888888888888888,
              "#fdca26"
             ],
             [
              1.0,
              "#f0f921"
             ]
            ]
           }
          ],
          "contourcarpet": [
           {
            "type": "contourcarpet",
            "colorbar": {
             "outlinewidth": 0,
             "ticks": ""
            }
           }
          ],
          "contour": [
           {
            "type": "contour",
            "colorbar": {
             "outlinewidth": 0,
             "ticks": ""
            },
            "colorscale": [
             [
              0.0,
              "#0d0887"
             ],
             [
              0.1111111111111111,
              "#46039f"
             ],
             [
              0.2222222222222222,
              "#7201a8"
             ],
             [
              0.3333333333333333,
              "#9c179e"
             ],
             [
              0.4444444444444444,
              "#bd3786"
             ],
             [
              0.5555555555555556,
              "#d8576b"
             ],
             [
              0.6666666666666666,
              "#ed7953"
             ],
             [
              0.7777777777777778,
              "#fb9f3a"
             ],
             [
              0.8888888888888888,
              "#fdca26"
             ],
             [
              1.0,
              "#f0f921"
             ]
            ]
           }
          ],
          "surface": [
           {
            "type": "surface",
            "colorbar": {
             "outlinewidth": 0,
             "ticks": ""
            },
            "colorscale": [
             [
              0.0,
              "#0d0887"
             ],
             [
              0.1111111111111111,
              "#46039f"
             ],
             [
              0.2222222222222222,
              "#7201a8"
             ],
             [
              0.3333333333333333,
              "#9c179e"
             ],
             [
              0.4444444444444444,
              "#bd3786"
             ],
             [
              0.5555555555555556,
              "#d8576b"
             ],
             [
              0.6666666666666666,
              "#ed7953"
             ],
             [
              0.7777777777777778,
              "#fb9f3a"
             ],
             [
              0.8888888888888888,
              "#fdca26"
             ],
             [
              1.0,
              "#f0f921"
             ]
            ]
           }
          ],
          "mesh3d": [
           {
            "type": "mesh3d",
            "colorbar": {
             "outlinewidth": 0,
             "ticks": ""
            }
           }
          ],
          "scatter": [
           {
            "marker": {
             "line": {
              "color": "#283442"
             }
            },
            "type": "scatter"
           }
          ],
          "parcoords": [
           {
            "type": "parcoords",
            "line": {
             "colorbar": {
              "outlinewidth": 0,
              "ticks": ""
             }
            }
           }
          ],
          "scatterpolargl": [
           {
            "type": "scatterpolargl",
            "marker": {
             "colorbar": {
              "outlinewidth": 0,
              "ticks": ""
             }
            }
           }
          ],
          "bar": [
           {
            "error_x": {
             "color": "#f2f5fa"
            },
            "error_y": {
             "color": "#f2f5fa"
            },
            "marker": {
             "line": {
              "color": "rgb(17,17,17)",
              "width": 0.5
             },
             "pattern": {
              "fillmode": "overlay",
              "size": 10,
              "solidity": 0.2
             }
            },
            "type": "bar"
           }
          ],
          "scattergeo": [
           {
            "type": "scattergeo",
            "marker": {
             "colorbar": {
              "outlinewidth": 0,
              "ticks": ""
             }
            }
           }
          ],
          "scatterpolar": [
           {
            "type": "scatterpolar",
            "marker": {
             "colorbar": {
              "outlinewidth": 0,
              "ticks": ""
             }
            }
           }
          ],
          "histogram": [
           {
            "marker": {
             "pattern": {
              "fillmode": "overlay",
              "size": 10,
              "solidity": 0.2
             }
            },
            "type": "histogram"
           }
          ],
          "scattergl": [
           {
            "marker": {
             "line": {
              "color": "#283442"
             }
            },
            "type": "scattergl"
           }
          ],
          "scatter3d": [
           {
            "type": "scatter3d",
            "line": {
             "colorbar": {
              "outlinewidth": 0,
              "ticks": ""
             }
            },
            "marker": {
             "colorbar": {
              "outlinewidth": 0,
              "ticks": ""
             }
            }
           }
          ],
          "scattermap": [
           {
            "type": "scattermap",
            "marker": {
             "colorbar": {
              "outlinewidth": 0,
              "ticks": ""
             }
            }
           }
          ],
          "scattermapbox": [
           {
            "type": "scattermapbox",
            "marker": {
             "colorbar": {
              "outlinewidth": 0,
              "ticks": ""
             }
            }
           }
          ],
          "scatterternary": [
           {
            "type": "scatterternary",
            "marker": {
             "colorbar": {
              "outlinewidth": 0,
              "ticks": ""
             }
            }
           }
          ],
          "scattercarpet": [
           {
            "type": "scattercarpet",
            "marker": {
             "colorbar": {
              "outlinewidth": 0,
              "ticks": ""
             }
            }
           }
          ],
          "carpet": [
           {
            "aaxis": {
             "endlinecolor": "#A2B1C6",
             "gridcolor": "#506784",
             "linecolor": "#506784",
             "minorgridcolor": "#506784",
             "startlinecolor": "#A2B1C6"
            },
            "baxis": {
             "endlinecolor": "#A2B1C6",
             "gridcolor": "#506784",
             "linecolor": "#506784",
             "minorgridcolor": "#506784",
             "startlinecolor": "#A2B1C6"
            },
            "type": "carpet"
           }
          ],
          "table": [
           {
            "cells": {
             "fill": {
              "color": "#506784"
             },
             "line": {
              "color": "rgb(17,17,17)"
             }
            },
            "header": {
             "fill": {
              "color": "#2a3f5f"
             },
             "line": {
              "color": "rgb(17,17,17)"
             }
            },
            "type": "table"
           }
          ],
          "barpolar": [
           {
            "marker": {
             "line": {
              "color": "rgb(17,17,17)",
              "width": 0.5
             },
             "pattern": {
              "fillmode": "overlay",
              "size": 10,
              "solidity": 0.2
             }
            },
            "type": "barpolar"
           }
          ],
          "pie": [
           {
            "automargin": true,
            "type": "pie"
           }
          ]
         },
         "layout": {
          "autotypenumbers": "strict",
          "colorway": [
           "#636efa",
           "#EF553B",
           "#00cc96",
           "#ab63fa",
           "#FFA15A",
           "#19d3f3",
           "#FF6692",
           "#B6E880",
           "#FF97FF",
           "#FECB52"
          ],
          "font": {
           "color": "#f2f5fa"
          },
          "hovermode": "closest",
          "hoverlabel": {
           "align": "left"
          },
          "paper_bgcolor": "rgb(17,17,17)",
          "plot_bgcolor": "rgb(17,17,17)",
          "polar": {
           "bgcolor": "rgb(17,17,17)",
           "angularaxis": {
            "gridcolor": "#506784",
            "linecolor": "#506784",
            "ticks": ""
           },
           "radialaxis": {
            "gridcolor": "#506784",
            "linecolor": "#506784",
            "ticks": ""
           }
          },
          "ternary": {
           "bgcolor": "rgb(17,17,17)",
           "aaxis": {
            "gridcolor": "#506784",
            "linecolor": "#506784",
            "ticks": ""
           },
           "baxis": {
            "gridcolor": "#506784",
            "linecolor": "#506784",
            "ticks": ""
           },
           "caxis": {
            "gridcolor": "#506784",
            "linecolor": "#506784",
            "ticks": ""
           }
          },
          "coloraxis": {
           "colorbar": {
            "outlinewidth": 0,
            "ticks": ""
           }
          },
          "colorscale": {
           "sequential": [
            [
             0.0,
             "#0d0887"
            ],
            [
             0.1111111111111111,
             "#46039f"
            ],
            [
             0.2222222222222222,
             "#7201a8"
            ],
            [
             0.3333333333333333,
             "#9c179e"
            ],
            [
             0.4444444444444444,
             "#bd3786"
            ],
            [
             0.5555555555555556,
             "#d8576b"
            ],
            [
             0.6666666666666666,
             "#ed7953"
            ],
            [
             0.7777777777777778,
             "#fb9f3a"
            ],
            [
             0.8888888888888888,
             "#fdca26"
            ],
            [
             1.0,
             "#f0f921"
            ]
           ],
           "sequentialminus": [
            [
             0.0,
             "#0d0887"
            ],
            [
             0.1111111111111111,
             "#46039f"
            ],
            [
             0.2222222222222222,
             "#7201a8"
            ],
            [
             0.3333333333333333,
             "#9c179e"
            ],
            [
             0.4444444444444444,
             "#bd3786"
            ],
            [
             0.5555555555555556,
             "#d8576b"
            ],
            [
             0.6666666666666666,
             "#ed7953"
            ],
            [
             0.7777777777777778,
             "#fb9f3a"
            ],
            [
             0.8888888888888888,
             "#fdca26"
            ],
            [
             1.0,
             "#f0f921"
            ]
           ],
           "diverging": [
            [
             0,
             "#8e0152"
            ],
            [
             0.1,
             "#c51b7d"
            ],
            [
             0.2,
             "#de77ae"
            ],
            [
             0.3,
             "#f1b6da"
            ],
            [
             0.4,
             "#fde0ef"
            ],
            [
             0.5,
             "#f7f7f7"
            ],
            [
             0.6,
             "#e6f5d0"
            ],
            [
             0.7,
             "#b8e186"
            ],
            [
             0.8,
             "#7fbc41"
            ],
            [
             0.9,
             "#4d9221"
            ],
            [
             1,
             "#276419"
            ]
           ]
          },
          "xaxis": {
           "gridcolor": "#283442",
           "linecolor": "#506784",
           "ticks": "",
           "title": {
            "standoff": 15
           },
           "zerolinecolor": "#283442",
           "automargin": true,
           "zerolinewidth": 2
          },
          "yaxis": {
           "gridcolor": "#283442",
           "linecolor": "#506784",
           "ticks": "",
           "title": {
            "standoff": 15
           },
           "zerolinecolor": "#283442",
           "automargin": true,
           "zerolinewidth": 2
          },
          "scene": {
           "xaxis": {
            "backgroundcolor": "rgb(17,17,17)",
            "gridcolor": "#506784",
            "linecolor": "#506784",
            "showbackground": true,
            "ticks": "",
            "zerolinecolor": "#C8D4E3",
            "gridwidth": 2
           },
           "yaxis": {
            "backgroundcolor": "rgb(17,17,17)",
            "gridcolor": "#506784",
            "linecolor": "#506784",
            "showbackground": true,
            "ticks": "",
            "zerolinecolor": "#C8D4E3",
            "gridwidth": 2
           },
           "zaxis": {
            "backgroundcolor": "rgb(17,17,17)",
            "gridcolor": "#506784",
            "linecolor": "#506784",
            "showbackground": true,
            "ticks": "",
            "zerolinecolor": "#C8D4E3",
            "gridwidth": 2
           }
          },
          "shapedefaults": {
           "line": {
            "color": "#f2f5fa"
           }
          },
          "annotationdefaults": {
           "arrowcolor": "#f2f5fa",
           "arrowhead": 0,
           "arrowwidth": 1
          },
          "geo": {
           "bgcolor": "rgb(17,17,17)",
           "landcolor": "rgb(17,17,17)",
           "subunitcolor": "#506784",
           "showland": true,
           "showlakes": true,
           "lakecolor": "rgb(17,17,17)"
          },
          "title": {
           "x": 0.05
          },
          "updatemenudefaults": {
           "bgcolor": "#506784",
           "borderwidth": 0
          },
          "sliderdefaults": {
           "bgcolor": "#C8D4E3",
           "borderwidth": 1,
           "bordercolor": "rgb(17,17,17)",
           "tickwidth": 0
          },
          "mapbox": {
           "style": "dark"
          }
         }
        },
        "scene": {
         "domain": {
          "x": [
           0.0,
           1.0
          ],
          "y": [
           0.0,
           1.0
          ]
         },
         "xaxis": {
          "title": {
           "text": "quantity"
          }
         },
         "yaxis": {
          "title": {
           "text": "discountedSellingPrice"
          }
         },
         "zaxis": {
          "title": {
           "text": "mrp"
          }
         }
        },
        "coloraxis": {
         "colorbar": {
          "title": {
           "text": "availableQuantity"
          }
         },
         "colorscale": [
          [
           0.0,
           "rgb(236, 218, 154)"
          ],
          [
           0.16666666666666666,
           "rgb(239, 196, 126)"
          ],
          [
           0.3333333333333333,
           "rgb(243, 173, 106)"
          ],
          [
           0.5,
           "rgb(247, 148, 93)"
          ],
          [
           0.6666666666666666,
           "rgb(249, 123, 87)"
          ],
          [
           0.8333333333333334,
           "rgb(246, 99, 86)"
          ],
          [
           1.0,
           "rgb(238, 77, 90)"
          ]
         ]
        },
        "legend": {
         "tracegroupgap": 0
        },
        "title": {
         "text": "Cooking Essentials"
        },
        "height": 750
       },
       "config": {
        "plotlyServerURL": "https://plot.ly"
       }
      }
     },
     "metadata": {},
     "output_type": "display_data"
    },
    {
     "data": {
      "application/vnd.plotly.v1+json": {
       "data": [
        {
         "hovertemplate": "quantity=%{x}<br>discountedSellingPrice=%{y}<br>mrp=%{z}<br>availableQuantity=%{marker.color}<extra></extra>",
         "legendgroup": "",
         "marker": {
          "color": {
           "dtype": "i1",
           "bdata": "BAYEBgQGBAQGBgQGBAYGAwYGAQQGBgYGBAYBBgUFBgYBAQMBBgUGBAQEBgEGBgIEBgQFBAYEBgYGBgQGBgYEBgQFBgEGBgYGBgYGBgYBBgYGBAYAAAAAAAAAAAAAAAAAAAAAAAAAAAAAAAAA"
          },
          "coloraxis": "coloraxis",
          "symbol": "diamond",
          "line": {
           "color": "DarkSlateGrey",
           "width": 2
          },
          "size": 8
         },
         "mode": "markers",
         "name": "",
         "scene": "scene",
         "showlegend": false,
         "x": {
          "dtype": "i2",
          "bdata": "9AGQAfQBZABeAZABwgHCAcgAyAD6AMgAZADIAMgAZADIAJABkAGQAcgAVQD0AWQAkAFaAJYAZACQAcgAyAC0AMgA7gIGAMgAyABkAMgAyABkAAYAoACQAfQBRQHIAAEAyADIAMgAlgDIAAYAyADIAMgARQEGAMgAyADIAMgAkAHIAEUByACQAfQByAB4AEUByACQAWQAyADIAJAByABkAMgAkAG0AMgAAQD6AJABAQDIAJYAkAEsAcgAyAD6AAwAkAEBAMgARQHIAGQAjAAGAKIAyAAGAMgA"
         },
         "y": {
          "dtype": "i4",
          "bdata": "xAkAAFQLAAAcDAAAJBMAAOQMAABIDQAAlBEAAKAPAACkHwAAdCcAAJgIAABIDQAA3AUAAIQcAACsJgAApAYAAOAuAABwFwAAuAsAAHwVAABoKQAAuAsAAMBdAABEFgAAaBAAAJQRAAC4CwAApAYAAEwdAABEFgAACCAAAEAfAACgDwAAPIwAADgYAAAgHAAAoCgAADwPAAD0MwAAhDUAABwlAAA4GAAAHCUAACBOAAD4XAAA+EMAAIw8AAC8TQAAuCQAAFgbAABMHQAA5D4AANRJAAA4GAAAuCQAAPQzAABsOQAAyEsAAJAaAACENQAAhDUAAIQ1AACYOgAAeFAAANQwAABwSQAAGC4AAPA8AACgWgAAuCQAAPgqAAAwQwAAfC4AAJRcAACUXAAAJEUAANRJAAAEQgAApDgAABgVAACYOgAARGEAAPgqAACEHAAAABkAAGAJAACgDwAATB0AAKwmAAC4CwAATB0AAKwNAACgDwAANCEAALgLAAA4GAAAZBkAAMQiAAAYLgAA0DkAAAggAADQBwAAHCUAADgYAABgIgAAQB8AAHAXAABsOQAA"
         },
         "z": {
          "dtype": "i4",
          "bdata": "xAkAALgLAAAcDAAAiBMAAOQMAACsDQAAlBEAAKAPAADEIgAAaCkAAJgIAACsDQAA3AUAAEwdAAAEKQAApAYAAKgvAABwFwAAuAsAAHwVAABoKQAAuAsAALRfAAAMFwAAaBAAAJQRAAC4CwAACAcAAHgeAABwFwAANCEAADQhAACgDwAAoIwAACAcAABMHQAAlCoAAKAPAACwNgAAbGsAABAnAAAgHAAAECcAACBOAAC0XwAAzFsAAIw8AAAwdQAArCYAAFgbAABMHQAABEIAALxNAAAgHAAArCYAALA2AAA8cwAA/FMAAOAuAABsawAApDgAAGxrAACYOgAAdFkAAKhhAADMWwAA1DAAAARCAADMWwAArCYAAPgqAAD8UwAA1DAAAERhAADEhgAArIoAALxNAAAEQgAApDgAABgVAACYOgAARGEAAPgqAACwHQAAyBkAAMQJAACgDwAATB0AABAnAAC4CwAAeB4AAKwNAACgDwAANCEAALgLAAA4GAAAZBkAAMQiAADUMAAAREgAADQhAADQBwAAECcAAEwdAACsJgAAQB8AACAcAAA8cwAA"
         },
         "type": "scatter3d"
        }
       ],
       "layout": {
        "template": {
         "data": {
          "histogram2dcontour": [
           {
            "type": "histogram2dcontour",
            "colorbar": {
             "outlinewidth": 0,
             "ticks": ""
            },
            "colorscale": [
             [
              0.0,
              "#0d0887"
             ],
             [
              0.1111111111111111,
              "#46039f"
             ],
             [
              0.2222222222222222,
              "#7201a8"
             ],
             [
              0.3333333333333333,
              "#9c179e"
             ],
             [
              0.4444444444444444,
              "#bd3786"
             ],
             [
              0.5555555555555556,
              "#d8576b"
             ],
             [
              0.6666666666666666,
              "#ed7953"
             ],
             [
              0.7777777777777778,
              "#fb9f3a"
             ],
             [
              0.8888888888888888,
              "#fdca26"
             ],
             [
              1.0,
              "#f0f921"
             ]
            ]
           }
          ],
          "choropleth": [
           {
            "type": "choropleth",
            "colorbar": {
             "outlinewidth": 0,
             "ticks": ""
            }
           }
          ],
          "histogram2d": [
           {
            "type": "histogram2d",
            "colorbar": {
             "outlinewidth": 0,
             "ticks": ""
            },
            "colorscale": [
             [
              0.0,
              "#0d0887"
             ],
             [
              0.1111111111111111,
              "#46039f"
             ],
             [
              0.2222222222222222,
              "#7201a8"
             ],
             [
              0.3333333333333333,
              "#9c179e"
             ],
             [
              0.4444444444444444,
              "#bd3786"
             ],
             [
              0.5555555555555556,
              "#d8576b"
             ],
             [
              0.6666666666666666,
              "#ed7953"
             ],
             [
              0.7777777777777778,
              "#fb9f3a"
             ],
             [
              0.8888888888888888,
              "#fdca26"
             ],
             [
              1.0,
              "#f0f921"
             ]
            ]
           }
          ],
          "heatmap": [
           {
            "type": "heatmap",
            "colorbar": {
             "outlinewidth": 0,
             "ticks": ""
            },
            "colorscale": [
             [
              0.0,
              "#0d0887"
             ],
             [
              0.1111111111111111,
              "#46039f"
             ],
             [
              0.2222222222222222,
              "#7201a8"
             ],
             [
              0.3333333333333333,
              "#9c179e"
             ],
             [
              0.4444444444444444,
              "#bd3786"
             ],
             [
              0.5555555555555556,
              "#d8576b"
             ],
             [
              0.6666666666666666,
              "#ed7953"
             ],
             [
              0.7777777777777778,
              "#fb9f3a"
             ],
             [
              0.8888888888888888,
              "#fdca26"
             ],
             [
              1.0,
              "#f0f921"
             ]
            ]
           }
          ],
          "contourcarpet": [
           {
            "type": "contourcarpet",
            "colorbar": {
             "outlinewidth": 0,
             "ticks": ""
            }
           }
          ],
          "contour": [
           {
            "type": "contour",
            "colorbar": {
             "outlinewidth": 0,
             "ticks": ""
            },
            "colorscale": [
             [
              0.0,
              "#0d0887"
             ],
             [
              0.1111111111111111,
              "#46039f"
             ],
             [
              0.2222222222222222,
              "#7201a8"
             ],
             [
              0.3333333333333333,
              "#9c179e"
             ],
             [
              0.4444444444444444,
              "#bd3786"
             ],
             [
              0.5555555555555556,
              "#d8576b"
             ],
             [
              0.6666666666666666,
              "#ed7953"
             ],
             [
              0.7777777777777778,
              "#fb9f3a"
             ],
             [
              0.8888888888888888,
              "#fdca26"
             ],
             [
              1.0,
              "#f0f921"
             ]
            ]
           }
          ],
          "surface": [
           {
            "type": "surface",
            "colorbar": {
             "outlinewidth": 0,
             "ticks": ""
            },
            "colorscale": [
             [
              0.0,
              "#0d0887"
             ],
             [
              0.1111111111111111,
              "#46039f"
             ],
             [
              0.2222222222222222,
              "#7201a8"
             ],
             [
              0.3333333333333333,
              "#9c179e"
             ],
             [
              0.4444444444444444,
              "#bd3786"
             ],
             [
              0.5555555555555556,
              "#d8576b"
             ],
             [
              0.6666666666666666,
              "#ed7953"
             ],
             [
              0.7777777777777778,
              "#fb9f3a"
             ],
             [
              0.8888888888888888,
              "#fdca26"
             ],
             [
              1.0,
              "#f0f921"
             ]
            ]
           }
          ],
          "mesh3d": [
           {
            "type": "mesh3d",
            "colorbar": {
             "outlinewidth": 0,
             "ticks": ""
            }
           }
          ],
          "scatter": [
           {
            "marker": {
             "line": {
              "color": "#283442"
             }
            },
            "type": "scatter"
           }
          ],
          "parcoords": [
           {
            "type": "parcoords",
            "line": {
             "colorbar": {
              "outlinewidth": 0,
              "ticks": ""
             }
            }
           }
          ],
          "scatterpolargl": [
           {
            "type": "scatterpolargl",
            "marker": {
             "colorbar": {
              "outlinewidth": 0,
              "ticks": ""
             }
            }
           }
          ],
          "bar": [
           {
            "error_x": {
             "color": "#f2f5fa"
            },
            "error_y": {
             "color": "#f2f5fa"
            },
            "marker": {
             "line": {
              "color": "rgb(17,17,17)",
              "width": 0.5
             },
             "pattern": {
              "fillmode": "overlay",
              "size": 10,
              "solidity": 0.2
             }
            },
            "type": "bar"
           }
          ],
          "scattergeo": [
           {
            "type": "scattergeo",
            "marker": {
             "colorbar": {
              "outlinewidth": 0,
              "ticks": ""
             }
            }
           }
          ],
          "scatterpolar": [
           {
            "type": "scatterpolar",
            "marker": {
             "colorbar": {
              "outlinewidth": 0,
              "ticks": ""
             }
            }
           }
          ],
          "histogram": [
           {
            "marker": {
             "pattern": {
              "fillmode": "overlay",
              "size": 10,
              "solidity": 0.2
             }
            },
            "type": "histogram"
           }
          ],
          "scattergl": [
           {
            "marker": {
             "line": {
              "color": "#283442"
             }
            },
            "type": "scattergl"
           }
          ],
          "scatter3d": [
           {
            "type": "scatter3d",
            "line": {
             "colorbar": {
              "outlinewidth": 0,
              "ticks": ""
             }
            },
            "marker": {
             "colorbar": {
              "outlinewidth": 0,
              "ticks": ""
             }
            }
           }
          ],
          "scattermap": [
           {
            "type": "scattermap",
            "marker": {
             "colorbar": {
              "outlinewidth": 0,
              "ticks": ""
             }
            }
           }
          ],
          "scattermapbox": [
           {
            "type": "scattermapbox",
            "marker": {
             "colorbar": {
              "outlinewidth": 0,
              "ticks": ""
             }
            }
           }
          ],
          "scatterternary": [
           {
            "type": "scatterternary",
            "marker": {
             "colorbar": {
              "outlinewidth": 0,
              "ticks": ""
             }
            }
           }
          ],
          "scattercarpet": [
           {
            "type": "scattercarpet",
            "marker": {
             "colorbar": {
              "outlinewidth": 0,
              "ticks": ""
             }
            }
           }
          ],
          "carpet": [
           {
            "aaxis": {
             "endlinecolor": "#A2B1C6",
             "gridcolor": "#506784",
             "linecolor": "#506784",
             "minorgridcolor": "#506784",
             "startlinecolor": "#A2B1C6"
            },
            "baxis": {
             "endlinecolor": "#A2B1C6",
             "gridcolor": "#506784",
             "linecolor": "#506784",
             "minorgridcolor": "#506784",
             "startlinecolor": "#A2B1C6"
            },
            "type": "carpet"
           }
          ],
          "table": [
           {
            "cells": {
             "fill": {
              "color": "#506784"
             },
             "line": {
              "color": "rgb(17,17,17)"
             }
            },
            "header": {
             "fill": {
              "color": "#2a3f5f"
             },
             "line": {
              "color": "rgb(17,17,17)"
             }
            },
            "type": "table"
           }
          ],
          "barpolar": [
           {
            "marker": {
             "line": {
              "color": "rgb(17,17,17)",
              "width": 0.5
             },
             "pattern": {
              "fillmode": "overlay",
              "size": 10,
              "solidity": 0.2
             }
            },
            "type": "barpolar"
           }
          ],
          "pie": [
           {
            "automargin": true,
            "type": "pie"
           }
          ]
         },
         "layout": {
          "autotypenumbers": "strict",
          "colorway": [
           "#636efa",
           "#EF553B",
           "#00cc96",
           "#ab63fa",
           "#FFA15A",
           "#19d3f3",
           "#FF6692",
           "#B6E880",
           "#FF97FF",
           "#FECB52"
          ],
          "font": {
           "color": "#f2f5fa"
          },
          "hovermode": "closest",
          "hoverlabel": {
           "align": "left"
          },
          "paper_bgcolor": "rgb(17,17,17)",
          "plot_bgcolor": "rgb(17,17,17)",
          "polar": {
           "bgcolor": "rgb(17,17,17)",
           "angularaxis": {
            "gridcolor": "#506784",
            "linecolor": "#506784",
            "ticks": ""
           },
           "radialaxis": {
            "gridcolor": "#506784",
            "linecolor": "#506784",
            "ticks": ""
           }
          },
          "ternary": {
           "bgcolor": "rgb(17,17,17)",
           "aaxis": {
            "gridcolor": "#506784",
            "linecolor": "#506784",
            "ticks": ""
           },
           "baxis": {
            "gridcolor": "#506784",
            "linecolor": "#506784",
            "ticks": ""
           },
           "caxis": {
            "gridcolor": "#506784",
            "linecolor": "#506784",
            "ticks": ""
           }
          },
          "coloraxis": {
           "colorbar": {
            "outlinewidth": 0,
            "ticks": ""
           }
          },
          "colorscale": {
           "sequential": [
            [
             0.0,
             "#0d0887"
            ],
            [
             0.1111111111111111,
             "#46039f"
            ],
            [
             0.2222222222222222,
             "#7201a8"
            ],
            [
             0.3333333333333333,
             "#9c179e"
            ],
            [
             0.4444444444444444,
             "#bd3786"
            ],
            [
             0.5555555555555556,
             "#d8576b"
            ],
            [
             0.6666666666666666,
             "#ed7953"
            ],
            [
             0.7777777777777778,
             "#fb9f3a"
            ],
            [
             0.8888888888888888,
             "#fdca26"
            ],
            [
             1.0,
             "#f0f921"
            ]
           ],
           "sequentialminus": [
            [
             0.0,
             "#0d0887"
            ],
            [
             0.1111111111111111,
             "#46039f"
            ],
            [
             0.2222222222222222,
             "#7201a8"
            ],
            [
             0.3333333333333333,
             "#9c179e"
            ],
            [
             0.4444444444444444,
             "#bd3786"
            ],
            [
             0.5555555555555556,
             "#d8576b"
            ],
            [
             0.6666666666666666,
             "#ed7953"
            ],
            [
             0.7777777777777778,
             "#fb9f3a"
            ],
            [
             0.8888888888888888,
             "#fdca26"
            ],
            [
             1.0,
             "#f0f921"
            ]
           ],
           "diverging": [
            [
             0,
             "#8e0152"
            ],
            [
             0.1,
             "#c51b7d"
            ],
            [
             0.2,
             "#de77ae"
            ],
            [
             0.3,
             "#f1b6da"
            ],
            [
             0.4,
             "#fde0ef"
            ],
            [
             0.5,
             "#f7f7f7"
            ],
            [
             0.6,
             "#e6f5d0"
            ],
            [
             0.7,
             "#b8e186"
            ],
            [
             0.8,
             "#7fbc41"
            ],
            [
             0.9,
             "#4d9221"
            ],
            [
             1,
             "#276419"
            ]
           ]
          },
          "xaxis": {
           "gridcolor": "#283442",
           "linecolor": "#506784",
           "ticks": "",
           "title": {
            "standoff": 15
           },
           "zerolinecolor": "#283442",
           "automargin": true,
           "zerolinewidth": 2
          },
          "yaxis": {
           "gridcolor": "#283442",
           "linecolor": "#506784",
           "ticks": "",
           "title": {
            "standoff": 15
           },
           "zerolinecolor": "#283442",
           "automargin": true,
           "zerolinewidth": 2
          },
          "scene": {
           "xaxis": {
            "backgroundcolor": "rgb(17,17,17)",
            "gridcolor": "#506784",
            "linecolor": "#506784",
            "showbackground": true,
            "ticks": "",
            "zerolinecolor": "#C8D4E3",
            "gridwidth": 2
           },
           "yaxis": {
            "backgroundcolor": "rgb(17,17,17)",
            "gridcolor": "#506784",
            "linecolor": "#506784",
            "showbackground": true,
            "ticks": "",
            "zerolinecolor": "#C8D4E3",
            "gridwidth": 2
           },
           "zaxis": {
            "backgroundcolor": "rgb(17,17,17)",
            "gridcolor": "#506784",
            "linecolor": "#506784",
            "showbackground": true,
            "ticks": "",
            "zerolinecolor": "#C8D4E3",
            "gridwidth": 2
           }
          },
          "shapedefaults": {
           "line": {
            "color": "#f2f5fa"
           }
          },
          "annotationdefaults": {
           "arrowcolor": "#f2f5fa",
           "arrowhead": 0,
           "arrowwidth": 1
          },
          "geo": {
           "bgcolor": "rgb(17,17,17)",
           "landcolor": "rgb(17,17,17)",
           "subunitcolor": "#506784",
           "showland": true,
           "showlakes": true,
           "lakecolor": "rgb(17,17,17)"
          },
          "title": {
           "x": 0.05
          },
          "updatemenudefaults": {
           "bgcolor": "#506784",
           "borderwidth": 0
          },
          "sliderdefaults": {
           "bgcolor": "#C8D4E3",
           "borderwidth": 1,
           "bordercolor": "rgb(17,17,17)",
           "tickwidth": 0
          },
          "mapbox": {
           "style": "dark"
          }
         }
        },
        "scene": {
         "domain": {
          "x": [
           0.0,
           1.0
          ],
          "y": [
           0.0,
           1.0
          ]
         },
         "xaxis": {
          "title": {
           "text": "quantity"
          }
         },
         "yaxis": {
          "title": {
           "text": "discountedSellingPrice"
          }
         },
         "zaxis": {
          "title": {
           "text": "mrp"
          }
         }
        },
        "coloraxis": {
         "colorbar": {
          "title": {
           "text": "availableQuantity"
          }
         },
         "colorscale": [
          [
           0.0,
           "rgb(236, 218, 154)"
          ],
          [
           0.16666666666666666,
           "rgb(239, 196, 126)"
          ],
          [
           0.3333333333333333,
           "rgb(243, 173, 106)"
          ],
          [
           0.5,
           "rgb(247, 148, 93)"
          ],
          [
           0.6666666666666666,
           "rgb(249, 123, 87)"
          ],
          [
           0.8333333333333334,
           "rgb(246, 99, 86)"
          ],
          [
           1.0,
           "rgb(238, 77, 90)"
          ]
         ]
        },
        "legend": {
         "tracegroupgap": 0
        },
        "title": {
         "text": "Dairy, Bread & Batter"
        },
        "height": 750
       },
       "config": {
        "plotlyServerURL": "https://plot.ly"
       }
      }
     },
     "metadata": {},
     "output_type": "display_data"
    },
    {
     "data": {
      "application/vnd.plotly.v1+json": {
       "data": [
        {
         "hovertemplate": "quantity=%{x}<br>discountedSellingPrice=%{y}<br>mrp=%{z}<br>availableQuantity=%{marker.color}<extra></extra>",
         "legendgroup": "",
         "marker": {
          "color": {
           "dtype": "i1",
           "bdata": "BAYGBgYGAgEFBQQBAQYDBgEGAQYDAwIFBgYFAgIGBgEFBAYBBgYGAQYEBgYGAQQGBgYGBQQFBAYGBQEBAgYGBQYGAgYGAwYDAgQGBgQCBgYEBAMDAwYGBgUBAQUGBgEGAwYDBAEDBAMGBgEDBgYGBgYGBgEEBgUGBAIGBgQGBgYGBQUFBgYBBgYEAQMGBAUCBAYBAgUGBQYCBAICBgMEBgMGAwYFBQMGBgUFBgMGAQYBAQQGBQQFAgUFBgYGAQQGBgMGAQMBBQYEBQYFAQUGBgYGAQYCBgUGAQMBBQIGBgYFBgYGBgYGBgYFBQYGBgQEBgEGBgQGBgIGBgYGBQYGAgYEBgMFAAAAAAAAAAAAAAAAAAAAAAAAAAAAAAAAAAA="
          },
          "coloraxis": "coloraxis",
          "symbol": "diamond",
          "line": {
           "color": "DarkSlateGrey",
           "width": 2
          },
          "size": 8
         },
         "mode": "markers",
         "name": "",
         "scene": "scene",
         "showlegend": false,
         "x": {
          "dtype": "i2",
          "bdata": "kAGQAZABnwFoAZABVQCkAfoAGAEeAKQBDwD6AHcBFAD6AAEADwD0AXcB7gK0AMgAMgBaAEwEDwBVAJABNACpAV4BLAEUADIAGwAUAB4ADwDuAqoAyAAbABsA9AEcAhMBGwAsAcgAkAEmAL4AGAGQAfQBGwBBAIIA9AEsASgAGACgADQALAGQARsAGAH6AC4AyAAsAZ8BKACQASwBNACQAV4BPACQAQ8AkAH0AWgBLAHIACsA9AHgAZABkAHCAfoAlgAoAEABLgC0AMIBtAA8APQBtAABAA8AAQDwAGsDzAEsATwANQABAIEBsAQPACwBAQDSAB0BrwD6AMIBSgEoAF4BcgCzAa8AZAAYAR0BLAGQAVQBRgA3APoAHQGWAGQAyACoApABHQHIADcAvgDIAJAByAAsAZABdwH0ATIA9AGQAcgAXgFBAGgBqQH6AJABGABAAa8AwgH0AfQBkAH0AagCkAGQAeABdgLmAPoA9AGCAO4CHQH6AMgAAQAdAZABLgDuAvEAAQAUACIBrwCWALgBNwCCAFAAwgEdASwBXgGCAEYAkAGCACoANwD0AcgAHQG+AAMAHQEdAcIBPAD0ASwBUAAsAcgAWALIALQAIAMsAb4ALAHIAOAB+gCQASwBLAEsAfoA9AF3AaAArwADAMgAyADIADwAyADIAOABkAE8AJAByAA0AAEAWgCcAPQByADIACgARgDIAEYA+gA/AksASwBkADwAtgO0APQBQAGQAV4BvgD0AZAB+gDCAQ=="
         },
         "y": {
          "dtype": "i4",
          "bdata": "IBwAAFgbAAAEKQAAiCwAAFwrAABcKwAASA0AABguAABYGwAAZBkAAOQMAACILAAA6AMAAHAwAACILAAA3AUAAHAwAAAslwAA6AMAAGRLAACILAAAPEEAANxQAABEFgAAmCEAAJgIAACMhwAA6AMAAOQMAACILAAAKCMAAGQZAAB0iwAANDoAANwFAAAwEQAABBAAAJghAADkDAAA6AMAAKScAACIEwAAfBUAADARAAAwEQAA7CwAAIwjAADcHgAABBAAADQhAADgFQAAiCwAAKwNAAB8FQAAWBsAAAQpAAAkdwAAMBEAAPwIAACIEwAAECcAALg9AADAEgAAeGkAAJQRAADoHAAA9BoAALR4AAAEEAAASD8AAJghAACgDwAAiBMAAIw8AABkMgAAMBEAAGhbAAAUHgAA6BwAALR4AABELwAAaCkAADwPAADoAwAAZDIAAGh0AABcKwAAhDUAAMgyAAC0FAAANDoAAMQiAADo/QAAXCsAANhyAAC0LQAAgAwAAMASAAAgHAAAoA8AAJg6AADYcgAAADIAANwFAAAkLAAAsDYAAMQ7AADcBQAAcK0AAHAXAABIcQAAGHkAABByAADECQAAfBUAAJyVAACAPgAAoFoAANwFAAD0ZQAAsJoAAEg/AACMIwAAYCIAAIA+AADsRQAAhDUAAMASAACQZQAAADIAAABLAACwNgAAlBEAACAcAACwNgAAOEoAACQsAABIPwAA7BMAAHwVAACwHQAAwCsAALgLAAAYFQAAiBMAANhyAACILAAAFB4AAGhbAAB8FQAAnEoAANQXAABoEAAAaFsAAKgvAADQhAAAzEIAAGwgAABwFwAA9H4AAKwmAACcSgAAPHMAAMQJAACMIwAAFFAAAJg6AAAEdAAAPHMAAIQ1AACwNgAA7EUAADgxAAAAfQAAMPIAANweAACkHwAAfBUAADAqAACILAAATGgAAHAwAAB0QAAAYNEAACBOAADswgAAFB4AAIA+AADQawAAKKAAALA2AAAUaQAAoA8AAJyVAADYWQAAbOgAANwFAAD0MwAAsDYAADxBAAAEKQAAfBUAACBOAADYDgAAqGEAACg8AACAcAAAkGUAACBOAABMHQAA4C4AACBOAAB8FQAAfBUAAIBwAADUFwAAFB4AAHwVAAAI6AAAFB4AABQeAADsRQAAfC4AAJQqAAD8bAAAwCsAAOQ+AACcSgAADDAAALRfAABMHQAAuIgAAOAuAAB8FQAA+CoAAGhbAACILAAA2FkAANhZAAD4KgAA+CoAAEBqAACoYQAA6IAAALg9AADgLgAAsDYAAIDtAACcSgAAaFsAAGhbAAB8LgAAdHIAAGhbAACILAAASO4AAIwjAADYWQAAaFsAANQXAABs6AAA0AcAAOAVAACMPAAARBYAANgOAAA8DwAASA0AAEQWAADwCgAAnBgAADBcAADwCgAAYAkAAAgHAADECQAAXCsAALQUAAA4MQAAYDsAAPgqAADoZwAAfBUAALw0AAA0IQAA3B4AAKhhAAA="
         },
         "z": {
          "dtype": "i4",
          "bdata": "QB8AAEAfAAD4KgAA4C4AAOwsAAC0LQAArA0AANQwAADcHgAATB0AAKAPAADgLgAA6AMAAMgyAADgLgAA3AUAAMgyAAD4pwAA6AMAAPRMAADgLgAAXEQAAPBVAABwFwAAKCMAAJgIAABklgAA6AMAAKwNAADgLgAAECcAAJAaAABwlAAA5D4AANwFAACIEwAAfBUAACgjAACgDwAA6AMAANStAACIEwAAfBUAAHwVAAB8FQAA7CwAAIAlAADEIgAAfBUAAPgqAABwFwAA4C4AAKAPAAB8FQAATB0AAPgqAAD0fgAAfBUAAPAKAACsJgAABCkAAFxEAABwFwAAeGkAAIgTAAAQJwAA6BwAAPR+AAB8FQAAaEIAAKwmAACgDwAAfBUAAARCAADIMgAAcBcAAJBlAAA0IQAAECcAAPR+AAAUNwAA1DAAAKAPAADoAwAApDgAANyCAAB8LgAANDoAAMgyAAB8FQAAdEAAAMQiAADo/QAA4C4AAOiAAADIMgAAgAwAAHAXAABAHwAAoA8AACBOAADogAAAgD4AANwFAADUMAAAXEQAAGhCAADcBQAA7MIAAHAXAAAYeQAA6IAAABByAADECQAAfBUAAASmAABoQgAASHEAANwFAAD0ZQAA0AEBAGhCAADIMgAArCYAAARCAADsRQAANDoAAHAXAAD0fgAAmDoAAAhSAABgbQAAiBMAAEAfAAAgTgAAOEoAAHwuAABoQgAAcBcAAHwVAAA0IQAAgD4AALgLAABwFwAAfBUAAOiAAADgLgAA+CoAAGxrAAB8FQAA5FcAAGQZAABoEAAAbGsAALw0AADQhAAAOEoAAKAoAABwFwAA9H4AAKwmAADkVwAAPHMAAMQJAACMIwAA8FUAAJg6AADogAAAPHMAADQ6AABgbQAA7EUAALA2AAAAfQAAMPIAAKwmAAA0IQAAfBUAAOAuAACILAAASHEAAMgyAABESAAAbOgAACBOAADswgAA+CoAAARCAAD0fgAAKKAAACBOAADMdAAAoA8AAASmAADYWQAAbOgAANwFAACwNgAAYG0AAFxEAAAEKQAAfBUAACBOAAB8FQAAqGEAAPBVAACAcAAA9H4AACBOAABMHQAA4C4AACBOAAB8FQAAfBUAAAB9AABkGQAA+CoAAHwVAADQAQEA+CoAAPgqAADsRQAAsDYAADQ6AAD8bAAAsDYAAOQ+AADkVwAADDAAAGxrAABMHQAAuIgAALw0AAB8FQAA+CoAAGxrAACILAAA2FkAANhZAAD4KgAA+CoAAEBqAACoYQAA6IAAAFxEAADgLgAAYG0AANABAQDkVwAAbGsAAGxrAACwNgAA9H4AAGxrAACILAAASO4AAIwjAADYWQAAbGsAAGQZAABs6AAA0AcAAHAXAACMPAAAcBcAAIgTAACgDwAArA0AAHAXAAAcDAAA9BoAAIRnAAAcDAAAYAkAANAHAADECQAA4C4AAHwVAAC8NAAAgD4AAOwsAAA8cwAAfBUAALw0AAA0IQAA3B4AAKhhAAA="
         },
         "type": "scatter3d"
        }
       ],
       "layout": {
        "template": {
         "data": {
          "histogram2dcontour": [
           {
            "type": "histogram2dcontour",
            "colorbar": {
             "outlinewidth": 0,
             "ticks": ""
            },
            "colorscale": [
             [
              0.0,
              "#0d0887"
             ],
             [
              0.1111111111111111,
              "#46039f"
             ],
             [
              0.2222222222222222,
              "#7201a8"
             ],
             [
              0.3333333333333333,
              "#9c179e"
             ],
             [
              0.4444444444444444,
              "#bd3786"
             ],
             [
              0.5555555555555556,
              "#d8576b"
             ],
             [
              0.6666666666666666,
              "#ed7953"
             ],
             [
              0.7777777777777778,
              "#fb9f3a"
             ],
             [
              0.8888888888888888,
              "#fdca26"
             ],
             [
              1.0,
              "#f0f921"
             ]
            ]
           }
          ],
          "choropleth": [
           {
            "type": "choropleth",
            "colorbar": {
             "outlinewidth": 0,
             "ticks": ""
            }
           }
          ],
          "histogram2d": [
           {
            "type": "histogram2d",
            "colorbar": {
             "outlinewidth": 0,
             "ticks": ""
            },
            "colorscale": [
             [
              0.0,
              "#0d0887"
             ],
             [
              0.1111111111111111,
              "#46039f"
             ],
             [
              0.2222222222222222,
              "#7201a8"
             ],
             [
              0.3333333333333333,
              "#9c179e"
             ],
             [
              0.4444444444444444,
              "#bd3786"
             ],
             [
              0.5555555555555556,
              "#d8576b"
             ],
             [
              0.6666666666666666,
              "#ed7953"
             ],
             [
              0.7777777777777778,
              "#fb9f3a"
             ],
             [
              0.8888888888888888,
              "#fdca26"
             ],
             [
              1.0,
              "#f0f921"
             ]
            ]
           }
          ],
          "heatmap": [
           {
            "type": "heatmap",
            "colorbar": {
             "outlinewidth": 0,
             "ticks": ""
            },
            "colorscale": [
             [
              0.0,
              "#0d0887"
             ],
             [
              0.1111111111111111,
              "#46039f"
             ],
             [
              0.2222222222222222,
              "#7201a8"
             ],
             [
              0.3333333333333333,
              "#9c179e"
             ],
             [
              0.4444444444444444,
              "#bd3786"
             ],
             [
              0.5555555555555556,
              "#d8576b"
             ],
             [
              0.6666666666666666,
              "#ed7953"
             ],
             [
              0.7777777777777778,
              "#fb9f3a"
             ],
             [
              0.8888888888888888,
              "#fdca26"
             ],
             [
              1.0,
              "#f0f921"
             ]
            ]
           }
          ],
          "contourcarpet": [
           {
            "type": "contourcarpet",
            "colorbar": {
             "outlinewidth": 0,
             "ticks": ""
            }
           }
          ],
          "contour": [
           {
            "type": "contour",
            "colorbar": {
             "outlinewidth": 0,
             "ticks": ""
            },
            "colorscale": [
             [
              0.0,
              "#0d0887"
             ],
             [
              0.1111111111111111,
              "#46039f"
             ],
             [
              0.2222222222222222,
              "#7201a8"
             ],
             [
              0.3333333333333333,
              "#9c179e"
             ],
             [
              0.4444444444444444,
              "#bd3786"
             ],
             [
              0.5555555555555556,
              "#d8576b"
             ],
             [
              0.6666666666666666,
              "#ed7953"
             ],
             [
              0.7777777777777778,
              "#fb9f3a"
             ],
             [
              0.8888888888888888,
              "#fdca26"
             ],
             [
              1.0,
              "#f0f921"
             ]
            ]
           }
          ],
          "surface": [
           {
            "type": "surface",
            "colorbar": {
             "outlinewidth": 0,
             "ticks": ""
            },
            "colorscale": [
             [
              0.0,
              "#0d0887"
             ],
             [
              0.1111111111111111,
              "#46039f"
             ],
             [
              0.2222222222222222,
              "#7201a8"
             ],
             [
              0.3333333333333333,
              "#9c179e"
             ],
             [
              0.4444444444444444,
              "#bd3786"
             ],
             [
              0.5555555555555556,
              "#d8576b"
             ],
             [
              0.6666666666666666,
              "#ed7953"
             ],
             [
              0.7777777777777778,
              "#fb9f3a"
             ],
             [
              0.8888888888888888,
              "#fdca26"
             ],
             [
              1.0,
              "#f0f921"
             ]
            ]
           }
          ],
          "mesh3d": [
           {
            "type": "mesh3d",
            "colorbar": {
             "outlinewidth": 0,
             "ticks": ""
            }
           }
          ],
          "scatter": [
           {
            "marker": {
             "line": {
              "color": "#283442"
             }
            },
            "type": "scatter"
           }
          ],
          "parcoords": [
           {
            "type": "parcoords",
            "line": {
             "colorbar": {
              "outlinewidth": 0,
              "ticks": ""
             }
            }
           }
          ],
          "scatterpolargl": [
           {
            "type": "scatterpolargl",
            "marker": {
             "colorbar": {
              "outlinewidth": 0,
              "ticks": ""
             }
            }
           }
          ],
          "bar": [
           {
            "error_x": {
             "color": "#f2f5fa"
            },
            "error_y": {
             "color": "#f2f5fa"
            },
            "marker": {
             "line": {
              "color": "rgb(17,17,17)",
              "width": 0.5
             },
             "pattern": {
              "fillmode": "overlay",
              "size": 10,
              "solidity": 0.2
             }
            },
            "type": "bar"
           }
          ],
          "scattergeo": [
           {
            "type": "scattergeo",
            "marker": {
             "colorbar": {
              "outlinewidth": 0,
              "ticks": ""
             }
            }
           }
          ],
          "scatterpolar": [
           {
            "type": "scatterpolar",
            "marker": {
             "colorbar": {
              "outlinewidth": 0,
              "ticks": ""
             }
            }
           }
          ],
          "histogram": [
           {
            "marker": {
             "pattern": {
              "fillmode": "overlay",
              "size": 10,
              "solidity": 0.2
             }
            },
            "type": "histogram"
           }
          ],
          "scattergl": [
           {
            "marker": {
             "line": {
              "color": "#283442"
             }
            },
            "type": "scattergl"
           }
          ],
          "scatter3d": [
           {
            "type": "scatter3d",
            "line": {
             "colorbar": {
              "outlinewidth": 0,
              "ticks": ""
             }
            },
            "marker": {
             "colorbar": {
              "outlinewidth": 0,
              "ticks": ""
             }
            }
           }
          ],
          "scattermap": [
           {
            "type": "scattermap",
            "marker": {
             "colorbar": {
              "outlinewidth": 0,
              "ticks": ""
             }
            }
           }
          ],
          "scattermapbox": [
           {
            "type": "scattermapbox",
            "marker": {
             "colorbar": {
              "outlinewidth": 0,
              "ticks": ""
             }
            }
           }
          ],
          "scatterternary": [
           {
            "type": "scatterternary",
            "marker": {
             "colorbar": {
              "outlinewidth": 0,
              "ticks": ""
             }
            }
           }
          ],
          "scattercarpet": [
           {
            "type": "scattercarpet",
            "marker": {
             "colorbar": {
              "outlinewidth": 0,
              "ticks": ""
             }
            }
           }
          ],
          "carpet": [
           {
            "aaxis": {
             "endlinecolor": "#A2B1C6",
             "gridcolor": "#506784",
             "linecolor": "#506784",
             "minorgridcolor": "#506784",
             "startlinecolor": "#A2B1C6"
            },
            "baxis": {
             "endlinecolor": "#A2B1C6",
             "gridcolor": "#506784",
             "linecolor": "#506784",
             "minorgridcolor": "#506784",
             "startlinecolor": "#A2B1C6"
            },
            "type": "carpet"
           }
          ],
          "table": [
           {
            "cells": {
             "fill": {
              "color": "#506784"
             },
             "line": {
              "color": "rgb(17,17,17)"
             }
            },
            "header": {
             "fill": {
              "color": "#2a3f5f"
             },
             "line": {
              "color": "rgb(17,17,17)"
             }
            },
            "type": "table"
           }
          ],
          "barpolar": [
           {
            "marker": {
             "line": {
              "color": "rgb(17,17,17)",
              "width": 0.5
             },
             "pattern": {
              "fillmode": "overlay",
              "size": 10,
              "solidity": 0.2
             }
            },
            "type": "barpolar"
           }
          ],
          "pie": [
           {
            "automargin": true,
            "type": "pie"
           }
          ]
         },
         "layout": {
          "autotypenumbers": "strict",
          "colorway": [
           "#636efa",
           "#EF553B",
           "#00cc96",
           "#ab63fa",
           "#FFA15A",
           "#19d3f3",
           "#FF6692",
           "#B6E880",
           "#FF97FF",
           "#FECB52"
          ],
          "font": {
           "color": "#f2f5fa"
          },
          "hovermode": "closest",
          "hoverlabel": {
           "align": "left"
          },
          "paper_bgcolor": "rgb(17,17,17)",
          "plot_bgcolor": "rgb(17,17,17)",
          "polar": {
           "bgcolor": "rgb(17,17,17)",
           "angularaxis": {
            "gridcolor": "#506784",
            "linecolor": "#506784",
            "ticks": ""
           },
           "radialaxis": {
            "gridcolor": "#506784",
            "linecolor": "#506784",
            "ticks": ""
           }
          },
          "ternary": {
           "bgcolor": "rgb(17,17,17)",
           "aaxis": {
            "gridcolor": "#506784",
            "linecolor": "#506784",
            "ticks": ""
           },
           "baxis": {
            "gridcolor": "#506784",
            "linecolor": "#506784",
            "ticks": ""
           },
           "caxis": {
            "gridcolor": "#506784",
            "linecolor": "#506784",
            "ticks": ""
           }
          },
          "coloraxis": {
           "colorbar": {
            "outlinewidth": 0,
            "ticks": ""
           }
          },
          "colorscale": {
           "sequential": [
            [
             0.0,
             "#0d0887"
            ],
            [
             0.1111111111111111,
             "#46039f"
            ],
            [
             0.2222222222222222,
             "#7201a8"
            ],
            [
             0.3333333333333333,
             "#9c179e"
            ],
            [
             0.4444444444444444,
             "#bd3786"
            ],
            [
             0.5555555555555556,
             "#d8576b"
            ],
            [
             0.6666666666666666,
             "#ed7953"
            ],
            [
             0.7777777777777778,
             "#fb9f3a"
            ],
            [
             0.8888888888888888,
             "#fdca26"
            ],
            [
             1.0,
             "#f0f921"
            ]
           ],
           "sequentialminus": [
            [
             0.0,
             "#0d0887"
            ],
            [
             0.1111111111111111,
             "#46039f"
            ],
            [
             0.2222222222222222,
             "#7201a8"
            ],
            [
             0.3333333333333333,
             "#9c179e"
            ],
            [
             0.4444444444444444,
             "#bd3786"
            ],
            [
             0.5555555555555556,
             "#d8576b"
            ],
            [
             0.6666666666666666,
             "#ed7953"
            ],
            [
             0.7777777777777778,
             "#fb9f3a"
            ],
            [
             0.8888888888888888,
             "#fdca26"
            ],
            [
             1.0,
             "#f0f921"
            ]
           ],
           "diverging": [
            [
             0,
             "#8e0152"
            ],
            [
             0.1,
             "#c51b7d"
            ],
            [
             0.2,
             "#de77ae"
            ],
            [
             0.3,
             "#f1b6da"
            ],
            [
             0.4,
             "#fde0ef"
            ],
            [
             0.5,
             "#f7f7f7"
            ],
            [
             0.6,
             "#e6f5d0"
            ],
            [
             0.7,
             "#b8e186"
            ],
            [
             0.8,
             "#7fbc41"
            ],
            [
             0.9,
             "#4d9221"
            ],
            [
             1,
             "#276419"
            ]
           ]
          },
          "xaxis": {
           "gridcolor": "#283442",
           "linecolor": "#506784",
           "ticks": "",
           "title": {
            "standoff": 15
           },
           "zerolinecolor": "#283442",
           "automargin": true,
           "zerolinewidth": 2
          },
          "yaxis": {
           "gridcolor": "#283442",
           "linecolor": "#506784",
           "ticks": "",
           "title": {
            "standoff": 15
           },
           "zerolinecolor": "#283442",
           "automargin": true,
           "zerolinewidth": 2
          },
          "scene": {
           "xaxis": {
            "backgroundcolor": "rgb(17,17,17)",
            "gridcolor": "#506784",
            "linecolor": "#506784",
            "showbackground": true,
            "ticks": "",
            "zerolinecolor": "#C8D4E3",
            "gridwidth": 2
           },
           "yaxis": {
            "backgroundcolor": "rgb(17,17,17)",
            "gridcolor": "#506784",
            "linecolor": "#506784",
            "showbackground": true,
            "ticks": "",
            "zerolinecolor": "#C8D4E3",
            "gridwidth": 2
           },
           "zaxis": {
            "backgroundcolor": "rgb(17,17,17)",
            "gridcolor": "#506784",
            "linecolor": "#506784",
            "showbackground": true,
            "ticks": "",
            "zerolinecolor": "#C8D4E3",
            "gridwidth": 2
           }
          },
          "shapedefaults": {
           "line": {
            "color": "#f2f5fa"
           }
          },
          "annotationdefaults": {
           "arrowcolor": "#f2f5fa",
           "arrowhead": 0,
           "arrowwidth": 1
          },
          "geo": {
           "bgcolor": "rgb(17,17,17)",
           "landcolor": "rgb(17,17,17)",
           "subunitcolor": "#506784",
           "showland": true,
           "showlakes": true,
           "lakecolor": "rgb(17,17,17)"
          },
          "title": {
           "x": 0.05
          },
          "updatemenudefaults": {
           "bgcolor": "#506784",
           "borderwidth": 0
          },
          "sliderdefaults": {
           "bgcolor": "#C8D4E3",
           "borderwidth": 1,
           "bordercolor": "rgb(17,17,17)",
           "tickwidth": 0
          },
          "mapbox": {
           "style": "dark"
          }
         }
        },
        "scene": {
         "domain": {
          "x": [
           0.0,
           1.0
          ],
          "y": [
           0.0,
           1.0
          ]
         },
         "xaxis": {
          "title": {
           "text": "quantity"
          }
         },
         "yaxis": {
          "title": {
           "text": "discountedSellingPrice"
          }
         },
         "zaxis": {
          "title": {
           "text": "mrp"
          }
         }
        },
        "coloraxis": {
         "colorbar": {
          "title": {
           "text": "availableQuantity"
          }
         },
         "colorscale": [
          [
           0.0,
           "rgb(236, 218, 154)"
          ],
          [
           0.16666666666666666,
           "rgb(239, 196, 126)"
          ],
          [
           0.3333333333333333,
           "rgb(243, 173, 106)"
          ],
          [
           0.5,
           "rgb(247, 148, 93)"
          ],
          [
           0.6666666666666666,
           "rgb(249, 123, 87)"
          ],
          [
           0.8333333333333334,
           "rgb(246, 99, 86)"
          ],
          [
           1.0,
           "rgb(238, 77, 90)"
          ]
         ]
        },
        "legend": {
         "tracegroupgap": 0
        },
        "title": {
         "text": "Packaged Food"
        },
        "height": 750
       },
       "config": {
        "plotlyServerURL": "https://plot.ly"
       }
      }
     },
     "metadata": {},
     "output_type": "display_data"
    },
    {
     "data": {
      "application/vnd.plotly.v1+json": {
       "data": [
        {
         "hovertemplate": "quantity=%{x}<br>discountedSellingPrice=%{y}<br>mrp=%{z}<br>availableQuantity=%{marker.color}<extra></extra>",
         "legendgroup": "",
         "marker": {
          "color": {
           "dtype": "i1",
           "bdata": "BAMDAQYBAwEBAgIBAQIBAQMBAQEBAQEBAQAAAAAAAAA="
          },
          "coloraxis": "coloraxis",
          "symbol": "diamond",
          "line": {
           "color": "DarkSlateGrey",
           "width": 2
          },
          "size": 8
         },
         "mode": "markers",
         "name": "",
         "scene": "scene",
         "showlegend": false,
         "x": {
          "dtype": "i2",
          "bdata": "AQD6APQB9AHCAfQBwgH0AfQB9AEKAPQB9AHCAfQB9AHCAfQBCgDIAPQB9AECAPQBwgH0AcIB9AHCAcIBwgH0AQ=="
         },
         "y": {
          "dtype": "i4",
          "bdata": "eGkAAPQzAAC4PQAAqEgAAOBgAACwTwAA2FkAAAhrAAB0QAAAXF0AAFBGAABUPQAAbDkAAFRWAAC4VgAAsE8AAOBgAADsRQAAuD0AAJAaAABcwQAAqKwAANRJAAB8YAAACFIAALA2AACkOAAAsE8AAOBgAACoYQAAqGEAAHhpAAA="
         },
         "z": {
          "dtype": "i4",
          "bdata": "MHUAAKQ4AABcRAAARGEAAGxrAAD8UwAAnGMAAJx8AAB0QAAAhGcAACBOAAB0QAAALGUAALRfAAD0ZQAASHEAAGxrAABEYQAAXEQAAEwdAAAsyQAApLUAAAhSAACEgAAACFIAALA2AACkOAAA/FMAAGxrAACoYQAAqGEAAHhpAAA="
         },
         "type": "scatter3d"
        }
       ],
       "layout": {
        "template": {
         "data": {
          "histogram2dcontour": [
           {
            "type": "histogram2dcontour",
            "colorbar": {
             "outlinewidth": 0,
             "ticks": ""
            },
            "colorscale": [
             [
              0.0,
              "#0d0887"
             ],
             [
              0.1111111111111111,
              "#46039f"
             ],
             [
              0.2222222222222222,
              "#7201a8"
             ],
             [
              0.3333333333333333,
              "#9c179e"
             ],
             [
              0.4444444444444444,
              "#bd3786"
             ],
             [
              0.5555555555555556,
              "#d8576b"
             ],
             [
              0.6666666666666666,
              "#ed7953"
             ],
             [
              0.7777777777777778,
              "#fb9f3a"
             ],
             [
              0.8888888888888888,
              "#fdca26"
             ],
             [
              1.0,
              "#f0f921"
             ]
            ]
           }
          ],
          "choropleth": [
           {
            "type": "choropleth",
            "colorbar": {
             "outlinewidth": 0,
             "ticks": ""
            }
           }
          ],
          "histogram2d": [
           {
            "type": "histogram2d",
            "colorbar": {
             "outlinewidth": 0,
             "ticks": ""
            },
            "colorscale": [
             [
              0.0,
              "#0d0887"
             ],
             [
              0.1111111111111111,
              "#46039f"
             ],
             [
              0.2222222222222222,
              "#7201a8"
             ],
             [
              0.3333333333333333,
              "#9c179e"
             ],
             [
              0.4444444444444444,
              "#bd3786"
             ],
             [
              0.5555555555555556,
              "#d8576b"
             ],
             [
              0.6666666666666666,
              "#ed7953"
             ],
             [
              0.7777777777777778,
              "#fb9f3a"
             ],
             [
              0.8888888888888888,
              "#fdca26"
             ],
             [
              1.0,
              "#f0f921"
             ]
            ]
           }
          ],
          "heatmap": [
           {
            "type": "heatmap",
            "colorbar": {
             "outlinewidth": 0,
             "ticks": ""
            },
            "colorscale": [
             [
              0.0,
              "#0d0887"
             ],
             [
              0.1111111111111111,
              "#46039f"
             ],
             [
              0.2222222222222222,
              "#7201a8"
             ],
             [
              0.3333333333333333,
              "#9c179e"
             ],
             [
              0.4444444444444444,
              "#bd3786"
             ],
             [
              0.5555555555555556,
              "#d8576b"
             ],
             [
              0.6666666666666666,
              "#ed7953"
             ],
             [
              0.7777777777777778,
              "#fb9f3a"
             ],
             [
              0.8888888888888888,
              "#fdca26"
             ],
             [
              1.0,
              "#f0f921"
             ]
            ]
           }
          ],
          "contourcarpet": [
           {
            "type": "contourcarpet",
            "colorbar": {
             "outlinewidth": 0,
             "ticks": ""
            }
           }
          ],
          "contour": [
           {
            "type": "contour",
            "colorbar": {
             "outlinewidth": 0,
             "ticks": ""
            },
            "colorscale": [
             [
              0.0,
              "#0d0887"
             ],
             [
              0.1111111111111111,
              "#46039f"
             ],
             [
              0.2222222222222222,
              "#7201a8"
             ],
             [
              0.3333333333333333,
              "#9c179e"
             ],
             [
              0.4444444444444444,
              "#bd3786"
             ],
             [
              0.5555555555555556,
              "#d8576b"
             ],
             [
              0.6666666666666666,
              "#ed7953"
             ],
             [
              0.7777777777777778,
              "#fb9f3a"
             ],
             [
              0.8888888888888888,
              "#fdca26"
             ],
             [
              1.0,
              "#f0f921"
             ]
            ]
           }
          ],
          "surface": [
           {
            "type": "surface",
            "colorbar": {
             "outlinewidth": 0,
             "ticks": ""
            },
            "colorscale": [
             [
              0.0,
              "#0d0887"
             ],
             [
              0.1111111111111111,
              "#46039f"
             ],
             [
              0.2222222222222222,
              "#7201a8"
             ],
             [
              0.3333333333333333,
              "#9c179e"
             ],
             [
              0.4444444444444444,
              "#bd3786"
             ],
             [
              0.5555555555555556,
              "#d8576b"
             ],
             [
              0.6666666666666666,
              "#ed7953"
             ],
             [
              0.7777777777777778,
              "#fb9f3a"
             ],
             [
              0.8888888888888888,
              "#fdca26"
             ],
             [
              1.0,
              "#f0f921"
             ]
            ]
           }
          ],
          "mesh3d": [
           {
            "type": "mesh3d",
            "colorbar": {
             "outlinewidth": 0,
             "ticks": ""
            }
           }
          ],
          "scatter": [
           {
            "marker": {
             "line": {
              "color": "#283442"
             }
            },
            "type": "scatter"
           }
          ],
          "parcoords": [
           {
            "type": "parcoords",
            "line": {
             "colorbar": {
              "outlinewidth": 0,
              "ticks": ""
             }
            }
           }
          ],
          "scatterpolargl": [
           {
            "type": "scatterpolargl",
            "marker": {
             "colorbar": {
              "outlinewidth": 0,
              "ticks": ""
             }
            }
           }
          ],
          "bar": [
           {
            "error_x": {
             "color": "#f2f5fa"
            },
            "error_y": {
             "color": "#f2f5fa"
            },
            "marker": {
             "line": {
              "color": "rgb(17,17,17)",
              "width": 0.5
             },
             "pattern": {
              "fillmode": "overlay",
              "size": 10,
              "solidity": 0.2
             }
            },
            "type": "bar"
           }
          ],
          "scattergeo": [
           {
            "type": "scattergeo",
            "marker": {
             "colorbar": {
              "outlinewidth": 0,
              "ticks": ""
             }
            }
           }
          ],
          "scatterpolar": [
           {
            "type": "scatterpolar",
            "marker": {
             "colorbar": {
              "outlinewidth": 0,
              "ticks": ""
             }
            }
           }
          ],
          "histogram": [
           {
            "marker": {
             "pattern": {
              "fillmode": "overlay",
              "size": 10,
              "solidity": 0.2
             }
            },
            "type": "histogram"
           }
          ],
          "scattergl": [
           {
            "marker": {
             "line": {
              "color": "#283442"
             }
            },
            "type": "scattergl"
           }
          ],
          "scatter3d": [
           {
            "type": "scatter3d",
            "line": {
             "colorbar": {
              "outlinewidth": 0,
              "ticks": ""
             }
            },
            "marker": {
             "colorbar": {
              "outlinewidth": 0,
              "ticks": ""
             }
            }
           }
          ],
          "scattermap": [
           {
            "type": "scattermap",
            "marker": {
             "colorbar": {
              "outlinewidth": 0,
              "ticks": ""
             }
            }
           }
          ],
          "scattermapbox": [
           {
            "type": "scattermapbox",
            "marker": {
             "colorbar": {
              "outlinewidth": 0,
              "ticks": ""
             }
            }
           }
          ],
          "scatterternary": [
           {
            "type": "scatterternary",
            "marker": {
             "colorbar": {
              "outlinewidth": 0,
              "ticks": ""
             }
            }
           }
          ],
          "scattercarpet": [
           {
            "type": "scattercarpet",
            "marker": {
             "colorbar": {
              "outlinewidth": 0,
              "ticks": ""
             }
            }
           }
          ],
          "carpet": [
           {
            "aaxis": {
             "endlinecolor": "#A2B1C6",
             "gridcolor": "#506784",
             "linecolor": "#506784",
             "minorgridcolor": "#506784",
             "startlinecolor": "#A2B1C6"
            },
            "baxis": {
             "endlinecolor": "#A2B1C6",
             "gridcolor": "#506784",
             "linecolor": "#506784",
             "minorgridcolor": "#506784",
             "startlinecolor": "#A2B1C6"
            },
            "type": "carpet"
           }
          ],
          "table": [
           {
            "cells": {
             "fill": {
              "color": "#506784"
             },
             "line": {
              "color": "rgb(17,17,17)"
             }
            },
            "header": {
             "fill": {
              "color": "#2a3f5f"
             },
             "line": {
              "color": "rgb(17,17,17)"
             }
            },
            "type": "table"
           }
          ],
          "barpolar": [
           {
            "marker": {
             "line": {
              "color": "rgb(17,17,17)",
              "width": 0.5
             },
             "pattern": {
              "fillmode": "overlay",
              "size": 10,
              "solidity": 0.2
             }
            },
            "type": "barpolar"
           }
          ],
          "pie": [
           {
            "automargin": true,
            "type": "pie"
           }
          ]
         },
         "layout": {
          "autotypenumbers": "strict",
          "colorway": [
           "#636efa",
           "#EF553B",
           "#00cc96",
           "#ab63fa",
           "#FFA15A",
           "#19d3f3",
           "#FF6692",
           "#B6E880",
           "#FF97FF",
           "#FECB52"
          ],
          "font": {
           "color": "#f2f5fa"
          },
          "hovermode": "closest",
          "hoverlabel": {
           "align": "left"
          },
          "paper_bgcolor": "rgb(17,17,17)",
          "plot_bgcolor": "rgb(17,17,17)",
          "polar": {
           "bgcolor": "rgb(17,17,17)",
           "angularaxis": {
            "gridcolor": "#506784",
            "linecolor": "#506784",
            "ticks": ""
           },
           "radialaxis": {
            "gridcolor": "#506784",
            "linecolor": "#506784",
            "ticks": ""
           }
          },
          "ternary": {
           "bgcolor": "rgb(17,17,17)",
           "aaxis": {
            "gridcolor": "#506784",
            "linecolor": "#506784",
            "ticks": ""
           },
           "baxis": {
            "gridcolor": "#506784",
            "linecolor": "#506784",
            "ticks": ""
           },
           "caxis": {
            "gridcolor": "#506784",
            "linecolor": "#506784",
            "ticks": ""
           }
          },
          "coloraxis": {
           "colorbar": {
            "outlinewidth": 0,
            "ticks": ""
           }
          },
          "colorscale": {
           "sequential": [
            [
             0.0,
             "#0d0887"
            ],
            [
             0.1111111111111111,
             "#46039f"
            ],
            [
             0.2222222222222222,
             "#7201a8"
            ],
            [
             0.3333333333333333,
             "#9c179e"
            ],
            [
             0.4444444444444444,
             "#bd3786"
            ],
            [
             0.5555555555555556,
             "#d8576b"
            ],
            [
             0.6666666666666666,
             "#ed7953"
            ],
            [
             0.7777777777777778,
             "#fb9f3a"
            ],
            [
             0.8888888888888888,
             "#fdca26"
            ],
            [
             1.0,
             "#f0f921"
            ]
           ],
           "sequentialminus": [
            [
             0.0,
             "#0d0887"
            ],
            [
             0.1111111111111111,
             "#46039f"
            ],
            [
             0.2222222222222222,
             "#7201a8"
            ],
            [
             0.3333333333333333,
             "#9c179e"
            ],
            [
             0.4444444444444444,
             "#bd3786"
            ],
            [
             0.5555555555555556,
             "#d8576b"
            ],
            [
             0.6666666666666666,
             "#ed7953"
            ],
            [
             0.7777777777777778,
             "#fb9f3a"
            ],
            [
             0.8888888888888888,
             "#fdca26"
            ],
            [
             1.0,
             "#f0f921"
            ]
           ],
           "diverging": [
            [
             0,
             "#8e0152"
            ],
            [
             0.1,
             "#c51b7d"
            ],
            [
             0.2,
             "#de77ae"
            ],
            [
             0.3,
             "#f1b6da"
            ],
            [
             0.4,
             "#fde0ef"
            ],
            [
             0.5,
             "#f7f7f7"
            ],
            [
             0.6,
             "#e6f5d0"
            ],
            [
             0.7,
             "#b8e186"
            ],
            [
             0.8,
             "#7fbc41"
            ],
            [
             0.9,
             "#4d9221"
            ],
            [
             1,
             "#276419"
            ]
           ]
          },
          "xaxis": {
           "gridcolor": "#283442",
           "linecolor": "#506784",
           "ticks": "",
           "title": {
            "standoff": 15
           },
           "zerolinecolor": "#283442",
           "automargin": true,
           "zerolinewidth": 2
          },
          "yaxis": {
           "gridcolor": "#283442",
           "linecolor": "#506784",
           "ticks": "",
           "title": {
            "standoff": 15
           },
           "zerolinecolor": "#283442",
           "automargin": true,
           "zerolinewidth": 2
          },
          "scene": {
           "xaxis": {
            "backgroundcolor": "rgb(17,17,17)",
            "gridcolor": "#506784",
            "linecolor": "#506784",
            "showbackground": true,
            "ticks": "",
            "zerolinecolor": "#C8D4E3",
            "gridwidth": 2
           },
           "yaxis": {
            "backgroundcolor": "rgb(17,17,17)",
            "gridcolor": "#506784",
            "linecolor": "#506784",
            "showbackground": true,
            "ticks": "",
            "zerolinecolor": "#C8D4E3",
            "gridwidth": 2
           },
           "zaxis": {
            "backgroundcolor": "rgb(17,17,17)",
            "gridcolor": "#506784",
            "linecolor": "#506784",
            "showbackground": true,
            "ticks": "",
            "zerolinecolor": "#C8D4E3",
            "gridwidth": 2
           }
          },
          "shapedefaults": {
           "line": {
            "color": "#f2f5fa"
           }
          },
          "annotationdefaults": {
           "arrowcolor": "#f2f5fa",
           "arrowhead": 0,
           "arrowwidth": 1
          },
          "geo": {
           "bgcolor": "rgb(17,17,17)",
           "landcolor": "rgb(17,17,17)",
           "subunitcolor": "#506784",
           "showland": true,
           "showlakes": true,
           "lakecolor": "rgb(17,17,17)"
          },
          "title": {
           "x": 0.05
          },
          "updatemenudefaults": {
           "bgcolor": "#506784",
           "borderwidth": 0
          },
          "sliderdefaults": {
           "bgcolor": "#C8D4E3",
           "borderwidth": 1,
           "bordercolor": "rgb(17,17,17)",
           "tickwidth": 0
          },
          "mapbox": {
           "style": "dark"
          }
         }
        },
        "scene": {
         "domain": {
          "x": [
           0.0,
           1.0
          ],
          "y": [
           0.0,
           1.0
          ]
         },
         "xaxis": {
          "title": {
           "text": "quantity"
          }
         },
         "yaxis": {
          "title": {
           "text": "discountedSellingPrice"
          }
         },
         "zaxis": {
          "title": {
           "text": "mrp"
          }
         }
        },
        "coloraxis": {
         "colorbar": {
          "title": {
           "text": "availableQuantity"
          }
         },
         "colorscale": [
          [
           0.0,
           "rgb(236, 218, 154)"
          ],
          [
           0.16666666666666666,
           "rgb(239, 196, 126)"
          ],
          [
           0.3333333333333333,
           "rgb(243, 173, 106)"
          ],
          [
           0.5,
           "rgb(247, 148, 93)"
          ],
          [
           0.6666666666666666,
           "rgb(249, 123, 87)"
          ],
          [
           0.8333333333333334,
           "rgb(246, 99, 86)"
          ],
          [
           1.0,
           "rgb(238, 77, 90)"
          ]
         ]
        },
        "legend": {
         "tracegroupgap": 0
        },
        "title": {
         "text": "Meats, Fish & Eggs"
        },
        "height": 750
       },
       "config": {
        "plotlyServerURL": "https://plot.ly"
       }
      }
     },
     "metadata": {},
     "output_type": "display_data"
    },
    {
     "data": {
      "application/vnd.plotly.v1+json": {
       "data": [
        {
         "hovertemplate": "quantity=%{x}<br>discountedSellingPrice=%{y}<br>mrp=%{z}<br>availableQuantity=%{marker.color}<extra></extra>",
         "legendgroup": "",
         "marker": {
          "color": {
           "dtype": "i1",
           "bdata": "BgYEAQUBBQMEBQMGAgMDAgMGBAYBAgUGBAYDAwEDBQYCBgYDBAQBAwYGAwQGBgYGBAYCBgMGBgMDBAQGBgYCBQYGBgIGAwEBBgQGBQYGBgQGBgMCBAYFBgYGBgYDBgIGAQQAAAAAAAAAAAAAAAAAAAAAAAAAAAAAAAAAAAAAAAAAAAAAAA=="
          },
          "coloraxis": "coloraxis",
          "symbol": "diamond",
          "line": {
           "color": "DarkSlateGrey",
           "width": 2
          },
          "size": 8
         },
         "mode": "markers",
         "name": "",
         "scene": "scene",
         "showlegend": false,
         "x": {
          "dtype": "i2",
          "bdata": "OgB4AEsAlgCQAcgASwD6AJABSwDIAJABSwC2AKgALQAsASwByAB4AMgA9AHIAEsALAE4AMgASwBkAEMAFAH6AC8ASwBkAGQAZABLAJYAlgBLAFgClgB4AAEALAFYAksAyAAeAMgA9AEZAMgALAF4AEsAkAEsAQEASwCWAMgASwA8AL4AlgBQAXgAlgAZAGQAwgHIAKgALwDIAHgAyADIAEsASwDIAHgAkAHIAC0AWAJkAHgA+gBkAJYAlgD6AJYAkAGWAEsA+gBLAGQASwCWAMgAlgD6AHgAyABYAksALAFkAJYAlgDIAHgAPAAcAC0ASwAsASwBLQBkAMgAeAAtABwASwDIAJYALAE="
         },
         "y": {
          "dtype": "i4",
          "bdata": "6AMAABwMAACYCAAAlBEAAKwmAAAwEQAAuAsAAEwdAABYGwAAmAgAANAHAABkGQAAmAgAAKwNAAAgHAAA3AUAAJwxAABeGgAAxAkAAJoQAADQBwAAIBwAANQXAADKCAAAqBYAAMQJAACMCgAAaBAAAFQLAAD8CAAABCkAALgLAAAIBwAA/AgAAFQLAADEIgAAVAsAAKQfAACcGAAAGBUAAGgQAABAKQAABBAAACQTAACgDwAAXBIAANgnAAD8CAAAGBUAAOQMAADUFwAAECcAAIwKAACMCgAAkBoAALgLAABIDQAAvE0AAIAlAACgDwAA8AoAAHAXAADgFQAA2A4AAKAPAAAYFQAAXBIAAMArAAAwKgAAuAsAAIwKAADgFQAAhDUAAOAVAACkHwAA3AUAAFgbAAC4CwAAjAoAAOAVAACkHwAApB8AAFgbAACUEQAA4C4AAIwKAADcBQAAIBwAAOAVAABUCwAAOBgAAEgNAABQLQAAnBgAAHAXAACIEwAAuIgAAFAtAADoAwAAuAsAAIAMAADECQAAxAkAAMQJAACUEQAASA0AAEwdAADECQAA8AoAAEAfAAD8CAAAlBEAANQXAABIDQAAmAgAAEwdAABUCwAA6AMAAOgDAADcBQAAyggAAKwNAABAHwAA3AUAAMQJAABkGQAAVAsAANwFAADoAwAApB8AABgVAABUCwAAoA8AAA=="
         },
         "z": {
          "dtype": "i4",
          "bdata": "6AMAAIAMAACUEQAAlBEAAOAuAACUEQAAuAsAAJg6AABYGwAAlBEAANAHAABkGQAAlBEAAKwNAABAHwAA3AUAAJg6AABMHQAAxAkAAIgTAAD8CAAAQB8AAGQZAADECQAAQB8AAMQJAAC4CwAAiBMAALgLAADECQAAsDYAALgLAADQBwAAxAkAALgLAAAcJQAArA0AAAQpAABYGwAAcBcAAIgTAADgLgAAfBUAAIgTAACUEQAAwBIAAOAuAADECQAAcBcAAKAPAABkGQAAECcAAKwNAAC4CwAAQB8AALgLAACsDQAACFIAAOAuAACUEQAAuAsAAHAXAABwFwAAlBEAAJQRAABwFwAAiBMAAJg6AADgLgAAuAsAAKwNAABwFwAANDoAAHAXAAAoIwAA3AUAAEwdAAC4CwAAuAsAAHAXAAAEKQAABCkAAEwdAACUEQAA4C4AALgLAADcBQAAQB8AAHAXAAC4CwAAWBsAAKwNAADIMgAAWBsAAHAXAACIEwAAuIgAAMgyAADoAwAAuAsAAKwNAADECQAAxAkAAMQJAACUEQAArA0AAJg6AADECQAA8AoAAEAfAADECQAAlBEAAGQZAACsDQAAxAkAAEwdAAC4CwAA6AMAAOgDAADcBQAAxAkAAKwNAABAHwAA3AUAAMQJAABkGQAAuAsAANwFAADoAwAABCkAAHAXAACsDQAAoA8AAA=="
         },
         "type": "scatter3d"
        }
       ],
       "layout": {
        "template": {
         "data": {
          "histogram2dcontour": [
           {
            "type": "histogram2dcontour",
            "colorbar": {
             "outlinewidth": 0,
             "ticks": ""
            },
            "colorscale": [
             [
              0.0,
              "#0d0887"
             ],
             [
              0.1111111111111111,
              "#46039f"
             ],
             [
              0.2222222222222222,
              "#7201a8"
             ],
             [
              0.3333333333333333,
              "#9c179e"
             ],
             [
              0.4444444444444444,
              "#bd3786"
             ],
             [
              0.5555555555555556,
              "#d8576b"
             ],
             [
              0.6666666666666666,
              "#ed7953"
             ],
             [
              0.7777777777777778,
              "#fb9f3a"
             ],
             [
              0.8888888888888888,
              "#fdca26"
             ],
             [
              1.0,
              "#f0f921"
             ]
            ]
           }
          ],
          "choropleth": [
           {
            "type": "choropleth",
            "colorbar": {
             "outlinewidth": 0,
             "ticks": ""
            }
           }
          ],
          "histogram2d": [
           {
            "type": "histogram2d",
            "colorbar": {
             "outlinewidth": 0,
             "ticks": ""
            },
            "colorscale": [
             [
              0.0,
              "#0d0887"
             ],
             [
              0.1111111111111111,
              "#46039f"
             ],
             [
              0.2222222222222222,
              "#7201a8"
             ],
             [
              0.3333333333333333,
              "#9c179e"
             ],
             [
              0.4444444444444444,
              "#bd3786"
             ],
             [
              0.5555555555555556,
              "#d8576b"
             ],
             [
              0.6666666666666666,
              "#ed7953"
             ],
             [
              0.7777777777777778,
              "#fb9f3a"
             ],
             [
              0.8888888888888888,
              "#fdca26"
             ],
             [
              1.0,
              "#f0f921"
             ]
            ]
           }
          ],
          "heatmap": [
           {
            "type": "heatmap",
            "colorbar": {
             "outlinewidth": 0,
             "ticks": ""
            },
            "colorscale": [
             [
              0.0,
              "#0d0887"
             ],
             [
              0.1111111111111111,
              "#46039f"
             ],
             [
              0.2222222222222222,
              "#7201a8"
             ],
             [
              0.3333333333333333,
              "#9c179e"
             ],
             [
              0.4444444444444444,
              "#bd3786"
             ],
             [
              0.5555555555555556,
              "#d8576b"
             ],
             [
              0.6666666666666666,
              "#ed7953"
             ],
             [
              0.7777777777777778,
              "#fb9f3a"
             ],
             [
              0.8888888888888888,
              "#fdca26"
             ],
             [
              1.0,
              "#f0f921"
             ]
            ]
           }
          ],
          "contourcarpet": [
           {
            "type": "contourcarpet",
            "colorbar": {
             "outlinewidth": 0,
             "ticks": ""
            }
           }
          ],
          "contour": [
           {
            "type": "contour",
            "colorbar": {
             "outlinewidth": 0,
             "ticks": ""
            },
            "colorscale": [
             [
              0.0,
              "#0d0887"
             ],
             [
              0.1111111111111111,
              "#46039f"
             ],
             [
              0.2222222222222222,
              "#7201a8"
             ],
             [
              0.3333333333333333,
              "#9c179e"
             ],
             [
              0.4444444444444444,
              "#bd3786"
             ],
             [
              0.5555555555555556,
              "#d8576b"
             ],
             [
              0.6666666666666666,
              "#ed7953"
             ],
             [
              0.7777777777777778,
              "#fb9f3a"
             ],
             [
              0.8888888888888888,
              "#fdca26"
             ],
             [
              1.0,
              "#f0f921"
             ]
            ]
           }
          ],
          "surface": [
           {
            "type": "surface",
            "colorbar": {
             "outlinewidth": 0,
             "ticks": ""
            },
            "colorscale": [
             [
              0.0,
              "#0d0887"
             ],
             [
              0.1111111111111111,
              "#46039f"
             ],
             [
              0.2222222222222222,
              "#7201a8"
             ],
             [
              0.3333333333333333,
              "#9c179e"
             ],
             [
              0.4444444444444444,
              "#bd3786"
             ],
             [
              0.5555555555555556,
              "#d8576b"
             ],
             [
              0.6666666666666666,
              "#ed7953"
             ],
             [
              0.7777777777777778,
              "#fb9f3a"
             ],
             [
              0.8888888888888888,
              "#fdca26"
             ],
             [
              1.0,
              "#f0f921"
             ]
            ]
           }
          ],
          "mesh3d": [
           {
            "type": "mesh3d",
            "colorbar": {
             "outlinewidth": 0,
             "ticks": ""
            }
           }
          ],
          "scatter": [
           {
            "marker": {
             "line": {
              "color": "#283442"
             }
            },
            "type": "scatter"
           }
          ],
          "parcoords": [
           {
            "type": "parcoords",
            "line": {
             "colorbar": {
              "outlinewidth": 0,
              "ticks": ""
             }
            }
           }
          ],
          "scatterpolargl": [
           {
            "type": "scatterpolargl",
            "marker": {
             "colorbar": {
              "outlinewidth": 0,
              "ticks": ""
             }
            }
           }
          ],
          "bar": [
           {
            "error_x": {
             "color": "#f2f5fa"
            },
            "error_y": {
             "color": "#f2f5fa"
            },
            "marker": {
             "line": {
              "color": "rgb(17,17,17)",
              "width": 0.5
             },
             "pattern": {
              "fillmode": "overlay",
              "size": 10,
              "solidity": 0.2
             }
            },
            "type": "bar"
           }
          ],
          "scattergeo": [
           {
            "type": "scattergeo",
            "marker": {
             "colorbar": {
              "outlinewidth": 0,
              "ticks": ""
             }
            }
           }
          ],
          "scatterpolar": [
           {
            "type": "scatterpolar",
            "marker": {
             "colorbar": {
              "outlinewidth": 0,
              "ticks": ""
             }
            }
           }
          ],
          "histogram": [
           {
            "marker": {
             "pattern": {
              "fillmode": "overlay",
              "size": 10,
              "solidity": 0.2
             }
            },
            "type": "histogram"
           }
          ],
          "scattergl": [
           {
            "marker": {
             "line": {
              "color": "#283442"
             }
            },
            "type": "scattergl"
           }
          ],
          "scatter3d": [
           {
            "type": "scatter3d",
            "line": {
             "colorbar": {
              "outlinewidth": 0,
              "ticks": ""
             }
            },
            "marker": {
             "colorbar": {
              "outlinewidth": 0,
              "ticks": ""
             }
            }
           }
          ],
          "scattermap": [
           {
            "type": "scattermap",
            "marker": {
             "colorbar": {
              "outlinewidth": 0,
              "ticks": ""
             }
            }
           }
          ],
          "scattermapbox": [
           {
            "type": "scattermapbox",
            "marker": {
             "colorbar": {
              "outlinewidth": 0,
              "ticks": ""
             }
            }
           }
          ],
          "scatterternary": [
           {
            "type": "scatterternary",
            "marker": {
             "colorbar": {
              "outlinewidth": 0,
              "ticks": ""
             }
            }
           }
          ],
          "scattercarpet": [
           {
            "type": "scattercarpet",
            "marker": {
             "colorbar": {
              "outlinewidth": 0,
              "ticks": ""
             }
            }
           }
          ],
          "carpet": [
           {
            "aaxis": {
             "endlinecolor": "#A2B1C6",
             "gridcolor": "#506784",
             "linecolor": "#506784",
             "minorgridcolor": "#506784",
             "startlinecolor": "#A2B1C6"
            },
            "baxis": {
             "endlinecolor": "#A2B1C6",
             "gridcolor": "#506784",
             "linecolor": "#506784",
             "minorgridcolor": "#506784",
             "startlinecolor": "#A2B1C6"
            },
            "type": "carpet"
           }
          ],
          "table": [
           {
            "cells": {
             "fill": {
              "color": "#506784"
             },
             "line": {
              "color": "rgb(17,17,17)"
             }
            },
            "header": {
             "fill": {
              "color": "#2a3f5f"
             },
             "line": {
              "color": "rgb(17,17,17)"
             }
            },
            "type": "table"
           }
          ],
          "barpolar": [
           {
            "marker": {
             "line": {
              "color": "rgb(17,17,17)",
              "width": 0.5
             },
             "pattern": {
              "fillmode": "overlay",
              "size": 10,
              "solidity": 0.2
             }
            },
            "type": "barpolar"
           }
          ],
          "pie": [
           {
            "automargin": true,
            "type": "pie"
           }
          ]
         },
         "layout": {
          "autotypenumbers": "strict",
          "colorway": [
           "#636efa",
           "#EF553B",
           "#00cc96",
           "#ab63fa",
           "#FFA15A",
           "#19d3f3",
           "#FF6692",
           "#B6E880",
           "#FF97FF",
           "#FECB52"
          ],
          "font": {
           "color": "#f2f5fa"
          },
          "hovermode": "closest",
          "hoverlabel": {
           "align": "left"
          },
          "paper_bgcolor": "rgb(17,17,17)",
          "plot_bgcolor": "rgb(17,17,17)",
          "polar": {
           "bgcolor": "rgb(17,17,17)",
           "angularaxis": {
            "gridcolor": "#506784",
            "linecolor": "#506784",
            "ticks": ""
           },
           "radialaxis": {
            "gridcolor": "#506784",
            "linecolor": "#506784",
            "ticks": ""
           }
          },
          "ternary": {
           "bgcolor": "rgb(17,17,17)",
           "aaxis": {
            "gridcolor": "#506784",
            "linecolor": "#506784",
            "ticks": ""
           },
           "baxis": {
            "gridcolor": "#506784",
            "linecolor": "#506784",
            "ticks": ""
           },
           "caxis": {
            "gridcolor": "#506784",
            "linecolor": "#506784",
            "ticks": ""
           }
          },
          "coloraxis": {
           "colorbar": {
            "outlinewidth": 0,
            "ticks": ""
           }
          },
          "colorscale": {
           "sequential": [
            [
             0.0,
             "#0d0887"
            ],
            [
             0.1111111111111111,
             "#46039f"
            ],
            [
             0.2222222222222222,
             "#7201a8"
            ],
            [
             0.3333333333333333,
             "#9c179e"
            ],
            [
             0.4444444444444444,
             "#bd3786"
            ],
            [
             0.5555555555555556,
             "#d8576b"
            ],
            [
             0.6666666666666666,
             "#ed7953"
            ],
            [
             0.7777777777777778,
             "#fb9f3a"
            ],
            [
             0.8888888888888888,
             "#fdca26"
            ],
            [
             1.0,
             "#f0f921"
            ]
           ],
           "sequentialminus": [
            [
             0.0,
             "#0d0887"
            ],
            [
             0.1111111111111111,
             "#46039f"
            ],
            [
             0.2222222222222222,
             "#7201a8"
            ],
            [
             0.3333333333333333,
             "#9c179e"
            ],
            [
             0.4444444444444444,
             "#bd3786"
            ],
            [
             0.5555555555555556,
             "#d8576b"
            ],
            [
             0.6666666666666666,
             "#ed7953"
            ],
            [
             0.7777777777777778,
             "#fb9f3a"
            ],
            [
             0.8888888888888888,
             "#fdca26"
            ],
            [
             1.0,
             "#f0f921"
            ]
           ],
           "diverging": [
            [
             0,
             "#8e0152"
            ],
            [
             0.1,
             "#c51b7d"
            ],
            [
             0.2,
             "#de77ae"
            ],
            [
             0.3,
             "#f1b6da"
            ],
            [
             0.4,
             "#fde0ef"
            ],
            [
             0.5,
             "#f7f7f7"
            ],
            [
             0.6,
             "#e6f5d0"
            ],
            [
             0.7,
             "#b8e186"
            ],
            [
             0.8,
             "#7fbc41"
            ],
            [
             0.9,
             "#4d9221"
            ],
            [
             1,
             "#276419"
            ]
           ]
          },
          "xaxis": {
           "gridcolor": "#283442",
           "linecolor": "#506784",
           "ticks": "",
           "title": {
            "standoff": 15
           },
           "zerolinecolor": "#283442",
           "automargin": true,
           "zerolinewidth": 2
          },
          "yaxis": {
           "gridcolor": "#283442",
           "linecolor": "#506784",
           "ticks": "",
           "title": {
            "standoff": 15
           },
           "zerolinecolor": "#283442",
           "automargin": true,
           "zerolinewidth": 2
          },
          "scene": {
           "xaxis": {
            "backgroundcolor": "rgb(17,17,17)",
            "gridcolor": "#506784",
            "linecolor": "#506784",
            "showbackground": true,
            "ticks": "",
            "zerolinecolor": "#C8D4E3",
            "gridwidth": 2
           },
           "yaxis": {
            "backgroundcolor": "rgb(17,17,17)",
            "gridcolor": "#506784",
            "linecolor": "#506784",
            "showbackground": true,
            "ticks": "",
            "zerolinecolor": "#C8D4E3",
            "gridwidth": 2
           },
           "zaxis": {
            "backgroundcolor": "rgb(17,17,17)",
            "gridcolor": "#506784",
            "linecolor": "#506784",
            "showbackground": true,
            "ticks": "",
            "zerolinecolor": "#C8D4E3",
            "gridwidth": 2
           }
          },
          "shapedefaults": {
           "line": {
            "color": "#f2f5fa"
           }
          },
          "annotationdefaults": {
           "arrowcolor": "#f2f5fa",
           "arrowhead": 0,
           "arrowwidth": 1
          },
          "geo": {
           "bgcolor": "rgb(17,17,17)",
           "landcolor": "rgb(17,17,17)",
           "subunitcolor": "#506784",
           "showland": true,
           "showlakes": true,
           "lakecolor": "rgb(17,17,17)"
          },
          "title": {
           "x": 0.05
          },
          "updatemenudefaults": {
           "bgcolor": "#506784",
           "borderwidth": 0
          },
          "sliderdefaults": {
           "bgcolor": "#C8D4E3",
           "borderwidth": 1,
           "bordercolor": "rgb(17,17,17)",
           "tickwidth": 0
          },
          "mapbox": {
           "style": "dark"
          }
         }
        },
        "scene": {
         "domain": {
          "x": [
           0.0,
           1.0
          ],
          "y": [
           0.0,
           1.0
          ]
         },
         "xaxis": {
          "title": {
           "text": "quantity"
          }
         },
         "yaxis": {
          "title": {
           "text": "discountedSellingPrice"
          }
         },
         "zaxis": {
          "title": {
           "text": "mrp"
          }
         }
        },
        "coloraxis": {
         "colorbar": {
          "title": {
           "text": "availableQuantity"
          }
         },
         "colorscale": [
          [
           0.0,
           "rgb(236, 218, 154)"
          ],
          [
           0.16666666666666666,
           "rgb(239, 196, 126)"
          ],
          [
           0.3333333333333333,
           "rgb(243, 173, 106)"
          ],
          [
           0.5,
           "rgb(247, 148, 93)"
          ],
          [
           0.6666666666666666,
           "rgb(249, 123, 87)"
          ],
          [
           0.8333333333333334,
           "rgb(246, 99, 86)"
          ],
          [
           1.0,
           "rgb(238, 77, 90)"
          ]
         ]
        },
        "legend": {
         "tracegroupgap": 0
        },
        "title": {
         "text": "Biscuits"
        },
        "height": 750
       },
       "config": {
        "plotlyServerURL": "https://plot.ly"
       }
      }
     },
     "metadata": {},
     "output_type": "display_data"
    },
    {
     "data": {
      "application/vnd.plotly.v1+json": {
       "data": [
        {
         "hovertemplate": "quantity=%{x}<br>discountedSellingPrice=%{y}<br>mrp=%{z}<br>availableQuantity=%{marker.color}<extra></extra>",
         "legendgroup": "",
         "marker": {
          "color": {
           "dtype": "i1",
           "bdata": "AwYGBgYGBgIGBgIGBgYGBAYDAwYGBAYBBgYBBQYEAwYEBQQCBgYCBgYFBAICBgYGBAYGBgYFAgYGAwMDBQMGBgYBBgYGBgUEAgYDAQQGAQUGAwMGBgIDBgYEBAEEAwYBBAUGBAICBgQGBQYEAwQEBAUGBgQDBQEFAgYDBQUFBgYEBgQDBAYGBQYGBAQCAwYDBgUFAwEGAwIGBgYEAwYFAQYBBgMBBgYGBgUEAwYDBQYGBgUFAgQFBAYBBgEGBAYCBgYDBgQGBAYEBgYGBQYGAQYGBAUCBQUGAQUCBgQGBgQGBAIFBgYDBgYGAQYGAgUEAwQDBgYGAwYGBAYFAQMGBAUBBgMEAQYBBgYGAgYGBgYGBgQBBgYEAQYGAQIGBgYBAgQGBAAAAAAAAAAAAAAAAAAAAAAAAA=="
          },
          "coloraxis": "coloraxis",
          "symbol": "diamond",
          "line": {
           "color": "DarkSlateGrey",
           "width": 2
          },
          "size": 8
         },
         "mode": "markers",
         "name": "",
         "scene": "scene",
         "showlegend": false,
         "x": {
          "dtype": "i2",
          "bdata": "UAAyAGQA7gL0AXgASwDIAJYAZACWAGQAAQB9ADIAdwFxAmQAfQASAG4AMgAUAMgAFAAyAFAAdwEFABQAZABxAqIBtAAEAPoA7gLIALQAyAC0AJYAtABQAMgABwDuAlAAZAC+ABQAyABGADIAaAF3AQQABAAeAIoCZAAGANwFKAAeADwAlgAEACwAFACWALQArwB4AFQBZAAZAJYAAQD6AAQA7gJ4AAEAAgAAAGQAlgAUAAQAZAAEADIASAAcAKwAQACWAGQAZAAsAJYArADIAFgCtAAUAMQAZAAeAGQA+gAPAMgAfQDIAMAA+gDAABQA+gCWABgAFAC0APAAVwCWAJ8A+gAEAHgAyABxAsgAHABkAHgAKACvAMgAdwFLAJAB+gAEAAEAyAC0AFQB+gDIAPoArADIAJ8AaAF3AfoAUADIAJYA9AEsARgAyACQATwAtAB4AGQAAAAHAIoCFACgACwB+gCWALQABwAEAPoAkAEKAJABeABkACwB0gACAGQAZACQAVcAlgBkAE4AxADIALQAtAAoAIoCyAAEAFgCrACiAfoA+gDIAFQBeAC+AFAAyADIADIAZAAYAMgAwABkAJYAFABkAMgAZADIAA4ANgBkAPoAAwAUAFAAcQIJADIArABkAAEAMgDAAMgAUgCWAFQBQACWABQAMgBIAGQAggBkAB4AVAFUAX0AlgAyAJYA9AFUAQQAAgBGAEYAUAC0ABkAGACQAcEAZAD6AJYAVAFUAQEAVAH6AJYAyADIAMgAFAB4AGQAUADuAiwBBwB4AJABSwAHAAcAZAABAAcAGwBkAGQAyAAPAJABGgA="
         },
         "y": {
          "dtype": "i4",
          "bdata": "oCgAAMQJAAA8KAAABCkAAPgqAAAwKgAASA0AAFQkAAAEQgAAfBUAABwlAABcjwAAiBMAAEwdAACQGgAAVD0AAHxgAADkVwAAVAsAAOgDAAA4SgAAlBEAALgLAAB8LgAAuAsAAAAyAAAkEwAAqEgAAAggAAC4CwAAVD0AAPRlAAAIUgAAFDcAALCzAAAcPgAArCYAABwlAABgIgAANCEAALxNAAAoIwAA+EMAALQtAAAAMgAAVAsAABwlAABIPwAAvBsAAOgcAADoHAAA3B4AAJAaAAAAMgAAhGcAABQ3AAB8LgAArCYAAORXAABkrwAASCYAAOAuAADUSQAATB0AACx+AABAHwAACFIAAKwmAAAcogAAKCMAAMhLAACYOgAABCkAAMhLAABwlAAAUEYAAGQZAAD4QwAA0AcAAOAuAACsJgAArCYAAKwmAADECQAAaFsAADQ6AAB8FQAAqBYAAOQMAAAwKgAAVD0AAKwmAABYNAAAUEYAAGh0AAAw8gAAIBwAAPhDAABwFwAAxCIAACxfAQAcPgAAMPIAAJAaAAA0OgAAwCsAAChVAAAkRQAAIE4AAAx7AACEHAAAUEYAAFxEAADcNwAA0FIAABwlAAC8TQAAnEoAALw0AADECQAATB0AAMQ7AAAMFwAAyDIAAGw5AABUbwAA2NYAADyMAADY1gAAxCIAAEgmAABQRgAAvE0AAHxgAABMHQAA/GwAAFgbAABQRgAAqBYAADhKAACILAAAuD0AANQwAACwNgAAxCIAAIA+AAD0fgAApDgAAHySAABoWwAAmFMAAPDSAAC8NAAAMPIAAJg6AADY1gAAKG4AALg9AADgLgAApB8AAPgqAACoYQAA5FcAAJx8AAAwjgAArCYAAJx8AADkVwAAaEIAAEwdAAAQJwAAbGsAAKQfAAAQ7wAAVAsAALA2AAAoPAAAmGwAAPhDAADgLgAAuAsAAAwwAACoSAAAbIQAAHwVAABwSQAAUEYAAKh6AAB0WQAAdEAAAERhAABESAAAmDoAAIRnAADY1gAABEIAADgxAAC8GwAAvE0AAFBGAACwNgAAwCsAAKgWAACEywAANCEAAARCAABQRgAAMPIAAORXAADsRQAAODEAAHxgAABUVgAAqGEAAPBVAABgIgAAQGoAADQhAADsLAAApDgAAAB9AABMTwAANDoAAOwsAADARAAABCkAAKw/AAA4SgAApB8AALxNAABcRAAALF8BAMArAABQRgAAUEYAAChVAACIEwAAUEYAANCEAADIMgAA2NYAAERhAADQBwAAADIAALxNAAB8YAAApEsBAPhDAAB4ggAA3B4AAMBEAADsLAAAdNYAAKRLAQC4PQAAiBMAACwzAADUxgAAiEUAAAhSAADUSQAAvE0AAJzgAAC8TQAAvE0AAAiEAADI4QAAfJIAAEwdAAA4MQAAVCQAAOAuAAAoIwAAkH4AAPR+AAC8TQAAVD0AALxNAABEYQAAcGIAAOhnAADEhgAAlI4AAIA+AACoYQAAvBsAAIhFAADcmwAAIBwAANhZAABUVgAA0CAAAAQpAAAMMAAAVAsAAFwSAADISwAAaCkAACgjAABUCwAA0CAAANhZAAAEEAAA6BwAACwzAABwFwAA4C4AAERIAABQLQAAJJAAAA=="
         },
         "z": {
          "dtype": "i4",
          "bdata": "gD4AAMQJAADsLAAAlCoAAOwsAADgLgAArA0AAIgsAADkVwAAqBYAAHQnAADAqAAAiBMAAEwdAADcHgAA2EAAAJBlAACoYQAAuAsAAOgDAAA0UwAAiBMAALgLAADIMgAAuAsAALw0AACIEwAAvE0AAGAiAAC4CwAAREgAAEhxAADkVwAAmDoAAOzCAAC8TQAArCYAABAnAABgIgAAxCIAALxNAAAoIwAALEwAAMgyAACwNgAAuAsAAKwmAAA4SgAATB0AAAggAADcHgAA3B4AAEwdAAC8NAAAhGcAAIA+AACwNgAArCYAAKhhAADswgAASCYAAOAuAADUSQAATB0AAOiAAABAHwAACFIAAKwmAABkrwAAKCMAAAhSAACYOgAABCkAAAhSAABwlAAAUEYAAEwdAAAsTAAA0AcAAJg6AACsJgAArCYAAPgqAAC4CwAAkGUAADQ6AAB8FQAAqBYAAOQMAADgLgAAXEQAAKwmAAA0OgAAIE4AANCEAAAw8gAANCEAACxMAABwFwAArCYAAEytAQC8TQAAMPIAAEwdAAA0OgAA4C4AAMxbAAC8TQAA/FMAAAx7AABAHwAA5FcAAFxEAADcNwAAzFsAABwlAAC8TQAAvE0AALw0AADECQAAQB8AAGhCAABkGQAA9DMAALg9AABUbwAA2NYAANybAADY1gAArCYAAEgmAAAgTgAAvE0AAJBlAABMHQAAzHQAAFgbAAAgTgAAZBkAADhKAADIMgAAwEQAANQwAACYOgAArCYAAIA+AABUiAAAdEAAAHySAABEYQAA5FcAAGDqAACYOgAAMPIAAHRAAADY1gAAKG4AAMBEAACYOgAAKCMAAPgqAACoYQAAqGEAANybAACUpwAArCYAANybAADkVwAAaEIAAEwdAAAQJwAAMHUAACgjAAD0+wAAVAsAALA2AAAYRwAAtHgAACxMAADgLgAAuAsAAJg6AAC8TQAA3JsAAHwVAADYWQAAIE4AAFSIAAB4aQAAdEAAAERhAABESAAAmDoAAAB9AADY1gAAOEoAALA2AABMHQAAvE0AAFBGAACMPAAA4C4AAGQZAADM2AAANCEAAERIAABQRgAAMPIAAORXAAC8TQAAsDYAAMx0AADAXQAAqGEAAPBVAABUJAAAGHkAADQhAADIMgAAjDwAAAB9AADkVwAANDoAAOwsAAAsTAAABCkAAFBGAAA4SgAAKCMAALxNAABcRAAATK0BANQwAADkVwAAUEYAAMxbAAB8FQAAUEYAAASmAADIMgAA2NYAAERhAADQBwAAvDQAALxNAABsawAAFF0CACxMAAB8kgAANCEAACxMAADsLAAADBEBAEytAQBcRAAAiBMAAKQ4AAD86QAAiEUAAORXAAC8TQAAvE0AAAwRAQC8TQAAvE0AAHySAACE/QAAfJIAAEwdAACwNgAAVCQAAOAuAAAQJwAAoIwAAPR+AAC8TQAAREgAAERhAABEYQAAsGgAADxzAADEhgAAlI4AACBOAACoYQAAvBsAADhKAADcmwAAQB8AANhZAAC0XwAAKCMAAJQqAAAMMAAAuAsAAMASAAD8UwAA7CwAACgjAACADAAA0CAAAERhAABoEAAACCAAAKQ4AAAsGgAAyDIAAERIAABQLQAA3JsAAA=="
         },
         "type": "scatter3d"
        }
       ],
       "layout": {
        "template": {
         "data": {
          "histogram2dcontour": [
           {
            "type": "histogram2dcontour",
            "colorbar": {
             "outlinewidth": 0,
             "ticks": ""
            },
            "colorscale": [
             [
              0.0,
              "#0d0887"
             ],
             [
              0.1111111111111111,
              "#46039f"
             ],
             [
              0.2222222222222222,
              "#7201a8"
             ],
             [
              0.3333333333333333,
              "#9c179e"
             ],
             [
              0.4444444444444444,
              "#bd3786"
             ],
             [
              0.5555555555555556,
              "#d8576b"
             ],
             [
              0.6666666666666666,
              "#ed7953"
             ],
             [
              0.7777777777777778,
              "#fb9f3a"
             ],
             [
              0.8888888888888888,
              "#fdca26"
             ],
             [
              1.0,
              "#f0f921"
             ]
            ]
           }
          ],
          "choropleth": [
           {
            "type": "choropleth",
            "colorbar": {
             "outlinewidth": 0,
             "ticks": ""
            }
           }
          ],
          "histogram2d": [
           {
            "type": "histogram2d",
            "colorbar": {
             "outlinewidth": 0,
             "ticks": ""
            },
            "colorscale": [
             [
              0.0,
              "#0d0887"
             ],
             [
              0.1111111111111111,
              "#46039f"
             ],
             [
              0.2222222222222222,
              "#7201a8"
             ],
             [
              0.3333333333333333,
              "#9c179e"
             ],
             [
              0.4444444444444444,
              "#bd3786"
             ],
             [
              0.5555555555555556,
              "#d8576b"
             ],
             [
              0.6666666666666666,
              "#ed7953"
             ],
             [
              0.7777777777777778,
              "#fb9f3a"
             ],
             [
              0.8888888888888888,
              "#fdca26"
             ],
             [
              1.0,
              "#f0f921"
             ]
            ]
           }
          ],
          "heatmap": [
           {
            "type": "heatmap",
            "colorbar": {
             "outlinewidth": 0,
             "ticks": ""
            },
            "colorscale": [
             [
              0.0,
              "#0d0887"
             ],
             [
              0.1111111111111111,
              "#46039f"
             ],
             [
              0.2222222222222222,
              "#7201a8"
             ],
             [
              0.3333333333333333,
              "#9c179e"
             ],
             [
              0.4444444444444444,
              "#bd3786"
             ],
             [
              0.5555555555555556,
              "#d8576b"
             ],
             [
              0.6666666666666666,
              "#ed7953"
             ],
             [
              0.7777777777777778,
              "#fb9f3a"
             ],
             [
              0.8888888888888888,
              "#fdca26"
             ],
             [
              1.0,
              "#f0f921"
             ]
            ]
           }
          ],
          "contourcarpet": [
           {
            "type": "contourcarpet",
            "colorbar": {
             "outlinewidth": 0,
             "ticks": ""
            }
           }
          ],
          "contour": [
           {
            "type": "contour",
            "colorbar": {
             "outlinewidth": 0,
             "ticks": ""
            },
            "colorscale": [
             [
              0.0,
              "#0d0887"
             ],
             [
              0.1111111111111111,
              "#46039f"
             ],
             [
              0.2222222222222222,
              "#7201a8"
             ],
             [
              0.3333333333333333,
              "#9c179e"
             ],
             [
              0.4444444444444444,
              "#bd3786"
             ],
             [
              0.5555555555555556,
              "#d8576b"
             ],
             [
              0.6666666666666666,
              "#ed7953"
             ],
             [
              0.7777777777777778,
              "#fb9f3a"
             ],
             [
              0.8888888888888888,
              "#fdca26"
             ],
             [
              1.0,
              "#f0f921"
             ]
            ]
           }
          ],
          "surface": [
           {
            "type": "surface",
            "colorbar": {
             "outlinewidth": 0,
             "ticks": ""
            },
            "colorscale": [
             [
              0.0,
              "#0d0887"
             ],
             [
              0.1111111111111111,
              "#46039f"
             ],
             [
              0.2222222222222222,
              "#7201a8"
             ],
             [
              0.3333333333333333,
              "#9c179e"
             ],
             [
              0.4444444444444444,
              "#bd3786"
             ],
             [
              0.5555555555555556,
              "#d8576b"
             ],
             [
              0.6666666666666666,
              "#ed7953"
             ],
             [
              0.7777777777777778,
              "#fb9f3a"
             ],
             [
              0.8888888888888888,
              "#fdca26"
             ],
             [
              1.0,
              "#f0f921"
             ]
            ]
           }
          ],
          "mesh3d": [
           {
            "type": "mesh3d",
            "colorbar": {
             "outlinewidth": 0,
             "ticks": ""
            }
           }
          ],
          "scatter": [
           {
            "marker": {
             "line": {
              "color": "#283442"
             }
            },
            "type": "scatter"
           }
          ],
          "parcoords": [
           {
            "type": "parcoords",
            "line": {
             "colorbar": {
              "outlinewidth": 0,
              "ticks": ""
             }
            }
           }
          ],
          "scatterpolargl": [
           {
            "type": "scatterpolargl",
            "marker": {
             "colorbar": {
              "outlinewidth": 0,
              "ticks": ""
             }
            }
           }
          ],
          "bar": [
           {
            "error_x": {
             "color": "#f2f5fa"
            },
            "error_y": {
             "color": "#f2f5fa"
            },
            "marker": {
             "line": {
              "color": "rgb(17,17,17)",
              "width": 0.5
             },
             "pattern": {
              "fillmode": "overlay",
              "size": 10,
              "solidity": 0.2
             }
            },
            "type": "bar"
           }
          ],
          "scattergeo": [
           {
            "type": "scattergeo",
            "marker": {
             "colorbar": {
              "outlinewidth": 0,
              "ticks": ""
             }
            }
           }
          ],
          "scatterpolar": [
           {
            "type": "scatterpolar",
            "marker": {
             "colorbar": {
              "outlinewidth": 0,
              "ticks": ""
             }
            }
           }
          ],
          "histogram": [
           {
            "marker": {
             "pattern": {
              "fillmode": "overlay",
              "size": 10,
              "solidity": 0.2
             }
            },
            "type": "histogram"
           }
          ],
          "scattergl": [
           {
            "marker": {
             "line": {
              "color": "#283442"
             }
            },
            "type": "scattergl"
           }
          ],
          "scatter3d": [
           {
            "type": "scatter3d",
            "line": {
             "colorbar": {
              "outlinewidth": 0,
              "ticks": ""
             }
            },
            "marker": {
             "colorbar": {
              "outlinewidth": 0,
              "ticks": ""
             }
            }
           }
          ],
          "scattermap": [
           {
            "type": "scattermap",
            "marker": {
             "colorbar": {
              "outlinewidth": 0,
              "ticks": ""
             }
            }
           }
          ],
          "scattermapbox": [
           {
            "type": "scattermapbox",
            "marker": {
             "colorbar": {
              "outlinewidth": 0,
              "ticks": ""
             }
            }
           }
          ],
          "scatterternary": [
           {
            "type": "scatterternary",
            "marker": {
             "colorbar": {
              "outlinewidth": 0,
              "ticks": ""
             }
            }
           }
          ],
          "scattercarpet": [
           {
            "type": "scattercarpet",
            "marker": {
             "colorbar": {
              "outlinewidth": 0,
              "ticks": ""
             }
            }
           }
          ],
          "carpet": [
           {
            "aaxis": {
             "endlinecolor": "#A2B1C6",
             "gridcolor": "#506784",
             "linecolor": "#506784",
             "minorgridcolor": "#506784",
             "startlinecolor": "#A2B1C6"
            },
            "baxis": {
             "endlinecolor": "#A2B1C6",
             "gridcolor": "#506784",
             "linecolor": "#506784",
             "minorgridcolor": "#506784",
             "startlinecolor": "#A2B1C6"
            },
            "type": "carpet"
           }
          ],
          "table": [
           {
            "cells": {
             "fill": {
              "color": "#506784"
             },
             "line": {
              "color": "rgb(17,17,17)"
             }
            },
            "header": {
             "fill": {
              "color": "#2a3f5f"
             },
             "line": {
              "color": "rgb(17,17,17)"
             }
            },
            "type": "table"
           }
          ],
          "barpolar": [
           {
            "marker": {
             "line": {
              "color": "rgb(17,17,17)",
              "width": 0.5
             },
             "pattern": {
              "fillmode": "overlay",
              "size": 10,
              "solidity": 0.2
             }
            },
            "type": "barpolar"
           }
          ],
          "pie": [
           {
            "automargin": true,
            "type": "pie"
           }
          ]
         },
         "layout": {
          "autotypenumbers": "strict",
          "colorway": [
           "#636efa",
           "#EF553B",
           "#00cc96",
           "#ab63fa",
           "#FFA15A",
           "#19d3f3",
           "#FF6692",
           "#B6E880",
           "#FF97FF",
           "#FECB52"
          ],
          "font": {
           "color": "#f2f5fa"
          },
          "hovermode": "closest",
          "hoverlabel": {
           "align": "left"
          },
          "paper_bgcolor": "rgb(17,17,17)",
          "plot_bgcolor": "rgb(17,17,17)",
          "polar": {
           "bgcolor": "rgb(17,17,17)",
           "angularaxis": {
            "gridcolor": "#506784",
            "linecolor": "#506784",
            "ticks": ""
           },
           "radialaxis": {
            "gridcolor": "#506784",
            "linecolor": "#506784",
            "ticks": ""
           }
          },
          "ternary": {
           "bgcolor": "rgb(17,17,17)",
           "aaxis": {
            "gridcolor": "#506784",
            "linecolor": "#506784",
            "ticks": ""
           },
           "baxis": {
            "gridcolor": "#506784",
            "linecolor": "#506784",
            "ticks": ""
           },
           "caxis": {
            "gridcolor": "#506784",
            "linecolor": "#506784",
            "ticks": ""
           }
          },
          "coloraxis": {
           "colorbar": {
            "outlinewidth": 0,
            "ticks": ""
           }
          },
          "colorscale": {
           "sequential": [
            [
             0.0,
             "#0d0887"
            ],
            [
             0.1111111111111111,
             "#46039f"
            ],
            [
             0.2222222222222222,
             "#7201a8"
            ],
            [
             0.3333333333333333,
             "#9c179e"
            ],
            [
             0.4444444444444444,
             "#bd3786"
            ],
            [
             0.5555555555555556,
             "#d8576b"
            ],
            [
             0.6666666666666666,
             "#ed7953"
            ],
            [
             0.7777777777777778,
             "#fb9f3a"
            ],
            [
             0.8888888888888888,
             "#fdca26"
            ],
            [
             1.0,
             "#f0f921"
            ]
           ],
           "sequentialminus": [
            [
             0.0,
             "#0d0887"
            ],
            [
             0.1111111111111111,
             "#46039f"
            ],
            [
             0.2222222222222222,
             "#7201a8"
            ],
            [
             0.3333333333333333,
             "#9c179e"
            ],
            [
             0.4444444444444444,
             "#bd3786"
            ],
            [
             0.5555555555555556,
             "#d8576b"
            ],
            [
             0.6666666666666666,
             "#ed7953"
            ],
            [
             0.7777777777777778,
             "#fb9f3a"
            ],
            [
             0.8888888888888888,
             "#fdca26"
            ],
            [
             1.0,
             "#f0f921"
            ]
           ],
           "diverging": [
            [
             0,
             "#8e0152"
            ],
            [
             0.1,
             "#c51b7d"
            ],
            [
             0.2,
             "#de77ae"
            ],
            [
             0.3,
             "#f1b6da"
            ],
            [
             0.4,
             "#fde0ef"
            ],
            [
             0.5,
             "#f7f7f7"
            ],
            [
             0.6,
             "#e6f5d0"
            ],
            [
             0.7,
             "#b8e186"
            ],
            [
             0.8,
             "#7fbc41"
            ],
            [
             0.9,
             "#4d9221"
            ],
            [
             1,
             "#276419"
            ]
           ]
          },
          "xaxis": {
           "gridcolor": "#283442",
           "linecolor": "#506784",
           "ticks": "",
           "title": {
            "standoff": 15
           },
           "zerolinecolor": "#283442",
           "automargin": true,
           "zerolinewidth": 2
          },
          "yaxis": {
           "gridcolor": "#283442",
           "linecolor": "#506784",
           "ticks": "",
           "title": {
            "standoff": 15
           },
           "zerolinecolor": "#283442",
           "automargin": true,
           "zerolinewidth": 2
          },
          "scene": {
           "xaxis": {
            "backgroundcolor": "rgb(17,17,17)",
            "gridcolor": "#506784",
            "linecolor": "#506784",
            "showbackground": true,
            "ticks": "",
            "zerolinecolor": "#C8D4E3",
            "gridwidth": 2
           },
           "yaxis": {
            "backgroundcolor": "rgb(17,17,17)",
            "gridcolor": "#506784",
            "linecolor": "#506784",
            "showbackground": true,
            "ticks": "",
            "zerolinecolor": "#C8D4E3",
            "gridwidth": 2
           },
           "zaxis": {
            "backgroundcolor": "rgb(17,17,17)",
            "gridcolor": "#506784",
            "linecolor": "#506784",
            "showbackground": true,
            "ticks": "",
            "zerolinecolor": "#C8D4E3",
            "gridwidth": 2
           }
          },
          "shapedefaults": {
           "line": {
            "color": "#f2f5fa"
           }
          },
          "annotationdefaults": {
           "arrowcolor": "#f2f5fa",
           "arrowhead": 0,
           "arrowwidth": 1
          },
          "geo": {
           "bgcolor": "rgb(17,17,17)",
           "landcolor": "rgb(17,17,17)",
           "subunitcolor": "#506784",
           "showland": true,
           "showlakes": true,
           "lakecolor": "rgb(17,17,17)"
          },
          "title": {
           "x": 0.05
          },
          "updatemenudefaults": {
           "bgcolor": "#506784",
           "borderwidth": 0
          },
          "sliderdefaults": {
           "bgcolor": "#C8D4E3",
           "borderwidth": 1,
           "bordercolor": "rgb(17,17,17)",
           "tickwidth": 0
          },
          "mapbox": {
           "style": "dark"
          }
         }
        },
        "scene": {
         "domain": {
          "x": [
           0.0,
           1.0
          ],
          "y": [
           0.0,
           1.0
          ]
         },
         "xaxis": {
          "title": {
           "text": "quantity"
          }
         },
         "yaxis": {
          "title": {
           "text": "discountedSellingPrice"
          }
         },
         "zaxis": {
          "title": {
           "text": "mrp"
          }
         }
        },
        "coloraxis": {
         "colorbar": {
          "title": {
           "text": "availableQuantity"
          }
         },
         "colorscale": [
          [
           0.0,
           "rgb(236, 218, 154)"
          ],
          [
           0.16666666666666666,
           "rgb(239, 196, 126)"
          ],
          [
           0.3333333333333333,
           "rgb(243, 173, 106)"
          ],
          [
           0.5,
           "rgb(247, 148, 93)"
          ],
          [
           0.6666666666666666,
           "rgb(249, 123, 87)"
          ],
          [
           0.8333333333333334,
           "rgb(246, 99, 86)"
          ],
          [
           1.0,
           "rgb(238, 77, 90)"
          ]
         ]
        },
        "legend": {
         "tracegroupgap": 0
        },
        "title": {
         "text": "Personal Care"
        },
        "height": 750
       },
       "config": {
        "plotlyServerURL": "https://plot.ly"
       }
      }
     },
     "metadata": {},
     "output_type": "display_data"
    },
    {
     "data": {
      "application/vnd.plotly.v1+json": {
       "data": [
        {
         "hovertemplate": "quantity=%{x}<br>discountedSellingPrice=%{y}<br>mrp=%{z}<br>availableQuantity=%{marker.color}<extra></extra>",
         "legendgroup": "",
         "marker": {
          "color": {
           "dtype": "i1",
           "bdata": "AQYGAgQGAwQBBgYGBgYGBgQGBgEEAgYGBgYCAQIFBgQGBgQGBgYGBgYGBgYGBgYDBgYGBQEBBAQEBAYGAgIGAwQBAwEEAwMDAgMGBgUGAQYGBQYEBgQGBgQFAQYGBgMGBgYGBgECBgYCBgYGAQYGBgYGBgQGBgYGBgYGBQYGBgQEBgQGBgYFAQQGBgIGBgUFBgUCBgYGBgYGBgYGAQQEBgEGBQYGAwYGBgAAAAAAAAAAAAAAAAAAAAA="
          },
          "coloraxis": "coloraxis",
          "symbol": "diamond",
          "line": {
           "color": "DarkSlateGrey",
           "width": 2
          },
          "size": 8
         },
         "mode": "markers",
         "name": "",
         "scene": "scene",
         "showlegend": false,
         "x": {
          "dtype": "i2",
          "bdata": "lgD0AR4AqQHuAn0ACgDIAO4CAQAyAAEACgBLAAEAkAEaAAEA9AEBAGQACgABAAIAAQABAAEAAQADAPoABQA8ABoABgB4AAEAAQABAAEAHgABAAIA9AHuAoEBDwABACwBCgACAAUAZAAEADIA8AABADIAUACWAPQBAwDwAAEA9AHwAAYAFAD0ATwAAQDPAwEAkAEIAAMAAgABAGQAGQBkACgAMgABAHcB9AGJAAEAAQAMAAUAAQB4AAIAZAAZACMADAADAAEAIAMKAAEABQABAAQAAwD1ADIAkAEBAFgChAMCAOgDAQAEAPQBMgBLAAEAzwMBADIAZAAyAAEA3ABLAA8AKABQABQAHgD1AAEAiQAKADIAAQBLAAEAHgABAM8DAQD1AAEAAQBkAAMAAQDIACgAGQAKABkAAQABACMAAQBLAA8AFAACAB4AAQAyAAEAAQAsAfoAPAABAAEAjABkAAEAAgABAAEA9AFcA0sAAQBkAA=="
         },
         "y": {
          "dtype": "i4",
          "bdata": "CAcAAMQiAAD0GgAA7EUAAFxEAADIGQAAfBUAAEgmAABcRAAAiEUAAPgRAADsRQAA3DcAAFQkAABIDQAAwEQAABQeAADsRQAAvDQAAHBJAADcNwAA3DcAAFRWAAA4MQAA6BwAAARCAAC8NAAAPA8AAEgNAACoFgAAQAYAAOQMAAAUHgAA1EkAAAwXAADkVwAAJCwAACQTAADkPgAAgD4AALxmAAAwEQAA5CUAAIQ1AAAUaQAAPA8AAFxEAAA0UwAAfBUAAAB9AACQGgAA4BUAAHTWAADcHgAAFDcAAMwpAABsBwAASD8AAOAVAACYIQAAIE4AADgxAABQRgAAgCUAADQ6AACoLwAAIBwAAHwVAABsBwAAyBkAAHBJAAAMMAAA1EkAAEwdAAA4MQAAbFIAAJAaAABwFwAAxAkAAOAVAAAAGQAAsE8AALg9AAA0OgAA5CUAAJAzAAAkEwAAaFsAAEwdAACQGgAAQB8AAAggAAAMxgAAJBMAAJAaAAAEQgAAjIcAAKAJAQC8NAAAiCwAAHwVAACYOgAABHQAAGhCAAD4JAEApB8AAGA7AACYIQAA2CcAALA2AABwYgAAEHIAAJAaAADwCgAAmOkAAIT9AABIJgAAKCMAAFQkAAC8NAAAcEkAAJB+AACcGAAAkDMAAJwYAACoYQAAVAsAALwbAACwBAAAABkAAPQaAADwCgAAaEIAAGA7AACoLwAAkDMAAHwVAAAgHAAASCYAABRpAACEZwAA1DAAAPAKAADwPAAA5D4AAGA7AAAAfQAAWE0AAHBiAACwNgAAWBsAAFgbAADMKQAAvBsAAPTiAAAkEwAAiBMAAPBVAAAEQgAAXEQAAAAAAACwBAAAGBUAAAQQAADUFwAA5FcAAMBdAABkMgAAkGUAAJgIAABQLQAAxCIAANAgAAAsMwAA6AMAAAggAABMBAAADBcAAFxEAADYJwAAOBgAANBSAADECQAAkBoAAORXAAA="
         },
         "z": {
          "dtype": "i4",
          "bdata": "CAcAAIAlAAD0GgAA1EkAADhKAADIGQAAfBUAAHQnAABESAAAiEUAAIgTAADUSQAAmDoAAEgmAACsDQAAGEcAAAggAAC8TQAAvDQAACBOAAAoPAAAmDoAAORXAACwNgAACCAAAGhCAAA0OgAAoA8AAKwNAAA4GAAAQAYAAOQMAAAIIAAACFIAAGQZAADkVwAA1DAAAIgTAADsRQAAgD4AAGBtAACUEQAAPCgAANA5AAAUaQAAoA8AAFxEAADkVwAAfBUAAAB9AABMHQAAZBkAAGDqAAA0IQAANDoAAPgqAABsBwAAOEoAAGQZAAAcJQAAIE4AAJg6AAAgTgAAzCkAAJg6AAC8NAAAQB8AAHwVAABsBwAAkBoAABRQAACYOgAACFIAAEwdAACwNgAA/FMAAFgbAAAAGQAAxAkAAGQZAACQGgAAwF0AAFxEAACAPgAAPCgAAJg6AACIEwAAbGsAAEAfAABMHQAAQB8AACgjAAAIzwAAiBMAAEwdAABwSQAAWJgAAIA4AQCYOgAAiCwAAHwVAACYOgAA6IAAAFBGAABoPAEAKCMAAOQ+AAAcJQAA2CcAAJg6AABgbQAA9H4AAJAaAAC4CwAA6P0AAEAZAQAEKQAAECcAAEgmAACYOgAAFFAAAFiYAABYGwAAjDwAAFgbAACoYQAAuAsAAEwdAACwBAAAkBoAAEwdAAC4CwAA1EkAAOQ+AAC8NAAAmDoAAHwVAABAHwAA7CwAAMx0AACEZwAATDYAAFQLAAB0QAAA7EUAAOQ+AAAAfQAA8FUAAGBtAACwNgAAeB4AAOgcAAB8LgAA3B4AAHARAQCIEwAAiBMAAPBVAABwSQAAUEYAAAAAAACwBAAAcBcAAGgQAAD0GgAAqGEAAMBdAACwNgAAkGUAAPwIAABQLQAAxCIAAJghAAAgNQAA6AMAACgjAACwBAAAZBkAADhKAAAEKQAA9BoAAMxbAADECQAAQB8AAKhhAAA="
         },
         "type": "scatter3d"
        }
       ],
       "layout": {
        "template": {
         "data": {
          "histogram2dcontour": [
           {
            "type": "histogram2dcontour",
            "colorbar": {
             "outlinewidth": 0,
             "ticks": ""
            },
            "colorscale": [
             [
              0.0,
              "#0d0887"
             ],
             [
              0.1111111111111111,
              "#46039f"
             ],
             [
              0.2222222222222222,
              "#7201a8"
             ],
             [
              0.3333333333333333,
              "#9c179e"
             ],
             [
              0.4444444444444444,
              "#bd3786"
             ],
             [
              0.5555555555555556,
              "#d8576b"
             ],
             [
              0.6666666666666666,
              "#ed7953"
             ],
             [
              0.7777777777777778,
              "#fb9f3a"
             ],
             [
              0.8888888888888888,
              "#fdca26"
             ],
             [
              1.0,
              "#f0f921"
             ]
            ]
           }
          ],
          "choropleth": [
           {
            "type": "choropleth",
            "colorbar": {
             "outlinewidth": 0,
             "ticks": ""
            }
           }
          ],
          "histogram2d": [
           {
            "type": "histogram2d",
            "colorbar": {
             "outlinewidth": 0,
             "ticks": ""
            },
            "colorscale": [
             [
              0.0,
              "#0d0887"
             ],
             [
              0.1111111111111111,
              "#46039f"
             ],
             [
              0.2222222222222222,
              "#7201a8"
             ],
             [
              0.3333333333333333,
              "#9c179e"
             ],
             [
              0.4444444444444444,
              "#bd3786"
             ],
             [
              0.5555555555555556,
              "#d8576b"
             ],
             [
              0.6666666666666666,
              "#ed7953"
             ],
             [
              0.7777777777777778,
              "#fb9f3a"
             ],
             [
              0.8888888888888888,
              "#fdca26"
             ],
             [
              1.0,
              "#f0f921"
             ]
            ]
           }
          ],
          "heatmap": [
           {
            "type": "heatmap",
            "colorbar": {
             "outlinewidth": 0,
             "ticks": ""
            },
            "colorscale": [
             [
              0.0,
              "#0d0887"
             ],
             [
              0.1111111111111111,
              "#46039f"
             ],
             [
              0.2222222222222222,
              "#7201a8"
             ],
             [
              0.3333333333333333,
              "#9c179e"
             ],
             [
              0.4444444444444444,
              "#bd3786"
             ],
             [
              0.5555555555555556,
              "#d8576b"
             ],
             [
              0.6666666666666666,
              "#ed7953"
             ],
             [
              0.7777777777777778,
              "#fb9f3a"
             ],
             [
              0.8888888888888888,
              "#fdca26"
             ],
             [
              1.0,
              "#f0f921"
             ]
            ]
           }
          ],
          "contourcarpet": [
           {
            "type": "contourcarpet",
            "colorbar": {
             "outlinewidth": 0,
             "ticks": ""
            }
           }
          ],
          "contour": [
           {
            "type": "contour",
            "colorbar": {
             "outlinewidth": 0,
             "ticks": ""
            },
            "colorscale": [
             [
              0.0,
              "#0d0887"
             ],
             [
              0.1111111111111111,
              "#46039f"
             ],
             [
              0.2222222222222222,
              "#7201a8"
             ],
             [
              0.3333333333333333,
              "#9c179e"
             ],
             [
              0.4444444444444444,
              "#bd3786"
             ],
             [
              0.5555555555555556,
              "#d8576b"
             ],
             [
              0.6666666666666666,
              "#ed7953"
             ],
             [
              0.7777777777777778,
              "#fb9f3a"
             ],
             [
              0.8888888888888888,
              "#fdca26"
             ],
             [
              1.0,
              "#f0f921"
             ]
            ]
           }
          ],
          "surface": [
           {
            "type": "surface",
            "colorbar": {
             "outlinewidth": 0,
             "ticks": ""
            },
            "colorscale": [
             [
              0.0,
              "#0d0887"
             ],
             [
              0.1111111111111111,
              "#46039f"
             ],
             [
              0.2222222222222222,
              "#7201a8"
             ],
             [
              0.3333333333333333,
              "#9c179e"
             ],
             [
              0.4444444444444444,
              "#bd3786"
             ],
             [
              0.5555555555555556,
              "#d8576b"
             ],
             [
              0.6666666666666666,
              "#ed7953"
             ],
             [
              0.7777777777777778,
              "#fb9f3a"
             ],
             [
              0.8888888888888888,
              "#fdca26"
             ],
             [
              1.0,
              "#f0f921"
             ]
            ]
           }
          ],
          "mesh3d": [
           {
            "type": "mesh3d",
            "colorbar": {
             "outlinewidth": 0,
             "ticks": ""
            }
           }
          ],
          "scatter": [
           {
            "marker": {
             "line": {
              "color": "#283442"
             }
            },
            "type": "scatter"
           }
          ],
          "parcoords": [
           {
            "type": "parcoords",
            "line": {
             "colorbar": {
              "outlinewidth": 0,
              "ticks": ""
             }
            }
           }
          ],
          "scatterpolargl": [
           {
            "type": "scatterpolargl",
            "marker": {
             "colorbar": {
              "outlinewidth": 0,
              "ticks": ""
             }
            }
           }
          ],
          "bar": [
           {
            "error_x": {
             "color": "#f2f5fa"
            },
            "error_y": {
             "color": "#f2f5fa"
            },
            "marker": {
             "line": {
              "color": "rgb(17,17,17)",
              "width": 0.5
             },
             "pattern": {
              "fillmode": "overlay",
              "size": 10,
              "solidity": 0.2
             }
            },
            "type": "bar"
           }
          ],
          "scattergeo": [
           {
            "type": "scattergeo",
            "marker": {
             "colorbar": {
              "outlinewidth": 0,
              "ticks": ""
             }
            }
           }
          ],
          "scatterpolar": [
           {
            "type": "scatterpolar",
            "marker": {
             "colorbar": {
              "outlinewidth": 0,
              "ticks": ""
             }
            }
           }
          ],
          "histogram": [
           {
            "marker": {
             "pattern": {
              "fillmode": "overlay",
              "size": 10,
              "solidity": 0.2
             }
            },
            "type": "histogram"
           }
          ],
          "scattergl": [
           {
            "marker": {
             "line": {
              "color": "#283442"
             }
            },
            "type": "scattergl"
           }
          ],
          "scatter3d": [
           {
            "type": "scatter3d",
            "line": {
             "colorbar": {
              "outlinewidth": 0,
              "ticks": ""
             }
            },
            "marker": {
             "colorbar": {
              "outlinewidth": 0,
              "ticks": ""
             }
            }
           }
          ],
          "scattermap": [
           {
            "type": "scattermap",
            "marker": {
             "colorbar": {
              "outlinewidth": 0,
              "ticks": ""
             }
            }
           }
          ],
          "scattermapbox": [
           {
            "type": "scattermapbox",
            "marker": {
             "colorbar": {
              "outlinewidth": 0,
              "ticks": ""
             }
            }
           }
          ],
          "scatterternary": [
           {
            "type": "scatterternary",
            "marker": {
             "colorbar": {
              "outlinewidth": 0,
              "ticks": ""
             }
            }
           }
          ],
          "scattercarpet": [
           {
            "type": "scattercarpet",
            "marker": {
             "colorbar": {
              "outlinewidth": 0,
              "ticks": ""
             }
            }
           }
          ],
          "carpet": [
           {
            "aaxis": {
             "endlinecolor": "#A2B1C6",
             "gridcolor": "#506784",
             "linecolor": "#506784",
             "minorgridcolor": "#506784",
             "startlinecolor": "#A2B1C6"
            },
            "baxis": {
             "endlinecolor": "#A2B1C6",
             "gridcolor": "#506784",
             "linecolor": "#506784",
             "minorgridcolor": "#506784",
             "startlinecolor": "#A2B1C6"
            },
            "type": "carpet"
           }
          ],
          "table": [
           {
            "cells": {
             "fill": {
              "color": "#506784"
             },
             "line": {
              "color": "rgb(17,17,17)"
             }
            },
            "header": {
             "fill": {
              "color": "#2a3f5f"
             },
             "line": {
              "color": "rgb(17,17,17)"
             }
            },
            "type": "table"
           }
          ],
          "barpolar": [
           {
            "marker": {
             "line": {
              "color": "rgb(17,17,17)",
              "width": 0.5
             },
             "pattern": {
              "fillmode": "overlay",
              "size": 10,
              "solidity": 0.2
             }
            },
            "type": "barpolar"
           }
          ],
          "pie": [
           {
            "automargin": true,
            "type": "pie"
           }
          ]
         },
         "layout": {
          "autotypenumbers": "strict",
          "colorway": [
           "#636efa",
           "#EF553B",
           "#00cc96",
           "#ab63fa",
           "#FFA15A",
           "#19d3f3",
           "#FF6692",
           "#B6E880",
           "#FF97FF",
           "#FECB52"
          ],
          "font": {
           "color": "#f2f5fa"
          },
          "hovermode": "closest",
          "hoverlabel": {
           "align": "left"
          },
          "paper_bgcolor": "rgb(17,17,17)",
          "plot_bgcolor": "rgb(17,17,17)",
          "polar": {
           "bgcolor": "rgb(17,17,17)",
           "angularaxis": {
            "gridcolor": "#506784",
            "linecolor": "#506784",
            "ticks": ""
           },
           "radialaxis": {
            "gridcolor": "#506784",
            "linecolor": "#506784",
            "ticks": ""
           }
          },
          "ternary": {
           "bgcolor": "rgb(17,17,17)",
           "aaxis": {
            "gridcolor": "#506784",
            "linecolor": "#506784",
            "ticks": ""
           },
           "baxis": {
            "gridcolor": "#506784",
            "linecolor": "#506784",
            "ticks": ""
           },
           "caxis": {
            "gridcolor": "#506784",
            "linecolor": "#506784",
            "ticks": ""
           }
          },
          "coloraxis": {
           "colorbar": {
            "outlinewidth": 0,
            "ticks": ""
           }
          },
          "colorscale": {
           "sequential": [
            [
             0.0,
             "#0d0887"
            ],
            [
             0.1111111111111111,
             "#46039f"
            ],
            [
             0.2222222222222222,
             "#7201a8"
            ],
            [
             0.3333333333333333,
             "#9c179e"
            ],
            [
             0.4444444444444444,
             "#bd3786"
            ],
            [
             0.5555555555555556,
             "#d8576b"
            ],
            [
             0.6666666666666666,
             "#ed7953"
            ],
            [
             0.7777777777777778,
             "#fb9f3a"
            ],
            [
             0.8888888888888888,
             "#fdca26"
            ],
            [
             1.0,
             "#f0f921"
            ]
           ],
           "sequentialminus": [
            [
             0.0,
             "#0d0887"
            ],
            [
             0.1111111111111111,
             "#46039f"
            ],
            [
             0.2222222222222222,
             "#7201a8"
            ],
            [
             0.3333333333333333,
             "#9c179e"
            ],
            [
             0.4444444444444444,
             "#bd3786"
            ],
            [
             0.5555555555555556,
             "#d8576b"
            ],
            [
             0.6666666666666666,
             "#ed7953"
            ],
            [
             0.7777777777777778,
             "#fb9f3a"
            ],
            [
             0.8888888888888888,
             "#fdca26"
            ],
            [
             1.0,
             "#f0f921"
            ]
           ],
           "diverging": [
            [
             0,
             "#8e0152"
            ],
            [
             0.1,
             "#c51b7d"
            ],
            [
             0.2,
             "#de77ae"
            ],
            [
             0.3,
             "#f1b6da"
            ],
            [
             0.4,
             "#fde0ef"
            ],
            [
             0.5,
             "#f7f7f7"
            ],
            [
             0.6,
             "#e6f5d0"
            ],
            [
             0.7,
             "#b8e186"
            ],
            [
             0.8,
             "#7fbc41"
            ],
            [
             0.9,
             "#4d9221"
            ],
            [
             1,
             "#276419"
            ]
           ]
          },
          "xaxis": {
           "gridcolor": "#283442",
           "linecolor": "#506784",
           "ticks": "",
           "title": {
            "standoff": 15
           },
           "zerolinecolor": "#283442",
           "automargin": true,
           "zerolinewidth": 2
          },
          "yaxis": {
           "gridcolor": "#283442",
           "linecolor": "#506784",
           "ticks": "",
           "title": {
            "standoff": 15
           },
           "zerolinecolor": "#283442",
           "automargin": true,
           "zerolinewidth": 2
          },
          "scene": {
           "xaxis": {
            "backgroundcolor": "rgb(17,17,17)",
            "gridcolor": "#506784",
            "linecolor": "#506784",
            "showbackground": true,
            "ticks": "",
            "zerolinecolor": "#C8D4E3",
            "gridwidth": 2
           },
           "yaxis": {
            "backgroundcolor": "rgb(17,17,17)",
            "gridcolor": "#506784",
            "linecolor": "#506784",
            "showbackground": true,
            "ticks": "",
            "zerolinecolor": "#C8D4E3",
            "gridwidth": 2
           },
           "zaxis": {
            "backgroundcolor": "rgb(17,17,17)",
            "gridcolor": "#506784",
            "linecolor": "#506784",
            "showbackground": true,
            "ticks": "",
            "zerolinecolor": "#C8D4E3",
            "gridwidth": 2
           }
          },
          "shapedefaults": {
           "line": {
            "color": "#f2f5fa"
           }
          },
          "annotationdefaults": {
           "arrowcolor": "#f2f5fa",
           "arrowhead": 0,
           "arrowwidth": 1
          },
          "geo": {
           "bgcolor": "rgb(17,17,17)",
           "landcolor": "rgb(17,17,17)",
           "subunitcolor": "#506784",
           "showland": true,
           "showlakes": true,
           "lakecolor": "rgb(17,17,17)"
          },
          "title": {
           "x": 0.05
          },
          "updatemenudefaults": {
           "bgcolor": "#506784",
           "borderwidth": 0
          },
          "sliderdefaults": {
           "bgcolor": "#C8D4E3",
           "borderwidth": 1,
           "bordercolor": "rgb(17,17,17)",
           "tickwidth": 0
          },
          "mapbox": {
           "style": "dark"
          }
         }
        },
        "scene": {
         "domain": {
          "x": [
           0.0,
           1.0
          ],
          "y": [
           0.0,
           1.0
          ]
         },
         "xaxis": {
          "title": {
           "text": "quantity"
          }
         },
         "yaxis": {
          "title": {
           "text": "discountedSellingPrice"
          }
         },
         "zaxis": {
          "title": {
           "text": "mrp"
          }
         }
        },
        "coloraxis": {
         "colorbar": {
          "title": {
           "text": "availableQuantity"
          }
         },
         "colorscale": [
          [
           0.0,
           "rgb(236, 218, 154)"
          ],
          [
           0.16666666666666666,
           "rgb(239, 196, 126)"
          ],
          [
           0.3333333333333333,
           "rgb(243, 173, 106)"
          ],
          [
           0.5,
           "rgb(247, 148, 93)"
          ],
          [
           0.6666666666666666,
           "rgb(249, 123, 87)"
          ],
          [
           0.8333333333333334,
           "rgb(246, 99, 86)"
          ],
          [
           1.0,
           "rgb(238, 77, 90)"
          ]
         ]
        },
        "legend": {
         "tracegroupgap": 0
        },
        "title": {
         "text": "Home & Cleaning"
        },
        "height": 750
       },
       "config": {
        "plotlyServerURL": "https://plot.ly"
       }
      }
     },
     "metadata": {},
     "output_type": "display_data"
    },
    {
     "data": {
      "application/vnd.plotly.v1+json": {
       "data": [
        {
         "hovertemplate": "quantity=%{x}<br>discountedSellingPrice=%{y}<br>mrp=%{z}<br>availableQuantity=%{marker.color}<extra></extra>",
         "legendgroup": "",
         "marker": {
          "color": {
           "dtype": "i1",
           "bdata": "BgYGBgYCBAYGBgIGBgYEBgYGBgUGAgYGBgMGBgYGBgYBBgYGBgYGBAYGBgYEBgQGBgEGAQIGAQYAAAA="
          },
          "coloraxis": "coloraxis",
          "symbol": "diamond",
          "line": {
           "color": "DarkSlateGrey",
           "width": 2
          },
          "size": 8
         },
         "mode": "markers",
         "name": "",
         "scene": "scene",
         "showlegend": false,
         "x": {
          "dtype": "i2",
          "bdata": "SwBLAAMACgB4ALQACAAUAAoAGQAyAHgA4QAIAGQAMgCqAAoAZAAjAEgACgBkAAoAeABkAAEAZABQAAMACgAIAIIAhAMtAAEAAQAbAAoACgAPAPQB5gD0AQIAHgBkAPQBPAAZABkAPADIAGQAAQABAEsABQBkAA=="
         },
         "y": {
          "dtype": "i4",
          "bdata": "0AcAANAHAAAIIAAA8FUAAGgQAABoEAAAEA4AANAHAAAUUAAAFB4AAGQyAABoEAAA3DcAADwPAACoFgAAgD4AANA5AAAUUAAAtC0AABQ3AABoQgAA8FUAAMgyAAC8NAAAaBAAADQhAAA4YwAArCYAABhgAADgLgAAFFAAAAQQAAAMMAAAZJYAACQsAADQUgAACIQAAMQiAACIdwAAXBIAALwbAAAcVwAAVD0AACRFAAAcJQAAGEcAAHB7AACwmgAA5FcAAKwmAABUJAAAEEAAAHhpAAD0MwAA0IQAALxNAADQBwAAwBIAAMQiAAA="
         },
         "z": {
          "dtype": "i4",
          "bdata": "oA8AAKAPAAAIIAAAtF8AAJQRAACUEQAAoA8AANAHAAAQWQAANCEAAKQ4AACUEQAAHD4AAKAPAABkGQAA1EkAAHRAAAAQWQAAyDIAADQ6AADUSQAAtF8AAMgyAACYOgAAlBEAAPgqAADMdAAA+CoAAEhxAADgLgAAEFkAAJQRAADIMgAAHKIAANQwAABEYQAAVIgAABAnAACgjAAAiBMAAEwdAADMWwAAXEQAADhKAAAEKQAALEwAAEyaAABcwQAA5FcAAKwmAAAEKQAAFFAAAHhpAACwNgAAQJwAAMxbAACgDwAAGBUAAAQpAAA="
         },
         "type": "scatter3d"
        }
       ],
       "layout": {
        "template": {
         "data": {
          "histogram2dcontour": [
           {
            "type": "histogram2dcontour",
            "colorbar": {
             "outlinewidth": 0,
             "ticks": ""
            },
            "colorscale": [
             [
              0.0,
              "#0d0887"
             ],
             [
              0.1111111111111111,
              "#46039f"
             ],
             [
              0.2222222222222222,
              "#7201a8"
             ],
             [
              0.3333333333333333,
              "#9c179e"
             ],
             [
              0.4444444444444444,
              "#bd3786"
             ],
             [
              0.5555555555555556,
              "#d8576b"
             ],
             [
              0.6666666666666666,
              "#ed7953"
             ],
             [
              0.7777777777777778,
              "#fb9f3a"
             ],
             [
              0.8888888888888888,
              "#fdca26"
             ],
             [
              1.0,
              "#f0f921"
             ]
            ]
           }
          ],
          "choropleth": [
           {
            "type": "choropleth",
            "colorbar": {
             "outlinewidth": 0,
             "ticks": ""
            }
           }
          ],
          "histogram2d": [
           {
            "type": "histogram2d",
            "colorbar": {
             "outlinewidth": 0,
             "ticks": ""
            },
            "colorscale": [
             [
              0.0,
              "#0d0887"
             ],
             [
              0.1111111111111111,
              "#46039f"
             ],
             [
              0.2222222222222222,
              "#7201a8"
             ],
             [
              0.3333333333333333,
              "#9c179e"
             ],
             [
              0.4444444444444444,
              "#bd3786"
             ],
             [
              0.5555555555555556,
              "#d8576b"
             ],
             [
              0.6666666666666666,
              "#ed7953"
             ],
             [
              0.7777777777777778,
              "#fb9f3a"
             ],
             [
              0.8888888888888888,
              "#fdca26"
             ],
             [
              1.0,
              "#f0f921"
             ]
            ]
           }
          ],
          "heatmap": [
           {
            "type": "heatmap",
            "colorbar": {
             "outlinewidth": 0,
             "ticks": ""
            },
            "colorscale": [
             [
              0.0,
              "#0d0887"
             ],
             [
              0.1111111111111111,
              "#46039f"
             ],
             [
              0.2222222222222222,
              "#7201a8"
             ],
             [
              0.3333333333333333,
              "#9c179e"
             ],
             [
              0.4444444444444444,
              "#bd3786"
             ],
             [
              0.5555555555555556,
              "#d8576b"
             ],
             [
              0.6666666666666666,
              "#ed7953"
             ],
             [
              0.7777777777777778,
              "#fb9f3a"
             ],
             [
              0.8888888888888888,
              "#fdca26"
             ],
             [
              1.0,
              "#f0f921"
             ]
            ]
           }
          ],
          "contourcarpet": [
           {
            "type": "contourcarpet",
            "colorbar": {
             "outlinewidth": 0,
             "ticks": ""
            }
           }
          ],
          "contour": [
           {
            "type": "contour",
            "colorbar": {
             "outlinewidth": 0,
             "ticks": ""
            },
            "colorscale": [
             [
              0.0,
              "#0d0887"
             ],
             [
              0.1111111111111111,
              "#46039f"
             ],
             [
              0.2222222222222222,
              "#7201a8"
             ],
             [
              0.3333333333333333,
              "#9c179e"
             ],
             [
              0.4444444444444444,
              "#bd3786"
             ],
             [
              0.5555555555555556,
              "#d8576b"
             ],
             [
              0.6666666666666666,
              "#ed7953"
             ],
             [
              0.7777777777777778,
              "#fb9f3a"
             ],
             [
              0.8888888888888888,
              "#fdca26"
             ],
             [
              1.0,
              "#f0f921"
             ]
            ]
           }
          ],
          "surface": [
           {
            "type": "surface",
            "colorbar": {
             "outlinewidth": 0,
             "ticks": ""
            },
            "colorscale": [
             [
              0.0,
              "#0d0887"
             ],
             [
              0.1111111111111111,
              "#46039f"
             ],
             [
              0.2222222222222222,
              "#7201a8"
             ],
             [
              0.3333333333333333,
              "#9c179e"
             ],
             [
              0.4444444444444444,
              "#bd3786"
             ],
             [
              0.5555555555555556,
              "#d8576b"
             ],
             [
              0.6666666666666666,
              "#ed7953"
             ],
             [
              0.7777777777777778,
              "#fb9f3a"
             ],
             [
              0.8888888888888888,
              "#fdca26"
             ],
             [
              1.0,
              "#f0f921"
             ]
            ]
           }
          ],
          "mesh3d": [
           {
            "type": "mesh3d",
            "colorbar": {
             "outlinewidth": 0,
             "ticks": ""
            }
           }
          ],
          "scatter": [
           {
            "marker": {
             "line": {
              "color": "#283442"
             }
            },
            "type": "scatter"
           }
          ],
          "parcoords": [
           {
            "type": "parcoords",
            "line": {
             "colorbar": {
              "outlinewidth": 0,
              "ticks": ""
             }
            }
           }
          ],
          "scatterpolargl": [
           {
            "type": "scatterpolargl",
            "marker": {
             "colorbar": {
              "outlinewidth": 0,
              "ticks": ""
             }
            }
           }
          ],
          "bar": [
           {
            "error_x": {
             "color": "#f2f5fa"
            },
            "error_y": {
             "color": "#f2f5fa"
            },
            "marker": {
             "line": {
              "color": "rgb(17,17,17)",
              "width": 0.5
             },
             "pattern": {
              "fillmode": "overlay",
              "size": 10,
              "solidity": 0.2
             }
            },
            "type": "bar"
           }
          ],
          "scattergeo": [
           {
            "type": "scattergeo",
            "marker": {
             "colorbar": {
              "outlinewidth": 0,
              "ticks": ""
             }
            }
           }
          ],
          "scatterpolar": [
           {
            "type": "scatterpolar",
            "marker": {
             "colorbar": {
              "outlinewidth": 0,
              "ticks": ""
             }
            }
           }
          ],
          "histogram": [
           {
            "marker": {
             "pattern": {
              "fillmode": "overlay",
              "size": 10,
              "solidity": 0.2
             }
            },
            "type": "histogram"
           }
          ],
          "scattergl": [
           {
            "marker": {
             "line": {
              "color": "#283442"
             }
            },
            "type": "scattergl"
           }
          ],
          "scatter3d": [
           {
            "type": "scatter3d",
            "line": {
             "colorbar": {
              "outlinewidth": 0,
              "ticks": ""
             }
            },
            "marker": {
             "colorbar": {
              "outlinewidth": 0,
              "ticks": ""
             }
            }
           }
          ],
          "scattermap": [
           {
            "type": "scattermap",
            "marker": {
             "colorbar": {
              "outlinewidth": 0,
              "ticks": ""
             }
            }
           }
          ],
          "scattermapbox": [
           {
            "type": "scattermapbox",
            "marker": {
             "colorbar": {
              "outlinewidth": 0,
              "ticks": ""
             }
            }
           }
          ],
          "scatterternary": [
           {
            "type": "scatterternary",
            "marker": {
             "colorbar": {
              "outlinewidth": 0,
              "ticks": ""
             }
            }
           }
          ],
          "scattercarpet": [
           {
            "type": "scattercarpet",
            "marker": {
             "colorbar": {
              "outlinewidth": 0,
              "ticks": ""
             }
            }
           }
          ],
          "carpet": [
           {
            "aaxis": {
             "endlinecolor": "#A2B1C6",
             "gridcolor": "#506784",
             "linecolor": "#506784",
             "minorgridcolor": "#506784",
             "startlinecolor": "#A2B1C6"
            },
            "baxis": {
             "endlinecolor": "#A2B1C6",
             "gridcolor": "#506784",
             "linecolor": "#506784",
             "minorgridcolor": "#506784",
             "startlinecolor": "#A2B1C6"
            },
            "type": "carpet"
           }
          ],
          "table": [
           {
            "cells": {
             "fill": {
              "color": "#506784"
             },
             "line": {
              "color": "rgb(17,17,17)"
             }
            },
            "header": {
             "fill": {
              "color": "#2a3f5f"
             },
             "line": {
              "color": "rgb(17,17,17)"
             }
            },
            "type": "table"
           }
          ],
          "barpolar": [
           {
            "marker": {
             "line": {
              "color": "rgb(17,17,17)",
              "width": 0.5
             },
             "pattern": {
              "fillmode": "overlay",
              "size": 10,
              "solidity": 0.2
             }
            },
            "type": "barpolar"
           }
          ],
          "pie": [
           {
            "automargin": true,
            "type": "pie"
           }
          ]
         },
         "layout": {
          "autotypenumbers": "strict",
          "colorway": [
           "#636efa",
           "#EF553B",
           "#00cc96",
           "#ab63fa",
           "#FFA15A",
           "#19d3f3",
           "#FF6692",
           "#B6E880",
           "#FF97FF",
           "#FECB52"
          ],
          "font": {
           "color": "#f2f5fa"
          },
          "hovermode": "closest",
          "hoverlabel": {
           "align": "left"
          },
          "paper_bgcolor": "rgb(17,17,17)",
          "plot_bgcolor": "rgb(17,17,17)",
          "polar": {
           "bgcolor": "rgb(17,17,17)",
           "angularaxis": {
            "gridcolor": "#506784",
            "linecolor": "#506784",
            "ticks": ""
           },
           "radialaxis": {
            "gridcolor": "#506784",
            "linecolor": "#506784",
            "ticks": ""
           }
          },
          "ternary": {
           "bgcolor": "rgb(17,17,17)",
           "aaxis": {
            "gridcolor": "#506784",
            "linecolor": "#506784",
            "ticks": ""
           },
           "baxis": {
            "gridcolor": "#506784",
            "linecolor": "#506784",
            "ticks": ""
           },
           "caxis": {
            "gridcolor": "#506784",
            "linecolor": "#506784",
            "ticks": ""
           }
          },
          "coloraxis": {
           "colorbar": {
            "outlinewidth": 0,
            "ticks": ""
           }
          },
          "colorscale": {
           "sequential": [
            [
             0.0,
             "#0d0887"
            ],
            [
             0.1111111111111111,
             "#46039f"
            ],
            [
             0.2222222222222222,
             "#7201a8"
            ],
            [
             0.3333333333333333,
             "#9c179e"
            ],
            [
             0.4444444444444444,
             "#bd3786"
            ],
            [
             0.5555555555555556,
             "#d8576b"
            ],
            [
             0.6666666666666666,
             "#ed7953"
            ],
            [
             0.7777777777777778,
             "#fb9f3a"
            ],
            [
             0.8888888888888888,
             "#fdca26"
            ],
            [
             1.0,
             "#f0f921"
            ]
           ],
           "sequentialminus": [
            [
             0.0,
             "#0d0887"
            ],
            [
             0.1111111111111111,
             "#46039f"
            ],
            [
             0.2222222222222222,
             "#7201a8"
            ],
            [
             0.3333333333333333,
             "#9c179e"
            ],
            [
             0.4444444444444444,
             "#bd3786"
            ],
            [
             0.5555555555555556,
             "#d8576b"
            ],
            [
             0.6666666666666666,
             "#ed7953"
            ],
            [
             0.7777777777777778,
             "#fb9f3a"
            ],
            [
             0.8888888888888888,
             "#fdca26"
            ],
            [
             1.0,
             "#f0f921"
            ]
           ],
           "diverging": [
            [
             0,
             "#8e0152"
            ],
            [
             0.1,
             "#c51b7d"
            ],
            [
             0.2,
             "#de77ae"
            ],
            [
             0.3,
             "#f1b6da"
            ],
            [
             0.4,
             "#fde0ef"
            ],
            [
             0.5,
             "#f7f7f7"
            ],
            [
             0.6,
             "#e6f5d0"
            ],
            [
             0.7,
             "#b8e186"
            ],
            [
             0.8,
             "#7fbc41"
            ],
            [
             0.9,
             "#4d9221"
            ],
            [
             1,
             "#276419"
            ]
           ]
          },
          "xaxis": {
           "gridcolor": "#283442",
           "linecolor": "#506784",
           "ticks": "",
           "title": {
            "standoff": 15
           },
           "zerolinecolor": "#283442",
           "automargin": true,
           "zerolinewidth": 2
          },
          "yaxis": {
           "gridcolor": "#283442",
           "linecolor": "#506784",
           "ticks": "",
           "title": {
            "standoff": 15
           },
           "zerolinecolor": "#283442",
           "automargin": true,
           "zerolinewidth": 2
          },
          "scene": {
           "xaxis": {
            "backgroundcolor": "rgb(17,17,17)",
            "gridcolor": "#506784",
            "linecolor": "#506784",
            "showbackground": true,
            "ticks": "",
            "zerolinecolor": "#C8D4E3",
            "gridwidth": 2
           },
           "yaxis": {
            "backgroundcolor": "rgb(17,17,17)",
            "gridcolor": "#506784",
            "linecolor": "#506784",
            "showbackground": true,
            "ticks": "",
            "zerolinecolor": "#C8D4E3",
            "gridwidth": 2
           },
           "zaxis": {
            "backgroundcolor": "rgb(17,17,17)",
            "gridcolor": "#506784",
            "linecolor": "#506784",
            "showbackground": true,
            "ticks": "",
            "zerolinecolor": "#C8D4E3",
            "gridwidth": 2
           }
          },
          "shapedefaults": {
           "line": {
            "color": "#f2f5fa"
           }
          },
          "annotationdefaults": {
           "arrowcolor": "#f2f5fa",
           "arrowhead": 0,
           "arrowwidth": 1
          },
          "geo": {
           "bgcolor": "rgb(17,17,17)",
           "landcolor": "rgb(17,17,17)",
           "subunitcolor": "#506784",
           "showland": true,
           "showlakes": true,
           "lakecolor": "rgb(17,17,17)"
          },
          "title": {
           "x": 0.05
          },
          "updatemenudefaults": {
           "bgcolor": "#506784",
           "borderwidth": 0
          },
          "sliderdefaults": {
           "bgcolor": "#C8D4E3",
           "borderwidth": 1,
           "bordercolor": "rgb(17,17,17)",
           "tickwidth": 0
          },
          "mapbox": {
           "style": "dark"
          }
         }
        },
        "scene": {
         "domain": {
          "x": [
           0.0,
           1.0
          ],
          "y": [
           0.0,
           1.0
          ]
         },
         "xaxis": {
          "title": {
           "text": "quantity"
          }
         },
         "yaxis": {
          "title": {
           "text": "discountedSellingPrice"
          }
         },
         "zaxis": {
          "title": {
           "text": "mrp"
          }
         }
        },
        "coloraxis": {
         "colorbar": {
          "title": {
           "text": "availableQuantity"
          }
         },
         "colorscale": [
          [
           0.0,
           "rgb(236, 218, 154)"
          ],
          [
           0.16666666666666666,
           "rgb(239, 196, 126)"
          ],
          [
           0.3333333333333333,
           "rgb(243, 173, 106)"
          ],
          [
           0.5,
           "rgb(247, 148, 93)"
          ],
          [
           0.6666666666666666,
           "rgb(249, 123, 87)"
          ],
          [
           0.8333333333333334,
           "rgb(246, 99, 86)"
          ],
          [
           1.0,
           "rgb(238, 77, 90)"
          ]
         ]
        },
        "legend": {
         "tracegroupgap": 0
        },
        "title": {
         "text": "Health & Hygiene"
        },
        "height": 750
       },
       "config": {
        "plotlyServerURL": "https://plot.ly"
       }
      }
     },
     "metadata": {},
     "output_type": "display_data"
    }
   ],
   "execution_count": 82
  },
  {
   "metadata": {
    "ExecuteTime": {
     "end_time": "2025-06-08T06:26:04.829083Z",
     "start_time": "2025-06-08T06:26:04.827274Z"
    }
   },
   "cell_type": "code",
   "source": "",
   "id": "f63365c42b8a8165",
   "outputs": [],
   "execution_count": null
  }
 ],
 "metadata": {
  "kernelspec": {
   "display_name": "Python 3",
   "language": "python",
   "name": "python3"
  },
  "language_info": {
   "codemirror_mode": {
    "name": "ipython",
    "version": 2
   },
   "file_extension": ".py",
   "mimetype": "text/x-python",
   "name": "python",
   "nbconvert_exporter": "python",
   "pygments_lexer": "ipython2",
   "version": "2.7.6"
  }
 },
 "nbformat": 4,
 "nbformat_minor": 5
}
