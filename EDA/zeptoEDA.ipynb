{
 "cells": [
  {
   "metadata": {},
   "cell_type": "markdown",
   "source": [
    "# ZEPTO EDA ANALYSIS\n",
    "### The dataset takes the data from `https://www.kaggle.com/datasets/palvinder2006/zepto-inventory-dataset`\n",
    "### Though as per online the dataset varies from the price given, still the EDA has been performed\n",
    "\n",
    "`zepto_v2.csv`"
   ],
   "id": "b890f691797766ec"
  },
  {
   "metadata": {},
   "cell_type": "markdown",
   "source": [
    "## Importing all the libraries needed for the project\n",
    "### Used libraries are pandas, plotly, subplots, graph_objs, and rich\n",
    "1. pandas - dataset to dataframe construction, reading and manipulation\n",
    "2. plotly - for multiple plots includeing histogram, pie and 3d-scatter\n",
    "3. subplots - for multiple subplots of the pie charts\n",
    "4. graph_objs - construction of pie plots for subplot generation\n",
    "5. rich - better console text visualization"
   ],
   "id": "a3cf3ba7486457ce"
  },
  {
   "metadata": {
    "collapsed": true,
    "ExecuteTime": {
     "end_time": "2025-06-11T06:59:25.378495Z",
     "start_time": "2025-06-11T06:59:23.264685Z"
    }
   },
   "cell_type": "code",
   "source": [
    "import pandas as pd, numpy as np, plotly.express as px\n",
    "from rich.console import Console\n",
    "from plotly.subplots import make_subplots as mks\n",
    "import plotly.graph_objs as go\n",
    "cons = Console()"
   ],
   "id": "initial_id",
   "outputs": [],
   "execution_count": 1
  },
  {
   "metadata": {},
   "cell_type": "markdown",
   "source": "### Reading library and Custom Color Palete",
   "id": "7271078fece26fe5"
  },
  {
   "metadata": {
    "ExecuteTime": {
     "end_time": "2025-06-11T06:59:25.983955Z",
     "start_time": "2025-06-11T06:59:25.391376Z"
    }
   },
   "cell_type": "code",
   "source": [
    "df = pd.read_csv('https://raw.githubusercontent.com/SoultySprings/zepto-inv-dataset/master/EDA/zepto_v2.csv', encoding='cp1252')\n",
    "colors = [\"#4E79A7\", \"#F28E2B\", \"#E15759\", \"#76B7B2\", \"#59A14F\", \"#EDC949\", \"#AF7AA1\", \"#FF9DA7\", \"#9C755F\", \"#BAB0AC\", \"#1F77B4\", \"#FF7F0E\", \"#2CA02C\", \"#D62728\", \"#9467BD\"]"
   ],
   "id": "3bb6b9e78ea7422a",
   "outputs": [],
   "execution_count": 2
  },
  {
   "metadata": {},
   "cell_type": "markdown",
   "source": "### Identify min and max quantities across the dataframe\n",
   "id": "4046756ca861aed9"
  },
  {
   "metadata": {
    "ExecuteTime": {
     "end_time": "2025-06-11T06:59:26.000987Z",
     "start_time": "2025-06-11T06:59:25.992144Z"
    }
   },
   "cell_type": "code",
   "source": [
    "print(df.max())\n",
    "print(df.idxmax())\n",
    "print(df.min())\n",
    "print(df.idxmin())\n"
   ],
   "id": "cba074b95d09595e",
   "outputs": [
    {
     "name": "stdout",
     "output_type": "stream",
     "text": [
      "Category                            Personal Care\n",
      "name                      iD Wheat Lachha Paratha\n",
      "mrp                                        260000\n",
      "discountPercent                                51\n",
      "availableQuantity                               6\n",
      "discountedSellingPrice                     139900\n",
      "weightInGms                                 10000\n",
      "outOfStock                                   True\n",
      "quantity                                     1500\n",
      "dtype: object\n",
      "Category                  2753\n",
      "name                      1382\n",
      "mrp                        517\n",
      "discountPercent           2608\n",
      "availableQuantity           53\n",
      "discountedSellingPrice     517\n",
      "weightInGms                108\n",
      "outOfStock                  87\n",
      "quantity                  2817\n",
      "dtype: int64\n",
      "Category                                                          Beverages\n",
      "name                      \"Godrej Aer Power Pocket - Long Lasting Bathro...\n",
      "mrp                                                                       0\n",
      "discountPercent                                                           0\n",
      "availableQuantity                                                         0\n",
      "discountedSellingPrice                                                    0\n",
      "weightInGms                                                               0\n",
      "outOfStock                                                            False\n",
      "quantity                                                                  0\n",
      "dtype: object\n",
      "Category                  1250\n",
      "name                      3489\n",
      "mrp                       3606\n",
      "discountPercent             93\n",
      "availableQuantity           87\n",
      "discountedSellingPrice    3606\n",
      "weightInGms               2840\n",
      "outOfStock                   0\n",
      "quantity                   606\n",
      "dtype: int64\n"
     ]
    }
   ],
   "execution_count": 3
  },
  {
   "metadata": {},
   "cell_type": "markdown",
   "source": [
    "### Removing duplicated across the dataframe\n",
    "#### Something noteworthy here is that few categories get removed as they are pure duplicated of another category, this reduces the error caused by dulicate values across multiple different columns\n"
   ],
   "id": "fa3908c3fb0f905a"
  },
  {
   "metadata": {
    "ExecuteTime": {
     "end_time": "2025-06-11T06:59:26.074701Z",
     "start_time": "2025-06-11T06:59:26.061109Z"
    }
   },
   "cell_type": "code",
   "source": [
    "dfN = df.drop_duplicates(subset='name').copy()\n",
    "dfN.info()"
   ],
   "id": "f8051ea6f18cc642",
   "outputs": [
    {
     "name": "stdout",
     "output_type": "stream",
     "text": [
      "<class 'pandas.core.frame.DataFrame'>\n",
      "Index: 1681 entries, 0 to 3728\n",
      "Data columns (total 9 columns):\n",
      " #   Column                  Non-Null Count  Dtype \n",
      "---  ------                  --------------  ----- \n",
      " 0   Category                1681 non-null   object\n",
      " 1   name                    1681 non-null   object\n",
      " 2   mrp                     1681 non-null   int64 \n",
      " 3   discountPercent         1681 non-null   int64 \n",
      " 4   availableQuantity       1681 non-null   int64 \n",
      " 5   discountedSellingPrice  1681 non-null   int64 \n",
      " 6   weightInGms             1681 non-null   int64 \n",
      " 7   outOfStock              1681 non-null   bool  \n",
      " 8   quantity                1681 non-null   int64 \n",
      "dtypes: bool(1), int64(6), object(2)\n",
      "memory usage: 119.8+ KB\n"
     ]
    }
   ],
   "execution_count": 4
  },
  {
   "metadata": {},
   "cell_type": "markdown",
   "source": "#### The more the unique values, less it becomes easy to classify, hence labels produces multiple columns that have less unqiue values thereby providing better analysis across similar groups\n",
   "id": "334c8601e387d5f0"
  },
  {
   "metadata": {
    "ExecuteTime": {
     "end_time": "2025-06-11T06:59:26.133075Z",
     "start_time": "2025-06-11T06:59:26.129481Z"
    }
   },
   "cell_type": "code",
   "source": "labels = ['Category', 'discountPercent', 'availableQuantity']",
   "id": "788612fee44f5e0a",
   "outputs": [],
   "execution_count": 5
  },
  {
   "metadata": {
    "ExecuteTime": {
     "end_time": "2025-06-11T06:59:26.198755Z",
     "start_time": "2025-06-11T06:59:26.191155Z"
    }
   },
   "cell_type": "code",
   "source": [
    "for value in labels:\n",
    "    print(f'Unique in {value}: ', df[f'{value}'].sort_values(ascending=True).unique(), 'with length of : ', len(df[f'{value}'].unique()))\n",
    "    print()"
   ],
   "id": "a758ae3d79a3240f",
   "outputs": [
    {
     "name": "stdout",
     "output_type": "stream",
     "text": [
      "Unique in Category:  ['Beverages' 'Biscuits' 'Chocolates & Candies' 'Cooking Essentials'\n",
      " 'Dairy, Bread & Batter' 'Fruits & Vegetables' 'Health & Hygiene'\n",
      " 'Home & Cleaning' 'Ice Cream & Desserts' 'Meats, Fish & Eggs' 'Munchies'\n",
      " 'Paan Corner' 'Packaged Food' 'Personal Care'] with length of :  14\n",
      "\n",
      "Unique in discountPercent:  [ 0  1  2  3  4  5  6  7  8  9 10 11 12 13 14 15 16 17 18 19 20 21 22 23\n",
      " 24 25 26 27 28 29 30 31 32 33 35 40 43 45 46 49 50 51] with length of :  42\n",
      "\n",
      "Unique in availableQuantity:  [0 1 2 3 4 5 6] with length of :  7\n",
      "\n"
     ]
    }
   ],
   "execution_count": 6
  },
  {
   "metadata": {},
   "cell_type": "markdown",
   "source": "### Plotting Histogram for representation of quantites that are present across each categories of the dataset\n",
   "id": "9249b2e75add5d60"
  },
  {
   "metadata": {
    "ExecuteTime": {
     "end_time": "2025-06-11T06:59:26.733368Z",
     "start_time": "2025-06-11T06:59:26.269037Z"
    }
   },
   "cell_type": "code",
   "source": [
    "fig = px.histogram(dfN, x='Category', color = 'Category', color_discrete_sequence=colors, template='plotly_dark',height=750)\n",
    "fig.show()"
   ],
   "id": "14d1ca0865885d64",
   "outputs": [
    {
     "data": {
      "application/vnd.plotly.v1+json": {
       "data": [
        {
         "bingroup": "x",
         "hovertemplate": "Category=%{x}<br>count=%{y}<extra></extra>",
         "legendgroup": "Fruits & Vegetables",
         "marker": {
          "color": "#4E79A7",
          "pattern": {
           "shape": ""
          }
         },
         "name": "Fruits & Vegetables",
         "orientation": "v",
         "showlegend": true,
         "x": [
          "Fruits & Vegetables",
          "Fruits & Vegetables",
          "Fruits & Vegetables",
          "Fruits & Vegetables",
          "Fruits & Vegetables",
          "Fruits & Vegetables",
          "Fruits & Vegetables",
          "Fruits & Vegetables",
          "Fruits & Vegetables",
          "Fruits & Vegetables",
          "Fruits & Vegetables",
          "Fruits & Vegetables",
          "Fruits & Vegetables",
          "Fruits & Vegetables",
          "Fruits & Vegetables",
          "Fruits & Vegetables",
          "Fruits & Vegetables",
          "Fruits & Vegetables",
          "Fruits & Vegetables",
          "Fruits & Vegetables",
          "Fruits & Vegetables",
          "Fruits & Vegetables",
          "Fruits & Vegetables",
          "Fruits & Vegetables",
          "Fruits & Vegetables",
          "Fruits & Vegetables",
          "Fruits & Vegetables",
          "Fruits & Vegetables",
          "Fruits & Vegetables",
          "Fruits & Vegetables",
          "Fruits & Vegetables",
          "Fruits & Vegetables",
          "Fruits & Vegetables",
          "Fruits & Vegetables",
          "Fruits & Vegetables",
          "Fruits & Vegetables",
          "Fruits & Vegetables",
          "Fruits & Vegetables",
          "Fruits & Vegetables",
          "Fruits & Vegetables",
          "Fruits & Vegetables",
          "Fruits & Vegetables",
          "Fruits & Vegetables",
          "Fruits & Vegetables",
          "Fruits & Vegetables",
          "Fruits & Vegetables",
          "Fruits & Vegetables",
          "Fruits & Vegetables",
          "Fruits & Vegetables",
          "Fruits & Vegetables",
          "Fruits & Vegetables",
          "Fruits & Vegetables",
          "Fruits & Vegetables",
          "Fruits & Vegetables",
          "Fruits & Vegetables",
          "Fruits & Vegetables",
          "Fruits & Vegetables",
          "Fruits & Vegetables",
          "Fruits & Vegetables",
          "Fruits & Vegetables",
          "Fruits & Vegetables",
          "Fruits & Vegetables",
          "Fruits & Vegetables",
          "Fruits & Vegetables",
          "Fruits & Vegetables",
          "Fruits & Vegetables",
          "Fruits & Vegetables",
          "Fruits & Vegetables",
          "Fruits & Vegetables",
          "Fruits & Vegetables",
          "Fruits & Vegetables",
          "Fruits & Vegetables",
          "Fruits & Vegetables",
          "Fruits & Vegetables",
          "Fruits & Vegetables",
          "Fruits & Vegetables",
          "Fruits & Vegetables",
          "Fruits & Vegetables",
          "Fruits & Vegetables",
          "Fruits & Vegetables",
          "Fruits & Vegetables",
          "Fruits & Vegetables",
          "Fruits & Vegetables",
          "Fruits & Vegetables",
          "Fruits & Vegetables",
          "Fruits & Vegetables",
          "Fruits & Vegetables",
          "Fruits & Vegetables",
          "Fruits & Vegetables"
         ],
         "xaxis": "x",
         "yaxis": "y",
         "type": "histogram"
        },
        {
         "bingroup": "x",
         "hovertemplate": "Category=%{x}<br>count=%{y}<extra></extra>",
         "legendgroup": "Cooking Essentials",
         "marker": {
          "color": "#F28E2B",
          "pattern": {
           "shape": ""
          }
         },
         "name": "Cooking Essentials",
         "orientation": "v",
         "showlegend": true,
         "x": [
          "Cooking Essentials",
          "Cooking Essentials",
          "Cooking Essentials",
          "Cooking Essentials",
          "Cooking Essentials",
          "Cooking Essentials",
          "Cooking Essentials",
          "Cooking Essentials",
          "Cooking Essentials",
          "Cooking Essentials",
          "Cooking Essentials",
          "Cooking Essentials",
          "Cooking Essentials",
          "Cooking Essentials",
          "Cooking Essentials",
          "Cooking Essentials",
          "Cooking Essentials",
          "Cooking Essentials",
          "Cooking Essentials",
          "Cooking Essentials",
          "Cooking Essentials",
          "Cooking Essentials",
          "Cooking Essentials",
          "Cooking Essentials",
          "Cooking Essentials",
          "Cooking Essentials",
          "Cooking Essentials",
          "Cooking Essentials",
          "Cooking Essentials",
          "Cooking Essentials",
          "Cooking Essentials",
          "Cooking Essentials",
          "Cooking Essentials",
          "Cooking Essentials",
          "Cooking Essentials",
          "Cooking Essentials",
          "Cooking Essentials",
          "Cooking Essentials",
          "Cooking Essentials",
          "Cooking Essentials",
          "Cooking Essentials",
          "Cooking Essentials",
          "Cooking Essentials",
          "Cooking Essentials",
          "Cooking Essentials",
          "Cooking Essentials",
          "Cooking Essentials",
          "Cooking Essentials",
          "Cooking Essentials",
          "Cooking Essentials",
          "Cooking Essentials",
          "Cooking Essentials",
          "Cooking Essentials",
          "Cooking Essentials",
          "Cooking Essentials",
          "Cooking Essentials",
          "Cooking Essentials",
          "Cooking Essentials",
          "Cooking Essentials",
          "Cooking Essentials",
          "Cooking Essentials",
          "Cooking Essentials",
          "Cooking Essentials",
          "Cooking Essentials",
          "Cooking Essentials",
          "Cooking Essentials",
          "Cooking Essentials",
          "Cooking Essentials",
          "Cooking Essentials",
          "Cooking Essentials",
          "Cooking Essentials",
          "Cooking Essentials",
          "Cooking Essentials",
          "Cooking Essentials",
          "Cooking Essentials",
          "Cooking Essentials",
          "Cooking Essentials",
          "Cooking Essentials",
          "Cooking Essentials",
          "Cooking Essentials",
          "Cooking Essentials",
          "Cooking Essentials",
          "Cooking Essentials",
          "Cooking Essentials",
          "Cooking Essentials",
          "Cooking Essentials",
          "Cooking Essentials",
          "Cooking Essentials",
          "Cooking Essentials",
          "Cooking Essentials",
          "Cooking Essentials",
          "Cooking Essentials",
          "Cooking Essentials",
          "Cooking Essentials",
          "Cooking Essentials",
          "Cooking Essentials",
          "Cooking Essentials",
          "Cooking Essentials",
          "Cooking Essentials",
          "Cooking Essentials",
          "Cooking Essentials",
          "Cooking Essentials",
          "Cooking Essentials",
          "Cooking Essentials",
          "Cooking Essentials",
          "Cooking Essentials",
          "Cooking Essentials",
          "Cooking Essentials",
          "Cooking Essentials",
          "Cooking Essentials",
          "Cooking Essentials",
          "Cooking Essentials",
          "Cooking Essentials",
          "Cooking Essentials",
          "Cooking Essentials",
          "Cooking Essentials",
          "Cooking Essentials",
          "Cooking Essentials",
          "Cooking Essentials",
          "Cooking Essentials",
          "Cooking Essentials",
          "Cooking Essentials",
          "Cooking Essentials",
          "Cooking Essentials",
          "Cooking Essentials",
          "Cooking Essentials",
          "Cooking Essentials",
          "Cooking Essentials",
          "Cooking Essentials",
          "Cooking Essentials",
          "Cooking Essentials",
          "Cooking Essentials",
          "Cooking Essentials",
          "Cooking Essentials",
          "Cooking Essentials",
          "Cooking Essentials",
          "Cooking Essentials",
          "Cooking Essentials",
          "Cooking Essentials",
          "Cooking Essentials",
          "Cooking Essentials",
          "Cooking Essentials",
          "Cooking Essentials",
          "Cooking Essentials",
          "Cooking Essentials",
          "Cooking Essentials",
          "Cooking Essentials",
          "Cooking Essentials",
          "Cooking Essentials",
          "Cooking Essentials",
          "Cooking Essentials",
          "Cooking Essentials",
          "Cooking Essentials",
          "Cooking Essentials",
          "Cooking Essentials",
          "Cooking Essentials",
          "Cooking Essentials",
          "Cooking Essentials",
          "Cooking Essentials",
          "Cooking Essentials",
          "Cooking Essentials",
          "Cooking Essentials",
          "Cooking Essentials",
          "Cooking Essentials",
          "Cooking Essentials",
          "Cooking Essentials",
          "Cooking Essentials",
          "Cooking Essentials",
          "Cooking Essentials",
          "Cooking Essentials",
          "Cooking Essentials",
          "Cooking Essentials",
          "Cooking Essentials",
          "Cooking Essentials",
          "Cooking Essentials",
          "Cooking Essentials",
          "Cooking Essentials",
          "Cooking Essentials",
          "Cooking Essentials",
          "Cooking Essentials",
          "Cooking Essentials",
          "Cooking Essentials",
          "Cooking Essentials",
          "Cooking Essentials",
          "Cooking Essentials",
          "Cooking Essentials",
          "Cooking Essentials",
          "Cooking Essentials",
          "Cooking Essentials",
          "Cooking Essentials",
          "Cooking Essentials",
          "Cooking Essentials",
          "Cooking Essentials",
          "Cooking Essentials",
          "Cooking Essentials",
          "Cooking Essentials",
          "Cooking Essentials",
          "Cooking Essentials",
          "Cooking Essentials",
          "Cooking Essentials",
          "Cooking Essentials",
          "Cooking Essentials",
          "Cooking Essentials",
          "Cooking Essentials",
          "Cooking Essentials",
          "Cooking Essentials",
          "Cooking Essentials",
          "Cooking Essentials",
          "Cooking Essentials",
          "Cooking Essentials",
          "Cooking Essentials",
          "Cooking Essentials",
          "Cooking Essentials",
          "Cooking Essentials",
          "Cooking Essentials",
          "Cooking Essentials",
          "Cooking Essentials",
          "Cooking Essentials",
          "Cooking Essentials",
          "Cooking Essentials",
          "Cooking Essentials",
          "Cooking Essentials",
          "Cooking Essentials",
          "Cooking Essentials",
          "Cooking Essentials",
          "Cooking Essentials",
          "Cooking Essentials",
          "Cooking Essentials",
          "Cooking Essentials",
          "Cooking Essentials",
          "Cooking Essentials",
          "Cooking Essentials",
          "Cooking Essentials",
          "Cooking Essentials",
          "Cooking Essentials",
          "Cooking Essentials",
          "Cooking Essentials",
          "Cooking Essentials",
          "Cooking Essentials",
          "Cooking Essentials",
          "Cooking Essentials",
          "Cooking Essentials",
          "Cooking Essentials",
          "Cooking Essentials",
          "Cooking Essentials",
          "Cooking Essentials",
          "Cooking Essentials",
          "Cooking Essentials",
          "Cooking Essentials",
          "Cooking Essentials",
          "Cooking Essentials",
          "Cooking Essentials",
          "Cooking Essentials",
          "Cooking Essentials",
          "Cooking Essentials",
          "Cooking Essentials",
          "Cooking Essentials",
          "Cooking Essentials",
          "Cooking Essentials",
          "Cooking Essentials",
          "Cooking Essentials",
          "Cooking Essentials",
          "Cooking Essentials",
          "Cooking Essentials",
          "Cooking Essentials",
          "Cooking Essentials",
          "Cooking Essentials",
          "Cooking Essentials",
          "Cooking Essentials",
          "Cooking Essentials",
          "Cooking Essentials",
          "Cooking Essentials",
          "Cooking Essentials",
          "Cooking Essentials",
          "Cooking Essentials",
          "Cooking Essentials",
          "Cooking Essentials",
          "Cooking Essentials",
          "Cooking Essentials",
          "Cooking Essentials",
          "Cooking Essentials",
          "Cooking Essentials",
          "Cooking Essentials",
          "Cooking Essentials",
          "Cooking Essentials",
          "Cooking Essentials",
          "Cooking Essentials",
          "Cooking Essentials",
          "Cooking Essentials",
          "Cooking Essentials",
          "Cooking Essentials",
          "Cooking Essentials",
          "Cooking Essentials",
          "Cooking Essentials",
          "Cooking Essentials",
          "Cooking Essentials",
          "Cooking Essentials",
          "Cooking Essentials",
          "Cooking Essentials",
          "Cooking Essentials",
          "Cooking Essentials",
          "Cooking Essentials",
          "Cooking Essentials",
          "Cooking Essentials",
          "Cooking Essentials",
          "Cooking Essentials",
          "Cooking Essentials",
          "Cooking Essentials",
          "Cooking Essentials",
          "Cooking Essentials",
          "Cooking Essentials",
          "Cooking Essentials",
          "Cooking Essentials",
          "Cooking Essentials",
          "Cooking Essentials",
          "Cooking Essentials",
          "Cooking Essentials",
          "Cooking Essentials",
          "Cooking Essentials",
          "Cooking Essentials",
          "Cooking Essentials",
          "Cooking Essentials",
          "Cooking Essentials",
          "Cooking Essentials",
          "Cooking Essentials",
          "Cooking Essentials",
          "Cooking Essentials",
          "Cooking Essentials",
          "Cooking Essentials",
          "Cooking Essentials",
          "Cooking Essentials",
          "Cooking Essentials",
          "Cooking Essentials",
          "Cooking Essentials",
          "Cooking Essentials",
          "Cooking Essentials",
          "Cooking Essentials",
          "Cooking Essentials",
          "Cooking Essentials",
          "Cooking Essentials",
          "Cooking Essentials",
          "Cooking Essentials",
          "Cooking Essentials",
          "Cooking Essentials",
          "Cooking Essentials",
          "Cooking Essentials",
          "Cooking Essentials",
          "Cooking Essentials",
          "Cooking Essentials",
          "Cooking Essentials",
          "Cooking Essentials",
          "Cooking Essentials",
          "Cooking Essentials",
          "Cooking Essentials",
          "Cooking Essentials",
          "Cooking Essentials",
          "Cooking Essentials",
          "Cooking Essentials",
          "Cooking Essentials",
          "Cooking Essentials",
          "Cooking Essentials",
          "Cooking Essentials",
          "Cooking Essentials",
          "Cooking Essentials",
          "Cooking Essentials",
          "Cooking Essentials",
          "Cooking Essentials",
          "Cooking Essentials",
          "Cooking Essentials",
          "Cooking Essentials",
          "Cooking Essentials",
          "Cooking Essentials",
          "Cooking Essentials",
          "Cooking Essentials",
          "Cooking Essentials",
          "Cooking Essentials",
          "Cooking Essentials",
          "Cooking Essentials",
          "Cooking Essentials",
          "Cooking Essentials",
          "Cooking Essentials",
          "Cooking Essentials",
          "Cooking Essentials",
          "Cooking Essentials",
          "Cooking Essentials",
          "Cooking Essentials",
          "Cooking Essentials",
          "Cooking Essentials",
          "Cooking Essentials",
          "Cooking Essentials",
          "Cooking Essentials",
          "Cooking Essentials",
          "Cooking Essentials",
          "Cooking Essentials",
          "Cooking Essentials",
          "Cooking Essentials",
          "Cooking Essentials",
          "Cooking Essentials",
          "Cooking Essentials",
          "Cooking Essentials",
          "Cooking Essentials",
          "Cooking Essentials",
          "Cooking Essentials",
          "Cooking Essentials",
          "Cooking Essentials",
          "Cooking Essentials",
          "Cooking Essentials",
          "Cooking Essentials",
          "Cooking Essentials",
          "Cooking Essentials",
          "Cooking Essentials",
          "Cooking Essentials",
          "Cooking Essentials",
          "Cooking Essentials",
          "Cooking Essentials",
          "Cooking Essentials",
          "Cooking Essentials",
          "Cooking Essentials",
          "Cooking Essentials",
          "Cooking Essentials",
          "Cooking Essentials",
          "Cooking Essentials",
          "Cooking Essentials",
          "Cooking Essentials",
          "Cooking Essentials",
          "Cooking Essentials",
          "Cooking Essentials",
          "Cooking Essentials",
          "Cooking Essentials",
          "Cooking Essentials",
          "Cooking Essentials",
          "Cooking Essentials",
          "Cooking Essentials",
          "Cooking Essentials",
          "Cooking Essentials",
          "Cooking Essentials",
          "Cooking Essentials",
          "Cooking Essentials",
          "Cooking Essentials",
          "Cooking Essentials",
          "Cooking Essentials",
          "Cooking Essentials",
          "Cooking Essentials",
          "Cooking Essentials",
          "Cooking Essentials",
          "Cooking Essentials",
          "Cooking Essentials",
          "Cooking Essentials",
          "Cooking Essentials",
          "Cooking Essentials",
          "Cooking Essentials",
          "Cooking Essentials",
          "Cooking Essentials",
          "Cooking Essentials",
          "Cooking Essentials",
          "Cooking Essentials",
          "Cooking Essentials",
          "Cooking Essentials",
          "Cooking Essentials",
          "Cooking Essentials",
          "Cooking Essentials",
          "Cooking Essentials",
          "Cooking Essentials",
          "Cooking Essentials",
          "Cooking Essentials",
          "Cooking Essentials",
          "Cooking Essentials",
          "Cooking Essentials",
          "Cooking Essentials",
          "Cooking Essentials",
          "Cooking Essentials",
          "Cooking Essentials",
          "Cooking Essentials",
          "Cooking Essentials",
          "Cooking Essentials",
          "Cooking Essentials",
          "Cooking Essentials",
          "Cooking Essentials"
         ],
         "xaxis": "x",
         "yaxis": "y",
         "type": "histogram"
        },
        {
         "bingroup": "x",
         "hovertemplate": "Category=%{x}<br>count=%{y}<extra></extra>",
         "legendgroup": "Dairy, Bread & Batter",
         "marker": {
          "color": "#E15759",
          "pattern": {
           "shape": ""
          }
         },
         "name": "Dairy, Bread & Batter",
         "orientation": "v",
         "showlegend": true,
         "x": [
          "Dairy, Bread & Batter",
          "Dairy, Bread & Batter",
          "Dairy, Bread & Batter",
          "Dairy, Bread & Batter",
          "Dairy, Bread & Batter",
          "Dairy, Bread & Batter",
          "Dairy, Bread & Batter",
          "Dairy, Bread & Batter",
          "Dairy, Bread & Batter",
          "Dairy, Bread & Batter",
          "Dairy, Bread & Batter",
          "Dairy, Bread & Batter",
          "Dairy, Bread & Batter",
          "Dairy, Bread & Batter",
          "Dairy, Bread & Batter",
          "Dairy, Bread & Batter",
          "Dairy, Bread & Batter",
          "Dairy, Bread & Batter",
          "Dairy, Bread & Batter",
          "Dairy, Bread & Batter",
          "Dairy, Bread & Batter",
          "Dairy, Bread & Batter",
          "Dairy, Bread & Batter",
          "Dairy, Bread & Batter",
          "Dairy, Bread & Batter",
          "Dairy, Bread & Batter",
          "Dairy, Bread & Batter",
          "Dairy, Bread & Batter",
          "Dairy, Bread & Batter",
          "Dairy, Bread & Batter",
          "Dairy, Bread & Batter",
          "Dairy, Bread & Batter",
          "Dairy, Bread & Batter",
          "Dairy, Bread & Batter",
          "Dairy, Bread & Batter",
          "Dairy, Bread & Batter",
          "Dairy, Bread & Batter",
          "Dairy, Bread & Batter",
          "Dairy, Bread & Batter",
          "Dairy, Bread & Batter",
          "Dairy, Bread & Batter",
          "Dairy, Bread & Batter",
          "Dairy, Bread & Batter",
          "Dairy, Bread & Batter",
          "Dairy, Bread & Batter",
          "Dairy, Bread & Batter",
          "Dairy, Bread & Batter",
          "Dairy, Bread & Batter",
          "Dairy, Bread & Batter",
          "Dairy, Bread & Batter",
          "Dairy, Bread & Batter",
          "Dairy, Bread & Batter",
          "Dairy, Bread & Batter",
          "Dairy, Bread & Batter",
          "Dairy, Bread & Batter",
          "Dairy, Bread & Batter",
          "Dairy, Bread & Batter",
          "Dairy, Bread & Batter",
          "Dairy, Bread & Batter",
          "Dairy, Bread & Batter",
          "Dairy, Bread & Batter",
          "Dairy, Bread & Batter",
          "Dairy, Bread & Batter",
          "Dairy, Bread & Batter",
          "Dairy, Bread & Batter",
          "Dairy, Bread & Batter",
          "Dairy, Bread & Batter",
          "Dairy, Bread & Batter",
          "Dairy, Bread & Batter",
          "Dairy, Bread & Batter",
          "Dairy, Bread & Batter",
          "Dairy, Bread & Batter",
          "Dairy, Bread & Batter",
          "Dairy, Bread & Batter",
          "Dairy, Bread & Batter",
          "Dairy, Bread & Batter",
          "Dairy, Bread & Batter",
          "Dairy, Bread & Batter",
          "Dairy, Bread & Batter",
          "Dairy, Bread & Batter",
          "Dairy, Bread & Batter",
          "Dairy, Bread & Batter",
          "Dairy, Bread & Batter",
          "Dairy, Bread & Batter",
          "Dairy, Bread & Batter",
          "Dairy, Bread & Batter",
          "Dairy, Bread & Batter",
          "Dairy, Bread & Batter",
          "Dairy, Bread & Batter",
          "Dairy, Bread & Batter",
          "Dairy, Bread & Batter",
          "Dairy, Bread & Batter",
          "Dairy, Bread & Batter",
          "Dairy, Bread & Batter",
          "Dairy, Bread & Batter",
          "Dairy, Bread & Batter",
          "Dairy, Bread & Batter",
          "Dairy, Bread & Batter",
          "Dairy, Bread & Batter",
          "Dairy, Bread & Batter",
          "Dairy, Bread & Batter",
          "Dairy, Bread & Batter",
          "Dairy, Bread & Batter",
          "Dairy, Bread & Batter",
          "Dairy, Bread & Batter",
          "Dairy, Bread & Batter",
          "Dairy, Bread & Batter",
          "Dairy, Bread & Batter"
         ],
         "xaxis": "x",
         "yaxis": "y",
         "type": "histogram"
        },
        {
         "bingroup": "x",
         "hovertemplate": "Category=%{x}<br>count=%{y}<extra></extra>",
         "legendgroup": "Packaged Food",
         "marker": {
          "color": "#76B7B2",
          "pattern": {
           "shape": ""
          }
         },
         "name": "Packaged Food",
         "orientation": "v",
         "showlegend": true,
         "x": [
          "Packaged Food",
          "Packaged Food",
          "Packaged Food",
          "Packaged Food",
          "Packaged Food",
          "Packaged Food",
          "Packaged Food",
          "Packaged Food",
          "Packaged Food",
          "Packaged Food",
          "Packaged Food",
          "Packaged Food",
          "Packaged Food",
          "Packaged Food",
          "Packaged Food",
          "Packaged Food",
          "Packaged Food",
          "Packaged Food",
          "Packaged Food",
          "Packaged Food",
          "Packaged Food",
          "Packaged Food",
          "Packaged Food",
          "Packaged Food",
          "Packaged Food",
          "Packaged Food",
          "Packaged Food",
          "Packaged Food",
          "Packaged Food",
          "Packaged Food",
          "Packaged Food",
          "Packaged Food",
          "Packaged Food",
          "Packaged Food",
          "Packaged Food",
          "Packaged Food",
          "Packaged Food",
          "Packaged Food",
          "Packaged Food",
          "Packaged Food",
          "Packaged Food",
          "Packaged Food",
          "Packaged Food",
          "Packaged Food",
          "Packaged Food",
          "Packaged Food",
          "Packaged Food",
          "Packaged Food",
          "Packaged Food",
          "Packaged Food",
          "Packaged Food",
          "Packaged Food",
          "Packaged Food",
          "Packaged Food",
          "Packaged Food",
          "Packaged Food",
          "Packaged Food",
          "Packaged Food",
          "Packaged Food",
          "Packaged Food",
          "Packaged Food",
          "Packaged Food",
          "Packaged Food",
          "Packaged Food",
          "Packaged Food",
          "Packaged Food",
          "Packaged Food",
          "Packaged Food",
          "Packaged Food",
          "Packaged Food",
          "Packaged Food",
          "Packaged Food",
          "Packaged Food",
          "Packaged Food",
          "Packaged Food",
          "Packaged Food",
          "Packaged Food",
          "Packaged Food",
          "Packaged Food",
          "Packaged Food",
          "Packaged Food",
          "Packaged Food",
          "Packaged Food",
          "Packaged Food",
          "Packaged Food",
          "Packaged Food",
          "Packaged Food",
          "Packaged Food",
          "Packaged Food",
          "Packaged Food",
          "Packaged Food",
          "Packaged Food",
          "Packaged Food",
          "Packaged Food",
          "Packaged Food",
          "Packaged Food",
          "Packaged Food",
          "Packaged Food",
          "Packaged Food",
          "Packaged Food",
          "Packaged Food",
          "Packaged Food",
          "Packaged Food",
          "Packaged Food",
          "Packaged Food",
          "Packaged Food",
          "Packaged Food",
          "Packaged Food",
          "Packaged Food",
          "Packaged Food",
          "Packaged Food",
          "Packaged Food",
          "Packaged Food",
          "Packaged Food",
          "Packaged Food",
          "Packaged Food",
          "Packaged Food",
          "Packaged Food",
          "Packaged Food",
          "Packaged Food",
          "Packaged Food",
          "Packaged Food",
          "Packaged Food",
          "Packaged Food",
          "Packaged Food",
          "Packaged Food",
          "Packaged Food",
          "Packaged Food",
          "Packaged Food",
          "Packaged Food",
          "Packaged Food",
          "Packaged Food",
          "Packaged Food",
          "Packaged Food",
          "Packaged Food",
          "Packaged Food",
          "Packaged Food",
          "Packaged Food",
          "Packaged Food",
          "Packaged Food",
          "Packaged Food",
          "Packaged Food",
          "Packaged Food",
          "Packaged Food",
          "Packaged Food",
          "Packaged Food",
          "Packaged Food",
          "Packaged Food",
          "Packaged Food",
          "Packaged Food",
          "Packaged Food",
          "Packaged Food",
          "Packaged Food",
          "Packaged Food",
          "Packaged Food",
          "Packaged Food",
          "Packaged Food",
          "Packaged Food",
          "Packaged Food",
          "Packaged Food",
          "Packaged Food",
          "Packaged Food",
          "Packaged Food",
          "Packaged Food",
          "Packaged Food",
          "Packaged Food",
          "Packaged Food",
          "Packaged Food",
          "Packaged Food",
          "Packaged Food",
          "Packaged Food",
          "Packaged Food",
          "Packaged Food",
          "Packaged Food",
          "Packaged Food",
          "Packaged Food",
          "Packaged Food",
          "Packaged Food",
          "Packaged Food",
          "Packaged Food",
          "Packaged Food",
          "Packaged Food",
          "Packaged Food",
          "Packaged Food",
          "Packaged Food",
          "Packaged Food",
          "Packaged Food",
          "Packaged Food",
          "Packaged Food",
          "Packaged Food",
          "Packaged Food",
          "Packaged Food",
          "Packaged Food",
          "Packaged Food",
          "Packaged Food",
          "Packaged Food",
          "Packaged Food",
          "Packaged Food",
          "Packaged Food",
          "Packaged Food",
          "Packaged Food",
          "Packaged Food",
          "Packaged Food",
          "Packaged Food",
          "Packaged Food",
          "Packaged Food",
          "Packaged Food",
          "Packaged Food",
          "Packaged Food",
          "Packaged Food",
          "Packaged Food",
          "Packaged Food",
          "Packaged Food",
          "Packaged Food",
          "Packaged Food",
          "Packaged Food",
          "Packaged Food",
          "Packaged Food",
          "Packaged Food",
          "Packaged Food",
          "Packaged Food",
          "Packaged Food",
          "Packaged Food",
          "Packaged Food",
          "Packaged Food",
          "Packaged Food",
          "Packaged Food",
          "Packaged Food",
          "Packaged Food",
          "Packaged Food",
          "Packaged Food",
          "Packaged Food",
          "Packaged Food",
          "Packaged Food",
          "Packaged Food",
          "Packaged Food",
          "Packaged Food",
          "Packaged Food",
          "Packaged Food",
          "Packaged Food",
          "Packaged Food",
          "Packaged Food",
          "Packaged Food",
          "Packaged Food",
          "Packaged Food",
          "Packaged Food",
          "Packaged Food",
          "Packaged Food",
          "Packaged Food",
          "Packaged Food",
          "Packaged Food",
          "Packaged Food",
          "Packaged Food",
          "Packaged Food",
          "Packaged Food",
          "Packaged Food",
          "Packaged Food",
          "Packaged Food",
          "Packaged Food",
          "Packaged Food",
          "Packaged Food",
          "Packaged Food",
          "Packaged Food",
          "Packaged Food",
          "Packaged Food",
          "Packaged Food",
          "Packaged Food",
          "Packaged Food",
          "Packaged Food",
          "Packaged Food",
          "Packaged Food",
          "Packaged Food",
          "Packaged Food",
          "Packaged Food",
          "Packaged Food",
          "Packaged Food",
          "Packaged Food",
          "Packaged Food",
          "Packaged Food",
          "Packaged Food",
          "Packaged Food",
          "Packaged Food",
          "Packaged Food",
          "Packaged Food",
          "Packaged Food",
          "Packaged Food",
          "Packaged Food"
         ],
         "xaxis": "x",
         "yaxis": "y",
         "type": "histogram"
        },
        {
         "bingroup": "x",
         "hovertemplate": "Category=%{x}<br>count=%{y}<extra></extra>",
         "legendgroup": "Meats, Fish & Eggs",
         "marker": {
          "color": "#59A14F",
          "pattern": {
           "shape": ""
          }
         },
         "name": "Meats, Fish & Eggs",
         "orientation": "v",
         "showlegend": true,
         "x": [
          "Meats, Fish & Eggs",
          "Meats, Fish & Eggs",
          "Meats, Fish & Eggs",
          "Meats, Fish & Eggs",
          "Meats, Fish & Eggs",
          "Meats, Fish & Eggs",
          "Meats, Fish & Eggs",
          "Meats, Fish & Eggs",
          "Meats, Fish & Eggs",
          "Meats, Fish & Eggs",
          "Meats, Fish & Eggs",
          "Meats, Fish & Eggs",
          "Meats, Fish & Eggs",
          "Meats, Fish & Eggs",
          "Meats, Fish & Eggs",
          "Meats, Fish & Eggs",
          "Meats, Fish & Eggs",
          "Meats, Fish & Eggs",
          "Meats, Fish & Eggs",
          "Meats, Fish & Eggs",
          "Meats, Fish & Eggs",
          "Meats, Fish & Eggs",
          "Meats, Fish & Eggs",
          "Meats, Fish & Eggs",
          "Meats, Fish & Eggs",
          "Meats, Fish & Eggs",
          "Meats, Fish & Eggs",
          "Meats, Fish & Eggs",
          "Meats, Fish & Eggs",
          "Meats, Fish & Eggs",
          "Meats, Fish & Eggs",
          "Meats, Fish & Eggs"
         ],
         "xaxis": "x",
         "yaxis": "y",
         "type": "histogram"
        },
        {
         "bingroup": "x",
         "hovertemplate": "Category=%{x}<br>count=%{y}<extra></extra>",
         "legendgroup": "Biscuits",
         "marker": {
          "color": "#EDC949",
          "pattern": {
           "shape": ""
          }
         },
         "name": "Biscuits",
         "orientation": "v",
         "showlegend": true,
         "x": [
          "Biscuits",
          "Biscuits",
          "Biscuits",
          "Biscuits",
          "Biscuits",
          "Biscuits",
          "Biscuits",
          "Biscuits",
          "Biscuits",
          "Biscuits",
          "Biscuits",
          "Biscuits",
          "Biscuits",
          "Biscuits",
          "Biscuits",
          "Biscuits",
          "Biscuits",
          "Biscuits",
          "Biscuits",
          "Biscuits",
          "Biscuits",
          "Biscuits",
          "Biscuits",
          "Biscuits",
          "Biscuits",
          "Biscuits",
          "Biscuits",
          "Biscuits",
          "Biscuits",
          "Biscuits",
          "Biscuits",
          "Biscuits",
          "Biscuits",
          "Biscuits",
          "Biscuits",
          "Biscuits",
          "Biscuits",
          "Biscuits",
          "Biscuits",
          "Biscuits",
          "Biscuits",
          "Biscuits",
          "Biscuits",
          "Biscuits",
          "Biscuits",
          "Biscuits",
          "Biscuits",
          "Biscuits",
          "Biscuits",
          "Biscuits",
          "Biscuits",
          "Biscuits",
          "Biscuits",
          "Biscuits",
          "Biscuits",
          "Biscuits",
          "Biscuits",
          "Biscuits",
          "Biscuits",
          "Biscuits",
          "Biscuits",
          "Biscuits",
          "Biscuits",
          "Biscuits",
          "Biscuits",
          "Biscuits",
          "Biscuits",
          "Biscuits",
          "Biscuits",
          "Biscuits",
          "Biscuits",
          "Biscuits",
          "Biscuits",
          "Biscuits",
          "Biscuits",
          "Biscuits",
          "Biscuits",
          "Biscuits",
          "Biscuits",
          "Biscuits",
          "Biscuits",
          "Biscuits",
          "Biscuits",
          "Biscuits",
          "Biscuits",
          "Biscuits",
          "Biscuits",
          "Biscuits",
          "Biscuits",
          "Biscuits",
          "Biscuits",
          "Biscuits",
          "Biscuits",
          "Biscuits",
          "Biscuits",
          "Biscuits",
          "Biscuits",
          "Biscuits",
          "Biscuits",
          "Biscuits",
          "Biscuits",
          "Biscuits",
          "Biscuits",
          "Biscuits",
          "Biscuits",
          "Biscuits",
          "Biscuits",
          "Biscuits",
          "Biscuits",
          "Biscuits",
          "Biscuits",
          "Biscuits",
          "Biscuits",
          "Biscuits",
          "Biscuits",
          "Biscuits",
          "Biscuits",
          "Biscuits",
          "Biscuits",
          "Biscuits",
          "Biscuits",
          "Biscuits",
          "Biscuits",
          "Biscuits",
          "Biscuits",
          "Biscuits",
          "Biscuits",
          "Biscuits",
          "Biscuits",
          "Biscuits",
          "Biscuits",
          "Biscuits",
          "Biscuits"
         ],
         "xaxis": "x",
         "yaxis": "y",
         "type": "histogram"
        },
        {
         "bingroup": "x",
         "hovertemplate": "Category=%{x}<br>count=%{y}<extra></extra>",
         "legendgroup": "Personal Care",
         "marker": {
          "color": "#AF7AA1",
          "pattern": {
           "shape": ""
          }
         },
         "name": "Personal Care",
         "orientation": "v",
         "showlegend": true,
         "x": [
          "Personal Care",
          "Personal Care",
          "Personal Care",
          "Personal Care",
          "Personal Care",
          "Personal Care",
          "Personal Care",
          "Personal Care",
          "Personal Care",
          "Personal Care",
          "Personal Care",
          "Personal Care",
          "Personal Care",
          "Personal Care",
          "Personal Care",
          "Personal Care",
          "Personal Care",
          "Personal Care",
          "Personal Care",
          "Personal Care",
          "Personal Care",
          "Personal Care",
          "Personal Care",
          "Personal Care",
          "Personal Care",
          "Personal Care",
          "Personal Care",
          "Personal Care",
          "Personal Care",
          "Personal Care",
          "Personal Care",
          "Personal Care",
          "Personal Care",
          "Personal Care",
          "Personal Care",
          "Personal Care",
          "Personal Care",
          "Personal Care",
          "Personal Care",
          "Personal Care",
          "Personal Care",
          "Personal Care",
          "Personal Care",
          "Personal Care",
          "Personal Care",
          "Personal Care",
          "Personal Care",
          "Personal Care",
          "Personal Care",
          "Personal Care",
          "Personal Care",
          "Personal Care",
          "Personal Care",
          "Personal Care",
          "Personal Care",
          "Personal Care",
          "Personal Care",
          "Personal Care",
          "Personal Care",
          "Personal Care",
          "Personal Care",
          "Personal Care",
          "Personal Care",
          "Personal Care",
          "Personal Care",
          "Personal Care",
          "Personal Care",
          "Personal Care",
          "Personal Care",
          "Personal Care",
          "Personal Care",
          "Personal Care",
          "Personal Care",
          "Personal Care",
          "Personal Care",
          "Personal Care",
          "Personal Care",
          "Personal Care",
          "Personal Care",
          "Personal Care",
          "Personal Care",
          "Personal Care",
          "Personal Care",
          "Personal Care",
          "Personal Care",
          "Personal Care",
          "Personal Care",
          "Personal Care",
          "Personal Care",
          "Personal Care",
          "Personal Care",
          "Personal Care",
          "Personal Care",
          "Personal Care",
          "Personal Care",
          "Personal Care",
          "Personal Care",
          "Personal Care",
          "Personal Care",
          "Personal Care",
          "Personal Care",
          "Personal Care",
          "Personal Care",
          "Personal Care",
          "Personal Care",
          "Personal Care",
          "Personal Care",
          "Personal Care",
          "Personal Care",
          "Personal Care",
          "Personal Care",
          "Personal Care",
          "Personal Care",
          "Personal Care",
          "Personal Care",
          "Personal Care",
          "Personal Care",
          "Personal Care",
          "Personal Care",
          "Personal Care",
          "Personal Care",
          "Personal Care",
          "Personal Care",
          "Personal Care",
          "Personal Care",
          "Personal Care",
          "Personal Care",
          "Personal Care",
          "Personal Care",
          "Personal Care",
          "Personal Care",
          "Personal Care",
          "Personal Care",
          "Personal Care",
          "Personal Care",
          "Personal Care",
          "Personal Care",
          "Personal Care",
          "Personal Care",
          "Personal Care",
          "Personal Care",
          "Personal Care",
          "Personal Care",
          "Personal Care",
          "Personal Care",
          "Personal Care",
          "Personal Care",
          "Personal Care",
          "Personal Care",
          "Personal Care",
          "Personal Care",
          "Personal Care",
          "Personal Care",
          "Personal Care",
          "Personal Care",
          "Personal Care",
          "Personal Care",
          "Personal Care",
          "Personal Care",
          "Personal Care",
          "Personal Care",
          "Personal Care",
          "Personal Care",
          "Personal Care",
          "Personal Care",
          "Personal Care",
          "Personal Care",
          "Personal Care",
          "Personal Care",
          "Personal Care",
          "Personal Care",
          "Personal Care",
          "Personal Care",
          "Personal Care",
          "Personal Care",
          "Personal Care",
          "Personal Care",
          "Personal Care",
          "Personal Care",
          "Personal Care",
          "Personal Care",
          "Personal Care",
          "Personal Care",
          "Personal Care",
          "Personal Care",
          "Personal Care",
          "Personal Care",
          "Personal Care",
          "Personal Care",
          "Personal Care",
          "Personal Care",
          "Personal Care",
          "Personal Care",
          "Personal Care",
          "Personal Care",
          "Personal Care",
          "Personal Care",
          "Personal Care",
          "Personal Care",
          "Personal Care",
          "Personal Care",
          "Personal Care",
          "Personal Care",
          "Personal Care",
          "Personal Care",
          "Personal Care",
          "Personal Care",
          "Personal Care",
          "Personal Care",
          "Personal Care",
          "Personal Care",
          "Personal Care",
          "Personal Care",
          "Personal Care",
          "Personal Care",
          "Personal Care",
          "Personal Care",
          "Personal Care",
          "Personal Care",
          "Personal Care",
          "Personal Care",
          "Personal Care",
          "Personal Care",
          "Personal Care",
          "Personal Care",
          "Personal Care",
          "Personal Care",
          "Personal Care",
          "Personal Care",
          "Personal Care",
          "Personal Care",
          "Personal Care",
          "Personal Care",
          "Personal Care",
          "Personal Care",
          "Personal Care",
          "Personal Care",
          "Personal Care",
          "Personal Care",
          "Personal Care",
          "Personal Care",
          "Personal Care",
          "Personal Care",
          "Personal Care",
          "Personal Care",
          "Personal Care",
          "Personal Care",
          "Personal Care",
          "Personal Care",
          "Personal Care",
          "Personal Care",
          "Personal Care",
          "Personal Care",
          "Personal Care",
          "Personal Care",
          "Personal Care",
          "Personal Care",
          "Personal Care",
          "Personal Care",
          "Personal Care",
          "Personal Care",
          "Personal Care",
          "Personal Care",
          "Personal Care",
          "Personal Care",
          "Personal Care",
          "Personal Care",
          "Personal Care",
          "Personal Care",
          "Personal Care",
          "Personal Care",
          "Personal Care",
          "Personal Care",
          "Personal Care",
          "Personal Care",
          "Personal Care",
          "Personal Care",
          "Personal Care",
          "Personal Care",
          "Personal Care",
          "Personal Care",
          "Personal Care",
          "Personal Care",
          "Personal Care",
          "Personal Care",
          "Personal Care",
          "Personal Care",
          "Personal Care",
          "Personal Care",
          "Personal Care",
          "Personal Care",
          "Personal Care",
          "Personal Care",
          "Personal Care",
          "Personal Care",
          "Personal Care",
          "Personal Care",
          "Personal Care",
          "Personal Care",
          "Personal Care",
          "Personal Care",
          "Personal Care",
          "Personal Care",
          "Personal Care",
          "Personal Care",
          "Personal Care",
          "Personal Care",
          "Personal Care",
          "Personal Care",
          "Personal Care"
         ],
         "xaxis": "x",
         "yaxis": "y",
         "type": "histogram"
        },
        {
         "bingroup": "x",
         "hovertemplate": "Category=%{x}<br>count=%{y}<extra></extra>",
         "legendgroup": "Home & Cleaning",
         "marker": {
          "color": "#FF9DA7",
          "pattern": {
           "shape": ""
          }
         },
         "name": "Home & Cleaning",
         "orientation": "v",
         "showlegend": true,
         "x": [
          "Home & Cleaning",
          "Home & Cleaning",
          "Home & Cleaning",
          "Home & Cleaning",
          "Home & Cleaning",
          "Home & Cleaning",
          "Home & Cleaning",
          "Home & Cleaning",
          "Home & Cleaning",
          "Home & Cleaning",
          "Home & Cleaning",
          "Home & Cleaning",
          "Home & Cleaning",
          "Home & Cleaning",
          "Home & Cleaning",
          "Home & Cleaning",
          "Home & Cleaning",
          "Home & Cleaning",
          "Home & Cleaning",
          "Home & Cleaning",
          "Home & Cleaning",
          "Home & Cleaning",
          "Home & Cleaning",
          "Home & Cleaning",
          "Home & Cleaning",
          "Home & Cleaning",
          "Home & Cleaning",
          "Home & Cleaning",
          "Home & Cleaning",
          "Home & Cleaning",
          "Home & Cleaning",
          "Home & Cleaning",
          "Home & Cleaning",
          "Home & Cleaning",
          "Home & Cleaning",
          "Home & Cleaning",
          "Home & Cleaning",
          "Home & Cleaning",
          "Home & Cleaning",
          "Home & Cleaning",
          "Home & Cleaning",
          "Home & Cleaning",
          "Home & Cleaning",
          "Home & Cleaning",
          "Home & Cleaning",
          "Home & Cleaning",
          "Home & Cleaning",
          "Home & Cleaning",
          "Home & Cleaning",
          "Home & Cleaning",
          "Home & Cleaning",
          "Home & Cleaning",
          "Home & Cleaning",
          "Home & Cleaning",
          "Home & Cleaning",
          "Home & Cleaning",
          "Home & Cleaning",
          "Home & Cleaning",
          "Home & Cleaning",
          "Home & Cleaning",
          "Home & Cleaning",
          "Home & Cleaning",
          "Home & Cleaning",
          "Home & Cleaning",
          "Home & Cleaning",
          "Home & Cleaning",
          "Home & Cleaning",
          "Home & Cleaning",
          "Home & Cleaning",
          "Home & Cleaning",
          "Home & Cleaning",
          "Home & Cleaning",
          "Home & Cleaning",
          "Home & Cleaning",
          "Home & Cleaning",
          "Home & Cleaning",
          "Home & Cleaning",
          "Home & Cleaning",
          "Home & Cleaning",
          "Home & Cleaning",
          "Home & Cleaning",
          "Home & Cleaning",
          "Home & Cleaning",
          "Home & Cleaning",
          "Home & Cleaning",
          "Home & Cleaning",
          "Home & Cleaning",
          "Home & Cleaning",
          "Home & Cleaning",
          "Home & Cleaning",
          "Home & Cleaning",
          "Home & Cleaning",
          "Home & Cleaning",
          "Home & Cleaning",
          "Home & Cleaning",
          "Home & Cleaning",
          "Home & Cleaning",
          "Home & Cleaning",
          "Home & Cleaning",
          "Home & Cleaning",
          "Home & Cleaning",
          "Home & Cleaning",
          "Home & Cleaning",
          "Home & Cleaning",
          "Home & Cleaning",
          "Home & Cleaning",
          "Home & Cleaning",
          "Home & Cleaning",
          "Home & Cleaning",
          "Home & Cleaning",
          "Home & Cleaning",
          "Home & Cleaning",
          "Home & Cleaning",
          "Home & Cleaning",
          "Home & Cleaning",
          "Home & Cleaning",
          "Home & Cleaning",
          "Home & Cleaning",
          "Home & Cleaning",
          "Home & Cleaning",
          "Home & Cleaning",
          "Home & Cleaning",
          "Home & Cleaning",
          "Home & Cleaning",
          "Home & Cleaning",
          "Home & Cleaning",
          "Home & Cleaning",
          "Home & Cleaning",
          "Home & Cleaning",
          "Home & Cleaning",
          "Home & Cleaning",
          "Home & Cleaning",
          "Home & Cleaning",
          "Home & Cleaning",
          "Home & Cleaning",
          "Home & Cleaning",
          "Home & Cleaning",
          "Home & Cleaning",
          "Home & Cleaning",
          "Home & Cleaning",
          "Home & Cleaning",
          "Home & Cleaning",
          "Home & Cleaning",
          "Home & Cleaning",
          "Home & Cleaning",
          "Home & Cleaning",
          "Home & Cleaning",
          "Home & Cleaning",
          "Home & Cleaning",
          "Home & Cleaning",
          "Home & Cleaning",
          "Home & Cleaning",
          "Home & Cleaning",
          "Home & Cleaning",
          "Home & Cleaning",
          "Home & Cleaning",
          "Home & Cleaning",
          "Home & Cleaning",
          "Home & Cleaning",
          "Home & Cleaning",
          "Home & Cleaning",
          "Home & Cleaning",
          "Home & Cleaning",
          "Home & Cleaning",
          "Home & Cleaning",
          "Home & Cleaning",
          "Home & Cleaning",
          "Home & Cleaning",
          "Home & Cleaning",
          "Home & Cleaning",
          "Home & Cleaning",
          "Home & Cleaning",
          "Home & Cleaning",
          "Home & Cleaning",
          "Home & Cleaning",
          "Home & Cleaning",
          "Home & Cleaning",
          "Home & Cleaning",
          "Home & Cleaning",
          "Home & Cleaning",
          "Home & Cleaning",
          "Home & Cleaning",
          "Home & Cleaning",
          "Home & Cleaning",
          "Home & Cleaning"
         ],
         "xaxis": "x",
         "yaxis": "y",
         "type": "histogram"
        },
        {
         "bingroup": "x",
         "hovertemplate": "Category=%{x}<br>count=%{y}<extra></extra>",
         "legendgroup": "Health & Hygiene",
         "marker": {
          "color": "#9C755F",
          "pattern": {
           "shape": ""
          }
         },
         "name": "Health & Hygiene",
         "orientation": "v",
         "showlegend": true,
         "x": [
          "Health & Hygiene",
          "Health & Hygiene",
          "Health & Hygiene",
          "Health & Hygiene",
          "Health & Hygiene",
          "Health & Hygiene",
          "Health & Hygiene",
          "Health & Hygiene",
          "Health & Hygiene",
          "Health & Hygiene",
          "Health & Hygiene",
          "Health & Hygiene",
          "Health & Hygiene",
          "Health & Hygiene",
          "Health & Hygiene",
          "Health & Hygiene",
          "Health & Hygiene",
          "Health & Hygiene",
          "Health & Hygiene",
          "Health & Hygiene",
          "Health & Hygiene",
          "Health & Hygiene",
          "Health & Hygiene",
          "Health & Hygiene",
          "Health & Hygiene",
          "Health & Hygiene",
          "Health & Hygiene",
          "Health & Hygiene",
          "Health & Hygiene",
          "Health & Hygiene",
          "Health & Hygiene",
          "Health & Hygiene",
          "Health & Hygiene",
          "Health & Hygiene",
          "Health & Hygiene",
          "Health & Hygiene",
          "Health & Hygiene",
          "Health & Hygiene",
          "Health & Hygiene",
          "Health & Hygiene",
          "Health & Hygiene",
          "Health & Hygiene",
          "Health & Hygiene",
          "Health & Hygiene",
          "Health & Hygiene",
          "Health & Hygiene",
          "Health & Hygiene",
          "Health & Hygiene",
          "Health & Hygiene",
          "Health & Hygiene",
          "Health & Hygiene",
          "Health & Hygiene",
          "Health & Hygiene",
          "Health & Hygiene",
          "Health & Hygiene",
          "Health & Hygiene",
          "Health & Hygiene",
          "Health & Hygiene",
          "Health & Hygiene"
         ],
         "xaxis": "x",
         "yaxis": "y",
         "type": "histogram"
        }
       ],
       "layout": {
        "template": {
         "data": {
          "histogram2dcontour": [
           {
            "type": "histogram2dcontour",
            "colorbar": {
             "outlinewidth": 0,
             "ticks": ""
            },
            "colorscale": [
             [
              0.0,
              "#0d0887"
             ],
             [
              0.1111111111111111,
              "#46039f"
             ],
             [
              0.2222222222222222,
              "#7201a8"
             ],
             [
              0.3333333333333333,
              "#9c179e"
             ],
             [
              0.4444444444444444,
              "#bd3786"
             ],
             [
              0.5555555555555556,
              "#d8576b"
             ],
             [
              0.6666666666666666,
              "#ed7953"
             ],
             [
              0.7777777777777778,
              "#fb9f3a"
             ],
             [
              0.8888888888888888,
              "#fdca26"
             ],
             [
              1.0,
              "#f0f921"
             ]
            ]
           }
          ],
          "choropleth": [
           {
            "type": "choropleth",
            "colorbar": {
             "outlinewidth": 0,
             "ticks": ""
            }
           }
          ],
          "histogram2d": [
           {
            "type": "histogram2d",
            "colorbar": {
             "outlinewidth": 0,
             "ticks": ""
            },
            "colorscale": [
             [
              0.0,
              "#0d0887"
             ],
             [
              0.1111111111111111,
              "#46039f"
             ],
             [
              0.2222222222222222,
              "#7201a8"
             ],
             [
              0.3333333333333333,
              "#9c179e"
             ],
             [
              0.4444444444444444,
              "#bd3786"
             ],
             [
              0.5555555555555556,
              "#d8576b"
             ],
             [
              0.6666666666666666,
              "#ed7953"
             ],
             [
              0.7777777777777778,
              "#fb9f3a"
             ],
             [
              0.8888888888888888,
              "#fdca26"
             ],
             [
              1.0,
              "#f0f921"
             ]
            ]
           }
          ],
          "heatmap": [
           {
            "type": "heatmap",
            "colorbar": {
             "outlinewidth": 0,
             "ticks": ""
            },
            "colorscale": [
             [
              0.0,
              "#0d0887"
             ],
             [
              0.1111111111111111,
              "#46039f"
             ],
             [
              0.2222222222222222,
              "#7201a8"
             ],
             [
              0.3333333333333333,
              "#9c179e"
             ],
             [
              0.4444444444444444,
              "#bd3786"
             ],
             [
              0.5555555555555556,
              "#d8576b"
             ],
             [
              0.6666666666666666,
              "#ed7953"
             ],
             [
              0.7777777777777778,
              "#fb9f3a"
             ],
             [
              0.8888888888888888,
              "#fdca26"
             ],
             [
              1.0,
              "#f0f921"
             ]
            ]
           }
          ],
          "contourcarpet": [
           {
            "type": "contourcarpet",
            "colorbar": {
             "outlinewidth": 0,
             "ticks": ""
            }
           }
          ],
          "contour": [
           {
            "type": "contour",
            "colorbar": {
             "outlinewidth": 0,
             "ticks": ""
            },
            "colorscale": [
             [
              0.0,
              "#0d0887"
             ],
             [
              0.1111111111111111,
              "#46039f"
             ],
             [
              0.2222222222222222,
              "#7201a8"
             ],
             [
              0.3333333333333333,
              "#9c179e"
             ],
             [
              0.4444444444444444,
              "#bd3786"
             ],
             [
              0.5555555555555556,
              "#d8576b"
             ],
             [
              0.6666666666666666,
              "#ed7953"
             ],
             [
              0.7777777777777778,
              "#fb9f3a"
             ],
             [
              0.8888888888888888,
              "#fdca26"
             ],
             [
              1.0,
              "#f0f921"
             ]
            ]
           }
          ],
          "surface": [
           {
            "type": "surface",
            "colorbar": {
             "outlinewidth": 0,
             "ticks": ""
            },
            "colorscale": [
             [
              0.0,
              "#0d0887"
             ],
             [
              0.1111111111111111,
              "#46039f"
             ],
             [
              0.2222222222222222,
              "#7201a8"
             ],
             [
              0.3333333333333333,
              "#9c179e"
             ],
             [
              0.4444444444444444,
              "#bd3786"
             ],
             [
              0.5555555555555556,
              "#d8576b"
             ],
             [
              0.6666666666666666,
              "#ed7953"
             ],
             [
              0.7777777777777778,
              "#fb9f3a"
             ],
             [
              0.8888888888888888,
              "#fdca26"
             ],
             [
              1.0,
              "#f0f921"
             ]
            ]
           }
          ],
          "mesh3d": [
           {
            "type": "mesh3d",
            "colorbar": {
             "outlinewidth": 0,
             "ticks": ""
            }
           }
          ],
          "scatter": [
           {
            "marker": {
             "line": {
              "color": "#283442"
             }
            },
            "type": "scatter"
           }
          ],
          "parcoords": [
           {
            "type": "parcoords",
            "line": {
             "colorbar": {
              "outlinewidth": 0,
              "ticks": ""
             }
            }
           }
          ],
          "scatterpolargl": [
           {
            "type": "scatterpolargl",
            "marker": {
             "colorbar": {
              "outlinewidth": 0,
              "ticks": ""
             }
            }
           }
          ],
          "bar": [
           {
            "error_x": {
             "color": "#f2f5fa"
            },
            "error_y": {
             "color": "#f2f5fa"
            },
            "marker": {
             "line": {
              "color": "rgb(17,17,17)",
              "width": 0.5
             },
             "pattern": {
              "fillmode": "overlay",
              "size": 10,
              "solidity": 0.2
             }
            },
            "type": "bar"
           }
          ],
          "scattergeo": [
           {
            "type": "scattergeo",
            "marker": {
             "colorbar": {
              "outlinewidth": 0,
              "ticks": ""
             }
            }
           }
          ],
          "scatterpolar": [
           {
            "type": "scatterpolar",
            "marker": {
             "colorbar": {
              "outlinewidth": 0,
              "ticks": ""
             }
            }
           }
          ],
          "histogram": [
           {
            "marker": {
             "pattern": {
              "fillmode": "overlay",
              "size": 10,
              "solidity": 0.2
             }
            },
            "type": "histogram"
           }
          ],
          "scattergl": [
           {
            "marker": {
             "line": {
              "color": "#283442"
             }
            },
            "type": "scattergl"
           }
          ],
          "scatter3d": [
           {
            "type": "scatter3d",
            "line": {
             "colorbar": {
              "outlinewidth": 0,
              "ticks": ""
             }
            },
            "marker": {
             "colorbar": {
              "outlinewidth": 0,
              "ticks": ""
             }
            }
           }
          ],
          "scattermap": [
           {
            "type": "scattermap",
            "marker": {
             "colorbar": {
              "outlinewidth": 0,
              "ticks": ""
             }
            }
           }
          ],
          "scattermapbox": [
           {
            "type": "scattermapbox",
            "marker": {
             "colorbar": {
              "outlinewidth": 0,
              "ticks": ""
             }
            }
           }
          ],
          "scatterternary": [
           {
            "type": "scatterternary",
            "marker": {
             "colorbar": {
              "outlinewidth": 0,
              "ticks": ""
             }
            }
           }
          ],
          "scattercarpet": [
           {
            "type": "scattercarpet",
            "marker": {
             "colorbar": {
              "outlinewidth": 0,
              "ticks": ""
             }
            }
           }
          ],
          "carpet": [
           {
            "aaxis": {
             "endlinecolor": "#A2B1C6",
             "gridcolor": "#506784",
             "linecolor": "#506784",
             "minorgridcolor": "#506784",
             "startlinecolor": "#A2B1C6"
            },
            "baxis": {
             "endlinecolor": "#A2B1C6",
             "gridcolor": "#506784",
             "linecolor": "#506784",
             "minorgridcolor": "#506784",
             "startlinecolor": "#A2B1C6"
            },
            "type": "carpet"
           }
          ],
          "table": [
           {
            "cells": {
             "fill": {
              "color": "#506784"
             },
             "line": {
              "color": "rgb(17,17,17)"
             }
            },
            "header": {
             "fill": {
              "color": "#2a3f5f"
             },
             "line": {
              "color": "rgb(17,17,17)"
             }
            },
            "type": "table"
           }
          ],
          "barpolar": [
           {
            "marker": {
             "line": {
              "color": "rgb(17,17,17)",
              "width": 0.5
             },
             "pattern": {
              "fillmode": "overlay",
              "size": 10,
              "solidity": 0.2
             }
            },
            "type": "barpolar"
           }
          ],
          "pie": [
           {
            "automargin": true,
            "type": "pie"
           }
          ]
         },
         "layout": {
          "autotypenumbers": "strict",
          "colorway": [
           "#636efa",
           "#EF553B",
           "#00cc96",
           "#ab63fa",
           "#FFA15A",
           "#19d3f3",
           "#FF6692",
           "#B6E880",
           "#FF97FF",
           "#FECB52"
          ],
          "font": {
           "color": "#f2f5fa"
          },
          "hovermode": "closest",
          "hoverlabel": {
           "align": "left"
          },
          "paper_bgcolor": "rgb(17,17,17)",
          "plot_bgcolor": "rgb(17,17,17)",
          "polar": {
           "bgcolor": "rgb(17,17,17)",
           "angularaxis": {
            "gridcolor": "#506784",
            "linecolor": "#506784",
            "ticks": ""
           },
           "radialaxis": {
            "gridcolor": "#506784",
            "linecolor": "#506784",
            "ticks": ""
           }
          },
          "ternary": {
           "bgcolor": "rgb(17,17,17)",
           "aaxis": {
            "gridcolor": "#506784",
            "linecolor": "#506784",
            "ticks": ""
           },
           "baxis": {
            "gridcolor": "#506784",
            "linecolor": "#506784",
            "ticks": ""
           },
           "caxis": {
            "gridcolor": "#506784",
            "linecolor": "#506784",
            "ticks": ""
           }
          },
          "coloraxis": {
           "colorbar": {
            "outlinewidth": 0,
            "ticks": ""
           }
          },
          "colorscale": {
           "sequential": [
            [
             0.0,
             "#0d0887"
            ],
            [
             0.1111111111111111,
             "#46039f"
            ],
            [
             0.2222222222222222,
             "#7201a8"
            ],
            [
             0.3333333333333333,
             "#9c179e"
            ],
            [
             0.4444444444444444,
             "#bd3786"
            ],
            [
             0.5555555555555556,
             "#d8576b"
            ],
            [
             0.6666666666666666,
             "#ed7953"
            ],
            [
             0.7777777777777778,
             "#fb9f3a"
            ],
            [
             0.8888888888888888,
             "#fdca26"
            ],
            [
             1.0,
             "#f0f921"
            ]
           ],
           "sequentialminus": [
            [
             0.0,
             "#0d0887"
            ],
            [
             0.1111111111111111,
             "#46039f"
            ],
            [
             0.2222222222222222,
             "#7201a8"
            ],
            [
             0.3333333333333333,
             "#9c179e"
            ],
            [
             0.4444444444444444,
             "#bd3786"
            ],
            [
             0.5555555555555556,
             "#d8576b"
            ],
            [
             0.6666666666666666,
             "#ed7953"
            ],
            [
             0.7777777777777778,
             "#fb9f3a"
            ],
            [
             0.8888888888888888,
             "#fdca26"
            ],
            [
             1.0,
             "#f0f921"
            ]
           ],
           "diverging": [
            [
             0,
             "#8e0152"
            ],
            [
             0.1,
             "#c51b7d"
            ],
            [
             0.2,
             "#de77ae"
            ],
            [
             0.3,
             "#f1b6da"
            ],
            [
             0.4,
             "#fde0ef"
            ],
            [
             0.5,
             "#f7f7f7"
            ],
            [
             0.6,
             "#e6f5d0"
            ],
            [
             0.7,
             "#b8e186"
            ],
            [
             0.8,
             "#7fbc41"
            ],
            [
             0.9,
             "#4d9221"
            ],
            [
             1,
             "#276419"
            ]
           ]
          },
          "xaxis": {
           "gridcolor": "#283442",
           "linecolor": "#506784",
           "ticks": "",
           "title": {
            "standoff": 15
           },
           "zerolinecolor": "#283442",
           "automargin": true,
           "zerolinewidth": 2
          },
          "yaxis": {
           "gridcolor": "#283442",
           "linecolor": "#506784",
           "ticks": "",
           "title": {
            "standoff": 15
           },
           "zerolinecolor": "#283442",
           "automargin": true,
           "zerolinewidth": 2
          },
          "scene": {
           "xaxis": {
            "backgroundcolor": "rgb(17,17,17)",
            "gridcolor": "#506784",
            "linecolor": "#506784",
            "showbackground": true,
            "ticks": "",
            "zerolinecolor": "#C8D4E3",
            "gridwidth": 2
           },
           "yaxis": {
            "backgroundcolor": "rgb(17,17,17)",
            "gridcolor": "#506784",
            "linecolor": "#506784",
            "showbackground": true,
            "ticks": "",
            "zerolinecolor": "#C8D4E3",
            "gridwidth": 2
           },
           "zaxis": {
            "backgroundcolor": "rgb(17,17,17)",
            "gridcolor": "#506784",
            "linecolor": "#506784",
            "showbackground": true,
            "ticks": "",
            "zerolinecolor": "#C8D4E3",
            "gridwidth": 2
           }
          },
          "shapedefaults": {
           "line": {
            "color": "#f2f5fa"
           }
          },
          "annotationdefaults": {
           "arrowcolor": "#f2f5fa",
           "arrowhead": 0,
           "arrowwidth": 1
          },
          "geo": {
           "bgcolor": "rgb(17,17,17)",
           "landcolor": "rgb(17,17,17)",
           "subunitcolor": "#506784",
           "showland": true,
           "showlakes": true,
           "lakecolor": "rgb(17,17,17)"
          },
          "title": {
           "x": 0.05
          },
          "updatemenudefaults": {
           "bgcolor": "#506784",
           "borderwidth": 0
          },
          "sliderdefaults": {
           "bgcolor": "#C8D4E3",
           "borderwidth": 1,
           "bordercolor": "rgb(17,17,17)",
           "tickwidth": 0
          },
          "mapbox": {
           "style": "dark"
          }
         }
        },
        "xaxis": {
         "anchor": "y",
         "domain": [
          0.0,
          1.0
         ],
         "title": {
          "text": "Category"
         },
         "categoryorder": "array",
         "categoryarray": [
          "Fruits & Vegetables",
          "Cooking Essentials",
          "Dairy, Bread & Batter",
          "Packaged Food",
          "Meats, Fish & Eggs",
          "Biscuits",
          "Personal Care",
          "Home & Cleaning",
          "Health & Hygiene"
         ]
        },
        "yaxis": {
         "anchor": "x",
         "domain": [
          0.0,
          1.0
         ],
         "title": {
          "text": "count"
         }
        },
        "legend": {
         "title": {
          "text": "Category"
         },
         "tracegroupgap": 0
        },
        "margin": {
         "t": 60
        },
        "barmode": "relative",
        "height": 750
       },
       "config": {
        "plotlyServerURL": "https://plot.ly"
       }
      }
     },
     "metadata": {},
     "output_type": "display_data"
    }
   ],
   "execution_count": 7
  },
  {
   "metadata": {},
   "cell_type": "markdown",
   "source": [
    "### Pie Chart Representation of OUT OF STOCK\n",
    "#### This has been done for each category as it gives a clear direction as to which category has the highest out of stock ratio to another and helps the user understand whether an item from that category will be later available or not\n",
    "#### Highest percent - Biscuits (maybe due to higher consumption)\n",
    "#### Lowest percent - Fruits and Vegetables (maybe due to lower consumption OR higher customer demands)\n"
   ],
   "id": "1a79ac4298f783ec"
  },
  {
   "metadata": {
    "ExecuteTime": {
     "end_time": "2025-06-11T06:59:26.860794Z",
     "start_time": "2025-06-11T06:59:26.747381Z"
    }
   },
   "cell_type": "code",
   "source": [
    "uniqueCategories = dfN['Category'].unique()\n",
    "n, m = 1, 1\n",
    "colorPie = ['#ff6361','#ffa600']\n",
    "subFig1 = mks(rows=1, cols=5, specs=[[{\"type\": \"pie\"}, {\"type\": \"pie\"}, {\"type\": \"pie\"}, {\"type\": \"pie\"}, {\"type\": \"pie\"}]])\n",
    "subFig2 = mks(rows=1, cols=4, specs=[[{\"type\": \"pie\"}, {\"type\": \"pie\"}, {\"type\": \"pie\"}, {\"type\": \"pie\"}]])\n",
    "\n",
    "# for value in uniqueCategories:\n",
    "print(f'The Probability of being out of stock for  is : ')\n",
    "for value in uniqueCategories:\n",
    "\n",
    "    if n<=5:\n",
    "        dfTemp = dfN[dfN['Category'] == f'{value}']\n",
    "        # figPie = px.pie(dfTemp, names='outOfStock', color ='outOfStock', color_discrete_sequence=colors[n:n+2], template='plotly_dark', width=500, title=f'{value}')\n",
    "        countBool = dfTemp['outOfStock'].value_counts().tolist()\n",
    "\n",
    "        subFig1.add_trace(\n",
    "            go.Pie(values=countBool, labels=['True', 'False'], title=f'{value}'),\n",
    "            row=1, col=n).update_traces(hoverinfo='label+value', textinfo='percent', marker=dict(colors=colorPie))\n",
    "        n+=1\n",
    "        probs = round(((countBool[1]/countBool[0])*100), 5)\n",
    "        cons.print(f'{value:<25} : {probs:<1} %')\n",
    "    else:\n",
    "        dfTemp = dfN[dfN['Category'] == f'{value}']\n",
    "        countBool = dfTemp['outOfStock'].value_counts().tolist()\n",
    "        probs = round(((countBool[1]/countBool[0])*100), 5)\n",
    "        cons.print(f'{value:<25} : {probs:<1} %')\n",
    "        subFig2.add_trace(\n",
    "            go.Pie(values=countBool, labels=['True', 'False'], title=f'{value}'),\n",
    "            row=1, col=m).update_traces(hoverinfo='label+value', textinfo='percent', marker=dict(colors=colorPie))\n",
    "        m+=1\n",
    "subFig1.show()\n",
    "subFig2.show()\n",
    "\n",
    "# f.show()"
   ],
   "id": "4e5af012ca7ac2d0",
   "outputs": [
    {
     "name": "stdout",
     "output_type": "stream",
     "text": [
      "The Probability of being out of stock for  is : \n"
     ]
    },
    {
     "data": {
      "text/plain": [
       "Fruits & Vegetables       : \u001B[1;36m4.70588\u001B[0m %\n"
      ],
      "text/html": [
       "<pre style=\"white-space:pre;overflow-x:auto;line-height:normal;font-family:Menlo,'DejaVu Sans Mono',consolas,'Courier New',monospace\">Fruits &amp; Vegetables       : <span style=\"color: #008080; text-decoration-color: #008080; font-weight: bold\">4.70588</span> %\n",
       "</pre>\n"
      ]
     },
     "metadata": {},
     "output_type": "display_data"
    },
    {
     "data": {
      "text/plain": [
       "Cooking Essentials        : \u001B[1;36m13.80952\u001B[0m %\n"
      ],
      "text/html": [
       "<pre style=\"white-space:pre;overflow-x:auto;line-height:normal;font-family:Menlo,'DejaVu Sans Mono',consolas,'Courier New',monospace\">Cooking Essentials        : <span style=\"color: #008080; text-decoration-color: #008080; font-weight: bold\">13.80952</span> %\n",
       "</pre>\n"
      ]
     },
     "metadata": {},
     "output_type": "display_data"
    },
    {
     "data": {
      "text/plain": [
       "Dairy, Bread & Batter     : \u001B[1;36m30.12048\u001B[0m %\n"
      ],
      "text/html": [
       "<pre style=\"white-space:pre;overflow-x:auto;line-height:normal;font-family:Menlo,'DejaVu Sans Mono',consolas,'Courier New',monospace\">Dairy, Bread &amp; Batter     : <span style=\"color: #008080; text-decoration-color: #008080; font-weight: bold\">30.12048</span> %\n",
       "</pre>\n"
      ]
     },
     "metadata": {},
     "output_type": "display_data"
    },
    {
     "data": {
      "text/plain": [
       "Packaged Food             : \u001B[1;36m9.96169\u001B[0m %\n"
      ],
      "text/html": [
       "<pre style=\"white-space:pre;overflow-x:auto;line-height:normal;font-family:Menlo,'DejaVu Sans Mono',consolas,'Courier New',monospace\">Packaged Food             : <span style=\"color: #008080; text-decoration-color: #008080; font-weight: bold\">9.96169</span> %\n",
       "</pre>\n"
      ]
     },
     "metadata": {},
     "output_type": "display_data"
    },
    {
     "data": {
      "text/plain": [
       "Meats, Fish & Eggs        : \u001B[1;36m28.0\u001B[0m %\n"
      ],
      "text/html": [
       "<pre style=\"white-space:pre;overflow-x:auto;line-height:normal;font-family:Menlo,'DejaVu Sans Mono',consolas,'Courier New',monospace\">Meats, Fish &amp; Eggs        : <span style=\"color: #008080; text-decoration-color: #008080; font-weight: bold\">28.0</span> %\n",
       "</pre>\n"
      ]
     },
     "metadata": {},
     "output_type": "display_data"
    },
    {
     "data": {
      "text/plain": [
       "Biscuits                  : \u001B[1;36m35.71429\u001B[0m %\n"
      ],
      "text/html": [
       "<pre style=\"white-space:pre;overflow-x:auto;line-height:normal;font-family:Menlo,'DejaVu Sans Mono',consolas,'Courier New',monospace\">Biscuits                  : <span style=\"color: #008080; text-decoration-color: #008080; font-weight: bold\">35.71429</span> %\n",
       "</pre>\n"
      ]
     },
     "metadata": {},
     "output_type": "display_data"
    },
    {
     "data": {
      "text/plain": [
       "Personal Care             : \u001B[1;36m6.16438\u001B[0m %\n"
      ],
      "text/html": [
       "<pre style=\"white-space:pre;overflow-x:auto;line-height:normal;font-family:Menlo,'DejaVu Sans Mono',consolas,'Courier New',monospace\">Personal Care             : <span style=\"color: #008080; text-decoration-color: #008080; font-weight: bold\">6.16438</span> %\n",
       "</pre>\n"
      ]
     },
     "metadata": {},
     "output_type": "display_data"
    },
    {
     "data": {
      "text/plain": [
       "Home & Cleaning           : \u001B[1;36m9.46746\u001B[0m %\n"
      ],
      "text/html": [
       "<pre style=\"white-space:pre;overflow-x:auto;line-height:normal;font-family:Menlo,'DejaVu Sans Mono',consolas,'Courier New',monospace\">Home &amp; Cleaning           : <span style=\"color: #008080; text-decoration-color: #008080; font-weight: bold\">9.46746</span> %\n",
       "</pre>\n"
      ]
     },
     "metadata": {},
     "output_type": "display_data"
    },
    {
     "data": {
      "text/plain": [
       "Health & Hygiene          : \u001B[1;36m5.35714\u001B[0m %\n"
      ],
      "text/html": [
       "<pre style=\"white-space:pre;overflow-x:auto;line-height:normal;font-family:Menlo,'DejaVu Sans Mono',consolas,'Courier New',monospace\">Health &amp; Hygiene          : <span style=\"color: #008080; text-decoration-color: #008080; font-weight: bold\">5.35714</span> %\n",
       "</pre>\n"
      ]
     },
     "metadata": {},
     "output_type": "display_data"
    },
    {
     "data": {
      "application/vnd.plotly.v1+json": {
       "data": [
        {
         "labels": [
          "True",
          "False"
         ],
         "title": {
          "text": "Fruits & Vegetables"
         },
         "values": [
          85,
          4
         ],
         "type": "pie",
         "domain": {
          "x": [
           0.0,
           0.16799999999999998
          ],
          "y": [
           0.0,
           1.0
          ]
         },
         "marker": {
          "colors": [
           "#ff6361",
           "#ffa600"
          ]
         },
         "hoverinfo": "label+value",
         "textinfo": "percent"
        },
        {
         "labels": [
          "True",
          "False"
         ],
         "title": {
          "text": "Cooking Essentials"
         },
         "values": [
          420,
          58
         ],
         "type": "pie",
         "domain": {
          "x": [
           0.208,
           0.376
          ],
          "y": [
           0.0,
           1.0
          ]
         },
         "marker": {
          "colors": [
           "#ff6361",
           "#ffa600"
          ]
         },
         "hoverinfo": "label+value",
         "textinfo": "percent"
        },
        {
         "labels": [
          "True",
          "False"
         ],
         "title": {
          "text": "Dairy, Bread & Batter"
         },
         "values": [
          83,
          25
         ],
         "type": "pie",
         "domain": {
          "x": [
           0.416,
           0.584
          ],
          "y": [
           0.0,
           1.0
          ]
         },
         "marker": {
          "colors": [
           "#ff6361",
           "#ffa600"
          ]
         },
         "hoverinfo": "label+value",
         "textinfo": "percent"
        },
        {
         "labels": [
          "True",
          "False"
         ],
         "title": {
          "text": "Packaged Food"
         },
         "values": [
          261,
          26
         ],
         "type": "pie",
         "domain": {
          "x": [
           0.624,
           0.792
          ],
          "y": [
           0.0,
           1.0
          ]
         },
         "marker": {
          "colors": [
           "#ff6361",
           "#ffa600"
          ]
         },
         "hoverinfo": "label+value",
         "textinfo": "percent"
        },
        {
         "labels": [
          "True",
          "False"
         ],
         "title": {
          "text": "Meats, Fish & Eggs"
         },
         "values": [
          25,
          7
         ],
         "type": "pie",
         "domain": {
          "x": [
           0.832,
           1.0
          ],
          "y": [
           0.0,
           1.0
          ]
         },
         "marker": {
          "colors": [
           "#ff6361",
           "#ffa600"
          ]
         },
         "hoverinfo": "label+value",
         "textinfo": "percent"
        }
       ],
       "layout": {
        "template": {
         "data": {
          "histogram2dcontour": [
           {
            "type": "histogram2dcontour",
            "colorbar": {
             "outlinewidth": 0,
             "ticks": ""
            },
            "colorscale": [
             [
              0.0,
              "#0d0887"
             ],
             [
              0.1111111111111111,
              "#46039f"
             ],
             [
              0.2222222222222222,
              "#7201a8"
             ],
             [
              0.3333333333333333,
              "#9c179e"
             ],
             [
              0.4444444444444444,
              "#bd3786"
             ],
             [
              0.5555555555555556,
              "#d8576b"
             ],
             [
              0.6666666666666666,
              "#ed7953"
             ],
             [
              0.7777777777777778,
              "#fb9f3a"
             ],
             [
              0.8888888888888888,
              "#fdca26"
             ],
             [
              1.0,
              "#f0f921"
             ]
            ]
           }
          ],
          "choropleth": [
           {
            "type": "choropleth",
            "colorbar": {
             "outlinewidth": 0,
             "ticks": ""
            }
           }
          ],
          "histogram2d": [
           {
            "type": "histogram2d",
            "colorbar": {
             "outlinewidth": 0,
             "ticks": ""
            },
            "colorscale": [
             [
              0.0,
              "#0d0887"
             ],
             [
              0.1111111111111111,
              "#46039f"
             ],
             [
              0.2222222222222222,
              "#7201a8"
             ],
             [
              0.3333333333333333,
              "#9c179e"
             ],
             [
              0.4444444444444444,
              "#bd3786"
             ],
             [
              0.5555555555555556,
              "#d8576b"
             ],
             [
              0.6666666666666666,
              "#ed7953"
             ],
             [
              0.7777777777777778,
              "#fb9f3a"
             ],
             [
              0.8888888888888888,
              "#fdca26"
             ],
             [
              1.0,
              "#f0f921"
             ]
            ]
           }
          ],
          "heatmap": [
           {
            "type": "heatmap",
            "colorbar": {
             "outlinewidth": 0,
             "ticks": ""
            },
            "colorscale": [
             [
              0.0,
              "#0d0887"
             ],
             [
              0.1111111111111111,
              "#46039f"
             ],
             [
              0.2222222222222222,
              "#7201a8"
             ],
             [
              0.3333333333333333,
              "#9c179e"
             ],
             [
              0.4444444444444444,
              "#bd3786"
             ],
             [
              0.5555555555555556,
              "#d8576b"
             ],
             [
              0.6666666666666666,
              "#ed7953"
             ],
             [
              0.7777777777777778,
              "#fb9f3a"
             ],
             [
              0.8888888888888888,
              "#fdca26"
             ],
             [
              1.0,
              "#f0f921"
             ]
            ]
           }
          ],
          "contourcarpet": [
           {
            "type": "contourcarpet",
            "colorbar": {
             "outlinewidth": 0,
             "ticks": ""
            }
           }
          ],
          "contour": [
           {
            "type": "contour",
            "colorbar": {
             "outlinewidth": 0,
             "ticks": ""
            },
            "colorscale": [
             [
              0.0,
              "#0d0887"
             ],
             [
              0.1111111111111111,
              "#46039f"
             ],
             [
              0.2222222222222222,
              "#7201a8"
             ],
             [
              0.3333333333333333,
              "#9c179e"
             ],
             [
              0.4444444444444444,
              "#bd3786"
             ],
             [
              0.5555555555555556,
              "#d8576b"
             ],
             [
              0.6666666666666666,
              "#ed7953"
             ],
             [
              0.7777777777777778,
              "#fb9f3a"
             ],
             [
              0.8888888888888888,
              "#fdca26"
             ],
             [
              1.0,
              "#f0f921"
             ]
            ]
           }
          ],
          "surface": [
           {
            "type": "surface",
            "colorbar": {
             "outlinewidth": 0,
             "ticks": ""
            },
            "colorscale": [
             [
              0.0,
              "#0d0887"
             ],
             [
              0.1111111111111111,
              "#46039f"
             ],
             [
              0.2222222222222222,
              "#7201a8"
             ],
             [
              0.3333333333333333,
              "#9c179e"
             ],
             [
              0.4444444444444444,
              "#bd3786"
             ],
             [
              0.5555555555555556,
              "#d8576b"
             ],
             [
              0.6666666666666666,
              "#ed7953"
             ],
             [
              0.7777777777777778,
              "#fb9f3a"
             ],
             [
              0.8888888888888888,
              "#fdca26"
             ],
             [
              1.0,
              "#f0f921"
             ]
            ]
           }
          ],
          "mesh3d": [
           {
            "type": "mesh3d",
            "colorbar": {
             "outlinewidth": 0,
             "ticks": ""
            }
           }
          ],
          "scatter": [
           {
            "marker": {
             "line": {
              "color": "#283442"
             }
            },
            "type": "scatter"
           }
          ],
          "parcoords": [
           {
            "type": "parcoords",
            "line": {
             "colorbar": {
              "outlinewidth": 0,
              "ticks": ""
             }
            }
           }
          ],
          "scatterpolargl": [
           {
            "type": "scatterpolargl",
            "marker": {
             "colorbar": {
              "outlinewidth": 0,
              "ticks": ""
             }
            }
           }
          ],
          "bar": [
           {
            "error_x": {
             "color": "#f2f5fa"
            },
            "error_y": {
             "color": "#f2f5fa"
            },
            "marker": {
             "line": {
              "color": "rgb(17,17,17)",
              "width": 0.5
             },
             "pattern": {
              "fillmode": "overlay",
              "size": 10,
              "solidity": 0.2
             }
            },
            "type": "bar"
           }
          ],
          "scattergeo": [
           {
            "type": "scattergeo",
            "marker": {
             "colorbar": {
              "outlinewidth": 0,
              "ticks": ""
             }
            }
           }
          ],
          "scatterpolar": [
           {
            "type": "scatterpolar",
            "marker": {
             "colorbar": {
              "outlinewidth": 0,
              "ticks": ""
             }
            }
           }
          ],
          "histogram": [
           {
            "marker": {
             "pattern": {
              "fillmode": "overlay",
              "size": 10,
              "solidity": 0.2
             }
            },
            "type": "histogram"
           }
          ],
          "scattergl": [
           {
            "marker": {
             "line": {
              "color": "#283442"
             }
            },
            "type": "scattergl"
           }
          ],
          "scatter3d": [
           {
            "type": "scatter3d",
            "line": {
             "colorbar": {
              "outlinewidth": 0,
              "ticks": ""
             }
            },
            "marker": {
             "colorbar": {
              "outlinewidth": 0,
              "ticks": ""
             }
            }
           }
          ],
          "scattermap": [
           {
            "type": "scattermap",
            "marker": {
             "colorbar": {
              "outlinewidth": 0,
              "ticks": ""
             }
            }
           }
          ],
          "scattermapbox": [
           {
            "type": "scattermapbox",
            "marker": {
             "colorbar": {
              "outlinewidth": 0,
              "ticks": ""
             }
            }
           }
          ],
          "scatterternary": [
           {
            "type": "scatterternary",
            "marker": {
             "colorbar": {
              "outlinewidth": 0,
              "ticks": ""
             }
            }
           }
          ],
          "scattercarpet": [
           {
            "type": "scattercarpet",
            "marker": {
             "colorbar": {
              "outlinewidth": 0,
              "ticks": ""
             }
            }
           }
          ],
          "carpet": [
           {
            "aaxis": {
             "endlinecolor": "#A2B1C6",
             "gridcolor": "#506784",
             "linecolor": "#506784",
             "minorgridcolor": "#506784",
             "startlinecolor": "#A2B1C6"
            },
            "baxis": {
             "endlinecolor": "#A2B1C6",
             "gridcolor": "#506784",
             "linecolor": "#506784",
             "minorgridcolor": "#506784",
             "startlinecolor": "#A2B1C6"
            },
            "type": "carpet"
           }
          ],
          "table": [
           {
            "cells": {
             "fill": {
              "color": "#506784"
             },
             "line": {
              "color": "rgb(17,17,17)"
             }
            },
            "header": {
             "fill": {
              "color": "#2a3f5f"
             },
             "line": {
              "color": "rgb(17,17,17)"
             }
            },
            "type": "table"
           }
          ],
          "barpolar": [
           {
            "marker": {
             "line": {
              "color": "rgb(17,17,17)",
              "width": 0.5
             },
             "pattern": {
              "fillmode": "overlay",
              "size": 10,
              "solidity": 0.2
             }
            },
            "type": "barpolar"
           }
          ],
          "pie": [
           {
            "automargin": true,
            "type": "pie"
           }
          ]
         },
         "layout": {
          "autotypenumbers": "strict",
          "colorway": [
           "#636efa",
           "#EF553B",
           "#00cc96",
           "#ab63fa",
           "#FFA15A",
           "#19d3f3",
           "#FF6692",
           "#B6E880",
           "#FF97FF",
           "#FECB52"
          ],
          "font": {
           "color": "#f2f5fa"
          },
          "hovermode": "closest",
          "hoverlabel": {
           "align": "left"
          },
          "paper_bgcolor": "rgb(17,17,17)",
          "plot_bgcolor": "rgb(17,17,17)",
          "polar": {
           "bgcolor": "rgb(17,17,17)",
           "angularaxis": {
            "gridcolor": "#506784",
            "linecolor": "#506784",
            "ticks": ""
           },
           "radialaxis": {
            "gridcolor": "#506784",
            "linecolor": "#506784",
            "ticks": ""
           }
          },
          "ternary": {
           "bgcolor": "rgb(17,17,17)",
           "aaxis": {
            "gridcolor": "#506784",
            "linecolor": "#506784",
            "ticks": ""
           },
           "baxis": {
            "gridcolor": "#506784",
            "linecolor": "#506784",
            "ticks": ""
           },
           "caxis": {
            "gridcolor": "#506784",
            "linecolor": "#506784",
            "ticks": ""
           }
          },
          "coloraxis": {
           "colorbar": {
            "outlinewidth": 0,
            "ticks": ""
           }
          },
          "colorscale": {
           "sequential": [
            [
             0.0,
             "#0d0887"
            ],
            [
             0.1111111111111111,
             "#46039f"
            ],
            [
             0.2222222222222222,
             "#7201a8"
            ],
            [
             0.3333333333333333,
             "#9c179e"
            ],
            [
             0.4444444444444444,
             "#bd3786"
            ],
            [
             0.5555555555555556,
             "#d8576b"
            ],
            [
             0.6666666666666666,
             "#ed7953"
            ],
            [
             0.7777777777777778,
             "#fb9f3a"
            ],
            [
             0.8888888888888888,
             "#fdca26"
            ],
            [
             1.0,
             "#f0f921"
            ]
           ],
           "sequentialminus": [
            [
             0.0,
             "#0d0887"
            ],
            [
             0.1111111111111111,
             "#46039f"
            ],
            [
             0.2222222222222222,
             "#7201a8"
            ],
            [
             0.3333333333333333,
             "#9c179e"
            ],
            [
             0.4444444444444444,
             "#bd3786"
            ],
            [
             0.5555555555555556,
             "#d8576b"
            ],
            [
             0.6666666666666666,
             "#ed7953"
            ],
            [
             0.7777777777777778,
             "#fb9f3a"
            ],
            [
             0.8888888888888888,
             "#fdca26"
            ],
            [
             1.0,
             "#f0f921"
            ]
           ],
           "diverging": [
            [
             0,
             "#8e0152"
            ],
            [
             0.1,
             "#c51b7d"
            ],
            [
             0.2,
             "#de77ae"
            ],
            [
             0.3,
             "#f1b6da"
            ],
            [
             0.4,
             "#fde0ef"
            ],
            [
             0.5,
             "#f7f7f7"
            ],
            [
             0.6,
             "#e6f5d0"
            ],
            [
             0.7,
             "#b8e186"
            ],
            [
             0.8,
             "#7fbc41"
            ],
            [
             0.9,
             "#4d9221"
            ],
            [
             1,
             "#276419"
            ]
           ]
          },
          "xaxis": {
           "gridcolor": "#283442",
           "linecolor": "#506784",
           "ticks": "",
           "title": {
            "standoff": 15
           },
           "zerolinecolor": "#283442",
           "automargin": true,
           "zerolinewidth": 2
          },
          "yaxis": {
           "gridcolor": "#283442",
           "linecolor": "#506784",
           "ticks": "",
           "title": {
            "standoff": 15
           },
           "zerolinecolor": "#283442",
           "automargin": true,
           "zerolinewidth": 2
          },
          "scene": {
           "xaxis": {
            "backgroundcolor": "rgb(17,17,17)",
            "gridcolor": "#506784",
            "linecolor": "#506784",
            "showbackground": true,
            "ticks": "",
            "zerolinecolor": "#C8D4E3",
            "gridwidth": 2
           },
           "yaxis": {
            "backgroundcolor": "rgb(17,17,17)",
            "gridcolor": "#506784",
            "linecolor": "#506784",
            "showbackground": true,
            "ticks": "",
            "zerolinecolor": "#C8D4E3",
            "gridwidth": 2
           },
           "zaxis": {
            "backgroundcolor": "rgb(17,17,17)",
            "gridcolor": "#506784",
            "linecolor": "#506784",
            "showbackground": true,
            "ticks": "",
            "zerolinecolor": "#C8D4E3",
            "gridwidth": 2
           }
          },
          "shapedefaults": {
           "line": {
            "color": "#f2f5fa"
           }
          },
          "annotationdefaults": {
           "arrowcolor": "#f2f5fa",
           "arrowhead": 0,
           "arrowwidth": 1
          },
          "geo": {
           "bgcolor": "rgb(17,17,17)",
           "landcolor": "rgb(17,17,17)",
           "subunitcolor": "#506784",
           "showland": true,
           "showlakes": true,
           "lakecolor": "rgb(17,17,17)"
          },
          "title": {
           "x": 0.05
          },
          "updatemenudefaults": {
           "bgcolor": "#506784",
           "borderwidth": 0
          },
          "sliderdefaults": {
           "bgcolor": "#C8D4E3",
           "borderwidth": 1,
           "bordercolor": "rgb(17,17,17)",
           "tickwidth": 0
          },
          "mapbox": {
           "style": "dark"
          }
         }
        }
       },
       "config": {
        "plotlyServerURL": "https://plot.ly"
       }
      }
     },
     "metadata": {},
     "output_type": "display_data"
    },
    {
     "data": {
      "application/vnd.plotly.v1+json": {
       "data": [
        {
         "labels": [
          "True",
          "False"
         ],
         "title": {
          "text": "Biscuits"
         },
         "values": [
          98,
          35
         ],
         "type": "pie",
         "domain": {
          "x": [
           0.0,
           0.2125
          ],
          "y": [
           0.0,
           1.0
          ]
         },
         "marker": {
          "colors": [
           "#ff6361",
           "#ffa600"
          ]
         },
         "hoverinfo": "label+value",
         "textinfo": "percent"
        },
        {
         "labels": [
          "True",
          "False"
         ],
         "title": {
          "text": "Personal Care"
         },
         "values": [
          292,
          18
         ],
         "type": "pie",
         "domain": {
          "x": [
           0.2625,
           0.475
          ],
          "y": [
           0.0,
           1.0
          ]
         },
         "marker": {
          "colors": [
           "#ff6361",
           "#ffa600"
          ]
         },
         "hoverinfo": "label+value",
         "textinfo": "percent"
        },
        {
         "labels": [
          "True",
          "False"
         ],
         "title": {
          "text": "Home & Cleaning"
         },
         "values": [
          169,
          16
         ],
         "type": "pie",
         "domain": {
          "x": [
           0.525,
           0.7375
          ],
          "y": [
           0.0,
           1.0
          ]
         },
         "marker": {
          "colors": [
           "#ff6361",
           "#ffa600"
          ]
         },
         "hoverinfo": "label+value",
         "textinfo": "percent"
        },
        {
         "labels": [
          "True",
          "False"
         ],
         "title": {
          "text": "Health & Hygiene"
         },
         "values": [
          56,
          3
         ],
         "type": "pie",
         "domain": {
          "x": [
           0.7875,
           1.0
          ],
          "y": [
           0.0,
           1.0
          ]
         },
         "marker": {
          "colors": [
           "#ff6361",
           "#ffa600"
          ]
         },
         "hoverinfo": "label+value",
         "textinfo": "percent"
        }
       ],
       "layout": {
        "template": {
         "data": {
          "histogram2dcontour": [
           {
            "type": "histogram2dcontour",
            "colorbar": {
             "outlinewidth": 0,
             "ticks": ""
            },
            "colorscale": [
             [
              0.0,
              "#0d0887"
             ],
             [
              0.1111111111111111,
              "#46039f"
             ],
             [
              0.2222222222222222,
              "#7201a8"
             ],
             [
              0.3333333333333333,
              "#9c179e"
             ],
             [
              0.4444444444444444,
              "#bd3786"
             ],
             [
              0.5555555555555556,
              "#d8576b"
             ],
             [
              0.6666666666666666,
              "#ed7953"
             ],
             [
              0.7777777777777778,
              "#fb9f3a"
             ],
             [
              0.8888888888888888,
              "#fdca26"
             ],
             [
              1.0,
              "#f0f921"
             ]
            ]
           }
          ],
          "choropleth": [
           {
            "type": "choropleth",
            "colorbar": {
             "outlinewidth": 0,
             "ticks": ""
            }
           }
          ],
          "histogram2d": [
           {
            "type": "histogram2d",
            "colorbar": {
             "outlinewidth": 0,
             "ticks": ""
            },
            "colorscale": [
             [
              0.0,
              "#0d0887"
             ],
             [
              0.1111111111111111,
              "#46039f"
             ],
             [
              0.2222222222222222,
              "#7201a8"
             ],
             [
              0.3333333333333333,
              "#9c179e"
             ],
             [
              0.4444444444444444,
              "#bd3786"
             ],
             [
              0.5555555555555556,
              "#d8576b"
             ],
             [
              0.6666666666666666,
              "#ed7953"
             ],
             [
              0.7777777777777778,
              "#fb9f3a"
             ],
             [
              0.8888888888888888,
              "#fdca26"
             ],
             [
              1.0,
              "#f0f921"
             ]
            ]
           }
          ],
          "heatmap": [
           {
            "type": "heatmap",
            "colorbar": {
             "outlinewidth": 0,
             "ticks": ""
            },
            "colorscale": [
             [
              0.0,
              "#0d0887"
             ],
             [
              0.1111111111111111,
              "#46039f"
             ],
             [
              0.2222222222222222,
              "#7201a8"
             ],
             [
              0.3333333333333333,
              "#9c179e"
             ],
             [
              0.4444444444444444,
              "#bd3786"
             ],
             [
              0.5555555555555556,
              "#d8576b"
             ],
             [
              0.6666666666666666,
              "#ed7953"
             ],
             [
              0.7777777777777778,
              "#fb9f3a"
             ],
             [
              0.8888888888888888,
              "#fdca26"
             ],
             [
              1.0,
              "#f0f921"
             ]
            ]
           }
          ],
          "contourcarpet": [
           {
            "type": "contourcarpet",
            "colorbar": {
             "outlinewidth": 0,
             "ticks": ""
            }
           }
          ],
          "contour": [
           {
            "type": "contour",
            "colorbar": {
             "outlinewidth": 0,
             "ticks": ""
            },
            "colorscale": [
             [
              0.0,
              "#0d0887"
             ],
             [
              0.1111111111111111,
              "#46039f"
             ],
             [
              0.2222222222222222,
              "#7201a8"
             ],
             [
              0.3333333333333333,
              "#9c179e"
             ],
             [
              0.4444444444444444,
              "#bd3786"
             ],
             [
              0.5555555555555556,
              "#d8576b"
             ],
             [
              0.6666666666666666,
              "#ed7953"
             ],
             [
              0.7777777777777778,
              "#fb9f3a"
             ],
             [
              0.8888888888888888,
              "#fdca26"
             ],
             [
              1.0,
              "#f0f921"
             ]
            ]
           }
          ],
          "surface": [
           {
            "type": "surface",
            "colorbar": {
             "outlinewidth": 0,
             "ticks": ""
            },
            "colorscale": [
             [
              0.0,
              "#0d0887"
             ],
             [
              0.1111111111111111,
              "#46039f"
             ],
             [
              0.2222222222222222,
              "#7201a8"
             ],
             [
              0.3333333333333333,
              "#9c179e"
             ],
             [
              0.4444444444444444,
              "#bd3786"
             ],
             [
              0.5555555555555556,
              "#d8576b"
             ],
             [
              0.6666666666666666,
              "#ed7953"
             ],
             [
              0.7777777777777778,
              "#fb9f3a"
             ],
             [
              0.8888888888888888,
              "#fdca26"
             ],
             [
              1.0,
              "#f0f921"
             ]
            ]
           }
          ],
          "mesh3d": [
           {
            "type": "mesh3d",
            "colorbar": {
             "outlinewidth": 0,
             "ticks": ""
            }
           }
          ],
          "scatter": [
           {
            "marker": {
             "line": {
              "color": "#283442"
             }
            },
            "type": "scatter"
           }
          ],
          "parcoords": [
           {
            "type": "parcoords",
            "line": {
             "colorbar": {
              "outlinewidth": 0,
              "ticks": ""
             }
            }
           }
          ],
          "scatterpolargl": [
           {
            "type": "scatterpolargl",
            "marker": {
             "colorbar": {
              "outlinewidth": 0,
              "ticks": ""
             }
            }
           }
          ],
          "bar": [
           {
            "error_x": {
             "color": "#f2f5fa"
            },
            "error_y": {
             "color": "#f2f5fa"
            },
            "marker": {
             "line": {
              "color": "rgb(17,17,17)",
              "width": 0.5
             },
             "pattern": {
              "fillmode": "overlay",
              "size": 10,
              "solidity": 0.2
             }
            },
            "type": "bar"
           }
          ],
          "scattergeo": [
           {
            "type": "scattergeo",
            "marker": {
             "colorbar": {
              "outlinewidth": 0,
              "ticks": ""
             }
            }
           }
          ],
          "scatterpolar": [
           {
            "type": "scatterpolar",
            "marker": {
             "colorbar": {
              "outlinewidth": 0,
              "ticks": ""
             }
            }
           }
          ],
          "histogram": [
           {
            "marker": {
             "pattern": {
              "fillmode": "overlay",
              "size": 10,
              "solidity": 0.2
             }
            },
            "type": "histogram"
           }
          ],
          "scattergl": [
           {
            "marker": {
             "line": {
              "color": "#283442"
             }
            },
            "type": "scattergl"
           }
          ],
          "scatter3d": [
           {
            "type": "scatter3d",
            "line": {
             "colorbar": {
              "outlinewidth": 0,
              "ticks": ""
             }
            },
            "marker": {
             "colorbar": {
              "outlinewidth": 0,
              "ticks": ""
             }
            }
           }
          ],
          "scattermap": [
           {
            "type": "scattermap",
            "marker": {
             "colorbar": {
              "outlinewidth": 0,
              "ticks": ""
             }
            }
           }
          ],
          "scattermapbox": [
           {
            "type": "scattermapbox",
            "marker": {
             "colorbar": {
              "outlinewidth": 0,
              "ticks": ""
             }
            }
           }
          ],
          "scatterternary": [
           {
            "type": "scatterternary",
            "marker": {
             "colorbar": {
              "outlinewidth": 0,
              "ticks": ""
             }
            }
           }
          ],
          "scattercarpet": [
           {
            "type": "scattercarpet",
            "marker": {
             "colorbar": {
              "outlinewidth": 0,
              "ticks": ""
             }
            }
           }
          ],
          "carpet": [
           {
            "aaxis": {
             "endlinecolor": "#A2B1C6",
             "gridcolor": "#506784",
             "linecolor": "#506784",
             "minorgridcolor": "#506784",
             "startlinecolor": "#A2B1C6"
            },
            "baxis": {
             "endlinecolor": "#A2B1C6",
             "gridcolor": "#506784",
             "linecolor": "#506784",
             "minorgridcolor": "#506784",
             "startlinecolor": "#A2B1C6"
            },
            "type": "carpet"
           }
          ],
          "table": [
           {
            "cells": {
             "fill": {
              "color": "#506784"
             },
             "line": {
              "color": "rgb(17,17,17)"
             }
            },
            "header": {
             "fill": {
              "color": "#2a3f5f"
             },
             "line": {
              "color": "rgb(17,17,17)"
             }
            },
            "type": "table"
           }
          ],
          "barpolar": [
           {
            "marker": {
             "line": {
              "color": "rgb(17,17,17)",
              "width": 0.5
             },
             "pattern": {
              "fillmode": "overlay",
              "size": 10,
              "solidity": 0.2
             }
            },
            "type": "barpolar"
           }
          ],
          "pie": [
           {
            "automargin": true,
            "type": "pie"
           }
          ]
         },
         "layout": {
          "autotypenumbers": "strict",
          "colorway": [
           "#636efa",
           "#EF553B",
           "#00cc96",
           "#ab63fa",
           "#FFA15A",
           "#19d3f3",
           "#FF6692",
           "#B6E880",
           "#FF97FF",
           "#FECB52"
          ],
          "font": {
           "color": "#f2f5fa"
          },
          "hovermode": "closest",
          "hoverlabel": {
           "align": "left"
          },
          "paper_bgcolor": "rgb(17,17,17)",
          "plot_bgcolor": "rgb(17,17,17)",
          "polar": {
           "bgcolor": "rgb(17,17,17)",
           "angularaxis": {
            "gridcolor": "#506784",
            "linecolor": "#506784",
            "ticks": ""
           },
           "radialaxis": {
            "gridcolor": "#506784",
            "linecolor": "#506784",
            "ticks": ""
           }
          },
          "ternary": {
           "bgcolor": "rgb(17,17,17)",
           "aaxis": {
            "gridcolor": "#506784",
            "linecolor": "#506784",
            "ticks": ""
           },
           "baxis": {
            "gridcolor": "#506784",
            "linecolor": "#506784",
            "ticks": ""
           },
           "caxis": {
            "gridcolor": "#506784",
            "linecolor": "#506784",
            "ticks": ""
           }
          },
          "coloraxis": {
           "colorbar": {
            "outlinewidth": 0,
            "ticks": ""
           }
          },
          "colorscale": {
           "sequential": [
            [
             0.0,
             "#0d0887"
            ],
            [
             0.1111111111111111,
             "#46039f"
            ],
            [
             0.2222222222222222,
             "#7201a8"
            ],
            [
             0.3333333333333333,
             "#9c179e"
            ],
            [
             0.4444444444444444,
             "#bd3786"
            ],
            [
             0.5555555555555556,
             "#d8576b"
            ],
            [
             0.6666666666666666,
             "#ed7953"
            ],
            [
             0.7777777777777778,
             "#fb9f3a"
            ],
            [
             0.8888888888888888,
             "#fdca26"
            ],
            [
             1.0,
             "#f0f921"
            ]
           ],
           "sequentialminus": [
            [
             0.0,
             "#0d0887"
            ],
            [
             0.1111111111111111,
             "#46039f"
            ],
            [
             0.2222222222222222,
             "#7201a8"
            ],
            [
             0.3333333333333333,
             "#9c179e"
            ],
            [
             0.4444444444444444,
             "#bd3786"
            ],
            [
             0.5555555555555556,
             "#d8576b"
            ],
            [
             0.6666666666666666,
             "#ed7953"
            ],
            [
             0.7777777777777778,
             "#fb9f3a"
            ],
            [
             0.8888888888888888,
             "#fdca26"
            ],
            [
             1.0,
             "#f0f921"
            ]
           ],
           "diverging": [
            [
             0,
             "#8e0152"
            ],
            [
             0.1,
             "#c51b7d"
            ],
            [
             0.2,
             "#de77ae"
            ],
            [
             0.3,
             "#f1b6da"
            ],
            [
             0.4,
             "#fde0ef"
            ],
            [
             0.5,
             "#f7f7f7"
            ],
            [
             0.6,
             "#e6f5d0"
            ],
            [
             0.7,
             "#b8e186"
            ],
            [
             0.8,
             "#7fbc41"
            ],
            [
             0.9,
             "#4d9221"
            ],
            [
             1,
             "#276419"
            ]
           ]
          },
          "xaxis": {
           "gridcolor": "#283442",
           "linecolor": "#506784",
           "ticks": "",
           "title": {
            "standoff": 15
           },
           "zerolinecolor": "#283442",
           "automargin": true,
           "zerolinewidth": 2
          },
          "yaxis": {
           "gridcolor": "#283442",
           "linecolor": "#506784",
           "ticks": "",
           "title": {
            "standoff": 15
           },
           "zerolinecolor": "#283442",
           "automargin": true,
           "zerolinewidth": 2
          },
          "scene": {
           "xaxis": {
            "backgroundcolor": "rgb(17,17,17)",
            "gridcolor": "#506784",
            "linecolor": "#506784",
            "showbackground": true,
            "ticks": "",
            "zerolinecolor": "#C8D4E3",
            "gridwidth": 2
           },
           "yaxis": {
            "backgroundcolor": "rgb(17,17,17)",
            "gridcolor": "#506784",
            "linecolor": "#506784",
            "showbackground": true,
            "ticks": "",
            "zerolinecolor": "#C8D4E3",
            "gridwidth": 2
           },
           "zaxis": {
            "backgroundcolor": "rgb(17,17,17)",
            "gridcolor": "#506784",
            "linecolor": "#506784",
            "showbackground": true,
            "ticks": "",
            "zerolinecolor": "#C8D4E3",
            "gridwidth": 2
           }
          },
          "shapedefaults": {
           "line": {
            "color": "#f2f5fa"
           }
          },
          "annotationdefaults": {
           "arrowcolor": "#f2f5fa",
           "arrowhead": 0,
           "arrowwidth": 1
          },
          "geo": {
           "bgcolor": "rgb(17,17,17)",
           "landcolor": "rgb(17,17,17)",
           "subunitcolor": "#506784",
           "showland": true,
           "showlakes": true,
           "lakecolor": "rgb(17,17,17)"
          },
          "title": {
           "x": 0.05
          },
          "updatemenudefaults": {
           "bgcolor": "#506784",
           "borderwidth": 0
          },
          "sliderdefaults": {
           "bgcolor": "#C8D4E3",
           "borderwidth": 1,
           "bordercolor": "rgb(17,17,17)",
           "tickwidth": 0
          },
          "mapbox": {
           "style": "dark"
          }
         }
        }
       },
       "config": {
        "plotlyServerURL": "https://plot.ly"
       }
      }
     },
     "metadata": {},
     "output_type": "display_data"
    }
   ],
   "execution_count": 8
  },
  {
   "metadata": {},
   "cell_type": "markdown",
   "source": "Overall chart, can be uncommented to visualize.",
   "id": "d06de5ada117392d"
  },
  {
   "metadata": {
    "ExecuteTime": {
     "end_time": "2025-06-11T06:59:27.086691Z",
     "start_time": "2025-06-11T06:59:27.083863Z"
    }
   },
   "cell_type": "code",
   "source": [
    " # fig = px.pie(dfN, names='outOfStock', color ='outOfStock', color_discrete_sequence=colors, template='plotly_dark')\n",
    "# countBool = dfN['outOfStock'].value_counts().tolist()\n",
    "# print(countBool)\n",
    "# print(f'The Probability of being out of stock for overall is : ', round(((countBool[1]/countBool[0])*100), 5), '%')\n",
    "# fig.show()"
   ],
   "id": "2038b56c12fe5b7f",
   "outputs": [],
   "execution_count": 9
  },
  {
   "metadata": {},
   "cell_type": "markdown",
   "source": [
    "## Available Quantity Pie Chart\n",
    "### Highest of `6` meaning that Zepto has a lot of customers and hence keeps items in more quantities for bulk buy, followed by 3 and 0 meaning Zepto consumers keep buying at a regular basis"
   ],
   "id": "4f0b598501ad58c3"
  },
  {
   "metadata": {
    "ExecuteTime": {
     "end_time": "2025-06-11T06:59:27.198681Z",
     "start_time": "2025-06-11T06:59:27.151228Z"
    }
   },
   "cell_type": "code",
   "source": [
    "fig = px.pie(dfN, names='availableQuantity', color = 'availableQuantity', color_discrete_sequence=colors, template='plotly_dark').update_traces(hoverinfo='label+value', textinfo='percent', marker=dict(colors=colorPie))\n",
    "fig.show()"
   ],
   "id": "b594ebc35714b003",
   "outputs": [
    {
     "data": {
      "application/vnd.plotly.v1+json": {
       "data": [
        {
         "customdata": {
          "dtype": "i1",
          "bdata": "AwMDAwMDAwMDAwMDAwMDAwMDAwMDAwMDAwMDAwMDAwMDAwMDAwMDAwMDAwMDAwMDAwMDBgYDAwMDAwMGAwMDAwMCAwMDAwMGAwYGAwICAwIDAwMDAwAAAAAGBgYEBgYGBAYGBgYGBgQGAwYCBgYEBgYGAQYGAwMGBgQGBAYBBgYGBgIGBgYDBgQGAwYEBgUFBgIGAwYEAgYGAQYBBgYEBgYGAwYEBgYGAgIGBgYGAwECBgQFBgQBBQYGBgMGBgUGAwIGBQUCBgYBBAIGBgYGAgEBAgUCBgYBAwIGBgUGBAEGBgIEBgQEBQMEBQYFAQYGBgUBBgYBBgMFAgYGBgYEAQYGBgIGAgIGBgYBAwEGAgYFBgYFBgMCAwIEAwMGBgYGBgYGBAYGBgYDAwYGBgEGBQYGBgQFAwQEAwYGBQMGBAUEBQQEBgIFBgYFBgYDBgMFBAYGBQUGBgUEBgQGAQUBBgUCBgYGBgUGAwUEBgYGAQUEBgYGBQMFBQUGBgYGBQQGAgYFBgQFBQYEBgUEBQYGBQYEAgYGBgYGBgIFBgYGBQYGBgYGBQYGAQYGBQYGBgYGBgYDBgYGBgYGBgQGBgYGBgYGBgYEBQIGBgYGBAUGBgYGBgYBBgQFBgYGBgYGBgYGBgYGBgYGBgMGAQYGBgQGBgYGAgYGBgYGBgYEBgEAAAAAAAAAAAAAAAAAAAAAAAAAAAAAAAAAAAAAAAAAAAAAAAAAAAAAAAAAAAAAAAAAAAAAAAAAAAAABAYEBgQGBAQGBgQGBAYGAwYGAQQGBgYGBAYBBgUFBgYBAQMBBgUGBAQEBgEGBgIEBgQFBAYEBgYGBgQGBgYEBgQFBgEGBgYGBgYGBgYBBgYGBAYAAAAAAAAAAAAAAAAAAAAAAAAAAAAAAAAABAYGBgYGAgEFBQQBAQYDBgEGAQYDAwIFBgYFAgIGBgEFBAYBBgYGAQYEBgYGAQQGBgYGBQQFBAYGBQEBAgYGBQYGAgYGAwYDAgQGBgQCBgYEBAMDAwYGBgUBAQUGBgEGAwYDBAEDBAMGBgEDBgYGBgYGBgEEBgUGBAIGBgQGBgYGBQUFBgYBBgYEAQMGBAUCBAYBAgUGBQYCBAICBgMEBgMGAwYFBQMGBgUFBgMGAQYBAQQGBQQFAgUFBgYGAQQGBgMGAQMBBQYEBQYFAQUGBgYGAQYCBgUGAQMBBQIGBgYFBgYGBgYGBgYFBQYGBgQEBgEGBgQGBgIGBgYGBQYGAgYEBgMFAAAAAAAAAAAAAAAAAAAAAAAAAAAAAAAAAAAEAwMBBgEDAQECAgEBAgEBAwEBAQEBAQEBAAAAAAAAAAYGBAEFAQUDBAUDBgIDAwIDBgQGAQIFBgQGAwMBAwUGAgYGAwQEAQMGBgMEBgYGBgQGAgYDBgYDAwQEBgYGAgUGBgYCBgMBAQYEBgUGBgYEBgYDAgQGBQYGBgYGAwYCBgEEAAAAAAAAAAAAAAAAAAAAAAAAAAAAAAAAAAAAAAAAAAAAAAADBgYGBgYGAgYGAgYGBgYEBgMDBgYEBgEGBgEFBgQDBgQFBAIGBgIGBgUEAgIGBgYEBgYGBgUCBgYDAwMFAwYGBgEGBgYGBQQCBgMBBAYBBQYDAwYGAgMGBgQEAQQDBgEEBQYEAgIGBAYFBgQDBAQEBQYGBAMFAQUCBgMFBQUGBgQGBAMEBgYFBgYEBAIDBgMGBQUDAQYDAgYGBgQDBgUBBgEGAwEGBgYGBQQDBgMFBgYGBQUCBAUEBgEGAQYEBgIGBgMGBAYEBgQGBgYFBgYBBgYEBQIFBQYBBQIGBAYGBAYEAgUGBgMGBgYBBgYCBQQDBAMGBgYDBgYEBgUBAwYEBQEGAwQBBgEGBgYCBgYGBgYGBAEGBgQBBgYBAgYGBgECBAYEAAAAAAAAAAAAAAAAAAAAAAAAAQYGAgQGAwQBBgYGBgYGBgQGBgEEAgYGBgYCAQIFBgQGBgQGBgYGBgYGBgYGBgYDBgYGBQEBBAQEBAYGAgIGAwQBAwEEAwMDAgMGBgUGAQYGBQYEBgQGBgQFAQYGBgMGBgYGBgECBgYCBgYGAQYGBgYGBgQGBgYGBgYGBQYGBgQEBgQGBgYFAQQGBgIGBgUFBgUCBgYGBgYGBgYGAQQEBgEGBQYGAwYGBgAAAAAAAAAAAAAAAAAAAAAGBgYGBgIEBgYGAgYGBgQGBgYGBQYCBgYGAwYGBgYGBgEGBgYGBgYEBgYGBgQGBAYGAQYBAgYBBgAAAA==",
          "shape": "1681, 1"
         },
         "domain": {
          "x": [
           0.0,
           1.0
          ],
          "y": [
           0.0,
           1.0
          ]
         },
         "hovertemplate": "availableQuantity=%{customdata[0]}<extra></extra>",
         "labels": {
          "dtype": "i1",
          "bdata": "AwMDAwMDAwMDAwMDAwMDAwMDAwMDAwMDAwMDAwMDAwMDAwMDAwMDAwMDAwMDAwMDAwMDBgYDAwMDAwMGAwMDAwMCAwMDAwMGAwYGAwICAwIDAwMDAwAAAAAGBgYEBgYGBAYGBgYGBgQGAwYCBgYEBgYGAQYGAwMGBgQGBAYBBgYGBgIGBgYDBgQGAwYEBgUFBgIGAwYEAgYGAQYBBgYEBgYGAwYEBgYGAgIGBgYGAwECBgQFBgQBBQYGBgMGBgUGAwIGBQUCBgYBBAIGBgYGAgEBAgUCBgYBAwIGBgUGBAEGBgIEBgQEBQMEBQYFAQYGBgUBBgYBBgMFAgYGBgYEAQYGBgIGAgIGBgYBAwEGAgYFBgYFBgMCAwIEAwMGBgYGBgYGBAYGBgYDAwYGBgEGBQYGBgQFAwQEAwYGBQMGBAUEBQQEBgIFBgYFBgYDBgMFBAYGBQUGBgUEBgQGAQUBBgUCBgYGBgUGAwUEBgYGAQUEBgYGBQMFBQUGBgYGBQQGAgYFBgQFBQYEBgUEBQYGBQYEAgYGBgYGBgIFBgYGBQYGBgYGBQYGAQYGBQYGBgYGBgYDBgYGBgYGBgQGBgYGBgYGBgYEBQIGBgYGBAUGBgYGBgYBBgQFBgYGBgYGBgYGBgYGBgYGBgMGAQYGBgQGBgYGAgYGBgYGBgYEBgEAAAAAAAAAAAAAAAAAAAAAAAAAAAAAAAAAAAAAAAAAAAAAAAAAAAAAAAAAAAAAAAAAAAAAAAAAAAAABAYEBgQGBAQGBgQGBAYGAwYGAQQGBgYGBAYBBgUFBgYBAQMBBgUGBAQEBgEGBgIEBgQFBAYEBgYGBgQGBgYEBgQFBgEGBgYGBgYGBgYBBgYGBAYAAAAAAAAAAAAAAAAAAAAAAAAAAAAAAAAABAYGBgYGAgEFBQQBAQYDBgEGAQYDAwIFBgYFAgIGBgEFBAYBBgYGAQYEBgYGAQQGBgYGBQQFBAYGBQEBAgYGBQYGAgYGAwYDAgQGBgQCBgYEBAMDAwYGBgUBAQUGBgEGAwYDBAEDBAMGBgEDBgYGBgYGBgEEBgUGBAIGBgQGBgYGBQUFBgYBBgYEAQMGBAUCBAYBAgUGBQYCBAICBgMEBgMGAwYFBQMGBgUFBgMGAQYBAQQGBQQFAgUFBgYGAQQGBgMGAQMBBQYEBQYFAQUGBgYGAQYCBgUGAQMBBQIGBgYFBgYGBgYGBgYFBQYGBgQEBgEGBgQGBgIGBgYGBQYGAgYEBgMFAAAAAAAAAAAAAAAAAAAAAAAAAAAAAAAAAAAEAwMBBgEDAQECAgEBAgEBAwEBAQEBAQEBAAAAAAAAAAYGBAEFAQUDBAUDBgIDAwIDBgQGAQIFBgQGAwMBAwUGAgYGAwQEAQMGBgMEBgYGBgQGAgYDBgYDAwQEBgYGAgUGBgYCBgMBAQYEBgUGBgYEBgYDAgQGBQYGBgYGAwYCBgEEAAAAAAAAAAAAAAAAAAAAAAAAAAAAAAAAAAAAAAAAAAAAAAADBgYGBgYGAgYGAgYGBgYEBgMDBgYEBgEGBgEFBgQDBgQFBAIGBgIGBgUEAgIGBgYEBgYGBgUCBgYDAwMFAwYGBgEGBgYGBQQCBgMBBAYBBQYDAwYGAgMGBgQEAQQDBgEEBQYEAgIGBAYFBgQDBAQEBQYGBAMFAQUCBgMFBQUGBgQGBAMEBgYFBgYEBAIDBgMGBQUDAQYDAgYGBgQDBgUBBgEGAwEGBgYGBQQDBgMFBgYGBQUCBAUEBgEGAQYEBgIGBgMGBAYEBgQGBgYFBgYBBgYEBQIFBQYBBQIGBAYGBAYEAgUGBgMGBgYBBgYCBQQDBAMGBgYDBgYEBgUBAwYEBQEGAwQBBgEGBgYCBgYGBgYGBAEGBgQBBgYBAgYGBgECBAYEAAAAAAAAAAAAAAAAAAAAAAAAAQYGAgQGAwQBBgYGBgYGBgQGBgEEAgYGBgYCAQIFBgQGBgQGBgYGBgYGBgYGBgYDBgYGBQEBBAQEBAYGAgIGAwQBAwEEAwMDAgMGBgUGAQYGBQYEBgQGBgQFAQYGBgMGBgYGBgECBgYCBgYGAQYGBgYGBgQGBgYGBgYGBQYGBgQEBgQGBgYFAQQGBgIGBgUFBgUCBgYGBgYGBgYGAQQEBgEGBQYGAwYGBgAAAAAAAAAAAAAAAAAAAAAGBgYGBgIEBgYGAgYGBgQGBgYGBQYCBgYGAwYGBgYGBgEGBgYGBgYEBgYGBgQGBAYGAQYBAgYBBgAAAA=="
         },
         "legendgroup": "",
         "marker": {
          "colors": [
           "#ff6361",
           "#ffa600"
          ]
         },
         "name": "",
         "showlegend": true,
         "type": "pie",
         "hoverinfo": "label+value",
         "textinfo": "percent"
        }
       ],
       "layout": {
        "template": {
         "data": {
          "histogram2dcontour": [
           {
            "type": "histogram2dcontour",
            "colorbar": {
             "outlinewidth": 0,
             "ticks": ""
            },
            "colorscale": [
             [
              0.0,
              "#0d0887"
             ],
             [
              0.1111111111111111,
              "#46039f"
             ],
             [
              0.2222222222222222,
              "#7201a8"
             ],
             [
              0.3333333333333333,
              "#9c179e"
             ],
             [
              0.4444444444444444,
              "#bd3786"
             ],
             [
              0.5555555555555556,
              "#d8576b"
             ],
             [
              0.6666666666666666,
              "#ed7953"
             ],
             [
              0.7777777777777778,
              "#fb9f3a"
             ],
             [
              0.8888888888888888,
              "#fdca26"
             ],
             [
              1.0,
              "#f0f921"
             ]
            ]
           }
          ],
          "choropleth": [
           {
            "type": "choropleth",
            "colorbar": {
             "outlinewidth": 0,
             "ticks": ""
            }
           }
          ],
          "histogram2d": [
           {
            "type": "histogram2d",
            "colorbar": {
             "outlinewidth": 0,
             "ticks": ""
            },
            "colorscale": [
             [
              0.0,
              "#0d0887"
             ],
             [
              0.1111111111111111,
              "#46039f"
             ],
             [
              0.2222222222222222,
              "#7201a8"
             ],
             [
              0.3333333333333333,
              "#9c179e"
             ],
             [
              0.4444444444444444,
              "#bd3786"
             ],
             [
              0.5555555555555556,
              "#d8576b"
             ],
             [
              0.6666666666666666,
              "#ed7953"
             ],
             [
              0.7777777777777778,
              "#fb9f3a"
             ],
             [
              0.8888888888888888,
              "#fdca26"
             ],
             [
              1.0,
              "#f0f921"
             ]
            ]
           }
          ],
          "heatmap": [
           {
            "type": "heatmap",
            "colorbar": {
             "outlinewidth": 0,
             "ticks": ""
            },
            "colorscale": [
             [
              0.0,
              "#0d0887"
             ],
             [
              0.1111111111111111,
              "#46039f"
             ],
             [
              0.2222222222222222,
              "#7201a8"
             ],
             [
              0.3333333333333333,
              "#9c179e"
             ],
             [
              0.4444444444444444,
              "#bd3786"
             ],
             [
              0.5555555555555556,
              "#d8576b"
             ],
             [
              0.6666666666666666,
              "#ed7953"
             ],
             [
              0.7777777777777778,
              "#fb9f3a"
             ],
             [
              0.8888888888888888,
              "#fdca26"
             ],
             [
              1.0,
              "#f0f921"
             ]
            ]
           }
          ],
          "contourcarpet": [
           {
            "type": "contourcarpet",
            "colorbar": {
             "outlinewidth": 0,
             "ticks": ""
            }
           }
          ],
          "contour": [
           {
            "type": "contour",
            "colorbar": {
             "outlinewidth": 0,
             "ticks": ""
            },
            "colorscale": [
             [
              0.0,
              "#0d0887"
             ],
             [
              0.1111111111111111,
              "#46039f"
             ],
             [
              0.2222222222222222,
              "#7201a8"
             ],
             [
              0.3333333333333333,
              "#9c179e"
             ],
             [
              0.4444444444444444,
              "#bd3786"
             ],
             [
              0.5555555555555556,
              "#d8576b"
             ],
             [
              0.6666666666666666,
              "#ed7953"
             ],
             [
              0.7777777777777778,
              "#fb9f3a"
             ],
             [
              0.8888888888888888,
              "#fdca26"
             ],
             [
              1.0,
              "#f0f921"
             ]
            ]
           }
          ],
          "surface": [
           {
            "type": "surface",
            "colorbar": {
             "outlinewidth": 0,
             "ticks": ""
            },
            "colorscale": [
             [
              0.0,
              "#0d0887"
             ],
             [
              0.1111111111111111,
              "#46039f"
             ],
             [
              0.2222222222222222,
              "#7201a8"
             ],
             [
              0.3333333333333333,
              "#9c179e"
             ],
             [
              0.4444444444444444,
              "#bd3786"
             ],
             [
              0.5555555555555556,
              "#d8576b"
             ],
             [
              0.6666666666666666,
              "#ed7953"
             ],
             [
              0.7777777777777778,
              "#fb9f3a"
             ],
             [
              0.8888888888888888,
              "#fdca26"
             ],
             [
              1.0,
              "#f0f921"
             ]
            ]
           }
          ],
          "mesh3d": [
           {
            "type": "mesh3d",
            "colorbar": {
             "outlinewidth": 0,
             "ticks": ""
            }
           }
          ],
          "scatter": [
           {
            "marker": {
             "line": {
              "color": "#283442"
             }
            },
            "type": "scatter"
           }
          ],
          "parcoords": [
           {
            "type": "parcoords",
            "line": {
             "colorbar": {
              "outlinewidth": 0,
              "ticks": ""
             }
            }
           }
          ],
          "scatterpolargl": [
           {
            "type": "scatterpolargl",
            "marker": {
             "colorbar": {
              "outlinewidth": 0,
              "ticks": ""
             }
            }
           }
          ],
          "bar": [
           {
            "error_x": {
             "color": "#f2f5fa"
            },
            "error_y": {
             "color": "#f2f5fa"
            },
            "marker": {
             "line": {
              "color": "rgb(17,17,17)",
              "width": 0.5
             },
             "pattern": {
              "fillmode": "overlay",
              "size": 10,
              "solidity": 0.2
             }
            },
            "type": "bar"
           }
          ],
          "scattergeo": [
           {
            "type": "scattergeo",
            "marker": {
             "colorbar": {
              "outlinewidth": 0,
              "ticks": ""
             }
            }
           }
          ],
          "scatterpolar": [
           {
            "type": "scatterpolar",
            "marker": {
             "colorbar": {
              "outlinewidth": 0,
              "ticks": ""
             }
            }
           }
          ],
          "histogram": [
           {
            "marker": {
             "pattern": {
              "fillmode": "overlay",
              "size": 10,
              "solidity": 0.2
             }
            },
            "type": "histogram"
           }
          ],
          "scattergl": [
           {
            "marker": {
             "line": {
              "color": "#283442"
             }
            },
            "type": "scattergl"
           }
          ],
          "scatter3d": [
           {
            "type": "scatter3d",
            "line": {
             "colorbar": {
              "outlinewidth": 0,
              "ticks": ""
             }
            },
            "marker": {
             "colorbar": {
              "outlinewidth": 0,
              "ticks": ""
             }
            }
           }
          ],
          "scattermap": [
           {
            "type": "scattermap",
            "marker": {
             "colorbar": {
              "outlinewidth": 0,
              "ticks": ""
             }
            }
           }
          ],
          "scattermapbox": [
           {
            "type": "scattermapbox",
            "marker": {
             "colorbar": {
              "outlinewidth": 0,
              "ticks": ""
             }
            }
           }
          ],
          "scatterternary": [
           {
            "type": "scatterternary",
            "marker": {
             "colorbar": {
              "outlinewidth": 0,
              "ticks": ""
             }
            }
           }
          ],
          "scattercarpet": [
           {
            "type": "scattercarpet",
            "marker": {
             "colorbar": {
              "outlinewidth": 0,
              "ticks": ""
             }
            }
           }
          ],
          "carpet": [
           {
            "aaxis": {
             "endlinecolor": "#A2B1C6",
             "gridcolor": "#506784",
             "linecolor": "#506784",
             "minorgridcolor": "#506784",
             "startlinecolor": "#A2B1C6"
            },
            "baxis": {
             "endlinecolor": "#A2B1C6",
             "gridcolor": "#506784",
             "linecolor": "#506784",
             "minorgridcolor": "#506784",
             "startlinecolor": "#A2B1C6"
            },
            "type": "carpet"
           }
          ],
          "table": [
           {
            "cells": {
             "fill": {
              "color": "#506784"
             },
             "line": {
              "color": "rgb(17,17,17)"
             }
            },
            "header": {
             "fill": {
              "color": "#2a3f5f"
             },
             "line": {
              "color": "rgb(17,17,17)"
             }
            },
            "type": "table"
           }
          ],
          "barpolar": [
           {
            "marker": {
             "line": {
              "color": "rgb(17,17,17)",
              "width": 0.5
             },
             "pattern": {
              "fillmode": "overlay",
              "size": 10,
              "solidity": 0.2
             }
            },
            "type": "barpolar"
           }
          ],
          "pie": [
           {
            "automargin": true,
            "type": "pie"
           }
          ]
         },
         "layout": {
          "autotypenumbers": "strict",
          "colorway": [
           "#636efa",
           "#EF553B",
           "#00cc96",
           "#ab63fa",
           "#FFA15A",
           "#19d3f3",
           "#FF6692",
           "#B6E880",
           "#FF97FF",
           "#FECB52"
          ],
          "font": {
           "color": "#f2f5fa"
          },
          "hovermode": "closest",
          "hoverlabel": {
           "align": "left"
          },
          "paper_bgcolor": "rgb(17,17,17)",
          "plot_bgcolor": "rgb(17,17,17)",
          "polar": {
           "bgcolor": "rgb(17,17,17)",
           "angularaxis": {
            "gridcolor": "#506784",
            "linecolor": "#506784",
            "ticks": ""
           },
           "radialaxis": {
            "gridcolor": "#506784",
            "linecolor": "#506784",
            "ticks": ""
           }
          },
          "ternary": {
           "bgcolor": "rgb(17,17,17)",
           "aaxis": {
            "gridcolor": "#506784",
            "linecolor": "#506784",
            "ticks": ""
           },
           "baxis": {
            "gridcolor": "#506784",
            "linecolor": "#506784",
            "ticks": ""
           },
           "caxis": {
            "gridcolor": "#506784",
            "linecolor": "#506784",
            "ticks": ""
           }
          },
          "coloraxis": {
           "colorbar": {
            "outlinewidth": 0,
            "ticks": ""
           }
          },
          "colorscale": {
           "sequential": [
            [
             0.0,
             "#0d0887"
            ],
            [
             0.1111111111111111,
             "#46039f"
            ],
            [
             0.2222222222222222,
             "#7201a8"
            ],
            [
             0.3333333333333333,
             "#9c179e"
            ],
            [
             0.4444444444444444,
             "#bd3786"
            ],
            [
             0.5555555555555556,
             "#d8576b"
            ],
            [
             0.6666666666666666,
             "#ed7953"
            ],
            [
             0.7777777777777778,
             "#fb9f3a"
            ],
            [
             0.8888888888888888,
             "#fdca26"
            ],
            [
             1.0,
             "#f0f921"
            ]
           ],
           "sequentialminus": [
            [
             0.0,
             "#0d0887"
            ],
            [
             0.1111111111111111,
             "#46039f"
            ],
            [
             0.2222222222222222,
             "#7201a8"
            ],
            [
             0.3333333333333333,
             "#9c179e"
            ],
            [
             0.4444444444444444,
             "#bd3786"
            ],
            [
             0.5555555555555556,
             "#d8576b"
            ],
            [
             0.6666666666666666,
             "#ed7953"
            ],
            [
             0.7777777777777778,
             "#fb9f3a"
            ],
            [
             0.8888888888888888,
             "#fdca26"
            ],
            [
             1.0,
             "#f0f921"
            ]
           ],
           "diverging": [
            [
             0,
             "#8e0152"
            ],
            [
             0.1,
             "#c51b7d"
            ],
            [
             0.2,
             "#de77ae"
            ],
            [
             0.3,
             "#f1b6da"
            ],
            [
             0.4,
             "#fde0ef"
            ],
            [
             0.5,
             "#f7f7f7"
            ],
            [
             0.6,
             "#e6f5d0"
            ],
            [
             0.7,
             "#b8e186"
            ],
            [
             0.8,
             "#7fbc41"
            ],
            [
             0.9,
             "#4d9221"
            ],
            [
             1,
             "#276419"
            ]
           ]
          },
          "xaxis": {
           "gridcolor": "#283442",
           "linecolor": "#506784",
           "ticks": "",
           "title": {
            "standoff": 15
           },
           "zerolinecolor": "#283442",
           "automargin": true,
           "zerolinewidth": 2
          },
          "yaxis": {
           "gridcolor": "#283442",
           "linecolor": "#506784",
           "ticks": "",
           "title": {
            "standoff": 15
           },
           "zerolinecolor": "#283442",
           "automargin": true,
           "zerolinewidth": 2
          },
          "scene": {
           "xaxis": {
            "backgroundcolor": "rgb(17,17,17)",
            "gridcolor": "#506784",
            "linecolor": "#506784",
            "showbackground": true,
            "ticks": "",
            "zerolinecolor": "#C8D4E3",
            "gridwidth": 2
           },
           "yaxis": {
            "backgroundcolor": "rgb(17,17,17)",
            "gridcolor": "#506784",
            "linecolor": "#506784",
            "showbackground": true,
            "ticks": "",
            "zerolinecolor": "#C8D4E3",
            "gridwidth": 2
           },
           "zaxis": {
            "backgroundcolor": "rgb(17,17,17)",
            "gridcolor": "#506784",
            "linecolor": "#506784",
            "showbackground": true,
            "ticks": "",
            "zerolinecolor": "#C8D4E3",
            "gridwidth": 2
           }
          },
          "shapedefaults": {
           "line": {
            "color": "#f2f5fa"
           }
          },
          "annotationdefaults": {
           "arrowcolor": "#f2f5fa",
           "arrowhead": 0,
           "arrowwidth": 1
          },
          "geo": {
           "bgcolor": "rgb(17,17,17)",
           "landcolor": "rgb(17,17,17)",
           "subunitcolor": "#506784",
           "showland": true,
           "showlakes": true,
           "lakecolor": "rgb(17,17,17)"
          },
          "title": {
           "x": 0.05
          },
          "updatemenudefaults": {
           "bgcolor": "#506784",
           "borderwidth": 0
          },
          "sliderdefaults": {
           "bgcolor": "#C8D4E3",
           "borderwidth": 1,
           "bordercolor": "rgb(17,17,17)",
           "tickwidth": 0
          },
          "mapbox": {
           "style": "dark"
          }
         }
        },
        "legend": {
         "tracegroupgap": 0
        },
        "margin": {
         "t": 60
        },
        "piecolorway": [
         "#4E79A7",
         "#F28E2B",
         "#E15759",
         "#76B7B2",
         "#59A14F",
         "#EDC949",
         "#AF7AA1",
         "#FF9DA7",
         "#9C755F",
         "#BAB0AC",
         "#1F77B4",
         "#FF7F0E",
         "#2CA02C",
         "#D62728",
         "#9467BD"
        ]
       },
       "config": {
        "plotlyServerURL": "https://plot.ly"
       }
      }
     },
     "metadata": {},
     "output_type": "display_data"
    }
   ],
   "execution_count": 10
  },
  {
   "metadata": {},
   "cell_type": "markdown",
   "source": [
    "## Discount Percent Pie Chart\n",
    "### Highest being `0%`. This may occur due to Zepto consumers buying products at 0% discount meaning the company is able to profit from that but can be does provide `10%` discount as per sale or consumer need."
   ],
   "id": "5e72371810cc545d"
  },
  {
   "metadata": {
    "ExecuteTime": {
     "end_time": "2025-06-11T06:59:27.276114Z",
     "start_time": "2025-06-11T06:59:27.229184Z"
    }
   },
   "cell_type": "code",
   "source": [
    "fig = px.pie(dfN,names='discountPercent', color = 'discountPercent', color_discrete_sequence=colors, template='plotly_dark').update_traces(textposition='inside').update_layout(uniformtext_minsize=12, uniformtext_mode='hide')\n",
    "fig.show()"
   ],
   "id": "d66b47a0c6521ccb",
   "outputs": [
    {
     "data": {
      "application/vnd.plotly.v1+json": {
       "data": [
        {
         "customdata": {
          "dtype": "i1",
          "bdata": "EBAPDw4REA8RDxESDw4PEA0QEBAPEg8PDxAPDxAQEBAQEBAQEBAPDxAPDxAPEBEREREQDxERDw8QDxAQDw8REA8PDw8PEA8QEBARDxAQDwQQEhMVFxEFBAUADwAABAICBwoAAAsADQYCAwIDAAABCxIPAAgFAAgAAQQAAAMAAAcAAAAKCgUHAAMAAQENFQAHEAEEBQMKBgIQAgcZDhwACQkCAh0GDAoGDgcDCRQKCgcKDgoHBwAICQQGCRwyFAoEAAAAAQAACgEACwADCQ4yCgoCCgoAAQUABgEAAAAGEAcAAgIUBQAHBwAKCgoECQIDFAMFAgoAAgcAAAUABgoKAwYCCgYDCgAyBwAJAAoAHQIKCgoKBwYABwkACgkQAggRDwUCAAIPAAAJCgIAAgUACQ0CAgoVBgoACgAAAgIHBAAAAgkJCwAHCgkKCgcQBwYLAAwKCgAFCgYGDwYGCgACBAoGAgYCCgYUChsKCgYUAAAGChQoMgwACgEFHgQAAgYKCA4FBwAACh4KAgoCHgIGCgoPAgoRFAcKFAAJBQYdAAUECgoHAAALAAYeCQAeChAGBwoAGQoAAAsCCQAKChIJFAoUBgYAHgAGCQAKAAAyAAAAAgYABgAACwAOCgAAAAAKBwALAC4AAAoAAAAAAB4AAAoAAAAKAgsAFAoAAAgGCQgBBg0ADggGAAICAQMHAAAGBgIACQkAAAoKAAMCAAAAAggKAAYAAQkKCQsyAAcAESgPAAIHAAQAAAMAAgACAAAIBAACAAIFAAEAAAAAAAIDAAAABQMFAwUAAA0EBAIFMgUNBQACGQAhBQAABAUNBQUyCSsyBTIACjIUBQcBBQAUBAQfMgUAAAAAAAADAwQAAAEAAwAAAAAAAAAFFAMABRELABAyCgwEBQMFAgULDREFAAQFAAQKAAIFBAUFBAAJAAUFCgQGBwAMGQQRAAkAABQUAAULGRYGBQwABgQGFBExBAkUAAoaBgQZBA0ACQgAGgoJGgQODwIACwsGCAADCQAABwoKABQKABkKFAAJFAoACwAGBgAAAAkFFAAAKAQeCwUACBQUDggyCgoeAAUEDwAKHgAKCQoFHg4ADwYADgkAChQAAAAPAAAABgAKAAgyAAoAABQEAAoABwQKCQAAHgUPAB4KAAkAAAAFMgQAAAAeAB4AFAAAAAAAAAoGHgAKHh4ADxoAFAAPAAoAAAsAAA4AAAAAAAAAAAkAMgcPDg4PCQ4AAAAADgYAAAYABRgCAgUJCAoJAAoABwMGBQQJAAAAAAAKCAkZCQUJDgAJCgQrCQ4dCRwJCQMEChgAAAAFCQAAAAADMwARAgAyADMAADMACgAPCgAPDQoGChsAChADCBkACggDBhEWCgoQDBkCCwIPCAoRBgAWCg8AAgUUCwYABg8LCgYZCgAWBggGCgAGAAoGFhYGAAAKAAoGAwsCCgoAAAAKAAAIAAAAAAIyAAAACAAGAgwAAwAAAAoAAAAAAAMAABYKEQAjAAoDBAoCEhgFBQ8AAA0FBQoDAAoKAAgABQIGBgAPCgYGBxQABQAEAAAKCggDBA4FCQYACQUACw8ACgoAAAAAAgAAAAcABwAABwAADQoAFAAAChAKAAAAAAoKAAoKDAAPCgAKEhQACQAGBwsGAAgUAAAJAAAEAAAGCgkCBgAACgAKAAoABQAGAAoKAAwKAAYKAAYMAAYECgoACQAAChQKAAAKFA8AFAAAAAAICgUAAA8KCgAAEgYPABIKCg8AAAAAEQALCgUAAAkGCgYACAAAAAoKEQcAAAUMAAsGAAkAAAkACQAKAAASChQABwkAFAAAAAAFAAotCgoHCQAVFgkACQ8ABgUAEQAACQoAAAoAAAoKAAAPFAAFCQAAFAAABgAKAAkGAwADAgkHAAkABwIJCQoHAAAHAAcABQcAAAIFAAgFBAUCAwYKAAYHBAEKCQAJAgIGAAAGCgkACQIKAAYCBQcAAgAFAAAJDQgHBQIADg0JABAKCgAJCgAAAggSCgAKAQIGAA0FDwkGBQwCDgYJAAgEAgkKCw8KAAAACgUHCgUJAAYKCgAGCAkGCgUKCBAKDgoAAwUABQgGCgUJDAAKDgoACgMFCgUACgoACgUKChECAAAKAgAACgILCgAHAAQAAAIDAAgICQcCCgkADwoyMgAKBgYKAAoJCwYKAgoPCgoKBQoKAAoGFg8KDwAKCAUHCQ4DCw8GBQUKBgkGFBQAAAsUAAUPDzILDw==",
          "shape": "1681, 1"
         },
         "domain": {
          "x": [
           0.0,
           1.0
          ],
          "y": [
           0.0,
           1.0
          ]
         },
         "hovertemplate": "discountPercent=%{customdata[0]}<extra></extra>",
         "labels": {
          "dtype": "i1",
          "bdata": "EBAPDw4REA8RDxESDw4PEA0QEBAPEg8PDxAPDxAQEBAQEBAQEBAPDxAPDxAPEBEREREQDxERDw8QDxAQDw8REA8PDw8PEA8QEBARDxAQDwQQEhMVFxEFBAUADwAABAICBwoAAAsADQYCAwIDAAABCxIPAAgFAAgAAQQAAAMAAAcAAAAKCgUHAAMAAQENFQAHEAEEBQMKBgIQAgcZDhwACQkCAh0GDAoGDgcDCRQKCgcKDgoHBwAICQQGCRwyFAoEAAAAAQAACgEACwADCQ4yCgoCCgoAAQUABgEAAAAGEAcAAgIUBQAHBwAKCgoECQIDFAMFAgoAAgcAAAUABgoKAwYCCgYDCgAyBwAJAAoAHQIKCgoKBwYABwkACgkQAggRDwUCAAIPAAAJCgIAAgUACQ0CAgoVBgoACgAAAgIHBAAAAgkJCwAHCgkKCgcQBwYLAAwKCgAFCgYGDwYGCgACBAoGAgYCCgYUChsKCgYUAAAGChQoMgwACgEFHgQAAgYKCA4FBwAACh4KAgoCHgIGCgoPAgoRFAcKFAAJBQYdAAUECgoHAAALAAYeCQAeChAGBwoAGQoAAAsCCQAKChIJFAoUBgYAHgAGCQAKAAAyAAAAAgYABgAACwAOCgAAAAAKBwALAC4AAAoAAAAAAB4AAAoAAAAKAgsAFAoAAAgGCQgBBg0ADggGAAICAQMHAAAGBgIACQkAAAoKAAMCAAAAAggKAAYAAQkKCQsyAAcAESgPAAIHAAQAAAMAAgACAAAIBAACAAIFAAEAAAAAAAIDAAAABQMFAwUAAA0EBAIFMgUNBQACGQAhBQAABAUNBQUyCSsyBTIACjIUBQcBBQAUBAQfMgUAAAAAAAADAwQAAAEAAwAAAAAAAAAFFAMABRELABAyCgwEBQMFAgULDREFAAQFAAQKAAIFBAUFBAAJAAUFCgQGBwAMGQQRAAkAABQUAAULGRYGBQwABgQGFBExBAkUAAoaBgQZBA0ACQgAGgoJGgQODwIACwsGCAADCQAABwoKABQKABkKFAAJFAoACwAGBgAAAAkFFAAAKAQeCwUACBQUDggyCgoeAAUEDwAKHgAKCQoFHg4ADwYADgkAChQAAAAPAAAABgAKAAgyAAoAABQEAAoABwQKCQAAHgUPAB4KAAkAAAAFMgQAAAAeAB4AFAAAAAAAAAoGHgAKHh4ADxoAFAAPAAoAAAsAAA4AAAAAAAAAAAkAMgcPDg4PCQ4AAAAADgYAAAYABRgCAgUJCAoJAAoABwMGBQQJAAAAAAAKCAkZCQUJDgAJCgQrCQ4dCRwJCQMEChgAAAAFCQAAAAADMwARAgAyADMAADMACgAPCgAPDQoGChsAChADCBkACggDBhEWCgoQDBkCCwIPCAoRBgAWCg8AAgUUCwYABg8LCgYZCgAWBggGCgAGAAoGFhYGAAAKAAoGAwsCCgoAAAAKAAAIAAAAAAIyAAAACAAGAgwAAwAAAAoAAAAAAAMAABYKEQAjAAoDBAoCEhgFBQ8AAA0FBQoDAAoKAAgABQIGBgAPCgYGBxQABQAEAAAKCggDBA4FCQYACQUACw8ACgoAAAAAAgAAAAcABwAABwAADQoAFAAAChAKAAAAAAoKAAoKDAAPCgAKEhQACQAGBwsGAAgUAAAJAAAEAAAGCgkCBgAACgAKAAoABQAGAAoKAAwKAAYKAAYMAAYECgoACQAAChQKAAAKFA8AFAAAAAAICgUAAA8KCgAAEgYPABIKCg8AAAAAEQALCgUAAAkGCgYACAAAAAoKEQcAAAUMAAsGAAkAAAkACQAKAAASChQABwkAFAAAAAAFAAotCgoHCQAVFgkACQ8ABgUAEQAACQoAAAoAAAoKAAAPFAAFCQAAFAAABgAKAAkGAwADAgkHAAkABwIJCQoHAAAHAAcABQcAAAIFAAgFBAUCAwYKAAYHBAEKCQAJAgIGAAAGCgkACQIKAAYCBQcAAgAFAAAJDQgHBQIADg0JABAKCgAJCgAAAggSCgAKAQIGAA0FDwkGBQwCDgYJAAgEAgkKCw8KAAAACgUHCgUJAAYKCgAGCAkGCgUKCBAKDgoAAwUABQgGCgUJDAAKDgoACgMFCgUACgoACgUKChECAAAKAgAACgILCgAHAAQAAAIDAAgICQcCCgkADwoyMgAKBgYKAAoJCwYKAgoPCgoKBQoKAAoGFg8KDwAKCAUHCQ4DCw8GBQUKBgkGFBQAAAsUAAUPDzILDw=="
         },
         "legendgroup": "",
         "marker": {
          "colors": [
           "#4E79A7",
           "#4E79A7",
           "#F28E2B",
           "#F28E2B",
           "#E15759",
           "#76B7B2",
           "#4E79A7",
           "#F28E2B",
           "#76B7B2",
           "#F28E2B",
           "#76B7B2",
           "#59A14F",
           "#F28E2B",
           "#E15759",
           "#F28E2B",
           "#4E79A7",
           "#EDC949",
           "#4E79A7",
           "#4E79A7",
           "#4E79A7",
           "#F28E2B",
           "#59A14F",
           "#F28E2B",
           "#F28E2B",
           "#F28E2B",
           "#4E79A7",
           "#F28E2B",
           "#F28E2B",
           "#4E79A7",
           "#4E79A7",
           "#4E79A7",
           "#4E79A7",
           "#4E79A7",
           "#4E79A7",
           "#4E79A7",
           "#4E79A7",
           "#4E79A7",
           "#4E79A7",
           "#F28E2B",
           "#F28E2B",
           "#4E79A7",
           "#F28E2B",
           "#F28E2B",
           "#4E79A7",
           "#F28E2B",
           "#4E79A7",
           "#76B7B2",
           "#76B7B2",
           "#76B7B2",
           "#76B7B2",
           "#4E79A7",
           "#F28E2B",
           "#76B7B2",
           "#76B7B2",
           "#F28E2B",
           "#F28E2B",
           "#4E79A7",
           "#F28E2B",
           "#4E79A7",
           "#4E79A7",
           "#F28E2B",
           "#F28E2B",
           "#76B7B2",
           "#4E79A7",
           "#F28E2B",
           "#F28E2B",
           "#F28E2B",
           "#F28E2B",
           "#F28E2B",
           "#4E79A7",
           "#F28E2B",
           "#4E79A7",
           "#4E79A7",
           "#4E79A7",
           "#76B7B2",
           "#F28E2B",
           "#4E79A7",
           "#4E79A7",
           "#F28E2B",
           "#AF7AA1",
           "#4E79A7",
           "#59A14F",
           "#FF9DA7",
           "#9C755F",
           "#BAB0AC",
           "#76B7B2",
           "#1F77B4",
           "#AF7AA1",
           "#1F77B4",
           "#FF7F0E",
           "#F28E2B",
           "#FF7F0E",
           "#FF7F0E",
           "#AF7AA1",
           "#2CA02C",
           "#2CA02C",
           "#D62728",
           "#9467BD",
           "#FF7F0E",
           "#FF7F0E",
           "#4E79A7",
           "#FF7F0E",
           "#EDC949",
           "#F28E2B",
           "#2CA02C",
           "#E15759",
           "#2CA02C",
           "#E15759",
           "#FF7F0E",
           "#FF7F0E",
           "#76B7B2",
           "#4E79A7",
           "#59A14F",
           "#F28E2B",
           "#FF7F0E",
           "#59A14F",
           "#1F77B4",
           "#FF7F0E",
           "#59A14F",
           "#FF7F0E",
           "#76B7B2",
           "#AF7AA1",
           "#FF7F0E",
           "#FF7F0E",
           "#E15759",
           "#FF7F0E",
           "#FF7F0E",
           "#D62728",
           "#FF7F0E",
           "#FF7F0E",
           "#FF7F0E",
           "#9467BD",
           "#9467BD",
           "#1F77B4",
           "#D62728",
           "#FF7F0E",
           "#E15759",
           "#FF7F0E",
           "#76B7B2",
           "#76B7B2",
           "#EDC949",
           "#9C755F",
           "#FF7F0E",
           "#D62728",
           "#4E79A7",
           "#76B7B2",
           "#AF7AA1",
           "#1F77B4",
           "#E15759",
           "#9467BD",
           "#F28E2B",
           "#2CA02C",
           "#4E79A7",
           "#2CA02C",
           "#D62728",
           "#EDC949",
           "#E15759",
           "#AF7AA1",
           "#FF7F0E",
           "#FF9DA7",
           "#FF9DA7",
           "#2CA02C",
           "#2CA02C",
           "#9C755F",
           "#F28E2B",
           "#BAB0AC",
           "#9467BD",
           "#F28E2B",
           "#E15759",
           "#D62728",
           "#E15759",
           "#FF9DA7",
           "#1F77B4",
           "#9467BD",
           "#9467BD",
           "#D62728",
           "#9467BD",
           "#E15759",
           "#9467BD",
           "#D62728",
           "#D62728",
           "#FF7F0E",
           "#59A14F",
           "#FF9DA7",
           "#AF7AA1",
           "#F28E2B",
           "#FF9DA7",
           "#AF7AA1",
           "#FF7F0E",
           "#1F77B4",
           "#9467BD",
           "#AF7AA1",
           "#FF7F0E",
           "#FF7F0E",
           "#FF7F0E",
           "#76B7B2",
           "#FF7F0E",
           "#FF7F0E",
           "#9467BD",
           "#76B7B2",
           "#FF7F0E",
           "#4E79A7",
           "#FF7F0E",
           "#E15759",
           "#FF9DA7",
           "#E15759",
           "#FF7F0E",
           "#9467BD",
           "#9467BD",
           "#2CA02C",
           "#9467BD",
           "#9467BD",
           "#FF7F0E",
           "#76B7B2",
           "#1F77B4",
           "#FF7F0E",
           "#F28E2B",
           "#76B7B2",
           "#FF7F0E",
           "#FF7F0E",
           "#FF7F0E",
           "#F28E2B",
           "#4E79A7",
           "#D62728",
           "#FF7F0E",
           "#2CA02C",
           "#2CA02C",
           "#1F77B4",
           "#1F77B4",
           "#FF7F0E",
           "#D62728",
           "#D62728",
           "#FF7F0E",
           "#9467BD",
           "#9467BD",
           "#9467BD",
           "#AF7AA1",
           "#FF9DA7",
           "#2CA02C",
           "#E15759",
           "#1F77B4",
           "#E15759",
           "#1F77B4",
           "#2CA02C",
           "#9467BD",
           "#FF7F0E",
           "#2CA02C",
           "#D62728",
           "#FF7F0E",
           "#FF7F0E",
           "#1F77B4",
           "#FF7F0E",
           "#F28E2B",
           "#9467BD",
           "#9467BD",
           "#E15759",
           "#F28E2B",
           "#2CA02C",
           "#9467BD",
           "#F28E2B",
           "#E15759",
           "#9467BD",
           "#FF7F0E",
           "#FF7F0E",
           "#D62728",
           "#FF7F0E",
           "#FF9DA7",
           "#FF7F0E",
           "#9467BD",
           "#FF7F0E",
           "#9C755F",
           "#2CA02C",
           "#9467BD",
           "#9467BD",
           "#9467BD",
           "#9467BD",
           "#D62728",
           "#F28E2B",
           "#FF7F0E",
           "#D62728",
           "#FF9DA7",
           "#FF7F0E",
           "#9467BD",
           "#FF9DA7",
           "#4E79A7",
           "#2CA02C",
           "#59A14F",
           "#76B7B2",
           "#F28E2B",
           "#1F77B4",
           "#2CA02C",
           "#FF7F0E",
           "#2CA02C",
           "#F28E2B",
           "#FF7F0E",
           "#FF7F0E",
           "#FF9DA7",
           "#9467BD",
           "#2CA02C",
           "#FF7F0E",
           "#2CA02C",
           "#1F77B4",
           "#FF7F0E",
           "#FF9DA7",
           "#EDC949",
           "#2CA02C",
           "#2CA02C",
           "#9467BD",
           "#9C755F",
           "#F28E2B",
           "#9467BD",
           "#FF7F0E",
           "#9467BD",
           "#FF7F0E",
           "#FF7F0E",
           "#2CA02C",
           "#2CA02C",
           "#D62728",
           "#AF7AA1",
           "#FF7F0E",
           "#FF7F0E",
           "#2CA02C",
           "#FF9DA7",
           "#FF9DA7",
           "#4E79A7",
           "#FF7F0E",
           "#D62728",
           "#9467BD",
           "#FF9DA7",
           "#9467BD",
           "#9467BD",
           "#D62728",
           "#4E79A7",
           "#D62728",
           "#F28E2B",
           "#4E79A7",
           "#FF7F0E",
           "#BAB0AC",
           "#9467BD",
           "#9467BD",
           "#FF7F0E",
           "#1F77B4",
           "#9467BD",
           "#F28E2B",
           "#F28E2B",
           "#F28E2B",
           "#F28E2B",
           "#F28E2B",
           "#9467BD",
           "#FF7F0E",
           "#2CA02C",
           "#AF7AA1",
           "#9467BD",
           "#F28E2B",
           "#2CA02C",
           "#F28E2B",
           "#2CA02C",
           "#9467BD",
           "#F28E2B",
           "#1F77B4",
           "#9467BD",
           "#2CA02C",
           "#9467BD",
           "#9467BD",
           "#F28E2B",
           "#1F77B4",
           "#FF7F0E",
           "#FF7F0E",
           "#F28E2B",
           "#9467BD",
           "#1F77B4",
           "#D62728",
           "#FF7F0E",
           "#BAB0AC",
           "#FF7F0E",
           "#9467BD",
           "#76B7B2",
           "#1F77B4",
           "#9467BD",
           "#AF7AA1",
           "#FF7F0E",
           "#2CA02C",
           "#F28E2B",
           "#9467BD",
           "#59A14F",
           "#E15759",
           "#1F77B4",
           "#D62728",
           "#FF7F0E",
           "#FF7F0E",
           "#9467BD",
           "#9467BD",
           "#9467BD",
           "#2CA02C",
           "#9467BD",
           "#2CA02C",
           "#9467BD",
           "#2CA02C",
           "#F28E2B",
           "#9467BD",
           "#9467BD",
           "#F28E2B",
           "#2CA02C",
           "#9467BD",
           "#76B7B2",
           "#1F77B4",
           "#D62728",
           "#9467BD",
           "#1F77B4",
           "#FF7F0E",
           "#FF9DA7",
           "#1F77B4",
           "#F28E2B",
           "#9C755F",
           "#FF7F0E",
           "#1F77B4",
           "#AF7AA1",
           "#9467BD",
           "#9467BD",
           "#D62728",
           "#FF7F0E",
           "#FF7F0E",
           "#4E79A7",
           "#FF7F0E",
           "#F28E2B",
           "#9467BD",
           "#FF9DA7",
           "#FF7F0E",
           "#9467BD",
           "#9467BD",
           "#4E79A7",
           "#F28E2B",
           "#D62728",
           "#9467BD",
           "#FF7F0E",
           "#EDC949",
           "#9467BD",
           "#FF7F0E",
           "#FF7F0E",
           "#4E79A7",
           "#2CA02C",
           "#FF9DA7",
           "#FF7F0E",
           "#9467BD",
           "#9467BD",
           "#59A14F",
           "#FF9DA7",
           "#1F77B4",
           "#9467BD",
           "#1F77B4",
           "#F28E2B",
           "#F28E2B",
           "#FF7F0E",
           "#9467BD",
           "#FF7F0E",
           "#F28E2B",
           "#FF9DA7",
           "#FF7F0E",
           "#9467BD",
           "#FF7F0E",
           "#FF7F0E",
           "#FF7F0E",
           "#FF7F0E",
           "#FF7F0E",
           "#FF7F0E",
           "#2CA02C",
           "#F28E2B",
           "#FF7F0E",
           "#F28E2B",
           "#FF7F0E",
           "#FF7F0E",
           "#4E79A7",
           "#FF7F0E",
           "#E15759",
           "#9467BD",
           "#FF7F0E",
           "#FF7F0E",
           "#FF7F0E",
           "#FF7F0E",
           "#9467BD",
           "#D62728",
           "#FF7F0E",
           "#4E79A7",
           "#FF7F0E",
           "#4E79A7",
           "#FF7F0E",
           "#FF7F0E",
           "#9467BD",
           "#FF7F0E",
           "#FF7F0E",
           "#FF7F0E",
           "#FF7F0E",
           "#FF7F0E",
           "#9467BD",
           "#FF7F0E",
           "#FF7F0E",
           "#9467BD",
           "#FF7F0E",
           "#FF7F0E",
           "#FF7F0E",
           "#9467BD",
           "#2CA02C",
           "#4E79A7",
           "#FF7F0E",
           "#1F77B4",
           "#9467BD",
           "#FF7F0E",
           "#FF7F0E",
           "#59A14F",
           "#F28E2B",
           "#FF9DA7",
           "#59A14F",
           "#76B7B2",
           "#F28E2B",
           "#EDC949",
           "#FF7F0E",
           "#E15759",
           "#59A14F",
           "#F28E2B",
           "#FF7F0E",
           "#2CA02C",
           "#2CA02C",
           "#76B7B2",
           "#E15759",
           "#D62728",
           "#FF7F0E",
           "#FF7F0E",
           "#F28E2B",
           "#F28E2B",
           "#2CA02C",
           "#FF7F0E",
           "#FF9DA7",
           "#FF9DA7",
           "#FF7F0E",
           "#FF7F0E",
           "#9467BD",
           "#9467BD",
           "#FF7F0E",
           "#E15759",
           "#2CA02C",
           "#FF7F0E",
           "#FF7F0E",
           "#FF7F0E",
           "#2CA02C",
           "#59A14F",
           "#9467BD",
           "#FF7F0E",
           "#F28E2B",
           "#FF7F0E",
           "#76B7B2",
           "#FF9DA7",
           "#9467BD",
           "#FF9DA7",
           "#4E79A7",
           "#FF7F0E",
           "#FF7F0E",
           "#D62728",
           "#FF7F0E",
           "#76B7B2",
           "#D62728",
           "#F28E2B",
           "#FF7F0E",
           "#2CA02C",
           "#D62728",
           "#FF7F0E",
           "#AF7AA1",
           "#FF7F0E",
           "#FF7F0E",
           "#E15759",
           "#FF7F0E",
           "#2CA02C",
           "#FF7F0E",
           "#2CA02C",
           "#FF7F0E",
           "#FF7F0E",
           "#59A14F",
           "#AF7AA1",
           "#FF7F0E",
           "#2CA02C",
           "#FF7F0E",
           "#2CA02C",
           "#1F77B4",
           "#FF7F0E",
           "#76B7B2",
           "#FF7F0E",
           "#FF7F0E",
           "#FF7F0E",
           "#FF7F0E",
           "#FF7F0E",
           "#2CA02C",
           "#E15759",
           "#FF7F0E",
           "#FF7F0E",
           "#FF7F0E",
           "#1F77B4",
           "#E15759",
           "#1F77B4",
           "#E15759",
           "#1F77B4",
           "#FF7F0E",
           "#FF7F0E",
           "#EDC949",
           "#AF7AA1",
           "#AF7AA1",
           "#2CA02C",
           "#1F77B4",
           "#FF7F0E",
           "#1F77B4",
           "#EDC949",
           "#1F77B4",
           "#FF7F0E",
           "#2CA02C",
           "#EDC949",
           "#FF7F0E",
           "#F28E2B",
           "#1F77B4",
           "#FF7F0E",
           "#FF7F0E",
           "#AF7AA1",
           "#1F77B4",
           "#EDC949",
           "#1F77B4",
           "#1F77B4",
           "#FF7F0E",
           "#FF9DA7",
           "#E15759",
           "#FF7F0E",
           "#1F77B4",
           "#FF7F0E",
           "#FF7F0E",
           "#9467BD",
           "#FF7F0E",
           "#1F77B4",
           "#1F77B4",
           "#D62728",
           "#76B7B2",
           "#1F77B4",
           "#FF7F0E",
           "#1F77B4",
           "#AF7AA1",
           "#AF7AA1",
           "#76B7B2",
           "#FF7F0E",
           "#1F77B4",
           "#FF7F0E",
           "#FF7F0E",
           "#FF7F0E",
           "#FF7F0E",
           "#FF7F0E",
           "#FF7F0E",
           "#E15759",
           "#E15759",
           "#AF7AA1",
           "#FF7F0E",
           "#FF7F0E",
           "#76B7B2",
           "#FF7F0E",
           "#E15759",
           "#FF7F0E",
           "#FF7F0E",
           "#FF7F0E",
           "#FF7F0E",
           "#FF7F0E",
           "#FF7F0E",
           "#FF7F0E",
           "#1F77B4",
           "#1F77B4",
           "#E15759",
           "#FF7F0E",
           "#1F77B4",
           "#76B7B2",
           "#4E79A7",
           "#FF7F0E",
           "#4E79A7",
           "#FF7F0E",
           "#9467BD",
           "#BAB0AC",
           "#AF7AA1",
           "#1F77B4",
           "#E15759",
           "#1F77B4",
           "#2CA02C",
           "#1F77B4",
           "#4E79A7",
           "#EDC949",
           "#76B7B2",
           "#1F77B4",
           "#FF7F0E",
           "#AF7AA1",
           "#1F77B4",
           "#FF7F0E",
           "#AF7AA1",
           "#9467BD",
           "#FF7F0E",
           "#2CA02C",
           "#1F77B4",
           "#AF7AA1",
           "#1F77B4",
           "#1F77B4",
           "#AF7AA1",
           "#FF7F0E",
           "#FF9DA7",
           "#FF7F0E",
           "#1F77B4",
           "#1F77B4",
           "#9467BD",
           "#AF7AA1",
           "#F28E2B",
           "#D62728",
           "#FF7F0E",
           "#BAB0AC",
           "#EDC949",
           "#AF7AA1",
           "#76B7B2",
           "#FF7F0E",
           "#FF9DA7",
           "#FF7F0E",
           "#FF7F0E",
           "#1F77B4",
           "#1F77B4",
           "#FF7F0E",
           "#1F77B4",
           "#4E79A7",
           "#EDC949",
           "#59A14F",
           "#F28E2B",
           "#1F77B4",
           "#BAB0AC",
           "#FF7F0E",
           "#F28E2B",
           "#AF7AA1",
           "#F28E2B",
           "#1F77B4",
           "#76B7B2",
           "#EDC949",
           "#AF7AA1",
           "#FF9DA7",
           "#1F77B4",
           "#FF7F0E",
           "#9467BD",
           "#AF7AA1",
           "#F28E2B",
           "#AF7AA1",
           "#EDC949",
           "#AF7AA1",
           "#EDC949",
           "#FF7F0E",
           "#FF9DA7",
           "#59A14F",
           "#FF7F0E",
           "#AF7AA1",
           "#9467BD",
           "#FF9DA7",
           "#AF7AA1",
           "#AF7AA1",
           "#E15759",
           "#F28E2B",
           "#2CA02C",
           "#FF7F0E",
           "#4E79A7",
           "#4E79A7",
           "#F28E2B",
           "#59A14F",
           "#FF7F0E",
           "#E15759",
           "#FF9DA7",
           "#FF7F0E",
           "#FF7F0E",
           "#D62728",
           "#9467BD",
           "#9467BD",
           "#FF7F0E",
           "#1F77B4",
           "#9467BD",
           "#FF7F0E",
           "#EDC949",
           "#9467BD",
           "#1F77B4",
           "#FF7F0E",
           "#FF9DA7",
           "#1F77B4",
           "#9467BD",
           "#FF7F0E",
           "#4E79A7",
           "#FF7F0E",
           "#F28E2B",
           "#F28E2B",
           "#FF7F0E",
           "#FF7F0E",
           "#FF7F0E",
           "#FF9DA7",
           "#1F77B4",
           "#1F77B4",
           "#FF7F0E",
           "#FF7F0E",
           "#D62728",
           "#AF7AA1",
           "#9467BD",
           "#4E79A7",
           "#1F77B4",
           "#FF7F0E",
           "#59A14F",
           "#1F77B4",
           "#1F77B4",
           "#E15759",
           "#59A14F",
           "#FF7F0E",
           "#9467BD",
           "#9467BD",
           "#9467BD",
           "#FF7F0E",
           "#1F77B4",
           "#AF7AA1",
           "#F28E2B",
           "#FF7F0E",
           "#9467BD",
           "#9467BD",
           "#FF7F0E",
           "#9467BD",
           "#FF9DA7",
           "#9467BD",
           "#1F77B4",
           "#9467BD",
           "#E15759",
           "#FF7F0E",
           "#F28E2B",
           "#F28E2B",
           "#FF7F0E",
           "#E15759",
           "#FF9DA7",
           "#FF7F0E",
           "#9467BD",
           "#1F77B4",
           "#FF7F0E",
           "#FF7F0E",
           "#FF7F0E",
           "#F28E2B",
           "#FF7F0E",
           "#FF7F0E",
           "#FF7F0E",
           "#F28E2B",
           "#FF7F0E",
           "#9467BD",
           "#FF7F0E",
           "#59A14F",
           "#FF7F0E",
           "#FF7F0E",
           "#9467BD",
           "#FF7F0E",
           "#FF7F0E",
           "#1F77B4",
           "#AF7AA1",
           "#FF7F0E",
           "#9467BD",
           "#FF7F0E",
           "#D62728",
           "#AF7AA1",
           "#9467BD",
           "#FF9DA7",
           "#FF7F0E",
           "#FF7F0E",
           "#9467BD",
           "#1F77B4",
           "#F28E2B",
           "#FF7F0E",
           "#9467BD",
           "#9467BD",
           "#FF7F0E",
           "#FF9DA7",
           "#FF7F0E",
           "#FF7F0E",
           "#FF7F0E",
           "#1F77B4",
           "#FF7F0E",
           "#AF7AA1",
           "#FF7F0E",
           "#FF7F0E",
           "#FF7F0E",
           "#9467BD",
           "#FF7F0E",
           "#9467BD",
           "#FF7F0E",
           "#1F77B4",
           "#FF7F0E",
           "#FF7F0E",
           "#FF7F0E",
           "#FF7F0E",
           "#FF7F0E",
           "#FF7F0E",
           "#9467BD",
           "#F28E2B",
           "#9467BD",
           "#FF7F0E",
           "#9467BD",
           "#9467BD",
           "#9467BD",
           "#FF7F0E",
           "#F28E2B",
           "#AF7AA1",
           "#FF7F0E",
           "#1F77B4",
           "#FF7F0E",
           "#F28E2B",
           "#FF7F0E",
           "#9467BD",
           "#FF7F0E",
           "#FF7F0E",
           "#4E79A7",
           "#FF7F0E",
           "#FF7F0E",
           "#E15759",
           "#FF7F0E",
           "#FF7F0E",
           "#FF7F0E",
           "#FF7F0E",
           "#FF7F0E",
           "#FF7F0E",
           "#FF7F0E",
           "#FF7F0E",
           "#FF9DA7",
           "#FF7F0E",
           "#FF7F0E",
           "#D62728",
           "#F28E2B",
           "#E15759",
           "#E15759",
           "#F28E2B",
           "#FF9DA7",
           "#E15759",
           "#FF7F0E",
           "#FF7F0E",
           "#FF7F0E",
           "#FF7F0E",
           "#E15759",
           "#F28E2B",
           "#FF7F0E",
           "#FF7F0E",
           "#F28E2B",
           "#FF7F0E",
           "#1F77B4",
           "#FF9DA7",
           "#2CA02C",
           "#2CA02C",
           "#1F77B4",
           "#FF9DA7",
           "#59A14F",
           "#9467BD",
           "#FF9DA7",
           "#FF7F0E",
           "#9467BD",
           "#FF7F0E",
           "#D62728",
           "#E15759",
           "#F28E2B",
           "#1F77B4",
           "#AF7AA1",
           "#FF9DA7",
           "#FF7F0E",
           "#FF7F0E",
           "#FF7F0E",
           "#FF7F0E",
           "#FF7F0E",
           "#9467BD",
           "#59A14F",
           "#FF9DA7",
           "#EDC949",
           "#FF9DA7",
           "#1F77B4",
           "#FF9DA7",
           "#E15759",
           "#FF7F0E",
           "#FF9DA7",
           "#9467BD",
           "#AF7AA1",
           "#E15759",
           "#FF9DA7",
           "#E15759",
           "#9C755F",
           "#FF9DA7",
           "#AF7AA1",
           "#FF9DA7",
           "#FF9DA7",
           "#E15759",
           "#AF7AA1",
           "#9467BD",
           "#FF9DA7",
           "#FF7F0E",
           "#FF7F0E",
           "#FF7F0E",
           "#1F77B4",
           "#FF9DA7",
           "#FF7F0E",
           "#FF7F0E",
           "#FF7F0E",
           "#FF7F0E",
           "#E15759",
           "#9C755F",
           "#FF7F0E",
           "#76B7B2",
           "#2CA02C",
           "#FF7F0E",
           "#FF7F0E",
           "#FF7F0E",
           "#9C755F",
           "#FF7F0E",
           "#FF7F0E",
           "#9C755F",
           "#FF7F0E",
           "#9467BD",
           "#FF7F0E",
           "#F28E2B",
           "#9467BD",
           "#FF7F0E",
           "#F28E2B",
           "#EDC949",
           "#9467BD",
           "#F28E2B",
           "#9467BD",
           "#2CA02C",
           "#FF7F0E",
           "#9467BD",
           "#4E79A7",
           "#E15759",
           "#59A14F",
           "#EDC949",
           "#FF7F0E",
           "#9467BD",
           "#59A14F",
           "#E15759",
           "#F28E2B",
           "#76B7B2",
           "#59A14F",
           "#9467BD",
           "#9467BD",
           "#4E79A7",
           "#BAB0AC",
           "#EDC949",
           "#2CA02C",
           "#4E79A7",
           "#2CA02C",
           "#F28E2B",
           "#59A14F",
           "#9467BD",
           "#76B7B2",
           "#F28E2B",
           "#FF7F0E",
           "#59A14F",
           "#9467BD",
           "#F28E2B",
           "#FF7F0E",
           "#2CA02C",
           "#1F77B4",
           "#1F77B4",
           "#4E79A7",
           "#F28E2B",
           "#FF7F0E",
           "#F28E2B",
           "#F28E2B",
           "#4E79A7",
           "#9467BD",
           "#F28E2B",
           "#EDC949",
           "#9467BD",
           "#FF7F0E",
           "#59A14F",
           "#F28E2B",
           "#59A14F",
           "#F28E2B",
           "#9467BD",
           "#FF7F0E",
           "#F28E2B",
           "#FF7F0E",
           "#9467BD",
           "#F28E2B",
           "#59A14F",
           "#59A14F",
           "#F28E2B",
           "#FF7F0E",
           "#FF7F0E",
           "#9467BD",
           "#FF7F0E",
           "#9467BD",
           "#F28E2B",
           "#E15759",
           "#4E79A7",
           "#2CA02C",
           "#9467BD",
           "#9467BD",
           "#FF7F0E",
           "#FF7F0E",
           "#FF7F0E",
           "#9467BD",
           "#FF7F0E",
           "#FF7F0E",
           "#59A14F",
           "#FF7F0E",
           "#FF7F0E",
           "#FF7F0E",
           "#FF7F0E",
           "#2CA02C",
           "#FF7F0E",
           "#FF7F0E",
           "#FF7F0E",
           "#FF7F0E",
           "#59A14F",
           "#FF7F0E",
           "#F28E2B",
           "#2CA02C",
           "#BAB0AC",
           "#FF7F0E",
           "#E15759",
           "#FF7F0E",
           "#FF7F0E",
           "#FF7F0E",
           "#9467BD",
           "#FF7F0E",
           "#FF7F0E",
           "#FF7F0E",
           "#FF7F0E",
           "#FF7F0E",
           "#E15759",
           "#FF7F0E",
           "#FF7F0E",
           "#59A14F",
           "#9467BD",
           "#76B7B2",
           "#FF7F0E",
           "#BAB0AC",
           "#FF7F0E",
           "#9467BD",
           "#E15759",
           "#AF7AA1",
           "#9467BD",
           "#2CA02C",
           "#59A14F",
           "#FF9DA7",
           "#1F77B4",
           "#1F77B4",
           "#F28E2B",
           "#FF7F0E",
           "#FF7F0E",
           "#EDC949",
           "#1F77B4",
           "#1F77B4",
           "#9467BD",
           "#E15759",
           "#FF7F0E",
           "#9467BD",
           "#9467BD",
           "#FF7F0E",
           "#59A14F",
           "#FF7F0E",
           "#1F77B4",
           "#2CA02C",
           "#F28E2B",
           "#F28E2B",
           "#FF7F0E",
           "#F28E2B",
           "#9467BD",
           "#F28E2B",
           "#F28E2B",
           "#D62728",
           "#1F77B4",
           "#FF7F0E",
           "#1F77B4",
           "#FF7F0E",
           "#AF7AA1",
           "#FF7F0E",
           "#FF7F0E",
           "#9467BD",
           "#9467BD",
           "#59A14F",
           "#E15759",
           "#AF7AA1",
           "#E15759",
           "#1F77B4",
           "#FF9DA7",
           "#F28E2B",
           "#FF7F0E",
           "#FF9DA7",
           "#1F77B4",
           "#FF7F0E",
           "#4E79A7",
           "#F28E2B",
           "#FF7F0E",
           "#9467BD",
           "#9467BD",
           "#FF7F0E",
           "#FF7F0E",
           "#FF7F0E",
           "#FF7F0E",
           "#2CA02C",
           "#FF7F0E",
           "#FF7F0E",
           "#FF7F0E",
           "#D62728",
           "#FF7F0E",
           "#D62728",
           "#FF7F0E",
           "#FF7F0E",
           "#D62728",
           "#FF7F0E",
           "#FF7F0E",
           "#EDC949",
           "#9467BD",
           "#FF7F0E",
           "#1F77B4",
           "#FF7F0E",
           "#FF7F0E",
           "#9467BD",
           "#4E79A7",
           "#9467BD",
           "#FF7F0E",
           "#FF7F0E",
           "#FF7F0E",
           "#FF7F0E",
           "#9467BD",
           "#9467BD",
           "#FF7F0E",
           "#9467BD",
           "#9467BD",
           "#BAB0AC",
           "#FF7F0E",
           "#F28E2B",
           "#9467BD",
           "#FF7F0E",
           "#9467BD",
           "#59A14F",
           "#1F77B4",
           "#FF7F0E",
           "#FF9DA7",
           "#FF7F0E",
           "#F28E2B",
           "#D62728",
           "#4E79A7",
           "#F28E2B",
           "#FF7F0E",
           "#59A14F",
           "#1F77B4",
           "#FF7F0E",
           "#FF7F0E",
           "#FF9DA7",
           "#FF7F0E",
           "#FF7F0E",
           "#AF7AA1",
           "#FF7F0E",
           "#FF7F0E",
           "#F28E2B",
           "#9467BD",
           "#FF9DA7",
           "#2CA02C",
           "#F28E2B",
           "#FF7F0E",
           "#FF7F0E",
           "#9467BD",
           "#FF7F0E",
           "#9467BD",
           "#FF7F0E",
           "#9467BD",
           "#FF7F0E",
           "#1F77B4",
           "#FF7F0E",
           "#F28E2B",
           "#FF7F0E",
           "#9467BD",
           "#9467BD",
           "#FF7F0E",
           "#BAB0AC",
           "#9467BD",
           "#FF7F0E",
           "#F28E2B",
           "#9467BD",
           "#FF7F0E",
           "#F28E2B",
           "#BAB0AC",
           "#FF7F0E",
           "#F28E2B",
           "#AF7AA1",
           "#9467BD",
           "#9467BD",
           "#FF7F0E",
           "#FF9DA7",
           "#FF7F0E",
           "#FF7F0E",
           "#9467BD",
           "#1F77B4",
           "#9467BD",
           "#FF7F0E",
           "#FF7F0E",
           "#9467BD",
           "#1F77B4",
           "#F28E2B",
           "#FF7F0E",
           "#1F77B4",
           "#FF7F0E",
           "#FF7F0E",
           "#FF7F0E",
           "#FF7F0E",
           "#59A14F",
           "#9467BD",
           "#1F77B4",
           "#FF7F0E",
           "#FF7F0E",
           "#F28E2B",
           "#9467BD",
           "#9467BD",
           "#FF7F0E",
           "#FF7F0E",
           "#59A14F",
           "#F28E2B",
           "#F28E2B",
           "#FF7F0E",
           "#59A14F",
           "#9467BD",
           "#9467BD",
           "#F28E2B",
           "#FF7F0E",
           "#FF7F0E",
           "#FF7F0E",
           "#FF7F0E",
           "#76B7B2",
           "#FF7F0E",
           "#4E79A7",
           "#9467BD",
           "#1F77B4",
           "#FF7F0E",
           "#FF7F0E",
           "#FF9DA7",
           "#F28E2B",
           "#9467BD",
           "#F28E2B",
           "#FF7F0E",
           "#59A14F",
           "#FF7F0E",
           "#FF7F0E",
           "#FF7F0E",
           "#9467BD",
           "#9467BD",
           "#76B7B2",
           "#D62728",
           "#FF7F0E",
           "#FF7F0E",
           "#1F77B4",
           "#BAB0AC",
           "#FF7F0E",
           "#4E79A7",
           "#F28E2B",
           "#FF7F0E",
           "#FF9DA7",
           "#FF7F0E",
           "#FF7F0E",
           "#FF9DA7",
           "#FF7F0E",
           "#FF9DA7",
           "#FF7F0E",
           "#9467BD",
           "#FF7F0E",
           "#FF7F0E",
           "#59A14F",
           "#9467BD",
           "#1F77B4",
           "#FF7F0E",
           "#D62728",
           "#FF9DA7",
           "#FF7F0E",
           "#1F77B4",
           "#FF7F0E",
           "#FF7F0E",
           "#FF7F0E",
           "#FF7F0E",
           "#1F77B4",
           "#FF7F0E",
           "#9467BD",
           "#1F77B4",
           "#9467BD",
           "#9467BD",
           "#D62728",
           "#FF9DA7",
           "#FF7F0E",
           "#9C755F",
           "#59A14F",
           "#FF9DA7",
           "#FF7F0E",
           "#FF9DA7",
           "#F28E2B",
           "#FF7F0E",
           "#F28E2B",
           "#1F77B4",
           "#FF7F0E",
           "#76B7B2",
           "#FF7F0E",
           "#FF7F0E",
           "#FF9DA7",
           "#9467BD",
           "#FF7F0E",
           "#FF7F0E",
           "#9467BD",
           "#FF7F0E",
           "#FF7F0E",
           "#9467BD",
           "#9467BD",
           "#FF7F0E",
           "#FF7F0E",
           "#F28E2B",
           "#1F77B4",
           "#FF7F0E",
           "#1F77B4",
           "#FF9DA7",
           "#FF7F0E",
           "#FF7F0E",
           "#1F77B4",
           "#FF7F0E",
           "#FF7F0E",
           "#F28E2B",
           "#FF7F0E",
           "#9467BD",
           "#FF7F0E",
           "#FF9DA7",
           "#F28E2B",
           "#E15759",
           "#FF7F0E",
           "#E15759",
           "#2CA02C",
           "#FF9DA7",
           "#D62728",
           "#FF7F0E",
           "#FF9DA7",
           "#FF7F0E",
           "#D62728",
           "#2CA02C",
           "#FF9DA7",
           "#FF9DA7",
           "#9467BD",
           "#D62728",
           "#FF7F0E",
           "#FF7F0E",
           "#D62728",
           "#FF7F0E",
           "#D62728",
           "#FF7F0E",
           "#1F77B4",
           "#D62728",
           "#FF7F0E",
           "#FF7F0E",
           "#2CA02C",
           "#1F77B4",
           "#FF7F0E",
           "#59A14F",
           "#1F77B4",
           "#AF7AA1",
           "#1F77B4",
           "#2CA02C",
           "#E15759",
           "#F28E2B",
           "#9467BD",
           "#FF7F0E",
           "#F28E2B",
           "#D62728",
           "#AF7AA1",
           "#76B7B2",
           "#9467BD",
           "#FF9DA7",
           "#FF7F0E",
           "#FF9DA7",
           "#2CA02C",
           "#2CA02C",
           "#F28E2B",
           "#FF7F0E",
           "#FF7F0E",
           "#F28E2B",
           "#9467BD",
           "#FF9DA7",
           "#FF7F0E",
           "#FF9DA7",
           "#2CA02C",
           "#9467BD",
           "#FF7F0E",
           "#F28E2B",
           "#2CA02C",
           "#1F77B4",
           "#D62728",
           "#FF7F0E",
           "#2CA02C",
           "#FF7F0E",
           "#1F77B4",
           "#FF7F0E",
           "#FF7F0E",
           "#FF9DA7",
           "#EDC949",
           "#59A14F",
           "#D62728",
           "#1F77B4",
           "#2CA02C",
           "#FF7F0E",
           "#E15759",
           "#EDC949",
           "#FF9DA7",
           "#FF7F0E",
           "#4E79A7",
           "#9467BD",
           "#9467BD",
           "#FF7F0E",
           "#FF9DA7",
           "#9467BD",
           "#FF7F0E",
           "#FF7F0E",
           "#2CA02C",
           "#59A14F",
           "#59A14F",
           "#9467BD",
           "#FF7F0E",
           "#9467BD",
           "#76B7B2",
           "#2CA02C",
           "#F28E2B",
           "#FF7F0E",
           "#EDC949",
           "#1F77B4",
           "#F28E2B",
           "#FF9DA7",
           "#F28E2B",
           "#1F77B4",
           "#BAB0AC",
           "#2CA02C",
           "#E15759",
           "#F28E2B",
           "#FF9DA7",
           "#FF7F0E",
           "#59A14F",
           "#AF7AA1",
           "#2CA02C",
           "#FF9DA7",
           "#9467BD",
           "#4E79A7",
           "#F28E2B",
           "#9467BD",
           "#FF7F0E",
           "#FF7F0E",
           "#FF7F0E",
           "#9467BD",
           "#1F77B4",
           "#D62728",
           "#9467BD",
           "#1F77B4",
           "#FF9DA7",
           "#FF7F0E",
           "#F28E2B",
           "#9467BD",
           "#9467BD",
           "#FF7F0E",
           "#F28E2B",
           "#59A14F",
           "#FF9DA7",
           "#F28E2B",
           "#9467BD",
           "#1F77B4",
           "#9467BD",
           "#59A14F",
           "#4E79A7",
           "#9467BD",
           "#E15759",
           "#9467BD",
           "#FF7F0E",
           "#E15759",
           "#1F77B4",
           "#FF7F0E",
           "#1F77B4",
           "#59A14F",
           "#F28E2B",
           "#9467BD",
           "#1F77B4",
           "#FF9DA7",
           "#BAB0AC",
           "#FF7F0E",
           "#9467BD",
           "#E15759",
           "#9467BD",
           "#FF7F0E",
           "#9467BD",
           "#E15759",
           "#1F77B4",
           "#9467BD",
           "#1F77B4",
           "#FF7F0E",
           "#9467BD",
           "#9467BD",
           "#FF7F0E",
           "#9467BD",
           "#1F77B4",
           "#9467BD",
           "#9467BD",
           "#76B7B2",
           "#2CA02C",
           "#FF7F0E",
           "#FF7F0E",
           "#9467BD",
           "#2CA02C",
           "#FF7F0E",
           "#FF7F0E",
           "#9467BD",
           "#2CA02C",
           "#4E79A7",
           "#9467BD",
           "#FF7F0E",
           "#D62728",
           "#FF7F0E",
           "#AF7AA1",
           "#FF7F0E",
           "#FF7F0E",
           "#2CA02C",
           "#E15759",
           "#FF7F0E",
           "#59A14F",
           "#59A14F",
           "#FF9DA7",
           "#D62728",
           "#2CA02C",
           "#9467BD",
           "#FF9DA7",
           "#FF7F0E",
           "#F28E2B",
           "#9467BD",
           "#FF7F0E",
           "#FF7F0E",
           "#FF7F0E",
           "#9467BD",
           "#F28E2B",
           "#F28E2B",
           "#9467BD",
           "#FF7F0E",
           "#9467BD",
           "#FF9DA7",
           "#4E79A7",
           "#F28E2B",
           "#9467BD",
           "#2CA02C",
           "#9467BD",
           "#F28E2B",
           "#9467BD",
           "#9467BD",
           "#9467BD",
           "#1F77B4",
           "#9467BD",
           "#9467BD",
           "#FF7F0E",
           "#9467BD",
           "#F28E2B",
           "#59A14F",
           "#F28E2B",
           "#9467BD",
           "#F28E2B",
           "#FF7F0E",
           "#9467BD",
           "#59A14F",
           "#1F77B4",
           "#D62728",
           "#FF9DA7",
           "#E15759",
           "#E15759",
           "#4E79A7",
           "#F28E2B",
           "#F28E2B",
           "#1F77B4",
           "#1F77B4",
           "#9467BD",
           "#F28E2B",
           "#FF9DA7",
           "#F28E2B",
           "#1F77B4",
           "#1F77B4",
           "#FF7F0E",
           "#FF7F0E",
           "#4E79A7",
           "#1F77B4",
           "#FF7F0E",
           "#1F77B4",
           "#F28E2B",
           "#F28E2B",
           "#FF7F0E",
           "#4E79A7",
           "#F28E2B"
          ]
         },
         "name": "",
         "showlegend": true,
         "type": "pie",
         "textposition": "inside"
        }
       ],
       "layout": {
        "template": {
         "data": {
          "histogram2dcontour": [
           {
            "type": "histogram2dcontour",
            "colorbar": {
             "outlinewidth": 0,
             "ticks": ""
            },
            "colorscale": [
             [
              0.0,
              "#0d0887"
             ],
             [
              0.1111111111111111,
              "#46039f"
             ],
             [
              0.2222222222222222,
              "#7201a8"
             ],
             [
              0.3333333333333333,
              "#9c179e"
             ],
             [
              0.4444444444444444,
              "#bd3786"
             ],
             [
              0.5555555555555556,
              "#d8576b"
             ],
             [
              0.6666666666666666,
              "#ed7953"
             ],
             [
              0.7777777777777778,
              "#fb9f3a"
             ],
             [
              0.8888888888888888,
              "#fdca26"
             ],
             [
              1.0,
              "#f0f921"
             ]
            ]
           }
          ],
          "choropleth": [
           {
            "type": "choropleth",
            "colorbar": {
             "outlinewidth": 0,
             "ticks": ""
            }
           }
          ],
          "histogram2d": [
           {
            "type": "histogram2d",
            "colorbar": {
             "outlinewidth": 0,
             "ticks": ""
            },
            "colorscale": [
             [
              0.0,
              "#0d0887"
             ],
             [
              0.1111111111111111,
              "#46039f"
             ],
             [
              0.2222222222222222,
              "#7201a8"
             ],
             [
              0.3333333333333333,
              "#9c179e"
             ],
             [
              0.4444444444444444,
              "#bd3786"
             ],
             [
              0.5555555555555556,
              "#d8576b"
             ],
             [
              0.6666666666666666,
              "#ed7953"
             ],
             [
              0.7777777777777778,
              "#fb9f3a"
             ],
             [
              0.8888888888888888,
              "#fdca26"
             ],
             [
              1.0,
              "#f0f921"
             ]
            ]
           }
          ],
          "heatmap": [
           {
            "type": "heatmap",
            "colorbar": {
             "outlinewidth": 0,
             "ticks": ""
            },
            "colorscale": [
             [
              0.0,
              "#0d0887"
             ],
             [
              0.1111111111111111,
              "#46039f"
             ],
             [
              0.2222222222222222,
              "#7201a8"
             ],
             [
              0.3333333333333333,
              "#9c179e"
             ],
             [
              0.4444444444444444,
              "#bd3786"
             ],
             [
              0.5555555555555556,
              "#d8576b"
             ],
             [
              0.6666666666666666,
              "#ed7953"
             ],
             [
              0.7777777777777778,
              "#fb9f3a"
             ],
             [
              0.8888888888888888,
              "#fdca26"
             ],
             [
              1.0,
              "#f0f921"
             ]
            ]
           }
          ],
          "contourcarpet": [
           {
            "type": "contourcarpet",
            "colorbar": {
             "outlinewidth": 0,
             "ticks": ""
            }
           }
          ],
          "contour": [
           {
            "type": "contour",
            "colorbar": {
             "outlinewidth": 0,
             "ticks": ""
            },
            "colorscale": [
             [
              0.0,
              "#0d0887"
             ],
             [
              0.1111111111111111,
              "#46039f"
             ],
             [
              0.2222222222222222,
              "#7201a8"
             ],
             [
              0.3333333333333333,
              "#9c179e"
             ],
             [
              0.4444444444444444,
              "#bd3786"
             ],
             [
              0.5555555555555556,
              "#d8576b"
             ],
             [
              0.6666666666666666,
              "#ed7953"
             ],
             [
              0.7777777777777778,
              "#fb9f3a"
             ],
             [
              0.8888888888888888,
              "#fdca26"
             ],
             [
              1.0,
              "#f0f921"
             ]
            ]
           }
          ],
          "surface": [
           {
            "type": "surface",
            "colorbar": {
             "outlinewidth": 0,
             "ticks": ""
            },
            "colorscale": [
             [
              0.0,
              "#0d0887"
             ],
             [
              0.1111111111111111,
              "#46039f"
             ],
             [
              0.2222222222222222,
              "#7201a8"
             ],
             [
              0.3333333333333333,
              "#9c179e"
             ],
             [
              0.4444444444444444,
              "#bd3786"
             ],
             [
              0.5555555555555556,
              "#d8576b"
             ],
             [
              0.6666666666666666,
              "#ed7953"
             ],
             [
              0.7777777777777778,
              "#fb9f3a"
             ],
             [
              0.8888888888888888,
              "#fdca26"
             ],
             [
              1.0,
              "#f0f921"
             ]
            ]
           }
          ],
          "mesh3d": [
           {
            "type": "mesh3d",
            "colorbar": {
             "outlinewidth": 0,
             "ticks": ""
            }
           }
          ],
          "scatter": [
           {
            "marker": {
             "line": {
              "color": "#283442"
             }
            },
            "type": "scatter"
           }
          ],
          "parcoords": [
           {
            "type": "parcoords",
            "line": {
             "colorbar": {
              "outlinewidth": 0,
              "ticks": ""
             }
            }
           }
          ],
          "scatterpolargl": [
           {
            "type": "scatterpolargl",
            "marker": {
             "colorbar": {
              "outlinewidth": 0,
              "ticks": ""
             }
            }
           }
          ],
          "bar": [
           {
            "error_x": {
             "color": "#f2f5fa"
            },
            "error_y": {
             "color": "#f2f5fa"
            },
            "marker": {
             "line": {
              "color": "rgb(17,17,17)",
              "width": 0.5
             },
             "pattern": {
              "fillmode": "overlay",
              "size": 10,
              "solidity": 0.2
             }
            },
            "type": "bar"
           }
          ],
          "scattergeo": [
           {
            "type": "scattergeo",
            "marker": {
             "colorbar": {
              "outlinewidth": 0,
              "ticks": ""
             }
            }
           }
          ],
          "scatterpolar": [
           {
            "type": "scatterpolar",
            "marker": {
             "colorbar": {
              "outlinewidth": 0,
              "ticks": ""
             }
            }
           }
          ],
          "histogram": [
           {
            "marker": {
             "pattern": {
              "fillmode": "overlay",
              "size": 10,
              "solidity": 0.2
             }
            },
            "type": "histogram"
           }
          ],
          "scattergl": [
           {
            "marker": {
             "line": {
              "color": "#283442"
             }
            },
            "type": "scattergl"
           }
          ],
          "scatter3d": [
           {
            "type": "scatter3d",
            "line": {
             "colorbar": {
              "outlinewidth": 0,
              "ticks": ""
             }
            },
            "marker": {
             "colorbar": {
              "outlinewidth": 0,
              "ticks": ""
             }
            }
           }
          ],
          "scattermap": [
           {
            "type": "scattermap",
            "marker": {
             "colorbar": {
              "outlinewidth": 0,
              "ticks": ""
             }
            }
           }
          ],
          "scattermapbox": [
           {
            "type": "scattermapbox",
            "marker": {
             "colorbar": {
              "outlinewidth": 0,
              "ticks": ""
             }
            }
           }
          ],
          "scatterternary": [
           {
            "type": "scatterternary",
            "marker": {
             "colorbar": {
              "outlinewidth": 0,
              "ticks": ""
             }
            }
           }
          ],
          "scattercarpet": [
           {
            "type": "scattercarpet",
            "marker": {
             "colorbar": {
              "outlinewidth": 0,
              "ticks": ""
             }
            }
           }
          ],
          "carpet": [
           {
            "aaxis": {
             "endlinecolor": "#A2B1C6",
             "gridcolor": "#506784",
             "linecolor": "#506784",
             "minorgridcolor": "#506784",
             "startlinecolor": "#A2B1C6"
            },
            "baxis": {
             "endlinecolor": "#A2B1C6",
             "gridcolor": "#506784",
             "linecolor": "#506784",
             "minorgridcolor": "#506784",
             "startlinecolor": "#A2B1C6"
            },
            "type": "carpet"
           }
          ],
          "table": [
           {
            "cells": {
             "fill": {
              "color": "#506784"
             },
             "line": {
              "color": "rgb(17,17,17)"
             }
            },
            "header": {
             "fill": {
              "color": "#2a3f5f"
             },
             "line": {
              "color": "rgb(17,17,17)"
             }
            },
            "type": "table"
           }
          ],
          "barpolar": [
           {
            "marker": {
             "line": {
              "color": "rgb(17,17,17)",
              "width": 0.5
             },
             "pattern": {
              "fillmode": "overlay",
              "size": 10,
              "solidity": 0.2
             }
            },
            "type": "barpolar"
           }
          ],
          "pie": [
           {
            "automargin": true,
            "type": "pie"
           }
          ]
         },
         "layout": {
          "autotypenumbers": "strict",
          "colorway": [
           "#636efa",
           "#EF553B",
           "#00cc96",
           "#ab63fa",
           "#FFA15A",
           "#19d3f3",
           "#FF6692",
           "#B6E880",
           "#FF97FF",
           "#FECB52"
          ],
          "font": {
           "color": "#f2f5fa"
          },
          "hovermode": "closest",
          "hoverlabel": {
           "align": "left"
          },
          "paper_bgcolor": "rgb(17,17,17)",
          "plot_bgcolor": "rgb(17,17,17)",
          "polar": {
           "bgcolor": "rgb(17,17,17)",
           "angularaxis": {
            "gridcolor": "#506784",
            "linecolor": "#506784",
            "ticks": ""
           },
           "radialaxis": {
            "gridcolor": "#506784",
            "linecolor": "#506784",
            "ticks": ""
           }
          },
          "ternary": {
           "bgcolor": "rgb(17,17,17)",
           "aaxis": {
            "gridcolor": "#506784",
            "linecolor": "#506784",
            "ticks": ""
           },
           "baxis": {
            "gridcolor": "#506784",
            "linecolor": "#506784",
            "ticks": ""
           },
           "caxis": {
            "gridcolor": "#506784",
            "linecolor": "#506784",
            "ticks": ""
           }
          },
          "coloraxis": {
           "colorbar": {
            "outlinewidth": 0,
            "ticks": ""
           }
          },
          "colorscale": {
           "sequential": [
            [
             0.0,
             "#0d0887"
            ],
            [
             0.1111111111111111,
             "#46039f"
            ],
            [
             0.2222222222222222,
             "#7201a8"
            ],
            [
             0.3333333333333333,
             "#9c179e"
            ],
            [
             0.4444444444444444,
             "#bd3786"
            ],
            [
             0.5555555555555556,
             "#d8576b"
            ],
            [
             0.6666666666666666,
             "#ed7953"
            ],
            [
             0.7777777777777778,
             "#fb9f3a"
            ],
            [
             0.8888888888888888,
             "#fdca26"
            ],
            [
             1.0,
             "#f0f921"
            ]
           ],
           "sequentialminus": [
            [
             0.0,
             "#0d0887"
            ],
            [
             0.1111111111111111,
             "#46039f"
            ],
            [
             0.2222222222222222,
             "#7201a8"
            ],
            [
             0.3333333333333333,
             "#9c179e"
            ],
            [
             0.4444444444444444,
             "#bd3786"
            ],
            [
             0.5555555555555556,
             "#d8576b"
            ],
            [
             0.6666666666666666,
             "#ed7953"
            ],
            [
             0.7777777777777778,
             "#fb9f3a"
            ],
            [
             0.8888888888888888,
             "#fdca26"
            ],
            [
             1.0,
             "#f0f921"
            ]
           ],
           "diverging": [
            [
             0,
             "#8e0152"
            ],
            [
             0.1,
             "#c51b7d"
            ],
            [
             0.2,
             "#de77ae"
            ],
            [
             0.3,
             "#f1b6da"
            ],
            [
             0.4,
             "#fde0ef"
            ],
            [
             0.5,
             "#f7f7f7"
            ],
            [
             0.6,
             "#e6f5d0"
            ],
            [
             0.7,
             "#b8e186"
            ],
            [
             0.8,
             "#7fbc41"
            ],
            [
             0.9,
             "#4d9221"
            ],
            [
             1,
             "#276419"
            ]
           ]
          },
          "xaxis": {
           "gridcolor": "#283442",
           "linecolor": "#506784",
           "ticks": "",
           "title": {
            "standoff": 15
           },
           "zerolinecolor": "#283442",
           "automargin": true,
           "zerolinewidth": 2
          },
          "yaxis": {
           "gridcolor": "#283442",
           "linecolor": "#506784",
           "ticks": "",
           "title": {
            "standoff": 15
           },
           "zerolinecolor": "#283442",
           "automargin": true,
           "zerolinewidth": 2
          },
          "scene": {
           "xaxis": {
            "backgroundcolor": "rgb(17,17,17)",
            "gridcolor": "#506784",
            "linecolor": "#506784",
            "showbackground": true,
            "ticks": "",
            "zerolinecolor": "#C8D4E3",
            "gridwidth": 2
           },
           "yaxis": {
            "backgroundcolor": "rgb(17,17,17)",
            "gridcolor": "#506784",
            "linecolor": "#506784",
            "showbackground": true,
            "ticks": "",
            "zerolinecolor": "#C8D4E3",
            "gridwidth": 2
           },
           "zaxis": {
            "backgroundcolor": "rgb(17,17,17)",
            "gridcolor": "#506784",
            "linecolor": "#506784",
            "showbackground": true,
            "ticks": "",
            "zerolinecolor": "#C8D4E3",
            "gridwidth": 2
           }
          },
          "shapedefaults": {
           "line": {
            "color": "#f2f5fa"
           }
          },
          "annotationdefaults": {
           "arrowcolor": "#f2f5fa",
           "arrowhead": 0,
           "arrowwidth": 1
          },
          "geo": {
           "bgcolor": "rgb(17,17,17)",
           "landcolor": "rgb(17,17,17)",
           "subunitcolor": "#506784",
           "showland": true,
           "showlakes": true,
           "lakecolor": "rgb(17,17,17)"
          },
          "title": {
           "x": 0.05
          },
          "updatemenudefaults": {
           "bgcolor": "#506784",
           "borderwidth": 0
          },
          "sliderdefaults": {
           "bgcolor": "#C8D4E3",
           "borderwidth": 1,
           "bordercolor": "rgb(17,17,17)",
           "tickwidth": 0
          },
          "mapbox": {
           "style": "dark"
          }
         }
        },
        "legend": {
         "tracegroupgap": 0
        },
        "margin": {
         "t": 60
        },
        "piecolorway": [
         "#4E79A7",
         "#F28E2B",
         "#E15759",
         "#76B7B2",
         "#59A14F",
         "#EDC949",
         "#AF7AA1",
         "#FF9DA7",
         "#9C755F",
         "#BAB0AC",
         "#1F77B4",
         "#FF7F0E",
         "#2CA02C",
         "#D62728",
         "#9467BD"
        ],
        "uniformtext": {
         "minsize": 12,
         "mode": "hide"
        }
       },
       "config": {
        "plotlyServerURL": "https://plot.ly"
       }
      }
     },
     "metadata": {},
     "output_type": "display_data"
    }
   ],
   "execution_count": 11
  },
  {
   "metadata": {},
   "cell_type": "markdown",
   "source": [
    "## MRP to Discounted Selling Price Line Chart\n",
    "### This shows a line comparison of the MRP to the Discounted Selling Price, for each category, it helps in analyzing the if the particular product is off by a massive or small margin. The more the gap, may mean that the product is either not in requirement at the time or maybe profit on it isn't much of an interest to Zepto"
   ],
   "id": "c625a798fcd94337"
  },
  {
   "metadata": {
    "ExecuteTime": {
     "end_time": "2025-06-11T06:59:27.474447Z",
     "start_time": "2025-06-11T06:59:27.306515Z"
    }
   },
   "cell_type": "code",
   "source": [
    "\n",
    "subFig = mks(rows=1, cols=2)\n",
    "for value in uniqueCategories:\n",
    "    dfT1 = df[df['Category'] == f'{value}']\n",
    "    dfT2 = dfT1.sort_values(by='quantity', ascending = False)\n",
    "    fig1 = go.Line(y = dfT2['mrp'],line=dict(color='#bc5090', width=4),opacity=0.8)\n",
    "    fig2 = go.Line(y = dfT2['discountedSellingPrice'] ,line=dict(color='#ffa600', width=4), opacity=0.8)\n",
    "    print(f'{value} with count - ', dfT2['quantity'].count())\n",
    "    subFig.add_trace(fig1)\n",
    "    subFig.add_trace(fig2)\n",
    "    subFig.update_traces(mode=\"markers+lines\").update_layout(width=2800,autosize=True, hovermode='x').show()\n",
    "    subFig.update_traces(visible=False)\n",
    "\n",
    "\n"
   ],
   "id": "ade296966b015d9f",
   "outputs": [
    {
     "name": "stdout",
     "output_type": "stream",
     "text": [
      "Fruits & Vegetables with count -  93\n"
     ]
    },
    {
     "name": "stderr",
     "output_type": "stream",
     "text": [
      "C:\\Users\\Tanishq\\PycharmProjects\\zepto-inv-dataset\\.venv\\Lib\\site-packages\\plotly\\graph_objs\\_deprecations.py:378: DeprecationWarning:\n",
      "\n",
      "plotly.graph_objs.Line is deprecated.\n",
      "Please replace it with one of the following more specific types\n",
      "  - plotly.graph_objs.scatter.Line\n",
      "  - plotly.graph_objs.layout.shape.Line\n",
      "  - etc.\n",
      "\n",
      "\n"
     ]
    },
    {
     "data": {
      "application/vnd.plotly.v1+json": {
       "data": [
        {
         "line": {
          "color": "#bc5090",
          "width": 4
         },
         "opacity": 0.8,
         "y": {
          "dtype": "i2",
          "bdata": "EA4YFXAXKApABmwHGBX8CNAHaBDYDlQLbAe4C3AXxAnECfwIuAtsB3gF5AwIB0wEdA7QB6gWrA2sDYAMgAy4C7gLCAdoEAgH+BEUBawNBBCkBrgLxCKsDawNTB14BfwIbAdMBNAHTASoFqQG0AfQBxQFuAtUC6gWCCB4NxgV1El4NyRFkBoQJwggGC5oKVgbGBUQDrgLxAnsExAOKArcBWgQaBCsDagWKApYGxgVbAe4JPgqJEWwBIA+"
         },
         "type": "scatter",
         "mode": "markers+lines"
        },
        {
         "line": {
          "color": "#ffa600",
          "width": 4
         },
         "opacity": 0.8,
         "y": {
          "dtype": "i2",
          "bdata": "uAuUEUQWNAgUBdwFlBFsB6QGrA2ADGAJQAbECYgTNAg0CGwHxAlABrAE8ArcBYQDHAykBiQTVAtUC4wKjArECcQJ3AWsDdwFPA9MBFQLPA8UBcQJTB1UC1QLnBiwBGwHQAaEA6QGhAMkE3gFpAakBkwExAlgCSQT9Bp8LpQRHD58LjQ6RBbQIPQarCbEIgwXlBG4C8QJNAjMELgLmAgUBawNrA1UCyQTmAgMF5QRQAbcHgQpNDroA2A7"
         },
         "type": "scatter",
         "mode": "markers+lines"
        }
       ],
       "layout": {
        "template": {
         "data": {
          "histogram2dcontour": [
           {
            "type": "histogram2dcontour",
            "colorbar": {
             "outlinewidth": 0,
             "ticks": ""
            },
            "colorscale": [
             [
              0.0,
              "#0d0887"
             ],
             [
              0.1111111111111111,
              "#46039f"
             ],
             [
              0.2222222222222222,
              "#7201a8"
             ],
             [
              0.3333333333333333,
              "#9c179e"
             ],
             [
              0.4444444444444444,
              "#bd3786"
             ],
             [
              0.5555555555555556,
              "#d8576b"
             ],
             [
              0.6666666666666666,
              "#ed7953"
             ],
             [
              0.7777777777777778,
              "#fb9f3a"
             ],
             [
              0.8888888888888888,
              "#fdca26"
             ],
             [
              1.0,
              "#f0f921"
             ]
            ]
           }
          ],
          "choropleth": [
           {
            "type": "choropleth",
            "colorbar": {
             "outlinewidth": 0,
             "ticks": ""
            }
           }
          ],
          "histogram2d": [
           {
            "type": "histogram2d",
            "colorbar": {
             "outlinewidth": 0,
             "ticks": ""
            },
            "colorscale": [
             [
              0.0,
              "#0d0887"
             ],
             [
              0.1111111111111111,
              "#46039f"
             ],
             [
              0.2222222222222222,
              "#7201a8"
             ],
             [
              0.3333333333333333,
              "#9c179e"
             ],
             [
              0.4444444444444444,
              "#bd3786"
             ],
             [
              0.5555555555555556,
              "#d8576b"
             ],
             [
              0.6666666666666666,
              "#ed7953"
             ],
             [
              0.7777777777777778,
              "#fb9f3a"
             ],
             [
              0.8888888888888888,
              "#fdca26"
             ],
             [
              1.0,
              "#f0f921"
             ]
            ]
           }
          ],
          "heatmap": [
           {
            "type": "heatmap",
            "colorbar": {
             "outlinewidth": 0,
             "ticks": ""
            },
            "colorscale": [
             [
              0.0,
              "#0d0887"
             ],
             [
              0.1111111111111111,
              "#46039f"
             ],
             [
              0.2222222222222222,
              "#7201a8"
             ],
             [
              0.3333333333333333,
              "#9c179e"
             ],
             [
              0.4444444444444444,
              "#bd3786"
             ],
             [
              0.5555555555555556,
              "#d8576b"
             ],
             [
              0.6666666666666666,
              "#ed7953"
             ],
             [
              0.7777777777777778,
              "#fb9f3a"
             ],
             [
              0.8888888888888888,
              "#fdca26"
             ],
             [
              1.0,
              "#f0f921"
             ]
            ]
           }
          ],
          "contourcarpet": [
           {
            "type": "contourcarpet",
            "colorbar": {
             "outlinewidth": 0,
             "ticks": ""
            }
           }
          ],
          "contour": [
           {
            "type": "contour",
            "colorbar": {
             "outlinewidth": 0,
             "ticks": ""
            },
            "colorscale": [
             [
              0.0,
              "#0d0887"
             ],
             [
              0.1111111111111111,
              "#46039f"
             ],
             [
              0.2222222222222222,
              "#7201a8"
             ],
             [
              0.3333333333333333,
              "#9c179e"
             ],
             [
              0.4444444444444444,
              "#bd3786"
             ],
             [
              0.5555555555555556,
              "#d8576b"
             ],
             [
              0.6666666666666666,
              "#ed7953"
             ],
             [
              0.7777777777777778,
              "#fb9f3a"
             ],
             [
              0.8888888888888888,
              "#fdca26"
             ],
             [
              1.0,
              "#f0f921"
             ]
            ]
           }
          ],
          "surface": [
           {
            "type": "surface",
            "colorbar": {
             "outlinewidth": 0,
             "ticks": ""
            },
            "colorscale": [
             [
              0.0,
              "#0d0887"
             ],
             [
              0.1111111111111111,
              "#46039f"
             ],
             [
              0.2222222222222222,
              "#7201a8"
             ],
             [
              0.3333333333333333,
              "#9c179e"
             ],
             [
              0.4444444444444444,
              "#bd3786"
             ],
             [
              0.5555555555555556,
              "#d8576b"
             ],
             [
              0.6666666666666666,
              "#ed7953"
             ],
             [
              0.7777777777777778,
              "#fb9f3a"
             ],
             [
              0.8888888888888888,
              "#fdca26"
             ],
             [
              1.0,
              "#f0f921"
             ]
            ]
           }
          ],
          "mesh3d": [
           {
            "type": "mesh3d",
            "colorbar": {
             "outlinewidth": 0,
             "ticks": ""
            }
           }
          ],
          "scatter": [
           {
            "marker": {
             "line": {
              "color": "#283442"
             }
            },
            "type": "scatter"
           }
          ],
          "parcoords": [
           {
            "type": "parcoords",
            "line": {
             "colorbar": {
              "outlinewidth": 0,
              "ticks": ""
             }
            }
           }
          ],
          "scatterpolargl": [
           {
            "type": "scatterpolargl",
            "marker": {
             "colorbar": {
              "outlinewidth": 0,
              "ticks": ""
             }
            }
           }
          ],
          "bar": [
           {
            "error_x": {
             "color": "#f2f5fa"
            },
            "error_y": {
             "color": "#f2f5fa"
            },
            "marker": {
             "line": {
              "color": "rgb(17,17,17)",
              "width": 0.5
             },
             "pattern": {
              "fillmode": "overlay",
              "size": 10,
              "solidity": 0.2
             }
            },
            "type": "bar"
           }
          ],
          "scattergeo": [
           {
            "type": "scattergeo",
            "marker": {
             "colorbar": {
              "outlinewidth": 0,
              "ticks": ""
             }
            }
           }
          ],
          "scatterpolar": [
           {
            "type": "scatterpolar",
            "marker": {
             "colorbar": {
              "outlinewidth": 0,
              "ticks": ""
             }
            }
           }
          ],
          "histogram": [
           {
            "marker": {
             "pattern": {
              "fillmode": "overlay",
              "size": 10,
              "solidity": 0.2
             }
            },
            "type": "histogram"
           }
          ],
          "scattergl": [
           {
            "marker": {
             "line": {
              "color": "#283442"
             }
            },
            "type": "scattergl"
           }
          ],
          "scatter3d": [
           {
            "type": "scatter3d",
            "line": {
             "colorbar": {
              "outlinewidth": 0,
              "ticks": ""
             }
            },
            "marker": {
             "colorbar": {
              "outlinewidth": 0,
              "ticks": ""
             }
            }
           }
          ],
          "scattermap": [
           {
            "type": "scattermap",
            "marker": {
             "colorbar": {
              "outlinewidth": 0,
              "ticks": ""
             }
            }
           }
          ],
          "scattermapbox": [
           {
            "type": "scattermapbox",
            "marker": {
             "colorbar": {
              "outlinewidth": 0,
              "ticks": ""
             }
            }
           }
          ],
          "scatterternary": [
           {
            "type": "scatterternary",
            "marker": {
             "colorbar": {
              "outlinewidth": 0,
              "ticks": ""
             }
            }
           }
          ],
          "scattercarpet": [
           {
            "type": "scattercarpet",
            "marker": {
             "colorbar": {
              "outlinewidth": 0,
              "ticks": ""
             }
            }
           }
          ],
          "carpet": [
           {
            "aaxis": {
             "endlinecolor": "#A2B1C6",
             "gridcolor": "#506784",
             "linecolor": "#506784",
             "minorgridcolor": "#506784",
             "startlinecolor": "#A2B1C6"
            },
            "baxis": {
             "endlinecolor": "#A2B1C6",
             "gridcolor": "#506784",
             "linecolor": "#506784",
             "minorgridcolor": "#506784",
             "startlinecolor": "#A2B1C6"
            },
            "type": "carpet"
           }
          ],
          "table": [
           {
            "cells": {
             "fill": {
              "color": "#506784"
             },
             "line": {
              "color": "rgb(17,17,17)"
             }
            },
            "header": {
             "fill": {
              "color": "#2a3f5f"
             },
             "line": {
              "color": "rgb(17,17,17)"
             }
            },
            "type": "table"
           }
          ],
          "barpolar": [
           {
            "marker": {
             "line": {
              "color": "rgb(17,17,17)",
              "width": 0.5
             },
             "pattern": {
              "fillmode": "overlay",
              "size": 10,
              "solidity": 0.2
             }
            },
            "type": "barpolar"
           }
          ],
          "pie": [
           {
            "automargin": true,
            "type": "pie"
           }
          ]
         },
         "layout": {
          "autotypenumbers": "strict",
          "colorway": [
           "#636efa",
           "#EF553B",
           "#00cc96",
           "#ab63fa",
           "#FFA15A",
           "#19d3f3",
           "#FF6692",
           "#B6E880",
           "#FF97FF",
           "#FECB52"
          ],
          "font": {
           "color": "#f2f5fa"
          },
          "hovermode": "closest",
          "hoverlabel": {
           "align": "left"
          },
          "paper_bgcolor": "rgb(17,17,17)",
          "plot_bgcolor": "rgb(17,17,17)",
          "polar": {
           "bgcolor": "rgb(17,17,17)",
           "angularaxis": {
            "gridcolor": "#506784",
            "linecolor": "#506784",
            "ticks": ""
           },
           "radialaxis": {
            "gridcolor": "#506784",
            "linecolor": "#506784",
            "ticks": ""
           }
          },
          "ternary": {
           "bgcolor": "rgb(17,17,17)",
           "aaxis": {
            "gridcolor": "#506784",
            "linecolor": "#506784",
            "ticks": ""
           },
           "baxis": {
            "gridcolor": "#506784",
            "linecolor": "#506784",
            "ticks": ""
           },
           "caxis": {
            "gridcolor": "#506784",
            "linecolor": "#506784",
            "ticks": ""
           }
          },
          "coloraxis": {
           "colorbar": {
            "outlinewidth": 0,
            "ticks": ""
           }
          },
          "colorscale": {
           "sequential": [
            [
             0.0,
             "#0d0887"
            ],
            [
             0.1111111111111111,
             "#46039f"
            ],
            [
             0.2222222222222222,
             "#7201a8"
            ],
            [
             0.3333333333333333,
             "#9c179e"
            ],
            [
             0.4444444444444444,
             "#bd3786"
            ],
            [
             0.5555555555555556,
             "#d8576b"
            ],
            [
             0.6666666666666666,
             "#ed7953"
            ],
            [
             0.7777777777777778,
             "#fb9f3a"
            ],
            [
             0.8888888888888888,
             "#fdca26"
            ],
            [
             1.0,
             "#f0f921"
            ]
           ],
           "sequentialminus": [
            [
             0.0,
             "#0d0887"
            ],
            [
             0.1111111111111111,
             "#46039f"
            ],
            [
             0.2222222222222222,
             "#7201a8"
            ],
            [
             0.3333333333333333,
             "#9c179e"
            ],
            [
             0.4444444444444444,
             "#bd3786"
            ],
            [
             0.5555555555555556,
             "#d8576b"
            ],
            [
             0.6666666666666666,
             "#ed7953"
            ],
            [
             0.7777777777777778,
             "#fb9f3a"
            ],
            [
             0.8888888888888888,
             "#fdca26"
            ],
            [
             1.0,
             "#f0f921"
            ]
           ],
           "diverging": [
            [
             0,
             "#8e0152"
            ],
            [
             0.1,
             "#c51b7d"
            ],
            [
             0.2,
             "#de77ae"
            ],
            [
             0.3,
             "#f1b6da"
            ],
            [
             0.4,
             "#fde0ef"
            ],
            [
             0.5,
             "#f7f7f7"
            ],
            [
             0.6,
             "#e6f5d0"
            ],
            [
             0.7,
             "#b8e186"
            ],
            [
             0.8,
             "#7fbc41"
            ],
            [
             0.9,
             "#4d9221"
            ],
            [
             1,
             "#276419"
            ]
           ]
          },
          "xaxis": {
           "gridcolor": "#283442",
           "linecolor": "#506784",
           "ticks": "",
           "title": {
            "standoff": 15
           },
           "zerolinecolor": "#283442",
           "automargin": true,
           "zerolinewidth": 2
          },
          "yaxis": {
           "gridcolor": "#283442",
           "linecolor": "#506784",
           "ticks": "",
           "title": {
            "standoff": 15
           },
           "zerolinecolor": "#283442",
           "automargin": true,
           "zerolinewidth": 2
          },
          "scene": {
           "xaxis": {
            "backgroundcolor": "rgb(17,17,17)",
            "gridcolor": "#506784",
            "linecolor": "#506784",
            "showbackground": true,
            "ticks": "",
            "zerolinecolor": "#C8D4E3",
            "gridwidth": 2
           },
           "yaxis": {
            "backgroundcolor": "rgb(17,17,17)",
            "gridcolor": "#506784",
            "linecolor": "#506784",
            "showbackground": true,
            "ticks": "",
            "zerolinecolor": "#C8D4E3",
            "gridwidth": 2
           },
           "zaxis": {
            "backgroundcolor": "rgb(17,17,17)",
            "gridcolor": "#506784",
            "linecolor": "#506784",
            "showbackground": true,
            "ticks": "",
            "zerolinecolor": "#C8D4E3",
            "gridwidth": 2
           }
          },
          "shapedefaults": {
           "line": {
            "color": "#f2f5fa"
           }
          },
          "annotationdefaults": {
           "arrowcolor": "#f2f5fa",
           "arrowhead": 0,
           "arrowwidth": 1
          },
          "geo": {
           "bgcolor": "rgb(17,17,17)",
           "landcolor": "rgb(17,17,17)",
           "subunitcolor": "#506784",
           "showland": true,
           "showlakes": true,
           "lakecolor": "rgb(17,17,17)"
          },
          "title": {
           "x": 0.05
          },
          "updatemenudefaults": {
           "bgcolor": "#506784",
           "borderwidth": 0
          },
          "sliderdefaults": {
           "bgcolor": "#C8D4E3",
           "borderwidth": 1,
           "bordercolor": "rgb(17,17,17)",
           "tickwidth": 0
          },
          "mapbox": {
           "style": "dark"
          }
         }
        },
        "xaxis": {
         "anchor": "y",
         "domain": [
          0.0,
          0.45
         ]
        },
        "yaxis": {
         "anchor": "x",
         "domain": [
          0.0,
          1.0
         ]
        },
        "xaxis2": {
         "anchor": "y2",
         "domain": [
          0.55,
          1.0
         ]
        },
        "yaxis2": {
         "anchor": "x2",
         "domain": [
          0.0,
          1.0
         ]
        },
        "width": 2800,
        "autosize": true,
        "hovermode": "x"
       },
       "config": {
        "plotlyServerURL": "https://plot.ly"
       }
      }
     },
     "metadata": {},
     "output_type": "display_data"
    },
    {
     "name": "stdout",
     "output_type": "stream",
     "text": [
      "Cooking Essentials with count -  514\n"
     ]
    },
    {
     "data": {
      "application/vnd.plotly.v1+json": {
       "data": [
        {
         "line": {
          "color": "#bc5090",
          "width": 4
         },
         "opacity": 0.8,
         "y": {
          "dtype": "i2",
          "bdata": "EA4YFXAXKApABmwHGBX8CNAHaBDYDlQLbAe4C3AXxAnECfwIuAtsB3gF5AwIB0wEdA7QB6gWrA2sDYAMgAy4C7gLCAdoEAgH+BEUBawNBBCkBrgLxCKsDawNTB14BfwIbAdMBNAHTASoFqQG0AfQBxQFuAtUC6gWCCB4NxgV1El4NyRFkBoQJwggGC5oKVgbGBUQDrgLxAnsExAOKArcBWgQaBCsDagWKApYGxgVbAe4JPgqJEWwBIA+"
         },
         "type": "scatter",
         "mode": "markers+lines",
         "visible": false
        },
        {
         "line": {
          "color": "#ffa600",
          "width": 4
         },
         "opacity": 0.8,
         "y": {
          "dtype": "i2",
          "bdata": "uAuUEUQWNAgUBdwFlBFsB6QGrA2ADGAJQAbECYgTNAg0CGwHxAlABrAE8ArcBYQDHAykBiQTVAtUC4wKjArECcQJ3AWsDdwFPA9MBFQLPA8UBcQJTB1UC1QLnBiwBGwHQAaEA6QGhAMkE3gFpAakBkwExAlgCSQT9Bp8LpQRHD58LjQ6RBbQIPQarCbEIgwXlBG4C8QJNAjMELgLmAgUBawNrA1UCyQTmAgMF5QRQAbcHgQpNDroA2A7"
         },
         "type": "scatter",
         "mode": "markers+lines",
         "visible": false
        },
        {
         "line": {
          "color": "#bc5090",
          "width": 4
         },
         "opacity": 0.8,
         "y": {
          "dtype": "i4",
          "bdata": "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"
         },
         "type": "scatter",
         "mode": "markers+lines"
        },
        {
         "line": {
          "color": "#ffa600",
          "width": 4
         },
         "opacity": 0.8,
         "y": {
          "dtype": "i4",
          "bdata": "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"
         },
         "type": "scatter",
         "mode": "markers+lines"
        }
       ],
       "layout": {
        "template": {
         "data": {
          "histogram2dcontour": [
           {
            "type": "histogram2dcontour",
            "colorbar": {
             "outlinewidth": 0,
             "ticks": ""
            },
            "colorscale": [
             [
              0.0,
              "#0d0887"
             ],
             [
              0.1111111111111111,
              "#46039f"
             ],
             [
              0.2222222222222222,
              "#7201a8"
             ],
             [
              0.3333333333333333,
              "#9c179e"
             ],
             [
              0.4444444444444444,
              "#bd3786"
             ],
             [
              0.5555555555555556,
              "#d8576b"
             ],
             [
              0.6666666666666666,
              "#ed7953"
             ],
             [
              0.7777777777777778,
              "#fb9f3a"
             ],
             [
              0.8888888888888888,
              "#fdca26"
             ],
             [
              1.0,
              "#f0f921"
             ]
            ]
           }
          ],
          "choropleth": [
           {
            "type": "choropleth",
            "colorbar": {
             "outlinewidth": 0,
             "ticks": ""
            }
           }
          ],
          "histogram2d": [
           {
            "type": "histogram2d",
            "colorbar": {
             "outlinewidth": 0,
             "ticks": ""
            },
            "colorscale": [
             [
              0.0,
              "#0d0887"
             ],
             [
              0.1111111111111111,
              "#46039f"
             ],
             [
              0.2222222222222222,
              "#7201a8"
             ],
             [
              0.3333333333333333,
              "#9c179e"
             ],
             [
              0.4444444444444444,
              "#bd3786"
             ],
             [
              0.5555555555555556,
              "#d8576b"
             ],
             [
              0.6666666666666666,
              "#ed7953"
             ],
             [
              0.7777777777777778,
              "#fb9f3a"
             ],
             [
              0.8888888888888888,
              "#fdca26"
             ],
             [
              1.0,
              "#f0f921"
             ]
            ]
           }
          ],
          "heatmap": [
           {
            "type": "heatmap",
            "colorbar": {
             "outlinewidth": 0,
             "ticks": ""
            },
            "colorscale": [
             [
              0.0,
              "#0d0887"
             ],
             [
              0.1111111111111111,
              "#46039f"
             ],
             [
              0.2222222222222222,
              "#7201a8"
             ],
             [
              0.3333333333333333,
              "#9c179e"
             ],
             [
              0.4444444444444444,
              "#bd3786"
             ],
             [
              0.5555555555555556,
              "#d8576b"
             ],
             [
              0.6666666666666666,
              "#ed7953"
             ],
             [
              0.7777777777777778,
              "#fb9f3a"
             ],
             [
              0.8888888888888888,
              "#fdca26"
             ],
             [
              1.0,
              "#f0f921"
             ]
            ]
           }
          ],
          "contourcarpet": [
           {
            "type": "contourcarpet",
            "colorbar": {
             "outlinewidth": 0,
             "ticks": ""
            }
           }
          ],
          "contour": [
           {
            "type": "contour",
            "colorbar": {
             "outlinewidth": 0,
             "ticks": ""
            },
            "colorscale": [
             [
              0.0,
              "#0d0887"
             ],
             [
              0.1111111111111111,
              "#46039f"
             ],
             [
              0.2222222222222222,
              "#7201a8"
             ],
             [
              0.3333333333333333,
              "#9c179e"
             ],
             [
              0.4444444444444444,
              "#bd3786"
             ],
             [
              0.5555555555555556,
              "#d8576b"
             ],
             [
              0.6666666666666666,
              "#ed7953"
             ],
             [
              0.7777777777777778,
              "#fb9f3a"
             ],
             [
              0.8888888888888888,
              "#fdca26"
             ],
             [
              1.0,
              "#f0f921"
             ]
            ]
           }
          ],
          "surface": [
           {
            "type": "surface",
            "colorbar": {
             "outlinewidth": 0,
             "ticks": ""
            },
            "colorscale": [
             [
              0.0,
              "#0d0887"
             ],
             [
              0.1111111111111111,
              "#46039f"
             ],
             [
              0.2222222222222222,
              "#7201a8"
             ],
             [
              0.3333333333333333,
              "#9c179e"
             ],
             [
              0.4444444444444444,
              "#bd3786"
             ],
             [
              0.5555555555555556,
              "#d8576b"
             ],
             [
              0.6666666666666666,
              "#ed7953"
             ],
             [
              0.7777777777777778,
              "#fb9f3a"
             ],
             [
              0.8888888888888888,
              "#fdca26"
             ],
             [
              1.0,
              "#f0f921"
             ]
            ]
           }
          ],
          "mesh3d": [
           {
            "type": "mesh3d",
            "colorbar": {
             "outlinewidth": 0,
             "ticks": ""
            }
           }
          ],
          "scatter": [
           {
            "marker": {
             "line": {
              "color": "#283442"
             }
            },
            "type": "scatter"
           }
          ],
          "parcoords": [
           {
            "type": "parcoords",
            "line": {
             "colorbar": {
              "outlinewidth": 0,
              "ticks": ""
             }
            }
           }
          ],
          "scatterpolargl": [
           {
            "type": "scatterpolargl",
            "marker": {
             "colorbar": {
              "outlinewidth": 0,
              "ticks": ""
             }
            }
           }
          ],
          "bar": [
           {
            "error_x": {
             "color": "#f2f5fa"
            },
            "error_y": {
             "color": "#f2f5fa"
            },
            "marker": {
             "line": {
              "color": "rgb(17,17,17)",
              "width": 0.5
             },
             "pattern": {
              "fillmode": "overlay",
              "size": 10,
              "solidity": 0.2
             }
            },
            "type": "bar"
           }
          ],
          "scattergeo": [
           {
            "type": "scattergeo",
            "marker": {
             "colorbar": {
              "outlinewidth": 0,
              "ticks": ""
             }
            }
           }
          ],
          "scatterpolar": [
           {
            "type": "scatterpolar",
            "marker": {
             "colorbar": {
              "outlinewidth": 0,
              "ticks": ""
             }
            }
           }
          ],
          "histogram": [
           {
            "marker": {
             "pattern": {
              "fillmode": "overlay",
              "size": 10,
              "solidity": 0.2
             }
            },
            "type": "histogram"
           }
          ],
          "scattergl": [
           {
            "marker": {
             "line": {
              "color": "#283442"
             }
            },
            "type": "scattergl"
           }
          ],
          "scatter3d": [
           {
            "type": "scatter3d",
            "line": {
             "colorbar": {
              "outlinewidth": 0,
              "ticks": ""
             }
            },
            "marker": {
             "colorbar": {
              "outlinewidth": 0,
              "ticks": ""
             }
            }
           }
          ],
          "scattermap": [
           {
            "type": "scattermap",
            "marker": {
             "colorbar": {
              "outlinewidth": 0,
              "ticks": ""
             }
            }
           }
          ],
          "scattermapbox": [
           {
            "type": "scattermapbox",
            "marker": {
             "colorbar": {
              "outlinewidth": 0,
              "ticks": ""
             }
            }
           }
          ],
          "scatterternary": [
           {
            "type": "scatterternary",
            "marker": {
             "colorbar": {
              "outlinewidth": 0,
              "ticks": ""
             }
            }
           }
          ],
          "scattercarpet": [
           {
            "type": "scattercarpet",
            "marker": {
             "colorbar": {
              "outlinewidth": 0,
              "ticks": ""
             }
            }
           }
          ],
          "carpet": [
           {
            "aaxis": {
             "endlinecolor": "#A2B1C6",
             "gridcolor": "#506784",
             "linecolor": "#506784",
             "minorgridcolor": "#506784",
             "startlinecolor": "#A2B1C6"
            },
            "baxis": {
             "endlinecolor": "#A2B1C6",
             "gridcolor": "#506784",
             "linecolor": "#506784",
             "minorgridcolor": "#506784",
             "startlinecolor": "#A2B1C6"
            },
            "type": "carpet"
           }
          ],
          "table": [
           {
            "cells": {
             "fill": {
              "color": "#506784"
             },
             "line": {
              "color": "rgb(17,17,17)"
             }
            },
            "header": {
             "fill": {
              "color": "#2a3f5f"
             },
             "line": {
              "color": "rgb(17,17,17)"
             }
            },
            "type": "table"
           }
          ],
          "barpolar": [
           {
            "marker": {
             "line": {
              "color": "rgb(17,17,17)",
              "width": 0.5
             },
             "pattern": {
              "fillmode": "overlay",
              "size": 10,
              "solidity": 0.2
             }
            },
            "type": "barpolar"
           }
          ],
          "pie": [
           {
            "automargin": true,
            "type": "pie"
           }
          ]
         },
         "layout": {
          "autotypenumbers": "strict",
          "colorway": [
           "#636efa",
           "#EF553B",
           "#00cc96",
           "#ab63fa",
           "#FFA15A",
           "#19d3f3",
           "#FF6692",
           "#B6E880",
           "#FF97FF",
           "#FECB52"
          ],
          "font": {
           "color": "#f2f5fa"
          },
          "hovermode": "closest",
          "hoverlabel": {
           "align": "left"
          },
          "paper_bgcolor": "rgb(17,17,17)",
          "plot_bgcolor": "rgb(17,17,17)",
          "polar": {
           "bgcolor": "rgb(17,17,17)",
           "angularaxis": {
            "gridcolor": "#506784",
            "linecolor": "#506784",
            "ticks": ""
           },
           "radialaxis": {
            "gridcolor": "#506784",
            "linecolor": "#506784",
            "ticks": ""
           }
          },
          "ternary": {
           "bgcolor": "rgb(17,17,17)",
           "aaxis": {
            "gridcolor": "#506784",
            "linecolor": "#506784",
            "ticks": ""
           },
           "baxis": {
            "gridcolor": "#506784",
            "linecolor": "#506784",
            "ticks": ""
           },
           "caxis": {
            "gridcolor": "#506784",
            "linecolor": "#506784",
            "ticks": ""
           }
          },
          "coloraxis": {
           "colorbar": {
            "outlinewidth": 0,
            "ticks": ""
           }
          },
          "colorscale": {
           "sequential": [
            [
             0.0,
             "#0d0887"
            ],
            [
             0.1111111111111111,
             "#46039f"
            ],
            [
             0.2222222222222222,
             "#7201a8"
            ],
            [
             0.3333333333333333,
             "#9c179e"
            ],
            [
             0.4444444444444444,
             "#bd3786"
            ],
            [
             0.5555555555555556,
             "#d8576b"
            ],
            [
             0.6666666666666666,
             "#ed7953"
            ],
            [
             0.7777777777777778,
             "#fb9f3a"
            ],
            [
             0.8888888888888888,
             "#fdca26"
            ],
            [
             1.0,
             "#f0f921"
            ]
           ],
           "sequentialminus": [
            [
             0.0,
             "#0d0887"
            ],
            [
             0.1111111111111111,
             "#46039f"
            ],
            [
             0.2222222222222222,
             "#7201a8"
            ],
            [
             0.3333333333333333,
             "#9c179e"
            ],
            [
             0.4444444444444444,
             "#bd3786"
            ],
            [
             0.5555555555555556,
             "#d8576b"
            ],
            [
             0.6666666666666666,
             "#ed7953"
            ],
            [
             0.7777777777777778,
             "#fb9f3a"
            ],
            [
             0.8888888888888888,
             "#fdca26"
            ],
            [
             1.0,
             "#f0f921"
            ]
           ],
           "diverging": [
            [
             0,
             "#8e0152"
            ],
            [
             0.1,
             "#c51b7d"
            ],
            [
             0.2,
             "#de77ae"
            ],
            [
             0.3,
             "#f1b6da"
            ],
            [
             0.4,
             "#fde0ef"
            ],
            [
             0.5,
             "#f7f7f7"
            ],
            [
             0.6,
             "#e6f5d0"
            ],
            [
             0.7,
             "#b8e186"
            ],
            [
             0.8,
             "#7fbc41"
            ],
            [
             0.9,
             "#4d9221"
            ],
            [
             1,
             "#276419"
            ]
           ]
          },
          "xaxis": {
           "gridcolor": "#283442",
           "linecolor": "#506784",
           "ticks": "",
           "title": {
            "standoff": 15
           },
           "zerolinecolor": "#283442",
           "automargin": true,
           "zerolinewidth": 2
          },
          "yaxis": {
           "gridcolor": "#283442",
           "linecolor": "#506784",
           "ticks": "",
           "title": {
            "standoff": 15
           },
           "zerolinecolor": "#283442",
           "automargin": true,
           "zerolinewidth": 2
          },
          "scene": {
           "xaxis": {
            "backgroundcolor": "rgb(17,17,17)",
            "gridcolor": "#506784",
            "linecolor": "#506784",
            "showbackground": true,
            "ticks": "",
            "zerolinecolor": "#C8D4E3",
            "gridwidth": 2
           },
           "yaxis": {
            "backgroundcolor": "rgb(17,17,17)",
            "gridcolor": "#506784",
            "linecolor": "#506784",
            "showbackground": true,
            "ticks": "",
            "zerolinecolor": "#C8D4E3",
            "gridwidth": 2
           },
           "zaxis": {
            "backgroundcolor": "rgb(17,17,17)",
            "gridcolor": "#506784",
            "linecolor": "#506784",
            "showbackground": true,
            "ticks": "",
            "zerolinecolor": "#C8D4E3",
            "gridwidth": 2
           }
          },
          "shapedefaults": {
           "line": {
            "color": "#f2f5fa"
           }
          },
          "annotationdefaults": {
           "arrowcolor": "#f2f5fa",
           "arrowhead": 0,
           "arrowwidth": 1
          },
          "geo": {
           "bgcolor": "rgb(17,17,17)",
           "landcolor": "rgb(17,17,17)",
           "subunitcolor": "#506784",
           "showland": true,
           "showlakes": true,
           "lakecolor": "rgb(17,17,17)"
          },
          "title": {
           "x": 0.05
          },
          "updatemenudefaults": {
           "bgcolor": "#506784",
           "borderwidth": 0
          },
          "sliderdefaults": {
           "bgcolor": "#C8D4E3",
           "borderwidth": 1,
           "bordercolor": "rgb(17,17,17)",
           "tickwidth": 0
          },
          "mapbox": {
           "style": "dark"
          }
         }
        },
        "xaxis": {
         "anchor": "y",
         "domain": [
          0.0,
          0.45
         ]
        },
        "yaxis": {
         "anchor": "x",
         "domain": [
          0.0,
          1.0
         ]
        },
        "xaxis2": {
         "anchor": "y2",
         "domain": [
          0.55,
          1.0
         ]
        },
        "yaxis2": {
         "anchor": "x2",
         "domain": [
          0.0,
          1.0
         ]
        },
        "width": 2800,
        "autosize": true,
        "hovermode": "x"
       },
       "config": {
        "plotlyServerURL": "https://plot.ly"
       }
      }
     },
     "metadata": {},
     "output_type": "display_data"
    },
    {
     "name": "stdout",
     "output_type": "stream",
     "text": [
      "Dairy, Bread & Batter with count -  129\n"
     ]
    },
    {
     "data": {
      "application/vnd.plotly.v1+json": {
       "data": [
        {
         "line": {
          "color": "#bc5090",
          "width": 4
         },
         "opacity": 0.8,
         "y": {
          "dtype": "i2",
          "bdata": "EA4YFXAXKApABmwHGBX8CNAHaBDYDlQLbAe4C3AXxAnECfwIuAtsB3gF5AwIB0wEdA7QB6gWrA2sDYAMgAy4C7gLCAdoEAgH+BEUBawNBBCkBrgLxCKsDawNTB14BfwIbAdMBNAHTASoFqQG0AfQBxQFuAtUC6gWCCB4NxgV1El4NyRFkBoQJwggGC5oKVgbGBUQDrgLxAnsExAOKArcBWgQaBCsDagWKApYGxgVbAe4JPgqJEWwBIA+"
         },
         "type": "scatter",
         "mode": "markers+lines",
         "visible": false
        },
        {
         "line": {
          "color": "#ffa600",
          "width": 4
         },
         "opacity": 0.8,
         "y": {
          "dtype": "i2",
          "bdata": "uAuUEUQWNAgUBdwFlBFsB6QGrA2ADGAJQAbECYgTNAg0CGwHxAlABrAE8ArcBYQDHAykBiQTVAtUC4wKjArECcQJ3AWsDdwFPA9MBFQLPA8UBcQJTB1UC1QLnBiwBGwHQAaEA6QGhAMkE3gFpAakBkwExAlgCSQT9Bp8LpQRHD58LjQ6RBbQIPQarCbEIgwXlBG4C8QJNAjMELgLmAgUBawNrA1UCyQTmAgMF5QRQAbcHgQpNDroA2A7"
         },
         "type": "scatter",
         "mode": "markers+lines",
         "visible": false
        },
        {
         "line": {
          "color": "#bc5090",
          "width": 4
         },
         "opacity": 0.8,
         "y": {
          "dtype": "i4",
          "bdata": "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"
         },
         "type": "scatter",
         "mode": "markers+lines",
         "visible": false
        },
        {
         "line": {
          "color": "#ffa600",
          "width": 4
         },
         "opacity": 0.8,
         "y": {
          "dtype": "i4",
          "bdata": "ECcAAJg6AAC0qgAAFFAAANhZAADMKQAACCAAAMT9AQDQawAAkBoAAHxHAAAAGQAArA0AAOgcAAAEEAAAgAwAAARCAAA8cwAAPHMAAGAiAAC0eAAAWBsAACBOAAD8bAAAuCQAABgVAACgDwAAsDYAALw0AADgLgAAxCIAACAcAADARAAAaEIAADxzAABIPwAA0CAAAMRtAABQLQAAMCoAAOQlAAAcPgAAPCgAAJwYAABMHQAAnBgAAMBEAADUMAAApB8AAKgvAADwPAAAMCoAAKhhAABIDQAAuCQAAIgTAADEIgAACCAAAFwrAAAAMgAAxCIAANBSAAAUHgAA5FcAACAcAADcHgAAJBMAANQwAACoFgAA1DAAABgVAACkHwAApB8AAMQiAAA0OgAAwCsAAMxCAADgFQAAYCIAAEwdAAAQDgAAnBgAABQeAADMQgAASA0AALw0AACoYQAABCkAAMwQAADEIgAAYCIAACgjAADwCgAAQB8AAPQaAAA4SgAApDgAAAAyAAAcJQAASA0AAEg/AABAHwAAeB4AACAcAACwTwAA4C4AAKQfAADMKQAAZBkAAAAZAACoLwAAIBwAAJi3AAB0cgAAKCMAAFwSAABQFAAA3B4AACAcAAAMFwAAQB8AACQsAABEYQAAPHMAACQTAAAgTgAAIE4AADRTAACcGAAA3B4AAEQWAAAEdAAAqGEAANw3AACgKAAAXBIAAAhSAACUKgAAADIAAJg6AADoZwAAXEQAADhKAACQGgAAbDkAAHAwAAAUHgAA0CAAADARAAAgHAAAGBUAAEAfAACkHwAAHD4AAKwmAACIRQAAzBAAAKgWAADISwAA6GcAABgVAADskAAADGIAAIxuAAAYLgAAQDgAAMx0AAAIUgAA3DcAAOAuAACcGAAAHCUAABguAACUEQAAcBcAAOxFAABwFwAAcBcAALxNAAAYLgAA8DwAADxBAADsXgAA+BEAAMx0AACsDQAAiBMAANhAAAC8GwAA/AgAAFAUAADsEwAAcBcAAJwYAAD4KgAAMEMAAMxbAABAagAAmDoAAJAzAAD0GgAAXF0AAEQWAAC0XwAAUBQAAFwSAACYIQAAHCUAAMASAACYIQAAnBgAAOwsAAAkEwAAdCcAAJQRAADMdAAAlBEAABwlAAB4NwAAiEUAAPgqAACMCgAAXBIAACRFAADMEAAAwBIAADwPAACcfAAAXBIAAAAyAADQhAAA0IQAAMQiAAD8bAAAAGQAAPgqAADsLAAAJBMAABgVAACIRQAA1BcAALgkAADoZwAAxCIAAMQiAABsUgAAHCUAADAqAADAqAAAGBUAABwMAAAMFwAA7BMAACQTAACsJgAAECcAADwPAAAEQgAAHCUAANwFAABYGwAAQB8AAMQJAABkGQAA2A4AACAcAADEIgAAWBsAAEwdAABAHwAAADIAAGQZAADUMAAA+BEAANQXAABMHQAAIBwAAFQLAADYDgAAgAwAACgjAAB0DgAACAcAABAOAABIDQAALBoAAKgWAABAUQAAkBoAAFwSAADEIgAAnBgAADARAAB0DgAA0AcAADwPAABUPQAAQB8AAGQZAABwFwAAwBIAABwlAAC0LQAALBoAAFAUAADMQgAA7CwAAIQcAAAwEQAAxAkAABguAABcEgAAkGUAADAqAADQBwAAWDQAAPwIAAAYFQAAMBEAADARAAAwEQAAMBEAAFAUAABgIgAAlBEAAHwVAABQFAAA/CEAAOQlAABQFAAAxAkAAKwmAACsJgAArCYAABgVAAAcJQAAlBEAAIgTAADQBwAAsAQAAMQJAAD8CAAA/AgAADARAAAwEQAA3AUAANwFAADECQAAMBEAANwFAAAwEQAAMBEAANAHAABoEAAA+BEAAFhNAADkDAAAyBkAAIgTAAC4CwAA2A4AABRQAADECQAABBAAAHAXAADkDAAApB8AAAQQAABUCwAA2A4AAGQZAADcBQAASA0AABAOAAA4GAAA2A4AABAnAAA8DwAAQDgAAMgZAAAMYgAAoA8AAFQLAACADAAAgAwAACgjAACYCAAAxAkAAOwTAABIDQAAPA8AANAHAAAoIwAATDYAAHhpAABAHwAASA0AANwFAADcBQAASCYAAKwmAACsJgAAnBgAAMQJAADkDAAAcBcAAOgDAAAkEwAAJBMAAOgDAACkHwAAFFAAAEgNAADoAwAA6AMAAOgDAACIEwAArCYAAOQlAAB8kgAA3JsAAEgmAADcHgAAfBUAABwlAAC0XwAATJQBAOhnAACMbgAAPIYBABxwAAC0XwAAGPYAACiaAQBg5AEA3JUBADylAAAslwAAeLQAABSCAACEZwAA4HkAAGxrAABggAEAVGkBAHy+AQBQqgAAfCICAGSvAAC4JAAAyEsAALA2AACMhwAA1DAAACyXAAAMFwAAQFEAAOB5AADgYAAAUJEAAFAUAABgCQAAWDQAADhKAADMQgAAJJAAANweAAAIUgAA1DAAABAOAAD8UwAAvE0AAAhSAADswgAAtNwAAARCAACMVQAA4BUAAFxdAADgRwAAHCUAANhyAAAAGQAAcBcAAFxdAADcmwAAeFAAAFxEAAD8UwAAhMsAALxNAABMHQAAbDkAALxNAABwFwAALOIAABgVAAC0RgAAuCQAAAwXAADgLgAAbAcAAOAVAABQFAAATB0AAOAVAACcSgAA1MYAADQ6AAA4GAAATE8AAJAaAADEIgAA4C4AAA=="
         },
         "type": "scatter",
         "mode": "markers+lines",
         "visible": false
        },
        {
         "line": {
          "color": "#bc5090",
          "width": 4
         },
         "opacity": 0.8,
         "y": {
          "dtype": "i4",
          "bdata": "oIwAAMQJAAAcDAAAtF8AALRfAAD4KgAAtF8AAGAiAADMWwAAoA8AAJQRAABoEAAAcBcAAHwVAACsDQAAuAsAAFgbAAAgTgAAeB4AAAhSAABEYQAAmDoAAKAPAAB4HgAAZBkAAERhAACYOgAABEIAALgLAAB0WQAABEIAAOQMAADMWwAAREgAAPxTAADMWwAA/FMAAKwNAACYCAAAnBgAAMQJAAC4CwAA4BUAAJg6AABsawAApDgAAIw8AABwFwAAGBUAAEwdAABYGwAAbGsAAKwmAACwNgAAoA8AAEwdAACUKgAAqC8AAGgpAAAEKQAATB0AAGgpAAA0IQAArA0AAMQiAAA8cwAAuAsAAEAfAAA0IQAANCEAABAnAACwHQAA1DAAANQwAACgDwAA1DAAAJg6AAA8cwAAvE0AALA2AACsJgAAvE0AAKyKAABsawAApDgAAKwmAACoYQAA+CoAADQhAACsJgAArCYAABAnAAC4CwAABEIAALgLAAAQJwAA+CoAAKQGAACIEwAAGBUAALwbAADEhgAA0AcAAKAPAADcBQAAECcAAAgHAAAMFwAAlBEAALgLAADkJQAAOBgAACAcAAAgHAAATB0AAOAuAAAgHAAANCEAAGQZAAD4KgAAIBwAADB1AAD0TAAAQB8AAMxbAABwlAAAyBkAAEwdAADEIgAA"
         },
         "type": "scatter",
         "mode": "markers+lines"
        },
        {
         "line": {
          "color": "#ffa600",
          "width": 4
         },
         "opacity": 0.8,
         "y": {
          "dtype": "i4",
          "bdata": "PIwAAMQJAAAcDAAAwF0AAMBdAAAEKQAA+FwAAJghAACgWgAAoA8AAJQRAABoEAAAcBcAAHwVAABIDQAAuAsAAJAaAAAgTgAATB0AAAhSAACUXAAA3DcAAKAPAABMHQAAZBkAAERhAACYOgAABEIAAFQLAAB4UAAA8DwAAOQMAAD4QwAA0DkAAMhLAABwSQAAMEMAAKwNAACYCAAAnBgAAGAJAAC4CwAAGBUAAJg6AACENQAApDgAAIw8AABEFgAA7BMAAEwdAABYGwAAhDUAALgkAAD0MwAAoA8AACAcAACgKAAA4C4AAGgpAACsJgAAhBwAAHQnAAAIIAAASA0AAKQfAABsOQAAuAsAAEAfAAAIIAAANCEAAKwmAACEHAAAfC4AABguAACgDwAAGC4AAJg6AABsOQAA1EkAAPQzAAC4JAAA1EkAACRFAACENQAAhDUAALgkAADUMAAA+CoAAEAfAAC4JAAAYCIAABwlAAC4CwAA5D4AALgLAAAcJQAA+CoAAKQGAAAkEwAAGBUAAFgbAACUXAAA0AcAADwPAADcBQAAHCUAAKQGAABEFgAAlBEAALgLAADkJQAAOBgAADgYAABwFwAAOBgAAJAaAAA4GAAA3B4AAHwVAAAcJQAAOBgAALxNAACcSgAAkBoAAMxCAABQkQAAABkAAEwdAADEIgAA"
         },
         "type": "scatter",
         "mode": "markers+lines"
        }
       ],
       "layout": {
        "template": {
         "data": {
          "histogram2dcontour": [
           {
            "type": "histogram2dcontour",
            "colorbar": {
             "outlinewidth": 0,
             "ticks": ""
            },
            "colorscale": [
             [
              0.0,
              "#0d0887"
             ],
             [
              0.1111111111111111,
              "#46039f"
             ],
             [
              0.2222222222222222,
              "#7201a8"
             ],
             [
              0.3333333333333333,
              "#9c179e"
             ],
             [
              0.4444444444444444,
              "#bd3786"
             ],
             [
              0.5555555555555556,
              "#d8576b"
             ],
             [
              0.6666666666666666,
              "#ed7953"
             ],
             [
              0.7777777777777778,
              "#fb9f3a"
             ],
             [
              0.8888888888888888,
              "#fdca26"
             ],
             [
              1.0,
              "#f0f921"
             ]
            ]
           }
          ],
          "choropleth": [
           {
            "type": "choropleth",
            "colorbar": {
             "outlinewidth": 0,
             "ticks": ""
            }
           }
          ],
          "histogram2d": [
           {
            "type": "histogram2d",
            "colorbar": {
             "outlinewidth": 0,
             "ticks": ""
            },
            "colorscale": [
             [
              0.0,
              "#0d0887"
             ],
             [
              0.1111111111111111,
              "#46039f"
             ],
             [
              0.2222222222222222,
              "#7201a8"
             ],
             [
              0.3333333333333333,
              "#9c179e"
             ],
             [
              0.4444444444444444,
              "#bd3786"
             ],
             [
              0.5555555555555556,
              "#d8576b"
             ],
             [
              0.6666666666666666,
              "#ed7953"
             ],
             [
              0.7777777777777778,
              "#fb9f3a"
             ],
             [
              0.8888888888888888,
              "#fdca26"
             ],
             [
              1.0,
              "#f0f921"
             ]
            ]
           }
          ],
          "heatmap": [
           {
            "type": "heatmap",
            "colorbar": {
             "outlinewidth": 0,
             "ticks": ""
            },
            "colorscale": [
             [
              0.0,
              "#0d0887"
             ],
             [
              0.1111111111111111,
              "#46039f"
             ],
             [
              0.2222222222222222,
              "#7201a8"
             ],
             [
              0.3333333333333333,
              "#9c179e"
             ],
             [
              0.4444444444444444,
              "#bd3786"
             ],
             [
              0.5555555555555556,
              "#d8576b"
             ],
             [
              0.6666666666666666,
              "#ed7953"
             ],
             [
              0.7777777777777778,
              "#fb9f3a"
             ],
             [
              0.8888888888888888,
              "#fdca26"
             ],
             [
              1.0,
              "#f0f921"
             ]
            ]
           }
          ],
          "contourcarpet": [
           {
            "type": "contourcarpet",
            "colorbar": {
             "outlinewidth": 0,
             "ticks": ""
            }
           }
          ],
          "contour": [
           {
            "type": "contour",
            "colorbar": {
             "outlinewidth": 0,
             "ticks": ""
            },
            "colorscale": [
             [
              0.0,
              "#0d0887"
             ],
             [
              0.1111111111111111,
              "#46039f"
             ],
             [
              0.2222222222222222,
              "#7201a8"
             ],
             [
              0.3333333333333333,
              "#9c179e"
             ],
             [
              0.4444444444444444,
              "#bd3786"
             ],
             [
              0.5555555555555556,
              "#d8576b"
             ],
             [
              0.6666666666666666,
              "#ed7953"
             ],
             [
              0.7777777777777778,
              "#fb9f3a"
             ],
             [
              0.8888888888888888,
              "#fdca26"
             ],
             [
              1.0,
              "#f0f921"
             ]
            ]
           }
          ],
          "surface": [
           {
            "type": "surface",
            "colorbar": {
             "outlinewidth": 0,
             "ticks": ""
            },
            "colorscale": [
             [
              0.0,
              "#0d0887"
             ],
             [
              0.1111111111111111,
              "#46039f"
             ],
             [
              0.2222222222222222,
              "#7201a8"
             ],
             [
              0.3333333333333333,
              "#9c179e"
             ],
             [
              0.4444444444444444,
              "#bd3786"
             ],
             [
              0.5555555555555556,
              "#d8576b"
             ],
             [
              0.6666666666666666,
              "#ed7953"
             ],
             [
              0.7777777777777778,
              "#fb9f3a"
             ],
             [
              0.8888888888888888,
              "#fdca26"
             ],
             [
              1.0,
              "#f0f921"
             ]
            ]
           }
          ],
          "mesh3d": [
           {
            "type": "mesh3d",
            "colorbar": {
             "outlinewidth": 0,
             "ticks": ""
            }
           }
          ],
          "scatter": [
           {
            "marker": {
             "line": {
              "color": "#283442"
             }
            },
            "type": "scatter"
           }
          ],
          "parcoords": [
           {
            "type": "parcoords",
            "line": {
             "colorbar": {
              "outlinewidth": 0,
              "ticks": ""
             }
            }
           }
          ],
          "scatterpolargl": [
           {
            "type": "scatterpolargl",
            "marker": {
             "colorbar": {
              "outlinewidth": 0,
              "ticks": ""
             }
            }
           }
          ],
          "bar": [
           {
            "error_x": {
             "color": "#f2f5fa"
            },
            "error_y": {
             "color": "#f2f5fa"
            },
            "marker": {
             "line": {
              "color": "rgb(17,17,17)",
              "width": 0.5
             },
             "pattern": {
              "fillmode": "overlay",
              "size": 10,
              "solidity": 0.2
             }
            },
            "type": "bar"
           }
          ],
          "scattergeo": [
           {
            "type": "scattergeo",
            "marker": {
             "colorbar": {
              "outlinewidth": 0,
              "ticks": ""
             }
            }
           }
          ],
          "scatterpolar": [
           {
            "type": "scatterpolar",
            "marker": {
             "colorbar": {
              "outlinewidth": 0,
              "ticks": ""
             }
            }
           }
          ],
          "histogram": [
           {
            "marker": {
             "pattern": {
              "fillmode": "overlay",
              "size": 10,
              "solidity": 0.2
             }
            },
            "type": "histogram"
           }
          ],
          "scattergl": [
           {
            "marker": {
             "line": {
              "color": "#283442"
             }
            },
            "type": "scattergl"
           }
          ],
          "scatter3d": [
           {
            "type": "scatter3d",
            "line": {
             "colorbar": {
              "outlinewidth": 0,
              "ticks": ""
             }
            },
            "marker": {
             "colorbar": {
              "outlinewidth": 0,
              "ticks": ""
             }
            }
           }
          ],
          "scattermap": [
           {
            "type": "scattermap",
            "marker": {
             "colorbar": {
              "outlinewidth": 0,
              "ticks": ""
             }
            }
           }
          ],
          "scattermapbox": [
           {
            "type": "scattermapbox",
            "marker": {
             "colorbar": {
              "outlinewidth": 0,
              "ticks": ""
             }
            }
           }
          ],
          "scatterternary": [
           {
            "type": "scatterternary",
            "marker": {
             "colorbar": {
              "outlinewidth": 0,
              "ticks": ""
             }
            }
           }
          ],
          "scattercarpet": [
           {
            "type": "scattercarpet",
            "marker": {
             "colorbar": {
              "outlinewidth": 0,
              "ticks": ""
             }
            }
           }
          ],
          "carpet": [
           {
            "aaxis": {
             "endlinecolor": "#A2B1C6",
             "gridcolor": "#506784",
             "linecolor": "#506784",
             "minorgridcolor": "#506784",
             "startlinecolor": "#A2B1C6"
            },
            "baxis": {
             "endlinecolor": "#A2B1C6",
             "gridcolor": "#506784",
             "linecolor": "#506784",
             "minorgridcolor": "#506784",
             "startlinecolor": "#A2B1C6"
            },
            "type": "carpet"
           }
          ],
          "table": [
           {
            "cells": {
             "fill": {
              "color": "#506784"
             },
             "line": {
              "color": "rgb(17,17,17)"
             }
            },
            "header": {
             "fill": {
              "color": "#2a3f5f"
             },
             "line": {
              "color": "rgb(17,17,17)"
             }
            },
            "type": "table"
           }
          ],
          "barpolar": [
           {
            "marker": {
             "line": {
              "color": "rgb(17,17,17)",
              "width": 0.5
             },
             "pattern": {
              "fillmode": "overlay",
              "size": 10,
              "solidity": 0.2
             }
            },
            "type": "barpolar"
           }
          ],
          "pie": [
           {
            "automargin": true,
            "type": "pie"
           }
          ]
         },
         "layout": {
          "autotypenumbers": "strict",
          "colorway": [
           "#636efa",
           "#EF553B",
           "#00cc96",
           "#ab63fa",
           "#FFA15A",
           "#19d3f3",
           "#FF6692",
           "#B6E880",
           "#FF97FF",
           "#FECB52"
          ],
          "font": {
           "color": "#f2f5fa"
          },
          "hovermode": "closest",
          "hoverlabel": {
           "align": "left"
          },
          "paper_bgcolor": "rgb(17,17,17)",
          "plot_bgcolor": "rgb(17,17,17)",
          "polar": {
           "bgcolor": "rgb(17,17,17)",
           "angularaxis": {
            "gridcolor": "#506784",
            "linecolor": "#506784",
            "ticks": ""
           },
           "radialaxis": {
            "gridcolor": "#506784",
            "linecolor": "#506784",
            "ticks": ""
           }
          },
          "ternary": {
           "bgcolor": "rgb(17,17,17)",
           "aaxis": {
            "gridcolor": "#506784",
            "linecolor": "#506784",
            "ticks": ""
           },
           "baxis": {
            "gridcolor": "#506784",
            "linecolor": "#506784",
            "ticks": ""
           },
           "caxis": {
            "gridcolor": "#506784",
            "linecolor": "#506784",
            "ticks": ""
           }
          },
          "coloraxis": {
           "colorbar": {
            "outlinewidth": 0,
            "ticks": ""
           }
          },
          "colorscale": {
           "sequential": [
            [
             0.0,
             "#0d0887"
            ],
            [
             0.1111111111111111,
             "#46039f"
            ],
            [
             0.2222222222222222,
             "#7201a8"
            ],
            [
             0.3333333333333333,
             "#9c179e"
            ],
            [
             0.4444444444444444,
             "#bd3786"
            ],
            [
             0.5555555555555556,
             "#d8576b"
            ],
            [
             0.6666666666666666,
             "#ed7953"
            ],
            [
             0.7777777777777778,
             "#fb9f3a"
            ],
            [
             0.8888888888888888,
             "#fdca26"
            ],
            [
             1.0,
             "#f0f921"
            ]
           ],
           "sequentialminus": [
            [
             0.0,
             "#0d0887"
            ],
            [
             0.1111111111111111,
             "#46039f"
            ],
            [
             0.2222222222222222,
             "#7201a8"
            ],
            [
             0.3333333333333333,
             "#9c179e"
            ],
            [
             0.4444444444444444,
             "#bd3786"
            ],
            [
             0.5555555555555556,
             "#d8576b"
            ],
            [
             0.6666666666666666,
             "#ed7953"
            ],
            [
             0.7777777777777778,
             "#fb9f3a"
            ],
            [
             0.8888888888888888,
             "#fdca26"
            ],
            [
             1.0,
             "#f0f921"
            ]
           ],
           "diverging": [
            [
             0,
             "#8e0152"
            ],
            [
             0.1,
             "#c51b7d"
            ],
            [
             0.2,
             "#de77ae"
            ],
            [
             0.3,
             "#f1b6da"
            ],
            [
             0.4,
             "#fde0ef"
            ],
            [
             0.5,
             "#f7f7f7"
            ],
            [
             0.6,
             "#e6f5d0"
            ],
            [
             0.7,
             "#b8e186"
            ],
            [
             0.8,
             "#7fbc41"
            ],
            [
             0.9,
             "#4d9221"
            ],
            [
             1,
             "#276419"
            ]
           ]
          },
          "xaxis": {
           "gridcolor": "#283442",
           "linecolor": "#506784",
           "ticks": "",
           "title": {
            "standoff": 15
           },
           "zerolinecolor": "#283442",
           "automargin": true,
           "zerolinewidth": 2
          },
          "yaxis": {
           "gridcolor": "#283442",
           "linecolor": "#506784",
           "ticks": "",
           "title": {
            "standoff": 15
           },
           "zerolinecolor": "#283442",
           "automargin": true,
           "zerolinewidth": 2
          },
          "scene": {
           "xaxis": {
            "backgroundcolor": "rgb(17,17,17)",
            "gridcolor": "#506784",
            "linecolor": "#506784",
            "showbackground": true,
            "ticks": "",
            "zerolinecolor": "#C8D4E3",
            "gridwidth": 2
           },
           "yaxis": {
            "backgroundcolor": "rgb(17,17,17)",
            "gridcolor": "#506784",
            "linecolor": "#506784",
            "showbackground": true,
            "ticks": "",
            "zerolinecolor": "#C8D4E3",
            "gridwidth": 2
           },
           "zaxis": {
            "backgroundcolor": "rgb(17,17,17)",
            "gridcolor": "#506784",
            "linecolor": "#506784",
            "showbackground": true,
            "ticks": "",
            "zerolinecolor": "#C8D4E3",
            "gridwidth": 2
           }
          },
          "shapedefaults": {
           "line": {
            "color": "#f2f5fa"
           }
          },
          "annotationdefaults": {
           "arrowcolor": "#f2f5fa",
           "arrowhead": 0,
           "arrowwidth": 1
          },
          "geo": {
           "bgcolor": "rgb(17,17,17)",
           "landcolor": "rgb(17,17,17)",
           "subunitcolor": "#506784",
           "showland": true,
           "showlakes": true,
           "lakecolor": "rgb(17,17,17)"
          },
          "title": {
           "x": 0.05
          },
          "updatemenudefaults": {
           "bgcolor": "#506784",
           "borderwidth": 0
          },
          "sliderdefaults": {
           "bgcolor": "#C8D4E3",
           "borderwidth": 1,
           "bordercolor": "rgb(17,17,17)",
           "tickwidth": 0
          },
          "mapbox": {
           "style": "dark"
          }
         }
        },
        "xaxis": {
         "anchor": "y",
         "domain": [
          0.0,
          0.45
         ]
        },
        "yaxis": {
         "anchor": "x",
         "domain": [
          0.0,
          1.0
         ]
        },
        "xaxis2": {
         "anchor": "y2",
         "domain": [
          0.55,
          1.0
         ]
        },
        "yaxis2": {
         "anchor": "x2",
         "domain": [
          0.0,
          1.0
         ]
        },
        "width": 2800,
        "autosize": true,
        "hovermode": "x"
       },
       "config": {
        "plotlyServerURL": "https://plot.ly"
       }
      }
     },
     "metadata": {},
     "output_type": "display_data"
    },
    {
     "name": "stdout",
     "output_type": "stream",
     "text": [
      "Packaged Food with count -  388\n"
     ]
    },
    {
     "data": {
      "application/vnd.plotly.v1+json": {
       "data": [
        {
         "line": {
          "color": "#bc5090",
          "width": 4
         },
         "opacity": 0.8,
         "y": {
          "dtype": "i2",
          "bdata": "EA4YFXAXKApABmwHGBX8CNAHaBDYDlQLbAe4C3AXxAnECfwIuAtsB3gF5AwIB0wEdA7QB6gWrA2sDYAMgAy4C7gLCAdoEAgH+BEUBawNBBCkBrgLxCKsDawNTB14BfwIbAdMBNAHTASoFqQG0AfQBxQFuAtUC6gWCCB4NxgV1El4NyRFkBoQJwggGC5oKVgbGBUQDrgLxAnsExAOKArcBWgQaBCsDagWKApYGxgVbAe4JPgqJEWwBIA+"
         },
         "type": "scatter",
         "mode": "markers+lines",
         "visible": false
        },
        {
         "line": {
          "color": "#ffa600",
          "width": 4
         },
         "opacity": 0.8,
         "y": {
          "dtype": "i2",
          "bdata": "uAuUEUQWNAgUBdwFlBFsB6QGrA2ADGAJQAbECYgTNAg0CGwHxAlABrAE8ArcBYQDHAykBiQTVAtUC4wKjArECcQJ3AWsDdwFPA9MBFQLPA8UBcQJTB1UC1QLnBiwBGwHQAaEA6QGhAMkE3gFpAakBkwExAlgCSQT9Bp8LpQRHD58LjQ6RBbQIPQarCbEIgwXlBG4C8QJNAjMELgLmAgUBawNrA1UCyQTmAgMF5QRQAbcHgQpNDroA2A7"
         },
         "type": "scatter",
         "mode": "markers+lines",
         "visible": false
        },
        {
         "line": {
          "color": "#bc5090",
          "width": 4
         },
         "opacity": 0.8,
         "y": {
          "dtype": "i4",
          "bdata": "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"
         },
         "type": "scatter",
         "mode": "markers+lines",
         "visible": false
        },
        {
         "line": {
          "color": "#ffa600",
          "width": 4
         },
         "opacity": 0.8,
         "y": {
          "dtype": "i4",
          "bdata": "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"
         },
         "type": "scatter",
         "mode": "markers+lines",
         "visible": false
        },
        {
         "line": {
          "color": "#bc5090",
          "width": 4
         },
         "opacity": 0.8,
         "y": {
          "dtype": "i4",
          "bdata": "oIwAAMQJAAAcDAAAtF8AALRfAAD4KgAAtF8AAGAiAADMWwAAoA8AAJQRAABoEAAAcBcAAHwVAACsDQAAuAsAAFgbAAAgTgAAeB4AAAhSAABEYQAAmDoAAKAPAAB4HgAAZBkAAERhAACYOgAABEIAALgLAAB0WQAABEIAAOQMAADMWwAAREgAAPxTAADMWwAA/FMAAKwNAACYCAAAnBgAAMQJAAC4CwAA4BUAAJg6AABsawAApDgAAIw8AABwFwAAGBUAAEwdAABYGwAAbGsAAKwmAACwNgAAoA8AAEwdAACUKgAAqC8AAGgpAAAEKQAATB0AAGgpAAA0IQAArA0AAMQiAAA8cwAAuAsAAEAfAAA0IQAANCEAABAnAACwHQAA1DAAANQwAACgDwAA1DAAAJg6AAA8cwAAvE0AALA2AACsJgAAvE0AAKyKAABsawAApDgAAKwmAACoYQAA+CoAADQhAACsJgAArCYAABAnAAC4CwAABEIAALgLAAAQJwAA+CoAAKQGAACIEwAAGBUAALwbAADEhgAA0AcAAKAPAADcBQAAECcAAAgHAAAMFwAAlBEAALgLAADkJQAAOBgAACAcAAAgHAAATB0AAOAuAAAgHAAANCEAAGQZAAD4KgAAIBwAADB1AAD0TAAAQB8AAMxbAABwlAAAyBkAAEwdAADEIgAA"
         },
         "type": "scatter",
         "mode": "markers+lines",
         "visible": false
        },
        {
         "line": {
          "color": "#ffa600",
          "width": 4
         },
         "opacity": 0.8,
         "y": {
          "dtype": "i4",
          "bdata": "PIwAAMQJAAAcDAAAwF0AAMBdAAAEKQAA+FwAAJghAACgWgAAoA8AAJQRAABoEAAAcBcAAHwVAABIDQAAuAsAAJAaAAAgTgAATB0AAAhSAACUXAAA3DcAAKAPAABMHQAAZBkAAERhAACYOgAABEIAAFQLAAB4UAAA8DwAAOQMAAD4QwAA0DkAAMhLAABwSQAAMEMAAKwNAACYCAAAnBgAAGAJAAC4CwAAGBUAAJg6AACENQAApDgAAIw8AABEFgAA7BMAAEwdAABYGwAAhDUAALgkAAD0MwAAoA8AACAcAACgKAAA4C4AAGgpAACsJgAAhBwAAHQnAAAIIAAASA0AAKQfAABsOQAAuAsAAEAfAAAIIAAANCEAAKwmAACEHAAAfC4AABguAACgDwAAGC4AAJg6AABsOQAA1EkAAPQzAAC4JAAA1EkAACRFAACENQAAhDUAALgkAADUMAAA+CoAAEAfAAC4JAAAYCIAABwlAAC4CwAA5D4AALgLAAAcJQAA+CoAAKQGAAAkEwAAGBUAAFgbAACUXAAA0AcAADwPAADcBQAAHCUAAKQGAABEFgAAlBEAALgLAADkJQAAOBgAADgYAABwFwAAOBgAAJAaAAA4GAAA3B4AAHwVAAAcJQAAOBgAALxNAACcSgAAkBoAAMxCAABQkQAAABkAAEwdAADEIgAA"
         },
         "type": "scatter",
         "mode": "markers+lines",
         "visible": false
        },
        {
         "line": {
          "color": "#bc5090",
          "width": 4
         },
         "opacity": 0.8,
         "y": {
          "dtype": "i4",
          "bdata": "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"
         },
         "type": "scatter",
         "mode": "markers+lines"
        },
        {
         "line": {
          "color": "#ffa600",
          "width": 4
         },
         "opacity": 0.8,
         "y": {
          "dtype": "i4",
          "bdata": "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"
         },
         "type": "scatter",
         "mode": "markers+lines"
        }
       ],
       "layout": {
        "template": {
         "data": {
          "histogram2dcontour": [
           {
            "type": "histogram2dcontour",
            "colorbar": {
             "outlinewidth": 0,
             "ticks": ""
            },
            "colorscale": [
             [
              0.0,
              "#0d0887"
             ],
             [
              0.1111111111111111,
              "#46039f"
             ],
             [
              0.2222222222222222,
              "#7201a8"
             ],
             [
              0.3333333333333333,
              "#9c179e"
             ],
             [
              0.4444444444444444,
              "#bd3786"
             ],
             [
              0.5555555555555556,
              "#d8576b"
             ],
             [
              0.6666666666666666,
              "#ed7953"
             ],
             [
              0.7777777777777778,
              "#fb9f3a"
             ],
             [
              0.8888888888888888,
              "#fdca26"
             ],
             [
              1.0,
              "#f0f921"
             ]
            ]
           }
          ],
          "choropleth": [
           {
            "type": "choropleth",
            "colorbar": {
             "outlinewidth": 0,
             "ticks": ""
            }
           }
          ],
          "histogram2d": [
           {
            "type": "histogram2d",
            "colorbar": {
             "outlinewidth": 0,
             "ticks": ""
            },
            "colorscale": [
             [
              0.0,
              "#0d0887"
             ],
             [
              0.1111111111111111,
              "#46039f"
             ],
             [
              0.2222222222222222,
              "#7201a8"
             ],
             [
              0.3333333333333333,
              "#9c179e"
             ],
             [
              0.4444444444444444,
              "#bd3786"
             ],
             [
              0.5555555555555556,
              "#d8576b"
             ],
             [
              0.6666666666666666,
              "#ed7953"
             ],
             [
              0.7777777777777778,
              "#fb9f3a"
             ],
             [
              0.8888888888888888,
              "#fdca26"
             ],
             [
              1.0,
              "#f0f921"
             ]
            ]
           }
          ],
          "heatmap": [
           {
            "type": "heatmap",
            "colorbar": {
             "outlinewidth": 0,
             "ticks": ""
            },
            "colorscale": [
             [
              0.0,
              "#0d0887"
             ],
             [
              0.1111111111111111,
              "#46039f"
             ],
             [
              0.2222222222222222,
              "#7201a8"
             ],
             [
              0.3333333333333333,
              "#9c179e"
             ],
             [
              0.4444444444444444,
              "#bd3786"
             ],
             [
              0.5555555555555556,
              "#d8576b"
             ],
             [
              0.6666666666666666,
              "#ed7953"
             ],
             [
              0.7777777777777778,
              "#fb9f3a"
             ],
             [
              0.8888888888888888,
              "#fdca26"
             ],
             [
              1.0,
              "#f0f921"
             ]
            ]
           }
          ],
          "contourcarpet": [
           {
            "type": "contourcarpet",
            "colorbar": {
             "outlinewidth": 0,
             "ticks": ""
            }
           }
          ],
          "contour": [
           {
            "type": "contour",
            "colorbar": {
             "outlinewidth": 0,
             "ticks": ""
            },
            "colorscale": [
             [
              0.0,
              "#0d0887"
             ],
             [
              0.1111111111111111,
              "#46039f"
             ],
             [
              0.2222222222222222,
              "#7201a8"
             ],
             [
              0.3333333333333333,
              "#9c179e"
             ],
             [
              0.4444444444444444,
              "#bd3786"
             ],
             [
              0.5555555555555556,
              "#d8576b"
             ],
             [
              0.6666666666666666,
              "#ed7953"
             ],
             [
              0.7777777777777778,
              "#fb9f3a"
             ],
             [
              0.8888888888888888,
              "#fdca26"
             ],
             [
              1.0,
              "#f0f921"
             ]
            ]
           }
          ],
          "surface": [
           {
            "type": "surface",
            "colorbar": {
             "outlinewidth": 0,
             "ticks": ""
            },
            "colorscale": [
             [
              0.0,
              "#0d0887"
             ],
             [
              0.1111111111111111,
              "#46039f"
             ],
             [
              0.2222222222222222,
              "#7201a8"
             ],
             [
              0.3333333333333333,
              "#9c179e"
             ],
             [
              0.4444444444444444,
              "#bd3786"
             ],
             [
              0.5555555555555556,
              "#d8576b"
             ],
             [
              0.6666666666666666,
              "#ed7953"
             ],
             [
              0.7777777777777778,
              "#fb9f3a"
             ],
             [
              0.8888888888888888,
              "#fdca26"
             ],
             [
              1.0,
              "#f0f921"
             ]
            ]
           }
          ],
          "mesh3d": [
           {
            "type": "mesh3d",
            "colorbar": {
             "outlinewidth": 0,
             "ticks": ""
            }
           }
          ],
          "scatter": [
           {
            "marker": {
             "line": {
              "color": "#283442"
             }
            },
            "type": "scatter"
           }
          ],
          "parcoords": [
           {
            "type": "parcoords",
            "line": {
             "colorbar": {
              "outlinewidth": 0,
              "ticks": ""
             }
            }
           }
          ],
          "scatterpolargl": [
           {
            "type": "scatterpolargl",
            "marker": {
             "colorbar": {
              "outlinewidth": 0,
              "ticks": ""
             }
            }
           }
          ],
          "bar": [
           {
            "error_x": {
             "color": "#f2f5fa"
            },
            "error_y": {
             "color": "#f2f5fa"
            },
            "marker": {
             "line": {
              "color": "rgb(17,17,17)",
              "width": 0.5
             },
             "pattern": {
              "fillmode": "overlay",
              "size": 10,
              "solidity": 0.2
             }
            },
            "type": "bar"
           }
          ],
          "scattergeo": [
           {
            "type": "scattergeo",
            "marker": {
             "colorbar": {
              "outlinewidth": 0,
              "ticks": ""
             }
            }
           }
          ],
          "scatterpolar": [
           {
            "type": "scatterpolar",
            "marker": {
             "colorbar": {
              "outlinewidth": 0,
              "ticks": ""
             }
            }
           }
          ],
          "histogram": [
           {
            "marker": {
             "pattern": {
              "fillmode": "overlay",
              "size": 10,
              "solidity": 0.2
             }
            },
            "type": "histogram"
           }
          ],
          "scattergl": [
           {
            "marker": {
             "line": {
              "color": "#283442"
             }
            },
            "type": "scattergl"
           }
          ],
          "scatter3d": [
           {
            "type": "scatter3d",
            "line": {
             "colorbar": {
              "outlinewidth": 0,
              "ticks": ""
             }
            },
            "marker": {
             "colorbar": {
              "outlinewidth": 0,
              "ticks": ""
             }
            }
           }
          ],
          "scattermap": [
           {
            "type": "scattermap",
            "marker": {
             "colorbar": {
              "outlinewidth": 0,
              "ticks": ""
             }
            }
           }
          ],
          "scattermapbox": [
           {
            "type": "scattermapbox",
            "marker": {
             "colorbar": {
              "outlinewidth": 0,
              "ticks": ""
             }
            }
           }
          ],
          "scatterternary": [
           {
            "type": "scatterternary",
            "marker": {
             "colorbar": {
              "outlinewidth": 0,
              "ticks": ""
             }
            }
           }
          ],
          "scattercarpet": [
           {
            "type": "scattercarpet",
            "marker": {
             "colorbar": {
              "outlinewidth": 0,
              "ticks": ""
             }
            }
           }
          ],
          "carpet": [
           {
            "aaxis": {
             "endlinecolor": "#A2B1C6",
             "gridcolor": "#506784",
             "linecolor": "#506784",
             "minorgridcolor": "#506784",
             "startlinecolor": "#A2B1C6"
            },
            "baxis": {
             "endlinecolor": "#A2B1C6",
             "gridcolor": "#506784",
             "linecolor": "#506784",
             "minorgridcolor": "#506784",
             "startlinecolor": "#A2B1C6"
            },
            "type": "carpet"
           }
          ],
          "table": [
           {
            "cells": {
             "fill": {
              "color": "#506784"
             },
             "line": {
              "color": "rgb(17,17,17)"
             }
            },
            "header": {
             "fill": {
              "color": "#2a3f5f"
             },
             "line": {
              "color": "rgb(17,17,17)"
             }
            },
            "type": "table"
           }
          ],
          "barpolar": [
           {
            "marker": {
             "line": {
              "color": "rgb(17,17,17)",
              "width": 0.5
             },
             "pattern": {
              "fillmode": "overlay",
              "size": 10,
              "solidity": 0.2
             }
            },
            "type": "barpolar"
           }
          ],
          "pie": [
           {
            "automargin": true,
            "type": "pie"
           }
          ]
         },
         "layout": {
          "autotypenumbers": "strict",
          "colorway": [
           "#636efa",
           "#EF553B",
           "#00cc96",
           "#ab63fa",
           "#FFA15A",
           "#19d3f3",
           "#FF6692",
           "#B6E880",
           "#FF97FF",
           "#FECB52"
          ],
          "font": {
           "color": "#f2f5fa"
          },
          "hovermode": "closest",
          "hoverlabel": {
           "align": "left"
          },
          "paper_bgcolor": "rgb(17,17,17)",
          "plot_bgcolor": "rgb(17,17,17)",
          "polar": {
           "bgcolor": "rgb(17,17,17)",
           "angularaxis": {
            "gridcolor": "#506784",
            "linecolor": "#506784",
            "ticks": ""
           },
           "radialaxis": {
            "gridcolor": "#506784",
            "linecolor": "#506784",
            "ticks": ""
           }
          },
          "ternary": {
           "bgcolor": "rgb(17,17,17)",
           "aaxis": {
            "gridcolor": "#506784",
            "linecolor": "#506784",
            "ticks": ""
           },
           "baxis": {
            "gridcolor": "#506784",
            "linecolor": "#506784",
            "ticks": ""
           },
           "caxis": {
            "gridcolor": "#506784",
            "linecolor": "#506784",
            "ticks": ""
           }
          },
          "coloraxis": {
           "colorbar": {
            "outlinewidth": 0,
            "ticks": ""
           }
          },
          "colorscale": {
           "sequential": [
            [
             0.0,
             "#0d0887"
            ],
            [
             0.1111111111111111,
             "#46039f"
            ],
            [
             0.2222222222222222,
             "#7201a8"
            ],
            [
             0.3333333333333333,
             "#9c179e"
            ],
            [
             0.4444444444444444,
             "#bd3786"
            ],
            [
             0.5555555555555556,
             "#d8576b"
            ],
            [
             0.6666666666666666,
             "#ed7953"
            ],
            [
             0.7777777777777778,
             "#fb9f3a"
            ],
            [
             0.8888888888888888,
             "#fdca26"
            ],
            [
             1.0,
             "#f0f921"
            ]
           ],
           "sequentialminus": [
            [
             0.0,
             "#0d0887"
            ],
            [
             0.1111111111111111,
             "#46039f"
            ],
            [
             0.2222222222222222,
             "#7201a8"
            ],
            [
             0.3333333333333333,
             "#9c179e"
            ],
            [
             0.4444444444444444,
             "#bd3786"
            ],
            [
             0.5555555555555556,
             "#d8576b"
            ],
            [
             0.6666666666666666,
             "#ed7953"
            ],
            [
             0.7777777777777778,
             "#fb9f3a"
            ],
            [
             0.8888888888888888,
             "#fdca26"
            ],
            [
             1.0,
             "#f0f921"
            ]
           ],
           "diverging": [
            [
             0,
             "#8e0152"
            ],
            [
             0.1,
             "#c51b7d"
            ],
            [
             0.2,
             "#de77ae"
            ],
            [
             0.3,
             "#f1b6da"
            ],
            [
             0.4,
             "#fde0ef"
            ],
            [
             0.5,
             "#f7f7f7"
            ],
            [
             0.6,
             "#e6f5d0"
            ],
            [
             0.7,
             "#b8e186"
            ],
            [
             0.8,
             "#7fbc41"
            ],
            [
             0.9,
             "#4d9221"
            ],
            [
             1,
             "#276419"
            ]
           ]
          },
          "xaxis": {
           "gridcolor": "#283442",
           "linecolor": "#506784",
           "ticks": "",
           "title": {
            "standoff": 15
           },
           "zerolinecolor": "#283442",
           "automargin": true,
           "zerolinewidth": 2
          },
          "yaxis": {
           "gridcolor": "#283442",
           "linecolor": "#506784",
           "ticks": "",
           "title": {
            "standoff": 15
           },
           "zerolinecolor": "#283442",
           "automargin": true,
           "zerolinewidth": 2
          },
          "scene": {
           "xaxis": {
            "backgroundcolor": "rgb(17,17,17)",
            "gridcolor": "#506784",
            "linecolor": "#506784",
            "showbackground": true,
            "ticks": "",
            "zerolinecolor": "#C8D4E3",
            "gridwidth": 2
           },
           "yaxis": {
            "backgroundcolor": "rgb(17,17,17)",
            "gridcolor": "#506784",
            "linecolor": "#506784",
            "showbackground": true,
            "ticks": "",
            "zerolinecolor": "#C8D4E3",
            "gridwidth": 2
           },
           "zaxis": {
            "backgroundcolor": "rgb(17,17,17)",
            "gridcolor": "#506784",
            "linecolor": "#506784",
            "showbackground": true,
            "ticks": "",
            "zerolinecolor": "#C8D4E3",
            "gridwidth": 2
           }
          },
          "shapedefaults": {
           "line": {
            "color": "#f2f5fa"
           }
          },
          "annotationdefaults": {
           "arrowcolor": "#f2f5fa",
           "arrowhead": 0,
           "arrowwidth": 1
          },
          "geo": {
           "bgcolor": "rgb(17,17,17)",
           "landcolor": "rgb(17,17,17)",
           "subunitcolor": "#506784",
           "showland": true,
           "showlakes": true,
           "lakecolor": "rgb(17,17,17)"
          },
          "title": {
           "x": 0.05
          },
          "updatemenudefaults": {
           "bgcolor": "#506784",
           "borderwidth": 0
          },
          "sliderdefaults": {
           "bgcolor": "#C8D4E3",
           "borderwidth": 1,
           "bordercolor": "rgb(17,17,17)",
           "tickwidth": 0
          },
          "mapbox": {
           "style": "dark"
          }
         }
        },
        "xaxis": {
         "anchor": "y",
         "domain": [
          0.0,
          0.45
         ]
        },
        "yaxis": {
         "anchor": "x",
         "domain": [
          0.0,
          1.0
         ]
        },
        "xaxis2": {
         "anchor": "y2",
         "domain": [
          0.55,
          1.0
         ]
        },
        "yaxis2": {
         "anchor": "x2",
         "domain": [
          0.0,
          1.0
         ]
        },
        "width": 2800,
        "autosize": true,
        "hovermode": "x"
       },
       "config": {
        "plotlyServerURL": "https://plot.ly"
       }
      }
     },
     "metadata": {},
     "output_type": "display_data"
    },
    {
     "name": "stdout",
     "output_type": "stream",
     "text": [
      "Meats, Fish & Eggs with count -  63\n"
     ]
    },
    {
     "data": {
      "application/vnd.plotly.v1+json": {
       "data": [
        {
         "line": {
          "color": "#bc5090",
          "width": 4
         },
         "opacity": 0.8,
         "y": {
          "dtype": "i2",
          "bdata": "EA4YFXAXKApABmwHGBX8CNAHaBDYDlQLbAe4C3AXxAnECfwIuAtsB3gF5AwIB0wEdA7QB6gWrA2sDYAMgAy4C7gLCAdoEAgH+BEUBawNBBCkBrgLxCKsDawNTB14BfwIbAdMBNAHTASoFqQG0AfQBxQFuAtUC6gWCCB4NxgV1El4NyRFkBoQJwggGC5oKVgbGBUQDrgLxAnsExAOKArcBWgQaBCsDagWKApYGxgVbAe4JPgqJEWwBIA+"
         },
         "type": "scatter",
         "mode": "markers+lines",
         "visible": false
        },
        {
         "line": {
          "color": "#ffa600",
          "width": 4
         },
         "opacity": 0.8,
         "y": {
          "dtype": "i2",
          "bdata": "uAuUEUQWNAgUBdwFlBFsB6QGrA2ADGAJQAbECYgTNAg0CGwHxAlABrAE8ArcBYQDHAykBiQTVAtUC4wKjArECcQJ3AWsDdwFPA9MBFQLPA8UBcQJTB1UC1QLnBiwBGwHQAaEA6QGhAMkE3gFpAakBkwExAlgCSQT9Bp8LpQRHD58LjQ6RBbQIPQarCbEIgwXlBG4C8QJNAjMELgLmAgUBawNrA1UCyQTmAgMF5QRQAbcHgQpNDroA2A7"
         },
         "type": "scatter",
         "mode": "markers+lines",
         "visible": false
        },
        {
         "line": {
          "color": "#bc5090",
          "width": 4
         },
         "opacity": 0.8,
         "y": {
          "dtype": "i4",
          "bdata": "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"
         },
         "type": "scatter",
         "mode": "markers+lines",
         "visible": false
        },
        {
         "line": {
          "color": "#ffa600",
          "width": 4
         },
         "opacity": 0.8,
         "y": {
          "dtype": "i4",
          "bdata": "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"
         },
         "type": "scatter",
         "mode": "markers+lines",
         "visible": false
        },
        {
         "line": {
          "color": "#bc5090",
          "width": 4
         },
         "opacity": 0.8,
         "y": {
          "dtype": "i4",
          "bdata": "oIwAAMQJAAAcDAAAtF8AALRfAAD4KgAAtF8AAGAiAADMWwAAoA8AAJQRAABoEAAAcBcAAHwVAACsDQAAuAsAAFgbAAAgTgAAeB4AAAhSAABEYQAAmDoAAKAPAAB4HgAAZBkAAERhAACYOgAABEIAALgLAAB0WQAABEIAAOQMAADMWwAAREgAAPxTAADMWwAA/FMAAKwNAACYCAAAnBgAAMQJAAC4CwAA4BUAAJg6AABsawAApDgAAIw8AABwFwAAGBUAAEwdAABYGwAAbGsAAKwmAACwNgAAoA8AAEwdAACUKgAAqC8AAGgpAAAEKQAATB0AAGgpAAA0IQAArA0AAMQiAAA8cwAAuAsAAEAfAAA0IQAANCEAABAnAACwHQAA1DAAANQwAACgDwAA1DAAAJg6AAA8cwAAvE0AALA2AACsJgAAvE0AAKyKAABsawAApDgAAKwmAACoYQAA+CoAADQhAACsJgAArCYAABAnAAC4CwAABEIAALgLAAAQJwAA+CoAAKQGAACIEwAAGBUAALwbAADEhgAA0AcAAKAPAADcBQAAECcAAAgHAAAMFwAAlBEAALgLAADkJQAAOBgAACAcAAAgHAAATB0AAOAuAAAgHAAANCEAAGQZAAD4KgAAIBwAADB1AAD0TAAAQB8AAMxbAABwlAAAyBkAAEwdAADEIgAA"
         },
         "type": "scatter",
         "mode": "markers+lines",
         "visible": false
        },
        {
         "line": {
          "color": "#ffa600",
          "width": 4
         },
         "opacity": 0.8,
         "y": {
          "dtype": "i4",
          "bdata": "PIwAAMQJAAAcDAAAwF0AAMBdAAAEKQAA+FwAAJghAACgWgAAoA8AAJQRAABoEAAAcBcAAHwVAABIDQAAuAsAAJAaAAAgTgAATB0AAAhSAACUXAAA3DcAAKAPAABMHQAAZBkAAERhAACYOgAABEIAAFQLAAB4UAAA8DwAAOQMAAD4QwAA0DkAAMhLAABwSQAAMEMAAKwNAACYCAAAnBgAAGAJAAC4CwAAGBUAAJg6AACENQAApDgAAIw8AABEFgAA7BMAAEwdAABYGwAAhDUAALgkAAD0MwAAoA8AACAcAACgKAAA4C4AAGgpAACsJgAAhBwAAHQnAAAIIAAASA0AAKQfAABsOQAAuAsAAEAfAAAIIAAANCEAAKwmAACEHAAAfC4AABguAACgDwAAGC4AAJg6AABsOQAA1EkAAPQzAAC4JAAA1EkAACRFAACENQAAhDUAALgkAADUMAAA+CoAAEAfAAC4JAAAYCIAABwlAAC4CwAA5D4AALgLAAAcJQAA+CoAAKQGAAAkEwAAGBUAAFgbAACUXAAA0AcAADwPAADcBQAAHCUAAKQGAABEFgAAlBEAALgLAADkJQAAOBgAADgYAABwFwAAOBgAAJAaAAA4GAAA3B4AAHwVAAAcJQAAOBgAALxNAACcSgAAkBoAAMxCAABQkQAAABkAAEwdAADEIgAA"
         },
         "type": "scatter",
         "mode": "markers+lines",
         "visible": false
        },
        {
         "line": {
          "color": "#bc5090",
          "width": 4
         },
         "opacity": 0.8,
         "y": {
          "dtype": "i4",
          "bdata": "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"
         },
         "type": "scatter",
         "mode": "markers+lines",
         "visible": false
        },
        {
         "line": {
          "color": "#ffa600",
          "width": 4
         },
         "opacity": 0.8,
         "y": {
          "dtype": "i4",
          "bdata": "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"
         },
         "type": "scatter",
         "mode": "markers+lines",
         "visible": false
        },
        {
         "line": {
          "color": "#bc5090",
          "width": 4
         },
         "opacity": 0.8,
         "y": {
          "dtype": "i4",
          "bdata": "RGEAAFxEAAD8UwAAnHwAAHRAAACEZwAA9H4AAPRlAAAsZQAAdEAAAISAAACktQAALMkAAEhxAABEYQAAsDYAAPxTAAB4aQAACFIAAGxrAACoYQAApDgAAKhhAACcYwAAbGsAAGxrAAC0XwAAkGUAAKhhAAA8cwAAOEoAAKQ4AACAPgAAmDoAAJg6AAAUUAAA8FUAAPBVAABMHQAA8FUAAOgcAADoHAAAwBIAAFgbAADIGQAAPA8AAKAPAADoAwAA5CUAADgYAAAgTgAAXEQAADQhAAAgHAAAZBkAAPgqAADgLgAAIBwAACAcAABMHQAAIBwAAAhSAAAwdQAA"
         },
         "type": "scatter",
         "mode": "markers+lines"
        },
        {
         "line": {
          "color": "#ffa600",
          "width": 4
         },
         "opacity": 0.8,
         "y": {
          "dtype": "i4",
          "bdata": "qEgAALg9AACwTwAACGsAAHRAAABcXQAAdHIAALhWAABsOQAAVD0AAHxgAACorAAAXMEAALBPAADsRQAAsDYAALBPAAB4aQAACFIAAOBgAACoYQAApDgAAKhhAADYWQAA4GAAAOBgAABUVgAAaFsAAKhhAADoZwAAOEoAAPQzAABAOAAA3DcAAJg6AADISwAA+CoAAPgqAACQGgAA+CoAACwaAAAsGgAAXBIAAGQZAADIGQAA2A4AADwPAADoAwAA5CUAADgYAABQRgAAuD0AANweAAA4GAAAfBUAABwlAACQGgAAOBgAADgYAAA4GAAAcBcAANRJAAB4aQAA"
         },
         "type": "scatter",
         "mode": "markers+lines"
        }
       ],
       "layout": {
        "template": {
         "data": {
          "histogram2dcontour": [
           {
            "type": "histogram2dcontour",
            "colorbar": {
             "outlinewidth": 0,
             "ticks": ""
            },
            "colorscale": [
             [
              0.0,
              "#0d0887"
             ],
             [
              0.1111111111111111,
              "#46039f"
             ],
             [
              0.2222222222222222,
              "#7201a8"
             ],
             [
              0.3333333333333333,
              "#9c179e"
             ],
             [
              0.4444444444444444,
              "#bd3786"
             ],
             [
              0.5555555555555556,
              "#d8576b"
             ],
             [
              0.6666666666666666,
              "#ed7953"
             ],
             [
              0.7777777777777778,
              "#fb9f3a"
             ],
             [
              0.8888888888888888,
              "#fdca26"
             ],
             [
              1.0,
              "#f0f921"
             ]
            ]
           }
          ],
          "choropleth": [
           {
            "type": "choropleth",
            "colorbar": {
             "outlinewidth": 0,
             "ticks": ""
            }
           }
          ],
          "histogram2d": [
           {
            "type": "histogram2d",
            "colorbar": {
             "outlinewidth": 0,
             "ticks": ""
            },
            "colorscale": [
             [
              0.0,
              "#0d0887"
             ],
             [
              0.1111111111111111,
              "#46039f"
             ],
             [
              0.2222222222222222,
              "#7201a8"
             ],
             [
              0.3333333333333333,
              "#9c179e"
             ],
             [
              0.4444444444444444,
              "#bd3786"
             ],
             [
              0.5555555555555556,
              "#d8576b"
             ],
             [
              0.6666666666666666,
              "#ed7953"
             ],
             [
              0.7777777777777778,
              "#fb9f3a"
             ],
             [
              0.8888888888888888,
              "#fdca26"
             ],
             [
              1.0,
              "#f0f921"
             ]
            ]
           }
          ],
          "heatmap": [
           {
            "type": "heatmap",
            "colorbar": {
             "outlinewidth": 0,
             "ticks": ""
            },
            "colorscale": [
             [
              0.0,
              "#0d0887"
             ],
             [
              0.1111111111111111,
              "#46039f"
             ],
             [
              0.2222222222222222,
              "#7201a8"
             ],
             [
              0.3333333333333333,
              "#9c179e"
             ],
             [
              0.4444444444444444,
              "#bd3786"
             ],
             [
              0.5555555555555556,
              "#d8576b"
             ],
             [
              0.6666666666666666,
              "#ed7953"
             ],
             [
              0.7777777777777778,
              "#fb9f3a"
             ],
             [
              0.8888888888888888,
              "#fdca26"
             ],
             [
              1.0,
              "#f0f921"
             ]
            ]
           }
          ],
          "contourcarpet": [
           {
            "type": "contourcarpet",
            "colorbar": {
             "outlinewidth": 0,
             "ticks": ""
            }
           }
          ],
          "contour": [
           {
            "type": "contour",
            "colorbar": {
             "outlinewidth": 0,
             "ticks": ""
            },
            "colorscale": [
             [
              0.0,
              "#0d0887"
             ],
             [
              0.1111111111111111,
              "#46039f"
             ],
             [
              0.2222222222222222,
              "#7201a8"
             ],
             [
              0.3333333333333333,
              "#9c179e"
             ],
             [
              0.4444444444444444,
              "#bd3786"
             ],
             [
              0.5555555555555556,
              "#d8576b"
             ],
             [
              0.6666666666666666,
              "#ed7953"
             ],
             [
              0.7777777777777778,
              "#fb9f3a"
             ],
             [
              0.8888888888888888,
              "#fdca26"
             ],
             [
              1.0,
              "#f0f921"
             ]
            ]
           }
          ],
          "surface": [
           {
            "type": "surface",
            "colorbar": {
             "outlinewidth": 0,
             "ticks": ""
            },
            "colorscale": [
             [
              0.0,
              "#0d0887"
             ],
             [
              0.1111111111111111,
              "#46039f"
             ],
             [
              0.2222222222222222,
              "#7201a8"
             ],
             [
              0.3333333333333333,
              "#9c179e"
             ],
             [
              0.4444444444444444,
              "#bd3786"
             ],
             [
              0.5555555555555556,
              "#d8576b"
             ],
             [
              0.6666666666666666,
              "#ed7953"
             ],
             [
              0.7777777777777778,
              "#fb9f3a"
             ],
             [
              0.8888888888888888,
              "#fdca26"
             ],
             [
              1.0,
              "#f0f921"
             ]
            ]
           }
          ],
          "mesh3d": [
           {
            "type": "mesh3d",
            "colorbar": {
             "outlinewidth": 0,
             "ticks": ""
            }
           }
          ],
          "scatter": [
           {
            "marker": {
             "line": {
              "color": "#283442"
             }
            },
            "type": "scatter"
           }
          ],
          "parcoords": [
           {
            "type": "parcoords",
            "line": {
             "colorbar": {
              "outlinewidth": 0,
              "ticks": ""
             }
            }
           }
          ],
          "scatterpolargl": [
           {
            "type": "scatterpolargl",
            "marker": {
             "colorbar": {
              "outlinewidth": 0,
              "ticks": ""
             }
            }
           }
          ],
          "bar": [
           {
            "error_x": {
             "color": "#f2f5fa"
            },
            "error_y": {
             "color": "#f2f5fa"
            },
            "marker": {
             "line": {
              "color": "rgb(17,17,17)",
              "width": 0.5
             },
             "pattern": {
              "fillmode": "overlay",
              "size": 10,
              "solidity": 0.2
             }
            },
            "type": "bar"
           }
          ],
          "scattergeo": [
           {
            "type": "scattergeo",
            "marker": {
             "colorbar": {
              "outlinewidth": 0,
              "ticks": ""
             }
            }
           }
          ],
          "scatterpolar": [
           {
            "type": "scatterpolar",
            "marker": {
             "colorbar": {
              "outlinewidth": 0,
              "ticks": ""
             }
            }
           }
          ],
          "histogram": [
           {
            "marker": {
             "pattern": {
              "fillmode": "overlay",
              "size": 10,
              "solidity": 0.2
             }
            },
            "type": "histogram"
           }
          ],
          "scattergl": [
           {
            "marker": {
             "line": {
              "color": "#283442"
             }
            },
            "type": "scattergl"
           }
          ],
          "scatter3d": [
           {
            "type": "scatter3d",
            "line": {
             "colorbar": {
              "outlinewidth": 0,
              "ticks": ""
             }
            },
            "marker": {
             "colorbar": {
              "outlinewidth": 0,
              "ticks": ""
             }
            }
           }
          ],
          "scattermap": [
           {
            "type": "scattermap",
            "marker": {
             "colorbar": {
              "outlinewidth": 0,
              "ticks": ""
             }
            }
           }
          ],
          "scattermapbox": [
           {
            "type": "scattermapbox",
            "marker": {
             "colorbar": {
              "outlinewidth": 0,
              "ticks": ""
             }
            }
           }
          ],
          "scatterternary": [
           {
            "type": "scatterternary",
            "marker": {
             "colorbar": {
              "outlinewidth": 0,
              "ticks": ""
             }
            }
           }
          ],
          "scattercarpet": [
           {
            "type": "scattercarpet",
            "marker": {
             "colorbar": {
              "outlinewidth": 0,
              "ticks": ""
             }
            }
           }
          ],
          "carpet": [
           {
            "aaxis": {
             "endlinecolor": "#A2B1C6",
             "gridcolor": "#506784",
             "linecolor": "#506784",
             "minorgridcolor": "#506784",
             "startlinecolor": "#A2B1C6"
            },
            "baxis": {
             "endlinecolor": "#A2B1C6",
             "gridcolor": "#506784",
             "linecolor": "#506784",
             "minorgridcolor": "#506784",
             "startlinecolor": "#A2B1C6"
            },
            "type": "carpet"
           }
          ],
          "table": [
           {
            "cells": {
             "fill": {
              "color": "#506784"
             },
             "line": {
              "color": "rgb(17,17,17)"
             }
            },
            "header": {
             "fill": {
              "color": "#2a3f5f"
             },
             "line": {
              "color": "rgb(17,17,17)"
             }
            },
            "type": "table"
           }
          ],
          "barpolar": [
           {
            "marker": {
             "line": {
              "color": "rgb(17,17,17)",
              "width": 0.5
             },
             "pattern": {
              "fillmode": "overlay",
              "size": 10,
              "solidity": 0.2
             }
            },
            "type": "barpolar"
           }
          ],
          "pie": [
           {
            "automargin": true,
            "type": "pie"
           }
          ]
         },
         "layout": {
          "autotypenumbers": "strict",
          "colorway": [
           "#636efa",
           "#EF553B",
           "#00cc96",
           "#ab63fa",
           "#FFA15A",
           "#19d3f3",
           "#FF6692",
           "#B6E880",
           "#FF97FF",
           "#FECB52"
          ],
          "font": {
           "color": "#f2f5fa"
          },
          "hovermode": "closest",
          "hoverlabel": {
           "align": "left"
          },
          "paper_bgcolor": "rgb(17,17,17)",
          "plot_bgcolor": "rgb(17,17,17)",
          "polar": {
           "bgcolor": "rgb(17,17,17)",
           "angularaxis": {
            "gridcolor": "#506784",
            "linecolor": "#506784",
            "ticks": ""
           },
           "radialaxis": {
            "gridcolor": "#506784",
            "linecolor": "#506784",
            "ticks": ""
           }
          },
          "ternary": {
           "bgcolor": "rgb(17,17,17)",
           "aaxis": {
            "gridcolor": "#506784",
            "linecolor": "#506784",
            "ticks": ""
           },
           "baxis": {
            "gridcolor": "#506784",
            "linecolor": "#506784",
            "ticks": ""
           },
           "caxis": {
            "gridcolor": "#506784",
            "linecolor": "#506784",
            "ticks": ""
           }
          },
          "coloraxis": {
           "colorbar": {
            "outlinewidth": 0,
            "ticks": ""
           }
          },
          "colorscale": {
           "sequential": [
            [
             0.0,
             "#0d0887"
            ],
            [
             0.1111111111111111,
             "#46039f"
            ],
            [
             0.2222222222222222,
             "#7201a8"
            ],
            [
             0.3333333333333333,
             "#9c179e"
            ],
            [
             0.4444444444444444,
             "#bd3786"
            ],
            [
             0.5555555555555556,
             "#d8576b"
            ],
            [
             0.6666666666666666,
             "#ed7953"
            ],
            [
             0.7777777777777778,
             "#fb9f3a"
            ],
            [
             0.8888888888888888,
             "#fdca26"
            ],
            [
             1.0,
             "#f0f921"
            ]
           ],
           "sequentialminus": [
            [
             0.0,
             "#0d0887"
            ],
            [
             0.1111111111111111,
             "#46039f"
            ],
            [
             0.2222222222222222,
             "#7201a8"
            ],
            [
             0.3333333333333333,
             "#9c179e"
            ],
            [
             0.4444444444444444,
             "#bd3786"
            ],
            [
             0.5555555555555556,
             "#d8576b"
            ],
            [
             0.6666666666666666,
             "#ed7953"
            ],
            [
             0.7777777777777778,
             "#fb9f3a"
            ],
            [
             0.8888888888888888,
             "#fdca26"
            ],
            [
             1.0,
             "#f0f921"
            ]
           ],
           "diverging": [
            [
             0,
             "#8e0152"
            ],
            [
             0.1,
             "#c51b7d"
            ],
            [
             0.2,
             "#de77ae"
            ],
            [
             0.3,
             "#f1b6da"
            ],
            [
             0.4,
             "#fde0ef"
            ],
            [
             0.5,
             "#f7f7f7"
            ],
            [
             0.6,
             "#e6f5d0"
            ],
            [
             0.7,
             "#b8e186"
            ],
            [
             0.8,
             "#7fbc41"
            ],
            [
             0.9,
             "#4d9221"
            ],
            [
             1,
             "#276419"
            ]
           ]
          },
          "xaxis": {
           "gridcolor": "#283442",
           "linecolor": "#506784",
           "ticks": "",
           "title": {
            "standoff": 15
           },
           "zerolinecolor": "#283442",
           "automargin": true,
           "zerolinewidth": 2
          },
          "yaxis": {
           "gridcolor": "#283442",
           "linecolor": "#506784",
           "ticks": "",
           "title": {
            "standoff": 15
           },
           "zerolinecolor": "#283442",
           "automargin": true,
           "zerolinewidth": 2
          },
          "scene": {
           "xaxis": {
            "backgroundcolor": "rgb(17,17,17)",
            "gridcolor": "#506784",
            "linecolor": "#506784",
            "showbackground": true,
            "ticks": "",
            "zerolinecolor": "#C8D4E3",
            "gridwidth": 2
           },
           "yaxis": {
            "backgroundcolor": "rgb(17,17,17)",
            "gridcolor": "#506784",
            "linecolor": "#506784",
            "showbackground": true,
            "ticks": "",
            "zerolinecolor": "#C8D4E3",
            "gridwidth": 2
           },
           "zaxis": {
            "backgroundcolor": "rgb(17,17,17)",
            "gridcolor": "#506784",
            "linecolor": "#506784",
            "showbackground": true,
            "ticks": "",
            "zerolinecolor": "#C8D4E3",
            "gridwidth": 2
           }
          },
          "shapedefaults": {
           "line": {
            "color": "#f2f5fa"
           }
          },
          "annotationdefaults": {
           "arrowcolor": "#f2f5fa",
           "arrowhead": 0,
           "arrowwidth": 1
          },
          "geo": {
           "bgcolor": "rgb(17,17,17)",
           "landcolor": "rgb(17,17,17)",
           "subunitcolor": "#506784",
           "showland": true,
           "showlakes": true,
           "lakecolor": "rgb(17,17,17)"
          },
          "title": {
           "x": 0.05
          },
          "updatemenudefaults": {
           "bgcolor": "#506784",
           "borderwidth": 0
          },
          "sliderdefaults": {
           "bgcolor": "#C8D4E3",
           "borderwidth": 1,
           "bordercolor": "rgb(17,17,17)",
           "tickwidth": 0
          },
          "mapbox": {
           "style": "dark"
          }
         }
        },
        "xaxis": {
         "anchor": "y",
         "domain": [
          0.0,
          0.45
         ]
        },
        "yaxis": {
         "anchor": "x",
         "domain": [
          0.0,
          1.0
         ]
        },
        "xaxis2": {
         "anchor": "y2",
         "domain": [
          0.55,
          1.0
         ]
        },
        "yaxis2": {
         "anchor": "x2",
         "domain": [
          0.0,
          1.0
         ]
        },
        "width": 2800,
        "autosize": true,
        "hovermode": "x"
       },
       "config": {
        "plotlyServerURL": "https://plot.ly"
       }
      }
     },
     "metadata": {},
     "output_type": "display_data"
    },
    {
     "name": "stdout",
     "output_type": "stream",
     "text": [
      "Biscuits with count -  147\n"
     ]
    },
    {
     "data": {
      "application/vnd.plotly.v1+json": {
       "data": [
        {
         "line": {
          "color": "#bc5090",
          "width": 4
         },
         "opacity": 0.8,
         "y": {
          "dtype": "i2",
          "bdata": "EA4YFXAXKApABmwHGBX8CNAHaBDYDlQLbAe4C3AXxAnECfwIuAtsB3gF5AwIB0wEdA7QB6gWrA2sDYAMgAy4C7gLCAdoEAgH+BEUBawNBBCkBrgLxCKsDawNTB14BfwIbAdMBNAHTASoFqQG0AfQBxQFuAtUC6gWCCB4NxgV1El4NyRFkBoQJwggGC5oKVgbGBUQDrgLxAnsExAOKArcBWgQaBCsDagWKApYGxgVbAe4JPgqJEWwBIA+"
         },
         "type": "scatter",
         "mode": "markers+lines",
         "visible": false
        },
        {
         "line": {
          "color": "#ffa600",
          "width": 4
         },
         "opacity": 0.8,
         "y": {
          "dtype": "i2",
          "bdata": "uAuUEUQWNAgUBdwFlBFsB6QGrA2ADGAJQAbECYgTNAg0CGwHxAlABrAE8ArcBYQDHAykBiQTVAtUC4wKjArECcQJ3AWsDdwFPA9MBFQLPA8UBcQJTB1UC1QLnBiwBGwHQAaEA6QGhAMkE3gFpAakBkwExAlgCSQT9Bp8LpQRHD58LjQ6RBbQIPQarCbEIgwXlBG4C8QJNAjMELgLmAgUBawNrA1UCyQTmAgMF5QRQAbcHgQpNDroA2A7"
         },
         "type": "scatter",
         "mode": "markers+lines",
         "visible": false
        },
        {
         "line": {
          "color": "#bc5090",
          "width": 4
         },
         "opacity": 0.8,
         "y": {
          "dtype": "i4",
          "bdata": "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"
         },
         "type": "scatter",
         "mode": "markers+lines",
         "visible": false
        },
        {
         "line": {
          "color": "#ffa600",
          "width": 4
         },
         "opacity": 0.8,
         "y": {
          "dtype": "i4",
          "bdata": "ECcAAJg6AAC0qgAAFFAAANhZAADMKQAACCAAAMT9AQDQawAAkBoAAHxHAAAAGQAArA0AAOgcAAAEEAAAgAwAAARCAAA8cwAAPHMAAGAiAAC0eAAAWBsAACBOAAD8bAAAuCQAABgVAACgDwAAsDYAALw0AADgLgAAxCIAACAcAADARAAAaEIAADxzAABIPwAA0CAAAMRtAABQLQAAMCoAAOQlAAAcPgAAPCgAAJwYAABMHQAAnBgAAMBEAADUMAAApB8AAKgvAADwPAAAMCoAAKhhAABIDQAAuCQAAIgTAADEIgAACCAAAFwrAAAAMgAAxCIAANBSAAAUHgAA5FcAACAcAADcHgAAJBMAANQwAACoFgAA1DAAABgVAACkHwAApB8AAMQiAAA0OgAAwCsAAMxCAADgFQAAYCIAAEwdAAAQDgAAnBgAABQeAADMQgAASA0AALw0AACoYQAABCkAAMwQAADEIgAAYCIAACgjAADwCgAAQB8AAPQaAAA4SgAApDgAAAAyAAAcJQAASA0AAEg/AABAHwAAeB4AACAcAACwTwAA4C4AAKQfAADMKQAAZBkAAAAZAACoLwAAIBwAAJi3AAB0cgAAKCMAAFwSAABQFAAA3B4AACAcAAAMFwAAQB8AACQsAABEYQAAPHMAACQTAAAgTgAAIE4AADRTAACcGAAA3B4AAEQWAAAEdAAAqGEAANw3AACgKAAAXBIAAAhSAACUKgAAADIAAJg6AADoZwAAXEQAADhKAACQGgAAbDkAAHAwAAAUHgAA0CAAADARAAAgHAAAGBUAAEAfAACkHwAAHD4AAKwmAACIRQAAzBAAAKgWAADISwAA6GcAABgVAADskAAADGIAAIxuAAAYLgAAQDgAAMx0AAAIUgAA3DcAAOAuAACcGAAAHCUAABguAACUEQAAcBcAAOxFAABwFwAAcBcAALxNAAAYLgAA8DwAADxBAADsXgAA+BEAAMx0AACsDQAAiBMAANhAAAC8GwAA/AgAAFAUAADsEwAAcBcAAJwYAAD4KgAAMEMAAMxbAABAagAAmDoAAJAzAAD0GgAAXF0AAEQWAAC0XwAAUBQAAFwSAACYIQAAHCUAAMASAACYIQAAnBgAAOwsAAAkEwAAdCcAAJQRAADMdAAAlBEAABwlAAB4NwAAiEUAAPgqAACMCgAAXBIAACRFAADMEAAAwBIAADwPAACcfAAAXBIAAAAyAADQhAAA0IQAAMQiAAD8bAAAAGQAAPgqAADsLAAAJBMAABgVAACIRQAA1BcAALgkAADoZwAAxCIAAMQiAABsUgAAHCUAADAqAADAqAAAGBUAABwMAAAMFwAA7BMAACQTAACsJgAAECcAADwPAAAEQgAAHCUAANwFAABYGwAAQB8AAMQJAABkGQAA2A4AACAcAADEIgAAWBsAAEwdAABAHwAAADIAAGQZAADUMAAA+BEAANQXAABMHQAAIBwAAFQLAADYDgAAgAwAACgjAAB0DgAACAcAABAOAABIDQAALBoAAKgWAABAUQAAkBoAAFwSAADEIgAAnBgAADARAAB0DgAA0AcAADwPAABUPQAAQB8AAGQZAABwFwAAwBIAABwlAAC0LQAALBoAAFAUAADMQgAA7CwAAIQcAAAwEQAAxAkAABguAABcEgAAkGUAADAqAADQBwAAWDQAAPwIAAAYFQAAMBEAADARAAAwEQAAMBEAAFAUAABgIgAAlBEAAHwVAABQFAAA/CEAAOQlAABQFAAAxAkAAKwmAACsJgAArCYAABgVAAAcJQAAlBEAAIgTAADQBwAAsAQAAMQJAAD8CAAA/AgAADARAAAwEQAA3AUAANwFAADECQAAMBEAANwFAAAwEQAAMBEAANAHAABoEAAA+BEAAFhNAADkDAAAyBkAAIgTAAC4CwAA2A4AABRQAADECQAABBAAAHAXAADkDAAApB8AAAQQAABUCwAA2A4AAGQZAADcBQAASA0AABAOAAA4GAAA2A4AABAnAAA8DwAAQDgAAMgZAAAMYgAAoA8AAFQLAACADAAAgAwAACgjAACYCAAAxAkAAOwTAABIDQAAPA8AANAHAAAoIwAATDYAAHhpAABAHwAASA0AANwFAADcBQAASCYAAKwmAACsJgAAnBgAAMQJAADkDAAAcBcAAOgDAAAkEwAAJBMAAOgDAACkHwAAFFAAAEgNAADoAwAA6AMAAOgDAACIEwAArCYAAOQlAAB8kgAA3JsAAEgmAADcHgAAfBUAABwlAAC0XwAATJQBAOhnAACMbgAAPIYBABxwAAC0XwAAGPYAACiaAQBg5AEA3JUBADylAAAslwAAeLQAABSCAACEZwAA4HkAAGxrAABggAEAVGkBAHy+AQBQqgAAfCICAGSvAAC4JAAAyEsAALA2AACMhwAA1DAAACyXAAAMFwAAQFEAAOB5AADgYAAAUJEAAFAUAABgCQAAWDQAADhKAADMQgAAJJAAANweAAAIUgAA1DAAABAOAAD8UwAAvE0AAAhSAADswgAAtNwAAARCAACMVQAA4BUAAFxdAADgRwAAHCUAANhyAAAAGQAAcBcAAFxdAADcmwAAeFAAAFxEAAD8UwAAhMsAALxNAABMHQAAbDkAALxNAABwFwAALOIAABgVAAC0RgAAuCQAAAwXAADgLgAAbAcAAOAVAABQFAAATB0AAOAVAACcSgAA1MYAADQ6AAA4GAAATE8AAJAaAADEIgAA4C4AAA=="
         },
         "type": "scatter",
         "mode": "markers+lines",
         "visible": false
        },
        {
         "line": {
          "color": "#bc5090",
          "width": 4
         },
         "opacity": 0.8,
         "y": {
          "dtype": "i4",
          "bdata": "oIwAAMQJAAAcDAAAtF8AALRfAAD4KgAAtF8AAGAiAADMWwAAoA8AAJQRAABoEAAAcBcAAHwVAACsDQAAuAsAAFgbAAAgTgAAeB4AAAhSAABEYQAAmDoAAKAPAAB4HgAAZBkAAERhAACYOgAABEIAALgLAAB0WQAABEIAAOQMAADMWwAAREgAAPxTAADMWwAA/FMAAKwNAACYCAAAnBgAAMQJAAC4CwAA4BUAAJg6AABsawAApDgAAIw8AABwFwAAGBUAAEwdAABYGwAAbGsAAKwmAACwNgAAoA8AAEwdAACUKgAAqC8AAGgpAAAEKQAATB0AAGgpAAA0IQAArA0AAMQiAAA8cwAAuAsAAEAfAAA0IQAANCEAABAnAACwHQAA1DAAANQwAACgDwAA1DAAAJg6AAA8cwAAvE0AALA2AACsJgAAvE0AAKyKAABsawAApDgAAKwmAACoYQAA+CoAADQhAACsJgAArCYAABAnAAC4CwAABEIAALgLAAAQJwAA+CoAAKQGAACIEwAAGBUAALwbAADEhgAA0AcAAKAPAADcBQAAECcAAAgHAAAMFwAAlBEAALgLAADkJQAAOBgAACAcAAAgHAAATB0AAOAuAAAgHAAANCEAAGQZAAD4KgAAIBwAADB1AAD0TAAAQB8AAMxbAABwlAAAyBkAAEwdAADEIgAA"
         },
         "type": "scatter",
         "mode": "markers+lines",
         "visible": false
        },
        {
         "line": {
          "color": "#ffa600",
          "width": 4
         },
         "opacity": 0.8,
         "y": {
          "dtype": "i4",
          "bdata": "PIwAAMQJAAAcDAAAwF0AAMBdAAAEKQAA+FwAAJghAACgWgAAoA8AAJQRAABoEAAAcBcAAHwVAABIDQAAuAsAAJAaAAAgTgAATB0AAAhSAACUXAAA3DcAAKAPAABMHQAAZBkAAERhAACYOgAABEIAAFQLAAB4UAAA8DwAAOQMAAD4QwAA0DkAAMhLAABwSQAAMEMAAKwNAACYCAAAnBgAAGAJAAC4CwAAGBUAAJg6AACENQAApDgAAIw8AABEFgAA7BMAAEwdAABYGwAAhDUAALgkAAD0MwAAoA8AACAcAACgKAAA4C4AAGgpAACsJgAAhBwAAHQnAAAIIAAASA0AAKQfAABsOQAAuAsAAEAfAAAIIAAANCEAAKwmAACEHAAAfC4AABguAACgDwAAGC4AAJg6AABsOQAA1EkAAPQzAAC4JAAA1EkAACRFAACENQAAhDUAALgkAADUMAAA+CoAAEAfAAC4JAAAYCIAABwlAAC4CwAA5D4AALgLAAAcJQAA+CoAAKQGAAAkEwAAGBUAAFgbAACUXAAA0AcAADwPAADcBQAAHCUAAKQGAABEFgAAlBEAALgLAADkJQAAOBgAADgYAABwFwAAOBgAAJAaAAA4GAAA3B4AAHwVAAAcJQAAOBgAALxNAACcSgAAkBoAAMxCAABQkQAAABkAAEwdAADEIgAA"
         },
         "type": "scatter",
         "mode": "markers+lines",
         "visible": false
        },
        {
         "line": {
          "color": "#bc5090",
          "width": 4
         },
         "opacity": 0.8,
         "y": {
          "dtype": "i4",
          "bdata": "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"
         },
         "type": "scatter",
         "mode": "markers+lines",
         "visible": false
        },
        {
         "line": {
          "color": "#ffa600",
          "width": 4
         },
         "opacity": 0.8,
         "y": {
          "dtype": "i4",
          "bdata": "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"
         },
         "type": "scatter",
         "mode": "markers+lines",
         "visible": false
        },
        {
         "line": {
          "color": "#bc5090",
          "width": 4
         },
         "opacity": 0.8,
         "y": {
          "dtype": "i4",
          "bdata": "RGEAAFxEAAD8UwAAnHwAAHRAAACEZwAA9H4AAPRlAAAsZQAAdEAAAISAAACktQAALMkAAEhxAABEYQAAsDYAAPxTAAB4aQAACFIAAGxrAACoYQAApDgAAKhhAACcYwAAbGsAAGxrAAC0XwAAkGUAAKhhAAA8cwAAOEoAAKQ4AACAPgAAmDoAAJg6AAAUUAAA8FUAAPBVAABMHQAA8FUAAOgcAADoHAAAwBIAAFgbAADIGQAAPA8AAKAPAADoAwAA5CUAADgYAAAgTgAAXEQAADQhAAAgHAAAZBkAAPgqAADgLgAAIBwAACAcAABMHQAAIBwAAAhSAAAwdQAA"
         },
         "type": "scatter",
         "mode": "markers+lines",
         "visible": false
        },
        {
         "line": {
          "color": "#ffa600",
          "width": 4
         },
         "opacity": 0.8,
         "y": {
          "dtype": "i4",
          "bdata": "qEgAALg9AACwTwAACGsAAHRAAABcXQAAdHIAALhWAABsOQAAVD0AAHxgAACorAAAXMEAALBPAADsRQAAsDYAALBPAAB4aQAACFIAAOBgAACoYQAApDgAAKhhAADYWQAA4GAAAOBgAABUVgAAaFsAAKhhAADoZwAAOEoAAPQzAABAOAAA3DcAAJg6AADISwAA+CoAAPgqAACQGgAA+CoAACwaAAAsGgAAXBIAAGQZAADIGQAA2A4AADwPAADoAwAA5CUAADgYAABQRgAAuD0AANweAAA4GAAAfBUAABwlAACQGgAAOBgAADgYAAA4GAAAcBcAANRJAAB4aQAA"
         },
         "type": "scatter",
         "mode": "markers+lines",
         "visible": false
        },
        {
         "line": {
          "color": "#bc5090",
          "width": 4
         },
         "opacity": 0.8,
         "y": {
          "dtype": "i4",
          "bdata": "+CoAAOAuAADgLgAAQB8AAEAfAABYGwAAECcAAEAfAAA0OgAA4C4AAAhSAAC4iAAAZBkAAFgbAADgLgAAsDYAAJg6AACYOgAATB0AAEAfAACUEQAArA0AAEAfAABAHwAAiBMAAKAPAADAEgAA4C4AALA2AABYGwAAmDoAALgLAACYOgAAuAsAAHAXAAC4CwAATB0AAPwIAADECQAATB0AAGQZAABwFwAAcBcAAEwdAABkGQAAcBcAAJQRAADQBwAAuAsAAHAXAABkGQAAuAsAAHAXAAC4CwAA8AoAAKAPAACUEQAAcBcAAKwNAAAoIwAAQB8AAJQRAADIMgAArA0AAKwNAADIMgAAxAkAAMQJAACsDQAArA0AAHAXAAC4CwAAfBUAAFgbAABwFwAAiBMAAFgbAACIEwAAxAkAALgLAACUEQAAuAsAAIAMAAC4CwAA4C4AALgLAACIEwAAiBMAAHAXAAC4CwAA0AcAAHAXAAC4CwAAHCUAAMQJAABkGQAA0AcAAKwNAABwFwAAxAkAALgLAACsDQAArA0AAJQRAACUEQAAuAsAAJQRAAAEKQAABCkAAIgTAADECQAAxAkAAIgTAADECQAAlBEAAKwNAAC4CwAA6AMAAMQJAADECQAAxAkAAAQpAAAEKQAAuAsAAMQJAACUEQAA6AMAAOgDAADECQAA0AcAANAHAADcBQAA3AUAANwFAADcBQAA3AUAANwFAADoAwAAoA8AAOgDAADoAwAArA0AAKwNAACYOgAAlBEAAJQRAADYWQAA"
         },
         "type": "scatter",
         "mode": "markers+lines"
        },
        {
         "line": {
          "color": "#ffa600",
          "width": 4
         },
         "opacity": 0.8,
         "y": {
          "dtype": "i4",
          "bdata": "uCQAANgnAABAKQAAIBwAAEAfAABYGwAAECcAACAcAACENQAA4C4AALxNAAC4iAAAZBkAAFgbAACsJgAALDMAAMArAACcMQAAXhoAAEAfAACUEQAArA0AAJAaAACoFgAAXBIAAKAPAABcEgAAgCUAAAQpAAA4GAAATB0AALgLAABMHQAAuAsAAHAXAACMCgAAWBsAANAHAADECQAAWBsAANQXAADgFQAA4BUAAEwdAABkGQAAGBUAADARAADQBwAAjAoAABgVAADUFwAAjAoAAOAVAACMCgAA8AoAANgOAACUEQAAGBUAAKwNAACkHwAAIBwAAJQRAABQLQAAVAsAAEgNAABQLQAAxAkAAJgIAACsDQAASA0AAHAXAAC4CwAABBAAAJwYAAAYFQAAXBIAAJwYAACIEwAAxAkAAFQLAACUEQAAVAsAABwMAAC4CwAAMCoAALgLAAAkEwAAmhAAAHAXAABUCwAA0AcAAOAVAABUCwAAxCIAAMQJAADUFwAA0AcAAEgNAADgFQAAxAkAAFQLAABUCwAAgAwAAJgIAACYCAAAuAsAAJgIAACkHwAApB8AAGgQAAD8CAAAyggAAGgQAAD8CAAA2A4AAEgNAAC4CwAA6AMAAMQJAAD8CAAAyggAAKQfAACkHwAA8AoAAPwIAACgDwAA6AMAAOgDAADECQAA0AcAAAgHAADcBQAA3AUAANwFAADcBQAA3AUAANwFAADoAwAA5AwAAOgDAADoAwAAjAoAAIwKAADgLgAAoA8AAKAPAAAwQwAA"
         },
         "type": "scatter",
         "mode": "markers+lines"
        }
       ],
       "layout": {
        "template": {
         "data": {
          "histogram2dcontour": [
           {
            "type": "histogram2dcontour",
            "colorbar": {
             "outlinewidth": 0,
             "ticks": ""
            },
            "colorscale": [
             [
              0.0,
              "#0d0887"
             ],
             [
              0.1111111111111111,
              "#46039f"
             ],
             [
              0.2222222222222222,
              "#7201a8"
             ],
             [
              0.3333333333333333,
              "#9c179e"
             ],
             [
              0.4444444444444444,
              "#bd3786"
             ],
             [
              0.5555555555555556,
              "#d8576b"
             ],
             [
              0.6666666666666666,
              "#ed7953"
             ],
             [
              0.7777777777777778,
              "#fb9f3a"
             ],
             [
              0.8888888888888888,
              "#fdca26"
             ],
             [
              1.0,
              "#f0f921"
             ]
            ]
           }
          ],
          "choropleth": [
           {
            "type": "choropleth",
            "colorbar": {
             "outlinewidth": 0,
             "ticks": ""
            }
           }
          ],
          "histogram2d": [
           {
            "type": "histogram2d",
            "colorbar": {
             "outlinewidth": 0,
             "ticks": ""
            },
            "colorscale": [
             [
              0.0,
              "#0d0887"
             ],
             [
              0.1111111111111111,
              "#46039f"
             ],
             [
              0.2222222222222222,
              "#7201a8"
             ],
             [
              0.3333333333333333,
              "#9c179e"
             ],
             [
              0.4444444444444444,
              "#bd3786"
             ],
             [
              0.5555555555555556,
              "#d8576b"
             ],
             [
              0.6666666666666666,
              "#ed7953"
             ],
             [
              0.7777777777777778,
              "#fb9f3a"
             ],
             [
              0.8888888888888888,
              "#fdca26"
             ],
             [
              1.0,
              "#f0f921"
             ]
            ]
           }
          ],
          "heatmap": [
           {
            "type": "heatmap",
            "colorbar": {
             "outlinewidth": 0,
             "ticks": ""
            },
            "colorscale": [
             [
              0.0,
              "#0d0887"
             ],
             [
              0.1111111111111111,
              "#46039f"
             ],
             [
              0.2222222222222222,
              "#7201a8"
             ],
             [
              0.3333333333333333,
              "#9c179e"
             ],
             [
              0.4444444444444444,
              "#bd3786"
             ],
             [
              0.5555555555555556,
              "#d8576b"
             ],
             [
              0.6666666666666666,
              "#ed7953"
             ],
             [
              0.7777777777777778,
              "#fb9f3a"
             ],
             [
              0.8888888888888888,
              "#fdca26"
             ],
             [
              1.0,
              "#f0f921"
             ]
            ]
           }
          ],
          "contourcarpet": [
           {
            "type": "contourcarpet",
            "colorbar": {
             "outlinewidth": 0,
             "ticks": ""
            }
           }
          ],
          "contour": [
           {
            "type": "contour",
            "colorbar": {
             "outlinewidth": 0,
             "ticks": ""
            },
            "colorscale": [
             [
              0.0,
              "#0d0887"
             ],
             [
              0.1111111111111111,
              "#46039f"
             ],
             [
              0.2222222222222222,
              "#7201a8"
             ],
             [
              0.3333333333333333,
              "#9c179e"
             ],
             [
              0.4444444444444444,
              "#bd3786"
             ],
             [
              0.5555555555555556,
              "#d8576b"
             ],
             [
              0.6666666666666666,
              "#ed7953"
             ],
             [
              0.7777777777777778,
              "#fb9f3a"
             ],
             [
              0.8888888888888888,
              "#fdca26"
             ],
             [
              1.0,
              "#f0f921"
             ]
            ]
           }
          ],
          "surface": [
           {
            "type": "surface",
            "colorbar": {
             "outlinewidth": 0,
             "ticks": ""
            },
            "colorscale": [
             [
              0.0,
              "#0d0887"
             ],
             [
              0.1111111111111111,
              "#46039f"
             ],
             [
              0.2222222222222222,
              "#7201a8"
             ],
             [
              0.3333333333333333,
              "#9c179e"
             ],
             [
              0.4444444444444444,
              "#bd3786"
             ],
             [
              0.5555555555555556,
              "#d8576b"
             ],
             [
              0.6666666666666666,
              "#ed7953"
             ],
             [
              0.7777777777777778,
              "#fb9f3a"
             ],
             [
              0.8888888888888888,
              "#fdca26"
             ],
             [
              1.0,
              "#f0f921"
             ]
            ]
           }
          ],
          "mesh3d": [
           {
            "type": "mesh3d",
            "colorbar": {
             "outlinewidth": 0,
             "ticks": ""
            }
           }
          ],
          "scatter": [
           {
            "marker": {
             "line": {
              "color": "#283442"
             }
            },
            "type": "scatter"
           }
          ],
          "parcoords": [
           {
            "type": "parcoords",
            "line": {
             "colorbar": {
              "outlinewidth": 0,
              "ticks": ""
             }
            }
           }
          ],
          "scatterpolargl": [
           {
            "type": "scatterpolargl",
            "marker": {
             "colorbar": {
              "outlinewidth": 0,
              "ticks": ""
             }
            }
           }
          ],
          "bar": [
           {
            "error_x": {
             "color": "#f2f5fa"
            },
            "error_y": {
             "color": "#f2f5fa"
            },
            "marker": {
             "line": {
              "color": "rgb(17,17,17)",
              "width": 0.5
             },
             "pattern": {
              "fillmode": "overlay",
              "size": 10,
              "solidity": 0.2
             }
            },
            "type": "bar"
           }
          ],
          "scattergeo": [
           {
            "type": "scattergeo",
            "marker": {
             "colorbar": {
              "outlinewidth": 0,
              "ticks": ""
             }
            }
           }
          ],
          "scatterpolar": [
           {
            "type": "scatterpolar",
            "marker": {
             "colorbar": {
              "outlinewidth": 0,
              "ticks": ""
             }
            }
           }
          ],
          "histogram": [
           {
            "marker": {
             "pattern": {
              "fillmode": "overlay",
              "size": 10,
              "solidity": 0.2
             }
            },
            "type": "histogram"
           }
          ],
          "scattergl": [
           {
            "marker": {
             "line": {
              "color": "#283442"
             }
            },
            "type": "scattergl"
           }
          ],
          "scatter3d": [
           {
            "type": "scatter3d",
            "line": {
             "colorbar": {
              "outlinewidth": 0,
              "ticks": ""
             }
            },
            "marker": {
             "colorbar": {
              "outlinewidth": 0,
              "ticks": ""
             }
            }
           }
          ],
          "scattermap": [
           {
            "type": "scattermap",
            "marker": {
             "colorbar": {
              "outlinewidth": 0,
              "ticks": ""
             }
            }
           }
          ],
          "scattermapbox": [
           {
            "type": "scattermapbox",
            "marker": {
             "colorbar": {
              "outlinewidth": 0,
              "ticks": ""
             }
            }
           }
          ],
          "scatterternary": [
           {
            "type": "scatterternary",
            "marker": {
             "colorbar": {
              "outlinewidth": 0,
              "ticks": ""
             }
            }
           }
          ],
          "scattercarpet": [
           {
            "type": "scattercarpet",
            "marker": {
             "colorbar": {
              "outlinewidth": 0,
              "ticks": ""
             }
            }
           }
          ],
          "carpet": [
           {
            "aaxis": {
             "endlinecolor": "#A2B1C6",
             "gridcolor": "#506784",
             "linecolor": "#506784",
             "minorgridcolor": "#506784",
             "startlinecolor": "#A2B1C6"
            },
            "baxis": {
             "endlinecolor": "#A2B1C6",
             "gridcolor": "#506784",
             "linecolor": "#506784",
             "minorgridcolor": "#506784",
             "startlinecolor": "#A2B1C6"
            },
            "type": "carpet"
           }
          ],
          "table": [
           {
            "cells": {
             "fill": {
              "color": "#506784"
             },
             "line": {
              "color": "rgb(17,17,17)"
             }
            },
            "header": {
             "fill": {
              "color": "#2a3f5f"
             },
             "line": {
              "color": "rgb(17,17,17)"
             }
            },
            "type": "table"
           }
          ],
          "barpolar": [
           {
            "marker": {
             "line": {
              "color": "rgb(17,17,17)",
              "width": 0.5
             },
             "pattern": {
              "fillmode": "overlay",
              "size": 10,
              "solidity": 0.2
             }
            },
            "type": "barpolar"
           }
          ],
          "pie": [
           {
            "automargin": true,
            "type": "pie"
           }
          ]
         },
         "layout": {
          "autotypenumbers": "strict",
          "colorway": [
           "#636efa",
           "#EF553B",
           "#00cc96",
           "#ab63fa",
           "#FFA15A",
           "#19d3f3",
           "#FF6692",
           "#B6E880",
           "#FF97FF",
           "#FECB52"
          ],
          "font": {
           "color": "#f2f5fa"
          },
          "hovermode": "closest",
          "hoverlabel": {
           "align": "left"
          },
          "paper_bgcolor": "rgb(17,17,17)",
          "plot_bgcolor": "rgb(17,17,17)",
          "polar": {
           "bgcolor": "rgb(17,17,17)",
           "angularaxis": {
            "gridcolor": "#506784",
            "linecolor": "#506784",
            "ticks": ""
           },
           "radialaxis": {
            "gridcolor": "#506784",
            "linecolor": "#506784",
            "ticks": ""
           }
          },
          "ternary": {
           "bgcolor": "rgb(17,17,17)",
           "aaxis": {
            "gridcolor": "#506784",
            "linecolor": "#506784",
            "ticks": ""
           },
           "baxis": {
            "gridcolor": "#506784",
            "linecolor": "#506784",
            "ticks": ""
           },
           "caxis": {
            "gridcolor": "#506784",
            "linecolor": "#506784",
            "ticks": ""
           }
          },
          "coloraxis": {
           "colorbar": {
            "outlinewidth": 0,
            "ticks": ""
           }
          },
          "colorscale": {
           "sequential": [
            [
             0.0,
             "#0d0887"
            ],
            [
             0.1111111111111111,
             "#46039f"
            ],
            [
             0.2222222222222222,
             "#7201a8"
            ],
            [
             0.3333333333333333,
             "#9c179e"
            ],
            [
             0.4444444444444444,
             "#bd3786"
            ],
            [
             0.5555555555555556,
             "#d8576b"
            ],
            [
             0.6666666666666666,
             "#ed7953"
            ],
            [
             0.7777777777777778,
             "#fb9f3a"
            ],
            [
             0.8888888888888888,
             "#fdca26"
            ],
            [
             1.0,
             "#f0f921"
            ]
           ],
           "sequentialminus": [
            [
             0.0,
             "#0d0887"
            ],
            [
             0.1111111111111111,
             "#46039f"
            ],
            [
             0.2222222222222222,
             "#7201a8"
            ],
            [
             0.3333333333333333,
             "#9c179e"
            ],
            [
             0.4444444444444444,
             "#bd3786"
            ],
            [
             0.5555555555555556,
             "#d8576b"
            ],
            [
             0.6666666666666666,
             "#ed7953"
            ],
            [
             0.7777777777777778,
             "#fb9f3a"
            ],
            [
             0.8888888888888888,
             "#fdca26"
            ],
            [
             1.0,
             "#f0f921"
            ]
           ],
           "diverging": [
            [
             0,
             "#8e0152"
            ],
            [
             0.1,
             "#c51b7d"
            ],
            [
             0.2,
             "#de77ae"
            ],
            [
             0.3,
             "#f1b6da"
            ],
            [
             0.4,
             "#fde0ef"
            ],
            [
             0.5,
             "#f7f7f7"
            ],
            [
             0.6,
             "#e6f5d0"
            ],
            [
             0.7,
             "#b8e186"
            ],
            [
             0.8,
             "#7fbc41"
            ],
            [
             0.9,
             "#4d9221"
            ],
            [
             1,
             "#276419"
            ]
           ]
          },
          "xaxis": {
           "gridcolor": "#283442",
           "linecolor": "#506784",
           "ticks": "",
           "title": {
            "standoff": 15
           },
           "zerolinecolor": "#283442",
           "automargin": true,
           "zerolinewidth": 2
          },
          "yaxis": {
           "gridcolor": "#283442",
           "linecolor": "#506784",
           "ticks": "",
           "title": {
            "standoff": 15
           },
           "zerolinecolor": "#283442",
           "automargin": true,
           "zerolinewidth": 2
          },
          "scene": {
           "xaxis": {
            "backgroundcolor": "rgb(17,17,17)",
            "gridcolor": "#506784",
            "linecolor": "#506784",
            "showbackground": true,
            "ticks": "",
            "zerolinecolor": "#C8D4E3",
            "gridwidth": 2
           },
           "yaxis": {
            "backgroundcolor": "rgb(17,17,17)",
            "gridcolor": "#506784",
            "linecolor": "#506784",
            "showbackground": true,
            "ticks": "",
            "zerolinecolor": "#C8D4E3",
            "gridwidth": 2
           },
           "zaxis": {
            "backgroundcolor": "rgb(17,17,17)",
            "gridcolor": "#506784",
            "linecolor": "#506784",
            "showbackground": true,
            "ticks": "",
            "zerolinecolor": "#C8D4E3",
            "gridwidth": 2
           }
          },
          "shapedefaults": {
           "line": {
            "color": "#f2f5fa"
           }
          },
          "annotationdefaults": {
           "arrowcolor": "#f2f5fa",
           "arrowhead": 0,
           "arrowwidth": 1
          },
          "geo": {
           "bgcolor": "rgb(17,17,17)",
           "landcolor": "rgb(17,17,17)",
           "subunitcolor": "#506784",
           "showland": true,
           "showlakes": true,
           "lakecolor": "rgb(17,17,17)"
          },
          "title": {
           "x": 0.05
          },
          "updatemenudefaults": {
           "bgcolor": "#506784",
           "borderwidth": 0
          },
          "sliderdefaults": {
           "bgcolor": "#C8D4E3",
           "borderwidth": 1,
           "bordercolor": "rgb(17,17,17)",
           "tickwidth": 0
          },
          "mapbox": {
           "style": "dark"
          }
         }
        },
        "xaxis": {
         "anchor": "y",
         "domain": [
          0.0,
          0.45
         ]
        },
        "yaxis": {
         "anchor": "x",
         "domain": [
          0.0,
          1.0
         ]
        },
        "xaxis2": {
         "anchor": "y2",
         "domain": [
          0.55,
          1.0
         ]
        },
        "yaxis2": {
         "anchor": "x2",
         "domain": [
          0.0,
          1.0
         ]
        },
        "width": 2800,
        "autosize": true,
        "hovermode": "x"
       },
       "config": {
        "plotlyServerURL": "https://plot.ly"
       }
      }
     },
     "metadata": {},
     "output_type": "display_data"
    },
    {
     "name": "stdout",
     "output_type": "stream",
     "text": [
      "Personal Care with count -  344\n"
     ]
    },
    {
     "data": {
      "application/vnd.plotly.v1+json": {
       "data": [
        {
         "line": {
          "color": "#bc5090",
          "width": 4
         },
         "opacity": 0.8,
         "y": {
          "dtype": "i2",
          "bdata": "EA4YFXAXKApABmwHGBX8CNAHaBDYDlQLbAe4C3AXxAnECfwIuAtsB3gF5AwIB0wEdA7QB6gWrA2sDYAMgAy4C7gLCAdoEAgH+BEUBawNBBCkBrgLxCKsDawNTB14BfwIbAdMBNAHTASoFqQG0AfQBxQFuAtUC6gWCCB4NxgV1El4NyRFkBoQJwggGC5oKVgbGBUQDrgLxAnsExAOKArcBWgQaBCsDagWKApYGxgVbAe4JPgqJEWwBIA+"
         },
         "type": "scatter",
         "mode": "markers+lines",
         "visible": false
        },
        {
         "line": {
          "color": "#ffa600",
          "width": 4
         },
         "opacity": 0.8,
         "y": {
          "dtype": "i2",
          "bdata": "uAuUEUQWNAgUBdwFlBFsB6QGrA2ADGAJQAbECYgTNAg0CGwHxAlABrAE8ArcBYQDHAykBiQTVAtUC4wKjArECcQJ3AWsDdwFPA9MBFQLPA8UBcQJTB1UC1QLnBiwBGwHQAaEA6QGhAMkE3gFpAakBkwExAlgCSQT9Bp8LpQRHD58LjQ6RBbQIPQarCbEIgwXlBG4C8QJNAjMELgLmAgUBawNrA1UCyQTmAgMF5QRQAbcHgQpNDroA2A7"
         },
         "type": "scatter",
         "mode": "markers+lines",
         "visible": false
        },
        {
         "line": {
          "color": "#bc5090",
          "width": 4
         },
         "opacity": 0.8,
         "y": {
          "dtype": "i4",
          "bdata": "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"
         },
         "type": "scatter",
         "mode": "markers+lines",
         "visible": false
        },
        {
         "line": {
          "color": "#ffa600",
          "width": 4
         },
         "opacity": 0.8,
         "y": {
          "dtype": "i4",
          "bdata": "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"
         },
         "type": "scatter",
         "mode": "markers+lines",
         "visible": false
        },
        {
         "line": {
          "color": "#bc5090",
          "width": 4
         },
         "opacity": 0.8,
         "y": {
          "dtype": "i4",
          "bdata": "oIwAAMQJAAAcDAAAtF8AALRfAAD4KgAAtF8AAGAiAADMWwAAoA8AAJQRAABoEAAAcBcAAHwVAACsDQAAuAsAAFgbAAAgTgAAeB4AAAhSAABEYQAAmDoAAKAPAAB4HgAAZBkAAERhAACYOgAABEIAALgLAAB0WQAABEIAAOQMAADMWwAAREgAAPxTAADMWwAA/FMAAKwNAACYCAAAnBgAAMQJAAC4CwAA4BUAAJg6AABsawAApDgAAIw8AABwFwAAGBUAAEwdAABYGwAAbGsAAKwmAACwNgAAoA8AAEwdAACUKgAAqC8AAGgpAAAEKQAATB0AAGgpAAA0IQAArA0AAMQiAAA8cwAAuAsAAEAfAAA0IQAANCEAABAnAACwHQAA1DAAANQwAACgDwAA1DAAAJg6AAA8cwAAvE0AALA2AACsJgAAvE0AAKyKAABsawAApDgAAKwmAACoYQAA+CoAADQhAACsJgAArCYAABAnAAC4CwAABEIAALgLAAAQJwAA+CoAAKQGAACIEwAAGBUAALwbAADEhgAA0AcAAKAPAADcBQAAECcAAAgHAAAMFwAAlBEAALgLAADkJQAAOBgAACAcAAAgHAAATB0AAOAuAAAgHAAANCEAAGQZAAD4KgAAIBwAADB1AAD0TAAAQB8AAMxbAABwlAAAyBkAAEwdAADEIgAA"
         },
         "type": "scatter",
         "mode": "markers+lines",
         "visible": false
        },
        {
         "line": {
          "color": "#ffa600",
          "width": 4
         },
         "opacity": 0.8,
         "y": {
          "dtype": "i4",
          "bdata": "PIwAAMQJAAAcDAAAwF0AAMBdAAAEKQAA+FwAAJghAACgWgAAoA8AAJQRAABoEAAAcBcAAHwVAABIDQAAuAsAAJAaAAAgTgAATB0AAAhSAACUXAAA3DcAAKAPAABMHQAAZBkAAERhAACYOgAABEIAAFQLAAB4UAAA8DwAAOQMAAD4QwAA0DkAAMhLAABwSQAAMEMAAKwNAACYCAAAnBgAAGAJAAC4CwAAGBUAAJg6AACENQAApDgAAIw8AABEFgAA7BMAAEwdAABYGwAAhDUAALgkAAD0MwAAoA8AACAcAACgKAAA4C4AAGgpAACsJgAAhBwAAHQnAAAIIAAASA0AAKQfAABsOQAAuAsAAEAfAAAIIAAANCEAAKwmAACEHAAAfC4AABguAACgDwAAGC4AAJg6AABsOQAA1EkAAPQzAAC4JAAA1EkAACRFAACENQAAhDUAALgkAADUMAAA+CoAAEAfAAC4JAAAYCIAABwlAAC4CwAA5D4AALgLAAAcJQAA+CoAAKQGAAAkEwAAGBUAAFgbAACUXAAA0AcAADwPAADcBQAAHCUAAKQGAABEFgAAlBEAALgLAADkJQAAOBgAADgYAABwFwAAOBgAAJAaAAA4GAAA3B4AAHwVAAAcJQAAOBgAALxNAACcSgAAkBoAAMxCAABQkQAAABkAAEwdAADEIgAA"
         },
         "type": "scatter",
         "mode": "markers+lines",
         "visible": false
        },
        {
         "line": {
          "color": "#bc5090",
          "width": 4
         },
         "opacity": 0.8,
         "y": {
          "dtype": "i4",
          "bdata": "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"
         },
         "type": "scatter",
         "mode": "markers+lines",
         "visible": false
        },
        {
         "line": {
          "color": "#ffa600",
          "width": 4
         },
         "opacity": 0.8,
         "y": {
          "dtype": "i4",
          "bdata": "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"
         },
         "type": "scatter",
         "mode": "markers+lines",
         "visible": false
        },
        {
         "line": {
          "color": "#bc5090",
          "width": 4
         },
         "opacity": 0.8,
         "y": {
          "dtype": "i4",
          "bdata": "RGEAAFxEAAD8UwAAnHwAAHRAAACEZwAA9H4AAPRlAAAsZQAAdEAAAISAAACktQAALMkAAEhxAABEYQAAsDYAAPxTAAB4aQAACFIAAGxrAACoYQAApDgAAKhhAACcYwAAbGsAAGxrAAC0XwAAkGUAAKhhAAA8cwAAOEoAAKQ4AACAPgAAmDoAAJg6AAAUUAAA8FUAAPBVAABMHQAA8FUAAOgcAADoHAAAwBIAAFgbAADIGQAAPA8AAKAPAADoAwAA5CUAADgYAAAgTgAAXEQAADQhAAAgHAAAZBkAAPgqAADgLgAAIBwAACAcAABMHQAAIBwAAAhSAAAwdQAA"
         },
         "type": "scatter",
         "mode": "markers+lines",
         "visible": false
        },
        {
         "line": {
          "color": "#ffa600",
          "width": 4
         },
         "opacity": 0.8,
         "y": {
          "dtype": "i4",
          "bdata": "qEgAALg9AACwTwAACGsAAHRAAABcXQAAdHIAALhWAABsOQAAVD0AAHxgAACorAAAXMEAALBPAADsRQAAsDYAALBPAAB4aQAACFIAAOBgAACoYQAApDgAAKhhAADYWQAA4GAAAOBgAABUVgAAaFsAAKhhAADoZwAAOEoAAPQzAABAOAAA3DcAAJg6AADISwAA+CoAAPgqAACQGgAA+CoAACwaAAAsGgAAXBIAAGQZAADIGQAA2A4AADwPAADoAwAA5CUAADgYAABQRgAAuD0AANweAAA4GAAAfBUAABwlAACQGgAAOBgAADgYAAA4GAAAcBcAANRJAAB4aQAA"
         },
         "type": "scatter",
         "mode": "markers+lines",
         "visible": false
        },
        {
         "line": {
          "color": "#bc5090",
          "width": 4
         },
         "opacity": 0.8,
         "y": {
          "dtype": "i4",
          "bdata": "+CoAAOAuAADgLgAAQB8AAEAfAABYGwAAECcAAEAfAAA0OgAA4C4AAAhSAAC4iAAAZBkAAFgbAADgLgAAsDYAAJg6AACYOgAATB0AAEAfAACUEQAArA0AAEAfAABAHwAAiBMAAKAPAADAEgAA4C4AALA2AABYGwAAmDoAALgLAACYOgAAuAsAAHAXAAC4CwAATB0AAPwIAADECQAATB0AAGQZAABwFwAAcBcAAEwdAABkGQAAcBcAAJQRAADQBwAAuAsAAHAXAABkGQAAuAsAAHAXAAC4CwAA8AoAAKAPAACUEQAAcBcAAKwNAAAoIwAAQB8AAJQRAADIMgAArA0AAKwNAADIMgAAxAkAAMQJAACsDQAArA0AAHAXAAC4CwAAfBUAAFgbAABwFwAAiBMAAFgbAACIEwAAxAkAALgLAACUEQAAuAsAAIAMAAC4CwAA4C4AALgLAACIEwAAiBMAAHAXAAC4CwAA0AcAAHAXAAC4CwAAHCUAAMQJAABkGQAA0AcAAKwNAABwFwAAxAkAALgLAACsDQAArA0AAJQRAACUEQAAuAsAAJQRAAAEKQAABCkAAIgTAADECQAAxAkAAIgTAADECQAAlBEAAKwNAAC4CwAA6AMAAMQJAADECQAAxAkAAAQpAAAEKQAAuAsAAMQJAACUEQAA6AMAAOgDAADECQAA0AcAANAHAADcBQAA3AUAANwFAADcBQAA3AUAANwFAADoAwAAoA8AAOgDAADoAwAArA0AAKwNAACYOgAAlBEAAJQRAADYWQAA"
         },
         "type": "scatter",
         "mode": "markers+lines",
         "visible": false
        },
        {
         "line": {
          "color": "#ffa600",
          "width": 4
         },
         "opacity": 0.8,
         "y": {
          "dtype": "i4",
          "bdata": "uCQAANgnAABAKQAAIBwAAEAfAABYGwAAECcAACAcAACENQAA4C4AALxNAAC4iAAAZBkAAFgbAACsJgAALDMAAMArAACcMQAAXhoAAEAfAACUEQAArA0AAJAaAACoFgAAXBIAAKAPAABcEgAAgCUAAAQpAAA4GAAATB0AALgLAABMHQAAuAsAAHAXAACMCgAAWBsAANAHAADECQAAWBsAANQXAADgFQAA4BUAAEwdAABkGQAAGBUAADARAADQBwAAjAoAABgVAADUFwAAjAoAAOAVAACMCgAA8AoAANgOAACUEQAAGBUAAKwNAACkHwAAIBwAAJQRAABQLQAAVAsAAEgNAABQLQAAxAkAAJgIAACsDQAASA0AAHAXAAC4CwAABBAAAJwYAAAYFQAAXBIAAJwYAACIEwAAxAkAAFQLAACUEQAAVAsAABwMAAC4CwAAMCoAALgLAAAkEwAAmhAAAHAXAABUCwAA0AcAAOAVAABUCwAAxCIAAMQJAADUFwAA0AcAAEgNAADgFQAAxAkAAFQLAABUCwAAgAwAAJgIAACYCAAAuAsAAJgIAACkHwAApB8AAGgQAAD8CAAAyggAAGgQAAD8CAAA2A4AAEgNAAC4CwAA6AMAAMQJAAD8CAAAyggAAKQfAACkHwAA8AoAAPwIAACgDwAA6AMAAOgDAADECQAA0AcAAAgHAADcBQAA3AUAANwFAADcBQAA3AUAANwFAADoAwAA5AwAAOgDAADoAwAAjAoAAIwKAADgLgAAoA8AAKAPAAAwQwAA"
         },
         "type": "scatter",
         "mode": "markers+lines",
         "visible": false
        },
        {
         "line": {
          "color": "#bc5090",
          "width": 4
         },
         "opacity": 0.8,
         "y": {
          "dtype": "i4",
          "bdata": "1EkAAKwmAACsJgAAlCoAAJQqAACsJgAAaL8AAMzYAADM2AAA7MIAAPT7AABQRgAAkGUAAJBlAABIcQAAUEYAADQ6AAC8TQAA7CwAAKhhAABUbwAA5FcAAORXAADcmwAAzFsAAFAtAAD0fgAAzFsAAJBlAAAwdQAA/FMAANhZAADcmwAAAH0AAJg6AADYQAAAwEQAAMBEAAC8TQAAgD4AAIRnAAAobgAARGEAADxzAAB8kgAAfJIAACBnAADAXQAAwF0AAFRvAABgbQAA5FcAAJSOAABwlAAAiEUAALBoAAAMMAAAeGkAAIA+AADcmwAAGEcAACBOAACYOgAAvE0AALA2AACYOgAARGEAAEAfAAC8TQAAmDoAALxNAAC8TQAA5FcAAORXAACYOgAArCYAAJg6AADkVwAAtHgAAKwmAAC8TQAAVG8AAHRAAAC8TQAAiCwAABh5AAA0IQAAzHQAABAnAAAcJQAAECcAADhKAADIMgAA3JsAAGhCAADEIgAA3B4AAPQaAACwNgAAvBsAACBOAADIMgAAUEYAAHRAAACwNgAA+CoAAHRAAADIMgAAYOoAAKwmAAC8TQAATB0AADhKAABsawAATB0AADQhAAAYeQAA5FcAANw3AAC8TQAAvE0AALxNAACkUQAANDoAALxNAAC8TQAAvDQAAAhSAADwVQAACCAAAJg6AACYOgAALEwAAGhCAACMPAAAuD0AAOAuAAB8kgAA4C4AAOAuAACENQAAOEoAAGAiAAC8TQAA4C4AAAQpAAA4SgAAMPIAADDyAAAw8gAA2NYAADDyAACwNgAA2NYAANjWAAAoIwAARGEAAKhhAAAIUgAA5FcAALxNAAAsTAAAvE0AAHQnAAAoIwAABCkAADhKAAAsTAAALEwAANybAACoYQAAUEYAACxMAAAsTAAAqBYAACxMAAAIUgAAvE0AAGhCAACIEwAAWBsAALgLAAC8TQAATB0AAMxbAAAIUgAA2FkAACBOAACoYQAA+CoAACBOAABMHQAAIE4AAMASAADgLgAANFMAAKgWAADAqAAAECcAAOwsAADQIAAAUEYAAHAXAAAoIwAArCYAAPxTAABAHwAA1DAAAJg6AACMPAAAWBsAABAnAABESAAAsDYAAFSIAACoYQAApDgAAERhAABESAAAREgAAHwVAAC0XwAALBoAAKQ4AABQRgAASCYAAFxEAADsLAAATB0AAFxEAADY1gAA2NYAABRdAgDIMgAAiBMAADhKAABUJAAAVCQAACgjAACAPgAAKCMAAHwVAABMHQAA1DAAAKwNAADsLAAATK0BALRfAAAgTgAATB0AAEwdAACwNgAANCEAADQhAADM2AAAQB8AAORXAABMrQEAyDIAANweAADECQAAvDQAAAwRAQDIMgAAvDQAAAwRAQA0OgAAvDQAAIgTAABkrwAATK0BAGQZAABMHQAAZBkAAOiAAACoYQAADHsAAPzpAADMdAAA0IQAAAggAADcmwAATB0AABAnAAAAfQAAZBkAAJSnAACgjAAAVAsAACgjAADMWwAA7CwAAPQzAADECQAAuAsAALgLAABAHwAAKCMAANweAAC4CwAA5AwAAAQpAADMWwAA6AMAAIw8AABcRAAAREgAAFxEAAB8FQAABKYAAIAMAAC4CwAAKCMAALgLAAAoIwAAaBAAALgLAADgLgAAYCIAAJg6AADswgAAhP0AAKwmAADgLgAArCYAAEgmAABESAAAgD4AAKwmAACwNgAArCYAAFBGAAB8kgAARGEAAJBlAACIEwAARGEAALgLAABUiAAA0AcAAMSGAADQBwAAMHUAADQ6AAA="
         },
         "type": "scatter",
         "mode": "markers+lines"
        },
        {
         "line": {
          "color": "#ffa600",
          "width": 4
         },
         "opacity": 0.8,
         "y": {
          "dtype": "i4",
          "bdata": "1EkAAKwmAAAcJQAABCkAAAQpAACsJgAAXI8AAITLAACEywAAZK8AABDvAABQRgAAfGAAAHxgAAD0ZQAAUEYAADQ6AAC8TQAA+CoAAORXAAC8ZgAA5FcAAAhSAACcfAAAzFsAAFAtAAD0fgAAcEkAADRTAAAgZwAAyEsAAHBJAABshAAAhGcAALA2AABUPQAAuD0AALg9AACoSAAAFDcAAIRnAAAobgAAaFsAAOhnAAAIhAAAeIIAACBnAADAXQAAVFYAAOhnAAAwXAAACFIAAJSOAABwlAAAiEUAAHBiAAAMMAAAdFkAAEA4AACcfAAAKDwAAIA+AAC8NAAAHD4AADgxAADgLgAAvE0AAEwdAACoSAAAvDQAAOxFAACcSgAAUEYAAJhTAAC8NAAAxCIAAOAuAABQRgAAmGwAAMQiAADsRQAAVG8AAHRAAAC8TQAAVCQAALxmAAA0IQAAfGAAABAnAAAcJQAAHCUAAIhFAAB8LgAA3JsAAAg5AAA0IQAA3B4AAPQaAAAAMgAAvBsAACBOAADgLgAAUEYAAKQ4AAA4MQAA+CoAAJg6AACILAAA8NIAAKwmAAC8TQAAkBoAADhKAAB8YAAATB0AADQhAABAagAATE8AANw3AAC8TQAAJEUAALxNAACkUQAANDoAALxNAAC8TQAAvDQAABhHAADwVQAA6BwAAJg6AAAUNwAA+EMAAGhCAACwNgAAbDkAAMArAAB8kgAAwCsAAOAuAAAMMAAAOEoAAGAiAAC8TQAA4C4AAAQpAAA4SgAAMPIAADDyAAAw8gAA2NYAADDyAACwNgAA2NYAANjWAAAoIwAARGEAAKhhAADISwAABEIAALxNAAD4QwAAvE0AABwlAACkHwAABCkAAARCAAD4QwAAwEQAADyMAACoYQAASD8AAPhDAAD4QwAAqBYAAMBEAAAIUgAAHD4AAMQ7AACIEwAAnBgAAFQLAADUSQAATB0AANBSAADISwAA2FkAAFBGAACoYQAArCYAAFBGAABMHQAAUEYAAFwSAAAwKgAAOEoAAHwVAABcjwAA0CAAADwoAADQIAAArD8AAHAXAACkHwAAxCIAACBOAACEHAAAwCsAAJg6AACkOAAAWBsAABAnAABESAAAODEAAKh6AADkVwAALDMAAERhAABUPQAAVD0AAHwVAABUVgAAcBcAACwzAABQRgAASCYAAFQ9AADsLAAAvBsAALg9AADY1gAA2NYAAKRLAQC0LQAAJBMAAEg/AABUJAAAYCIAAKQfAACgKAAA0CAAAIgTAAC8GwAA1DAAAEgNAABoKQAApEsBAFRWAABQRgAAkBoAAEwdAAA4MQAAIBwAANweAADM2AAAQB8AAORXAAAsXwEAyDIAAJAaAADECQAAADIAAHTWAADsLAAAADIAAJzgAABYNAAAADIAAJQRAAAcogAALF8BAKgWAABMHQAAqBYAACx+AADkVwAADHsAANTGAAD8bAAAaHQAAOgcAAAkkAAAZBkAACgjAAAAfQAADBcAADCOAACQfgAAVAsAAPwhAAAoVQAA7CwAAMgyAADECQAAuAsAALgLAAAgHAAAKCMAAOgcAAC4CwAA5AwAAAQpAAAoVQAA6AMAAIw8AABcRAAAREgAAFxEAAB8FQAA0IQAAFQLAAC4CwAAKCMAAFQLAACkHwAABBAAAFQLAADgLgAACCAAAAwwAACwswAAyOEAAKwmAAAwKgAArCYAAEgmAAAEQgAAgD4AAKwmAAB8LgAArCYAAFBGAAB8kgAARGEAAGhbAACIEwAA2FkAAMQJAAD0fgAA0AcAAMSGAADQBwAAbGsAADQ6AAA="
         },
         "type": "scatter",
         "mode": "markers+lines"
        }
       ],
       "layout": {
        "template": {
         "data": {
          "histogram2dcontour": [
           {
            "type": "histogram2dcontour",
            "colorbar": {
             "outlinewidth": 0,
             "ticks": ""
            },
            "colorscale": [
             [
              0.0,
              "#0d0887"
             ],
             [
              0.1111111111111111,
              "#46039f"
             ],
             [
              0.2222222222222222,
              "#7201a8"
             ],
             [
              0.3333333333333333,
              "#9c179e"
             ],
             [
              0.4444444444444444,
              "#bd3786"
             ],
             [
              0.5555555555555556,
              "#d8576b"
             ],
             [
              0.6666666666666666,
              "#ed7953"
             ],
             [
              0.7777777777777778,
              "#fb9f3a"
             ],
             [
              0.8888888888888888,
              "#fdca26"
             ],
             [
              1.0,
              "#f0f921"
             ]
            ]
           }
          ],
          "choropleth": [
           {
            "type": "choropleth",
            "colorbar": {
             "outlinewidth": 0,
             "ticks": ""
            }
           }
          ],
          "histogram2d": [
           {
            "type": "histogram2d",
            "colorbar": {
             "outlinewidth": 0,
             "ticks": ""
            },
            "colorscale": [
             [
              0.0,
              "#0d0887"
             ],
             [
              0.1111111111111111,
              "#46039f"
             ],
             [
              0.2222222222222222,
              "#7201a8"
             ],
             [
              0.3333333333333333,
              "#9c179e"
             ],
             [
              0.4444444444444444,
              "#bd3786"
             ],
             [
              0.5555555555555556,
              "#d8576b"
             ],
             [
              0.6666666666666666,
              "#ed7953"
             ],
             [
              0.7777777777777778,
              "#fb9f3a"
             ],
             [
              0.8888888888888888,
              "#fdca26"
             ],
             [
              1.0,
              "#f0f921"
             ]
            ]
           }
          ],
          "heatmap": [
           {
            "type": "heatmap",
            "colorbar": {
             "outlinewidth": 0,
             "ticks": ""
            },
            "colorscale": [
             [
              0.0,
              "#0d0887"
             ],
             [
              0.1111111111111111,
              "#46039f"
             ],
             [
              0.2222222222222222,
              "#7201a8"
             ],
             [
              0.3333333333333333,
              "#9c179e"
             ],
             [
              0.4444444444444444,
              "#bd3786"
             ],
             [
              0.5555555555555556,
              "#d8576b"
             ],
             [
              0.6666666666666666,
              "#ed7953"
             ],
             [
              0.7777777777777778,
              "#fb9f3a"
             ],
             [
              0.8888888888888888,
              "#fdca26"
             ],
             [
              1.0,
              "#f0f921"
             ]
            ]
           }
          ],
          "contourcarpet": [
           {
            "type": "contourcarpet",
            "colorbar": {
             "outlinewidth": 0,
             "ticks": ""
            }
           }
          ],
          "contour": [
           {
            "type": "contour",
            "colorbar": {
             "outlinewidth": 0,
             "ticks": ""
            },
            "colorscale": [
             [
              0.0,
              "#0d0887"
             ],
             [
              0.1111111111111111,
              "#46039f"
             ],
             [
              0.2222222222222222,
              "#7201a8"
             ],
             [
              0.3333333333333333,
              "#9c179e"
             ],
             [
              0.4444444444444444,
              "#bd3786"
             ],
             [
              0.5555555555555556,
              "#d8576b"
             ],
             [
              0.6666666666666666,
              "#ed7953"
             ],
             [
              0.7777777777777778,
              "#fb9f3a"
             ],
             [
              0.8888888888888888,
              "#fdca26"
             ],
             [
              1.0,
              "#f0f921"
             ]
            ]
           }
          ],
          "surface": [
           {
            "type": "surface",
            "colorbar": {
             "outlinewidth": 0,
             "ticks": ""
            },
            "colorscale": [
             [
              0.0,
              "#0d0887"
             ],
             [
              0.1111111111111111,
              "#46039f"
             ],
             [
              0.2222222222222222,
              "#7201a8"
             ],
             [
              0.3333333333333333,
              "#9c179e"
             ],
             [
              0.4444444444444444,
              "#bd3786"
             ],
             [
              0.5555555555555556,
              "#d8576b"
             ],
             [
              0.6666666666666666,
              "#ed7953"
             ],
             [
              0.7777777777777778,
              "#fb9f3a"
             ],
             [
              0.8888888888888888,
              "#fdca26"
             ],
             [
              1.0,
              "#f0f921"
             ]
            ]
           }
          ],
          "mesh3d": [
           {
            "type": "mesh3d",
            "colorbar": {
             "outlinewidth": 0,
             "ticks": ""
            }
           }
          ],
          "scatter": [
           {
            "marker": {
             "line": {
              "color": "#283442"
             }
            },
            "type": "scatter"
           }
          ],
          "parcoords": [
           {
            "type": "parcoords",
            "line": {
             "colorbar": {
              "outlinewidth": 0,
              "ticks": ""
             }
            }
           }
          ],
          "scatterpolargl": [
           {
            "type": "scatterpolargl",
            "marker": {
             "colorbar": {
              "outlinewidth": 0,
              "ticks": ""
             }
            }
           }
          ],
          "bar": [
           {
            "error_x": {
             "color": "#f2f5fa"
            },
            "error_y": {
             "color": "#f2f5fa"
            },
            "marker": {
             "line": {
              "color": "rgb(17,17,17)",
              "width": 0.5
             },
             "pattern": {
              "fillmode": "overlay",
              "size": 10,
              "solidity": 0.2
             }
            },
            "type": "bar"
           }
          ],
          "scattergeo": [
           {
            "type": "scattergeo",
            "marker": {
             "colorbar": {
              "outlinewidth": 0,
              "ticks": ""
             }
            }
           }
          ],
          "scatterpolar": [
           {
            "type": "scatterpolar",
            "marker": {
             "colorbar": {
              "outlinewidth": 0,
              "ticks": ""
             }
            }
           }
          ],
          "histogram": [
           {
            "marker": {
             "pattern": {
              "fillmode": "overlay",
              "size": 10,
              "solidity": 0.2
             }
            },
            "type": "histogram"
           }
          ],
          "scattergl": [
           {
            "marker": {
             "line": {
              "color": "#283442"
             }
            },
            "type": "scattergl"
           }
          ],
          "scatter3d": [
           {
            "type": "scatter3d",
            "line": {
             "colorbar": {
              "outlinewidth": 0,
              "ticks": ""
             }
            },
            "marker": {
             "colorbar": {
              "outlinewidth": 0,
              "ticks": ""
             }
            }
           }
          ],
          "scattermap": [
           {
            "type": "scattermap",
            "marker": {
             "colorbar": {
              "outlinewidth": 0,
              "ticks": ""
             }
            }
           }
          ],
          "scattermapbox": [
           {
            "type": "scattermapbox",
            "marker": {
             "colorbar": {
              "outlinewidth": 0,
              "ticks": ""
             }
            }
           }
          ],
          "scatterternary": [
           {
            "type": "scatterternary",
            "marker": {
             "colorbar": {
              "outlinewidth": 0,
              "ticks": ""
             }
            }
           }
          ],
          "scattercarpet": [
           {
            "type": "scattercarpet",
            "marker": {
             "colorbar": {
              "outlinewidth": 0,
              "ticks": ""
             }
            }
           }
          ],
          "carpet": [
           {
            "aaxis": {
             "endlinecolor": "#A2B1C6",
             "gridcolor": "#506784",
             "linecolor": "#506784",
             "minorgridcolor": "#506784",
             "startlinecolor": "#A2B1C6"
            },
            "baxis": {
             "endlinecolor": "#A2B1C6",
             "gridcolor": "#506784",
             "linecolor": "#506784",
             "minorgridcolor": "#506784",
             "startlinecolor": "#A2B1C6"
            },
            "type": "carpet"
           }
          ],
          "table": [
           {
            "cells": {
             "fill": {
              "color": "#506784"
             },
             "line": {
              "color": "rgb(17,17,17)"
             }
            },
            "header": {
             "fill": {
              "color": "#2a3f5f"
             },
             "line": {
              "color": "rgb(17,17,17)"
             }
            },
            "type": "table"
           }
          ],
          "barpolar": [
           {
            "marker": {
             "line": {
              "color": "rgb(17,17,17)",
              "width": 0.5
             },
             "pattern": {
              "fillmode": "overlay",
              "size": 10,
              "solidity": 0.2
             }
            },
            "type": "barpolar"
           }
          ],
          "pie": [
           {
            "automargin": true,
            "type": "pie"
           }
          ]
         },
         "layout": {
          "autotypenumbers": "strict",
          "colorway": [
           "#636efa",
           "#EF553B",
           "#00cc96",
           "#ab63fa",
           "#FFA15A",
           "#19d3f3",
           "#FF6692",
           "#B6E880",
           "#FF97FF",
           "#FECB52"
          ],
          "font": {
           "color": "#f2f5fa"
          },
          "hovermode": "closest",
          "hoverlabel": {
           "align": "left"
          },
          "paper_bgcolor": "rgb(17,17,17)",
          "plot_bgcolor": "rgb(17,17,17)",
          "polar": {
           "bgcolor": "rgb(17,17,17)",
           "angularaxis": {
            "gridcolor": "#506784",
            "linecolor": "#506784",
            "ticks": ""
           },
           "radialaxis": {
            "gridcolor": "#506784",
            "linecolor": "#506784",
            "ticks": ""
           }
          },
          "ternary": {
           "bgcolor": "rgb(17,17,17)",
           "aaxis": {
            "gridcolor": "#506784",
            "linecolor": "#506784",
            "ticks": ""
           },
           "baxis": {
            "gridcolor": "#506784",
            "linecolor": "#506784",
            "ticks": ""
           },
           "caxis": {
            "gridcolor": "#506784",
            "linecolor": "#506784",
            "ticks": ""
           }
          },
          "coloraxis": {
           "colorbar": {
            "outlinewidth": 0,
            "ticks": ""
           }
          },
          "colorscale": {
           "sequential": [
            [
             0.0,
             "#0d0887"
            ],
            [
             0.1111111111111111,
             "#46039f"
            ],
            [
             0.2222222222222222,
             "#7201a8"
            ],
            [
             0.3333333333333333,
             "#9c179e"
            ],
            [
             0.4444444444444444,
             "#bd3786"
            ],
            [
             0.5555555555555556,
             "#d8576b"
            ],
            [
             0.6666666666666666,
             "#ed7953"
            ],
            [
             0.7777777777777778,
             "#fb9f3a"
            ],
            [
             0.8888888888888888,
             "#fdca26"
            ],
            [
             1.0,
             "#f0f921"
            ]
           ],
           "sequentialminus": [
            [
             0.0,
             "#0d0887"
            ],
            [
             0.1111111111111111,
             "#46039f"
            ],
            [
             0.2222222222222222,
             "#7201a8"
            ],
            [
             0.3333333333333333,
             "#9c179e"
            ],
            [
             0.4444444444444444,
             "#bd3786"
            ],
            [
             0.5555555555555556,
             "#d8576b"
            ],
            [
             0.6666666666666666,
             "#ed7953"
            ],
            [
             0.7777777777777778,
             "#fb9f3a"
            ],
            [
             0.8888888888888888,
             "#fdca26"
            ],
            [
             1.0,
             "#f0f921"
            ]
           ],
           "diverging": [
            [
             0,
             "#8e0152"
            ],
            [
             0.1,
             "#c51b7d"
            ],
            [
             0.2,
             "#de77ae"
            ],
            [
             0.3,
             "#f1b6da"
            ],
            [
             0.4,
             "#fde0ef"
            ],
            [
             0.5,
             "#f7f7f7"
            ],
            [
             0.6,
             "#e6f5d0"
            ],
            [
             0.7,
             "#b8e186"
            ],
            [
             0.8,
             "#7fbc41"
            ],
            [
             0.9,
             "#4d9221"
            ],
            [
             1,
             "#276419"
            ]
           ]
          },
          "xaxis": {
           "gridcolor": "#283442",
           "linecolor": "#506784",
           "ticks": "",
           "title": {
            "standoff": 15
           },
           "zerolinecolor": "#283442",
           "automargin": true,
           "zerolinewidth": 2
          },
          "yaxis": {
           "gridcolor": "#283442",
           "linecolor": "#506784",
           "ticks": "",
           "title": {
            "standoff": 15
           },
           "zerolinecolor": "#283442",
           "automargin": true,
           "zerolinewidth": 2
          },
          "scene": {
           "xaxis": {
            "backgroundcolor": "rgb(17,17,17)",
            "gridcolor": "#506784",
            "linecolor": "#506784",
            "showbackground": true,
            "ticks": "",
            "zerolinecolor": "#C8D4E3",
            "gridwidth": 2
           },
           "yaxis": {
            "backgroundcolor": "rgb(17,17,17)",
            "gridcolor": "#506784",
            "linecolor": "#506784",
            "showbackground": true,
            "ticks": "",
            "zerolinecolor": "#C8D4E3",
            "gridwidth": 2
           },
           "zaxis": {
            "backgroundcolor": "rgb(17,17,17)",
            "gridcolor": "#506784",
            "linecolor": "#506784",
            "showbackground": true,
            "ticks": "",
            "zerolinecolor": "#C8D4E3",
            "gridwidth": 2
           }
          },
          "shapedefaults": {
           "line": {
            "color": "#f2f5fa"
           }
          },
          "annotationdefaults": {
           "arrowcolor": "#f2f5fa",
           "arrowhead": 0,
           "arrowwidth": 1
          },
          "geo": {
           "bgcolor": "rgb(17,17,17)",
           "landcolor": "rgb(17,17,17)",
           "subunitcolor": "#506784",
           "showland": true,
           "showlakes": true,
           "lakecolor": "rgb(17,17,17)"
          },
          "title": {
           "x": 0.05
          },
          "updatemenudefaults": {
           "bgcolor": "#506784",
           "borderwidth": 0
          },
          "sliderdefaults": {
           "bgcolor": "#C8D4E3",
           "borderwidth": 1,
           "bordercolor": "rgb(17,17,17)",
           "tickwidth": 0
          },
          "mapbox": {
           "style": "dark"
          }
         }
        },
        "xaxis": {
         "anchor": "y",
         "domain": [
          0.0,
          0.45
         ]
        },
        "yaxis": {
         "anchor": "x",
         "domain": [
          0.0,
          1.0
         ]
        },
        "xaxis2": {
         "anchor": "y2",
         "domain": [
          0.55,
          1.0
         ]
        },
        "yaxis2": {
         "anchor": "x2",
         "domain": [
          0.0,
          1.0
         ]
        },
        "width": 2800,
        "autosize": true,
        "hovermode": "x"
       },
       "config": {
        "plotlyServerURL": "https://plot.ly"
       }
      }
     },
     "metadata": {},
     "output_type": "display_data"
    },
    {
     "name": "stdout",
     "output_type": "stream",
     "text": [
      "Home & Cleaning with count -  194\n"
     ]
    },
    {
     "data": {
      "application/vnd.plotly.v1+json": {
       "data": [
        {
         "line": {
          "color": "#bc5090",
          "width": 4
         },
         "opacity": 0.8,
         "y": {
          "dtype": "i2",
          "bdata": "EA4YFXAXKApABmwHGBX8CNAHaBDYDlQLbAe4C3AXxAnECfwIuAtsB3gF5AwIB0wEdA7QB6gWrA2sDYAMgAy4C7gLCAdoEAgH+BEUBawNBBCkBrgLxCKsDawNTB14BfwIbAdMBNAHTASoFqQG0AfQBxQFuAtUC6gWCCB4NxgV1El4NyRFkBoQJwggGC5oKVgbGBUQDrgLxAnsExAOKArcBWgQaBCsDagWKApYGxgVbAe4JPgqJEWwBIA+"
         },
         "type": "scatter",
         "mode": "markers+lines",
         "visible": false
        },
        {
         "line": {
          "color": "#ffa600",
          "width": 4
         },
         "opacity": 0.8,
         "y": {
          "dtype": "i2",
          "bdata": "uAuUEUQWNAgUBdwFlBFsB6QGrA2ADGAJQAbECYgTNAg0CGwHxAlABrAE8ArcBYQDHAykBiQTVAtUC4wKjArECcQJ3AWsDdwFPA9MBFQLPA8UBcQJTB1UC1QLnBiwBGwHQAaEA6QGhAMkE3gFpAakBkwExAlgCSQT9Bp8LpQRHD58LjQ6RBbQIPQarCbEIgwXlBG4C8QJNAjMELgLmAgUBawNrA1UCyQTmAgMF5QRQAbcHgQpNDroA2A7"
         },
         "type": "scatter",
         "mode": "markers+lines",
         "visible": false
        },
        {
         "line": {
          "color": "#bc5090",
          "width": 4
         },
         "opacity": 0.8,
         "y": {
          "dtype": "i4",
          "bdata": "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"
         },
         "type": "scatter",
         "mode": "markers+lines",
         "visible": false
        },
        {
         "line": {
          "color": "#ffa600",
          "width": 4
         },
         "opacity": 0.8,
         "y": {
          "dtype": "i4",
          "bdata": "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"
         },
         "type": "scatter",
         "mode": "markers+lines",
         "visible": false
        },
        {
         "line": {
          "color": "#bc5090",
          "width": 4
         },
         "opacity": 0.8,
         "y": {
          "dtype": "i4",
          "bdata": "oIwAAMQJAAAcDAAAtF8AALRfAAD4KgAAtF8AAGAiAADMWwAAoA8AAJQRAABoEAAAcBcAAHwVAACsDQAAuAsAAFgbAAAgTgAAeB4AAAhSAABEYQAAmDoAAKAPAAB4HgAAZBkAAERhAACYOgAABEIAALgLAAB0WQAABEIAAOQMAADMWwAAREgAAPxTAADMWwAA/FMAAKwNAACYCAAAnBgAAMQJAAC4CwAA4BUAAJg6AABsawAApDgAAIw8AABwFwAAGBUAAEwdAABYGwAAbGsAAKwmAACwNgAAoA8AAEwdAACUKgAAqC8AAGgpAAAEKQAATB0AAGgpAAA0IQAArA0AAMQiAAA8cwAAuAsAAEAfAAA0IQAANCEAABAnAACwHQAA1DAAANQwAACgDwAA1DAAAJg6AAA8cwAAvE0AALA2AACsJgAAvE0AAKyKAABsawAApDgAAKwmAACoYQAA+CoAADQhAACsJgAArCYAABAnAAC4CwAABEIAALgLAAAQJwAA+CoAAKQGAACIEwAAGBUAALwbAADEhgAA0AcAAKAPAADcBQAAECcAAAgHAAAMFwAAlBEAALgLAADkJQAAOBgAACAcAAAgHAAATB0AAOAuAAAgHAAANCEAAGQZAAD4KgAAIBwAADB1AAD0TAAAQB8AAMxbAABwlAAAyBkAAEwdAADEIgAA"
         },
         "type": "scatter",
         "mode": "markers+lines",
         "visible": false
        },
        {
         "line": {
          "color": "#ffa600",
          "width": 4
         },
         "opacity": 0.8,
         "y": {
          "dtype": "i4",
          "bdata": "PIwAAMQJAAAcDAAAwF0AAMBdAAAEKQAA+FwAAJghAACgWgAAoA8AAJQRAABoEAAAcBcAAHwVAABIDQAAuAsAAJAaAAAgTgAATB0AAAhSAACUXAAA3DcAAKAPAABMHQAAZBkAAERhAACYOgAABEIAAFQLAAB4UAAA8DwAAOQMAAD4QwAA0DkAAMhLAABwSQAAMEMAAKwNAACYCAAAnBgAAGAJAAC4CwAAGBUAAJg6AACENQAApDgAAIw8AABEFgAA7BMAAEwdAABYGwAAhDUAALgkAAD0MwAAoA8AACAcAACgKAAA4C4AAGgpAACsJgAAhBwAAHQnAAAIIAAASA0AAKQfAABsOQAAuAsAAEAfAAAIIAAANCEAAKwmAACEHAAAfC4AABguAACgDwAAGC4AAJg6AABsOQAA1EkAAPQzAAC4JAAA1EkAACRFAACENQAAhDUAALgkAADUMAAA+CoAAEAfAAC4JAAAYCIAABwlAAC4CwAA5D4AALgLAAAcJQAA+CoAAKQGAAAkEwAAGBUAAFgbAACUXAAA0AcAADwPAADcBQAAHCUAAKQGAABEFgAAlBEAALgLAADkJQAAOBgAADgYAABwFwAAOBgAAJAaAAA4GAAA3B4AAHwVAAAcJQAAOBgAALxNAACcSgAAkBoAAMxCAABQkQAAABkAAEwdAADEIgAA"
         },
         "type": "scatter",
         "mode": "markers+lines",
         "visible": false
        },
        {
         "line": {
          "color": "#bc5090",
          "width": 4
         },
         "opacity": 0.8,
         "y": {
          "dtype": "i4",
          "bdata": "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"
         },
         "type": "scatter",
         "mode": "markers+lines",
         "visible": false
        },
        {
         "line": {
          "color": "#ffa600",
          "width": 4
         },
         "opacity": 0.8,
         "y": {
          "dtype": "i4",
          "bdata": "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"
         },
         "type": "scatter",
         "mode": "markers+lines",
         "visible": false
        },
        {
         "line": {
          "color": "#bc5090",
          "width": 4
         },
         "opacity": 0.8,
         "y": {
          "dtype": "i4",
          "bdata": "RGEAAFxEAAD8UwAAnHwAAHRAAACEZwAA9H4AAPRlAAAsZQAAdEAAAISAAACktQAALMkAAEhxAABEYQAAsDYAAPxTAAB4aQAACFIAAGxrAACoYQAApDgAAKhhAACcYwAAbGsAAGxrAAC0XwAAkGUAAKhhAAA8cwAAOEoAAKQ4AACAPgAAmDoAAJg6AAAUUAAA8FUAAPBVAABMHQAA8FUAAOgcAADoHAAAwBIAAFgbAADIGQAAPA8AAKAPAADoAwAA5CUAADgYAAAgTgAAXEQAADQhAAAgHAAAZBkAAPgqAADgLgAAIBwAACAcAABMHQAAIBwAAAhSAAAwdQAA"
         },
         "type": "scatter",
         "mode": "markers+lines",
         "visible": false
        },
        {
         "line": {
          "color": "#ffa600",
          "width": 4
         },
         "opacity": 0.8,
         "y": {
          "dtype": "i4",
          "bdata": "qEgAALg9AACwTwAACGsAAHRAAABcXQAAdHIAALhWAABsOQAAVD0AAHxgAACorAAAXMEAALBPAADsRQAAsDYAALBPAAB4aQAACFIAAOBgAACoYQAApDgAAKhhAADYWQAA4GAAAOBgAABUVgAAaFsAAKhhAADoZwAAOEoAAPQzAABAOAAA3DcAAJg6AADISwAA+CoAAPgqAACQGgAA+CoAACwaAAAsGgAAXBIAAGQZAADIGQAA2A4AADwPAADoAwAA5CUAADgYAABQRgAAuD0AANweAAA4GAAAfBUAABwlAACQGgAAOBgAADgYAAA4GAAAcBcAANRJAAB4aQAA"
         },
         "type": "scatter",
         "mode": "markers+lines",
         "visible": false
        },
        {
         "line": {
          "color": "#bc5090",
          "width": 4
         },
         "opacity": 0.8,
         "y": {
          "dtype": "i4",
          "bdata": "+CoAAOAuAADgLgAAQB8AAEAfAABYGwAAECcAAEAfAAA0OgAA4C4AAAhSAAC4iAAAZBkAAFgbAADgLgAAsDYAAJg6AACYOgAATB0AAEAfAACUEQAArA0AAEAfAABAHwAAiBMAAKAPAADAEgAA4C4AALA2AABYGwAAmDoAALgLAACYOgAAuAsAAHAXAAC4CwAATB0AAPwIAADECQAATB0AAGQZAABwFwAAcBcAAEwdAABkGQAAcBcAAJQRAADQBwAAuAsAAHAXAABkGQAAuAsAAHAXAAC4CwAA8AoAAKAPAACUEQAAcBcAAKwNAAAoIwAAQB8AAJQRAADIMgAArA0AAKwNAADIMgAAxAkAAMQJAACsDQAArA0AAHAXAAC4CwAAfBUAAFgbAABwFwAAiBMAAFgbAACIEwAAxAkAALgLAACUEQAAuAsAAIAMAAC4CwAA4C4AALgLAACIEwAAiBMAAHAXAAC4CwAA0AcAAHAXAAC4CwAAHCUAAMQJAABkGQAA0AcAAKwNAABwFwAAxAkAALgLAACsDQAArA0AAJQRAACUEQAAuAsAAJQRAAAEKQAABCkAAIgTAADECQAAxAkAAIgTAADECQAAlBEAAKwNAAC4CwAA6AMAAMQJAADECQAAxAkAAAQpAAAEKQAAuAsAAMQJAACUEQAA6AMAAOgDAADECQAA0AcAANAHAADcBQAA3AUAANwFAADcBQAA3AUAANwFAADoAwAAoA8AAOgDAADoAwAArA0AAKwNAACYOgAAlBEAAJQRAADYWQAA"
         },
         "type": "scatter",
         "mode": "markers+lines",
         "visible": false
        },
        {
         "line": {
          "color": "#ffa600",
          "width": 4
         },
         "opacity": 0.8,
         "y": {
          "dtype": "i4",
          "bdata": "uCQAANgnAABAKQAAIBwAAEAfAABYGwAAECcAACAcAACENQAA4C4AALxNAAC4iAAAZBkAAFgbAACsJgAALDMAAMArAACcMQAAXhoAAEAfAACUEQAArA0AAJAaAACoFgAAXBIAAKAPAABcEgAAgCUAAAQpAAA4GAAATB0AALgLAABMHQAAuAsAAHAXAACMCgAAWBsAANAHAADECQAAWBsAANQXAADgFQAA4BUAAEwdAABkGQAAGBUAADARAADQBwAAjAoAABgVAADUFwAAjAoAAOAVAACMCgAA8AoAANgOAACUEQAAGBUAAKwNAACkHwAAIBwAAJQRAABQLQAAVAsAAEgNAABQLQAAxAkAAJgIAACsDQAASA0AAHAXAAC4CwAABBAAAJwYAAAYFQAAXBIAAJwYAACIEwAAxAkAAFQLAACUEQAAVAsAABwMAAC4CwAAMCoAALgLAAAkEwAAmhAAAHAXAABUCwAA0AcAAOAVAABUCwAAxCIAAMQJAADUFwAA0AcAAEgNAADgFQAAxAkAAFQLAABUCwAAgAwAAJgIAACYCAAAuAsAAJgIAACkHwAApB8AAGgQAAD8CAAAyggAAGgQAAD8CAAA2A4AAEgNAAC4CwAA6AMAAMQJAAD8CAAAyggAAKQfAACkHwAA8AoAAPwIAACgDwAA6AMAAOgDAADECQAA0AcAAAgHAADcBQAA3AUAANwFAADcBQAA3AUAANwFAADoAwAA5AwAAOgDAADoAwAAjAoAAIwKAADgLgAAoA8AAKAPAAAwQwAA"
         },
         "type": "scatter",
         "mode": "markers+lines",
         "visible": false
        },
        {
         "line": {
          "color": "#bc5090",
          "width": 4
         },
         "opacity": 0.8,
         "y": {
          "dtype": "i4",
          "bdata": "1EkAAKwmAACsJgAAlCoAAJQqAACsJgAAaL8AAMzYAADM2AAA7MIAAPT7AABQRgAAkGUAAJBlAABIcQAAUEYAADQ6AAC8TQAA7CwAAKhhAABUbwAA5FcAAORXAADcmwAAzFsAAFAtAAD0fgAAzFsAAJBlAAAwdQAA/FMAANhZAADcmwAAAH0AAJg6AADYQAAAwEQAAMBEAAC8TQAAgD4AAIRnAAAobgAARGEAADxzAAB8kgAAfJIAACBnAADAXQAAwF0AAFRvAABgbQAA5FcAAJSOAABwlAAAiEUAALBoAAAMMAAAeGkAAIA+AADcmwAAGEcAACBOAACYOgAAvE0AALA2AACYOgAARGEAAEAfAAC8TQAAmDoAALxNAAC8TQAA5FcAAORXAACYOgAArCYAAJg6AADkVwAAtHgAAKwmAAC8TQAAVG8AAHRAAAC8TQAAiCwAABh5AAA0IQAAzHQAABAnAAAcJQAAECcAADhKAADIMgAA3JsAAGhCAADEIgAA3B4AAPQaAACwNgAAvBsAACBOAADIMgAAUEYAAHRAAACwNgAA+CoAAHRAAADIMgAAYOoAAKwmAAC8TQAATB0AADhKAABsawAATB0AADQhAAAYeQAA5FcAANw3AAC8TQAAvE0AALxNAACkUQAANDoAALxNAAC8TQAAvDQAAAhSAADwVQAACCAAAJg6AACYOgAALEwAAGhCAACMPAAAuD0AAOAuAAB8kgAA4C4AAOAuAACENQAAOEoAAGAiAAC8TQAA4C4AAAQpAAA4SgAAMPIAADDyAAAw8gAA2NYAADDyAACwNgAA2NYAANjWAAAoIwAARGEAAKhhAAAIUgAA5FcAALxNAAAsTAAAvE0AAHQnAAAoIwAABCkAADhKAAAsTAAALEwAANybAACoYQAAUEYAACxMAAAsTAAAqBYAACxMAAAIUgAAvE0AAGhCAACIEwAAWBsAALgLAAC8TQAATB0AAMxbAAAIUgAA2FkAACBOAACoYQAA+CoAACBOAABMHQAAIE4AAMASAADgLgAANFMAAKgWAADAqAAAECcAAOwsAADQIAAAUEYAAHAXAAAoIwAArCYAAPxTAABAHwAA1DAAAJg6AACMPAAAWBsAABAnAABESAAAsDYAAFSIAACoYQAApDgAAERhAABESAAAREgAAHwVAAC0XwAALBoAAKQ4AABQRgAASCYAAFxEAADsLAAATB0AAFxEAADY1gAA2NYAABRdAgDIMgAAiBMAADhKAABUJAAAVCQAACgjAACAPgAAKCMAAHwVAABMHQAA1DAAAKwNAADsLAAATK0BALRfAAAgTgAATB0AAEwdAACwNgAANCEAADQhAADM2AAAQB8AAORXAABMrQEAyDIAANweAADECQAAvDQAAAwRAQDIMgAAvDQAAAwRAQA0OgAAvDQAAIgTAABkrwAATK0BAGQZAABMHQAAZBkAAOiAAACoYQAADHsAAPzpAADMdAAA0IQAAAggAADcmwAATB0AABAnAAAAfQAAZBkAAJSnAACgjAAAVAsAACgjAADMWwAA7CwAAPQzAADECQAAuAsAALgLAABAHwAAKCMAANweAAC4CwAA5AwAAAQpAADMWwAA6AMAAIw8AABcRAAAREgAAFxEAAB8FQAABKYAAIAMAAC4CwAAKCMAALgLAAAoIwAAaBAAALgLAADgLgAAYCIAAJg6AADswgAAhP0AAKwmAADgLgAArCYAAEgmAABESAAAgD4AAKwmAACwNgAArCYAAFBGAAB8kgAARGEAAJBlAACIEwAARGEAALgLAABUiAAA0AcAAMSGAADQBwAAMHUAADQ6AAA="
         },
         "type": "scatter",
         "mode": "markers+lines",
         "visible": false
        },
        {
         "line": {
          "color": "#ffa600",
          "width": 4
         },
         "opacity": 0.8,
         "y": {
          "dtype": "i4",
          "bdata": "1EkAAKwmAAAcJQAABCkAAAQpAACsJgAAXI8AAITLAACEywAAZK8AABDvAABQRgAAfGAAAHxgAAD0ZQAAUEYAADQ6AAC8TQAA+CoAAORXAAC8ZgAA5FcAAAhSAACcfAAAzFsAAFAtAAD0fgAAcEkAADRTAAAgZwAAyEsAAHBJAABshAAAhGcAALA2AABUPQAAuD0AALg9AACoSAAAFDcAAIRnAAAobgAAaFsAAOhnAAAIhAAAeIIAACBnAADAXQAAVFYAAOhnAAAwXAAACFIAAJSOAABwlAAAiEUAAHBiAAAMMAAAdFkAAEA4AACcfAAAKDwAAIA+AAC8NAAAHD4AADgxAADgLgAAvE0AAEwdAACoSAAAvDQAAOxFAACcSgAAUEYAAJhTAAC8NAAAxCIAAOAuAABQRgAAmGwAAMQiAADsRQAAVG8AAHRAAAC8TQAAVCQAALxmAAA0IQAAfGAAABAnAAAcJQAAHCUAAIhFAAB8LgAA3JsAAAg5AAA0IQAA3B4AAPQaAAAAMgAAvBsAACBOAADgLgAAUEYAAKQ4AAA4MQAA+CoAAJg6AACILAAA8NIAAKwmAAC8TQAAkBoAADhKAAB8YAAATB0AADQhAABAagAATE8AANw3AAC8TQAAJEUAALxNAACkUQAANDoAALxNAAC8TQAAvDQAABhHAADwVQAA6BwAAJg6AAAUNwAA+EMAAGhCAACwNgAAbDkAAMArAAB8kgAAwCsAAOAuAAAMMAAAOEoAAGAiAAC8TQAA4C4AAAQpAAA4SgAAMPIAADDyAAAw8gAA2NYAADDyAACwNgAA2NYAANjWAAAoIwAARGEAAKhhAADISwAABEIAALxNAAD4QwAAvE0AABwlAACkHwAABCkAAARCAAD4QwAAwEQAADyMAACoYQAASD8AAPhDAAD4QwAAqBYAAMBEAAAIUgAAHD4AAMQ7AACIEwAAnBgAAFQLAADUSQAATB0AANBSAADISwAA2FkAAFBGAACoYQAArCYAAFBGAABMHQAAUEYAAFwSAAAwKgAAOEoAAHwVAABcjwAA0CAAADwoAADQIAAArD8AAHAXAACkHwAAxCIAACBOAACEHAAAwCsAAJg6AACkOAAAWBsAABAnAABESAAAODEAAKh6AADkVwAALDMAAERhAABUPQAAVD0AAHwVAABUVgAAcBcAACwzAABQRgAASCYAAFQ9AADsLAAAvBsAALg9AADY1gAA2NYAAKRLAQC0LQAAJBMAAEg/AABUJAAAYCIAAKQfAACgKAAA0CAAAIgTAAC8GwAA1DAAAEgNAABoKQAApEsBAFRWAABQRgAAkBoAAEwdAAA4MQAAIBwAANweAADM2AAAQB8AAORXAAAsXwEAyDIAAJAaAADECQAAADIAAHTWAADsLAAAADIAAJzgAABYNAAAADIAAJQRAAAcogAALF8BAKgWAABMHQAAqBYAACx+AADkVwAADHsAANTGAAD8bAAAaHQAAOgcAAAkkAAAZBkAACgjAAAAfQAADBcAADCOAACQfgAAVAsAAPwhAAAoVQAA7CwAAMgyAADECQAAuAsAALgLAAAgHAAAKCMAAOgcAAC4CwAA5AwAAAQpAAAoVQAA6AMAAIw8AABcRAAAREgAAFxEAAB8FQAA0IQAAFQLAAC4CwAAKCMAAFQLAACkHwAABBAAAFQLAADgLgAACCAAAAwwAACwswAAyOEAAKwmAAAwKgAArCYAAEgmAAAEQgAAgD4AAKwmAAB8LgAArCYAAFBGAAB8kgAARGEAAGhbAACIEwAA2FkAAMQJAAD0fgAA0AcAAMSGAADQBwAAbGsAADQ6AAA="
         },
         "type": "scatter",
         "mode": "markers+lines",
         "visible": false
        },
        {
         "line": {
          "color": "#bc5090",
          "width": 4
         },
         "opacity": 0.8,
         "y": {
          "dtype": "i4",
          "bdata": "uAsAABRQAAAUUAAAFFAAAHRAAAD0fgAA9H4AAMxbAACILAAAREgAANA5AAA4SgAAYG0AAJQRAAA8KAAAgCUAAMwpAAC8NAAA9BoAADwoAAB8FQAABCkAABwlAADUSQAA2CcAABhHAAAIUgAAFGkAAIA+AADkVwAA/AgAAFAtAAA4GAAA5D4AAOQ+AADkPgAAmDoAADQ6AACYOgAAuAsAAHQnAADoHAAAZBkAAAgHAADoAwAAmDoAAJg6AADIGQAAZBkAACgjAACIEwAAjDwAAGQZAAAoPAAAZBkAACgjAACoYQAAYG0AAAAZAAA4SgAATB0AAEgmAABMHQAAzHQAAEgmAAAAAAAAxAkAANAHAADkDAAAuAsAAGwHAADEIgAAbAcAADQhAABYGwAAHCUAAFgbAADAXQAAECcAAIgTAADAXQAAQB8AAHwuAACQGgAAkBoAAHBJAABwSQAAgD4AAPQaAAD0GgAA1EkAAEw2AAAIIAAACCAAANweAACIEwAATB0AAMQJAABAHwAAuAsAAHAXAACgDwAAsAQAALAEAABAHwAAWJgAAHwVAABwEQEAfBUAAJg6AAB8FQAAmDoAAHwVAABMHQAACFIAALw0AABMHQAAQAYAAOiAAABMHQAAaDwBAGDqAABAGQEAsDYAAIA4AQCwNgAAIE4AAKwNAAAoIwAAsDYAAOzCAACQGgAAAH0AAJQRAAAIzwAA/FMAAGgQAABkGQAAIE4AAPgqAADkVwAAIE4AAGhCAAAIIAAANDoAAKAPAADUSQAAiEUAAGBtAACIEwAA5FcAAOxFAADUMAAAXEQAALxNAACsDQAAkBoAAFgbAABcRAAAbGsAAEAfAACYOgAAqGEAAOj9AACYOgAAWJgAAFBGAACYOgAAmDoAAJg6AACIEwAAvDQAAIRnAAB4HgAA8FUAAOwsAADkVwAAVAsAAIgTAAAAfQAA7EUAAKhhAABQRgAA8FUAALA2AACQZQAAqGEAAAQpAACwBAAAmCEAACA1AAA4SgAAQB8AAEBRAAA="
         },
         "type": "scatter",
         "mode": "markers+lines"
        },
        {
         "line": {
          "color": "#ffa600",
          "width": 4
         },
         "opacity": 0.8,
         "y": {
          "dtype": "i4",
          "bdata": "8AoAAHBJAABwSQAAcEkAAPA8AABQeAAAEHIAANBSAACILAAAXEQAAIQ1AABcRAAAcGIAAJQRAADkJQAAxCIAAIAlAAC8NAAAOBgAAOQlAAB8FQAASCYAAJghAADsRQAA2CcAAMBEAADUSQAAFGkAADQ6AAA0UwAAmAgAAFAtAACoFgAAYDsAAGA7AABgOwAAODEAABQ3AAA0OgAAVAsAAEgmAABYGwAA4BUAAAgHAADoAwAAkDMAAJAzAADIGQAADBcAAAggAAAkEwAAkDMAAOAVAADcNwAA4BUAAAggAADkVwAAcGIAAHAXAABIPwAA9BoAAFQkAAC8GwAAFGkAAFQkAAAAAAAAxAkAANAHAADkDAAAuAsAAGwHAADEIgAAbAcAANweAACcGAAAmCEAAJwYAACwTwAAKCMAAPgRAADAXQAAIBwAAMwpAAAAGQAAABkAAARCAAAEQgAAgD4AANQXAAD0GgAAaEIAANQwAAAUHgAAFB4AALwbAAAkEwAAkBoAAMQJAAAgHAAA8AoAABgVAAA8DwAAsAQAALAEAABMHQAAjIcAAHwVAAD04gAAfBUAANw3AAB8FQAA3DcAAHwVAABMHQAA1EkAAKgvAACQGgAAQAYAAAR0AACQGgAA+CQBAHTWAACE/QAAODEAAKAJAQCwNgAAIE4AAEgNAACkHwAAODEAAOzCAACQGgAAAH0AADARAAAMxgAAbFIAAAQQAAAMFwAAUEYAAMwpAABUVgAAcEkAAARCAADoHAAAvDQAADwPAADsRQAAiEUAALxmAAAkEwAA5FcAAOQ+AAAkLAAAXEQAAOxFAABIDQAAyBkAAJAaAAC4PQAAaFsAAEAfAAAMMAAAqGEAAJjpAAC8NAAAkH4AAGhCAACYOgAAvDQAALA2AAAkEwAAqC8AAIRnAABYGwAAWE0AAEgmAADkVwAA8AoAAIgTAAAAfQAA5D4AAORXAABcRAAA8FUAAGQyAACQZQAAqGEAANgnAABMBAAA0CAAACwzAABcRAAAkBoAACxMAAA="
         },
         "type": "scatter",
         "mode": "markers+lines"
        }
       ],
       "layout": {
        "template": {
         "data": {
          "histogram2dcontour": [
           {
            "type": "histogram2dcontour",
            "colorbar": {
             "outlinewidth": 0,
             "ticks": ""
            },
            "colorscale": [
             [
              0.0,
              "#0d0887"
             ],
             [
              0.1111111111111111,
              "#46039f"
             ],
             [
              0.2222222222222222,
              "#7201a8"
             ],
             [
              0.3333333333333333,
              "#9c179e"
             ],
             [
              0.4444444444444444,
              "#bd3786"
             ],
             [
              0.5555555555555556,
              "#d8576b"
             ],
             [
              0.6666666666666666,
              "#ed7953"
             ],
             [
              0.7777777777777778,
              "#fb9f3a"
             ],
             [
              0.8888888888888888,
              "#fdca26"
             ],
             [
              1.0,
              "#f0f921"
             ]
            ]
           }
          ],
          "choropleth": [
           {
            "type": "choropleth",
            "colorbar": {
             "outlinewidth": 0,
             "ticks": ""
            }
           }
          ],
          "histogram2d": [
           {
            "type": "histogram2d",
            "colorbar": {
             "outlinewidth": 0,
             "ticks": ""
            },
            "colorscale": [
             [
              0.0,
              "#0d0887"
             ],
             [
              0.1111111111111111,
              "#46039f"
             ],
             [
              0.2222222222222222,
              "#7201a8"
             ],
             [
              0.3333333333333333,
              "#9c179e"
             ],
             [
              0.4444444444444444,
              "#bd3786"
             ],
             [
              0.5555555555555556,
              "#d8576b"
             ],
             [
              0.6666666666666666,
              "#ed7953"
             ],
             [
              0.7777777777777778,
              "#fb9f3a"
             ],
             [
              0.8888888888888888,
              "#fdca26"
             ],
             [
              1.0,
              "#f0f921"
             ]
            ]
           }
          ],
          "heatmap": [
           {
            "type": "heatmap",
            "colorbar": {
             "outlinewidth": 0,
             "ticks": ""
            },
            "colorscale": [
             [
              0.0,
              "#0d0887"
             ],
             [
              0.1111111111111111,
              "#46039f"
             ],
             [
              0.2222222222222222,
              "#7201a8"
             ],
             [
              0.3333333333333333,
              "#9c179e"
             ],
             [
              0.4444444444444444,
              "#bd3786"
             ],
             [
              0.5555555555555556,
              "#d8576b"
             ],
             [
              0.6666666666666666,
              "#ed7953"
             ],
             [
              0.7777777777777778,
              "#fb9f3a"
             ],
             [
              0.8888888888888888,
              "#fdca26"
             ],
             [
              1.0,
              "#f0f921"
             ]
            ]
           }
          ],
          "contourcarpet": [
           {
            "type": "contourcarpet",
            "colorbar": {
             "outlinewidth": 0,
             "ticks": ""
            }
           }
          ],
          "contour": [
           {
            "type": "contour",
            "colorbar": {
             "outlinewidth": 0,
             "ticks": ""
            },
            "colorscale": [
             [
              0.0,
              "#0d0887"
             ],
             [
              0.1111111111111111,
              "#46039f"
             ],
             [
              0.2222222222222222,
              "#7201a8"
             ],
             [
              0.3333333333333333,
              "#9c179e"
             ],
             [
              0.4444444444444444,
              "#bd3786"
             ],
             [
              0.5555555555555556,
              "#d8576b"
             ],
             [
              0.6666666666666666,
              "#ed7953"
             ],
             [
              0.7777777777777778,
              "#fb9f3a"
             ],
             [
              0.8888888888888888,
              "#fdca26"
             ],
             [
              1.0,
              "#f0f921"
             ]
            ]
           }
          ],
          "surface": [
           {
            "type": "surface",
            "colorbar": {
             "outlinewidth": 0,
             "ticks": ""
            },
            "colorscale": [
             [
              0.0,
              "#0d0887"
             ],
             [
              0.1111111111111111,
              "#46039f"
             ],
             [
              0.2222222222222222,
              "#7201a8"
             ],
             [
              0.3333333333333333,
              "#9c179e"
             ],
             [
              0.4444444444444444,
              "#bd3786"
             ],
             [
              0.5555555555555556,
              "#d8576b"
             ],
             [
              0.6666666666666666,
              "#ed7953"
             ],
             [
              0.7777777777777778,
              "#fb9f3a"
             ],
             [
              0.8888888888888888,
              "#fdca26"
             ],
             [
              1.0,
              "#f0f921"
             ]
            ]
           }
          ],
          "mesh3d": [
           {
            "type": "mesh3d",
            "colorbar": {
             "outlinewidth": 0,
             "ticks": ""
            }
           }
          ],
          "scatter": [
           {
            "marker": {
             "line": {
              "color": "#283442"
             }
            },
            "type": "scatter"
           }
          ],
          "parcoords": [
           {
            "type": "parcoords",
            "line": {
             "colorbar": {
              "outlinewidth": 0,
              "ticks": ""
             }
            }
           }
          ],
          "scatterpolargl": [
           {
            "type": "scatterpolargl",
            "marker": {
             "colorbar": {
              "outlinewidth": 0,
              "ticks": ""
             }
            }
           }
          ],
          "bar": [
           {
            "error_x": {
             "color": "#f2f5fa"
            },
            "error_y": {
             "color": "#f2f5fa"
            },
            "marker": {
             "line": {
              "color": "rgb(17,17,17)",
              "width": 0.5
             },
             "pattern": {
              "fillmode": "overlay",
              "size": 10,
              "solidity": 0.2
             }
            },
            "type": "bar"
           }
          ],
          "scattergeo": [
           {
            "type": "scattergeo",
            "marker": {
             "colorbar": {
              "outlinewidth": 0,
              "ticks": ""
             }
            }
           }
          ],
          "scatterpolar": [
           {
            "type": "scatterpolar",
            "marker": {
             "colorbar": {
              "outlinewidth": 0,
              "ticks": ""
             }
            }
           }
          ],
          "histogram": [
           {
            "marker": {
             "pattern": {
              "fillmode": "overlay",
              "size": 10,
              "solidity": 0.2
             }
            },
            "type": "histogram"
           }
          ],
          "scattergl": [
           {
            "marker": {
             "line": {
              "color": "#283442"
             }
            },
            "type": "scattergl"
           }
          ],
          "scatter3d": [
           {
            "type": "scatter3d",
            "line": {
             "colorbar": {
              "outlinewidth": 0,
              "ticks": ""
             }
            },
            "marker": {
             "colorbar": {
              "outlinewidth": 0,
              "ticks": ""
             }
            }
           }
          ],
          "scattermap": [
           {
            "type": "scattermap",
            "marker": {
             "colorbar": {
              "outlinewidth": 0,
              "ticks": ""
             }
            }
           }
          ],
          "scattermapbox": [
           {
            "type": "scattermapbox",
            "marker": {
             "colorbar": {
              "outlinewidth": 0,
              "ticks": ""
             }
            }
           }
          ],
          "scatterternary": [
           {
            "type": "scatterternary",
            "marker": {
             "colorbar": {
              "outlinewidth": 0,
              "ticks": ""
             }
            }
           }
          ],
          "scattercarpet": [
           {
            "type": "scattercarpet",
            "marker": {
             "colorbar": {
              "outlinewidth": 0,
              "ticks": ""
             }
            }
           }
          ],
          "carpet": [
           {
            "aaxis": {
             "endlinecolor": "#A2B1C6",
             "gridcolor": "#506784",
             "linecolor": "#506784",
             "minorgridcolor": "#506784",
             "startlinecolor": "#A2B1C6"
            },
            "baxis": {
             "endlinecolor": "#A2B1C6",
             "gridcolor": "#506784",
             "linecolor": "#506784",
             "minorgridcolor": "#506784",
             "startlinecolor": "#A2B1C6"
            },
            "type": "carpet"
           }
          ],
          "table": [
           {
            "cells": {
             "fill": {
              "color": "#506784"
             },
             "line": {
              "color": "rgb(17,17,17)"
             }
            },
            "header": {
             "fill": {
              "color": "#2a3f5f"
             },
             "line": {
              "color": "rgb(17,17,17)"
             }
            },
            "type": "table"
           }
          ],
          "barpolar": [
           {
            "marker": {
             "line": {
              "color": "rgb(17,17,17)",
              "width": 0.5
             },
             "pattern": {
              "fillmode": "overlay",
              "size": 10,
              "solidity": 0.2
             }
            },
            "type": "barpolar"
           }
          ],
          "pie": [
           {
            "automargin": true,
            "type": "pie"
           }
          ]
         },
         "layout": {
          "autotypenumbers": "strict",
          "colorway": [
           "#636efa",
           "#EF553B",
           "#00cc96",
           "#ab63fa",
           "#FFA15A",
           "#19d3f3",
           "#FF6692",
           "#B6E880",
           "#FF97FF",
           "#FECB52"
          ],
          "font": {
           "color": "#f2f5fa"
          },
          "hovermode": "closest",
          "hoverlabel": {
           "align": "left"
          },
          "paper_bgcolor": "rgb(17,17,17)",
          "plot_bgcolor": "rgb(17,17,17)",
          "polar": {
           "bgcolor": "rgb(17,17,17)",
           "angularaxis": {
            "gridcolor": "#506784",
            "linecolor": "#506784",
            "ticks": ""
           },
           "radialaxis": {
            "gridcolor": "#506784",
            "linecolor": "#506784",
            "ticks": ""
           }
          },
          "ternary": {
           "bgcolor": "rgb(17,17,17)",
           "aaxis": {
            "gridcolor": "#506784",
            "linecolor": "#506784",
            "ticks": ""
           },
           "baxis": {
            "gridcolor": "#506784",
            "linecolor": "#506784",
            "ticks": ""
           },
           "caxis": {
            "gridcolor": "#506784",
            "linecolor": "#506784",
            "ticks": ""
           }
          },
          "coloraxis": {
           "colorbar": {
            "outlinewidth": 0,
            "ticks": ""
           }
          },
          "colorscale": {
           "sequential": [
            [
             0.0,
             "#0d0887"
            ],
            [
             0.1111111111111111,
             "#46039f"
            ],
            [
             0.2222222222222222,
             "#7201a8"
            ],
            [
             0.3333333333333333,
             "#9c179e"
            ],
            [
             0.4444444444444444,
             "#bd3786"
            ],
            [
             0.5555555555555556,
             "#d8576b"
            ],
            [
             0.6666666666666666,
             "#ed7953"
            ],
            [
             0.7777777777777778,
             "#fb9f3a"
            ],
            [
             0.8888888888888888,
             "#fdca26"
            ],
            [
             1.0,
             "#f0f921"
            ]
           ],
           "sequentialminus": [
            [
             0.0,
             "#0d0887"
            ],
            [
             0.1111111111111111,
             "#46039f"
            ],
            [
             0.2222222222222222,
             "#7201a8"
            ],
            [
             0.3333333333333333,
             "#9c179e"
            ],
            [
             0.4444444444444444,
             "#bd3786"
            ],
            [
             0.5555555555555556,
             "#d8576b"
            ],
            [
             0.6666666666666666,
             "#ed7953"
            ],
            [
             0.7777777777777778,
             "#fb9f3a"
            ],
            [
             0.8888888888888888,
             "#fdca26"
            ],
            [
             1.0,
             "#f0f921"
            ]
           ],
           "diverging": [
            [
             0,
             "#8e0152"
            ],
            [
             0.1,
             "#c51b7d"
            ],
            [
             0.2,
             "#de77ae"
            ],
            [
             0.3,
             "#f1b6da"
            ],
            [
             0.4,
             "#fde0ef"
            ],
            [
             0.5,
             "#f7f7f7"
            ],
            [
             0.6,
             "#e6f5d0"
            ],
            [
             0.7,
             "#b8e186"
            ],
            [
             0.8,
             "#7fbc41"
            ],
            [
             0.9,
             "#4d9221"
            ],
            [
             1,
             "#276419"
            ]
           ]
          },
          "xaxis": {
           "gridcolor": "#283442",
           "linecolor": "#506784",
           "ticks": "",
           "title": {
            "standoff": 15
           },
           "zerolinecolor": "#283442",
           "automargin": true,
           "zerolinewidth": 2
          },
          "yaxis": {
           "gridcolor": "#283442",
           "linecolor": "#506784",
           "ticks": "",
           "title": {
            "standoff": 15
           },
           "zerolinecolor": "#283442",
           "automargin": true,
           "zerolinewidth": 2
          },
          "scene": {
           "xaxis": {
            "backgroundcolor": "rgb(17,17,17)",
            "gridcolor": "#506784",
            "linecolor": "#506784",
            "showbackground": true,
            "ticks": "",
            "zerolinecolor": "#C8D4E3",
            "gridwidth": 2
           },
           "yaxis": {
            "backgroundcolor": "rgb(17,17,17)",
            "gridcolor": "#506784",
            "linecolor": "#506784",
            "showbackground": true,
            "ticks": "",
            "zerolinecolor": "#C8D4E3",
            "gridwidth": 2
           },
           "zaxis": {
            "backgroundcolor": "rgb(17,17,17)",
            "gridcolor": "#506784",
            "linecolor": "#506784",
            "showbackground": true,
            "ticks": "",
            "zerolinecolor": "#C8D4E3",
            "gridwidth": 2
           }
          },
          "shapedefaults": {
           "line": {
            "color": "#f2f5fa"
           }
          },
          "annotationdefaults": {
           "arrowcolor": "#f2f5fa",
           "arrowhead": 0,
           "arrowwidth": 1
          },
          "geo": {
           "bgcolor": "rgb(17,17,17)",
           "landcolor": "rgb(17,17,17)",
           "subunitcolor": "#506784",
           "showland": true,
           "showlakes": true,
           "lakecolor": "rgb(17,17,17)"
          },
          "title": {
           "x": 0.05
          },
          "updatemenudefaults": {
           "bgcolor": "#506784",
           "borderwidth": 0
          },
          "sliderdefaults": {
           "bgcolor": "#C8D4E3",
           "borderwidth": 1,
           "bordercolor": "rgb(17,17,17)",
           "tickwidth": 0
          },
          "mapbox": {
           "style": "dark"
          }
         }
        },
        "xaxis": {
         "anchor": "y",
         "domain": [
          0.0,
          0.45
         ]
        },
        "yaxis": {
         "anchor": "x",
         "domain": [
          0.0,
          1.0
         ]
        },
        "xaxis2": {
         "anchor": "y2",
         "domain": [
          0.55,
          1.0
         ]
        },
        "yaxis2": {
         "anchor": "x2",
         "domain": [
          0.0,
          1.0
         ]
        },
        "width": 2800,
        "autosize": true,
        "hovermode": "x"
       },
       "config": {
        "plotlyServerURL": "https://plot.ly"
       }
      }
     },
     "metadata": {},
     "output_type": "display_data"
    },
    {
     "name": "stdout",
     "output_type": "stream",
     "text": [
      "Health & Hygiene with count -  97\n"
     ]
    },
    {
     "data": {
      "application/vnd.plotly.v1+json": {
       "data": [
        {
         "line": {
          "color": "#bc5090",
          "width": 4
         },
         "opacity": 0.8,
         "y": {
          "dtype": "i2",
          "bdata": "EA4YFXAXKApABmwHGBX8CNAHaBDYDlQLbAe4C3AXxAnECfwIuAtsB3gF5AwIB0wEdA7QB6gWrA2sDYAMgAy4C7gLCAdoEAgH+BEUBawNBBCkBrgLxCKsDawNTB14BfwIbAdMBNAHTASoFqQG0AfQBxQFuAtUC6gWCCB4NxgV1El4NyRFkBoQJwggGC5oKVgbGBUQDrgLxAnsExAOKArcBWgQaBCsDagWKApYGxgVbAe4JPgqJEWwBIA+"
         },
         "type": "scatter",
         "mode": "markers+lines",
         "visible": false
        },
        {
         "line": {
          "color": "#ffa600",
          "width": 4
         },
         "opacity": 0.8,
         "y": {
          "dtype": "i2",
          "bdata": "uAuUEUQWNAgUBdwFlBFsB6QGrA2ADGAJQAbECYgTNAg0CGwHxAlABrAE8ArcBYQDHAykBiQTVAtUC4wKjArECcQJ3AWsDdwFPA9MBFQLPA8UBcQJTB1UC1QLnBiwBGwHQAaEA6QGhAMkE3gFpAakBkwExAlgCSQT9Bp8LpQRHD58LjQ6RBbQIPQarCbEIgwXlBG4C8QJNAjMELgLmAgUBawNrA1UCyQTmAgMF5QRQAbcHgQpNDroA2A7"
         },
         "type": "scatter",
         "mode": "markers+lines",
         "visible": false
        },
        {
         "line": {
          "color": "#bc5090",
          "width": 4
         },
         "opacity": 0.8,
         "y": {
          "dtype": "i4",
          "bdata": "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"
         },
         "type": "scatter",
         "mode": "markers+lines",
         "visible": false
        },
        {
         "line": {
          "color": "#ffa600",
          "width": 4
         },
         "opacity": 0.8,
         "y": {
          "dtype": "i4",
          "bdata": "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"
         },
         "type": "scatter",
         "mode": "markers+lines",
         "visible": false
        },
        {
         "line": {
          "color": "#bc5090",
          "width": 4
         },
         "opacity": 0.8,
         "y": {
          "dtype": "i4",
          "bdata": "oIwAAMQJAAAcDAAAtF8AALRfAAD4KgAAtF8AAGAiAADMWwAAoA8AAJQRAABoEAAAcBcAAHwVAACsDQAAuAsAAFgbAAAgTgAAeB4AAAhSAABEYQAAmDoAAKAPAAB4HgAAZBkAAERhAACYOgAABEIAALgLAAB0WQAABEIAAOQMAADMWwAAREgAAPxTAADMWwAA/FMAAKwNAACYCAAAnBgAAMQJAAC4CwAA4BUAAJg6AABsawAApDgAAIw8AABwFwAAGBUAAEwdAABYGwAAbGsAAKwmAACwNgAAoA8AAEwdAACUKgAAqC8AAGgpAAAEKQAATB0AAGgpAAA0IQAArA0AAMQiAAA8cwAAuAsAAEAfAAA0IQAANCEAABAnAACwHQAA1DAAANQwAACgDwAA1DAAAJg6AAA8cwAAvE0AALA2AACsJgAAvE0AAKyKAABsawAApDgAAKwmAACoYQAA+CoAADQhAACsJgAArCYAABAnAAC4CwAABEIAALgLAAAQJwAA+CoAAKQGAACIEwAAGBUAALwbAADEhgAA0AcAAKAPAADcBQAAECcAAAgHAAAMFwAAlBEAALgLAADkJQAAOBgAACAcAAAgHAAATB0AAOAuAAAgHAAANCEAAGQZAAD4KgAAIBwAADB1AAD0TAAAQB8AAMxbAABwlAAAyBkAAEwdAADEIgAA"
         },
         "type": "scatter",
         "mode": "markers+lines",
         "visible": false
        },
        {
         "line": {
          "color": "#ffa600",
          "width": 4
         },
         "opacity": 0.8,
         "y": {
          "dtype": "i4",
          "bdata": "PIwAAMQJAAAcDAAAwF0AAMBdAAAEKQAA+FwAAJghAACgWgAAoA8AAJQRAABoEAAAcBcAAHwVAABIDQAAuAsAAJAaAAAgTgAATB0AAAhSAACUXAAA3DcAAKAPAABMHQAAZBkAAERhAACYOgAABEIAAFQLAAB4UAAA8DwAAOQMAAD4QwAA0DkAAMhLAABwSQAAMEMAAKwNAACYCAAAnBgAAGAJAAC4CwAAGBUAAJg6AACENQAApDgAAIw8AABEFgAA7BMAAEwdAABYGwAAhDUAALgkAAD0MwAAoA8AACAcAACgKAAA4C4AAGgpAACsJgAAhBwAAHQnAAAIIAAASA0AAKQfAABsOQAAuAsAAEAfAAAIIAAANCEAAKwmAACEHAAAfC4AABguAACgDwAAGC4AAJg6AABsOQAA1EkAAPQzAAC4JAAA1EkAACRFAACENQAAhDUAALgkAADUMAAA+CoAAEAfAAC4JAAAYCIAABwlAAC4CwAA5D4AALgLAAAcJQAA+CoAAKQGAAAkEwAAGBUAAFgbAACUXAAA0AcAADwPAADcBQAAHCUAAKQGAABEFgAAlBEAALgLAADkJQAAOBgAADgYAABwFwAAOBgAAJAaAAA4GAAA3B4AAHwVAAAcJQAAOBgAALxNAACcSgAAkBoAAMxCAABQkQAAABkAAEwdAADEIgAA"
         },
         "type": "scatter",
         "mode": "markers+lines",
         "visible": false
        },
        {
         "line": {
          "color": "#bc5090",
          "width": 4
         },
         "opacity": 0.8,
         "y": {
          "dtype": "i4",
          "bdata": "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"
         },
         "type": "scatter",
         "mode": "markers+lines",
         "visible": false
        },
        {
         "line": {
          "color": "#ffa600",
          "width": 4
         },
         "opacity": 0.8,
         "y": {
          "dtype": "i4",
          "bdata": "oFoAAIyHAABcKwAArIoAAEhxAAAEKQAAuIgAAKScAACclQAA7MIAADxBAAAUaQAApB8AANhyAACQfgAATGgAAAwwAADMKQAA7CwAADBcAAAIIAAAjCMAAKhhAADsLAAAQB8AAEAfAADcHgAAaHQAAAB9AAA4MQAABEIAACR3AABg0QAAwEQAAOiAAACMPAAA9H4AAMxCAACUKgAANDoAADgxAAC8NAAAZEsAAJghAABEFgAAQB8AADQ6AABsIAAAzEIAAJQqAACAcAAAdHIAABAnAACoYQAAJCwAAIgsAACILAAAxCIAAIgsAABcRAAAGHkAAOxFAACoYQAA2HIAAOxFAADsRQAA2HIAAKhhAAAEKQAAAEsAAAQpAAAUUAAAZBkAABguAACILAAAiCwAAGQyAAA0UwAAnBgAANCEAAAEKQAAXCsAACAcAAB4UAAAJCwAAFgbAAB8FQAAaBAAAIgsAADo/QAASO4AANhZAACILAAARGEAADQhAADcHgAAqGEAANhZAAD4KgAAtHgAADAqAABoWwAAFGkAADDyAABkMgAAPA8AAARCAACILAAAtHgAAAQpAADgLgAArCYAAFwrAAAEdAAA8DwAAIA+AADMQgAAiCwAAIgsAAC4PQAAjCMAAFwrAABcKwAA1BcAAOhnAAB0iwAAkGUAAOhnAAA8cwAARC8AAJBlAABIPwAAhDUAANA5AABwSQAAMEMAAPhDAADISwAAIBwAAGA7AACENQAANDoAADhKAAD4KgAA4C4AAPgqAAD4KgAAQGoAAPxsAAAQcgAAuD0AAPQaAACENQAAjDwAABQeAADkPgAAgHAAADQhAAA4SgAAqC8AAPRlAAD0MwAA0CAAABQeAAAUHgAAFB4AALA2AAAUHgAAKDwAABQeAAAUHgAAjCMAAMArAACwNgAAZBkAACAcAABIPwAApB8AAEAfAAAgHAAAGBUAADARAABYGwAA3B4AAMwQAACAPgAAQDgAALQtAABYGwAA6GcAAIA+AACwHQAA3DcAAJghAADISwAAmDoAAHRAAABwMAAAqGEAANhZAADcHgAAnBgAAHAwAADYWQAAcBcAAHAXAABwFwAAcBcAAJQRAAAYLgAAGC4AAHAwAABIPwAAnEoAAJQRAABoWwAAaFsAAIgTAAC4JAAAyDIAAGhbAACcSgAAaFsAAGhbAACIEwAAaFsAAHRyAACcSgAA0GsAAJQRAAC4JAAA4BUAACQTAADUFwAAfBUAALRfAAA0IQAAaFsAANgOAABEFgAARBYAALgkAADUFwAAJBMAAAggAABEFgAAPA8AAHwVAAB8FQAAnEoAAHwVAAB8FQAAQB8AANxQAACYOgAAADIAALA2AAC0FAAATB0AAPgqAABgIgAAsDYAALA2AACwNgAAsDYAAIgTAADgLgAAlBEAAOAVAAA8QQAAgAwAALgLAAAgTgAAIE4AAIgTAAAgTgAAIE4AAAAyAAAAMgAAGBUAAJQRAACkBgAACAcAADwPAACYCAAA0AcAAOQMAABIDQAA2A4AANgOAADAKwAAxAkAAGAJAADwCgAAiBMAAEgNAADsEwAAlBEAANAHAACwBAAATB0AAPAKAADECQAAxAkAAPwIAAD8CAAA/AgAANwFAADQBwAAfC4AAHwuAACMIwAAMBEAAMQJAADcBQAAxAkAAGgpAADcBQAA3AUAAMQJAAB8FQAAfBUAAHwVAAB8FQAAfBUAACgjAADoHAAA6BwAANQXAAAwEQAAmCEAAHAXAADgFQAA0AcAAKAPAACgDwAAoA8AALQUAAB8FQAAPA8AAMASAADAEgAAMBEAAMASAADcBQAArA0AANwFAADkDAAA5AwAADARAAAwEQAABBAAADARAAAEEAAABBAAADxzAAB4aQAA6AMAANwFAADcBQAA3AUAAJghAADoAwAA6AMAAOgDAADoAwAA3AUAANwFAADoAwAAmDoAAIDtAAAI6AAAIP0AAOBgAABwrQAAxDsAAJAaAACoYQAAnJUAALCaAABgOwAAIMsAACigAABs6AAABCkAAOBHAAAslwAAbOgAAA=="
         },
         "type": "scatter",
         "mode": "markers+lines",
         "visible": false
        },
        {
         "line": {
          "color": "#bc5090",
          "width": 4
         },
         "opacity": 0.8,
         "y": {
          "dtype": "i4",
          "bdata": "RGEAAFxEAAD8UwAAnHwAAHRAAACEZwAA9H4AAPRlAAAsZQAAdEAAAISAAACktQAALMkAAEhxAABEYQAAsDYAAPxTAAB4aQAACFIAAGxrAACoYQAApDgAAKhhAACcYwAAbGsAAGxrAAC0XwAAkGUAAKhhAAA8cwAAOEoAAKQ4AACAPgAAmDoAAJg6AAAUUAAA8FUAAPBVAABMHQAA8FUAAOgcAADoHAAAwBIAAFgbAADIGQAAPA8AAKAPAADoAwAA5CUAADgYAAAgTgAAXEQAADQhAAAgHAAAZBkAAPgqAADgLgAAIBwAACAcAABMHQAAIBwAAAhSAAAwdQAA"
         },
         "type": "scatter",
         "mode": "markers+lines",
         "visible": false
        },
        {
         "line": {
          "color": "#ffa600",
          "width": 4
         },
         "opacity": 0.8,
         "y": {
          "dtype": "i4",
          "bdata": "qEgAALg9AACwTwAACGsAAHRAAABcXQAAdHIAALhWAABsOQAAVD0AAHxgAACorAAAXMEAALBPAADsRQAAsDYAALBPAAB4aQAACFIAAOBgAACoYQAApDgAAKhhAADYWQAA4GAAAOBgAABUVgAAaFsAAKhhAADoZwAAOEoAAPQzAABAOAAA3DcAAJg6AADISwAA+CoAAPgqAACQGgAA+CoAACwaAAAsGgAAXBIAAGQZAADIGQAA2A4AADwPAADoAwAA5CUAADgYAABQRgAAuD0AANweAAA4GAAAfBUAABwlAACQGgAAOBgAADgYAAA4GAAAcBcAANRJAAB4aQAA"
         },
         "type": "scatter",
         "mode": "markers+lines",
         "visible": false
        },
        {
         "line": {
          "color": "#bc5090",
          "width": 4
         },
         "opacity": 0.8,
         "y": {
          "dtype": "i4",
          "bdata": "+CoAAOAuAADgLgAAQB8AAEAfAABYGwAAECcAAEAfAAA0OgAA4C4AAAhSAAC4iAAAZBkAAFgbAADgLgAAsDYAAJg6AACYOgAATB0AAEAfAACUEQAArA0AAEAfAABAHwAAiBMAAKAPAADAEgAA4C4AALA2AABYGwAAmDoAALgLAACYOgAAuAsAAHAXAAC4CwAATB0AAPwIAADECQAATB0AAGQZAABwFwAAcBcAAEwdAABkGQAAcBcAAJQRAADQBwAAuAsAAHAXAABkGQAAuAsAAHAXAAC4CwAA8AoAAKAPAACUEQAAcBcAAKwNAAAoIwAAQB8AAJQRAADIMgAArA0AAKwNAADIMgAAxAkAAMQJAACsDQAArA0AAHAXAAC4CwAAfBUAAFgbAABwFwAAiBMAAFgbAACIEwAAxAkAALgLAACUEQAAuAsAAIAMAAC4CwAA4C4AALgLAACIEwAAiBMAAHAXAAC4CwAA0AcAAHAXAAC4CwAAHCUAAMQJAABkGQAA0AcAAKwNAABwFwAAxAkAALgLAACsDQAArA0AAJQRAACUEQAAuAsAAJQRAAAEKQAABCkAAIgTAADECQAAxAkAAIgTAADECQAAlBEAAKwNAAC4CwAA6AMAAMQJAADECQAAxAkAAAQpAAAEKQAAuAsAAMQJAACUEQAA6AMAAOgDAADECQAA0AcAANAHAADcBQAA3AUAANwFAADcBQAA3AUAANwFAADoAwAAoA8AAOgDAADoAwAArA0AAKwNAACYOgAAlBEAAJQRAADYWQAA"
         },
         "type": "scatter",
         "mode": "markers+lines",
         "visible": false
        },
        {
         "line": {
          "color": "#ffa600",
          "width": 4
         },
         "opacity": 0.8,
         "y": {
          "dtype": "i4",
          "bdata": "uCQAANgnAABAKQAAIBwAAEAfAABYGwAAECcAACAcAACENQAA4C4AALxNAAC4iAAAZBkAAFgbAACsJgAALDMAAMArAACcMQAAXhoAAEAfAACUEQAArA0AAJAaAACoFgAAXBIAAKAPAABcEgAAgCUAAAQpAAA4GAAATB0AALgLAABMHQAAuAsAAHAXAACMCgAAWBsAANAHAADECQAAWBsAANQXAADgFQAA4BUAAEwdAABkGQAAGBUAADARAADQBwAAjAoAABgVAADUFwAAjAoAAOAVAACMCgAA8AoAANgOAACUEQAAGBUAAKwNAACkHwAAIBwAAJQRAABQLQAAVAsAAEgNAABQLQAAxAkAAJgIAACsDQAASA0AAHAXAAC4CwAABBAAAJwYAAAYFQAAXBIAAJwYAACIEwAAxAkAAFQLAACUEQAAVAsAABwMAAC4CwAAMCoAALgLAAAkEwAAmhAAAHAXAABUCwAA0AcAAOAVAABUCwAAxCIAAMQJAADUFwAA0AcAAEgNAADgFQAAxAkAAFQLAABUCwAAgAwAAJgIAACYCAAAuAsAAJgIAACkHwAApB8AAGgQAAD8CAAAyggAAGgQAAD8CAAA2A4AAEgNAAC4CwAA6AMAAMQJAAD8CAAAyggAAKQfAACkHwAA8AoAAPwIAACgDwAA6AMAAOgDAADECQAA0AcAAAgHAADcBQAA3AUAANwFAADcBQAA3AUAANwFAADoAwAA5AwAAOgDAADoAwAAjAoAAIwKAADgLgAAoA8AAKAPAAAwQwAA"
         },
         "type": "scatter",
         "mode": "markers+lines",
         "visible": false
        },
        {
         "line": {
          "color": "#bc5090",
          "width": 4
         },
         "opacity": 0.8,
         "y": {
          "dtype": "i4",
          "bdata": "1EkAAKwmAACsJgAAlCoAAJQqAACsJgAAaL8AAMzYAADM2AAA7MIAAPT7AABQRgAAkGUAAJBlAABIcQAAUEYAADQ6AAC8TQAA7CwAAKhhAABUbwAA5FcAAORXAADcmwAAzFsAAFAtAAD0fgAAzFsAAJBlAAAwdQAA/FMAANhZAADcmwAAAH0AAJg6AADYQAAAwEQAAMBEAAC8TQAAgD4AAIRnAAAobgAARGEAADxzAAB8kgAAfJIAACBnAADAXQAAwF0AAFRvAABgbQAA5FcAAJSOAABwlAAAiEUAALBoAAAMMAAAeGkAAIA+AADcmwAAGEcAACBOAACYOgAAvE0AALA2AACYOgAARGEAAEAfAAC8TQAAmDoAALxNAAC8TQAA5FcAAORXAACYOgAArCYAAJg6AADkVwAAtHgAAKwmAAC8TQAAVG8AAHRAAAC8TQAAiCwAABh5AAA0IQAAzHQAABAnAAAcJQAAECcAADhKAADIMgAA3JsAAGhCAADEIgAA3B4AAPQaAACwNgAAvBsAACBOAADIMgAAUEYAAHRAAACwNgAA+CoAAHRAAADIMgAAYOoAAKwmAAC8TQAATB0AADhKAABsawAATB0AADQhAAAYeQAA5FcAANw3AAC8TQAAvE0AALxNAACkUQAANDoAALxNAAC8TQAAvDQAAAhSAADwVQAACCAAAJg6AACYOgAALEwAAGhCAACMPAAAuD0AAOAuAAB8kgAA4C4AAOAuAACENQAAOEoAAGAiAAC8TQAA4C4AAAQpAAA4SgAAMPIAADDyAAAw8gAA2NYAADDyAACwNgAA2NYAANjWAAAoIwAARGEAAKhhAAAIUgAA5FcAALxNAAAsTAAAvE0AAHQnAAAoIwAABCkAADhKAAAsTAAALEwAANybAACoYQAAUEYAACxMAAAsTAAAqBYAACxMAAAIUgAAvE0AAGhCAACIEwAAWBsAALgLAAC8TQAATB0AAMxbAAAIUgAA2FkAACBOAACoYQAA+CoAACBOAABMHQAAIE4AAMASAADgLgAANFMAAKgWAADAqAAAECcAAOwsAADQIAAAUEYAAHAXAAAoIwAArCYAAPxTAABAHwAA1DAAAJg6AACMPAAAWBsAABAnAABESAAAsDYAAFSIAACoYQAApDgAAERhAABESAAAREgAAHwVAAC0XwAALBoAAKQ4AABQRgAASCYAAFxEAADsLAAATB0AAFxEAADY1gAA2NYAABRdAgDIMgAAiBMAADhKAABUJAAAVCQAACgjAACAPgAAKCMAAHwVAABMHQAA1DAAAKwNAADsLAAATK0BALRfAAAgTgAATB0AAEwdAACwNgAANCEAADQhAADM2AAAQB8AAORXAABMrQEAyDIAANweAADECQAAvDQAAAwRAQDIMgAAvDQAAAwRAQA0OgAAvDQAAIgTAABkrwAATK0BAGQZAABMHQAAZBkAAOiAAACoYQAADHsAAPzpAADMdAAA0IQAAAggAADcmwAATB0AABAnAAAAfQAAZBkAAJSnAACgjAAAVAsAACgjAADMWwAA7CwAAPQzAADECQAAuAsAALgLAABAHwAAKCMAANweAAC4CwAA5AwAAAQpAADMWwAA6AMAAIw8AABcRAAAREgAAFxEAAB8FQAABKYAAIAMAAC4CwAAKCMAALgLAAAoIwAAaBAAALgLAADgLgAAYCIAAJg6AADswgAAhP0AAKwmAADgLgAArCYAAEgmAABESAAAgD4AAKwmAACwNgAArCYAAFBGAAB8kgAARGEAAJBlAACIEwAARGEAALgLAABUiAAA0AcAAMSGAADQBwAAMHUAADQ6AAA="
         },
         "type": "scatter",
         "mode": "markers+lines",
         "visible": false
        },
        {
         "line": {
          "color": "#ffa600",
          "width": 4
         },
         "opacity": 0.8,
         "y": {
          "dtype": "i4",
          "bdata": "1EkAAKwmAAAcJQAABCkAAAQpAACsJgAAXI8AAITLAACEywAAZK8AABDvAABQRgAAfGAAAHxgAAD0ZQAAUEYAADQ6AAC8TQAA+CoAAORXAAC8ZgAA5FcAAAhSAACcfAAAzFsAAFAtAAD0fgAAcEkAADRTAAAgZwAAyEsAAHBJAABshAAAhGcAALA2AABUPQAAuD0AALg9AACoSAAAFDcAAIRnAAAobgAAaFsAAOhnAAAIhAAAeIIAACBnAADAXQAAVFYAAOhnAAAwXAAACFIAAJSOAABwlAAAiEUAAHBiAAAMMAAAdFkAAEA4AACcfAAAKDwAAIA+AAC8NAAAHD4AADgxAADgLgAAvE0AAEwdAACoSAAAvDQAAOxFAACcSgAAUEYAAJhTAAC8NAAAxCIAAOAuAABQRgAAmGwAAMQiAADsRQAAVG8AAHRAAAC8TQAAVCQAALxmAAA0IQAAfGAAABAnAAAcJQAAHCUAAIhFAAB8LgAA3JsAAAg5AAA0IQAA3B4AAPQaAAAAMgAAvBsAACBOAADgLgAAUEYAAKQ4AAA4MQAA+CoAAJg6AACILAAA8NIAAKwmAAC8TQAAkBoAADhKAAB8YAAATB0AADQhAABAagAATE8AANw3AAC8TQAAJEUAALxNAACkUQAANDoAALxNAAC8TQAAvDQAABhHAADwVQAA6BwAAJg6AAAUNwAA+EMAAGhCAACwNgAAbDkAAMArAAB8kgAAwCsAAOAuAAAMMAAAOEoAAGAiAAC8TQAA4C4AAAQpAAA4SgAAMPIAADDyAAAw8gAA2NYAADDyAACwNgAA2NYAANjWAAAoIwAARGEAAKhhAADISwAABEIAALxNAAD4QwAAvE0AABwlAACkHwAABCkAAARCAAD4QwAAwEQAADyMAACoYQAASD8AAPhDAAD4QwAAqBYAAMBEAAAIUgAAHD4AAMQ7AACIEwAAnBgAAFQLAADUSQAATB0AANBSAADISwAA2FkAAFBGAACoYQAArCYAAFBGAABMHQAAUEYAAFwSAAAwKgAAOEoAAHwVAABcjwAA0CAAADwoAADQIAAArD8AAHAXAACkHwAAxCIAACBOAACEHAAAwCsAAJg6AACkOAAAWBsAABAnAABESAAAODEAAKh6AADkVwAALDMAAERhAABUPQAAVD0AAHwVAABUVgAAcBcAACwzAABQRgAASCYAAFQ9AADsLAAAvBsAALg9AADY1gAA2NYAAKRLAQC0LQAAJBMAAEg/AABUJAAAYCIAAKQfAACgKAAA0CAAAIgTAAC8GwAA1DAAAEgNAABoKQAApEsBAFRWAABQRgAAkBoAAEwdAAA4MQAAIBwAANweAADM2AAAQB8AAORXAAAsXwEAyDIAAJAaAADECQAAADIAAHTWAADsLAAAADIAAJzgAABYNAAAADIAAJQRAAAcogAALF8BAKgWAABMHQAAqBYAACx+AADkVwAADHsAANTGAAD8bAAAaHQAAOgcAAAkkAAAZBkAACgjAAAAfQAADBcAADCOAACQfgAAVAsAAPwhAAAoVQAA7CwAAMgyAADECQAAuAsAALgLAAAgHAAAKCMAAOgcAAC4CwAA5AwAAAQpAAAoVQAA6AMAAIw8AABcRAAAREgAAFxEAAB8FQAA0IQAAFQLAAC4CwAAKCMAAFQLAACkHwAABBAAAFQLAADgLgAACCAAAAwwAACwswAAyOEAAKwmAAAwKgAArCYAAEgmAAAEQgAAgD4AAKwmAAB8LgAArCYAAFBGAAB8kgAARGEAAGhbAACIEwAA2FkAAMQJAAD0fgAA0AcAAMSGAADQBwAAbGsAADQ6AAA="
         },
         "type": "scatter",
         "mode": "markers+lines",
         "visible": false
        },
        {
         "line": {
          "color": "#bc5090",
          "width": 4
         },
         "opacity": 0.8,
         "y": {
          "dtype": "i4",
          "bdata": "uAsAABRQAAAUUAAAFFAAAHRAAAD0fgAA9H4AAMxbAACILAAAREgAANA5AAA4SgAAYG0AAJQRAAA8KAAAgCUAAMwpAAC8NAAA9BoAADwoAAB8FQAABCkAABwlAADUSQAA2CcAABhHAAAIUgAAFGkAAIA+AADkVwAA/AgAAFAtAAA4GAAA5D4AAOQ+AADkPgAAmDoAADQ6AACYOgAAuAsAAHQnAADoHAAAZBkAAAgHAADoAwAAmDoAAJg6AADIGQAAZBkAACgjAACIEwAAjDwAAGQZAAAoPAAAZBkAACgjAACoYQAAYG0AAAAZAAA4SgAATB0AAEgmAABMHQAAzHQAAEgmAAAAAAAAxAkAANAHAADkDAAAuAsAAGwHAADEIgAAbAcAADQhAABYGwAAHCUAAFgbAADAXQAAECcAAIgTAADAXQAAQB8AAHwuAACQGgAAkBoAAHBJAABwSQAAgD4AAPQaAAD0GgAA1EkAAEw2AAAIIAAACCAAANweAACIEwAATB0AAMQJAABAHwAAuAsAAHAXAACgDwAAsAQAALAEAABAHwAAWJgAAHwVAABwEQEAfBUAAJg6AAB8FQAAmDoAAHwVAABMHQAACFIAALw0AABMHQAAQAYAAOiAAABMHQAAaDwBAGDqAABAGQEAsDYAAIA4AQCwNgAAIE4AAKwNAAAoIwAAsDYAAOzCAACQGgAAAH0AAJQRAAAIzwAA/FMAAGgQAABkGQAAIE4AAPgqAADkVwAAIE4AAGhCAAAIIAAANDoAAKAPAADUSQAAiEUAAGBtAACIEwAA5FcAAOxFAADUMAAAXEQAALxNAACsDQAAkBoAAFgbAABcRAAAbGsAAEAfAACYOgAAqGEAAOj9AACYOgAAWJgAAFBGAACYOgAAmDoAAJg6AACIEwAAvDQAAIRnAAB4HgAA8FUAAOwsAADkVwAAVAsAAIgTAAAAfQAA7EUAAKhhAABQRgAA8FUAALA2AACQZQAAqGEAAAQpAACwBAAAmCEAACA1AAA4SgAAQB8AAEBRAAA="
         },
         "type": "scatter",
         "mode": "markers+lines",
         "visible": false
        },
        {
         "line": {
          "color": "#ffa600",
          "width": 4
         },
         "opacity": 0.8,
         "y": {
          "dtype": "i4",
          "bdata": "8AoAAHBJAABwSQAAcEkAAPA8AABQeAAAEHIAANBSAACILAAAXEQAAIQ1AABcRAAAcGIAAJQRAADkJQAAxCIAAIAlAAC8NAAAOBgAAOQlAAB8FQAASCYAAJghAADsRQAA2CcAAMBEAADUSQAAFGkAADQ6AAA0UwAAmAgAAFAtAACoFgAAYDsAAGA7AABgOwAAODEAABQ3AAA0OgAAVAsAAEgmAABYGwAA4BUAAAgHAADoAwAAkDMAAJAzAADIGQAADBcAAAggAAAkEwAAkDMAAOAVAADcNwAA4BUAAAggAADkVwAAcGIAAHAXAABIPwAA9BoAAFQkAAC8GwAAFGkAAFQkAAAAAAAAxAkAANAHAADkDAAAuAsAAGwHAADEIgAAbAcAANweAACcGAAAmCEAAJwYAACwTwAAKCMAAPgRAADAXQAAIBwAAMwpAAAAGQAAABkAAARCAAAEQgAAgD4AANQXAAD0GgAAaEIAANQwAAAUHgAAFB4AALwbAAAkEwAAkBoAAMQJAAAgHAAA8AoAABgVAAA8DwAAsAQAALAEAABMHQAAjIcAAHwVAAD04gAAfBUAANw3AAB8FQAA3DcAAHwVAABMHQAA1EkAAKgvAACQGgAAQAYAAAR0AACQGgAA+CQBAHTWAACE/QAAODEAAKAJAQCwNgAAIE4AAEgNAACkHwAAODEAAOzCAACQGgAAAH0AADARAAAMxgAAbFIAAAQQAAAMFwAAUEYAAMwpAABUVgAAcEkAAARCAADoHAAAvDQAADwPAADsRQAAiEUAALxmAAAkEwAA5FcAAOQ+AAAkLAAAXEQAAOxFAABIDQAAyBkAAJAaAAC4PQAAaFsAAEAfAAAMMAAAqGEAAJjpAAC8NAAAkH4AAGhCAACYOgAAvDQAALA2AAAkEwAAqC8AAIRnAABYGwAAWE0AAEgmAADkVwAA8AoAAIgTAAAAfQAA5D4AAORXAABcRAAA8FUAAGQyAACQZQAAqGEAANgnAABMBAAA0CAAACwzAABcRAAAkBoAACxMAAA="
         },
         "type": "scatter",
         "mode": "markers+lines",
         "visible": false
        },
        {
         "line": {
          "color": "#bc5090",
          "width": 4
         },
         "opacity": 0.8,
         "y": {
          "dtype": "i4",
          "bdata": "HKIAADhKAADMWwAAqGEAAFzBAAB4HgAAUC0AAFxEAAAcPgAAeGkAABAnAACUEQAAdEAAAMgyAADIGQAAlBEAAJQRAACUEQAA+CoAAMgyAAD4KgAAsDYAAEyaAAD4KgAAZBkAAMgyAAAEKQAASHEAAKAPAACgDwAAoA8AANRJAADkDAAAuAsAAORXAAAUUAAAzNgAAMQJAACkOAAAvDQAALw0AABwFwAA1EkAALw0AADUMAAAZK8AADQ6AAAMewAA6IAAACxMAADQhAAAECcAADQhAAAEKQAArCYAADQhAAD0MwAAKCMAANAHAAAoIwAA7CwAAMxbAAAEKQAAREgAAEwdAACMPAAAXEQAAFxEAAC0XwAAEFkAALRfAAAQWQAAEFkAAKCMAACYOgAAiBMAAJQRAACgDwAAoA8AALgLAAC4CwAAKCMAAGgQAAC4CwAAKCMAAIAMAAAYFQAACCAAAOAuAAB8kgAABCkAAMx0AABUiAAARGEAAMxbAABAnAAARGEAAA=="
         },
         "type": "scatter",
         "mode": "markers+lines"
        },
        {
         "line": {
          "color": "#ffa600",
          "width": 4
         },
         "opacity": 0.8,
         "y": {
          "dtype": "i4",
          "bdata": "ZJYAACRFAAAcVwAA5FcAALCaAABMHQAAUC0AAFQ9AADcNwAAeGkAABwlAABoEAAA0DkAAAwwAADIGQAAaBAAAGgQAABoEAAANCEAAMgyAAA0IQAA9DMAAHB7AACsJgAAqBYAALQtAADEIgAAGGAAANAHAADQBwAA0AcAAGhCAADkDAAAuAsAAORXAAAQQAAAzNgAAMQJAABkMgAAADIAAAAyAABwFwAAgD4AAAAyAAAkLAAAHKIAABQ3AAAMewAALH4AABhHAABodAAAxCIAABQeAABUJAAArCYAALAdAADIMgAAKCMAANAHAAD8IQAA7CwAAChVAAAEKQAAREgAALwbAACMPAAAXEQAAFxEAADwVQAAFFAAAPBVAAAUUAAAFFAAAIh3AAC8NAAAXBIAAAQQAAAQDgAAPA8AALgLAABUCwAApB8AAAQQAABUCwAAKCMAAFQLAADAEgAACCAAAOAuAAB8kgAAHCUAADhjAAAIhAAA0FIAALxNAADQhAAA2FkAAA=="
         },
         "type": "scatter",
         "mode": "markers+lines"
        }
       ],
       "layout": {
        "template": {
         "data": {
          "histogram2dcontour": [
           {
            "type": "histogram2dcontour",
            "colorbar": {
             "outlinewidth": 0,
             "ticks": ""
            },
            "colorscale": [
             [
              0.0,
              "#0d0887"
             ],
             [
              0.1111111111111111,
              "#46039f"
             ],
             [
              0.2222222222222222,
              "#7201a8"
             ],
             [
              0.3333333333333333,
              "#9c179e"
             ],
             [
              0.4444444444444444,
              "#bd3786"
             ],
             [
              0.5555555555555556,
              "#d8576b"
             ],
             [
              0.6666666666666666,
              "#ed7953"
             ],
             [
              0.7777777777777778,
              "#fb9f3a"
             ],
             [
              0.8888888888888888,
              "#fdca26"
             ],
             [
              1.0,
              "#f0f921"
             ]
            ]
           }
          ],
          "choropleth": [
           {
            "type": "choropleth",
            "colorbar": {
             "outlinewidth": 0,
             "ticks": ""
            }
           }
          ],
          "histogram2d": [
           {
            "type": "histogram2d",
            "colorbar": {
             "outlinewidth": 0,
             "ticks": ""
            },
            "colorscale": [
             [
              0.0,
              "#0d0887"
             ],
             [
              0.1111111111111111,
              "#46039f"
             ],
             [
              0.2222222222222222,
              "#7201a8"
             ],
             [
              0.3333333333333333,
              "#9c179e"
             ],
             [
              0.4444444444444444,
              "#bd3786"
             ],
             [
              0.5555555555555556,
              "#d8576b"
             ],
             [
              0.6666666666666666,
              "#ed7953"
             ],
             [
              0.7777777777777778,
              "#fb9f3a"
             ],
             [
              0.8888888888888888,
              "#fdca26"
             ],
             [
              1.0,
              "#f0f921"
             ]
            ]
           }
          ],
          "heatmap": [
           {
            "type": "heatmap",
            "colorbar": {
             "outlinewidth": 0,
             "ticks": ""
            },
            "colorscale": [
             [
              0.0,
              "#0d0887"
             ],
             [
              0.1111111111111111,
              "#46039f"
             ],
             [
              0.2222222222222222,
              "#7201a8"
             ],
             [
              0.3333333333333333,
              "#9c179e"
             ],
             [
              0.4444444444444444,
              "#bd3786"
             ],
             [
              0.5555555555555556,
              "#d8576b"
             ],
             [
              0.6666666666666666,
              "#ed7953"
             ],
             [
              0.7777777777777778,
              "#fb9f3a"
             ],
             [
              0.8888888888888888,
              "#fdca26"
             ],
             [
              1.0,
              "#f0f921"
             ]
            ]
           }
          ],
          "contourcarpet": [
           {
            "type": "contourcarpet",
            "colorbar": {
             "outlinewidth": 0,
             "ticks": ""
            }
           }
          ],
          "contour": [
           {
            "type": "contour",
            "colorbar": {
             "outlinewidth": 0,
             "ticks": ""
            },
            "colorscale": [
             [
              0.0,
              "#0d0887"
             ],
             [
              0.1111111111111111,
              "#46039f"
             ],
             [
              0.2222222222222222,
              "#7201a8"
             ],
             [
              0.3333333333333333,
              "#9c179e"
             ],
             [
              0.4444444444444444,
              "#bd3786"
             ],
             [
              0.5555555555555556,
              "#d8576b"
             ],
             [
              0.6666666666666666,
              "#ed7953"
             ],
             [
              0.7777777777777778,
              "#fb9f3a"
             ],
             [
              0.8888888888888888,
              "#fdca26"
             ],
             [
              1.0,
              "#f0f921"
             ]
            ]
           }
          ],
          "surface": [
           {
            "type": "surface",
            "colorbar": {
             "outlinewidth": 0,
             "ticks": ""
            },
            "colorscale": [
             [
              0.0,
              "#0d0887"
             ],
             [
              0.1111111111111111,
              "#46039f"
             ],
             [
              0.2222222222222222,
              "#7201a8"
             ],
             [
              0.3333333333333333,
              "#9c179e"
             ],
             [
              0.4444444444444444,
              "#bd3786"
             ],
             [
              0.5555555555555556,
              "#d8576b"
             ],
             [
              0.6666666666666666,
              "#ed7953"
             ],
             [
              0.7777777777777778,
              "#fb9f3a"
             ],
             [
              0.8888888888888888,
              "#fdca26"
             ],
             [
              1.0,
              "#f0f921"
             ]
            ]
           }
          ],
          "mesh3d": [
           {
            "type": "mesh3d",
            "colorbar": {
             "outlinewidth": 0,
             "ticks": ""
            }
           }
          ],
          "scatter": [
           {
            "marker": {
             "line": {
              "color": "#283442"
             }
            },
            "type": "scatter"
           }
          ],
          "parcoords": [
           {
            "type": "parcoords",
            "line": {
             "colorbar": {
              "outlinewidth": 0,
              "ticks": ""
             }
            }
           }
          ],
          "scatterpolargl": [
           {
            "type": "scatterpolargl",
            "marker": {
             "colorbar": {
              "outlinewidth": 0,
              "ticks": ""
             }
            }
           }
          ],
          "bar": [
           {
            "error_x": {
             "color": "#f2f5fa"
            },
            "error_y": {
             "color": "#f2f5fa"
            },
            "marker": {
             "line": {
              "color": "rgb(17,17,17)",
              "width": 0.5
             },
             "pattern": {
              "fillmode": "overlay",
              "size": 10,
              "solidity": 0.2
             }
            },
            "type": "bar"
           }
          ],
          "scattergeo": [
           {
            "type": "scattergeo",
            "marker": {
             "colorbar": {
              "outlinewidth": 0,
              "ticks": ""
             }
            }
           }
          ],
          "scatterpolar": [
           {
            "type": "scatterpolar",
            "marker": {
             "colorbar": {
              "outlinewidth": 0,
              "ticks": ""
             }
            }
           }
          ],
          "histogram": [
           {
            "marker": {
             "pattern": {
              "fillmode": "overlay",
              "size": 10,
              "solidity": 0.2
             }
            },
            "type": "histogram"
           }
          ],
          "scattergl": [
           {
            "marker": {
             "line": {
              "color": "#283442"
             }
            },
            "type": "scattergl"
           }
          ],
          "scatter3d": [
           {
            "type": "scatter3d",
            "line": {
             "colorbar": {
              "outlinewidth": 0,
              "ticks": ""
             }
            },
            "marker": {
             "colorbar": {
              "outlinewidth": 0,
              "ticks": ""
             }
            }
           }
          ],
          "scattermap": [
           {
            "type": "scattermap",
            "marker": {
             "colorbar": {
              "outlinewidth": 0,
              "ticks": ""
             }
            }
           }
          ],
          "scattermapbox": [
           {
            "type": "scattermapbox",
            "marker": {
             "colorbar": {
              "outlinewidth": 0,
              "ticks": ""
             }
            }
           }
          ],
          "scatterternary": [
           {
            "type": "scatterternary",
            "marker": {
             "colorbar": {
              "outlinewidth": 0,
              "ticks": ""
             }
            }
           }
          ],
          "scattercarpet": [
           {
            "type": "scattercarpet",
            "marker": {
             "colorbar": {
              "outlinewidth": 0,
              "ticks": ""
             }
            }
           }
          ],
          "carpet": [
           {
            "aaxis": {
             "endlinecolor": "#A2B1C6",
             "gridcolor": "#506784",
             "linecolor": "#506784",
             "minorgridcolor": "#506784",
             "startlinecolor": "#A2B1C6"
            },
            "baxis": {
             "endlinecolor": "#A2B1C6",
             "gridcolor": "#506784",
             "linecolor": "#506784",
             "minorgridcolor": "#506784",
             "startlinecolor": "#A2B1C6"
            },
            "type": "carpet"
           }
          ],
          "table": [
           {
            "cells": {
             "fill": {
              "color": "#506784"
             },
             "line": {
              "color": "rgb(17,17,17)"
             }
            },
            "header": {
             "fill": {
              "color": "#2a3f5f"
             },
             "line": {
              "color": "rgb(17,17,17)"
             }
            },
            "type": "table"
           }
          ],
          "barpolar": [
           {
            "marker": {
             "line": {
              "color": "rgb(17,17,17)",
              "width": 0.5
             },
             "pattern": {
              "fillmode": "overlay",
              "size": 10,
              "solidity": 0.2
             }
            },
            "type": "barpolar"
           }
          ],
          "pie": [
           {
            "automargin": true,
            "type": "pie"
           }
          ]
         },
         "layout": {
          "autotypenumbers": "strict",
          "colorway": [
           "#636efa",
           "#EF553B",
           "#00cc96",
           "#ab63fa",
           "#FFA15A",
           "#19d3f3",
           "#FF6692",
           "#B6E880",
           "#FF97FF",
           "#FECB52"
          ],
          "font": {
           "color": "#f2f5fa"
          },
          "hovermode": "closest",
          "hoverlabel": {
           "align": "left"
          },
          "paper_bgcolor": "rgb(17,17,17)",
          "plot_bgcolor": "rgb(17,17,17)",
          "polar": {
           "bgcolor": "rgb(17,17,17)",
           "angularaxis": {
            "gridcolor": "#506784",
            "linecolor": "#506784",
            "ticks": ""
           },
           "radialaxis": {
            "gridcolor": "#506784",
            "linecolor": "#506784",
            "ticks": ""
           }
          },
          "ternary": {
           "bgcolor": "rgb(17,17,17)",
           "aaxis": {
            "gridcolor": "#506784",
            "linecolor": "#506784",
            "ticks": ""
           },
           "baxis": {
            "gridcolor": "#506784",
            "linecolor": "#506784",
            "ticks": ""
           },
           "caxis": {
            "gridcolor": "#506784",
            "linecolor": "#506784",
            "ticks": ""
           }
          },
          "coloraxis": {
           "colorbar": {
            "outlinewidth": 0,
            "ticks": ""
           }
          },
          "colorscale": {
           "sequential": [
            [
             0.0,
             "#0d0887"
            ],
            [
             0.1111111111111111,
             "#46039f"
            ],
            [
             0.2222222222222222,
             "#7201a8"
            ],
            [
             0.3333333333333333,
             "#9c179e"
            ],
            [
             0.4444444444444444,
             "#bd3786"
            ],
            [
             0.5555555555555556,
             "#d8576b"
            ],
            [
             0.6666666666666666,
             "#ed7953"
            ],
            [
             0.7777777777777778,
             "#fb9f3a"
            ],
            [
             0.8888888888888888,
             "#fdca26"
            ],
            [
             1.0,
             "#f0f921"
            ]
           ],
           "sequentialminus": [
            [
             0.0,
             "#0d0887"
            ],
            [
             0.1111111111111111,
             "#46039f"
            ],
            [
             0.2222222222222222,
             "#7201a8"
            ],
            [
             0.3333333333333333,
             "#9c179e"
            ],
            [
             0.4444444444444444,
             "#bd3786"
            ],
            [
             0.5555555555555556,
             "#d8576b"
            ],
            [
             0.6666666666666666,
             "#ed7953"
            ],
            [
             0.7777777777777778,
             "#fb9f3a"
            ],
            [
             0.8888888888888888,
             "#fdca26"
            ],
            [
             1.0,
             "#f0f921"
            ]
           ],
           "diverging": [
            [
             0,
             "#8e0152"
            ],
            [
             0.1,
             "#c51b7d"
            ],
            [
             0.2,
             "#de77ae"
            ],
            [
             0.3,
             "#f1b6da"
            ],
            [
             0.4,
             "#fde0ef"
            ],
            [
             0.5,
             "#f7f7f7"
            ],
            [
             0.6,
             "#e6f5d0"
            ],
            [
             0.7,
             "#b8e186"
            ],
            [
             0.8,
             "#7fbc41"
            ],
            [
             0.9,
             "#4d9221"
            ],
            [
             1,
             "#276419"
            ]
           ]
          },
          "xaxis": {
           "gridcolor": "#283442",
           "linecolor": "#506784",
           "ticks": "",
           "title": {
            "standoff": 15
           },
           "zerolinecolor": "#283442",
           "automargin": true,
           "zerolinewidth": 2
          },
          "yaxis": {
           "gridcolor": "#283442",
           "linecolor": "#506784",
           "ticks": "",
           "title": {
            "standoff": 15
           },
           "zerolinecolor": "#283442",
           "automargin": true,
           "zerolinewidth": 2
          },
          "scene": {
           "xaxis": {
            "backgroundcolor": "rgb(17,17,17)",
            "gridcolor": "#506784",
            "linecolor": "#506784",
            "showbackground": true,
            "ticks": "",
            "zerolinecolor": "#C8D4E3",
            "gridwidth": 2
           },
           "yaxis": {
            "backgroundcolor": "rgb(17,17,17)",
            "gridcolor": "#506784",
            "linecolor": "#506784",
            "showbackground": true,
            "ticks": "",
            "zerolinecolor": "#C8D4E3",
            "gridwidth": 2
           },
           "zaxis": {
            "backgroundcolor": "rgb(17,17,17)",
            "gridcolor": "#506784",
            "linecolor": "#506784",
            "showbackground": true,
            "ticks": "",
            "zerolinecolor": "#C8D4E3",
            "gridwidth": 2
           }
          },
          "shapedefaults": {
           "line": {
            "color": "#f2f5fa"
           }
          },
          "annotationdefaults": {
           "arrowcolor": "#f2f5fa",
           "arrowhead": 0,
           "arrowwidth": 1
          },
          "geo": {
           "bgcolor": "rgb(17,17,17)",
           "landcolor": "rgb(17,17,17)",
           "subunitcolor": "#506784",
           "showland": true,
           "showlakes": true,
           "lakecolor": "rgb(17,17,17)"
          },
          "title": {
           "x": 0.05
          },
          "updatemenudefaults": {
           "bgcolor": "#506784",
           "borderwidth": 0
          },
          "sliderdefaults": {
           "bgcolor": "#C8D4E3",
           "borderwidth": 1,
           "bordercolor": "rgb(17,17,17)",
           "tickwidth": 0
          },
          "mapbox": {
           "style": "dark"
          }
         }
        },
        "xaxis": {
         "anchor": "y",
         "domain": [
          0.0,
          0.45
         ]
        },
        "yaxis": {
         "anchor": "x",
         "domain": [
          0.0,
          1.0
         ]
        },
        "xaxis2": {
         "anchor": "y2",
         "domain": [
          0.55,
          1.0
         ]
        },
        "yaxis2": {
         "anchor": "x2",
         "domain": [
          0.0,
          1.0
         ]
        },
        "width": 2800,
        "autosize": true,
        "hovermode": "x"
       },
       "config": {
        "plotlyServerURL": "https://plot.ly"
       }
      }
     },
     "metadata": {},
     "output_type": "display_data"
    }
   ],
   "execution_count": 12
  },
  {
   "metadata": {},
   "cell_type": "markdown",
   "source": [
    "## 3D Scatter plots for comparison of the availableQunatites with multiple prices\n",
    "### These plots look into each category and checks if the availableQuantities has any influnce to the increasing prices of MRP and it can be observed that few category do show an indication while others have no relation"
   ],
   "id": "7c44d013aed31b5e"
  },
  {
   "metadata": {
    "ExecuteTime": {
     "end_time": "2025-06-11T06:59:28.399261Z",
     "start_time": "2025-06-11T06:59:27.984924Z"
    }
   },
   "cell_type": "code",
   "source": [
    "for value in uniqueCategories:\n",
    "    dfT = dfN[dfN['Category'] == f'{value}']\n",
    "    fig3dScatter = px.scatter_3d(dfT, x='quantity',y='discountedSellingPrice',z='mrp', color='availableQuantity', title=f'{value}', color_continuous_scale='oryel')\n",
    "    fig3dScatter.update_layout(height=750).update_traces(marker=dict(size=8, symbol=\"diamond\", line=dict(width=2, color=\"DarkSlateGrey\")),selector=dict(mode=\"markers\")).show()"
   ],
   "id": "40c9d4b9d9d6fd26",
   "outputs": [
    {
     "data": {
      "application/vnd.plotly.v1+json": {
       "data": [
        {
         "hovertemplate": "quantity=%{x}<br>discountedSellingPrice=%{y}<br>mrp=%{z}<br>availableQuantity=%{marker.color}<extra></extra>",
         "legendgroup": "",
         "marker": {
          "color": {
           "dtype": "i1",
           "bdata": "AwMDAwMDAwMDAwMDAwMDAwMDAwMDAwMDAwMDAwMDAwMDAwMDAwMDAwMDAwMDAwMDAwMDBgYDAwMDAwMGAwMDAwMCAwMDAwMGAwYGAwICAwIDAwMDAwAAAAA="
          },
          "coloraxis": "coloraxis",
          "symbol": "diamond",
          "line": {
           "color": "DarkSlateGrey",
           "width": 2
          },
          "size": 8
         },
         "mode": "markers",
         "name": "",
         "scene": "scene",
         "showlegend": false,
         "x": {
          "dtype": "i2",
          "bdata": "AQABAAEAZAD6AAEAyAABAPoAZAAGAGQAAQDIAPoAAQABAPoA9AEGAAQAZAD6AAEABgABADIAAQD6AAEABAD6APoAAgD6AAIAAgACAPQB+gAEAAQA+gD6AAQA+gBkAPoAyAD6APoA9AH0AcgA9AHIAAIAAQD0AQQAAQBkAGQA9AHIAGQAAgACAGQA9AH6APQByAD0AfQBAQABACwB+gABAPoA9AH0AfQByADIAPQByAABAA=="
         },
         "y": {
          "dtype": "i2",
          "bdata": "NAisDcwQpAawBFQLnBgkE2wHQAZgCYQDmAiwBEAGrA0UBcQJuAvECfQahAPwCpgIJBO4C0wEQAY0CJQRfC7cBdwFuAvcBawmxCLECUAGjAqUETQ6jArECRw+xAlsB1QLVAtUC6wNpAZgCVQLgAxMHZQRDBesDXwu3B6kBngFxAk8DyQT9BoMF6QGiBMkE5QRxAmUEWwHNDroAzQIpAYEKRwMFAU0CNwFFAVUC0QWPA9gOw=="
         },
         "z": {
          "dtype": "i2",
          "bdata": "xAloEOwT0Ad4BawNTB2oFvwIbAdUC0wEKAp4BWwHaBDcBbgLEA64CwggTATkDCgKqBYQDhQFbAfECRgVeDcIBwgHEA4IBxguaCm4C2wHgAwYFSRFgAy4C9RJuAv8CKwNrA2sDWgQ0AdUC6wN2A7EIhgVWBtoEHg3uCTQB6QGuAv4EagWCCBYG9AHcBeoFhgVuAsYFfwIJEWwBMQJ0Af4KnQOQAYoCmwHpAasDXAXBBCAPg=="
         },
         "type": "scatter3d"
        }
       ],
       "layout": {
        "template": {
         "data": {
          "histogram2dcontour": [
           {
            "type": "histogram2dcontour",
            "colorbar": {
             "outlinewidth": 0,
             "ticks": ""
            },
            "colorscale": [
             [
              0.0,
              "#0d0887"
             ],
             [
              0.1111111111111111,
              "#46039f"
             ],
             [
              0.2222222222222222,
              "#7201a8"
             ],
             [
              0.3333333333333333,
              "#9c179e"
             ],
             [
              0.4444444444444444,
              "#bd3786"
             ],
             [
              0.5555555555555556,
              "#d8576b"
             ],
             [
              0.6666666666666666,
              "#ed7953"
             ],
             [
              0.7777777777777778,
              "#fb9f3a"
             ],
             [
              0.8888888888888888,
              "#fdca26"
             ],
             [
              1.0,
              "#f0f921"
             ]
            ]
           }
          ],
          "choropleth": [
           {
            "type": "choropleth",
            "colorbar": {
             "outlinewidth": 0,
             "ticks": ""
            }
           }
          ],
          "histogram2d": [
           {
            "type": "histogram2d",
            "colorbar": {
             "outlinewidth": 0,
             "ticks": ""
            },
            "colorscale": [
             [
              0.0,
              "#0d0887"
             ],
             [
              0.1111111111111111,
              "#46039f"
             ],
             [
              0.2222222222222222,
              "#7201a8"
             ],
             [
              0.3333333333333333,
              "#9c179e"
             ],
             [
              0.4444444444444444,
              "#bd3786"
             ],
             [
              0.5555555555555556,
              "#d8576b"
             ],
             [
              0.6666666666666666,
              "#ed7953"
             ],
             [
              0.7777777777777778,
              "#fb9f3a"
             ],
             [
              0.8888888888888888,
              "#fdca26"
             ],
             [
              1.0,
              "#f0f921"
             ]
            ]
           }
          ],
          "heatmap": [
           {
            "type": "heatmap",
            "colorbar": {
             "outlinewidth": 0,
             "ticks": ""
            },
            "colorscale": [
             [
              0.0,
              "#0d0887"
             ],
             [
              0.1111111111111111,
              "#46039f"
             ],
             [
              0.2222222222222222,
              "#7201a8"
             ],
             [
              0.3333333333333333,
              "#9c179e"
             ],
             [
              0.4444444444444444,
              "#bd3786"
             ],
             [
              0.5555555555555556,
              "#d8576b"
             ],
             [
              0.6666666666666666,
              "#ed7953"
             ],
             [
              0.7777777777777778,
              "#fb9f3a"
             ],
             [
              0.8888888888888888,
              "#fdca26"
             ],
             [
              1.0,
              "#f0f921"
             ]
            ]
           }
          ],
          "contourcarpet": [
           {
            "type": "contourcarpet",
            "colorbar": {
             "outlinewidth": 0,
             "ticks": ""
            }
           }
          ],
          "contour": [
           {
            "type": "contour",
            "colorbar": {
             "outlinewidth": 0,
             "ticks": ""
            },
            "colorscale": [
             [
              0.0,
              "#0d0887"
             ],
             [
              0.1111111111111111,
              "#46039f"
             ],
             [
              0.2222222222222222,
              "#7201a8"
             ],
             [
              0.3333333333333333,
              "#9c179e"
             ],
             [
              0.4444444444444444,
              "#bd3786"
             ],
             [
              0.5555555555555556,
              "#d8576b"
             ],
             [
              0.6666666666666666,
              "#ed7953"
             ],
             [
              0.7777777777777778,
              "#fb9f3a"
             ],
             [
              0.8888888888888888,
              "#fdca26"
             ],
             [
              1.0,
              "#f0f921"
             ]
            ]
           }
          ],
          "surface": [
           {
            "type": "surface",
            "colorbar": {
             "outlinewidth": 0,
             "ticks": ""
            },
            "colorscale": [
             [
              0.0,
              "#0d0887"
             ],
             [
              0.1111111111111111,
              "#46039f"
             ],
             [
              0.2222222222222222,
              "#7201a8"
             ],
             [
              0.3333333333333333,
              "#9c179e"
             ],
             [
              0.4444444444444444,
              "#bd3786"
             ],
             [
              0.5555555555555556,
              "#d8576b"
             ],
             [
              0.6666666666666666,
              "#ed7953"
             ],
             [
              0.7777777777777778,
              "#fb9f3a"
             ],
             [
              0.8888888888888888,
              "#fdca26"
             ],
             [
              1.0,
              "#f0f921"
             ]
            ]
           }
          ],
          "mesh3d": [
           {
            "type": "mesh3d",
            "colorbar": {
             "outlinewidth": 0,
             "ticks": ""
            }
           }
          ],
          "scatter": [
           {
            "marker": {
             "line": {
              "color": "#283442"
             }
            },
            "type": "scatter"
           }
          ],
          "parcoords": [
           {
            "type": "parcoords",
            "line": {
             "colorbar": {
              "outlinewidth": 0,
              "ticks": ""
             }
            }
           }
          ],
          "scatterpolargl": [
           {
            "type": "scatterpolargl",
            "marker": {
             "colorbar": {
              "outlinewidth": 0,
              "ticks": ""
             }
            }
           }
          ],
          "bar": [
           {
            "error_x": {
             "color": "#f2f5fa"
            },
            "error_y": {
             "color": "#f2f5fa"
            },
            "marker": {
             "line": {
              "color": "rgb(17,17,17)",
              "width": 0.5
             },
             "pattern": {
              "fillmode": "overlay",
              "size": 10,
              "solidity": 0.2
             }
            },
            "type": "bar"
           }
          ],
          "scattergeo": [
           {
            "type": "scattergeo",
            "marker": {
             "colorbar": {
              "outlinewidth": 0,
              "ticks": ""
             }
            }
           }
          ],
          "scatterpolar": [
           {
            "type": "scatterpolar",
            "marker": {
             "colorbar": {
              "outlinewidth": 0,
              "ticks": ""
             }
            }
           }
          ],
          "histogram": [
           {
            "marker": {
             "pattern": {
              "fillmode": "overlay",
              "size": 10,
              "solidity": 0.2
             }
            },
            "type": "histogram"
           }
          ],
          "scattergl": [
           {
            "marker": {
             "line": {
              "color": "#283442"
             }
            },
            "type": "scattergl"
           }
          ],
          "scatter3d": [
           {
            "type": "scatter3d",
            "line": {
             "colorbar": {
              "outlinewidth": 0,
              "ticks": ""
             }
            },
            "marker": {
             "colorbar": {
              "outlinewidth": 0,
              "ticks": ""
             }
            }
           }
          ],
          "scattermap": [
           {
            "type": "scattermap",
            "marker": {
             "colorbar": {
              "outlinewidth": 0,
              "ticks": ""
             }
            }
           }
          ],
          "scattermapbox": [
           {
            "type": "scattermapbox",
            "marker": {
             "colorbar": {
              "outlinewidth": 0,
              "ticks": ""
             }
            }
           }
          ],
          "scatterternary": [
           {
            "type": "scatterternary",
            "marker": {
             "colorbar": {
              "outlinewidth": 0,
              "ticks": ""
             }
            }
           }
          ],
          "scattercarpet": [
           {
            "type": "scattercarpet",
            "marker": {
             "colorbar": {
              "outlinewidth": 0,
              "ticks": ""
             }
            }
           }
          ],
          "carpet": [
           {
            "aaxis": {
             "endlinecolor": "#A2B1C6",
             "gridcolor": "#506784",
             "linecolor": "#506784",
             "minorgridcolor": "#506784",
             "startlinecolor": "#A2B1C6"
            },
            "baxis": {
             "endlinecolor": "#A2B1C6",
             "gridcolor": "#506784",
             "linecolor": "#506784",
             "minorgridcolor": "#506784",
             "startlinecolor": "#A2B1C6"
            },
            "type": "carpet"
           }
          ],
          "table": [
           {
            "cells": {
             "fill": {
              "color": "#506784"
             },
             "line": {
              "color": "rgb(17,17,17)"
             }
            },
            "header": {
             "fill": {
              "color": "#2a3f5f"
             },
             "line": {
              "color": "rgb(17,17,17)"
             }
            },
            "type": "table"
           }
          ],
          "barpolar": [
           {
            "marker": {
             "line": {
              "color": "rgb(17,17,17)",
              "width": 0.5
             },
             "pattern": {
              "fillmode": "overlay",
              "size": 10,
              "solidity": 0.2
             }
            },
            "type": "barpolar"
           }
          ],
          "pie": [
           {
            "automargin": true,
            "type": "pie"
           }
          ]
         },
         "layout": {
          "autotypenumbers": "strict",
          "colorway": [
           "#636efa",
           "#EF553B",
           "#00cc96",
           "#ab63fa",
           "#FFA15A",
           "#19d3f3",
           "#FF6692",
           "#B6E880",
           "#FF97FF",
           "#FECB52"
          ],
          "font": {
           "color": "#f2f5fa"
          },
          "hovermode": "closest",
          "hoverlabel": {
           "align": "left"
          },
          "paper_bgcolor": "rgb(17,17,17)",
          "plot_bgcolor": "rgb(17,17,17)",
          "polar": {
           "bgcolor": "rgb(17,17,17)",
           "angularaxis": {
            "gridcolor": "#506784",
            "linecolor": "#506784",
            "ticks": ""
           },
           "radialaxis": {
            "gridcolor": "#506784",
            "linecolor": "#506784",
            "ticks": ""
           }
          },
          "ternary": {
           "bgcolor": "rgb(17,17,17)",
           "aaxis": {
            "gridcolor": "#506784",
            "linecolor": "#506784",
            "ticks": ""
           },
           "baxis": {
            "gridcolor": "#506784",
            "linecolor": "#506784",
            "ticks": ""
           },
           "caxis": {
            "gridcolor": "#506784",
            "linecolor": "#506784",
            "ticks": ""
           }
          },
          "coloraxis": {
           "colorbar": {
            "outlinewidth": 0,
            "ticks": ""
           }
          },
          "colorscale": {
           "sequential": [
            [
             0.0,
             "#0d0887"
            ],
            [
             0.1111111111111111,
             "#46039f"
            ],
            [
             0.2222222222222222,
             "#7201a8"
            ],
            [
             0.3333333333333333,
             "#9c179e"
            ],
            [
             0.4444444444444444,
             "#bd3786"
            ],
            [
             0.5555555555555556,
             "#d8576b"
            ],
            [
             0.6666666666666666,
             "#ed7953"
            ],
            [
             0.7777777777777778,
             "#fb9f3a"
            ],
            [
             0.8888888888888888,
             "#fdca26"
            ],
            [
             1.0,
             "#f0f921"
            ]
           ],
           "sequentialminus": [
            [
             0.0,
             "#0d0887"
            ],
            [
             0.1111111111111111,
             "#46039f"
            ],
            [
             0.2222222222222222,
             "#7201a8"
            ],
            [
             0.3333333333333333,
             "#9c179e"
            ],
            [
             0.4444444444444444,
             "#bd3786"
            ],
            [
             0.5555555555555556,
             "#d8576b"
            ],
            [
             0.6666666666666666,
             "#ed7953"
            ],
            [
             0.7777777777777778,
             "#fb9f3a"
            ],
            [
             0.8888888888888888,
             "#fdca26"
            ],
            [
             1.0,
             "#f0f921"
            ]
           ],
           "diverging": [
            [
             0,
             "#8e0152"
            ],
            [
             0.1,
             "#c51b7d"
            ],
            [
             0.2,
             "#de77ae"
            ],
            [
             0.3,
             "#f1b6da"
            ],
            [
             0.4,
             "#fde0ef"
            ],
            [
             0.5,
             "#f7f7f7"
            ],
            [
             0.6,
             "#e6f5d0"
            ],
            [
             0.7,
             "#b8e186"
            ],
            [
             0.8,
             "#7fbc41"
            ],
            [
             0.9,
             "#4d9221"
            ],
            [
             1,
             "#276419"
            ]
           ]
          },
          "xaxis": {
           "gridcolor": "#283442",
           "linecolor": "#506784",
           "ticks": "",
           "title": {
            "standoff": 15
           },
           "zerolinecolor": "#283442",
           "automargin": true,
           "zerolinewidth": 2
          },
          "yaxis": {
           "gridcolor": "#283442",
           "linecolor": "#506784",
           "ticks": "",
           "title": {
            "standoff": 15
           },
           "zerolinecolor": "#283442",
           "automargin": true,
           "zerolinewidth": 2
          },
          "scene": {
           "xaxis": {
            "backgroundcolor": "rgb(17,17,17)",
            "gridcolor": "#506784",
            "linecolor": "#506784",
            "showbackground": true,
            "ticks": "",
            "zerolinecolor": "#C8D4E3",
            "gridwidth": 2
           },
           "yaxis": {
            "backgroundcolor": "rgb(17,17,17)",
            "gridcolor": "#506784",
            "linecolor": "#506784",
            "showbackground": true,
            "ticks": "",
            "zerolinecolor": "#C8D4E3",
            "gridwidth": 2
           },
           "zaxis": {
            "backgroundcolor": "rgb(17,17,17)",
            "gridcolor": "#506784",
            "linecolor": "#506784",
            "showbackground": true,
            "ticks": "",
            "zerolinecolor": "#C8D4E3",
            "gridwidth": 2
           }
          },
          "shapedefaults": {
           "line": {
            "color": "#f2f5fa"
           }
          },
          "annotationdefaults": {
           "arrowcolor": "#f2f5fa",
           "arrowhead": 0,
           "arrowwidth": 1
          },
          "geo": {
           "bgcolor": "rgb(17,17,17)",
           "landcolor": "rgb(17,17,17)",
           "subunitcolor": "#506784",
           "showland": true,
           "showlakes": true,
           "lakecolor": "rgb(17,17,17)"
          },
          "title": {
           "x": 0.05
          },
          "updatemenudefaults": {
           "bgcolor": "#506784",
           "borderwidth": 0
          },
          "sliderdefaults": {
           "bgcolor": "#C8D4E3",
           "borderwidth": 1,
           "bordercolor": "rgb(17,17,17)",
           "tickwidth": 0
          },
          "mapbox": {
           "style": "dark"
          }
         }
        },
        "scene": {
         "domain": {
          "x": [
           0.0,
           1.0
          ],
          "y": [
           0.0,
           1.0
          ]
         },
         "xaxis": {
          "title": {
           "text": "quantity"
          }
         },
         "yaxis": {
          "title": {
           "text": "discountedSellingPrice"
          }
         },
         "zaxis": {
          "title": {
           "text": "mrp"
          }
         }
        },
        "coloraxis": {
         "colorbar": {
          "title": {
           "text": "availableQuantity"
          }
         },
         "colorscale": [
          [
           0.0,
           "rgb(236, 218, 154)"
          ],
          [
           0.16666666666666666,
           "rgb(239, 196, 126)"
          ],
          [
           0.3333333333333333,
           "rgb(243, 173, 106)"
          ],
          [
           0.5,
           "rgb(247, 148, 93)"
          ],
          [
           0.6666666666666666,
           "rgb(249, 123, 87)"
          ],
          [
           0.8333333333333334,
           "rgb(246, 99, 86)"
          ],
          [
           1.0,
           "rgb(238, 77, 90)"
          ]
         ]
        },
        "legend": {
         "tracegroupgap": 0
        },
        "title": {
         "text": "Fruits & Vegetables"
        },
        "height": 750
       },
       "config": {
        "plotlyServerURL": "https://plot.ly"
       }
      }
     },
     "metadata": {},
     "output_type": "display_data"
    },
    {
     "data": {
      "application/vnd.plotly.v1+json": {
       "data": [
        {
         "hovertemplate": "quantity=%{x}<br>discountedSellingPrice=%{y}<br>mrp=%{z}<br>availableQuantity=%{marker.color}<extra></extra>",
         "legendgroup": "",
         "marker": {
          "color": {
           "dtype": "i1",
           "bdata": "BgYGBAYGBgQGBgYGBgYEBgMGAgYGBAYGBgEGBgMDBgYEBgQGAQYGBgYCBgYGAwYEBgMGBAYFBQYCBgMGBAIGBgEGAQYGBAYGBgMGBAYGBgICBgYGBgMBAgYEBQYEAQUGBgYDBgYFBgMCBgUFAgYGAQQCBgYGBgIBAQIFAgYGAQMCBgYFBgQBBgYCBAYEBAUDBAUGBQEGBgYFAQYGAQYDBQIGBgYGBAEGBgYCBgICBgYGAQMBBgIGBQYGBQYDAgMCBAMDBgYGBgYGBgQGBgYGAwMGBgYBBgUGBgYEBQMEBAMGBgUDBgQFBAUEBAYCBQYGBQYGAwYDBQQGBgUFBgYFBAYEBgEFAQYFAgYGBgYFBgMFBAYGBgEFBAYGBgUDBQUFBgYGBgUEBgIGBQYEBQUGBAYFBAUGBgUGBAIGBgYGBgYCBQYGBgUGBgYGBgUGBgEGBgUGBgYGBgYGAwYGBgYGBgYEBgYGBgYGBgYGBAUCBgYGBgQFBgYGBgYGAQYEBQYGBgYGBgYGBgYGBgYGBgYDBgEGBgYEBgYGBgIGBgYGBgYGBAYBAAAAAAAAAAAAAAAAAAAAAAAAAAAAAAAAAAAAAAAAAAAAAAAAAAAAAAAAAAAAAAAAAAAAAAAAAAAAAA=="
          },
          "coloraxis": "coloraxis",
          "symbol": "diamond",
          "line": {
           "color": "DarkSlateGrey",
           "width": 2
          },
          "size": 8
         },
         "mode": "markers",
         "name": "",
         "scene": "scene",
         "showlegend": false,
         "x": {
          "dtype": "i2",
          "bdata": "RgABAAEADAABAAUA9AEGAAEAAQAFAAEAAQAKAAEAAQABAMIBAQAFADIA9AEBAAUA9AH0AQUAyAA8AGQAPAD0AfQBAQBkAAEARgABAAEAJgDIAJABBQABAAEAZABkAMgABQDwAAUABgAFAAEAZABkAAEA9AFkAGQAMgD0AZABCgAyAAEA+gAyAPoAMgD0AfQBZAD0AcgA9AH6APQB9AFkAGQAkAEBAAEAyAD0AfQBMgBkAAEA9AECAJAB9AFkAPQB9AHIAAQB9AE8AMgA9AH0AfQBZADIAPQByAD0ATIAyABkAGQAZADhAPQB9AH0ARgBMgAoAPQBPAAFAKUAbwIBAPAAyAA8ADwAqALIAGQA+gDIAPQB9AEZAAEAAgD0AQEA9AEJAPQBMgD0ARQAMgBQADIAZAD0AcgA8AD0AWQAZAAuAMgAFAD6ADIAAQAyAMgAMADIAAEAMgBGABQAyAD0AWQAMgABAEEAAQDIAPQBAQD0AZYAZAD0AWQAFAD0ATIAPACVAWQABQDIAMgAMgAYATIAZAD0ATIAMgD0ATYA9AEqAGQA9AH0AfoASwD0AQEAWgBaAPQB+gCQAfQByAD6ABkAZAAyAMgAMgCQATIA8ABkAAEAZACfAMIBZABkAGgBBQABAGQA9AH0AfQBAQDwAPQBAQAZABQAlgAcAvQByAD6APQByACQATwAKAD0AR0ByAAwAGQAZAD0AfQByAAUAAEALAEBAPQByAAYAUYA9AEJAcgA9AHIAPQBZABkAGQAZADIAB0BPAD0AWQA9AHuAvQByABkAPoA9AFkAMgA4QBaAGQAAQBQABQAyAD0AQEA9AFkAPQBLQBQAPQBCALIADIAoAD0AbQAyABkAJAByABkAPQBAQABADwACAEyAJYAUAD0ATwAHQH0AWQA9AH0ASMAyADIAPQBSwDIALQAFAD6AJAB9AEFAJABAQCWAPoAyACEA/QByABQALYD9AH0AQ4A9AFQAPQByAABADIAZABkAA4BTQD0AfQBkAECAPQBmgHhAMIBZAAyAPQBBQD0AWQA9AHbAQIAFABkAAUAFAD0AR4A9AEcAB0B9AGWAAEA9AFkAEsAZABaAPQBZADIAGQAUAAtAMgAAQAFAPQBAQBIAAEAGAFkAAUA9AEBAGQAZADIAGQA9AEBAPQB9AH0AfQBFABkAPQBWAImAPQBZAABADIAMgBGAGQAAQAyAAEA9AH0AfAAyAABADACyAD0AVAA9AEBAAEALAFBAPQBZAD6AMgAAQAYAfoAAAA="
         },
         "y": {
          "dtype": "i4",
          "bdata": "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"
         },
         "z": {
          "dtype": "i4",
          "bdata": "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"
         },
         "type": "scatter3d"
        }
       ],
       "layout": {
        "template": {
         "data": {
          "histogram2dcontour": [
           {
            "type": "histogram2dcontour",
            "colorbar": {
             "outlinewidth": 0,
             "ticks": ""
            },
            "colorscale": [
             [
              0.0,
              "#0d0887"
             ],
             [
              0.1111111111111111,
              "#46039f"
             ],
             [
              0.2222222222222222,
              "#7201a8"
             ],
             [
              0.3333333333333333,
              "#9c179e"
             ],
             [
              0.4444444444444444,
              "#bd3786"
             ],
             [
              0.5555555555555556,
              "#d8576b"
             ],
             [
              0.6666666666666666,
              "#ed7953"
             ],
             [
              0.7777777777777778,
              "#fb9f3a"
             ],
             [
              0.8888888888888888,
              "#fdca26"
             ],
             [
              1.0,
              "#f0f921"
             ]
            ]
           }
          ],
          "choropleth": [
           {
            "type": "choropleth",
            "colorbar": {
             "outlinewidth": 0,
             "ticks": ""
            }
           }
          ],
          "histogram2d": [
           {
            "type": "histogram2d",
            "colorbar": {
             "outlinewidth": 0,
             "ticks": ""
            },
            "colorscale": [
             [
              0.0,
              "#0d0887"
             ],
             [
              0.1111111111111111,
              "#46039f"
             ],
             [
              0.2222222222222222,
              "#7201a8"
             ],
             [
              0.3333333333333333,
              "#9c179e"
             ],
             [
              0.4444444444444444,
              "#bd3786"
             ],
             [
              0.5555555555555556,
              "#d8576b"
             ],
             [
              0.6666666666666666,
              "#ed7953"
             ],
             [
              0.7777777777777778,
              "#fb9f3a"
             ],
             [
              0.8888888888888888,
              "#fdca26"
             ],
             [
              1.0,
              "#f0f921"
             ]
            ]
           }
          ],
          "heatmap": [
           {
            "type": "heatmap",
            "colorbar": {
             "outlinewidth": 0,
             "ticks": ""
            },
            "colorscale": [
             [
              0.0,
              "#0d0887"
             ],
             [
              0.1111111111111111,
              "#46039f"
             ],
             [
              0.2222222222222222,
              "#7201a8"
             ],
             [
              0.3333333333333333,
              "#9c179e"
             ],
             [
              0.4444444444444444,
              "#bd3786"
             ],
             [
              0.5555555555555556,
              "#d8576b"
             ],
             [
              0.6666666666666666,
              "#ed7953"
             ],
             [
              0.7777777777777778,
              "#fb9f3a"
             ],
             [
              0.8888888888888888,
              "#fdca26"
             ],
             [
              1.0,
              "#f0f921"
             ]
            ]
           }
          ],
          "contourcarpet": [
           {
            "type": "contourcarpet",
            "colorbar": {
             "outlinewidth": 0,
             "ticks": ""
            }
           }
          ],
          "contour": [
           {
            "type": "contour",
            "colorbar": {
             "outlinewidth": 0,
             "ticks": ""
            },
            "colorscale": [
             [
              0.0,
              "#0d0887"
             ],
             [
              0.1111111111111111,
              "#46039f"
             ],
             [
              0.2222222222222222,
              "#7201a8"
             ],
             [
              0.3333333333333333,
              "#9c179e"
             ],
             [
              0.4444444444444444,
              "#bd3786"
             ],
             [
              0.5555555555555556,
              "#d8576b"
             ],
             [
              0.6666666666666666,
              "#ed7953"
             ],
             [
              0.7777777777777778,
              "#fb9f3a"
             ],
             [
              0.8888888888888888,
              "#fdca26"
             ],
             [
              1.0,
              "#f0f921"
             ]
            ]
           }
          ],
          "surface": [
           {
            "type": "surface",
            "colorbar": {
             "outlinewidth": 0,
             "ticks": ""
            },
            "colorscale": [
             [
              0.0,
              "#0d0887"
             ],
             [
              0.1111111111111111,
              "#46039f"
             ],
             [
              0.2222222222222222,
              "#7201a8"
             ],
             [
              0.3333333333333333,
              "#9c179e"
             ],
             [
              0.4444444444444444,
              "#bd3786"
             ],
             [
              0.5555555555555556,
              "#d8576b"
             ],
             [
              0.6666666666666666,
              "#ed7953"
             ],
             [
              0.7777777777777778,
              "#fb9f3a"
             ],
             [
              0.8888888888888888,
              "#fdca26"
             ],
             [
              1.0,
              "#f0f921"
             ]
            ]
           }
          ],
          "mesh3d": [
           {
            "type": "mesh3d",
            "colorbar": {
             "outlinewidth": 0,
             "ticks": ""
            }
           }
          ],
          "scatter": [
           {
            "marker": {
             "line": {
              "color": "#283442"
             }
            },
            "type": "scatter"
           }
          ],
          "parcoords": [
           {
            "type": "parcoords",
            "line": {
             "colorbar": {
              "outlinewidth": 0,
              "ticks": ""
             }
            }
           }
          ],
          "scatterpolargl": [
           {
            "type": "scatterpolargl",
            "marker": {
             "colorbar": {
              "outlinewidth": 0,
              "ticks": ""
             }
            }
           }
          ],
          "bar": [
           {
            "error_x": {
             "color": "#f2f5fa"
            },
            "error_y": {
             "color": "#f2f5fa"
            },
            "marker": {
             "line": {
              "color": "rgb(17,17,17)",
              "width": 0.5
             },
             "pattern": {
              "fillmode": "overlay",
              "size": 10,
              "solidity": 0.2
             }
            },
            "type": "bar"
           }
          ],
          "scattergeo": [
           {
            "type": "scattergeo",
            "marker": {
             "colorbar": {
              "outlinewidth": 0,
              "ticks": ""
             }
            }
           }
          ],
          "scatterpolar": [
           {
            "type": "scatterpolar",
            "marker": {
             "colorbar": {
              "outlinewidth": 0,
              "ticks": ""
             }
            }
           }
          ],
          "histogram": [
           {
            "marker": {
             "pattern": {
              "fillmode": "overlay",
              "size": 10,
              "solidity": 0.2
             }
            },
            "type": "histogram"
           }
          ],
          "scattergl": [
           {
            "marker": {
             "line": {
              "color": "#283442"
             }
            },
            "type": "scattergl"
           }
          ],
          "scatter3d": [
           {
            "type": "scatter3d",
            "line": {
             "colorbar": {
              "outlinewidth": 0,
              "ticks": ""
             }
            },
            "marker": {
             "colorbar": {
              "outlinewidth": 0,
              "ticks": ""
             }
            }
           }
          ],
          "scattermap": [
           {
            "type": "scattermap",
            "marker": {
             "colorbar": {
              "outlinewidth": 0,
              "ticks": ""
             }
            }
           }
          ],
          "scattermapbox": [
           {
            "type": "scattermapbox",
            "marker": {
             "colorbar": {
              "outlinewidth": 0,
              "ticks": ""
             }
            }
           }
          ],
          "scatterternary": [
           {
            "type": "scatterternary",
            "marker": {
             "colorbar": {
              "outlinewidth": 0,
              "ticks": ""
             }
            }
           }
          ],
          "scattercarpet": [
           {
            "type": "scattercarpet",
            "marker": {
             "colorbar": {
              "outlinewidth": 0,
              "ticks": ""
             }
            }
           }
          ],
          "carpet": [
           {
            "aaxis": {
             "endlinecolor": "#A2B1C6",
             "gridcolor": "#506784",
             "linecolor": "#506784",
             "minorgridcolor": "#506784",
             "startlinecolor": "#A2B1C6"
            },
            "baxis": {
             "endlinecolor": "#A2B1C6",
             "gridcolor": "#506784",
             "linecolor": "#506784",
             "minorgridcolor": "#506784",
             "startlinecolor": "#A2B1C6"
            },
            "type": "carpet"
           }
          ],
          "table": [
           {
            "cells": {
             "fill": {
              "color": "#506784"
             },
             "line": {
              "color": "rgb(17,17,17)"
             }
            },
            "header": {
             "fill": {
              "color": "#2a3f5f"
             },
             "line": {
              "color": "rgb(17,17,17)"
             }
            },
            "type": "table"
           }
          ],
          "barpolar": [
           {
            "marker": {
             "line": {
              "color": "rgb(17,17,17)",
              "width": 0.5
             },
             "pattern": {
              "fillmode": "overlay",
              "size": 10,
              "solidity": 0.2
             }
            },
            "type": "barpolar"
           }
          ],
          "pie": [
           {
            "automargin": true,
            "type": "pie"
           }
          ]
         },
         "layout": {
          "autotypenumbers": "strict",
          "colorway": [
           "#636efa",
           "#EF553B",
           "#00cc96",
           "#ab63fa",
           "#FFA15A",
           "#19d3f3",
           "#FF6692",
           "#B6E880",
           "#FF97FF",
           "#FECB52"
          ],
          "font": {
           "color": "#f2f5fa"
          },
          "hovermode": "closest",
          "hoverlabel": {
           "align": "left"
          },
          "paper_bgcolor": "rgb(17,17,17)",
          "plot_bgcolor": "rgb(17,17,17)",
          "polar": {
           "bgcolor": "rgb(17,17,17)",
           "angularaxis": {
            "gridcolor": "#506784",
            "linecolor": "#506784",
            "ticks": ""
           },
           "radialaxis": {
            "gridcolor": "#506784",
            "linecolor": "#506784",
            "ticks": ""
           }
          },
          "ternary": {
           "bgcolor": "rgb(17,17,17)",
           "aaxis": {
            "gridcolor": "#506784",
            "linecolor": "#506784",
            "ticks": ""
           },
           "baxis": {
            "gridcolor": "#506784",
            "linecolor": "#506784",
            "ticks": ""
           },
           "caxis": {
            "gridcolor": "#506784",
            "linecolor": "#506784",
            "ticks": ""
           }
          },
          "coloraxis": {
           "colorbar": {
            "outlinewidth": 0,
            "ticks": ""
           }
          },
          "colorscale": {
           "sequential": [
            [
             0.0,
             "#0d0887"
            ],
            [
             0.1111111111111111,
             "#46039f"
            ],
            [
             0.2222222222222222,
             "#7201a8"
            ],
            [
             0.3333333333333333,
             "#9c179e"
            ],
            [
             0.4444444444444444,
             "#bd3786"
            ],
            [
             0.5555555555555556,
             "#d8576b"
            ],
            [
             0.6666666666666666,
             "#ed7953"
            ],
            [
             0.7777777777777778,
             "#fb9f3a"
            ],
            [
             0.8888888888888888,
             "#fdca26"
            ],
            [
             1.0,
             "#f0f921"
            ]
           ],
           "sequentialminus": [
            [
             0.0,
             "#0d0887"
            ],
            [
             0.1111111111111111,
             "#46039f"
            ],
            [
             0.2222222222222222,
             "#7201a8"
            ],
            [
             0.3333333333333333,
             "#9c179e"
            ],
            [
             0.4444444444444444,
             "#bd3786"
            ],
            [
             0.5555555555555556,
             "#d8576b"
            ],
            [
             0.6666666666666666,
             "#ed7953"
            ],
            [
             0.7777777777777778,
             "#fb9f3a"
            ],
            [
             0.8888888888888888,
             "#fdca26"
            ],
            [
             1.0,
             "#f0f921"
            ]
           ],
           "diverging": [
            [
             0,
             "#8e0152"
            ],
            [
             0.1,
             "#c51b7d"
            ],
            [
             0.2,
             "#de77ae"
            ],
            [
             0.3,
             "#f1b6da"
            ],
            [
             0.4,
             "#fde0ef"
            ],
            [
             0.5,
             "#f7f7f7"
            ],
            [
             0.6,
             "#e6f5d0"
            ],
            [
             0.7,
             "#b8e186"
            ],
            [
             0.8,
             "#7fbc41"
            ],
            [
             0.9,
             "#4d9221"
            ],
            [
             1,
             "#276419"
            ]
           ]
          },
          "xaxis": {
           "gridcolor": "#283442",
           "linecolor": "#506784",
           "ticks": "",
           "title": {
            "standoff": 15
           },
           "zerolinecolor": "#283442",
           "automargin": true,
           "zerolinewidth": 2
          },
          "yaxis": {
           "gridcolor": "#283442",
           "linecolor": "#506784",
           "ticks": "",
           "title": {
            "standoff": 15
           },
           "zerolinecolor": "#283442",
           "automargin": true,
           "zerolinewidth": 2
          },
          "scene": {
           "xaxis": {
            "backgroundcolor": "rgb(17,17,17)",
            "gridcolor": "#506784",
            "linecolor": "#506784",
            "showbackground": true,
            "ticks": "",
            "zerolinecolor": "#C8D4E3",
            "gridwidth": 2
           },
           "yaxis": {
            "backgroundcolor": "rgb(17,17,17)",
            "gridcolor": "#506784",
            "linecolor": "#506784",
            "showbackground": true,
            "ticks": "",
            "zerolinecolor": "#C8D4E3",
            "gridwidth": 2
           },
           "zaxis": {
            "backgroundcolor": "rgb(17,17,17)",
            "gridcolor": "#506784",
            "linecolor": "#506784",
            "showbackground": true,
            "ticks": "",
            "zerolinecolor": "#C8D4E3",
            "gridwidth": 2
           }
          },
          "shapedefaults": {
           "line": {
            "color": "#f2f5fa"
           }
          },
          "annotationdefaults": {
           "arrowcolor": "#f2f5fa",
           "arrowhead": 0,
           "arrowwidth": 1
          },
          "geo": {
           "bgcolor": "rgb(17,17,17)",
           "landcolor": "rgb(17,17,17)",
           "subunitcolor": "#506784",
           "showland": true,
           "showlakes": true,
           "lakecolor": "rgb(17,17,17)"
          },
          "title": {
           "x": 0.05
          },
          "updatemenudefaults": {
           "bgcolor": "#506784",
           "borderwidth": 0
          },
          "sliderdefaults": {
           "bgcolor": "#C8D4E3",
           "borderwidth": 1,
           "bordercolor": "rgb(17,17,17)",
           "tickwidth": 0
          },
          "mapbox": {
           "style": "dark"
          }
         }
        },
        "scene": {
         "domain": {
          "x": [
           0.0,
           1.0
          ],
          "y": [
           0.0,
           1.0
          ]
         },
         "xaxis": {
          "title": {
           "text": "quantity"
          }
         },
         "yaxis": {
          "title": {
           "text": "discountedSellingPrice"
          }
         },
         "zaxis": {
          "title": {
           "text": "mrp"
          }
         }
        },
        "coloraxis": {
         "colorbar": {
          "title": {
           "text": "availableQuantity"
          }
         },
         "colorscale": [
          [
           0.0,
           "rgb(236, 218, 154)"
          ],
          [
           0.16666666666666666,
           "rgb(239, 196, 126)"
          ],
          [
           0.3333333333333333,
           "rgb(243, 173, 106)"
          ],
          [
           0.5,
           "rgb(247, 148, 93)"
          ],
          [
           0.6666666666666666,
           "rgb(249, 123, 87)"
          ],
          [
           0.8333333333333334,
           "rgb(246, 99, 86)"
          ],
          [
           1.0,
           "rgb(238, 77, 90)"
          ]
         ]
        },
        "legend": {
         "tracegroupgap": 0
        },
        "title": {
         "text": "Cooking Essentials"
        },
        "height": 750
       },
       "config": {
        "plotlyServerURL": "https://plot.ly"
       }
      }
     },
     "metadata": {},
     "output_type": "display_data"
    },
    {
     "data": {
      "application/vnd.plotly.v1+json": {
       "data": [
        {
         "hovertemplate": "quantity=%{x}<br>discountedSellingPrice=%{y}<br>mrp=%{z}<br>availableQuantity=%{marker.color}<extra></extra>",
         "legendgroup": "",
         "marker": {
          "color": {
           "dtype": "i1",
           "bdata": "BAYEBgQGBAQGBgQGBAYGAwYGAQQGBgYGBAYBBgUFBgYBAQMBBgUGBAQEBgEGBgIEBgQFBAYEBgYGBgQGBgYEBgQFBgEGBgYGBgYGBgYBBgYGBAYAAAAAAAAAAAAAAAAAAAAAAAAAAAAAAAAA"
          },
          "coloraxis": "coloraxis",
          "symbol": "diamond",
          "line": {
           "color": "DarkSlateGrey",
           "width": 2
          },
          "size": 8
         },
         "mode": "markers",
         "name": "",
         "scene": "scene",
         "showlegend": false,
         "x": {
          "dtype": "i2",
          "bdata": "9AGQAfQBZABeAZABwgHCAcgAyAD6AMgAZADIAMgAZADIAJABkAGQAcgAVQD0AWQAkAFaAJYAZACQAcgAyAC0AMgA7gIGAMgAyABkAMgAyABkAAYAoACQAfQBRQHIAAEAyADIAMgAlgDIAAYAyADIAMgARQEGAMgAyADIAMgAkAHIAEUByACQAfQByAB4AEUByACQAWQAyADIAJAByABkAMgAkAG0AMgAAQD6AJABAQDIAJYAkAEsAcgAyAD6AAwAkAEBAMgARQHIAGQAjAAGAKIAyAAGAMgA"
         },
         "y": {
          "dtype": "i4",
          "bdata": "xAkAAFQLAAAcDAAAJBMAAOQMAABIDQAAlBEAAKAPAACkHwAAdCcAAJgIAABIDQAA3AUAAIQcAACsJgAApAYAAOAuAABwFwAAuAsAAHwVAABoKQAAuAsAAMBdAABEFgAAaBAAAJQRAAC4CwAApAYAAEwdAABEFgAACCAAAEAfAACgDwAAPIwAADgYAAAgHAAAoCgAADwPAAD0MwAAhDUAABwlAAA4GAAAHCUAACBOAAD4XAAA+EMAAIw8AAC8TQAAuCQAAFgbAABMHQAA5D4AANRJAAA4GAAAuCQAAPQzAABsOQAAyEsAAJAaAACENQAAhDUAAIQ1AACYOgAAeFAAANQwAABwSQAAGC4AAPA8AACgWgAAuCQAAPgqAAAwQwAAfC4AAJRcAACUXAAAJEUAANRJAAAEQgAApDgAABgVAACYOgAARGEAAPgqAACEHAAAABkAAGAJAACgDwAATB0AAKwmAAC4CwAATB0AAKwNAACgDwAANCEAALgLAAA4GAAAZBkAAMQiAAAYLgAA0DkAAAggAADQBwAAHCUAADgYAABgIgAAQB8AAHAXAABsOQAA"
         },
         "z": {
          "dtype": "i4",
          "bdata": "xAkAALgLAAAcDAAAiBMAAOQMAACsDQAAlBEAAKAPAADEIgAAaCkAAJgIAACsDQAA3AUAAEwdAAAEKQAApAYAAKgvAABwFwAAuAsAAHwVAABoKQAAuAsAALRfAAAMFwAAaBAAAJQRAAC4CwAACAcAAHgeAABwFwAANCEAADQhAACgDwAAoIwAACAcAABMHQAAlCoAAKAPAACwNgAAbGsAABAnAAAgHAAAECcAACBOAAC0XwAAzFsAAIw8AAAwdQAArCYAAFgbAABMHQAABEIAALxNAAAgHAAArCYAALA2AAA8cwAA/FMAAOAuAABsawAApDgAAGxrAACYOgAAdFkAAKhhAADMWwAA1DAAAARCAADMWwAArCYAAPgqAAD8UwAA1DAAAERhAADEhgAArIoAALxNAAAEQgAApDgAABgVAACYOgAARGEAAPgqAACwHQAAyBkAAMQJAACgDwAATB0AABAnAAC4CwAAeB4AAKwNAACgDwAANCEAALgLAAA4GAAAZBkAAMQiAADUMAAAREgAADQhAADQBwAAECcAAEwdAACsJgAAQB8AACAcAAA8cwAA"
         },
         "type": "scatter3d"
        }
       ],
       "layout": {
        "template": {
         "data": {
          "histogram2dcontour": [
           {
            "type": "histogram2dcontour",
            "colorbar": {
             "outlinewidth": 0,
             "ticks": ""
            },
            "colorscale": [
             [
              0.0,
              "#0d0887"
             ],
             [
              0.1111111111111111,
              "#46039f"
             ],
             [
              0.2222222222222222,
              "#7201a8"
             ],
             [
              0.3333333333333333,
              "#9c179e"
             ],
             [
              0.4444444444444444,
              "#bd3786"
             ],
             [
              0.5555555555555556,
              "#d8576b"
             ],
             [
              0.6666666666666666,
              "#ed7953"
             ],
             [
              0.7777777777777778,
              "#fb9f3a"
             ],
             [
              0.8888888888888888,
              "#fdca26"
             ],
             [
              1.0,
              "#f0f921"
             ]
            ]
           }
          ],
          "choropleth": [
           {
            "type": "choropleth",
            "colorbar": {
             "outlinewidth": 0,
             "ticks": ""
            }
           }
          ],
          "histogram2d": [
           {
            "type": "histogram2d",
            "colorbar": {
             "outlinewidth": 0,
             "ticks": ""
            },
            "colorscale": [
             [
              0.0,
              "#0d0887"
             ],
             [
              0.1111111111111111,
              "#46039f"
             ],
             [
              0.2222222222222222,
              "#7201a8"
             ],
             [
              0.3333333333333333,
              "#9c179e"
             ],
             [
              0.4444444444444444,
              "#bd3786"
             ],
             [
              0.5555555555555556,
              "#d8576b"
             ],
             [
              0.6666666666666666,
              "#ed7953"
             ],
             [
              0.7777777777777778,
              "#fb9f3a"
             ],
             [
              0.8888888888888888,
              "#fdca26"
             ],
             [
              1.0,
              "#f0f921"
             ]
            ]
           }
          ],
          "heatmap": [
           {
            "type": "heatmap",
            "colorbar": {
             "outlinewidth": 0,
             "ticks": ""
            },
            "colorscale": [
             [
              0.0,
              "#0d0887"
             ],
             [
              0.1111111111111111,
              "#46039f"
             ],
             [
              0.2222222222222222,
              "#7201a8"
             ],
             [
              0.3333333333333333,
              "#9c179e"
             ],
             [
              0.4444444444444444,
              "#bd3786"
             ],
             [
              0.5555555555555556,
              "#d8576b"
             ],
             [
              0.6666666666666666,
              "#ed7953"
             ],
             [
              0.7777777777777778,
              "#fb9f3a"
             ],
             [
              0.8888888888888888,
              "#fdca26"
             ],
             [
              1.0,
              "#f0f921"
             ]
            ]
           }
          ],
          "contourcarpet": [
           {
            "type": "contourcarpet",
            "colorbar": {
             "outlinewidth": 0,
             "ticks": ""
            }
           }
          ],
          "contour": [
           {
            "type": "contour",
            "colorbar": {
             "outlinewidth": 0,
             "ticks": ""
            },
            "colorscale": [
             [
              0.0,
              "#0d0887"
             ],
             [
              0.1111111111111111,
              "#46039f"
             ],
             [
              0.2222222222222222,
              "#7201a8"
             ],
             [
              0.3333333333333333,
              "#9c179e"
             ],
             [
              0.4444444444444444,
              "#bd3786"
             ],
             [
              0.5555555555555556,
              "#d8576b"
             ],
             [
              0.6666666666666666,
              "#ed7953"
             ],
             [
              0.7777777777777778,
              "#fb9f3a"
             ],
             [
              0.8888888888888888,
              "#fdca26"
             ],
             [
              1.0,
              "#f0f921"
             ]
            ]
           }
          ],
          "surface": [
           {
            "type": "surface",
            "colorbar": {
             "outlinewidth": 0,
             "ticks": ""
            },
            "colorscale": [
             [
              0.0,
              "#0d0887"
             ],
             [
              0.1111111111111111,
              "#46039f"
             ],
             [
              0.2222222222222222,
              "#7201a8"
             ],
             [
              0.3333333333333333,
              "#9c179e"
             ],
             [
              0.4444444444444444,
              "#bd3786"
             ],
             [
              0.5555555555555556,
              "#d8576b"
             ],
             [
              0.6666666666666666,
              "#ed7953"
             ],
             [
              0.7777777777777778,
              "#fb9f3a"
             ],
             [
              0.8888888888888888,
              "#fdca26"
             ],
             [
              1.0,
              "#f0f921"
             ]
            ]
           }
          ],
          "mesh3d": [
           {
            "type": "mesh3d",
            "colorbar": {
             "outlinewidth": 0,
             "ticks": ""
            }
           }
          ],
          "scatter": [
           {
            "marker": {
             "line": {
              "color": "#283442"
             }
            },
            "type": "scatter"
           }
          ],
          "parcoords": [
           {
            "type": "parcoords",
            "line": {
             "colorbar": {
              "outlinewidth": 0,
              "ticks": ""
             }
            }
           }
          ],
          "scatterpolargl": [
           {
            "type": "scatterpolargl",
            "marker": {
             "colorbar": {
              "outlinewidth": 0,
              "ticks": ""
             }
            }
           }
          ],
          "bar": [
           {
            "error_x": {
             "color": "#f2f5fa"
            },
            "error_y": {
             "color": "#f2f5fa"
            },
            "marker": {
             "line": {
              "color": "rgb(17,17,17)",
              "width": 0.5
             },
             "pattern": {
              "fillmode": "overlay",
              "size": 10,
              "solidity": 0.2
             }
            },
            "type": "bar"
           }
          ],
          "scattergeo": [
           {
            "type": "scattergeo",
            "marker": {
             "colorbar": {
              "outlinewidth": 0,
              "ticks": ""
             }
            }
           }
          ],
          "scatterpolar": [
           {
            "type": "scatterpolar",
            "marker": {
             "colorbar": {
              "outlinewidth": 0,
              "ticks": ""
             }
            }
           }
          ],
          "histogram": [
           {
            "marker": {
             "pattern": {
              "fillmode": "overlay",
              "size": 10,
              "solidity": 0.2
             }
            },
            "type": "histogram"
           }
          ],
          "scattergl": [
           {
            "marker": {
             "line": {
              "color": "#283442"
             }
            },
            "type": "scattergl"
           }
          ],
          "scatter3d": [
           {
            "type": "scatter3d",
            "line": {
             "colorbar": {
              "outlinewidth": 0,
              "ticks": ""
             }
            },
            "marker": {
             "colorbar": {
              "outlinewidth": 0,
              "ticks": ""
             }
            }
           }
          ],
          "scattermap": [
           {
            "type": "scattermap",
            "marker": {
             "colorbar": {
              "outlinewidth": 0,
              "ticks": ""
             }
            }
           }
          ],
          "scattermapbox": [
           {
            "type": "scattermapbox",
            "marker": {
             "colorbar": {
              "outlinewidth": 0,
              "ticks": ""
             }
            }
           }
          ],
          "scatterternary": [
           {
            "type": "scatterternary",
            "marker": {
             "colorbar": {
              "outlinewidth": 0,
              "ticks": ""
             }
            }
           }
          ],
          "scattercarpet": [
           {
            "type": "scattercarpet",
            "marker": {
             "colorbar": {
              "outlinewidth": 0,
              "ticks": ""
             }
            }
           }
          ],
          "carpet": [
           {
            "aaxis": {
             "endlinecolor": "#A2B1C6",
             "gridcolor": "#506784",
             "linecolor": "#506784",
             "minorgridcolor": "#506784",
             "startlinecolor": "#A2B1C6"
            },
            "baxis": {
             "endlinecolor": "#A2B1C6",
             "gridcolor": "#506784",
             "linecolor": "#506784",
             "minorgridcolor": "#506784",
             "startlinecolor": "#A2B1C6"
            },
            "type": "carpet"
           }
          ],
          "table": [
           {
            "cells": {
             "fill": {
              "color": "#506784"
             },
             "line": {
              "color": "rgb(17,17,17)"
             }
            },
            "header": {
             "fill": {
              "color": "#2a3f5f"
             },
             "line": {
              "color": "rgb(17,17,17)"
             }
            },
            "type": "table"
           }
          ],
          "barpolar": [
           {
            "marker": {
             "line": {
              "color": "rgb(17,17,17)",
              "width": 0.5
             },
             "pattern": {
              "fillmode": "overlay",
              "size": 10,
              "solidity": 0.2
             }
            },
            "type": "barpolar"
           }
          ],
          "pie": [
           {
            "automargin": true,
            "type": "pie"
           }
          ]
         },
         "layout": {
          "autotypenumbers": "strict",
          "colorway": [
           "#636efa",
           "#EF553B",
           "#00cc96",
           "#ab63fa",
           "#FFA15A",
           "#19d3f3",
           "#FF6692",
           "#B6E880",
           "#FF97FF",
           "#FECB52"
          ],
          "font": {
           "color": "#f2f5fa"
          },
          "hovermode": "closest",
          "hoverlabel": {
           "align": "left"
          },
          "paper_bgcolor": "rgb(17,17,17)",
          "plot_bgcolor": "rgb(17,17,17)",
          "polar": {
           "bgcolor": "rgb(17,17,17)",
           "angularaxis": {
            "gridcolor": "#506784",
            "linecolor": "#506784",
            "ticks": ""
           },
           "radialaxis": {
            "gridcolor": "#506784",
            "linecolor": "#506784",
            "ticks": ""
           }
          },
          "ternary": {
           "bgcolor": "rgb(17,17,17)",
           "aaxis": {
            "gridcolor": "#506784",
            "linecolor": "#506784",
            "ticks": ""
           },
           "baxis": {
            "gridcolor": "#506784",
            "linecolor": "#506784",
            "ticks": ""
           },
           "caxis": {
            "gridcolor": "#506784",
            "linecolor": "#506784",
            "ticks": ""
           }
          },
          "coloraxis": {
           "colorbar": {
            "outlinewidth": 0,
            "ticks": ""
           }
          },
          "colorscale": {
           "sequential": [
            [
             0.0,
             "#0d0887"
            ],
            [
             0.1111111111111111,
             "#46039f"
            ],
            [
             0.2222222222222222,
             "#7201a8"
            ],
            [
             0.3333333333333333,
             "#9c179e"
            ],
            [
             0.4444444444444444,
             "#bd3786"
            ],
            [
             0.5555555555555556,
             "#d8576b"
            ],
            [
             0.6666666666666666,
             "#ed7953"
            ],
            [
             0.7777777777777778,
             "#fb9f3a"
            ],
            [
             0.8888888888888888,
             "#fdca26"
            ],
            [
             1.0,
             "#f0f921"
            ]
           ],
           "sequentialminus": [
            [
             0.0,
             "#0d0887"
            ],
            [
             0.1111111111111111,
             "#46039f"
            ],
            [
             0.2222222222222222,
             "#7201a8"
            ],
            [
             0.3333333333333333,
             "#9c179e"
            ],
            [
             0.4444444444444444,
             "#bd3786"
            ],
            [
             0.5555555555555556,
             "#d8576b"
            ],
            [
             0.6666666666666666,
             "#ed7953"
            ],
            [
             0.7777777777777778,
             "#fb9f3a"
            ],
            [
             0.8888888888888888,
             "#fdca26"
            ],
            [
             1.0,
             "#f0f921"
            ]
           ],
           "diverging": [
            [
             0,
             "#8e0152"
            ],
            [
             0.1,
             "#c51b7d"
            ],
            [
             0.2,
             "#de77ae"
            ],
            [
             0.3,
             "#f1b6da"
            ],
            [
             0.4,
             "#fde0ef"
            ],
            [
             0.5,
             "#f7f7f7"
            ],
            [
             0.6,
             "#e6f5d0"
            ],
            [
             0.7,
             "#b8e186"
            ],
            [
             0.8,
             "#7fbc41"
            ],
            [
             0.9,
             "#4d9221"
            ],
            [
             1,
             "#276419"
            ]
           ]
          },
          "xaxis": {
           "gridcolor": "#283442",
           "linecolor": "#506784",
           "ticks": "",
           "title": {
            "standoff": 15
           },
           "zerolinecolor": "#283442",
           "automargin": true,
           "zerolinewidth": 2
          },
          "yaxis": {
           "gridcolor": "#283442",
           "linecolor": "#506784",
           "ticks": "",
           "title": {
            "standoff": 15
           },
           "zerolinecolor": "#283442",
           "automargin": true,
           "zerolinewidth": 2
          },
          "scene": {
           "xaxis": {
            "backgroundcolor": "rgb(17,17,17)",
            "gridcolor": "#506784",
            "linecolor": "#506784",
            "showbackground": true,
            "ticks": "",
            "zerolinecolor": "#C8D4E3",
            "gridwidth": 2
           },
           "yaxis": {
            "backgroundcolor": "rgb(17,17,17)",
            "gridcolor": "#506784",
            "linecolor": "#506784",
            "showbackground": true,
            "ticks": "",
            "zerolinecolor": "#C8D4E3",
            "gridwidth": 2
           },
           "zaxis": {
            "backgroundcolor": "rgb(17,17,17)",
            "gridcolor": "#506784",
            "linecolor": "#506784",
            "showbackground": true,
            "ticks": "",
            "zerolinecolor": "#C8D4E3",
            "gridwidth": 2
           }
          },
          "shapedefaults": {
           "line": {
            "color": "#f2f5fa"
           }
          },
          "annotationdefaults": {
           "arrowcolor": "#f2f5fa",
           "arrowhead": 0,
           "arrowwidth": 1
          },
          "geo": {
           "bgcolor": "rgb(17,17,17)",
           "landcolor": "rgb(17,17,17)",
           "subunitcolor": "#506784",
           "showland": true,
           "showlakes": true,
           "lakecolor": "rgb(17,17,17)"
          },
          "title": {
           "x": 0.05
          },
          "updatemenudefaults": {
           "bgcolor": "#506784",
           "borderwidth": 0
          },
          "sliderdefaults": {
           "bgcolor": "#C8D4E3",
           "borderwidth": 1,
           "bordercolor": "rgb(17,17,17)",
           "tickwidth": 0
          },
          "mapbox": {
           "style": "dark"
          }
         }
        },
        "scene": {
         "domain": {
          "x": [
           0.0,
           1.0
          ],
          "y": [
           0.0,
           1.0
          ]
         },
         "xaxis": {
          "title": {
           "text": "quantity"
          }
         },
         "yaxis": {
          "title": {
           "text": "discountedSellingPrice"
          }
         },
         "zaxis": {
          "title": {
           "text": "mrp"
          }
         }
        },
        "coloraxis": {
         "colorbar": {
          "title": {
           "text": "availableQuantity"
          }
         },
         "colorscale": [
          [
           0.0,
           "rgb(236, 218, 154)"
          ],
          [
           0.16666666666666666,
           "rgb(239, 196, 126)"
          ],
          [
           0.3333333333333333,
           "rgb(243, 173, 106)"
          ],
          [
           0.5,
           "rgb(247, 148, 93)"
          ],
          [
           0.6666666666666666,
           "rgb(249, 123, 87)"
          ],
          [
           0.8333333333333334,
           "rgb(246, 99, 86)"
          ],
          [
           1.0,
           "rgb(238, 77, 90)"
          ]
         ]
        },
        "legend": {
         "tracegroupgap": 0
        },
        "title": {
         "text": "Dairy, Bread & Batter"
        },
        "height": 750
       },
       "config": {
        "plotlyServerURL": "https://plot.ly"
       }
      }
     },
     "metadata": {},
     "output_type": "display_data"
    },
    {
     "data": {
      "application/vnd.plotly.v1+json": {
       "data": [
        {
         "hovertemplate": "quantity=%{x}<br>discountedSellingPrice=%{y}<br>mrp=%{z}<br>availableQuantity=%{marker.color}<extra></extra>",
         "legendgroup": "",
         "marker": {
          "color": {
           "dtype": "i1",
           "bdata": "BAYGBgYGAgEFBQQBAQYDBgEGAQYDAwIFBgYFAgIGBgEFBAYBBgYGAQYEBgYGAQQGBgYGBQQFBAYGBQEBAgYGBQYGAgYGAwYDAgQGBgQCBgYEBAMDAwYGBgUBAQUGBgEGAwYDBAEDBAMGBgEDBgYGBgYGBgEEBgUGBAIGBgQGBgYGBQUFBgYBBgYEAQMGBAUCBAYBAgUGBQYCBAICBgMEBgMGAwYFBQMGBgUFBgMGAQYBAQQGBQQFAgUFBgYGAQQGBgMGAQMBBQYEBQYFAQUGBgYGAQYCBgUGAQMBBQIGBgYFBgYGBgYGBgYFBQYGBgQEBgEGBgQGBgIGBgYGBQYGAgYEBgMFAAAAAAAAAAAAAAAAAAAAAAAAAAAAAAAAAAA="
          },
          "coloraxis": "coloraxis",
          "symbol": "diamond",
          "line": {
           "color": "DarkSlateGrey",
           "width": 2
          },
          "size": 8
         },
         "mode": "markers",
         "name": "",
         "scene": "scene",
         "showlegend": false,
         "x": {
          "dtype": "i2",
          "bdata": "kAGQAZABnwFoAZABVQCkAfoAGAEeAKQBDwD6AHcBFAD6AAEADwD0AXcB7gK0AMgAMgBaAEwEDwBVAJABNACpAV4BLAEUADIAGwAUAB4ADwDuAqoAyAAbABsA9AEcAhMBGwAsAcgAkAEmAL4AGAGQAfQBGwBBAIIA9AEsASgAGACgADQALAGQARsAGAH6AC4AyAAsAZ8BKACQASwBNACQAV4BPACQAQ8AkAH0AWgBLAHIACsA9AHgAZABkAHCAfoAlgAoAEABLgC0AMIBtAA8APQBtAABAA8AAQDwAGsDzAEsATwANQABAIEBsAQPACwBAQDSAB0BrwD6AMIBSgEoAF4BcgCzAa8AZAAYAR0BLAGQAVQBRgA3APoAHQGWAGQAyACoApABHQHIADcAvgDIAJAByAAsAZABdwH0ATIA9AGQAcgAXgFBAGgBqQH6AJABGABAAa8AwgH0AfQBkAH0AagCkAGQAeABdgLmAPoA9AGCAO4CHQH6AMgAAQAdAZABLgDuAvEAAQAUACIBrwCWALgBNwCCAFAAwgEdASwBXgGCAEYAkAGCACoANwD0AcgAHQG+AAMAHQEdAcIBPAD0ASwBUAAsAcgAWALIALQAIAMsAb4ALAHIAOAB+gCQASwBLAEsAfoA9AF3AaAArwADAMgAyADIADwAyADIAOABkAE8AJAByAA0AAEAWgCcAPQByADIACgARgDIAEYA+gA/AksASwBkADwAtgO0APQBQAGQAV4BvgD0AZAB+gDCAQ=="
         },
         "y": {
          "dtype": "i4",
          "bdata": "IBwAAFgbAAAEKQAAiCwAAFwrAABcKwAASA0AABguAABYGwAAZBkAAOQMAACILAAA6AMAAHAwAACILAAA3AUAAHAwAAAslwAA6AMAAGRLAACILAAAPEEAANxQAABEFgAAmCEAAJgIAACMhwAA6AMAAOQMAACILAAAKCMAAGQZAAB0iwAANDoAANwFAAAwEQAABBAAAJghAADkDAAA6AMAAKScAACIEwAAfBUAADARAAAwEQAA7CwAAIwjAADcHgAABBAAADQhAADgFQAAiCwAAKwNAAB8FQAAWBsAAAQpAAAkdwAAMBEAAPwIAACIEwAAECcAALg9AADAEgAAeGkAAJQRAADoHAAA9BoAALR4AAAEEAAASD8AAJghAACgDwAAiBMAAIw8AABkMgAAMBEAAGhbAAAUHgAA6BwAALR4AABELwAAaCkAADwPAADoAwAAZDIAAGh0AABcKwAAhDUAAMgyAAC0FAAANDoAAMQiAADo/QAAXCsAANhyAAC0LQAAgAwAAMASAAAgHAAAoA8AAJg6AADYcgAAADIAANwFAAAkLAAAsDYAAMQ7AADcBQAAcK0AAHAXAABIcQAAGHkAABByAADECQAAfBUAAJyVAACAPgAAoFoAANwFAAD0ZQAAsJoAAEg/AACMIwAAYCIAAIA+AADsRQAAhDUAAMASAACQZQAAADIAAABLAACwNgAAlBEAACAcAACwNgAAOEoAACQsAABIPwAA7BMAAHwVAACwHQAAwCsAALgLAAAYFQAAiBMAANhyAACILAAAFB4AAGhbAAB8FQAAnEoAANQXAABoEAAAaFsAAKgvAADQhAAAzEIAAGwgAABwFwAA9H4AAKwmAACcSgAAPHMAAMQJAACMIwAAFFAAAJg6AAAEdAAAPHMAAIQ1AACwNgAA7EUAADgxAAAAfQAAMPIAANweAACkHwAAfBUAADAqAACILAAATGgAAHAwAAB0QAAAYNEAACBOAADswgAAFB4AAIA+AADQawAAKKAAALA2AAAUaQAAoA8AAJyVAADYWQAAbOgAANwFAAD0MwAAsDYAADxBAAAEKQAAfBUAACBOAADYDgAAqGEAACg8AACAcAAAkGUAACBOAABMHQAA4C4AACBOAAB8FQAAfBUAAIBwAADUFwAAFB4AAHwVAAAI6AAAFB4AABQeAADsRQAAfC4AAJQqAAD8bAAAwCsAAOQ+AACcSgAADDAAALRfAABMHQAAuIgAAOAuAAB8FQAA+CoAAGhbAACILAAA2FkAANhZAAD4KgAA+CoAAEBqAACoYQAA6IAAALg9AADgLgAAsDYAAIDtAACcSgAAaFsAAGhbAAB8LgAAdHIAAGhbAACILAAASO4AAIwjAADYWQAAaFsAANQXAABs6AAA0AcAAOAVAACMPAAARBYAANgOAAA8DwAASA0AAEQWAADwCgAAnBgAADBcAADwCgAAYAkAAAgHAADECQAAXCsAALQUAAA4MQAAYDsAAPgqAADoZwAAfBUAALw0AAA0IQAA3B4AAKhhAAA="
         },
         "z": {
          "dtype": "i4",
          "bdata": "QB8AAEAfAAD4KgAA4C4AAOwsAAC0LQAArA0AANQwAADcHgAATB0AAKAPAADgLgAA6AMAAMgyAADgLgAA3AUAAMgyAAD4pwAA6AMAAPRMAADgLgAAXEQAAPBVAABwFwAAKCMAAJgIAABklgAA6AMAAKwNAADgLgAAECcAAJAaAABwlAAA5D4AANwFAACIEwAAfBUAACgjAACgDwAA6AMAANStAACIEwAAfBUAAHwVAAB8FQAA7CwAAIAlAADEIgAAfBUAAPgqAABwFwAA4C4AAKAPAAB8FQAATB0AAPgqAAD0fgAAfBUAAPAKAACsJgAABCkAAFxEAABwFwAAeGkAAIgTAAAQJwAA6BwAAPR+AAB8FQAAaEIAAKwmAACgDwAAfBUAAARCAADIMgAAcBcAAJBlAAA0IQAAECcAAPR+AAAUNwAA1DAAAKAPAADoAwAApDgAANyCAAB8LgAANDoAAMgyAAB8FQAAdEAAAMQiAADo/QAA4C4AAOiAAADIMgAAgAwAAHAXAABAHwAAoA8AACBOAADogAAAgD4AANwFAADUMAAAXEQAAGhCAADcBQAA7MIAAHAXAAAYeQAA6IAAABByAADECQAAfBUAAASmAABoQgAASHEAANwFAAD0ZQAA0AEBAGhCAADIMgAArCYAAARCAADsRQAANDoAAHAXAAD0fgAAmDoAAAhSAABgbQAAiBMAAEAfAAAgTgAAOEoAAHwuAABoQgAAcBcAAHwVAAA0IQAAgD4AALgLAABwFwAAfBUAAOiAAADgLgAA+CoAAGxrAAB8FQAA5FcAAGQZAABoEAAAbGsAALw0AADQhAAAOEoAAKAoAABwFwAA9H4AAKwmAADkVwAAPHMAAMQJAACMIwAA8FUAAJg6AADogAAAPHMAADQ6AABgbQAA7EUAALA2AAAAfQAAMPIAAKwmAAA0IQAAfBUAAOAuAACILAAASHEAAMgyAABESAAAbOgAACBOAADswgAA+CoAAARCAAD0fgAAKKAAACBOAADMdAAAoA8AAASmAADYWQAAbOgAANwFAACwNgAAYG0AAFxEAAAEKQAAfBUAACBOAAB8FQAAqGEAAPBVAACAcAAA9H4AACBOAABMHQAA4C4AACBOAAB8FQAAfBUAAAB9AABkGQAA+CoAAHwVAADQAQEA+CoAAPgqAADsRQAAsDYAADQ6AAD8bAAAsDYAAOQ+AADkVwAADDAAAGxrAABMHQAAuIgAALw0AAB8FQAA+CoAAGxrAACILAAA2FkAANhZAAD4KgAA+CoAAEBqAACoYQAA6IAAAFxEAADgLgAAYG0AANABAQDkVwAAbGsAAGxrAACwNgAA9H4AAGxrAACILAAASO4AAIwjAADYWQAAbGsAAGQZAABs6AAA0AcAAHAXAACMPAAAcBcAAIgTAACgDwAArA0AAHAXAAAcDAAA9BoAAIRnAAAcDAAAYAkAANAHAADECQAA4C4AAHwVAAC8NAAAgD4AAOwsAAA8cwAAfBUAALw0AAA0IQAA3B4AAKhhAAA="
         },
         "type": "scatter3d"
        }
       ],
       "layout": {
        "template": {
         "data": {
          "histogram2dcontour": [
           {
            "type": "histogram2dcontour",
            "colorbar": {
             "outlinewidth": 0,
             "ticks": ""
            },
            "colorscale": [
             [
              0.0,
              "#0d0887"
             ],
             [
              0.1111111111111111,
              "#46039f"
             ],
             [
              0.2222222222222222,
              "#7201a8"
             ],
             [
              0.3333333333333333,
              "#9c179e"
             ],
             [
              0.4444444444444444,
              "#bd3786"
             ],
             [
              0.5555555555555556,
              "#d8576b"
             ],
             [
              0.6666666666666666,
              "#ed7953"
             ],
             [
              0.7777777777777778,
              "#fb9f3a"
             ],
             [
              0.8888888888888888,
              "#fdca26"
             ],
             [
              1.0,
              "#f0f921"
             ]
            ]
           }
          ],
          "choropleth": [
           {
            "type": "choropleth",
            "colorbar": {
             "outlinewidth": 0,
             "ticks": ""
            }
           }
          ],
          "histogram2d": [
           {
            "type": "histogram2d",
            "colorbar": {
             "outlinewidth": 0,
             "ticks": ""
            },
            "colorscale": [
             [
              0.0,
              "#0d0887"
             ],
             [
              0.1111111111111111,
              "#46039f"
             ],
             [
              0.2222222222222222,
              "#7201a8"
             ],
             [
              0.3333333333333333,
              "#9c179e"
             ],
             [
              0.4444444444444444,
              "#bd3786"
             ],
             [
              0.5555555555555556,
              "#d8576b"
             ],
             [
              0.6666666666666666,
              "#ed7953"
             ],
             [
              0.7777777777777778,
              "#fb9f3a"
             ],
             [
              0.8888888888888888,
              "#fdca26"
             ],
             [
              1.0,
              "#f0f921"
             ]
            ]
           }
          ],
          "heatmap": [
           {
            "type": "heatmap",
            "colorbar": {
             "outlinewidth": 0,
             "ticks": ""
            },
            "colorscale": [
             [
              0.0,
              "#0d0887"
             ],
             [
              0.1111111111111111,
              "#46039f"
             ],
             [
              0.2222222222222222,
              "#7201a8"
             ],
             [
              0.3333333333333333,
              "#9c179e"
             ],
             [
              0.4444444444444444,
              "#bd3786"
             ],
             [
              0.5555555555555556,
              "#d8576b"
             ],
             [
              0.6666666666666666,
              "#ed7953"
             ],
             [
              0.7777777777777778,
              "#fb9f3a"
             ],
             [
              0.8888888888888888,
              "#fdca26"
             ],
             [
              1.0,
              "#f0f921"
             ]
            ]
           }
          ],
          "contourcarpet": [
           {
            "type": "contourcarpet",
            "colorbar": {
             "outlinewidth": 0,
             "ticks": ""
            }
           }
          ],
          "contour": [
           {
            "type": "contour",
            "colorbar": {
             "outlinewidth": 0,
             "ticks": ""
            },
            "colorscale": [
             [
              0.0,
              "#0d0887"
             ],
             [
              0.1111111111111111,
              "#46039f"
             ],
             [
              0.2222222222222222,
              "#7201a8"
             ],
             [
              0.3333333333333333,
              "#9c179e"
             ],
             [
              0.4444444444444444,
              "#bd3786"
             ],
             [
              0.5555555555555556,
              "#d8576b"
             ],
             [
              0.6666666666666666,
              "#ed7953"
             ],
             [
              0.7777777777777778,
              "#fb9f3a"
             ],
             [
              0.8888888888888888,
              "#fdca26"
             ],
             [
              1.0,
              "#f0f921"
             ]
            ]
           }
          ],
          "surface": [
           {
            "type": "surface",
            "colorbar": {
             "outlinewidth": 0,
             "ticks": ""
            },
            "colorscale": [
             [
              0.0,
              "#0d0887"
             ],
             [
              0.1111111111111111,
              "#46039f"
             ],
             [
              0.2222222222222222,
              "#7201a8"
             ],
             [
              0.3333333333333333,
              "#9c179e"
             ],
             [
              0.4444444444444444,
              "#bd3786"
             ],
             [
              0.5555555555555556,
              "#d8576b"
             ],
             [
              0.6666666666666666,
              "#ed7953"
             ],
             [
              0.7777777777777778,
              "#fb9f3a"
             ],
             [
              0.8888888888888888,
              "#fdca26"
             ],
             [
              1.0,
              "#f0f921"
             ]
            ]
           }
          ],
          "mesh3d": [
           {
            "type": "mesh3d",
            "colorbar": {
             "outlinewidth": 0,
             "ticks": ""
            }
           }
          ],
          "scatter": [
           {
            "marker": {
             "line": {
              "color": "#283442"
             }
            },
            "type": "scatter"
           }
          ],
          "parcoords": [
           {
            "type": "parcoords",
            "line": {
             "colorbar": {
              "outlinewidth": 0,
              "ticks": ""
             }
            }
           }
          ],
          "scatterpolargl": [
           {
            "type": "scatterpolargl",
            "marker": {
             "colorbar": {
              "outlinewidth": 0,
              "ticks": ""
             }
            }
           }
          ],
          "bar": [
           {
            "error_x": {
             "color": "#f2f5fa"
            },
            "error_y": {
             "color": "#f2f5fa"
            },
            "marker": {
             "line": {
              "color": "rgb(17,17,17)",
              "width": 0.5
             },
             "pattern": {
              "fillmode": "overlay",
              "size": 10,
              "solidity": 0.2
             }
            },
            "type": "bar"
           }
          ],
          "scattergeo": [
           {
            "type": "scattergeo",
            "marker": {
             "colorbar": {
              "outlinewidth": 0,
              "ticks": ""
             }
            }
           }
          ],
          "scatterpolar": [
           {
            "type": "scatterpolar",
            "marker": {
             "colorbar": {
              "outlinewidth": 0,
              "ticks": ""
             }
            }
           }
          ],
          "histogram": [
           {
            "marker": {
             "pattern": {
              "fillmode": "overlay",
              "size": 10,
              "solidity": 0.2
             }
            },
            "type": "histogram"
           }
          ],
          "scattergl": [
           {
            "marker": {
             "line": {
              "color": "#283442"
             }
            },
            "type": "scattergl"
           }
          ],
          "scatter3d": [
           {
            "type": "scatter3d",
            "line": {
             "colorbar": {
              "outlinewidth": 0,
              "ticks": ""
             }
            },
            "marker": {
             "colorbar": {
              "outlinewidth": 0,
              "ticks": ""
             }
            }
           }
          ],
          "scattermap": [
           {
            "type": "scattermap",
            "marker": {
             "colorbar": {
              "outlinewidth": 0,
              "ticks": ""
             }
            }
           }
          ],
          "scattermapbox": [
           {
            "type": "scattermapbox",
            "marker": {
             "colorbar": {
              "outlinewidth": 0,
              "ticks": ""
             }
            }
           }
          ],
          "scatterternary": [
           {
            "type": "scatterternary",
            "marker": {
             "colorbar": {
              "outlinewidth": 0,
              "ticks": ""
             }
            }
           }
          ],
          "scattercarpet": [
           {
            "type": "scattercarpet",
            "marker": {
             "colorbar": {
              "outlinewidth": 0,
              "ticks": ""
             }
            }
           }
          ],
          "carpet": [
           {
            "aaxis": {
             "endlinecolor": "#A2B1C6",
             "gridcolor": "#506784",
             "linecolor": "#506784",
             "minorgridcolor": "#506784",
             "startlinecolor": "#A2B1C6"
            },
            "baxis": {
             "endlinecolor": "#A2B1C6",
             "gridcolor": "#506784",
             "linecolor": "#506784",
             "minorgridcolor": "#506784",
             "startlinecolor": "#A2B1C6"
            },
            "type": "carpet"
           }
          ],
          "table": [
           {
            "cells": {
             "fill": {
              "color": "#506784"
             },
             "line": {
              "color": "rgb(17,17,17)"
             }
            },
            "header": {
             "fill": {
              "color": "#2a3f5f"
             },
             "line": {
              "color": "rgb(17,17,17)"
             }
            },
            "type": "table"
           }
          ],
          "barpolar": [
           {
            "marker": {
             "line": {
              "color": "rgb(17,17,17)",
              "width": 0.5
             },
             "pattern": {
              "fillmode": "overlay",
              "size": 10,
              "solidity": 0.2
             }
            },
            "type": "barpolar"
           }
          ],
          "pie": [
           {
            "automargin": true,
            "type": "pie"
           }
          ]
         },
         "layout": {
          "autotypenumbers": "strict",
          "colorway": [
           "#636efa",
           "#EF553B",
           "#00cc96",
           "#ab63fa",
           "#FFA15A",
           "#19d3f3",
           "#FF6692",
           "#B6E880",
           "#FF97FF",
           "#FECB52"
          ],
          "font": {
           "color": "#f2f5fa"
          },
          "hovermode": "closest",
          "hoverlabel": {
           "align": "left"
          },
          "paper_bgcolor": "rgb(17,17,17)",
          "plot_bgcolor": "rgb(17,17,17)",
          "polar": {
           "bgcolor": "rgb(17,17,17)",
           "angularaxis": {
            "gridcolor": "#506784",
            "linecolor": "#506784",
            "ticks": ""
           },
           "radialaxis": {
            "gridcolor": "#506784",
            "linecolor": "#506784",
            "ticks": ""
           }
          },
          "ternary": {
           "bgcolor": "rgb(17,17,17)",
           "aaxis": {
            "gridcolor": "#506784",
            "linecolor": "#506784",
            "ticks": ""
           },
           "baxis": {
            "gridcolor": "#506784",
            "linecolor": "#506784",
            "ticks": ""
           },
           "caxis": {
            "gridcolor": "#506784",
            "linecolor": "#506784",
            "ticks": ""
           }
          },
          "coloraxis": {
           "colorbar": {
            "outlinewidth": 0,
            "ticks": ""
           }
          },
          "colorscale": {
           "sequential": [
            [
             0.0,
             "#0d0887"
            ],
            [
             0.1111111111111111,
             "#46039f"
            ],
            [
             0.2222222222222222,
             "#7201a8"
            ],
            [
             0.3333333333333333,
             "#9c179e"
            ],
            [
             0.4444444444444444,
             "#bd3786"
            ],
            [
             0.5555555555555556,
             "#d8576b"
            ],
            [
             0.6666666666666666,
             "#ed7953"
            ],
            [
             0.7777777777777778,
             "#fb9f3a"
            ],
            [
             0.8888888888888888,
             "#fdca26"
            ],
            [
             1.0,
             "#f0f921"
            ]
           ],
           "sequentialminus": [
            [
             0.0,
             "#0d0887"
            ],
            [
             0.1111111111111111,
             "#46039f"
            ],
            [
             0.2222222222222222,
             "#7201a8"
            ],
            [
             0.3333333333333333,
             "#9c179e"
            ],
            [
             0.4444444444444444,
             "#bd3786"
            ],
            [
             0.5555555555555556,
             "#d8576b"
            ],
            [
             0.6666666666666666,
             "#ed7953"
            ],
            [
             0.7777777777777778,
             "#fb9f3a"
            ],
            [
             0.8888888888888888,
             "#fdca26"
            ],
            [
             1.0,
             "#f0f921"
            ]
           ],
           "diverging": [
            [
             0,
             "#8e0152"
            ],
            [
             0.1,
             "#c51b7d"
            ],
            [
             0.2,
             "#de77ae"
            ],
            [
             0.3,
             "#f1b6da"
            ],
            [
             0.4,
             "#fde0ef"
            ],
            [
             0.5,
             "#f7f7f7"
            ],
            [
             0.6,
             "#e6f5d0"
            ],
            [
             0.7,
             "#b8e186"
            ],
            [
             0.8,
             "#7fbc41"
            ],
            [
             0.9,
             "#4d9221"
            ],
            [
             1,
             "#276419"
            ]
           ]
          },
          "xaxis": {
           "gridcolor": "#283442",
           "linecolor": "#506784",
           "ticks": "",
           "title": {
            "standoff": 15
           },
           "zerolinecolor": "#283442",
           "automargin": true,
           "zerolinewidth": 2
          },
          "yaxis": {
           "gridcolor": "#283442",
           "linecolor": "#506784",
           "ticks": "",
           "title": {
            "standoff": 15
           },
           "zerolinecolor": "#283442",
           "automargin": true,
           "zerolinewidth": 2
          },
          "scene": {
           "xaxis": {
            "backgroundcolor": "rgb(17,17,17)",
            "gridcolor": "#506784",
            "linecolor": "#506784",
            "showbackground": true,
            "ticks": "",
            "zerolinecolor": "#C8D4E3",
            "gridwidth": 2
           },
           "yaxis": {
            "backgroundcolor": "rgb(17,17,17)",
            "gridcolor": "#506784",
            "linecolor": "#506784",
            "showbackground": true,
            "ticks": "",
            "zerolinecolor": "#C8D4E3",
            "gridwidth": 2
           },
           "zaxis": {
            "backgroundcolor": "rgb(17,17,17)",
            "gridcolor": "#506784",
            "linecolor": "#506784",
            "showbackground": true,
            "ticks": "",
            "zerolinecolor": "#C8D4E3",
            "gridwidth": 2
           }
          },
          "shapedefaults": {
           "line": {
            "color": "#f2f5fa"
           }
          },
          "annotationdefaults": {
           "arrowcolor": "#f2f5fa",
           "arrowhead": 0,
           "arrowwidth": 1
          },
          "geo": {
           "bgcolor": "rgb(17,17,17)",
           "landcolor": "rgb(17,17,17)",
           "subunitcolor": "#506784",
           "showland": true,
           "showlakes": true,
           "lakecolor": "rgb(17,17,17)"
          },
          "title": {
           "x": 0.05
          },
          "updatemenudefaults": {
           "bgcolor": "#506784",
           "borderwidth": 0
          },
          "sliderdefaults": {
           "bgcolor": "#C8D4E3",
           "borderwidth": 1,
           "bordercolor": "rgb(17,17,17)",
           "tickwidth": 0
          },
          "mapbox": {
           "style": "dark"
          }
         }
        },
        "scene": {
         "domain": {
          "x": [
           0.0,
           1.0
          ],
          "y": [
           0.0,
           1.0
          ]
         },
         "xaxis": {
          "title": {
           "text": "quantity"
          }
         },
         "yaxis": {
          "title": {
           "text": "discountedSellingPrice"
          }
         },
         "zaxis": {
          "title": {
           "text": "mrp"
          }
         }
        },
        "coloraxis": {
         "colorbar": {
          "title": {
           "text": "availableQuantity"
          }
         },
         "colorscale": [
          [
           0.0,
           "rgb(236, 218, 154)"
          ],
          [
           0.16666666666666666,
           "rgb(239, 196, 126)"
          ],
          [
           0.3333333333333333,
           "rgb(243, 173, 106)"
          ],
          [
           0.5,
           "rgb(247, 148, 93)"
          ],
          [
           0.6666666666666666,
           "rgb(249, 123, 87)"
          ],
          [
           0.8333333333333334,
           "rgb(246, 99, 86)"
          ],
          [
           1.0,
           "rgb(238, 77, 90)"
          ]
         ]
        },
        "legend": {
         "tracegroupgap": 0
        },
        "title": {
         "text": "Packaged Food"
        },
        "height": 750
       },
       "config": {
        "plotlyServerURL": "https://plot.ly"
       }
      }
     },
     "metadata": {},
     "output_type": "display_data"
    },
    {
     "data": {
      "application/vnd.plotly.v1+json": {
       "data": [
        {
         "hovertemplate": "quantity=%{x}<br>discountedSellingPrice=%{y}<br>mrp=%{z}<br>availableQuantity=%{marker.color}<extra></extra>",
         "legendgroup": "",
         "marker": {
          "color": {
           "dtype": "i1",
           "bdata": "BAMDAQYBAwEBAgIBAQIBAQMBAQEBAQEBAQAAAAAAAAA="
          },
          "coloraxis": "coloraxis",
          "symbol": "diamond",
          "line": {
           "color": "DarkSlateGrey",
           "width": 2
          },
          "size": 8
         },
         "mode": "markers",
         "name": "",
         "scene": "scene",
         "showlegend": false,
         "x": {
          "dtype": "i2",
          "bdata": "AQD6APQB9AHCAfQBwgH0AfQB9AEKAPQB9AHCAfQB9AHCAfQBCgDIAPQB9AECAPQBwgH0AcIB9AHCAcIBwgH0AQ=="
         },
         "y": {
          "dtype": "i4",
          "bdata": "eGkAAPQzAAC4PQAAqEgAAOBgAACwTwAA2FkAAAhrAAB0QAAAXF0AAFBGAABUPQAAbDkAAFRWAAC4VgAAsE8AAOBgAADsRQAAuD0AAJAaAABcwQAAqKwAANRJAAB8YAAACFIAALA2AACkOAAAsE8AAOBgAACoYQAAqGEAAHhpAAA="
         },
         "z": {
          "dtype": "i4",
          "bdata": "MHUAAKQ4AABcRAAARGEAAGxrAAD8UwAAnGMAAJx8AAB0QAAAhGcAACBOAAB0QAAALGUAALRfAAD0ZQAASHEAAGxrAABEYQAAXEQAAEwdAAAsyQAApLUAAAhSAACEgAAACFIAALA2AACkOAAA/FMAAGxrAACoYQAAqGEAAHhpAAA="
         },
         "type": "scatter3d"
        }
       ],
       "layout": {
        "template": {
         "data": {
          "histogram2dcontour": [
           {
            "type": "histogram2dcontour",
            "colorbar": {
             "outlinewidth": 0,
             "ticks": ""
            },
            "colorscale": [
             [
              0.0,
              "#0d0887"
             ],
             [
              0.1111111111111111,
              "#46039f"
             ],
             [
              0.2222222222222222,
              "#7201a8"
             ],
             [
              0.3333333333333333,
              "#9c179e"
             ],
             [
              0.4444444444444444,
              "#bd3786"
             ],
             [
              0.5555555555555556,
              "#d8576b"
             ],
             [
              0.6666666666666666,
              "#ed7953"
             ],
             [
              0.7777777777777778,
              "#fb9f3a"
             ],
             [
              0.8888888888888888,
              "#fdca26"
             ],
             [
              1.0,
              "#f0f921"
             ]
            ]
           }
          ],
          "choropleth": [
           {
            "type": "choropleth",
            "colorbar": {
             "outlinewidth": 0,
             "ticks": ""
            }
           }
          ],
          "histogram2d": [
           {
            "type": "histogram2d",
            "colorbar": {
             "outlinewidth": 0,
             "ticks": ""
            },
            "colorscale": [
             [
              0.0,
              "#0d0887"
             ],
             [
              0.1111111111111111,
              "#46039f"
             ],
             [
              0.2222222222222222,
              "#7201a8"
             ],
             [
              0.3333333333333333,
              "#9c179e"
             ],
             [
              0.4444444444444444,
              "#bd3786"
             ],
             [
              0.5555555555555556,
              "#d8576b"
             ],
             [
              0.6666666666666666,
              "#ed7953"
             ],
             [
              0.7777777777777778,
              "#fb9f3a"
             ],
             [
              0.8888888888888888,
              "#fdca26"
             ],
             [
              1.0,
              "#f0f921"
             ]
            ]
           }
          ],
          "heatmap": [
           {
            "type": "heatmap",
            "colorbar": {
             "outlinewidth": 0,
             "ticks": ""
            },
            "colorscale": [
             [
              0.0,
              "#0d0887"
             ],
             [
              0.1111111111111111,
              "#46039f"
             ],
             [
              0.2222222222222222,
              "#7201a8"
             ],
             [
              0.3333333333333333,
              "#9c179e"
             ],
             [
              0.4444444444444444,
              "#bd3786"
             ],
             [
              0.5555555555555556,
              "#d8576b"
             ],
             [
              0.6666666666666666,
              "#ed7953"
             ],
             [
              0.7777777777777778,
              "#fb9f3a"
             ],
             [
              0.8888888888888888,
              "#fdca26"
             ],
             [
              1.0,
              "#f0f921"
             ]
            ]
           }
          ],
          "contourcarpet": [
           {
            "type": "contourcarpet",
            "colorbar": {
             "outlinewidth": 0,
             "ticks": ""
            }
           }
          ],
          "contour": [
           {
            "type": "contour",
            "colorbar": {
             "outlinewidth": 0,
             "ticks": ""
            },
            "colorscale": [
             [
              0.0,
              "#0d0887"
             ],
             [
              0.1111111111111111,
              "#46039f"
             ],
             [
              0.2222222222222222,
              "#7201a8"
             ],
             [
              0.3333333333333333,
              "#9c179e"
             ],
             [
              0.4444444444444444,
              "#bd3786"
             ],
             [
              0.5555555555555556,
              "#d8576b"
             ],
             [
              0.6666666666666666,
              "#ed7953"
             ],
             [
              0.7777777777777778,
              "#fb9f3a"
             ],
             [
              0.8888888888888888,
              "#fdca26"
             ],
             [
              1.0,
              "#f0f921"
             ]
            ]
           }
          ],
          "surface": [
           {
            "type": "surface",
            "colorbar": {
             "outlinewidth": 0,
             "ticks": ""
            },
            "colorscale": [
             [
              0.0,
              "#0d0887"
             ],
             [
              0.1111111111111111,
              "#46039f"
             ],
             [
              0.2222222222222222,
              "#7201a8"
             ],
             [
              0.3333333333333333,
              "#9c179e"
             ],
             [
              0.4444444444444444,
              "#bd3786"
             ],
             [
              0.5555555555555556,
              "#d8576b"
             ],
             [
              0.6666666666666666,
              "#ed7953"
             ],
             [
              0.7777777777777778,
              "#fb9f3a"
             ],
             [
              0.8888888888888888,
              "#fdca26"
             ],
             [
              1.0,
              "#f0f921"
             ]
            ]
           }
          ],
          "mesh3d": [
           {
            "type": "mesh3d",
            "colorbar": {
             "outlinewidth": 0,
             "ticks": ""
            }
           }
          ],
          "scatter": [
           {
            "marker": {
             "line": {
              "color": "#283442"
             }
            },
            "type": "scatter"
           }
          ],
          "parcoords": [
           {
            "type": "parcoords",
            "line": {
             "colorbar": {
              "outlinewidth": 0,
              "ticks": ""
             }
            }
           }
          ],
          "scatterpolargl": [
           {
            "type": "scatterpolargl",
            "marker": {
             "colorbar": {
              "outlinewidth": 0,
              "ticks": ""
             }
            }
           }
          ],
          "bar": [
           {
            "error_x": {
             "color": "#f2f5fa"
            },
            "error_y": {
             "color": "#f2f5fa"
            },
            "marker": {
             "line": {
              "color": "rgb(17,17,17)",
              "width": 0.5
             },
             "pattern": {
              "fillmode": "overlay",
              "size": 10,
              "solidity": 0.2
             }
            },
            "type": "bar"
           }
          ],
          "scattergeo": [
           {
            "type": "scattergeo",
            "marker": {
             "colorbar": {
              "outlinewidth": 0,
              "ticks": ""
             }
            }
           }
          ],
          "scatterpolar": [
           {
            "type": "scatterpolar",
            "marker": {
             "colorbar": {
              "outlinewidth": 0,
              "ticks": ""
             }
            }
           }
          ],
          "histogram": [
           {
            "marker": {
             "pattern": {
              "fillmode": "overlay",
              "size": 10,
              "solidity": 0.2
             }
            },
            "type": "histogram"
           }
          ],
          "scattergl": [
           {
            "marker": {
             "line": {
              "color": "#283442"
             }
            },
            "type": "scattergl"
           }
          ],
          "scatter3d": [
           {
            "type": "scatter3d",
            "line": {
             "colorbar": {
              "outlinewidth": 0,
              "ticks": ""
             }
            },
            "marker": {
             "colorbar": {
              "outlinewidth": 0,
              "ticks": ""
             }
            }
           }
          ],
          "scattermap": [
           {
            "type": "scattermap",
            "marker": {
             "colorbar": {
              "outlinewidth": 0,
              "ticks": ""
             }
            }
           }
          ],
          "scattermapbox": [
           {
            "type": "scattermapbox",
            "marker": {
             "colorbar": {
              "outlinewidth": 0,
              "ticks": ""
             }
            }
           }
          ],
          "scatterternary": [
           {
            "type": "scatterternary",
            "marker": {
             "colorbar": {
              "outlinewidth": 0,
              "ticks": ""
             }
            }
           }
          ],
          "scattercarpet": [
           {
            "type": "scattercarpet",
            "marker": {
             "colorbar": {
              "outlinewidth": 0,
              "ticks": ""
             }
            }
           }
          ],
          "carpet": [
           {
            "aaxis": {
             "endlinecolor": "#A2B1C6",
             "gridcolor": "#506784",
             "linecolor": "#506784",
             "minorgridcolor": "#506784",
             "startlinecolor": "#A2B1C6"
            },
            "baxis": {
             "endlinecolor": "#A2B1C6",
             "gridcolor": "#506784",
             "linecolor": "#506784",
             "minorgridcolor": "#506784",
             "startlinecolor": "#A2B1C6"
            },
            "type": "carpet"
           }
          ],
          "table": [
           {
            "cells": {
             "fill": {
              "color": "#506784"
             },
             "line": {
              "color": "rgb(17,17,17)"
             }
            },
            "header": {
             "fill": {
              "color": "#2a3f5f"
             },
             "line": {
              "color": "rgb(17,17,17)"
             }
            },
            "type": "table"
           }
          ],
          "barpolar": [
           {
            "marker": {
             "line": {
              "color": "rgb(17,17,17)",
              "width": 0.5
             },
             "pattern": {
              "fillmode": "overlay",
              "size": 10,
              "solidity": 0.2
             }
            },
            "type": "barpolar"
           }
          ],
          "pie": [
           {
            "automargin": true,
            "type": "pie"
           }
          ]
         },
         "layout": {
          "autotypenumbers": "strict",
          "colorway": [
           "#636efa",
           "#EF553B",
           "#00cc96",
           "#ab63fa",
           "#FFA15A",
           "#19d3f3",
           "#FF6692",
           "#B6E880",
           "#FF97FF",
           "#FECB52"
          ],
          "font": {
           "color": "#f2f5fa"
          },
          "hovermode": "closest",
          "hoverlabel": {
           "align": "left"
          },
          "paper_bgcolor": "rgb(17,17,17)",
          "plot_bgcolor": "rgb(17,17,17)",
          "polar": {
           "bgcolor": "rgb(17,17,17)",
           "angularaxis": {
            "gridcolor": "#506784",
            "linecolor": "#506784",
            "ticks": ""
           },
           "radialaxis": {
            "gridcolor": "#506784",
            "linecolor": "#506784",
            "ticks": ""
           }
          },
          "ternary": {
           "bgcolor": "rgb(17,17,17)",
           "aaxis": {
            "gridcolor": "#506784",
            "linecolor": "#506784",
            "ticks": ""
           },
           "baxis": {
            "gridcolor": "#506784",
            "linecolor": "#506784",
            "ticks": ""
           },
           "caxis": {
            "gridcolor": "#506784",
            "linecolor": "#506784",
            "ticks": ""
           }
          },
          "coloraxis": {
           "colorbar": {
            "outlinewidth": 0,
            "ticks": ""
           }
          },
          "colorscale": {
           "sequential": [
            [
             0.0,
             "#0d0887"
            ],
            [
             0.1111111111111111,
             "#46039f"
            ],
            [
             0.2222222222222222,
             "#7201a8"
            ],
            [
             0.3333333333333333,
             "#9c179e"
            ],
            [
             0.4444444444444444,
             "#bd3786"
            ],
            [
             0.5555555555555556,
             "#d8576b"
            ],
            [
             0.6666666666666666,
             "#ed7953"
            ],
            [
             0.7777777777777778,
             "#fb9f3a"
            ],
            [
             0.8888888888888888,
             "#fdca26"
            ],
            [
             1.0,
             "#f0f921"
            ]
           ],
           "sequentialminus": [
            [
             0.0,
             "#0d0887"
            ],
            [
             0.1111111111111111,
             "#46039f"
            ],
            [
             0.2222222222222222,
             "#7201a8"
            ],
            [
             0.3333333333333333,
             "#9c179e"
            ],
            [
             0.4444444444444444,
             "#bd3786"
            ],
            [
             0.5555555555555556,
             "#d8576b"
            ],
            [
             0.6666666666666666,
             "#ed7953"
            ],
            [
             0.7777777777777778,
             "#fb9f3a"
            ],
            [
             0.8888888888888888,
             "#fdca26"
            ],
            [
             1.0,
             "#f0f921"
            ]
           ],
           "diverging": [
            [
             0,
             "#8e0152"
            ],
            [
             0.1,
             "#c51b7d"
            ],
            [
             0.2,
             "#de77ae"
            ],
            [
             0.3,
             "#f1b6da"
            ],
            [
             0.4,
             "#fde0ef"
            ],
            [
             0.5,
             "#f7f7f7"
            ],
            [
             0.6,
             "#e6f5d0"
            ],
            [
             0.7,
             "#b8e186"
            ],
            [
             0.8,
             "#7fbc41"
            ],
            [
             0.9,
             "#4d9221"
            ],
            [
             1,
             "#276419"
            ]
           ]
          },
          "xaxis": {
           "gridcolor": "#283442",
           "linecolor": "#506784",
           "ticks": "",
           "title": {
            "standoff": 15
           },
           "zerolinecolor": "#283442",
           "automargin": true,
           "zerolinewidth": 2
          },
          "yaxis": {
           "gridcolor": "#283442",
           "linecolor": "#506784",
           "ticks": "",
           "title": {
            "standoff": 15
           },
           "zerolinecolor": "#283442",
           "automargin": true,
           "zerolinewidth": 2
          },
          "scene": {
           "xaxis": {
            "backgroundcolor": "rgb(17,17,17)",
            "gridcolor": "#506784",
            "linecolor": "#506784",
            "showbackground": true,
            "ticks": "",
            "zerolinecolor": "#C8D4E3",
            "gridwidth": 2
           },
           "yaxis": {
            "backgroundcolor": "rgb(17,17,17)",
            "gridcolor": "#506784",
            "linecolor": "#506784",
            "showbackground": true,
            "ticks": "",
            "zerolinecolor": "#C8D4E3",
            "gridwidth": 2
           },
           "zaxis": {
            "backgroundcolor": "rgb(17,17,17)",
            "gridcolor": "#506784",
            "linecolor": "#506784",
            "showbackground": true,
            "ticks": "",
            "zerolinecolor": "#C8D4E3",
            "gridwidth": 2
           }
          },
          "shapedefaults": {
           "line": {
            "color": "#f2f5fa"
           }
          },
          "annotationdefaults": {
           "arrowcolor": "#f2f5fa",
           "arrowhead": 0,
           "arrowwidth": 1
          },
          "geo": {
           "bgcolor": "rgb(17,17,17)",
           "landcolor": "rgb(17,17,17)",
           "subunitcolor": "#506784",
           "showland": true,
           "showlakes": true,
           "lakecolor": "rgb(17,17,17)"
          },
          "title": {
           "x": 0.05
          },
          "updatemenudefaults": {
           "bgcolor": "#506784",
           "borderwidth": 0
          },
          "sliderdefaults": {
           "bgcolor": "#C8D4E3",
           "borderwidth": 1,
           "bordercolor": "rgb(17,17,17)",
           "tickwidth": 0
          },
          "mapbox": {
           "style": "dark"
          }
         }
        },
        "scene": {
         "domain": {
          "x": [
           0.0,
           1.0
          ],
          "y": [
           0.0,
           1.0
          ]
         },
         "xaxis": {
          "title": {
           "text": "quantity"
          }
         },
         "yaxis": {
          "title": {
           "text": "discountedSellingPrice"
          }
         },
         "zaxis": {
          "title": {
           "text": "mrp"
          }
         }
        },
        "coloraxis": {
         "colorbar": {
          "title": {
           "text": "availableQuantity"
          }
         },
         "colorscale": [
          [
           0.0,
           "rgb(236, 218, 154)"
          ],
          [
           0.16666666666666666,
           "rgb(239, 196, 126)"
          ],
          [
           0.3333333333333333,
           "rgb(243, 173, 106)"
          ],
          [
           0.5,
           "rgb(247, 148, 93)"
          ],
          [
           0.6666666666666666,
           "rgb(249, 123, 87)"
          ],
          [
           0.8333333333333334,
           "rgb(246, 99, 86)"
          ],
          [
           1.0,
           "rgb(238, 77, 90)"
          ]
         ]
        },
        "legend": {
         "tracegroupgap": 0
        },
        "title": {
         "text": "Meats, Fish & Eggs"
        },
        "height": 750
       },
       "config": {
        "plotlyServerURL": "https://plot.ly"
       }
      }
     },
     "metadata": {},
     "output_type": "display_data"
    },
    {
     "data": {
      "application/vnd.plotly.v1+json": {
       "data": [
        {
         "hovertemplate": "quantity=%{x}<br>discountedSellingPrice=%{y}<br>mrp=%{z}<br>availableQuantity=%{marker.color}<extra></extra>",
         "legendgroup": "",
         "marker": {
          "color": {
           "dtype": "i1",
           "bdata": "BgYEAQUBBQMEBQMGAgMDAgMGBAYBAgUGBAYDAwEDBQYCBgYDBAQBAwYGAwQGBgYGBAYCBgMGBgMDBAQGBgYCBQYGBgIGAwEBBgQGBQYGBgQGBgMCBAYFBgYGBgYDBgIGAQQAAAAAAAAAAAAAAAAAAAAAAAAAAAAAAAAAAAAAAAAAAAAAAA=="
          },
          "coloraxis": "coloraxis",
          "symbol": "diamond",
          "line": {
           "color": "DarkSlateGrey",
           "width": 2
          },
          "size": 8
         },
         "mode": "markers",
         "name": "",
         "scene": "scene",
         "showlegend": false,
         "x": {
          "dtype": "i2",
          "bdata": "OgB4AEsAlgCQAcgASwD6AJABSwDIAJABSwC2AKgALQAsASwByAB4AMgA9AHIAEsALAE4AMgASwBkAEMAFAH6AC8ASwBkAGQAZABLAJYAlgBLAFgClgB4AAEALAFYAksAyAAeAMgA9AEZAMgALAF4AEsAkAEsAQEASwCWAMgASwA8AL4AlgBQAXgAlgAZAGQAwgHIAKgALwDIAHgAyADIAEsASwDIAHgAkAHIAC0AWAJkAHgA+gBkAJYAlgD6AJYAkAGWAEsA+gBLAGQASwCWAMgAlgD6AHgAyABYAksALAFkAJYAlgDIAHgAPAAcAC0ASwAsASwBLQBkAMgAeAAtABwASwDIAJYALAE="
         },
         "y": {
          "dtype": "i4",
          "bdata": "6AMAABwMAACYCAAAlBEAAKwmAAAwEQAAuAsAAEwdAABYGwAAmAgAANAHAABkGQAAmAgAAKwNAAAgHAAA3AUAAJwxAABeGgAAxAkAAJoQAADQBwAAIBwAANQXAADKCAAAqBYAAMQJAACMCgAAaBAAAFQLAAD8CAAABCkAALgLAAAIBwAA/AgAAFQLAADEIgAAVAsAAKQfAACcGAAAGBUAAGgQAABAKQAABBAAACQTAACgDwAAXBIAANgnAAD8CAAAGBUAAOQMAADUFwAAECcAAIwKAACMCgAAkBoAALgLAABIDQAAvE0AAIAlAACgDwAA8AoAAHAXAADgFQAA2A4AAKAPAAAYFQAAXBIAAMArAAAwKgAAuAsAAIwKAADgFQAAhDUAAOAVAACkHwAA3AUAAFgbAAC4CwAAjAoAAOAVAACkHwAApB8AAFgbAACUEQAA4C4AAIwKAADcBQAAIBwAAOAVAABUCwAAOBgAAEgNAABQLQAAnBgAAHAXAACIEwAAuIgAAFAtAADoAwAAuAsAAIAMAADECQAAxAkAAMQJAACUEQAASA0AAEwdAADECQAA8AoAAEAfAAD8CAAAlBEAANQXAABIDQAAmAgAAEwdAABUCwAA6AMAAOgDAADcBQAAyggAAKwNAABAHwAA3AUAAMQJAABkGQAAVAsAANwFAADoAwAApB8AABgVAABUCwAAoA8AAA=="
         },
         "z": {
          "dtype": "i4",
          "bdata": "6AMAAIAMAACUEQAAlBEAAOAuAACUEQAAuAsAAJg6AABYGwAAlBEAANAHAABkGQAAlBEAAKwNAABAHwAA3AUAAJg6AABMHQAAxAkAAIgTAAD8CAAAQB8AAGQZAADECQAAQB8AAMQJAAC4CwAAiBMAALgLAADECQAAsDYAALgLAADQBwAAxAkAALgLAAAcJQAArA0AAAQpAABYGwAAcBcAAIgTAADgLgAAfBUAAIgTAACUEQAAwBIAAOAuAADECQAAcBcAAKAPAABkGQAAECcAAKwNAAC4CwAAQB8AALgLAACsDQAACFIAAOAuAACUEQAAuAsAAHAXAABwFwAAlBEAAJQRAABwFwAAiBMAAJg6AADgLgAAuAsAAKwNAABwFwAANDoAAHAXAAAoIwAA3AUAAEwdAAC4CwAAuAsAAHAXAAAEKQAABCkAAEwdAACUEQAA4C4AALgLAADcBQAAQB8AAHAXAAC4CwAAWBsAAKwNAADIMgAAWBsAAHAXAACIEwAAuIgAAMgyAADoAwAAuAsAAKwNAADECQAAxAkAAMQJAACUEQAArA0AAJg6AADECQAA8AoAAEAfAADECQAAlBEAAGQZAACsDQAAxAkAAEwdAAC4CwAA6AMAAOgDAADcBQAAxAkAAKwNAABAHwAA3AUAAMQJAABkGQAAuAsAANwFAADoAwAABCkAAHAXAACsDQAAoA8AAA=="
         },
         "type": "scatter3d"
        }
       ],
       "layout": {
        "template": {
         "data": {
          "histogram2dcontour": [
           {
            "type": "histogram2dcontour",
            "colorbar": {
             "outlinewidth": 0,
             "ticks": ""
            },
            "colorscale": [
             [
              0.0,
              "#0d0887"
             ],
             [
              0.1111111111111111,
              "#46039f"
             ],
             [
              0.2222222222222222,
              "#7201a8"
             ],
             [
              0.3333333333333333,
              "#9c179e"
             ],
             [
              0.4444444444444444,
              "#bd3786"
             ],
             [
              0.5555555555555556,
              "#d8576b"
             ],
             [
              0.6666666666666666,
              "#ed7953"
             ],
             [
              0.7777777777777778,
              "#fb9f3a"
             ],
             [
              0.8888888888888888,
              "#fdca26"
             ],
             [
              1.0,
              "#f0f921"
             ]
            ]
           }
          ],
          "choropleth": [
           {
            "type": "choropleth",
            "colorbar": {
             "outlinewidth": 0,
             "ticks": ""
            }
           }
          ],
          "histogram2d": [
           {
            "type": "histogram2d",
            "colorbar": {
             "outlinewidth": 0,
             "ticks": ""
            },
            "colorscale": [
             [
              0.0,
              "#0d0887"
             ],
             [
              0.1111111111111111,
              "#46039f"
             ],
             [
              0.2222222222222222,
              "#7201a8"
             ],
             [
              0.3333333333333333,
              "#9c179e"
             ],
             [
              0.4444444444444444,
              "#bd3786"
             ],
             [
              0.5555555555555556,
              "#d8576b"
             ],
             [
              0.6666666666666666,
              "#ed7953"
             ],
             [
              0.7777777777777778,
              "#fb9f3a"
             ],
             [
              0.8888888888888888,
              "#fdca26"
             ],
             [
              1.0,
              "#f0f921"
             ]
            ]
           }
          ],
          "heatmap": [
           {
            "type": "heatmap",
            "colorbar": {
             "outlinewidth": 0,
             "ticks": ""
            },
            "colorscale": [
             [
              0.0,
              "#0d0887"
             ],
             [
              0.1111111111111111,
              "#46039f"
             ],
             [
              0.2222222222222222,
              "#7201a8"
             ],
             [
              0.3333333333333333,
              "#9c179e"
             ],
             [
              0.4444444444444444,
              "#bd3786"
             ],
             [
              0.5555555555555556,
              "#d8576b"
             ],
             [
              0.6666666666666666,
              "#ed7953"
             ],
             [
              0.7777777777777778,
              "#fb9f3a"
             ],
             [
              0.8888888888888888,
              "#fdca26"
             ],
             [
              1.0,
              "#f0f921"
             ]
            ]
           }
          ],
          "contourcarpet": [
           {
            "type": "contourcarpet",
            "colorbar": {
             "outlinewidth": 0,
             "ticks": ""
            }
           }
          ],
          "contour": [
           {
            "type": "contour",
            "colorbar": {
             "outlinewidth": 0,
             "ticks": ""
            },
            "colorscale": [
             [
              0.0,
              "#0d0887"
             ],
             [
              0.1111111111111111,
              "#46039f"
             ],
             [
              0.2222222222222222,
              "#7201a8"
             ],
             [
              0.3333333333333333,
              "#9c179e"
             ],
             [
              0.4444444444444444,
              "#bd3786"
             ],
             [
              0.5555555555555556,
              "#d8576b"
             ],
             [
              0.6666666666666666,
              "#ed7953"
             ],
             [
              0.7777777777777778,
              "#fb9f3a"
             ],
             [
              0.8888888888888888,
              "#fdca26"
             ],
             [
              1.0,
              "#f0f921"
             ]
            ]
           }
          ],
          "surface": [
           {
            "type": "surface",
            "colorbar": {
             "outlinewidth": 0,
             "ticks": ""
            },
            "colorscale": [
             [
              0.0,
              "#0d0887"
             ],
             [
              0.1111111111111111,
              "#46039f"
             ],
             [
              0.2222222222222222,
              "#7201a8"
             ],
             [
              0.3333333333333333,
              "#9c179e"
             ],
             [
              0.4444444444444444,
              "#bd3786"
             ],
             [
              0.5555555555555556,
              "#d8576b"
             ],
             [
              0.6666666666666666,
              "#ed7953"
             ],
             [
              0.7777777777777778,
              "#fb9f3a"
             ],
             [
              0.8888888888888888,
              "#fdca26"
             ],
             [
              1.0,
              "#f0f921"
             ]
            ]
           }
          ],
          "mesh3d": [
           {
            "type": "mesh3d",
            "colorbar": {
             "outlinewidth": 0,
             "ticks": ""
            }
           }
          ],
          "scatter": [
           {
            "marker": {
             "line": {
              "color": "#283442"
             }
            },
            "type": "scatter"
           }
          ],
          "parcoords": [
           {
            "type": "parcoords",
            "line": {
             "colorbar": {
              "outlinewidth": 0,
              "ticks": ""
             }
            }
           }
          ],
          "scatterpolargl": [
           {
            "type": "scatterpolargl",
            "marker": {
             "colorbar": {
              "outlinewidth": 0,
              "ticks": ""
             }
            }
           }
          ],
          "bar": [
           {
            "error_x": {
             "color": "#f2f5fa"
            },
            "error_y": {
             "color": "#f2f5fa"
            },
            "marker": {
             "line": {
              "color": "rgb(17,17,17)",
              "width": 0.5
             },
             "pattern": {
              "fillmode": "overlay",
              "size": 10,
              "solidity": 0.2
             }
            },
            "type": "bar"
           }
          ],
          "scattergeo": [
           {
            "type": "scattergeo",
            "marker": {
             "colorbar": {
              "outlinewidth": 0,
              "ticks": ""
             }
            }
           }
          ],
          "scatterpolar": [
           {
            "type": "scatterpolar",
            "marker": {
             "colorbar": {
              "outlinewidth": 0,
              "ticks": ""
             }
            }
           }
          ],
          "histogram": [
           {
            "marker": {
             "pattern": {
              "fillmode": "overlay",
              "size": 10,
              "solidity": 0.2
             }
            },
            "type": "histogram"
           }
          ],
          "scattergl": [
           {
            "marker": {
             "line": {
              "color": "#283442"
             }
            },
            "type": "scattergl"
           }
          ],
          "scatter3d": [
           {
            "type": "scatter3d",
            "line": {
             "colorbar": {
              "outlinewidth": 0,
              "ticks": ""
             }
            },
            "marker": {
             "colorbar": {
              "outlinewidth": 0,
              "ticks": ""
             }
            }
           }
          ],
          "scattermap": [
           {
            "type": "scattermap",
            "marker": {
             "colorbar": {
              "outlinewidth": 0,
              "ticks": ""
             }
            }
           }
          ],
          "scattermapbox": [
           {
            "type": "scattermapbox",
            "marker": {
             "colorbar": {
              "outlinewidth": 0,
              "ticks": ""
             }
            }
           }
          ],
          "scatterternary": [
           {
            "type": "scatterternary",
            "marker": {
             "colorbar": {
              "outlinewidth": 0,
              "ticks": ""
             }
            }
           }
          ],
          "scattercarpet": [
           {
            "type": "scattercarpet",
            "marker": {
             "colorbar": {
              "outlinewidth": 0,
              "ticks": ""
             }
            }
           }
          ],
          "carpet": [
           {
            "aaxis": {
             "endlinecolor": "#A2B1C6",
             "gridcolor": "#506784",
             "linecolor": "#506784",
             "minorgridcolor": "#506784",
             "startlinecolor": "#A2B1C6"
            },
            "baxis": {
             "endlinecolor": "#A2B1C6",
             "gridcolor": "#506784",
             "linecolor": "#506784",
             "minorgridcolor": "#506784",
             "startlinecolor": "#A2B1C6"
            },
            "type": "carpet"
           }
          ],
          "table": [
           {
            "cells": {
             "fill": {
              "color": "#506784"
             },
             "line": {
              "color": "rgb(17,17,17)"
             }
            },
            "header": {
             "fill": {
              "color": "#2a3f5f"
             },
             "line": {
              "color": "rgb(17,17,17)"
             }
            },
            "type": "table"
           }
          ],
          "barpolar": [
           {
            "marker": {
             "line": {
              "color": "rgb(17,17,17)",
              "width": 0.5
             },
             "pattern": {
              "fillmode": "overlay",
              "size": 10,
              "solidity": 0.2
             }
            },
            "type": "barpolar"
           }
          ],
          "pie": [
           {
            "automargin": true,
            "type": "pie"
           }
          ]
         },
         "layout": {
          "autotypenumbers": "strict",
          "colorway": [
           "#636efa",
           "#EF553B",
           "#00cc96",
           "#ab63fa",
           "#FFA15A",
           "#19d3f3",
           "#FF6692",
           "#B6E880",
           "#FF97FF",
           "#FECB52"
          ],
          "font": {
           "color": "#f2f5fa"
          },
          "hovermode": "closest",
          "hoverlabel": {
           "align": "left"
          },
          "paper_bgcolor": "rgb(17,17,17)",
          "plot_bgcolor": "rgb(17,17,17)",
          "polar": {
           "bgcolor": "rgb(17,17,17)",
           "angularaxis": {
            "gridcolor": "#506784",
            "linecolor": "#506784",
            "ticks": ""
           },
           "radialaxis": {
            "gridcolor": "#506784",
            "linecolor": "#506784",
            "ticks": ""
           }
          },
          "ternary": {
           "bgcolor": "rgb(17,17,17)",
           "aaxis": {
            "gridcolor": "#506784",
            "linecolor": "#506784",
            "ticks": ""
           },
           "baxis": {
            "gridcolor": "#506784",
            "linecolor": "#506784",
            "ticks": ""
           },
           "caxis": {
            "gridcolor": "#506784",
            "linecolor": "#506784",
            "ticks": ""
           }
          },
          "coloraxis": {
           "colorbar": {
            "outlinewidth": 0,
            "ticks": ""
           }
          },
          "colorscale": {
           "sequential": [
            [
             0.0,
             "#0d0887"
            ],
            [
             0.1111111111111111,
             "#46039f"
            ],
            [
             0.2222222222222222,
             "#7201a8"
            ],
            [
             0.3333333333333333,
             "#9c179e"
            ],
            [
             0.4444444444444444,
             "#bd3786"
            ],
            [
             0.5555555555555556,
             "#d8576b"
            ],
            [
             0.6666666666666666,
             "#ed7953"
            ],
            [
             0.7777777777777778,
             "#fb9f3a"
            ],
            [
             0.8888888888888888,
             "#fdca26"
            ],
            [
             1.0,
             "#f0f921"
            ]
           ],
           "sequentialminus": [
            [
             0.0,
             "#0d0887"
            ],
            [
             0.1111111111111111,
             "#46039f"
            ],
            [
             0.2222222222222222,
             "#7201a8"
            ],
            [
             0.3333333333333333,
             "#9c179e"
            ],
            [
             0.4444444444444444,
             "#bd3786"
            ],
            [
             0.5555555555555556,
             "#d8576b"
            ],
            [
             0.6666666666666666,
             "#ed7953"
            ],
            [
             0.7777777777777778,
             "#fb9f3a"
            ],
            [
             0.8888888888888888,
             "#fdca26"
            ],
            [
             1.0,
             "#f0f921"
            ]
           ],
           "diverging": [
            [
             0,
             "#8e0152"
            ],
            [
             0.1,
             "#c51b7d"
            ],
            [
             0.2,
             "#de77ae"
            ],
            [
             0.3,
             "#f1b6da"
            ],
            [
             0.4,
             "#fde0ef"
            ],
            [
             0.5,
             "#f7f7f7"
            ],
            [
             0.6,
             "#e6f5d0"
            ],
            [
             0.7,
             "#b8e186"
            ],
            [
             0.8,
             "#7fbc41"
            ],
            [
             0.9,
             "#4d9221"
            ],
            [
             1,
             "#276419"
            ]
           ]
          },
          "xaxis": {
           "gridcolor": "#283442",
           "linecolor": "#506784",
           "ticks": "",
           "title": {
            "standoff": 15
           },
           "zerolinecolor": "#283442",
           "automargin": true,
           "zerolinewidth": 2
          },
          "yaxis": {
           "gridcolor": "#283442",
           "linecolor": "#506784",
           "ticks": "",
           "title": {
            "standoff": 15
           },
           "zerolinecolor": "#283442",
           "automargin": true,
           "zerolinewidth": 2
          },
          "scene": {
           "xaxis": {
            "backgroundcolor": "rgb(17,17,17)",
            "gridcolor": "#506784",
            "linecolor": "#506784",
            "showbackground": true,
            "ticks": "",
            "zerolinecolor": "#C8D4E3",
            "gridwidth": 2
           },
           "yaxis": {
            "backgroundcolor": "rgb(17,17,17)",
            "gridcolor": "#506784",
            "linecolor": "#506784",
            "showbackground": true,
            "ticks": "",
            "zerolinecolor": "#C8D4E3",
            "gridwidth": 2
           },
           "zaxis": {
            "backgroundcolor": "rgb(17,17,17)",
            "gridcolor": "#506784",
            "linecolor": "#506784",
            "showbackground": true,
            "ticks": "",
            "zerolinecolor": "#C8D4E3",
            "gridwidth": 2
           }
          },
          "shapedefaults": {
           "line": {
            "color": "#f2f5fa"
           }
          },
          "annotationdefaults": {
           "arrowcolor": "#f2f5fa",
           "arrowhead": 0,
           "arrowwidth": 1
          },
          "geo": {
           "bgcolor": "rgb(17,17,17)",
           "landcolor": "rgb(17,17,17)",
           "subunitcolor": "#506784",
           "showland": true,
           "showlakes": true,
           "lakecolor": "rgb(17,17,17)"
          },
          "title": {
           "x": 0.05
          },
          "updatemenudefaults": {
           "bgcolor": "#506784",
           "borderwidth": 0
          },
          "sliderdefaults": {
           "bgcolor": "#C8D4E3",
           "borderwidth": 1,
           "bordercolor": "rgb(17,17,17)",
           "tickwidth": 0
          },
          "mapbox": {
           "style": "dark"
          }
         }
        },
        "scene": {
         "domain": {
          "x": [
           0.0,
           1.0
          ],
          "y": [
           0.0,
           1.0
          ]
         },
         "xaxis": {
          "title": {
           "text": "quantity"
          }
         },
         "yaxis": {
          "title": {
           "text": "discountedSellingPrice"
          }
         },
         "zaxis": {
          "title": {
           "text": "mrp"
          }
         }
        },
        "coloraxis": {
         "colorbar": {
          "title": {
           "text": "availableQuantity"
          }
         },
         "colorscale": [
          [
           0.0,
           "rgb(236, 218, 154)"
          ],
          [
           0.16666666666666666,
           "rgb(239, 196, 126)"
          ],
          [
           0.3333333333333333,
           "rgb(243, 173, 106)"
          ],
          [
           0.5,
           "rgb(247, 148, 93)"
          ],
          [
           0.6666666666666666,
           "rgb(249, 123, 87)"
          ],
          [
           0.8333333333333334,
           "rgb(246, 99, 86)"
          ],
          [
           1.0,
           "rgb(238, 77, 90)"
          ]
         ]
        },
        "legend": {
         "tracegroupgap": 0
        },
        "title": {
         "text": "Biscuits"
        },
        "height": 750
       },
       "config": {
        "plotlyServerURL": "https://plot.ly"
       }
      }
     },
     "metadata": {},
     "output_type": "display_data"
    },
    {
     "data": {
      "application/vnd.plotly.v1+json": {
       "data": [
        {
         "hovertemplate": "quantity=%{x}<br>discountedSellingPrice=%{y}<br>mrp=%{z}<br>availableQuantity=%{marker.color}<extra></extra>",
         "legendgroup": "",
         "marker": {
          "color": {
           "dtype": "i1",
           "bdata": "AwYGBgYGBgIGBgIGBgYGBAYDAwYGBAYBBgYBBQYEAwYEBQQCBgYCBgYFBAICBgYGBAYGBgYFAgYGAwMDBQMGBgYBBgYGBgUEAgYDAQQGAQUGAwMGBgIDBgYEBAEEAwYBBAUGBAICBgQGBQYEAwQEBAUGBgQDBQEFAgYDBQUFBgYEBgQDBAYGBQYGBAQCAwYDBgUFAwEGAwIGBgYEAwYFAQYBBgMBBgYGBgUEAwYDBQYGBgUFAgQFBAYBBgEGBAYCBgYDBgQGBAYEBgYGBQYGAQYGBAUCBQUGAQUCBgQGBgQGBAIFBgYDBgYGAQYGAgUEAwQDBgYGAwYGBAYFAQMGBAUBBgMEAQYBBgYGAgYGBgYGBgQBBgYEAQYGAQIGBgYBAgQGBAAAAAAAAAAAAAAAAAAAAAAAAA=="
          },
          "coloraxis": "coloraxis",
          "symbol": "diamond",
          "line": {
           "color": "DarkSlateGrey",
           "width": 2
          },
          "size": 8
         },
         "mode": "markers",
         "name": "",
         "scene": "scene",
         "showlegend": false,
         "x": {
          "dtype": "i2",
          "bdata": "UAAyAGQA7gL0AXgASwDIAJYAZACWAGQAAQB9ADIAdwFxAmQAfQASAG4AMgAUAMgAFAAyAFAAdwEFABQAZABxAqIBtAAEAPoA7gLIALQAyAC0AJYAtABQAMgABwDuAlAAZAC+ABQAyABGADIAaAF3AQQABAAeAIoCZAAGANwFKAAeADwAlgAEACwAFACWALQArwB4AFQBZAAZAJYAAQD6AAQA7gJ4AAEAAgAAAGQAlgAUAAQAZAAEADIASAAcAKwAQACWAGQAZAAsAJYArADIAFgCtAAUAMQAZAAeAGQA+gAPAMgAfQDIAMAA+gDAABQA+gCWABgAFAC0APAAVwCWAJ8A+gAEAHgAyABxAsgAHABkAHgAKACvAMgAdwFLAJAB+gAEAAEAyAC0AFQB+gDIAPoArADIAJ8AaAF3AfoAUADIAJYA9AEsARgAyACQATwAtAB4AGQAAAAHAIoCFACgACwB+gCWALQABwAEAPoAkAEKAJABeABkACwB0gACAGQAZACQAVcAlgBkAE4AxADIALQAtAAoAIoCyAAEAFgCrACiAfoA+gDIAFQBeAC+AFAAyADIADIAZAAYAMgAwABkAJYAFABkAMgAZADIAA4ANgBkAPoAAwAUAFAAcQIJADIArABkAAEAMgDAAMgAUgCWAFQBQACWABQAMgBIAGQAggBkAB4AVAFUAX0AlgAyAJYA9AFUAQQAAgBGAEYAUAC0ABkAGACQAcEAZAD6AJYAVAFUAQEAVAH6AJYAyADIAMgAFAB4AGQAUADuAiwBBwB4AJABSwAHAAcAZAABAAcAGwBkAGQAyAAPAJABGgA="
         },
         "y": {
          "dtype": "i4",
          "bdata": "oCgAAMQJAAA8KAAABCkAAPgqAAAwKgAASA0AAFQkAAAEQgAAfBUAABwlAABcjwAAiBMAAEwdAACQGgAAVD0AAHxgAADkVwAAVAsAAOgDAAA4SgAAlBEAALgLAAB8LgAAuAsAAAAyAAAkEwAAqEgAAAggAAC4CwAAVD0AAPRlAAAIUgAAFDcAALCzAAAcPgAArCYAABwlAABgIgAANCEAALxNAAAoIwAA+EMAALQtAAAAMgAAVAsAABwlAABIPwAAvBsAAOgcAADoHAAA3B4AAJAaAAAAMgAAhGcAABQ3AAB8LgAArCYAAORXAABkrwAASCYAAOAuAADUSQAATB0AACx+AABAHwAACFIAAKwmAAAcogAAKCMAAMhLAACYOgAABCkAAMhLAABwlAAAUEYAAGQZAAD4QwAA0AcAAOAuAACsJgAArCYAAKwmAADECQAAaFsAADQ6AAB8FQAAqBYAAOQMAAAwKgAAVD0AAKwmAABYNAAAUEYAAGh0AAAw8gAAIBwAAPhDAABwFwAAxCIAACxfAQAcPgAAMPIAAJAaAAA0OgAAwCsAAChVAAAkRQAAIE4AAAx7AACEHAAAUEYAAFxEAADcNwAA0FIAABwlAAC8TQAAnEoAALw0AADECQAATB0AAMQ7AAAMFwAAyDIAAGw5AABUbwAA2NYAADyMAADY1gAAxCIAAEgmAABQRgAAvE0AAHxgAABMHQAA/GwAAFgbAABQRgAAqBYAADhKAACILAAAuD0AANQwAACwNgAAxCIAAIA+AAD0fgAApDgAAHySAABoWwAAmFMAAPDSAAC8NAAAMPIAAJg6AADY1gAAKG4AALg9AADgLgAApB8AAPgqAACoYQAA5FcAAJx8AAAwjgAArCYAAJx8AADkVwAAaEIAAEwdAAAQJwAAbGsAAKQfAAAQ7wAAVAsAALA2AAAoPAAAmGwAAPhDAADgLgAAuAsAAAwwAACoSAAAbIQAAHwVAABwSQAAUEYAAKh6AAB0WQAAdEAAAERhAABESAAAmDoAAIRnAADY1gAABEIAADgxAAC8GwAAvE0AAFBGAACwNgAAwCsAAKgWAACEywAANCEAAARCAABQRgAAMPIAAORXAADsRQAAODEAAHxgAABUVgAAqGEAAPBVAABgIgAAQGoAADQhAADsLAAApDgAAAB9AABMTwAANDoAAOwsAADARAAABCkAAKw/AAA4SgAApB8AALxNAABcRAAALF8BAMArAABQRgAAUEYAAChVAACIEwAAUEYAANCEAADIMgAA2NYAAERhAADQBwAAADIAALxNAAB8YAAApEsBAPhDAAB4ggAA3B4AAMBEAADsLAAAdNYAAKRLAQC4PQAAiBMAACwzAADUxgAAiEUAAAhSAADUSQAAvE0AAJzgAAC8TQAAvE0AAAiEAADI4QAAfJIAAEwdAAA4MQAAVCQAAOAuAAAoIwAAkH4AAPR+AAC8TQAAVD0AALxNAABEYQAAcGIAAOhnAADEhgAAlI4AAIA+AACoYQAAvBsAAIhFAADcmwAAIBwAANhZAABUVgAA0CAAAAQpAAAMMAAAVAsAAFwSAADISwAAaCkAACgjAABUCwAA0CAAANhZAAAEEAAA6BwAACwzAABwFwAA4C4AAERIAABQLQAAJJAAAA=="
         },
         "z": {
          "dtype": "i4",
          "bdata": "gD4AAMQJAADsLAAAlCoAAOwsAADgLgAArA0AAIgsAADkVwAAqBYAAHQnAADAqAAAiBMAAEwdAADcHgAA2EAAAJBlAACoYQAAuAsAAOgDAAA0UwAAiBMAALgLAADIMgAAuAsAALw0AACIEwAAvE0AAGAiAAC4CwAAREgAAEhxAADkVwAAmDoAAOzCAAC8TQAArCYAABAnAABgIgAAxCIAALxNAAAoIwAALEwAAMgyAACwNgAAuAsAAKwmAAA4SgAATB0AAAggAADcHgAA3B4AAEwdAAC8NAAAhGcAAIA+AACwNgAArCYAAKhhAADswgAASCYAAOAuAADUSQAATB0AAOiAAABAHwAACFIAAKwmAABkrwAAKCMAAAhSAACYOgAABCkAAAhSAABwlAAAUEYAAEwdAAAsTAAA0AcAAJg6AACsJgAArCYAAPgqAAC4CwAAkGUAADQ6AAB8FQAAqBYAAOQMAADgLgAAXEQAAKwmAAA0OgAAIE4AANCEAAAw8gAANCEAACxMAABwFwAArCYAAEytAQC8TQAAMPIAAEwdAAA0OgAA4C4AAMxbAAC8TQAA/FMAAAx7AABAHwAA5FcAAFxEAADcNwAAzFsAABwlAAC8TQAAvE0AALw0AADECQAAQB8AAGhCAABkGQAA9DMAALg9AABUbwAA2NYAANybAADY1gAArCYAAEgmAAAgTgAAvE0AAJBlAABMHQAAzHQAAFgbAAAgTgAAZBkAADhKAADIMgAAwEQAANQwAACYOgAArCYAAIA+AABUiAAAdEAAAHySAABEYQAA5FcAAGDqAACYOgAAMPIAAHRAAADY1gAAKG4AAMBEAACYOgAAKCMAAPgqAACoYQAAqGEAANybAACUpwAArCYAANybAADkVwAAaEIAAEwdAAAQJwAAMHUAACgjAAD0+wAAVAsAALA2AAAYRwAAtHgAACxMAADgLgAAuAsAAJg6AAC8TQAA3JsAAHwVAADYWQAAIE4AAFSIAAB4aQAAdEAAAERhAABESAAAmDoAAAB9AADY1gAAOEoAALA2AABMHQAAvE0AAFBGAACMPAAA4C4AAGQZAADM2AAANCEAAERIAABQRgAAMPIAAORXAAC8TQAAsDYAAMx0AADAXQAAqGEAAPBVAABUJAAAGHkAADQhAADIMgAAjDwAAAB9AADkVwAANDoAAOwsAAAsTAAABCkAAFBGAAA4SgAAKCMAALxNAABcRAAATK0BANQwAADkVwAAUEYAAMxbAAB8FQAAUEYAAASmAADIMgAA2NYAAERhAADQBwAAvDQAALxNAABsawAAFF0CACxMAAB8kgAANCEAACxMAADsLAAADBEBAEytAQBcRAAAiBMAAKQ4AAD86QAAiEUAAORXAAC8TQAAvE0AAAwRAQC8TQAAvE0AAHySAACE/QAAfJIAAEwdAACwNgAAVCQAAOAuAAAQJwAAoIwAAPR+AAC8TQAAREgAAERhAABEYQAAsGgAADxzAADEhgAAlI4AACBOAACoYQAAvBsAADhKAADcmwAAQB8AANhZAAC0XwAAKCMAAJQqAAAMMAAAuAsAAMASAAD8UwAA7CwAACgjAACADAAA0CAAAERhAABoEAAACCAAAKQ4AAAsGgAAyDIAAERIAABQLQAA3JsAAA=="
         },
         "type": "scatter3d"
        }
       ],
       "layout": {
        "template": {
         "data": {
          "histogram2dcontour": [
           {
            "type": "histogram2dcontour",
            "colorbar": {
             "outlinewidth": 0,
             "ticks": ""
            },
            "colorscale": [
             [
              0.0,
              "#0d0887"
             ],
             [
              0.1111111111111111,
              "#46039f"
             ],
             [
              0.2222222222222222,
              "#7201a8"
             ],
             [
              0.3333333333333333,
              "#9c179e"
             ],
             [
              0.4444444444444444,
              "#bd3786"
             ],
             [
              0.5555555555555556,
              "#d8576b"
             ],
             [
              0.6666666666666666,
              "#ed7953"
             ],
             [
              0.7777777777777778,
              "#fb9f3a"
             ],
             [
              0.8888888888888888,
              "#fdca26"
             ],
             [
              1.0,
              "#f0f921"
             ]
            ]
           }
          ],
          "choropleth": [
           {
            "type": "choropleth",
            "colorbar": {
             "outlinewidth": 0,
             "ticks": ""
            }
           }
          ],
          "histogram2d": [
           {
            "type": "histogram2d",
            "colorbar": {
             "outlinewidth": 0,
             "ticks": ""
            },
            "colorscale": [
             [
              0.0,
              "#0d0887"
             ],
             [
              0.1111111111111111,
              "#46039f"
             ],
             [
              0.2222222222222222,
              "#7201a8"
             ],
             [
              0.3333333333333333,
              "#9c179e"
             ],
             [
              0.4444444444444444,
              "#bd3786"
             ],
             [
              0.5555555555555556,
              "#d8576b"
             ],
             [
              0.6666666666666666,
              "#ed7953"
             ],
             [
              0.7777777777777778,
              "#fb9f3a"
             ],
             [
              0.8888888888888888,
              "#fdca26"
             ],
             [
              1.0,
              "#f0f921"
             ]
            ]
           }
          ],
          "heatmap": [
           {
            "type": "heatmap",
            "colorbar": {
             "outlinewidth": 0,
             "ticks": ""
            },
            "colorscale": [
             [
              0.0,
              "#0d0887"
             ],
             [
              0.1111111111111111,
              "#46039f"
             ],
             [
              0.2222222222222222,
              "#7201a8"
             ],
             [
              0.3333333333333333,
              "#9c179e"
             ],
             [
              0.4444444444444444,
              "#bd3786"
             ],
             [
              0.5555555555555556,
              "#d8576b"
             ],
             [
              0.6666666666666666,
              "#ed7953"
             ],
             [
              0.7777777777777778,
              "#fb9f3a"
             ],
             [
              0.8888888888888888,
              "#fdca26"
             ],
             [
              1.0,
              "#f0f921"
             ]
            ]
           }
          ],
          "contourcarpet": [
           {
            "type": "contourcarpet",
            "colorbar": {
             "outlinewidth": 0,
             "ticks": ""
            }
           }
          ],
          "contour": [
           {
            "type": "contour",
            "colorbar": {
             "outlinewidth": 0,
             "ticks": ""
            },
            "colorscale": [
             [
              0.0,
              "#0d0887"
             ],
             [
              0.1111111111111111,
              "#46039f"
             ],
             [
              0.2222222222222222,
              "#7201a8"
             ],
             [
              0.3333333333333333,
              "#9c179e"
             ],
             [
              0.4444444444444444,
              "#bd3786"
             ],
             [
              0.5555555555555556,
              "#d8576b"
             ],
             [
              0.6666666666666666,
              "#ed7953"
             ],
             [
              0.7777777777777778,
              "#fb9f3a"
             ],
             [
              0.8888888888888888,
              "#fdca26"
             ],
             [
              1.0,
              "#f0f921"
             ]
            ]
           }
          ],
          "surface": [
           {
            "type": "surface",
            "colorbar": {
             "outlinewidth": 0,
             "ticks": ""
            },
            "colorscale": [
             [
              0.0,
              "#0d0887"
             ],
             [
              0.1111111111111111,
              "#46039f"
             ],
             [
              0.2222222222222222,
              "#7201a8"
             ],
             [
              0.3333333333333333,
              "#9c179e"
             ],
             [
              0.4444444444444444,
              "#bd3786"
             ],
             [
              0.5555555555555556,
              "#d8576b"
             ],
             [
              0.6666666666666666,
              "#ed7953"
             ],
             [
              0.7777777777777778,
              "#fb9f3a"
             ],
             [
              0.8888888888888888,
              "#fdca26"
             ],
             [
              1.0,
              "#f0f921"
             ]
            ]
           }
          ],
          "mesh3d": [
           {
            "type": "mesh3d",
            "colorbar": {
             "outlinewidth": 0,
             "ticks": ""
            }
           }
          ],
          "scatter": [
           {
            "marker": {
             "line": {
              "color": "#283442"
             }
            },
            "type": "scatter"
           }
          ],
          "parcoords": [
           {
            "type": "parcoords",
            "line": {
             "colorbar": {
              "outlinewidth": 0,
              "ticks": ""
             }
            }
           }
          ],
          "scatterpolargl": [
           {
            "type": "scatterpolargl",
            "marker": {
             "colorbar": {
              "outlinewidth": 0,
              "ticks": ""
             }
            }
           }
          ],
          "bar": [
           {
            "error_x": {
             "color": "#f2f5fa"
            },
            "error_y": {
             "color": "#f2f5fa"
            },
            "marker": {
             "line": {
              "color": "rgb(17,17,17)",
              "width": 0.5
             },
             "pattern": {
              "fillmode": "overlay",
              "size": 10,
              "solidity": 0.2
             }
            },
            "type": "bar"
           }
          ],
          "scattergeo": [
           {
            "type": "scattergeo",
            "marker": {
             "colorbar": {
              "outlinewidth": 0,
              "ticks": ""
             }
            }
           }
          ],
          "scatterpolar": [
           {
            "type": "scatterpolar",
            "marker": {
             "colorbar": {
              "outlinewidth": 0,
              "ticks": ""
             }
            }
           }
          ],
          "histogram": [
           {
            "marker": {
             "pattern": {
              "fillmode": "overlay",
              "size": 10,
              "solidity": 0.2
             }
            },
            "type": "histogram"
           }
          ],
          "scattergl": [
           {
            "marker": {
             "line": {
              "color": "#283442"
             }
            },
            "type": "scattergl"
           }
          ],
          "scatter3d": [
           {
            "type": "scatter3d",
            "line": {
             "colorbar": {
              "outlinewidth": 0,
              "ticks": ""
             }
            },
            "marker": {
             "colorbar": {
              "outlinewidth": 0,
              "ticks": ""
             }
            }
           }
          ],
          "scattermap": [
           {
            "type": "scattermap",
            "marker": {
             "colorbar": {
              "outlinewidth": 0,
              "ticks": ""
             }
            }
           }
          ],
          "scattermapbox": [
           {
            "type": "scattermapbox",
            "marker": {
             "colorbar": {
              "outlinewidth": 0,
              "ticks": ""
             }
            }
           }
          ],
          "scatterternary": [
           {
            "type": "scatterternary",
            "marker": {
             "colorbar": {
              "outlinewidth": 0,
              "ticks": ""
             }
            }
           }
          ],
          "scattercarpet": [
           {
            "type": "scattercarpet",
            "marker": {
             "colorbar": {
              "outlinewidth": 0,
              "ticks": ""
             }
            }
           }
          ],
          "carpet": [
           {
            "aaxis": {
             "endlinecolor": "#A2B1C6",
             "gridcolor": "#506784",
             "linecolor": "#506784",
             "minorgridcolor": "#506784",
             "startlinecolor": "#A2B1C6"
            },
            "baxis": {
             "endlinecolor": "#A2B1C6",
             "gridcolor": "#506784",
             "linecolor": "#506784",
             "minorgridcolor": "#506784",
             "startlinecolor": "#A2B1C6"
            },
            "type": "carpet"
           }
          ],
          "table": [
           {
            "cells": {
             "fill": {
              "color": "#506784"
             },
             "line": {
              "color": "rgb(17,17,17)"
             }
            },
            "header": {
             "fill": {
              "color": "#2a3f5f"
             },
             "line": {
              "color": "rgb(17,17,17)"
             }
            },
            "type": "table"
           }
          ],
          "barpolar": [
           {
            "marker": {
             "line": {
              "color": "rgb(17,17,17)",
              "width": 0.5
             },
             "pattern": {
              "fillmode": "overlay",
              "size": 10,
              "solidity": 0.2
             }
            },
            "type": "barpolar"
           }
          ],
          "pie": [
           {
            "automargin": true,
            "type": "pie"
           }
          ]
         },
         "layout": {
          "autotypenumbers": "strict",
          "colorway": [
           "#636efa",
           "#EF553B",
           "#00cc96",
           "#ab63fa",
           "#FFA15A",
           "#19d3f3",
           "#FF6692",
           "#B6E880",
           "#FF97FF",
           "#FECB52"
          ],
          "font": {
           "color": "#f2f5fa"
          },
          "hovermode": "closest",
          "hoverlabel": {
           "align": "left"
          },
          "paper_bgcolor": "rgb(17,17,17)",
          "plot_bgcolor": "rgb(17,17,17)",
          "polar": {
           "bgcolor": "rgb(17,17,17)",
           "angularaxis": {
            "gridcolor": "#506784",
            "linecolor": "#506784",
            "ticks": ""
           },
           "radialaxis": {
            "gridcolor": "#506784",
            "linecolor": "#506784",
            "ticks": ""
           }
          },
          "ternary": {
           "bgcolor": "rgb(17,17,17)",
           "aaxis": {
            "gridcolor": "#506784",
            "linecolor": "#506784",
            "ticks": ""
           },
           "baxis": {
            "gridcolor": "#506784",
            "linecolor": "#506784",
            "ticks": ""
           },
           "caxis": {
            "gridcolor": "#506784",
            "linecolor": "#506784",
            "ticks": ""
           }
          },
          "coloraxis": {
           "colorbar": {
            "outlinewidth": 0,
            "ticks": ""
           }
          },
          "colorscale": {
           "sequential": [
            [
             0.0,
             "#0d0887"
            ],
            [
             0.1111111111111111,
             "#46039f"
            ],
            [
             0.2222222222222222,
             "#7201a8"
            ],
            [
             0.3333333333333333,
             "#9c179e"
            ],
            [
             0.4444444444444444,
             "#bd3786"
            ],
            [
             0.5555555555555556,
             "#d8576b"
            ],
            [
             0.6666666666666666,
             "#ed7953"
            ],
            [
             0.7777777777777778,
             "#fb9f3a"
            ],
            [
             0.8888888888888888,
             "#fdca26"
            ],
            [
             1.0,
             "#f0f921"
            ]
           ],
           "sequentialminus": [
            [
             0.0,
             "#0d0887"
            ],
            [
             0.1111111111111111,
             "#46039f"
            ],
            [
             0.2222222222222222,
             "#7201a8"
            ],
            [
             0.3333333333333333,
             "#9c179e"
            ],
            [
             0.4444444444444444,
             "#bd3786"
            ],
            [
             0.5555555555555556,
             "#d8576b"
            ],
            [
             0.6666666666666666,
             "#ed7953"
            ],
            [
             0.7777777777777778,
             "#fb9f3a"
            ],
            [
             0.8888888888888888,
             "#fdca26"
            ],
            [
             1.0,
             "#f0f921"
            ]
           ],
           "diverging": [
            [
             0,
             "#8e0152"
            ],
            [
             0.1,
             "#c51b7d"
            ],
            [
             0.2,
             "#de77ae"
            ],
            [
             0.3,
             "#f1b6da"
            ],
            [
             0.4,
             "#fde0ef"
            ],
            [
             0.5,
             "#f7f7f7"
            ],
            [
             0.6,
             "#e6f5d0"
            ],
            [
             0.7,
             "#b8e186"
            ],
            [
             0.8,
             "#7fbc41"
            ],
            [
             0.9,
             "#4d9221"
            ],
            [
             1,
             "#276419"
            ]
           ]
          },
          "xaxis": {
           "gridcolor": "#283442",
           "linecolor": "#506784",
           "ticks": "",
           "title": {
            "standoff": 15
           },
           "zerolinecolor": "#283442",
           "automargin": true,
           "zerolinewidth": 2
          },
          "yaxis": {
           "gridcolor": "#283442",
           "linecolor": "#506784",
           "ticks": "",
           "title": {
            "standoff": 15
           },
           "zerolinecolor": "#283442",
           "automargin": true,
           "zerolinewidth": 2
          },
          "scene": {
           "xaxis": {
            "backgroundcolor": "rgb(17,17,17)",
            "gridcolor": "#506784",
            "linecolor": "#506784",
            "showbackground": true,
            "ticks": "",
            "zerolinecolor": "#C8D4E3",
            "gridwidth": 2
           },
           "yaxis": {
            "backgroundcolor": "rgb(17,17,17)",
            "gridcolor": "#506784",
            "linecolor": "#506784",
            "showbackground": true,
            "ticks": "",
            "zerolinecolor": "#C8D4E3",
            "gridwidth": 2
           },
           "zaxis": {
            "backgroundcolor": "rgb(17,17,17)",
            "gridcolor": "#506784",
            "linecolor": "#506784",
            "showbackground": true,
            "ticks": "",
            "zerolinecolor": "#C8D4E3",
            "gridwidth": 2
           }
          },
          "shapedefaults": {
           "line": {
            "color": "#f2f5fa"
           }
          },
          "annotationdefaults": {
           "arrowcolor": "#f2f5fa",
           "arrowhead": 0,
           "arrowwidth": 1
          },
          "geo": {
           "bgcolor": "rgb(17,17,17)",
           "landcolor": "rgb(17,17,17)",
           "subunitcolor": "#506784",
           "showland": true,
           "showlakes": true,
           "lakecolor": "rgb(17,17,17)"
          },
          "title": {
           "x": 0.05
          },
          "updatemenudefaults": {
           "bgcolor": "#506784",
           "borderwidth": 0
          },
          "sliderdefaults": {
           "bgcolor": "#C8D4E3",
           "borderwidth": 1,
           "bordercolor": "rgb(17,17,17)",
           "tickwidth": 0
          },
          "mapbox": {
           "style": "dark"
          }
         }
        },
        "scene": {
         "domain": {
          "x": [
           0.0,
           1.0
          ],
          "y": [
           0.0,
           1.0
          ]
         },
         "xaxis": {
          "title": {
           "text": "quantity"
          }
         },
         "yaxis": {
          "title": {
           "text": "discountedSellingPrice"
          }
         },
         "zaxis": {
          "title": {
           "text": "mrp"
          }
         }
        },
        "coloraxis": {
         "colorbar": {
          "title": {
           "text": "availableQuantity"
          }
         },
         "colorscale": [
          [
           0.0,
           "rgb(236, 218, 154)"
          ],
          [
           0.16666666666666666,
           "rgb(239, 196, 126)"
          ],
          [
           0.3333333333333333,
           "rgb(243, 173, 106)"
          ],
          [
           0.5,
           "rgb(247, 148, 93)"
          ],
          [
           0.6666666666666666,
           "rgb(249, 123, 87)"
          ],
          [
           0.8333333333333334,
           "rgb(246, 99, 86)"
          ],
          [
           1.0,
           "rgb(238, 77, 90)"
          ]
         ]
        },
        "legend": {
         "tracegroupgap": 0
        },
        "title": {
         "text": "Personal Care"
        },
        "height": 750
       },
       "config": {
        "plotlyServerURL": "https://plot.ly"
       }
      }
     },
     "metadata": {},
     "output_type": "display_data"
    },
    {
     "data": {
      "application/vnd.plotly.v1+json": {
       "data": [
        {
         "hovertemplate": "quantity=%{x}<br>discountedSellingPrice=%{y}<br>mrp=%{z}<br>availableQuantity=%{marker.color}<extra></extra>",
         "legendgroup": "",
         "marker": {
          "color": {
           "dtype": "i1",
           "bdata": "AQYGAgQGAwQBBgYGBgYGBgQGBgEEAgYGBgYCAQIFBgQGBgQGBgYGBgYGBgYGBgYDBgYGBQEBBAQEBAYGAgIGAwQBAwEEAwMDAgMGBgUGAQYGBQYEBgQGBgQFAQYGBgMGBgYGBgECBgYCBgYGAQYGBgYGBgQGBgYGBgYGBQYGBgQEBgQGBgYFAQQGBgIGBgUFBgUCBgYGBgYGBgYGAQQEBgEGBQYGAwYGBgAAAAAAAAAAAAAAAAAAAAA="
          },
          "coloraxis": "coloraxis",
          "symbol": "diamond",
          "line": {
           "color": "DarkSlateGrey",
           "width": 2
          },
          "size": 8
         },
         "mode": "markers",
         "name": "",
         "scene": "scene",
         "showlegend": false,
         "x": {
          "dtype": "i2",
          "bdata": "lgD0AR4AqQHuAn0ACgDIAO4CAQAyAAEACgBLAAEAkAEaAAEA9AEBAGQACgABAAIAAQABAAEAAQADAPoABQA8ABoABgB4AAEAAQABAAEAHgABAAIA9AHuAoEBDwABACwBCgACAAUAZAAEADIA8AABADIAUACWAPQBAwDwAAEA9AHwAAYAFAD0ATwAAQDPAwEAkAEIAAMAAgABAGQAGQBkACgAMgABAHcB9AGJAAEAAQAMAAUAAQB4AAIAZAAZACMADAADAAEAIAMKAAEABQABAAQAAwD1ADIAkAEBAFgChAMCAOgDAQAEAPQBMgBLAAEAzwMBADIAZAAyAAEA3ABLAA8AKABQABQAHgD1AAEAiQAKADIAAQBLAAEAHgABAM8DAQD1AAEAAQBkAAMAAQDIACgAGQAKABkAAQABACMAAQBLAA8AFAACAB4AAQAyAAEAAQAsAfoAPAABAAEAjABkAAEAAgABAAEA9AFcA0sAAQBkAA=="
         },
         "y": {
          "dtype": "i4",
          "bdata": "CAcAAMQiAAD0GgAA7EUAAFxEAADIGQAAfBUAAEgmAABcRAAAiEUAAPgRAADsRQAA3DcAAFQkAABIDQAAwEQAABQeAADsRQAAvDQAAHBJAADcNwAA3DcAAFRWAAA4MQAA6BwAAARCAAC8NAAAPA8AAEgNAACoFgAAQAYAAOQMAAAUHgAA1EkAAAwXAADkVwAAJCwAACQTAADkPgAAgD4AALxmAAAwEQAA5CUAAIQ1AAAUaQAAPA8AAFxEAAA0UwAAfBUAAAB9AACQGgAA4BUAAHTWAADcHgAAFDcAAMwpAABsBwAASD8AAOAVAACYIQAAIE4AADgxAABQRgAAgCUAADQ6AACoLwAAIBwAAHwVAABsBwAAyBkAAHBJAAAMMAAA1EkAAEwdAAA4MQAAbFIAAJAaAABwFwAAxAkAAOAVAAAAGQAAsE8AALg9AAA0OgAA5CUAAJAzAAAkEwAAaFsAAEwdAACQGgAAQB8AAAggAAAMxgAAJBMAAJAaAAAEQgAAjIcAAKAJAQC8NAAAiCwAAHwVAACYOgAABHQAAGhCAAD4JAEApB8AAGA7AACYIQAA2CcAALA2AABwYgAAEHIAAJAaAADwCgAAmOkAAIT9AABIJgAAKCMAAFQkAAC8NAAAcEkAAJB+AACcGAAAkDMAAJwYAACoYQAAVAsAALwbAACwBAAAABkAAPQaAADwCgAAaEIAAGA7AACoLwAAkDMAAHwVAAAgHAAASCYAABRpAACEZwAA1DAAAPAKAADwPAAA5D4AAGA7AAAAfQAAWE0AAHBiAACwNgAAWBsAAFgbAADMKQAAvBsAAPTiAAAkEwAAiBMAAPBVAAAEQgAAXEQAAAAAAACwBAAAGBUAAAQQAADUFwAA5FcAAMBdAABkMgAAkGUAAJgIAABQLQAAxCIAANAgAAAsMwAA6AMAAAggAABMBAAADBcAAFxEAADYJwAAOBgAANBSAADECQAAkBoAAORXAAA="
         },
         "z": {
          "dtype": "i4",
          "bdata": "CAcAAIAlAAD0GgAA1EkAADhKAADIGQAAfBUAAHQnAABESAAAiEUAAIgTAADUSQAAmDoAAEgmAACsDQAAGEcAAAggAAC8TQAAvDQAACBOAAAoPAAAmDoAAORXAACwNgAACCAAAGhCAAA0OgAAoA8AAKwNAAA4GAAAQAYAAOQMAAAIIAAACFIAAGQZAADkVwAA1DAAAIgTAADsRQAAgD4AAGBtAACUEQAAPCgAANA5AAAUaQAAoA8AAFxEAADkVwAAfBUAAAB9AABMHQAAZBkAAGDqAAA0IQAANDoAAPgqAABsBwAAOEoAAGQZAAAcJQAAIE4AAJg6AAAgTgAAzCkAAJg6AAC8NAAAQB8AAHwVAABsBwAAkBoAABRQAACYOgAACFIAAEwdAACwNgAA/FMAAFgbAAAAGQAAxAkAAGQZAACQGgAAwF0AAFxEAACAPgAAPCgAAJg6AACIEwAAbGsAAEAfAABMHQAAQB8AACgjAAAIzwAAiBMAAEwdAABwSQAAWJgAAIA4AQCYOgAAiCwAAHwVAACYOgAA6IAAAFBGAABoPAEAKCMAAOQ+AAAcJQAA2CcAAJg6AABgbQAA9H4AAJAaAAC4CwAA6P0AAEAZAQAEKQAAECcAAEgmAACYOgAAFFAAAFiYAABYGwAAjDwAAFgbAACoYQAAuAsAAEwdAACwBAAAkBoAAEwdAAC4CwAA1EkAAOQ+AAC8NAAAmDoAAHwVAABAHwAA7CwAAMx0AACEZwAATDYAAFQLAAB0QAAA7EUAAOQ+AAAAfQAA8FUAAGBtAACwNgAAeB4AAOgcAAB8LgAA3B4AAHARAQCIEwAAiBMAAPBVAABwSQAAUEYAAAAAAACwBAAAcBcAAGgQAAD0GgAAqGEAAMBdAACwNgAAkGUAAPwIAABQLQAAxCIAAJghAAAgNQAA6AMAACgjAACwBAAAZBkAADhKAAAEKQAA9BoAAMxbAADECQAAQB8AAKhhAAA="
         },
         "type": "scatter3d"
        }
       ],
       "layout": {
        "template": {
         "data": {
          "histogram2dcontour": [
           {
            "type": "histogram2dcontour",
            "colorbar": {
             "outlinewidth": 0,
             "ticks": ""
            },
            "colorscale": [
             [
              0.0,
              "#0d0887"
             ],
             [
              0.1111111111111111,
              "#46039f"
             ],
             [
              0.2222222222222222,
              "#7201a8"
             ],
             [
              0.3333333333333333,
              "#9c179e"
             ],
             [
              0.4444444444444444,
              "#bd3786"
             ],
             [
              0.5555555555555556,
              "#d8576b"
             ],
             [
              0.6666666666666666,
              "#ed7953"
             ],
             [
              0.7777777777777778,
              "#fb9f3a"
             ],
             [
              0.8888888888888888,
              "#fdca26"
             ],
             [
              1.0,
              "#f0f921"
             ]
            ]
           }
          ],
          "choropleth": [
           {
            "type": "choropleth",
            "colorbar": {
             "outlinewidth": 0,
             "ticks": ""
            }
           }
          ],
          "histogram2d": [
           {
            "type": "histogram2d",
            "colorbar": {
             "outlinewidth": 0,
             "ticks": ""
            },
            "colorscale": [
             [
              0.0,
              "#0d0887"
             ],
             [
              0.1111111111111111,
              "#46039f"
             ],
             [
              0.2222222222222222,
              "#7201a8"
             ],
             [
              0.3333333333333333,
              "#9c179e"
             ],
             [
              0.4444444444444444,
              "#bd3786"
             ],
             [
              0.5555555555555556,
              "#d8576b"
             ],
             [
              0.6666666666666666,
              "#ed7953"
             ],
             [
              0.7777777777777778,
              "#fb9f3a"
             ],
             [
              0.8888888888888888,
              "#fdca26"
             ],
             [
              1.0,
              "#f0f921"
             ]
            ]
           }
          ],
          "heatmap": [
           {
            "type": "heatmap",
            "colorbar": {
             "outlinewidth": 0,
             "ticks": ""
            },
            "colorscale": [
             [
              0.0,
              "#0d0887"
             ],
             [
              0.1111111111111111,
              "#46039f"
             ],
             [
              0.2222222222222222,
              "#7201a8"
             ],
             [
              0.3333333333333333,
              "#9c179e"
             ],
             [
              0.4444444444444444,
              "#bd3786"
             ],
             [
              0.5555555555555556,
              "#d8576b"
             ],
             [
              0.6666666666666666,
              "#ed7953"
             ],
             [
              0.7777777777777778,
              "#fb9f3a"
             ],
             [
              0.8888888888888888,
              "#fdca26"
             ],
             [
              1.0,
              "#f0f921"
             ]
            ]
           }
          ],
          "contourcarpet": [
           {
            "type": "contourcarpet",
            "colorbar": {
             "outlinewidth": 0,
             "ticks": ""
            }
           }
          ],
          "contour": [
           {
            "type": "contour",
            "colorbar": {
             "outlinewidth": 0,
             "ticks": ""
            },
            "colorscale": [
             [
              0.0,
              "#0d0887"
             ],
             [
              0.1111111111111111,
              "#46039f"
             ],
             [
              0.2222222222222222,
              "#7201a8"
             ],
             [
              0.3333333333333333,
              "#9c179e"
             ],
             [
              0.4444444444444444,
              "#bd3786"
             ],
             [
              0.5555555555555556,
              "#d8576b"
             ],
             [
              0.6666666666666666,
              "#ed7953"
             ],
             [
              0.7777777777777778,
              "#fb9f3a"
             ],
             [
              0.8888888888888888,
              "#fdca26"
             ],
             [
              1.0,
              "#f0f921"
             ]
            ]
           }
          ],
          "surface": [
           {
            "type": "surface",
            "colorbar": {
             "outlinewidth": 0,
             "ticks": ""
            },
            "colorscale": [
             [
              0.0,
              "#0d0887"
             ],
             [
              0.1111111111111111,
              "#46039f"
             ],
             [
              0.2222222222222222,
              "#7201a8"
             ],
             [
              0.3333333333333333,
              "#9c179e"
             ],
             [
              0.4444444444444444,
              "#bd3786"
             ],
             [
              0.5555555555555556,
              "#d8576b"
             ],
             [
              0.6666666666666666,
              "#ed7953"
             ],
             [
              0.7777777777777778,
              "#fb9f3a"
             ],
             [
              0.8888888888888888,
              "#fdca26"
             ],
             [
              1.0,
              "#f0f921"
             ]
            ]
           }
          ],
          "mesh3d": [
           {
            "type": "mesh3d",
            "colorbar": {
             "outlinewidth": 0,
             "ticks": ""
            }
           }
          ],
          "scatter": [
           {
            "marker": {
             "line": {
              "color": "#283442"
             }
            },
            "type": "scatter"
           }
          ],
          "parcoords": [
           {
            "type": "parcoords",
            "line": {
             "colorbar": {
              "outlinewidth": 0,
              "ticks": ""
             }
            }
           }
          ],
          "scatterpolargl": [
           {
            "type": "scatterpolargl",
            "marker": {
             "colorbar": {
              "outlinewidth": 0,
              "ticks": ""
             }
            }
           }
          ],
          "bar": [
           {
            "error_x": {
             "color": "#f2f5fa"
            },
            "error_y": {
             "color": "#f2f5fa"
            },
            "marker": {
             "line": {
              "color": "rgb(17,17,17)",
              "width": 0.5
             },
             "pattern": {
              "fillmode": "overlay",
              "size": 10,
              "solidity": 0.2
             }
            },
            "type": "bar"
           }
          ],
          "scattergeo": [
           {
            "type": "scattergeo",
            "marker": {
             "colorbar": {
              "outlinewidth": 0,
              "ticks": ""
             }
            }
           }
          ],
          "scatterpolar": [
           {
            "type": "scatterpolar",
            "marker": {
             "colorbar": {
              "outlinewidth": 0,
              "ticks": ""
             }
            }
           }
          ],
          "histogram": [
           {
            "marker": {
             "pattern": {
              "fillmode": "overlay",
              "size": 10,
              "solidity": 0.2
             }
            },
            "type": "histogram"
           }
          ],
          "scattergl": [
           {
            "marker": {
             "line": {
              "color": "#283442"
             }
            },
            "type": "scattergl"
           }
          ],
          "scatter3d": [
           {
            "type": "scatter3d",
            "line": {
             "colorbar": {
              "outlinewidth": 0,
              "ticks": ""
             }
            },
            "marker": {
             "colorbar": {
              "outlinewidth": 0,
              "ticks": ""
             }
            }
           }
          ],
          "scattermap": [
           {
            "type": "scattermap",
            "marker": {
             "colorbar": {
              "outlinewidth": 0,
              "ticks": ""
             }
            }
           }
          ],
          "scattermapbox": [
           {
            "type": "scattermapbox",
            "marker": {
             "colorbar": {
              "outlinewidth": 0,
              "ticks": ""
             }
            }
           }
          ],
          "scatterternary": [
           {
            "type": "scatterternary",
            "marker": {
             "colorbar": {
              "outlinewidth": 0,
              "ticks": ""
             }
            }
           }
          ],
          "scattercarpet": [
           {
            "type": "scattercarpet",
            "marker": {
             "colorbar": {
              "outlinewidth": 0,
              "ticks": ""
             }
            }
           }
          ],
          "carpet": [
           {
            "aaxis": {
             "endlinecolor": "#A2B1C6",
             "gridcolor": "#506784",
             "linecolor": "#506784",
             "minorgridcolor": "#506784",
             "startlinecolor": "#A2B1C6"
            },
            "baxis": {
             "endlinecolor": "#A2B1C6",
             "gridcolor": "#506784",
             "linecolor": "#506784",
             "minorgridcolor": "#506784",
             "startlinecolor": "#A2B1C6"
            },
            "type": "carpet"
           }
          ],
          "table": [
           {
            "cells": {
             "fill": {
              "color": "#506784"
             },
             "line": {
              "color": "rgb(17,17,17)"
             }
            },
            "header": {
             "fill": {
              "color": "#2a3f5f"
             },
             "line": {
              "color": "rgb(17,17,17)"
             }
            },
            "type": "table"
           }
          ],
          "barpolar": [
           {
            "marker": {
             "line": {
              "color": "rgb(17,17,17)",
              "width": 0.5
             },
             "pattern": {
              "fillmode": "overlay",
              "size": 10,
              "solidity": 0.2
             }
            },
            "type": "barpolar"
           }
          ],
          "pie": [
           {
            "automargin": true,
            "type": "pie"
           }
          ]
         },
         "layout": {
          "autotypenumbers": "strict",
          "colorway": [
           "#636efa",
           "#EF553B",
           "#00cc96",
           "#ab63fa",
           "#FFA15A",
           "#19d3f3",
           "#FF6692",
           "#B6E880",
           "#FF97FF",
           "#FECB52"
          ],
          "font": {
           "color": "#f2f5fa"
          },
          "hovermode": "closest",
          "hoverlabel": {
           "align": "left"
          },
          "paper_bgcolor": "rgb(17,17,17)",
          "plot_bgcolor": "rgb(17,17,17)",
          "polar": {
           "bgcolor": "rgb(17,17,17)",
           "angularaxis": {
            "gridcolor": "#506784",
            "linecolor": "#506784",
            "ticks": ""
           },
           "radialaxis": {
            "gridcolor": "#506784",
            "linecolor": "#506784",
            "ticks": ""
           }
          },
          "ternary": {
           "bgcolor": "rgb(17,17,17)",
           "aaxis": {
            "gridcolor": "#506784",
            "linecolor": "#506784",
            "ticks": ""
           },
           "baxis": {
            "gridcolor": "#506784",
            "linecolor": "#506784",
            "ticks": ""
           },
           "caxis": {
            "gridcolor": "#506784",
            "linecolor": "#506784",
            "ticks": ""
           }
          },
          "coloraxis": {
           "colorbar": {
            "outlinewidth": 0,
            "ticks": ""
           }
          },
          "colorscale": {
           "sequential": [
            [
             0.0,
             "#0d0887"
            ],
            [
             0.1111111111111111,
             "#46039f"
            ],
            [
             0.2222222222222222,
             "#7201a8"
            ],
            [
             0.3333333333333333,
             "#9c179e"
            ],
            [
             0.4444444444444444,
             "#bd3786"
            ],
            [
             0.5555555555555556,
             "#d8576b"
            ],
            [
             0.6666666666666666,
             "#ed7953"
            ],
            [
             0.7777777777777778,
             "#fb9f3a"
            ],
            [
             0.8888888888888888,
             "#fdca26"
            ],
            [
             1.0,
             "#f0f921"
            ]
           ],
           "sequentialminus": [
            [
             0.0,
             "#0d0887"
            ],
            [
             0.1111111111111111,
             "#46039f"
            ],
            [
             0.2222222222222222,
             "#7201a8"
            ],
            [
             0.3333333333333333,
             "#9c179e"
            ],
            [
             0.4444444444444444,
             "#bd3786"
            ],
            [
             0.5555555555555556,
             "#d8576b"
            ],
            [
             0.6666666666666666,
             "#ed7953"
            ],
            [
             0.7777777777777778,
             "#fb9f3a"
            ],
            [
             0.8888888888888888,
             "#fdca26"
            ],
            [
             1.0,
             "#f0f921"
            ]
           ],
           "diverging": [
            [
             0,
             "#8e0152"
            ],
            [
             0.1,
             "#c51b7d"
            ],
            [
             0.2,
             "#de77ae"
            ],
            [
             0.3,
             "#f1b6da"
            ],
            [
             0.4,
             "#fde0ef"
            ],
            [
             0.5,
             "#f7f7f7"
            ],
            [
             0.6,
             "#e6f5d0"
            ],
            [
             0.7,
             "#b8e186"
            ],
            [
             0.8,
             "#7fbc41"
            ],
            [
             0.9,
             "#4d9221"
            ],
            [
             1,
             "#276419"
            ]
           ]
          },
          "xaxis": {
           "gridcolor": "#283442",
           "linecolor": "#506784",
           "ticks": "",
           "title": {
            "standoff": 15
           },
           "zerolinecolor": "#283442",
           "automargin": true,
           "zerolinewidth": 2
          },
          "yaxis": {
           "gridcolor": "#283442",
           "linecolor": "#506784",
           "ticks": "",
           "title": {
            "standoff": 15
           },
           "zerolinecolor": "#283442",
           "automargin": true,
           "zerolinewidth": 2
          },
          "scene": {
           "xaxis": {
            "backgroundcolor": "rgb(17,17,17)",
            "gridcolor": "#506784",
            "linecolor": "#506784",
            "showbackground": true,
            "ticks": "",
            "zerolinecolor": "#C8D4E3",
            "gridwidth": 2
           },
           "yaxis": {
            "backgroundcolor": "rgb(17,17,17)",
            "gridcolor": "#506784",
            "linecolor": "#506784",
            "showbackground": true,
            "ticks": "",
            "zerolinecolor": "#C8D4E3",
            "gridwidth": 2
           },
           "zaxis": {
            "backgroundcolor": "rgb(17,17,17)",
            "gridcolor": "#506784",
            "linecolor": "#506784",
            "showbackground": true,
            "ticks": "",
            "zerolinecolor": "#C8D4E3",
            "gridwidth": 2
           }
          },
          "shapedefaults": {
           "line": {
            "color": "#f2f5fa"
           }
          },
          "annotationdefaults": {
           "arrowcolor": "#f2f5fa",
           "arrowhead": 0,
           "arrowwidth": 1
          },
          "geo": {
           "bgcolor": "rgb(17,17,17)",
           "landcolor": "rgb(17,17,17)",
           "subunitcolor": "#506784",
           "showland": true,
           "showlakes": true,
           "lakecolor": "rgb(17,17,17)"
          },
          "title": {
           "x": 0.05
          },
          "updatemenudefaults": {
           "bgcolor": "#506784",
           "borderwidth": 0
          },
          "sliderdefaults": {
           "bgcolor": "#C8D4E3",
           "borderwidth": 1,
           "bordercolor": "rgb(17,17,17)",
           "tickwidth": 0
          },
          "mapbox": {
           "style": "dark"
          }
         }
        },
        "scene": {
         "domain": {
          "x": [
           0.0,
           1.0
          ],
          "y": [
           0.0,
           1.0
          ]
         },
         "xaxis": {
          "title": {
           "text": "quantity"
          }
         },
         "yaxis": {
          "title": {
           "text": "discountedSellingPrice"
          }
         },
         "zaxis": {
          "title": {
           "text": "mrp"
          }
         }
        },
        "coloraxis": {
         "colorbar": {
          "title": {
           "text": "availableQuantity"
          }
         },
         "colorscale": [
          [
           0.0,
           "rgb(236, 218, 154)"
          ],
          [
           0.16666666666666666,
           "rgb(239, 196, 126)"
          ],
          [
           0.3333333333333333,
           "rgb(243, 173, 106)"
          ],
          [
           0.5,
           "rgb(247, 148, 93)"
          ],
          [
           0.6666666666666666,
           "rgb(249, 123, 87)"
          ],
          [
           0.8333333333333334,
           "rgb(246, 99, 86)"
          ],
          [
           1.0,
           "rgb(238, 77, 90)"
          ]
         ]
        },
        "legend": {
         "tracegroupgap": 0
        },
        "title": {
         "text": "Home & Cleaning"
        },
        "height": 750
       },
       "config": {
        "plotlyServerURL": "https://plot.ly"
       }
      }
     },
     "metadata": {},
     "output_type": "display_data"
    },
    {
     "data": {
      "application/vnd.plotly.v1+json": {
       "data": [
        {
         "hovertemplate": "quantity=%{x}<br>discountedSellingPrice=%{y}<br>mrp=%{z}<br>availableQuantity=%{marker.color}<extra></extra>",
         "legendgroup": "",
         "marker": {
          "color": {
           "dtype": "i1",
           "bdata": "BgYGBgYCBAYGBgIGBgYEBgYGBgUGAgYGBgMGBgYGBgYBBgYGBgYGBAYGBgYEBgQGBgEGAQIGAQYAAAA="
          },
          "coloraxis": "coloraxis",
          "symbol": "diamond",
          "line": {
           "color": "DarkSlateGrey",
           "width": 2
          },
          "size": 8
         },
         "mode": "markers",
         "name": "",
         "scene": "scene",
         "showlegend": false,
         "x": {
          "dtype": "i2",
          "bdata": "SwBLAAMACgB4ALQACAAUAAoAGQAyAHgA4QAIAGQAMgCqAAoAZAAjAEgACgBkAAoAeABkAAEAZABQAAMACgAIAIIAhAMtAAEAAQAbAAoACgAPAPQB5gD0AQIAHgBkAPQBPAAZABkAPADIAGQAAQABAEsABQBkAA=="
         },
         "y": {
          "dtype": "i4",
          "bdata": "0AcAANAHAAAIIAAA8FUAAGgQAABoEAAAEA4AANAHAAAUUAAAFB4AAGQyAABoEAAA3DcAADwPAACoFgAAgD4AANA5AAAUUAAAtC0AABQ3AABoQgAA8FUAAMgyAAC8NAAAaBAAADQhAAA4YwAArCYAABhgAADgLgAAFFAAAAQQAAAMMAAAZJYAACQsAADQUgAACIQAAMQiAACIdwAAXBIAALwbAAAcVwAAVD0AACRFAAAcJQAAGEcAAHB7AACwmgAA5FcAAKwmAABUJAAAEEAAAHhpAAD0MwAA0IQAALxNAADQBwAAwBIAAMQiAAA="
         },
         "z": {
          "dtype": "i4",
          "bdata": "oA8AAKAPAAAIIAAAtF8AAJQRAACUEQAAoA8AANAHAAAQWQAANCEAAKQ4AACUEQAAHD4AAKAPAABkGQAA1EkAAHRAAAAQWQAAyDIAADQ6AADUSQAAtF8AAMgyAACYOgAAlBEAAPgqAADMdAAA+CoAAEhxAADgLgAAEFkAAJQRAADIMgAAHKIAANQwAABEYQAAVIgAABAnAACgjAAAiBMAAEwdAADMWwAAXEQAADhKAAAEKQAALEwAAEyaAABcwQAA5FcAAKwmAAAEKQAAFFAAAHhpAACwNgAAQJwAAMxbAACgDwAAGBUAAAQpAAA="
         },
         "type": "scatter3d"
        }
       ],
       "layout": {
        "template": {
         "data": {
          "histogram2dcontour": [
           {
            "type": "histogram2dcontour",
            "colorbar": {
             "outlinewidth": 0,
             "ticks": ""
            },
            "colorscale": [
             [
              0.0,
              "#0d0887"
             ],
             [
              0.1111111111111111,
              "#46039f"
             ],
             [
              0.2222222222222222,
              "#7201a8"
             ],
             [
              0.3333333333333333,
              "#9c179e"
             ],
             [
              0.4444444444444444,
              "#bd3786"
             ],
             [
              0.5555555555555556,
              "#d8576b"
             ],
             [
              0.6666666666666666,
              "#ed7953"
             ],
             [
              0.7777777777777778,
              "#fb9f3a"
             ],
             [
              0.8888888888888888,
              "#fdca26"
             ],
             [
              1.0,
              "#f0f921"
             ]
            ]
           }
          ],
          "choropleth": [
           {
            "type": "choropleth",
            "colorbar": {
             "outlinewidth": 0,
             "ticks": ""
            }
           }
          ],
          "histogram2d": [
           {
            "type": "histogram2d",
            "colorbar": {
             "outlinewidth": 0,
             "ticks": ""
            },
            "colorscale": [
             [
              0.0,
              "#0d0887"
             ],
             [
              0.1111111111111111,
              "#46039f"
             ],
             [
              0.2222222222222222,
              "#7201a8"
             ],
             [
              0.3333333333333333,
              "#9c179e"
             ],
             [
              0.4444444444444444,
              "#bd3786"
             ],
             [
              0.5555555555555556,
              "#d8576b"
             ],
             [
              0.6666666666666666,
              "#ed7953"
             ],
             [
              0.7777777777777778,
              "#fb9f3a"
             ],
             [
              0.8888888888888888,
              "#fdca26"
             ],
             [
              1.0,
              "#f0f921"
             ]
            ]
           }
          ],
          "heatmap": [
           {
            "type": "heatmap",
            "colorbar": {
             "outlinewidth": 0,
             "ticks": ""
            },
            "colorscale": [
             [
              0.0,
              "#0d0887"
             ],
             [
              0.1111111111111111,
              "#46039f"
             ],
             [
              0.2222222222222222,
              "#7201a8"
             ],
             [
              0.3333333333333333,
              "#9c179e"
             ],
             [
              0.4444444444444444,
              "#bd3786"
             ],
             [
              0.5555555555555556,
              "#d8576b"
             ],
             [
              0.6666666666666666,
              "#ed7953"
             ],
             [
              0.7777777777777778,
              "#fb9f3a"
             ],
             [
              0.8888888888888888,
              "#fdca26"
             ],
             [
              1.0,
              "#f0f921"
             ]
            ]
           }
          ],
          "contourcarpet": [
           {
            "type": "contourcarpet",
            "colorbar": {
             "outlinewidth": 0,
             "ticks": ""
            }
           }
          ],
          "contour": [
           {
            "type": "contour",
            "colorbar": {
             "outlinewidth": 0,
             "ticks": ""
            },
            "colorscale": [
             [
              0.0,
              "#0d0887"
             ],
             [
              0.1111111111111111,
              "#46039f"
             ],
             [
              0.2222222222222222,
              "#7201a8"
             ],
             [
              0.3333333333333333,
              "#9c179e"
             ],
             [
              0.4444444444444444,
              "#bd3786"
             ],
             [
              0.5555555555555556,
              "#d8576b"
             ],
             [
              0.6666666666666666,
              "#ed7953"
             ],
             [
              0.7777777777777778,
              "#fb9f3a"
             ],
             [
              0.8888888888888888,
              "#fdca26"
             ],
             [
              1.0,
              "#f0f921"
             ]
            ]
           }
          ],
          "surface": [
           {
            "type": "surface",
            "colorbar": {
             "outlinewidth": 0,
             "ticks": ""
            },
            "colorscale": [
             [
              0.0,
              "#0d0887"
             ],
             [
              0.1111111111111111,
              "#46039f"
             ],
             [
              0.2222222222222222,
              "#7201a8"
             ],
             [
              0.3333333333333333,
              "#9c179e"
             ],
             [
              0.4444444444444444,
              "#bd3786"
             ],
             [
              0.5555555555555556,
              "#d8576b"
             ],
             [
              0.6666666666666666,
              "#ed7953"
             ],
             [
              0.7777777777777778,
              "#fb9f3a"
             ],
             [
              0.8888888888888888,
              "#fdca26"
             ],
             [
              1.0,
              "#f0f921"
             ]
            ]
           }
          ],
          "mesh3d": [
           {
            "type": "mesh3d",
            "colorbar": {
             "outlinewidth": 0,
             "ticks": ""
            }
           }
          ],
          "scatter": [
           {
            "marker": {
             "line": {
              "color": "#283442"
             }
            },
            "type": "scatter"
           }
          ],
          "parcoords": [
           {
            "type": "parcoords",
            "line": {
             "colorbar": {
              "outlinewidth": 0,
              "ticks": ""
             }
            }
           }
          ],
          "scatterpolargl": [
           {
            "type": "scatterpolargl",
            "marker": {
             "colorbar": {
              "outlinewidth": 0,
              "ticks": ""
             }
            }
           }
          ],
          "bar": [
           {
            "error_x": {
             "color": "#f2f5fa"
            },
            "error_y": {
             "color": "#f2f5fa"
            },
            "marker": {
             "line": {
              "color": "rgb(17,17,17)",
              "width": 0.5
             },
             "pattern": {
              "fillmode": "overlay",
              "size": 10,
              "solidity": 0.2
             }
            },
            "type": "bar"
           }
          ],
          "scattergeo": [
           {
            "type": "scattergeo",
            "marker": {
             "colorbar": {
              "outlinewidth": 0,
              "ticks": ""
             }
            }
           }
          ],
          "scatterpolar": [
           {
            "type": "scatterpolar",
            "marker": {
             "colorbar": {
              "outlinewidth": 0,
              "ticks": ""
             }
            }
           }
          ],
          "histogram": [
           {
            "marker": {
             "pattern": {
              "fillmode": "overlay",
              "size": 10,
              "solidity": 0.2
             }
            },
            "type": "histogram"
           }
          ],
          "scattergl": [
           {
            "marker": {
             "line": {
              "color": "#283442"
             }
            },
            "type": "scattergl"
           }
          ],
          "scatter3d": [
           {
            "type": "scatter3d",
            "line": {
             "colorbar": {
              "outlinewidth": 0,
              "ticks": ""
             }
            },
            "marker": {
             "colorbar": {
              "outlinewidth": 0,
              "ticks": ""
             }
            }
           }
          ],
          "scattermap": [
           {
            "type": "scattermap",
            "marker": {
             "colorbar": {
              "outlinewidth": 0,
              "ticks": ""
             }
            }
           }
          ],
          "scattermapbox": [
           {
            "type": "scattermapbox",
            "marker": {
             "colorbar": {
              "outlinewidth": 0,
              "ticks": ""
             }
            }
           }
          ],
          "scatterternary": [
           {
            "type": "scatterternary",
            "marker": {
             "colorbar": {
              "outlinewidth": 0,
              "ticks": ""
             }
            }
           }
          ],
          "scattercarpet": [
           {
            "type": "scattercarpet",
            "marker": {
             "colorbar": {
              "outlinewidth": 0,
              "ticks": ""
             }
            }
           }
          ],
          "carpet": [
           {
            "aaxis": {
             "endlinecolor": "#A2B1C6",
             "gridcolor": "#506784",
             "linecolor": "#506784",
             "minorgridcolor": "#506784",
             "startlinecolor": "#A2B1C6"
            },
            "baxis": {
             "endlinecolor": "#A2B1C6",
             "gridcolor": "#506784",
             "linecolor": "#506784",
             "minorgridcolor": "#506784",
             "startlinecolor": "#A2B1C6"
            },
            "type": "carpet"
           }
          ],
          "table": [
           {
            "cells": {
             "fill": {
              "color": "#506784"
             },
             "line": {
              "color": "rgb(17,17,17)"
             }
            },
            "header": {
             "fill": {
              "color": "#2a3f5f"
             },
             "line": {
              "color": "rgb(17,17,17)"
             }
            },
            "type": "table"
           }
          ],
          "barpolar": [
           {
            "marker": {
             "line": {
              "color": "rgb(17,17,17)",
              "width": 0.5
             },
             "pattern": {
              "fillmode": "overlay",
              "size": 10,
              "solidity": 0.2
             }
            },
            "type": "barpolar"
           }
          ],
          "pie": [
           {
            "automargin": true,
            "type": "pie"
           }
          ]
         },
         "layout": {
          "autotypenumbers": "strict",
          "colorway": [
           "#636efa",
           "#EF553B",
           "#00cc96",
           "#ab63fa",
           "#FFA15A",
           "#19d3f3",
           "#FF6692",
           "#B6E880",
           "#FF97FF",
           "#FECB52"
          ],
          "font": {
           "color": "#f2f5fa"
          },
          "hovermode": "closest",
          "hoverlabel": {
           "align": "left"
          },
          "paper_bgcolor": "rgb(17,17,17)",
          "plot_bgcolor": "rgb(17,17,17)",
          "polar": {
           "bgcolor": "rgb(17,17,17)",
           "angularaxis": {
            "gridcolor": "#506784",
            "linecolor": "#506784",
            "ticks": ""
           },
           "radialaxis": {
            "gridcolor": "#506784",
            "linecolor": "#506784",
            "ticks": ""
           }
          },
          "ternary": {
           "bgcolor": "rgb(17,17,17)",
           "aaxis": {
            "gridcolor": "#506784",
            "linecolor": "#506784",
            "ticks": ""
           },
           "baxis": {
            "gridcolor": "#506784",
            "linecolor": "#506784",
            "ticks": ""
           },
           "caxis": {
            "gridcolor": "#506784",
            "linecolor": "#506784",
            "ticks": ""
           }
          },
          "coloraxis": {
           "colorbar": {
            "outlinewidth": 0,
            "ticks": ""
           }
          },
          "colorscale": {
           "sequential": [
            [
             0.0,
             "#0d0887"
            ],
            [
             0.1111111111111111,
             "#46039f"
            ],
            [
             0.2222222222222222,
             "#7201a8"
            ],
            [
             0.3333333333333333,
             "#9c179e"
            ],
            [
             0.4444444444444444,
             "#bd3786"
            ],
            [
             0.5555555555555556,
             "#d8576b"
            ],
            [
             0.6666666666666666,
             "#ed7953"
            ],
            [
             0.7777777777777778,
             "#fb9f3a"
            ],
            [
             0.8888888888888888,
             "#fdca26"
            ],
            [
             1.0,
             "#f0f921"
            ]
           ],
           "sequentialminus": [
            [
             0.0,
             "#0d0887"
            ],
            [
             0.1111111111111111,
             "#46039f"
            ],
            [
             0.2222222222222222,
             "#7201a8"
            ],
            [
             0.3333333333333333,
             "#9c179e"
            ],
            [
             0.4444444444444444,
             "#bd3786"
            ],
            [
             0.5555555555555556,
             "#d8576b"
            ],
            [
             0.6666666666666666,
             "#ed7953"
            ],
            [
             0.7777777777777778,
             "#fb9f3a"
            ],
            [
             0.8888888888888888,
             "#fdca26"
            ],
            [
             1.0,
             "#f0f921"
            ]
           ],
           "diverging": [
            [
             0,
             "#8e0152"
            ],
            [
             0.1,
             "#c51b7d"
            ],
            [
             0.2,
             "#de77ae"
            ],
            [
             0.3,
             "#f1b6da"
            ],
            [
             0.4,
             "#fde0ef"
            ],
            [
             0.5,
             "#f7f7f7"
            ],
            [
             0.6,
             "#e6f5d0"
            ],
            [
             0.7,
             "#b8e186"
            ],
            [
             0.8,
             "#7fbc41"
            ],
            [
             0.9,
             "#4d9221"
            ],
            [
             1,
             "#276419"
            ]
           ]
          },
          "xaxis": {
           "gridcolor": "#283442",
           "linecolor": "#506784",
           "ticks": "",
           "title": {
            "standoff": 15
           },
           "zerolinecolor": "#283442",
           "automargin": true,
           "zerolinewidth": 2
          },
          "yaxis": {
           "gridcolor": "#283442",
           "linecolor": "#506784",
           "ticks": "",
           "title": {
            "standoff": 15
           },
           "zerolinecolor": "#283442",
           "automargin": true,
           "zerolinewidth": 2
          },
          "scene": {
           "xaxis": {
            "backgroundcolor": "rgb(17,17,17)",
            "gridcolor": "#506784",
            "linecolor": "#506784",
            "showbackground": true,
            "ticks": "",
            "zerolinecolor": "#C8D4E3",
            "gridwidth": 2
           },
           "yaxis": {
            "backgroundcolor": "rgb(17,17,17)",
            "gridcolor": "#506784",
            "linecolor": "#506784",
            "showbackground": true,
            "ticks": "",
            "zerolinecolor": "#C8D4E3",
            "gridwidth": 2
           },
           "zaxis": {
            "backgroundcolor": "rgb(17,17,17)",
            "gridcolor": "#506784",
            "linecolor": "#506784",
            "showbackground": true,
            "ticks": "",
            "zerolinecolor": "#C8D4E3",
            "gridwidth": 2
           }
          },
          "shapedefaults": {
           "line": {
            "color": "#f2f5fa"
           }
          },
          "annotationdefaults": {
           "arrowcolor": "#f2f5fa",
           "arrowhead": 0,
           "arrowwidth": 1
          },
          "geo": {
           "bgcolor": "rgb(17,17,17)",
           "landcolor": "rgb(17,17,17)",
           "subunitcolor": "#506784",
           "showland": true,
           "showlakes": true,
           "lakecolor": "rgb(17,17,17)"
          },
          "title": {
           "x": 0.05
          },
          "updatemenudefaults": {
           "bgcolor": "#506784",
           "borderwidth": 0
          },
          "sliderdefaults": {
           "bgcolor": "#C8D4E3",
           "borderwidth": 1,
           "bordercolor": "rgb(17,17,17)",
           "tickwidth": 0
          },
          "mapbox": {
           "style": "dark"
          }
         }
        },
        "scene": {
         "domain": {
          "x": [
           0.0,
           1.0
          ],
          "y": [
           0.0,
           1.0
          ]
         },
         "xaxis": {
          "title": {
           "text": "quantity"
          }
         },
         "yaxis": {
          "title": {
           "text": "discountedSellingPrice"
          }
         },
         "zaxis": {
          "title": {
           "text": "mrp"
          }
         }
        },
        "coloraxis": {
         "colorbar": {
          "title": {
           "text": "availableQuantity"
          }
         },
         "colorscale": [
          [
           0.0,
           "rgb(236, 218, 154)"
          ],
          [
           0.16666666666666666,
           "rgb(239, 196, 126)"
          ],
          [
           0.3333333333333333,
           "rgb(243, 173, 106)"
          ],
          [
           0.5,
           "rgb(247, 148, 93)"
          ],
          [
           0.6666666666666666,
           "rgb(249, 123, 87)"
          ],
          [
           0.8333333333333334,
           "rgb(246, 99, 86)"
          ],
          [
           1.0,
           "rgb(238, 77, 90)"
          ]
         ]
        },
        "legend": {
         "tracegroupgap": 0
        },
        "title": {
         "text": "Health & Hygiene"
        },
        "height": 750
       },
       "config": {
        "plotlyServerURL": "https://plot.ly"
       }
      }
     },
     "metadata": {},
     "output_type": "display_data"
    }
   ],
   "execution_count": 13
  },
  {
   "metadata": {},
   "cell_type": "markdown",
   "source": [
    "## Zepto OUT OF STOCK Item Refill Analysis\n",
    "### Finally we come to the end which shows which item from each category is out of stock and should be refilled on the basis of the quantity and the weight."
   ],
   "id": "b946bcdb0f295aa4"
  },
  {
   "metadata": {
    "ExecuteTime": {
     "end_time": "2025-06-11T06:59:28.533219Z",
     "start_time": "2025-06-11T06:59:28.444038Z"
    }
   },
   "cell_type": "code",
   "source": [
    "cons.print('The following shows the items in each categories that are in highest quantities, yet are out of stock and has to be refilled!', style='light_green')\n",
    "for value in uniqueCategories:\n",
    "    dfTemp = dfN[dfN['Category'] == f'{value}'].drop(columns='Category')\n",
    "    # cons.print(f'{value}\\n\\n{dfTemp['availableQuantity'].value_counts()}', style='medium_purple1')\n",
    "    dfTemp['overallWeight'] = dfTemp['weightInGms']*dfTemp['quantity']\n",
    "    dfTemp2 = dfTemp[dfTemp['outOfStock']==True].sort_values(by=['overallWeight','discountPercent'],ascending=False).head(20).copy()\n",
    "    cons.print(f'\\n\\n{value}\\n\\n{dfTemp2[['name','weightInGms','quantity','discountPercent']]}')\n"
   ],
   "id": "f63365c42b8a8165",
   "outputs": [
    {
     "data": {
      "text/plain": [
       "\u001B[38;5;120mThe following shows the items in each categories that are in highest quantities, yet are out of stock and has to be\u001B[0m\n",
       "\u001B[38;5;120mrefilled!\u001B[0m\n"
      ],
      "text/html": [
       "<pre style=\"white-space:pre;overflow-x:auto;line-height:normal;font-family:Menlo,'DejaVu Sans Mono',consolas,'Courier New',monospace\"><span style=\"color: #87ff87; text-decoration-color: #87ff87\">The following shows the items in each categories that are in highest quantities, yet are out of stock and has to be</span>\n",
       "<span style=\"color: #87ff87; text-decoration-color: #87ff87\">refilled!</span>\n",
       "</pre>\n"
      ]
     },
     "metadata": {},
     "output_type": "display_data"
    },
    {
     "data": {
      "text/plain": [
       "\n",
       "\n",
       "Fruits & Vegetables\n",
       "\n",
       "                             name  weightInGms  quantity  discountPercent\n",
       "\u001B[1;36m90\u001B[0m  Safal Frozen Mixed Vegetables          \u001B[1;36m500\u001B[0m       \u001B[1;36m500\u001B[0m                \u001B[1;36m5\u001B[0m\n",
       "\u001B[1;36m89\u001B[0m                  Moong Sprouts          \u001B[1;36m200\u001B[0m       \u001B[1;36m200\u001B[0m               \u001B[1;36m17\u001B[0m\n",
       "\u001B[1;36m91\u001B[0m              Safal Frozen Corn          \u001B[1;36m200\u001B[0m       \u001B[1;36m200\u001B[0m                \u001B[1;36m4\u001B[0m\n",
       "\u001B[1;36m92\u001B[0m      Safal Frozen - Sweet Corn         \u001B[1;36m1000\u001B[0m         \u001B[1;36m1\u001B[0m                \u001B[1;36m5\u001B[0m\n"
      ],
      "text/html": [
       "<pre style=\"white-space:pre;overflow-x:auto;line-height:normal;font-family:Menlo,'DejaVu Sans Mono',consolas,'Courier New',monospace\">\n",
       "\n",
       "Fruits &amp; Vegetables\n",
       "\n",
       "                             name  weightInGms  quantity  discountPercent\n",
       "<span style=\"color: #008080; text-decoration-color: #008080; font-weight: bold\">90</span>  Safal Frozen Mixed Vegetables          <span style=\"color: #008080; text-decoration-color: #008080; font-weight: bold\">500</span>       <span style=\"color: #008080; text-decoration-color: #008080; font-weight: bold\">500</span>                <span style=\"color: #008080; text-decoration-color: #008080; font-weight: bold\">5</span>\n",
       "<span style=\"color: #008080; text-decoration-color: #008080; font-weight: bold\">89</span>                  Moong Sprouts          <span style=\"color: #008080; text-decoration-color: #008080; font-weight: bold\">200</span>       <span style=\"color: #008080; text-decoration-color: #008080; font-weight: bold\">200</span>               <span style=\"color: #008080; text-decoration-color: #008080; font-weight: bold\">17</span>\n",
       "<span style=\"color: #008080; text-decoration-color: #008080; font-weight: bold\">91</span>              Safal Frozen Corn          <span style=\"color: #008080; text-decoration-color: #008080; font-weight: bold\">200</span>       <span style=\"color: #008080; text-decoration-color: #008080; font-weight: bold\">200</span>                <span style=\"color: #008080; text-decoration-color: #008080; font-weight: bold\">4</span>\n",
       "<span style=\"color: #008080; text-decoration-color: #008080; font-weight: bold\">92</span>      Safal Frozen - Sweet Corn         <span style=\"color: #008080; text-decoration-color: #008080; font-weight: bold\">1000</span>         <span style=\"color: #008080; text-decoration-color: #008080; font-weight: bold\">1</span>                <span style=\"color: #008080; text-decoration-color: #008080; font-weight: bold\">5</span>\n",
       "</pre>\n"
      ]
     },
     "metadata": {},
     "output_type": "display_data"
    },
    {
     "data": {
      "text/plain": [
       "\n",
       "\n",
       "Cooking Essentials\n",
       "\n",
       "                                                  name  weightInGms  quantity  \\\n",
       "\u001B[1;36m571\u001B[0m                   Ching's Secret Veg Hakka Noodles          \u001B[1;36m600\u001B[0m       \u001B[1;36m600\u001B[0m   \n",
       "\u001B[1;36m589\u001B[0m                                   Top Ramen Masala          \u001B[1;36m560\u001B[0m       \u001B[1;36m560\u001B[0m   \n",
       "\u001B[1;36m593\u001B[0m              Chef's Basket Durum Wheat Penne Pasta          \u001B[1;36m500\u001B[0m       \u001B[1;36m500\u001B[0m   \n",
       "\u001B[1;36m599\u001B[0m            Sugarlite \u001B[1;36m50\u001B[0m% Less Calories Sugar Pouch          \u001B[1;36m500\u001B[0m       \u001B[1;36m500\u001B[0m   \n",
       "\u001B[1;36m573\u001B[0m                 Everest Kashmiri Lal Chilli Powder          \u001B[1;36m500\u001B[0m       \u001B[1;36m500\u001B[0m   \n",
       "\u001B[1;36m583\u001B[0m                        Popular Essentials Sabudana          \u001B[1;36m500\u001B[0m       \u001B[1;36m500\u001B[0m   \n",
       "\u001B[1;36m569\u001B[0m  Popular Essentials Black Brown Chana \u001B[1m(\u001B[0mUn-Polis\u001B[33m...\u001B[0m          \u001B[1;36m500\u001B[0m       \u001B[1;36m500\u001B[0m   \n",
       "\u001B[1;36m591\u001B[0m    Popular Essentials Buckwheat Flour \u001B[1m(\u001B[0mKuttu Atta\u001B[1m)\u001B[0m          \u001B[1;36m500\u001B[0m       \u001B[1;36m500\u001B[0m   \n",
       "\u001B[1;36m546\u001B[0m                                   Satyam Poha Jada          \u001B[1;36m500\u001B[0m       \u001B[1;36m500\u001B[0m   \n",
       "\u001B[1;36m561\u001B[0m                             Satyam Thin Poha Patla          \u001B[1;36m500\u001B[0m       \u001B[1;36m500\u001B[0m   \n",
       "\u001B[1;36m554\u001B[0m                                  Tata Sampann Poha          \u001B[1;36m500\u001B[0m       \u001B[1;36m500\u001B[0m   \n",
       "\u001B[1;36m564\u001B[0m                                   Satyam Singdana           \u001B[1;36m500\u001B[0m       \u001B[1;36m500\u001B[0m   \n",
       "\u001B[1;36m565\u001B[0m                         Tata Sampann Moong Chilka           \u001B[1;36m500\u001B[0m       \u001B[1;36m500\u001B[0m   \n",
       "\u001B[1;36m566\u001B[0m         Tata Sampann High Protien Toor Dal - Split          \u001B[1;36m500\u001B[0m       \u001B[1;36m500\u001B[0m   \n",
       "\u001B[1;36m563\u001B[0m        Tata Sampann High Protien Chana Dal - Split          \u001B[1;36m500\u001B[0m       \u001B[1;36m500\u001B[0m   \n",
       "\u001B[1;36m584\u001B[0m                     Popular Essentials Brown Sugar          \u001B[1;36m500\u001B[0m       \u001B[1;36m500\u001B[0m   \n",
       "\u001B[1;36m559\u001B[0m         Tata Sampann Unpolished Toor Dal/Arhar Dal         \u001B[1;36m1000\u001B[0m       \u001B[1;36m200\u001B[0m   \n",
       "\u001B[1;36m597\u001B[0m                   Zorabian Chicken Kheema Parathas          \u001B[1;36m300\u001B[0m       \u001B[1;36m300\u001B[0m   \n",
       "\u001B[1;36m551\u001B[0m            Maggi \u001B[1;36m2\u001B[0m-Minute Instant Noodles - Masala          \u001B[1;36m280\u001B[0m       \u001B[1;36m280\u001B[0m   \n",
       "\u001B[1;36m604\u001B[0m           Maggi Special Masala Spicy Yummy Noodles          \u001B[1;36m280\u001B[0m       \u001B[1;36m280\u001B[0m   \n",
       "\n",
       "     discountPercent  \n",
       "\u001B[1;36m571\u001B[0m                \u001B[1;36m0\u001B[0m  \n",
       "\u001B[1;36m589\u001B[0m                \u001B[1;36m9\u001B[0m  \n",
       "\u001B[1;36m593\u001B[0m               \u001B[1;36m50\u001B[0m  \n",
       "\u001B[1;36m599\u001B[0m               \u001B[1;36m40\u001B[0m  \n",
       "\u001B[1;36m573\u001B[0m               \u001B[1;36m10\u001B[0m  \n",
       "\u001B[1;36m583\u001B[0m               \u001B[1;36m10\u001B[0m  \n",
       "\u001B[1;36m569\u001B[0m                \u001B[1;36m9\u001B[0m  \n",
       "\u001B[1;36m591\u001B[0m                \u001B[1;36m9\u001B[0m  \n",
       "\u001B[1;36m546\u001B[0m                \u001B[1;36m8\u001B[0m  \n",
       "\u001B[1;36m561\u001B[0m                \u001B[1;36m7\u001B[0m  \n",
       "\u001B[1;36m554\u001B[0m                \u001B[1;36m6\u001B[0m  \n",
       "\u001B[1;36m564\u001B[0m                \u001B[1;36m6\u001B[0m  \n",
       "\u001B[1;36m565\u001B[0m                \u001B[1;36m6\u001B[0m  \n",
       "\u001B[1;36m566\u001B[0m                \u001B[1;36m2\u001B[0m  \n",
       "\u001B[1;36m563\u001B[0m                \u001B[1;36m0\u001B[0m  \n",
       "\u001B[1;36m584\u001B[0m                \u001B[1;36m0\u001B[0m  \n",
       "\u001B[1;36m559\u001B[0m                \u001B[1;36m1\u001B[0m  \n",
       "\u001B[1;36m597\u001B[0m                \u001B[1;36m0\u001B[0m  \n",
       "\u001B[1;36m551\u001B[0m                \u001B[1;36m0\u001B[0m  \n",
       "\u001B[1;36m604\u001B[0m                \u001B[1;36m0\u001B[0m  \n"
      ],
      "text/html": [
       "<pre style=\"white-space:pre;overflow-x:auto;line-height:normal;font-family:Menlo,'DejaVu Sans Mono',consolas,'Courier New',monospace\">\n",
       "\n",
       "Cooking Essentials\n",
       "\n",
       "                                                  name  weightInGms  quantity  \\\n",
       "<span style=\"color: #008080; text-decoration-color: #008080; font-weight: bold\">571</span>                   Ching's Secret Veg Hakka Noodles          <span style=\"color: #008080; text-decoration-color: #008080; font-weight: bold\">600</span>       <span style=\"color: #008080; text-decoration-color: #008080; font-weight: bold\">600</span>   \n",
       "<span style=\"color: #008080; text-decoration-color: #008080; font-weight: bold\">589</span>                                   Top Ramen Masala          <span style=\"color: #008080; text-decoration-color: #008080; font-weight: bold\">560</span>       <span style=\"color: #008080; text-decoration-color: #008080; font-weight: bold\">560</span>   \n",
       "<span style=\"color: #008080; text-decoration-color: #008080; font-weight: bold\">593</span>              Chef's Basket Durum Wheat Penne Pasta          <span style=\"color: #008080; text-decoration-color: #008080; font-weight: bold\">500</span>       <span style=\"color: #008080; text-decoration-color: #008080; font-weight: bold\">500</span>   \n",
       "<span style=\"color: #008080; text-decoration-color: #008080; font-weight: bold\">599</span>            Sugarlite <span style=\"color: #008080; text-decoration-color: #008080; font-weight: bold\">50</span>% Less Calories Sugar Pouch          <span style=\"color: #008080; text-decoration-color: #008080; font-weight: bold\">500</span>       <span style=\"color: #008080; text-decoration-color: #008080; font-weight: bold\">500</span>   \n",
       "<span style=\"color: #008080; text-decoration-color: #008080; font-weight: bold\">573</span>                 Everest Kashmiri Lal Chilli Powder          <span style=\"color: #008080; text-decoration-color: #008080; font-weight: bold\">500</span>       <span style=\"color: #008080; text-decoration-color: #008080; font-weight: bold\">500</span>   \n",
       "<span style=\"color: #008080; text-decoration-color: #008080; font-weight: bold\">583</span>                        Popular Essentials Sabudana          <span style=\"color: #008080; text-decoration-color: #008080; font-weight: bold\">500</span>       <span style=\"color: #008080; text-decoration-color: #008080; font-weight: bold\">500</span>   \n",
       "<span style=\"color: #008080; text-decoration-color: #008080; font-weight: bold\">569</span>  Popular Essentials Black Brown Chana <span style=\"font-weight: bold\">(</span>Un-Polis<span style=\"color: #808000; text-decoration-color: #808000\">...</span>          <span style=\"color: #008080; text-decoration-color: #008080; font-weight: bold\">500</span>       <span style=\"color: #008080; text-decoration-color: #008080; font-weight: bold\">500</span>   \n",
       "<span style=\"color: #008080; text-decoration-color: #008080; font-weight: bold\">591</span>    Popular Essentials Buckwheat Flour <span style=\"font-weight: bold\">(</span>Kuttu Atta<span style=\"font-weight: bold\">)</span>          <span style=\"color: #008080; text-decoration-color: #008080; font-weight: bold\">500</span>       <span style=\"color: #008080; text-decoration-color: #008080; font-weight: bold\">500</span>   \n",
       "<span style=\"color: #008080; text-decoration-color: #008080; font-weight: bold\">546</span>                                   Satyam Poha Jada          <span style=\"color: #008080; text-decoration-color: #008080; font-weight: bold\">500</span>       <span style=\"color: #008080; text-decoration-color: #008080; font-weight: bold\">500</span>   \n",
       "<span style=\"color: #008080; text-decoration-color: #008080; font-weight: bold\">561</span>                             Satyam Thin Poha Patla          <span style=\"color: #008080; text-decoration-color: #008080; font-weight: bold\">500</span>       <span style=\"color: #008080; text-decoration-color: #008080; font-weight: bold\">500</span>   \n",
       "<span style=\"color: #008080; text-decoration-color: #008080; font-weight: bold\">554</span>                                  Tata Sampann Poha          <span style=\"color: #008080; text-decoration-color: #008080; font-weight: bold\">500</span>       <span style=\"color: #008080; text-decoration-color: #008080; font-weight: bold\">500</span>   \n",
       "<span style=\"color: #008080; text-decoration-color: #008080; font-weight: bold\">564</span>                                   Satyam Singdana           <span style=\"color: #008080; text-decoration-color: #008080; font-weight: bold\">500</span>       <span style=\"color: #008080; text-decoration-color: #008080; font-weight: bold\">500</span>   \n",
       "<span style=\"color: #008080; text-decoration-color: #008080; font-weight: bold\">565</span>                         Tata Sampann Moong Chilka           <span style=\"color: #008080; text-decoration-color: #008080; font-weight: bold\">500</span>       <span style=\"color: #008080; text-decoration-color: #008080; font-weight: bold\">500</span>   \n",
       "<span style=\"color: #008080; text-decoration-color: #008080; font-weight: bold\">566</span>         Tata Sampann High Protien Toor Dal - Split          <span style=\"color: #008080; text-decoration-color: #008080; font-weight: bold\">500</span>       <span style=\"color: #008080; text-decoration-color: #008080; font-weight: bold\">500</span>   \n",
       "<span style=\"color: #008080; text-decoration-color: #008080; font-weight: bold\">563</span>        Tata Sampann High Protien Chana Dal - Split          <span style=\"color: #008080; text-decoration-color: #008080; font-weight: bold\">500</span>       <span style=\"color: #008080; text-decoration-color: #008080; font-weight: bold\">500</span>   \n",
       "<span style=\"color: #008080; text-decoration-color: #008080; font-weight: bold\">584</span>                     Popular Essentials Brown Sugar          <span style=\"color: #008080; text-decoration-color: #008080; font-weight: bold\">500</span>       <span style=\"color: #008080; text-decoration-color: #008080; font-weight: bold\">500</span>   \n",
       "<span style=\"color: #008080; text-decoration-color: #008080; font-weight: bold\">559</span>         Tata Sampann Unpolished Toor Dal/Arhar Dal         <span style=\"color: #008080; text-decoration-color: #008080; font-weight: bold\">1000</span>       <span style=\"color: #008080; text-decoration-color: #008080; font-weight: bold\">200</span>   \n",
       "<span style=\"color: #008080; text-decoration-color: #008080; font-weight: bold\">597</span>                   Zorabian Chicken Kheema Parathas          <span style=\"color: #008080; text-decoration-color: #008080; font-weight: bold\">300</span>       <span style=\"color: #008080; text-decoration-color: #008080; font-weight: bold\">300</span>   \n",
       "<span style=\"color: #008080; text-decoration-color: #008080; font-weight: bold\">551</span>            Maggi <span style=\"color: #008080; text-decoration-color: #008080; font-weight: bold\">2</span>-Minute Instant Noodles - Masala          <span style=\"color: #008080; text-decoration-color: #008080; font-weight: bold\">280</span>       <span style=\"color: #008080; text-decoration-color: #008080; font-weight: bold\">280</span>   \n",
       "<span style=\"color: #008080; text-decoration-color: #008080; font-weight: bold\">604</span>           Maggi Special Masala Spicy Yummy Noodles          <span style=\"color: #008080; text-decoration-color: #008080; font-weight: bold\">280</span>       <span style=\"color: #008080; text-decoration-color: #008080; font-weight: bold\">280</span>   \n",
       "\n",
       "     discountPercent  \n",
       "<span style=\"color: #008080; text-decoration-color: #008080; font-weight: bold\">571</span>                <span style=\"color: #008080; text-decoration-color: #008080; font-weight: bold\">0</span>  \n",
       "<span style=\"color: #008080; text-decoration-color: #008080; font-weight: bold\">589</span>                <span style=\"color: #008080; text-decoration-color: #008080; font-weight: bold\">9</span>  \n",
       "<span style=\"color: #008080; text-decoration-color: #008080; font-weight: bold\">593</span>               <span style=\"color: #008080; text-decoration-color: #008080; font-weight: bold\">50</span>  \n",
       "<span style=\"color: #008080; text-decoration-color: #008080; font-weight: bold\">599</span>               <span style=\"color: #008080; text-decoration-color: #008080; font-weight: bold\">40</span>  \n",
       "<span style=\"color: #008080; text-decoration-color: #008080; font-weight: bold\">573</span>               <span style=\"color: #008080; text-decoration-color: #008080; font-weight: bold\">10</span>  \n",
       "<span style=\"color: #008080; text-decoration-color: #008080; font-weight: bold\">583</span>               <span style=\"color: #008080; text-decoration-color: #008080; font-weight: bold\">10</span>  \n",
       "<span style=\"color: #008080; text-decoration-color: #008080; font-weight: bold\">569</span>                <span style=\"color: #008080; text-decoration-color: #008080; font-weight: bold\">9</span>  \n",
       "<span style=\"color: #008080; text-decoration-color: #008080; font-weight: bold\">591</span>                <span style=\"color: #008080; text-decoration-color: #008080; font-weight: bold\">9</span>  \n",
       "<span style=\"color: #008080; text-decoration-color: #008080; font-weight: bold\">546</span>                <span style=\"color: #008080; text-decoration-color: #008080; font-weight: bold\">8</span>  \n",
       "<span style=\"color: #008080; text-decoration-color: #008080; font-weight: bold\">561</span>                <span style=\"color: #008080; text-decoration-color: #008080; font-weight: bold\">7</span>  \n",
       "<span style=\"color: #008080; text-decoration-color: #008080; font-weight: bold\">554</span>                <span style=\"color: #008080; text-decoration-color: #008080; font-weight: bold\">6</span>  \n",
       "<span style=\"color: #008080; text-decoration-color: #008080; font-weight: bold\">564</span>                <span style=\"color: #008080; text-decoration-color: #008080; font-weight: bold\">6</span>  \n",
       "<span style=\"color: #008080; text-decoration-color: #008080; font-weight: bold\">565</span>                <span style=\"color: #008080; text-decoration-color: #008080; font-weight: bold\">6</span>  \n",
       "<span style=\"color: #008080; text-decoration-color: #008080; font-weight: bold\">566</span>                <span style=\"color: #008080; text-decoration-color: #008080; font-weight: bold\">2</span>  \n",
       "<span style=\"color: #008080; text-decoration-color: #008080; font-weight: bold\">563</span>                <span style=\"color: #008080; text-decoration-color: #008080; font-weight: bold\">0</span>  \n",
       "<span style=\"color: #008080; text-decoration-color: #008080; font-weight: bold\">584</span>                <span style=\"color: #008080; text-decoration-color: #008080; font-weight: bold\">0</span>  \n",
       "<span style=\"color: #008080; text-decoration-color: #008080; font-weight: bold\">559</span>                <span style=\"color: #008080; text-decoration-color: #008080; font-weight: bold\">1</span>  \n",
       "<span style=\"color: #008080; text-decoration-color: #008080; font-weight: bold\">597</span>                <span style=\"color: #008080; text-decoration-color: #008080; font-weight: bold\">0</span>  \n",
       "<span style=\"color: #008080; text-decoration-color: #008080; font-weight: bold\">551</span>                <span style=\"color: #008080; text-decoration-color: #008080; font-weight: bold\">0</span>  \n",
       "<span style=\"color: #008080; text-decoration-color: #008080; font-weight: bold\">604</span>                <span style=\"color: #008080; text-decoration-color: #008080; font-weight: bold\">0</span>  \n",
       "</pre>\n"
      ]
     },
     "metadata": {},
     "output_type": "display_data"
    },
    {
     "data": {
      "text/plain": [
       "\n",
       "\n",
       "Dairy, Bread & Batter\n",
       "\n",
       "                                                   name  weightInGms  \\\n",
       "\u001B[1;36m1231\u001B[0m                      Nestle A+ Slim Dahi - Low Fat          \u001B[1;36m400\u001B[0m   \n",
       "\u001B[1;36m1226\u001B[0m                    The Bake Shop Whole Wheat Bread          \u001B[1;36m400\u001B[0m   \n",
       "\u001B[1;36m1237\u001B[0m                    The Bake Shop Multi Grain Bread          \u001B[1;36m400\u001B[0m   \n",
       "\u001B[1;36m1240\u001B[0m  The Whole Truth Peanut Butter - Unsweetened & \u001B[33m...\u001B[0m          \u001B[1;36m325\u001B[0m   \n",
       "\u001B[1;36m1232\u001B[0m                      Britannia Cheese Garlic Bread          \u001B[1;36m300\u001B[0m   \n",
       "\u001B[1;36m1225\u001B[0m                             Amul Lactose Free Milk          \u001B[1;36m250\u001B[0m   \n",
       "\u001B[1;36m1235\u001B[0m                              Britannia Atta Kulcha          \u001B[1;36m250\u001B[0m   \n",
       "\u001B[1;36m1249\u001B[0m                        RRO Mozzarella Block Cheese          \u001B[1;36m200\u001B[0m   \n",
       "\u001B[1;36m1239\u001B[0m         Go Cheese Pizza Blend Mozzarella + Cheddar          \u001B[1;36m200\u001B[0m   \n",
       "\u001B[1;36m1222\u001B[0m                           Amul Malai Paneer Fresh           \u001B[1;36m200\u001B[0m   \n",
       "\u001B[1;36m1241\u001B[0m                    Amul Cheese Spread Spicy Garlic          \u001B[1;36m200\u001B[0m   \n",
       "\u001B[1;36m1229\u001B[0m                     Amul Pizza Cheese - Mozzarella          \u001B[1;36m200\u001B[0m   \n",
       "\u001B[1;36m1233\u001B[0m                 The Bake Shop Whole Wheat Ladi Pav          \u001B[1;36m200\u001B[0m   \n",
       "\u001B[1;36m1234\u001B[0m                     Amul Cheese Spread Yummy Plain          \u001B[1;36m200\u001B[0m   \n",
       "\u001B[1;36m1247\u001B[0m                         Prabhat Malai Paneer Pouch          \u001B[1;36m200\u001B[0m   \n",
       "\u001B[1;36m1246\u001B[0m                   Pillsbury Pancake Mix - Funfetti          \u001B[1;36m162\u001B[0m   \n",
       "\u001B[1;36m1230\u001B[0m               The Bake Shop Pizza Base Whole Wheat          \u001B[1;36m150\u001B[0m   \n",
       "\u001B[1;36m1243\u001B[0m                 D'lecta Shredded Mozzarella Cheese          \u001B[1;36m140\u001B[0m   \n",
       "\u001B[1;36m1242\u001B[0m                          The Bake Shop Burger Buns          \u001B[1;36m100\u001B[0m   \n",
       "\u001B[1;36m1236\u001B[0m                                 Suguna Nourish Egg          \u001B[1;36m696\u001B[0m   \n",
       "\n",
       "      quantity  discountPercent  \n",
       "\u001B[1;36m1231\u001B[0m       \u001B[1;36m400\u001B[0m                \u001B[1;36m3\u001B[0m  \n",
       "\u001B[1;36m1226\u001B[0m       \u001B[1;36m400\u001B[0m                \u001B[1;36m0\u001B[0m  \n",
       "\u001B[1;36m1237\u001B[0m       \u001B[1;36m400\u001B[0m                \u001B[1;36m0\u001B[0m  \n",
       "\u001B[1;36m1240\u001B[0m       \u001B[1;36m325\u001B[0m               \u001B[1;36m20\u001B[0m  \n",
       "\u001B[1;36m1232\u001B[0m       \u001B[1;36m300\u001B[0m                \u001B[1;36m0\u001B[0m  \n",
       "\u001B[1;36m1225\u001B[0m       \u001B[1;36m250\u001B[0m                \u001B[1;36m4\u001B[0m  \n",
       "\u001B[1;36m1235\u001B[0m       \u001B[1;36m250\u001B[0m                \u001B[1;36m0\u001B[0m  \n",
       "\u001B[1;36m1249\u001B[0m       \u001B[1;36m200\u001B[0m               \u001B[1;36m50\u001B[0m  \n",
       "\u001B[1;36m1239\u001B[0m       \u001B[1;36m200\u001B[0m                \u001B[1;36m5\u001B[0m  \n",
       "\u001B[1;36m1222\u001B[0m       \u001B[1;36m200\u001B[0m                \u001B[1;36m3\u001B[0m  \n",
       "\u001B[1;36m1241\u001B[0m       \u001B[1;36m200\u001B[0m                \u001B[1;36m3\u001B[0m  \n",
       "\u001B[1;36m1229\u001B[0m       \u001B[1;36m200\u001B[0m                \u001B[1;36m1\u001B[0m  \n",
       "\u001B[1;36m1233\u001B[0m       \u001B[1;36m200\u001B[0m                \u001B[1;36m0\u001B[0m  \n",
       "\u001B[1;36m1234\u001B[0m       \u001B[1;36m200\u001B[0m                \u001B[1;36m0\u001B[0m  \n",
       "\u001B[1;36m1247\u001B[0m       \u001B[1;36m200\u001B[0m                \u001B[1;36m0\u001B[0m  \n",
       "\u001B[1;36m1246\u001B[0m       \u001B[1;36m162\u001B[0m               \u001B[1;36m11\u001B[0m  \n",
       "\u001B[1;36m1230\u001B[0m       \u001B[1;36m150\u001B[0m                \u001B[1;36m0\u001B[0m  \n",
       "\u001B[1;36m1243\u001B[0m       \u001B[1;36m140\u001B[0m                \u001B[1;36m5\u001B[0m  \n",
       "\u001B[1;36m1242\u001B[0m       \u001B[1;36m100\u001B[0m                \u001B[1;36m0\u001B[0m  \n",
       "\u001B[1;36m1236\u001B[0m        \u001B[1;36m12\u001B[0m                \u001B[1;36m0\u001B[0m  \n"
      ],
      "text/html": [
       "<pre style=\"white-space:pre;overflow-x:auto;line-height:normal;font-family:Menlo,'DejaVu Sans Mono',consolas,'Courier New',monospace\">\n",
       "\n",
       "Dairy, Bread &amp; Batter\n",
       "\n",
       "                                                   name  weightInGms  \\\n",
       "<span style=\"color: #008080; text-decoration-color: #008080; font-weight: bold\">1231</span>                      Nestle A+ Slim Dahi - Low Fat          <span style=\"color: #008080; text-decoration-color: #008080; font-weight: bold\">400</span>   \n",
       "<span style=\"color: #008080; text-decoration-color: #008080; font-weight: bold\">1226</span>                    The Bake Shop Whole Wheat Bread          <span style=\"color: #008080; text-decoration-color: #008080; font-weight: bold\">400</span>   \n",
       "<span style=\"color: #008080; text-decoration-color: #008080; font-weight: bold\">1237</span>                    The Bake Shop Multi Grain Bread          <span style=\"color: #008080; text-decoration-color: #008080; font-weight: bold\">400</span>   \n",
       "<span style=\"color: #008080; text-decoration-color: #008080; font-weight: bold\">1240</span>  The Whole Truth Peanut Butter - Unsweetened &amp; <span style=\"color: #808000; text-decoration-color: #808000\">...</span>          <span style=\"color: #008080; text-decoration-color: #008080; font-weight: bold\">325</span>   \n",
       "<span style=\"color: #008080; text-decoration-color: #008080; font-weight: bold\">1232</span>                      Britannia Cheese Garlic Bread          <span style=\"color: #008080; text-decoration-color: #008080; font-weight: bold\">300</span>   \n",
       "<span style=\"color: #008080; text-decoration-color: #008080; font-weight: bold\">1225</span>                             Amul Lactose Free Milk          <span style=\"color: #008080; text-decoration-color: #008080; font-weight: bold\">250</span>   \n",
       "<span style=\"color: #008080; text-decoration-color: #008080; font-weight: bold\">1235</span>                              Britannia Atta Kulcha          <span style=\"color: #008080; text-decoration-color: #008080; font-weight: bold\">250</span>   \n",
       "<span style=\"color: #008080; text-decoration-color: #008080; font-weight: bold\">1249</span>                        RRO Mozzarella Block Cheese          <span style=\"color: #008080; text-decoration-color: #008080; font-weight: bold\">200</span>   \n",
       "<span style=\"color: #008080; text-decoration-color: #008080; font-weight: bold\">1239</span>         Go Cheese Pizza Blend Mozzarella + Cheddar          <span style=\"color: #008080; text-decoration-color: #008080; font-weight: bold\">200</span>   \n",
       "<span style=\"color: #008080; text-decoration-color: #008080; font-weight: bold\">1222</span>                           Amul Malai Paneer Fresh           <span style=\"color: #008080; text-decoration-color: #008080; font-weight: bold\">200</span>   \n",
       "<span style=\"color: #008080; text-decoration-color: #008080; font-weight: bold\">1241</span>                    Amul Cheese Spread Spicy Garlic          <span style=\"color: #008080; text-decoration-color: #008080; font-weight: bold\">200</span>   \n",
       "<span style=\"color: #008080; text-decoration-color: #008080; font-weight: bold\">1229</span>                     Amul Pizza Cheese - Mozzarella          <span style=\"color: #008080; text-decoration-color: #008080; font-weight: bold\">200</span>   \n",
       "<span style=\"color: #008080; text-decoration-color: #008080; font-weight: bold\">1233</span>                 The Bake Shop Whole Wheat Ladi Pav          <span style=\"color: #008080; text-decoration-color: #008080; font-weight: bold\">200</span>   \n",
       "<span style=\"color: #008080; text-decoration-color: #008080; font-weight: bold\">1234</span>                     Amul Cheese Spread Yummy Plain          <span style=\"color: #008080; text-decoration-color: #008080; font-weight: bold\">200</span>   \n",
       "<span style=\"color: #008080; text-decoration-color: #008080; font-weight: bold\">1247</span>                         Prabhat Malai Paneer Pouch          <span style=\"color: #008080; text-decoration-color: #008080; font-weight: bold\">200</span>   \n",
       "<span style=\"color: #008080; text-decoration-color: #008080; font-weight: bold\">1246</span>                   Pillsbury Pancake Mix - Funfetti          <span style=\"color: #008080; text-decoration-color: #008080; font-weight: bold\">162</span>   \n",
       "<span style=\"color: #008080; text-decoration-color: #008080; font-weight: bold\">1230</span>               The Bake Shop Pizza Base Whole Wheat          <span style=\"color: #008080; text-decoration-color: #008080; font-weight: bold\">150</span>   \n",
       "<span style=\"color: #008080; text-decoration-color: #008080; font-weight: bold\">1243</span>                 D'lecta Shredded Mozzarella Cheese          <span style=\"color: #008080; text-decoration-color: #008080; font-weight: bold\">140</span>   \n",
       "<span style=\"color: #008080; text-decoration-color: #008080; font-weight: bold\">1242</span>                          The Bake Shop Burger Buns          <span style=\"color: #008080; text-decoration-color: #008080; font-weight: bold\">100</span>   \n",
       "<span style=\"color: #008080; text-decoration-color: #008080; font-weight: bold\">1236</span>                                 Suguna Nourish Egg          <span style=\"color: #008080; text-decoration-color: #008080; font-weight: bold\">696</span>   \n",
       "\n",
       "      quantity  discountPercent  \n",
       "<span style=\"color: #008080; text-decoration-color: #008080; font-weight: bold\">1231</span>       <span style=\"color: #008080; text-decoration-color: #008080; font-weight: bold\">400</span>                <span style=\"color: #008080; text-decoration-color: #008080; font-weight: bold\">3</span>  \n",
       "<span style=\"color: #008080; text-decoration-color: #008080; font-weight: bold\">1226</span>       <span style=\"color: #008080; text-decoration-color: #008080; font-weight: bold\">400</span>                <span style=\"color: #008080; text-decoration-color: #008080; font-weight: bold\">0</span>  \n",
       "<span style=\"color: #008080; text-decoration-color: #008080; font-weight: bold\">1237</span>       <span style=\"color: #008080; text-decoration-color: #008080; font-weight: bold\">400</span>                <span style=\"color: #008080; text-decoration-color: #008080; font-weight: bold\">0</span>  \n",
       "<span style=\"color: #008080; text-decoration-color: #008080; font-weight: bold\">1240</span>       <span style=\"color: #008080; text-decoration-color: #008080; font-weight: bold\">325</span>               <span style=\"color: #008080; text-decoration-color: #008080; font-weight: bold\">20</span>  \n",
       "<span style=\"color: #008080; text-decoration-color: #008080; font-weight: bold\">1232</span>       <span style=\"color: #008080; text-decoration-color: #008080; font-weight: bold\">300</span>                <span style=\"color: #008080; text-decoration-color: #008080; font-weight: bold\">0</span>  \n",
       "<span style=\"color: #008080; text-decoration-color: #008080; font-weight: bold\">1225</span>       <span style=\"color: #008080; text-decoration-color: #008080; font-weight: bold\">250</span>                <span style=\"color: #008080; text-decoration-color: #008080; font-weight: bold\">4</span>  \n",
       "<span style=\"color: #008080; text-decoration-color: #008080; font-weight: bold\">1235</span>       <span style=\"color: #008080; text-decoration-color: #008080; font-weight: bold\">250</span>                <span style=\"color: #008080; text-decoration-color: #008080; font-weight: bold\">0</span>  \n",
       "<span style=\"color: #008080; text-decoration-color: #008080; font-weight: bold\">1249</span>       <span style=\"color: #008080; text-decoration-color: #008080; font-weight: bold\">200</span>               <span style=\"color: #008080; text-decoration-color: #008080; font-weight: bold\">50</span>  \n",
       "<span style=\"color: #008080; text-decoration-color: #008080; font-weight: bold\">1239</span>       <span style=\"color: #008080; text-decoration-color: #008080; font-weight: bold\">200</span>                <span style=\"color: #008080; text-decoration-color: #008080; font-weight: bold\">5</span>  \n",
       "<span style=\"color: #008080; text-decoration-color: #008080; font-weight: bold\">1222</span>       <span style=\"color: #008080; text-decoration-color: #008080; font-weight: bold\">200</span>                <span style=\"color: #008080; text-decoration-color: #008080; font-weight: bold\">3</span>  \n",
       "<span style=\"color: #008080; text-decoration-color: #008080; font-weight: bold\">1241</span>       <span style=\"color: #008080; text-decoration-color: #008080; font-weight: bold\">200</span>                <span style=\"color: #008080; text-decoration-color: #008080; font-weight: bold\">3</span>  \n",
       "<span style=\"color: #008080; text-decoration-color: #008080; font-weight: bold\">1229</span>       <span style=\"color: #008080; text-decoration-color: #008080; font-weight: bold\">200</span>                <span style=\"color: #008080; text-decoration-color: #008080; font-weight: bold\">1</span>  \n",
       "<span style=\"color: #008080; text-decoration-color: #008080; font-weight: bold\">1233</span>       <span style=\"color: #008080; text-decoration-color: #008080; font-weight: bold\">200</span>                <span style=\"color: #008080; text-decoration-color: #008080; font-weight: bold\">0</span>  \n",
       "<span style=\"color: #008080; text-decoration-color: #008080; font-weight: bold\">1234</span>       <span style=\"color: #008080; text-decoration-color: #008080; font-weight: bold\">200</span>                <span style=\"color: #008080; text-decoration-color: #008080; font-weight: bold\">0</span>  \n",
       "<span style=\"color: #008080; text-decoration-color: #008080; font-weight: bold\">1247</span>       <span style=\"color: #008080; text-decoration-color: #008080; font-weight: bold\">200</span>                <span style=\"color: #008080; text-decoration-color: #008080; font-weight: bold\">0</span>  \n",
       "<span style=\"color: #008080; text-decoration-color: #008080; font-weight: bold\">1246</span>       <span style=\"color: #008080; text-decoration-color: #008080; font-weight: bold\">162</span>               <span style=\"color: #008080; text-decoration-color: #008080; font-weight: bold\">11</span>  \n",
       "<span style=\"color: #008080; text-decoration-color: #008080; font-weight: bold\">1230</span>       <span style=\"color: #008080; text-decoration-color: #008080; font-weight: bold\">150</span>                <span style=\"color: #008080; text-decoration-color: #008080; font-weight: bold\">0</span>  \n",
       "<span style=\"color: #008080; text-decoration-color: #008080; font-weight: bold\">1243</span>       <span style=\"color: #008080; text-decoration-color: #008080; font-weight: bold\">140</span>                <span style=\"color: #008080; text-decoration-color: #008080; font-weight: bold\">5</span>  \n",
       "<span style=\"color: #008080; text-decoration-color: #008080; font-weight: bold\">1242</span>       <span style=\"color: #008080; text-decoration-color: #008080; font-weight: bold\">100</span>                <span style=\"color: #008080; text-decoration-color: #008080; font-weight: bold\">0</span>  \n",
       "<span style=\"color: #008080; text-decoration-color: #008080; font-weight: bold\">1236</span>        <span style=\"color: #008080; text-decoration-color: #008080; font-weight: bold\">12</span>                <span style=\"color: #008080; text-decoration-color: #008080; font-weight: bold\">0</span>  \n",
       "</pre>\n"
      ]
     },
     "metadata": {},
     "output_type": "display_data"
    },
    {
     "data": {
      "text/plain": [
       "\n",
       "\n",
       "Packaged Food\n",
       "\n",
       "                                                 name  weightInGms  quantity  \\\n",
       "\u001B[1;36m1753\u001B[0m    Del Monte Original Blend Tomato Ketchup Pouch          \u001B[1;36m950\u001B[0m       \u001B[1;36m950\u001B[0m   \n",
       "\u001B[1;36m1744\u001B[0m   Kelloggs Corn Flakes With Real Strawberry Pure          \u001B[1;36m575\u001B[0m       \u001B[1;36m575\u001B[0m   \n",
       "\u001B[1;36m1755\u001B[0m                           Del Monte Eggless Mayo          \u001B[1;36m500\u001B[0m       \u001B[1;36m500\u001B[0m   \n",
       "\u001B[1;36m1725\u001B[0m                          Kissan Mixed Fruit Jam           \u001B[1;36m500\u001B[0m       \u001B[1;36m500\u001B[0m   \n",
       "\u001B[1;36m1762\u001B[0m                               Yummiez Green Peas          \u001B[1;36m500\u001B[0m       \u001B[1;36m500\u001B[0m   \n",
       "\u001B[1;36m1766\u001B[0m                    Del Monte Pitted Green Olives          \u001B[1;36m450\u001B[0m       \u001B[1;36m450\u001B[0m   \n",
       "\u001B[1;36m1757\u001B[0m                    Mother's Recipe Mixed Pickle           \u001B[1;36m400\u001B[0m       \u001B[1;36m400\u001B[0m   \n",
       "\u001B[1;36m1764\u001B[0m                      Yummiez American Sweet Corn          \u001B[1;36m400\u001B[0m       \u001B[1;36m400\u001B[0m   \n",
       "\u001B[1;36m1759\u001B[0m                  Hershey's Cocoa + Almond Spread          \u001B[1;36m350\u001B[0m       \u001B[1;36m350\u001B[0m   \n",
       "\u001B[1;36m1756\u001B[0m            ITC Master Chef Cheesy Corn Triangles          \u001B[1;36m320\u001B[0m       \u001B[1;36m320\u001B[0m   \n",
       "\u001B[1;36m1741\u001B[0m       Veeba Favourites Eggless Burger Mayonnaise          \u001B[1;36m250\u001B[0m       \u001B[1;36m250\u001B[0m   \n",
       "\u001B[1;36m1765\u001B[0m  Dr Oetker Cucumber & Carrot Sandwich Spread Veg          \u001B[1;36m250\u001B[0m       \u001B[1;36m250\u001B[0m   \n",
       "\u001B[1;36m1728\u001B[0m          Mother's Recipe Ginger And Garlic Paste          \u001B[1;36m200\u001B[0m       \u001B[1;36m200\u001B[0m   \n",
       "\u001B[1;36m1726\u001B[0m                                Lijjat Urad Papad          \u001B[1;36m200\u001B[0m       \u001B[1;36m200\u001B[0m   \n",
       "\u001B[1;36m1738\u001B[0m                               Lijjat Moong Papad          \u001B[1;36m200\u001B[0m       \u001B[1;36m200\u001B[0m   \n",
       "\u001B[1;36m1761\u001B[0m                         Del Monte Schezwan Sauce          \u001B[1;36m190\u001B[0m       \u001B[1;36m190\u001B[0m   \n",
       "\u001B[1;36m1754\u001B[0m                       Del Monte Natural Vinegar           \u001B[1;36m180\u001B[0m       \u001B[1;36m180\u001B[0m   \n",
       "\u001B[1;36m1724\u001B[0m                      Kellogg's Chocos Combo Pack          \u001B[1;36m156\u001B[0m       \u001B[1;36m156\u001B[0m   \n",
       "\u001B[1;36m1748\u001B[0m                Dabur Hommade - Imli Sauce Saunth          \u001B[1;36m100\u001B[0m       \u001B[1;36m100\u001B[0m   \n",
       "\u001B[1;36m1723\u001B[0m          Kurkure Green Chutney, Rajasthani Style           \u001B[1;36m90\u001B[0m        \u001B[1;36m90\u001B[0m   \n",
       "\n",
       "      discountPercent  \n",
       "\u001B[1;36m1753\u001B[0m                \u001B[1;36m7\u001B[0m  \n",
       "\u001B[1;36m1744\u001B[0m               \u001B[1;36m10\u001B[0m  \n",
       "\u001B[1;36m1755\u001B[0m                \u001B[1;36m6\u001B[0m  \n",
       "\u001B[1;36m1725\u001B[0m                \u001B[1;36m0\u001B[0m  \n",
       "\u001B[1;36m1762\u001B[0m                \u001B[1;36m0\u001B[0m  \n",
       "\u001B[1;36m1766\u001B[0m                \u001B[1;36m0\u001B[0m  \n",
       "\u001B[1;36m1757\u001B[0m                \u001B[1;36m4\u001B[0m  \n",
       "\u001B[1;36m1764\u001B[0m                \u001B[1;36m0\u001B[0m  \n",
       "\u001B[1;36m1759\u001B[0m                \u001B[1;36m9\u001B[0m  \n",
       "\u001B[1;36m1756\u001B[0m                \u001B[1;36m5\u001B[0m  \n",
       "\u001B[1;36m1741\u001B[0m                \u001B[1;36m8\u001B[0m  \n",
       "\u001B[1;36m1765\u001B[0m                \u001B[1;36m0\u001B[0m  \n",
       "\u001B[1;36m1728\u001B[0m               \u001B[1;36m24\u001B[0m  \n",
       "\u001B[1;36m1726\u001B[0m                \u001B[1;36m5\u001B[0m  \n",
       "\u001B[1;36m1738\u001B[0m                \u001B[1;36m5\u001B[0m  \n",
       "\u001B[1;36m1761\u001B[0m                \u001B[1;36m0\u001B[0m  \n",
       "\u001B[1;36m1754\u001B[0m                \u001B[1;36m3\u001B[0m  \n",
       "\u001B[1;36m1724\u001B[0m                \u001B[1;36m6\u001B[0m  \n",
       "\u001B[1;36m1748\u001B[0m               \u001B[1;36m10\u001B[0m  \n",
       "\u001B[1;36m1723\u001B[0m                \u001B[1;36m0\u001B[0m  \n"
      ],
      "text/html": [
       "<pre style=\"white-space:pre;overflow-x:auto;line-height:normal;font-family:Menlo,'DejaVu Sans Mono',consolas,'Courier New',monospace\">\n",
       "\n",
       "Packaged Food\n",
       "\n",
       "                                                 name  weightInGms  quantity  \\\n",
       "<span style=\"color: #008080; text-decoration-color: #008080; font-weight: bold\">1753</span>    Del Monte Original Blend Tomato Ketchup Pouch          <span style=\"color: #008080; text-decoration-color: #008080; font-weight: bold\">950</span>       <span style=\"color: #008080; text-decoration-color: #008080; font-weight: bold\">950</span>   \n",
       "<span style=\"color: #008080; text-decoration-color: #008080; font-weight: bold\">1744</span>   Kelloggs Corn Flakes With Real Strawberry Pure          <span style=\"color: #008080; text-decoration-color: #008080; font-weight: bold\">575</span>       <span style=\"color: #008080; text-decoration-color: #008080; font-weight: bold\">575</span>   \n",
       "<span style=\"color: #008080; text-decoration-color: #008080; font-weight: bold\">1755</span>                           Del Monte Eggless Mayo          <span style=\"color: #008080; text-decoration-color: #008080; font-weight: bold\">500</span>       <span style=\"color: #008080; text-decoration-color: #008080; font-weight: bold\">500</span>   \n",
       "<span style=\"color: #008080; text-decoration-color: #008080; font-weight: bold\">1725</span>                          Kissan Mixed Fruit Jam           <span style=\"color: #008080; text-decoration-color: #008080; font-weight: bold\">500</span>       <span style=\"color: #008080; text-decoration-color: #008080; font-weight: bold\">500</span>   \n",
       "<span style=\"color: #008080; text-decoration-color: #008080; font-weight: bold\">1762</span>                               Yummiez Green Peas          <span style=\"color: #008080; text-decoration-color: #008080; font-weight: bold\">500</span>       <span style=\"color: #008080; text-decoration-color: #008080; font-weight: bold\">500</span>   \n",
       "<span style=\"color: #008080; text-decoration-color: #008080; font-weight: bold\">1766</span>                    Del Monte Pitted Green Olives          <span style=\"color: #008080; text-decoration-color: #008080; font-weight: bold\">450</span>       <span style=\"color: #008080; text-decoration-color: #008080; font-weight: bold\">450</span>   \n",
       "<span style=\"color: #008080; text-decoration-color: #008080; font-weight: bold\">1757</span>                    Mother's Recipe Mixed Pickle           <span style=\"color: #008080; text-decoration-color: #008080; font-weight: bold\">400</span>       <span style=\"color: #008080; text-decoration-color: #008080; font-weight: bold\">400</span>   \n",
       "<span style=\"color: #008080; text-decoration-color: #008080; font-weight: bold\">1764</span>                      Yummiez American Sweet Corn          <span style=\"color: #008080; text-decoration-color: #008080; font-weight: bold\">400</span>       <span style=\"color: #008080; text-decoration-color: #008080; font-weight: bold\">400</span>   \n",
       "<span style=\"color: #008080; text-decoration-color: #008080; font-weight: bold\">1759</span>                  Hershey's Cocoa + Almond Spread          <span style=\"color: #008080; text-decoration-color: #008080; font-weight: bold\">350</span>       <span style=\"color: #008080; text-decoration-color: #008080; font-weight: bold\">350</span>   \n",
       "<span style=\"color: #008080; text-decoration-color: #008080; font-weight: bold\">1756</span>            ITC Master Chef Cheesy Corn Triangles          <span style=\"color: #008080; text-decoration-color: #008080; font-weight: bold\">320</span>       <span style=\"color: #008080; text-decoration-color: #008080; font-weight: bold\">320</span>   \n",
       "<span style=\"color: #008080; text-decoration-color: #008080; font-weight: bold\">1741</span>       Veeba Favourites Eggless Burger Mayonnaise          <span style=\"color: #008080; text-decoration-color: #008080; font-weight: bold\">250</span>       <span style=\"color: #008080; text-decoration-color: #008080; font-weight: bold\">250</span>   \n",
       "<span style=\"color: #008080; text-decoration-color: #008080; font-weight: bold\">1765</span>  Dr Oetker Cucumber &amp; Carrot Sandwich Spread Veg          <span style=\"color: #008080; text-decoration-color: #008080; font-weight: bold\">250</span>       <span style=\"color: #008080; text-decoration-color: #008080; font-weight: bold\">250</span>   \n",
       "<span style=\"color: #008080; text-decoration-color: #008080; font-weight: bold\">1728</span>          Mother's Recipe Ginger And Garlic Paste          <span style=\"color: #008080; text-decoration-color: #008080; font-weight: bold\">200</span>       <span style=\"color: #008080; text-decoration-color: #008080; font-weight: bold\">200</span>   \n",
       "<span style=\"color: #008080; text-decoration-color: #008080; font-weight: bold\">1726</span>                                Lijjat Urad Papad          <span style=\"color: #008080; text-decoration-color: #008080; font-weight: bold\">200</span>       <span style=\"color: #008080; text-decoration-color: #008080; font-weight: bold\">200</span>   \n",
       "<span style=\"color: #008080; text-decoration-color: #008080; font-weight: bold\">1738</span>                               Lijjat Moong Papad          <span style=\"color: #008080; text-decoration-color: #008080; font-weight: bold\">200</span>       <span style=\"color: #008080; text-decoration-color: #008080; font-weight: bold\">200</span>   \n",
       "<span style=\"color: #008080; text-decoration-color: #008080; font-weight: bold\">1761</span>                         Del Monte Schezwan Sauce          <span style=\"color: #008080; text-decoration-color: #008080; font-weight: bold\">190</span>       <span style=\"color: #008080; text-decoration-color: #008080; font-weight: bold\">190</span>   \n",
       "<span style=\"color: #008080; text-decoration-color: #008080; font-weight: bold\">1754</span>                       Del Monte Natural Vinegar           <span style=\"color: #008080; text-decoration-color: #008080; font-weight: bold\">180</span>       <span style=\"color: #008080; text-decoration-color: #008080; font-weight: bold\">180</span>   \n",
       "<span style=\"color: #008080; text-decoration-color: #008080; font-weight: bold\">1724</span>                      Kellogg's Chocos Combo Pack          <span style=\"color: #008080; text-decoration-color: #008080; font-weight: bold\">156</span>       <span style=\"color: #008080; text-decoration-color: #008080; font-weight: bold\">156</span>   \n",
       "<span style=\"color: #008080; text-decoration-color: #008080; font-weight: bold\">1748</span>                Dabur Hommade - Imli Sauce Saunth          <span style=\"color: #008080; text-decoration-color: #008080; font-weight: bold\">100</span>       <span style=\"color: #008080; text-decoration-color: #008080; font-weight: bold\">100</span>   \n",
       "<span style=\"color: #008080; text-decoration-color: #008080; font-weight: bold\">1723</span>          Kurkure Green Chutney, Rajasthani Style           <span style=\"color: #008080; text-decoration-color: #008080; font-weight: bold\">90</span>        <span style=\"color: #008080; text-decoration-color: #008080; font-weight: bold\">90</span>   \n",
       "\n",
       "      discountPercent  \n",
       "<span style=\"color: #008080; text-decoration-color: #008080; font-weight: bold\">1753</span>                <span style=\"color: #008080; text-decoration-color: #008080; font-weight: bold\">7</span>  \n",
       "<span style=\"color: #008080; text-decoration-color: #008080; font-weight: bold\">1744</span>               <span style=\"color: #008080; text-decoration-color: #008080; font-weight: bold\">10</span>  \n",
       "<span style=\"color: #008080; text-decoration-color: #008080; font-weight: bold\">1755</span>                <span style=\"color: #008080; text-decoration-color: #008080; font-weight: bold\">6</span>  \n",
       "<span style=\"color: #008080; text-decoration-color: #008080; font-weight: bold\">1725</span>                <span style=\"color: #008080; text-decoration-color: #008080; font-weight: bold\">0</span>  \n",
       "<span style=\"color: #008080; text-decoration-color: #008080; font-weight: bold\">1762</span>                <span style=\"color: #008080; text-decoration-color: #008080; font-weight: bold\">0</span>  \n",
       "<span style=\"color: #008080; text-decoration-color: #008080; font-weight: bold\">1766</span>                <span style=\"color: #008080; text-decoration-color: #008080; font-weight: bold\">0</span>  \n",
       "<span style=\"color: #008080; text-decoration-color: #008080; font-weight: bold\">1757</span>                <span style=\"color: #008080; text-decoration-color: #008080; font-weight: bold\">4</span>  \n",
       "<span style=\"color: #008080; text-decoration-color: #008080; font-weight: bold\">1764</span>                <span style=\"color: #008080; text-decoration-color: #008080; font-weight: bold\">0</span>  \n",
       "<span style=\"color: #008080; text-decoration-color: #008080; font-weight: bold\">1759</span>                <span style=\"color: #008080; text-decoration-color: #008080; font-weight: bold\">9</span>  \n",
       "<span style=\"color: #008080; text-decoration-color: #008080; font-weight: bold\">1756</span>                <span style=\"color: #008080; text-decoration-color: #008080; font-weight: bold\">5</span>  \n",
       "<span style=\"color: #008080; text-decoration-color: #008080; font-weight: bold\">1741</span>                <span style=\"color: #008080; text-decoration-color: #008080; font-weight: bold\">8</span>  \n",
       "<span style=\"color: #008080; text-decoration-color: #008080; font-weight: bold\">1765</span>                <span style=\"color: #008080; text-decoration-color: #008080; font-weight: bold\">0</span>  \n",
       "<span style=\"color: #008080; text-decoration-color: #008080; font-weight: bold\">1728</span>               <span style=\"color: #008080; text-decoration-color: #008080; font-weight: bold\">24</span>  \n",
       "<span style=\"color: #008080; text-decoration-color: #008080; font-weight: bold\">1726</span>                <span style=\"color: #008080; text-decoration-color: #008080; font-weight: bold\">5</span>  \n",
       "<span style=\"color: #008080; text-decoration-color: #008080; font-weight: bold\">1738</span>                <span style=\"color: #008080; text-decoration-color: #008080; font-weight: bold\">5</span>  \n",
       "<span style=\"color: #008080; text-decoration-color: #008080; font-weight: bold\">1761</span>                <span style=\"color: #008080; text-decoration-color: #008080; font-weight: bold\">0</span>  \n",
       "<span style=\"color: #008080; text-decoration-color: #008080; font-weight: bold\">1754</span>                <span style=\"color: #008080; text-decoration-color: #008080; font-weight: bold\">3</span>  \n",
       "<span style=\"color: #008080; text-decoration-color: #008080; font-weight: bold\">1724</span>                <span style=\"color: #008080; text-decoration-color: #008080; font-weight: bold\">6</span>  \n",
       "<span style=\"color: #008080; text-decoration-color: #008080; font-weight: bold\">1748</span>               <span style=\"color: #008080; text-decoration-color: #008080; font-weight: bold\">10</span>  \n",
       "<span style=\"color: #008080; text-decoration-color: #008080; font-weight: bold\">1723</span>                <span style=\"color: #008080; text-decoration-color: #008080; font-weight: bold\">0</span>  \n",
       "</pre>\n"
      ]
     },
     "metadata": {},
     "output_type": "display_data"
    },
    {
     "data": {
      "text/plain": [
       "\n",
       "\n",
       "Meats, Fish & Eggs\n",
       "\n",
       "                                            name  weightInGms  quantity  \\\n",
       "\u001B[1;36m2598\u001B[0m        Fresh Chicken Mince - Kheema \u001B[1m(\u001B[0mHalal\u001B[1m)\u001B[0m          \u001B[1;36m500\u001B[0m       \u001B[1;36m500\u001B[0m   \n",
       "\u001B[1;36m2595\u001B[0m  Fresh Chicken Curry Cut - Skinless \u001B[1m(\u001B[0mHalal\u001B[1m)\u001B[0m          \u001B[1;36m500\u001B[0m       \u001B[1;36m500\u001B[0m   \n",
       "\u001B[1;36m2605\u001B[0m                      Zorabian Chicken Cubes          \u001B[1;36m500\u001B[0m       \u001B[1;36m500\u001B[0m   \n",
       "\u001B[1;36m2599\u001B[0m    Godrej Real Good Chicken Boneless Cubes           \u001B[1;36m450\u001B[0m       \u001B[1;36m450\u001B[0m   \n",
       "\u001B[1;36m2596\u001B[0m           Zorabian Chicken Breast Boneless           \u001B[1;36m450\u001B[0m       \u001B[1;36m450\u001B[0m   \n",
       "\u001B[1;36m2602\u001B[0m                      Zorabian Chicken Mince          \u001B[1;36m450\u001B[0m       \u001B[1;36m450\u001B[0m   \n",
       "\u001B[1;36m2603\u001B[0m              Zorabian Chicken Leg Boneless           \u001B[1;36m450\u001B[0m       \u001B[1;36m450\u001B[0m   \n",
       "\n",
       "      discountPercent  \n",
       "\u001B[1;36m2598\u001B[0m                \u001B[1;36m5\u001B[0m  \n",
       "\u001B[1;36m2595\u001B[0m                \u001B[1;36m0\u001B[0m  \n",
       "\u001B[1;36m2605\u001B[0m                \u001B[1;36m0\u001B[0m  \n",
       "\u001B[1;36m2599\u001B[0m                \u001B[1;36m9\u001B[0m  \n",
       "\u001B[1;36m2596\u001B[0m                \u001B[1;36m0\u001B[0m  \n",
       "\u001B[1;36m2602\u001B[0m                \u001B[1;36m0\u001B[0m  \n",
       "\u001B[1;36m2603\u001B[0m                \u001B[1;36m0\u001B[0m  \n"
      ],
      "text/html": [
       "<pre style=\"white-space:pre;overflow-x:auto;line-height:normal;font-family:Menlo,'DejaVu Sans Mono',consolas,'Courier New',monospace\">\n",
       "\n",
       "Meats, Fish &amp; Eggs\n",
       "\n",
       "                                            name  weightInGms  quantity  \\\n",
       "<span style=\"color: #008080; text-decoration-color: #008080; font-weight: bold\">2598</span>        Fresh Chicken Mince - Kheema <span style=\"font-weight: bold\">(</span>Halal<span style=\"font-weight: bold\">)</span>          <span style=\"color: #008080; text-decoration-color: #008080; font-weight: bold\">500</span>       <span style=\"color: #008080; text-decoration-color: #008080; font-weight: bold\">500</span>   \n",
       "<span style=\"color: #008080; text-decoration-color: #008080; font-weight: bold\">2595</span>  Fresh Chicken Curry Cut - Skinless <span style=\"font-weight: bold\">(</span>Halal<span style=\"font-weight: bold\">)</span>          <span style=\"color: #008080; text-decoration-color: #008080; font-weight: bold\">500</span>       <span style=\"color: #008080; text-decoration-color: #008080; font-weight: bold\">500</span>   \n",
       "<span style=\"color: #008080; text-decoration-color: #008080; font-weight: bold\">2605</span>                      Zorabian Chicken Cubes          <span style=\"color: #008080; text-decoration-color: #008080; font-weight: bold\">500</span>       <span style=\"color: #008080; text-decoration-color: #008080; font-weight: bold\">500</span>   \n",
       "<span style=\"color: #008080; text-decoration-color: #008080; font-weight: bold\">2599</span>    Godrej Real Good Chicken Boneless Cubes           <span style=\"color: #008080; text-decoration-color: #008080; font-weight: bold\">450</span>       <span style=\"color: #008080; text-decoration-color: #008080; font-weight: bold\">450</span>   \n",
       "<span style=\"color: #008080; text-decoration-color: #008080; font-weight: bold\">2596</span>           Zorabian Chicken Breast Boneless           <span style=\"color: #008080; text-decoration-color: #008080; font-weight: bold\">450</span>       <span style=\"color: #008080; text-decoration-color: #008080; font-weight: bold\">450</span>   \n",
       "<span style=\"color: #008080; text-decoration-color: #008080; font-weight: bold\">2602</span>                      Zorabian Chicken Mince          <span style=\"color: #008080; text-decoration-color: #008080; font-weight: bold\">450</span>       <span style=\"color: #008080; text-decoration-color: #008080; font-weight: bold\">450</span>   \n",
       "<span style=\"color: #008080; text-decoration-color: #008080; font-weight: bold\">2603</span>              Zorabian Chicken Leg Boneless           <span style=\"color: #008080; text-decoration-color: #008080; font-weight: bold\">450</span>       <span style=\"color: #008080; text-decoration-color: #008080; font-weight: bold\">450</span>   \n",
       "\n",
       "      discountPercent  \n",
       "<span style=\"color: #008080; text-decoration-color: #008080; font-weight: bold\">2598</span>                <span style=\"color: #008080; text-decoration-color: #008080; font-weight: bold\">5</span>  \n",
       "<span style=\"color: #008080; text-decoration-color: #008080; font-weight: bold\">2595</span>                <span style=\"color: #008080; text-decoration-color: #008080; font-weight: bold\">0</span>  \n",
       "<span style=\"color: #008080; text-decoration-color: #008080; font-weight: bold\">2605</span>                <span style=\"color: #008080; text-decoration-color: #008080; font-weight: bold\">0</span>  \n",
       "<span style=\"color: #008080; text-decoration-color: #008080; font-weight: bold\">2599</span>                <span style=\"color: #008080; text-decoration-color: #008080; font-weight: bold\">9</span>  \n",
       "<span style=\"color: #008080; text-decoration-color: #008080; font-weight: bold\">2596</span>                <span style=\"color: #008080; text-decoration-color: #008080; font-weight: bold\">0</span>  \n",
       "<span style=\"color: #008080; text-decoration-color: #008080; font-weight: bold\">2602</span>                <span style=\"color: #008080; text-decoration-color: #008080; font-weight: bold\">0</span>  \n",
       "<span style=\"color: #008080; text-decoration-color: #008080; font-weight: bold\">2603</span>                <span style=\"color: #008080; text-decoration-color: #008080; font-weight: bold\">0</span>  \n",
       "</pre>\n"
      ]
     },
     "metadata": {},
     "output_type": "display_data"
    },
    {
     "data": {
      "text/plain": [
       "\n",
       "\n",
       "Biscuits\n",
       "\n",
       "                                                   name  weightInGms  \\\n",
       "\u001B[1;36m2724\u001B[0m            Britannia Marie Gold \u001B[1m(\u001B[0mBuy \u001B[1;36m4\u001B[0m Get \u001B[1;36m1\u001B[0m Free\u001B[1m)\u001B[0m          \u001B[1;36m600\u001B[0m   \n",
       "\u001B[1;36m2727\u001B[0m                  Britannia Vita Marie Gold Biscuit          \u001B[1;36m300\u001B[0m   \n",
       "\u001B[1;36m2737\u001B[0m  Britannia Nutri Choice Cracker Sugar Free Biscuit          \u001B[1;36m300\u001B[0m   \n",
       "\u001B[1;36m2738\u001B[0m  Cadbury Oreo Chocolatey Sandwich Biscuits Fami\u001B[33m...\u001B[0m          \u001B[1;36m300\u001B[0m   \n",
       "\u001B[1;36m2751\u001B[0m                          Patanjali Atta Doodh Rusk          \u001B[1;36m300\u001B[0m   \n",
       "\u001B[1;36m2721\u001B[0m                 Dukes Waffy Chocolate Wafer Rolls           \u001B[1;36m250\u001B[0m   \n",
       "\u001B[1;36m2712\u001B[0m               Britannia Marie Gold Biscuits Packet          \u001B[1;36m250\u001B[0m   \n",
       "\u001B[1;36m2749\u001B[0m                Parle Monaco Sixer Salted Biscuits           \u001B[1;36m200\u001B[0m   \n",
       "\u001B[1;36m2719\u001B[0m                 Britannia Milk Bikis Cream Biscuit          \u001B[1;36m200\u001B[0m   \n",
       "\u001B[1;36m2723\u001B[0m                       Britannia Marie Gold Biscuit          \u001B[1;36m200\u001B[0m   \n",
       "\u001B[1;36m2731\u001B[0m   Britannia Nutrichoice \u001B[1;36m5\u001B[0m Grain Digestive Biscuits          \u001B[1;36m200\u001B[0m   \n",
       "\u001B[1;36m2742\u001B[0m                          The Bake Shop Jeera Khari          \u001B[1;36m200\u001B[0m   \n",
       "\u001B[1;36m2750\u001B[0m                Sunfeast Dark Fantasy Bourbon Bliss          \u001B[1;36m150\u001B[0m   \n",
       "\u001B[1;36m2730\u001B[0m                              Sunfeast Nice Biscuit          \u001B[1;36m150\u001B[0m   \n",
       "\u001B[1;36m2720\u001B[0m         Britannia Bourbon Chocolate Cream Biscuits          \u001B[1;36m150\u001B[0m   \n",
       "\u001B[1;36m2729\u001B[0m                    Parle Fab! Jam-In Cream Filled           \u001B[1;36m150\u001B[0m   \n",
       "\u001B[1;36m2718\u001B[0m                        Britannia Nice Time Biscuit          \u001B[1;36m150\u001B[0m   \n",
       "\u001B[1;36m2728\u001B[0m                          The Bake Shop Maska Khari          \u001B[1;36m200\u001B[0m   \n",
       "\u001B[1;36m2732\u001B[0m                    Cadbury Oreo Strawberry Bicuits          \u001B[1;36m120\u001B[0m   \n",
       "\u001B[1;36m2743\u001B[0m  Cadbury Oreo Creme Biscuit - Vanilla, Original\u001B[33m...\u001B[0m          \u001B[1;36m120\u001B[0m   \n",
       "\n",
       "      quantity  discountPercent  \n",
       "\u001B[1;36m2724\u001B[0m       \u001B[1;36m600\u001B[0m                \u001B[1;36m0\u001B[0m  \n",
       "\u001B[1;36m2727\u001B[0m       \u001B[1;36m300\u001B[0m                \u001B[1;36m0\u001B[0m  \n",
       "\u001B[1;36m2737\u001B[0m       \u001B[1;36m300\u001B[0m                \u001B[1;36m0\u001B[0m  \n",
       "\u001B[1;36m2738\u001B[0m       \u001B[1;36m300\u001B[0m                \u001B[1;36m0\u001B[0m  \n",
       "\u001B[1;36m2751\u001B[0m       \u001B[1;36m300\u001B[0m                \u001B[1;36m0\u001B[0m  \n",
       "\u001B[1;36m2721\u001B[0m       \u001B[1;36m250\u001B[0m               \u001B[1;36m50\u001B[0m  \n",
       "\u001B[1;36m2712\u001B[0m       \u001B[1;36m250\u001B[0m                \u001B[1;36m0\u001B[0m  \n",
       "\u001B[1;36m2749\u001B[0m       \u001B[1;36m200\u001B[0m               \u001B[1;36m10\u001B[0m  \n",
       "\u001B[1;36m2719\u001B[0m       \u001B[1;36m200\u001B[0m                \u001B[1;36m0\u001B[0m  \n",
       "\u001B[1;36m2723\u001B[0m       \u001B[1;36m200\u001B[0m                \u001B[1;36m0\u001B[0m  \n",
       "\u001B[1;36m2731\u001B[0m       \u001B[1;36m200\u001B[0m                \u001B[1;36m0\u001B[0m  \n",
       "\u001B[1;36m2742\u001B[0m       \u001B[1;36m200\u001B[0m                \u001B[1;36m0\u001B[0m  \n",
       "\u001B[1;36m2750\u001B[0m       \u001B[1;36m150\u001B[0m               \u001B[1;36m17\u001B[0m  \n",
       "\u001B[1;36m2730\u001B[0m       \u001B[1;36m150\u001B[0m               \u001B[1;36m12\u001B[0m  \n",
       "\u001B[1;36m2720\u001B[0m       \u001B[1;36m150\u001B[0m                \u001B[1;36m2\u001B[0m  \n",
       "\u001B[1;36m2729\u001B[0m       \u001B[1;36m150\u001B[0m                \u001B[1;36m2\u001B[0m  \n",
       "\u001B[1;36m2718\u001B[0m       \u001B[1;36m150\u001B[0m                \u001B[1;36m0\u001B[0m  \n",
       "\u001B[1;36m2728\u001B[0m       \u001B[1;36m100\u001B[0m                \u001B[1;36m6\u001B[0m  \n",
       "\u001B[1;36m2732\u001B[0m       \u001B[1;36m120\u001B[0m                \u001B[1;36m3\u001B[0m  \n",
       "\u001B[1;36m2743\u001B[0m       \u001B[1;36m120\u001B[0m                \u001B[1;36m3\u001B[0m  \n"
      ],
      "text/html": [
       "<pre style=\"white-space:pre;overflow-x:auto;line-height:normal;font-family:Menlo,'DejaVu Sans Mono',consolas,'Courier New',monospace\">\n",
       "\n",
       "Biscuits\n",
       "\n",
       "                                                   name  weightInGms  \\\n",
       "<span style=\"color: #008080; text-decoration-color: #008080; font-weight: bold\">2724</span>            Britannia Marie Gold <span style=\"font-weight: bold\">(</span>Buy <span style=\"color: #008080; text-decoration-color: #008080; font-weight: bold\">4</span> Get <span style=\"color: #008080; text-decoration-color: #008080; font-weight: bold\">1</span> Free<span style=\"font-weight: bold\">)</span>          <span style=\"color: #008080; text-decoration-color: #008080; font-weight: bold\">600</span>   \n",
       "<span style=\"color: #008080; text-decoration-color: #008080; font-weight: bold\">2727</span>                  Britannia Vita Marie Gold Biscuit          <span style=\"color: #008080; text-decoration-color: #008080; font-weight: bold\">300</span>   \n",
       "<span style=\"color: #008080; text-decoration-color: #008080; font-weight: bold\">2737</span>  Britannia Nutri Choice Cracker Sugar Free Biscuit          <span style=\"color: #008080; text-decoration-color: #008080; font-weight: bold\">300</span>   \n",
       "<span style=\"color: #008080; text-decoration-color: #008080; font-weight: bold\">2738</span>  Cadbury Oreo Chocolatey Sandwich Biscuits Fami<span style=\"color: #808000; text-decoration-color: #808000\">...</span>          <span style=\"color: #008080; text-decoration-color: #008080; font-weight: bold\">300</span>   \n",
       "<span style=\"color: #008080; text-decoration-color: #008080; font-weight: bold\">2751</span>                          Patanjali Atta Doodh Rusk          <span style=\"color: #008080; text-decoration-color: #008080; font-weight: bold\">300</span>   \n",
       "<span style=\"color: #008080; text-decoration-color: #008080; font-weight: bold\">2721</span>                 Dukes Waffy Chocolate Wafer Rolls           <span style=\"color: #008080; text-decoration-color: #008080; font-weight: bold\">250</span>   \n",
       "<span style=\"color: #008080; text-decoration-color: #008080; font-weight: bold\">2712</span>               Britannia Marie Gold Biscuits Packet          <span style=\"color: #008080; text-decoration-color: #008080; font-weight: bold\">250</span>   \n",
       "<span style=\"color: #008080; text-decoration-color: #008080; font-weight: bold\">2749</span>                Parle Monaco Sixer Salted Biscuits           <span style=\"color: #008080; text-decoration-color: #008080; font-weight: bold\">200</span>   \n",
       "<span style=\"color: #008080; text-decoration-color: #008080; font-weight: bold\">2719</span>                 Britannia Milk Bikis Cream Biscuit          <span style=\"color: #008080; text-decoration-color: #008080; font-weight: bold\">200</span>   \n",
       "<span style=\"color: #008080; text-decoration-color: #008080; font-weight: bold\">2723</span>                       Britannia Marie Gold Biscuit          <span style=\"color: #008080; text-decoration-color: #008080; font-weight: bold\">200</span>   \n",
       "<span style=\"color: #008080; text-decoration-color: #008080; font-weight: bold\">2731</span>   Britannia Nutrichoice <span style=\"color: #008080; text-decoration-color: #008080; font-weight: bold\">5</span> Grain Digestive Biscuits          <span style=\"color: #008080; text-decoration-color: #008080; font-weight: bold\">200</span>   \n",
       "<span style=\"color: #008080; text-decoration-color: #008080; font-weight: bold\">2742</span>                          The Bake Shop Jeera Khari          <span style=\"color: #008080; text-decoration-color: #008080; font-weight: bold\">200</span>   \n",
       "<span style=\"color: #008080; text-decoration-color: #008080; font-weight: bold\">2750</span>                Sunfeast Dark Fantasy Bourbon Bliss          <span style=\"color: #008080; text-decoration-color: #008080; font-weight: bold\">150</span>   \n",
       "<span style=\"color: #008080; text-decoration-color: #008080; font-weight: bold\">2730</span>                              Sunfeast Nice Biscuit          <span style=\"color: #008080; text-decoration-color: #008080; font-weight: bold\">150</span>   \n",
       "<span style=\"color: #008080; text-decoration-color: #008080; font-weight: bold\">2720</span>         Britannia Bourbon Chocolate Cream Biscuits          <span style=\"color: #008080; text-decoration-color: #008080; font-weight: bold\">150</span>   \n",
       "<span style=\"color: #008080; text-decoration-color: #008080; font-weight: bold\">2729</span>                    Parle Fab! Jam-In Cream Filled           <span style=\"color: #008080; text-decoration-color: #008080; font-weight: bold\">150</span>   \n",
       "<span style=\"color: #008080; text-decoration-color: #008080; font-weight: bold\">2718</span>                        Britannia Nice Time Biscuit          <span style=\"color: #008080; text-decoration-color: #008080; font-weight: bold\">150</span>   \n",
       "<span style=\"color: #008080; text-decoration-color: #008080; font-weight: bold\">2728</span>                          The Bake Shop Maska Khari          <span style=\"color: #008080; text-decoration-color: #008080; font-weight: bold\">200</span>   \n",
       "<span style=\"color: #008080; text-decoration-color: #008080; font-weight: bold\">2732</span>                    Cadbury Oreo Strawberry Bicuits          <span style=\"color: #008080; text-decoration-color: #008080; font-weight: bold\">120</span>   \n",
       "<span style=\"color: #008080; text-decoration-color: #008080; font-weight: bold\">2743</span>  Cadbury Oreo Creme Biscuit - Vanilla, Original<span style=\"color: #808000; text-decoration-color: #808000\">...</span>          <span style=\"color: #008080; text-decoration-color: #008080; font-weight: bold\">120</span>   \n",
       "\n",
       "      quantity  discountPercent  \n",
       "<span style=\"color: #008080; text-decoration-color: #008080; font-weight: bold\">2724</span>       <span style=\"color: #008080; text-decoration-color: #008080; font-weight: bold\">600</span>                <span style=\"color: #008080; text-decoration-color: #008080; font-weight: bold\">0</span>  \n",
       "<span style=\"color: #008080; text-decoration-color: #008080; font-weight: bold\">2727</span>       <span style=\"color: #008080; text-decoration-color: #008080; font-weight: bold\">300</span>                <span style=\"color: #008080; text-decoration-color: #008080; font-weight: bold\">0</span>  \n",
       "<span style=\"color: #008080; text-decoration-color: #008080; font-weight: bold\">2737</span>       <span style=\"color: #008080; text-decoration-color: #008080; font-weight: bold\">300</span>                <span style=\"color: #008080; text-decoration-color: #008080; font-weight: bold\">0</span>  \n",
       "<span style=\"color: #008080; text-decoration-color: #008080; font-weight: bold\">2738</span>       <span style=\"color: #008080; text-decoration-color: #008080; font-weight: bold\">300</span>                <span style=\"color: #008080; text-decoration-color: #008080; font-weight: bold\">0</span>  \n",
       "<span style=\"color: #008080; text-decoration-color: #008080; font-weight: bold\">2751</span>       <span style=\"color: #008080; text-decoration-color: #008080; font-weight: bold\">300</span>                <span style=\"color: #008080; text-decoration-color: #008080; font-weight: bold\">0</span>  \n",
       "<span style=\"color: #008080; text-decoration-color: #008080; font-weight: bold\">2721</span>       <span style=\"color: #008080; text-decoration-color: #008080; font-weight: bold\">250</span>               <span style=\"color: #008080; text-decoration-color: #008080; font-weight: bold\">50</span>  \n",
       "<span style=\"color: #008080; text-decoration-color: #008080; font-weight: bold\">2712</span>       <span style=\"color: #008080; text-decoration-color: #008080; font-weight: bold\">250</span>                <span style=\"color: #008080; text-decoration-color: #008080; font-weight: bold\">0</span>  \n",
       "<span style=\"color: #008080; text-decoration-color: #008080; font-weight: bold\">2749</span>       <span style=\"color: #008080; text-decoration-color: #008080; font-weight: bold\">200</span>               <span style=\"color: #008080; text-decoration-color: #008080; font-weight: bold\">10</span>  \n",
       "<span style=\"color: #008080; text-decoration-color: #008080; font-weight: bold\">2719</span>       <span style=\"color: #008080; text-decoration-color: #008080; font-weight: bold\">200</span>                <span style=\"color: #008080; text-decoration-color: #008080; font-weight: bold\">0</span>  \n",
       "<span style=\"color: #008080; text-decoration-color: #008080; font-weight: bold\">2723</span>       <span style=\"color: #008080; text-decoration-color: #008080; font-weight: bold\">200</span>                <span style=\"color: #008080; text-decoration-color: #008080; font-weight: bold\">0</span>  \n",
       "<span style=\"color: #008080; text-decoration-color: #008080; font-weight: bold\">2731</span>       <span style=\"color: #008080; text-decoration-color: #008080; font-weight: bold\">200</span>                <span style=\"color: #008080; text-decoration-color: #008080; font-weight: bold\">0</span>  \n",
       "<span style=\"color: #008080; text-decoration-color: #008080; font-weight: bold\">2742</span>       <span style=\"color: #008080; text-decoration-color: #008080; font-weight: bold\">200</span>                <span style=\"color: #008080; text-decoration-color: #008080; font-weight: bold\">0</span>  \n",
       "<span style=\"color: #008080; text-decoration-color: #008080; font-weight: bold\">2750</span>       <span style=\"color: #008080; text-decoration-color: #008080; font-weight: bold\">150</span>               <span style=\"color: #008080; text-decoration-color: #008080; font-weight: bold\">17</span>  \n",
       "<span style=\"color: #008080; text-decoration-color: #008080; font-weight: bold\">2730</span>       <span style=\"color: #008080; text-decoration-color: #008080; font-weight: bold\">150</span>               <span style=\"color: #008080; text-decoration-color: #008080; font-weight: bold\">12</span>  \n",
       "<span style=\"color: #008080; text-decoration-color: #008080; font-weight: bold\">2720</span>       <span style=\"color: #008080; text-decoration-color: #008080; font-weight: bold\">150</span>                <span style=\"color: #008080; text-decoration-color: #008080; font-weight: bold\">2</span>  \n",
       "<span style=\"color: #008080; text-decoration-color: #008080; font-weight: bold\">2729</span>       <span style=\"color: #008080; text-decoration-color: #008080; font-weight: bold\">150</span>                <span style=\"color: #008080; text-decoration-color: #008080; font-weight: bold\">2</span>  \n",
       "<span style=\"color: #008080; text-decoration-color: #008080; font-weight: bold\">2718</span>       <span style=\"color: #008080; text-decoration-color: #008080; font-weight: bold\">150</span>                <span style=\"color: #008080; text-decoration-color: #008080; font-weight: bold\">0</span>  \n",
       "<span style=\"color: #008080; text-decoration-color: #008080; font-weight: bold\">2728</span>       <span style=\"color: #008080; text-decoration-color: #008080; font-weight: bold\">100</span>                <span style=\"color: #008080; text-decoration-color: #008080; font-weight: bold\">6</span>  \n",
       "<span style=\"color: #008080; text-decoration-color: #008080; font-weight: bold\">2732</span>       <span style=\"color: #008080; text-decoration-color: #008080; font-weight: bold\">120</span>                <span style=\"color: #008080; text-decoration-color: #008080; font-weight: bold\">3</span>  \n",
       "<span style=\"color: #008080; text-decoration-color: #008080; font-weight: bold\">2743</span>       <span style=\"color: #008080; text-decoration-color: #008080; font-weight: bold\">120</span>                <span style=\"color: #008080; text-decoration-color: #008080; font-weight: bold\">3</span>  \n",
       "</pre>\n"
      ]
     },
     "metadata": {},
     "output_type": "display_data"
    },
    {
     "data": {
      "text/plain": [
       "\n",
       "\n",
       "Personal Care\n",
       "\n",
       "                                                   name  weightInGms  \\\n",
       "\u001B[1;36m3076\u001B[0m             Dettol Original Liquid Handwash Refill          \u001B[1;36m750\u001B[0m   \n",
       "\u001B[1;36m3080\u001B[0m           Parachute Advansed Gold Coconut Hair Oil          \u001B[1;36m400\u001B[0m   \n",
       "\u001B[1;36m3095\u001B[0m            Godrej Cinthol Lime Refreshing Deo Soap          \u001B[1;36m400\u001B[0m   \n",
       "\u001B[1;36m3077\u001B[0m                    Parachute \u001B[1;36m100\u001B[0m% Pure Coconut Oil          \u001B[1;36m300\u001B[0m   \n",
       "\u001B[1;36m3093\u001B[0m                 Bajaj Almond Drops Hair Oil Bottle          \u001B[1;36m200\u001B[0m   \n",
       "\u001B[1;36m3086\u001B[0m                  Godrej No.\u001B[1;36m1\u001B[0m Bathing Soap, Jasmine          \u001B[1;36m400\u001B[0m   \n",
       "\u001B[1;36m3079\u001B[0m                  Dabur Gulabari Premium Rose Water          \u001B[1;36m120\u001B[0m   \n",
       "\u001B[1;36m3094\u001B[0m       Whisper Bindazzz Night Sanitary Pads XL Plus          \u001B[1;36m870\u001B[0m   \n",
       "\u001B[1;36m3092\u001B[0m                        Bajaj Almond Drops Hair Oil          \u001B[1;36m100\u001B[0m   \n",
       "\u001B[1;36m3091\u001B[0m       Clean & Clear Morning Energy Lemon Face Wash          \u001B[1;36m100\u001B[0m   \n",
       "\u001B[1;36m3083\u001B[0m           Sensodyne Sensitive Fresh Gel Toothpaste           \u001B[1;36m75\u001B[0m   \n",
       "\u001B[1;36m3085\u001B[0m                       Whisper Choice Sanitary Pad           \u001B[1;36m406\u001B[0m   \n",
       "\u001B[1;36m3078\u001B[0m  Stayfree Secure Cottony Soft Cover Sanitary Pa\u001B[33m...\u001B[0m          \u001B[1;36m406\u001B[0m   \n",
       "\u001B[1;36m3089\u001B[0m  Stayfree Secure Dry Cover Extra Large Sanitary\u001B[33m...\u001B[0m          \u001B[1;36m406\u001B[0m   \n",
       "\u001B[1;36m3084\u001B[0m          Whisper Bindazzz Nights XL + Sanitary Pad          \u001B[1;36m406\u001B[0m   \n",
       "\u001B[1;36m3090\u001B[0m  Oxylife Natural Radiance \u001B[1;36m5\u001B[0m Creme Bleach - With\u001B[33m...\u001B[0m           \u001B[1;36m27\u001B[0m   \n",
       "\u001B[1;36m3096\u001B[0m  MamyPoko Pants Standard Diapers, Extra Large \u001B[1m(\u001B[0m\u001B[33m...\u001B[0m           \u001B[1;36m26\u001B[0m   \n",
       "\u001B[1;36m3087\u001B[0m                Gillette Venus Close & Clean Razor            \u001B[1;36m58\u001B[0m   \n",
       "\n",
       "      quantity  discountPercent  \n",
       "\u001B[1;36m3076\u001B[0m       \u001B[1;36m750\u001B[0m                \u001B[1;36m3\u001B[0m  \n",
       "\u001B[1;36m3080\u001B[0m       \u001B[1;36m400\u001B[0m                \u001B[1;36m9\u001B[0m  \n",
       "\u001B[1;36m3095\u001B[0m       \u001B[1;36m400\u001B[0m                \u001B[1;36m0\u001B[0m  \n",
       "\u001B[1;36m3077\u001B[0m       \u001B[1;36m300\u001B[0m                \u001B[1;36m0\u001B[0m  \n",
       "\u001B[1;36m3093\u001B[0m       \u001B[1;36m200\u001B[0m                \u001B[1;36m7\u001B[0m  \n",
       "\u001B[1;36m3086\u001B[0m       \u001B[1;36m100\u001B[0m                \u001B[1;36m0\u001B[0m  \n",
       "\u001B[1;36m3079\u001B[0m       \u001B[1;36m120\u001B[0m                \u001B[1;36m2\u001B[0m  \n",
       "\u001B[1;36m3094\u001B[0m        \u001B[1;36m15\u001B[0m                \u001B[1;36m0\u001B[0m  \n",
       "\u001B[1;36m3092\u001B[0m       \u001B[1;36m100\u001B[0m               \u001B[1;36m10\u001B[0m  \n",
       "\u001B[1;36m3091\u001B[0m       \u001B[1;36m100\u001B[0m                \u001B[1;36m9\u001B[0m  \n",
       "\u001B[1;36m3083\u001B[0m        \u001B[1;36m75\u001B[0m                \u001B[1;36m7\u001B[0m  \n",
       "\u001B[1;36m3085\u001B[0m         \u001B[1;36m7\u001B[0m                \u001B[1;36m9\u001B[0m  \n",
       "\u001B[1;36m3078\u001B[0m         \u001B[1;36m7\u001B[0m                \u001B[1;36m3\u001B[0m  \n",
       "\u001B[1;36m3089\u001B[0m         \u001B[1;36m7\u001B[0m                \u001B[1;36m2\u001B[0m  \n",
       "\u001B[1;36m3084\u001B[0m         \u001B[1;36m7\u001B[0m                \u001B[1;36m0\u001B[0m  \n",
       "\u001B[1;36m3090\u001B[0m        \u001B[1;36m27\u001B[0m                \u001B[1;36m9\u001B[0m  \n",
       "\u001B[1;36m3096\u001B[0m        \u001B[1;36m26\u001B[0m                \u001B[1;36m7\u001B[0m  \n",
       "\u001B[1;36m3087\u001B[0m         \u001B[1;36m1\u001B[0m                \u001B[1;36m7\u001B[0m  \n"
      ],
      "text/html": [
       "<pre style=\"white-space:pre;overflow-x:auto;line-height:normal;font-family:Menlo,'DejaVu Sans Mono',consolas,'Courier New',monospace\">\n",
       "\n",
       "Personal Care\n",
       "\n",
       "                                                   name  weightInGms  \\\n",
       "<span style=\"color: #008080; text-decoration-color: #008080; font-weight: bold\">3076</span>             Dettol Original Liquid Handwash Refill          <span style=\"color: #008080; text-decoration-color: #008080; font-weight: bold\">750</span>   \n",
       "<span style=\"color: #008080; text-decoration-color: #008080; font-weight: bold\">3080</span>           Parachute Advansed Gold Coconut Hair Oil          <span style=\"color: #008080; text-decoration-color: #008080; font-weight: bold\">400</span>   \n",
       "<span style=\"color: #008080; text-decoration-color: #008080; font-weight: bold\">3095</span>            Godrej Cinthol Lime Refreshing Deo Soap          <span style=\"color: #008080; text-decoration-color: #008080; font-weight: bold\">400</span>   \n",
       "<span style=\"color: #008080; text-decoration-color: #008080; font-weight: bold\">3077</span>                    Parachute <span style=\"color: #008080; text-decoration-color: #008080; font-weight: bold\">100</span>% Pure Coconut Oil          <span style=\"color: #008080; text-decoration-color: #008080; font-weight: bold\">300</span>   \n",
       "<span style=\"color: #008080; text-decoration-color: #008080; font-weight: bold\">3093</span>                 Bajaj Almond Drops Hair Oil Bottle          <span style=\"color: #008080; text-decoration-color: #008080; font-weight: bold\">200</span>   \n",
       "<span style=\"color: #008080; text-decoration-color: #008080; font-weight: bold\">3086</span>                  Godrej No.<span style=\"color: #008080; text-decoration-color: #008080; font-weight: bold\">1</span> Bathing Soap, Jasmine          <span style=\"color: #008080; text-decoration-color: #008080; font-weight: bold\">400</span>   \n",
       "<span style=\"color: #008080; text-decoration-color: #008080; font-weight: bold\">3079</span>                  Dabur Gulabari Premium Rose Water          <span style=\"color: #008080; text-decoration-color: #008080; font-weight: bold\">120</span>   \n",
       "<span style=\"color: #008080; text-decoration-color: #008080; font-weight: bold\">3094</span>       Whisper Bindazzz Night Sanitary Pads XL Plus          <span style=\"color: #008080; text-decoration-color: #008080; font-weight: bold\">870</span>   \n",
       "<span style=\"color: #008080; text-decoration-color: #008080; font-weight: bold\">3092</span>                        Bajaj Almond Drops Hair Oil          <span style=\"color: #008080; text-decoration-color: #008080; font-weight: bold\">100</span>   \n",
       "<span style=\"color: #008080; text-decoration-color: #008080; font-weight: bold\">3091</span>       Clean &amp; Clear Morning Energy Lemon Face Wash          <span style=\"color: #008080; text-decoration-color: #008080; font-weight: bold\">100</span>   \n",
       "<span style=\"color: #008080; text-decoration-color: #008080; font-weight: bold\">3083</span>           Sensodyne Sensitive Fresh Gel Toothpaste           <span style=\"color: #008080; text-decoration-color: #008080; font-weight: bold\">75</span>   \n",
       "<span style=\"color: #008080; text-decoration-color: #008080; font-weight: bold\">3085</span>                       Whisper Choice Sanitary Pad           <span style=\"color: #008080; text-decoration-color: #008080; font-weight: bold\">406</span>   \n",
       "<span style=\"color: #008080; text-decoration-color: #008080; font-weight: bold\">3078</span>  Stayfree Secure Cottony Soft Cover Sanitary Pa<span style=\"color: #808000; text-decoration-color: #808000\">...</span>          <span style=\"color: #008080; text-decoration-color: #008080; font-weight: bold\">406</span>   \n",
       "<span style=\"color: #008080; text-decoration-color: #008080; font-weight: bold\">3089</span>  Stayfree Secure Dry Cover Extra Large Sanitary<span style=\"color: #808000; text-decoration-color: #808000\">...</span>          <span style=\"color: #008080; text-decoration-color: #008080; font-weight: bold\">406</span>   \n",
       "<span style=\"color: #008080; text-decoration-color: #008080; font-weight: bold\">3084</span>          Whisper Bindazzz Nights XL + Sanitary Pad          <span style=\"color: #008080; text-decoration-color: #008080; font-weight: bold\">406</span>   \n",
       "<span style=\"color: #008080; text-decoration-color: #008080; font-weight: bold\">3090</span>  Oxylife Natural Radiance <span style=\"color: #008080; text-decoration-color: #008080; font-weight: bold\">5</span> Creme Bleach - With<span style=\"color: #808000; text-decoration-color: #808000\">...</span>           <span style=\"color: #008080; text-decoration-color: #008080; font-weight: bold\">27</span>   \n",
       "<span style=\"color: #008080; text-decoration-color: #008080; font-weight: bold\">3096</span>  MamyPoko Pants Standard Diapers, Extra Large <span style=\"font-weight: bold\">(</span><span style=\"color: #808000; text-decoration-color: #808000\">...</span>           <span style=\"color: #008080; text-decoration-color: #008080; font-weight: bold\">26</span>   \n",
       "<span style=\"color: #008080; text-decoration-color: #008080; font-weight: bold\">3087</span>                Gillette Venus Close &amp; Clean Razor            <span style=\"color: #008080; text-decoration-color: #008080; font-weight: bold\">58</span>   \n",
       "\n",
       "      quantity  discountPercent  \n",
       "<span style=\"color: #008080; text-decoration-color: #008080; font-weight: bold\">3076</span>       <span style=\"color: #008080; text-decoration-color: #008080; font-weight: bold\">750</span>                <span style=\"color: #008080; text-decoration-color: #008080; font-weight: bold\">3</span>  \n",
       "<span style=\"color: #008080; text-decoration-color: #008080; font-weight: bold\">3080</span>       <span style=\"color: #008080; text-decoration-color: #008080; font-weight: bold\">400</span>                <span style=\"color: #008080; text-decoration-color: #008080; font-weight: bold\">9</span>  \n",
       "<span style=\"color: #008080; text-decoration-color: #008080; font-weight: bold\">3095</span>       <span style=\"color: #008080; text-decoration-color: #008080; font-weight: bold\">400</span>                <span style=\"color: #008080; text-decoration-color: #008080; font-weight: bold\">0</span>  \n",
       "<span style=\"color: #008080; text-decoration-color: #008080; font-weight: bold\">3077</span>       <span style=\"color: #008080; text-decoration-color: #008080; font-weight: bold\">300</span>                <span style=\"color: #008080; text-decoration-color: #008080; font-weight: bold\">0</span>  \n",
       "<span style=\"color: #008080; text-decoration-color: #008080; font-weight: bold\">3093</span>       <span style=\"color: #008080; text-decoration-color: #008080; font-weight: bold\">200</span>                <span style=\"color: #008080; text-decoration-color: #008080; font-weight: bold\">7</span>  \n",
       "<span style=\"color: #008080; text-decoration-color: #008080; font-weight: bold\">3086</span>       <span style=\"color: #008080; text-decoration-color: #008080; font-weight: bold\">100</span>                <span style=\"color: #008080; text-decoration-color: #008080; font-weight: bold\">0</span>  \n",
       "<span style=\"color: #008080; text-decoration-color: #008080; font-weight: bold\">3079</span>       <span style=\"color: #008080; text-decoration-color: #008080; font-weight: bold\">120</span>                <span style=\"color: #008080; text-decoration-color: #008080; font-weight: bold\">2</span>  \n",
       "<span style=\"color: #008080; text-decoration-color: #008080; font-weight: bold\">3094</span>        <span style=\"color: #008080; text-decoration-color: #008080; font-weight: bold\">15</span>                <span style=\"color: #008080; text-decoration-color: #008080; font-weight: bold\">0</span>  \n",
       "<span style=\"color: #008080; text-decoration-color: #008080; font-weight: bold\">3092</span>       <span style=\"color: #008080; text-decoration-color: #008080; font-weight: bold\">100</span>               <span style=\"color: #008080; text-decoration-color: #008080; font-weight: bold\">10</span>  \n",
       "<span style=\"color: #008080; text-decoration-color: #008080; font-weight: bold\">3091</span>       <span style=\"color: #008080; text-decoration-color: #008080; font-weight: bold\">100</span>                <span style=\"color: #008080; text-decoration-color: #008080; font-weight: bold\">9</span>  \n",
       "<span style=\"color: #008080; text-decoration-color: #008080; font-weight: bold\">3083</span>        <span style=\"color: #008080; text-decoration-color: #008080; font-weight: bold\">75</span>                <span style=\"color: #008080; text-decoration-color: #008080; font-weight: bold\">7</span>  \n",
       "<span style=\"color: #008080; text-decoration-color: #008080; font-weight: bold\">3085</span>         <span style=\"color: #008080; text-decoration-color: #008080; font-weight: bold\">7</span>                <span style=\"color: #008080; text-decoration-color: #008080; font-weight: bold\">9</span>  \n",
       "<span style=\"color: #008080; text-decoration-color: #008080; font-weight: bold\">3078</span>         <span style=\"color: #008080; text-decoration-color: #008080; font-weight: bold\">7</span>                <span style=\"color: #008080; text-decoration-color: #008080; font-weight: bold\">3</span>  \n",
       "<span style=\"color: #008080; text-decoration-color: #008080; font-weight: bold\">3089</span>         <span style=\"color: #008080; text-decoration-color: #008080; font-weight: bold\">7</span>                <span style=\"color: #008080; text-decoration-color: #008080; font-weight: bold\">2</span>  \n",
       "<span style=\"color: #008080; text-decoration-color: #008080; font-weight: bold\">3084</span>         <span style=\"color: #008080; text-decoration-color: #008080; font-weight: bold\">7</span>                <span style=\"color: #008080; text-decoration-color: #008080; font-weight: bold\">0</span>  \n",
       "<span style=\"color: #008080; text-decoration-color: #008080; font-weight: bold\">3090</span>        <span style=\"color: #008080; text-decoration-color: #008080; font-weight: bold\">27</span>                <span style=\"color: #008080; text-decoration-color: #008080; font-weight: bold\">9</span>  \n",
       "<span style=\"color: #008080; text-decoration-color: #008080; font-weight: bold\">3096</span>        <span style=\"color: #008080; text-decoration-color: #008080; font-weight: bold\">26</span>                <span style=\"color: #008080; text-decoration-color: #008080; font-weight: bold\">7</span>  \n",
       "<span style=\"color: #008080; text-decoration-color: #008080; font-weight: bold\">3087</span>         <span style=\"color: #008080; text-decoration-color: #008080; font-weight: bold\">1</span>                <span style=\"color: #008080; text-decoration-color: #008080; font-weight: bold\">7</span>  \n",
       "</pre>\n"
      ]
     },
     "metadata": {},
     "output_type": "display_data"
    },
    {
     "data": {
      "text/plain": [
       "\n",
       "\n",
       "Home & Cleaning\n",
       "\n",
       "                                                   name  weightInGms  \\\n",
       "\u001B[1;36m3629\u001B[0m  Comfort After Wash Fabric Conditioner Lily Fresh           \u001B[1;36m860\u001B[0m   \n",
       "\u001B[1;36m3628\u001B[0m                      Rin Fabric Whitener Detergent          \u001B[1;36m500\u001B[0m   \n",
       "\u001B[1;36m3616\u001B[0m                                   Vim Dishwash Bar          \u001B[1;36m300\u001B[0m   \n",
       "\u001B[1;36m3617\u001B[0m      Dettol Effective Protection Antiseptic Liquid          \u001B[1;36m250\u001B[0m   \n",
       "\u001B[1;36m3621\u001B[0m                                  Rin Detergent Bar          \u001B[1;36m140\u001B[0m   \n",
       "\u001B[1;36m3633\u001B[0m                               Origami Plates Plain          \u001B[1;36m100\u001B[0m   \n",
       "\u001B[1;36m3622\u001B[0m                    Odomos Mosquito Repellent Spray          \u001B[1;36m100\u001B[0m   \n",
       "\u001B[1;36m3630\u001B[0m       Ujala Superme For Super Whiteness Of Clothes           \u001B[1;36m75\u001B[0m   \n",
       "\u001B[1;36m3618\u001B[0m     Godrej Good Night Gold Flash Liquid Vapouriser           \u001B[1;36m60\u001B[0m   \n",
       "\u001B[1;36m3620\u001B[0m              Surf Excel Easy Wash Detergent Powder         \u001B[1;36m1000\u001B[0m   \n",
       "\u001B[1;36m3619\u001B[0m                               Rin Detergent Powder         \u001B[1;36m1000\u001B[0m   \n",
       "\u001B[1;36m3624\u001B[0m  Scotch-Brite Scrub Sponge Ideal For Dishwash L\u001B[33m...\u001B[0m          \u001B[1;36m116\u001B[0m   \n",
       "\u001B[1;36m3632\u001B[0m                         Scotch BOPP Packaging Tape           \u001B[1;36m58\u001B[0m   \n",
       "\u001B[1;36m3623\u001B[0m                    Chakaachak Super Steel Scrubber           \u001B[1;36m58\u001B[0m   \n",
       "\u001B[1;36m3625\u001B[0m                                 Gala No Dust Broom           \u001B[1;36m58\u001B[0m   \n",
       "\u001B[1;36m3626\u001B[0m                   Chakaachak Eazo Grass Broom New            \u001B[1;36m58\u001B[0m   \n",
       "\n",
       "      quantity  discountPercent  \n",
       "\u001B[1;36m3629\u001B[0m       \u001B[1;36m860\u001B[0m                \u001B[1;36m9\u001B[0m  \n",
       "\u001B[1;36m3628\u001B[0m       \u001B[1;36m500\u001B[0m               \u001B[1;36m10\u001B[0m  \n",
       "\u001B[1;36m3616\u001B[0m       \u001B[1;36m300\u001B[0m                \u001B[1;36m4\u001B[0m  \n",
       "\u001B[1;36m3617\u001B[0m       \u001B[1;36m250\u001B[0m                \u001B[1;36m0\u001B[0m  \n",
       "\u001B[1;36m3621\u001B[0m       \u001B[1;36m140\u001B[0m                \u001B[1;36m0\u001B[0m  \n",
       "\u001B[1;36m3633\u001B[0m       \u001B[1;36m100\u001B[0m               \u001B[1;36m10\u001B[0m  \n",
       "\u001B[1;36m3622\u001B[0m       \u001B[1;36m100\u001B[0m                \u001B[1;36m8\u001B[0m  \n",
       "\u001B[1;36m3630\u001B[0m        \u001B[1;36m75\u001B[0m                \u001B[1;36m0\u001B[0m  \n",
       "\u001B[1;36m3618\u001B[0m        \u001B[1;36m60\u001B[0m                \u001B[1;36m0\u001B[0m  \n",
       "\u001B[1;36m3620\u001B[0m         \u001B[1;36m1\u001B[0m                \u001B[1;36m3\u001B[0m  \n",
       "\u001B[1;36m3619\u001B[0m         \u001B[1;36m1\u001B[0m                \u001B[1;36m2\u001B[0m  \n",
       "\u001B[1;36m3624\u001B[0m         \u001B[1;36m2\u001B[0m                \u001B[1;36m9\u001B[0m  \n",
       "\u001B[1;36m3632\u001B[0m         \u001B[1;36m1\u001B[0m               \u001B[1;36m15\u001B[0m  \n",
       "\u001B[1;36m3623\u001B[0m         \u001B[1;36m1\u001B[0m                \u001B[1;36m8\u001B[0m  \n",
       "\u001B[1;36m3625\u001B[0m         \u001B[1;36m1\u001B[0m                \u001B[1;36m7\u001B[0m  \n",
       "\u001B[1;36m3626\u001B[0m         \u001B[1;36m1\u001B[0m                \u001B[1;36m2\u001B[0m  \n"
      ],
      "text/html": [
       "<pre style=\"white-space:pre;overflow-x:auto;line-height:normal;font-family:Menlo,'DejaVu Sans Mono',consolas,'Courier New',monospace\">\n",
       "\n",
       "Home &amp; Cleaning\n",
       "\n",
       "                                                   name  weightInGms  \\\n",
       "<span style=\"color: #008080; text-decoration-color: #008080; font-weight: bold\">3629</span>  Comfort After Wash Fabric Conditioner Lily Fresh           <span style=\"color: #008080; text-decoration-color: #008080; font-weight: bold\">860</span>   \n",
       "<span style=\"color: #008080; text-decoration-color: #008080; font-weight: bold\">3628</span>                      Rin Fabric Whitener Detergent          <span style=\"color: #008080; text-decoration-color: #008080; font-weight: bold\">500</span>   \n",
       "<span style=\"color: #008080; text-decoration-color: #008080; font-weight: bold\">3616</span>                                   Vim Dishwash Bar          <span style=\"color: #008080; text-decoration-color: #008080; font-weight: bold\">300</span>   \n",
       "<span style=\"color: #008080; text-decoration-color: #008080; font-weight: bold\">3617</span>      Dettol Effective Protection Antiseptic Liquid          <span style=\"color: #008080; text-decoration-color: #008080; font-weight: bold\">250</span>   \n",
       "<span style=\"color: #008080; text-decoration-color: #008080; font-weight: bold\">3621</span>                                  Rin Detergent Bar          <span style=\"color: #008080; text-decoration-color: #008080; font-weight: bold\">140</span>   \n",
       "<span style=\"color: #008080; text-decoration-color: #008080; font-weight: bold\">3633</span>                               Origami Plates Plain          <span style=\"color: #008080; text-decoration-color: #008080; font-weight: bold\">100</span>   \n",
       "<span style=\"color: #008080; text-decoration-color: #008080; font-weight: bold\">3622</span>                    Odomos Mosquito Repellent Spray          <span style=\"color: #008080; text-decoration-color: #008080; font-weight: bold\">100</span>   \n",
       "<span style=\"color: #008080; text-decoration-color: #008080; font-weight: bold\">3630</span>       Ujala Superme For Super Whiteness Of Clothes           <span style=\"color: #008080; text-decoration-color: #008080; font-weight: bold\">75</span>   \n",
       "<span style=\"color: #008080; text-decoration-color: #008080; font-weight: bold\">3618</span>     Godrej Good Night Gold Flash Liquid Vapouriser           <span style=\"color: #008080; text-decoration-color: #008080; font-weight: bold\">60</span>   \n",
       "<span style=\"color: #008080; text-decoration-color: #008080; font-weight: bold\">3620</span>              Surf Excel Easy Wash Detergent Powder         <span style=\"color: #008080; text-decoration-color: #008080; font-weight: bold\">1000</span>   \n",
       "<span style=\"color: #008080; text-decoration-color: #008080; font-weight: bold\">3619</span>                               Rin Detergent Powder         <span style=\"color: #008080; text-decoration-color: #008080; font-weight: bold\">1000</span>   \n",
       "<span style=\"color: #008080; text-decoration-color: #008080; font-weight: bold\">3624</span>  Scotch-Brite Scrub Sponge Ideal For Dishwash L<span style=\"color: #808000; text-decoration-color: #808000\">...</span>          <span style=\"color: #008080; text-decoration-color: #008080; font-weight: bold\">116</span>   \n",
       "<span style=\"color: #008080; text-decoration-color: #008080; font-weight: bold\">3632</span>                         Scotch BOPP Packaging Tape           <span style=\"color: #008080; text-decoration-color: #008080; font-weight: bold\">58</span>   \n",
       "<span style=\"color: #008080; text-decoration-color: #008080; font-weight: bold\">3623</span>                    Chakaachak Super Steel Scrubber           <span style=\"color: #008080; text-decoration-color: #008080; font-weight: bold\">58</span>   \n",
       "<span style=\"color: #008080; text-decoration-color: #008080; font-weight: bold\">3625</span>                                 Gala No Dust Broom           <span style=\"color: #008080; text-decoration-color: #008080; font-weight: bold\">58</span>   \n",
       "<span style=\"color: #008080; text-decoration-color: #008080; font-weight: bold\">3626</span>                   Chakaachak Eazo Grass Broom New            <span style=\"color: #008080; text-decoration-color: #008080; font-weight: bold\">58</span>   \n",
       "\n",
       "      quantity  discountPercent  \n",
       "<span style=\"color: #008080; text-decoration-color: #008080; font-weight: bold\">3629</span>       <span style=\"color: #008080; text-decoration-color: #008080; font-weight: bold\">860</span>                <span style=\"color: #008080; text-decoration-color: #008080; font-weight: bold\">9</span>  \n",
       "<span style=\"color: #008080; text-decoration-color: #008080; font-weight: bold\">3628</span>       <span style=\"color: #008080; text-decoration-color: #008080; font-weight: bold\">500</span>               <span style=\"color: #008080; text-decoration-color: #008080; font-weight: bold\">10</span>  \n",
       "<span style=\"color: #008080; text-decoration-color: #008080; font-weight: bold\">3616</span>       <span style=\"color: #008080; text-decoration-color: #008080; font-weight: bold\">300</span>                <span style=\"color: #008080; text-decoration-color: #008080; font-weight: bold\">4</span>  \n",
       "<span style=\"color: #008080; text-decoration-color: #008080; font-weight: bold\">3617</span>       <span style=\"color: #008080; text-decoration-color: #008080; font-weight: bold\">250</span>                <span style=\"color: #008080; text-decoration-color: #008080; font-weight: bold\">0</span>  \n",
       "<span style=\"color: #008080; text-decoration-color: #008080; font-weight: bold\">3621</span>       <span style=\"color: #008080; text-decoration-color: #008080; font-weight: bold\">140</span>                <span style=\"color: #008080; text-decoration-color: #008080; font-weight: bold\">0</span>  \n",
       "<span style=\"color: #008080; text-decoration-color: #008080; font-weight: bold\">3633</span>       <span style=\"color: #008080; text-decoration-color: #008080; font-weight: bold\">100</span>               <span style=\"color: #008080; text-decoration-color: #008080; font-weight: bold\">10</span>  \n",
       "<span style=\"color: #008080; text-decoration-color: #008080; font-weight: bold\">3622</span>       <span style=\"color: #008080; text-decoration-color: #008080; font-weight: bold\">100</span>                <span style=\"color: #008080; text-decoration-color: #008080; font-weight: bold\">8</span>  \n",
       "<span style=\"color: #008080; text-decoration-color: #008080; font-weight: bold\">3630</span>        <span style=\"color: #008080; text-decoration-color: #008080; font-weight: bold\">75</span>                <span style=\"color: #008080; text-decoration-color: #008080; font-weight: bold\">0</span>  \n",
       "<span style=\"color: #008080; text-decoration-color: #008080; font-weight: bold\">3618</span>        <span style=\"color: #008080; text-decoration-color: #008080; font-weight: bold\">60</span>                <span style=\"color: #008080; text-decoration-color: #008080; font-weight: bold\">0</span>  \n",
       "<span style=\"color: #008080; text-decoration-color: #008080; font-weight: bold\">3620</span>         <span style=\"color: #008080; text-decoration-color: #008080; font-weight: bold\">1</span>                <span style=\"color: #008080; text-decoration-color: #008080; font-weight: bold\">3</span>  \n",
       "<span style=\"color: #008080; text-decoration-color: #008080; font-weight: bold\">3619</span>         <span style=\"color: #008080; text-decoration-color: #008080; font-weight: bold\">1</span>                <span style=\"color: #008080; text-decoration-color: #008080; font-weight: bold\">2</span>  \n",
       "<span style=\"color: #008080; text-decoration-color: #008080; font-weight: bold\">3624</span>         <span style=\"color: #008080; text-decoration-color: #008080; font-weight: bold\">2</span>                <span style=\"color: #008080; text-decoration-color: #008080; font-weight: bold\">9</span>  \n",
       "<span style=\"color: #008080; text-decoration-color: #008080; font-weight: bold\">3632</span>         <span style=\"color: #008080; text-decoration-color: #008080; font-weight: bold\">1</span>               <span style=\"color: #008080; text-decoration-color: #008080; font-weight: bold\">15</span>  \n",
       "<span style=\"color: #008080; text-decoration-color: #008080; font-weight: bold\">3623</span>         <span style=\"color: #008080; text-decoration-color: #008080; font-weight: bold\">1</span>                <span style=\"color: #008080; text-decoration-color: #008080; font-weight: bold\">8</span>  \n",
       "<span style=\"color: #008080; text-decoration-color: #008080; font-weight: bold\">3625</span>         <span style=\"color: #008080; text-decoration-color: #008080; font-weight: bold\">1</span>                <span style=\"color: #008080; text-decoration-color: #008080; font-weight: bold\">7</span>  \n",
       "<span style=\"color: #008080; text-decoration-color: #008080; font-weight: bold\">3626</span>         <span style=\"color: #008080; text-decoration-color: #008080; font-weight: bold\">1</span>                <span style=\"color: #008080; text-decoration-color: #008080; font-weight: bold\">2</span>  \n",
       "</pre>\n"
      ]
     },
     "metadata": {},
     "output_type": "display_data"
    },
    {
     "data": {
      "text/plain": [
       "\n",
       "\n",
       "Health & Hygiene\n",
       "\n",
       "                                                   name  weightInGms  \\\n",
       "\u001B[1;36m3728\u001B[0m  Dabur Honitus Herbal Cough Remedy Ayurvedic Syrup          \u001B[1;36m100\u001B[0m   \n",
       "\u001B[1;36m3719\u001B[0m                   Epigamia Fruit Yogurt Strawberry           \u001B[1;36m75\u001B[0m   \n",
       "\u001B[1;36m3722\u001B[0m   Eno Cooling Sachets - Cool Mint, \u001B[1;36m6\u001B[0m Pieces Carton            \u001B[1;36m5\u001B[0m   \n",
       "\n",
       "      quantity  discountPercent  \n",
       "\u001B[1;36m3728\u001B[0m       \u001B[1;36m100\u001B[0m               \u001B[1;36m15\u001B[0m  \n",
       "\u001B[1;36m3719\u001B[0m        \u001B[1;36m75\u001B[0m               \u001B[1;36m50\u001B[0m  \n",
       "\u001B[1;36m3722\u001B[0m         \u001B[1;36m5\u001B[0m               \u001B[1;36m11\u001B[0m  \n"
      ],
      "text/html": [
       "<pre style=\"white-space:pre;overflow-x:auto;line-height:normal;font-family:Menlo,'DejaVu Sans Mono',consolas,'Courier New',monospace\">\n",
       "\n",
       "Health &amp; Hygiene\n",
       "\n",
       "                                                   name  weightInGms  \\\n",
       "<span style=\"color: #008080; text-decoration-color: #008080; font-weight: bold\">3728</span>  Dabur Honitus Herbal Cough Remedy Ayurvedic Syrup          <span style=\"color: #008080; text-decoration-color: #008080; font-weight: bold\">100</span>   \n",
       "<span style=\"color: #008080; text-decoration-color: #008080; font-weight: bold\">3719</span>                   Epigamia Fruit Yogurt Strawberry           <span style=\"color: #008080; text-decoration-color: #008080; font-weight: bold\">75</span>   \n",
       "<span style=\"color: #008080; text-decoration-color: #008080; font-weight: bold\">3722</span>   Eno Cooling Sachets - Cool Mint, <span style=\"color: #008080; text-decoration-color: #008080; font-weight: bold\">6</span> Pieces Carton            <span style=\"color: #008080; text-decoration-color: #008080; font-weight: bold\">5</span>   \n",
       "\n",
       "      quantity  discountPercent  \n",
       "<span style=\"color: #008080; text-decoration-color: #008080; font-weight: bold\">3728</span>       <span style=\"color: #008080; text-decoration-color: #008080; font-weight: bold\">100</span>               <span style=\"color: #008080; text-decoration-color: #008080; font-weight: bold\">15</span>  \n",
       "<span style=\"color: #008080; text-decoration-color: #008080; font-weight: bold\">3719</span>        <span style=\"color: #008080; text-decoration-color: #008080; font-weight: bold\">75</span>               <span style=\"color: #008080; text-decoration-color: #008080; font-weight: bold\">50</span>  \n",
       "<span style=\"color: #008080; text-decoration-color: #008080; font-weight: bold\">3722</span>         <span style=\"color: #008080; text-decoration-color: #008080; font-weight: bold\">5</span>               <span style=\"color: #008080; text-decoration-color: #008080; font-weight: bold\">11</span>  \n",
       "</pre>\n"
      ]
     },
     "metadata": {},
     "output_type": "display_data"
    }
   ],
   "execution_count": 14
  },
  {
   "metadata": {
    "ExecuteTime": {
     "end_time": "2025-06-11T06:59:28.884817Z",
     "start_time": "2025-06-11T06:59:28.882875Z"
    }
   },
   "cell_type": "code",
   "source": "",
   "id": "36bf25eacb500de5",
   "outputs": [],
   "execution_count": null
  }
 ],
 "metadata": {
  "kernelspec": {
   "display_name": "Python 3",
   "language": "python",
   "name": "python3"
  },
  "language_info": {
   "codemirror_mode": {
    "name": "ipython",
    "version": 2
   },
   "file_extension": ".py",
   "mimetype": "text/x-python",
   "name": "python",
   "nbconvert_exporter": "python",
   "pygments_lexer": "ipython2",
   "version": "2.7.6"
  }
 },
 "nbformat": 4,
 "nbformat_minor": 5
}
