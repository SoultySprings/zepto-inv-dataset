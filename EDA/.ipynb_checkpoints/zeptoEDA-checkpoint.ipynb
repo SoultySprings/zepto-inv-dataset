{
 "cells": [
  {
   "metadata": {},
   "cell_type": "markdown",
   "source": "`zepto_v2.csv`",
   "id": "b890f691797766ec"
  },
  {
   "cell_type": "code",
   "id": "initial_id",
   "metadata": {
    "collapsed": true
   },
   "source": [
    "import pandas as pd, numpy as np, plotly.express as px\n",
    "from plotly import graph_objects as go"
   ],
   "outputs": [],
   "execution_count": null
  },
  {
   "metadata": {},
   "cell_type": "code",
   "source": [
    "df = pd.read_csv('zepto_v2.csv', encoding='cp1252')\n",
    "colors = [\"#4E79A7\", \"#F28E2B\", \"#E15759\", \"#76B7B2\", \"#59A14F\", \"#EDC949\", \"#AF7AA1\", \"#FF9DA7\", \"#9C755F\", \"#BAB0AC\", \"#1F77B4\", \"#FF7F0E\", \"#2CA02C\", \"#D62728\", \"#9467BD\"]"
   ],
   "id": "3bb6b9e78ea7422a",
   "outputs": [],
   "execution_count": null
  },
  {
   "metadata": {},
   "cell_type": "code",
   "source": [
    "print(df.max())\n",
    "print(df.idxmax())\n",
    "print(df.min())\n",
    "print(df.idxmin())\n"
   ],
   "id": "cba074b95d09595e",
   "outputs": [],
   "execution_count": null
  },
  {
   "metadata": {},
   "cell_type": "code",
   "source": [
    "dfN = df.drop_duplicates(subset='name').copy()\n",
    "dfN.info()"
   ],
   "id": "f8051ea6f18cc642",
   "outputs": [],
   "execution_count": null
  },
  {
   "metadata": {
    "ExecuteTime": {
     "end_time": "2025-06-07T14:30:47.399698Z",
     "start_time": "2025-06-07T14:30:47.396887Z"
    }
   },
   "cell_type": "code",
   "source": "labels = ['Category', 'discountPercent', 'availableQuantity']",
   "id": "788612fee44f5e0a",
   "outputs": [],
   "execution_count": 21
  },
  {
   "metadata": {
    "ExecuteTime": {
     "end_time": "2025-06-07T14:33:50.315631Z",
     "start_time": "2025-06-07T14:33:50.309751Z"
    }
   },
   "cell_type": "code",
   "source": [
    "for value in labels:\n",
    "    print(f'Unique in {value}: ', df[f'{value}'].sort_values(ascending=True).unique(), 'with length of : ', len(df[f'{value}'].unique()))\n",
    "    print()"
   ],
   "id": "a758ae3d79a3240f",
   "outputs": [
    {
     "name": "stdout",
     "output_type": "stream",
     "text": [
      "Unique in Category:  ['Beverages' 'Biscuits' 'Chocolates & Candies' 'Cooking Essentials'\n",
      " 'Dairy, Bread & Batter' 'Fruits & Vegetables' 'Health & Hygiene'\n",
      " 'Home & Cleaning' 'Ice Cream & Desserts' 'Meats, Fish & Eggs' 'Munchies'\n",
      " 'Paan Corner' 'Packaged Food' 'Personal Care'] with length of :  14\n",
      "\n",
      "Unique in discountPercent:  [ 0  1  2  3  4  5  6  7  8  9 10 11 12 13 14 15 16 17 18 19 20 21 22 23\n",
      " 24 25 26 27 28 29 30 31 32 33 35 40 43 45 46 49 50 51] with length of :  42\n",
      "\n",
      "Unique in availableQuantity:  [0 1 2 3 4 5 6] with length of :  7\n",
      "\n"
     ]
    }
   ],
   "execution_count": 30
  },
  {
   "metadata": {},
   "cell_type": "code",
   "source": "dfN",
   "id": "53314541d994d8c8",
   "outputs": [],
   "execution_count": null
  },
  {
   "metadata": {
    "ExecuteTime": {
     "end_time": "2025-06-07T14:34:06.957097Z",
     "start_time": "2025-06-07T14:34:06.905292Z"
    }
   },
   "cell_type": "code",
   "source": [
    "fig = px.histogram(dfN, x='Category', color = 'Category', color_discrete_sequence=colors, template='plotly_dark')\n",
    "fig.show()"
   ],
   "id": "14d1ca0865885d64",
   "outputs": [
    {
     "data": {
      "application/vnd.plotly.v1+json": {
       "data": [
        {
         "bingroup": "x",
         "hovertemplate": "Category=%{x}<br>count=%{y}<extra></extra>",
         "legendgroup": "Fruits & Vegetables",
         "marker": {
          "color": "#4E79A7",
          "pattern": {
           "shape": ""
          }
         },
         "name": "Fruits & Vegetables",
         "orientation": "v",
         "showlegend": true,
         "x": [
          "Fruits & Vegetables",
          "Fruits & Vegetables",
          "Fruits & Vegetables",
          "Fruits & Vegetables",
          "Fruits & Vegetables",
          "Fruits & Vegetables",
          "Fruits & Vegetables",
          "Fruits & Vegetables",
          "Fruits & Vegetables",
          "Fruits & Vegetables",
          "Fruits & Vegetables",
          "Fruits & Vegetables",
          "Fruits & Vegetables",
          "Fruits & Vegetables",
          "Fruits & Vegetables",
          "Fruits & Vegetables",
          "Fruits & Vegetables",
          "Fruits & Vegetables",
          "Fruits & Vegetables",
          "Fruits & Vegetables",
          "Fruits & Vegetables",
          "Fruits & Vegetables",
          "Fruits & Vegetables",
          "Fruits & Vegetables",
          "Fruits & Vegetables",
          "Fruits & Vegetables",
          "Fruits & Vegetables",
          "Fruits & Vegetables",
          "Fruits & Vegetables",
          "Fruits & Vegetables",
          "Fruits & Vegetables",
          "Fruits & Vegetables",
          "Fruits & Vegetables",
          "Fruits & Vegetables",
          "Fruits & Vegetables",
          "Fruits & Vegetables",
          "Fruits & Vegetables",
          "Fruits & Vegetables",
          "Fruits & Vegetables",
          "Fruits & Vegetables",
          "Fruits & Vegetables",
          "Fruits & Vegetables",
          "Fruits & Vegetables",
          "Fruits & Vegetables",
          "Fruits & Vegetables",
          "Fruits & Vegetables",
          "Fruits & Vegetables",
          "Fruits & Vegetables",
          "Fruits & Vegetables",
          "Fruits & Vegetables",
          "Fruits & Vegetables",
          "Fruits & Vegetables",
          "Fruits & Vegetables",
          "Fruits & Vegetables",
          "Fruits & Vegetables",
          "Fruits & Vegetables",
          "Fruits & Vegetables",
          "Fruits & Vegetables",
          "Fruits & Vegetables",
          "Fruits & Vegetables",
          "Fruits & Vegetables",
          "Fruits & Vegetables",
          "Fruits & Vegetables",
          "Fruits & Vegetables",
          "Fruits & Vegetables",
          "Fruits & Vegetables",
          "Fruits & Vegetables",
          "Fruits & Vegetables",
          "Fruits & Vegetables",
          "Fruits & Vegetables",
          "Fruits & Vegetables",
          "Fruits & Vegetables",
          "Fruits & Vegetables",
          "Fruits & Vegetables",
          "Fruits & Vegetables",
          "Fruits & Vegetables",
          "Fruits & Vegetables",
          "Fruits & Vegetables",
          "Fruits & Vegetables",
          "Fruits & Vegetables",
          "Fruits & Vegetables",
          "Fruits & Vegetables",
          "Fruits & Vegetables",
          "Fruits & Vegetables",
          "Fruits & Vegetables",
          "Fruits & Vegetables",
          "Fruits & Vegetables",
          "Fruits & Vegetables",
          "Fruits & Vegetables"
         ],
         "xaxis": "x",
         "yaxis": "y",
         "type": "histogram"
        },
        {
         "bingroup": "x",
         "hovertemplate": "Category=%{x}<br>count=%{y}<extra></extra>",
         "legendgroup": "Cooking Essentials",
         "marker": {
          "color": "#F28E2B",
          "pattern": {
           "shape": ""
          }
         },
         "name": "Cooking Essentials",
         "orientation": "v",
         "showlegend": true,
         "x": [
          "Cooking Essentials",
          "Cooking Essentials",
          "Cooking Essentials",
          "Cooking Essentials",
          "Cooking Essentials",
          "Cooking Essentials",
          "Cooking Essentials",
          "Cooking Essentials",
          "Cooking Essentials",
          "Cooking Essentials",
          "Cooking Essentials",
          "Cooking Essentials",
          "Cooking Essentials",
          "Cooking Essentials",
          "Cooking Essentials",
          "Cooking Essentials",
          "Cooking Essentials",
          "Cooking Essentials",
          "Cooking Essentials",
          "Cooking Essentials",
          "Cooking Essentials",
          "Cooking Essentials",
          "Cooking Essentials",
          "Cooking Essentials",
          "Cooking Essentials",
          "Cooking Essentials",
          "Cooking Essentials",
          "Cooking Essentials",
          "Cooking Essentials",
          "Cooking Essentials",
          "Cooking Essentials",
          "Cooking Essentials",
          "Cooking Essentials",
          "Cooking Essentials",
          "Cooking Essentials",
          "Cooking Essentials",
          "Cooking Essentials",
          "Cooking Essentials",
          "Cooking Essentials",
          "Cooking Essentials",
          "Cooking Essentials",
          "Cooking Essentials",
          "Cooking Essentials",
          "Cooking Essentials",
          "Cooking Essentials",
          "Cooking Essentials",
          "Cooking Essentials",
          "Cooking Essentials",
          "Cooking Essentials",
          "Cooking Essentials",
          "Cooking Essentials",
          "Cooking Essentials",
          "Cooking Essentials",
          "Cooking Essentials",
          "Cooking Essentials",
          "Cooking Essentials",
          "Cooking Essentials",
          "Cooking Essentials",
          "Cooking Essentials",
          "Cooking Essentials",
          "Cooking Essentials",
          "Cooking Essentials",
          "Cooking Essentials",
          "Cooking Essentials",
          "Cooking Essentials",
          "Cooking Essentials",
          "Cooking Essentials",
          "Cooking Essentials",
          "Cooking Essentials",
          "Cooking Essentials",
          "Cooking Essentials",
          "Cooking Essentials",
          "Cooking Essentials",
          "Cooking Essentials",
          "Cooking Essentials",
          "Cooking Essentials",
          "Cooking Essentials",
          "Cooking Essentials",
          "Cooking Essentials",
          "Cooking Essentials",
          "Cooking Essentials",
          "Cooking Essentials",
          "Cooking Essentials",
          "Cooking Essentials",
          "Cooking Essentials",
          "Cooking Essentials",
          "Cooking Essentials",
          "Cooking Essentials",
          "Cooking Essentials",
          "Cooking Essentials",
          "Cooking Essentials",
          "Cooking Essentials",
          "Cooking Essentials",
          "Cooking Essentials",
          "Cooking Essentials",
          "Cooking Essentials",
          "Cooking Essentials",
          "Cooking Essentials",
          "Cooking Essentials",
          "Cooking Essentials",
          "Cooking Essentials",
          "Cooking Essentials",
          "Cooking Essentials",
          "Cooking Essentials",
          "Cooking Essentials",
          "Cooking Essentials",
          "Cooking Essentials",
          "Cooking Essentials",
          "Cooking Essentials",
          "Cooking Essentials",
          "Cooking Essentials",
          "Cooking Essentials",
          "Cooking Essentials",
          "Cooking Essentials",
          "Cooking Essentials",
          "Cooking Essentials",
          "Cooking Essentials",
          "Cooking Essentials",
          "Cooking Essentials",
          "Cooking Essentials",
          "Cooking Essentials",
          "Cooking Essentials",
          "Cooking Essentials",
          "Cooking Essentials",
          "Cooking Essentials",
          "Cooking Essentials",
          "Cooking Essentials",
          "Cooking Essentials",
          "Cooking Essentials",
          "Cooking Essentials",
          "Cooking Essentials",
          "Cooking Essentials",
          "Cooking Essentials",
          "Cooking Essentials",
          "Cooking Essentials",
          "Cooking Essentials",
          "Cooking Essentials",
          "Cooking Essentials",
          "Cooking Essentials",
          "Cooking Essentials",
          "Cooking Essentials",
          "Cooking Essentials",
          "Cooking Essentials",
          "Cooking Essentials",
          "Cooking Essentials",
          "Cooking Essentials",
          "Cooking Essentials",
          "Cooking Essentials",
          "Cooking Essentials",
          "Cooking Essentials",
          "Cooking Essentials",
          "Cooking Essentials",
          "Cooking Essentials",
          "Cooking Essentials",
          "Cooking Essentials",
          "Cooking Essentials",
          "Cooking Essentials",
          "Cooking Essentials",
          "Cooking Essentials",
          "Cooking Essentials",
          "Cooking Essentials",
          "Cooking Essentials",
          "Cooking Essentials",
          "Cooking Essentials",
          "Cooking Essentials",
          "Cooking Essentials",
          "Cooking Essentials",
          "Cooking Essentials",
          "Cooking Essentials",
          "Cooking Essentials",
          "Cooking Essentials",
          "Cooking Essentials",
          "Cooking Essentials",
          "Cooking Essentials",
          "Cooking Essentials",
          "Cooking Essentials",
          "Cooking Essentials",
          "Cooking Essentials",
          "Cooking Essentials",
          "Cooking Essentials",
          "Cooking Essentials",
          "Cooking Essentials",
          "Cooking Essentials",
          "Cooking Essentials",
          "Cooking Essentials",
          "Cooking Essentials",
          "Cooking Essentials",
          "Cooking Essentials",
          "Cooking Essentials",
          "Cooking Essentials",
          "Cooking Essentials",
          "Cooking Essentials",
          "Cooking Essentials",
          "Cooking Essentials",
          "Cooking Essentials",
          "Cooking Essentials",
          "Cooking Essentials",
          "Cooking Essentials",
          "Cooking Essentials",
          "Cooking Essentials",
          "Cooking Essentials",
          "Cooking Essentials",
          "Cooking Essentials",
          "Cooking Essentials",
          "Cooking Essentials",
          "Cooking Essentials",
          "Cooking Essentials",
          "Cooking Essentials",
          "Cooking Essentials",
          "Cooking Essentials",
          "Cooking Essentials",
          "Cooking Essentials",
          "Cooking Essentials",
          "Cooking Essentials",
          "Cooking Essentials",
          "Cooking Essentials",
          "Cooking Essentials",
          "Cooking Essentials",
          "Cooking Essentials",
          "Cooking Essentials",
          "Cooking Essentials",
          "Cooking Essentials",
          "Cooking Essentials",
          "Cooking Essentials",
          "Cooking Essentials",
          "Cooking Essentials",
          "Cooking Essentials",
          "Cooking Essentials",
          "Cooking Essentials",
          "Cooking Essentials",
          "Cooking Essentials",
          "Cooking Essentials",
          "Cooking Essentials",
          "Cooking Essentials",
          "Cooking Essentials",
          "Cooking Essentials",
          "Cooking Essentials",
          "Cooking Essentials",
          "Cooking Essentials",
          "Cooking Essentials",
          "Cooking Essentials",
          "Cooking Essentials",
          "Cooking Essentials",
          "Cooking Essentials",
          "Cooking Essentials",
          "Cooking Essentials",
          "Cooking Essentials",
          "Cooking Essentials",
          "Cooking Essentials",
          "Cooking Essentials",
          "Cooking Essentials",
          "Cooking Essentials",
          "Cooking Essentials",
          "Cooking Essentials",
          "Cooking Essentials",
          "Cooking Essentials",
          "Cooking Essentials",
          "Cooking Essentials",
          "Cooking Essentials",
          "Cooking Essentials",
          "Cooking Essentials",
          "Cooking Essentials",
          "Cooking Essentials",
          "Cooking Essentials",
          "Cooking Essentials",
          "Cooking Essentials",
          "Cooking Essentials",
          "Cooking Essentials",
          "Cooking Essentials",
          "Cooking Essentials",
          "Cooking Essentials",
          "Cooking Essentials",
          "Cooking Essentials",
          "Cooking Essentials",
          "Cooking Essentials",
          "Cooking Essentials",
          "Cooking Essentials",
          "Cooking Essentials",
          "Cooking Essentials",
          "Cooking Essentials",
          "Cooking Essentials",
          "Cooking Essentials",
          "Cooking Essentials",
          "Cooking Essentials",
          "Cooking Essentials",
          "Cooking Essentials",
          "Cooking Essentials",
          "Cooking Essentials",
          "Cooking Essentials",
          "Cooking Essentials",
          "Cooking Essentials",
          "Cooking Essentials",
          "Cooking Essentials",
          "Cooking Essentials",
          "Cooking Essentials",
          "Cooking Essentials",
          "Cooking Essentials",
          "Cooking Essentials",
          "Cooking Essentials",
          "Cooking Essentials",
          "Cooking Essentials",
          "Cooking Essentials",
          "Cooking Essentials",
          "Cooking Essentials",
          "Cooking Essentials",
          "Cooking Essentials",
          "Cooking Essentials",
          "Cooking Essentials",
          "Cooking Essentials",
          "Cooking Essentials",
          "Cooking Essentials",
          "Cooking Essentials",
          "Cooking Essentials",
          "Cooking Essentials",
          "Cooking Essentials",
          "Cooking Essentials",
          "Cooking Essentials",
          "Cooking Essentials",
          "Cooking Essentials",
          "Cooking Essentials",
          "Cooking Essentials",
          "Cooking Essentials",
          "Cooking Essentials",
          "Cooking Essentials",
          "Cooking Essentials",
          "Cooking Essentials",
          "Cooking Essentials",
          "Cooking Essentials",
          "Cooking Essentials",
          "Cooking Essentials",
          "Cooking Essentials",
          "Cooking Essentials",
          "Cooking Essentials",
          "Cooking Essentials",
          "Cooking Essentials",
          "Cooking Essentials",
          "Cooking Essentials",
          "Cooking Essentials",
          "Cooking Essentials",
          "Cooking Essentials",
          "Cooking Essentials",
          "Cooking Essentials",
          "Cooking Essentials",
          "Cooking Essentials",
          "Cooking Essentials",
          "Cooking Essentials",
          "Cooking Essentials",
          "Cooking Essentials",
          "Cooking Essentials",
          "Cooking Essentials",
          "Cooking Essentials",
          "Cooking Essentials",
          "Cooking Essentials",
          "Cooking Essentials",
          "Cooking Essentials",
          "Cooking Essentials",
          "Cooking Essentials",
          "Cooking Essentials",
          "Cooking Essentials",
          "Cooking Essentials",
          "Cooking Essentials",
          "Cooking Essentials",
          "Cooking Essentials",
          "Cooking Essentials",
          "Cooking Essentials",
          "Cooking Essentials",
          "Cooking Essentials",
          "Cooking Essentials",
          "Cooking Essentials",
          "Cooking Essentials",
          "Cooking Essentials",
          "Cooking Essentials",
          "Cooking Essentials",
          "Cooking Essentials",
          "Cooking Essentials",
          "Cooking Essentials",
          "Cooking Essentials",
          "Cooking Essentials",
          "Cooking Essentials",
          "Cooking Essentials",
          "Cooking Essentials",
          "Cooking Essentials",
          "Cooking Essentials",
          "Cooking Essentials",
          "Cooking Essentials",
          "Cooking Essentials",
          "Cooking Essentials",
          "Cooking Essentials",
          "Cooking Essentials",
          "Cooking Essentials",
          "Cooking Essentials",
          "Cooking Essentials",
          "Cooking Essentials",
          "Cooking Essentials",
          "Cooking Essentials",
          "Cooking Essentials",
          "Cooking Essentials",
          "Cooking Essentials",
          "Cooking Essentials",
          "Cooking Essentials",
          "Cooking Essentials",
          "Cooking Essentials",
          "Cooking Essentials",
          "Cooking Essentials",
          "Cooking Essentials",
          "Cooking Essentials",
          "Cooking Essentials",
          "Cooking Essentials",
          "Cooking Essentials",
          "Cooking Essentials",
          "Cooking Essentials",
          "Cooking Essentials",
          "Cooking Essentials",
          "Cooking Essentials",
          "Cooking Essentials",
          "Cooking Essentials",
          "Cooking Essentials",
          "Cooking Essentials",
          "Cooking Essentials",
          "Cooking Essentials",
          "Cooking Essentials",
          "Cooking Essentials",
          "Cooking Essentials",
          "Cooking Essentials",
          "Cooking Essentials",
          "Cooking Essentials",
          "Cooking Essentials",
          "Cooking Essentials",
          "Cooking Essentials",
          "Cooking Essentials",
          "Cooking Essentials",
          "Cooking Essentials",
          "Cooking Essentials",
          "Cooking Essentials",
          "Cooking Essentials",
          "Cooking Essentials",
          "Cooking Essentials",
          "Cooking Essentials",
          "Cooking Essentials",
          "Cooking Essentials",
          "Cooking Essentials",
          "Cooking Essentials",
          "Cooking Essentials",
          "Cooking Essentials",
          "Cooking Essentials",
          "Cooking Essentials",
          "Cooking Essentials",
          "Cooking Essentials",
          "Cooking Essentials",
          "Cooking Essentials",
          "Cooking Essentials",
          "Cooking Essentials",
          "Cooking Essentials",
          "Cooking Essentials",
          "Cooking Essentials",
          "Cooking Essentials",
          "Cooking Essentials",
          "Cooking Essentials",
          "Cooking Essentials",
          "Cooking Essentials",
          "Cooking Essentials",
          "Cooking Essentials",
          "Cooking Essentials",
          "Cooking Essentials",
          "Cooking Essentials",
          "Cooking Essentials",
          "Cooking Essentials",
          "Cooking Essentials",
          "Cooking Essentials",
          "Cooking Essentials",
          "Cooking Essentials",
          "Cooking Essentials",
          "Cooking Essentials",
          "Cooking Essentials",
          "Cooking Essentials",
          "Cooking Essentials",
          "Cooking Essentials",
          "Cooking Essentials"
         ],
         "xaxis": "x",
         "yaxis": "y",
         "type": "histogram"
        },
        {
         "bingroup": "x",
         "hovertemplate": "Category=%{x}<br>count=%{y}<extra></extra>",
         "legendgroup": "Dairy, Bread & Batter",
         "marker": {
          "color": "#E15759",
          "pattern": {
           "shape": ""
          }
         },
         "name": "Dairy, Bread & Batter",
         "orientation": "v",
         "showlegend": true,
         "x": [
          "Dairy, Bread & Batter",
          "Dairy, Bread & Batter",
          "Dairy, Bread & Batter",
          "Dairy, Bread & Batter",
          "Dairy, Bread & Batter",
          "Dairy, Bread & Batter",
          "Dairy, Bread & Batter",
          "Dairy, Bread & Batter",
          "Dairy, Bread & Batter",
          "Dairy, Bread & Batter",
          "Dairy, Bread & Batter",
          "Dairy, Bread & Batter",
          "Dairy, Bread & Batter",
          "Dairy, Bread & Batter",
          "Dairy, Bread & Batter",
          "Dairy, Bread & Batter",
          "Dairy, Bread & Batter",
          "Dairy, Bread & Batter",
          "Dairy, Bread & Batter",
          "Dairy, Bread & Batter",
          "Dairy, Bread & Batter",
          "Dairy, Bread & Batter",
          "Dairy, Bread & Batter",
          "Dairy, Bread & Batter",
          "Dairy, Bread & Batter",
          "Dairy, Bread & Batter",
          "Dairy, Bread & Batter",
          "Dairy, Bread & Batter",
          "Dairy, Bread & Batter",
          "Dairy, Bread & Batter",
          "Dairy, Bread & Batter",
          "Dairy, Bread & Batter",
          "Dairy, Bread & Batter",
          "Dairy, Bread & Batter",
          "Dairy, Bread & Batter",
          "Dairy, Bread & Batter",
          "Dairy, Bread & Batter",
          "Dairy, Bread & Batter",
          "Dairy, Bread & Batter",
          "Dairy, Bread & Batter",
          "Dairy, Bread & Batter",
          "Dairy, Bread & Batter",
          "Dairy, Bread & Batter",
          "Dairy, Bread & Batter",
          "Dairy, Bread & Batter",
          "Dairy, Bread & Batter",
          "Dairy, Bread & Batter",
          "Dairy, Bread & Batter",
          "Dairy, Bread & Batter",
          "Dairy, Bread & Batter",
          "Dairy, Bread & Batter",
          "Dairy, Bread & Batter",
          "Dairy, Bread & Batter",
          "Dairy, Bread & Batter",
          "Dairy, Bread & Batter",
          "Dairy, Bread & Batter",
          "Dairy, Bread & Batter",
          "Dairy, Bread & Batter",
          "Dairy, Bread & Batter",
          "Dairy, Bread & Batter",
          "Dairy, Bread & Batter",
          "Dairy, Bread & Batter",
          "Dairy, Bread & Batter",
          "Dairy, Bread & Batter",
          "Dairy, Bread & Batter",
          "Dairy, Bread & Batter",
          "Dairy, Bread & Batter",
          "Dairy, Bread & Batter",
          "Dairy, Bread & Batter",
          "Dairy, Bread & Batter",
          "Dairy, Bread & Batter",
          "Dairy, Bread & Batter",
          "Dairy, Bread & Batter",
          "Dairy, Bread & Batter",
          "Dairy, Bread & Batter",
          "Dairy, Bread & Batter",
          "Dairy, Bread & Batter",
          "Dairy, Bread & Batter",
          "Dairy, Bread & Batter",
          "Dairy, Bread & Batter",
          "Dairy, Bread & Batter",
          "Dairy, Bread & Batter",
          "Dairy, Bread & Batter",
          "Dairy, Bread & Batter",
          "Dairy, Bread & Batter",
          "Dairy, Bread & Batter",
          "Dairy, Bread & Batter",
          "Dairy, Bread & Batter",
          "Dairy, Bread & Batter",
          "Dairy, Bread & Batter",
          "Dairy, Bread & Batter",
          "Dairy, Bread & Batter",
          "Dairy, Bread & Batter",
          "Dairy, Bread & Batter",
          "Dairy, Bread & Batter",
          "Dairy, Bread & Batter",
          "Dairy, Bread & Batter",
          "Dairy, Bread & Batter",
          "Dairy, Bread & Batter",
          "Dairy, Bread & Batter",
          "Dairy, Bread & Batter",
          "Dairy, Bread & Batter",
          "Dairy, Bread & Batter",
          "Dairy, Bread & Batter",
          "Dairy, Bread & Batter",
          "Dairy, Bread & Batter",
          "Dairy, Bread & Batter",
          "Dairy, Bread & Batter"
         ],
         "xaxis": "x",
         "yaxis": "y",
         "type": "histogram"
        },
        {
         "bingroup": "x",
         "hovertemplate": "Category=%{x}<br>count=%{y}<extra></extra>",
         "legendgroup": "Packaged Food",
         "marker": {
          "color": "#76B7B2",
          "pattern": {
           "shape": ""
          }
         },
         "name": "Packaged Food",
         "orientation": "v",
         "showlegend": true,
         "x": [
          "Packaged Food",
          "Packaged Food",
          "Packaged Food",
          "Packaged Food",
          "Packaged Food",
          "Packaged Food",
          "Packaged Food",
          "Packaged Food",
          "Packaged Food",
          "Packaged Food",
          "Packaged Food",
          "Packaged Food",
          "Packaged Food",
          "Packaged Food",
          "Packaged Food",
          "Packaged Food",
          "Packaged Food",
          "Packaged Food",
          "Packaged Food",
          "Packaged Food",
          "Packaged Food",
          "Packaged Food",
          "Packaged Food",
          "Packaged Food",
          "Packaged Food",
          "Packaged Food",
          "Packaged Food",
          "Packaged Food",
          "Packaged Food",
          "Packaged Food",
          "Packaged Food",
          "Packaged Food",
          "Packaged Food",
          "Packaged Food",
          "Packaged Food",
          "Packaged Food",
          "Packaged Food",
          "Packaged Food",
          "Packaged Food",
          "Packaged Food",
          "Packaged Food",
          "Packaged Food",
          "Packaged Food",
          "Packaged Food",
          "Packaged Food",
          "Packaged Food",
          "Packaged Food",
          "Packaged Food",
          "Packaged Food",
          "Packaged Food",
          "Packaged Food",
          "Packaged Food",
          "Packaged Food",
          "Packaged Food",
          "Packaged Food",
          "Packaged Food",
          "Packaged Food",
          "Packaged Food",
          "Packaged Food",
          "Packaged Food",
          "Packaged Food",
          "Packaged Food",
          "Packaged Food",
          "Packaged Food",
          "Packaged Food",
          "Packaged Food",
          "Packaged Food",
          "Packaged Food",
          "Packaged Food",
          "Packaged Food",
          "Packaged Food",
          "Packaged Food",
          "Packaged Food",
          "Packaged Food",
          "Packaged Food",
          "Packaged Food",
          "Packaged Food",
          "Packaged Food",
          "Packaged Food",
          "Packaged Food",
          "Packaged Food",
          "Packaged Food",
          "Packaged Food",
          "Packaged Food",
          "Packaged Food",
          "Packaged Food",
          "Packaged Food",
          "Packaged Food",
          "Packaged Food",
          "Packaged Food",
          "Packaged Food",
          "Packaged Food",
          "Packaged Food",
          "Packaged Food",
          "Packaged Food",
          "Packaged Food",
          "Packaged Food",
          "Packaged Food",
          "Packaged Food",
          "Packaged Food",
          "Packaged Food",
          "Packaged Food",
          "Packaged Food",
          "Packaged Food",
          "Packaged Food",
          "Packaged Food",
          "Packaged Food",
          "Packaged Food",
          "Packaged Food",
          "Packaged Food",
          "Packaged Food",
          "Packaged Food",
          "Packaged Food",
          "Packaged Food",
          "Packaged Food",
          "Packaged Food",
          "Packaged Food",
          "Packaged Food",
          "Packaged Food",
          "Packaged Food",
          "Packaged Food",
          "Packaged Food",
          "Packaged Food",
          "Packaged Food",
          "Packaged Food",
          "Packaged Food",
          "Packaged Food",
          "Packaged Food",
          "Packaged Food",
          "Packaged Food",
          "Packaged Food",
          "Packaged Food",
          "Packaged Food",
          "Packaged Food",
          "Packaged Food",
          "Packaged Food",
          "Packaged Food",
          "Packaged Food",
          "Packaged Food",
          "Packaged Food",
          "Packaged Food",
          "Packaged Food",
          "Packaged Food",
          "Packaged Food",
          "Packaged Food",
          "Packaged Food",
          "Packaged Food",
          "Packaged Food",
          "Packaged Food",
          "Packaged Food",
          "Packaged Food",
          "Packaged Food",
          "Packaged Food",
          "Packaged Food",
          "Packaged Food",
          "Packaged Food",
          "Packaged Food",
          "Packaged Food",
          "Packaged Food",
          "Packaged Food",
          "Packaged Food",
          "Packaged Food",
          "Packaged Food",
          "Packaged Food",
          "Packaged Food",
          "Packaged Food",
          "Packaged Food",
          "Packaged Food",
          "Packaged Food",
          "Packaged Food",
          "Packaged Food",
          "Packaged Food",
          "Packaged Food",
          "Packaged Food",
          "Packaged Food",
          "Packaged Food",
          "Packaged Food",
          "Packaged Food",
          "Packaged Food",
          "Packaged Food",
          "Packaged Food",
          "Packaged Food",
          "Packaged Food",
          "Packaged Food",
          "Packaged Food",
          "Packaged Food",
          "Packaged Food",
          "Packaged Food",
          "Packaged Food",
          "Packaged Food",
          "Packaged Food",
          "Packaged Food",
          "Packaged Food",
          "Packaged Food",
          "Packaged Food",
          "Packaged Food",
          "Packaged Food",
          "Packaged Food",
          "Packaged Food",
          "Packaged Food",
          "Packaged Food",
          "Packaged Food",
          "Packaged Food",
          "Packaged Food",
          "Packaged Food",
          "Packaged Food",
          "Packaged Food",
          "Packaged Food",
          "Packaged Food",
          "Packaged Food",
          "Packaged Food",
          "Packaged Food",
          "Packaged Food",
          "Packaged Food",
          "Packaged Food",
          "Packaged Food",
          "Packaged Food",
          "Packaged Food",
          "Packaged Food",
          "Packaged Food",
          "Packaged Food",
          "Packaged Food",
          "Packaged Food",
          "Packaged Food",
          "Packaged Food",
          "Packaged Food",
          "Packaged Food",
          "Packaged Food",
          "Packaged Food",
          "Packaged Food",
          "Packaged Food",
          "Packaged Food",
          "Packaged Food",
          "Packaged Food",
          "Packaged Food",
          "Packaged Food",
          "Packaged Food",
          "Packaged Food",
          "Packaged Food",
          "Packaged Food",
          "Packaged Food",
          "Packaged Food",
          "Packaged Food",
          "Packaged Food",
          "Packaged Food",
          "Packaged Food",
          "Packaged Food",
          "Packaged Food",
          "Packaged Food",
          "Packaged Food",
          "Packaged Food",
          "Packaged Food",
          "Packaged Food",
          "Packaged Food",
          "Packaged Food",
          "Packaged Food",
          "Packaged Food",
          "Packaged Food",
          "Packaged Food",
          "Packaged Food",
          "Packaged Food",
          "Packaged Food",
          "Packaged Food",
          "Packaged Food",
          "Packaged Food",
          "Packaged Food",
          "Packaged Food",
          "Packaged Food",
          "Packaged Food",
          "Packaged Food",
          "Packaged Food",
          "Packaged Food",
          "Packaged Food",
          "Packaged Food",
          "Packaged Food",
          "Packaged Food",
          "Packaged Food",
          "Packaged Food",
          "Packaged Food",
          "Packaged Food",
          "Packaged Food",
          "Packaged Food",
          "Packaged Food",
          "Packaged Food",
          "Packaged Food",
          "Packaged Food",
          "Packaged Food"
         ],
         "xaxis": "x",
         "yaxis": "y",
         "type": "histogram"
        },
        {
         "bingroup": "x",
         "hovertemplate": "Category=%{x}<br>count=%{y}<extra></extra>",
         "legendgroup": "Meats, Fish & Eggs",
         "marker": {
          "color": "#59A14F",
          "pattern": {
           "shape": ""
          }
         },
         "name": "Meats, Fish & Eggs",
         "orientation": "v",
         "showlegend": true,
         "x": [
          "Meats, Fish & Eggs",
          "Meats, Fish & Eggs",
          "Meats, Fish & Eggs",
          "Meats, Fish & Eggs",
          "Meats, Fish & Eggs",
          "Meats, Fish & Eggs",
          "Meats, Fish & Eggs",
          "Meats, Fish & Eggs",
          "Meats, Fish & Eggs",
          "Meats, Fish & Eggs",
          "Meats, Fish & Eggs",
          "Meats, Fish & Eggs",
          "Meats, Fish & Eggs",
          "Meats, Fish & Eggs",
          "Meats, Fish & Eggs",
          "Meats, Fish & Eggs",
          "Meats, Fish & Eggs",
          "Meats, Fish & Eggs",
          "Meats, Fish & Eggs",
          "Meats, Fish & Eggs",
          "Meats, Fish & Eggs",
          "Meats, Fish & Eggs",
          "Meats, Fish & Eggs",
          "Meats, Fish & Eggs",
          "Meats, Fish & Eggs",
          "Meats, Fish & Eggs",
          "Meats, Fish & Eggs",
          "Meats, Fish & Eggs",
          "Meats, Fish & Eggs",
          "Meats, Fish & Eggs",
          "Meats, Fish & Eggs",
          "Meats, Fish & Eggs"
         ],
         "xaxis": "x",
         "yaxis": "y",
         "type": "histogram"
        },
        {
         "bingroup": "x",
         "hovertemplate": "Category=%{x}<br>count=%{y}<extra></extra>",
         "legendgroup": "Biscuits",
         "marker": {
          "color": "#EDC949",
          "pattern": {
           "shape": ""
          }
         },
         "name": "Biscuits",
         "orientation": "v",
         "showlegend": true,
         "x": [
          "Biscuits",
          "Biscuits",
          "Biscuits",
          "Biscuits",
          "Biscuits",
          "Biscuits",
          "Biscuits",
          "Biscuits",
          "Biscuits",
          "Biscuits",
          "Biscuits",
          "Biscuits",
          "Biscuits",
          "Biscuits",
          "Biscuits",
          "Biscuits",
          "Biscuits",
          "Biscuits",
          "Biscuits",
          "Biscuits",
          "Biscuits",
          "Biscuits",
          "Biscuits",
          "Biscuits",
          "Biscuits",
          "Biscuits",
          "Biscuits",
          "Biscuits",
          "Biscuits",
          "Biscuits",
          "Biscuits",
          "Biscuits",
          "Biscuits",
          "Biscuits",
          "Biscuits",
          "Biscuits",
          "Biscuits",
          "Biscuits",
          "Biscuits",
          "Biscuits",
          "Biscuits",
          "Biscuits",
          "Biscuits",
          "Biscuits",
          "Biscuits",
          "Biscuits",
          "Biscuits",
          "Biscuits",
          "Biscuits",
          "Biscuits",
          "Biscuits",
          "Biscuits",
          "Biscuits",
          "Biscuits",
          "Biscuits",
          "Biscuits",
          "Biscuits",
          "Biscuits",
          "Biscuits",
          "Biscuits",
          "Biscuits",
          "Biscuits",
          "Biscuits",
          "Biscuits",
          "Biscuits",
          "Biscuits",
          "Biscuits",
          "Biscuits",
          "Biscuits",
          "Biscuits",
          "Biscuits",
          "Biscuits",
          "Biscuits",
          "Biscuits",
          "Biscuits",
          "Biscuits",
          "Biscuits",
          "Biscuits",
          "Biscuits",
          "Biscuits",
          "Biscuits",
          "Biscuits",
          "Biscuits",
          "Biscuits",
          "Biscuits",
          "Biscuits",
          "Biscuits",
          "Biscuits",
          "Biscuits",
          "Biscuits",
          "Biscuits",
          "Biscuits",
          "Biscuits",
          "Biscuits",
          "Biscuits",
          "Biscuits",
          "Biscuits",
          "Biscuits",
          "Biscuits",
          "Biscuits",
          "Biscuits",
          "Biscuits",
          "Biscuits",
          "Biscuits",
          "Biscuits",
          "Biscuits",
          "Biscuits",
          "Biscuits",
          "Biscuits",
          "Biscuits",
          "Biscuits",
          "Biscuits",
          "Biscuits",
          "Biscuits",
          "Biscuits",
          "Biscuits",
          "Biscuits",
          "Biscuits",
          "Biscuits",
          "Biscuits",
          "Biscuits",
          "Biscuits",
          "Biscuits",
          "Biscuits",
          "Biscuits",
          "Biscuits",
          "Biscuits",
          "Biscuits",
          "Biscuits",
          "Biscuits",
          "Biscuits",
          "Biscuits",
          "Biscuits"
         ],
         "xaxis": "x",
         "yaxis": "y",
         "type": "histogram"
        },
        {
         "bingroup": "x",
         "hovertemplate": "Category=%{x}<br>count=%{y}<extra></extra>",
         "legendgroup": "Personal Care",
         "marker": {
          "color": "#AF7AA1",
          "pattern": {
           "shape": ""
          }
         },
         "name": "Personal Care",
         "orientation": "v",
         "showlegend": true,
         "x": [
          "Personal Care",
          "Personal Care",
          "Personal Care",
          "Personal Care",
          "Personal Care",
          "Personal Care",
          "Personal Care",
          "Personal Care",
          "Personal Care",
          "Personal Care",
          "Personal Care",
          "Personal Care",
          "Personal Care",
          "Personal Care",
          "Personal Care",
          "Personal Care",
          "Personal Care",
          "Personal Care",
          "Personal Care",
          "Personal Care",
          "Personal Care",
          "Personal Care",
          "Personal Care",
          "Personal Care",
          "Personal Care",
          "Personal Care",
          "Personal Care",
          "Personal Care",
          "Personal Care",
          "Personal Care",
          "Personal Care",
          "Personal Care",
          "Personal Care",
          "Personal Care",
          "Personal Care",
          "Personal Care",
          "Personal Care",
          "Personal Care",
          "Personal Care",
          "Personal Care",
          "Personal Care",
          "Personal Care",
          "Personal Care",
          "Personal Care",
          "Personal Care",
          "Personal Care",
          "Personal Care",
          "Personal Care",
          "Personal Care",
          "Personal Care",
          "Personal Care",
          "Personal Care",
          "Personal Care",
          "Personal Care",
          "Personal Care",
          "Personal Care",
          "Personal Care",
          "Personal Care",
          "Personal Care",
          "Personal Care",
          "Personal Care",
          "Personal Care",
          "Personal Care",
          "Personal Care",
          "Personal Care",
          "Personal Care",
          "Personal Care",
          "Personal Care",
          "Personal Care",
          "Personal Care",
          "Personal Care",
          "Personal Care",
          "Personal Care",
          "Personal Care",
          "Personal Care",
          "Personal Care",
          "Personal Care",
          "Personal Care",
          "Personal Care",
          "Personal Care",
          "Personal Care",
          "Personal Care",
          "Personal Care",
          "Personal Care",
          "Personal Care",
          "Personal Care",
          "Personal Care",
          "Personal Care",
          "Personal Care",
          "Personal Care",
          "Personal Care",
          "Personal Care",
          "Personal Care",
          "Personal Care",
          "Personal Care",
          "Personal Care",
          "Personal Care",
          "Personal Care",
          "Personal Care",
          "Personal Care",
          "Personal Care",
          "Personal Care",
          "Personal Care",
          "Personal Care",
          "Personal Care",
          "Personal Care",
          "Personal Care",
          "Personal Care",
          "Personal Care",
          "Personal Care",
          "Personal Care",
          "Personal Care",
          "Personal Care",
          "Personal Care",
          "Personal Care",
          "Personal Care",
          "Personal Care",
          "Personal Care",
          "Personal Care",
          "Personal Care",
          "Personal Care",
          "Personal Care",
          "Personal Care",
          "Personal Care",
          "Personal Care",
          "Personal Care",
          "Personal Care",
          "Personal Care",
          "Personal Care",
          "Personal Care",
          "Personal Care",
          "Personal Care",
          "Personal Care",
          "Personal Care",
          "Personal Care",
          "Personal Care",
          "Personal Care",
          "Personal Care",
          "Personal Care",
          "Personal Care",
          "Personal Care",
          "Personal Care",
          "Personal Care",
          "Personal Care",
          "Personal Care",
          "Personal Care",
          "Personal Care",
          "Personal Care",
          "Personal Care",
          "Personal Care",
          "Personal Care",
          "Personal Care",
          "Personal Care",
          "Personal Care",
          "Personal Care",
          "Personal Care",
          "Personal Care",
          "Personal Care",
          "Personal Care",
          "Personal Care",
          "Personal Care",
          "Personal Care",
          "Personal Care",
          "Personal Care",
          "Personal Care",
          "Personal Care",
          "Personal Care",
          "Personal Care",
          "Personal Care",
          "Personal Care",
          "Personal Care",
          "Personal Care",
          "Personal Care",
          "Personal Care",
          "Personal Care",
          "Personal Care",
          "Personal Care",
          "Personal Care",
          "Personal Care",
          "Personal Care",
          "Personal Care",
          "Personal Care",
          "Personal Care",
          "Personal Care",
          "Personal Care",
          "Personal Care",
          "Personal Care",
          "Personal Care",
          "Personal Care",
          "Personal Care",
          "Personal Care",
          "Personal Care",
          "Personal Care",
          "Personal Care",
          "Personal Care",
          "Personal Care",
          "Personal Care",
          "Personal Care",
          "Personal Care",
          "Personal Care",
          "Personal Care",
          "Personal Care",
          "Personal Care",
          "Personal Care",
          "Personal Care",
          "Personal Care",
          "Personal Care",
          "Personal Care",
          "Personal Care",
          "Personal Care",
          "Personal Care",
          "Personal Care",
          "Personal Care",
          "Personal Care",
          "Personal Care",
          "Personal Care",
          "Personal Care",
          "Personal Care",
          "Personal Care",
          "Personal Care",
          "Personal Care",
          "Personal Care",
          "Personal Care",
          "Personal Care",
          "Personal Care",
          "Personal Care",
          "Personal Care",
          "Personal Care",
          "Personal Care",
          "Personal Care",
          "Personal Care",
          "Personal Care",
          "Personal Care",
          "Personal Care",
          "Personal Care",
          "Personal Care",
          "Personal Care",
          "Personal Care",
          "Personal Care",
          "Personal Care",
          "Personal Care",
          "Personal Care",
          "Personal Care",
          "Personal Care",
          "Personal Care",
          "Personal Care",
          "Personal Care",
          "Personal Care",
          "Personal Care",
          "Personal Care",
          "Personal Care",
          "Personal Care",
          "Personal Care",
          "Personal Care",
          "Personal Care",
          "Personal Care",
          "Personal Care",
          "Personal Care",
          "Personal Care",
          "Personal Care",
          "Personal Care",
          "Personal Care",
          "Personal Care",
          "Personal Care",
          "Personal Care",
          "Personal Care",
          "Personal Care",
          "Personal Care",
          "Personal Care",
          "Personal Care",
          "Personal Care",
          "Personal Care",
          "Personal Care",
          "Personal Care",
          "Personal Care",
          "Personal Care",
          "Personal Care",
          "Personal Care",
          "Personal Care",
          "Personal Care",
          "Personal Care",
          "Personal Care",
          "Personal Care",
          "Personal Care",
          "Personal Care",
          "Personal Care",
          "Personal Care",
          "Personal Care",
          "Personal Care",
          "Personal Care",
          "Personal Care",
          "Personal Care",
          "Personal Care",
          "Personal Care",
          "Personal Care",
          "Personal Care",
          "Personal Care",
          "Personal Care",
          "Personal Care",
          "Personal Care",
          "Personal Care",
          "Personal Care",
          "Personal Care",
          "Personal Care",
          "Personal Care",
          "Personal Care",
          "Personal Care",
          "Personal Care",
          "Personal Care",
          "Personal Care"
         ],
         "xaxis": "x",
         "yaxis": "y",
         "type": "histogram"
        },
        {
         "bingroup": "x",
         "hovertemplate": "Category=%{x}<br>count=%{y}<extra></extra>",
         "legendgroup": "Home & Cleaning",
         "marker": {
          "color": "#FF9DA7",
          "pattern": {
           "shape": ""
          }
         },
         "name": "Home & Cleaning",
         "orientation": "v",
         "showlegend": true,
         "x": [
          "Home & Cleaning",
          "Home & Cleaning",
          "Home & Cleaning",
          "Home & Cleaning",
          "Home & Cleaning",
          "Home & Cleaning",
          "Home & Cleaning",
          "Home & Cleaning",
          "Home & Cleaning",
          "Home & Cleaning",
          "Home & Cleaning",
          "Home & Cleaning",
          "Home & Cleaning",
          "Home & Cleaning",
          "Home & Cleaning",
          "Home & Cleaning",
          "Home & Cleaning",
          "Home & Cleaning",
          "Home & Cleaning",
          "Home & Cleaning",
          "Home & Cleaning",
          "Home & Cleaning",
          "Home & Cleaning",
          "Home & Cleaning",
          "Home & Cleaning",
          "Home & Cleaning",
          "Home & Cleaning",
          "Home & Cleaning",
          "Home & Cleaning",
          "Home & Cleaning",
          "Home & Cleaning",
          "Home & Cleaning",
          "Home & Cleaning",
          "Home & Cleaning",
          "Home & Cleaning",
          "Home & Cleaning",
          "Home & Cleaning",
          "Home & Cleaning",
          "Home & Cleaning",
          "Home & Cleaning",
          "Home & Cleaning",
          "Home & Cleaning",
          "Home & Cleaning",
          "Home & Cleaning",
          "Home & Cleaning",
          "Home & Cleaning",
          "Home & Cleaning",
          "Home & Cleaning",
          "Home & Cleaning",
          "Home & Cleaning",
          "Home & Cleaning",
          "Home & Cleaning",
          "Home & Cleaning",
          "Home & Cleaning",
          "Home & Cleaning",
          "Home & Cleaning",
          "Home & Cleaning",
          "Home & Cleaning",
          "Home & Cleaning",
          "Home & Cleaning",
          "Home & Cleaning",
          "Home & Cleaning",
          "Home & Cleaning",
          "Home & Cleaning",
          "Home & Cleaning",
          "Home & Cleaning",
          "Home & Cleaning",
          "Home & Cleaning",
          "Home & Cleaning",
          "Home & Cleaning",
          "Home & Cleaning",
          "Home & Cleaning",
          "Home & Cleaning",
          "Home & Cleaning",
          "Home & Cleaning",
          "Home & Cleaning",
          "Home & Cleaning",
          "Home & Cleaning",
          "Home & Cleaning",
          "Home & Cleaning",
          "Home & Cleaning",
          "Home & Cleaning",
          "Home & Cleaning",
          "Home & Cleaning",
          "Home & Cleaning",
          "Home & Cleaning",
          "Home & Cleaning",
          "Home & Cleaning",
          "Home & Cleaning",
          "Home & Cleaning",
          "Home & Cleaning",
          "Home & Cleaning",
          "Home & Cleaning",
          "Home & Cleaning",
          "Home & Cleaning",
          "Home & Cleaning",
          "Home & Cleaning",
          "Home & Cleaning",
          "Home & Cleaning",
          "Home & Cleaning",
          "Home & Cleaning",
          "Home & Cleaning",
          "Home & Cleaning",
          "Home & Cleaning",
          "Home & Cleaning",
          "Home & Cleaning",
          "Home & Cleaning",
          "Home & Cleaning",
          "Home & Cleaning",
          "Home & Cleaning",
          "Home & Cleaning",
          "Home & Cleaning",
          "Home & Cleaning",
          "Home & Cleaning",
          "Home & Cleaning",
          "Home & Cleaning",
          "Home & Cleaning",
          "Home & Cleaning",
          "Home & Cleaning",
          "Home & Cleaning",
          "Home & Cleaning",
          "Home & Cleaning",
          "Home & Cleaning",
          "Home & Cleaning",
          "Home & Cleaning",
          "Home & Cleaning",
          "Home & Cleaning",
          "Home & Cleaning",
          "Home & Cleaning",
          "Home & Cleaning",
          "Home & Cleaning",
          "Home & Cleaning",
          "Home & Cleaning",
          "Home & Cleaning",
          "Home & Cleaning",
          "Home & Cleaning",
          "Home & Cleaning",
          "Home & Cleaning",
          "Home & Cleaning",
          "Home & Cleaning",
          "Home & Cleaning",
          "Home & Cleaning",
          "Home & Cleaning",
          "Home & Cleaning",
          "Home & Cleaning",
          "Home & Cleaning",
          "Home & Cleaning",
          "Home & Cleaning",
          "Home & Cleaning",
          "Home & Cleaning",
          "Home & Cleaning",
          "Home & Cleaning",
          "Home & Cleaning",
          "Home & Cleaning",
          "Home & Cleaning",
          "Home & Cleaning",
          "Home & Cleaning",
          "Home & Cleaning",
          "Home & Cleaning",
          "Home & Cleaning",
          "Home & Cleaning",
          "Home & Cleaning",
          "Home & Cleaning",
          "Home & Cleaning",
          "Home & Cleaning",
          "Home & Cleaning",
          "Home & Cleaning",
          "Home & Cleaning",
          "Home & Cleaning",
          "Home & Cleaning",
          "Home & Cleaning",
          "Home & Cleaning",
          "Home & Cleaning",
          "Home & Cleaning",
          "Home & Cleaning",
          "Home & Cleaning",
          "Home & Cleaning",
          "Home & Cleaning",
          "Home & Cleaning",
          "Home & Cleaning",
          "Home & Cleaning",
          "Home & Cleaning",
          "Home & Cleaning",
          "Home & Cleaning",
          "Home & Cleaning"
         ],
         "xaxis": "x",
         "yaxis": "y",
         "type": "histogram"
        },
        {
         "bingroup": "x",
         "hovertemplate": "Category=%{x}<br>count=%{y}<extra></extra>",
         "legendgroup": "Health & Hygiene",
         "marker": {
          "color": "#9C755F",
          "pattern": {
           "shape": ""
          }
         },
         "name": "Health & Hygiene",
         "orientation": "v",
         "showlegend": true,
         "x": [
          "Health & Hygiene",
          "Health & Hygiene",
          "Health & Hygiene",
          "Health & Hygiene",
          "Health & Hygiene",
          "Health & Hygiene",
          "Health & Hygiene",
          "Health & Hygiene",
          "Health & Hygiene",
          "Health & Hygiene",
          "Health & Hygiene",
          "Health & Hygiene",
          "Health & Hygiene",
          "Health & Hygiene",
          "Health & Hygiene",
          "Health & Hygiene",
          "Health & Hygiene",
          "Health & Hygiene",
          "Health & Hygiene",
          "Health & Hygiene",
          "Health & Hygiene",
          "Health & Hygiene",
          "Health & Hygiene",
          "Health & Hygiene",
          "Health & Hygiene",
          "Health & Hygiene",
          "Health & Hygiene",
          "Health & Hygiene",
          "Health & Hygiene",
          "Health & Hygiene",
          "Health & Hygiene",
          "Health & Hygiene",
          "Health & Hygiene",
          "Health & Hygiene",
          "Health & Hygiene",
          "Health & Hygiene",
          "Health & Hygiene",
          "Health & Hygiene",
          "Health & Hygiene",
          "Health & Hygiene",
          "Health & Hygiene",
          "Health & Hygiene",
          "Health & Hygiene",
          "Health & Hygiene",
          "Health & Hygiene",
          "Health & Hygiene",
          "Health & Hygiene",
          "Health & Hygiene",
          "Health & Hygiene",
          "Health & Hygiene",
          "Health & Hygiene",
          "Health & Hygiene",
          "Health & Hygiene",
          "Health & Hygiene",
          "Health & Hygiene",
          "Health & Hygiene",
          "Health & Hygiene",
          "Health & Hygiene",
          "Health & Hygiene"
         ],
         "xaxis": "x",
         "yaxis": "y",
         "type": "histogram"
        }
       ],
       "layout": {
        "template": {
         "data": {
          "histogram2dcontour": [
           {
            "type": "histogram2dcontour",
            "colorbar": {
             "outlinewidth": 0,
             "ticks": ""
            },
            "colorscale": [
             [
              0.0,
              "#0d0887"
             ],
             [
              0.1111111111111111,
              "#46039f"
             ],
             [
              0.2222222222222222,
              "#7201a8"
             ],
             [
              0.3333333333333333,
              "#9c179e"
             ],
             [
              0.4444444444444444,
              "#bd3786"
             ],
             [
              0.5555555555555556,
              "#d8576b"
             ],
             [
              0.6666666666666666,
              "#ed7953"
             ],
             [
              0.7777777777777778,
              "#fb9f3a"
             ],
             [
              0.8888888888888888,
              "#fdca26"
             ],
             [
              1.0,
              "#f0f921"
             ]
            ]
           }
          ],
          "choropleth": [
           {
            "type": "choropleth",
            "colorbar": {
             "outlinewidth": 0,
             "ticks": ""
            }
           }
          ],
          "histogram2d": [
           {
            "type": "histogram2d",
            "colorbar": {
             "outlinewidth": 0,
             "ticks": ""
            },
            "colorscale": [
             [
              0.0,
              "#0d0887"
             ],
             [
              0.1111111111111111,
              "#46039f"
             ],
             [
              0.2222222222222222,
              "#7201a8"
             ],
             [
              0.3333333333333333,
              "#9c179e"
             ],
             [
              0.4444444444444444,
              "#bd3786"
             ],
             [
              0.5555555555555556,
              "#d8576b"
             ],
             [
              0.6666666666666666,
              "#ed7953"
             ],
             [
              0.7777777777777778,
              "#fb9f3a"
             ],
             [
              0.8888888888888888,
              "#fdca26"
             ],
             [
              1.0,
              "#f0f921"
             ]
            ]
           }
          ],
          "heatmap": [
           {
            "type": "heatmap",
            "colorbar": {
             "outlinewidth": 0,
             "ticks": ""
            },
            "colorscale": [
             [
              0.0,
              "#0d0887"
             ],
             [
              0.1111111111111111,
              "#46039f"
             ],
             [
              0.2222222222222222,
              "#7201a8"
             ],
             [
              0.3333333333333333,
              "#9c179e"
             ],
             [
              0.4444444444444444,
              "#bd3786"
             ],
             [
              0.5555555555555556,
              "#d8576b"
             ],
             [
              0.6666666666666666,
              "#ed7953"
             ],
             [
              0.7777777777777778,
              "#fb9f3a"
             ],
             [
              0.8888888888888888,
              "#fdca26"
             ],
             [
              1.0,
              "#f0f921"
             ]
            ]
           }
          ],
          "contourcarpet": [
           {
            "type": "contourcarpet",
            "colorbar": {
             "outlinewidth": 0,
             "ticks": ""
            }
           }
          ],
          "contour": [
           {
            "type": "contour",
            "colorbar": {
             "outlinewidth": 0,
             "ticks": ""
            },
            "colorscale": [
             [
              0.0,
              "#0d0887"
             ],
             [
              0.1111111111111111,
              "#46039f"
             ],
             [
              0.2222222222222222,
              "#7201a8"
             ],
             [
              0.3333333333333333,
              "#9c179e"
             ],
             [
              0.4444444444444444,
              "#bd3786"
             ],
             [
              0.5555555555555556,
              "#d8576b"
             ],
             [
              0.6666666666666666,
              "#ed7953"
             ],
             [
              0.7777777777777778,
              "#fb9f3a"
             ],
             [
              0.8888888888888888,
              "#fdca26"
             ],
             [
              1.0,
              "#f0f921"
             ]
            ]
           }
          ],
          "surface": [
           {
            "type": "surface",
            "colorbar": {
             "outlinewidth": 0,
             "ticks": ""
            },
            "colorscale": [
             [
              0.0,
              "#0d0887"
             ],
             [
              0.1111111111111111,
              "#46039f"
             ],
             [
              0.2222222222222222,
              "#7201a8"
             ],
             [
              0.3333333333333333,
              "#9c179e"
             ],
             [
              0.4444444444444444,
              "#bd3786"
             ],
             [
              0.5555555555555556,
              "#d8576b"
             ],
             [
              0.6666666666666666,
              "#ed7953"
             ],
             [
              0.7777777777777778,
              "#fb9f3a"
             ],
             [
              0.8888888888888888,
              "#fdca26"
             ],
             [
              1.0,
              "#f0f921"
             ]
            ]
           }
          ],
          "mesh3d": [
           {
            "type": "mesh3d",
            "colorbar": {
             "outlinewidth": 0,
             "ticks": ""
            }
           }
          ],
          "scatter": [
           {
            "marker": {
             "line": {
              "color": "#283442"
             }
            },
            "type": "scatter"
           }
          ],
          "parcoords": [
           {
            "type": "parcoords",
            "line": {
             "colorbar": {
              "outlinewidth": 0,
              "ticks": ""
             }
            }
           }
          ],
          "scatterpolargl": [
           {
            "type": "scatterpolargl",
            "marker": {
             "colorbar": {
              "outlinewidth": 0,
              "ticks": ""
             }
            }
           }
          ],
          "bar": [
           {
            "error_x": {
             "color": "#f2f5fa"
            },
            "error_y": {
             "color": "#f2f5fa"
            },
            "marker": {
             "line": {
              "color": "rgb(17,17,17)",
              "width": 0.5
             },
             "pattern": {
              "fillmode": "overlay",
              "size": 10,
              "solidity": 0.2
             }
            },
            "type": "bar"
           }
          ],
          "scattergeo": [
           {
            "type": "scattergeo",
            "marker": {
             "colorbar": {
              "outlinewidth": 0,
              "ticks": ""
             }
            }
           }
          ],
          "scatterpolar": [
           {
            "type": "scatterpolar",
            "marker": {
             "colorbar": {
              "outlinewidth": 0,
              "ticks": ""
             }
            }
           }
          ],
          "histogram": [
           {
            "marker": {
             "pattern": {
              "fillmode": "overlay",
              "size": 10,
              "solidity": 0.2
             }
            },
            "type": "histogram"
           }
          ],
          "scattergl": [
           {
            "marker": {
             "line": {
              "color": "#283442"
             }
            },
            "type": "scattergl"
           }
          ],
          "scatter3d": [
           {
            "type": "scatter3d",
            "line": {
             "colorbar": {
              "outlinewidth": 0,
              "ticks": ""
             }
            },
            "marker": {
             "colorbar": {
              "outlinewidth": 0,
              "ticks": ""
             }
            }
           }
          ],
          "scattermap": [
           {
            "type": "scattermap",
            "marker": {
             "colorbar": {
              "outlinewidth": 0,
              "ticks": ""
             }
            }
           }
          ],
          "scattermapbox": [
           {
            "type": "scattermapbox",
            "marker": {
             "colorbar": {
              "outlinewidth": 0,
              "ticks": ""
             }
            }
           }
          ],
          "scatterternary": [
           {
            "type": "scatterternary",
            "marker": {
             "colorbar": {
              "outlinewidth": 0,
              "ticks": ""
             }
            }
           }
          ],
          "scattercarpet": [
           {
            "type": "scattercarpet",
            "marker": {
             "colorbar": {
              "outlinewidth": 0,
              "ticks": ""
             }
            }
           }
          ],
          "carpet": [
           {
            "aaxis": {
             "endlinecolor": "#A2B1C6",
             "gridcolor": "#506784",
             "linecolor": "#506784",
             "minorgridcolor": "#506784",
             "startlinecolor": "#A2B1C6"
            },
            "baxis": {
             "endlinecolor": "#A2B1C6",
             "gridcolor": "#506784",
             "linecolor": "#506784",
             "minorgridcolor": "#506784",
             "startlinecolor": "#A2B1C6"
            },
            "type": "carpet"
           }
          ],
          "table": [
           {
            "cells": {
             "fill": {
              "color": "#506784"
             },
             "line": {
              "color": "rgb(17,17,17)"
             }
            },
            "header": {
             "fill": {
              "color": "#2a3f5f"
             },
             "line": {
              "color": "rgb(17,17,17)"
             }
            },
            "type": "table"
           }
          ],
          "barpolar": [
           {
            "marker": {
             "line": {
              "color": "rgb(17,17,17)",
              "width": 0.5
             },
             "pattern": {
              "fillmode": "overlay",
              "size": 10,
              "solidity": 0.2
             }
            },
            "type": "barpolar"
           }
          ],
          "pie": [
           {
            "automargin": true,
            "type": "pie"
           }
          ]
         },
         "layout": {
          "autotypenumbers": "strict",
          "colorway": [
           "#636efa",
           "#EF553B",
           "#00cc96",
           "#ab63fa",
           "#FFA15A",
           "#19d3f3",
           "#FF6692",
           "#B6E880",
           "#FF97FF",
           "#FECB52"
          ],
          "font": {
           "color": "#f2f5fa"
          },
          "hovermode": "closest",
          "hoverlabel": {
           "align": "left"
          },
          "paper_bgcolor": "rgb(17,17,17)",
          "plot_bgcolor": "rgb(17,17,17)",
          "polar": {
           "bgcolor": "rgb(17,17,17)",
           "angularaxis": {
            "gridcolor": "#506784",
            "linecolor": "#506784",
            "ticks": ""
           },
           "radialaxis": {
            "gridcolor": "#506784",
            "linecolor": "#506784",
            "ticks": ""
           }
          },
          "ternary": {
           "bgcolor": "rgb(17,17,17)",
           "aaxis": {
            "gridcolor": "#506784",
            "linecolor": "#506784",
            "ticks": ""
           },
           "baxis": {
            "gridcolor": "#506784",
            "linecolor": "#506784",
            "ticks": ""
           },
           "caxis": {
            "gridcolor": "#506784",
            "linecolor": "#506784",
            "ticks": ""
           }
          },
          "coloraxis": {
           "colorbar": {
            "outlinewidth": 0,
            "ticks": ""
           }
          },
          "colorscale": {
           "sequential": [
            [
             0.0,
             "#0d0887"
            ],
            [
             0.1111111111111111,
             "#46039f"
            ],
            [
             0.2222222222222222,
             "#7201a8"
            ],
            [
             0.3333333333333333,
             "#9c179e"
            ],
            [
             0.4444444444444444,
             "#bd3786"
            ],
            [
             0.5555555555555556,
             "#d8576b"
            ],
            [
             0.6666666666666666,
             "#ed7953"
            ],
            [
             0.7777777777777778,
             "#fb9f3a"
            ],
            [
             0.8888888888888888,
             "#fdca26"
            ],
            [
             1.0,
             "#f0f921"
            ]
           ],
           "sequentialminus": [
            [
             0.0,
             "#0d0887"
            ],
            [
             0.1111111111111111,
             "#46039f"
            ],
            [
             0.2222222222222222,
             "#7201a8"
            ],
            [
             0.3333333333333333,
             "#9c179e"
            ],
            [
             0.4444444444444444,
             "#bd3786"
            ],
            [
             0.5555555555555556,
             "#d8576b"
            ],
            [
             0.6666666666666666,
             "#ed7953"
            ],
            [
             0.7777777777777778,
             "#fb9f3a"
            ],
            [
             0.8888888888888888,
             "#fdca26"
            ],
            [
             1.0,
             "#f0f921"
            ]
           ],
           "diverging": [
            [
             0,
             "#8e0152"
            ],
            [
             0.1,
             "#c51b7d"
            ],
            [
             0.2,
             "#de77ae"
            ],
            [
             0.3,
             "#f1b6da"
            ],
            [
             0.4,
             "#fde0ef"
            ],
            [
             0.5,
             "#f7f7f7"
            ],
            [
             0.6,
             "#e6f5d0"
            ],
            [
             0.7,
             "#b8e186"
            ],
            [
             0.8,
             "#7fbc41"
            ],
            [
             0.9,
             "#4d9221"
            ],
            [
             1,
             "#276419"
            ]
           ]
          },
          "xaxis": {
           "gridcolor": "#283442",
           "linecolor": "#506784",
           "ticks": "",
           "title": {
            "standoff": 15
           },
           "zerolinecolor": "#283442",
           "automargin": true,
           "zerolinewidth": 2
          },
          "yaxis": {
           "gridcolor": "#283442",
           "linecolor": "#506784",
           "ticks": "",
           "title": {
            "standoff": 15
           },
           "zerolinecolor": "#283442",
           "automargin": true,
           "zerolinewidth": 2
          },
          "scene": {
           "xaxis": {
            "backgroundcolor": "rgb(17,17,17)",
            "gridcolor": "#506784",
            "linecolor": "#506784",
            "showbackground": true,
            "ticks": "",
            "zerolinecolor": "#C8D4E3",
            "gridwidth": 2
           },
           "yaxis": {
            "backgroundcolor": "rgb(17,17,17)",
            "gridcolor": "#506784",
            "linecolor": "#506784",
            "showbackground": true,
            "ticks": "",
            "zerolinecolor": "#C8D4E3",
            "gridwidth": 2
           },
           "zaxis": {
            "backgroundcolor": "rgb(17,17,17)",
            "gridcolor": "#506784",
            "linecolor": "#506784",
            "showbackground": true,
            "ticks": "",
            "zerolinecolor": "#C8D4E3",
            "gridwidth": 2
           }
          },
          "shapedefaults": {
           "line": {
            "color": "#f2f5fa"
           }
          },
          "annotationdefaults": {
           "arrowcolor": "#f2f5fa",
           "arrowhead": 0,
           "arrowwidth": 1
          },
          "geo": {
           "bgcolor": "rgb(17,17,17)",
           "landcolor": "rgb(17,17,17)",
           "subunitcolor": "#506784",
           "showland": true,
           "showlakes": true,
           "lakecolor": "rgb(17,17,17)"
          },
          "title": {
           "x": 0.05
          },
          "updatemenudefaults": {
           "bgcolor": "#506784",
           "borderwidth": 0
          },
          "sliderdefaults": {
           "bgcolor": "#C8D4E3",
           "borderwidth": 1,
           "bordercolor": "rgb(17,17,17)",
           "tickwidth": 0
          },
          "mapbox": {
           "style": "dark"
          }
         }
        },
        "xaxis": {
         "anchor": "y",
         "domain": [
          0.0,
          1.0
         ],
         "title": {
          "text": "Category"
         },
         "categoryorder": "array",
         "categoryarray": [
          "Fruits & Vegetables",
          "Cooking Essentials",
          "Dairy, Bread & Batter",
          "Packaged Food",
          "Meats, Fish & Eggs",
          "Biscuits",
          "Personal Care",
          "Home & Cleaning",
          "Health & Hygiene"
         ]
        },
        "yaxis": {
         "anchor": "x",
         "domain": [
          0.0,
          1.0
         ],
         "title": {
          "text": "count"
         }
        },
        "legend": {
         "title": {
          "text": "Category"
         },
         "tracegroupgap": 0
        },
        "margin": {
         "t": 60
        },
        "barmode": "relative"
       },
       "config": {
        "plotlyServerURL": "https://plot.ly"
       }
      }
     },
     "metadata": {},
     "output_type": "display_data"
    }
   ],
   "execution_count": 32
  },
  {
   "metadata": {
    "ExecuteTime": {
     "end_time": "2025-06-07T14:34:05.630059Z",
     "start_time": "2025-06-07T14:34:05.590837Z"
    }
   },
   "cell_type": "code",
   "source": [
    "fig = px.histogram(dfN, x='Category', barmode='group', color = 'outOfStock', color_discrete_sequence=['green','red'], template='plotly_dark')\n",
    "fig.show()"
   ],
   "id": "4cd8328cbb239f11",
   "outputs": [
    {
     "data": {
      "application/vnd.plotly.v1+json": {
       "data": [
        {
         "alignmentgroup": "True",
         "bingroup": "x",
         "hovertemplate": "outOfStock=False<br>Category=%{x}<br>count=%{y}<extra></extra>",
         "legendgroup": "False",
         "marker": {
          "color": "green",
          "pattern": {
           "shape": ""
          }
         },
         "name": "False",
         "offsetgroup": "False",
         "orientation": "v",
         "showlegend": true,
         "x": [
          "Fruits & Vegetables",
          "Fruits & Vegetables",
          "Fruits & Vegetables",
          "Fruits & Vegetables",
          "Fruits & Vegetables",
          "Fruits & Vegetables",
          "Fruits & Vegetables",
          "Fruits & Vegetables",
          "Fruits & Vegetables",
          "Fruits & Vegetables",
          "Fruits & Vegetables",
          "Fruits & Vegetables",
          "Fruits & Vegetables",
          "Fruits & Vegetables",
          "Fruits & Vegetables",
          "Fruits & Vegetables",
          "Fruits & Vegetables",
          "Fruits & Vegetables",
          "Fruits & Vegetables",
          "Fruits & Vegetables",
          "Fruits & Vegetables",
          "Fruits & Vegetables",
          "Fruits & Vegetables",
          "Fruits & Vegetables",
          "Fruits & Vegetables",
          "Fruits & Vegetables",
          "Fruits & Vegetables",
          "Fruits & Vegetables",
          "Fruits & Vegetables",
          "Fruits & Vegetables",
          "Fruits & Vegetables",
          "Fruits & Vegetables",
          "Fruits & Vegetables",
          "Fruits & Vegetables",
          "Fruits & Vegetables",
          "Fruits & Vegetables",
          "Fruits & Vegetables",
          "Fruits & Vegetables",
          "Fruits & Vegetables",
          "Fruits & Vegetables",
          "Fruits & Vegetables",
          "Fruits & Vegetables",
          "Fruits & Vegetables",
          "Fruits & Vegetables",
          "Fruits & Vegetables",
          "Fruits & Vegetables",
          "Fruits & Vegetables",
          "Fruits & Vegetables",
          "Fruits & Vegetables",
          "Fruits & Vegetables",
          "Fruits & Vegetables",
          "Fruits & Vegetables",
          "Fruits & Vegetables",
          "Fruits & Vegetables",
          "Fruits & Vegetables",
          "Fruits & Vegetables",
          "Fruits & Vegetables",
          "Fruits & Vegetables",
          "Fruits & Vegetables",
          "Fruits & Vegetables",
          "Fruits & Vegetables",
          "Fruits & Vegetables",
          "Fruits & Vegetables",
          "Fruits & Vegetables",
          "Fruits & Vegetables",
          "Fruits & Vegetables",
          "Fruits & Vegetables",
          "Fruits & Vegetables",
          "Fruits & Vegetables",
          "Fruits & Vegetables",
          "Fruits & Vegetables",
          "Fruits & Vegetables",
          "Fruits & Vegetables",
          "Fruits & Vegetables",
          "Fruits & Vegetables",
          "Fruits & Vegetables",
          "Fruits & Vegetables",
          "Fruits & Vegetables",
          "Fruits & Vegetables",
          "Fruits & Vegetables",
          "Fruits & Vegetables",
          "Fruits & Vegetables",
          "Fruits & Vegetables",
          "Fruits & Vegetables",
          "Fruits & Vegetables",
          "Cooking Essentials",
          "Cooking Essentials",
          "Cooking Essentials",
          "Cooking Essentials",
          "Cooking Essentials",
          "Cooking Essentials",
          "Cooking Essentials",
          "Cooking Essentials",
          "Cooking Essentials",
          "Cooking Essentials",
          "Cooking Essentials",
          "Cooking Essentials",
          "Cooking Essentials",
          "Cooking Essentials",
          "Cooking Essentials",
          "Cooking Essentials",
          "Cooking Essentials",
          "Cooking Essentials",
          "Cooking Essentials",
          "Cooking Essentials",
          "Cooking Essentials",
          "Cooking Essentials",
          "Cooking Essentials",
          "Cooking Essentials",
          "Cooking Essentials",
          "Cooking Essentials",
          "Cooking Essentials",
          "Cooking Essentials",
          "Cooking Essentials",
          "Cooking Essentials",
          "Cooking Essentials",
          "Cooking Essentials",
          "Cooking Essentials",
          "Cooking Essentials",
          "Cooking Essentials",
          "Cooking Essentials",
          "Cooking Essentials",
          "Cooking Essentials",
          "Cooking Essentials",
          "Cooking Essentials",
          "Cooking Essentials",
          "Cooking Essentials",
          "Cooking Essentials",
          "Cooking Essentials",
          "Cooking Essentials",
          "Cooking Essentials",
          "Cooking Essentials",
          "Cooking Essentials",
          "Cooking Essentials",
          "Cooking Essentials",
          "Cooking Essentials",
          "Cooking Essentials",
          "Cooking Essentials",
          "Cooking Essentials",
          "Cooking Essentials",
          "Cooking Essentials",
          "Cooking Essentials",
          "Cooking Essentials",
          "Cooking Essentials",
          "Cooking Essentials",
          "Cooking Essentials",
          "Cooking Essentials",
          "Cooking Essentials",
          "Cooking Essentials",
          "Cooking Essentials",
          "Cooking Essentials",
          "Cooking Essentials",
          "Cooking Essentials",
          "Cooking Essentials",
          "Cooking Essentials",
          "Cooking Essentials",
          "Cooking Essentials",
          "Cooking Essentials",
          "Cooking Essentials",
          "Cooking Essentials",
          "Cooking Essentials",
          "Cooking Essentials",
          "Cooking Essentials",
          "Cooking Essentials",
          "Cooking Essentials",
          "Cooking Essentials",
          "Cooking Essentials",
          "Cooking Essentials",
          "Cooking Essentials",
          "Cooking Essentials",
          "Cooking Essentials",
          "Cooking Essentials",
          "Cooking Essentials",
          "Cooking Essentials",
          "Cooking Essentials",
          "Cooking Essentials",
          "Cooking Essentials",
          "Cooking Essentials",
          "Cooking Essentials",
          "Cooking Essentials",
          "Cooking Essentials",
          "Cooking Essentials",
          "Cooking Essentials",
          "Cooking Essentials",
          "Cooking Essentials",
          "Cooking Essentials",
          "Cooking Essentials",
          "Cooking Essentials",
          "Cooking Essentials",
          "Cooking Essentials",
          "Cooking Essentials",
          "Cooking Essentials",
          "Cooking Essentials",
          "Cooking Essentials",
          "Cooking Essentials",
          "Cooking Essentials",
          "Cooking Essentials",
          "Cooking Essentials",
          "Cooking Essentials",
          "Cooking Essentials",
          "Cooking Essentials",
          "Cooking Essentials",
          "Cooking Essentials",
          "Cooking Essentials",
          "Cooking Essentials",
          "Cooking Essentials",
          "Cooking Essentials",
          "Cooking Essentials",
          "Cooking Essentials",
          "Cooking Essentials",
          "Cooking Essentials",
          "Cooking Essentials",
          "Cooking Essentials",
          "Cooking Essentials",
          "Cooking Essentials",
          "Cooking Essentials",
          "Cooking Essentials",
          "Cooking Essentials",
          "Cooking Essentials",
          "Cooking Essentials",
          "Cooking Essentials",
          "Cooking Essentials",
          "Cooking Essentials",
          "Cooking Essentials",
          "Cooking Essentials",
          "Cooking Essentials",
          "Cooking Essentials",
          "Cooking Essentials",
          "Cooking Essentials",
          "Cooking Essentials",
          "Cooking Essentials",
          "Cooking Essentials",
          "Cooking Essentials",
          "Cooking Essentials",
          "Cooking Essentials",
          "Cooking Essentials",
          "Cooking Essentials",
          "Cooking Essentials",
          "Cooking Essentials",
          "Cooking Essentials",
          "Cooking Essentials",
          "Cooking Essentials",
          "Cooking Essentials",
          "Cooking Essentials",
          "Cooking Essentials",
          "Cooking Essentials",
          "Cooking Essentials",
          "Cooking Essentials",
          "Cooking Essentials",
          "Cooking Essentials",
          "Cooking Essentials",
          "Cooking Essentials",
          "Cooking Essentials",
          "Cooking Essentials",
          "Cooking Essentials",
          "Cooking Essentials",
          "Cooking Essentials",
          "Cooking Essentials",
          "Cooking Essentials",
          "Cooking Essentials",
          "Cooking Essentials",
          "Cooking Essentials",
          "Cooking Essentials",
          "Cooking Essentials",
          "Cooking Essentials",
          "Cooking Essentials",
          "Cooking Essentials",
          "Cooking Essentials",
          "Cooking Essentials",
          "Cooking Essentials",
          "Cooking Essentials",
          "Cooking Essentials",
          "Cooking Essentials",
          "Cooking Essentials",
          "Cooking Essentials",
          "Cooking Essentials",
          "Cooking Essentials",
          "Cooking Essentials",
          "Cooking Essentials",
          "Cooking Essentials",
          "Cooking Essentials",
          "Cooking Essentials",
          "Cooking Essentials",
          "Cooking Essentials",
          "Cooking Essentials",
          "Cooking Essentials",
          "Cooking Essentials",
          "Cooking Essentials",
          "Cooking Essentials",
          "Cooking Essentials",
          "Cooking Essentials",
          "Cooking Essentials",
          "Cooking Essentials",
          "Cooking Essentials",
          "Cooking Essentials",
          "Cooking Essentials",
          "Cooking Essentials",
          "Cooking Essentials",
          "Cooking Essentials",
          "Cooking Essentials",
          "Cooking Essentials",
          "Cooking Essentials",
          "Cooking Essentials",
          "Cooking Essentials",
          "Cooking Essentials",
          "Cooking Essentials",
          "Cooking Essentials",
          "Cooking Essentials",
          "Cooking Essentials",
          "Cooking Essentials",
          "Cooking Essentials",
          "Cooking Essentials",
          "Cooking Essentials",
          "Cooking Essentials",
          "Cooking Essentials",
          "Cooking Essentials",
          "Cooking Essentials",
          "Cooking Essentials",
          "Cooking Essentials",
          "Cooking Essentials",
          "Cooking Essentials",
          "Cooking Essentials",
          "Cooking Essentials",
          "Cooking Essentials",
          "Cooking Essentials",
          "Cooking Essentials",
          "Cooking Essentials",
          "Cooking Essentials",
          "Cooking Essentials",
          "Cooking Essentials",
          "Cooking Essentials",
          "Cooking Essentials",
          "Cooking Essentials",
          "Cooking Essentials",
          "Cooking Essentials",
          "Cooking Essentials",
          "Cooking Essentials",
          "Cooking Essentials",
          "Cooking Essentials",
          "Cooking Essentials",
          "Cooking Essentials",
          "Cooking Essentials",
          "Cooking Essentials",
          "Cooking Essentials",
          "Cooking Essentials",
          "Cooking Essentials",
          "Cooking Essentials",
          "Cooking Essentials",
          "Cooking Essentials",
          "Cooking Essentials",
          "Cooking Essentials",
          "Cooking Essentials",
          "Cooking Essentials",
          "Cooking Essentials",
          "Cooking Essentials",
          "Cooking Essentials",
          "Cooking Essentials",
          "Cooking Essentials",
          "Cooking Essentials",
          "Cooking Essentials",
          "Cooking Essentials",
          "Cooking Essentials",
          "Cooking Essentials",
          "Cooking Essentials",
          "Cooking Essentials",
          "Cooking Essentials",
          "Cooking Essentials",
          "Cooking Essentials",
          "Cooking Essentials",
          "Cooking Essentials",
          "Cooking Essentials",
          "Cooking Essentials",
          "Cooking Essentials",
          "Cooking Essentials",
          "Cooking Essentials",
          "Cooking Essentials",
          "Cooking Essentials",
          "Cooking Essentials",
          "Cooking Essentials",
          "Cooking Essentials",
          "Cooking Essentials",
          "Cooking Essentials",
          "Cooking Essentials",
          "Cooking Essentials",
          "Cooking Essentials",
          "Cooking Essentials",
          "Cooking Essentials",
          "Cooking Essentials",
          "Cooking Essentials",
          "Cooking Essentials",
          "Cooking Essentials",
          "Cooking Essentials",
          "Cooking Essentials",
          "Cooking Essentials",
          "Cooking Essentials",
          "Cooking Essentials",
          "Cooking Essentials",
          "Cooking Essentials",
          "Cooking Essentials",
          "Cooking Essentials",
          "Cooking Essentials",
          "Cooking Essentials",
          "Cooking Essentials",
          "Cooking Essentials",
          "Cooking Essentials",
          "Cooking Essentials",
          "Cooking Essentials",
          "Cooking Essentials",
          "Cooking Essentials",
          "Cooking Essentials",
          "Cooking Essentials",
          "Cooking Essentials",
          "Cooking Essentials",
          "Cooking Essentials",
          "Cooking Essentials",
          "Cooking Essentials",
          "Cooking Essentials",
          "Cooking Essentials",
          "Cooking Essentials",
          "Cooking Essentials",
          "Cooking Essentials",
          "Cooking Essentials",
          "Cooking Essentials",
          "Cooking Essentials",
          "Cooking Essentials",
          "Cooking Essentials",
          "Cooking Essentials",
          "Cooking Essentials",
          "Cooking Essentials",
          "Cooking Essentials",
          "Cooking Essentials",
          "Cooking Essentials",
          "Cooking Essentials",
          "Cooking Essentials",
          "Cooking Essentials",
          "Cooking Essentials",
          "Cooking Essentials",
          "Cooking Essentials",
          "Cooking Essentials",
          "Cooking Essentials",
          "Cooking Essentials",
          "Cooking Essentials",
          "Cooking Essentials",
          "Cooking Essentials",
          "Cooking Essentials",
          "Cooking Essentials",
          "Cooking Essentials",
          "Cooking Essentials",
          "Cooking Essentials",
          "Cooking Essentials",
          "Cooking Essentials",
          "Cooking Essentials",
          "Cooking Essentials",
          "Cooking Essentials",
          "Cooking Essentials",
          "Cooking Essentials",
          "Cooking Essentials",
          "Cooking Essentials",
          "Cooking Essentials",
          "Cooking Essentials",
          "Cooking Essentials",
          "Cooking Essentials",
          "Cooking Essentials",
          "Cooking Essentials",
          "Cooking Essentials",
          "Cooking Essentials",
          "Cooking Essentials",
          "Cooking Essentials",
          "Cooking Essentials",
          "Cooking Essentials",
          "Cooking Essentials",
          "Cooking Essentials",
          "Cooking Essentials",
          "Cooking Essentials",
          "Cooking Essentials",
          "Cooking Essentials",
          "Cooking Essentials",
          "Cooking Essentials",
          "Cooking Essentials",
          "Cooking Essentials",
          "Cooking Essentials",
          "Cooking Essentials",
          "Cooking Essentials",
          "Cooking Essentials",
          "Cooking Essentials",
          "Cooking Essentials",
          "Cooking Essentials",
          "Cooking Essentials",
          "Cooking Essentials",
          "Cooking Essentials",
          "Cooking Essentials",
          "Cooking Essentials",
          "Cooking Essentials",
          "Cooking Essentials",
          "Cooking Essentials",
          "Cooking Essentials",
          "Cooking Essentials",
          "Cooking Essentials",
          "Cooking Essentials",
          "Cooking Essentials",
          "Cooking Essentials",
          "Cooking Essentials",
          "Cooking Essentials",
          "Cooking Essentials",
          "Cooking Essentials",
          "Dairy, Bread & Batter",
          "Dairy, Bread & Batter",
          "Dairy, Bread & Batter",
          "Dairy, Bread & Batter",
          "Dairy, Bread & Batter",
          "Dairy, Bread & Batter",
          "Dairy, Bread & Batter",
          "Dairy, Bread & Batter",
          "Dairy, Bread & Batter",
          "Dairy, Bread & Batter",
          "Dairy, Bread & Batter",
          "Dairy, Bread & Batter",
          "Dairy, Bread & Batter",
          "Dairy, Bread & Batter",
          "Dairy, Bread & Batter",
          "Dairy, Bread & Batter",
          "Dairy, Bread & Batter",
          "Dairy, Bread & Batter",
          "Dairy, Bread & Batter",
          "Dairy, Bread & Batter",
          "Dairy, Bread & Batter",
          "Dairy, Bread & Batter",
          "Dairy, Bread & Batter",
          "Dairy, Bread & Batter",
          "Dairy, Bread & Batter",
          "Dairy, Bread & Batter",
          "Dairy, Bread & Batter",
          "Dairy, Bread & Batter",
          "Dairy, Bread & Batter",
          "Dairy, Bread & Batter",
          "Dairy, Bread & Batter",
          "Dairy, Bread & Batter",
          "Dairy, Bread & Batter",
          "Dairy, Bread & Batter",
          "Dairy, Bread & Batter",
          "Dairy, Bread & Batter",
          "Dairy, Bread & Batter",
          "Dairy, Bread & Batter",
          "Dairy, Bread & Batter",
          "Dairy, Bread & Batter",
          "Dairy, Bread & Batter",
          "Dairy, Bread & Batter",
          "Dairy, Bread & Batter",
          "Dairy, Bread & Batter",
          "Dairy, Bread & Batter",
          "Dairy, Bread & Batter",
          "Dairy, Bread & Batter",
          "Dairy, Bread & Batter",
          "Dairy, Bread & Batter",
          "Dairy, Bread & Batter",
          "Dairy, Bread & Batter",
          "Dairy, Bread & Batter",
          "Dairy, Bread & Batter",
          "Dairy, Bread & Batter",
          "Dairy, Bread & Batter",
          "Dairy, Bread & Batter",
          "Dairy, Bread & Batter",
          "Dairy, Bread & Batter",
          "Dairy, Bread & Batter",
          "Dairy, Bread & Batter",
          "Dairy, Bread & Batter",
          "Dairy, Bread & Batter",
          "Dairy, Bread & Batter",
          "Dairy, Bread & Batter",
          "Dairy, Bread & Batter",
          "Dairy, Bread & Batter",
          "Dairy, Bread & Batter",
          "Dairy, Bread & Batter",
          "Dairy, Bread & Batter",
          "Dairy, Bread & Batter",
          "Dairy, Bread & Batter",
          "Dairy, Bread & Batter",
          "Dairy, Bread & Batter",
          "Dairy, Bread & Batter",
          "Dairy, Bread & Batter",
          "Dairy, Bread & Batter",
          "Dairy, Bread & Batter",
          "Dairy, Bread & Batter",
          "Dairy, Bread & Batter",
          "Dairy, Bread & Batter",
          "Dairy, Bread & Batter",
          "Dairy, Bread & Batter",
          "Dairy, Bread & Batter",
          "Packaged Food",
          "Packaged Food",
          "Packaged Food",
          "Packaged Food",
          "Packaged Food",
          "Packaged Food",
          "Packaged Food",
          "Packaged Food",
          "Packaged Food",
          "Packaged Food",
          "Packaged Food",
          "Packaged Food",
          "Packaged Food",
          "Packaged Food",
          "Packaged Food",
          "Packaged Food",
          "Packaged Food",
          "Packaged Food",
          "Packaged Food",
          "Packaged Food",
          "Packaged Food",
          "Packaged Food",
          "Packaged Food",
          "Packaged Food",
          "Packaged Food",
          "Packaged Food",
          "Packaged Food",
          "Packaged Food",
          "Packaged Food",
          "Packaged Food",
          "Packaged Food",
          "Packaged Food",
          "Packaged Food",
          "Packaged Food",
          "Packaged Food",
          "Packaged Food",
          "Packaged Food",
          "Packaged Food",
          "Packaged Food",
          "Packaged Food",
          "Packaged Food",
          "Packaged Food",
          "Packaged Food",
          "Packaged Food",
          "Packaged Food",
          "Packaged Food",
          "Packaged Food",
          "Packaged Food",
          "Packaged Food",
          "Packaged Food",
          "Packaged Food",
          "Packaged Food",
          "Packaged Food",
          "Packaged Food",
          "Packaged Food",
          "Packaged Food",
          "Packaged Food",
          "Packaged Food",
          "Packaged Food",
          "Packaged Food",
          "Packaged Food",
          "Packaged Food",
          "Packaged Food",
          "Packaged Food",
          "Packaged Food",
          "Packaged Food",
          "Packaged Food",
          "Packaged Food",
          "Packaged Food",
          "Packaged Food",
          "Packaged Food",
          "Packaged Food",
          "Packaged Food",
          "Packaged Food",
          "Packaged Food",
          "Packaged Food",
          "Packaged Food",
          "Packaged Food",
          "Packaged Food",
          "Packaged Food",
          "Packaged Food",
          "Packaged Food",
          "Packaged Food",
          "Packaged Food",
          "Packaged Food",
          "Packaged Food",
          "Packaged Food",
          "Packaged Food",
          "Packaged Food",
          "Packaged Food",
          "Packaged Food",
          "Packaged Food",
          "Packaged Food",
          "Packaged Food",
          "Packaged Food",
          "Packaged Food",
          "Packaged Food",
          "Packaged Food",
          "Packaged Food",
          "Packaged Food",
          "Packaged Food",
          "Packaged Food",
          "Packaged Food",
          "Packaged Food",
          "Packaged Food",
          "Packaged Food",
          "Packaged Food",
          "Packaged Food",
          "Packaged Food",
          "Packaged Food",
          "Packaged Food",
          "Packaged Food",
          "Packaged Food",
          "Packaged Food",
          "Packaged Food",
          "Packaged Food",
          "Packaged Food",
          "Packaged Food",
          "Packaged Food",
          "Packaged Food",
          "Packaged Food",
          "Packaged Food",
          "Packaged Food",
          "Packaged Food",
          "Packaged Food",
          "Packaged Food",
          "Packaged Food",
          "Packaged Food",
          "Packaged Food",
          "Packaged Food",
          "Packaged Food",
          "Packaged Food",
          "Packaged Food",
          "Packaged Food",
          "Packaged Food",
          "Packaged Food",
          "Packaged Food",
          "Packaged Food",
          "Packaged Food",
          "Packaged Food",
          "Packaged Food",
          "Packaged Food",
          "Packaged Food",
          "Packaged Food",
          "Packaged Food",
          "Packaged Food",
          "Packaged Food",
          "Packaged Food",
          "Packaged Food",
          "Packaged Food",
          "Packaged Food",
          "Packaged Food",
          "Packaged Food",
          "Packaged Food",
          "Packaged Food",
          "Packaged Food",
          "Packaged Food",
          "Packaged Food",
          "Packaged Food",
          "Packaged Food",
          "Packaged Food",
          "Packaged Food",
          "Packaged Food",
          "Packaged Food",
          "Packaged Food",
          "Packaged Food",
          "Packaged Food",
          "Packaged Food",
          "Packaged Food",
          "Packaged Food",
          "Packaged Food",
          "Packaged Food",
          "Packaged Food",
          "Packaged Food",
          "Packaged Food",
          "Packaged Food",
          "Packaged Food",
          "Packaged Food",
          "Packaged Food",
          "Packaged Food",
          "Packaged Food",
          "Packaged Food",
          "Packaged Food",
          "Packaged Food",
          "Packaged Food",
          "Packaged Food",
          "Packaged Food",
          "Packaged Food",
          "Packaged Food",
          "Packaged Food",
          "Packaged Food",
          "Packaged Food",
          "Packaged Food",
          "Packaged Food",
          "Packaged Food",
          "Packaged Food",
          "Packaged Food",
          "Packaged Food",
          "Packaged Food",
          "Packaged Food",
          "Packaged Food",
          "Packaged Food",
          "Packaged Food",
          "Packaged Food",
          "Packaged Food",
          "Packaged Food",
          "Packaged Food",
          "Packaged Food",
          "Packaged Food",
          "Packaged Food",
          "Packaged Food",
          "Packaged Food",
          "Packaged Food",
          "Packaged Food",
          "Packaged Food",
          "Packaged Food",
          "Packaged Food",
          "Packaged Food",
          "Packaged Food",
          "Packaged Food",
          "Packaged Food",
          "Packaged Food",
          "Packaged Food",
          "Packaged Food",
          "Packaged Food",
          "Packaged Food",
          "Packaged Food",
          "Packaged Food",
          "Packaged Food",
          "Packaged Food",
          "Packaged Food",
          "Packaged Food",
          "Packaged Food",
          "Packaged Food",
          "Packaged Food",
          "Packaged Food",
          "Packaged Food",
          "Packaged Food",
          "Packaged Food",
          "Packaged Food",
          "Packaged Food",
          "Packaged Food",
          "Packaged Food",
          "Packaged Food",
          "Packaged Food",
          "Packaged Food",
          "Packaged Food",
          "Packaged Food",
          "Packaged Food",
          "Packaged Food",
          "Packaged Food",
          "Packaged Food",
          "Packaged Food",
          "Packaged Food",
          "Packaged Food",
          "Packaged Food",
          "Packaged Food",
          "Packaged Food",
          "Packaged Food",
          "Packaged Food",
          "Packaged Food",
          "Meats, Fish & Eggs",
          "Meats, Fish & Eggs",
          "Meats, Fish & Eggs",
          "Meats, Fish & Eggs",
          "Meats, Fish & Eggs",
          "Meats, Fish & Eggs",
          "Meats, Fish & Eggs",
          "Meats, Fish & Eggs",
          "Meats, Fish & Eggs",
          "Meats, Fish & Eggs",
          "Meats, Fish & Eggs",
          "Meats, Fish & Eggs",
          "Meats, Fish & Eggs",
          "Meats, Fish & Eggs",
          "Meats, Fish & Eggs",
          "Meats, Fish & Eggs",
          "Meats, Fish & Eggs",
          "Meats, Fish & Eggs",
          "Meats, Fish & Eggs",
          "Meats, Fish & Eggs",
          "Meats, Fish & Eggs",
          "Meats, Fish & Eggs",
          "Meats, Fish & Eggs",
          "Meats, Fish & Eggs",
          "Meats, Fish & Eggs",
          "Biscuits",
          "Biscuits",
          "Biscuits",
          "Biscuits",
          "Biscuits",
          "Biscuits",
          "Biscuits",
          "Biscuits",
          "Biscuits",
          "Biscuits",
          "Biscuits",
          "Biscuits",
          "Biscuits",
          "Biscuits",
          "Biscuits",
          "Biscuits",
          "Biscuits",
          "Biscuits",
          "Biscuits",
          "Biscuits",
          "Biscuits",
          "Biscuits",
          "Biscuits",
          "Biscuits",
          "Biscuits",
          "Biscuits",
          "Biscuits",
          "Biscuits",
          "Biscuits",
          "Biscuits",
          "Biscuits",
          "Biscuits",
          "Biscuits",
          "Biscuits",
          "Biscuits",
          "Biscuits",
          "Biscuits",
          "Biscuits",
          "Biscuits",
          "Biscuits",
          "Biscuits",
          "Biscuits",
          "Biscuits",
          "Biscuits",
          "Biscuits",
          "Biscuits",
          "Biscuits",
          "Biscuits",
          "Biscuits",
          "Biscuits",
          "Biscuits",
          "Biscuits",
          "Biscuits",
          "Biscuits",
          "Biscuits",
          "Biscuits",
          "Biscuits",
          "Biscuits",
          "Biscuits",
          "Biscuits",
          "Biscuits",
          "Biscuits",
          "Biscuits",
          "Biscuits",
          "Biscuits",
          "Biscuits",
          "Biscuits",
          "Biscuits",
          "Biscuits",
          "Biscuits",
          "Biscuits",
          "Biscuits",
          "Biscuits",
          "Biscuits",
          "Biscuits",
          "Biscuits",
          "Biscuits",
          "Biscuits",
          "Biscuits",
          "Biscuits",
          "Biscuits",
          "Biscuits",
          "Biscuits",
          "Biscuits",
          "Biscuits",
          "Biscuits",
          "Biscuits",
          "Biscuits",
          "Biscuits",
          "Biscuits",
          "Biscuits",
          "Biscuits",
          "Biscuits",
          "Biscuits",
          "Biscuits",
          "Biscuits",
          "Biscuits",
          "Biscuits",
          "Personal Care",
          "Personal Care",
          "Personal Care",
          "Personal Care",
          "Personal Care",
          "Personal Care",
          "Personal Care",
          "Personal Care",
          "Personal Care",
          "Personal Care",
          "Personal Care",
          "Personal Care",
          "Personal Care",
          "Personal Care",
          "Personal Care",
          "Personal Care",
          "Personal Care",
          "Personal Care",
          "Personal Care",
          "Personal Care",
          "Personal Care",
          "Personal Care",
          "Personal Care",
          "Personal Care",
          "Personal Care",
          "Personal Care",
          "Personal Care",
          "Personal Care",
          "Personal Care",
          "Personal Care",
          "Personal Care",
          "Personal Care",
          "Personal Care",
          "Personal Care",
          "Personal Care",
          "Personal Care",
          "Personal Care",
          "Personal Care",
          "Personal Care",
          "Personal Care",
          "Personal Care",
          "Personal Care",
          "Personal Care",
          "Personal Care",
          "Personal Care",
          "Personal Care",
          "Personal Care",
          "Personal Care",
          "Personal Care",
          "Personal Care",
          "Personal Care",
          "Personal Care",
          "Personal Care",
          "Personal Care",
          "Personal Care",
          "Personal Care",
          "Personal Care",
          "Personal Care",
          "Personal Care",
          "Personal Care",
          "Personal Care",
          "Personal Care",
          "Personal Care",
          "Personal Care",
          "Personal Care",
          "Personal Care",
          "Personal Care",
          "Personal Care",
          "Personal Care",
          "Personal Care",
          "Personal Care",
          "Personal Care",
          "Personal Care",
          "Personal Care",
          "Personal Care",
          "Personal Care",
          "Personal Care",
          "Personal Care",
          "Personal Care",
          "Personal Care",
          "Personal Care",
          "Personal Care",
          "Personal Care",
          "Personal Care",
          "Personal Care",
          "Personal Care",
          "Personal Care",
          "Personal Care",
          "Personal Care",
          "Personal Care",
          "Personal Care",
          "Personal Care",
          "Personal Care",
          "Personal Care",
          "Personal Care",
          "Personal Care",
          "Personal Care",
          "Personal Care",
          "Personal Care",
          "Personal Care",
          "Personal Care",
          "Personal Care",
          "Personal Care",
          "Personal Care",
          "Personal Care",
          "Personal Care",
          "Personal Care",
          "Personal Care",
          "Personal Care",
          "Personal Care",
          "Personal Care",
          "Personal Care",
          "Personal Care",
          "Personal Care",
          "Personal Care",
          "Personal Care",
          "Personal Care",
          "Personal Care",
          "Personal Care",
          "Personal Care",
          "Personal Care",
          "Personal Care",
          "Personal Care",
          "Personal Care",
          "Personal Care",
          "Personal Care",
          "Personal Care",
          "Personal Care",
          "Personal Care",
          "Personal Care",
          "Personal Care",
          "Personal Care",
          "Personal Care",
          "Personal Care",
          "Personal Care",
          "Personal Care",
          "Personal Care",
          "Personal Care",
          "Personal Care",
          "Personal Care",
          "Personal Care",
          "Personal Care",
          "Personal Care",
          "Personal Care",
          "Personal Care",
          "Personal Care",
          "Personal Care",
          "Personal Care",
          "Personal Care",
          "Personal Care",
          "Personal Care",
          "Personal Care",
          "Personal Care",
          "Personal Care",
          "Personal Care",
          "Personal Care",
          "Personal Care",
          "Personal Care",
          "Personal Care",
          "Personal Care",
          "Personal Care",
          "Personal Care",
          "Personal Care",
          "Personal Care",
          "Personal Care",
          "Personal Care",
          "Personal Care",
          "Personal Care",
          "Personal Care",
          "Personal Care",
          "Personal Care",
          "Personal Care",
          "Personal Care",
          "Personal Care",
          "Personal Care",
          "Personal Care",
          "Personal Care",
          "Personal Care",
          "Personal Care",
          "Personal Care",
          "Personal Care",
          "Personal Care",
          "Personal Care",
          "Personal Care",
          "Personal Care",
          "Personal Care",
          "Personal Care",
          "Personal Care",
          "Personal Care",
          "Personal Care",
          "Personal Care",
          "Personal Care",
          "Personal Care",
          "Personal Care",
          "Personal Care",
          "Personal Care",
          "Personal Care",
          "Personal Care",
          "Personal Care",
          "Personal Care",
          "Personal Care",
          "Personal Care",
          "Personal Care",
          "Personal Care",
          "Personal Care",
          "Personal Care",
          "Personal Care",
          "Personal Care",
          "Personal Care",
          "Personal Care",
          "Personal Care",
          "Personal Care",
          "Personal Care",
          "Personal Care",
          "Personal Care",
          "Personal Care",
          "Personal Care",
          "Personal Care",
          "Personal Care",
          "Personal Care",
          "Personal Care",
          "Personal Care",
          "Personal Care",
          "Personal Care",
          "Personal Care",
          "Personal Care",
          "Personal Care",
          "Personal Care",
          "Personal Care",
          "Personal Care",
          "Personal Care",
          "Personal Care",
          "Personal Care",
          "Personal Care",
          "Personal Care",
          "Personal Care",
          "Personal Care",
          "Personal Care",
          "Personal Care",
          "Personal Care",
          "Personal Care",
          "Personal Care",
          "Personal Care",
          "Personal Care",
          "Personal Care",
          "Personal Care",
          "Personal Care",
          "Personal Care",
          "Personal Care",
          "Personal Care",
          "Personal Care",
          "Personal Care",
          "Personal Care",
          "Personal Care",
          "Personal Care",
          "Personal Care",
          "Personal Care",
          "Personal Care",
          "Personal Care",
          "Personal Care",
          "Personal Care",
          "Personal Care",
          "Personal Care",
          "Personal Care",
          "Personal Care",
          "Personal Care",
          "Personal Care",
          "Personal Care",
          "Personal Care",
          "Personal Care",
          "Personal Care",
          "Personal Care",
          "Personal Care",
          "Personal Care",
          "Personal Care",
          "Personal Care",
          "Personal Care",
          "Personal Care",
          "Personal Care",
          "Personal Care",
          "Personal Care",
          "Personal Care",
          "Personal Care",
          "Personal Care",
          "Personal Care",
          "Personal Care",
          "Personal Care",
          "Personal Care",
          "Personal Care",
          "Personal Care",
          "Personal Care",
          "Personal Care",
          "Home & Cleaning",
          "Home & Cleaning",
          "Home & Cleaning",
          "Home & Cleaning",
          "Home & Cleaning",
          "Home & Cleaning",
          "Home & Cleaning",
          "Home & Cleaning",
          "Home & Cleaning",
          "Home & Cleaning",
          "Home & Cleaning",
          "Home & Cleaning",
          "Home & Cleaning",
          "Home & Cleaning",
          "Home & Cleaning",
          "Home & Cleaning",
          "Home & Cleaning",
          "Home & Cleaning",
          "Home & Cleaning",
          "Home & Cleaning",
          "Home & Cleaning",
          "Home & Cleaning",
          "Home & Cleaning",
          "Home & Cleaning",
          "Home & Cleaning",
          "Home & Cleaning",
          "Home & Cleaning",
          "Home & Cleaning",
          "Home & Cleaning",
          "Home & Cleaning",
          "Home & Cleaning",
          "Home & Cleaning",
          "Home & Cleaning",
          "Home & Cleaning",
          "Home & Cleaning",
          "Home & Cleaning",
          "Home & Cleaning",
          "Home & Cleaning",
          "Home & Cleaning",
          "Home & Cleaning",
          "Home & Cleaning",
          "Home & Cleaning",
          "Home & Cleaning",
          "Home & Cleaning",
          "Home & Cleaning",
          "Home & Cleaning",
          "Home & Cleaning",
          "Home & Cleaning",
          "Home & Cleaning",
          "Home & Cleaning",
          "Home & Cleaning",
          "Home & Cleaning",
          "Home & Cleaning",
          "Home & Cleaning",
          "Home & Cleaning",
          "Home & Cleaning",
          "Home & Cleaning",
          "Home & Cleaning",
          "Home & Cleaning",
          "Home & Cleaning",
          "Home & Cleaning",
          "Home & Cleaning",
          "Home & Cleaning",
          "Home & Cleaning",
          "Home & Cleaning",
          "Home & Cleaning",
          "Home & Cleaning",
          "Home & Cleaning",
          "Home & Cleaning",
          "Home & Cleaning",
          "Home & Cleaning",
          "Home & Cleaning",
          "Home & Cleaning",
          "Home & Cleaning",
          "Home & Cleaning",
          "Home & Cleaning",
          "Home & Cleaning",
          "Home & Cleaning",
          "Home & Cleaning",
          "Home & Cleaning",
          "Home & Cleaning",
          "Home & Cleaning",
          "Home & Cleaning",
          "Home & Cleaning",
          "Home & Cleaning",
          "Home & Cleaning",
          "Home & Cleaning",
          "Home & Cleaning",
          "Home & Cleaning",
          "Home & Cleaning",
          "Home & Cleaning",
          "Home & Cleaning",
          "Home & Cleaning",
          "Home & Cleaning",
          "Home & Cleaning",
          "Home & Cleaning",
          "Home & Cleaning",
          "Home & Cleaning",
          "Home & Cleaning",
          "Home & Cleaning",
          "Home & Cleaning",
          "Home & Cleaning",
          "Home & Cleaning",
          "Home & Cleaning",
          "Home & Cleaning",
          "Home & Cleaning",
          "Home & Cleaning",
          "Home & Cleaning",
          "Home & Cleaning",
          "Home & Cleaning",
          "Home & Cleaning",
          "Home & Cleaning",
          "Home & Cleaning",
          "Home & Cleaning",
          "Home & Cleaning",
          "Home & Cleaning",
          "Home & Cleaning",
          "Home & Cleaning",
          "Home & Cleaning",
          "Home & Cleaning",
          "Home & Cleaning",
          "Home & Cleaning",
          "Home & Cleaning",
          "Home & Cleaning",
          "Home & Cleaning",
          "Home & Cleaning",
          "Home & Cleaning",
          "Home & Cleaning",
          "Home & Cleaning",
          "Home & Cleaning",
          "Home & Cleaning",
          "Home & Cleaning",
          "Home & Cleaning",
          "Home & Cleaning",
          "Home & Cleaning",
          "Home & Cleaning",
          "Home & Cleaning",
          "Home & Cleaning",
          "Home & Cleaning",
          "Home & Cleaning",
          "Home & Cleaning",
          "Home & Cleaning",
          "Home & Cleaning",
          "Home & Cleaning",
          "Home & Cleaning",
          "Home & Cleaning",
          "Home & Cleaning",
          "Home & Cleaning",
          "Home & Cleaning",
          "Home & Cleaning",
          "Home & Cleaning",
          "Home & Cleaning",
          "Home & Cleaning",
          "Home & Cleaning",
          "Home & Cleaning",
          "Home & Cleaning",
          "Home & Cleaning",
          "Home & Cleaning",
          "Home & Cleaning",
          "Home & Cleaning",
          "Home & Cleaning",
          "Home & Cleaning",
          "Home & Cleaning",
          "Home & Cleaning",
          "Home & Cleaning",
          "Home & Cleaning",
          "Home & Cleaning",
          "Home & Cleaning",
          "Home & Cleaning",
          "Health & Hygiene",
          "Health & Hygiene",
          "Health & Hygiene",
          "Health & Hygiene",
          "Health & Hygiene",
          "Health & Hygiene",
          "Health & Hygiene",
          "Health & Hygiene",
          "Health & Hygiene",
          "Health & Hygiene",
          "Health & Hygiene",
          "Health & Hygiene",
          "Health & Hygiene",
          "Health & Hygiene",
          "Health & Hygiene",
          "Health & Hygiene",
          "Health & Hygiene",
          "Health & Hygiene",
          "Health & Hygiene",
          "Health & Hygiene",
          "Health & Hygiene",
          "Health & Hygiene",
          "Health & Hygiene",
          "Health & Hygiene",
          "Health & Hygiene",
          "Health & Hygiene",
          "Health & Hygiene",
          "Health & Hygiene",
          "Health & Hygiene",
          "Health & Hygiene",
          "Health & Hygiene",
          "Health & Hygiene",
          "Health & Hygiene",
          "Health & Hygiene",
          "Health & Hygiene",
          "Health & Hygiene",
          "Health & Hygiene",
          "Health & Hygiene",
          "Health & Hygiene",
          "Health & Hygiene",
          "Health & Hygiene",
          "Health & Hygiene",
          "Health & Hygiene",
          "Health & Hygiene",
          "Health & Hygiene",
          "Health & Hygiene",
          "Health & Hygiene",
          "Health & Hygiene",
          "Health & Hygiene",
          "Health & Hygiene",
          "Health & Hygiene",
          "Health & Hygiene",
          "Health & Hygiene",
          "Health & Hygiene",
          "Health & Hygiene",
          "Health & Hygiene"
         ],
         "xaxis": "x",
         "yaxis": "y",
         "type": "histogram"
        },
        {
         "alignmentgroup": "True",
         "bingroup": "x",
         "hovertemplate": "outOfStock=True<br>Category=%{x}<br>count=%{y}<extra></extra>",
         "legendgroup": "True",
         "marker": {
          "color": "red",
          "pattern": {
           "shape": ""
          }
         },
         "name": "True",
         "offsetgroup": "True",
         "orientation": "v",
         "showlegend": true,
         "x": [
          "Fruits & Vegetables",
          "Fruits & Vegetables",
          "Fruits & Vegetables",
          "Fruits & Vegetables",
          "Cooking Essentials",
          "Cooking Essentials",
          "Cooking Essentials",
          "Cooking Essentials",
          "Cooking Essentials",
          "Cooking Essentials",
          "Cooking Essentials",
          "Cooking Essentials",
          "Cooking Essentials",
          "Cooking Essentials",
          "Cooking Essentials",
          "Cooking Essentials",
          "Cooking Essentials",
          "Cooking Essentials",
          "Cooking Essentials",
          "Cooking Essentials",
          "Cooking Essentials",
          "Cooking Essentials",
          "Cooking Essentials",
          "Cooking Essentials",
          "Cooking Essentials",
          "Cooking Essentials",
          "Cooking Essentials",
          "Cooking Essentials",
          "Cooking Essentials",
          "Cooking Essentials",
          "Cooking Essentials",
          "Cooking Essentials",
          "Cooking Essentials",
          "Cooking Essentials",
          "Cooking Essentials",
          "Cooking Essentials",
          "Cooking Essentials",
          "Cooking Essentials",
          "Cooking Essentials",
          "Cooking Essentials",
          "Cooking Essentials",
          "Cooking Essentials",
          "Cooking Essentials",
          "Cooking Essentials",
          "Cooking Essentials",
          "Cooking Essentials",
          "Cooking Essentials",
          "Cooking Essentials",
          "Cooking Essentials",
          "Cooking Essentials",
          "Cooking Essentials",
          "Cooking Essentials",
          "Cooking Essentials",
          "Cooking Essentials",
          "Cooking Essentials",
          "Cooking Essentials",
          "Cooking Essentials",
          "Cooking Essentials",
          "Cooking Essentials",
          "Cooking Essentials",
          "Cooking Essentials",
          "Cooking Essentials",
          "Dairy, Bread & Batter",
          "Dairy, Bread & Batter",
          "Dairy, Bread & Batter",
          "Dairy, Bread & Batter",
          "Dairy, Bread & Batter",
          "Dairy, Bread & Batter",
          "Dairy, Bread & Batter",
          "Dairy, Bread & Batter",
          "Dairy, Bread & Batter",
          "Dairy, Bread & Batter",
          "Dairy, Bread & Batter",
          "Dairy, Bread & Batter",
          "Dairy, Bread & Batter",
          "Dairy, Bread & Batter",
          "Dairy, Bread & Batter",
          "Dairy, Bread & Batter",
          "Dairy, Bread & Batter",
          "Dairy, Bread & Batter",
          "Dairy, Bread & Batter",
          "Dairy, Bread & Batter",
          "Dairy, Bread & Batter",
          "Dairy, Bread & Batter",
          "Dairy, Bread & Batter",
          "Dairy, Bread & Batter",
          "Dairy, Bread & Batter",
          "Packaged Food",
          "Packaged Food",
          "Packaged Food",
          "Packaged Food",
          "Packaged Food",
          "Packaged Food",
          "Packaged Food",
          "Packaged Food",
          "Packaged Food",
          "Packaged Food",
          "Packaged Food",
          "Packaged Food",
          "Packaged Food",
          "Packaged Food",
          "Packaged Food",
          "Packaged Food",
          "Packaged Food",
          "Packaged Food",
          "Packaged Food",
          "Packaged Food",
          "Packaged Food",
          "Packaged Food",
          "Packaged Food",
          "Packaged Food",
          "Packaged Food",
          "Packaged Food",
          "Meats, Fish & Eggs",
          "Meats, Fish & Eggs",
          "Meats, Fish & Eggs",
          "Meats, Fish & Eggs",
          "Meats, Fish & Eggs",
          "Meats, Fish & Eggs",
          "Meats, Fish & Eggs",
          "Biscuits",
          "Biscuits",
          "Biscuits",
          "Biscuits",
          "Biscuits",
          "Biscuits",
          "Biscuits",
          "Biscuits",
          "Biscuits",
          "Biscuits",
          "Biscuits",
          "Biscuits",
          "Biscuits",
          "Biscuits",
          "Biscuits",
          "Biscuits",
          "Biscuits",
          "Biscuits",
          "Biscuits",
          "Biscuits",
          "Biscuits",
          "Biscuits",
          "Biscuits",
          "Biscuits",
          "Biscuits",
          "Biscuits",
          "Biscuits",
          "Biscuits",
          "Biscuits",
          "Biscuits",
          "Biscuits",
          "Biscuits",
          "Biscuits",
          "Biscuits",
          "Biscuits",
          "Personal Care",
          "Personal Care",
          "Personal Care",
          "Personal Care",
          "Personal Care",
          "Personal Care",
          "Personal Care",
          "Personal Care",
          "Personal Care",
          "Personal Care",
          "Personal Care",
          "Personal Care",
          "Personal Care",
          "Personal Care",
          "Personal Care",
          "Personal Care",
          "Personal Care",
          "Personal Care",
          "Home & Cleaning",
          "Home & Cleaning",
          "Home & Cleaning",
          "Home & Cleaning",
          "Home & Cleaning",
          "Home & Cleaning",
          "Home & Cleaning",
          "Home & Cleaning",
          "Home & Cleaning",
          "Home & Cleaning",
          "Home & Cleaning",
          "Home & Cleaning",
          "Home & Cleaning",
          "Home & Cleaning",
          "Home & Cleaning",
          "Home & Cleaning",
          "Health & Hygiene",
          "Health & Hygiene",
          "Health & Hygiene"
         ],
         "xaxis": "x",
         "yaxis": "y",
         "type": "histogram"
        }
       ],
       "layout": {
        "template": {
         "data": {
          "histogram2dcontour": [
           {
            "type": "histogram2dcontour",
            "colorbar": {
             "outlinewidth": 0,
             "ticks": ""
            },
            "colorscale": [
             [
              0.0,
              "#0d0887"
             ],
             [
              0.1111111111111111,
              "#46039f"
             ],
             [
              0.2222222222222222,
              "#7201a8"
             ],
             [
              0.3333333333333333,
              "#9c179e"
             ],
             [
              0.4444444444444444,
              "#bd3786"
             ],
             [
              0.5555555555555556,
              "#d8576b"
             ],
             [
              0.6666666666666666,
              "#ed7953"
             ],
             [
              0.7777777777777778,
              "#fb9f3a"
             ],
             [
              0.8888888888888888,
              "#fdca26"
             ],
             [
              1.0,
              "#f0f921"
             ]
            ]
           }
          ],
          "choropleth": [
           {
            "type": "choropleth",
            "colorbar": {
             "outlinewidth": 0,
             "ticks": ""
            }
           }
          ],
          "histogram2d": [
           {
            "type": "histogram2d",
            "colorbar": {
             "outlinewidth": 0,
             "ticks": ""
            },
            "colorscale": [
             [
              0.0,
              "#0d0887"
             ],
             [
              0.1111111111111111,
              "#46039f"
             ],
             [
              0.2222222222222222,
              "#7201a8"
             ],
             [
              0.3333333333333333,
              "#9c179e"
             ],
             [
              0.4444444444444444,
              "#bd3786"
             ],
             [
              0.5555555555555556,
              "#d8576b"
             ],
             [
              0.6666666666666666,
              "#ed7953"
             ],
             [
              0.7777777777777778,
              "#fb9f3a"
             ],
             [
              0.8888888888888888,
              "#fdca26"
             ],
             [
              1.0,
              "#f0f921"
             ]
            ]
           }
          ],
          "heatmap": [
           {
            "type": "heatmap",
            "colorbar": {
             "outlinewidth": 0,
             "ticks": ""
            },
            "colorscale": [
             [
              0.0,
              "#0d0887"
             ],
             [
              0.1111111111111111,
              "#46039f"
             ],
             [
              0.2222222222222222,
              "#7201a8"
             ],
             [
              0.3333333333333333,
              "#9c179e"
             ],
             [
              0.4444444444444444,
              "#bd3786"
             ],
             [
              0.5555555555555556,
              "#d8576b"
             ],
             [
              0.6666666666666666,
              "#ed7953"
             ],
             [
              0.7777777777777778,
              "#fb9f3a"
             ],
             [
              0.8888888888888888,
              "#fdca26"
             ],
             [
              1.0,
              "#f0f921"
             ]
            ]
           }
          ],
          "contourcarpet": [
           {
            "type": "contourcarpet",
            "colorbar": {
             "outlinewidth": 0,
             "ticks": ""
            }
           }
          ],
          "contour": [
           {
            "type": "contour",
            "colorbar": {
             "outlinewidth": 0,
             "ticks": ""
            },
            "colorscale": [
             [
              0.0,
              "#0d0887"
             ],
             [
              0.1111111111111111,
              "#46039f"
             ],
             [
              0.2222222222222222,
              "#7201a8"
             ],
             [
              0.3333333333333333,
              "#9c179e"
             ],
             [
              0.4444444444444444,
              "#bd3786"
             ],
             [
              0.5555555555555556,
              "#d8576b"
             ],
             [
              0.6666666666666666,
              "#ed7953"
             ],
             [
              0.7777777777777778,
              "#fb9f3a"
             ],
             [
              0.8888888888888888,
              "#fdca26"
             ],
             [
              1.0,
              "#f0f921"
             ]
            ]
           }
          ],
          "surface": [
           {
            "type": "surface",
            "colorbar": {
             "outlinewidth": 0,
             "ticks": ""
            },
            "colorscale": [
             [
              0.0,
              "#0d0887"
             ],
             [
              0.1111111111111111,
              "#46039f"
             ],
             [
              0.2222222222222222,
              "#7201a8"
             ],
             [
              0.3333333333333333,
              "#9c179e"
             ],
             [
              0.4444444444444444,
              "#bd3786"
             ],
             [
              0.5555555555555556,
              "#d8576b"
             ],
             [
              0.6666666666666666,
              "#ed7953"
             ],
             [
              0.7777777777777778,
              "#fb9f3a"
             ],
             [
              0.8888888888888888,
              "#fdca26"
             ],
             [
              1.0,
              "#f0f921"
             ]
            ]
           }
          ],
          "mesh3d": [
           {
            "type": "mesh3d",
            "colorbar": {
             "outlinewidth": 0,
             "ticks": ""
            }
           }
          ],
          "scatter": [
           {
            "marker": {
             "line": {
              "color": "#283442"
             }
            },
            "type": "scatter"
           }
          ],
          "parcoords": [
           {
            "type": "parcoords",
            "line": {
             "colorbar": {
              "outlinewidth": 0,
              "ticks": ""
             }
            }
           }
          ],
          "scatterpolargl": [
           {
            "type": "scatterpolargl",
            "marker": {
             "colorbar": {
              "outlinewidth": 0,
              "ticks": ""
             }
            }
           }
          ],
          "bar": [
           {
            "error_x": {
             "color": "#f2f5fa"
            },
            "error_y": {
             "color": "#f2f5fa"
            },
            "marker": {
             "line": {
              "color": "rgb(17,17,17)",
              "width": 0.5
             },
             "pattern": {
              "fillmode": "overlay",
              "size": 10,
              "solidity": 0.2
             }
            },
            "type": "bar"
           }
          ],
          "scattergeo": [
           {
            "type": "scattergeo",
            "marker": {
             "colorbar": {
              "outlinewidth": 0,
              "ticks": ""
             }
            }
           }
          ],
          "scatterpolar": [
           {
            "type": "scatterpolar",
            "marker": {
             "colorbar": {
              "outlinewidth": 0,
              "ticks": ""
             }
            }
           }
          ],
          "histogram": [
           {
            "marker": {
             "pattern": {
              "fillmode": "overlay",
              "size": 10,
              "solidity": 0.2
             }
            },
            "type": "histogram"
           }
          ],
          "scattergl": [
           {
            "marker": {
             "line": {
              "color": "#283442"
             }
            },
            "type": "scattergl"
           }
          ],
          "scatter3d": [
           {
            "type": "scatter3d",
            "line": {
             "colorbar": {
              "outlinewidth": 0,
              "ticks": ""
             }
            },
            "marker": {
             "colorbar": {
              "outlinewidth": 0,
              "ticks": ""
             }
            }
           }
          ],
          "scattermap": [
           {
            "type": "scattermap",
            "marker": {
             "colorbar": {
              "outlinewidth": 0,
              "ticks": ""
             }
            }
           }
          ],
          "scattermapbox": [
           {
            "type": "scattermapbox",
            "marker": {
             "colorbar": {
              "outlinewidth": 0,
              "ticks": ""
             }
            }
           }
          ],
          "scatterternary": [
           {
            "type": "scatterternary",
            "marker": {
             "colorbar": {
              "outlinewidth": 0,
              "ticks": ""
             }
            }
           }
          ],
          "scattercarpet": [
           {
            "type": "scattercarpet",
            "marker": {
             "colorbar": {
              "outlinewidth": 0,
              "ticks": ""
             }
            }
           }
          ],
          "carpet": [
           {
            "aaxis": {
             "endlinecolor": "#A2B1C6",
             "gridcolor": "#506784",
             "linecolor": "#506784",
             "minorgridcolor": "#506784",
             "startlinecolor": "#A2B1C6"
            },
            "baxis": {
             "endlinecolor": "#A2B1C6",
             "gridcolor": "#506784",
             "linecolor": "#506784",
             "minorgridcolor": "#506784",
             "startlinecolor": "#A2B1C6"
            },
            "type": "carpet"
           }
          ],
          "table": [
           {
            "cells": {
             "fill": {
              "color": "#506784"
             },
             "line": {
              "color": "rgb(17,17,17)"
             }
            },
            "header": {
             "fill": {
              "color": "#2a3f5f"
             },
             "line": {
              "color": "rgb(17,17,17)"
             }
            },
            "type": "table"
           }
          ],
          "barpolar": [
           {
            "marker": {
             "line": {
              "color": "rgb(17,17,17)",
              "width": 0.5
             },
             "pattern": {
              "fillmode": "overlay",
              "size": 10,
              "solidity": 0.2
             }
            },
            "type": "barpolar"
           }
          ],
          "pie": [
           {
            "automargin": true,
            "type": "pie"
           }
          ]
         },
         "layout": {
          "autotypenumbers": "strict",
          "colorway": [
           "#636efa",
           "#EF553B",
           "#00cc96",
           "#ab63fa",
           "#FFA15A",
           "#19d3f3",
           "#FF6692",
           "#B6E880",
           "#FF97FF",
           "#FECB52"
          ],
          "font": {
           "color": "#f2f5fa"
          },
          "hovermode": "closest",
          "hoverlabel": {
           "align": "left"
          },
          "paper_bgcolor": "rgb(17,17,17)",
          "plot_bgcolor": "rgb(17,17,17)",
          "polar": {
           "bgcolor": "rgb(17,17,17)",
           "angularaxis": {
            "gridcolor": "#506784",
            "linecolor": "#506784",
            "ticks": ""
           },
           "radialaxis": {
            "gridcolor": "#506784",
            "linecolor": "#506784",
            "ticks": ""
           }
          },
          "ternary": {
           "bgcolor": "rgb(17,17,17)",
           "aaxis": {
            "gridcolor": "#506784",
            "linecolor": "#506784",
            "ticks": ""
           },
           "baxis": {
            "gridcolor": "#506784",
            "linecolor": "#506784",
            "ticks": ""
           },
           "caxis": {
            "gridcolor": "#506784",
            "linecolor": "#506784",
            "ticks": ""
           }
          },
          "coloraxis": {
           "colorbar": {
            "outlinewidth": 0,
            "ticks": ""
           }
          },
          "colorscale": {
           "sequential": [
            [
             0.0,
             "#0d0887"
            ],
            [
             0.1111111111111111,
             "#46039f"
            ],
            [
             0.2222222222222222,
             "#7201a8"
            ],
            [
             0.3333333333333333,
             "#9c179e"
            ],
            [
             0.4444444444444444,
             "#bd3786"
            ],
            [
             0.5555555555555556,
             "#d8576b"
            ],
            [
             0.6666666666666666,
             "#ed7953"
            ],
            [
             0.7777777777777778,
             "#fb9f3a"
            ],
            [
             0.8888888888888888,
             "#fdca26"
            ],
            [
             1.0,
             "#f0f921"
            ]
           ],
           "sequentialminus": [
            [
             0.0,
             "#0d0887"
            ],
            [
             0.1111111111111111,
             "#46039f"
            ],
            [
             0.2222222222222222,
             "#7201a8"
            ],
            [
             0.3333333333333333,
             "#9c179e"
            ],
            [
             0.4444444444444444,
             "#bd3786"
            ],
            [
             0.5555555555555556,
             "#d8576b"
            ],
            [
             0.6666666666666666,
             "#ed7953"
            ],
            [
             0.7777777777777778,
             "#fb9f3a"
            ],
            [
             0.8888888888888888,
             "#fdca26"
            ],
            [
             1.0,
             "#f0f921"
            ]
           ],
           "diverging": [
            [
             0,
             "#8e0152"
            ],
            [
             0.1,
             "#c51b7d"
            ],
            [
             0.2,
             "#de77ae"
            ],
            [
             0.3,
             "#f1b6da"
            ],
            [
             0.4,
             "#fde0ef"
            ],
            [
             0.5,
             "#f7f7f7"
            ],
            [
             0.6,
             "#e6f5d0"
            ],
            [
             0.7,
             "#b8e186"
            ],
            [
             0.8,
             "#7fbc41"
            ],
            [
             0.9,
             "#4d9221"
            ],
            [
             1,
             "#276419"
            ]
           ]
          },
          "xaxis": {
           "gridcolor": "#283442",
           "linecolor": "#506784",
           "ticks": "",
           "title": {
            "standoff": 15
           },
           "zerolinecolor": "#283442",
           "automargin": true,
           "zerolinewidth": 2
          },
          "yaxis": {
           "gridcolor": "#283442",
           "linecolor": "#506784",
           "ticks": "",
           "title": {
            "standoff": 15
           },
           "zerolinecolor": "#283442",
           "automargin": true,
           "zerolinewidth": 2
          },
          "scene": {
           "xaxis": {
            "backgroundcolor": "rgb(17,17,17)",
            "gridcolor": "#506784",
            "linecolor": "#506784",
            "showbackground": true,
            "ticks": "",
            "zerolinecolor": "#C8D4E3",
            "gridwidth": 2
           },
           "yaxis": {
            "backgroundcolor": "rgb(17,17,17)",
            "gridcolor": "#506784",
            "linecolor": "#506784",
            "showbackground": true,
            "ticks": "",
            "zerolinecolor": "#C8D4E3",
            "gridwidth": 2
           },
           "zaxis": {
            "backgroundcolor": "rgb(17,17,17)",
            "gridcolor": "#506784",
            "linecolor": "#506784",
            "showbackground": true,
            "ticks": "",
            "zerolinecolor": "#C8D4E3",
            "gridwidth": 2
           }
          },
          "shapedefaults": {
           "line": {
            "color": "#f2f5fa"
           }
          },
          "annotationdefaults": {
           "arrowcolor": "#f2f5fa",
           "arrowhead": 0,
           "arrowwidth": 1
          },
          "geo": {
           "bgcolor": "rgb(17,17,17)",
           "landcolor": "rgb(17,17,17)",
           "subunitcolor": "#506784",
           "showland": true,
           "showlakes": true,
           "lakecolor": "rgb(17,17,17)"
          },
          "title": {
           "x": 0.05
          },
          "updatemenudefaults": {
           "bgcolor": "#506784",
           "borderwidth": 0
          },
          "sliderdefaults": {
           "bgcolor": "#C8D4E3",
           "borderwidth": 1,
           "bordercolor": "rgb(17,17,17)",
           "tickwidth": 0
          },
          "mapbox": {
           "style": "dark"
          }
         }
        },
        "xaxis": {
         "anchor": "y",
         "domain": [
          0.0,
          1.0
         ],
         "title": {
          "text": "Category"
         }
        },
        "yaxis": {
         "anchor": "x",
         "domain": [
          0.0,
          1.0
         ],
         "title": {
          "text": "count"
         }
        },
        "legend": {
         "title": {
          "text": "outOfStock"
         },
         "tracegroupgap": 0
        },
        "margin": {
         "t": 60
        },
        "barmode": "group"
       },
       "config": {
        "plotlyServerURL": "https://plot.ly"
       }
      }
     },
     "metadata": {},
     "output_type": "display_data"
    }
   ],
   "execution_count": 31
  },
  {
   "metadata": {
    "ExecuteTime": {
     "end_time": "2025-06-07T14:37:39.608853Z",
     "start_time": "2025-06-07T14:37:39.305242Z"
    }
   },
   "cell_type": "code",
   "source": [
    "uniqueCategories = dfN['Category'].unique()\n",
    "# fig = px.pie(dfN, names='outOfStock', color ='outOfStock', color_discrete_sequence=colors, template='plotly_dark')\n",
    "# fig.show()\n",
    "n=1\n",
    "# plt.figure()\n",
    "\n",
    "# for value in uniqueCategories:\n",
    "for value in uniqueCategories:\n",
    "    dfTemp = dfN[dfN['Category'] == f'Fruits and Vegetables']\n",
    "    figPie = px.pie(dfTemp, names='outOfStock', color ='outOfStock', color_discrete_sequence=colors, template='plotly_dark')\n",
    "    figPie.show()\n",
    "    n+=1\n",
    "# f.show()"
   ],
   "id": "4e5af012ca7ac2d0",
   "outputs": [
    {
     "data": {
      "application/vnd.plotly.v1+json": {
       "data": [
        {
         "customdata": [],
         "domain": {
          "x": [
           0.0,
           1.0
          ],
          "y": [
           0.0,
           1.0
          ]
         },
         "hovertemplate": "outOfStock=%{customdata[0]}<extra></extra>",
         "labels": [],
         "legendgroup": "",
         "marker": {
          "colors": []
         },
         "name": "",
         "showlegend": true,
         "type": "pie"
        }
       ],
       "layout": {
        "template": {
         "data": {
          "histogram2dcontour": [
           {
            "type": "histogram2dcontour",
            "colorbar": {
             "outlinewidth": 0,
             "ticks": ""
            },
            "colorscale": [
             [
              0.0,
              "#0d0887"
             ],
             [
              0.1111111111111111,
              "#46039f"
             ],
             [
              0.2222222222222222,
              "#7201a8"
             ],
             [
              0.3333333333333333,
              "#9c179e"
             ],
             [
              0.4444444444444444,
              "#bd3786"
             ],
             [
              0.5555555555555556,
              "#d8576b"
             ],
             [
              0.6666666666666666,
              "#ed7953"
             ],
             [
              0.7777777777777778,
              "#fb9f3a"
             ],
             [
              0.8888888888888888,
              "#fdca26"
             ],
             [
              1.0,
              "#f0f921"
             ]
            ]
           }
          ],
          "choropleth": [
           {
            "type": "choropleth",
            "colorbar": {
             "outlinewidth": 0,
             "ticks": ""
            }
           }
          ],
          "histogram2d": [
           {
            "type": "histogram2d",
            "colorbar": {
             "outlinewidth": 0,
             "ticks": ""
            },
            "colorscale": [
             [
              0.0,
              "#0d0887"
             ],
             [
              0.1111111111111111,
              "#46039f"
             ],
             [
              0.2222222222222222,
              "#7201a8"
             ],
             [
              0.3333333333333333,
              "#9c179e"
             ],
             [
              0.4444444444444444,
              "#bd3786"
             ],
             [
              0.5555555555555556,
              "#d8576b"
             ],
             [
              0.6666666666666666,
              "#ed7953"
             ],
             [
              0.7777777777777778,
              "#fb9f3a"
             ],
             [
              0.8888888888888888,
              "#fdca26"
             ],
             [
              1.0,
              "#f0f921"
             ]
            ]
           }
          ],
          "heatmap": [
           {
            "type": "heatmap",
            "colorbar": {
             "outlinewidth": 0,
             "ticks": ""
            },
            "colorscale": [
             [
              0.0,
              "#0d0887"
             ],
             [
              0.1111111111111111,
              "#46039f"
             ],
             [
              0.2222222222222222,
              "#7201a8"
             ],
             [
              0.3333333333333333,
              "#9c179e"
             ],
             [
              0.4444444444444444,
              "#bd3786"
             ],
             [
              0.5555555555555556,
              "#d8576b"
             ],
             [
              0.6666666666666666,
              "#ed7953"
             ],
             [
              0.7777777777777778,
              "#fb9f3a"
             ],
             [
              0.8888888888888888,
              "#fdca26"
             ],
             [
              1.0,
              "#f0f921"
             ]
            ]
           }
          ],
          "contourcarpet": [
           {
            "type": "contourcarpet",
            "colorbar": {
             "outlinewidth": 0,
             "ticks": ""
            }
           }
          ],
          "contour": [
           {
            "type": "contour",
            "colorbar": {
             "outlinewidth": 0,
             "ticks": ""
            },
            "colorscale": [
             [
              0.0,
              "#0d0887"
             ],
             [
              0.1111111111111111,
              "#46039f"
             ],
             [
              0.2222222222222222,
              "#7201a8"
             ],
             [
              0.3333333333333333,
              "#9c179e"
             ],
             [
              0.4444444444444444,
              "#bd3786"
             ],
             [
              0.5555555555555556,
              "#d8576b"
             ],
             [
              0.6666666666666666,
              "#ed7953"
             ],
             [
              0.7777777777777778,
              "#fb9f3a"
             ],
             [
              0.8888888888888888,
              "#fdca26"
             ],
             [
              1.0,
              "#f0f921"
             ]
            ]
           }
          ],
          "surface": [
           {
            "type": "surface",
            "colorbar": {
             "outlinewidth": 0,
             "ticks": ""
            },
            "colorscale": [
             [
              0.0,
              "#0d0887"
             ],
             [
              0.1111111111111111,
              "#46039f"
             ],
             [
              0.2222222222222222,
              "#7201a8"
             ],
             [
              0.3333333333333333,
              "#9c179e"
             ],
             [
              0.4444444444444444,
              "#bd3786"
             ],
             [
              0.5555555555555556,
              "#d8576b"
             ],
             [
              0.6666666666666666,
              "#ed7953"
             ],
             [
              0.7777777777777778,
              "#fb9f3a"
             ],
             [
              0.8888888888888888,
              "#fdca26"
             ],
             [
              1.0,
              "#f0f921"
             ]
            ]
           }
          ],
          "mesh3d": [
           {
            "type": "mesh3d",
            "colorbar": {
             "outlinewidth": 0,
             "ticks": ""
            }
           }
          ],
          "scatter": [
           {
            "marker": {
             "line": {
              "color": "#283442"
             }
            },
            "type": "scatter"
           }
          ],
          "parcoords": [
           {
            "type": "parcoords",
            "line": {
             "colorbar": {
              "outlinewidth": 0,
              "ticks": ""
             }
            }
           }
          ],
          "scatterpolargl": [
           {
            "type": "scatterpolargl",
            "marker": {
             "colorbar": {
              "outlinewidth": 0,
              "ticks": ""
             }
            }
           }
          ],
          "bar": [
           {
            "error_x": {
             "color": "#f2f5fa"
            },
            "error_y": {
             "color": "#f2f5fa"
            },
            "marker": {
             "line": {
              "color": "rgb(17,17,17)",
              "width": 0.5
             },
             "pattern": {
              "fillmode": "overlay",
              "size": 10,
              "solidity": 0.2
             }
            },
            "type": "bar"
           }
          ],
          "scattergeo": [
           {
            "type": "scattergeo",
            "marker": {
             "colorbar": {
              "outlinewidth": 0,
              "ticks": ""
             }
            }
           }
          ],
          "scatterpolar": [
           {
            "type": "scatterpolar",
            "marker": {
             "colorbar": {
              "outlinewidth": 0,
              "ticks": ""
             }
            }
           }
          ],
          "histogram": [
           {
            "marker": {
             "pattern": {
              "fillmode": "overlay",
              "size": 10,
              "solidity": 0.2
             }
            },
            "type": "histogram"
           }
          ],
          "scattergl": [
           {
            "marker": {
             "line": {
              "color": "#283442"
             }
            },
            "type": "scattergl"
           }
          ],
          "scatter3d": [
           {
            "type": "scatter3d",
            "line": {
             "colorbar": {
              "outlinewidth": 0,
              "ticks": ""
             }
            },
            "marker": {
             "colorbar": {
              "outlinewidth": 0,
              "ticks": ""
             }
            }
           }
          ],
          "scattermap": [
           {
            "type": "scattermap",
            "marker": {
             "colorbar": {
              "outlinewidth": 0,
              "ticks": ""
             }
            }
           }
          ],
          "scattermapbox": [
           {
            "type": "scattermapbox",
            "marker": {
             "colorbar": {
              "outlinewidth": 0,
              "ticks": ""
             }
            }
           }
          ],
          "scatterternary": [
           {
            "type": "scatterternary",
            "marker": {
             "colorbar": {
              "outlinewidth": 0,
              "ticks": ""
             }
            }
           }
          ],
          "scattercarpet": [
           {
            "type": "scattercarpet",
            "marker": {
             "colorbar": {
              "outlinewidth": 0,
              "ticks": ""
             }
            }
           }
          ],
          "carpet": [
           {
            "aaxis": {
             "endlinecolor": "#A2B1C6",
             "gridcolor": "#506784",
             "linecolor": "#506784",
             "minorgridcolor": "#506784",
             "startlinecolor": "#A2B1C6"
            },
            "baxis": {
             "endlinecolor": "#A2B1C6",
             "gridcolor": "#506784",
             "linecolor": "#506784",
             "minorgridcolor": "#506784",
             "startlinecolor": "#A2B1C6"
            },
            "type": "carpet"
           }
          ],
          "table": [
           {
            "cells": {
             "fill": {
              "color": "#506784"
             },
             "line": {
              "color": "rgb(17,17,17)"
             }
            },
            "header": {
             "fill": {
              "color": "#2a3f5f"
             },
             "line": {
              "color": "rgb(17,17,17)"
             }
            },
            "type": "table"
           }
          ],
          "barpolar": [
           {
            "marker": {
             "line": {
              "color": "rgb(17,17,17)",
              "width": 0.5
             },
             "pattern": {
              "fillmode": "overlay",
              "size": 10,
              "solidity": 0.2
             }
            },
            "type": "barpolar"
           }
          ],
          "pie": [
           {
            "automargin": true,
            "type": "pie"
           }
          ]
         },
         "layout": {
          "autotypenumbers": "strict",
          "colorway": [
           "#636efa",
           "#EF553B",
           "#00cc96",
           "#ab63fa",
           "#FFA15A",
           "#19d3f3",
           "#FF6692",
           "#B6E880",
           "#FF97FF",
           "#FECB52"
          ],
          "font": {
           "color": "#f2f5fa"
          },
          "hovermode": "closest",
          "hoverlabel": {
           "align": "left"
          },
          "paper_bgcolor": "rgb(17,17,17)",
          "plot_bgcolor": "rgb(17,17,17)",
          "polar": {
           "bgcolor": "rgb(17,17,17)",
           "angularaxis": {
            "gridcolor": "#506784",
            "linecolor": "#506784",
            "ticks": ""
           },
           "radialaxis": {
            "gridcolor": "#506784",
            "linecolor": "#506784",
            "ticks": ""
           }
          },
          "ternary": {
           "bgcolor": "rgb(17,17,17)",
           "aaxis": {
            "gridcolor": "#506784",
            "linecolor": "#506784",
            "ticks": ""
           },
           "baxis": {
            "gridcolor": "#506784",
            "linecolor": "#506784",
            "ticks": ""
           },
           "caxis": {
            "gridcolor": "#506784",
            "linecolor": "#506784",
            "ticks": ""
           }
          },
          "coloraxis": {
           "colorbar": {
            "outlinewidth": 0,
            "ticks": ""
           }
          },
          "colorscale": {
           "sequential": [
            [
             0.0,
             "#0d0887"
            ],
            [
             0.1111111111111111,
             "#46039f"
            ],
            [
             0.2222222222222222,
             "#7201a8"
            ],
            [
             0.3333333333333333,
             "#9c179e"
            ],
            [
             0.4444444444444444,
             "#bd3786"
            ],
            [
             0.5555555555555556,
             "#d8576b"
            ],
            [
             0.6666666666666666,
             "#ed7953"
            ],
            [
             0.7777777777777778,
             "#fb9f3a"
            ],
            [
             0.8888888888888888,
             "#fdca26"
            ],
            [
             1.0,
             "#f0f921"
            ]
           ],
           "sequentialminus": [
            [
             0.0,
             "#0d0887"
            ],
            [
             0.1111111111111111,
             "#46039f"
            ],
            [
             0.2222222222222222,
             "#7201a8"
            ],
            [
             0.3333333333333333,
             "#9c179e"
            ],
            [
             0.4444444444444444,
             "#bd3786"
            ],
            [
             0.5555555555555556,
             "#d8576b"
            ],
            [
             0.6666666666666666,
             "#ed7953"
            ],
            [
             0.7777777777777778,
             "#fb9f3a"
            ],
            [
             0.8888888888888888,
             "#fdca26"
            ],
            [
             1.0,
             "#f0f921"
            ]
           ],
           "diverging": [
            [
             0,
             "#8e0152"
            ],
            [
             0.1,
             "#c51b7d"
            ],
            [
             0.2,
             "#de77ae"
            ],
            [
             0.3,
             "#f1b6da"
            ],
            [
             0.4,
             "#fde0ef"
            ],
            [
             0.5,
             "#f7f7f7"
            ],
            [
             0.6,
             "#e6f5d0"
            ],
            [
             0.7,
             "#b8e186"
            ],
            [
             0.8,
             "#7fbc41"
            ],
            [
             0.9,
             "#4d9221"
            ],
            [
             1,
             "#276419"
            ]
           ]
          },
          "xaxis": {
           "gridcolor": "#283442",
           "linecolor": "#506784",
           "ticks": "",
           "title": {
            "standoff": 15
           },
           "zerolinecolor": "#283442",
           "automargin": true,
           "zerolinewidth": 2
          },
          "yaxis": {
           "gridcolor": "#283442",
           "linecolor": "#506784",
           "ticks": "",
           "title": {
            "standoff": 15
           },
           "zerolinecolor": "#283442",
           "automargin": true,
           "zerolinewidth": 2
          },
          "scene": {
           "xaxis": {
            "backgroundcolor": "rgb(17,17,17)",
            "gridcolor": "#506784",
            "linecolor": "#506784",
            "showbackground": true,
            "ticks": "",
            "zerolinecolor": "#C8D4E3",
            "gridwidth": 2
           },
           "yaxis": {
            "backgroundcolor": "rgb(17,17,17)",
            "gridcolor": "#506784",
            "linecolor": "#506784",
            "showbackground": true,
            "ticks": "",
            "zerolinecolor": "#C8D4E3",
            "gridwidth": 2
           },
           "zaxis": {
            "backgroundcolor": "rgb(17,17,17)",
            "gridcolor": "#506784",
            "linecolor": "#506784",
            "showbackground": true,
            "ticks": "",
            "zerolinecolor": "#C8D4E3",
            "gridwidth": 2
           }
          },
          "shapedefaults": {
           "line": {
            "color": "#f2f5fa"
           }
          },
          "annotationdefaults": {
           "arrowcolor": "#f2f5fa",
           "arrowhead": 0,
           "arrowwidth": 1
          },
          "geo": {
           "bgcolor": "rgb(17,17,17)",
           "landcolor": "rgb(17,17,17)",
           "subunitcolor": "#506784",
           "showland": true,
           "showlakes": true,
           "lakecolor": "rgb(17,17,17)"
          },
          "title": {
           "x": 0.05
          },
          "updatemenudefaults": {
           "bgcolor": "#506784",
           "borderwidth": 0
          },
          "sliderdefaults": {
           "bgcolor": "#C8D4E3",
           "borderwidth": 1,
           "bordercolor": "rgb(17,17,17)",
           "tickwidth": 0
          },
          "mapbox": {
           "style": "dark"
          }
         }
        },
        "legend": {
         "tracegroupgap": 0
        },
        "margin": {
         "t": 60
        },
        "piecolorway": [
         "#4E79A7",
         "#F28E2B",
         "#E15759",
         "#76B7B2",
         "#59A14F",
         "#EDC949",
         "#AF7AA1",
         "#FF9DA7",
         "#9C755F",
         "#BAB0AC",
         "#1F77B4",
         "#FF7F0E",
         "#2CA02C",
         "#D62728",
         "#9467BD"
        ]
       },
       "config": {
        "plotlyServerURL": "https://plot.ly"
       }
      }
     },
     "metadata": {},
     "output_type": "display_data"
    },
    {
     "data": {
      "application/vnd.plotly.v1+json": {
       "data": [
        {
         "customdata": [],
         "domain": {
          "x": [
           0.0,
           1.0
          ],
          "y": [
           0.0,
           1.0
          ]
         },
         "hovertemplate": "outOfStock=%{customdata[0]}<extra></extra>",
         "labels": [],
         "legendgroup": "",
         "marker": {
          "colors": []
         },
         "name": "",
         "showlegend": true,
         "type": "pie"
        }
       ],
       "layout": {
        "template": {
         "data": {
          "histogram2dcontour": [
           {
            "type": "histogram2dcontour",
            "colorbar": {
             "outlinewidth": 0,
             "ticks": ""
            },
            "colorscale": [
             [
              0.0,
              "#0d0887"
             ],
             [
              0.1111111111111111,
              "#46039f"
             ],
             [
              0.2222222222222222,
              "#7201a8"
             ],
             [
              0.3333333333333333,
              "#9c179e"
             ],
             [
              0.4444444444444444,
              "#bd3786"
             ],
             [
              0.5555555555555556,
              "#d8576b"
             ],
             [
              0.6666666666666666,
              "#ed7953"
             ],
             [
              0.7777777777777778,
              "#fb9f3a"
             ],
             [
              0.8888888888888888,
              "#fdca26"
             ],
             [
              1.0,
              "#f0f921"
             ]
            ]
           }
          ],
          "choropleth": [
           {
            "type": "choropleth",
            "colorbar": {
             "outlinewidth": 0,
             "ticks": ""
            }
           }
          ],
          "histogram2d": [
           {
            "type": "histogram2d",
            "colorbar": {
             "outlinewidth": 0,
             "ticks": ""
            },
            "colorscale": [
             [
              0.0,
              "#0d0887"
             ],
             [
              0.1111111111111111,
              "#46039f"
             ],
             [
              0.2222222222222222,
              "#7201a8"
             ],
             [
              0.3333333333333333,
              "#9c179e"
             ],
             [
              0.4444444444444444,
              "#bd3786"
             ],
             [
              0.5555555555555556,
              "#d8576b"
             ],
             [
              0.6666666666666666,
              "#ed7953"
             ],
             [
              0.7777777777777778,
              "#fb9f3a"
             ],
             [
              0.8888888888888888,
              "#fdca26"
             ],
             [
              1.0,
              "#f0f921"
             ]
            ]
           }
          ],
          "heatmap": [
           {
            "type": "heatmap",
            "colorbar": {
             "outlinewidth": 0,
             "ticks": ""
            },
            "colorscale": [
             [
              0.0,
              "#0d0887"
             ],
             [
              0.1111111111111111,
              "#46039f"
             ],
             [
              0.2222222222222222,
              "#7201a8"
             ],
             [
              0.3333333333333333,
              "#9c179e"
             ],
             [
              0.4444444444444444,
              "#bd3786"
             ],
             [
              0.5555555555555556,
              "#d8576b"
             ],
             [
              0.6666666666666666,
              "#ed7953"
             ],
             [
              0.7777777777777778,
              "#fb9f3a"
             ],
             [
              0.8888888888888888,
              "#fdca26"
             ],
             [
              1.0,
              "#f0f921"
             ]
            ]
           }
          ],
          "contourcarpet": [
           {
            "type": "contourcarpet",
            "colorbar": {
             "outlinewidth": 0,
             "ticks": ""
            }
           }
          ],
          "contour": [
           {
            "type": "contour",
            "colorbar": {
             "outlinewidth": 0,
             "ticks": ""
            },
            "colorscale": [
             [
              0.0,
              "#0d0887"
             ],
             [
              0.1111111111111111,
              "#46039f"
             ],
             [
              0.2222222222222222,
              "#7201a8"
             ],
             [
              0.3333333333333333,
              "#9c179e"
             ],
             [
              0.4444444444444444,
              "#bd3786"
             ],
             [
              0.5555555555555556,
              "#d8576b"
             ],
             [
              0.6666666666666666,
              "#ed7953"
             ],
             [
              0.7777777777777778,
              "#fb9f3a"
             ],
             [
              0.8888888888888888,
              "#fdca26"
             ],
             [
              1.0,
              "#f0f921"
             ]
            ]
           }
          ],
          "surface": [
           {
            "type": "surface",
            "colorbar": {
             "outlinewidth": 0,
             "ticks": ""
            },
            "colorscale": [
             [
              0.0,
              "#0d0887"
             ],
             [
              0.1111111111111111,
              "#46039f"
             ],
             [
              0.2222222222222222,
              "#7201a8"
             ],
             [
              0.3333333333333333,
              "#9c179e"
             ],
             [
              0.4444444444444444,
              "#bd3786"
             ],
             [
              0.5555555555555556,
              "#d8576b"
             ],
             [
              0.6666666666666666,
              "#ed7953"
             ],
             [
              0.7777777777777778,
              "#fb9f3a"
             ],
             [
              0.8888888888888888,
              "#fdca26"
             ],
             [
              1.0,
              "#f0f921"
             ]
            ]
           }
          ],
          "mesh3d": [
           {
            "type": "mesh3d",
            "colorbar": {
             "outlinewidth": 0,
             "ticks": ""
            }
           }
          ],
          "scatter": [
           {
            "marker": {
             "line": {
              "color": "#283442"
             }
            },
            "type": "scatter"
           }
          ],
          "parcoords": [
           {
            "type": "parcoords",
            "line": {
             "colorbar": {
              "outlinewidth": 0,
              "ticks": ""
             }
            }
           }
          ],
          "scatterpolargl": [
           {
            "type": "scatterpolargl",
            "marker": {
             "colorbar": {
              "outlinewidth": 0,
              "ticks": ""
             }
            }
           }
          ],
          "bar": [
           {
            "error_x": {
             "color": "#f2f5fa"
            },
            "error_y": {
             "color": "#f2f5fa"
            },
            "marker": {
             "line": {
              "color": "rgb(17,17,17)",
              "width": 0.5
             },
             "pattern": {
              "fillmode": "overlay",
              "size": 10,
              "solidity": 0.2
             }
            },
            "type": "bar"
           }
          ],
          "scattergeo": [
           {
            "type": "scattergeo",
            "marker": {
             "colorbar": {
              "outlinewidth": 0,
              "ticks": ""
             }
            }
           }
          ],
          "scatterpolar": [
           {
            "type": "scatterpolar",
            "marker": {
             "colorbar": {
              "outlinewidth": 0,
              "ticks": ""
             }
            }
           }
          ],
          "histogram": [
           {
            "marker": {
             "pattern": {
              "fillmode": "overlay",
              "size": 10,
              "solidity": 0.2
             }
            },
            "type": "histogram"
           }
          ],
          "scattergl": [
           {
            "marker": {
             "line": {
              "color": "#283442"
             }
            },
            "type": "scattergl"
           }
          ],
          "scatter3d": [
           {
            "type": "scatter3d",
            "line": {
             "colorbar": {
              "outlinewidth": 0,
              "ticks": ""
             }
            },
            "marker": {
             "colorbar": {
              "outlinewidth": 0,
              "ticks": ""
             }
            }
           }
          ],
          "scattermap": [
           {
            "type": "scattermap",
            "marker": {
             "colorbar": {
              "outlinewidth": 0,
              "ticks": ""
             }
            }
           }
          ],
          "scattermapbox": [
           {
            "type": "scattermapbox",
            "marker": {
             "colorbar": {
              "outlinewidth": 0,
              "ticks": ""
             }
            }
           }
          ],
          "scatterternary": [
           {
            "type": "scatterternary",
            "marker": {
             "colorbar": {
              "outlinewidth": 0,
              "ticks": ""
             }
            }
           }
          ],
          "scattercarpet": [
           {
            "type": "scattercarpet",
            "marker": {
             "colorbar": {
              "outlinewidth": 0,
              "ticks": ""
             }
            }
           }
          ],
          "carpet": [
           {
            "aaxis": {
             "endlinecolor": "#A2B1C6",
             "gridcolor": "#506784",
             "linecolor": "#506784",
             "minorgridcolor": "#506784",
             "startlinecolor": "#A2B1C6"
            },
            "baxis": {
             "endlinecolor": "#A2B1C6",
             "gridcolor": "#506784",
             "linecolor": "#506784",
             "minorgridcolor": "#506784",
             "startlinecolor": "#A2B1C6"
            },
            "type": "carpet"
           }
          ],
          "table": [
           {
            "cells": {
             "fill": {
              "color": "#506784"
             },
             "line": {
              "color": "rgb(17,17,17)"
             }
            },
            "header": {
             "fill": {
              "color": "#2a3f5f"
             },
             "line": {
              "color": "rgb(17,17,17)"
             }
            },
            "type": "table"
           }
          ],
          "barpolar": [
           {
            "marker": {
             "line": {
              "color": "rgb(17,17,17)",
              "width": 0.5
             },
             "pattern": {
              "fillmode": "overlay",
              "size": 10,
              "solidity": 0.2
             }
            },
            "type": "barpolar"
           }
          ],
          "pie": [
           {
            "automargin": true,
            "type": "pie"
           }
          ]
         },
         "layout": {
          "autotypenumbers": "strict",
          "colorway": [
           "#636efa",
           "#EF553B",
           "#00cc96",
           "#ab63fa",
           "#FFA15A",
           "#19d3f3",
           "#FF6692",
           "#B6E880",
           "#FF97FF",
           "#FECB52"
          ],
          "font": {
           "color": "#f2f5fa"
          },
          "hovermode": "closest",
          "hoverlabel": {
           "align": "left"
          },
          "paper_bgcolor": "rgb(17,17,17)",
          "plot_bgcolor": "rgb(17,17,17)",
          "polar": {
           "bgcolor": "rgb(17,17,17)",
           "angularaxis": {
            "gridcolor": "#506784",
            "linecolor": "#506784",
            "ticks": ""
           },
           "radialaxis": {
            "gridcolor": "#506784",
            "linecolor": "#506784",
            "ticks": ""
           }
          },
          "ternary": {
           "bgcolor": "rgb(17,17,17)",
           "aaxis": {
            "gridcolor": "#506784",
            "linecolor": "#506784",
            "ticks": ""
           },
           "baxis": {
            "gridcolor": "#506784",
            "linecolor": "#506784",
            "ticks": ""
           },
           "caxis": {
            "gridcolor": "#506784",
            "linecolor": "#506784",
            "ticks": ""
           }
          },
          "coloraxis": {
           "colorbar": {
            "outlinewidth": 0,
            "ticks": ""
           }
          },
          "colorscale": {
           "sequential": [
            [
             0.0,
             "#0d0887"
            ],
            [
             0.1111111111111111,
             "#46039f"
            ],
            [
             0.2222222222222222,
             "#7201a8"
            ],
            [
             0.3333333333333333,
             "#9c179e"
            ],
            [
             0.4444444444444444,
             "#bd3786"
            ],
            [
             0.5555555555555556,
             "#d8576b"
            ],
            [
             0.6666666666666666,
             "#ed7953"
            ],
            [
             0.7777777777777778,
             "#fb9f3a"
            ],
            [
             0.8888888888888888,
             "#fdca26"
            ],
            [
             1.0,
             "#f0f921"
            ]
           ],
           "sequentialminus": [
            [
             0.0,
             "#0d0887"
            ],
            [
             0.1111111111111111,
             "#46039f"
            ],
            [
             0.2222222222222222,
             "#7201a8"
            ],
            [
             0.3333333333333333,
             "#9c179e"
            ],
            [
             0.4444444444444444,
             "#bd3786"
            ],
            [
             0.5555555555555556,
             "#d8576b"
            ],
            [
             0.6666666666666666,
             "#ed7953"
            ],
            [
             0.7777777777777778,
             "#fb9f3a"
            ],
            [
             0.8888888888888888,
             "#fdca26"
            ],
            [
             1.0,
             "#f0f921"
            ]
           ],
           "diverging": [
            [
             0,
             "#8e0152"
            ],
            [
             0.1,
             "#c51b7d"
            ],
            [
             0.2,
             "#de77ae"
            ],
            [
             0.3,
             "#f1b6da"
            ],
            [
             0.4,
             "#fde0ef"
            ],
            [
             0.5,
             "#f7f7f7"
            ],
            [
             0.6,
             "#e6f5d0"
            ],
            [
             0.7,
             "#b8e186"
            ],
            [
             0.8,
             "#7fbc41"
            ],
            [
             0.9,
             "#4d9221"
            ],
            [
             1,
             "#276419"
            ]
           ]
          },
          "xaxis": {
           "gridcolor": "#283442",
           "linecolor": "#506784",
           "ticks": "",
           "title": {
            "standoff": 15
           },
           "zerolinecolor": "#283442",
           "automargin": true,
           "zerolinewidth": 2
          },
          "yaxis": {
           "gridcolor": "#283442",
           "linecolor": "#506784",
           "ticks": "",
           "title": {
            "standoff": 15
           },
           "zerolinecolor": "#283442",
           "automargin": true,
           "zerolinewidth": 2
          },
          "scene": {
           "xaxis": {
            "backgroundcolor": "rgb(17,17,17)",
            "gridcolor": "#506784",
            "linecolor": "#506784",
            "showbackground": true,
            "ticks": "",
            "zerolinecolor": "#C8D4E3",
            "gridwidth": 2
           },
           "yaxis": {
            "backgroundcolor": "rgb(17,17,17)",
            "gridcolor": "#506784",
            "linecolor": "#506784",
            "showbackground": true,
            "ticks": "",
            "zerolinecolor": "#C8D4E3",
            "gridwidth": 2
           },
           "zaxis": {
            "backgroundcolor": "rgb(17,17,17)",
            "gridcolor": "#506784",
            "linecolor": "#506784",
            "showbackground": true,
            "ticks": "",
            "zerolinecolor": "#C8D4E3",
            "gridwidth": 2
           }
          },
          "shapedefaults": {
           "line": {
            "color": "#f2f5fa"
           }
          },
          "annotationdefaults": {
           "arrowcolor": "#f2f5fa",
           "arrowhead": 0,
           "arrowwidth": 1
          },
          "geo": {
           "bgcolor": "rgb(17,17,17)",
           "landcolor": "rgb(17,17,17)",
           "subunitcolor": "#506784",
           "showland": true,
           "showlakes": true,
           "lakecolor": "rgb(17,17,17)"
          },
          "title": {
           "x": 0.05
          },
          "updatemenudefaults": {
           "bgcolor": "#506784",
           "borderwidth": 0
          },
          "sliderdefaults": {
           "bgcolor": "#C8D4E3",
           "borderwidth": 1,
           "bordercolor": "rgb(17,17,17)",
           "tickwidth": 0
          },
          "mapbox": {
           "style": "dark"
          }
         }
        },
        "legend": {
         "tracegroupgap": 0
        },
        "margin": {
         "t": 60
        },
        "piecolorway": [
         "#4E79A7",
         "#F28E2B",
         "#E15759",
         "#76B7B2",
         "#59A14F",
         "#EDC949",
         "#AF7AA1",
         "#FF9DA7",
         "#9C755F",
         "#BAB0AC",
         "#1F77B4",
         "#FF7F0E",
         "#2CA02C",
         "#D62728",
         "#9467BD"
        ]
       },
       "config": {
        "plotlyServerURL": "https://plot.ly"
       }
      }
     },
     "metadata": {},
     "output_type": "display_data"
    },
    {
     "data": {
      "application/vnd.plotly.v1+json": {
       "data": [
        {
         "customdata": [],
         "domain": {
          "x": [
           0.0,
           1.0
          ],
          "y": [
           0.0,
           1.0
          ]
         },
         "hovertemplate": "outOfStock=%{customdata[0]}<extra></extra>",
         "labels": [],
         "legendgroup": "",
         "marker": {
          "colors": []
         },
         "name": "",
         "showlegend": true,
         "type": "pie"
        }
       ],
       "layout": {
        "template": {
         "data": {
          "histogram2dcontour": [
           {
            "type": "histogram2dcontour",
            "colorbar": {
             "outlinewidth": 0,
             "ticks": ""
            },
            "colorscale": [
             [
              0.0,
              "#0d0887"
             ],
             [
              0.1111111111111111,
              "#46039f"
             ],
             [
              0.2222222222222222,
              "#7201a8"
             ],
             [
              0.3333333333333333,
              "#9c179e"
             ],
             [
              0.4444444444444444,
              "#bd3786"
             ],
             [
              0.5555555555555556,
              "#d8576b"
             ],
             [
              0.6666666666666666,
              "#ed7953"
             ],
             [
              0.7777777777777778,
              "#fb9f3a"
             ],
             [
              0.8888888888888888,
              "#fdca26"
             ],
             [
              1.0,
              "#f0f921"
             ]
            ]
           }
          ],
          "choropleth": [
           {
            "type": "choropleth",
            "colorbar": {
             "outlinewidth": 0,
             "ticks": ""
            }
           }
          ],
          "histogram2d": [
           {
            "type": "histogram2d",
            "colorbar": {
             "outlinewidth": 0,
             "ticks": ""
            },
            "colorscale": [
             [
              0.0,
              "#0d0887"
             ],
             [
              0.1111111111111111,
              "#46039f"
             ],
             [
              0.2222222222222222,
              "#7201a8"
             ],
             [
              0.3333333333333333,
              "#9c179e"
             ],
             [
              0.4444444444444444,
              "#bd3786"
             ],
             [
              0.5555555555555556,
              "#d8576b"
             ],
             [
              0.6666666666666666,
              "#ed7953"
             ],
             [
              0.7777777777777778,
              "#fb9f3a"
             ],
             [
              0.8888888888888888,
              "#fdca26"
             ],
             [
              1.0,
              "#f0f921"
             ]
            ]
           }
          ],
          "heatmap": [
           {
            "type": "heatmap",
            "colorbar": {
             "outlinewidth": 0,
             "ticks": ""
            },
            "colorscale": [
             [
              0.0,
              "#0d0887"
             ],
             [
              0.1111111111111111,
              "#46039f"
             ],
             [
              0.2222222222222222,
              "#7201a8"
             ],
             [
              0.3333333333333333,
              "#9c179e"
             ],
             [
              0.4444444444444444,
              "#bd3786"
             ],
             [
              0.5555555555555556,
              "#d8576b"
             ],
             [
              0.6666666666666666,
              "#ed7953"
             ],
             [
              0.7777777777777778,
              "#fb9f3a"
             ],
             [
              0.8888888888888888,
              "#fdca26"
             ],
             [
              1.0,
              "#f0f921"
             ]
            ]
           }
          ],
          "contourcarpet": [
           {
            "type": "contourcarpet",
            "colorbar": {
             "outlinewidth": 0,
             "ticks": ""
            }
           }
          ],
          "contour": [
           {
            "type": "contour",
            "colorbar": {
             "outlinewidth": 0,
             "ticks": ""
            },
            "colorscale": [
             [
              0.0,
              "#0d0887"
             ],
             [
              0.1111111111111111,
              "#46039f"
             ],
             [
              0.2222222222222222,
              "#7201a8"
             ],
             [
              0.3333333333333333,
              "#9c179e"
             ],
             [
              0.4444444444444444,
              "#bd3786"
             ],
             [
              0.5555555555555556,
              "#d8576b"
             ],
             [
              0.6666666666666666,
              "#ed7953"
             ],
             [
              0.7777777777777778,
              "#fb9f3a"
             ],
             [
              0.8888888888888888,
              "#fdca26"
             ],
             [
              1.0,
              "#f0f921"
             ]
            ]
           }
          ],
          "surface": [
           {
            "type": "surface",
            "colorbar": {
             "outlinewidth": 0,
             "ticks": ""
            },
            "colorscale": [
             [
              0.0,
              "#0d0887"
             ],
             [
              0.1111111111111111,
              "#46039f"
             ],
             [
              0.2222222222222222,
              "#7201a8"
             ],
             [
              0.3333333333333333,
              "#9c179e"
             ],
             [
              0.4444444444444444,
              "#bd3786"
             ],
             [
              0.5555555555555556,
              "#d8576b"
             ],
             [
              0.6666666666666666,
              "#ed7953"
             ],
             [
              0.7777777777777778,
              "#fb9f3a"
             ],
             [
              0.8888888888888888,
              "#fdca26"
             ],
             [
              1.0,
              "#f0f921"
             ]
            ]
           }
          ],
          "mesh3d": [
           {
            "type": "mesh3d",
            "colorbar": {
             "outlinewidth": 0,
             "ticks": ""
            }
           }
          ],
          "scatter": [
           {
            "marker": {
             "line": {
              "color": "#283442"
             }
            },
            "type": "scatter"
           }
          ],
          "parcoords": [
           {
            "type": "parcoords",
            "line": {
             "colorbar": {
              "outlinewidth": 0,
              "ticks": ""
             }
            }
           }
          ],
          "scatterpolargl": [
           {
            "type": "scatterpolargl",
            "marker": {
             "colorbar": {
              "outlinewidth": 0,
              "ticks": ""
             }
            }
           }
          ],
          "bar": [
           {
            "error_x": {
             "color": "#f2f5fa"
            },
            "error_y": {
             "color": "#f2f5fa"
            },
            "marker": {
             "line": {
              "color": "rgb(17,17,17)",
              "width": 0.5
             },
             "pattern": {
              "fillmode": "overlay",
              "size": 10,
              "solidity": 0.2
             }
            },
            "type": "bar"
           }
          ],
          "scattergeo": [
           {
            "type": "scattergeo",
            "marker": {
             "colorbar": {
              "outlinewidth": 0,
              "ticks": ""
             }
            }
           }
          ],
          "scatterpolar": [
           {
            "type": "scatterpolar",
            "marker": {
             "colorbar": {
              "outlinewidth": 0,
              "ticks": ""
             }
            }
           }
          ],
          "histogram": [
           {
            "marker": {
             "pattern": {
              "fillmode": "overlay",
              "size": 10,
              "solidity": 0.2
             }
            },
            "type": "histogram"
           }
          ],
          "scattergl": [
           {
            "marker": {
             "line": {
              "color": "#283442"
             }
            },
            "type": "scattergl"
           }
          ],
          "scatter3d": [
           {
            "type": "scatter3d",
            "line": {
             "colorbar": {
              "outlinewidth": 0,
              "ticks": ""
             }
            },
            "marker": {
             "colorbar": {
              "outlinewidth": 0,
              "ticks": ""
             }
            }
           }
          ],
          "scattermap": [
           {
            "type": "scattermap",
            "marker": {
             "colorbar": {
              "outlinewidth": 0,
              "ticks": ""
             }
            }
           }
          ],
          "scattermapbox": [
           {
            "type": "scattermapbox",
            "marker": {
             "colorbar": {
              "outlinewidth": 0,
              "ticks": ""
             }
            }
           }
          ],
          "scatterternary": [
           {
            "type": "scatterternary",
            "marker": {
             "colorbar": {
              "outlinewidth": 0,
              "ticks": ""
             }
            }
           }
          ],
          "scattercarpet": [
           {
            "type": "scattercarpet",
            "marker": {
             "colorbar": {
              "outlinewidth": 0,
              "ticks": ""
             }
            }
           }
          ],
          "carpet": [
           {
            "aaxis": {
             "endlinecolor": "#A2B1C6",
             "gridcolor": "#506784",
             "linecolor": "#506784",
             "minorgridcolor": "#506784",
             "startlinecolor": "#A2B1C6"
            },
            "baxis": {
             "endlinecolor": "#A2B1C6",
             "gridcolor": "#506784",
             "linecolor": "#506784",
             "minorgridcolor": "#506784",
             "startlinecolor": "#A2B1C6"
            },
            "type": "carpet"
           }
          ],
          "table": [
           {
            "cells": {
             "fill": {
              "color": "#506784"
             },
             "line": {
              "color": "rgb(17,17,17)"
             }
            },
            "header": {
             "fill": {
              "color": "#2a3f5f"
             },
             "line": {
              "color": "rgb(17,17,17)"
             }
            },
            "type": "table"
           }
          ],
          "barpolar": [
           {
            "marker": {
             "line": {
              "color": "rgb(17,17,17)",
              "width": 0.5
             },
             "pattern": {
              "fillmode": "overlay",
              "size": 10,
              "solidity": 0.2
             }
            },
            "type": "barpolar"
           }
          ],
          "pie": [
           {
            "automargin": true,
            "type": "pie"
           }
          ]
         },
         "layout": {
          "autotypenumbers": "strict",
          "colorway": [
           "#636efa",
           "#EF553B",
           "#00cc96",
           "#ab63fa",
           "#FFA15A",
           "#19d3f3",
           "#FF6692",
           "#B6E880",
           "#FF97FF",
           "#FECB52"
          ],
          "font": {
           "color": "#f2f5fa"
          },
          "hovermode": "closest",
          "hoverlabel": {
           "align": "left"
          },
          "paper_bgcolor": "rgb(17,17,17)",
          "plot_bgcolor": "rgb(17,17,17)",
          "polar": {
           "bgcolor": "rgb(17,17,17)",
           "angularaxis": {
            "gridcolor": "#506784",
            "linecolor": "#506784",
            "ticks": ""
           },
           "radialaxis": {
            "gridcolor": "#506784",
            "linecolor": "#506784",
            "ticks": ""
           }
          },
          "ternary": {
           "bgcolor": "rgb(17,17,17)",
           "aaxis": {
            "gridcolor": "#506784",
            "linecolor": "#506784",
            "ticks": ""
           },
           "baxis": {
            "gridcolor": "#506784",
            "linecolor": "#506784",
            "ticks": ""
           },
           "caxis": {
            "gridcolor": "#506784",
            "linecolor": "#506784",
            "ticks": ""
           }
          },
          "coloraxis": {
           "colorbar": {
            "outlinewidth": 0,
            "ticks": ""
           }
          },
          "colorscale": {
           "sequential": [
            [
             0.0,
             "#0d0887"
            ],
            [
             0.1111111111111111,
             "#46039f"
            ],
            [
             0.2222222222222222,
             "#7201a8"
            ],
            [
             0.3333333333333333,
             "#9c179e"
            ],
            [
             0.4444444444444444,
             "#bd3786"
            ],
            [
             0.5555555555555556,
             "#d8576b"
            ],
            [
             0.6666666666666666,
             "#ed7953"
            ],
            [
             0.7777777777777778,
             "#fb9f3a"
            ],
            [
             0.8888888888888888,
             "#fdca26"
            ],
            [
             1.0,
             "#f0f921"
            ]
           ],
           "sequentialminus": [
            [
             0.0,
             "#0d0887"
            ],
            [
             0.1111111111111111,
             "#46039f"
            ],
            [
             0.2222222222222222,
             "#7201a8"
            ],
            [
             0.3333333333333333,
             "#9c179e"
            ],
            [
             0.4444444444444444,
             "#bd3786"
            ],
            [
             0.5555555555555556,
             "#d8576b"
            ],
            [
             0.6666666666666666,
             "#ed7953"
            ],
            [
             0.7777777777777778,
             "#fb9f3a"
            ],
            [
             0.8888888888888888,
             "#fdca26"
            ],
            [
             1.0,
             "#f0f921"
            ]
           ],
           "diverging": [
            [
             0,
             "#8e0152"
            ],
            [
             0.1,
             "#c51b7d"
            ],
            [
             0.2,
             "#de77ae"
            ],
            [
             0.3,
             "#f1b6da"
            ],
            [
             0.4,
             "#fde0ef"
            ],
            [
             0.5,
             "#f7f7f7"
            ],
            [
             0.6,
             "#e6f5d0"
            ],
            [
             0.7,
             "#b8e186"
            ],
            [
             0.8,
             "#7fbc41"
            ],
            [
             0.9,
             "#4d9221"
            ],
            [
             1,
             "#276419"
            ]
           ]
          },
          "xaxis": {
           "gridcolor": "#283442",
           "linecolor": "#506784",
           "ticks": "",
           "title": {
            "standoff": 15
           },
           "zerolinecolor": "#283442",
           "automargin": true,
           "zerolinewidth": 2
          },
          "yaxis": {
           "gridcolor": "#283442",
           "linecolor": "#506784",
           "ticks": "",
           "title": {
            "standoff": 15
           },
           "zerolinecolor": "#283442",
           "automargin": true,
           "zerolinewidth": 2
          },
          "scene": {
           "xaxis": {
            "backgroundcolor": "rgb(17,17,17)",
            "gridcolor": "#506784",
            "linecolor": "#506784",
            "showbackground": true,
            "ticks": "",
            "zerolinecolor": "#C8D4E3",
            "gridwidth": 2
           },
           "yaxis": {
            "backgroundcolor": "rgb(17,17,17)",
            "gridcolor": "#506784",
            "linecolor": "#506784",
            "showbackground": true,
            "ticks": "",
            "zerolinecolor": "#C8D4E3",
            "gridwidth": 2
           },
           "zaxis": {
            "backgroundcolor": "rgb(17,17,17)",
            "gridcolor": "#506784",
            "linecolor": "#506784",
            "showbackground": true,
            "ticks": "",
            "zerolinecolor": "#C8D4E3",
            "gridwidth": 2
           }
          },
          "shapedefaults": {
           "line": {
            "color": "#f2f5fa"
           }
          },
          "annotationdefaults": {
           "arrowcolor": "#f2f5fa",
           "arrowhead": 0,
           "arrowwidth": 1
          },
          "geo": {
           "bgcolor": "rgb(17,17,17)",
           "landcolor": "rgb(17,17,17)",
           "subunitcolor": "#506784",
           "showland": true,
           "showlakes": true,
           "lakecolor": "rgb(17,17,17)"
          },
          "title": {
           "x": 0.05
          },
          "updatemenudefaults": {
           "bgcolor": "#506784",
           "borderwidth": 0
          },
          "sliderdefaults": {
           "bgcolor": "#C8D4E3",
           "borderwidth": 1,
           "bordercolor": "rgb(17,17,17)",
           "tickwidth": 0
          },
          "mapbox": {
           "style": "dark"
          }
         }
        },
        "legend": {
         "tracegroupgap": 0
        },
        "margin": {
         "t": 60
        },
        "piecolorway": [
         "#4E79A7",
         "#F28E2B",
         "#E15759",
         "#76B7B2",
         "#59A14F",
         "#EDC949",
         "#AF7AA1",
         "#FF9DA7",
         "#9C755F",
         "#BAB0AC",
         "#1F77B4",
         "#FF7F0E",
         "#2CA02C",
         "#D62728",
         "#9467BD"
        ]
       },
       "config": {
        "plotlyServerURL": "https://plot.ly"
       }
      }
     },
     "metadata": {},
     "output_type": "display_data"
    },
    {
     "data": {
      "application/vnd.plotly.v1+json": {
       "data": [
        {
         "customdata": [],
         "domain": {
          "x": [
           0.0,
           1.0
          ],
          "y": [
           0.0,
           1.0
          ]
         },
         "hovertemplate": "outOfStock=%{customdata[0]}<extra></extra>",
         "labels": [],
         "legendgroup": "",
         "marker": {
          "colors": []
         },
         "name": "",
         "showlegend": true,
         "type": "pie"
        }
       ],
       "layout": {
        "template": {
         "data": {
          "histogram2dcontour": [
           {
            "type": "histogram2dcontour",
            "colorbar": {
             "outlinewidth": 0,
             "ticks": ""
            },
            "colorscale": [
             [
              0.0,
              "#0d0887"
             ],
             [
              0.1111111111111111,
              "#46039f"
             ],
             [
              0.2222222222222222,
              "#7201a8"
             ],
             [
              0.3333333333333333,
              "#9c179e"
             ],
             [
              0.4444444444444444,
              "#bd3786"
             ],
             [
              0.5555555555555556,
              "#d8576b"
             ],
             [
              0.6666666666666666,
              "#ed7953"
             ],
             [
              0.7777777777777778,
              "#fb9f3a"
             ],
             [
              0.8888888888888888,
              "#fdca26"
             ],
             [
              1.0,
              "#f0f921"
             ]
            ]
           }
          ],
          "choropleth": [
           {
            "type": "choropleth",
            "colorbar": {
             "outlinewidth": 0,
             "ticks": ""
            }
           }
          ],
          "histogram2d": [
           {
            "type": "histogram2d",
            "colorbar": {
             "outlinewidth": 0,
             "ticks": ""
            },
            "colorscale": [
             [
              0.0,
              "#0d0887"
             ],
             [
              0.1111111111111111,
              "#46039f"
             ],
             [
              0.2222222222222222,
              "#7201a8"
             ],
             [
              0.3333333333333333,
              "#9c179e"
             ],
             [
              0.4444444444444444,
              "#bd3786"
             ],
             [
              0.5555555555555556,
              "#d8576b"
             ],
             [
              0.6666666666666666,
              "#ed7953"
             ],
             [
              0.7777777777777778,
              "#fb9f3a"
             ],
             [
              0.8888888888888888,
              "#fdca26"
             ],
             [
              1.0,
              "#f0f921"
             ]
            ]
           }
          ],
          "heatmap": [
           {
            "type": "heatmap",
            "colorbar": {
             "outlinewidth": 0,
             "ticks": ""
            },
            "colorscale": [
             [
              0.0,
              "#0d0887"
             ],
             [
              0.1111111111111111,
              "#46039f"
             ],
             [
              0.2222222222222222,
              "#7201a8"
             ],
             [
              0.3333333333333333,
              "#9c179e"
             ],
             [
              0.4444444444444444,
              "#bd3786"
             ],
             [
              0.5555555555555556,
              "#d8576b"
             ],
             [
              0.6666666666666666,
              "#ed7953"
             ],
             [
              0.7777777777777778,
              "#fb9f3a"
             ],
             [
              0.8888888888888888,
              "#fdca26"
             ],
             [
              1.0,
              "#f0f921"
             ]
            ]
           }
          ],
          "contourcarpet": [
           {
            "type": "contourcarpet",
            "colorbar": {
             "outlinewidth": 0,
             "ticks": ""
            }
           }
          ],
          "contour": [
           {
            "type": "contour",
            "colorbar": {
             "outlinewidth": 0,
             "ticks": ""
            },
            "colorscale": [
             [
              0.0,
              "#0d0887"
             ],
             [
              0.1111111111111111,
              "#46039f"
             ],
             [
              0.2222222222222222,
              "#7201a8"
             ],
             [
              0.3333333333333333,
              "#9c179e"
             ],
             [
              0.4444444444444444,
              "#bd3786"
             ],
             [
              0.5555555555555556,
              "#d8576b"
             ],
             [
              0.6666666666666666,
              "#ed7953"
             ],
             [
              0.7777777777777778,
              "#fb9f3a"
             ],
             [
              0.8888888888888888,
              "#fdca26"
             ],
             [
              1.0,
              "#f0f921"
             ]
            ]
           }
          ],
          "surface": [
           {
            "type": "surface",
            "colorbar": {
             "outlinewidth": 0,
             "ticks": ""
            },
            "colorscale": [
             [
              0.0,
              "#0d0887"
             ],
             [
              0.1111111111111111,
              "#46039f"
             ],
             [
              0.2222222222222222,
              "#7201a8"
             ],
             [
              0.3333333333333333,
              "#9c179e"
             ],
             [
              0.4444444444444444,
              "#bd3786"
             ],
             [
              0.5555555555555556,
              "#d8576b"
             ],
             [
              0.6666666666666666,
              "#ed7953"
             ],
             [
              0.7777777777777778,
              "#fb9f3a"
             ],
             [
              0.8888888888888888,
              "#fdca26"
             ],
             [
              1.0,
              "#f0f921"
             ]
            ]
           }
          ],
          "mesh3d": [
           {
            "type": "mesh3d",
            "colorbar": {
             "outlinewidth": 0,
             "ticks": ""
            }
           }
          ],
          "scatter": [
           {
            "marker": {
             "line": {
              "color": "#283442"
             }
            },
            "type": "scatter"
           }
          ],
          "parcoords": [
           {
            "type": "parcoords",
            "line": {
             "colorbar": {
              "outlinewidth": 0,
              "ticks": ""
             }
            }
           }
          ],
          "scatterpolargl": [
           {
            "type": "scatterpolargl",
            "marker": {
             "colorbar": {
              "outlinewidth": 0,
              "ticks": ""
             }
            }
           }
          ],
          "bar": [
           {
            "error_x": {
             "color": "#f2f5fa"
            },
            "error_y": {
             "color": "#f2f5fa"
            },
            "marker": {
             "line": {
              "color": "rgb(17,17,17)",
              "width": 0.5
             },
             "pattern": {
              "fillmode": "overlay",
              "size": 10,
              "solidity": 0.2
             }
            },
            "type": "bar"
           }
          ],
          "scattergeo": [
           {
            "type": "scattergeo",
            "marker": {
             "colorbar": {
              "outlinewidth": 0,
              "ticks": ""
             }
            }
           }
          ],
          "scatterpolar": [
           {
            "type": "scatterpolar",
            "marker": {
             "colorbar": {
              "outlinewidth": 0,
              "ticks": ""
             }
            }
           }
          ],
          "histogram": [
           {
            "marker": {
             "pattern": {
              "fillmode": "overlay",
              "size": 10,
              "solidity": 0.2
             }
            },
            "type": "histogram"
           }
          ],
          "scattergl": [
           {
            "marker": {
             "line": {
              "color": "#283442"
             }
            },
            "type": "scattergl"
           }
          ],
          "scatter3d": [
           {
            "type": "scatter3d",
            "line": {
             "colorbar": {
              "outlinewidth": 0,
              "ticks": ""
             }
            },
            "marker": {
             "colorbar": {
              "outlinewidth": 0,
              "ticks": ""
             }
            }
           }
          ],
          "scattermap": [
           {
            "type": "scattermap",
            "marker": {
             "colorbar": {
              "outlinewidth": 0,
              "ticks": ""
             }
            }
           }
          ],
          "scattermapbox": [
           {
            "type": "scattermapbox",
            "marker": {
             "colorbar": {
              "outlinewidth": 0,
              "ticks": ""
             }
            }
           }
          ],
          "scatterternary": [
           {
            "type": "scatterternary",
            "marker": {
             "colorbar": {
              "outlinewidth": 0,
              "ticks": ""
             }
            }
           }
          ],
          "scattercarpet": [
           {
            "type": "scattercarpet",
            "marker": {
             "colorbar": {
              "outlinewidth": 0,
              "ticks": ""
             }
            }
           }
          ],
          "carpet": [
           {
            "aaxis": {
             "endlinecolor": "#A2B1C6",
             "gridcolor": "#506784",
             "linecolor": "#506784",
             "minorgridcolor": "#506784",
             "startlinecolor": "#A2B1C6"
            },
            "baxis": {
             "endlinecolor": "#A2B1C6",
             "gridcolor": "#506784",
             "linecolor": "#506784",
             "minorgridcolor": "#506784",
             "startlinecolor": "#A2B1C6"
            },
            "type": "carpet"
           }
          ],
          "table": [
           {
            "cells": {
             "fill": {
              "color": "#506784"
             },
             "line": {
              "color": "rgb(17,17,17)"
             }
            },
            "header": {
             "fill": {
              "color": "#2a3f5f"
             },
             "line": {
              "color": "rgb(17,17,17)"
             }
            },
            "type": "table"
           }
          ],
          "barpolar": [
           {
            "marker": {
             "line": {
              "color": "rgb(17,17,17)",
              "width": 0.5
             },
             "pattern": {
              "fillmode": "overlay",
              "size": 10,
              "solidity": 0.2
             }
            },
            "type": "barpolar"
           }
          ],
          "pie": [
           {
            "automargin": true,
            "type": "pie"
           }
          ]
         },
         "layout": {
          "autotypenumbers": "strict",
          "colorway": [
           "#636efa",
           "#EF553B",
           "#00cc96",
           "#ab63fa",
           "#FFA15A",
           "#19d3f3",
           "#FF6692",
           "#B6E880",
           "#FF97FF",
           "#FECB52"
          ],
          "font": {
           "color": "#f2f5fa"
          },
          "hovermode": "closest",
          "hoverlabel": {
           "align": "left"
          },
          "paper_bgcolor": "rgb(17,17,17)",
          "plot_bgcolor": "rgb(17,17,17)",
          "polar": {
           "bgcolor": "rgb(17,17,17)",
           "angularaxis": {
            "gridcolor": "#506784",
            "linecolor": "#506784",
            "ticks": ""
           },
           "radialaxis": {
            "gridcolor": "#506784",
            "linecolor": "#506784",
            "ticks": ""
           }
          },
          "ternary": {
           "bgcolor": "rgb(17,17,17)",
           "aaxis": {
            "gridcolor": "#506784",
            "linecolor": "#506784",
            "ticks": ""
           },
           "baxis": {
            "gridcolor": "#506784",
            "linecolor": "#506784",
            "ticks": ""
           },
           "caxis": {
            "gridcolor": "#506784",
            "linecolor": "#506784",
            "ticks": ""
           }
          },
          "coloraxis": {
           "colorbar": {
            "outlinewidth": 0,
            "ticks": ""
           }
          },
          "colorscale": {
           "sequential": [
            [
             0.0,
             "#0d0887"
            ],
            [
             0.1111111111111111,
             "#46039f"
            ],
            [
             0.2222222222222222,
             "#7201a8"
            ],
            [
             0.3333333333333333,
             "#9c179e"
            ],
            [
             0.4444444444444444,
             "#bd3786"
            ],
            [
             0.5555555555555556,
             "#d8576b"
            ],
            [
             0.6666666666666666,
             "#ed7953"
            ],
            [
             0.7777777777777778,
             "#fb9f3a"
            ],
            [
             0.8888888888888888,
             "#fdca26"
            ],
            [
             1.0,
             "#f0f921"
            ]
           ],
           "sequentialminus": [
            [
             0.0,
             "#0d0887"
            ],
            [
             0.1111111111111111,
             "#46039f"
            ],
            [
             0.2222222222222222,
             "#7201a8"
            ],
            [
             0.3333333333333333,
             "#9c179e"
            ],
            [
             0.4444444444444444,
             "#bd3786"
            ],
            [
             0.5555555555555556,
             "#d8576b"
            ],
            [
             0.6666666666666666,
             "#ed7953"
            ],
            [
             0.7777777777777778,
             "#fb9f3a"
            ],
            [
             0.8888888888888888,
             "#fdca26"
            ],
            [
             1.0,
             "#f0f921"
            ]
           ],
           "diverging": [
            [
             0,
             "#8e0152"
            ],
            [
             0.1,
             "#c51b7d"
            ],
            [
             0.2,
             "#de77ae"
            ],
            [
             0.3,
             "#f1b6da"
            ],
            [
             0.4,
             "#fde0ef"
            ],
            [
             0.5,
             "#f7f7f7"
            ],
            [
             0.6,
             "#e6f5d0"
            ],
            [
             0.7,
             "#b8e186"
            ],
            [
             0.8,
             "#7fbc41"
            ],
            [
             0.9,
             "#4d9221"
            ],
            [
             1,
             "#276419"
            ]
           ]
          },
          "xaxis": {
           "gridcolor": "#283442",
           "linecolor": "#506784",
           "ticks": "",
           "title": {
            "standoff": 15
           },
           "zerolinecolor": "#283442",
           "automargin": true,
           "zerolinewidth": 2
          },
          "yaxis": {
           "gridcolor": "#283442",
           "linecolor": "#506784",
           "ticks": "",
           "title": {
            "standoff": 15
           },
           "zerolinecolor": "#283442",
           "automargin": true,
           "zerolinewidth": 2
          },
          "scene": {
           "xaxis": {
            "backgroundcolor": "rgb(17,17,17)",
            "gridcolor": "#506784",
            "linecolor": "#506784",
            "showbackground": true,
            "ticks": "",
            "zerolinecolor": "#C8D4E3",
            "gridwidth": 2
           },
           "yaxis": {
            "backgroundcolor": "rgb(17,17,17)",
            "gridcolor": "#506784",
            "linecolor": "#506784",
            "showbackground": true,
            "ticks": "",
            "zerolinecolor": "#C8D4E3",
            "gridwidth": 2
           },
           "zaxis": {
            "backgroundcolor": "rgb(17,17,17)",
            "gridcolor": "#506784",
            "linecolor": "#506784",
            "showbackground": true,
            "ticks": "",
            "zerolinecolor": "#C8D4E3",
            "gridwidth": 2
           }
          },
          "shapedefaults": {
           "line": {
            "color": "#f2f5fa"
           }
          },
          "annotationdefaults": {
           "arrowcolor": "#f2f5fa",
           "arrowhead": 0,
           "arrowwidth": 1
          },
          "geo": {
           "bgcolor": "rgb(17,17,17)",
           "landcolor": "rgb(17,17,17)",
           "subunitcolor": "#506784",
           "showland": true,
           "showlakes": true,
           "lakecolor": "rgb(17,17,17)"
          },
          "title": {
           "x": 0.05
          },
          "updatemenudefaults": {
           "bgcolor": "#506784",
           "borderwidth": 0
          },
          "sliderdefaults": {
           "bgcolor": "#C8D4E3",
           "borderwidth": 1,
           "bordercolor": "rgb(17,17,17)",
           "tickwidth": 0
          },
          "mapbox": {
           "style": "dark"
          }
         }
        },
        "legend": {
         "tracegroupgap": 0
        },
        "margin": {
         "t": 60
        },
        "piecolorway": [
         "#4E79A7",
         "#F28E2B",
         "#E15759",
         "#76B7B2",
         "#59A14F",
         "#EDC949",
         "#AF7AA1",
         "#FF9DA7",
         "#9C755F",
         "#BAB0AC",
         "#1F77B4",
         "#FF7F0E",
         "#2CA02C",
         "#D62728",
         "#9467BD"
        ]
       },
       "config": {
        "plotlyServerURL": "https://plot.ly"
       }
      }
     },
     "metadata": {},
     "output_type": "display_data"
    },
    {
     "data": {
      "application/vnd.plotly.v1+json": {
       "data": [
        {
         "customdata": [],
         "domain": {
          "x": [
           0.0,
           1.0
          ],
          "y": [
           0.0,
           1.0
          ]
         },
         "hovertemplate": "outOfStock=%{customdata[0]}<extra></extra>",
         "labels": [],
         "legendgroup": "",
         "marker": {
          "colors": []
         },
         "name": "",
         "showlegend": true,
         "type": "pie"
        }
       ],
       "layout": {
        "template": {
         "data": {
          "histogram2dcontour": [
           {
            "type": "histogram2dcontour",
            "colorbar": {
             "outlinewidth": 0,
             "ticks": ""
            },
            "colorscale": [
             [
              0.0,
              "#0d0887"
             ],
             [
              0.1111111111111111,
              "#46039f"
             ],
             [
              0.2222222222222222,
              "#7201a8"
             ],
             [
              0.3333333333333333,
              "#9c179e"
             ],
             [
              0.4444444444444444,
              "#bd3786"
             ],
             [
              0.5555555555555556,
              "#d8576b"
             ],
             [
              0.6666666666666666,
              "#ed7953"
             ],
             [
              0.7777777777777778,
              "#fb9f3a"
             ],
             [
              0.8888888888888888,
              "#fdca26"
             ],
             [
              1.0,
              "#f0f921"
             ]
            ]
           }
          ],
          "choropleth": [
           {
            "type": "choropleth",
            "colorbar": {
             "outlinewidth": 0,
             "ticks": ""
            }
           }
          ],
          "histogram2d": [
           {
            "type": "histogram2d",
            "colorbar": {
             "outlinewidth": 0,
             "ticks": ""
            },
            "colorscale": [
             [
              0.0,
              "#0d0887"
             ],
             [
              0.1111111111111111,
              "#46039f"
             ],
             [
              0.2222222222222222,
              "#7201a8"
             ],
             [
              0.3333333333333333,
              "#9c179e"
             ],
             [
              0.4444444444444444,
              "#bd3786"
             ],
             [
              0.5555555555555556,
              "#d8576b"
             ],
             [
              0.6666666666666666,
              "#ed7953"
             ],
             [
              0.7777777777777778,
              "#fb9f3a"
             ],
             [
              0.8888888888888888,
              "#fdca26"
             ],
             [
              1.0,
              "#f0f921"
             ]
            ]
           }
          ],
          "heatmap": [
           {
            "type": "heatmap",
            "colorbar": {
             "outlinewidth": 0,
             "ticks": ""
            },
            "colorscale": [
             [
              0.0,
              "#0d0887"
             ],
             [
              0.1111111111111111,
              "#46039f"
             ],
             [
              0.2222222222222222,
              "#7201a8"
             ],
             [
              0.3333333333333333,
              "#9c179e"
             ],
             [
              0.4444444444444444,
              "#bd3786"
             ],
             [
              0.5555555555555556,
              "#d8576b"
             ],
             [
              0.6666666666666666,
              "#ed7953"
             ],
             [
              0.7777777777777778,
              "#fb9f3a"
             ],
             [
              0.8888888888888888,
              "#fdca26"
             ],
             [
              1.0,
              "#f0f921"
             ]
            ]
           }
          ],
          "contourcarpet": [
           {
            "type": "contourcarpet",
            "colorbar": {
             "outlinewidth": 0,
             "ticks": ""
            }
           }
          ],
          "contour": [
           {
            "type": "contour",
            "colorbar": {
             "outlinewidth": 0,
             "ticks": ""
            },
            "colorscale": [
             [
              0.0,
              "#0d0887"
             ],
             [
              0.1111111111111111,
              "#46039f"
             ],
             [
              0.2222222222222222,
              "#7201a8"
             ],
             [
              0.3333333333333333,
              "#9c179e"
             ],
             [
              0.4444444444444444,
              "#bd3786"
             ],
             [
              0.5555555555555556,
              "#d8576b"
             ],
             [
              0.6666666666666666,
              "#ed7953"
             ],
             [
              0.7777777777777778,
              "#fb9f3a"
             ],
             [
              0.8888888888888888,
              "#fdca26"
             ],
             [
              1.0,
              "#f0f921"
             ]
            ]
           }
          ],
          "surface": [
           {
            "type": "surface",
            "colorbar": {
             "outlinewidth": 0,
             "ticks": ""
            },
            "colorscale": [
             [
              0.0,
              "#0d0887"
             ],
             [
              0.1111111111111111,
              "#46039f"
             ],
             [
              0.2222222222222222,
              "#7201a8"
             ],
             [
              0.3333333333333333,
              "#9c179e"
             ],
             [
              0.4444444444444444,
              "#bd3786"
             ],
             [
              0.5555555555555556,
              "#d8576b"
             ],
             [
              0.6666666666666666,
              "#ed7953"
             ],
             [
              0.7777777777777778,
              "#fb9f3a"
             ],
             [
              0.8888888888888888,
              "#fdca26"
             ],
             [
              1.0,
              "#f0f921"
             ]
            ]
           }
          ],
          "mesh3d": [
           {
            "type": "mesh3d",
            "colorbar": {
             "outlinewidth": 0,
             "ticks": ""
            }
           }
          ],
          "scatter": [
           {
            "marker": {
             "line": {
              "color": "#283442"
             }
            },
            "type": "scatter"
           }
          ],
          "parcoords": [
           {
            "type": "parcoords",
            "line": {
             "colorbar": {
              "outlinewidth": 0,
              "ticks": ""
             }
            }
           }
          ],
          "scatterpolargl": [
           {
            "type": "scatterpolargl",
            "marker": {
             "colorbar": {
              "outlinewidth": 0,
              "ticks": ""
             }
            }
           }
          ],
          "bar": [
           {
            "error_x": {
             "color": "#f2f5fa"
            },
            "error_y": {
             "color": "#f2f5fa"
            },
            "marker": {
             "line": {
              "color": "rgb(17,17,17)",
              "width": 0.5
             },
             "pattern": {
              "fillmode": "overlay",
              "size": 10,
              "solidity": 0.2
             }
            },
            "type": "bar"
           }
          ],
          "scattergeo": [
           {
            "type": "scattergeo",
            "marker": {
             "colorbar": {
              "outlinewidth": 0,
              "ticks": ""
             }
            }
           }
          ],
          "scatterpolar": [
           {
            "type": "scatterpolar",
            "marker": {
             "colorbar": {
              "outlinewidth": 0,
              "ticks": ""
             }
            }
           }
          ],
          "histogram": [
           {
            "marker": {
             "pattern": {
              "fillmode": "overlay",
              "size": 10,
              "solidity": 0.2
             }
            },
            "type": "histogram"
           }
          ],
          "scattergl": [
           {
            "marker": {
             "line": {
              "color": "#283442"
             }
            },
            "type": "scattergl"
           }
          ],
          "scatter3d": [
           {
            "type": "scatter3d",
            "line": {
             "colorbar": {
              "outlinewidth": 0,
              "ticks": ""
             }
            },
            "marker": {
             "colorbar": {
              "outlinewidth": 0,
              "ticks": ""
             }
            }
           }
          ],
          "scattermap": [
           {
            "type": "scattermap",
            "marker": {
             "colorbar": {
              "outlinewidth": 0,
              "ticks": ""
             }
            }
           }
          ],
          "scattermapbox": [
           {
            "type": "scattermapbox",
            "marker": {
             "colorbar": {
              "outlinewidth": 0,
              "ticks": ""
             }
            }
           }
          ],
          "scatterternary": [
           {
            "type": "scatterternary",
            "marker": {
             "colorbar": {
              "outlinewidth": 0,
              "ticks": ""
             }
            }
           }
          ],
          "scattercarpet": [
           {
            "type": "scattercarpet",
            "marker": {
             "colorbar": {
              "outlinewidth": 0,
              "ticks": ""
             }
            }
           }
          ],
          "carpet": [
           {
            "aaxis": {
             "endlinecolor": "#A2B1C6",
             "gridcolor": "#506784",
             "linecolor": "#506784",
             "minorgridcolor": "#506784",
             "startlinecolor": "#A2B1C6"
            },
            "baxis": {
             "endlinecolor": "#A2B1C6",
             "gridcolor": "#506784",
             "linecolor": "#506784",
             "minorgridcolor": "#506784",
             "startlinecolor": "#A2B1C6"
            },
            "type": "carpet"
           }
          ],
          "table": [
           {
            "cells": {
             "fill": {
              "color": "#506784"
             },
             "line": {
              "color": "rgb(17,17,17)"
             }
            },
            "header": {
             "fill": {
              "color": "#2a3f5f"
             },
             "line": {
              "color": "rgb(17,17,17)"
             }
            },
            "type": "table"
           }
          ],
          "barpolar": [
           {
            "marker": {
             "line": {
              "color": "rgb(17,17,17)",
              "width": 0.5
             },
             "pattern": {
              "fillmode": "overlay",
              "size": 10,
              "solidity": 0.2
             }
            },
            "type": "barpolar"
           }
          ],
          "pie": [
           {
            "automargin": true,
            "type": "pie"
           }
          ]
         },
         "layout": {
          "autotypenumbers": "strict",
          "colorway": [
           "#636efa",
           "#EF553B",
           "#00cc96",
           "#ab63fa",
           "#FFA15A",
           "#19d3f3",
           "#FF6692",
           "#B6E880",
           "#FF97FF",
           "#FECB52"
          ],
          "font": {
           "color": "#f2f5fa"
          },
          "hovermode": "closest",
          "hoverlabel": {
           "align": "left"
          },
          "paper_bgcolor": "rgb(17,17,17)",
          "plot_bgcolor": "rgb(17,17,17)",
          "polar": {
           "bgcolor": "rgb(17,17,17)",
           "angularaxis": {
            "gridcolor": "#506784",
            "linecolor": "#506784",
            "ticks": ""
           },
           "radialaxis": {
            "gridcolor": "#506784",
            "linecolor": "#506784",
            "ticks": ""
           }
          },
          "ternary": {
           "bgcolor": "rgb(17,17,17)",
           "aaxis": {
            "gridcolor": "#506784",
            "linecolor": "#506784",
            "ticks": ""
           },
           "baxis": {
            "gridcolor": "#506784",
            "linecolor": "#506784",
            "ticks": ""
           },
           "caxis": {
            "gridcolor": "#506784",
            "linecolor": "#506784",
            "ticks": ""
           }
          },
          "coloraxis": {
           "colorbar": {
            "outlinewidth": 0,
            "ticks": ""
           }
          },
          "colorscale": {
           "sequential": [
            [
             0.0,
             "#0d0887"
            ],
            [
             0.1111111111111111,
             "#46039f"
            ],
            [
             0.2222222222222222,
             "#7201a8"
            ],
            [
             0.3333333333333333,
             "#9c179e"
            ],
            [
             0.4444444444444444,
             "#bd3786"
            ],
            [
             0.5555555555555556,
             "#d8576b"
            ],
            [
             0.6666666666666666,
             "#ed7953"
            ],
            [
             0.7777777777777778,
             "#fb9f3a"
            ],
            [
             0.8888888888888888,
             "#fdca26"
            ],
            [
             1.0,
             "#f0f921"
            ]
           ],
           "sequentialminus": [
            [
             0.0,
             "#0d0887"
            ],
            [
             0.1111111111111111,
             "#46039f"
            ],
            [
             0.2222222222222222,
             "#7201a8"
            ],
            [
             0.3333333333333333,
             "#9c179e"
            ],
            [
             0.4444444444444444,
             "#bd3786"
            ],
            [
             0.5555555555555556,
             "#d8576b"
            ],
            [
             0.6666666666666666,
             "#ed7953"
            ],
            [
             0.7777777777777778,
             "#fb9f3a"
            ],
            [
             0.8888888888888888,
             "#fdca26"
            ],
            [
             1.0,
             "#f0f921"
            ]
           ],
           "diverging": [
            [
             0,
             "#8e0152"
            ],
            [
             0.1,
             "#c51b7d"
            ],
            [
             0.2,
             "#de77ae"
            ],
            [
             0.3,
             "#f1b6da"
            ],
            [
             0.4,
             "#fde0ef"
            ],
            [
             0.5,
             "#f7f7f7"
            ],
            [
             0.6,
             "#e6f5d0"
            ],
            [
             0.7,
             "#b8e186"
            ],
            [
             0.8,
             "#7fbc41"
            ],
            [
             0.9,
             "#4d9221"
            ],
            [
             1,
             "#276419"
            ]
           ]
          },
          "xaxis": {
           "gridcolor": "#283442",
           "linecolor": "#506784",
           "ticks": "",
           "title": {
            "standoff": 15
           },
           "zerolinecolor": "#283442",
           "automargin": true,
           "zerolinewidth": 2
          },
          "yaxis": {
           "gridcolor": "#283442",
           "linecolor": "#506784",
           "ticks": "",
           "title": {
            "standoff": 15
           },
           "zerolinecolor": "#283442",
           "automargin": true,
           "zerolinewidth": 2
          },
          "scene": {
           "xaxis": {
            "backgroundcolor": "rgb(17,17,17)",
            "gridcolor": "#506784",
            "linecolor": "#506784",
            "showbackground": true,
            "ticks": "",
            "zerolinecolor": "#C8D4E3",
            "gridwidth": 2
           },
           "yaxis": {
            "backgroundcolor": "rgb(17,17,17)",
            "gridcolor": "#506784",
            "linecolor": "#506784",
            "showbackground": true,
            "ticks": "",
            "zerolinecolor": "#C8D4E3",
            "gridwidth": 2
           },
           "zaxis": {
            "backgroundcolor": "rgb(17,17,17)",
            "gridcolor": "#506784",
            "linecolor": "#506784",
            "showbackground": true,
            "ticks": "",
            "zerolinecolor": "#C8D4E3",
            "gridwidth": 2
           }
          },
          "shapedefaults": {
           "line": {
            "color": "#f2f5fa"
           }
          },
          "annotationdefaults": {
           "arrowcolor": "#f2f5fa",
           "arrowhead": 0,
           "arrowwidth": 1
          },
          "geo": {
           "bgcolor": "rgb(17,17,17)",
           "landcolor": "rgb(17,17,17)",
           "subunitcolor": "#506784",
           "showland": true,
           "showlakes": true,
           "lakecolor": "rgb(17,17,17)"
          },
          "title": {
           "x": 0.05
          },
          "updatemenudefaults": {
           "bgcolor": "#506784",
           "borderwidth": 0
          },
          "sliderdefaults": {
           "bgcolor": "#C8D4E3",
           "borderwidth": 1,
           "bordercolor": "rgb(17,17,17)",
           "tickwidth": 0
          },
          "mapbox": {
           "style": "dark"
          }
         }
        },
        "legend": {
         "tracegroupgap": 0
        },
        "margin": {
         "t": 60
        },
        "piecolorway": [
         "#4E79A7",
         "#F28E2B",
         "#E15759",
         "#76B7B2",
         "#59A14F",
         "#EDC949",
         "#AF7AA1",
         "#FF9DA7",
         "#9C755F",
         "#BAB0AC",
         "#1F77B4",
         "#FF7F0E",
         "#2CA02C",
         "#D62728",
         "#9467BD"
        ]
       },
       "config": {
        "plotlyServerURL": "https://plot.ly"
       }
      }
     },
     "metadata": {},
     "output_type": "display_data"
    },
    {
     "data": {
      "application/vnd.plotly.v1+json": {
       "data": [
        {
         "customdata": [],
         "domain": {
          "x": [
           0.0,
           1.0
          ],
          "y": [
           0.0,
           1.0
          ]
         },
         "hovertemplate": "outOfStock=%{customdata[0]}<extra></extra>",
         "labels": [],
         "legendgroup": "",
         "marker": {
          "colors": []
         },
         "name": "",
         "showlegend": true,
         "type": "pie"
        }
       ],
       "layout": {
        "template": {
         "data": {
          "histogram2dcontour": [
           {
            "type": "histogram2dcontour",
            "colorbar": {
             "outlinewidth": 0,
             "ticks": ""
            },
            "colorscale": [
             [
              0.0,
              "#0d0887"
             ],
             [
              0.1111111111111111,
              "#46039f"
             ],
             [
              0.2222222222222222,
              "#7201a8"
             ],
             [
              0.3333333333333333,
              "#9c179e"
             ],
             [
              0.4444444444444444,
              "#bd3786"
             ],
             [
              0.5555555555555556,
              "#d8576b"
             ],
             [
              0.6666666666666666,
              "#ed7953"
             ],
             [
              0.7777777777777778,
              "#fb9f3a"
             ],
             [
              0.8888888888888888,
              "#fdca26"
             ],
             [
              1.0,
              "#f0f921"
             ]
            ]
           }
          ],
          "choropleth": [
           {
            "type": "choropleth",
            "colorbar": {
             "outlinewidth": 0,
             "ticks": ""
            }
           }
          ],
          "histogram2d": [
           {
            "type": "histogram2d",
            "colorbar": {
             "outlinewidth": 0,
             "ticks": ""
            },
            "colorscale": [
             [
              0.0,
              "#0d0887"
             ],
             [
              0.1111111111111111,
              "#46039f"
             ],
             [
              0.2222222222222222,
              "#7201a8"
             ],
             [
              0.3333333333333333,
              "#9c179e"
             ],
             [
              0.4444444444444444,
              "#bd3786"
             ],
             [
              0.5555555555555556,
              "#d8576b"
             ],
             [
              0.6666666666666666,
              "#ed7953"
             ],
             [
              0.7777777777777778,
              "#fb9f3a"
             ],
             [
              0.8888888888888888,
              "#fdca26"
             ],
             [
              1.0,
              "#f0f921"
             ]
            ]
           }
          ],
          "heatmap": [
           {
            "type": "heatmap",
            "colorbar": {
             "outlinewidth": 0,
             "ticks": ""
            },
            "colorscale": [
             [
              0.0,
              "#0d0887"
             ],
             [
              0.1111111111111111,
              "#46039f"
             ],
             [
              0.2222222222222222,
              "#7201a8"
             ],
             [
              0.3333333333333333,
              "#9c179e"
             ],
             [
              0.4444444444444444,
              "#bd3786"
             ],
             [
              0.5555555555555556,
              "#d8576b"
             ],
             [
              0.6666666666666666,
              "#ed7953"
             ],
             [
              0.7777777777777778,
              "#fb9f3a"
             ],
             [
              0.8888888888888888,
              "#fdca26"
             ],
             [
              1.0,
              "#f0f921"
             ]
            ]
           }
          ],
          "contourcarpet": [
           {
            "type": "contourcarpet",
            "colorbar": {
             "outlinewidth": 0,
             "ticks": ""
            }
           }
          ],
          "contour": [
           {
            "type": "contour",
            "colorbar": {
             "outlinewidth": 0,
             "ticks": ""
            },
            "colorscale": [
             [
              0.0,
              "#0d0887"
             ],
             [
              0.1111111111111111,
              "#46039f"
             ],
             [
              0.2222222222222222,
              "#7201a8"
             ],
             [
              0.3333333333333333,
              "#9c179e"
             ],
             [
              0.4444444444444444,
              "#bd3786"
             ],
             [
              0.5555555555555556,
              "#d8576b"
             ],
             [
              0.6666666666666666,
              "#ed7953"
             ],
             [
              0.7777777777777778,
              "#fb9f3a"
             ],
             [
              0.8888888888888888,
              "#fdca26"
             ],
             [
              1.0,
              "#f0f921"
             ]
            ]
           }
          ],
          "surface": [
           {
            "type": "surface",
            "colorbar": {
             "outlinewidth": 0,
             "ticks": ""
            },
            "colorscale": [
             [
              0.0,
              "#0d0887"
             ],
             [
              0.1111111111111111,
              "#46039f"
             ],
             [
              0.2222222222222222,
              "#7201a8"
             ],
             [
              0.3333333333333333,
              "#9c179e"
             ],
             [
              0.4444444444444444,
              "#bd3786"
             ],
             [
              0.5555555555555556,
              "#d8576b"
             ],
             [
              0.6666666666666666,
              "#ed7953"
             ],
             [
              0.7777777777777778,
              "#fb9f3a"
             ],
             [
              0.8888888888888888,
              "#fdca26"
             ],
             [
              1.0,
              "#f0f921"
             ]
            ]
           }
          ],
          "mesh3d": [
           {
            "type": "mesh3d",
            "colorbar": {
             "outlinewidth": 0,
             "ticks": ""
            }
           }
          ],
          "scatter": [
           {
            "marker": {
             "line": {
              "color": "#283442"
             }
            },
            "type": "scatter"
           }
          ],
          "parcoords": [
           {
            "type": "parcoords",
            "line": {
             "colorbar": {
              "outlinewidth": 0,
              "ticks": ""
             }
            }
           }
          ],
          "scatterpolargl": [
           {
            "type": "scatterpolargl",
            "marker": {
             "colorbar": {
              "outlinewidth": 0,
              "ticks": ""
             }
            }
           }
          ],
          "bar": [
           {
            "error_x": {
             "color": "#f2f5fa"
            },
            "error_y": {
             "color": "#f2f5fa"
            },
            "marker": {
             "line": {
              "color": "rgb(17,17,17)",
              "width": 0.5
             },
             "pattern": {
              "fillmode": "overlay",
              "size": 10,
              "solidity": 0.2
             }
            },
            "type": "bar"
           }
          ],
          "scattergeo": [
           {
            "type": "scattergeo",
            "marker": {
             "colorbar": {
              "outlinewidth": 0,
              "ticks": ""
             }
            }
           }
          ],
          "scatterpolar": [
           {
            "type": "scatterpolar",
            "marker": {
             "colorbar": {
              "outlinewidth": 0,
              "ticks": ""
             }
            }
           }
          ],
          "histogram": [
           {
            "marker": {
             "pattern": {
              "fillmode": "overlay",
              "size": 10,
              "solidity": 0.2
             }
            },
            "type": "histogram"
           }
          ],
          "scattergl": [
           {
            "marker": {
             "line": {
              "color": "#283442"
             }
            },
            "type": "scattergl"
           }
          ],
          "scatter3d": [
           {
            "type": "scatter3d",
            "line": {
             "colorbar": {
              "outlinewidth": 0,
              "ticks": ""
             }
            },
            "marker": {
             "colorbar": {
              "outlinewidth": 0,
              "ticks": ""
             }
            }
           }
          ],
          "scattermap": [
           {
            "type": "scattermap",
            "marker": {
             "colorbar": {
              "outlinewidth": 0,
              "ticks": ""
             }
            }
           }
          ],
          "scattermapbox": [
           {
            "type": "scattermapbox",
            "marker": {
             "colorbar": {
              "outlinewidth": 0,
              "ticks": ""
             }
            }
           }
          ],
          "scatterternary": [
           {
            "type": "scatterternary",
            "marker": {
             "colorbar": {
              "outlinewidth": 0,
              "ticks": ""
             }
            }
           }
          ],
          "scattercarpet": [
           {
            "type": "scattercarpet",
            "marker": {
             "colorbar": {
              "outlinewidth": 0,
              "ticks": ""
             }
            }
           }
          ],
          "carpet": [
           {
            "aaxis": {
             "endlinecolor": "#A2B1C6",
             "gridcolor": "#506784",
             "linecolor": "#506784",
             "minorgridcolor": "#506784",
             "startlinecolor": "#A2B1C6"
            },
            "baxis": {
             "endlinecolor": "#A2B1C6",
             "gridcolor": "#506784",
             "linecolor": "#506784",
             "minorgridcolor": "#506784",
             "startlinecolor": "#A2B1C6"
            },
            "type": "carpet"
           }
          ],
          "table": [
           {
            "cells": {
             "fill": {
              "color": "#506784"
             },
             "line": {
              "color": "rgb(17,17,17)"
             }
            },
            "header": {
             "fill": {
              "color": "#2a3f5f"
             },
             "line": {
              "color": "rgb(17,17,17)"
             }
            },
            "type": "table"
           }
          ],
          "barpolar": [
           {
            "marker": {
             "line": {
              "color": "rgb(17,17,17)",
              "width": 0.5
             },
             "pattern": {
              "fillmode": "overlay",
              "size": 10,
              "solidity": 0.2
             }
            },
            "type": "barpolar"
           }
          ],
          "pie": [
           {
            "automargin": true,
            "type": "pie"
           }
          ]
         },
         "layout": {
          "autotypenumbers": "strict",
          "colorway": [
           "#636efa",
           "#EF553B",
           "#00cc96",
           "#ab63fa",
           "#FFA15A",
           "#19d3f3",
           "#FF6692",
           "#B6E880",
           "#FF97FF",
           "#FECB52"
          ],
          "font": {
           "color": "#f2f5fa"
          },
          "hovermode": "closest",
          "hoverlabel": {
           "align": "left"
          },
          "paper_bgcolor": "rgb(17,17,17)",
          "plot_bgcolor": "rgb(17,17,17)",
          "polar": {
           "bgcolor": "rgb(17,17,17)",
           "angularaxis": {
            "gridcolor": "#506784",
            "linecolor": "#506784",
            "ticks": ""
           },
           "radialaxis": {
            "gridcolor": "#506784",
            "linecolor": "#506784",
            "ticks": ""
           }
          },
          "ternary": {
           "bgcolor": "rgb(17,17,17)",
           "aaxis": {
            "gridcolor": "#506784",
            "linecolor": "#506784",
            "ticks": ""
           },
           "baxis": {
            "gridcolor": "#506784",
            "linecolor": "#506784",
            "ticks": ""
           },
           "caxis": {
            "gridcolor": "#506784",
            "linecolor": "#506784",
            "ticks": ""
           }
          },
          "coloraxis": {
           "colorbar": {
            "outlinewidth": 0,
            "ticks": ""
           }
          },
          "colorscale": {
           "sequential": [
            [
             0.0,
             "#0d0887"
            ],
            [
             0.1111111111111111,
             "#46039f"
            ],
            [
             0.2222222222222222,
             "#7201a8"
            ],
            [
             0.3333333333333333,
             "#9c179e"
            ],
            [
             0.4444444444444444,
             "#bd3786"
            ],
            [
             0.5555555555555556,
             "#d8576b"
            ],
            [
             0.6666666666666666,
             "#ed7953"
            ],
            [
             0.7777777777777778,
             "#fb9f3a"
            ],
            [
             0.8888888888888888,
             "#fdca26"
            ],
            [
             1.0,
             "#f0f921"
            ]
           ],
           "sequentialminus": [
            [
             0.0,
             "#0d0887"
            ],
            [
             0.1111111111111111,
             "#46039f"
            ],
            [
             0.2222222222222222,
             "#7201a8"
            ],
            [
             0.3333333333333333,
             "#9c179e"
            ],
            [
             0.4444444444444444,
             "#bd3786"
            ],
            [
             0.5555555555555556,
             "#d8576b"
            ],
            [
             0.6666666666666666,
             "#ed7953"
            ],
            [
             0.7777777777777778,
             "#fb9f3a"
            ],
            [
             0.8888888888888888,
             "#fdca26"
            ],
            [
             1.0,
             "#f0f921"
            ]
           ],
           "diverging": [
            [
             0,
             "#8e0152"
            ],
            [
             0.1,
             "#c51b7d"
            ],
            [
             0.2,
             "#de77ae"
            ],
            [
             0.3,
             "#f1b6da"
            ],
            [
             0.4,
             "#fde0ef"
            ],
            [
             0.5,
             "#f7f7f7"
            ],
            [
             0.6,
             "#e6f5d0"
            ],
            [
             0.7,
             "#b8e186"
            ],
            [
             0.8,
             "#7fbc41"
            ],
            [
             0.9,
             "#4d9221"
            ],
            [
             1,
             "#276419"
            ]
           ]
          },
          "xaxis": {
           "gridcolor": "#283442",
           "linecolor": "#506784",
           "ticks": "",
           "title": {
            "standoff": 15
           },
           "zerolinecolor": "#283442",
           "automargin": true,
           "zerolinewidth": 2
          },
          "yaxis": {
           "gridcolor": "#283442",
           "linecolor": "#506784",
           "ticks": "",
           "title": {
            "standoff": 15
           },
           "zerolinecolor": "#283442",
           "automargin": true,
           "zerolinewidth": 2
          },
          "scene": {
           "xaxis": {
            "backgroundcolor": "rgb(17,17,17)",
            "gridcolor": "#506784",
            "linecolor": "#506784",
            "showbackground": true,
            "ticks": "",
            "zerolinecolor": "#C8D4E3",
            "gridwidth": 2
           },
           "yaxis": {
            "backgroundcolor": "rgb(17,17,17)",
            "gridcolor": "#506784",
            "linecolor": "#506784",
            "showbackground": true,
            "ticks": "",
            "zerolinecolor": "#C8D4E3",
            "gridwidth": 2
           },
           "zaxis": {
            "backgroundcolor": "rgb(17,17,17)",
            "gridcolor": "#506784",
            "linecolor": "#506784",
            "showbackground": true,
            "ticks": "",
            "zerolinecolor": "#C8D4E3",
            "gridwidth": 2
           }
          },
          "shapedefaults": {
           "line": {
            "color": "#f2f5fa"
           }
          },
          "annotationdefaults": {
           "arrowcolor": "#f2f5fa",
           "arrowhead": 0,
           "arrowwidth": 1
          },
          "geo": {
           "bgcolor": "rgb(17,17,17)",
           "landcolor": "rgb(17,17,17)",
           "subunitcolor": "#506784",
           "showland": true,
           "showlakes": true,
           "lakecolor": "rgb(17,17,17)"
          },
          "title": {
           "x": 0.05
          },
          "updatemenudefaults": {
           "bgcolor": "#506784",
           "borderwidth": 0
          },
          "sliderdefaults": {
           "bgcolor": "#C8D4E3",
           "borderwidth": 1,
           "bordercolor": "rgb(17,17,17)",
           "tickwidth": 0
          },
          "mapbox": {
           "style": "dark"
          }
         }
        },
        "legend": {
         "tracegroupgap": 0
        },
        "margin": {
         "t": 60
        },
        "piecolorway": [
         "#4E79A7",
         "#F28E2B",
         "#E15759",
         "#76B7B2",
         "#59A14F",
         "#EDC949",
         "#AF7AA1",
         "#FF9DA7",
         "#9C755F",
         "#BAB0AC",
         "#1F77B4",
         "#FF7F0E",
         "#2CA02C",
         "#D62728",
         "#9467BD"
        ]
       },
       "config": {
        "plotlyServerURL": "https://plot.ly"
       }
      }
     },
     "metadata": {},
     "output_type": "display_data"
    },
    {
     "data": {
      "application/vnd.plotly.v1+json": {
       "data": [
        {
         "customdata": [],
         "domain": {
          "x": [
           0.0,
           1.0
          ],
          "y": [
           0.0,
           1.0
          ]
         },
         "hovertemplate": "outOfStock=%{customdata[0]}<extra></extra>",
         "labels": [],
         "legendgroup": "",
         "marker": {
          "colors": []
         },
         "name": "",
         "showlegend": true,
         "type": "pie"
        }
       ],
       "layout": {
        "template": {
         "data": {
          "histogram2dcontour": [
           {
            "type": "histogram2dcontour",
            "colorbar": {
             "outlinewidth": 0,
             "ticks": ""
            },
            "colorscale": [
             [
              0.0,
              "#0d0887"
             ],
             [
              0.1111111111111111,
              "#46039f"
             ],
             [
              0.2222222222222222,
              "#7201a8"
             ],
             [
              0.3333333333333333,
              "#9c179e"
             ],
             [
              0.4444444444444444,
              "#bd3786"
             ],
             [
              0.5555555555555556,
              "#d8576b"
             ],
             [
              0.6666666666666666,
              "#ed7953"
             ],
             [
              0.7777777777777778,
              "#fb9f3a"
             ],
             [
              0.8888888888888888,
              "#fdca26"
             ],
             [
              1.0,
              "#f0f921"
             ]
            ]
           }
          ],
          "choropleth": [
           {
            "type": "choropleth",
            "colorbar": {
             "outlinewidth": 0,
             "ticks": ""
            }
           }
          ],
          "histogram2d": [
           {
            "type": "histogram2d",
            "colorbar": {
             "outlinewidth": 0,
             "ticks": ""
            },
            "colorscale": [
             [
              0.0,
              "#0d0887"
             ],
             [
              0.1111111111111111,
              "#46039f"
             ],
             [
              0.2222222222222222,
              "#7201a8"
             ],
             [
              0.3333333333333333,
              "#9c179e"
             ],
             [
              0.4444444444444444,
              "#bd3786"
             ],
             [
              0.5555555555555556,
              "#d8576b"
             ],
             [
              0.6666666666666666,
              "#ed7953"
             ],
             [
              0.7777777777777778,
              "#fb9f3a"
             ],
             [
              0.8888888888888888,
              "#fdca26"
             ],
             [
              1.0,
              "#f0f921"
             ]
            ]
           }
          ],
          "heatmap": [
           {
            "type": "heatmap",
            "colorbar": {
             "outlinewidth": 0,
             "ticks": ""
            },
            "colorscale": [
             [
              0.0,
              "#0d0887"
             ],
             [
              0.1111111111111111,
              "#46039f"
             ],
             [
              0.2222222222222222,
              "#7201a8"
             ],
             [
              0.3333333333333333,
              "#9c179e"
             ],
             [
              0.4444444444444444,
              "#bd3786"
             ],
             [
              0.5555555555555556,
              "#d8576b"
             ],
             [
              0.6666666666666666,
              "#ed7953"
             ],
             [
              0.7777777777777778,
              "#fb9f3a"
             ],
             [
              0.8888888888888888,
              "#fdca26"
             ],
             [
              1.0,
              "#f0f921"
             ]
            ]
           }
          ],
          "contourcarpet": [
           {
            "type": "contourcarpet",
            "colorbar": {
             "outlinewidth": 0,
             "ticks": ""
            }
           }
          ],
          "contour": [
           {
            "type": "contour",
            "colorbar": {
             "outlinewidth": 0,
             "ticks": ""
            },
            "colorscale": [
             [
              0.0,
              "#0d0887"
             ],
             [
              0.1111111111111111,
              "#46039f"
             ],
             [
              0.2222222222222222,
              "#7201a8"
             ],
             [
              0.3333333333333333,
              "#9c179e"
             ],
             [
              0.4444444444444444,
              "#bd3786"
             ],
             [
              0.5555555555555556,
              "#d8576b"
             ],
             [
              0.6666666666666666,
              "#ed7953"
             ],
             [
              0.7777777777777778,
              "#fb9f3a"
             ],
             [
              0.8888888888888888,
              "#fdca26"
             ],
             [
              1.0,
              "#f0f921"
             ]
            ]
           }
          ],
          "surface": [
           {
            "type": "surface",
            "colorbar": {
             "outlinewidth": 0,
             "ticks": ""
            },
            "colorscale": [
             [
              0.0,
              "#0d0887"
             ],
             [
              0.1111111111111111,
              "#46039f"
             ],
             [
              0.2222222222222222,
              "#7201a8"
             ],
             [
              0.3333333333333333,
              "#9c179e"
             ],
             [
              0.4444444444444444,
              "#bd3786"
             ],
             [
              0.5555555555555556,
              "#d8576b"
             ],
             [
              0.6666666666666666,
              "#ed7953"
             ],
             [
              0.7777777777777778,
              "#fb9f3a"
             ],
             [
              0.8888888888888888,
              "#fdca26"
             ],
             [
              1.0,
              "#f0f921"
             ]
            ]
           }
          ],
          "mesh3d": [
           {
            "type": "mesh3d",
            "colorbar": {
             "outlinewidth": 0,
             "ticks": ""
            }
           }
          ],
          "scatter": [
           {
            "marker": {
             "line": {
              "color": "#283442"
             }
            },
            "type": "scatter"
           }
          ],
          "parcoords": [
           {
            "type": "parcoords",
            "line": {
             "colorbar": {
              "outlinewidth": 0,
              "ticks": ""
             }
            }
           }
          ],
          "scatterpolargl": [
           {
            "type": "scatterpolargl",
            "marker": {
             "colorbar": {
              "outlinewidth": 0,
              "ticks": ""
             }
            }
           }
          ],
          "bar": [
           {
            "error_x": {
             "color": "#f2f5fa"
            },
            "error_y": {
             "color": "#f2f5fa"
            },
            "marker": {
             "line": {
              "color": "rgb(17,17,17)",
              "width": 0.5
             },
             "pattern": {
              "fillmode": "overlay",
              "size": 10,
              "solidity": 0.2
             }
            },
            "type": "bar"
           }
          ],
          "scattergeo": [
           {
            "type": "scattergeo",
            "marker": {
             "colorbar": {
              "outlinewidth": 0,
              "ticks": ""
             }
            }
           }
          ],
          "scatterpolar": [
           {
            "type": "scatterpolar",
            "marker": {
             "colorbar": {
              "outlinewidth": 0,
              "ticks": ""
             }
            }
           }
          ],
          "histogram": [
           {
            "marker": {
             "pattern": {
              "fillmode": "overlay",
              "size": 10,
              "solidity": 0.2
             }
            },
            "type": "histogram"
           }
          ],
          "scattergl": [
           {
            "marker": {
             "line": {
              "color": "#283442"
             }
            },
            "type": "scattergl"
           }
          ],
          "scatter3d": [
           {
            "type": "scatter3d",
            "line": {
             "colorbar": {
              "outlinewidth": 0,
              "ticks": ""
             }
            },
            "marker": {
             "colorbar": {
              "outlinewidth": 0,
              "ticks": ""
             }
            }
           }
          ],
          "scattermap": [
           {
            "type": "scattermap",
            "marker": {
             "colorbar": {
              "outlinewidth": 0,
              "ticks": ""
             }
            }
           }
          ],
          "scattermapbox": [
           {
            "type": "scattermapbox",
            "marker": {
             "colorbar": {
              "outlinewidth": 0,
              "ticks": ""
             }
            }
           }
          ],
          "scatterternary": [
           {
            "type": "scatterternary",
            "marker": {
             "colorbar": {
              "outlinewidth": 0,
              "ticks": ""
             }
            }
           }
          ],
          "scattercarpet": [
           {
            "type": "scattercarpet",
            "marker": {
             "colorbar": {
              "outlinewidth": 0,
              "ticks": ""
             }
            }
           }
          ],
          "carpet": [
           {
            "aaxis": {
             "endlinecolor": "#A2B1C6",
             "gridcolor": "#506784",
             "linecolor": "#506784",
             "minorgridcolor": "#506784",
             "startlinecolor": "#A2B1C6"
            },
            "baxis": {
             "endlinecolor": "#A2B1C6",
             "gridcolor": "#506784",
             "linecolor": "#506784",
             "minorgridcolor": "#506784",
             "startlinecolor": "#A2B1C6"
            },
            "type": "carpet"
           }
          ],
          "table": [
           {
            "cells": {
             "fill": {
              "color": "#506784"
             },
             "line": {
              "color": "rgb(17,17,17)"
             }
            },
            "header": {
             "fill": {
              "color": "#2a3f5f"
             },
             "line": {
              "color": "rgb(17,17,17)"
             }
            },
            "type": "table"
           }
          ],
          "barpolar": [
           {
            "marker": {
             "line": {
              "color": "rgb(17,17,17)",
              "width": 0.5
             },
             "pattern": {
              "fillmode": "overlay",
              "size": 10,
              "solidity": 0.2
             }
            },
            "type": "barpolar"
           }
          ],
          "pie": [
           {
            "automargin": true,
            "type": "pie"
           }
          ]
         },
         "layout": {
          "autotypenumbers": "strict",
          "colorway": [
           "#636efa",
           "#EF553B",
           "#00cc96",
           "#ab63fa",
           "#FFA15A",
           "#19d3f3",
           "#FF6692",
           "#B6E880",
           "#FF97FF",
           "#FECB52"
          ],
          "font": {
           "color": "#f2f5fa"
          },
          "hovermode": "closest",
          "hoverlabel": {
           "align": "left"
          },
          "paper_bgcolor": "rgb(17,17,17)",
          "plot_bgcolor": "rgb(17,17,17)",
          "polar": {
           "bgcolor": "rgb(17,17,17)",
           "angularaxis": {
            "gridcolor": "#506784",
            "linecolor": "#506784",
            "ticks": ""
           },
           "radialaxis": {
            "gridcolor": "#506784",
            "linecolor": "#506784",
            "ticks": ""
           }
          },
          "ternary": {
           "bgcolor": "rgb(17,17,17)",
           "aaxis": {
            "gridcolor": "#506784",
            "linecolor": "#506784",
            "ticks": ""
           },
           "baxis": {
            "gridcolor": "#506784",
            "linecolor": "#506784",
            "ticks": ""
           },
           "caxis": {
            "gridcolor": "#506784",
            "linecolor": "#506784",
            "ticks": ""
           }
          },
          "coloraxis": {
           "colorbar": {
            "outlinewidth": 0,
            "ticks": ""
           }
          },
          "colorscale": {
           "sequential": [
            [
             0.0,
             "#0d0887"
            ],
            [
             0.1111111111111111,
             "#46039f"
            ],
            [
             0.2222222222222222,
             "#7201a8"
            ],
            [
             0.3333333333333333,
             "#9c179e"
            ],
            [
             0.4444444444444444,
             "#bd3786"
            ],
            [
             0.5555555555555556,
             "#d8576b"
            ],
            [
             0.6666666666666666,
             "#ed7953"
            ],
            [
             0.7777777777777778,
             "#fb9f3a"
            ],
            [
             0.8888888888888888,
             "#fdca26"
            ],
            [
             1.0,
             "#f0f921"
            ]
           ],
           "sequentialminus": [
            [
             0.0,
             "#0d0887"
            ],
            [
             0.1111111111111111,
             "#46039f"
            ],
            [
             0.2222222222222222,
             "#7201a8"
            ],
            [
             0.3333333333333333,
             "#9c179e"
            ],
            [
             0.4444444444444444,
             "#bd3786"
            ],
            [
             0.5555555555555556,
             "#d8576b"
            ],
            [
             0.6666666666666666,
             "#ed7953"
            ],
            [
             0.7777777777777778,
             "#fb9f3a"
            ],
            [
             0.8888888888888888,
             "#fdca26"
            ],
            [
             1.0,
             "#f0f921"
            ]
           ],
           "diverging": [
            [
             0,
             "#8e0152"
            ],
            [
             0.1,
             "#c51b7d"
            ],
            [
             0.2,
             "#de77ae"
            ],
            [
             0.3,
             "#f1b6da"
            ],
            [
             0.4,
             "#fde0ef"
            ],
            [
             0.5,
             "#f7f7f7"
            ],
            [
             0.6,
             "#e6f5d0"
            ],
            [
             0.7,
             "#b8e186"
            ],
            [
             0.8,
             "#7fbc41"
            ],
            [
             0.9,
             "#4d9221"
            ],
            [
             1,
             "#276419"
            ]
           ]
          },
          "xaxis": {
           "gridcolor": "#283442",
           "linecolor": "#506784",
           "ticks": "",
           "title": {
            "standoff": 15
           },
           "zerolinecolor": "#283442",
           "automargin": true,
           "zerolinewidth": 2
          },
          "yaxis": {
           "gridcolor": "#283442",
           "linecolor": "#506784",
           "ticks": "",
           "title": {
            "standoff": 15
           },
           "zerolinecolor": "#283442",
           "automargin": true,
           "zerolinewidth": 2
          },
          "scene": {
           "xaxis": {
            "backgroundcolor": "rgb(17,17,17)",
            "gridcolor": "#506784",
            "linecolor": "#506784",
            "showbackground": true,
            "ticks": "",
            "zerolinecolor": "#C8D4E3",
            "gridwidth": 2
           },
           "yaxis": {
            "backgroundcolor": "rgb(17,17,17)",
            "gridcolor": "#506784",
            "linecolor": "#506784",
            "showbackground": true,
            "ticks": "",
            "zerolinecolor": "#C8D4E3",
            "gridwidth": 2
           },
           "zaxis": {
            "backgroundcolor": "rgb(17,17,17)",
            "gridcolor": "#506784",
            "linecolor": "#506784",
            "showbackground": true,
            "ticks": "",
            "zerolinecolor": "#C8D4E3",
            "gridwidth": 2
           }
          },
          "shapedefaults": {
           "line": {
            "color": "#f2f5fa"
           }
          },
          "annotationdefaults": {
           "arrowcolor": "#f2f5fa",
           "arrowhead": 0,
           "arrowwidth": 1
          },
          "geo": {
           "bgcolor": "rgb(17,17,17)",
           "landcolor": "rgb(17,17,17)",
           "subunitcolor": "#506784",
           "showland": true,
           "showlakes": true,
           "lakecolor": "rgb(17,17,17)"
          },
          "title": {
           "x": 0.05
          },
          "updatemenudefaults": {
           "bgcolor": "#506784",
           "borderwidth": 0
          },
          "sliderdefaults": {
           "bgcolor": "#C8D4E3",
           "borderwidth": 1,
           "bordercolor": "rgb(17,17,17)",
           "tickwidth": 0
          },
          "mapbox": {
           "style": "dark"
          }
         }
        },
        "legend": {
         "tracegroupgap": 0
        },
        "margin": {
         "t": 60
        },
        "piecolorway": [
         "#4E79A7",
         "#F28E2B",
         "#E15759",
         "#76B7B2",
         "#59A14F",
         "#EDC949",
         "#AF7AA1",
         "#FF9DA7",
         "#9C755F",
         "#BAB0AC",
         "#1F77B4",
         "#FF7F0E",
         "#2CA02C",
         "#D62728",
         "#9467BD"
        ]
       },
       "config": {
        "plotlyServerURL": "https://plot.ly"
       }
      }
     },
     "metadata": {},
     "output_type": "display_data"
    },
    {
     "data": {
      "application/vnd.plotly.v1+json": {
       "data": [
        {
         "customdata": [],
         "domain": {
          "x": [
           0.0,
           1.0
          ],
          "y": [
           0.0,
           1.0
          ]
         },
         "hovertemplate": "outOfStock=%{customdata[0]}<extra></extra>",
         "labels": [],
         "legendgroup": "",
         "marker": {
          "colors": []
         },
         "name": "",
         "showlegend": true,
         "type": "pie"
        }
       ],
       "layout": {
        "template": {
         "data": {
          "histogram2dcontour": [
           {
            "type": "histogram2dcontour",
            "colorbar": {
             "outlinewidth": 0,
             "ticks": ""
            },
            "colorscale": [
             [
              0.0,
              "#0d0887"
             ],
             [
              0.1111111111111111,
              "#46039f"
             ],
             [
              0.2222222222222222,
              "#7201a8"
             ],
             [
              0.3333333333333333,
              "#9c179e"
             ],
             [
              0.4444444444444444,
              "#bd3786"
             ],
             [
              0.5555555555555556,
              "#d8576b"
             ],
             [
              0.6666666666666666,
              "#ed7953"
             ],
             [
              0.7777777777777778,
              "#fb9f3a"
             ],
             [
              0.8888888888888888,
              "#fdca26"
             ],
             [
              1.0,
              "#f0f921"
             ]
            ]
           }
          ],
          "choropleth": [
           {
            "type": "choropleth",
            "colorbar": {
             "outlinewidth": 0,
             "ticks": ""
            }
           }
          ],
          "histogram2d": [
           {
            "type": "histogram2d",
            "colorbar": {
             "outlinewidth": 0,
             "ticks": ""
            },
            "colorscale": [
             [
              0.0,
              "#0d0887"
             ],
             [
              0.1111111111111111,
              "#46039f"
             ],
             [
              0.2222222222222222,
              "#7201a8"
             ],
             [
              0.3333333333333333,
              "#9c179e"
             ],
             [
              0.4444444444444444,
              "#bd3786"
             ],
             [
              0.5555555555555556,
              "#d8576b"
             ],
             [
              0.6666666666666666,
              "#ed7953"
             ],
             [
              0.7777777777777778,
              "#fb9f3a"
             ],
             [
              0.8888888888888888,
              "#fdca26"
             ],
             [
              1.0,
              "#f0f921"
             ]
            ]
           }
          ],
          "heatmap": [
           {
            "type": "heatmap",
            "colorbar": {
             "outlinewidth": 0,
             "ticks": ""
            },
            "colorscale": [
             [
              0.0,
              "#0d0887"
             ],
             [
              0.1111111111111111,
              "#46039f"
             ],
             [
              0.2222222222222222,
              "#7201a8"
             ],
             [
              0.3333333333333333,
              "#9c179e"
             ],
             [
              0.4444444444444444,
              "#bd3786"
             ],
             [
              0.5555555555555556,
              "#d8576b"
             ],
             [
              0.6666666666666666,
              "#ed7953"
             ],
             [
              0.7777777777777778,
              "#fb9f3a"
             ],
             [
              0.8888888888888888,
              "#fdca26"
             ],
             [
              1.0,
              "#f0f921"
             ]
            ]
           }
          ],
          "contourcarpet": [
           {
            "type": "contourcarpet",
            "colorbar": {
             "outlinewidth": 0,
             "ticks": ""
            }
           }
          ],
          "contour": [
           {
            "type": "contour",
            "colorbar": {
             "outlinewidth": 0,
             "ticks": ""
            },
            "colorscale": [
             [
              0.0,
              "#0d0887"
             ],
             [
              0.1111111111111111,
              "#46039f"
             ],
             [
              0.2222222222222222,
              "#7201a8"
             ],
             [
              0.3333333333333333,
              "#9c179e"
             ],
             [
              0.4444444444444444,
              "#bd3786"
             ],
             [
              0.5555555555555556,
              "#d8576b"
             ],
             [
              0.6666666666666666,
              "#ed7953"
             ],
             [
              0.7777777777777778,
              "#fb9f3a"
             ],
             [
              0.8888888888888888,
              "#fdca26"
             ],
             [
              1.0,
              "#f0f921"
             ]
            ]
           }
          ],
          "surface": [
           {
            "type": "surface",
            "colorbar": {
             "outlinewidth": 0,
             "ticks": ""
            },
            "colorscale": [
             [
              0.0,
              "#0d0887"
             ],
             [
              0.1111111111111111,
              "#46039f"
             ],
             [
              0.2222222222222222,
              "#7201a8"
             ],
             [
              0.3333333333333333,
              "#9c179e"
             ],
             [
              0.4444444444444444,
              "#bd3786"
             ],
             [
              0.5555555555555556,
              "#d8576b"
             ],
             [
              0.6666666666666666,
              "#ed7953"
             ],
             [
              0.7777777777777778,
              "#fb9f3a"
             ],
             [
              0.8888888888888888,
              "#fdca26"
             ],
             [
              1.0,
              "#f0f921"
             ]
            ]
           }
          ],
          "mesh3d": [
           {
            "type": "mesh3d",
            "colorbar": {
             "outlinewidth": 0,
             "ticks": ""
            }
           }
          ],
          "scatter": [
           {
            "marker": {
             "line": {
              "color": "#283442"
             }
            },
            "type": "scatter"
           }
          ],
          "parcoords": [
           {
            "type": "parcoords",
            "line": {
             "colorbar": {
              "outlinewidth": 0,
              "ticks": ""
             }
            }
           }
          ],
          "scatterpolargl": [
           {
            "type": "scatterpolargl",
            "marker": {
             "colorbar": {
              "outlinewidth": 0,
              "ticks": ""
             }
            }
           }
          ],
          "bar": [
           {
            "error_x": {
             "color": "#f2f5fa"
            },
            "error_y": {
             "color": "#f2f5fa"
            },
            "marker": {
             "line": {
              "color": "rgb(17,17,17)",
              "width": 0.5
             },
             "pattern": {
              "fillmode": "overlay",
              "size": 10,
              "solidity": 0.2
             }
            },
            "type": "bar"
           }
          ],
          "scattergeo": [
           {
            "type": "scattergeo",
            "marker": {
             "colorbar": {
              "outlinewidth": 0,
              "ticks": ""
             }
            }
           }
          ],
          "scatterpolar": [
           {
            "type": "scatterpolar",
            "marker": {
             "colorbar": {
              "outlinewidth": 0,
              "ticks": ""
             }
            }
           }
          ],
          "histogram": [
           {
            "marker": {
             "pattern": {
              "fillmode": "overlay",
              "size": 10,
              "solidity": 0.2
             }
            },
            "type": "histogram"
           }
          ],
          "scattergl": [
           {
            "marker": {
             "line": {
              "color": "#283442"
             }
            },
            "type": "scattergl"
           }
          ],
          "scatter3d": [
           {
            "type": "scatter3d",
            "line": {
             "colorbar": {
              "outlinewidth": 0,
              "ticks": ""
             }
            },
            "marker": {
             "colorbar": {
              "outlinewidth": 0,
              "ticks": ""
             }
            }
           }
          ],
          "scattermap": [
           {
            "type": "scattermap",
            "marker": {
             "colorbar": {
              "outlinewidth": 0,
              "ticks": ""
             }
            }
           }
          ],
          "scattermapbox": [
           {
            "type": "scattermapbox",
            "marker": {
             "colorbar": {
              "outlinewidth": 0,
              "ticks": ""
             }
            }
           }
          ],
          "scatterternary": [
           {
            "type": "scatterternary",
            "marker": {
             "colorbar": {
              "outlinewidth": 0,
              "ticks": ""
             }
            }
           }
          ],
          "scattercarpet": [
           {
            "type": "scattercarpet",
            "marker": {
             "colorbar": {
              "outlinewidth": 0,
              "ticks": ""
             }
            }
           }
          ],
          "carpet": [
           {
            "aaxis": {
             "endlinecolor": "#A2B1C6",
             "gridcolor": "#506784",
             "linecolor": "#506784",
             "minorgridcolor": "#506784",
             "startlinecolor": "#A2B1C6"
            },
            "baxis": {
             "endlinecolor": "#A2B1C6",
             "gridcolor": "#506784",
             "linecolor": "#506784",
             "minorgridcolor": "#506784",
             "startlinecolor": "#A2B1C6"
            },
            "type": "carpet"
           }
          ],
          "table": [
           {
            "cells": {
             "fill": {
              "color": "#506784"
             },
             "line": {
              "color": "rgb(17,17,17)"
             }
            },
            "header": {
             "fill": {
              "color": "#2a3f5f"
             },
             "line": {
              "color": "rgb(17,17,17)"
             }
            },
            "type": "table"
           }
          ],
          "barpolar": [
           {
            "marker": {
             "line": {
              "color": "rgb(17,17,17)",
              "width": 0.5
             },
             "pattern": {
              "fillmode": "overlay",
              "size": 10,
              "solidity": 0.2
             }
            },
            "type": "barpolar"
           }
          ],
          "pie": [
           {
            "automargin": true,
            "type": "pie"
           }
          ]
         },
         "layout": {
          "autotypenumbers": "strict",
          "colorway": [
           "#636efa",
           "#EF553B",
           "#00cc96",
           "#ab63fa",
           "#FFA15A",
           "#19d3f3",
           "#FF6692",
           "#B6E880",
           "#FF97FF",
           "#FECB52"
          ],
          "font": {
           "color": "#f2f5fa"
          },
          "hovermode": "closest",
          "hoverlabel": {
           "align": "left"
          },
          "paper_bgcolor": "rgb(17,17,17)",
          "plot_bgcolor": "rgb(17,17,17)",
          "polar": {
           "bgcolor": "rgb(17,17,17)",
           "angularaxis": {
            "gridcolor": "#506784",
            "linecolor": "#506784",
            "ticks": ""
           },
           "radialaxis": {
            "gridcolor": "#506784",
            "linecolor": "#506784",
            "ticks": ""
           }
          },
          "ternary": {
           "bgcolor": "rgb(17,17,17)",
           "aaxis": {
            "gridcolor": "#506784",
            "linecolor": "#506784",
            "ticks": ""
           },
           "baxis": {
            "gridcolor": "#506784",
            "linecolor": "#506784",
            "ticks": ""
           },
           "caxis": {
            "gridcolor": "#506784",
            "linecolor": "#506784",
            "ticks": ""
           }
          },
          "coloraxis": {
           "colorbar": {
            "outlinewidth": 0,
            "ticks": ""
           }
          },
          "colorscale": {
           "sequential": [
            [
             0.0,
             "#0d0887"
            ],
            [
             0.1111111111111111,
             "#46039f"
            ],
            [
             0.2222222222222222,
             "#7201a8"
            ],
            [
             0.3333333333333333,
             "#9c179e"
            ],
            [
             0.4444444444444444,
             "#bd3786"
            ],
            [
             0.5555555555555556,
             "#d8576b"
            ],
            [
             0.6666666666666666,
             "#ed7953"
            ],
            [
             0.7777777777777778,
             "#fb9f3a"
            ],
            [
             0.8888888888888888,
             "#fdca26"
            ],
            [
             1.0,
             "#f0f921"
            ]
           ],
           "sequentialminus": [
            [
             0.0,
             "#0d0887"
            ],
            [
             0.1111111111111111,
             "#46039f"
            ],
            [
             0.2222222222222222,
             "#7201a8"
            ],
            [
             0.3333333333333333,
             "#9c179e"
            ],
            [
             0.4444444444444444,
             "#bd3786"
            ],
            [
             0.5555555555555556,
             "#d8576b"
            ],
            [
             0.6666666666666666,
             "#ed7953"
            ],
            [
             0.7777777777777778,
             "#fb9f3a"
            ],
            [
             0.8888888888888888,
             "#fdca26"
            ],
            [
             1.0,
             "#f0f921"
            ]
           ],
           "diverging": [
            [
             0,
             "#8e0152"
            ],
            [
             0.1,
             "#c51b7d"
            ],
            [
             0.2,
             "#de77ae"
            ],
            [
             0.3,
             "#f1b6da"
            ],
            [
             0.4,
             "#fde0ef"
            ],
            [
             0.5,
             "#f7f7f7"
            ],
            [
             0.6,
             "#e6f5d0"
            ],
            [
             0.7,
             "#b8e186"
            ],
            [
             0.8,
             "#7fbc41"
            ],
            [
             0.9,
             "#4d9221"
            ],
            [
             1,
             "#276419"
            ]
           ]
          },
          "xaxis": {
           "gridcolor": "#283442",
           "linecolor": "#506784",
           "ticks": "",
           "title": {
            "standoff": 15
           },
           "zerolinecolor": "#283442",
           "automargin": true,
           "zerolinewidth": 2
          },
          "yaxis": {
           "gridcolor": "#283442",
           "linecolor": "#506784",
           "ticks": "",
           "title": {
            "standoff": 15
           },
           "zerolinecolor": "#283442",
           "automargin": true,
           "zerolinewidth": 2
          },
          "scene": {
           "xaxis": {
            "backgroundcolor": "rgb(17,17,17)",
            "gridcolor": "#506784",
            "linecolor": "#506784",
            "showbackground": true,
            "ticks": "",
            "zerolinecolor": "#C8D4E3",
            "gridwidth": 2
           },
           "yaxis": {
            "backgroundcolor": "rgb(17,17,17)",
            "gridcolor": "#506784",
            "linecolor": "#506784",
            "showbackground": true,
            "ticks": "",
            "zerolinecolor": "#C8D4E3",
            "gridwidth": 2
           },
           "zaxis": {
            "backgroundcolor": "rgb(17,17,17)",
            "gridcolor": "#506784",
            "linecolor": "#506784",
            "showbackground": true,
            "ticks": "",
            "zerolinecolor": "#C8D4E3",
            "gridwidth": 2
           }
          },
          "shapedefaults": {
           "line": {
            "color": "#f2f5fa"
           }
          },
          "annotationdefaults": {
           "arrowcolor": "#f2f5fa",
           "arrowhead": 0,
           "arrowwidth": 1
          },
          "geo": {
           "bgcolor": "rgb(17,17,17)",
           "landcolor": "rgb(17,17,17)",
           "subunitcolor": "#506784",
           "showland": true,
           "showlakes": true,
           "lakecolor": "rgb(17,17,17)"
          },
          "title": {
           "x": 0.05
          },
          "updatemenudefaults": {
           "bgcolor": "#506784",
           "borderwidth": 0
          },
          "sliderdefaults": {
           "bgcolor": "#C8D4E3",
           "borderwidth": 1,
           "bordercolor": "rgb(17,17,17)",
           "tickwidth": 0
          },
          "mapbox": {
           "style": "dark"
          }
         }
        },
        "legend": {
         "tracegroupgap": 0
        },
        "margin": {
         "t": 60
        },
        "piecolorway": [
         "#4E79A7",
         "#F28E2B",
         "#E15759",
         "#76B7B2",
         "#59A14F",
         "#EDC949",
         "#AF7AA1",
         "#FF9DA7",
         "#9C755F",
         "#BAB0AC",
         "#1F77B4",
         "#FF7F0E",
         "#2CA02C",
         "#D62728",
         "#9467BD"
        ]
       },
       "config": {
        "plotlyServerURL": "https://plot.ly"
       }
      }
     },
     "metadata": {},
     "output_type": "display_data"
    },
    {
     "data": {
      "application/vnd.plotly.v1+json": {
       "data": [
        {
         "customdata": [],
         "domain": {
          "x": [
           0.0,
           1.0
          ],
          "y": [
           0.0,
           1.0
          ]
         },
         "hovertemplate": "outOfStock=%{customdata[0]}<extra></extra>",
         "labels": [],
         "legendgroup": "",
         "marker": {
          "colors": []
         },
         "name": "",
         "showlegend": true,
         "type": "pie"
        }
       ],
       "layout": {
        "template": {
         "data": {
          "histogram2dcontour": [
           {
            "type": "histogram2dcontour",
            "colorbar": {
             "outlinewidth": 0,
             "ticks": ""
            },
            "colorscale": [
             [
              0.0,
              "#0d0887"
             ],
             [
              0.1111111111111111,
              "#46039f"
             ],
             [
              0.2222222222222222,
              "#7201a8"
             ],
             [
              0.3333333333333333,
              "#9c179e"
             ],
             [
              0.4444444444444444,
              "#bd3786"
             ],
             [
              0.5555555555555556,
              "#d8576b"
             ],
             [
              0.6666666666666666,
              "#ed7953"
             ],
             [
              0.7777777777777778,
              "#fb9f3a"
             ],
             [
              0.8888888888888888,
              "#fdca26"
             ],
             [
              1.0,
              "#f0f921"
             ]
            ]
           }
          ],
          "choropleth": [
           {
            "type": "choropleth",
            "colorbar": {
             "outlinewidth": 0,
             "ticks": ""
            }
           }
          ],
          "histogram2d": [
           {
            "type": "histogram2d",
            "colorbar": {
             "outlinewidth": 0,
             "ticks": ""
            },
            "colorscale": [
             [
              0.0,
              "#0d0887"
             ],
             [
              0.1111111111111111,
              "#46039f"
             ],
             [
              0.2222222222222222,
              "#7201a8"
             ],
             [
              0.3333333333333333,
              "#9c179e"
             ],
             [
              0.4444444444444444,
              "#bd3786"
             ],
             [
              0.5555555555555556,
              "#d8576b"
             ],
             [
              0.6666666666666666,
              "#ed7953"
             ],
             [
              0.7777777777777778,
              "#fb9f3a"
             ],
             [
              0.8888888888888888,
              "#fdca26"
             ],
             [
              1.0,
              "#f0f921"
             ]
            ]
           }
          ],
          "heatmap": [
           {
            "type": "heatmap",
            "colorbar": {
             "outlinewidth": 0,
             "ticks": ""
            },
            "colorscale": [
             [
              0.0,
              "#0d0887"
             ],
             [
              0.1111111111111111,
              "#46039f"
             ],
             [
              0.2222222222222222,
              "#7201a8"
             ],
             [
              0.3333333333333333,
              "#9c179e"
             ],
             [
              0.4444444444444444,
              "#bd3786"
             ],
             [
              0.5555555555555556,
              "#d8576b"
             ],
             [
              0.6666666666666666,
              "#ed7953"
             ],
             [
              0.7777777777777778,
              "#fb9f3a"
             ],
             [
              0.8888888888888888,
              "#fdca26"
             ],
             [
              1.0,
              "#f0f921"
             ]
            ]
           }
          ],
          "contourcarpet": [
           {
            "type": "contourcarpet",
            "colorbar": {
             "outlinewidth": 0,
             "ticks": ""
            }
           }
          ],
          "contour": [
           {
            "type": "contour",
            "colorbar": {
             "outlinewidth": 0,
             "ticks": ""
            },
            "colorscale": [
             [
              0.0,
              "#0d0887"
             ],
             [
              0.1111111111111111,
              "#46039f"
             ],
             [
              0.2222222222222222,
              "#7201a8"
             ],
             [
              0.3333333333333333,
              "#9c179e"
             ],
             [
              0.4444444444444444,
              "#bd3786"
             ],
             [
              0.5555555555555556,
              "#d8576b"
             ],
             [
              0.6666666666666666,
              "#ed7953"
             ],
             [
              0.7777777777777778,
              "#fb9f3a"
             ],
             [
              0.8888888888888888,
              "#fdca26"
             ],
             [
              1.0,
              "#f0f921"
             ]
            ]
           }
          ],
          "surface": [
           {
            "type": "surface",
            "colorbar": {
             "outlinewidth": 0,
             "ticks": ""
            },
            "colorscale": [
             [
              0.0,
              "#0d0887"
             ],
             [
              0.1111111111111111,
              "#46039f"
             ],
             [
              0.2222222222222222,
              "#7201a8"
             ],
             [
              0.3333333333333333,
              "#9c179e"
             ],
             [
              0.4444444444444444,
              "#bd3786"
             ],
             [
              0.5555555555555556,
              "#d8576b"
             ],
             [
              0.6666666666666666,
              "#ed7953"
             ],
             [
              0.7777777777777778,
              "#fb9f3a"
             ],
             [
              0.8888888888888888,
              "#fdca26"
             ],
             [
              1.0,
              "#f0f921"
             ]
            ]
           }
          ],
          "mesh3d": [
           {
            "type": "mesh3d",
            "colorbar": {
             "outlinewidth": 0,
             "ticks": ""
            }
           }
          ],
          "scatter": [
           {
            "marker": {
             "line": {
              "color": "#283442"
             }
            },
            "type": "scatter"
           }
          ],
          "parcoords": [
           {
            "type": "parcoords",
            "line": {
             "colorbar": {
              "outlinewidth": 0,
              "ticks": ""
             }
            }
           }
          ],
          "scatterpolargl": [
           {
            "type": "scatterpolargl",
            "marker": {
             "colorbar": {
              "outlinewidth": 0,
              "ticks": ""
             }
            }
           }
          ],
          "bar": [
           {
            "error_x": {
             "color": "#f2f5fa"
            },
            "error_y": {
             "color": "#f2f5fa"
            },
            "marker": {
             "line": {
              "color": "rgb(17,17,17)",
              "width": 0.5
             },
             "pattern": {
              "fillmode": "overlay",
              "size": 10,
              "solidity": 0.2
             }
            },
            "type": "bar"
           }
          ],
          "scattergeo": [
           {
            "type": "scattergeo",
            "marker": {
             "colorbar": {
              "outlinewidth": 0,
              "ticks": ""
             }
            }
           }
          ],
          "scatterpolar": [
           {
            "type": "scatterpolar",
            "marker": {
             "colorbar": {
              "outlinewidth": 0,
              "ticks": ""
             }
            }
           }
          ],
          "histogram": [
           {
            "marker": {
             "pattern": {
              "fillmode": "overlay",
              "size": 10,
              "solidity": 0.2
             }
            },
            "type": "histogram"
           }
          ],
          "scattergl": [
           {
            "marker": {
             "line": {
              "color": "#283442"
             }
            },
            "type": "scattergl"
           }
          ],
          "scatter3d": [
           {
            "type": "scatter3d",
            "line": {
             "colorbar": {
              "outlinewidth": 0,
              "ticks": ""
             }
            },
            "marker": {
             "colorbar": {
              "outlinewidth": 0,
              "ticks": ""
             }
            }
           }
          ],
          "scattermap": [
           {
            "type": "scattermap",
            "marker": {
             "colorbar": {
              "outlinewidth": 0,
              "ticks": ""
             }
            }
           }
          ],
          "scattermapbox": [
           {
            "type": "scattermapbox",
            "marker": {
             "colorbar": {
              "outlinewidth": 0,
              "ticks": ""
             }
            }
           }
          ],
          "scatterternary": [
           {
            "type": "scatterternary",
            "marker": {
             "colorbar": {
              "outlinewidth": 0,
              "ticks": ""
             }
            }
           }
          ],
          "scattercarpet": [
           {
            "type": "scattercarpet",
            "marker": {
             "colorbar": {
              "outlinewidth": 0,
              "ticks": ""
             }
            }
           }
          ],
          "carpet": [
           {
            "aaxis": {
             "endlinecolor": "#A2B1C6",
             "gridcolor": "#506784",
             "linecolor": "#506784",
             "minorgridcolor": "#506784",
             "startlinecolor": "#A2B1C6"
            },
            "baxis": {
             "endlinecolor": "#A2B1C6",
             "gridcolor": "#506784",
             "linecolor": "#506784",
             "minorgridcolor": "#506784",
             "startlinecolor": "#A2B1C6"
            },
            "type": "carpet"
           }
          ],
          "table": [
           {
            "cells": {
             "fill": {
              "color": "#506784"
             },
             "line": {
              "color": "rgb(17,17,17)"
             }
            },
            "header": {
             "fill": {
              "color": "#2a3f5f"
             },
             "line": {
              "color": "rgb(17,17,17)"
             }
            },
            "type": "table"
           }
          ],
          "barpolar": [
           {
            "marker": {
             "line": {
              "color": "rgb(17,17,17)",
              "width": 0.5
             },
             "pattern": {
              "fillmode": "overlay",
              "size": 10,
              "solidity": 0.2
             }
            },
            "type": "barpolar"
           }
          ],
          "pie": [
           {
            "automargin": true,
            "type": "pie"
           }
          ]
         },
         "layout": {
          "autotypenumbers": "strict",
          "colorway": [
           "#636efa",
           "#EF553B",
           "#00cc96",
           "#ab63fa",
           "#FFA15A",
           "#19d3f3",
           "#FF6692",
           "#B6E880",
           "#FF97FF",
           "#FECB52"
          ],
          "font": {
           "color": "#f2f5fa"
          },
          "hovermode": "closest",
          "hoverlabel": {
           "align": "left"
          },
          "paper_bgcolor": "rgb(17,17,17)",
          "plot_bgcolor": "rgb(17,17,17)",
          "polar": {
           "bgcolor": "rgb(17,17,17)",
           "angularaxis": {
            "gridcolor": "#506784",
            "linecolor": "#506784",
            "ticks": ""
           },
           "radialaxis": {
            "gridcolor": "#506784",
            "linecolor": "#506784",
            "ticks": ""
           }
          },
          "ternary": {
           "bgcolor": "rgb(17,17,17)",
           "aaxis": {
            "gridcolor": "#506784",
            "linecolor": "#506784",
            "ticks": ""
           },
           "baxis": {
            "gridcolor": "#506784",
            "linecolor": "#506784",
            "ticks": ""
           },
           "caxis": {
            "gridcolor": "#506784",
            "linecolor": "#506784",
            "ticks": ""
           }
          },
          "coloraxis": {
           "colorbar": {
            "outlinewidth": 0,
            "ticks": ""
           }
          },
          "colorscale": {
           "sequential": [
            [
             0.0,
             "#0d0887"
            ],
            [
             0.1111111111111111,
             "#46039f"
            ],
            [
             0.2222222222222222,
             "#7201a8"
            ],
            [
             0.3333333333333333,
             "#9c179e"
            ],
            [
             0.4444444444444444,
             "#bd3786"
            ],
            [
             0.5555555555555556,
             "#d8576b"
            ],
            [
             0.6666666666666666,
             "#ed7953"
            ],
            [
             0.7777777777777778,
             "#fb9f3a"
            ],
            [
             0.8888888888888888,
             "#fdca26"
            ],
            [
             1.0,
             "#f0f921"
            ]
           ],
           "sequentialminus": [
            [
             0.0,
             "#0d0887"
            ],
            [
             0.1111111111111111,
             "#46039f"
            ],
            [
             0.2222222222222222,
             "#7201a8"
            ],
            [
             0.3333333333333333,
             "#9c179e"
            ],
            [
             0.4444444444444444,
             "#bd3786"
            ],
            [
             0.5555555555555556,
             "#d8576b"
            ],
            [
             0.6666666666666666,
             "#ed7953"
            ],
            [
             0.7777777777777778,
             "#fb9f3a"
            ],
            [
             0.8888888888888888,
             "#fdca26"
            ],
            [
             1.0,
             "#f0f921"
            ]
           ],
           "diverging": [
            [
             0,
             "#8e0152"
            ],
            [
             0.1,
             "#c51b7d"
            ],
            [
             0.2,
             "#de77ae"
            ],
            [
             0.3,
             "#f1b6da"
            ],
            [
             0.4,
             "#fde0ef"
            ],
            [
             0.5,
             "#f7f7f7"
            ],
            [
             0.6,
             "#e6f5d0"
            ],
            [
             0.7,
             "#b8e186"
            ],
            [
             0.8,
             "#7fbc41"
            ],
            [
             0.9,
             "#4d9221"
            ],
            [
             1,
             "#276419"
            ]
           ]
          },
          "xaxis": {
           "gridcolor": "#283442",
           "linecolor": "#506784",
           "ticks": "",
           "title": {
            "standoff": 15
           },
           "zerolinecolor": "#283442",
           "automargin": true,
           "zerolinewidth": 2
          },
          "yaxis": {
           "gridcolor": "#283442",
           "linecolor": "#506784",
           "ticks": "",
           "title": {
            "standoff": 15
           },
           "zerolinecolor": "#283442",
           "automargin": true,
           "zerolinewidth": 2
          },
          "scene": {
           "xaxis": {
            "backgroundcolor": "rgb(17,17,17)",
            "gridcolor": "#506784",
            "linecolor": "#506784",
            "showbackground": true,
            "ticks": "",
            "zerolinecolor": "#C8D4E3",
            "gridwidth": 2
           },
           "yaxis": {
            "backgroundcolor": "rgb(17,17,17)",
            "gridcolor": "#506784",
            "linecolor": "#506784",
            "showbackground": true,
            "ticks": "",
            "zerolinecolor": "#C8D4E3",
            "gridwidth": 2
           },
           "zaxis": {
            "backgroundcolor": "rgb(17,17,17)",
            "gridcolor": "#506784",
            "linecolor": "#506784",
            "showbackground": true,
            "ticks": "",
            "zerolinecolor": "#C8D4E3",
            "gridwidth": 2
           }
          },
          "shapedefaults": {
           "line": {
            "color": "#f2f5fa"
           }
          },
          "annotationdefaults": {
           "arrowcolor": "#f2f5fa",
           "arrowhead": 0,
           "arrowwidth": 1
          },
          "geo": {
           "bgcolor": "rgb(17,17,17)",
           "landcolor": "rgb(17,17,17)",
           "subunitcolor": "#506784",
           "showland": true,
           "showlakes": true,
           "lakecolor": "rgb(17,17,17)"
          },
          "title": {
           "x": 0.05
          },
          "updatemenudefaults": {
           "bgcolor": "#506784",
           "borderwidth": 0
          },
          "sliderdefaults": {
           "bgcolor": "#C8D4E3",
           "borderwidth": 1,
           "bordercolor": "rgb(17,17,17)",
           "tickwidth": 0
          },
          "mapbox": {
           "style": "dark"
          }
         }
        },
        "legend": {
         "tracegroupgap": 0
        },
        "margin": {
         "t": 60
        },
        "piecolorway": [
         "#4E79A7",
         "#F28E2B",
         "#E15759",
         "#76B7B2",
         "#59A14F",
         "#EDC949",
         "#AF7AA1",
         "#FF9DA7",
         "#9C755F",
         "#BAB0AC",
         "#1F77B4",
         "#FF7F0E",
         "#2CA02C",
         "#D62728",
         "#9467BD"
        ]
       },
       "config": {
        "plotlyServerURL": "https://plot.ly"
       }
      }
     },
     "metadata": {},
     "output_type": "display_data"
    }
   ],
   "execution_count": 43
  },
  {
   "metadata": {
    "ExecuteTime": {
     "end_time": "2025-06-07T14:37:19.165923Z",
     "start_time": "2025-06-07T14:37:19.127807Z"
    }
   },
   "cell_type": "code",
   "source": [
    "fig = px.pie(dfN, names='outOfStock', color ='outOfStock', color_discrete_sequence=colors, template='plotly_dark')\n",
    "fig.show()"
   ],
   "id": "2038b56c12fe5b7f",
   "outputs": [
    {
     "data": {
      "application/vnd.plotly.v1+json": {
       "data": [
        {
         "customdata": [
          [
           false
          ],
          [
           false
          ],
          [
           false
          ],
          [
           false
          ],
          [
           false
          ],
          [
           false
          ],
          [
           false
          ],
          [
           false
          ],
          [
           false
          ],
          [
           false
          ],
          [
           false
          ],
          [
           false
          ],
          [
           false
          ],
          [
           false
          ],
          [
           false
          ],
          [
           false
          ],
          [
           false
          ],
          [
           false
          ],
          [
           false
          ],
          [
           false
          ],
          [
           false
          ],
          [
           false
          ],
          [
           false
          ],
          [
           false
          ],
          [
           false
          ],
          [
           false
          ],
          [
           false
          ],
          [
           false
          ],
          [
           false
          ],
          [
           false
          ],
          [
           false
          ],
          [
           false
          ],
          [
           false
          ],
          [
           false
          ],
          [
           false
          ],
          [
           false
          ],
          [
           false
          ],
          [
           false
          ],
          [
           false
          ],
          [
           false
          ],
          [
           false
          ],
          [
           false
          ],
          [
           false
          ],
          [
           false
          ],
          [
           false
          ],
          [
           false
          ],
          [
           false
          ],
          [
           false
          ],
          [
           false
          ],
          [
           false
          ],
          [
           false
          ],
          [
           false
          ],
          [
           false
          ],
          [
           false
          ],
          [
           false
          ],
          [
           false
          ],
          [
           false
          ],
          [
           false
          ],
          [
           false
          ],
          [
           false
          ],
          [
           false
          ],
          [
           false
          ],
          [
           false
          ],
          [
           false
          ],
          [
           false
          ],
          [
           false
          ],
          [
           false
          ],
          [
           false
          ],
          [
           false
          ],
          [
           false
          ],
          [
           false
          ],
          [
           false
          ],
          [
           false
          ],
          [
           false
          ],
          [
           false
          ],
          [
           false
          ],
          [
           false
          ],
          [
           false
          ],
          [
           false
          ],
          [
           false
          ],
          [
           false
          ],
          [
           false
          ],
          [
           false
          ],
          [
           false
          ],
          [
           false
          ],
          [
           true
          ],
          [
           true
          ],
          [
           true
          ],
          [
           true
          ],
          [
           false
          ],
          [
           false
          ],
          [
           false
          ],
          [
           false
          ],
          [
           false
          ],
          [
           false
          ],
          [
           false
          ],
          [
           false
          ],
          [
           false
          ],
          [
           false
          ],
          [
           false
          ],
          [
           false
          ],
          [
           false
          ],
          [
           false
          ],
          [
           false
          ],
          [
           false
          ],
          [
           false
          ],
          [
           false
          ],
          [
           false
          ],
          [
           false
          ],
          [
           false
          ],
          [
           false
          ],
          [
           false
          ],
          [
           false
          ],
          [
           false
          ],
          [
           false
          ],
          [
           false
          ],
          [
           false
          ],
          [
           false
          ],
          [
           false
          ],
          [
           false
          ],
          [
           false
          ],
          [
           false
          ],
          [
           false
          ],
          [
           false
          ],
          [
           false
          ],
          [
           false
          ],
          [
           false
          ],
          [
           false
          ],
          [
           false
          ],
          [
           false
          ],
          [
           false
          ],
          [
           false
          ],
          [
           false
          ],
          [
           false
          ],
          [
           false
          ],
          [
           false
          ],
          [
           false
          ],
          [
           false
          ],
          [
           false
          ],
          [
           false
          ],
          [
           false
          ],
          [
           false
          ],
          [
           false
          ],
          [
           false
          ],
          [
           false
          ],
          [
           false
          ],
          [
           false
          ],
          [
           false
          ],
          [
           false
          ],
          [
           false
          ],
          [
           false
          ],
          [
           false
          ],
          [
           false
          ],
          [
           false
          ],
          [
           false
          ],
          [
           false
          ],
          [
           false
          ],
          [
           false
          ],
          [
           false
          ],
          [
           false
          ],
          [
           false
          ],
          [
           false
          ],
          [
           false
          ],
          [
           false
          ],
          [
           false
          ],
          [
           false
          ],
          [
           false
          ],
          [
           false
          ],
          [
           false
          ],
          [
           false
          ],
          [
           false
          ],
          [
           false
          ],
          [
           false
          ],
          [
           false
          ],
          [
           false
          ],
          [
           false
          ],
          [
           false
          ],
          [
           false
          ],
          [
           false
          ],
          [
           false
          ],
          [
           false
          ],
          [
           false
          ],
          [
           false
          ],
          [
           false
          ],
          [
           false
          ],
          [
           false
          ],
          [
           false
          ],
          [
           false
          ],
          [
           false
          ],
          [
           false
          ],
          [
           false
          ],
          [
           false
          ],
          [
           false
          ],
          [
           false
          ],
          [
           false
          ],
          [
           false
          ],
          [
           false
          ],
          [
           false
          ],
          [
           false
          ],
          [
           false
          ],
          [
           false
          ],
          [
           false
          ],
          [
           false
          ],
          [
           false
          ],
          [
           false
          ],
          [
           false
          ],
          [
           false
          ],
          [
           false
          ],
          [
           false
          ],
          [
           false
          ],
          [
           false
          ],
          [
           false
          ],
          [
           false
          ],
          [
           false
          ],
          [
           false
          ],
          [
           false
          ],
          [
           false
          ],
          [
           false
          ],
          [
           false
          ],
          [
           false
          ],
          [
           false
          ],
          [
           false
          ],
          [
           false
          ],
          [
           false
          ],
          [
           false
          ],
          [
           false
          ],
          [
           false
          ],
          [
           false
          ],
          [
           false
          ],
          [
           false
          ],
          [
           false
          ],
          [
           false
          ],
          [
           false
          ],
          [
           false
          ],
          [
           false
          ],
          [
           false
          ],
          [
           false
          ],
          [
           false
          ],
          [
           false
          ],
          [
           false
          ],
          [
           false
          ],
          [
           false
          ],
          [
           false
          ],
          [
           false
          ],
          [
           false
          ],
          [
           false
          ],
          [
           false
          ],
          [
           false
          ],
          [
           false
          ],
          [
           false
          ],
          [
           false
          ],
          [
           false
          ],
          [
           false
          ],
          [
           false
          ],
          [
           false
          ],
          [
           false
          ],
          [
           false
          ],
          [
           false
          ],
          [
           false
          ],
          [
           false
          ],
          [
           false
          ],
          [
           false
          ],
          [
           false
          ],
          [
           false
          ],
          [
           false
          ],
          [
           false
          ],
          [
           false
          ],
          [
           false
          ],
          [
           false
          ],
          [
           false
          ],
          [
           false
          ],
          [
           false
          ],
          [
           false
          ],
          [
           false
          ],
          [
           false
          ],
          [
           false
          ],
          [
           false
          ],
          [
           false
          ],
          [
           false
          ],
          [
           false
          ],
          [
           false
          ],
          [
           false
          ],
          [
           false
          ],
          [
           false
          ],
          [
           false
          ],
          [
           false
          ],
          [
           false
          ],
          [
           false
          ],
          [
           false
          ],
          [
           false
          ],
          [
           false
          ],
          [
           false
          ],
          [
           false
          ],
          [
           false
          ],
          [
           false
          ],
          [
           false
          ],
          [
           false
          ],
          [
           false
          ],
          [
           false
          ],
          [
           false
          ],
          [
           false
          ],
          [
           false
          ],
          [
           false
          ],
          [
           false
          ],
          [
           false
          ],
          [
           false
          ],
          [
           false
          ],
          [
           false
          ],
          [
           false
          ],
          [
           false
          ],
          [
           false
          ],
          [
           false
          ],
          [
           false
          ],
          [
           false
          ],
          [
           false
          ],
          [
           false
          ],
          [
           false
          ],
          [
           false
          ],
          [
           false
          ],
          [
           false
          ],
          [
           false
          ],
          [
           false
          ],
          [
           false
          ],
          [
           false
          ],
          [
           false
          ],
          [
           false
          ],
          [
           false
          ],
          [
           false
          ],
          [
           false
          ],
          [
           false
          ],
          [
           false
          ],
          [
           false
          ],
          [
           false
          ],
          [
           false
          ],
          [
           false
          ],
          [
           false
          ],
          [
           false
          ],
          [
           false
          ],
          [
           false
          ],
          [
           false
          ],
          [
           false
          ],
          [
           false
          ],
          [
           false
          ],
          [
           false
          ],
          [
           false
          ],
          [
           false
          ],
          [
           false
          ],
          [
           false
          ],
          [
           false
          ],
          [
           false
          ],
          [
           false
          ],
          [
           false
          ],
          [
           false
          ],
          [
           false
          ],
          [
           false
          ],
          [
           false
          ],
          [
           false
          ],
          [
           false
          ],
          [
           false
          ],
          [
           false
          ],
          [
           false
          ],
          [
           false
          ],
          [
           false
          ],
          [
           false
          ],
          [
           false
          ],
          [
           false
          ],
          [
           false
          ],
          [
           false
          ],
          [
           false
          ],
          [
           false
          ],
          [
           false
          ],
          [
           false
          ],
          [
           false
          ],
          [
           false
          ],
          [
           false
          ],
          [
           false
          ],
          [
           false
          ],
          [
           false
          ],
          [
           false
          ],
          [
           false
          ],
          [
           false
          ],
          [
           false
          ],
          [
           false
          ],
          [
           false
          ],
          [
           false
          ],
          [
           false
          ],
          [
           false
          ],
          [
           false
          ],
          [
           false
          ],
          [
           false
          ],
          [
           false
          ],
          [
           false
          ],
          [
           false
          ],
          [
           false
          ],
          [
           false
          ],
          [
           false
          ],
          [
           false
          ],
          [
           false
          ],
          [
           false
          ],
          [
           false
          ],
          [
           false
          ],
          [
           false
          ],
          [
           false
          ],
          [
           false
          ],
          [
           false
          ],
          [
           false
          ],
          [
           false
          ],
          [
           false
          ],
          [
           false
          ],
          [
           false
          ],
          [
           false
          ],
          [
           false
          ],
          [
           false
          ],
          [
           false
          ],
          [
           false
          ],
          [
           false
          ],
          [
           false
          ],
          [
           false
          ],
          [
           false
          ],
          [
           false
          ],
          [
           false
          ],
          [
           false
          ],
          [
           false
          ],
          [
           false
          ],
          [
           false
          ],
          [
           false
          ],
          [
           false
          ],
          [
           false
          ],
          [
           false
          ],
          [
           false
          ],
          [
           false
          ],
          [
           false
          ],
          [
           false
          ],
          [
           false
          ],
          [
           false
          ],
          [
           false
          ],
          [
           false
          ],
          [
           false
          ],
          [
           false
          ],
          [
           false
          ],
          [
           false
          ],
          [
           false
          ],
          [
           false
          ],
          [
           false
          ],
          [
           false
          ],
          [
           false
          ],
          [
           false
          ],
          [
           false
          ],
          [
           false
          ],
          [
           false
          ],
          [
           false
          ],
          [
           false
          ],
          [
           false
          ],
          [
           false
          ],
          [
           false
          ],
          [
           false
          ],
          [
           false
          ],
          [
           false
          ],
          [
           false
          ],
          [
           false
          ],
          [
           false
          ],
          [
           false
          ],
          [
           false
          ],
          [
           false
          ],
          [
           false
          ],
          [
           false
          ],
          [
           false
          ],
          [
           false
          ],
          [
           false
          ],
          [
           false
          ],
          [
           false
          ],
          [
           false
          ],
          [
           false
          ],
          [
           false
          ],
          [
           false
          ],
          [
           false
          ],
          [
           false
          ],
          [
           false
          ],
          [
           false
          ],
          [
           false
          ],
          [
           false
          ],
          [
           false
          ],
          [
           false
          ],
          [
           false
          ],
          [
           false
          ],
          [
           false
          ],
          [
           false
          ],
          [
           false
          ],
          [
           false
          ],
          [
           false
          ],
          [
           false
          ],
          [
           false
          ],
          [
           false
          ],
          [
           false
          ],
          [
           false
          ],
          [
           false
          ],
          [
           false
          ],
          [
           false
          ],
          [
           false
          ],
          [
           false
          ],
          [
           false
          ],
          [
           false
          ],
          [
           false
          ],
          [
           false
          ],
          [
           false
          ],
          [
           false
          ],
          [
           false
          ],
          [
           false
          ],
          [
           false
          ],
          [
           true
          ],
          [
           true
          ],
          [
           true
          ],
          [
           true
          ],
          [
           true
          ],
          [
           true
          ],
          [
           true
          ],
          [
           true
          ],
          [
           true
          ],
          [
           true
          ],
          [
           true
          ],
          [
           true
          ],
          [
           true
          ],
          [
           true
          ],
          [
           true
          ],
          [
           true
          ],
          [
           true
          ],
          [
           true
          ],
          [
           true
          ],
          [
           true
          ],
          [
           true
          ],
          [
           true
          ],
          [
           true
          ],
          [
           true
          ],
          [
           true
          ],
          [
           true
          ],
          [
           true
          ],
          [
           true
          ],
          [
           true
          ],
          [
           true
          ],
          [
           true
          ],
          [
           true
          ],
          [
           true
          ],
          [
           true
          ],
          [
           true
          ],
          [
           true
          ],
          [
           true
          ],
          [
           true
          ],
          [
           true
          ],
          [
           true
          ],
          [
           true
          ],
          [
           true
          ],
          [
           true
          ],
          [
           true
          ],
          [
           true
          ],
          [
           true
          ],
          [
           true
          ],
          [
           true
          ],
          [
           true
          ],
          [
           true
          ],
          [
           true
          ],
          [
           true
          ],
          [
           true
          ],
          [
           true
          ],
          [
           true
          ],
          [
           true
          ],
          [
           true
          ],
          [
           true
          ],
          [
           false
          ],
          [
           false
          ],
          [
           false
          ],
          [
           false
          ],
          [
           false
          ],
          [
           false
          ],
          [
           false
          ],
          [
           false
          ],
          [
           false
          ],
          [
           false
          ],
          [
           false
          ],
          [
           false
          ],
          [
           false
          ],
          [
           false
          ],
          [
           false
          ],
          [
           false
          ],
          [
           false
          ],
          [
           false
          ],
          [
           false
          ],
          [
           false
          ],
          [
           false
          ],
          [
           false
          ],
          [
           false
          ],
          [
           false
          ],
          [
           false
          ],
          [
           false
          ],
          [
           false
          ],
          [
           false
          ],
          [
           false
          ],
          [
           false
          ],
          [
           false
          ],
          [
           false
          ],
          [
           false
          ],
          [
           false
          ],
          [
           false
          ],
          [
           false
          ],
          [
           false
          ],
          [
           false
          ],
          [
           false
          ],
          [
           false
          ],
          [
           false
          ],
          [
           false
          ],
          [
           false
          ],
          [
           false
          ],
          [
           false
          ],
          [
           false
          ],
          [
           false
          ],
          [
           false
          ],
          [
           false
          ],
          [
           false
          ],
          [
           false
          ],
          [
           false
          ],
          [
           false
          ],
          [
           false
          ],
          [
           false
          ],
          [
           false
          ],
          [
           false
          ],
          [
           false
          ],
          [
           false
          ],
          [
           false
          ],
          [
           false
          ],
          [
           false
          ],
          [
           false
          ],
          [
           false
          ],
          [
           false
          ],
          [
           false
          ],
          [
           false
          ],
          [
           false
          ],
          [
           false
          ],
          [
           false
          ],
          [
           false
          ],
          [
           false
          ],
          [
           false
          ],
          [
           false
          ],
          [
           false
          ],
          [
           false
          ],
          [
           false
          ],
          [
           false
          ],
          [
           false
          ],
          [
           false
          ],
          [
           false
          ],
          [
           false
          ],
          [
           false
          ],
          [
           true
          ],
          [
           true
          ],
          [
           true
          ],
          [
           true
          ],
          [
           true
          ],
          [
           true
          ],
          [
           true
          ],
          [
           true
          ],
          [
           true
          ],
          [
           true
          ],
          [
           true
          ],
          [
           true
          ],
          [
           true
          ],
          [
           true
          ],
          [
           true
          ],
          [
           true
          ],
          [
           true
          ],
          [
           true
          ],
          [
           true
          ],
          [
           true
          ],
          [
           true
          ],
          [
           true
          ],
          [
           true
          ],
          [
           true
          ],
          [
           true
          ],
          [
           false
          ],
          [
           false
          ],
          [
           false
          ],
          [
           false
          ],
          [
           false
          ],
          [
           false
          ],
          [
           false
          ],
          [
           false
          ],
          [
           false
          ],
          [
           false
          ],
          [
           false
          ],
          [
           false
          ],
          [
           false
          ],
          [
           false
          ],
          [
           false
          ],
          [
           false
          ],
          [
           false
          ],
          [
           false
          ],
          [
           false
          ],
          [
           false
          ],
          [
           false
          ],
          [
           false
          ],
          [
           false
          ],
          [
           false
          ],
          [
           false
          ],
          [
           false
          ],
          [
           false
          ],
          [
           false
          ],
          [
           false
          ],
          [
           false
          ],
          [
           false
          ],
          [
           false
          ],
          [
           false
          ],
          [
           false
          ],
          [
           false
          ],
          [
           false
          ],
          [
           false
          ],
          [
           false
          ],
          [
           false
          ],
          [
           false
          ],
          [
           false
          ],
          [
           false
          ],
          [
           false
          ],
          [
           false
          ],
          [
           false
          ],
          [
           false
          ],
          [
           false
          ],
          [
           false
          ],
          [
           false
          ],
          [
           false
          ],
          [
           false
          ],
          [
           false
          ],
          [
           false
          ],
          [
           false
          ],
          [
           false
          ],
          [
           false
          ],
          [
           false
          ],
          [
           false
          ],
          [
           false
          ],
          [
           false
          ],
          [
           false
          ],
          [
           false
          ],
          [
           false
          ],
          [
           false
          ],
          [
           false
          ],
          [
           false
          ],
          [
           false
          ],
          [
           false
          ],
          [
           false
          ],
          [
           false
          ],
          [
           false
          ],
          [
           false
          ],
          [
           false
          ],
          [
           false
          ],
          [
           false
          ],
          [
           false
          ],
          [
           false
          ],
          [
           false
          ],
          [
           false
          ],
          [
           false
          ],
          [
           false
          ],
          [
           false
          ],
          [
           false
          ],
          [
           false
          ],
          [
           false
          ],
          [
           false
          ],
          [
           false
          ],
          [
           false
          ],
          [
           false
          ],
          [
           false
          ],
          [
           false
          ],
          [
           false
          ],
          [
           false
          ],
          [
           false
          ],
          [
           false
          ],
          [
           false
          ],
          [
           false
          ],
          [
           false
          ],
          [
           false
          ],
          [
           false
          ],
          [
           false
          ],
          [
           false
          ],
          [
           false
          ],
          [
           false
          ],
          [
           false
          ],
          [
           false
          ],
          [
           false
          ],
          [
           false
          ],
          [
           false
          ],
          [
           false
          ],
          [
           false
          ],
          [
           false
          ],
          [
           false
          ],
          [
           false
          ],
          [
           false
          ],
          [
           false
          ],
          [
           false
          ],
          [
           false
          ],
          [
           false
          ],
          [
           false
          ],
          [
           false
          ],
          [
           false
          ],
          [
           false
          ],
          [
           false
          ],
          [
           false
          ],
          [
           false
          ],
          [
           false
          ],
          [
           false
          ],
          [
           false
          ],
          [
           false
          ],
          [
           false
          ],
          [
           false
          ],
          [
           false
          ],
          [
           false
          ],
          [
           false
          ],
          [
           false
          ],
          [
           false
          ],
          [
           false
          ],
          [
           false
          ],
          [
           false
          ],
          [
           false
          ],
          [
           false
          ],
          [
           false
          ],
          [
           false
          ],
          [
           false
          ],
          [
           false
          ],
          [
           false
          ],
          [
           false
          ],
          [
           false
          ],
          [
           false
          ],
          [
           false
          ],
          [
           false
          ],
          [
           false
          ],
          [
           false
          ],
          [
           false
          ],
          [
           false
          ],
          [
           false
          ],
          [
           false
          ],
          [
           false
          ],
          [
           false
          ],
          [
           false
          ],
          [
           false
          ],
          [
           false
          ],
          [
           false
          ],
          [
           false
          ],
          [
           false
          ],
          [
           false
          ],
          [
           false
          ],
          [
           false
          ],
          [
           false
          ],
          [
           false
          ],
          [
           false
          ],
          [
           false
          ],
          [
           false
          ],
          [
           false
          ],
          [
           false
          ],
          [
           false
          ],
          [
           false
          ],
          [
           false
          ],
          [
           false
          ],
          [
           false
          ],
          [
           false
          ],
          [
           false
          ],
          [
           false
          ],
          [
           false
          ],
          [
           false
          ],
          [
           false
          ],
          [
           false
          ],
          [
           false
          ],
          [
           false
          ],
          [
           false
          ],
          [
           false
          ],
          [
           false
          ],
          [
           false
          ],
          [
           false
          ],
          [
           false
          ],
          [
           false
          ],
          [
           false
          ],
          [
           false
          ],
          [
           false
          ],
          [
           false
          ],
          [
           false
          ],
          [
           false
          ],
          [
           false
          ],
          [
           false
          ],
          [
           false
          ],
          [
           false
          ],
          [
           false
          ],
          [
           false
          ],
          [
           false
          ],
          [
           false
          ],
          [
           false
          ],
          [
           false
          ],
          [
           false
          ],
          [
           false
          ],
          [
           false
          ],
          [
           false
          ],
          [
           false
          ],
          [
           false
          ],
          [
           false
          ],
          [
           false
          ],
          [
           false
          ],
          [
           false
          ],
          [
           false
          ],
          [
           false
          ],
          [
           false
          ],
          [
           false
          ],
          [
           false
          ],
          [
           false
          ],
          [
           false
          ],
          [
           false
          ],
          [
           false
          ],
          [
           false
          ],
          [
           false
          ],
          [
           false
          ],
          [
           false
          ],
          [
           false
          ],
          [
           false
          ],
          [
           false
          ],
          [
           false
          ],
          [
           false
          ],
          [
           false
          ],
          [
           false
          ],
          [
           false
          ],
          [
           false
          ],
          [
           false
          ],
          [
           false
          ],
          [
           false
          ],
          [
           false
          ],
          [
           false
          ],
          [
           false
          ],
          [
           false
          ],
          [
           false
          ],
          [
           false
          ],
          [
           false
          ],
          [
           false
          ],
          [
           false
          ],
          [
           false
          ],
          [
           false
          ],
          [
           false
          ],
          [
           false
          ],
          [
           true
          ],
          [
           true
          ],
          [
           true
          ],
          [
           true
          ],
          [
           true
          ],
          [
           true
          ],
          [
           true
          ],
          [
           true
          ],
          [
           true
          ],
          [
           true
          ],
          [
           true
          ],
          [
           true
          ],
          [
           true
          ],
          [
           true
          ],
          [
           true
          ],
          [
           true
          ],
          [
           true
          ],
          [
           true
          ],
          [
           true
          ],
          [
           true
          ],
          [
           true
          ],
          [
           true
          ],
          [
           true
          ],
          [
           true
          ],
          [
           true
          ],
          [
           true
          ],
          [
           false
          ],
          [
           false
          ],
          [
           false
          ],
          [
           false
          ],
          [
           false
          ],
          [
           false
          ],
          [
           false
          ],
          [
           false
          ],
          [
           false
          ],
          [
           false
          ],
          [
           false
          ],
          [
           false
          ],
          [
           false
          ],
          [
           false
          ],
          [
           false
          ],
          [
           false
          ],
          [
           false
          ],
          [
           false
          ],
          [
           false
          ],
          [
           false
          ],
          [
           false
          ],
          [
           false
          ],
          [
           false
          ],
          [
           false
          ],
          [
           false
          ],
          [
           true
          ],
          [
           true
          ],
          [
           true
          ],
          [
           true
          ],
          [
           true
          ],
          [
           true
          ],
          [
           true
          ],
          [
           false
          ],
          [
           false
          ],
          [
           false
          ],
          [
           false
          ],
          [
           false
          ],
          [
           false
          ],
          [
           false
          ],
          [
           false
          ],
          [
           false
          ],
          [
           false
          ],
          [
           false
          ],
          [
           false
          ],
          [
           false
          ],
          [
           false
          ],
          [
           false
          ],
          [
           false
          ],
          [
           false
          ],
          [
           false
          ],
          [
           false
          ],
          [
           false
          ],
          [
           false
          ],
          [
           false
          ],
          [
           false
          ],
          [
           false
          ],
          [
           false
          ],
          [
           false
          ],
          [
           false
          ],
          [
           false
          ],
          [
           false
          ],
          [
           false
          ],
          [
           false
          ],
          [
           false
          ],
          [
           false
          ],
          [
           false
          ],
          [
           false
          ],
          [
           false
          ],
          [
           false
          ],
          [
           false
          ],
          [
           false
          ],
          [
           false
          ],
          [
           false
          ],
          [
           false
          ],
          [
           false
          ],
          [
           false
          ],
          [
           false
          ],
          [
           false
          ],
          [
           false
          ],
          [
           false
          ],
          [
           false
          ],
          [
           false
          ],
          [
           false
          ],
          [
           false
          ],
          [
           false
          ],
          [
           false
          ],
          [
           false
          ],
          [
           false
          ],
          [
           false
          ],
          [
           false
          ],
          [
           false
          ],
          [
           false
          ],
          [
           false
          ],
          [
           false
          ],
          [
           false
          ],
          [
           false
          ],
          [
           false
          ],
          [
           false
          ],
          [
           false
          ],
          [
           false
          ],
          [
           false
          ],
          [
           false
          ],
          [
           false
          ],
          [
           false
          ],
          [
           false
          ],
          [
           false
          ],
          [
           false
          ],
          [
           false
          ],
          [
           false
          ],
          [
           false
          ],
          [
           false
          ],
          [
           false
          ],
          [
           false
          ],
          [
           false
          ],
          [
           false
          ],
          [
           false
          ],
          [
           false
          ],
          [
           false
          ],
          [
           false
          ],
          [
           false
          ],
          [
           false
          ],
          [
           false
          ],
          [
           false
          ],
          [
           false
          ],
          [
           false
          ],
          [
           false
          ],
          [
           false
          ],
          [
           false
          ],
          [
           false
          ],
          [
           false
          ],
          [
           true
          ],
          [
           true
          ],
          [
           true
          ],
          [
           true
          ],
          [
           true
          ],
          [
           true
          ],
          [
           true
          ],
          [
           true
          ],
          [
           true
          ],
          [
           true
          ],
          [
           true
          ],
          [
           true
          ],
          [
           true
          ],
          [
           true
          ],
          [
           true
          ],
          [
           true
          ],
          [
           true
          ],
          [
           true
          ],
          [
           true
          ],
          [
           true
          ],
          [
           true
          ],
          [
           true
          ],
          [
           true
          ],
          [
           true
          ],
          [
           true
          ],
          [
           true
          ],
          [
           true
          ],
          [
           true
          ],
          [
           true
          ],
          [
           true
          ],
          [
           true
          ],
          [
           true
          ],
          [
           true
          ],
          [
           true
          ],
          [
           true
          ],
          [
           false
          ],
          [
           false
          ],
          [
           false
          ],
          [
           false
          ],
          [
           false
          ],
          [
           false
          ],
          [
           false
          ],
          [
           false
          ],
          [
           false
          ],
          [
           false
          ],
          [
           false
          ],
          [
           false
          ],
          [
           false
          ],
          [
           false
          ],
          [
           false
          ],
          [
           false
          ],
          [
           false
          ],
          [
           false
          ],
          [
           false
          ],
          [
           false
          ],
          [
           false
          ],
          [
           false
          ],
          [
           false
          ],
          [
           false
          ],
          [
           false
          ],
          [
           false
          ],
          [
           false
          ],
          [
           false
          ],
          [
           false
          ],
          [
           false
          ],
          [
           false
          ],
          [
           false
          ],
          [
           false
          ],
          [
           false
          ],
          [
           false
          ],
          [
           false
          ],
          [
           false
          ],
          [
           false
          ],
          [
           false
          ],
          [
           false
          ],
          [
           false
          ],
          [
           false
          ],
          [
           false
          ],
          [
           false
          ],
          [
           false
          ],
          [
           false
          ],
          [
           false
          ],
          [
           false
          ],
          [
           false
          ],
          [
           false
          ],
          [
           false
          ],
          [
           false
          ],
          [
           false
          ],
          [
           false
          ],
          [
           false
          ],
          [
           false
          ],
          [
           false
          ],
          [
           false
          ],
          [
           false
          ],
          [
           false
          ],
          [
           false
          ],
          [
           false
          ],
          [
           false
          ],
          [
           false
          ],
          [
           false
          ],
          [
           false
          ],
          [
           false
          ],
          [
           false
          ],
          [
           false
          ],
          [
           false
          ],
          [
           false
          ],
          [
           false
          ],
          [
           false
          ],
          [
           false
          ],
          [
           false
          ],
          [
           false
          ],
          [
           false
          ],
          [
           false
          ],
          [
           false
          ],
          [
           false
          ],
          [
           false
          ],
          [
           false
          ],
          [
           false
          ],
          [
           false
          ],
          [
           false
          ],
          [
           false
          ],
          [
           false
          ],
          [
           false
          ],
          [
           false
          ],
          [
           false
          ],
          [
           false
          ],
          [
           false
          ],
          [
           false
          ],
          [
           false
          ],
          [
           false
          ],
          [
           false
          ],
          [
           false
          ],
          [
           false
          ],
          [
           false
          ],
          [
           false
          ],
          [
           false
          ],
          [
           false
          ],
          [
           false
          ],
          [
           false
          ],
          [
           false
          ],
          [
           false
          ],
          [
           false
          ],
          [
           false
          ],
          [
           false
          ],
          [
           false
          ],
          [
           false
          ],
          [
           false
          ],
          [
           false
          ],
          [
           false
          ],
          [
           false
          ],
          [
           false
          ],
          [
           false
          ],
          [
           false
          ],
          [
           false
          ],
          [
           false
          ],
          [
           false
          ],
          [
           false
          ],
          [
           false
          ],
          [
           false
          ],
          [
           false
          ],
          [
           false
          ],
          [
           false
          ],
          [
           false
          ],
          [
           false
          ],
          [
           false
          ],
          [
           false
          ],
          [
           false
          ],
          [
           false
          ],
          [
           false
          ],
          [
           false
          ],
          [
           false
          ],
          [
           false
          ],
          [
           false
          ],
          [
           false
          ],
          [
           false
          ],
          [
           false
          ],
          [
           false
          ],
          [
           false
          ],
          [
           false
          ],
          [
           false
          ],
          [
           false
          ],
          [
           false
          ],
          [
           false
          ],
          [
           false
          ],
          [
           false
          ],
          [
           false
          ],
          [
           false
          ],
          [
           false
          ],
          [
           false
          ],
          [
           false
          ],
          [
           false
          ],
          [
           false
          ],
          [
           false
          ],
          [
           false
          ],
          [
           false
          ],
          [
           false
          ],
          [
           false
          ],
          [
           false
          ],
          [
           false
          ],
          [
           false
          ],
          [
           false
          ],
          [
           false
          ],
          [
           false
          ],
          [
           false
          ],
          [
           false
          ],
          [
           false
          ],
          [
           false
          ],
          [
           false
          ],
          [
           false
          ],
          [
           false
          ],
          [
           false
          ],
          [
           false
          ],
          [
           false
          ],
          [
           false
          ],
          [
           false
          ],
          [
           false
          ],
          [
           false
          ],
          [
           false
          ],
          [
           false
          ],
          [
           false
          ],
          [
           false
          ],
          [
           false
          ],
          [
           false
          ],
          [
           false
          ],
          [
           false
          ],
          [
           false
          ],
          [
           false
          ],
          [
           false
          ],
          [
           false
          ],
          [
           false
          ],
          [
           false
          ],
          [
           false
          ],
          [
           false
          ],
          [
           false
          ],
          [
           false
          ],
          [
           false
          ],
          [
           false
          ],
          [
           false
          ],
          [
           false
          ],
          [
           false
          ],
          [
           false
          ],
          [
           false
          ],
          [
           false
          ],
          [
           false
          ],
          [
           false
          ],
          [
           false
          ],
          [
           false
          ],
          [
           false
          ],
          [
           false
          ],
          [
           false
          ],
          [
           false
          ],
          [
           false
          ],
          [
           false
          ],
          [
           false
          ],
          [
           false
          ],
          [
           false
          ],
          [
           false
          ],
          [
           false
          ],
          [
           false
          ],
          [
           false
          ],
          [
           false
          ],
          [
           false
          ],
          [
           false
          ],
          [
           false
          ],
          [
           false
          ],
          [
           false
          ],
          [
           false
          ],
          [
           false
          ],
          [
           false
          ],
          [
           false
          ],
          [
           false
          ],
          [
           false
          ],
          [
           false
          ],
          [
           false
          ],
          [
           false
          ],
          [
           false
          ],
          [
           false
          ],
          [
           false
          ],
          [
           false
          ],
          [
           false
          ],
          [
           false
          ],
          [
           false
          ],
          [
           false
          ],
          [
           false
          ],
          [
           false
          ],
          [
           false
          ],
          [
           false
          ],
          [
           false
          ],
          [
           false
          ],
          [
           false
          ],
          [
           false
          ],
          [
           false
          ],
          [
           false
          ],
          [
           false
          ],
          [
           false
          ],
          [
           false
          ],
          [
           false
          ],
          [
           false
          ],
          [
           false
          ],
          [
           false
          ],
          [
           false
          ],
          [
           false
          ],
          [
           false
          ],
          [
           false
          ],
          [
           false
          ],
          [
           false
          ],
          [
           false
          ],
          [
           false
          ],
          [
           false
          ],
          [
           false
          ],
          [
           false
          ],
          [
           false
          ],
          [
           false
          ],
          [
           false
          ],
          [
           false
          ],
          [
           false
          ],
          [
           false
          ],
          [
           false
          ],
          [
           false
          ],
          [
           false
          ],
          [
           false
          ],
          [
           false
          ],
          [
           false
          ],
          [
           false
          ],
          [
           false
          ],
          [
           false
          ],
          [
           false
          ],
          [
           true
          ],
          [
           true
          ],
          [
           true
          ],
          [
           true
          ],
          [
           true
          ],
          [
           true
          ],
          [
           true
          ],
          [
           true
          ],
          [
           true
          ],
          [
           true
          ],
          [
           true
          ],
          [
           true
          ],
          [
           true
          ],
          [
           true
          ],
          [
           true
          ],
          [
           true
          ],
          [
           true
          ],
          [
           true
          ],
          [
           false
          ],
          [
           false
          ],
          [
           false
          ],
          [
           false
          ],
          [
           false
          ],
          [
           false
          ],
          [
           false
          ],
          [
           false
          ],
          [
           false
          ],
          [
           false
          ],
          [
           false
          ],
          [
           false
          ],
          [
           false
          ],
          [
           false
          ],
          [
           false
          ],
          [
           false
          ],
          [
           false
          ],
          [
           false
          ],
          [
           false
          ],
          [
           false
          ],
          [
           false
          ],
          [
           false
          ],
          [
           false
          ],
          [
           false
          ],
          [
           false
          ],
          [
           false
          ],
          [
           false
          ],
          [
           false
          ],
          [
           false
          ],
          [
           false
          ],
          [
           false
          ],
          [
           false
          ],
          [
           false
          ],
          [
           false
          ],
          [
           false
          ],
          [
           false
          ],
          [
           false
          ],
          [
           false
          ],
          [
           false
          ],
          [
           false
          ],
          [
           false
          ],
          [
           false
          ],
          [
           false
          ],
          [
           false
          ],
          [
           false
          ],
          [
           false
          ],
          [
           false
          ],
          [
           false
          ],
          [
           false
          ],
          [
           false
          ],
          [
           false
          ],
          [
           false
          ],
          [
           false
          ],
          [
           false
          ],
          [
           false
          ],
          [
           false
          ],
          [
           false
          ],
          [
           false
          ],
          [
           false
          ],
          [
           false
          ],
          [
           false
          ],
          [
           false
          ],
          [
           false
          ],
          [
           false
          ],
          [
           false
          ],
          [
           false
          ],
          [
           false
          ],
          [
           false
          ],
          [
           false
          ],
          [
           false
          ],
          [
           false
          ],
          [
           false
          ],
          [
           false
          ],
          [
           false
          ],
          [
           false
          ],
          [
           false
          ],
          [
           false
          ],
          [
           false
          ],
          [
           false
          ],
          [
           false
          ],
          [
           false
          ],
          [
           false
          ],
          [
           false
          ],
          [
           false
          ],
          [
           false
          ],
          [
           false
          ],
          [
           false
          ],
          [
           false
          ],
          [
           false
          ],
          [
           false
          ],
          [
           false
          ],
          [
           false
          ],
          [
           false
          ],
          [
           false
          ],
          [
           false
          ],
          [
           false
          ],
          [
           false
          ],
          [
           false
          ],
          [
           false
          ],
          [
           false
          ],
          [
           false
          ],
          [
           false
          ],
          [
           false
          ],
          [
           false
          ],
          [
           false
          ],
          [
           false
          ],
          [
           false
          ],
          [
           false
          ],
          [
           false
          ],
          [
           false
          ],
          [
           false
          ],
          [
           false
          ],
          [
           false
          ],
          [
           false
          ],
          [
           false
          ],
          [
           false
          ],
          [
           false
          ],
          [
           false
          ],
          [
           false
          ],
          [
           false
          ],
          [
           false
          ],
          [
           false
          ],
          [
           false
          ],
          [
           false
          ],
          [
           false
          ],
          [
           false
          ],
          [
           false
          ],
          [
           false
          ],
          [
           false
          ],
          [
           false
          ],
          [
           false
          ],
          [
           false
          ],
          [
           false
          ],
          [
           false
          ],
          [
           false
          ],
          [
           false
          ],
          [
           false
          ],
          [
           false
          ],
          [
           false
          ],
          [
           false
          ],
          [
           false
          ],
          [
           false
          ],
          [
           false
          ],
          [
           false
          ],
          [
           false
          ],
          [
           false
          ],
          [
           false
          ],
          [
           false
          ],
          [
           false
          ],
          [
           false
          ],
          [
           false
          ],
          [
           false
          ],
          [
           false
          ],
          [
           false
          ],
          [
           false
          ],
          [
           false
          ],
          [
           false
          ],
          [
           false
          ],
          [
           false
          ],
          [
           false
          ],
          [
           false
          ],
          [
           false
          ],
          [
           false
          ],
          [
           false
          ],
          [
           false
          ],
          [
           false
          ],
          [
           false
          ],
          [
           false
          ],
          [
           false
          ],
          [
           true
          ],
          [
           true
          ],
          [
           true
          ],
          [
           true
          ],
          [
           true
          ],
          [
           true
          ],
          [
           true
          ],
          [
           true
          ],
          [
           true
          ],
          [
           true
          ],
          [
           true
          ],
          [
           true
          ],
          [
           true
          ],
          [
           true
          ],
          [
           true
          ],
          [
           true
          ],
          [
           false
          ],
          [
           false
          ],
          [
           false
          ],
          [
           false
          ],
          [
           false
          ],
          [
           false
          ],
          [
           false
          ],
          [
           false
          ],
          [
           false
          ],
          [
           false
          ],
          [
           false
          ],
          [
           false
          ],
          [
           false
          ],
          [
           false
          ],
          [
           false
          ],
          [
           false
          ],
          [
           false
          ],
          [
           false
          ],
          [
           false
          ],
          [
           false
          ],
          [
           false
          ],
          [
           false
          ],
          [
           false
          ],
          [
           false
          ],
          [
           false
          ],
          [
           false
          ],
          [
           false
          ],
          [
           false
          ],
          [
           false
          ],
          [
           false
          ],
          [
           false
          ],
          [
           false
          ],
          [
           false
          ],
          [
           false
          ],
          [
           false
          ],
          [
           false
          ],
          [
           false
          ],
          [
           false
          ],
          [
           false
          ],
          [
           false
          ],
          [
           false
          ],
          [
           false
          ],
          [
           false
          ],
          [
           false
          ],
          [
           false
          ],
          [
           false
          ],
          [
           false
          ],
          [
           false
          ],
          [
           false
          ],
          [
           false
          ],
          [
           false
          ],
          [
           false
          ],
          [
           false
          ],
          [
           false
          ],
          [
           false
          ],
          [
           false
          ],
          [
           true
          ],
          [
           true
          ],
          [
           true
          ]
         ],
         "domain": {
          "x": [
           0.0,
           1.0
          ],
          "y": [
           0.0,
           1.0
          ]
         },
         "hovertemplate": "outOfStock=%{customdata[0]}<extra></extra>",
         "labels": [
          false,
          false,
          false,
          false,
          false,
          false,
          false,
          false,
          false,
          false,
          false,
          false,
          false,
          false,
          false,
          false,
          false,
          false,
          false,
          false,
          false,
          false,
          false,
          false,
          false,
          false,
          false,
          false,
          false,
          false,
          false,
          false,
          false,
          false,
          false,
          false,
          false,
          false,
          false,
          false,
          false,
          false,
          false,
          false,
          false,
          false,
          false,
          false,
          false,
          false,
          false,
          false,
          false,
          false,
          false,
          false,
          false,
          false,
          false,
          false,
          false,
          false,
          false,
          false,
          false,
          false,
          false,
          false,
          false,
          false,
          false,
          false,
          false,
          false,
          false,
          false,
          false,
          false,
          false,
          false,
          false,
          false,
          false,
          false,
          false,
          true,
          true,
          true,
          true,
          false,
          false,
          false,
          false,
          false,
          false,
          false,
          false,
          false,
          false,
          false,
          false,
          false,
          false,
          false,
          false,
          false,
          false,
          false,
          false,
          false,
          false,
          false,
          false,
          false,
          false,
          false,
          false,
          false,
          false,
          false,
          false,
          false,
          false,
          false,
          false,
          false,
          false,
          false,
          false,
          false,
          false,
          false,
          false,
          false,
          false,
          false,
          false,
          false,
          false,
          false,
          false,
          false,
          false,
          false,
          false,
          false,
          false,
          false,
          false,
          false,
          false,
          false,
          false,
          false,
          false,
          false,
          false,
          false,
          false,
          false,
          false,
          false,
          false,
          false,
          false,
          false,
          false,
          false,
          false,
          false,
          false,
          false,
          false,
          false,
          false,
          false,
          false,
          false,
          false,
          false,
          false,
          false,
          false,
          false,
          false,
          false,
          false,
          false,
          false,
          false,
          false,
          false,
          false,
          false,
          false,
          false,
          false,
          false,
          false,
          false,
          false,
          false,
          false,
          false,
          false,
          false,
          false,
          false,
          false,
          false,
          false,
          false,
          false,
          false,
          false,
          false,
          false,
          false,
          false,
          false,
          false,
          false,
          false,
          false,
          false,
          false,
          false,
          false,
          false,
          false,
          false,
          false,
          false,
          false,
          false,
          false,
          false,
          false,
          false,
          false,
          false,
          false,
          false,
          false,
          false,
          false,
          false,
          false,
          false,
          false,
          false,
          false,
          false,
          false,
          false,
          false,
          false,
          false,
          false,
          false,
          false,
          false,
          false,
          false,
          false,
          false,
          false,
          false,
          false,
          false,
          false,
          false,
          false,
          false,
          false,
          false,
          false,
          false,
          false,
          false,
          false,
          false,
          false,
          false,
          false,
          false,
          false,
          false,
          false,
          false,
          false,
          false,
          false,
          false,
          false,
          false,
          false,
          false,
          false,
          false,
          false,
          false,
          false,
          false,
          false,
          false,
          false,
          false,
          false,
          false,
          false,
          false,
          false,
          false,
          false,
          false,
          false,
          false,
          false,
          false,
          false,
          false,
          false,
          false,
          false,
          false,
          false,
          false,
          false,
          false,
          false,
          false,
          false,
          false,
          false,
          false,
          false,
          false,
          false,
          false,
          false,
          false,
          false,
          false,
          false,
          false,
          false,
          false,
          false,
          false,
          false,
          false,
          false,
          false,
          false,
          false,
          false,
          false,
          false,
          false,
          false,
          false,
          false,
          false,
          false,
          false,
          false,
          false,
          false,
          false,
          false,
          false,
          false,
          false,
          false,
          false,
          false,
          false,
          false,
          false,
          false,
          false,
          false,
          false,
          false,
          false,
          false,
          false,
          false,
          false,
          false,
          false,
          false,
          false,
          false,
          false,
          false,
          false,
          false,
          false,
          false,
          false,
          false,
          false,
          false,
          false,
          false,
          false,
          false,
          false,
          false,
          false,
          false,
          false,
          false,
          false,
          false,
          false,
          false,
          false,
          false,
          false,
          false,
          false,
          false,
          false,
          false,
          false,
          false,
          false,
          false,
          false,
          false,
          false,
          false,
          false,
          false,
          false,
          false,
          false,
          false,
          false,
          false,
          false,
          false,
          false,
          false,
          false,
          false,
          false,
          false,
          false,
          false,
          false,
          false,
          false,
          false,
          false,
          false,
          false,
          false,
          false,
          false,
          false,
          false,
          false,
          false,
          false,
          false,
          false,
          false,
          false,
          false,
          false,
          false,
          false,
          false,
          false,
          false,
          false,
          false,
          false,
          false,
          false,
          false,
          false,
          false,
          false,
          false,
          false,
          false,
          false,
          false,
          false,
          false,
          false,
          false,
          false,
          false,
          false,
          false,
          false,
          false,
          false,
          false,
          false,
          false,
          false,
          false,
          true,
          true,
          true,
          true,
          true,
          true,
          true,
          true,
          true,
          true,
          true,
          true,
          true,
          true,
          true,
          true,
          true,
          true,
          true,
          true,
          true,
          true,
          true,
          true,
          true,
          true,
          true,
          true,
          true,
          true,
          true,
          true,
          true,
          true,
          true,
          true,
          true,
          true,
          true,
          true,
          true,
          true,
          true,
          true,
          true,
          true,
          true,
          true,
          true,
          true,
          true,
          true,
          true,
          true,
          true,
          true,
          true,
          true,
          false,
          false,
          false,
          false,
          false,
          false,
          false,
          false,
          false,
          false,
          false,
          false,
          false,
          false,
          false,
          false,
          false,
          false,
          false,
          false,
          false,
          false,
          false,
          false,
          false,
          false,
          false,
          false,
          false,
          false,
          false,
          false,
          false,
          false,
          false,
          false,
          false,
          false,
          false,
          false,
          false,
          false,
          false,
          false,
          false,
          false,
          false,
          false,
          false,
          false,
          false,
          false,
          false,
          false,
          false,
          false,
          false,
          false,
          false,
          false,
          false,
          false,
          false,
          false,
          false,
          false,
          false,
          false,
          false,
          false,
          false,
          false,
          false,
          false,
          false,
          false,
          false,
          false,
          false,
          false,
          false,
          false,
          false,
          true,
          true,
          true,
          true,
          true,
          true,
          true,
          true,
          true,
          true,
          true,
          true,
          true,
          true,
          true,
          true,
          true,
          true,
          true,
          true,
          true,
          true,
          true,
          true,
          true,
          false,
          false,
          false,
          false,
          false,
          false,
          false,
          false,
          false,
          false,
          false,
          false,
          false,
          false,
          false,
          false,
          false,
          false,
          false,
          false,
          false,
          false,
          false,
          false,
          false,
          false,
          false,
          false,
          false,
          false,
          false,
          false,
          false,
          false,
          false,
          false,
          false,
          false,
          false,
          false,
          false,
          false,
          false,
          false,
          false,
          false,
          false,
          false,
          false,
          false,
          false,
          false,
          false,
          false,
          false,
          false,
          false,
          false,
          false,
          false,
          false,
          false,
          false,
          false,
          false,
          false,
          false,
          false,
          false,
          false,
          false,
          false,
          false,
          false,
          false,
          false,
          false,
          false,
          false,
          false,
          false,
          false,
          false,
          false,
          false,
          false,
          false,
          false,
          false,
          false,
          false,
          false,
          false,
          false,
          false,
          false,
          false,
          false,
          false,
          false,
          false,
          false,
          false,
          false,
          false,
          false,
          false,
          false,
          false,
          false,
          false,
          false,
          false,
          false,
          false,
          false,
          false,
          false,
          false,
          false,
          false,
          false,
          false,
          false,
          false,
          false,
          false,
          false,
          false,
          false,
          false,
          false,
          false,
          false,
          false,
          false,
          false,
          false,
          false,
          false,
          false,
          false,
          false,
          false,
          false,
          false,
          false,
          false,
          false,
          false,
          false,
          false,
          false,
          false,
          false,
          false,
          false,
          false,
          false,
          false,
          false,
          false,
          false,
          false,
          false,
          false,
          false,
          false,
          false,
          false,
          false,
          false,
          false,
          false,
          false,
          false,
          false,
          false,
          false,
          false,
          false,
          false,
          false,
          false,
          false,
          false,
          false,
          false,
          false,
          false,
          false,
          false,
          false,
          false,
          false,
          false,
          false,
          false,
          false,
          false,
          false,
          false,
          false,
          false,
          false,
          false,
          false,
          false,
          false,
          false,
          false,
          false,
          false,
          false,
          false,
          false,
          false,
          false,
          false,
          false,
          false,
          false,
          false,
          false,
          false,
          false,
          false,
          false,
          false,
          false,
          false,
          false,
          false,
          false,
          false,
          false,
          false,
          false,
          false,
          false,
          false,
          false,
          false,
          false,
          false,
          false,
          false,
          false,
          false,
          false,
          false,
          false,
          false,
          false,
          false,
          false,
          false,
          false,
          false,
          false,
          false,
          true,
          true,
          true,
          true,
          true,
          true,
          true,
          true,
          true,
          true,
          true,
          true,
          true,
          true,
          true,
          true,
          true,
          true,
          true,
          true,
          true,
          true,
          true,
          true,
          true,
          true,
          false,
          false,
          false,
          false,
          false,
          false,
          false,
          false,
          false,
          false,
          false,
          false,
          false,
          false,
          false,
          false,
          false,
          false,
          false,
          false,
          false,
          false,
          false,
          false,
          false,
          true,
          true,
          true,
          true,
          true,
          true,
          true,
          false,
          false,
          false,
          false,
          false,
          false,
          false,
          false,
          false,
          false,
          false,
          false,
          false,
          false,
          false,
          false,
          false,
          false,
          false,
          false,
          false,
          false,
          false,
          false,
          false,
          false,
          false,
          false,
          false,
          false,
          false,
          false,
          false,
          false,
          false,
          false,
          false,
          false,
          false,
          false,
          false,
          false,
          false,
          false,
          false,
          false,
          false,
          false,
          false,
          false,
          false,
          false,
          false,
          false,
          false,
          false,
          false,
          false,
          false,
          false,
          false,
          false,
          false,
          false,
          false,
          false,
          false,
          false,
          false,
          false,
          false,
          false,
          false,
          false,
          false,
          false,
          false,
          false,
          false,
          false,
          false,
          false,
          false,
          false,
          false,
          false,
          false,
          false,
          false,
          false,
          false,
          false,
          false,
          false,
          false,
          false,
          false,
          false,
          true,
          true,
          true,
          true,
          true,
          true,
          true,
          true,
          true,
          true,
          true,
          true,
          true,
          true,
          true,
          true,
          true,
          true,
          true,
          true,
          true,
          true,
          true,
          true,
          true,
          true,
          true,
          true,
          true,
          true,
          true,
          true,
          true,
          true,
          true,
          false,
          false,
          false,
          false,
          false,
          false,
          false,
          false,
          false,
          false,
          false,
          false,
          false,
          false,
          false,
          false,
          false,
          false,
          false,
          false,
          false,
          false,
          false,
          false,
          false,
          false,
          false,
          false,
          false,
          false,
          false,
          false,
          false,
          false,
          false,
          false,
          false,
          false,
          false,
          false,
          false,
          false,
          false,
          false,
          false,
          false,
          false,
          false,
          false,
          false,
          false,
          false,
          false,
          false,
          false,
          false,
          false,
          false,
          false,
          false,
          false,
          false,
          false,
          false,
          false,
          false,
          false,
          false,
          false,
          false,
          false,
          false,
          false,
          false,
          false,
          false,
          false,
          false,
          false,
          false,
          false,
          false,
          false,
          false,
          false,
          false,
          false,
          false,
          false,
          false,
          false,
          false,
          false,
          false,
          false,
          false,
          false,
          false,
          false,
          false,
          false,
          false,
          false,
          false,
          false,
          false,
          false,
          false,
          false,
          false,
          false,
          false,
          false,
          false,
          false,
          false,
          false,
          false,
          false,
          false,
          false,
          false,
          false,
          false,
          false,
          false,
          false,
          false,
          false,
          false,
          false,
          false,
          false,
          false,
          false,
          false,
          false,
          false,
          false,
          false,
          false,
          false,
          false,
          false,
          false,
          false,
          false,
          false,
          false,
          false,
          false,
          false,
          false,
          false,
          false,
          false,
          false,
          false,
          false,
          false,
          false,
          false,
          false,
          false,
          false,
          false,
          false,
          false,
          false,
          false,
          false,
          false,
          false,
          false,
          false,
          false,
          false,
          false,
          false,
          false,
          false,
          false,
          false,
          false,
          false,
          false,
          false,
          false,
          false,
          false,
          false,
          false,
          false,
          false,
          false,
          false,
          false,
          false,
          false,
          false,
          false,
          false,
          false,
          false,
          false,
          false,
          false,
          false,
          false,
          false,
          false,
          false,
          false,
          false,
          false,
          false,
          false,
          false,
          false,
          false,
          false,
          false,
          false,
          false,
          false,
          false,
          false,
          false,
          false,
          false,
          false,
          false,
          false,
          false,
          false,
          false,
          false,
          false,
          false,
          false,
          false,
          false,
          false,
          false,
          false,
          false,
          false,
          false,
          false,
          false,
          false,
          false,
          false,
          false,
          false,
          false,
          false,
          false,
          false,
          false,
          false,
          false,
          false,
          false,
          false,
          false,
          false,
          false,
          false,
          false,
          false,
          false,
          false,
          false,
          false,
          false,
          false,
          false,
          false,
          false,
          false,
          false,
          false,
          false,
          false,
          false,
          false,
          false,
          false,
          false,
          false,
          false,
          true,
          true,
          true,
          true,
          true,
          true,
          true,
          true,
          true,
          true,
          true,
          true,
          true,
          true,
          true,
          true,
          true,
          true,
          false,
          false,
          false,
          false,
          false,
          false,
          false,
          false,
          false,
          false,
          false,
          false,
          false,
          false,
          false,
          false,
          false,
          false,
          false,
          false,
          false,
          false,
          false,
          false,
          false,
          false,
          false,
          false,
          false,
          false,
          false,
          false,
          false,
          false,
          false,
          false,
          false,
          false,
          false,
          false,
          false,
          false,
          false,
          false,
          false,
          false,
          false,
          false,
          false,
          false,
          false,
          false,
          false,
          false,
          false,
          false,
          false,
          false,
          false,
          false,
          false,
          false,
          false,
          false,
          false,
          false,
          false,
          false,
          false,
          false,
          false,
          false,
          false,
          false,
          false,
          false,
          false,
          false,
          false,
          false,
          false,
          false,
          false,
          false,
          false,
          false,
          false,
          false,
          false,
          false,
          false,
          false,
          false,
          false,
          false,
          false,
          false,
          false,
          false,
          false,
          false,
          false,
          false,
          false,
          false,
          false,
          false,
          false,
          false,
          false,
          false,
          false,
          false,
          false,
          false,
          false,
          false,
          false,
          false,
          false,
          false,
          false,
          false,
          false,
          false,
          false,
          false,
          false,
          false,
          false,
          false,
          false,
          false,
          false,
          false,
          false,
          false,
          false,
          false,
          false,
          false,
          false,
          false,
          false,
          false,
          false,
          false,
          false,
          false,
          false,
          false,
          false,
          false,
          false,
          false,
          false,
          false,
          false,
          false,
          false,
          false,
          false,
          false,
          false,
          false,
          false,
          false,
          false,
          false,
          true,
          true,
          true,
          true,
          true,
          true,
          true,
          true,
          true,
          true,
          true,
          true,
          true,
          true,
          true,
          true,
          false,
          false,
          false,
          false,
          false,
          false,
          false,
          false,
          false,
          false,
          false,
          false,
          false,
          false,
          false,
          false,
          false,
          false,
          false,
          false,
          false,
          false,
          false,
          false,
          false,
          false,
          false,
          false,
          false,
          false,
          false,
          false,
          false,
          false,
          false,
          false,
          false,
          false,
          false,
          false,
          false,
          false,
          false,
          false,
          false,
          false,
          false,
          false,
          false,
          false,
          false,
          false,
          false,
          false,
          false,
          false,
          true,
          true,
          true
         ],
         "legendgroup": "",
         "marker": {
          "colors": [
           "#4E79A7",
           "#4E79A7",
           "#4E79A7",
           "#4E79A7",
           "#4E79A7",
           "#4E79A7",
           "#4E79A7",
           "#4E79A7",
           "#4E79A7",
           "#4E79A7",
           "#4E79A7",
           "#4E79A7",
           "#4E79A7",
           "#4E79A7",
           "#4E79A7",
           "#4E79A7",
           "#4E79A7",
           "#4E79A7",
           "#4E79A7",
           "#4E79A7",
           "#4E79A7",
           "#4E79A7",
           "#4E79A7",
           "#4E79A7",
           "#4E79A7",
           "#4E79A7",
           "#4E79A7",
           "#4E79A7",
           "#4E79A7",
           "#4E79A7",
           "#4E79A7",
           "#4E79A7",
           "#4E79A7",
           "#4E79A7",
           "#4E79A7",
           "#4E79A7",
           "#4E79A7",
           "#4E79A7",
           "#4E79A7",
           "#4E79A7",
           "#4E79A7",
           "#4E79A7",
           "#4E79A7",
           "#4E79A7",
           "#4E79A7",
           "#4E79A7",
           "#4E79A7",
           "#4E79A7",
           "#4E79A7",
           "#4E79A7",
           "#4E79A7",
           "#4E79A7",
           "#4E79A7",
           "#4E79A7",
           "#4E79A7",
           "#4E79A7",
           "#4E79A7",
           "#4E79A7",
           "#4E79A7",
           "#4E79A7",
           "#4E79A7",
           "#4E79A7",
           "#4E79A7",
           "#4E79A7",
           "#4E79A7",
           "#4E79A7",
           "#4E79A7",
           "#4E79A7",
           "#4E79A7",
           "#4E79A7",
           "#4E79A7",
           "#4E79A7",
           "#4E79A7",
           "#4E79A7",
           "#4E79A7",
           "#4E79A7",
           "#4E79A7",
           "#4E79A7",
           "#4E79A7",
           "#4E79A7",
           "#4E79A7",
           "#4E79A7",
           "#4E79A7",
           "#4E79A7",
           "#4E79A7",
           "#F28E2B",
           "#F28E2B",
           "#F28E2B",
           "#F28E2B",
           "#4E79A7",
           "#4E79A7",
           "#4E79A7",
           "#4E79A7",
           "#4E79A7",
           "#4E79A7",
           "#4E79A7",
           "#4E79A7",
           "#4E79A7",
           "#4E79A7",
           "#4E79A7",
           "#4E79A7",
           "#4E79A7",
           "#4E79A7",
           "#4E79A7",
           "#4E79A7",
           "#4E79A7",
           "#4E79A7",
           "#4E79A7",
           "#4E79A7",
           "#4E79A7",
           "#4E79A7",
           "#4E79A7",
           "#4E79A7",
           "#4E79A7",
           "#4E79A7",
           "#4E79A7",
           "#4E79A7",
           "#4E79A7",
           "#4E79A7",
           "#4E79A7",
           "#4E79A7",
           "#4E79A7",
           "#4E79A7",
           "#4E79A7",
           "#4E79A7",
           "#4E79A7",
           "#4E79A7",
           "#4E79A7",
           "#4E79A7",
           "#4E79A7",
           "#4E79A7",
           "#4E79A7",
           "#4E79A7",
           "#4E79A7",
           "#4E79A7",
           "#4E79A7",
           "#4E79A7",
           "#4E79A7",
           "#4E79A7",
           "#4E79A7",
           "#4E79A7",
           "#4E79A7",
           "#4E79A7",
           "#4E79A7",
           "#4E79A7",
           "#4E79A7",
           "#4E79A7",
           "#4E79A7",
           "#4E79A7",
           "#4E79A7",
           "#4E79A7",
           "#4E79A7",
           "#4E79A7",
           "#4E79A7",
           "#4E79A7",
           "#4E79A7",
           "#4E79A7",
           "#4E79A7",
           "#4E79A7",
           "#4E79A7",
           "#4E79A7",
           "#4E79A7",
           "#4E79A7",
           "#4E79A7",
           "#4E79A7",
           "#4E79A7",
           "#4E79A7",
           "#4E79A7",
           "#4E79A7",
           "#4E79A7",
           "#4E79A7",
           "#4E79A7",
           "#4E79A7",
           "#4E79A7",
           "#4E79A7",
           "#4E79A7",
           "#4E79A7",
           "#4E79A7",
           "#4E79A7",
           "#4E79A7",
           "#4E79A7",
           "#4E79A7",
           "#4E79A7",
           "#4E79A7",
           "#4E79A7",
           "#4E79A7",
           "#4E79A7",
           "#4E79A7",
           "#4E79A7",
           "#4E79A7",
           "#4E79A7",
           "#4E79A7",
           "#4E79A7",
           "#4E79A7",
           "#4E79A7",
           "#4E79A7",
           "#4E79A7",
           "#4E79A7",
           "#4E79A7",
           "#4E79A7",
           "#4E79A7",
           "#4E79A7",
           "#4E79A7",
           "#4E79A7",
           "#4E79A7",
           "#4E79A7",
           "#4E79A7",
           "#4E79A7",
           "#4E79A7",
           "#4E79A7",
           "#4E79A7",
           "#4E79A7",
           "#4E79A7",
           "#4E79A7",
           "#4E79A7",
           "#4E79A7",
           "#4E79A7",
           "#4E79A7",
           "#4E79A7",
           "#4E79A7",
           "#4E79A7",
           "#4E79A7",
           "#4E79A7",
           "#4E79A7",
           "#4E79A7",
           "#4E79A7",
           "#4E79A7",
           "#4E79A7",
           "#4E79A7",
           "#4E79A7",
           "#4E79A7",
           "#4E79A7",
           "#4E79A7",
           "#4E79A7",
           "#4E79A7",
           "#4E79A7",
           "#4E79A7",
           "#4E79A7",
           "#4E79A7",
           "#4E79A7",
           "#4E79A7",
           "#4E79A7",
           "#4E79A7",
           "#4E79A7",
           "#4E79A7",
           "#4E79A7",
           "#4E79A7",
           "#4E79A7",
           "#4E79A7",
           "#4E79A7",
           "#4E79A7",
           "#4E79A7",
           "#4E79A7",
           "#4E79A7",
           "#4E79A7",
           "#4E79A7",
           "#4E79A7",
           "#4E79A7",
           "#4E79A7",
           "#4E79A7",
           "#4E79A7",
           "#4E79A7",
           "#4E79A7",
           "#4E79A7",
           "#4E79A7",
           "#4E79A7",
           "#4E79A7",
           "#4E79A7",
           "#4E79A7",
           "#4E79A7",
           "#4E79A7",
           "#4E79A7",
           "#4E79A7",
           "#4E79A7",
           "#4E79A7",
           "#4E79A7",
           "#4E79A7",
           "#4E79A7",
           "#4E79A7",
           "#4E79A7",
           "#4E79A7",
           "#4E79A7",
           "#4E79A7",
           "#4E79A7",
           "#4E79A7",
           "#4E79A7",
           "#4E79A7",
           "#4E79A7",
           "#4E79A7",
           "#4E79A7",
           "#4E79A7",
           "#4E79A7",
           "#4E79A7",
           "#4E79A7",
           "#4E79A7",
           "#4E79A7",
           "#4E79A7",
           "#4E79A7",
           "#4E79A7",
           "#4E79A7",
           "#4E79A7",
           "#4E79A7",
           "#4E79A7",
           "#4E79A7",
           "#4E79A7",
           "#4E79A7",
           "#4E79A7",
           "#4E79A7",
           "#4E79A7",
           "#4E79A7",
           "#4E79A7",
           "#4E79A7",
           "#4E79A7",
           "#4E79A7",
           "#4E79A7",
           "#4E79A7",
           "#4E79A7",
           "#4E79A7",
           "#4E79A7",
           "#4E79A7",
           "#4E79A7",
           "#4E79A7",
           "#4E79A7",
           "#4E79A7",
           "#4E79A7",
           "#4E79A7",
           "#4E79A7",
           "#4E79A7",
           "#4E79A7",
           "#4E79A7",
           "#4E79A7",
           "#4E79A7",
           "#4E79A7",
           "#4E79A7",
           "#4E79A7",
           "#4E79A7",
           "#4E79A7",
           "#4E79A7",
           "#4E79A7",
           "#4E79A7",
           "#4E79A7",
           "#4E79A7",
           "#4E79A7",
           "#4E79A7",
           "#4E79A7",
           "#4E79A7",
           "#4E79A7",
           "#4E79A7",
           "#4E79A7",
           "#4E79A7",
           "#4E79A7",
           "#4E79A7",
           "#4E79A7",
           "#4E79A7",
           "#4E79A7",
           "#4E79A7",
           "#4E79A7",
           "#4E79A7",
           "#4E79A7",
           "#4E79A7",
           "#4E79A7",
           "#4E79A7",
           "#4E79A7",
           "#4E79A7",
           "#4E79A7",
           "#4E79A7",
           "#4E79A7",
           "#4E79A7",
           "#4E79A7",
           "#4E79A7",
           "#4E79A7",
           "#4E79A7",
           "#4E79A7",
           "#4E79A7",
           "#4E79A7",
           "#4E79A7",
           "#4E79A7",
           "#4E79A7",
           "#4E79A7",
           "#4E79A7",
           "#4E79A7",
           "#4E79A7",
           "#4E79A7",
           "#4E79A7",
           "#4E79A7",
           "#4E79A7",
           "#4E79A7",
           "#4E79A7",
           "#4E79A7",
           "#4E79A7",
           "#4E79A7",
           "#4E79A7",
           "#4E79A7",
           "#4E79A7",
           "#4E79A7",
           "#4E79A7",
           "#4E79A7",
           "#4E79A7",
           "#4E79A7",
           "#4E79A7",
           "#4E79A7",
           "#4E79A7",
           "#4E79A7",
           "#4E79A7",
           "#4E79A7",
           "#4E79A7",
           "#4E79A7",
           "#4E79A7",
           "#4E79A7",
           "#4E79A7",
           "#4E79A7",
           "#4E79A7",
           "#4E79A7",
           "#4E79A7",
           "#4E79A7",
           "#4E79A7",
           "#4E79A7",
           "#4E79A7",
           "#4E79A7",
           "#4E79A7",
           "#4E79A7",
           "#4E79A7",
           "#4E79A7",
           "#4E79A7",
           "#4E79A7",
           "#4E79A7",
           "#4E79A7",
           "#4E79A7",
           "#4E79A7",
           "#4E79A7",
           "#4E79A7",
           "#4E79A7",
           "#4E79A7",
           "#4E79A7",
           "#4E79A7",
           "#4E79A7",
           "#4E79A7",
           "#4E79A7",
           "#4E79A7",
           "#4E79A7",
           "#4E79A7",
           "#4E79A7",
           "#4E79A7",
           "#4E79A7",
           "#4E79A7",
           "#4E79A7",
           "#4E79A7",
           "#4E79A7",
           "#4E79A7",
           "#4E79A7",
           "#4E79A7",
           "#4E79A7",
           "#4E79A7",
           "#4E79A7",
           "#4E79A7",
           "#4E79A7",
           "#4E79A7",
           "#4E79A7",
           "#4E79A7",
           "#4E79A7",
           "#4E79A7",
           "#4E79A7",
           "#4E79A7",
           "#4E79A7",
           "#4E79A7",
           "#4E79A7",
           "#4E79A7",
           "#4E79A7",
           "#4E79A7",
           "#4E79A7",
           "#4E79A7",
           "#4E79A7",
           "#4E79A7",
           "#4E79A7",
           "#4E79A7",
           "#4E79A7",
           "#4E79A7",
           "#4E79A7",
           "#4E79A7",
           "#4E79A7",
           "#4E79A7",
           "#4E79A7",
           "#4E79A7",
           "#4E79A7",
           "#4E79A7",
           "#4E79A7",
           "#4E79A7",
           "#4E79A7",
           "#4E79A7",
           "#4E79A7",
           "#4E79A7",
           "#4E79A7",
           "#4E79A7",
           "#4E79A7",
           "#4E79A7",
           "#4E79A7",
           "#4E79A7",
           "#4E79A7",
           "#4E79A7",
           "#4E79A7",
           "#4E79A7",
           "#4E79A7",
           "#4E79A7",
           "#4E79A7",
           "#4E79A7",
           "#4E79A7",
           "#4E79A7",
           "#4E79A7",
           "#4E79A7",
           "#F28E2B",
           "#F28E2B",
           "#F28E2B",
           "#F28E2B",
           "#F28E2B",
           "#F28E2B",
           "#F28E2B",
           "#F28E2B",
           "#F28E2B",
           "#F28E2B",
           "#F28E2B",
           "#F28E2B",
           "#F28E2B",
           "#F28E2B",
           "#F28E2B",
           "#F28E2B",
           "#F28E2B",
           "#F28E2B",
           "#F28E2B",
           "#F28E2B",
           "#F28E2B",
           "#F28E2B",
           "#F28E2B",
           "#F28E2B",
           "#F28E2B",
           "#F28E2B",
           "#F28E2B",
           "#F28E2B",
           "#F28E2B",
           "#F28E2B",
           "#F28E2B",
           "#F28E2B",
           "#F28E2B",
           "#F28E2B",
           "#F28E2B",
           "#F28E2B",
           "#F28E2B",
           "#F28E2B",
           "#F28E2B",
           "#F28E2B",
           "#F28E2B",
           "#F28E2B",
           "#F28E2B",
           "#F28E2B",
           "#F28E2B",
           "#F28E2B",
           "#F28E2B",
           "#F28E2B",
           "#F28E2B",
           "#F28E2B",
           "#F28E2B",
           "#F28E2B",
           "#F28E2B",
           "#F28E2B",
           "#F28E2B",
           "#F28E2B",
           "#F28E2B",
           "#F28E2B",
           "#4E79A7",
           "#4E79A7",
           "#4E79A7",
           "#4E79A7",
           "#4E79A7",
           "#4E79A7",
           "#4E79A7",
           "#4E79A7",
           "#4E79A7",
           "#4E79A7",
           "#4E79A7",
           "#4E79A7",
           "#4E79A7",
           "#4E79A7",
           "#4E79A7",
           "#4E79A7",
           "#4E79A7",
           "#4E79A7",
           "#4E79A7",
           "#4E79A7",
           "#4E79A7",
           "#4E79A7",
           "#4E79A7",
           "#4E79A7",
           "#4E79A7",
           "#4E79A7",
           "#4E79A7",
           "#4E79A7",
           "#4E79A7",
           "#4E79A7",
           "#4E79A7",
           "#4E79A7",
           "#4E79A7",
           "#4E79A7",
           "#4E79A7",
           "#4E79A7",
           "#4E79A7",
           "#4E79A7",
           "#4E79A7",
           "#4E79A7",
           "#4E79A7",
           "#4E79A7",
           "#4E79A7",
           "#4E79A7",
           "#4E79A7",
           "#4E79A7",
           "#4E79A7",
           "#4E79A7",
           "#4E79A7",
           "#4E79A7",
           "#4E79A7",
           "#4E79A7",
           "#4E79A7",
           "#4E79A7",
           "#4E79A7",
           "#4E79A7",
           "#4E79A7",
           "#4E79A7",
           "#4E79A7",
           "#4E79A7",
           "#4E79A7",
           "#4E79A7",
           "#4E79A7",
           "#4E79A7",
           "#4E79A7",
           "#4E79A7",
           "#4E79A7",
           "#4E79A7",
           "#4E79A7",
           "#4E79A7",
           "#4E79A7",
           "#4E79A7",
           "#4E79A7",
           "#4E79A7",
           "#4E79A7",
           "#4E79A7",
           "#4E79A7",
           "#4E79A7",
           "#4E79A7",
           "#4E79A7",
           "#4E79A7",
           "#4E79A7",
           "#4E79A7",
           "#F28E2B",
           "#F28E2B",
           "#F28E2B",
           "#F28E2B",
           "#F28E2B",
           "#F28E2B",
           "#F28E2B",
           "#F28E2B",
           "#F28E2B",
           "#F28E2B",
           "#F28E2B",
           "#F28E2B",
           "#F28E2B",
           "#F28E2B",
           "#F28E2B",
           "#F28E2B",
           "#F28E2B",
           "#F28E2B",
           "#F28E2B",
           "#F28E2B",
           "#F28E2B",
           "#F28E2B",
           "#F28E2B",
           "#F28E2B",
           "#F28E2B",
           "#4E79A7",
           "#4E79A7",
           "#4E79A7",
           "#4E79A7",
           "#4E79A7",
           "#4E79A7",
           "#4E79A7",
           "#4E79A7",
           "#4E79A7",
           "#4E79A7",
           "#4E79A7",
           "#4E79A7",
           "#4E79A7",
           "#4E79A7",
           "#4E79A7",
           "#4E79A7",
           "#4E79A7",
           "#4E79A7",
           "#4E79A7",
           "#4E79A7",
           "#4E79A7",
           "#4E79A7",
           "#4E79A7",
           "#4E79A7",
           "#4E79A7",
           "#4E79A7",
           "#4E79A7",
           "#4E79A7",
           "#4E79A7",
           "#4E79A7",
           "#4E79A7",
           "#4E79A7",
           "#4E79A7",
           "#4E79A7",
           "#4E79A7",
           "#4E79A7",
           "#4E79A7",
           "#4E79A7",
           "#4E79A7",
           "#4E79A7",
           "#4E79A7",
           "#4E79A7",
           "#4E79A7",
           "#4E79A7",
           "#4E79A7",
           "#4E79A7",
           "#4E79A7",
           "#4E79A7",
           "#4E79A7",
           "#4E79A7",
           "#4E79A7",
           "#4E79A7",
           "#4E79A7",
           "#4E79A7",
           "#4E79A7",
           "#4E79A7",
           "#4E79A7",
           "#4E79A7",
           "#4E79A7",
           "#4E79A7",
           "#4E79A7",
           "#4E79A7",
           "#4E79A7",
           "#4E79A7",
           "#4E79A7",
           "#4E79A7",
           "#4E79A7",
           "#4E79A7",
           "#4E79A7",
           "#4E79A7",
           "#4E79A7",
           "#4E79A7",
           "#4E79A7",
           "#4E79A7",
           "#4E79A7",
           "#4E79A7",
           "#4E79A7",
           "#4E79A7",
           "#4E79A7",
           "#4E79A7",
           "#4E79A7",
           "#4E79A7",
           "#4E79A7",
           "#4E79A7",
           "#4E79A7",
           "#4E79A7",
           "#4E79A7",
           "#4E79A7",
           "#4E79A7",
           "#4E79A7",
           "#4E79A7",
           "#4E79A7",
           "#4E79A7",
           "#4E79A7",
           "#4E79A7",
           "#4E79A7",
           "#4E79A7",
           "#4E79A7",
           "#4E79A7",
           "#4E79A7",
           "#4E79A7",
           "#4E79A7",
           "#4E79A7",
           "#4E79A7",
           "#4E79A7",
           "#4E79A7",
           "#4E79A7",
           "#4E79A7",
           "#4E79A7",
           "#4E79A7",
           "#4E79A7",
           "#4E79A7",
           "#4E79A7",
           "#4E79A7",
           "#4E79A7",
           "#4E79A7",
           "#4E79A7",
           "#4E79A7",
           "#4E79A7",
           "#4E79A7",
           "#4E79A7",
           "#4E79A7",
           "#4E79A7",
           "#4E79A7",
           "#4E79A7",
           "#4E79A7",
           "#4E79A7",
           "#4E79A7",
           "#4E79A7",
           "#4E79A7",
           "#4E79A7",
           "#4E79A7",
           "#4E79A7",
           "#4E79A7",
           "#4E79A7",
           "#4E79A7",
           "#4E79A7",
           "#4E79A7",
           "#4E79A7",
           "#4E79A7",
           "#4E79A7",
           "#4E79A7",
           "#4E79A7",
           "#4E79A7",
           "#4E79A7",
           "#4E79A7",
           "#4E79A7",
           "#4E79A7",
           "#4E79A7",
           "#4E79A7",
           "#4E79A7",
           "#4E79A7",
           "#4E79A7",
           "#4E79A7",
           "#4E79A7",
           "#4E79A7",
           "#4E79A7",
           "#4E79A7",
           "#4E79A7",
           "#4E79A7",
           "#4E79A7",
           "#4E79A7",
           "#4E79A7",
           "#4E79A7",
           "#4E79A7",
           "#4E79A7",
           "#4E79A7",
           "#4E79A7",
           "#4E79A7",
           "#4E79A7",
           "#4E79A7",
           "#4E79A7",
           "#4E79A7",
           "#4E79A7",
           "#4E79A7",
           "#4E79A7",
           "#4E79A7",
           "#4E79A7",
           "#4E79A7",
           "#4E79A7",
           "#4E79A7",
           "#4E79A7",
           "#4E79A7",
           "#4E79A7",
           "#4E79A7",
           "#4E79A7",
           "#4E79A7",
           "#4E79A7",
           "#4E79A7",
           "#4E79A7",
           "#4E79A7",
           "#4E79A7",
           "#4E79A7",
           "#4E79A7",
           "#4E79A7",
           "#4E79A7",
           "#4E79A7",
           "#4E79A7",
           "#4E79A7",
           "#4E79A7",
           "#4E79A7",
           "#4E79A7",
           "#4E79A7",
           "#4E79A7",
           "#4E79A7",
           "#4E79A7",
           "#4E79A7",
           "#4E79A7",
           "#4E79A7",
           "#4E79A7",
           "#4E79A7",
           "#4E79A7",
           "#4E79A7",
           "#4E79A7",
           "#4E79A7",
           "#4E79A7",
           "#4E79A7",
           "#4E79A7",
           "#4E79A7",
           "#4E79A7",
           "#4E79A7",
           "#4E79A7",
           "#4E79A7",
           "#4E79A7",
           "#4E79A7",
           "#4E79A7",
           "#4E79A7",
           "#4E79A7",
           "#4E79A7",
           "#4E79A7",
           "#4E79A7",
           "#4E79A7",
           "#4E79A7",
           "#4E79A7",
           "#4E79A7",
           "#4E79A7",
           "#4E79A7",
           "#4E79A7",
           "#4E79A7",
           "#4E79A7",
           "#4E79A7",
           "#4E79A7",
           "#4E79A7",
           "#4E79A7",
           "#4E79A7",
           "#4E79A7",
           "#4E79A7",
           "#4E79A7",
           "#4E79A7",
           "#4E79A7",
           "#4E79A7",
           "#4E79A7",
           "#4E79A7",
           "#4E79A7",
           "#4E79A7",
           "#4E79A7",
           "#4E79A7",
           "#4E79A7",
           "#4E79A7",
           "#4E79A7",
           "#4E79A7",
           "#F28E2B",
           "#F28E2B",
           "#F28E2B",
           "#F28E2B",
           "#F28E2B",
           "#F28E2B",
           "#F28E2B",
           "#F28E2B",
           "#F28E2B",
           "#F28E2B",
           "#F28E2B",
           "#F28E2B",
           "#F28E2B",
           "#F28E2B",
           "#F28E2B",
           "#F28E2B",
           "#F28E2B",
           "#F28E2B",
           "#F28E2B",
           "#F28E2B",
           "#F28E2B",
           "#F28E2B",
           "#F28E2B",
           "#F28E2B",
           "#F28E2B",
           "#F28E2B",
           "#4E79A7",
           "#4E79A7",
           "#4E79A7",
           "#4E79A7",
           "#4E79A7",
           "#4E79A7",
           "#4E79A7",
           "#4E79A7",
           "#4E79A7",
           "#4E79A7",
           "#4E79A7",
           "#4E79A7",
           "#4E79A7",
           "#4E79A7",
           "#4E79A7",
           "#4E79A7",
           "#4E79A7",
           "#4E79A7",
           "#4E79A7",
           "#4E79A7",
           "#4E79A7",
           "#4E79A7",
           "#4E79A7",
           "#4E79A7",
           "#4E79A7",
           "#F28E2B",
           "#F28E2B",
           "#F28E2B",
           "#F28E2B",
           "#F28E2B",
           "#F28E2B",
           "#F28E2B",
           "#4E79A7",
           "#4E79A7",
           "#4E79A7",
           "#4E79A7",
           "#4E79A7",
           "#4E79A7",
           "#4E79A7",
           "#4E79A7",
           "#4E79A7",
           "#4E79A7",
           "#4E79A7",
           "#4E79A7",
           "#4E79A7",
           "#4E79A7",
           "#4E79A7",
           "#4E79A7",
           "#4E79A7",
           "#4E79A7",
           "#4E79A7",
           "#4E79A7",
           "#4E79A7",
           "#4E79A7",
           "#4E79A7",
           "#4E79A7",
           "#4E79A7",
           "#4E79A7",
           "#4E79A7",
           "#4E79A7",
           "#4E79A7",
           "#4E79A7",
           "#4E79A7",
           "#4E79A7",
           "#4E79A7",
           "#4E79A7",
           "#4E79A7",
           "#4E79A7",
           "#4E79A7",
           "#4E79A7",
           "#4E79A7",
           "#4E79A7",
           "#4E79A7",
           "#4E79A7",
           "#4E79A7",
           "#4E79A7",
           "#4E79A7",
           "#4E79A7",
           "#4E79A7",
           "#4E79A7",
           "#4E79A7",
           "#4E79A7",
           "#4E79A7",
           "#4E79A7",
           "#4E79A7",
           "#4E79A7",
           "#4E79A7",
           "#4E79A7",
           "#4E79A7",
           "#4E79A7",
           "#4E79A7",
           "#4E79A7",
           "#4E79A7",
           "#4E79A7",
           "#4E79A7",
           "#4E79A7",
           "#4E79A7",
           "#4E79A7",
           "#4E79A7",
           "#4E79A7",
           "#4E79A7",
           "#4E79A7",
           "#4E79A7",
           "#4E79A7",
           "#4E79A7",
           "#4E79A7",
           "#4E79A7",
           "#4E79A7",
           "#4E79A7",
           "#4E79A7",
           "#4E79A7",
           "#4E79A7",
           "#4E79A7",
           "#4E79A7",
           "#4E79A7",
           "#4E79A7",
           "#4E79A7",
           "#4E79A7",
           "#4E79A7",
           "#4E79A7",
           "#4E79A7",
           "#4E79A7",
           "#4E79A7",
           "#4E79A7",
           "#4E79A7",
           "#4E79A7",
           "#4E79A7",
           "#4E79A7",
           "#4E79A7",
           "#4E79A7",
           "#F28E2B",
           "#F28E2B",
           "#F28E2B",
           "#F28E2B",
           "#F28E2B",
           "#F28E2B",
           "#F28E2B",
           "#F28E2B",
           "#F28E2B",
           "#F28E2B",
           "#F28E2B",
           "#F28E2B",
           "#F28E2B",
           "#F28E2B",
           "#F28E2B",
           "#F28E2B",
           "#F28E2B",
           "#F28E2B",
           "#F28E2B",
           "#F28E2B",
           "#F28E2B",
           "#F28E2B",
           "#F28E2B",
           "#F28E2B",
           "#F28E2B",
           "#F28E2B",
           "#F28E2B",
           "#F28E2B",
           "#F28E2B",
           "#F28E2B",
           "#F28E2B",
           "#F28E2B",
           "#F28E2B",
           "#F28E2B",
           "#F28E2B",
           "#4E79A7",
           "#4E79A7",
           "#4E79A7",
           "#4E79A7",
           "#4E79A7",
           "#4E79A7",
           "#4E79A7",
           "#4E79A7",
           "#4E79A7",
           "#4E79A7",
           "#4E79A7",
           "#4E79A7",
           "#4E79A7",
           "#4E79A7",
           "#4E79A7",
           "#4E79A7",
           "#4E79A7",
           "#4E79A7",
           "#4E79A7",
           "#4E79A7",
           "#4E79A7",
           "#4E79A7",
           "#4E79A7",
           "#4E79A7",
           "#4E79A7",
           "#4E79A7",
           "#4E79A7",
           "#4E79A7",
           "#4E79A7",
           "#4E79A7",
           "#4E79A7",
           "#4E79A7",
           "#4E79A7",
           "#4E79A7",
           "#4E79A7",
           "#4E79A7",
           "#4E79A7",
           "#4E79A7",
           "#4E79A7",
           "#4E79A7",
           "#4E79A7",
           "#4E79A7",
           "#4E79A7",
           "#4E79A7",
           "#4E79A7",
           "#4E79A7",
           "#4E79A7",
           "#4E79A7",
           "#4E79A7",
           "#4E79A7",
           "#4E79A7",
           "#4E79A7",
           "#4E79A7",
           "#4E79A7",
           "#4E79A7",
           "#4E79A7",
           "#4E79A7",
           "#4E79A7",
           "#4E79A7",
           "#4E79A7",
           "#4E79A7",
           "#4E79A7",
           "#4E79A7",
           "#4E79A7",
           "#4E79A7",
           "#4E79A7",
           "#4E79A7",
           "#4E79A7",
           "#4E79A7",
           "#4E79A7",
           "#4E79A7",
           "#4E79A7",
           "#4E79A7",
           "#4E79A7",
           "#4E79A7",
           "#4E79A7",
           "#4E79A7",
           "#4E79A7",
           "#4E79A7",
           "#4E79A7",
           "#4E79A7",
           "#4E79A7",
           "#4E79A7",
           "#4E79A7",
           "#4E79A7",
           "#4E79A7",
           "#4E79A7",
           "#4E79A7",
           "#4E79A7",
           "#4E79A7",
           "#4E79A7",
           "#4E79A7",
           "#4E79A7",
           "#4E79A7",
           "#4E79A7",
           "#4E79A7",
           "#4E79A7",
           "#4E79A7",
           "#4E79A7",
           "#4E79A7",
           "#4E79A7",
           "#4E79A7",
           "#4E79A7",
           "#4E79A7",
           "#4E79A7",
           "#4E79A7",
           "#4E79A7",
           "#4E79A7",
           "#4E79A7",
           "#4E79A7",
           "#4E79A7",
           "#4E79A7",
           "#4E79A7",
           "#4E79A7",
           "#4E79A7",
           "#4E79A7",
           "#4E79A7",
           "#4E79A7",
           "#4E79A7",
           "#4E79A7",
           "#4E79A7",
           "#4E79A7",
           "#4E79A7",
           "#4E79A7",
           "#4E79A7",
           "#4E79A7",
           "#4E79A7",
           "#4E79A7",
           "#4E79A7",
           "#4E79A7",
           "#4E79A7",
           "#4E79A7",
           "#4E79A7",
           "#4E79A7",
           "#4E79A7",
           "#4E79A7",
           "#4E79A7",
           "#4E79A7",
           "#4E79A7",
           "#4E79A7",
           "#4E79A7",
           "#4E79A7",
           "#4E79A7",
           "#4E79A7",
           "#4E79A7",
           "#4E79A7",
           "#4E79A7",
           "#4E79A7",
           "#4E79A7",
           "#4E79A7",
           "#4E79A7",
           "#4E79A7",
           "#4E79A7",
           "#4E79A7",
           "#4E79A7",
           "#4E79A7",
           "#4E79A7",
           "#4E79A7",
           "#4E79A7",
           "#4E79A7",
           "#4E79A7",
           "#4E79A7",
           "#4E79A7",
           "#4E79A7",
           "#4E79A7",
           "#4E79A7",
           "#4E79A7",
           "#4E79A7",
           "#4E79A7",
           "#4E79A7",
           "#4E79A7",
           "#4E79A7",
           "#4E79A7",
           "#4E79A7",
           "#4E79A7",
           "#4E79A7",
           "#4E79A7",
           "#4E79A7",
           "#4E79A7",
           "#4E79A7",
           "#4E79A7",
           "#4E79A7",
           "#4E79A7",
           "#4E79A7",
           "#4E79A7",
           "#4E79A7",
           "#4E79A7",
           "#4E79A7",
           "#4E79A7",
           "#4E79A7",
           "#4E79A7",
           "#4E79A7",
           "#4E79A7",
           "#4E79A7",
           "#4E79A7",
           "#4E79A7",
           "#4E79A7",
           "#4E79A7",
           "#4E79A7",
           "#4E79A7",
           "#4E79A7",
           "#4E79A7",
           "#4E79A7",
           "#4E79A7",
           "#4E79A7",
           "#4E79A7",
           "#4E79A7",
           "#4E79A7",
           "#4E79A7",
           "#4E79A7",
           "#4E79A7",
           "#4E79A7",
           "#4E79A7",
           "#4E79A7",
           "#4E79A7",
           "#4E79A7",
           "#4E79A7",
           "#4E79A7",
           "#4E79A7",
           "#4E79A7",
           "#4E79A7",
           "#4E79A7",
           "#4E79A7",
           "#4E79A7",
           "#4E79A7",
           "#4E79A7",
           "#4E79A7",
           "#4E79A7",
           "#4E79A7",
           "#4E79A7",
           "#4E79A7",
           "#4E79A7",
           "#4E79A7",
           "#4E79A7",
           "#4E79A7",
           "#4E79A7",
           "#4E79A7",
           "#4E79A7",
           "#4E79A7",
           "#4E79A7",
           "#4E79A7",
           "#4E79A7",
           "#4E79A7",
           "#4E79A7",
           "#4E79A7",
           "#4E79A7",
           "#4E79A7",
           "#4E79A7",
           "#4E79A7",
           "#4E79A7",
           "#4E79A7",
           "#4E79A7",
           "#4E79A7",
           "#4E79A7",
           "#4E79A7",
           "#4E79A7",
           "#4E79A7",
           "#4E79A7",
           "#4E79A7",
           "#4E79A7",
           "#4E79A7",
           "#4E79A7",
           "#4E79A7",
           "#4E79A7",
           "#4E79A7",
           "#4E79A7",
           "#4E79A7",
           "#4E79A7",
           "#4E79A7",
           "#4E79A7",
           "#4E79A7",
           "#4E79A7",
           "#4E79A7",
           "#4E79A7",
           "#4E79A7",
           "#4E79A7",
           "#4E79A7",
           "#4E79A7",
           "#4E79A7",
           "#4E79A7",
           "#4E79A7",
           "#4E79A7",
           "#4E79A7",
           "#4E79A7",
           "#4E79A7",
           "#4E79A7",
           "#4E79A7",
           "#4E79A7",
           "#4E79A7",
           "#4E79A7",
           "#4E79A7",
           "#4E79A7",
           "#F28E2B",
           "#F28E2B",
           "#F28E2B",
           "#F28E2B",
           "#F28E2B",
           "#F28E2B",
           "#F28E2B",
           "#F28E2B",
           "#F28E2B",
           "#F28E2B",
           "#F28E2B",
           "#F28E2B",
           "#F28E2B",
           "#F28E2B",
           "#F28E2B",
           "#F28E2B",
           "#F28E2B",
           "#F28E2B",
           "#4E79A7",
           "#4E79A7",
           "#4E79A7",
           "#4E79A7",
           "#4E79A7",
           "#4E79A7",
           "#4E79A7",
           "#4E79A7",
           "#4E79A7",
           "#4E79A7",
           "#4E79A7",
           "#4E79A7",
           "#4E79A7",
           "#4E79A7",
           "#4E79A7",
           "#4E79A7",
           "#4E79A7",
           "#4E79A7",
           "#4E79A7",
           "#4E79A7",
           "#4E79A7",
           "#4E79A7",
           "#4E79A7",
           "#4E79A7",
           "#4E79A7",
           "#4E79A7",
           "#4E79A7",
           "#4E79A7",
           "#4E79A7",
           "#4E79A7",
           "#4E79A7",
           "#4E79A7",
           "#4E79A7",
           "#4E79A7",
           "#4E79A7",
           "#4E79A7",
           "#4E79A7",
           "#4E79A7",
           "#4E79A7",
           "#4E79A7",
           "#4E79A7",
           "#4E79A7",
           "#4E79A7",
           "#4E79A7",
           "#4E79A7",
           "#4E79A7",
           "#4E79A7",
           "#4E79A7",
           "#4E79A7",
           "#4E79A7",
           "#4E79A7",
           "#4E79A7",
           "#4E79A7",
           "#4E79A7",
           "#4E79A7",
           "#4E79A7",
           "#4E79A7",
           "#4E79A7",
           "#4E79A7",
           "#4E79A7",
           "#4E79A7",
           "#4E79A7",
           "#4E79A7",
           "#4E79A7",
           "#4E79A7",
           "#4E79A7",
           "#4E79A7",
           "#4E79A7",
           "#4E79A7",
           "#4E79A7",
           "#4E79A7",
           "#4E79A7",
           "#4E79A7",
           "#4E79A7",
           "#4E79A7",
           "#4E79A7",
           "#4E79A7",
           "#4E79A7",
           "#4E79A7",
           "#4E79A7",
           "#4E79A7",
           "#4E79A7",
           "#4E79A7",
           "#4E79A7",
           "#4E79A7",
           "#4E79A7",
           "#4E79A7",
           "#4E79A7",
           "#4E79A7",
           "#4E79A7",
           "#4E79A7",
           "#4E79A7",
           "#4E79A7",
           "#4E79A7",
           "#4E79A7",
           "#4E79A7",
           "#4E79A7",
           "#4E79A7",
           "#4E79A7",
           "#4E79A7",
           "#4E79A7",
           "#4E79A7",
           "#4E79A7",
           "#4E79A7",
           "#4E79A7",
           "#4E79A7",
           "#4E79A7",
           "#4E79A7",
           "#4E79A7",
           "#4E79A7",
           "#4E79A7",
           "#4E79A7",
           "#4E79A7",
           "#4E79A7",
           "#4E79A7",
           "#4E79A7",
           "#4E79A7",
           "#4E79A7",
           "#4E79A7",
           "#4E79A7",
           "#4E79A7",
           "#4E79A7",
           "#4E79A7",
           "#4E79A7",
           "#4E79A7",
           "#4E79A7",
           "#4E79A7",
           "#4E79A7",
           "#4E79A7",
           "#4E79A7",
           "#4E79A7",
           "#4E79A7",
           "#4E79A7",
           "#4E79A7",
           "#4E79A7",
           "#4E79A7",
           "#4E79A7",
           "#4E79A7",
           "#4E79A7",
           "#4E79A7",
           "#4E79A7",
           "#4E79A7",
           "#4E79A7",
           "#4E79A7",
           "#4E79A7",
           "#4E79A7",
           "#4E79A7",
           "#4E79A7",
           "#4E79A7",
           "#4E79A7",
           "#4E79A7",
           "#4E79A7",
           "#4E79A7",
           "#4E79A7",
           "#4E79A7",
           "#4E79A7",
           "#4E79A7",
           "#4E79A7",
           "#4E79A7",
           "#4E79A7",
           "#4E79A7",
           "#4E79A7",
           "#4E79A7",
           "#4E79A7",
           "#4E79A7",
           "#4E79A7",
           "#4E79A7",
           "#4E79A7",
           "#4E79A7",
           "#F28E2B",
           "#F28E2B",
           "#F28E2B",
           "#F28E2B",
           "#F28E2B",
           "#F28E2B",
           "#F28E2B",
           "#F28E2B",
           "#F28E2B",
           "#F28E2B",
           "#F28E2B",
           "#F28E2B",
           "#F28E2B",
           "#F28E2B",
           "#F28E2B",
           "#F28E2B",
           "#4E79A7",
           "#4E79A7",
           "#4E79A7",
           "#4E79A7",
           "#4E79A7",
           "#4E79A7",
           "#4E79A7",
           "#4E79A7",
           "#4E79A7",
           "#4E79A7",
           "#4E79A7",
           "#4E79A7",
           "#4E79A7",
           "#4E79A7",
           "#4E79A7",
           "#4E79A7",
           "#4E79A7",
           "#4E79A7",
           "#4E79A7",
           "#4E79A7",
           "#4E79A7",
           "#4E79A7",
           "#4E79A7",
           "#4E79A7",
           "#4E79A7",
           "#4E79A7",
           "#4E79A7",
           "#4E79A7",
           "#4E79A7",
           "#4E79A7",
           "#4E79A7",
           "#4E79A7",
           "#4E79A7",
           "#4E79A7",
           "#4E79A7",
           "#4E79A7",
           "#4E79A7",
           "#4E79A7",
           "#4E79A7",
           "#4E79A7",
           "#4E79A7",
           "#4E79A7",
           "#4E79A7",
           "#4E79A7",
           "#4E79A7",
           "#4E79A7",
           "#4E79A7",
           "#4E79A7",
           "#4E79A7",
           "#4E79A7",
           "#4E79A7",
           "#4E79A7",
           "#4E79A7",
           "#4E79A7",
           "#4E79A7",
           "#4E79A7",
           "#F28E2B",
           "#F28E2B",
           "#F28E2B"
          ]
         },
         "name": "",
         "showlegend": true,
         "type": "pie"
        }
       ],
       "layout": {
        "template": {
         "data": {
          "histogram2dcontour": [
           {
            "type": "histogram2dcontour",
            "colorbar": {
             "outlinewidth": 0,
             "ticks": ""
            },
            "colorscale": [
             [
              0.0,
              "#0d0887"
             ],
             [
              0.1111111111111111,
              "#46039f"
             ],
             [
              0.2222222222222222,
              "#7201a8"
             ],
             [
              0.3333333333333333,
              "#9c179e"
             ],
             [
              0.4444444444444444,
              "#bd3786"
             ],
             [
              0.5555555555555556,
              "#d8576b"
             ],
             [
              0.6666666666666666,
              "#ed7953"
             ],
             [
              0.7777777777777778,
              "#fb9f3a"
             ],
             [
              0.8888888888888888,
              "#fdca26"
             ],
             [
              1.0,
              "#f0f921"
             ]
            ]
           }
          ],
          "choropleth": [
           {
            "type": "choropleth",
            "colorbar": {
             "outlinewidth": 0,
             "ticks": ""
            }
           }
          ],
          "histogram2d": [
           {
            "type": "histogram2d",
            "colorbar": {
             "outlinewidth": 0,
             "ticks": ""
            },
            "colorscale": [
             [
              0.0,
              "#0d0887"
             ],
             [
              0.1111111111111111,
              "#46039f"
             ],
             [
              0.2222222222222222,
              "#7201a8"
             ],
             [
              0.3333333333333333,
              "#9c179e"
             ],
             [
              0.4444444444444444,
              "#bd3786"
             ],
             [
              0.5555555555555556,
              "#d8576b"
             ],
             [
              0.6666666666666666,
              "#ed7953"
             ],
             [
              0.7777777777777778,
              "#fb9f3a"
             ],
             [
              0.8888888888888888,
              "#fdca26"
             ],
             [
              1.0,
              "#f0f921"
             ]
            ]
           }
          ],
          "heatmap": [
           {
            "type": "heatmap",
            "colorbar": {
             "outlinewidth": 0,
             "ticks": ""
            },
            "colorscale": [
             [
              0.0,
              "#0d0887"
             ],
             [
              0.1111111111111111,
              "#46039f"
             ],
             [
              0.2222222222222222,
              "#7201a8"
             ],
             [
              0.3333333333333333,
              "#9c179e"
             ],
             [
              0.4444444444444444,
              "#bd3786"
             ],
             [
              0.5555555555555556,
              "#d8576b"
             ],
             [
              0.6666666666666666,
              "#ed7953"
             ],
             [
              0.7777777777777778,
              "#fb9f3a"
             ],
             [
              0.8888888888888888,
              "#fdca26"
             ],
             [
              1.0,
              "#f0f921"
             ]
            ]
           }
          ],
          "contourcarpet": [
           {
            "type": "contourcarpet",
            "colorbar": {
             "outlinewidth": 0,
             "ticks": ""
            }
           }
          ],
          "contour": [
           {
            "type": "contour",
            "colorbar": {
             "outlinewidth": 0,
             "ticks": ""
            },
            "colorscale": [
             [
              0.0,
              "#0d0887"
             ],
             [
              0.1111111111111111,
              "#46039f"
             ],
             [
              0.2222222222222222,
              "#7201a8"
             ],
             [
              0.3333333333333333,
              "#9c179e"
             ],
             [
              0.4444444444444444,
              "#bd3786"
             ],
             [
              0.5555555555555556,
              "#d8576b"
             ],
             [
              0.6666666666666666,
              "#ed7953"
             ],
             [
              0.7777777777777778,
              "#fb9f3a"
             ],
             [
              0.8888888888888888,
              "#fdca26"
             ],
             [
              1.0,
              "#f0f921"
             ]
            ]
           }
          ],
          "surface": [
           {
            "type": "surface",
            "colorbar": {
             "outlinewidth": 0,
             "ticks": ""
            },
            "colorscale": [
             [
              0.0,
              "#0d0887"
             ],
             [
              0.1111111111111111,
              "#46039f"
             ],
             [
              0.2222222222222222,
              "#7201a8"
             ],
             [
              0.3333333333333333,
              "#9c179e"
             ],
             [
              0.4444444444444444,
              "#bd3786"
             ],
             [
              0.5555555555555556,
              "#d8576b"
             ],
             [
              0.6666666666666666,
              "#ed7953"
             ],
             [
              0.7777777777777778,
              "#fb9f3a"
             ],
             [
              0.8888888888888888,
              "#fdca26"
             ],
             [
              1.0,
              "#f0f921"
             ]
            ]
           }
          ],
          "mesh3d": [
           {
            "type": "mesh3d",
            "colorbar": {
             "outlinewidth": 0,
             "ticks": ""
            }
           }
          ],
          "scatter": [
           {
            "marker": {
             "line": {
              "color": "#283442"
             }
            },
            "type": "scatter"
           }
          ],
          "parcoords": [
           {
            "type": "parcoords",
            "line": {
             "colorbar": {
              "outlinewidth": 0,
              "ticks": ""
             }
            }
           }
          ],
          "scatterpolargl": [
           {
            "type": "scatterpolargl",
            "marker": {
             "colorbar": {
              "outlinewidth": 0,
              "ticks": ""
             }
            }
           }
          ],
          "bar": [
           {
            "error_x": {
             "color": "#f2f5fa"
            },
            "error_y": {
             "color": "#f2f5fa"
            },
            "marker": {
             "line": {
              "color": "rgb(17,17,17)",
              "width": 0.5
             },
             "pattern": {
              "fillmode": "overlay",
              "size": 10,
              "solidity": 0.2
             }
            },
            "type": "bar"
           }
          ],
          "scattergeo": [
           {
            "type": "scattergeo",
            "marker": {
             "colorbar": {
              "outlinewidth": 0,
              "ticks": ""
             }
            }
           }
          ],
          "scatterpolar": [
           {
            "type": "scatterpolar",
            "marker": {
             "colorbar": {
              "outlinewidth": 0,
              "ticks": ""
             }
            }
           }
          ],
          "histogram": [
           {
            "marker": {
             "pattern": {
              "fillmode": "overlay",
              "size": 10,
              "solidity": 0.2
             }
            },
            "type": "histogram"
           }
          ],
          "scattergl": [
           {
            "marker": {
             "line": {
              "color": "#283442"
             }
            },
            "type": "scattergl"
           }
          ],
          "scatter3d": [
           {
            "type": "scatter3d",
            "line": {
             "colorbar": {
              "outlinewidth": 0,
              "ticks": ""
             }
            },
            "marker": {
             "colorbar": {
              "outlinewidth": 0,
              "ticks": ""
             }
            }
           }
          ],
          "scattermap": [
           {
            "type": "scattermap",
            "marker": {
             "colorbar": {
              "outlinewidth": 0,
              "ticks": ""
             }
            }
           }
          ],
          "scattermapbox": [
           {
            "type": "scattermapbox",
            "marker": {
             "colorbar": {
              "outlinewidth": 0,
              "ticks": ""
             }
            }
           }
          ],
          "scatterternary": [
           {
            "type": "scatterternary",
            "marker": {
             "colorbar": {
              "outlinewidth": 0,
              "ticks": ""
             }
            }
           }
          ],
          "scattercarpet": [
           {
            "type": "scattercarpet",
            "marker": {
             "colorbar": {
              "outlinewidth": 0,
              "ticks": ""
             }
            }
           }
          ],
          "carpet": [
           {
            "aaxis": {
             "endlinecolor": "#A2B1C6",
             "gridcolor": "#506784",
             "linecolor": "#506784",
             "minorgridcolor": "#506784",
             "startlinecolor": "#A2B1C6"
            },
            "baxis": {
             "endlinecolor": "#A2B1C6",
             "gridcolor": "#506784",
             "linecolor": "#506784",
             "minorgridcolor": "#506784",
             "startlinecolor": "#A2B1C6"
            },
            "type": "carpet"
           }
          ],
          "table": [
           {
            "cells": {
             "fill": {
              "color": "#506784"
             },
             "line": {
              "color": "rgb(17,17,17)"
             }
            },
            "header": {
             "fill": {
              "color": "#2a3f5f"
             },
             "line": {
              "color": "rgb(17,17,17)"
             }
            },
            "type": "table"
           }
          ],
          "barpolar": [
           {
            "marker": {
             "line": {
              "color": "rgb(17,17,17)",
              "width": 0.5
             },
             "pattern": {
              "fillmode": "overlay",
              "size": 10,
              "solidity": 0.2
             }
            },
            "type": "barpolar"
           }
          ],
          "pie": [
           {
            "automargin": true,
            "type": "pie"
           }
          ]
         },
         "layout": {
          "autotypenumbers": "strict",
          "colorway": [
           "#636efa",
           "#EF553B",
           "#00cc96",
           "#ab63fa",
           "#FFA15A",
           "#19d3f3",
           "#FF6692",
           "#B6E880",
           "#FF97FF",
           "#FECB52"
          ],
          "font": {
           "color": "#f2f5fa"
          },
          "hovermode": "closest",
          "hoverlabel": {
           "align": "left"
          },
          "paper_bgcolor": "rgb(17,17,17)",
          "plot_bgcolor": "rgb(17,17,17)",
          "polar": {
           "bgcolor": "rgb(17,17,17)",
           "angularaxis": {
            "gridcolor": "#506784",
            "linecolor": "#506784",
            "ticks": ""
           },
           "radialaxis": {
            "gridcolor": "#506784",
            "linecolor": "#506784",
            "ticks": ""
           }
          },
          "ternary": {
           "bgcolor": "rgb(17,17,17)",
           "aaxis": {
            "gridcolor": "#506784",
            "linecolor": "#506784",
            "ticks": ""
           },
           "baxis": {
            "gridcolor": "#506784",
            "linecolor": "#506784",
            "ticks": ""
           },
           "caxis": {
            "gridcolor": "#506784",
            "linecolor": "#506784",
            "ticks": ""
           }
          },
          "coloraxis": {
           "colorbar": {
            "outlinewidth": 0,
            "ticks": ""
           }
          },
          "colorscale": {
           "sequential": [
            [
             0.0,
             "#0d0887"
            ],
            [
             0.1111111111111111,
             "#46039f"
            ],
            [
             0.2222222222222222,
             "#7201a8"
            ],
            [
             0.3333333333333333,
             "#9c179e"
            ],
            [
             0.4444444444444444,
             "#bd3786"
            ],
            [
             0.5555555555555556,
             "#d8576b"
            ],
            [
             0.6666666666666666,
             "#ed7953"
            ],
            [
             0.7777777777777778,
             "#fb9f3a"
            ],
            [
             0.8888888888888888,
             "#fdca26"
            ],
            [
             1.0,
             "#f0f921"
            ]
           ],
           "sequentialminus": [
            [
             0.0,
             "#0d0887"
            ],
            [
             0.1111111111111111,
             "#46039f"
            ],
            [
             0.2222222222222222,
             "#7201a8"
            ],
            [
             0.3333333333333333,
             "#9c179e"
            ],
            [
             0.4444444444444444,
             "#bd3786"
            ],
            [
             0.5555555555555556,
             "#d8576b"
            ],
            [
             0.6666666666666666,
             "#ed7953"
            ],
            [
             0.7777777777777778,
             "#fb9f3a"
            ],
            [
             0.8888888888888888,
             "#fdca26"
            ],
            [
             1.0,
             "#f0f921"
            ]
           ],
           "diverging": [
            [
             0,
             "#8e0152"
            ],
            [
             0.1,
             "#c51b7d"
            ],
            [
             0.2,
             "#de77ae"
            ],
            [
             0.3,
             "#f1b6da"
            ],
            [
             0.4,
             "#fde0ef"
            ],
            [
             0.5,
             "#f7f7f7"
            ],
            [
             0.6,
             "#e6f5d0"
            ],
            [
             0.7,
             "#b8e186"
            ],
            [
             0.8,
             "#7fbc41"
            ],
            [
             0.9,
             "#4d9221"
            ],
            [
             1,
             "#276419"
            ]
           ]
          },
          "xaxis": {
           "gridcolor": "#283442",
           "linecolor": "#506784",
           "ticks": "",
           "title": {
            "standoff": 15
           },
           "zerolinecolor": "#283442",
           "automargin": true,
           "zerolinewidth": 2
          },
          "yaxis": {
           "gridcolor": "#283442",
           "linecolor": "#506784",
           "ticks": "",
           "title": {
            "standoff": 15
           },
           "zerolinecolor": "#283442",
           "automargin": true,
           "zerolinewidth": 2
          },
          "scene": {
           "xaxis": {
            "backgroundcolor": "rgb(17,17,17)",
            "gridcolor": "#506784",
            "linecolor": "#506784",
            "showbackground": true,
            "ticks": "",
            "zerolinecolor": "#C8D4E3",
            "gridwidth": 2
           },
           "yaxis": {
            "backgroundcolor": "rgb(17,17,17)",
            "gridcolor": "#506784",
            "linecolor": "#506784",
            "showbackground": true,
            "ticks": "",
            "zerolinecolor": "#C8D4E3",
            "gridwidth": 2
           },
           "zaxis": {
            "backgroundcolor": "rgb(17,17,17)",
            "gridcolor": "#506784",
            "linecolor": "#506784",
            "showbackground": true,
            "ticks": "",
            "zerolinecolor": "#C8D4E3",
            "gridwidth": 2
           }
          },
          "shapedefaults": {
           "line": {
            "color": "#f2f5fa"
           }
          },
          "annotationdefaults": {
           "arrowcolor": "#f2f5fa",
           "arrowhead": 0,
           "arrowwidth": 1
          },
          "geo": {
           "bgcolor": "rgb(17,17,17)",
           "landcolor": "rgb(17,17,17)",
           "subunitcolor": "#506784",
           "showland": true,
           "showlakes": true,
           "lakecolor": "rgb(17,17,17)"
          },
          "title": {
           "x": 0.05
          },
          "updatemenudefaults": {
           "bgcolor": "#506784",
           "borderwidth": 0
          },
          "sliderdefaults": {
           "bgcolor": "#C8D4E3",
           "borderwidth": 1,
           "bordercolor": "rgb(17,17,17)",
           "tickwidth": 0
          },
          "mapbox": {
           "style": "dark"
          }
         }
        },
        "legend": {
         "tracegroupgap": 0
        },
        "margin": {
         "t": 60
        },
        "piecolorway": [
         "#4E79A7",
         "#F28E2B",
         "#E15759",
         "#76B7B2",
         "#59A14F",
         "#EDC949",
         "#AF7AA1",
         "#FF9DA7",
         "#9C755F",
         "#BAB0AC",
         "#1F77B4",
         "#FF7F0E",
         "#2CA02C",
         "#D62728",
         "#9467BD"
        ]
       },
       "config": {
        "plotlyServerURL": "https://plot.ly"
       }
      }
     },
     "metadata": {},
     "output_type": "display_data"
    }
   ],
   "execution_count": 42
  },
  {
   "metadata": {},
   "cell_type": "code",
   "source": [
    "fig = px.pie(dfN, names='availableQuantity', color = 'availableQuantity', color_discrete_sequence=colors, template='plotly_dark')\n",
    "fig.show()"
   ],
   "id": "b594ebc35714b003",
   "outputs": [],
   "execution_count": null
  },
  {
   "metadata": {},
   "cell_type": "code",
   "source": [
    "fig = px.pie(dfN,names='discountPercent', color = 'discountPercent', color_discrete_sequence=colors, template='plotly_dark').update_traces(textposition='inside').update_layout(uniformtext_minsize=12, uniformtext_mode='hide')\n",
    "fig.show()"
   ],
   "id": "d66b47a0c6521ccb",
   "outputs": [],
   "execution_count": null
  },
  {
   "metadata": {},
   "cell_type": "code",
   "source": "from plotly.subplots import make_subplots",
   "id": "132e3b1bc467c654",
   "outputs": [],
   "execution_count": null
  },
  {
   "metadata": {},
   "cell_type": "code",
   "source": [
    "dfCookingEssentials = df[df['Category'] == 'Cooking Essentials']\n",
    "subFig = make_subplots(rows=1, cols=2)\n",
    "dfTemp = dfCookingEssentials.sort_values(by='quantity', ascending = False).head(20)\n",
    "fig1 = px.line(dfTemp, x='name', y = 'mrp',color_discrete_sequence=['red'])\n",
    "fig2 = px.line(dfTemp, x='name', y = 'discountedSellingPrice', color_discrete_sequence=['green'])\n",
    "subFig.add_trace(fig1.data[0])\n",
    "subFig.add_trace(fig2.data[0])\n",
    "subFig.update_traces(line={'width': 3}).update_layout(xaxis = {'tickmode': 'array','tickvals': list(range(20)),'ticktext':dfTemp['name'].str[:15]}).update_xaxes(visible=True, showticklabels=True).show()\n",
    "dfTemp\n"
   ],
   "id": "ade296966b015d9f",
   "outputs": [],
   "execution_count": null
  },
  {
   "metadata": {},
   "cell_type": "code",
   "source": "",
   "id": "efe68c9933a469bc",
   "outputs": [],
   "execution_count": null
  },
  {
   "metadata": {},
   "cell_type": "code",
   "source": "",
   "id": "40c9d4b9d9d6fd26",
   "outputs": [],
   "execution_count": null
  }
 ],
 "metadata": {
  "kernelspec": {
   "display_name": "Python 3",
   "language": "python",
   "name": "python3"
  },
  "language_info": {
   "codemirror_mode": {
    "name": "ipython",
    "version": 2
   },
   "file_extension": ".py",
   "mimetype": "text/x-python",
   "name": "python",
   "nbconvert_exporter": "python",
   "pygments_lexer": "ipython2",
   "version": "2.7.6"
  }
 },
 "nbformat": 4,
 "nbformat_minor": 5
}
